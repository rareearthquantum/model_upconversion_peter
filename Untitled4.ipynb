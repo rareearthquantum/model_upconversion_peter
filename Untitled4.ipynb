{
 "cells": [
  {
   "cell_type": "code",
   "execution_count": 1,
   "metadata": {},
   "outputs": [],
   "source": [
    "import sympy as sym\n",
    "sym.init_printing()\n",
    "\n",
    "import numpy as np\n",
    "from math import pi\n",
    "\n",
    "import matplotlib.pyplot as plt\n",
    "from sympy import I, Matrix, symbols\n",
    "from sympy.physics.quantum import TensorProduct, Dagger\n",
    "import scipy.optimize\n",
    "import scipy.integrate\n",
    "\n",
    "import scipy.constants as const\n",
    "\n",
    "#import qutip\n",
    "\n",
    "from matplotlib.colors import Normalize as Norm\n",
    "\n",
    "%load_ext cython"
   ]
  },
  {
   "cell_type": "code",
   "execution_count": 2,
   "metadata": {},
   "outputs": [],
   "source": [
    "#define some s pre/post operators\n",
    "#used for defining superoperators like L in matrix form\n",
    "\n",
    "def spre(m):\n",
    "    return TensorProduct(sym.eye(m.shape[0]),m)\n",
    "\n",
    "def spost(m):\n",
    "    return TensorProduct(m.T, sym.eye(m.shape[0]))\n",
    "\n",
    "def collapse(c):\n",
    "    tmp = Dagger(c)*c/2\n",
    "    return spre(c)*spost(Dagger(c))-spre(tmp)-spost(tmp)\n",
    "\n",
    "\n",
    "s13=Matrix([[0,0,1],[0,0,0],[0,0,0]])\n",
    "s23=Matrix([[0,0,0],[0,0,1],[0,0,0]])\n",
    "s12=Matrix([[0,1,0],[0,0,0],[0,0,0]])\n",
    "\n",
    "s31=s13.T\n",
    "s32=s23.T\n",
    "s21=s12.T\n",
    "\n",
    "s11 = s12*s21\n",
    "s22 = s21*s12\n",
    "s33 = s31*s13"
   ]
  },
  {
   "cell_type": "code",
   "execution_count": 3,
   "metadata": {},
   "outputs": [],
   "source": [
    "delta2,delta3=sym.symbols('delta_2 delta_3', real=True)\n",
    "gamma13,gamma23,gamma2d,gamma3d,nbath,gammamu=sym.symbols('gamma_13 gamma_23 gamma_2d gamma_3d n_b gamma_mu', real=True, negative=False)\n",
    "omegao, omegam=sym.symbols('Omega_o Omega_mu', real=True, negative=False)\n",
    "rho11, rho12, rho13, rho21, rho22, rho23, rho31, rho32, rho33=sym.symbols('rho_11 rho_12 rho_13 rho_21 rho_22 rho_23 rho_31 rho_32 rho_33')\n",
    "\n",
    "a= sym.symbols('a')\n",
    "ar,ai=sym.symbols('a_r a_i', real=True)\n",
    "g=sym.symbols('g',real=True, negative=False)\n",
    "lam=sym.symbols('lambda')"
   ]
  },
  {
   "cell_type": "code",
   "execution_count": 4,
   "metadata": {},
   "outputs": [
    {
     "data": {
      "text/latex": [
       "$$\\left ( \\left[\\begin{matrix}0 & \\Omega_{\\mu} & g \\overline{a}\\\\\\Omega_{\\mu} & \\delta_{2} & \\Omega_{o}\\\\a g & \\Omega_{o} & \\delta_{3}\\end{matrix}\\right], \\quad \\left[\\begin{matrix}0 & \\Omega_{\\mu} & 0\\\\\\Omega_{\\mu} & \\delta_{2} & \\Omega_{o}\\\\0 & \\Omega_{o} & \\delta_{3}\\end{matrix}\\right], \\quad \\left[\\begin{matrix}0 & 0 & 0\\\\0 & \\delta_{2} & \\Omega_{o}\\\\0 & \\Omega_{o} & \\delta_{3}\\end{matrix}\\right], \\quad \\left[\\begin{matrix}0 & \\Omega_{\\mu} & 0\\\\\\Omega_{\\mu} & \\delta_{2} & 0\\\\0 & 0 & \\delta_{3}\\end{matrix}\\right]\\right )$$"
      ],
      "text/plain": [
       "⎛⎡            _⎤                                             ⎞\n",
       "⎜⎢ 0   Ωₘᵤ  g⋅a⎥  ⎡ 0   Ωₘᵤ  0 ⎤  ⎡0  0   0 ⎤  ⎡ 0   Ωₘᵤ  0 ⎤⎟\n",
       "⎜⎢             ⎥  ⎢            ⎥  ⎢         ⎥  ⎢            ⎥⎟\n",
       "⎜⎢Ωₘᵤ  δ₂   Ωₒ ⎥, ⎢Ωₘᵤ  δ₂   Ωₒ⎥, ⎢0  δ₂  Ωₒ⎥, ⎢Ωₘᵤ  δ₂   0 ⎥⎟\n",
       "⎜⎢             ⎥  ⎢            ⎥  ⎢         ⎥  ⎢            ⎥⎟\n",
       "⎝⎣a⋅g  Ωₒ   δ₃ ⎦  ⎣ 0   Ωₒ   δ₃⎦  ⎣0  Ωₒ  δ₃⎦  ⎣ 0    0   δ₃⎦⎠"
      ]
     },
     "execution_count": 4,
     "metadata": {},
     "output_type": "execute_result"
    }
   ],
   "source": [
    "H=omegam*s21+omegao*s32+ g*a*s31\n",
    "H=H+Dagger(H)\n",
    "H=H+delta2*s22+delta3*s33\n",
    "\n",
    "H_no_a=H[:,:]\n",
    "H_no_a[0,2]=0\n",
    "H_no_a[2,0]=0\n",
    "H_no_a\n",
    "\n",
    "H_o=H_no_a[:,:]\n",
    "H_o[0,1]=0\n",
    "H_o[1,0]=0\n",
    "\n",
    "H_mu=H_no_a[:,:]\n",
    "H_mu[2,1]=0\n",
    "H_mu[1,2]=0\n",
    "\n",
    "\n",
    "H, H_no_a, H_o, H_mu"
   ]
  },
  {
   "cell_type": "code",
   "execution_count": 5,
   "metadata": {},
   "outputs": [],
   "source": [
    "LH=-I*spre(H)+I*spost(H)\n",
    "L21 = gammamu*(nbath+1)*collapse(s12)\n",
    "L12 = gammamu*nbath*collapse(s21)\n",
    "L32 = gamma23*collapse(s23)\n",
    "L31 = gamma13*collapse(s13)\n",
    "L22 = gamma2d*collapse(s22)\n",
    "L33 = gamma3d*collapse(s33)\n",
    "\n",
    "L = LH + L21 + L12 + L32 + L31 + L22 + L33\n",
    "\n",
    "L = L.row_insert(0,Matrix([[1,0,0,0,1,0,0,0,1]]))\n",
    "L.row_del(1)"
   ]
  },
  {
   "cell_type": "code",
   "execution_count": 6,
   "metadata": {},
   "outputs": [],
   "source": [
    "rho = Matrix([[rho11,rho21,rho31],[rho12,rho22,rho32],[rho13,rho23,rho33]])\n",
    "rho = 1*rho.T #because we are using \"fortran\" style matrix flatteneing\n",
    "rho[:]\n",
    "rhoflat = 1*rho.T \n",
    "rhoflat = rhoflat[:]"
   ]
  },
  {
   "cell_type": "code",
   "execution_count": 7,
   "metadata": {},
   "outputs": [],
   "source": [
    "CtoR = Matrix([[2,0,0,0,0,0,0,0,0],\n",
    "               [0,0,0,0,2,0,0,0,0],\n",
    "               [0,0,0,0,0,0,0,0,2],\n",
    "               [0,1,0,1,0,0,0,0,0],\n",
    "               [0,I,0,-I,0,0,0,0,0],\n",
    "               [0,0,1,0,0,0,1,0,0],\n",
    "               [0,0,I,0,0,0,-I,0,0],\n",
    "               [0,0,0,0,0,1,0,1,0],\n",
    "               [0,0,0,0,0,I,0,-I,0]\n",
    "              ])\n",
    "CtoR=CtoR/2"
   ]
  },
  {
   "cell_type": "code",
   "execution_count": 8,
   "metadata": {},
   "outputs": [],
   "source": [
    "Lreal = sym.simplify(CtoR*L*CtoR.inv())\n",
    "Lreal = Lreal.subs(a,ar+I*ai)\n",
    "Lreal\n",
    "\n",
    "\n",
    "Lfunc = sym.lambdify((a,delta2, delta3, gamma13, gamma23, gamma2d, gamma3d, nbath,gammamu,omegao,omegam,g),L)\n",
    "\n",
    "Lrealfunc = sym.lambdify((ar,ai,delta2, delta3, gamma13, gamma23, gamma2d, gamma3d, nbath,gammamu,omegao,omegam,g),Lreal)"
   ]
  },
  {
   "cell_type": "code",
   "execution_count": null,
   "metadata": {},
   "outputs": [],
   "source": [
    "aval=0\n",
    "gamma13val=1./22e-3\n",
    "gamma23val=1./22e-3\n",
    "gamma2dval=1./1e-6\n",
    "gamma3dval=1./1e-6\n",
    "nbathval=20\n",
    "gammamuval=1./((nbathval+1)*11e-3)\n",
    "omegaoval=1e3\n",
    "omegamval=1e7\n",
    "gval=0\n",
    "ndelta2=501\n",
    "ndelta3=501\n",
    "delta2vals=np.linspace(-80e6,80e6,ndelta2)\n",
    "delta3vals=np.linspace(-80e6,80e6,ndelta3)\n",
    "im_lims=[np.min(delta3vals), np.max(delta3vals),np.min(delta2vals), np.max(delta2vals)]"
   ]
  }
 ],
 "metadata": {
  "kernelspec": {
   "display_name": "Python 3",
   "language": "python",
   "name": "python3"
  },
  "language_info": {
   "codemirror_mode": {
    "name": "ipython",
    "version": 3
   },
   "file_extension": ".py",
   "mimetype": "text/x-python",
   "name": "python",
   "nbconvert_exporter": "python",
   "pygments_lexer": "ipython3",
   "version": "3.6.5"
  }
 },
 "nbformat": 4,
 "nbformat_minor": 2
}
