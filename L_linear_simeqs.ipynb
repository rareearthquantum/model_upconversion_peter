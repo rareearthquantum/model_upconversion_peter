{
 "cells": [
  {
   "cell_type": "code",
   "execution_count": 236,
   "metadata": {},
   "outputs": [],
   "source": [
    "import sympy as sym\n",
    "sym.init_printing()\n",
    "\n",
    "from sympy import I, Matrix, symbols\n"
   ]
  },
  {
   "cell_type": "code",
   "execution_count": 237,
   "metadata": {},
   "outputs": [],
   "source": [
    "A,B,C,D,F,G =sym.symbols('A B C D F G')\n",
    "_in,a_out,b_in,b_out=sym.symbols('a_in a_out b_in b_out')\n",
    "\n",
    "Sb12,Sa12=sym.symbols('S_b_1_2 S_a_1_2')\n",
    "Sb13,Sa13=sym.symbols('S_b_1_3 S_a_1_3')\n",
    "w, wcm,wco=sym.symbols('omega omega_c_mu omega_c_o',Real=True) \n",
    "gammi,gammc,gamoi,gamoc=sym.symbols('gamma_mu_i gamma_mu_c gamma_o_i gamma_o_c',positive = True, Real=True)\n"
   ]
  },
  {
   "cell_type": "code",
   "execution_count": 238,
   "metadata": {},
   "outputs": [],
   "source": [
    "\n",
    "in_mat=Matrix([[A,-C],[G,-D]])\n",
    "out_mat=Matrix([[-B,C],[-G,F]])"
   ]
  },
  {
   "cell_type": "code",
   "execution_count": 239,
   "metadata": {},
   "outputs": [
    {
     "data": {
      "text/latex": [
       "$$\\left ( \\left[\\begin{matrix}A & - C\\\\G & - D\\end{matrix}\\right], \\quad \\left[\\begin{matrix}- B & C\\\\- G & F\\end{matrix}\\right]\\right )$$"
      ],
      "text/plain": [
       "⎛⎡A  -C⎤  ⎡-B  C⎤⎞\n",
       "⎜⎢     ⎥, ⎢     ⎥⎟\n",
       "⎝⎣G  -D⎦  ⎣-G  F⎦⎠"
      ]
     },
     "execution_count": 239,
     "metadata": {},
     "output_type": "execute_result"
    }
   ],
   "source": [
    "in_mat, out_mat"
   ]
  },
  {
   "cell_type": "code",
   "execution_count": 240,
   "metadata": {},
   "outputs": [
    {
     "data": {
      "text/latex": [
       "$$\\left[\\begin{matrix}\\frac{A F}{- B F + C G} - \\frac{C G}{- B F + C G} & \\frac{C D}{- B F + C G} - \\frac{C F}{- B F + C G}\\\\\\frac{A G}{- B F + C G} - \\frac{B G}{- B F + C G} & \\frac{B D}{- B F + C G} - \\frac{C G}{- B F + C G}\\end{matrix}\\right]$$"
      ],
      "text/plain": [
       "⎡   A⋅F          C⋅G         C⋅D          C⋅F    ⎤\n",
       "⎢────────── - ──────────  ────────── - ──────────⎥\n",
       "⎢-B⋅F + C⋅G   -B⋅F + C⋅G  -B⋅F + C⋅G   -B⋅F + C⋅G⎥\n",
       "⎢                                                ⎥\n",
       "⎢   A⋅G          B⋅G         B⋅D          C⋅G    ⎥\n",
       "⎢────────── - ──────────  ────────── - ──────────⎥\n",
       "⎣-B⋅F + C⋅G   -B⋅F + C⋅G  -B⋅F + C⋅G   -B⋅F + C⋅G⎦"
      ]
     },
     "execution_count": 240,
     "metadata": {},
     "output_type": "execute_result"
    }
   ],
   "source": [
    "out_mat.inv()*in_mat"
   ]
  },
  {
   "cell_type": "code",
   "execution_count": 241,
   "metadata": {},
   "outputs": [],
   "source": [
    "A_eq=(I*(wcm+Sb12-w)+(gammi-gammc)/2)\n",
    "B_eq=(I*(wcm+Sb12-w)+(gammi+gammc)/2)\n",
    "C_eq=-I*Sa12*sym.sqrt(gammc/gamoc)\n",
    "D_eq=(I*(wco+Sb13-w)+(gamoi-gamoc)/2)\n",
    "F_eq=(I*(wco+Sb13-w)+(gamoi+gamoc)/2)\n",
    "G_eq=-I*Sa13*sym.sqrt(gamoc/gammc)\n"
   ]
  },
  {
   "cell_type": "code",
   "execution_count": 242,
   "metadata": {},
   "outputs": [
    {
     "data": {
      "text/latex": [
       "$$\\left[\\begin{matrix}- \\frac{4 i S_{a 1 2} a_{in} \\sqrt{\\gamma_{\\mu c}} \\sqrt{\\gamma_{o c}}}{4 S_{a 1 2} S_{a 1 3} + \\left(\\gamma_{\\mu c} + \\gamma_{\\mu i} + 2 i \\left(S_{b 1 2} - \\omega + \\omega_{c \\mu}\\right)\\right) \\left(\\gamma_{o c} + \\gamma_{o i} + 2 i \\left(S_{b 1 3} - \\omega + \\omega_{c o}\\right)\\right)} - \\frac{b_{in} \\left(4 S_{a 1 2} S_{a 1 3} + \\left(- \\gamma_{\\mu c} + \\gamma_{\\mu i} + 2 i \\left(S_{b 1 2} - \\omega + \\omega_{c \\mu}\\right)\\right) \\left(\\gamma_{o c} + \\gamma_{o i} + 2 i \\left(S_{b 1 3} - \\omega + \\omega_{c o}\\right)\\right)\\right)}{4 S_{a 1 2} S_{a 1 3} + \\left(\\gamma_{\\mu c} + \\gamma_{\\mu i} + 2 i \\left(S_{b 1 2} - \\omega + \\omega_{c \\mu}\\right)\\right) \\left(\\gamma_{o c} + \\gamma_{o i} + 2 i \\left(S_{b 1 3} - \\omega + \\omega_{c o}\\right)\\right)}\\\\- \\frac{4 i S_{a 1 3} b_{in} \\sqrt{\\gamma_{\\mu c}} \\sqrt{\\gamma_{o c}}}{4 S_{a 1 2} S_{a 1 3} + \\left(\\gamma_{\\mu c} + \\gamma_{\\mu i} + 2 i \\left(S_{b 1 2} - \\omega + \\omega_{c \\mu}\\right)\\right) \\left(\\gamma_{o c} + \\gamma_{o i} + 2 i \\left(S_{b 1 3} - \\omega + \\omega_{c o}\\right)\\right)} - \\frac{a_{in} \\left(4 S_{a 1 2} S_{a 1 3} + \\left(\\gamma_{\\mu c} + \\gamma_{\\mu i} + 2 i \\left(S_{b 1 2} - \\omega + \\omega_{c \\mu}\\right)\\right) \\left(- \\gamma_{o c} + \\gamma_{o i} + 2 i \\left(S_{b 1 3} - \\omega + \\omega_{c o}\\right)\\right)\\right)}{4 S_{a 1 2} S_{a 1 3} + \\left(\\gamma_{\\mu c} + \\gamma_{\\mu i} + 2 i \\left(S_{b 1 2} - \\omega + \\omega_{c \\mu}\\right)\\right) \\left(\\gamma_{o c} + \\gamma_{o i} + 2 i \\left(S_{b 1 3} - \\omega + \\omega_{c o}\\right)\\right)}\\end{matrix}\\right]$$"
      ],
      "text/plain": [
       "⎡                                                      _______   _______      \n",
       "⎢                                     4⋅ⅈ⋅Sₐ ₁ ₂⋅aᵢₙ⋅╲╱ γ_μ_c ⋅╲╱ γ_o_c       \n",
       "⎢- ───────────────────────────────────────────────────────────────────────────\n",
       "⎢  4⋅Sₐ ₁ ₂⋅Sₐ ₁ ₃ + (γ_μ_c + γₘᵤ ᵢ + 2⋅ⅈ⋅(S_b_1_2 - ω + ω_c_μ))⋅(γ_o_c + γₒ ᵢ\n",
       "⎢                                                                             \n",
       "⎢                                                      _______   _______      \n",
       "⎢                                     4⋅ⅈ⋅Sₐ ₁ ₃⋅bᵢₙ⋅╲╱ γ_μ_c ⋅╲╱ γ_o_c       \n",
       "⎢- ───────────────────────────────────────────────────────────────────────────\n",
       "⎣  4⋅Sₐ ₁ ₂⋅Sₐ ₁ ₃ + (γ_μ_c + γₘᵤ ᵢ + 2⋅ⅈ⋅(S_b_1_2 - ω + ω_c_μ))⋅(γ_o_c + γₒ ᵢ\n",
       "\n",
       "                                                                              \n",
       "                                bᵢₙ⋅(4⋅Sₐ ₁ ₂⋅Sₐ ₁ ₃ + (-γ_μ_c + γₘᵤ ᵢ + 2⋅ⅈ⋅(\n",
       "───────────────────────────── - ──────────────────────────────────────────────\n",
       " + 2⋅ⅈ⋅(S_b_1_3 - ω + ω_c_o))       4⋅Sₐ ₁ ₂⋅Sₐ ₁ ₃ + (γ_μ_c + γₘᵤ ᵢ + 2⋅ⅈ⋅(S_\n",
       "                                                                              \n",
       "                                                                              \n",
       "                                aᵢₙ⋅(4⋅Sₐ ₁ ₂⋅Sₐ ₁ ₃ + (γ_μ_c + γₘᵤ ᵢ + 2⋅ⅈ⋅(S\n",
       "───────────────────────────── - ──────────────────────────────────────────────\n",
       " + 2⋅ⅈ⋅(S_b_1_3 - ω + ω_c_o))       4⋅Sₐ ₁ ₂⋅Sₐ ₁ ₃ + (γ_μ_c + γₘᵤ ᵢ + 2⋅ⅈ⋅(S_\n",
       "\n",
       "                                                                 ⎤\n",
       "S_b_1_2 - ω + ω_c_μ))⋅(γ_o_c + γₒ ᵢ + 2⋅ⅈ⋅(S_b_1_3 - ω + ω_c_o)))⎥\n",
       "─────────────────────────────────────────────────────────────────⎥\n",
       "b_1_2 - ω + ω_c_μ))⋅(γ_o_c + γₒ ᵢ + 2⋅ⅈ⋅(S_b_1_3 - ω + ω_c_o))   ⎥\n",
       "                                                                 ⎥\n",
       "                                                                 ⎥\n",
       "_b_1_2 - ω + ω_c_μ))⋅(-γ_o_c + γₒ ᵢ + 2⋅ⅈ⋅(S_b_1_3 - ω + ω_c_o)))⎥\n",
       "─────────────────────────────────────────────────────────────────⎥\n",
       "b_1_2 - ω + ω_c_μ))⋅(γ_o_c + γₒ ᵢ + 2⋅ⅈ⋅(S_b_1_3 - ω + ω_c_o))   ⎦"
      ]
     },
     "execution_count": 242,
     "metadata": {},
     "output_type": "execute_result"
    }
   ],
   "source": [
    "sym.simplify((out_mat.inv()*in_mat).subs({A:A_eq,B:B_eq,C:C_eq,D:D_eq,F:F_eq,G:G_eq}))*Matrix([[b_in],[a_in]])"
   ]
  },
  {
   "cell_type": "code",
   "execution_count": null,
   "metadata": {},
   "outputs": [],
   "source": []
  },
  {
   "cell_type": "code",
   "execution_count": null,
   "metadata": {},
   "outputs": [],
   "source": []
  },
  {
   "cell_type": "code",
   "execution_count": 243,
   "metadata": {},
   "outputs": [],
   "source": [
    "delo,delm, muo, mum, chi, xi, Del,a,b,c=sym.symbols('delta_o delta_mu mu_o mu_mu chi xi Delta a b c', real=True) \n",
    "sigo, sigm= sym.symbols('sigma_o sigma_mu', real=True, positive=True)\n"
   ]
  },
  {
   "cell_type": "code",
   "execution_count": 244,
   "metadata": {},
   "outputs": [],
   "source": [
    "delosq_eq=2*sigo**2*(chi**2-1/(2*sigm**2)*delm**2)\n",
    "delm_eq=delo-xi+muo-mum"
   ]
  },
  {
   "cell_type": "code",
   "execution_count": 245,
   "metadata": {},
   "outputs": [
    {
     "data": {
      "image/png": "[encoded data removed]",
      "text/latex": [
       "$$\\left ( 2 \\sigma_{o}^{2} \\left(\\chi^{2} - \\frac{\\delta_{\\mu}^{2}}{2 \\sigma_{\\mu}^{2}}\\right), \\quad \\delta_{o} - \\mu_{\\mu} + \\mu_{o} - \\xi\\right )$$"
      ],
      "text/plain": [
       "⎛      ⎛         2 ⎞                   ⎞\n",
       "⎜    2 ⎜ 2    δₘᵤ  ⎟                   ⎟\n",
       "⎜2⋅σₒ ⋅⎜χ  - ──────⎟, δₒ - μₘᵤ + μₒ - ξ⎟\n",
       "⎜      ⎜          2⎟                   ⎟\n",
       "⎝      ⎝     2⋅σₘᵤ ⎠                   ⎠"
      ]
     },
     "execution_count": 245,
     "metadata": {},
     "output_type": "execute_result"
    }
   ],
   "source": [
    "delosq_eq, delm_eq"
   ]
  },
  {
   "cell_type": "code",
   "execution_count": 246,
   "metadata": {},
   "outputs": [
    {
     "data": {
      "image/png": "[encoded data removed]",
      "text/latex": [
       "$$\\left [ \\frac{\\sigma_{o}}{\\sigma_{\\mu}^{2} + \\sigma_{o}^{2}} \\left(- \\sigma_{\\mu} \\sqrt{2 \\chi^{2} \\sigma_{\\mu}^{2} + 2 \\chi^{2} \\sigma_{o}^{2} - \\mu_{\\mu}^{2} + 2 \\mu_{\\mu} \\mu_{o} - 2 \\mu_{\\mu} \\xi - \\mu_{o}^{2} + 2 \\mu_{o} \\xi - \\xi^{2}} + \\sigma_{o} \\left(\\mu_{\\mu} - \\mu_{o} + \\xi\\right)\\right), \\quad \\frac{\\sigma_{o}}{\\sigma_{\\mu}^{2} + \\sigma_{o}^{2}} \\left(\\sigma_{\\mu} \\sqrt{2 \\chi^{2} \\sigma_{\\mu}^{2} + 2 \\chi^{2} \\sigma_{o}^{2} - \\mu_{\\mu}^{2} + 2 \\mu_{\\mu} \\mu_{o} - 2 \\mu_{\\mu} \\xi - \\mu_{o}^{2} + 2 \\mu_{o} \\xi - \\xi^{2}} + \\sigma_{o} \\left(\\mu_{\\mu} - \\mu_{o} + \\xi\\right)\\right)\\right ]$$"
      ],
      "text/plain": [
       "⎡   ⎛         ________________________________________________________________\n",
       "⎢   ⎜        ╱    2    2      2   2      2                          2         \n",
       "⎢σₒ⋅⎝- σₘᵤ⋅╲╱  2⋅χ ⋅σₘᵤ  + 2⋅χ ⋅σₒ  - μₘᵤ  + 2⋅μₘᵤ⋅μₒ - 2⋅μₘᵤ⋅ξ - μₒ  + 2⋅μₒ⋅ξ\n",
       "⎢─────────────────────────────────────────────────────────────────────────────\n",
       "⎢                                                  2     2                    \n",
       "⎣                                               σₘᵤ  + σₒ                     \n",
       "\n",
       "______                    ⎞     ⎛       ______________________________________\n",
       "    2                     ⎟     ⎜      ╱    2    2      2   2      2          \n",
       " - ξ   + σₒ⋅(μₘᵤ - μₒ + ξ)⎠  σₒ⋅⎝σₘᵤ⋅╲╱  2⋅χ ⋅σₘᵤ  + 2⋅χ ⋅σₒ  - μₘᵤ  + 2⋅μₘᵤ⋅μ\n",
       "───────────────────────────, ─────────────────────────────────────────────────\n",
       "                                                                              \n",
       "                                                                           σₘᵤ\n",
       "\n",
       "________________________________                    ⎞⎤\n",
       "                2             2                     ⎟⎥\n",
       "ₒ - 2⋅μₘᵤ⋅ξ - μₒ  + 2⋅μₒ⋅ξ - ξ   + σₒ⋅(μₘᵤ - μₒ + ξ)⎠⎥\n",
       "─────────────────────────────────────────────────────⎥\n",
       "2     2                                              ⎥\n",
       "  + σₒ                                               ⎦"
      ]
     },
     "execution_count": 246,
     "metadata": {},
     "output_type": "execute_result"
    }
   ],
   "source": [
    "delo1=sym.solve(sym.simplify(delosq_eq.subs({delm:delm_eq})-delo**2),delo)\n",
    "delo1"
   ]
  },
  {
   "cell_type": "code",
   "execution_count": 247,
   "metadata": {},
   "outputs": [
    {
     "data": {
      "image/png": "[encoded data removed]",
      "text/latex": [
       "$$\\left [ - \\mu_{\\mu} + \\mu_{o} + \\frac{\\sigma_{o}}{\\sigma_{\\mu}^{2} + \\sigma_{o}^{2}} \\left(- \\sigma_{\\mu} \\sqrt{2 \\chi^{2} \\sigma_{\\mu}^{2} + 2 \\chi^{2} \\sigma_{o}^{2} - \\mu_{\\mu}^{2} + 2 \\mu_{\\mu} \\mu_{o} - 2 \\mu_{\\mu} \\xi - \\mu_{o}^{2} + 2 \\mu_{o} \\xi - \\xi^{2}} + \\sigma_{o} \\left(\\mu_{\\mu} - \\mu_{o} + \\xi\\right)\\right) - \\xi, \\quad - \\mu_{\\mu} + \\mu_{o} + \\frac{\\sigma_{o}}{\\sigma_{\\mu}^{2} + \\sigma_{o}^{2}} \\left(\\sigma_{\\mu} \\sqrt{2 \\chi^{2} \\sigma_{\\mu}^{2} + 2 \\chi^{2} \\sigma_{o}^{2} - \\mu_{\\mu}^{2} + 2 \\mu_{\\mu} \\mu_{o} - 2 \\mu_{\\mu} \\xi - \\mu_{o}^{2} + 2 \\mu_{o} \\xi - \\xi^{2}} + \\sigma_{o} \\left(\\mu_{\\mu} - \\mu_{o} + \\xi\\right)\\right) - \\xi\\right ]$$"
      ],
      "text/plain": [
       "⎡               ⎛         ____________________________________________________\n",
       "⎢               ⎜        ╱    2    2      2   2      2                        \n",
       "⎢            σₒ⋅⎝- σₘᵤ⋅╲╱  2⋅χ ⋅σₘᵤ  + 2⋅χ ⋅σₒ  - μₘᵤ  + 2⋅μₘᵤ⋅μₒ - 2⋅μₘᵤ⋅ξ - \n",
       "⎢-μₘᵤ + μₒ + ─────────────────────────────────────────────────────────────────\n",
       "⎢                                                              2     2        \n",
       "⎣                                                           σₘᵤ  + σₒ         \n",
       "\n",
       "__________________                    ⎞                     ⎛       __________\n",
       "  2             2                     ⎟                     ⎜      ╱    2    2\n",
       "μₒ  + 2⋅μₒ⋅ξ - ξ   + σₒ⋅(μₘᵤ - μₒ + ξ)⎠                  σₒ⋅⎝σₘᵤ⋅╲╱  2⋅χ ⋅σₘᵤ \n",
       "─────────────────────────────────────── - ξ, -μₘᵤ + μₒ + ─────────────────────\n",
       "                                                                              \n",
       "                                                                              \n",
       "\n",
       "____________________________________________________________                  \n",
       "      2   2      2                          2             2                   \n",
       " + 2⋅χ ⋅σₒ  - μₘᵤ  + 2⋅μₘᵤ⋅μₒ - 2⋅μₘᵤ⋅ξ - μₒ  + 2⋅μₒ⋅ξ - ξ   + σₒ⋅(μₘᵤ - μₒ + \n",
       "──────────────────────────────────────────────────────────────────────────────\n",
       "                            2     2                                           \n",
       "                         σₘᵤ  + σₒ                                            \n",
       "\n",
       "  ⎞    ⎤\n",
       "  ⎟    ⎥\n",
       "ξ)⎠    ⎥\n",
       "─── - ξ⎥\n",
       "       ⎥\n",
       "       ⎦"
      ]
     },
     "execution_count": 247,
     "metadata": {},
     "output_type": "execute_result"
    }
   ],
   "source": [
    "delm1=[(delm_eq.subs({delo:delo1[0]})),(delm_eq.subs({delo:delo1[1]}))]\n",
    "delm1"
   ]
  },
  {
   "cell_type": "code",
   "execution_count": 248,
   "metadata": {},
   "outputs": [
    {
     "data": {
      "image/png": "[encoded data removed]",
      "text/latex": [
       "$$\\frac{2 \\chi \\sigma_{\\mu} \\sigma_{o}}{\\sqrt{2 \\chi^{2} \\sigma_{\\mu}^{2} + 2 \\chi^{2} \\sigma_{o}^{2} - \\mu_{\\mu}^{2} + 2 \\mu_{\\mu} \\mu_{o} - 2 \\mu_{\\mu} \\xi - \\mu_{o}^{2} + 2 \\mu_{o} \\xi - \\xi^{2}}}$$"
      ],
      "text/plain": [
       "                                2⋅χ⋅σₘᵤ⋅σₒ                               \n",
       "─────────────────────────────────────────────────────────────────────────\n",
       "   ______________________________________________________________________\n",
       "  ╱    2    2      2   2      2                          2             2 \n",
       "╲╱  2⋅χ ⋅σₘᵤ  + 2⋅χ ⋅σₒ  - μₘᵤ  + 2⋅μₘᵤ⋅μₒ - 2⋅μₘᵤ⋅ξ - μₒ  + 2⋅μₒ⋅ξ - ξ  "
      ]
     },
     "execution_count": 248,
     "metadata": {},
     "output_type": "execute_result"
    }
   ],
   "source": [
    "sym.simplify(sym.simplify(sym.simplify(sym.diff(delo1[0],chi))*sym.simplify(sym.diff(delm1[0],xi)))-sym.simplify(sym.simplify(sym.diff(delo1[0],xi))*sym.simplify(sym.diff(delm1[0],chi))))"
   ]
  },
  {
   "cell_type": "code",
   "execution_count": 249,
   "metadata": {},
   "outputs": [
    {
     "data": {
      "image/png": "[encoded data removed]",
      "text/latex": [
       "$$- \\frac{2 \\chi \\sigma_{\\mu} \\sigma_{o}}{\\sqrt{2 \\chi^{2} \\sigma_{\\mu}^{2} + 2 \\chi^{2} \\sigma_{o}^{2} - \\mu_{\\mu}^{2} + 2 \\mu_{\\mu} \\mu_{o} - 2 \\mu_{\\mu} \\xi - \\mu_{o}^{2} + 2 \\mu_{o} \\xi - \\xi^{2}}}$$"
      ],
      "text/plain": [
       "                               -2⋅χ⋅σₘᵤ⋅σₒ                               \n",
       "─────────────────────────────────────────────────────────────────────────\n",
       "   ______________________________________________________________________\n",
       "  ╱    2    2      2   2      2                          2             2 \n",
       "╲╱  2⋅χ ⋅σₘᵤ  + 2⋅χ ⋅σₒ  - μₘᵤ  + 2⋅μₘᵤ⋅μₒ - 2⋅μₘᵤ⋅ξ - μₒ  + 2⋅μₒ⋅ξ - ξ  "
      ]
     },
     "execution_count": 249,
     "metadata": {},
     "output_type": "execute_result"
    }
   ],
   "source": [
    "sym.simplify(sym.simplify(sym.simplify(sym.diff(delo1[1],chi))*sym.simplify(sym.diff(delm1[1],xi)))-sym.simplify(sym.simplify(sym.diff(delo1[1],xi))*sym.simplify(sym.diff(delm1[1],chi))))"
   ]
  },
  {
   "cell_type": "code",
   "execution_count": 250,
   "metadata": {},
   "outputs": [
    {
     "data": {
      "image/png": "[encoded data removed]",
      "text/latex": [
       "$$\\frac{1}{2 B^{2} \\sigma_{\\mu}^{2} \\sigma_{o}^{2}} \\left(B^{2} \\mu_{\\mu}^{2} \\sigma_{o}^{2} + B^{2} \\sigma_{\\mu}^{2} \\left(\\Delta^{2} + 2 \\Delta \\delta_{\\mu} - 2 \\Delta \\mu_{o} + \\delta_{\\mu}^{2} - 2 \\delta_{\\mu} \\mu_{o} + \\mu_{o}^{2} - \\left(C + \\Delta + \\chi\\right)^{2}\\right) + 2 B \\mu_{\\mu} \\sigma_{o}^{2} \\left(A \\Delta + A \\delta_{\\mu} - \\chi\\right) + \\sigma_{o}^{2} \\left(A^{2} \\Delta^{2} + 2 A^{2} \\Delta \\delta_{\\mu} + A^{2} \\delta_{\\mu}^{2} - 2 A \\Delta \\chi - 2 A \\chi \\delta_{\\mu} + \\chi^{2}\\right)\\right)$$"
      ],
      "text/plain": [
       " 2    2   2    2    2 ⎛ 2                         2                2          \n",
       "B ⋅μₘᵤ ⋅σₒ  + B ⋅σₘᵤ ⋅⎝Δ  + 2⋅Δ⋅δₘᵤ - 2⋅Δ⋅μₒ + δₘᵤ  - 2⋅δₘᵤ⋅μₒ + μₒ  - (C + Δ \n",
       "──────────────────────────────────────────────────────────────────────────────\n",
       "                                                                              \n",
       "                                                                              \n",
       "\n",
       "    2⎞             2                       2 ⎛ 2  2      2          2    2    \n",
       "+ χ) ⎠ + 2⋅B⋅μₘᵤ⋅σₒ ⋅(A⋅Δ + A⋅δₘᵤ - χ) + σₒ ⋅⎝A ⋅Δ  + 2⋅A ⋅Δ⋅δₘᵤ + A ⋅δₘᵤ  - 2\n",
       "──────────────────────────────────────────────────────────────────────────────\n",
       "        2    2   2                                                            \n",
       "     2⋅B ⋅σₘᵤ ⋅σₒ                                                             \n",
       "\n",
       "                      2⎞\n",
       "⋅A⋅Δ⋅χ - 2⋅A⋅χ⋅δₘᵤ + χ ⎠\n",
       "────────────────────────\n",
       "                        \n",
       "                        "
      ]
     },
     "execution_count": 250,
     "metadata": {},
     "output_type": "execute_result"
    }
   ],
   "source": [
    "arg1_eq=(delo-muo)**2/(2*sigo**2)+(delm-mum)**2/(2*sigm**2)\n",
    "Del_eq=delo-delm\n",
    "chi_eq=A*delo+B*delm\n",
    "\n",
    "sym.simplify(arg1_eq.subs({delm:(chi-A*delo)/B,delo:Del+delm}).expand()-(Del+chi+C)**2/(2*sigo**2))"
   ]
  },
  {
   "cell_type": "code",
   "execution_count": 251,
   "metadata": {},
   "outputs": [
    {
     "data": {
      "image/png": "[encoded data removed]",
      "text/latex": [
       "$$\\frac{1}{8 \\sigma_{o}^{2}} \\left(\\Delta + \\chi - 2 \\mu_{o}\\right)^{2} + \\frac{1}{8 \\sigma_{\\mu}^{2}} \\left(\\Delta - \\chi + 2 \\mu_{\\mu}\\right)^{2}$$"
      ],
      "text/plain": [
       "              2                  2\n",
       "(Δ + χ - 2⋅μₒ)    (Δ - χ + 2⋅μₘᵤ) \n",
       "─────────────── + ────────────────\n",
       "         2                  2     \n",
       "     8⋅σₒ              8⋅σₘᵤ      "
      ]
     },
     "execution_count": 251,
     "metadata": {},
     "output_type": "execute_result"
    }
   ],
   "source": [
    "Del_eq=delo-delm\n",
    "chi_eq=a*delo+b*delm+c\n",
    "delo_eq=(chi+b*Del-c)/(a+b)\n",
    "delm_eq=(chi-a*Del-c)/(a+b)\n",
    "delo_eq=(chi+Del)/(2)\n",
    "delm_eq=(chi-Del)/(2)\n",
    "sym.simplify(arg1_eq.subs({delo:delo_eq,delm:delm_eq}))"
   ]
  },
  {
   "cell_type": "code",
   "execution_count": 252,
   "metadata": {},
   "outputs": [
    {
     "data": {
      "image/png": "[encoded data removed]",
      "text/latex": [
       "$$\\frac{\\mu_{\\mu}}{2 \\sigma_{\\mu}^{2}} - \\frac{\\mu_{o}}{2 \\sigma_{o}^{2}}$$"
      ],
      "text/plain": [
       " μₘᵤ       μₒ \n",
       "────── - ─────\n",
       "     2       2\n",
       "2⋅σₘᵤ    2⋅σₒ "
      ]
     },
     "execution_count": 252,
     "metadata": {},
     "output_type": "execute_result"
    }
   ],
   "source": [
    "consts=sym.simplify(arg1_eq.subs({delo:delo_eq,delm:delm_eq}).subs({chi:0})).subs({Del:0})\n",
    "sym.simplify(sym.simplify(((sym.simplify(arg1_eq.subs({delo:delo_eq,delm:delm_eq}).subs({chi:0})))-consts).expand()/Del).subs({Del:0}))"
   ]
  },
  {
   "cell_type": "code",
   "execution_count": 253,
   "metadata": {},
   "outputs": [
    {
     "data": {
      "image/png": "[encoded data removed]",
      "text/latex": [
       "$$\\left ( \\frac{\\mu_{\\mu}^{2}}{2 \\sigma_{\\mu}^{2}} + \\frac{\\mu_{o}^{2}}{2 \\sigma_{o}^{2}}, \\quad \\frac{\\mu_{\\mu}}{2 \\sigma_{\\mu}^{2}} - \\frac{\\mu_{o}}{2 \\sigma_{o}^{2}}, \\quad \\frac{1}{\\Delta^{2}} \\left(\\frac{\\Delta^{2}}{8 \\sigma_{o}^{2}} + \\frac{\\Delta^{2}}{8 \\sigma_{\\mu}^{2}}\\right)\\right )$$"
      ],
      "text/plain": [
       "⎛                                   2       2  ⎞\n",
       "⎜                                  Δ       Δ   ⎟\n",
       "⎜                                ───── + ──────⎟\n",
       "⎜    2       2                       2        2⎟\n",
       "⎜ μₘᵤ      μₒ     μₘᵤ       μₒ   8⋅σₒ    8⋅σₘᵤ ⎟\n",
       "⎜────── + ─────, ────── - ─────, ──────────────⎟\n",
       "⎜     2       2       2       2         2      ⎟\n",
       "⎝2⋅σₘᵤ    2⋅σₒ   2⋅σₘᵤ    2⋅σₒ         Δ       ⎠"
      ]
     },
     "execution_count": 253,
     "metadata": {},
     "output_type": "execute_result"
    }
   ],
   "source": [
    "arg2_eq=sym.simplify(arg1_eq.subs({delo:delo_eq,delm:delm_eq}))\n",
    "arg3_eq=arg2_eq.subs({chi:0})\n",
    "L1=sym.simplify(arg3_eq.subs({Del:0}))\n",
    "L2=sym.simplify(sym.simplify(sym.expand((arg3_eq-L1))/Del).subs({Del:0}))\n",
    "L3=sym.simplify(arg3_eq-L1-L2*Del)/Del**2\n",
    "\n",
    "L1,L2,L3"
   ]
  },
  {
   "cell_type": "code",
   "execution_count": 254,
   "metadata": {},
   "outputs": [
    {
     "data": {
      "image/png": "[encoded data removed]",
      "text/latex": [
       "$$\\frac{1}{8 \\sigma_{o}^{2}} \\left(\\Delta + \\chi - 2 \\mu_{o}\\right)^{2} + \\frac{1}{8 \\sigma_{\\mu}^{2}} \\left(\\Delta - \\chi + 2 \\mu_{\\mu}\\right)^{2}$$"
      ],
      "text/plain": [
       "              2                  2\n",
       "(Δ + χ - 2⋅μₒ)    (Δ - χ + 2⋅μₘᵤ) \n",
       "─────────────── + ────────────────\n",
       "         2                  2     \n",
       "     8⋅σₒ              8⋅σₘᵤ      "
      ]
     },
     "execution_count": 254,
     "metadata": {},
     "output_type": "execute_result"
    }
   ],
   "source": [
    "arg2_eq"
   ]
  },
  {
   "cell_type": "code",
   "execution_count": 255,
   "metadata": {},
   "outputs": [],
   "source": [
    "Q=sym.simplify(1/sym.sqrt(L3))\n",
    "P=sym.simplify(L2/2*Q**2)"
   ]
  },
  {
   "cell_type": "code",
   "execution_count": 256,
   "metadata": {},
   "outputs": [
    {
     "data": {
      "image/png": "[encoded data removed]",
      "text/latex": [
       "$$\\left ( \\frac{2 \\sqrt{2} \\sigma_{\\mu} \\sigma_{o}}{\\sqrt{\\sigma_{\\mu}^{2} + \\sigma_{o}^{2}}}, \\quad \\frac{2 \\left(\\mu_{\\mu} \\sigma_{o}^{2} - \\mu_{o} \\sigma_{\\mu}^{2}\\right)}{\\sigma_{\\mu}^{2} + \\sigma_{o}^{2}}\\right )$$"
      ],
      "text/plain": [
       "⎛                   ⎛      2         2⎞⎞\n",
       "⎜  2⋅√2⋅σₘᵤ⋅σₒ    2⋅⎝μₘᵤ⋅σₒ  - μₒ⋅σₘᵤ ⎠⎟\n",
       "⎜───────────────, ─────────────────────⎟\n",
       "⎜   ____________           2     2     ⎟\n",
       "⎜  ╱    2     2         σₘᵤ  + σₒ      ⎟\n",
       "⎝╲╱  σₘᵤ  + σₒ                         ⎠"
      ]
     },
     "execution_count": 256,
     "metadata": {},
     "output_type": "execute_result"
    }
   ],
   "source": [
    "Q, P"
   ]
  },
  {
   "cell_type": "code",
   "execution_count": 257,
   "metadata": {},
   "outputs": [
    {
     "data": {
      "image/png": "[encoded data removed]",
      "text/latex": [
       "$$\\left ( \\frac{\\mu_{\\mu}^{2}}{2 \\sigma_{\\mu}^{2}} + \\frac{\\mu_{o}^{2}}{2 \\sigma_{o}^{2}}, \\quad - \\frac{\\mu_{\\mu}}{2 \\sigma_{\\mu}^{2}} - \\frac{\\mu_{o}}{2 \\sigma_{o}^{2}}, \\quad \\frac{1}{\\chi^{2}} \\left(\\frac{\\chi^{2}}{8 \\sigma_{o}^{2}} + \\frac{\\chi^{2}}{8 \\sigma_{\\mu}^{2}}\\right)\\right )$$"
      ],
      "text/plain": [
       "⎛                                     2       2  ⎞\n",
       "⎜                                    χ       χ   ⎟\n",
       "⎜                                  ───── + ──────⎟\n",
       "⎜    2       2                         2        2⎟\n",
       "⎜ μₘᵤ      μₒ       μₘᵤ       μₒ   8⋅σₒ    8⋅σₘᵤ ⎟\n",
       "⎜────── + ─────, - ────── - ─────, ──────────────⎟\n",
       "⎜     2       2         2       2         2      ⎟\n",
       "⎝2⋅σₘᵤ    2⋅σₒ     2⋅σₘᵤ    2⋅σₒ         χ       ⎠"
      ]
     },
     "execution_count": 257,
     "metadata": {},
     "output_type": "execute_result"
    }
   ],
   "source": [
    "arg4_eq=arg2_eq.subs({Del:0})\n",
    "K1=sym.simplify(arg4_eq.subs({chi:0}))\n",
    "K2=sym.simplify(sym.simplify(sym.expand((arg4_eq-K1))/chi).subs({chi:0}))\n",
    "K3=sym.simplify(arg4_eq-K1-K2*chi)/chi**2\n",
    "K1,K2,K3"
   ]
  },
  {
   "cell_type": "code",
   "execution_count": 258,
   "metadata": {},
   "outputs": [
    {
     "data": {
      "image/png": "[encoded data removed]",
      "text/latex": [
       "$$\\left ( \\frac{2 \\sqrt{2} \\sigma_{\\mu} \\sigma_{o}}{\\sqrt{\\sigma_{\\mu}^{2} + \\sigma_{o}^{2}}}, \\quad - \\frac{1}{\\sigma_{\\mu}^{2} + \\sigma_{o}^{2}} \\left(2 \\mu_{\\mu} \\sigma_{o}^{2} + 2 \\mu_{o} \\sigma_{\\mu}^{2}\\right)\\right )$$"
      ],
      "text/plain": [
       "⎛                  ⎛        2           2⎞ ⎞\n",
       "⎜  2⋅√2⋅σₘᵤ⋅σₒ    -⎝2⋅μₘᵤ⋅σₒ  + 2⋅μₒ⋅σₘᵤ ⎠ ⎟\n",
       "⎜───────────────, ─────────────────────────⎟\n",
       "⎜   ____________             2     2       ⎟\n",
       "⎜  ╱    2     2           σₘᵤ  + σₒ        ⎟\n",
       "⎝╲╱  σₘᵤ  + σₒ                             ⎠"
      ]
     },
     "execution_count": 258,
     "metadata": {},
     "output_type": "execute_result"
    }
   ],
   "source": [
    "M=sym.simplify(1/sym.sqrt(K3))\n",
    "N=sym.simplify(K2/2*M**2)\n",
    "M,N"
   ]
  },
  {
   "cell_type": "code",
   "execution_count": 259,
   "metadata": {},
   "outputs": [
    {
     "data": {
      "image/png": "[encoded data removed]",
      "text/latex": [
       "$$\\frac{1}{8 \\sigma_{\\mu}^{2} \\sigma_{o}^{2} \\left(\\sigma_{\\mu}^{2} + \\sigma_{o}^{2}\\right)} \\left(4 \\Delta \\chi \\sigma_{\\mu}^{2} \\sigma_{o}^{2} + 4 \\Delta \\chi \\sigma_{o}^{4} + \\chi^{2} \\sigma_{\\mu}^{4} + 2 \\chi^{2} \\sigma_{\\mu}^{2} \\sigma_{o}^{2} + \\chi^{2} \\sigma_{o}^{4} + 4 \\chi \\mu_{\\mu} \\sigma_{\\mu}^{2} \\sigma_{o}^{2} + 4 \\chi \\mu_{\\mu} \\sigma_{o}^{4} - 4 \\chi \\mu_{o} \\sigma_{\\mu}^{4} - 4 \\chi \\mu_{o} \\sigma_{\\mu}^{2} \\sigma_{o}^{2} - 4 \\mu_{\\mu}^{2} \\sigma_{\\mu}^{2} \\sigma_{o}^{2} + 4 \\mu_{\\mu}^{2} \\sigma_{o}^{4} + 4 \\mu_{o}^{2} \\sigma_{\\mu}^{4} - 4 \\mu_{o}^{2} \\sigma_{\\mu}^{2} \\sigma_{o}^{2}\\right)$$"
      ],
      "text/plain": [
       "         2   2           4    2    4      2    2   2    2   4              2  \n",
       "4⋅Δ⋅χ⋅σₘᵤ ⋅σₒ  + 4⋅Δ⋅χ⋅σₒ  + χ ⋅σₘᵤ  + 2⋅χ ⋅σₘᵤ ⋅σₒ  + χ ⋅σₒ  + 4⋅χ⋅μₘᵤ⋅σₘᵤ ⋅σ\n",
       "──────────────────────────────────────────────────────────────────────────────\n",
       "                                                                              \n",
       "                                                                              \n",
       "\n",
       " 2             4             4             2   2        2    2   2        2   \n",
       "ₒ  + 4⋅χ⋅μₘᵤ⋅σₒ  - 4⋅χ⋅μₒ⋅σₘᵤ  - 4⋅χ⋅μₒ⋅σₘᵤ ⋅σₒ  - 4⋅μₘᵤ ⋅σₘᵤ ⋅σₒ  + 4⋅μₘᵤ ⋅σₒ\n",
       "──────────────────────────────────────────────────────────────────────────────\n",
       "         2   2 ⎛   2     2⎞                                                   \n",
       "    8⋅σₘᵤ ⋅σₒ ⋅⎝σₘᵤ  + σₒ ⎠                                                   \n",
       "\n",
       "4       2    4       2    2   2\n",
       "  + 4⋅μₒ ⋅σₘᵤ  - 4⋅μₒ ⋅σₘᵤ ⋅σₒ \n",
       "───────────────────────────────\n",
       "                               \n",
       "                               "
      ]
     },
     "execution_count": 259,
     "metadata": {},
     "output_type": "execute_result"
    }
   ],
   "source": [
    "sym.simplify(sym.expand(((chi+N)**2/M**2+(Del+chi+P)**2/Q**2)-arg2_eq))"
   ]
  },
  {
   "cell_type": "code",
   "execution_count": 260,
   "metadata": {},
   "outputs": [
    {
     "data": {
      "image/png": "[encoded data removed]",
      "text/latex": [
       "$$\\frac{1}{8 \\sigma_{o}^{2}} \\left(\\Delta + \\chi - 2 \\mu_{o}\\right)^{2} + \\frac{1}{8 \\sigma_{\\mu}^{2}} \\left(\\Delta - \\chi + 2 \\mu_{\\mu}\\right)^{2}$$"
      ],
      "text/plain": [
       "              2                  2\n",
       "(Δ + χ - 2⋅μₒ)    (Δ - χ + 2⋅μₘᵤ) \n",
       "─────────────── + ────────────────\n",
       "         2                  2     \n",
       "     8⋅σₒ              8⋅σₘᵤ      "
      ]
     },
     "execution_count": 260,
     "metadata": {},
     "output_type": "execute_result"
    }
   ],
   "source": [
    "arg2_eq"
   ]
  },
  {
   "cell_type": "code",
   "execution_count": 262,
   "metadata": {},
   "outputs": [
    {
     "data": {
      "image/png": "[encoded data removed]",
      "text/latex": [
       "$$\\left ( a \\delta_{o} + b \\delta_{\\mu} + c, \\quad - \\delta_{\\mu} + \\delta_{o}, \\quad \\frac{\\Delta}{2} + \\frac{\\chi}{2}, \\quad - \\frac{\\Delta}{2} + \\frac{\\chi}{2}\\right )$$"
      ],
      "text/plain": [
       "⎛                             Δ   χ    Δ   χ⎞\n",
       "⎜a⋅δₒ + b⋅δₘᵤ + c, -δₘᵤ + δₒ, ─ + ─, - ─ + ─⎟\n",
       "⎝                             2   2    2   2⎠"
      ]
     },
     "execution_count": 262,
     "metadata": {},
     "output_type": "execute_result"
    }
   ],
   "source": [
    "chi_eq, Del_eq, delo_eq, delm_eq"
   ]
  },
  {
   "cell_type": "code",
   "execution_count": 275,
   "metadata": {},
   "outputs": [
    {
     "data": {
      "image/png": "[encoded data removed]",
      "text/latex": [
       "$$\\frac{\\Delta^{2}}{8 \\sigma_{o}^{2}} + \\frac{\\Delta^{2}}{8 \\sigma_{\\mu}^{2}} + \\frac{\\Delta \\chi}{4 \\sigma_{o}^{2}} - \\frac{\\Delta \\chi}{4 \\sigma_{\\mu}^{2}} + \\frac{\\Delta \\mu_{\\mu}}{2 \\sigma_{\\mu}^{2}} - \\frac{\\Delta \\mu_{o}}{2 \\sigma_{o}^{2}} + \\frac{\\chi^{2}}{8 \\sigma_{o}^{2}} + \\frac{\\chi^{2}}{8 \\sigma_{\\mu}^{2}} - \\frac{\\chi \\mu_{\\mu}}{2 \\sigma_{\\mu}^{2}} - \\frac{\\chi \\mu_{o}}{2 \\sigma_{o}^{2}} + \\frac{\\mu_{\\mu}^{2}}{2 \\sigma_{\\mu}^{2}} + \\frac{\\mu_{o}^{2}}{2 \\sigma_{o}^{2}}$$"
      ],
      "text/plain": [
       "   2       2                                          2       2               \n",
       "  Δ       Δ       Δ⋅χ     Δ⋅χ     Δ⋅μₘᵤ     Δ⋅μₒ     χ       χ      χ⋅μₘᵤ     \n",
       "───── + ────── + ───── - ────── + ────── - ───── + ───── + ────── - ────── - ─\n",
       "    2        2       2        2        2       2       2        2        2    \n",
       "8⋅σₒ    8⋅σₘᵤ    4⋅σₒ    4⋅σₘᵤ    2⋅σₘᵤ    2⋅σₒ    8⋅σₒ    8⋅σₘᵤ    2⋅σₘᵤ    2\n",
       "\n",
       "           2       2 \n",
       "χ⋅μₒ    μₘᵤ      μₒ  \n",
       "──── + ────── + ─────\n",
       "   2        2       2\n",
       "⋅σₒ    2⋅σₘᵤ    2⋅σₒ "
      ]
     },
     "execution_count": 275,
     "metadata": {},
     "output_type": "execute_result"
    }
   ],
   "source": [
    "sym.expand(arg1_eq.subs({delo:delo_eq, delm:delm_eq}))\n"
   ]
  },
  {
   "cell_type": "code",
   "execution_count": 268,
   "metadata": {},
   "outputs": [],
   "source": [
    "a,b,f = sym.symbols('a b f', real=True, positive=True)\n",
    "chi, Del, g, c =sym.symbols('chi Delta g c', real=True)"
   ]
  },
  {
   "cell_type": "code",
   "execution_count": 269,
   "metadata": {},
   "outputs": [
    {
     "data": {
      "image/png": "[encoded data removed]",
      "text/latex": [
       "$$\\Delta^{2} a^{2} + 2 \\Delta a b \\chi + 2 \\Delta a c + b^{2} \\chi^{2} + 2 b c \\chi + c^{2}$$"
      ],
      "text/plain": [
       " 2  2                          2  2              2\n",
       "Δ ⋅a  + 2⋅Δ⋅a⋅b⋅χ + 2⋅Δ⋅a⋅c + b ⋅χ  + 2⋅b⋅c⋅χ + c "
      ]
     },
     "execution_count": 269,
     "metadata": {},
     "output_type": "execute_result"
    }
   ],
   "source": [
    "sym.expand((a*Del+b*chi+c)**2)"
   ]
  },
  {
   "cell_type": "code",
   "execution_count": 279,
   "metadata": {},
   "outputs": [
    {
     "data": {
      "image/png": "[encoded data removed]",
      "text/latex": [
       "$$\\Delta^{2} a^{2} + 2 \\Delta a b \\chi - 2 \\Delta a c + b^{2} \\chi^{2} - 2 b c \\chi + c^{2} + \\chi^{2} f^{2} - 2 \\chi f g + g^{2}$$"
      ],
      "text/plain": [
       " 2  2                          2  2              2    2  2              2\n",
       "Δ ⋅a  + 2⋅Δ⋅a⋅b⋅χ - 2⋅Δ⋅a⋅c + b ⋅χ  - 2⋅b⋅c⋅χ + c  + χ ⋅f  - 2⋅χ⋅f⋅g + g "
      ]
     },
     "execution_count": 279,
     "metadata": {},
     "output_type": "execute_result"
    }
   ],
   "source": [
    "sym.expand((f*chi-g)**2+(a*Del+b*chi-c)**2)"
   ]
  },
  {
   "cell_type": "code",
   "execution_count": 278,
   "metadata": {},
   "outputs": [
    {
     "data": {
      "image/png": "[encoded data removed]",
      "text/latex": [
       "$$\\left [ \\left \\{ a : - \\frac{b \\chi}{\\Delta} + \\frac{c}{\\Delta} - \\frac{\\sqrt{2}}{4 \\Delta \\sigma_{\\mu} \\sigma_{o}} \\sqrt{\\Delta^{2} \\sigma_{\\mu}^{2} + \\Delta^{2} \\sigma_{o}^{2} + 2 \\Delta \\chi \\sigma_{\\mu}^{2} - 2 \\Delta \\chi \\sigma_{o}^{2} + 4 \\Delta \\mu_{\\mu} \\sigma_{o}^{2} - 4 \\Delta \\mu_{o} \\sigma_{\\mu}^{2} - 8 \\chi^{2} f^{2} \\sigma_{\\mu}^{2} \\sigma_{o}^{2} + \\chi^{2} \\sigma_{\\mu}^{2} + \\chi^{2} \\sigma_{o}^{2} + 16 \\chi f g \\sigma_{\\mu}^{2} \\sigma_{o}^{2} - 4 \\chi \\mu_{\\mu} \\sigma_{o}^{2} - 4 \\chi \\mu_{o} \\sigma_{\\mu}^{2} - 8 g^{2} \\sigma_{\\mu}^{2} \\sigma_{o}^{2} + 4 \\mu_{\\mu}^{2} \\sigma_{o}^{2} + 4 \\mu_{o}^{2} \\sigma_{\\mu}^{2}}\\right \\}, \\quad \\left \\{ a : - \\frac{b \\chi}{\\Delta} + \\frac{c}{\\Delta} + \\frac{\\sqrt{2}}{4 \\Delta \\sigma_{\\mu} \\sigma_{o}} \\sqrt{\\Delta^{2} \\sigma_{\\mu}^{2} + \\Delta^{2} \\sigma_{o}^{2} + 2 \\Delta \\chi \\sigma_{\\mu}^{2} - 2 \\Delta \\chi \\sigma_{o}^{2} + 4 \\Delta \\mu_{\\mu} \\sigma_{o}^{2} - 4 \\Delta \\mu_{o} \\sigma_{\\mu}^{2} - 8 \\chi^{2} f^{2} \\sigma_{\\mu}^{2} \\sigma_{o}^{2} + \\chi^{2} \\sigma_{\\mu}^{2} + \\chi^{2} \\sigma_{o}^{2} + 16 \\chi f g \\sigma_{\\mu}^{2} \\sigma_{o}^{2} - 4 \\chi \\mu_{\\mu} \\sigma_{o}^{2} - 4 \\chi \\mu_{o} \\sigma_{\\mu}^{2} - 8 g^{2} \\sigma_{\\mu}^{2} \\sigma_{o}^{2} + 4 \\mu_{\\mu}^{2} \\sigma_{o}^{2} + 4 \\mu_{o}^{2} \\sigma_{\\mu}^{2}}\\right \\}\\right ]$$"
      ],
      "text/plain": [
       "⎡⎧                     _______________________________________________________\n",
       "⎢⎪                    ╱  2    2    2   2            2           2             \n",
       "⎢⎨     b⋅χ   c   √2⋅╲╱  Δ ⋅σₘᵤ  + Δ ⋅σₒ  + 2⋅Δ⋅χ⋅σₘᵤ  - 2⋅Δ⋅χ⋅σₒ  + 4⋅Δ⋅μₘᵤ⋅σₒ\n",
       "⎢⎪a: - ─── + ─ - ─────────────────────────────────────────────────────────────\n",
       "⎣⎩      Δ    Δ                                                                \n",
       "\n",
       "______________________________________________________________________________\n",
       "2             2      2  2    2   2    2    2    2   2               2   2     \n",
       "  - 4⋅Δ⋅μₒ⋅σₘᵤ  - 8⋅χ ⋅f ⋅σₘᵤ ⋅σₒ  + χ ⋅σₘᵤ  + χ ⋅σₒ  + 16⋅χ⋅f⋅g⋅σₘᵤ ⋅σₒ  - 4⋅\n",
       "──────────────────────────────────────────────────────────────────────────────\n",
       "                                     4⋅Δ⋅σₘᵤ⋅σₒ                               \n",
       "\n",
       "__________________________________________________________________⎫  ⎧        \n",
       "        2             2      2    2   2        2   2       2    2 ⎪  ⎪        \n",
       "χ⋅μₘᵤ⋅σₒ  - 4⋅χ⋅μₒ⋅σₘᵤ  - 8⋅g ⋅σₘᵤ ⋅σₒ  + 4⋅μₘᵤ ⋅σₒ  + 4⋅μₒ ⋅σₘᵤ  ⎬  ⎨     b⋅χ\n",
       "──────────────────────────────────────────────────────────────────⎪, ⎪a: - ───\n",
       "                                                                  ⎭  ⎩      Δ \n",
       "\n",
       "             _________________________________________________________________\n",
       "            ╱  2    2    2   2            2           2             2         \n",
       "   c   √2⋅╲╱  Δ ⋅σₘᵤ  + Δ ⋅σₒ  + 2⋅Δ⋅χ⋅σₘᵤ  - 2⋅Δ⋅χ⋅σₒ  + 4⋅Δ⋅μₘᵤ⋅σₒ  - 4⋅Δ⋅μₒ\n",
       " + ─ + ───────────────────────────────────────────────────────────────────────\n",
       "   Δ                                                                          \n",
       "\n",
       "______________________________________________________________________________\n",
       "    2      2  2    2   2    2    2    2   2               2   2             2 \n",
       "⋅σₘᵤ  - 8⋅χ ⋅f ⋅σₘᵤ ⋅σₒ  + χ ⋅σₘᵤ  + χ ⋅σₒ  + 16⋅χ⋅f⋅g⋅σₘᵤ ⋅σₒ  - 4⋅χ⋅μₘᵤ⋅σₒ  \n",
       "──────────────────────────────────────────────────────────────────────────────\n",
       "                           4⋅Δ⋅σₘᵤ⋅σₒ                                         \n",
       "\n",
       "________________________________________________________⎫⎤\n",
       "            2      2    2   2        2   2       2    2 ⎪⎥\n",
       "- 4⋅χ⋅μₒ⋅σₘᵤ  - 8⋅g ⋅σₘᵤ ⋅σₒ  + 4⋅μₘᵤ ⋅σₒ  + 4⋅μₒ ⋅σₘᵤ  ⎬⎥\n",
       "────────────────────────────────────────────────────────⎪⎥\n",
       "                                                        ⎭⎦"
      ]
     },
     "execution_count": 278,
     "metadata": {},
     "output_type": "execute_result"
    }
   ],
   "source": [
    "sym.solve(solve_eq,(a,b,c,g,f))"
   ]
  },
  {
   "cell_type": "code",
   "execution_count": 311,
   "metadata": {},
   "outputs": [],
   "source": [
    "\n",
    "a_sol=sym.solve(sym.Eq(a**2,(1/sigo**2+1/sigm**2)/8), a)\n",
    "solve_eqs1=[a**2, 2*a*b, -2*a*c,b**2+f**2, -2*b*c-2*f*g]#,c**2+g**2]\n",
    "solve_eqs2=[(1/sigo**2+1/sigm**2)/8,(1/sigo**2-1/sigm**2)/4, (mum/sigm**2-muo/sigo**2)/2, (1/sigo**2+1/sigm**2)/8, (-mum/sigm**2-muo/sigo**2)/2]#, (mum/sigm**2+muo/sigo**2)/2]\n",
    "solve_eq_tot=[a_i - b_i for a_i, b_i in zip(solve_eqs1,solve_eqs2)]\n",
    "solve_ans=sym.solve(solve_eq_tot,[a,b,c,f,g])\n",
    "\n",
    "#sym.simplify(sym.solve([(1/sigo**2+1/sigm**2)/8-a**2, (1/sigo**2-1/sigm**2)/2-2*a*b], [a,b]))"
   ]
  },
  {
   "cell_type": "code",
   "execution_count": 312,
   "metadata": {},
   "outputs": [
    {
     "data": {
      "image/png": "[encoded data removed]",
      "text/latex": [
       "$$\\left [ \\left ( \\frac{\\sqrt{2 \\sigma_{\\mu}^{2} + 2 \\sigma_{o}^{2}}}{4 \\sigma_{\\mu} \\sigma_{o}}, \\quad \\frac{\\sqrt{2} \\left(\\sigma_{\\mu}^{2} - \\sigma_{o}^{2}\\right)}{4 \\sigma_{\\mu} \\sigma_{o} \\sqrt{\\sigma_{\\mu}^{2} + \\sigma_{o}^{2}}}, \\quad \\frac{\\sqrt{2} \\left(- \\mu_{\\mu} \\sigma_{o}^{2} + \\mu_{o} \\sigma_{\\mu}^{2}\\right)}{2 \\sigma_{\\mu} \\sigma_{o} \\sqrt{\\sigma_{\\mu}^{2} + \\sigma_{o}^{2}}}, \\quad \\frac{\\sqrt{2}}{2 \\sqrt{\\sigma_{\\mu}^{2} + \\sigma_{o}^{2}}}, \\quad \\frac{\\sqrt{2} \\left(\\mu_{\\mu} + \\mu_{o}\\right)}{2 \\sqrt{\\sigma_{\\mu}^{2} + \\sigma_{o}^{2}}}\\right )\\right ]$$"
      ],
      "text/plain": [
       "⎡⎛   ________________                                                         \n",
       "⎢⎜  ╱      2       2          ⎛   2     2⎞          ⎛        2         2⎞     \n",
       "⎢⎜╲╱  2⋅σₘᵤ  + 2⋅σₒ        √2⋅⎝σₘᵤ  - σₒ ⎠       √2⋅⎝- μₘᵤ⋅σₒ  + μₒ⋅σₘᵤ ⎠     \n",
       "⎢⎜───────────────────, ────────────────────────, ────────────────────────, ───\n",
       "⎢⎜      4⋅σₘᵤ⋅σₒ                   ____________              ____________     \n",
       "⎢⎜                                ╱    2     2              ╱    2     2      \n",
       "⎣⎝                     4⋅σₘᵤ⋅σₒ⋅╲╱  σₘᵤ  + σₒ    2⋅σₘᵤ⋅σₒ⋅╲╱  σₘᵤ  + σₒ    2⋅╲\n",
       "\n",
       "                                 ⎞⎤\n",
       "                                 ⎟⎥\n",
       "     √2           √2⋅(μₘᵤ + μₒ)  ⎟⎥\n",
       "──────────────, ─────────────────⎟⎥\n",
       "  ____________       ____________⎟⎥\n",
       " ╱    2     2       ╱    2     2 ⎟⎥\n",
       "╱  σₘᵤ  + σₒ    2⋅╲╱  σₘᵤ  + σₒ  ⎠⎦"
      ]
     },
     "execution_count": 312,
     "metadata": {},
     "output_type": "execute_result"
    }
   ],
   "source": [
    "solve_ans"
   ]
  },
  {
   "cell_type": "code",
   "execution_count": 313,
   "metadata": {},
   "outputs": [
    {
     "data": {
      "image/png": "[encoded data removed]",
      "text/latex": [
       "$$\\left [ a^{2} - \\frac{1}{8 \\sigma_{o}^{2}} - \\frac{1}{8 \\sigma_{\\mu}^{2}}, \\quad 2 a b - \\frac{1}{4 \\sigma_{o}^{2}} + \\frac{1}{4 \\sigma_{\\mu}^{2}}, \\quad - 2 a c - \\frac{\\mu_{\\mu}}{2 \\sigma_{\\mu}^{2}} + \\frac{\\mu_{o}}{2 \\sigma_{o}^{2}}, \\quad b^{2} + f^{2} - \\frac{1}{8 \\sigma_{o}^{2}} - \\frac{1}{8 \\sigma_{\\mu}^{2}}, \\quad - 2 b c - 2 f g + \\frac{\\mu_{\\mu}}{2 \\sigma_{\\mu}^{2}} + \\frac{\\mu_{o}}{2 \\sigma_{o}^{2}}\\right ]$$"
      ],
      "text/plain": [
       "⎡ 2     1       1               1       1               μₘᵤ       μₒ    2    2\n",
       "⎢a  - ───── - ──────, 2⋅a⋅b - ───── + ──────, -2⋅a⋅c - ────── + ─────, b  + f \n",
       "⎢         2        2              2        2                2       2         \n",
       "⎣     8⋅σₒ    8⋅σₘᵤ           4⋅σₒ    4⋅σₘᵤ            2⋅σₘᵤ    2⋅σₒ          \n",
       "\n",
       "     1       1                       μₘᵤ       μₒ ⎤\n",
       " - ───── - ──────, -2⋅b⋅c - 2⋅f⋅g + ────── + ─────⎥\n",
       "       2        2                        2       2⎥\n",
       "   8⋅σₒ    8⋅σₘᵤ                    2⋅σₘᵤ    2⋅σₒ ⎦"
      ]
     },
     "execution_count": 313,
     "metadata": {},
     "output_type": "execute_result"
    }
   ],
   "source": [
    "solve_eq_tot"
   ]
  },
  {
   "cell_type": "code",
   "execution_count": 319,
   "metadata": {},
   "outputs": [],
   "source": [
    "[a_sol,b_sol,c_sol,f_sol,g_sol]=solve_ans[0]"
   ]
  },
  {
   "cell_type": "code",
   "execution_count": 320,
   "metadata": {},
   "outputs": [
    {
     "data": {
      "image/png": "[encoded data removed]",
      "text/latex": [
       "$$\\left ( \\frac{\\sqrt{2 \\sigma_{\\mu}^{2} + 2 \\sigma_{o}^{2}}}{4 \\sigma_{\\mu} \\sigma_{o}}, \\quad \\frac{\\sqrt{2} \\left(\\sigma_{\\mu}^{2} - \\sigma_{o}^{2}\\right)}{4 \\sigma_{\\mu} \\sigma_{o} \\sqrt{\\sigma_{\\mu}^{2} + \\sigma_{o}^{2}}}, \\quad \\frac{\\sqrt{2} \\left(- \\mu_{\\mu} \\sigma_{o}^{2} + \\mu_{o} \\sigma_{\\mu}^{2}\\right)}{2 \\sigma_{\\mu} \\sigma_{o} \\sqrt{\\sigma_{\\mu}^{2} + \\sigma_{o}^{2}}}, \\quad \\frac{\\sqrt{2}}{2 \\sqrt{\\sigma_{\\mu}^{2} + \\sigma_{o}^{2}}}, \\quad \\frac{\\sqrt{2} \\left(\\mu_{\\mu} + \\mu_{o}\\right)}{2 \\sqrt{\\sigma_{\\mu}^{2} + \\sigma_{o}^{2}}}\\right )$$"
      ],
      "text/plain": [
       "⎛   ________________                                                          \n",
       "⎜  ╱      2       2          ⎛   2     2⎞          ⎛        2         2⎞      \n",
       "⎜╲╱  2⋅σₘᵤ  + 2⋅σₒ        √2⋅⎝σₘᵤ  - σₒ ⎠       √2⋅⎝- μₘᵤ⋅σₒ  + μₒ⋅σₘᵤ ⎠      \n",
       "⎜───────────────────, ────────────────────────, ────────────────────────, ────\n",
       "⎜      4⋅σₘᵤ⋅σₒ                   ____________              ____________      \n",
       "⎜                                ╱    2     2              ╱    2     2       \n",
       "⎝                     4⋅σₘᵤ⋅σₒ⋅╲╱  σₘᵤ  + σₒ    2⋅σₘᵤ⋅σₒ⋅╲╱  σₘᵤ  + σₒ    2⋅╲╱\n",
       "\n",
       "                                ⎞\n",
       "                                ⎟\n",
       "    √2           √2⋅(μₘᵤ + μₒ)  ⎟\n",
       "─────────────, ─────────────────⎟\n",
       " ____________       ____________⎟\n",
       "╱    2     2       ╱    2     2 ⎟\n",
       "  σₘᵤ  + σₒ    2⋅╲╱  σₘᵤ  + σₒ  ⎠"
      ]
     },
     "execution_count": 320,
     "metadata": {},
     "output_type": "execute_result"
    }
   ],
   "source": [
    "a_sol,b_sol,c_sol,f_sol,g_sol"
   ]
  },
  {
   "cell_type": "code",
   "execution_count": 321,
   "metadata": {},
   "outputs": [
    {
     "data": {
      "image/png": "[encoded data removed]",
      "text/latex": [
       "$$\\frac{\\Delta^{2}}{8 \\sigma_{o}^{2}} + \\frac{\\Delta^{2}}{8 \\sigma_{\\mu}^{2}} + \\frac{\\Delta \\chi}{4 \\sigma_{o}^{2}} - \\frac{\\Delta \\chi}{4 \\sigma_{\\mu}^{2}} + \\frac{\\Delta \\mu_{\\mu}}{2 \\sigma_{\\mu}^{2}} - \\frac{\\Delta \\mu_{o}}{2 \\sigma_{o}^{2}} + \\frac{\\chi^{2}}{8 \\sigma_{o}^{2}} + \\frac{\\chi^{2}}{8 \\sigma_{\\mu}^{2}} - \\frac{\\chi \\mu_{\\mu}}{2 \\sigma_{\\mu}^{2}} - \\frac{\\chi \\mu_{o}}{2 \\sigma_{o}^{2}} + \\frac{\\mu_{\\mu}^{2}}{2 \\sigma_{\\mu}^{2}} + \\frac{\\mu_{o}^{2}}{2 \\sigma_{o}^{2}}$$"
      ],
      "text/plain": [
       "   2       2                                          2       2               \n",
       "  Δ       Δ       Δ⋅χ     Δ⋅χ     Δ⋅μₘᵤ     Δ⋅μₒ     χ       χ      χ⋅μₘᵤ     \n",
       "───── + ────── + ───── - ────── + ────── - ───── + ───── + ────── - ────── - ─\n",
       "    2        2       2        2        2       2       2        2        2    \n",
       "8⋅σₒ    8⋅σₘᵤ    4⋅σₒ    4⋅σₘᵤ    2⋅σₘᵤ    2⋅σₒ    8⋅σₒ    8⋅σₘᵤ    2⋅σₘᵤ    2\n",
       "\n",
       "           2       2 \n",
       "χ⋅μₒ    μₘᵤ      μₒ  \n",
       "──── + ────── + ─────\n",
       "   2        2       2\n",
       "⋅σₒ    2⋅σₘᵤ    2⋅σₒ "
      ]
     },
     "execution_count": 321,
     "metadata": {},
     "output_type": "execute_result"
    }
   ],
   "source": [
    "sym.expand(arg1_eq.subs({delo:delo_eq, delm:delm_eq}))\n"
   ]
  },
  {
   "cell_type": "code",
   "execution_count": 330,
   "metadata": {},
   "outputs": [
    {
     "data": {
      "image/png": "[encoded data removed]",
      "text/latex": [
       "$$\\frac{1}{8 \\sigma_{\\mu}^{2} \\sigma_{o}^{2} \\left(\\sigma_{\\mu}^{2} + \\sigma_{o}^{2}\\right)} \\left(\\Delta \\left(\\sigma_{\\mu}^{2} + \\sigma_{o}^{2}\\right) + \\chi \\left(\\sigma_{\\mu}^{2} - \\sigma_{o}^{2}\\right) + 2 \\mu_{\\mu} \\sigma_{o}^{2} - 2 \\mu_{o} \\sigma_{\\mu}^{2}\\right)^{2}$$"
      ],
      "text/plain": [
       "                                                         2\n",
       "⎛  ⎛   2     2⎞     ⎛   2     2⎞           2           2⎞ \n",
       "⎝Δ⋅⎝σₘᵤ  + σₒ ⎠ + χ⋅⎝σₘᵤ  - σₒ ⎠ + 2⋅μₘᵤ⋅σₒ  - 2⋅μₒ⋅σₘᵤ ⎠ \n",
       "──────────────────────────────────────────────────────────\n",
       "                      2   2 ⎛   2     2⎞                  \n",
       "                 8⋅σₘᵤ ⋅σₒ ⋅⎝σₘᵤ  + σₒ ⎠                  "
      ]
     },
     "execution_count": 330,
     "metadata": {},
     "output_type": "execute_result"
    }
   ],
   "source": [
    "\n",
    "sym.simplify((a_sol*Del+b_sol*chi-c_sol)**2)#+(a_sol*Del+b_sol*chi-c_sol)**2))#-sym.expand(arg1_eq.subs({delo:delo_eq, delm:delm_eq}))"
   ]
  },
  {
   "cell_type": "code",
   "execution_count": 378,
   "metadata": {},
   "outputs": [
    {
     "data": {
      "image/png": "[encoded data removed]",
      "text/latex": [
       "$$\\left ( \\sigma_{\\mu}^{2} + \\sigma_{o}^{2}, \\quad \\mu_{\\mu} + \\mu_{o}, \\quad \\frac{4 \\sigma_{\\mu}^{2} \\sigma_{o}^{2}}{\\sigma_{\\mu}^{2} + \\sigma_{o}^{2}}, \\quad \\frac{1}{\\sigma_{\\mu}^{2} + \\sigma_{o}^{2}} \\left(- \\sigma_{\\mu}^{2} \\left(\\chi - 2 \\mu_{o}\\right) + \\sigma_{o}^{2} \\left(\\chi - 2 \\mu_{\\mu}\\right)\\right)\\right )$$"
      ],
      "text/plain": [
       "⎛                           2   2       2                2            ⎞\n",
       "⎜   2     2            4⋅σₘᵤ ⋅σₒ   - σₘᵤ ⋅(χ - 2⋅μₒ) + σₒ ⋅(χ - 2⋅μₘᵤ)⎟\n",
       "⎜σₘᵤ  + σₒ , μₘᵤ + μₒ, ──────────, ───────────────────────────────────⎟\n",
       "⎜                         2     2                  2     2            ⎟\n",
       "⎝                      σₘᵤ  + σₒ                σₘᵤ  + σₒ             ⎠"
      ]
     },
     "execution_count": 378,
     "metadata": {},
     "output_type": "execute_result"
    }
   ],
   "source": [
    "sig_chi_sq=(sigm**2+sigo**2)\n",
    "mu_chi_eq=(mum+muo)\n",
    "\n",
    "sig_Del_sq=4*sigo**2*sigm**2/(sigo**2+sigm**2)\n",
    "mu_Del_eq=1/(sigo**2+sigm**2)*(sigo**2*(chi-2*mum)-sigm**2*(chi-2*muo))\n",
    "sig_chi_sq, mu_chi_eq, sig_Del_sq, mu_Del_eq"
   ]
  },
  {
   "cell_type": "code",
   "execution_count": 338,
   "metadata": {},
   "outputs": [
    {
     "data": {
      "image/png": "[encoded data removed]",
      "text/latex": [
       "$$0$$"
      ],
      "text/plain": [
       "0"
      ]
     },
     "execution_count": 338,
     "metadata": {},
     "output_type": "execute_result"
    }
   ],
   "source": [
    "sym.simplify((chi-mu_chi)**2/(2*sig_chi_sq)+(Del-mu_Del)**2/(2*sig_Del_sq)-arg2_eq)"
   ]
  },
  {
   "cell_type": "code",
   "execution_count": 363,
   "metadata": {},
   "outputs": [
    {
     "data": {
      "image/png": "[encoded data removed]",
      "text/latex": [
       "$$\\left ( \\frac{\\left(\\delta_{o} - \\mu_{o}\\right)^{2}}{2 \\sigma_{o}^{2}} + \\frac{\\left(\\delta_{\\mu} - \\mu_{\\mu}\\right)^{2}}{2 \\sigma_{\\mu}^{2}}, \\quad \\frac{1}{8 \\sigma_{o}^{2}} \\left(\\Delta + \\chi - 2 \\mu_{o}\\right)^{2} + \\frac{1}{8 \\sigma_{\\mu}^{2}} \\left(\\Delta - \\chi + 2 \\mu_{\\mu}\\right)^{2}\\right )$$"
      ],
      "text/plain": [
       "⎛         2              2                2                  2⎞\n",
       "⎜(δₒ - μₒ)    (δₘᵤ - μₘᵤ)   (Δ + χ - 2⋅μₒ)    (Δ - χ + 2⋅μₘᵤ) ⎟\n",
       "⎜────────── + ────────────, ─────────────── + ────────────────⎟\n",
       "⎜      2              2              2                  2     ⎟\n",
       "⎝  2⋅σₒ          2⋅σₘᵤ           8⋅σₒ              8⋅σₘᵤ      ⎠"
      ]
     },
     "execution_count": 363,
     "metadata": {},
     "output_type": "execute_result"
    }
   ],
   "source": [
    "arg1_eq,arg2_eq"
   ]
  },
  {
   "cell_type": "code",
   "execution_count": 366,
   "metadata": {},
   "outputs": [
    {
     "data": {
      "image/png": "[encoded data removed]",
      "text/latex": [
       "$$\\left ( \\frac{\\Delta}{2} + \\frac{\\chi}{2}, \\quad - \\frac{\\Delta}{2} + \\frac{\\chi}{2}, \\quad \\Delta, \\quad \\chi\\right )$$"
      ],
      "text/plain": [
       "⎛Δ   χ    Δ   χ      ⎞\n",
       "⎜─ + ─, - ─ + ─, Δ, χ⎟\n",
       "⎝2   2    2   2      ⎠"
      ]
     },
     "execution_count": 366,
     "metadata": {},
     "output_type": "execute_result"
    }
   ],
   "source": [
    "delo_eq, delm_eq, delo_eq-delm_eq, delo_eq+delm_eq"
   ]
  },
  {
   "cell_type": "code",
   "execution_count": 368,
   "metadata": {},
   "outputs": [
    {
     "data": {
      "image/png": "[encoded data removed]",
      "text/latex": [
       "$$0$$"
      ],
      "text/plain": [
       "0"
      ]
     },
     "execution_count": 368,
     "metadata": {},
     "output_type": "execute_result"
    }
   ],
   "source": [
    "sym.simplify(arg1_eq.subs({delo:delo_eq,delm:delm_eq})-arg2_eq)"
   ]
  },
  {
   "cell_type": "code",
   "execution_count": 361,
   "metadata": {
    "collapsed": true
   },
   "outputs": [
    {
     "ename": "KeyboardInterrupt",
     "evalue": "",
     "output_type": "error",
     "traceback": [
      "\u001b[0;31m---------------------------------------------------------------------------\u001b[0m",
      "\u001b[0;31mKeyboardInterrupt\u001b[0m                         Traceback (most recent call last)",
      "\u001b[0;32m<ipython-input-361-bfb34d2f5af6>\u001b[0m in \u001b[0;36m<module>\u001b[0;34m()\u001b[0m\n\u001b[0;32m----> 1\u001b[0;31m \u001b[0msym\u001b[0m\u001b[0;34m.\u001b[0m\u001b[0mintegrate\u001b[0m\u001b[0;34m(\u001b[0m\u001b[0msym\u001b[0m\u001b[0;34m.\u001b[0m\u001b[0mexp\u001b[0m\u001b[0;34m(\u001b[0m\u001b[0;34m-\u001b[0m\u001b[0;34m(\u001b[0m\u001b[0mchi\u001b[0m\u001b[0;34m-\u001b[0m\u001b[0mmu_chi\u001b[0m\u001b[0;34m)\u001b[0m\u001b[0;34m**\u001b[0m\u001b[0;36m2\u001b[0m\u001b[0;34m/\u001b[0m\u001b[0;34m(\u001b[0m\u001b[0;36m2\u001b[0m\u001b[0;34m*\u001b[0m\u001b[0msig_chi_sq\u001b[0m\u001b[0;34m)\u001b[0m\u001b[0;34m-\u001b[0m\u001b[0;34m(\u001b[0m\u001b[0mDel\u001b[0m\u001b[0;34m-\u001b[0m\u001b[0mmu_Del\u001b[0m\u001b[0;34m)\u001b[0m\u001b[0;34m**\u001b[0m\u001b[0;36m2\u001b[0m\u001b[0;34m/\u001b[0m\u001b[0;34m(\u001b[0m\u001b[0;36m2\u001b[0m\u001b[0;34m*\u001b[0m\u001b[0msig_Del_sq\u001b[0m\u001b[0;34m)\u001b[0m\u001b[0;34m)\u001b[0m\u001b[0;34m,\u001b[0m\u001b[0mchi\u001b[0m\u001b[0;34m)\u001b[0m\u001b[0;34m\u001b[0m\u001b[0m\n\u001b[0m",
      "\u001b[0;32m~/anaconda3/lib/python3.6/site-packages/sympy/integrals/integrals.py\u001b[0m in \u001b[0;36mintegrate\u001b[0;34m(*args, **kwargs)\u001b[0m\n\u001b[1;32m   1293\u001b[0m     \u001b[0;32mif\u001b[0m \u001b[0misinstance\u001b[0m\u001b[0;34m(\u001b[0m\u001b[0mintegral\u001b[0m\u001b[0;34m,\u001b[0m \u001b[0mIntegral\u001b[0m\u001b[0;34m)\u001b[0m\u001b[0;34m:\u001b[0m\u001b[0;34m\u001b[0m\u001b[0m\n\u001b[1;32m   1294\u001b[0m         return integral.doit(deep=False, meijerg=meijerg, conds=conds,\n\u001b[0;32m-> 1295\u001b[0;31m                              risch=risch, manual=manual)\n\u001b[0m\u001b[1;32m   1296\u001b[0m     \u001b[0;32melse\u001b[0m\u001b[0;34m:\u001b[0m\u001b[0;34m\u001b[0m\u001b[0m\n\u001b[1;32m   1297\u001b[0m         \u001b[0;32mreturn\u001b[0m \u001b[0mintegral\u001b[0m\u001b[0;34m\u001b[0m\u001b[0m\n",
      "\u001b[0;32m~/anaconda3/lib/python3.6/site-packages/sympy/integrals/integrals.py\u001b[0m in \u001b[0;36mdoit\u001b[0;34m(self, **hints)\u001b[0m\n\u001b[1;32m    484\u001b[0m                     \u001b[0mfunction\u001b[0m\u001b[0;34m,\u001b[0m \u001b[0mxab\u001b[0m\u001b[0;34m[\u001b[0m\u001b[0;36m0\u001b[0m\u001b[0;34m]\u001b[0m\u001b[0;34m,\u001b[0m\u001b[0;34m\u001b[0m\u001b[0m\n\u001b[1;32m    485\u001b[0m                     \u001b[0mmeijerg\u001b[0m\u001b[0;34m=\u001b[0m\u001b[0mmeijerg1\u001b[0m\u001b[0;34m,\u001b[0m \u001b[0mrisch\u001b[0m\u001b[0;34m=\u001b[0m\u001b[0mrisch\u001b[0m\u001b[0;34m,\u001b[0m \u001b[0mmanual\u001b[0m\u001b[0;34m=\u001b[0m\u001b[0mmanual\u001b[0m\u001b[0;34m,\u001b[0m\u001b[0;34m\u001b[0m\u001b[0m\n\u001b[0;32m--> 486\u001b[0;31m                     conds=conds)\n\u001b[0m\u001b[1;32m    487\u001b[0m                 \u001b[0;32mif\u001b[0m \u001b[0mantideriv\u001b[0m \u001b[0;32mis\u001b[0m \u001b[0;32mNone\u001b[0m \u001b[0;32mand\u001b[0m \u001b[0mmeijerg1\u001b[0m \u001b[0;32mis\u001b[0m \u001b[0;32mTrue\u001b[0m\u001b[0;34m:\u001b[0m\u001b[0;34m\u001b[0m\u001b[0m\n\u001b[1;32m    488\u001b[0m                     \u001b[0mret\u001b[0m \u001b[0;34m=\u001b[0m \u001b[0mtry_meijerg\u001b[0m\u001b[0;34m(\u001b[0m\u001b[0mfunction\u001b[0m\u001b[0;34m,\u001b[0m \u001b[0mxab\u001b[0m\u001b[0;34m)\u001b[0m\u001b[0;34m\u001b[0m\u001b[0m\n",
      "\u001b[0;32m~/anaconda3/lib/python3.6/site-packages/sympy/integrals/integrals.py\u001b[0m in \u001b[0;36m_eval_integral\u001b[0;34m(self, f, x, meijerg, risch, manual, conds)\u001b[0m\n\u001b[1;32m    784\u001b[0m                 \u001b[0;32mif\u001b[0m \u001b[0mi\u001b[0m\u001b[0;34m:\u001b[0m\u001b[0;34m\u001b[0m\u001b[0m\n\u001b[1;32m    785\u001b[0m                     \u001b[0;31m# There was a nonelementary integral. Try integrating it.\u001b[0m\u001b[0;34m\u001b[0m\u001b[0;34m\u001b[0m\u001b[0m\n\u001b[0;32m--> 786\u001b[0;31m                     \u001b[0;32mreturn\u001b[0m \u001b[0mresult\u001b[0m \u001b[0;34m+\u001b[0m \u001b[0mi\u001b[0m\u001b[0;34m.\u001b[0m\u001b[0mdoit\u001b[0m\u001b[0;34m(\u001b[0m\u001b[0mrisch\u001b[0m\u001b[0;34m=\u001b[0m\u001b[0;32mFalse\u001b[0m\u001b[0;34m)\u001b[0m\u001b[0;34m\u001b[0m\u001b[0m\n\u001b[0m\u001b[1;32m    787\u001b[0m                 \u001b[0;32melse\u001b[0m\u001b[0;34m:\u001b[0m\u001b[0;34m\u001b[0m\u001b[0m\n\u001b[1;32m    788\u001b[0m                     \u001b[0;32mreturn\u001b[0m \u001b[0mresult\u001b[0m\u001b[0;34m\u001b[0m\u001b[0m\n",
      "\u001b[0;32m~/anaconda3/lib/python3.6/site-packages/sympy/integrals/integrals.py\u001b[0m in \u001b[0;36mdoit\u001b[0;34m(self, **hints)\u001b[0m\n\u001b[1;32m    484\u001b[0m                     \u001b[0mfunction\u001b[0m\u001b[0;34m,\u001b[0m \u001b[0mxab\u001b[0m\u001b[0;34m[\u001b[0m\u001b[0;36m0\u001b[0m\u001b[0;34m]\u001b[0m\u001b[0;34m,\u001b[0m\u001b[0;34m\u001b[0m\u001b[0m\n\u001b[1;32m    485\u001b[0m                     \u001b[0mmeijerg\u001b[0m\u001b[0;34m=\u001b[0m\u001b[0mmeijerg1\u001b[0m\u001b[0;34m,\u001b[0m \u001b[0mrisch\u001b[0m\u001b[0;34m=\u001b[0m\u001b[0mrisch\u001b[0m\u001b[0;34m,\u001b[0m \u001b[0mmanual\u001b[0m\u001b[0;34m=\u001b[0m\u001b[0mmanual\u001b[0m\u001b[0;34m,\u001b[0m\u001b[0;34m\u001b[0m\u001b[0m\n\u001b[0;32m--> 486\u001b[0;31m                     conds=conds)\n\u001b[0m\u001b[1;32m    487\u001b[0m                 \u001b[0;32mif\u001b[0m \u001b[0mantideriv\u001b[0m \u001b[0;32mis\u001b[0m \u001b[0;32mNone\u001b[0m \u001b[0;32mand\u001b[0m \u001b[0mmeijerg1\u001b[0m \u001b[0;32mis\u001b[0m \u001b[0;32mTrue\u001b[0m\u001b[0;34m:\u001b[0m\u001b[0;34m\u001b[0m\u001b[0m\n\u001b[1;32m    488\u001b[0m                     \u001b[0mret\u001b[0m \u001b[0;34m=\u001b[0m \u001b[0mtry_meijerg\u001b[0m\u001b[0;34m(\u001b[0m\u001b[0mfunction\u001b[0m\u001b[0;34m,\u001b[0m \u001b[0mxab\u001b[0m\u001b[0;34m)\u001b[0m\u001b[0;34m\u001b[0m\u001b[0m\n",
      "\u001b[0;32m~/anaconda3/lib/python3.6/site-packages/sympy/integrals/integrals.py\u001b[0m in \u001b[0;36m_eval_integral\u001b[0;34m(self, f, x, meijerg, risch, manual, conds)\u001b[0m\n\u001b[1;32m    892\u001b[0m                 \u001b[0;32mtry\u001b[0m\u001b[0;34m:\u001b[0m\u001b[0;34m\u001b[0m\u001b[0m\n\u001b[1;32m    893\u001b[0m                     \u001b[0;32mif\u001b[0m \u001b[0mconds\u001b[0m \u001b[0;34m==\u001b[0m \u001b[0;34m'piecewise'\u001b[0m\u001b[0;34m:\u001b[0m\u001b[0;34m\u001b[0m\u001b[0m\n\u001b[0;32m--> 894\u001b[0;31m                         \u001b[0mh\u001b[0m \u001b[0;34m=\u001b[0m \u001b[0mheurisch_wrapper\u001b[0m\u001b[0;34m(\u001b[0m\u001b[0mg\u001b[0m\u001b[0;34m,\u001b[0m \u001b[0mx\u001b[0m\u001b[0;34m,\u001b[0m \u001b[0mhints\u001b[0m\u001b[0;34m=\u001b[0m\u001b[0;34m[\u001b[0m\u001b[0;34m]\u001b[0m\u001b[0;34m)\u001b[0m\u001b[0;34m\u001b[0m\u001b[0m\n\u001b[0m\u001b[1;32m    895\u001b[0m                     \u001b[0;32melse\u001b[0m\u001b[0;34m:\u001b[0m\u001b[0;34m\u001b[0m\u001b[0m\n\u001b[1;32m    896\u001b[0m                         \u001b[0mh\u001b[0m \u001b[0;34m=\u001b[0m \u001b[0mheurisch\u001b[0m\u001b[0;34m(\u001b[0m\u001b[0mg\u001b[0m\u001b[0;34m,\u001b[0m \u001b[0mx\u001b[0m\u001b[0;34m,\u001b[0m \u001b[0mhints\u001b[0m\u001b[0;34m=\u001b[0m\u001b[0;34m[\u001b[0m\u001b[0;34m]\u001b[0m\u001b[0;34m)\u001b[0m\u001b[0;34m\u001b[0m\u001b[0m\n",
      "\u001b[0;32m~/anaconda3/lib/python3.6/site-packages/sympy/integrals/heurisch.py\u001b[0m in \u001b[0;36mheurisch_wrapper\u001b[0;34m(f, x, rewrite, hints, mappings, retries, degree_offset, unnecessary_permutations)\u001b[0m\n\u001b[1;32m    128\u001b[0m \u001b[0;34m\u001b[0m\u001b[0m\n\u001b[1;32m    129\u001b[0m     res = heurisch(f, x, rewrite, hints, mappings, retries, degree_offset,\n\u001b[0;32m--> 130\u001b[0;31m                    unnecessary_permutations)\n\u001b[0m\u001b[1;32m    131\u001b[0m     \u001b[0;32mif\u001b[0m \u001b[0;32mnot\u001b[0m \u001b[0misinstance\u001b[0m\u001b[0;34m(\u001b[0m\u001b[0mres\u001b[0m\u001b[0;34m,\u001b[0m \u001b[0mBasic\u001b[0m\u001b[0;34m)\u001b[0m\u001b[0;34m:\u001b[0m\u001b[0;34m\u001b[0m\u001b[0m\n\u001b[1;32m    132\u001b[0m         \u001b[0;32mreturn\u001b[0m \u001b[0mres\u001b[0m\u001b[0;34m\u001b[0m\u001b[0m\n",
      "\u001b[0;32m~/anaconda3/lib/python3.6/site-packages/sympy/integrals/heurisch.py\u001b[0m in \u001b[0;36mheurisch\u001b[0;34m(f, x, rewrite, hints, mappings, retries, degree_offset, unnecessary_permutations)\u001b[0m\n\u001b[1;32m    673\u001b[0m     \u001b[0;32melse\u001b[0m\u001b[0;34m:\u001b[0m\u001b[0;34m\u001b[0m\u001b[0m\n\u001b[1;32m    674\u001b[0m         \u001b[0;32mif\u001b[0m \u001b[0mretries\u001b[0m \u001b[0;34m>=\u001b[0m \u001b[0;36m0\u001b[0m\u001b[0;34m:\u001b[0m\u001b[0;34m\u001b[0m\u001b[0m\n\u001b[0;32m--> 675\u001b[0;31m             \u001b[0mresult\u001b[0m \u001b[0;34m=\u001b[0m \u001b[0mheurisch\u001b[0m\u001b[0;34m(\u001b[0m\u001b[0mf\u001b[0m\u001b[0;34m,\u001b[0m \u001b[0mx\u001b[0m\u001b[0;34m,\u001b[0m \u001b[0mmappings\u001b[0m\u001b[0;34m=\u001b[0m\u001b[0mmappings\u001b[0m\u001b[0;34m,\u001b[0m \u001b[0mrewrite\u001b[0m\u001b[0;34m=\u001b[0m\u001b[0mrewrite\u001b[0m\u001b[0;34m,\u001b[0m \u001b[0mhints\u001b[0m\u001b[0;34m=\u001b[0m\u001b[0mhints\u001b[0m\u001b[0;34m,\u001b[0m \u001b[0mretries\u001b[0m\u001b[0;34m=\u001b[0m\u001b[0mretries\u001b[0m \u001b[0;34m-\u001b[0m \u001b[0;36m1\u001b[0m\u001b[0;34m,\u001b[0m \u001b[0munnecessary_permutations\u001b[0m\u001b[0;34m=\u001b[0m\u001b[0munnecessary_permutations\u001b[0m\u001b[0;34m)\u001b[0m\u001b[0;34m\u001b[0m\u001b[0m\n\u001b[0m\u001b[1;32m    676\u001b[0m \u001b[0;34m\u001b[0m\u001b[0m\n\u001b[1;32m    677\u001b[0m             \u001b[0;32mif\u001b[0m \u001b[0mresult\u001b[0m \u001b[0;32mis\u001b[0m \u001b[0;32mnot\u001b[0m \u001b[0;32mNone\u001b[0m\u001b[0;34m:\u001b[0m\u001b[0;34m\u001b[0m\u001b[0m\n",
      "\u001b[0;32m~/anaconda3/lib/python3.6/site-packages/sympy/integrals/heurisch.py\u001b[0m in \u001b[0;36mheurisch\u001b[0;34m(f, x, rewrite, hints, mappings, retries, degree_offset, unnecessary_permutations)\u001b[0m\n\u001b[1;32m    673\u001b[0m     \u001b[0;32melse\u001b[0m\u001b[0;34m:\u001b[0m\u001b[0;34m\u001b[0m\u001b[0m\n\u001b[1;32m    674\u001b[0m         \u001b[0;32mif\u001b[0m \u001b[0mretries\u001b[0m \u001b[0;34m>=\u001b[0m \u001b[0;36m0\u001b[0m\u001b[0;34m:\u001b[0m\u001b[0;34m\u001b[0m\u001b[0m\n\u001b[0;32m--> 675\u001b[0;31m             \u001b[0mresult\u001b[0m \u001b[0;34m=\u001b[0m \u001b[0mheurisch\u001b[0m\u001b[0;34m(\u001b[0m\u001b[0mf\u001b[0m\u001b[0;34m,\u001b[0m \u001b[0mx\u001b[0m\u001b[0;34m,\u001b[0m \u001b[0mmappings\u001b[0m\u001b[0;34m=\u001b[0m\u001b[0mmappings\u001b[0m\u001b[0;34m,\u001b[0m \u001b[0mrewrite\u001b[0m\u001b[0;34m=\u001b[0m\u001b[0mrewrite\u001b[0m\u001b[0;34m,\u001b[0m \u001b[0mhints\u001b[0m\u001b[0;34m=\u001b[0m\u001b[0mhints\u001b[0m\u001b[0;34m,\u001b[0m \u001b[0mretries\u001b[0m\u001b[0;34m=\u001b[0m\u001b[0mretries\u001b[0m \u001b[0;34m-\u001b[0m \u001b[0;36m1\u001b[0m\u001b[0;34m,\u001b[0m \u001b[0munnecessary_permutations\u001b[0m\u001b[0;34m=\u001b[0m\u001b[0munnecessary_permutations\u001b[0m\u001b[0;34m)\u001b[0m\u001b[0;34m\u001b[0m\u001b[0m\n\u001b[0m\u001b[1;32m    676\u001b[0m \u001b[0;34m\u001b[0m\u001b[0m\n\u001b[1;32m    677\u001b[0m             \u001b[0;32mif\u001b[0m \u001b[0mresult\u001b[0m \u001b[0;32mis\u001b[0m \u001b[0;32mnot\u001b[0m \u001b[0;32mNone\u001b[0m\u001b[0;34m:\u001b[0m\u001b[0;34m\u001b[0m\u001b[0m\n",
      "\u001b[0;32m~/anaconda3/lib/python3.6/site-packages/sympy/integrals/heurisch.py\u001b[0m in \u001b[0;36mheurisch\u001b[0;34m(f, x, rewrite, hints, mappings, retries, degree_offset, unnecessary_permutations)\u001b[0m\n\u001b[1;32m    656\u001b[0m \u001b[0;34m\u001b[0m\u001b[0m\n\u001b[1;32m    657\u001b[0m     \u001b[0;32mif\u001b[0m \u001b[0;32mnot\u001b[0m \u001b[0;34m(\u001b[0m\u001b[0mF\u001b[0m\u001b[0;34m.\u001b[0m\u001b[0mfree_symbols\u001b[0m \u001b[0;34m-\u001b[0m \u001b[0mset\u001b[0m\u001b[0;34m(\u001b[0m\u001b[0mV\u001b[0m\u001b[0;34m)\u001b[0m\u001b[0;34m)\u001b[0m\u001b[0;34m:\u001b[0m\u001b[0;34m\u001b[0m\u001b[0m\n\u001b[0;32m--> 658\u001b[0;31m         \u001b[0msolution\u001b[0m \u001b[0;34m=\u001b[0m \u001b[0m_integrate\u001b[0m\u001b[0;34m(\u001b[0m\u001b[0;34m'Q'\u001b[0m\u001b[0;34m)\u001b[0m\u001b[0;34m\u001b[0m\u001b[0m\n\u001b[0m\u001b[1;32m    659\u001b[0m \u001b[0;34m\u001b[0m\u001b[0m\n\u001b[1;32m    660\u001b[0m         \u001b[0;32mif\u001b[0m \u001b[0msolution\u001b[0m \u001b[0;32mis\u001b[0m \u001b[0;32mNone\u001b[0m\u001b[0;34m:\u001b[0m\u001b[0;34m\u001b[0m\u001b[0m\n",
      "\u001b[0;32m~/anaconda3/lib/python3.6/site-packages/sympy/integrals/heurisch.py\u001b[0m in \u001b[0;36m_integrate\u001b[0;34m(field)\u001b[0m\n\u001b[1;32m    644\u001b[0m         \u001b[0mring\u001b[0m \u001b[0;34m=\u001b[0m \u001b[0mPolyRing\u001b[0m\u001b[0;34m(\u001b[0m\u001b[0mV\u001b[0m\u001b[0;34m,\u001b[0m \u001b[0mcoeff_ring\u001b[0m\u001b[0;34m)\u001b[0m\u001b[0;34m\u001b[0m\u001b[0m\n\u001b[1;32m    645\u001b[0m         \u001b[0;32mtry\u001b[0m\u001b[0;34m:\u001b[0m\u001b[0;34m\u001b[0m\u001b[0m\n\u001b[0;32m--> 646\u001b[0;31m             \u001b[0mnumer\u001b[0m \u001b[0;34m=\u001b[0m \u001b[0mring\u001b[0m\u001b[0;34m.\u001b[0m\u001b[0mfrom_expr\u001b[0m\u001b[0;34m(\u001b[0m\u001b[0mraw_numer\u001b[0m\u001b[0;34m)\u001b[0m\u001b[0;34m\u001b[0m\u001b[0m\n\u001b[0m\u001b[1;32m    647\u001b[0m         \u001b[0;32mexcept\u001b[0m \u001b[0mValueError\u001b[0m\u001b[0;34m:\u001b[0m\u001b[0;34m\u001b[0m\u001b[0m\n\u001b[1;32m    648\u001b[0m             \u001b[0;32mraise\u001b[0m \u001b[0mPolynomialError\u001b[0m\u001b[0;34m\u001b[0m\u001b[0m\n",
      "\u001b[0;32m~/anaconda3/lib/python3.6/site-packages/sympy/polys/rings.py\u001b[0m in \u001b[0;36mfrom_expr\u001b[0;34m(self, expr)\u001b[0m\n\u001b[1;32m    383\u001b[0m \u001b[0;34m\u001b[0m\u001b[0m\n\u001b[1;32m    384\u001b[0m         \u001b[0;32mtry\u001b[0m\u001b[0;34m:\u001b[0m\u001b[0;34m\u001b[0m\u001b[0m\n\u001b[0;32m--> 385\u001b[0;31m             \u001b[0mpoly\u001b[0m \u001b[0;34m=\u001b[0m \u001b[0mself\u001b[0m\u001b[0;34m.\u001b[0m\u001b[0m_rebuild_expr\u001b[0m\u001b[0;34m(\u001b[0m\u001b[0mexpr\u001b[0m\u001b[0;34m,\u001b[0m \u001b[0mmapping\u001b[0m\u001b[0;34m)\u001b[0m\u001b[0;34m\u001b[0m\u001b[0m\n\u001b[0m\u001b[1;32m    386\u001b[0m         \u001b[0;32mexcept\u001b[0m \u001b[0mCoercionFailed\u001b[0m\u001b[0;34m:\u001b[0m\u001b[0;34m\u001b[0m\u001b[0m\n\u001b[1;32m    387\u001b[0m             \u001b[0;32mraise\u001b[0m \u001b[0mValueError\u001b[0m\u001b[0;34m(\u001b[0m\u001b[0;34m\"expected an expression convertible to a polynomial in %s, got %s\"\u001b[0m \u001b[0;34m%\u001b[0m \u001b[0;34m(\u001b[0m\u001b[0mself\u001b[0m\u001b[0;34m,\u001b[0m \u001b[0mexpr\u001b[0m\u001b[0;34m)\u001b[0m\u001b[0;34m)\u001b[0m\u001b[0;34m\u001b[0m\u001b[0m\n",
      "\u001b[0;32m~/anaconda3/lib/python3.6/site-packages/sympy/polys/rings.py\u001b[0m in \u001b[0;36m_rebuild_expr\u001b[0;34m(self, expr, mapping)\u001b[0m\n\u001b[1;32m    377\u001b[0m                 \u001b[0;32mreturn\u001b[0m \u001b[0mdomain\u001b[0m\u001b[0;34m.\u001b[0m\u001b[0mconvert\u001b[0m\u001b[0;34m(\u001b[0m\u001b[0mexpr\u001b[0m\u001b[0;34m)\u001b[0m\u001b[0;34m\u001b[0m\u001b[0m\n\u001b[1;32m    378\u001b[0m \u001b[0;34m\u001b[0m\u001b[0m\n\u001b[0;32m--> 379\u001b[0;31m         \u001b[0;32mreturn\u001b[0m \u001b[0m_rebuild\u001b[0m\u001b[0;34m(\u001b[0m\u001b[0msympify\u001b[0m\u001b[0;34m(\u001b[0m\u001b[0mexpr\u001b[0m\u001b[0;34m)\u001b[0m\u001b[0;34m)\u001b[0m\u001b[0;34m\u001b[0m\u001b[0m\n\u001b[0m\u001b[1;32m    380\u001b[0m \u001b[0;34m\u001b[0m\u001b[0m\n\u001b[1;32m    381\u001b[0m     \u001b[0;32mdef\u001b[0m \u001b[0mfrom_expr\u001b[0m\u001b[0;34m(\u001b[0m\u001b[0mself\u001b[0m\u001b[0;34m,\u001b[0m \u001b[0mexpr\u001b[0m\u001b[0;34m)\u001b[0m\u001b[0;34m:\u001b[0m\u001b[0;34m\u001b[0m\u001b[0m\n",
      "\u001b[0;32m~/anaconda3/lib/python3.6/site-packages/sympy/polys/rings.py\u001b[0m in \u001b[0;36m_rebuild\u001b[0;34m(expr)\u001b[0m\n\u001b[1;32m    369\u001b[0m                 \u001b[0;32mreturn\u001b[0m \u001b[0mgenerator\u001b[0m\u001b[0;34m\u001b[0m\u001b[0m\n\u001b[1;32m    370\u001b[0m             \u001b[0;32melif\u001b[0m \u001b[0mexpr\u001b[0m\u001b[0;34m.\u001b[0m\u001b[0mis_Add\u001b[0m\u001b[0;34m:\u001b[0m\u001b[0;34m\u001b[0m\u001b[0m\n\u001b[0;32m--> 371\u001b[0;31m                 \u001b[0;32mreturn\u001b[0m \u001b[0mreduce\u001b[0m\u001b[0;34m(\u001b[0m\u001b[0madd\u001b[0m\u001b[0;34m,\u001b[0m \u001b[0mlist\u001b[0m\u001b[0;34m(\u001b[0m\u001b[0mmap\u001b[0m\u001b[0;34m(\u001b[0m\u001b[0m_rebuild\u001b[0m\u001b[0;34m,\u001b[0m \u001b[0mexpr\u001b[0m\u001b[0;34m.\u001b[0m\u001b[0margs\u001b[0m\u001b[0;34m)\u001b[0m\u001b[0;34m)\u001b[0m\u001b[0;34m)\u001b[0m\u001b[0;34m\u001b[0m\u001b[0m\n\u001b[0m\u001b[1;32m    372\u001b[0m             \u001b[0;32melif\u001b[0m \u001b[0mexpr\u001b[0m\u001b[0;34m.\u001b[0m\u001b[0mis_Mul\u001b[0m\u001b[0;34m:\u001b[0m\u001b[0;34m\u001b[0m\u001b[0m\n\u001b[1;32m    373\u001b[0m                 \u001b[0;32mreturn\u001b[0m \u001b[0mreduce\u001b[0m\u001b[0;34m(\u001b[0m\u001b[0mmul\u001b[0m\u001b[0;34m,\u001b[0m \u001b[0mlist\u001b[0m\u001b[0;34m(\u001b[0m\u001b[0mmap\u001b[0m\u001b[0;34m(\u001b[0m\u001b[0m_rebuild\u001b[0m\u001b[0;34m,\u001b[0m \u001b[0mexpr\u001b[0m\u001b[0;34m.\u001b[0m\u001b[0margs\u001b[0m\u001b[0;34m)\u001b[0m\u001b[0;34m)\u001b[0m\u001b[0;34m)\u001b[0m\u001b[0;34m\u001b[0m\u001b[0m\n",
      "\u001b[0;32m~/anaconda3/lib/python3.6/site-packages/sympy/polys/rings.py\u001b[0m in \u001b[0;36m_rebuild\u001b[0;34m(expr)\u001b[0m\n\u001b[1;32m    371\u001b[0m                 \u001b[0;32mreturn\u001b[0m \u001b[0mreduce\u001b[0m\u001b[0;34m(\u001b[0m\u001b[0madd\u001b[0m\u001b[0;34m,\u001b[0m \u001b[0mlist\u001b[0m\u001b[0;34m(\u001b[0m\u001b[0mmap\u001b[0m\u001b[0;34m(\u001b[0m\u001b[0m_rebuild\u001b[0m\u001b[0;34m,\u001b[0m \u001b[0mexpr\u001b[0m\u001b[0;34m.\u001b[0m\u001b[0margs\u001b[0m\u001b[0;34m)\u001b[0m\u001b[0;34m)\u001b[0m\u001b[0;34m)\u001b[0m\u001b[0;34m\u001b[0m\u001b[0m\n\u001b[1;32m    372\u001b[0m             \u001b[0;32melif\u001b[0m \u001b[0mexpr\u001b[0m\u001b[0;34m.\u001b[0m\u001b[0mis_Mul\u001b[0m\u001b[0;34m:\u001b[0m\u001b[0;34m\u001b[0m\u001b[0m\n\u001b[0;32m--> 373\u001b[0;31m                 \u001b[0;32mreturn\u001b[0m \u001b[0mreduce\u001b[0m\u001b[0;34m(\u001b[0m\u001b[0mmul\u001b[0m\u001b[0;34m,\u001b[0m \u001b[0mlist\u001b[0m\u001b[0;34m(\u001b[0m\u001b[0mmap\u001b[0m\u001b[0;34m(\u001b[0m\u001b[0m_rebuild\u001b[0m\u001b[0;34m,\u001b[0m \u001b[0mexpr\u001b[0m\u001b[0;34m.\u001b[0m\u001b[0margs\u001b[0m\u001b[0;34m)\u001b[0m\u001b[0;34m)\u001b[0m\u001b[0;34m)\u001b[0m\u001b[0;34m\u001b[0m\u001b[0m\n\u001b[0m\u001b[1;32m    374\u001b[0m             \u001b[0;32melif\u001b[0m \u001b[0mexpr\u001b[0m\u001b[0;34m.\u001b[0m\u001b[0mis_Pow\u001b[0m \u001b[0;32mand\u001b[0m \u001b[0mexpr\u001b[0m\u001b[0;34m.\u001b[0m\u001b[0mexp\u001b[0m\u001b[0;34m.\u001b[0m\u001b[0mis_Integer\u001b[0m \u001b[0;32mand\u001b[0m \u001b[0mexpr\u001b[0m\u001b[0;34m.\u001b[0m\u001b[0mexp\u001b[0m \u001b[0;34m>=\u001b[0m \u001b[0;36m0\u001b[0m\u001b[0;34m:\u001b[0m\u001b[0;34m\u001b[0m\u001b[0m\n\u001b[1;32m    375\u001b[0m                 \u001b[0;32mreturn\u001b[0m \u001b[0m_rebuild\u001b[0m\u001b[0;34m(\u001b[0m\u001b[0mexpr\u001b[0m\u001b[0;34m.\u001b[0m\u001b[0mbase\u001b[0m\u001b[0;34m)\u001b[0m\u001b[0;34m**\u001b[0m\u001b[0mint\u001b[0m\u001b[0;34m(\u001b[0m\u001b[0mexpr\u001b[0m\u001b[0;34m.\u001b[0m\u001b[0mexp\u001b[0m\u001b[0;34m)\u001b[0m\u001b[0;34m\u001b[0m\u001b[0m\n",
      "\u001b[0;32m~/anaconda3/lib/python3.6/site-packages/sympy/polys/rings.py\u001b[0m in \u001b[0;36m__mul__\u001b[0;34m(p1, p2)\u001b[0m\n\u001b[1;32m   1104\u001b[0m         \u001b[0;32melse\u001b[0m\u001b[0;34m:\u001b[0m\u001b[0;34m\u001b[0m\u001b[0m\n\u001b[1;32m   1105\u001b[0m             \u001b[0;32mfor\u001b[0m \u001b[0mexp1\u001b[0m\u001b[0;34m,\u001b[0m \u001b[0mv1\u001b[0m \u001b[0;32min\u001b[0m \u001b[0mp1\u001b[0m\u001b[0;34m.\u001b[0m\u001b[0mitems\u001b[0m\u001b[0;34m(\u001b[0m\u001b[0;34m)\u001b[0m\u001b[0;34m:\u001b[0m\u001b[0;34m\u001b[0m\u001b[0m\n\u001b[0;32m-> 1106\u001b[0;31m                 \u001b[0mv\u001b[0m \u001b[0;34m=\u001b[0m \u001b[0mv1\u001b[0m\u001b[0;34m*\u001b[0m\u001b[0mp2\u001b[0m\u001b[0;34m\u001b[0m\u001b[0m\n\u001b[0m\u001b[1;32m   1107\u001b[0m                 \u001b[0;32mif\u001b[0m \u001b[0mv\u001b[0m\u001b[0;34m:\u001b[0m\u001b[0;34m\u001b[0m\u001b[0m\n\u001b[1;32m   1108\u001b[0m                     \u001b[0mp\u001b[0m\u001b[0;34m[\u001b[0m\u001b[0mexp1\u001b[0m\u001b[0;34m]\u001b[0m \u001b[0;34m=\u001b[0m \u001b[0mv\u001b[0m\u001b[0;34m\u001b[0m\u001b[0m\n",
      "\u001b[0;32m~/anaconda3/lib/python3.6/site-packages/sympy/polys/rings.py\u001b[0m in \u001b[0;36m__mul__\u001b[0;34m(p1, p2)\u001b[0m\n\u001b[1;32m   1087\u001b[0m                 \u001b[0;32mfor\u001b[0m \u001b[0mexp2\u001b[0m\u001b[0;34m,\u001b[0m \u001b[0mv2\u001b[0m \u001b[0;32min\u001b[0m \u001b[0mp2it\u001b[0m\u001b[0;34m:\u001b[0m\u001b[0;34m\u001b[0m\u001b[0m\n\u001b[1;32m   1088\u001b[0m                     \u001b[0mexp\u001b[0m \u001b[0;34m=\u001b[0m \u001b[0mmonomial_mul\u001b[0m\u001b[0;34m(\u001b[0m\u001b[0mexp1\u001b[0m\u001b[0;34m,\u001b[0m \u001b[0mexp2\u001b[0m\u001b[0;34m)\u001b[0m\u001b[0;34m\u001b[0m\u001b[0m\n\u001b[0;32m-> 1089\u001b[0;31m                     \u001b[0mp\u001b[0m\u001b[0;34m[\u001b[0m\u001b[0mexp\u001b[0m\u001b[0;34m]\u001b[0m \u001b[0;34m=\u001b[0m \u001b[0mget\u001b[0m\u001b[0;34m(\u001b[0m\u001b[0mexp\u001b[0m\u001b[0;34m,\u001b[0m \u001b[0mzero\u001b[0m\u001b[0;34m)\u001b[0m \u001b[0;34m+\u001b[0m \u001b[0mv1\u001b[0m\u001b[0;34m*\u001b[0m\u001b[0mv2\u001b[0m\u001b[0;34m\u001b[0m\u001b[0m\n\u001b[0m\u001b[1;32m   1090\u001b[0m             \u001b[0mp\u001b[0m\u001b[0;34m.\u001b[0m\u001b[0mstrip_zero\u001b[0m\u001b[0;34m(\u001b[0m\u001b[0;34m)\u001b[0m\u001b[0;34m\u001b[0m\u001b[0m\n\u001b[1;32m   1091\u001b[0m             \u001b[0;32mreturn\u001b[0m \u001b[0mp\u001b[0m\u001b[0;34m\u001b[0m\u001b[0m\n",
      "\u001b[0;32m~/anaconda3/lib/python3.6/site-packages/sympy/polys/domains/expressiondomain.py\u001b[0m in \u001b[0;36m__mul__\u001b[0;34m(f, g)\u001b[0m\n\u001b[1;32m     87\u001b[0m \u001b[0;34m\u001b[0m\u001b[0m\n\u001b[1;32m     88\u001b[0m             \u001b[0;32mif\u001b[0m \u001b[0mg\u001b[0m \u001b[0;32mis\u001b[0m \u001b[0;32mnot\u001b[0m \u001b[0;32mNone\u001b[0m\u001b[0;34m:\u001b[0m\u001b[0;34m\u001b[0m\u001b[0m\n\u001b[0;32m---> 89\u001b[0;31m                 \u001b[0;32mreturn\u001b[0m \u001b[0mf\u001b[0m\u001b[0;34m.\u001b[0m\u001b[0msimplify\u001b[0m\u001b[0;34m(\u001b[0m\u001b[0mf\u001b[0m\u001b[0;34m.\u001b[0m\u001b[0mex\u001b[0m\u001b[0;34m*\u001b[0m\u001b[0mg\u001b[0m\u001b[0;34m.\u001b[0m\u001b[0mex\u001b[0m\u001b[0;34m)\u001b[0m\u001b[0;34m\u001b[0m\u001b[0m\n\u001b[0m\u001b[1;32m     90\u001b[0m             \u001b[0;32melse\u001b[0m\u001b[0;34m:\u001b[0m\u001b[0;34m\u001b[0m\u001b[0m\n\u001b[1;32m     91\u001b[0m                 \u001b[0;32mreturn\u001b[0m \u001b[0mNotImplemented\u001b[0m\u001b[0;34m\u001b[0m\u001b[0m\n",
      "\u001b[0;32m~/anaconda3/lib/python3.6/site-packages/sympy/polys/domains/expressiondomain.py\u001b[0m in \u001b[0;36msimplify\u001b[0;34m(f, ex)\u001b[0m\n\u001b[1;32m     47\u001b[0m \u001b[0;34m\u001b[0m\u001b[0m\n\u001b[1;32m     48\u001b[0m         \u001b[0;32mdef\u001b[0m \u001b[0msimplify\u001b[0m\u001b[0;34m(\u001b[0m\u001b[0mf\u001b[0m\u001b[0;34m,\u001b[0m \u001b[0mex\u001b[0m\u001b[0;34m)\u001b[0m\u001b[0;34m:\u001b[0m\u001b[0;34m\u001b[0m\u001b[0m\n\u001b[0;32m---> 49\u001b[0;31m             \u001b[0;32mreturn\u001b[0m \u001b[0mf\u001b[0m\u001b[0;34m.\u001b[0m\u001b[0m__class__\u001b[0m\u001b[0;34m(\u001b[0m\u001b[0mex\u001b[0m\u001b[0;34m.\u001b[0m\u001b[0mcancel\u001b[0m\u001b[0;34m(\u001b[0m\u001b[0;34m)\u001b[0m\u001b[0;34m)\u001b[0m\u001b[0;34m\u001b[0m\u001b[0m\n\u001b[0m\u001b[1;32m     50\u001b[0m \u001b[0;34m\u001b[0m\u001b[0m\n\u001b[1;32m     51\u001b[0m         \u001b[0;32mdef\u001b[0m \u001b[0m__abs__\u001b[0m\u001b[0;34m(\u001b[0m\u001b[0mf\u001b[0m\u001b[0;34m)\u001b[0m\u001b[0;34m:\u001b[0m\u001b[0;34m\u001b[0m\u001b[0m\n",
      "\u001b[0;32m~/anaconda3/lib/python3.6/site-packages/sympy/core/expr.py\u001b[0m in \u001b[0;36mcancel\u001b[0;34m(self, *gens, **args)\u001b[0m\n\u001b[1;32m   3159\u001b[0m         \u001b[0;34m\"\"\"See the cancel function in sympy.polys\"\"\"\u001b[0m\u001b[0;34m\u001b[0m\u001b[0m\n\u001b[1;32m   3160\u001b[0m         \u001b[0;32mfrom\u001b[0m \u001b[0msympy\u001b[0m\u001b[0;34m.\u001b[0m\u001b[0mpolys\u001b[0m \u001b[0;32mimport\u001b[0m \u001b[0mcancel\u001b[0m\u001b[0;34m\u001b[0m\u001b[0m\n\u001b[0;32m-> 3161\u001b[0;31m         \u001b[0;32mreturn\u001b[0m \u001b[0mcancel\u001b[0m\u001b[0;34m(\u001b[0m\u001b[0mself\u001b[0m\u001b[0;34m,\u001b[0m \u001b[0;34m*\u001b[0m\u001b[0mgens\u001b[0m\u001b[0;34m,\u001b[0m \u001b[0;34m**\u001b[0m\u001b[0margs\u001b[0m\u001b[0;34m)\u001b[0m\u001b[0;34m\u001b[0m\u001b[0m\n\u001b[0m\u001b[1;32m   3162\u001b[0m \u001b[0;34m\u001b[0m\u001b[0m\n\u001b[1;32m   3163\u001b[0m     \u001b[0;32mdef\u001b[0m \u001b[0minvert\u001b[0m\u001b[0;34m(\u001b[0m\u001b[0mself\u001b[0m\u001b[0;34m,\u001b[0m \u001b[0mg\u001b[0m\u001b[0;34m,\u001b[0m \u001b[0;34m*\u001b[0m\u001b[0mgens\u001b[0m\u001b[0;34m,\u001b[0m \u001b[0;34m**\u001b[0m\u001b[0margs\u001b[0m\u001b[0;34m)\u001b[0m\u001b[0;34m:\u001b[0m\u001b[0;34m\u001b[0m\u001b[0m\n",
      "\u001b[0;32m~/anaconda3/lib/python3.6/site-packages/sympy/polys/polytools.py\u001b[0m in \u001b[0;36mcancel\u001b[0;34m(f, *gens, **args)\u001b[0m\n\u001b[1;32m   6421\u001b[0m         \u001b[0;32mif\u001b[0m \u001b[0mf\u001b[0m\u001b[0;34m.\u001b[0m\u001b[0mis_Number\u001b[0m \u001b[0;32mor\u001b[0m \u001b[0misinstance\u001b[0m\u001b[0;34m(\u001b[0m\u001b[0mf\u001b[0m\u001b[0;34m,\u001b[0m \u001b[0mRelational\u001b[0m\u001b[0;34m)\u001b[0m \u001b[0;32mor\u001b[0m \u001b[0;32mnot\u001b[0m \u001b[0misinstance\u001b[0m\u001b[0;34m(\u001b[0m\u001b[0mf\u001b[0m\u001b[0;34m,\u001b[0m \u001b[0mExpr\u001b[0m\u001b[0;34m)\u001b[0m\u001b[0;34m:\u001b[0m\u001b[0;34m\u001b[0m\u001b[0m\n\u001b[1;32m   6422\u001b[0m             \u001b[0;32mreturn\u001b[0m \u001b[0mf\u001b[0m\u001b[0;34m\u001b[0m\u001b[0m\n\u001b[0;32m-> 6423\u001b[0;31m         \u001b[0mf\u001b[0m \u001b[0;34m=\u001b[0m \u001b[0mfactor_terms\u001b[0m\u001b[0;34m(\u001b[0m\u001b[0mf\u001b[0m\u001b[0;34m,\u001b[0m \u001b[0mradical\u001b[0m\u001b[0;34m=\u001b[0m\u001b[0;32mTrue\u001b[0m\u001b[0;34m)\u001b[0m\u001b[0;34m\u001b[0m\u001b[0m\n\u001b[0m\u001b[1;32m   6424\u001b[0m         \u001b[0mp\u001b[0m\u001b[0;34m,\u001b[0m \u001b[0mq\u001b[0m \u001b[0;34m=\u001b[0m \u001b[0mf\u001b[0m\u001b[0;34m.\u001b[0m\u001b[0mas_numer_denom\u001b[0m\u001b[0;34m(\u001b[0m\u001b[0;34m)\u001b[0m\u001b[0;34m\u001b[0m\u001b[0m\n\u001b[1;32m   6425\u001b[0m \u001b[0;34m\u001b[0m\u001b[0m\n",
      "\u001b[0;32m~/anaconda3/lib/python3.6/site-packages/sympy/core/exprtools.py\u001b[0m in \u001b[0;36mfactor_terms\u001b[0;34m(expr, radical, clear, fraction, sign)\u001b[0m\n\u001b[1;32m   1191\u001b[0m         \u001b[0;32mreturn\u001b[0m \u001b[0mrv\u001b[0m\u001b[0;34m\u001b[0m\u001b[0m\n\u001b[1;32m   1192\u001b[0m     \u001b[0mexpr\u001b[0m \u001b[0;34m=\u001b[0m \u001b[0msympify\u001b[0m\u001b[0;34m(\u001b[0m\u001b[0mexpr\u001b[0m\u001b[0;34m)\u001b[0m\u001b[0;34m\u001b[0m\u001b[0m\n\u001b[0;32m-> 1193\u001b[0;31m     \u001b[0;32mreturn\u001b[0m \u001b[0mdo\u001b[0m\u001b[0;34m(\u001b[0m\u001b[0mexpr\u001b[0m\u001b[0;34m)\u001b[0m\u001b[0;34m\u001b[0m\u001b[0m\n\u001b[0m\u001b[1;32m   1194\u001b[0m \u001b[0;34m\u001b[0m\u001b[0m\n\u001b[1;32m   1195\u001b[0m \u001b[0;34m\u001b[0m\u001b[0m\n",
      "\u001b[0;32m~/anaconda3/lib/python3.6/site-packages/sympy/core/exprtools.py\u001b[0m in \u001b[0;36mdo\u001b[0;34m(expr)\u001b[0m\n\u001b[1;32m   1187\u001b[0m         \u001b[0;32melif\u001b[0m \u001b[0mp\u001b[0m\u001b[0;34m.\u001b[0m\u001b[0margs\u001b[0m\u001b[0;34m:\u001b[0m\u001b[0;34m\u001b[0m\u001b[0m\n\u001b[1;32m   1188\u001b[0m             p = p.func(\n\u001b[0;32m-> 1189\u001b[0;31m                 *[do(a) for a in p.args])\n\u001b[0m\u001b[1;32m   1190\u001b[0m         \u001b[0mrv\u001b[0m \u001b[0;34m=\u001b[0m \u001b[0m_keep_coeff\u001b[0m\u001b[0;34m(\u001b[0m\u001b[0mcont\u001b[0m\u001b[0;34m,\u001b[0m \u001b[0mp\u001b[0m\u001b[0;34m,\u001b[0m \u001b[0mclear\u001b[0m\u001b[0;34m=\u001b[0m\u001b[0mclear\u001b[0m\u001b[0;34m,\u001b[0m \u001b[0msign\u001b[0m\u001b[0;34m=\u001b[0m\u001b[0msign\u001b[0m\u001b[0;34m)\u001b[0m\u001b[0;34m\u001b[0m\u001b[0m\n\u001b[1;32m   1191\u001b[0m         \u001b[0;32mreturn\u001b[0m \u001b[0mrv\u001b[0m\u001b[0;34m\u001b[0m\u001b[0m\n",
      "\u001b[0;32m~/anaconda3/lib/python3.6/site-packages/sympy/core/exprtools.py\u001b[0m in \u001b[0;36m<listcomp>\u001b[0;34m(.0)\u001b[0m\n\u001b[1;32m   1187\u001b[0m         \u001b[0;32melif\u001b[0m \u001b[0mp\u001b[0m\u001b[0;34m.\u001b[0m\u001b[0margs\u001b[0m\u001b[0;34m:\u001b[0m\u001b[0;34m\u001b[0m\u001b[0m\n\u001b[1;32m   1188\u001b[0m             p = p.func(\n\u001b[0;32m-> 1189\u001b[0;31m                 *[do(a) for a in p.args])\n\u001b[0m\u001b[1;32m   1190\u001b[0m         \u001b[0mrv\u001b[0m \u001b[0;34m=\u001b[0m \u001b[0m_keep_coeff\u001b[0m\u001b[0;34m(\u001b[0m\u001b[0mcont\u001b[0m\u001b[0;34m,\u001b[0m \u001b[0mp\u001b[0m\u001b[0;34m,\u001b[0m \u001b[0mclear\u001b[0m\u001b[0;34m=\u001b[0m\u001b[0mclear\u001b[0m\u001b[0;34m,\u001b[0m \u001b[0msign\u001b[0m\u001b[0;34m=\u001b[0m\u001b[0msign\u001b[0m\u001b[0;34m)\u001b[0m\u001b[0;34m\u001b[0m\u001b[0m\n\u001b[1;32m   1191\u001b[0m         \u001b[0;32mreturn\u001b[0m \u001b[0mrv\u001b[0m\u001b[0;34m\u001b[0m\u001b[0m\n",
      "\u001b[0;32m~/anaconda3/lib/python3.6/site-packages/sympy/core/exprtools.py\u001b[0m in \u001b[0;36mdo\u001b[0;34m(expr)\u001b[0m\n\u001b[1;32m   1167\u001b[0m         \u001b[0mcont\u001b[0m\u001b[0;34m,\u001b[0m \u001b[0mp\u001b[0m \u001b[0;34m=\u001b[0m \u001b[0mexpr\u001b[0m\u001b[0;34m.\u001b[0m\u001b[0mas_content_primitive\u001b[0m\u001b[0;34m(\u001b[0m\u001b[0mradical\u001b[0m\u001b[0;34m=\u001b[0m\u001b[0mradical\u001b[0m\u001b[0;34m,\u001b[0m \u001b[0mclear\u001b[0m\u001b[0;34m=\u001b[0m\u001b[0mclear\u001b[0m\u001b[0;34m)\u001b[0m\u001b[0;34m\u001b[0m\u001b[0m\n\u001b[1;32m   1168\u001b[0m         \u001b[0;32mif\u001b[0m \u001b[0mp\u001b[0m\u001b[0;34m.\u001b[0m\u001b[0mis_Add\u001b[0m\u001b[0;34m:\u001b[0m\u001b[0;34m\u001b[0m\u001b[0m\n\u001b[0;32m-> 1169\u001b[0;31m             \u001b[0mlist_args\u001b[0m \u001b[0;34m=\u001b[0m \u001b[0;34m[\u001b[0m\u001b[0mdo\u001b[0m\u001b[0;34m(\u001b[0m\u001b[0ma\u001b[0m\u001b[0;34m)\u001b[0m \u001b[0;32mfor\u001b[0m \u001b[0ma\u001b[0m \u001b[0;32min\u001b[0m \u001b[0mAdd\u001b[0m\u001b[0;34m.\u001b[0m\u001b[0mmake_args\u001b[0m\u001b[0;34m(\u001b[0m\u001b[0mp\u001b[0m\u001b[0;34m)\u001b[0m\u001b[0;34m]\u001b[0m\u001b[0;34m\u001b[0m\u001b[0m\n\u001b[0m\u001b[1;32m   1170\u001b[0m             \u001b[0;31m# get a common negative (if there) which gcd_terms does not remove\u001b[0m\u001b[0;34m\u001b[0m\u001b[0;34m\u001b[0m\u001b[0m\n\u001b[1;32m   1171\u001b[0m             \u001b[0;32mif\u001b[0m \u001b[0mall\u001b[0m\u001b[0;34m(\u001b[0m\u001b[0ma\u001b[0m\u001b[0;34m.\u001b[0m\u001b[0mas_coeff_Mul\u001b[0m\u001b[0;34m(\u001b[0m\u001b[0;34m)\u001b[0m\u001b[0;34m[\u001b[0m\u001b[0;36m0\u001b[0m\u001b[0;34m]\u001b[0m \u001b[0;34m<\u001b[0m \u001b[0;36m0\u001b[0m \u001b[0;32mfor\u001b[0m \u001b[0ma\u001b[0m \u001b[0;32min\u001b[0m \u001b[0mlist_args\u001b[0m\u001b[0;34m)\u001b[0m\u001b[0;34m:\u001b[0m\u001b[0;34m\u001b[0m\u001b[0m\n",
      "\u001b[0;32m~/anaconda3/lib/python3.6/site-packages/sympy/core/exprtools.py\u001b[0m in \u001b[0;36m<listcomp>\u001b[0;34m(.0)\u001b[0m\n\u001b[1;32m   1167\u001b[0m         \u001b[0mcont\u001b[0m\u001b[0;34m,\u001b[0m \u001b[0mp\u001b[0m \u001b[0;34m=\u001b[0m \u001b[0mexpr\u001b[0m\u001b[0;34m.\u001b[0m\u001b[0mas_content_primitive\u001b[0m\u001b[0;34m(\u001b[0m\u001b[0mradical\u001b[0m\u001b[0;34m=\u001b[0m\u001b[0mradical\u001b[0m\u001b[0;34m,\u001b[0m \u001b[0mclear\u001b[0m\u001b[0;34m=\u001b[0m\u001b[0mclear\u001b[0m\u001b[0;34m)\u001b[0m\u001b[0;34m\u001b[0m\u001b[0m\n\u001b[1;32m   1168\u001b[0m         \u001b[0;32mif\u001b[0m \u001b[0mp\u001b[0m\u001b[0;34m.\u001b[0m\u001b[0mis_Add\u001b[0m\u001b[0;34m:\u001b[0m\u001b[0;34m\u001b[0m\u001b[0m\n\u001b[0;32m-> 1169\u001b[0;31m             \u001b[0mlist_args\u001b[0m \u001b[0;34m=\u001b[0m \u001b[0;34m[\u001b[0m\u001b[0mdo\u001b[0m\u001b[0;34m(\u001b[0m\u001b[0ma\u001b[0m\u001b[0;34m)\u001b[0m \u001b[0;32mfor\u001b[0m \u001b[0ma\u001b[0m \u001b[0;32min\u001b[0m \u001b[0mAdd\u001b[0m\u001b[0;34m.\u001b[0m\u001b[0mmake_args\u001b[0m\u001b[0;34m(\u001b[0m\u001b[0mp\u001b[0m\u001b[0;34m)\u001b[0m\u001b[0;34m]\u001b[0m\u001b[0;34m\u001b[0m\u001b[0m\n\u001b[0m\u001b[1;32m   1170\u001b[0m             \u001b[0;31m# get a common negative (if there) which gcd_terms does not remove\u001b[0m\u001b[0;34m\u001b[0m\u001b[0;34m\u001b[0m\u001b[0m\n\u001b[1;32m   1171\u001b[0m             \u001b[0;32mif\u001b[0m \u001b[0mall\u001b[0m\u001b[0;34m(\u001b[0m\u001b[0ma\u001b[0m\u001b[0;34m.\u001b[0m\u001b[0mas_coeff_Mul\u001b[0m\u001b[0;34m(\u001b[0m\u001b[0;34m)\u001b[0m\u001b[0;34m[\u001b[0m\u001b[0;36m0\u001b[0m\u001b[0;34m]\u001b[0m \u001b[0;34m<\u001b[0m \u001b[0;36m0\u001b[0m \u001b[0;32mfor\u001b[0m \u001b[0ma\u001b[0m \u001b[0;32min\u001b[0m \u001b[0mlist_args\u001b[0m\u001b[0;34m)\u001b[0m\u001b[0;34m:\u001b[0m\u001b[0;34m\u001b[0m\u001b[0m\n",
      "\u001b[0;32m~/anaconda3/lib/python3.6/site-packages/sympy/core/exprtools.py\u001b[0m in \u001b[0;36mdo\u001b[0;34m(expr)\u001b[0m\n\u001b[1;32m   1187\u001b[0m         \u001b[0;32melif\u001b[0m \u001b[0mp\u001b[0m\u001b[0;34m.\u001b[0m\u001b[0margs\u001b[0m\u001b[0;34m:\u001b[0m\u001b[0;34m\u001b[0m\u001b[0m\n\u001b[1;32m   1188\u001b[0m             p = p.func(\n\u001b[0;32m-> 1189\u001b[0;31m                 *[do(a) for a in p.args])\n\u001b[0m\u001b[1;32m   1190\u001b[0m         \u001b[0mrv\u001b[0m \u001b[0;34m=\u001b[0m \u001b[0m_keep_coeff\u001b[0m\u001b[0;34m(\u001b[0m\u001b[0mcont\u001b[0m\u001b[0;34m,\u001b[0m \u001b[0mp\u001b[0m\u001b[0;34m,\u001b[0m \u001b[0mclear\u001b[0m\u001b[0;34m=\u001b[0m\u001b[0mclear\u001b[0m\u001b[0;34m,\u001b[0m \u001b[0msign\u001b[0m\u001b[0;34m=\u001b[0m\u001b[0msign\u001b[0m\u001b[0;34m)\u001b[0m\u001b[0;34m\u001b[0m\u001b[0m\n\u001b[1;32m   1191\u001b[0m         \u001b[0;32mreturn\u001b[0m \u001b[0mrv\u001b[0m\u001b[0;34m\u001b[0m\u001b[0m\n",
      "\u001b[0;32m~/anaconda3/lib/python3.6/site-packages/sympy/core/exprtools.py\u001b[0m in \u001b[0;36m<listcomp>\u001b[0;34m(.0)\u001b[0m\n\u001b[1;32m   1187\u001b[0m         \u001b[0;32melif\u001b[0m \u001b[0mp\u001b[0m\u001b[0;34m.\u001b[0m\u001b[0margs\u001b[0m\u001b[0;34m:\u001b[0m\u001b[0;34m\u001b[0m\u001b[0m\n\u001b[1;32m   1188\u001b[0m             p = p.func(\n\u001b[0;32m-> 1189\u001b[0;31m                 *[do(a) for a in p.args])\n\u001b[0m\u001b[1;32m   1190\u001b[0m         \u001b[0mrv\u001b[0m \u001b[0;34m=\u001b[0m \u001b[0m_keep_coeff\u001b[0m\u001b[0;34m(\u001b[0m\u001b[0mcont\u001b[0m\u001b[0;34m,\u001b[0m \u001b[0mp\u001b[0m\u001b[0;34m,\u001b[0m \u001b[0mclear\u001b[0m\u001b[0;34m=\u001b[0m\u001b[0mclear\u001b[0m\u001b[0;34m,\u001b[0m \u001b[0msign\u001b[0m\u001b[0;34m=\u001b[0m\u001b[0msign\u001b[0m\u001b[0;34m)\u001b[0m\u001b[0;34m\u001b[0m\u001b[0m\n\u001b[1;32m   1191\u001b[0m         \u001b[0;32mreturn\u001b[0m \u001b[0mrv\u001b[0m\u001b[0;34m\u001b[0m\u001b[0m\n",
      "\u001b[0;32m~/anaconda3/lib/python3.6/site-packages/sympy/core/exprtools.py\u001b[0m in \u001b[0;36mdo\u001b[0;34m(expr)\u001b[0m\n\u001b[1;32m   1157\u001b[0m                 \u001b[0mis_iterable\u001b[0m \u001b[0;32mor\u001b[0m \u001b[0;32mnot\u001b[0m \u001b[0mhasattr\u001b[0m\u001b[0;34m(\u001b[0m\u001b[0mexpr\u001b[0m\u001b[0;34m,\u001b[0m \u001b[0;34m'args_cnc'\u001b[0m\u001b[0;34m)\u001b[0m\u001b[0;34m:\u001b[0m\u001b[0;34m\u001b[0m\u001b[0m\n\u001b[1;32m   1158\u001b[0m             \u001b[0margs\u001b[0m \u001b[0;34m=\u001b[0m \u001b[0mexpr\u001b[0m\u001b[0;34m.\u001b[0m\u001b[0margs\u001b[0m\u001b[0;34m\u001b[0m\u001b[0m\n\u001b[0;32m-> 1159\u001b[0;31m             \u001b[0mnewargs\u001b[0m \u001b[0;34m=\u001b[0m \u001b[0mtuple\u001b[0m\u001b[0;34m(\u001b[0m\u001b[0;34m[\u001b[0m\u001b[0mdo\u001b[0m\u001b[0;34m(\u001b[0m\u001b[0mi\u001b[0m\u001b[0;34m)\u001b[0m \u001b[0;32mfor\u001b[0m \u001b[0mi\u001b[0m \u001b[0;32min\u001b[0m \u001b[0margs\u001b[0m\u001b[0;34m]\u001b[0m\u001b[0;34m)\u001b[0m\u001b[0;34m\u001b[0m\u001b[0m\n\u001b[0m\u001b[1;32m   1160\u001b[0m             \u001b[0;32mif\u001b[0m \u001b[0mnewargs\u001b[0m \u001b[0;34m==\u001b[0m \u001b[0margs\u001b[0m\u001b[0;34m:\u001b[0m\u001b[0;34m\u001b[0m\u001b[0m\n\u001b[1;32m   1161\u001b[0m                 \u001b[0;32mreturn\u001b[0m \u001b[0mexpr\u001b[0m\u001b[0;34m\u001b[0m\u001b[0m\n",
      "\u001b[0;32m~/anaconda3/lib/python3.6/site-packages/sympy/core/exprtools.py\u001b[0m in \u001b[0;36m<listcomp>\u001b[0;34m(.0)\u001b[0m\n\u001b[1;32m   1157\u001b[0m                 \u001b[0mis_iterable\u001b[0m \u001b[0;32mor\u001b[0m \u001b[0;32mnot\u001b[0m \u001b[0mhasattr\u001b[0m\u001b[0;34m(\u001b[0m\u001b[0mexpr\u001b[0m\u001b[0;34m,\u001b[0m \u001b[0;34m'args_cnc'\u001b[0m\u001b[0;34m)\u001b[0m\u001b[0;34m:\u001b[0m\u001b[0;34m\u001b[0m\u001b[0m\n\u001b[1;32m   1158\u001b[0m             \u001b[0margs\u001b[0m \u001b[0;34m=\u001b[0m \u001b[0mexpr\u001b[0m\u001b[0;34m.\u001b[0m\u001b[0margs\u001b[0m\u001b[0;34m\u001b[0m\u001b[0m\n\u001b[0;32m-> 1159\u001b[0;31m             \u001b[0mnewargs\u001b[0m \u001b[0;34m=\u001b[0m \u001b[0mtuple\u001b[0m\u001b[0;34m(\u001b[0m\u001b[0;34m[\u001b[0m\u001b[0mdo\u001b[0m\u001b[0;34m(\u001b[0m\u001b[0mi\u001b[0m\u001b[0;34m)\u001b[0m \u001b[0;32mfor\u001b[0m \u001b[0mi\u001b[0m \u001b[0;32min\u001b[0m \u001b[0margs\u001b[0m\u001b[0;34m]\u001b[0m\u001b[0;34m)\u001b[0m\u001b[0;34m\u001b[0m\u001b[0m\n\u001b[0m\u001b[1;32m   1160\u001b[0m             \u001b[0;32mif\u001b[0m \u001b[0mnewargs\u001b[0m \u001b[0;34m==\u001b[0m \u001b[0margs\u001b[0m\u001b[0;34m:\u001b[0m\u001b[0;34m\u001b[0m\u001b[0m\n\u001b[1;32m   1161\u001b[0m                 \u001b[0;32mreturn\u001b[0m \u001b[0mexpr\u001b[0m\u001b[0;34m\u001b[0m\u001b[0m\n",
      "\u001b[0;32m~/anaconda3/lib/python3.6/site-packages/sympy/core/exprtools.py\u001b[0m in \u001b[0;36mdo\u001b[0;34m(expr)\u001b[0m\n\u001b[1;32m   1187\u001b[0m         \u001b[0;32melif\u001b[0m \u001b[0mp\u001b[0m\u001b[0;34m.\u001b[0m\u001b[0margs\u001b[0m\u001b[0;34m:\u001b[0m\u001b[0;34m\u001b[0m\u001b[0m\n\u001b[1;32m   1188\u001b[0m             p = p.func(\n\u001b[0;32m-> 1189\u001b[0;31m                 *[do(a) for a in p.args])\n\u001b[0m\u001b[1;32m   1190\u001b[0m         \u001b[0mrv\u001b[0m \u001b[0;34m=\u001b[0m \u001b[0m_keep_coeff\u001b[0m\u001b[0;34m(\u001b[0m\u001b[0mcont\u001b[0m\u001b[0;34m,\u001b[0m \u001b[0mp\u001b[0m\u001b[0;34m,\u001b[0m \u001b[0mclear\u001b[0m\u001b[0;34m=\u001b[0m\u001b[0mclear\u001b[0m\u001b[0;34m,\u001b[0m \u001b[0msign\u001b[0m\u001b[0;34m=\u001b[0m\u001b[0msign\u001b[0m\u001b[0;34m)\u001b[0m\u001b[0;34m\u001b[0m\u001b[0m\n\u001b[1;32m   1191\u001b[0m         \u001b[0;32mreturn\u001b[0m \u001b[0mrv\u001b[0m\u001b[0;34m\u001b[0m\u001b[0m\n",
      "\u001b[0;32m~/anaconda3/lib/python3.6/site-packages/sympy/core/exprtools.py\u001b[0m in \u001b[0;36m<listcomp>\u001b[0;34m(.0)\u001b[0m\n\u001b[1;32m   1187\u001b[0m         \u001b[0;32melif\u001b[0m \u001b[0mp\u001b[0m\u001b[0;34m.\u001b[0m\u001b[0margs\u001b[0m\u001b[0;34m:\u001b[0m\u001b[0;34m\u001b[0m\u001b[0m\n\u001b[1;32m   1188\u001b[0m             p = p.func(\n\u001b[0;32m-> 1189\u001b[0;31m                 *[do(a) for a in p.args])\n\u001b[0m\u001b[1;32m   1190\u001b[0m         \u001b[0mrv\u001b[0m \u001b[0;34m=\u001b[0m \u001b[0m_keep_coeff\u001b[0m\u001b[0;34m(\u001b[0m\u001b[0mcont\u001b[0m\u001b[0;34m,\u001b[0m \u001b[0mp\u001b[0m\u001b[0;34m,\u001b[0m \u001b[0mclear\u001b[0m\u001b[0;34m=\u001b[0m\u001b[0mclear\u001b[0m\u001b[0;34m,\u001b[0m \u001b[0msign\u001b[0m\u001b[0;34m=\u001b[0m\u001b[0msign\u001b[0m\u001b[0;34m)\u001b[0m\u001b[0;34m\u001b[0m\u001b[0m\n\u001b[1;32m   1191\u001b[0m         \u001b[0;32mreturn\u001b[0m \u001b[0mrv\u001b[0m\u001b[0;34m\u001b[0m\u001b[0m\n",
      "\u001b[0;32m~/anaconda3/lib/python3.6/site-packages/sympy/core/exprtools.py\u001b[0m in \u001b[0;36mdo\u001b[0;34m(expr)\u001b[0m\n\u001b[1;32m   1157\u001b[0m                 \u001b[0mis_iterable\u001b[0m \u001b[0;32mor\u001b[0m \u001b[0;32mnot\u001b[0m \u001b[0mhasattr\u001b[0m\u001b[0;34m(\u001b[0m\u001b[0mexpr\u001b[0m\u001b[0;34m,\u001b[0m \u001b[0;34m'args_cnc'\u001b[0m\u001b[0;34m)\u001b[0m\u001b[0;34m:\u001b[0m\u001b[0;34m\u001b[0m\u001b[0m\n\u001b[1;32m   1158\u001b[0m             \u001b[0margs\u001b[0m \u001b[0;34m=\u001b[0m \u001b[0mexpr\u001b[0m\u001b[0;34m.\u001b[0m\u001b[0margs\u001b[0m\u001b[0;34m\u001b[0m\u001b[0m\n\u001b[0;32m-> 1159\u001b[0;31m             \u001b[0mnewargs\u001b[0m \u001b[0;34m=\u001b[0m \u001b[0mtuple\u001b[0m\u001b[0;34m(\u001b[0m\u001b[0;34m[\u001b[0m\u001b[0mdo\u001b[0m\u001b[0;34m(\u001b[0m\u001b[0mi\u001b[0m\u001b[0;34m)\u001b[0m \u001b[0;32mfor\u001b[0m \u001b[0mi\u001b[0m \u001b[0;32min\u001b[0m \u001b[0margs\u001b[0m\u001b[0;34m]\u001b[0m\u001b[0;34m)\u001b[0m\u001b[0;34m\u001b[0m\u001b[0m\n\u001b[0m\u001b[1;32m   1160\u001b[0m             \u001b[0;32mif\u001b[0m \u001b[0mnewargs\u001b[0m \u001b[0;34m==\u001b[0m \u001b[0margs\u001b[0m\u001b[0;34m:\u001b[0m\u001b[0;34m\u001b[0m\u001b[0m\n\u001b[1;32m   1161\u001b[0m                 \u001b[0;32mreturn\u001b[0m \u001b[0mexpr\u001b[0m\u001b[0;34m\u001b[0m\u001b[0m\n",
      "\u001b[0;32m~/anaconda3/lib/python3.6/site-packages/sympy/core/exprtools.py\u001b[0m in \u001b[0;36m<listcomp>\u001b[0;34m(.0)\u001b[0m\n\u001b[1;32m   1157\u001b[0m                 \u001b[0mis_iterable\u001b[0m \u001b[0;32mor\u001b[0m \u001b[0;32mnot\u001b[0m \u001b[0mhasattr\u001b[0m\u001b[0;34m(\u001b[0m\u001b[0mexpr\u001b[0m\u001b[0;34m,\u001b[0m \u001b[0;34m'args_cnc'\u001b[0m\u001b[0;34m)\u001b[0m\u001b[0;34m:\u001b[0m\u001b[0;34m\u001b[0m\u001b[0m\n\u001b[1;32m   1158\u001b[0m             \u001b[0margs\u001b[0m \u001b[0;34m=\u001b[0m \u001b[0mexpr\u001b[0m\u001b[0;34m.\u001b[0m\u001b[0margs\u001b[0m\u001b[0;34m\u001b[0m\u001b[0m\n\u001b[0;32m-> 1159\u001b[0;31m             \u001b[0mnewargs\u001b[0m \u001b[0;34m=\u001b[0m \u001b[0mtuple\u001b[0m\u001b[0;34m(\u001b[0m\u001b[0;34m[\u001b[0m\u001b[0mdo\u001b[0m\u001b[0;34m(\u001b[0m\u001b[0mi\u001b[0m\u001b[0;34m)\u001b[0m \u001b[0;32mfor\u001b[0m \u001b[0mi\u001b[0m \u001b[0;32min\u001b[0m \u001b[0margs\u001b[0m\u001b[0;34m]\u001b[0m\u001b[0;34m)\u001b[0m\u001b[0;34m\u001b[0m\u001b[0m\n\u001b[0m\u001b[1;32m   1160\u001b[0m             \u001b[0;32mif\u001b[0m \u001b[0mnewargs\u001b[0m \u001b[0;34m==\u001b[0m \u001b[0margs\u001b[0m\u001b[0;34m:\u001b[0m\u001b[0;34m\u001b[0m\u001b[0m\n\u001b[1;32m   1161\u001b[0m                 \u001b[0;32mreturn\u001b[0m \u001b[0mexpr\u001b[0m\u001b[0;34m\u001b[0m\u001b[0m\n",
      "\u001b[0;32m~/anaconda3/lib/python3.6/site-packages/sympy/core/exprtools.py\u001b[0m in \u001b[0;36mdo\u001b[0;34m(expr)\u001b[0m\n\u001b[1;32m   1184\u001b[0m                 \u001b[0misprimitive\u001b[0m\u001b[0;34m=\u001b[0m\u001b[0;32mTrue\u001b[0m\u001b[0;34m,\u001b[0m\u001b[0;34m\u001b[0m\u001b[0m\n\u001b[1;32m   1185\u001b[0m                 \u001b[0mclear\u001b[0m\u001b[0;34m=\u001b[0m\u001b[0mclear\u001b[0m\u001b[0;34m,\u001b[0m\u001b[0;34m\u001b[0m\u001b[0m\n\u001b[0;32m-> 1186\u001b[0;31m                 fraction=fraction).xreplace(special)\n\u001b[0m\u001b[1;32m   1187\u001b[0m         \u001b[0;32melif\u001b[0m \u001b[0mp\u001b[0m\u001b[0;34m.\u001b[0m\u001b[0margs\u001b[0m\u001b[0;34m:\u001b[0m\u001b[0;34m\u001b[0m\u001b[0m\n\u001b[1;32m   1188\u001b[0m             p = p.func(\n",
      "\u001b[0;32m~/anaconda3/lib/python3.6/site-packages/sympy/core/exprtools.py\u001b[0m in \u001b[0;36mgcd_terms\u001b[0;34m(terms, isprimitive, clear, fraction)\u001b[0m\n\u001b[1;32m   1053\u001b[0m             \u001b[0mterms\u001b[0m \u001b[0;34m=\u001b[0m \u001b[0msympify\u001b[0m\u001b[0;34m(\u001b[0m\u001b[0mterms\u001b[0m\u001b[0;34m)\u001b[0m\u001b[0;34m\u001b[0m\u001b[0m\n\u001b[1;32m   1054\u001b[0m         \u001b[0mterms\u001b[0m\u001b[0;34m,\u001b[0m \u001b[0mreps\u001b[0m \u001b[0;34m=\u001b[0m \u001b[0mmask\u001b[0m\u001b[0;34m(\u001b[0m\u001b[0mterms\u001b[0m\u001b[0;34m)\u001b[0m\u001b[0;34m\u001b[0m\u001b[0m\n\u001b[0;32m-> 1055\u001b[0;31m         \u001b[0mcont\u001b[0m\u001b[0;34m,\u001b[0m \u001b[0mnumer\u001b[0m\u001b[0;34m,\u001b[0m \u001b[0mdenom\u001b[0m \u001b[0;34m=\u001b[0m \u001b[0m_gcd_terms\u001b[0m\u001b[0;34m(\u001b[0m\u001b[0mterms\u001b[0m\u001b[0;34m,\u001b[0m \u001b[0misprimitive\u001b[0m\u001b[0;34m,\u001b[0m \u001b[0mfraction\u001b[0m\u001b[0;34m)\u001b[0m\u001b[0;34m\u001b[0m\u001b[0m\n\u001b[0m\u001b[1;32m   1056\u001b[0m         \u001b[0mnumer\u001b[0m \u001b[0;34m=\u001b[0m \u001b[0mnumer\u001b[0m\u001b[0;34m.\u001b[0m\u001b[0mxreplace\u001b[0m\u001b[0;34m(\u001b[0m\u001b[0mreps\u001b[0m\u001b[0;34m)\u001b[0m\u001b[0;34m\u001b[0m\u001b[0m\n\u001b[1;32m   1057\u001b[0m         \u001b[0mcoeff\u001b[0m\u001b[0;34m,\u001b[0m \u001b[0mfactors\u001b[0m \u001b[0;34m=\u001b[0m \u001b[0mcont\u001b[0m\u001b[0;34m.\u001b[0m\u001b[0mas_coeff_Mul\u001b[0m\u001b[0;34m(\u001b[0m\u001b[0;34m)\u001b[0m\u001b[0;34m\u001b[0m\u001b[0m\n",
      "\u001b[0;32m~/anaconda3/lib/python3.6/site-packages/sympy/core/exprtools.py\u001b[0m in \u001b[0;36m_gcd_terms\u001b[0;34m(terms, isprimitive, fraction)\u001b[0m\n\u001b[1;32m    946\u001b[0m \u001b[0;34m\u001b[0m\u001b[0m\n\u001b[1;32m    947\u001b[0m         \u001b[0;32mfor\u001b[0m \u001b[0mi\u001b[0m\u001b[0;34m,\u001b[0m \u001b[0mterm\u001b[0m \u001b[0;32min\u001b[0m \u001b[0menumerate\u001b[0m\u001b[0;34m(\u001b[0m\u001b[0mterms\u001b[0m\u001b[0;34m)\u001b[0m\u001b[0;34m:\u001b[0m\u001b[0;34m\u001b[0m\u001b[0m\n\u001b[0;32m--> 948\u001b[0;31m             \u001b[0mterms\u001b[0m\u001b[0;34m[\u001b[0m\u001b[0mi\u001b[0m\u001b[0;34m]\u001b[0m \u001b[0;34m=\u001b[0m \u001b[0mterm\u001b[0m\u001b[0;34m.\u001b[0m\u001b[0mquo\u001b[0m\u001b[0;34m(\u001b[0m\u001b[0mcont\u001b[0m\u001b[0;34m)\u001b[0m\u001b[0;34m\u001b[0m\u001b[0m\n\u001b[0m\u001b[1;32m    949\u001b[0m \u001b[0;34m\u001b[0m\u001b[0m\n\u001b[1;32m    950\u001b[0m         \u001b[0;32mif\u001b[0m \u001b[0mfraction\u001b[0m\u001b[0;34m:\u001b[0m\u001b[0;34m\u001b[0m\u001b[0m\n",
      "\u001b[0;32m~/anaconda3/lib/python3.6/site-packages/sympy/core/exprtools.py\u001b[0m in \u001b[0;36mquo\u001b[0;34m(self, other)\u001b[0m\n\u001b[1;32m    864\u001b[0m \u001b[0;34m\u001b[0m\u001b[0m\n\u001b[1;32m    865\u001b[0m     \u001b[0;32mdef\u001b[0m \u001b[0mquo\u001b[0m\u001b[0;34m(\u001b[0m\u001b[0mself\u001b[0m\u001b[0;34m,\u001b[0m \u001b[0mother\u001b[0m\u001b[0;34m)\u001b[0m\u001b[0;34m:\u001b[0m  \u001b[0;31m# Term\u001b[0m\u001b[0;34m\u001b[0m\u001b[0m\n\u001b[0;32m--> 866\u001b[0;31m         \u001b[0;32mreturn\u001b[0m \u001b[0mself\u001b[0m\u001b[0;34m.\u001b[0m\u001b[0mmul\u001b[0m\u001b[0;34m(\u001b[0m\u001b[0mother\u001b[0m\u001b[0;34m.\u001b[0m\u001b[0minv\u001b[0m\u001b[0;34m(\u001b[0m\u001b[0;34m)\u001b[0m\u001b[0;34m)\u001b[0m\u001b[0;34m\u001b[0m\u001b[0m\n\u001b[0m\u001b[1;32m    867\u001b[0m \u001b[0;34m\u001b[0m\u001b[0m\n\u001b[1;32m    868\u001b[0m     \u001b[0;32mdef\u001b[0m \u001b[0mpow\u001b[0m\u001b[0;34m(\u001b[0m\u001b[0mself\u001b[0m\u001b[0;34m,\u001b[0m \u001b[0mother\u001b[0m\u001b[0;34m)\u001b[0m\u001b[0;34m:\u001b[0m  \u001b[0;31m# Term\u001b[0m\u001b[0;34m\u001b[0m\u001b[0m\n",
      "\u001b[0;32m~/anaconda3/lib/python3.6/site-packages/sympy/core/exprtools.py\u001b[0m in \u001b[0;36mmul\u001b[0;34m(self, other)\u001b[0m\n\u001b[1;32m    856\u001b[0m         \u001b[0mdenom\u001b[0m \u001b[0;34m=\u001b[0m \u001b[0mself\u001b[0m\u001b[0;34m.\u001b[0m\u001b[0mdenom\u001b[0m\u001b[0;34m.\u001b[0m\u001b[0mmul\u001b[0m\u001b[0;34m(\u001b[0m\u001b[0mother\u001b[0m\u001b[0;34m.\u001b[0m\u001b[0mdenom\u001b[0m\u001b[0;34m)\u001b[0m\u001b[0;34m\u001b[0m\u001b[0m\n\u001b[1;32m    857\u001b[0m \u001b[0;34m\u001b[0m\u001b[0m\n\u001b[0;32m--> 858\u001b[0;31m         \u001b[0mnumer\u001b[0m\u001b[0;34m,\u001b[0m \u001b[0mdenom\u001b[0m \u001b[0;34m=\u001b[0m \u001b[0mnumer\u001b[0m\u001b[0;34m.\u001b[0m\u001b[0mnormal\u001b[0m\u001b[0;34m(\u001b[0m\u001b[0mdenom\u001b[0m\u001b[0;34m)\u001b[0m\u001b[0;34m\u001b[0m\u001b[0m\n\u001b[0m\u001b[1;32m    859\u001b[0m \u001b[0;34m\u001b[0m\u001b[0m\n\u001b[1;32m    860\u001b[0m         \u001b[0;32mreturn\u001b[0m \u001b[0mTerm\u001b[0m\u001b[0;34m(\u001b[0m\u001b[0mcoeff\u001b[0m\u001b[0;34m,\u001b[0m \u001b[0mnumer\u001b[0m\u001b[0;34m,\u001b[0m \u001b[0mdenom\u001b[0m\u001b[0;34m)\u001b[0m\u001b[0;34m\u001b[0m\u001b[0m\n",
      "\u001b[0;32m~/anaconda3/lib/python3.6/site-packages/sympy/core/exprtools.py\u001b[0m in \u001b[0;36mnormal\u001b[0;34m(self, other)\u001b[0m\n\u001b[1;32m    548\u001b[0m                         \u001b[0;32mdel\u001b[0m \u001b[0mother_factors\u001b[0m\u001b[0;34m[\u001b[0m\u001b[0mfactor\u001b[0m\u001b[0;34m]\u001b[0m\u001b[0;34m\u001b[0m\u001b[0m\n\u001b[1;32m    549\u001b[0m \u001b[0;34m\u001b[0m\u001b[0m\n\u001b[0;32m--> 550\u001b[0;31m         \u001b[0;32mreturn\u001b[0m \u001b[0mFactors\u001b[0m\u001b[0;34m(\u001b[0m\u001b[0mself_factors\u001b[0m\u001b[0;34m)\u001b[0m\u001b[0;34m,\u001b[0m \u001b[0mFactors\u001b[0m\u001b[0;34m(\u001b[0m\u001b[0mother_factors\u001b[0m\u001b[0;34m)\u001b[0m\u001b[0;34m\u001b[0m\u001b[0m\n\u001b[0m\u001b[1;32m    551\u001b[0m \u001b[0;34m\u001b[0m\u001b[0m\n\u001b[1;32m    552\u001b[0m     \u001b[0;32mdef\u001b[0m \u001b[0mdiv\u001b[0m\u001b[0;34m(\u001b[0m\u001b[0mself\u001b[0m\u001b[0;34m,\u001b[0m \u001b[0mother\u001b[0m\u001b[0;34m)\u001b[0m\u001b[0;34m:\u001b[0m  \u001b[0;31m# Factors\u001b[0m\u001b[0;34m\u001b[0m\u001b[0m\n",
      "\u001b[0;32m~/anaconda3/lib/python3.6/site-packages/sympy/core/exprtools.py\u001b[0m in \u001b[0;36m__init__\u001b[0;34m(self, factors)\u001b[0m\n\u001b[1;32m    387\u001b[0m         \u001b[0mself\u001b[0m\u001b[0;34m.\u001b[0m\u001b[0mfactors\u001b[0m \u001b[0;34m=\u001b[0m \u001b[0mfactors\u001b[0m\u001b[0;34m\u001b[0m\u001b[0m\n\u001b[1;32m    388\u001b[0m         \u001b[0;32mtry\u001b[0m\u001b[0;34m:\u001b[0m\u001b[0;34m\u001b[0m\u001b[0m\n\u001b[0;32m--> 389\u001b[0;31m             \u001b[0mself\u001b[0m\u001b[0;34m.\u001b[0m\u001b[0mgens\u001b[0m \u001b[0;34m=\u001b[0m \u001b[0mfrozenset\u001b[0m\u001b[0;34m(\u001b[0m\u001b[0mfactors\u001b[0m\u001b[0;34m.\u001b[0m\u001b[0mkeys\u001b[0m\u001b[0;34m(\u001b[0m\u001b[0;34m)\u001b[0m\u001b[0;34m)\u001b[0m\u001b[0;34m\u001b[0m\u001b[0m\n\u001b[0m\u001b[1;32m    390\u001b[0m         \u001b[0;32mexcept\u001b[0m \u001b[0mAttributeError\u001b[0m\u001b[0;34m:\u001b[0m\u001b[0;34m\u001b[0m\u001b[0m\n\u001b[1;32m    391\u001b[0m             \u001b[0;32mraise\u001b[0m \u001b[0mTypeError\u001b[0m\u001b[0;34m(\u001b[0m\u001b[0;34m'expecting Expr or dictionary'\u001b[0m\u001b[0;34m)\u001b[0m\u001b[0;34m\u001b[0m\u001b[0m\n",
      "\u001b[0;32m~/anaconda3/lib/python3.6/site-packages/sympy/core/basic.py\u001b[0m in \u001b[0;36m__hash__\u001b[0;34m(self)\u001b[0m\n\u001b[1;32m    104\u001b[0m             \u001b[0msetattr\u001b[0m\u001b[0;34m(\u001b[0m\u001b[0mself\u001b[0m\u001b[0;34m,\u001b[0m \u001b[0mk\u001b[0m\u001b[0;34m,\u001b[0m \u001b[0mv\u001b[0m\u001b[0;34m)\u001b[0m\u001b[0;34m\u001b[0m\u001b[0m\n\u001b[1;32m    105\u001b[0m \u001b[0;34m\u001b[0m\u001b[0m\n\u001b[0;32m--> 106\u001b[0;31m     \u001b[0;32mdef\u001b[0m \u001b[0m__hash__\u001b[0m\u001b[0;34m(\u001b[0m\u001b[0mself\u001b[0m\u001b[0;34m)\u001b[0m\u001b[0;34m:\u001b[0m\u001b[0;34m\u001b[0m\u001b[0m\n\u001b[0m\u001b[1;32m    107\u001b[0m         \u001b[0;31m# hash cannot be cached using cache_it because infinite recurrence\u001b[0m\u001b[0;34m\u001b[0m\u001b[0;34m\u001b[0m\u001b[0m\n\u001b[1;32m    108\u001b[0m         \u001b[0;31m# occurs as hash is needed for setting cache dictionary keys\u001b[0m\u001b[0;34m\u001b[0m\u001b[0;34m\u001b[0m\u001b[0m\n",
      "\u001b[0;31mKeyboardInterrupt\u001b[0m: "
     ]
    }
   ],
   "source": [
    "sym.integrate(sym.exp(-(chi-mu_chi)**2/(2*sig_chi_sq)-(Del-mu_Del)**2/(2*sig_Del_sq)),chi)"
   ]
  },
  {
   "cell_type": "code",
   "execution_count": 339,
   "metadata": {},
   "outputs": [
    {
     "data": {
      "image/png": "[encoded data removed]",
      "text/latex": [
       "$$\\left ( \\frac{\\Delta}{2} + \\frac{\\chi}{2}, \\quad - \\frac{\\Delta}{2} + \\frac{\\chi}{2}\\right )$$"
      ],
      "text/plain": [
       "⎛Δ   χ    Δ   χ⎞\n",
       "⎜─ + ─, - ─ + ─⎟\n",
       "⎝2   2    2   2⎠"
      ]
     },
     "execution_count": 339,
     "metadata": {},
     "output_type": "execute_result"
    }
   ],
   "source": [
    "delo_eq, delm_eq"
   ]
  },
  {
   "cell_type": "code",
   "execution_count": 369,
   "metadata": {},
   "outputs": [
    {
     "data": {
      "image/png": "[encoded data removed]",
      "text/latex": [
       "$$\\left ( \\frac{4 \\sigma_{\\mu}^{2} \\sigma_{o}^{2}}{\\sigma_{\\mu}^{2} + \\sigma_{o}^{2}}, \\quad - \\frac{1}{\\sigma_{\\mu}^{2} + \\sigma_{o}^{2}} \\left(\\sigma_{\\mu}^{2} \\left(\\Delta - 2 \\mu_{o}\\right) + \\sigma_{o}^{2} \\left(\\Delta - 2 \\mu_{\\mu}\\right)\\right), \\quad \\sigma_{\\mu}^{2} + \\sigma_{o}^{2}, \\quad - \\mu_{\\mu} + \\mu_{o}\\right )$$"
      ],
      "text/plain": [
       "⎛     2   2   ⎛   2                2            ⎞                        ⎞\n",
       "⎜4⋅σₘᵤ ⋅σₒ   -⎝σₘᵤ ⋅(Δ - 2⋅μₒ) + σₒ ⋅(Δ - 2⋅μₘᵤ)⎠      2     2           ⎟\n",
       "⎜──────────, ─────────────────────────────────────, σₘᵤ  + σₒ , -μₘᵤ + μₒ⎟\n",
       "⎜   2     2                   2     2                                    ⎟\n",
       "⎝σₘᵤ  + σₒ                 σₘᵤ  + σₒ                                     ⎠"
      ]
     },
     "execution_count": 369,
     "metadata": {},
     "output_type": "execute_result"
    }
   ],
   "source": [
    "sig_chi_sq, mu_chi, sig_Del_sq, mu_Del"
   ]
  },
  {
   "cell_type": "code",
   "execution_count": 392,
   "metadata": {},
   "outputs": [],
   "source": [
    "sig_chi, sig_Del=sym.symbols('sigma_chi sigma_Delta', positive=True)\n",
    "mu_chi, mu_Del=sym.symbols('mu_chi mu_Delta', real=True)\n",
    "expfun1=1/(2*sym.pi)*1/(sig_chi*sig_Del)*sym.exp(-(Del-mu_Del)**2/(2*sig_Del**2))*sym.exp(-(chi-mu_chi)**2/(2*sig_chi**2))\n",
    "expfun2=1/(2*sym.pi)*1/(sigo*sigm)*sym.exp(-(delo-sigo)**2/(2*sigo**2))*sym.exp(-(delm-sigm)**2/(2*sigm**2))"
   ]
  },
  {
   "cell_type": "code",
   "execution_count": 393,
   "metadata": {},
   "outputs": [
    {
     "data": {
      "image/png": "[encoded data removed]",
      "text/latex": [
       "$$\\mu_{\\chi}$$"
      ],
      "text/plain": [
       "μᵪ"
      ]
     },
     "execution_count": 393,
     "metadata": {},
     "output_type": "execute_result"
    }
   ],
   "source": [
    "mu_chi"
   ]
  },
  {
   "cell_type": "code",
   "execution_count": 395,
   "metadata": {},
   "outputs": [
    {
     "data": {
      "image/png": "[encoded data removed]",
      "text/latex": [
       "$$\\left ( \\sigma_{\\mu}^{2} + \\sigma_{o}^{2}, \\quad \\mu_{\\mu} + \\mu_{o}, \\quad \\frac{4 \\sigma_{\\mu}^{2} \\sigma_{o}^{2}}{\\sigma_{\\mu}^{2} + \\sigma_{o}^{2}}, \\quad \\frac{1}{\\sigma_{\\mu}^{2} + \\sigma_{o}^{2}} \\left(- \\sigma_{\\mu}^{2} \\left(\\chi - 2 \\mu_{o}\\right) + \\sigma_{o}^{2} \\left(\\chi - 2 \\mu_{\\mu}\\right)\\right)\\right )$$"
      ],
      "text/plain": [
       "⎛                           2   2       2                2            ⎞\n",
       "⎜   2     2            4⋅σₘᵤ ⋅σₒ   - σₘᵤ ⋅(χ - 2⋅μₒ) + σₒ ⋅(χ - 2⋅μₘᵤ)⎟\n",
       "⎜σₘᵤ  + σₒ , μₘᵤ + μₒ, ──────────, ───────────────────────────────────⎟\n",
       "⎜                         2     2                  2     2            ⎟\n",
       "⎝                      σₘᵤ  + σₒ                σₘᵤ  + σₒ             ⎠"
      ]
     },
     "execution_count": 395,
     "metadata": {},
     "output_type": "execute_result"
    }
   ],
   "source": [
    "sig_chi_sq, mu_chi_eq, sig_Del_sq, mu_Del_eq"
   ]
  },
  {
   "cell_type": "code",
   "execution_count": 394,
   "metadata": {},
   "outputs": [
    {
     "data": {
      "image/png": "[encoded data removed]",
      "text/latex": [
       "$$\\left ( \\frac{e^{- \\frac{\\left(\\Delta - \\mu_{\\Delta}\\right)^{2}}{2 \\sigma_{\\Delta}^{2}}}}{2 \\pi \\sigma_{\\Delta} \\sigma_{\\chi}} e^{- \\frac{\\left(\\chi - \\mu_{\\chi}\\right)^{2}}{2 \\sigma_{\\chi}^{2}}}, \\quad \\frac{e^{- \\frac{\\left(\\delta_{\\mu} - \\sigma_{\\mu}\\right)^{2}}{2 \\sigma_{\\mu}^{2}}}}{2 \\pi \\sigma_{\\mu} \\sigma_{o}} e^{- \\frac{\\left(\\delta_{o} - \\sigma_{o}\\right)^{2}}{2 \\sigma_{o}^{2}}}\\right )$$"
      ],
      "text/plain": [
       "⎛           2            2                2             2 ⎞\n",
       "⎜ -(Δ - μ_Δ)    -(χ - μᵪ)     -(δₘᵤ - σₘᵤ)    -(δₒ - σₒ)  ⎟\n",
       "⎜ ────────────  ───────────   ──────────────  ────────────⎟\n",
       "⎜         2            2               2             2    ⎟\n",
       "⎜    2⋅σ_Δ         2⋅σᵪ           2⋅σₘᵤ          2⋅σₒ     ⎟\n",
       "⎜ℯ            ⋅ℯ             ℯ              ⋅ℯ            ⎟\n",
       "⎜──────────────────────────, ─────────────────────────────⎟\n",
       "⎝        2⋅π⋅σ_Δ⋅σᵪ                    2⋅π⋅σₘᵤ⋅σₒ         ⎠"
      ]
     },
     "execution_count": 394,
     "metadata": {},
     "output_type": "execute_result"
    }
   ],
   "source": [
    "\n",
    "expfun1, expfun2"
   ]
  },
  {
   "cell_type": "code",
   "execution_count": 407,
   "metadata": {},
   "outputs": [],
   "source": [
    "Del_eq=delo-delm\n",
    "chi_eq=delm+delo\n",
    "expfun3=sym.simplify((sym.simplify(expfun1.subs({sig_Del:sym.sqrt(sig_Del_sq),sig_chi:sym.sqrt(sig_chi_sq),mu_Del:mu_Del_eq,mu_chi:mu_chi_eq}).subs({chi:chi_eq,Del:Del_eq}))/expfun2))\n",
    "expfun3_lam=sym.lambdify((delo,delm,sigo,sigm,muo,mum),expfun3)"
   ]
  },
  {
   "cell_type": "code",
   "execution_count": 409,
   "metadata": {},
   "outputs": [
    {
     "data": {
      "image/png": "[encoded data removed]",
      "text/latex": [
       "$$9.632917628548952$$"
      ],
      "text/plain": [
       "9.632917628548952"
      ]
     },
     "execution_count": 409,
     "metadata": {},
     "output_type": "execute_result"
    }
   ],
   "source": [
    "expfun3_lam(1,34,3,4,5,6)"
   ]
  },
  {
   "cell_type": "code",
   "execution_count": null,
   "metadata": {},
   "outputs": [],
   "source": []
  }
 ],
 "metadata": {
  "kernelspec": {
   "display_name": "Python 3",
   "language": "python",
   "name": "python3"
  },
  "language_info": {
   "codemirror_mode": {
    "name": "ipython",
    "version": 3
   },
   "file_extension": ".py",
   "mimetype": "text/x-python",
   "name": "python",
   "nbconvert_exporter": "python",
   "pygments_lexer": "ipython3",
   "version": "3.6.5"
  }
 },
 "nbformat": 4,
 "nbformat_minor": 2
}
