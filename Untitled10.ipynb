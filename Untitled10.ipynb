{
 "cells": [
  {
   "cell_type": "code",
   "execution_count": 1,
   "metadata": {},
   "outputs": [],
   "source": [
    "import sympy as sym\n",
    "sym.init_printing()\n",
    "\n",
    "import numpy as np\n",
    "from math import pi\n",
    "import math\n",
    "\n",
    "import matplotlib.pyplot as plt\n",
    "from sympy import I, Matrix, symbols\n",
    "from sympy.physics.quantum import TensorProduct, Dagger\n"
   ]
  },
  {
   "cell_type": "code",
   "execution_count": 2,
   "metadata": {},
   "outputs": [],
   "source": [
    "g,d,A = sym.symbols('gamma delta A', real=True)"
   ]
  },
  {
   "cell_type": "code",
   "execution_count": 12,
   "metadata": {},
   "outputs": [
    {
     "data": {
      "image/png": "[encoded data removed]",
      "text/latex": [
       "$$\\frac{- 8 A^{2} + 8 \\delta^{2} + 2 \\gamma^{2}}{4 A^{2} - 4 \\delta^{2} - 4 i \\delta \\gamma + \\gamma^{2}}$$"
      ],
      "text/plain": [
       "        2      2      2   \n",
       "   - 8⋅A  + 8⋅δ  + 2⋅γ    \n",
       "──────────────────────────\n",
       "   2      2              2\n",
       "4⋅A  - 4⋅δ  - 4⋅ⅈ⋅δ⋅γ + γ "
      ]
     },
     "execution_count": 12,
     "metadata": {},
     "output_type": "execute_result"
    }
   ],
   "source": [
    "eta_eq1=((g+2*I*(d-A))/(g-2*I*(d-A))+(g+2*I*(d+A))/(g-2*I*(d+A)))\n",
    "sym.simplify(eta_eq1)"
   ]
  },
  {
   "cell_type": "code",
   "execution_count": 27,
   "metadata": {},
   "outputs": [
    {
     "data": {
      "image/png": "[encoded data removed]",
      "text/latex": [
       "$$\\frac{A^{2} \\gamma^{2} \\left(- 4096 A^{2} + 1024 \\gamma^{2}\\right)}{256 A^{8} + 256 A^{6} \\gamma^{2} + 96 A^{4} \\gamma^{4} + 16 A^{2} \\gamma^{6} + \\gamma^{8}}$$"
      ],
      "text/plain": [
       "          2  2 ⎛        2         2⎞         \n",
       "         A ⋅γ ⋅⎝- 4096⋅A  + 1024⋅γ ⎠         \n",
       "─────────────────────────────────────────────\n",
       "     8        6  2       4  4       2  6    8\n",
       "256⋅A  + 256⋅A ⋅γ  + 96⋅A ⋅γ  + 16⋅A ⋅γ  + γ "
      ]
     },
     "execution_count": 27,
     "metadata": {},
     "output_type": "execute_result"
    }
   ],
   "source": [
    "(sym.simplify(sym.diff(sym.diff(sym.conjugate(eta_eq1)*eta_eq1,d),d).subs(d,0)))"
   ]
  },
  {
   "cell_type": "code",
   "execution_count": 18,
   "metadata": {},
   "outputs": [],
   "source": [
    "x=sym.symbols('x')"
   ]
  },
  {
   "cell_type": "code",
   "execution_count": 20,
   "metadata": {},
   "outputs": [
    {
     "data": {
      "image/png": "[encoded data removed]",
      "text/latex": [
       "$$2 x$$"
      ],
      "text/plain": [
       "2⋅x"
      ]
     },
     "execution_count": 20,
     "metadata": {},
     "output_type": "execute_result"
    }
   ],
   "source": [
    "\n",
    "sym.diff(x**2,x)"
   ]
  },
  {
   "cell_type": "code",
   "execution_count": 7,
   "metadata": {},
   "outputs": [],
   "source": [
    "import scipy.optimize"
   ]
  },
  {
   "cell_type": "code",
   "execution_count": 63,
   "metadata": {},
   "outputs": [],
   "source": [
    "def rho_func(bb,aa):\n",
    "    b1=bb.real\n",
    "    b2=bb.imag\n",
    "    c1=b1*aa\n",
    "    c2=b2+aa\n",
    "    return c1+1j*c2\n",
    "\n",
    "def output_vec_func(out_vec,aa):\n",
    "    bb=out_vec[0]+1j*out_vec[1]\n",
    "    rho=rho_func(bb,aa)\n",
    "    bout=rho*bb+10\n",
    "    print(rho)\n",
    "    return [bout.real, bout.imag,rho.real,rho.imag]-out_vec\n",
    "def find_output(aa):\n",
    "    output_zero=lambda x: output_vec_func(x,aa)\n",
    "    output_found=scipy.optimize.fsolve(output_zero,[0,0,0,0])\n",
    "    return output_found#[0]+1j*output_found[1]\n",
    "\n",
    "def output_vec_func1(out_vec,aa):\n",
    "    bb=out_vec[0]+1j*out_vec[1]\n",
    "    rho=rho_func(bb,aa)\n",
    "    bout=rho*bb+10\n",
    "    print(rho)\n",
    "    return [bout.real, bout.imag]\n",
    "def find_output1(aa):\n",
    "    output_zero=lambda x: output_vec_func1(x,aa)-x\n",
    "    output_found=scipy.optimize.fsolve(output_zero,[0,0])\n",
    "    return output_found#[0]+1j*output_found[1]"
   ]
  },
  {
   "cell_type": "code",
   "execution_count": 64,
   "metadata": {},
   "outputs": [
    {
     "name": "stdout",
     "output_type": "stream",
     "text": [
      "(10+9j)\n",
      "(10+9j)\n",
      "(10+9j)\n",
      "(10.00000013411045+8.999999850988388j)\n",
      "(10+9.000000014901161j)\n",
      "(10+9j)\n",
      "(10+9j)\n",
      "(4.999999991710666+15.111111112044272j)\n",
      "(7.8442988913485046+12.209351643916346j)\n",
      "(7.403015068233292+12.51885529705744j)\n",
      "(7.159870860030132+12.798317971961833j)\n",
      "(7.217116142991795+12.726156000183657j)\n",
      "(7.213484427409009+12.73050744517437j)\n",
      "(7.213382534994963+12.730631938561686j)\n",
      "(7.213383543380572+12.730630679434725j)\n",
      "(7.213383533035788+12.73063069242234j)\n"
     ]
    },
    {
     "data": {
      "text/plain": [
       "array([-0.30962405,  0.63439017,  7.21338353, 12.73063069])"
      ]
     },
     "execution_count": 64,
     "metadata": {},
     "output_type": "execute_result"
    }
   ],
   "source": [
    "find_output(9-10j)"
   ]
  },
  {
   "cell_type": "code",
   "execution_count": 58,
   "metadata": {},
   "outputs": [
    {
     "name": "stdout",
     "output_type": "stream",
     "text": [
      "(10+9j)\n",
      "(10+9j)\n",
      "(10+9j)\n",
      "(10.00000013411045+8.999999850988388j)\n",
      "(10+9.000000014901161j)\n",
      "(4.9999999917106726+15.111111112044265j)\n",
      "(8.19767441886866+11.84883721875629j)\n",
      "(7.289185565841751+12.669760572441287j)\n",
      "(7.230342298755795+12.709080157595904j)\n",
      "(7.210381737988423+12.734338856882355j)\n",
      "(7.213423213811598+12.730582520275028j)\n",
      "(7.213383191978605+12.730631115190102j)\n",
      "(7.213383529105208+12.730630697273083j)\n",
      "(7.213383533069691+12.730630692379957j)\n"
     ]
    },
    {
     "data": {
      "text/plain": [
       "array([-0.30962405,  0.63439017])"
      ]
     },
     "execution_count": 58,
     "metadata": {},
     "output_type": "execute_result"
    }
   ],
   "source": [
    "find_output1(9-10j)"
   ]
  },
  {
   "cell_type": "code",
   "execution_count": 130,
   "metadata": {},
   "outputs": [],
   "source": [
    "def commat_to_realvec(M):\n",
    "    #Mr=np.ndarray.flatten(M.real)\n",
    "    #Mi=np.ndarray.flatten(M.imag)\n",
    "    Mr=np.reshape(M.real,(-1,9))\n",
    "    Mi=np.reshape(M.imag,(-1,9))\n",
    "    return np.hstack((Mr[0],Mi[0]))\n",
    "def realvec_to_commat(M):\n",
    "    Mcomplex=M[0:9]+1j*M[9:18]\n",
    "    return np.reshape(Mcomplex,(3,3))"
   ]
  },
  {
   "cell_type": "code",
   "execution_count": 127,
   "metadata": {},
   "outputs": [],
   "source": [
    "M=np.array([[1,2,3],[2,4,5],[3,5,6]])+np.array([[0,1,2],[-1,0,3],[-2,-3,0]])*1j"
   ]
  },
  {
   "cell_type": "code",
   "execution_count": 128,
   "metadata": {},
   "outputs": [
    {
     "data": {
      "image/png": "[encoded data removed]",
      "text/latex": [
       "$$\\left ( 18\\right )$$"
      ],
      "text/plain": [
       "(18,)"
      ]
     },
     "execution_count": 128,
     "metadata": {},
     "output_type": "execute_result"
    }
   ],
   "source": [
    "(commat_to_realvec(M)).shape"
   ]
  },
  {
   "cell_type": "code",
   "execution_count": 133,
   "metadata": {},
   "outputs": [
    {
     "name": "stdout",
     "output_type": "stream",
     "text": [
      "   (18,)\n",
      "   (9,)\n"
     ]
    },
    {
     "data": {
      "text/plain": [
       "array([[0.+0.j, 0.+0.j, 0.+0.j],\n",
       "       [0.+0.j, 0.+0.j, 0.+0.j],\n",
       "       [0.+0.j, 0.+0.j, 0.+0.j]])"
      ]
     },
     "execution_count": 133,
     "metadata": {},
     "output_type": "execute_result"
    }
   ],
   "source": [
    "realvec_to_commat(commat_to_realvec(M))-M"
   ]
  },
  {
   "cell_type": "code",
   "execution_count": 134,
   "metadata": {},
   "outputs": [],
   "source": [
    "aa=np.array([1,2,3,4,5,6])"
   ]
  },
  {
   "cell_type": "code",
   "execution_count": 139,
   "metadata": {},
   "outputs": [
    {
     "data": {
      "text/plain": [
       "array([4, 5])"
      ]
     },
     "execution_count": 139,
     "metadata": {},
     "output_type": "execute_result"
    }
   ],
   "source": [
    "aa[3:-1]"
   ]
  },
  {
   "cell_type": "code",
   "execution_count": null,
   "metadata": {},
   "outputs": [],
   "source": []
  }
 ],
 "metadata": {
  "kernelspec": {
   "display_name": "Python 3",
   "language": "python",
   "name": "python3"
  },
  "language_info": {
   "codemirror_mode": {
    "name": "ipython",
    "version": 3
   },
   "file_extension": ".py",
   "mimetype": "text/x-python",
   "name": "python",
   "nbconvert_exporter": "python",
   "pygments_lexer": "ipython3",
   "version": "3.6.5"
  }
 },
 "nbformat": 4,
 "nbformat_minor": 2
}
