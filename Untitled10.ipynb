{
 "cells": [
  {
   "cell_type": "code",
   "execution_count": 1,
   "metadata": {},
   "outputs": [],
   "source": [
    "import sympy as sym\n",
    "sym.init_printing()\n",
    "\n",
    "import numpy as np\n",
    "from math import pi\n",
    "import math\n",
    "\n",
    "import matplotlib.pyplot as plt\n",
    "from sympy import I, Matrix, symbols\n",
    "from sympy.physics.quantum import TensorProduct, Dagger\n"
   ]
  },
  {
   "cell_type": "code",
   "execution_count": 2,
   "metadata": {},
   "outputs": [],
   "source": [
    "g,d,A = sym.symbols('gamma delta A', real=True)"
   ]
  },
  {
   "cell_type": "code",
   "execution_count": 12,
   "metadata": {},
   "outputs": [
    {
     "data": {
      "image/png": "[encoded data removed]",
      "text/latex": [
       "$$\\frac{- 8 A^{2} + 8 \\delta^{2} + 2 \\gamma^{2}}{4 A^{2} - 4 \\delta^{2} - 4 i \\delta \\gamma + \\gamma^{2}}$$"
      ],
      "text/plain": [
       "        2      2      2   \n",
       "   - 8⋅A  + 8⋅δ  + 2⋅γ    \n",
       "──────────────────────────\n",
       "   2      2              2\n",
       "4⋅A  - 4⋅δ  - 4⋅ⅈ⋅δ⋅γ + γ "
      ]
     },
     "execution_count": 12,
     "metadata": {},
     "output_type": "execute_result"
    }
   ],
   "source": [
    "eta_eq1=((g+2*I*(d-A))/(g-2*I*(d-A))+(g+2*I*(d+A))/(g-2*I*(d+A)))\n",
    "sym.simplify(eta_eq1)"
   ]
  },
  {
   "cell_type": "code",
   "execution_count": 27,
   "metadata": {},
   "outputs": [
    {
     "data": {
      "image/png": "[encoded data removed]",
      "text/latex": [
       "$$\\frac{A^{2} \\gamma^{2} \\left(- 4096 A^{2} + 1024 \\gamma^{2}\\right)}{256 A^{8} + 256 A^{6} \\gamma^{2} + 96 A^{4} \\gamma^{4} + 16 A^{2} \\gamma^{6} + \\gamma^{8}}$$"
      ],
      "text/plain": [
       "          2  2 ⎛        2         2⎞         \n",
       "         A ⋅γ ⋅⎝- 4096⋅A  + 1024⋅γ ⎠         \n",
       "─────────────────────────────────────────────\n",
       "     8        6  2       4  4       2  6    8\n",
       "256⋅A  + 256⋅A ⋅γ  + 96⋅A ⋅γ  + 16⋅A ⋅γ  + γ "
      ]
     },
     "execution_count": 27,
     "metadata": {},
     "output_type": "execute_result"
    }
   ],
   "source": [
    "(sym.simplify(sym.diff(sym.diff(sym.conjugate(eta_eq1)*eta_eq1,d),d).subs(d,0)))"
   ]
  },
  {
   "cell_type": "code",
   "execution_count": 18,
   "metadata": {},
   "outputs": [],
   "source": [
    "x=sym.symbols('x')"
   ]
  },
  {
   "cell_type": "code",
   "execution_count": 20,
   "metadata": {},
   "outputs": [
    {
     "data": {
      "image/png": "[encoded data removed]",
      "text/latex": [
       "$$2 x$$"
      ],
      "text/plain": [
       "2⋅x"
      ]
     },
     "execution_count": 20,
     "metadata": {},
     "output_type": "execute_result"
    }
   ],
   "source": [
    "\n",
    "sym.diff(x**2,x)"
   ]
  },
  {
   "cell_type": "code",
   "execution_count": null,
   "metadata": {},
   "outputs": [],
   "source": []
  }
 ],
 "metadata": {
  "kernelspec": {
   "display_name": "Python 3",
   "language": "python",
   "name": "python3"
  },
  "language_info": {
   "codemirror_mode": {
    "name": "ipython",
    "version": 3
   },
   "file_extension": ".py",
   "mimetype": "text/x-python",
   "name": "python",
   "nbconvert_exporter": "python",
   "pygments_lexer": "ipython3",
   "version": "3.6.5"
  }
 },
 "nbformat": 4,
 "nbformat_minor": 2
}
