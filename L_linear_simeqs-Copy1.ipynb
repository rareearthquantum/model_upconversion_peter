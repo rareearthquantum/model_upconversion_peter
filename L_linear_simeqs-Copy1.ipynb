{
 "cells": [
  {
   "cell_type": "code",
   "execution_count": 1,
   "metadata": {},
   "outputs": [],
   "source": [
    "import sympy as sym\n",
    "sym.init_printing()\n",
    "\n",
    "from sympy import I, Matrix, symbols\n"
   ]
  },
  {
   "cell_type": "code",
   "execution_count": 142,
   "metadata": {},
   "outputs": [],
   "source": [
    "A,B,C,D,F,G =sym.symbols('A B C D F G')\n",
    "a_in,a_out,b_in,b_out=sym.symbols('a_in a_out b_in b_out')\n",
    "\n",
    "Sb12,Sa12=sym.symbols('S_b_1_2 S_a_1_2')\n",
    "Sb13,Sa13=sym.symbols('S_b_1_3 S_a_1_3')\n",
    "w, wcm,wco=sym.symbols('omega omega_c_mu omega_c_o',Real=True) \n",
    "gammi,gammc,gamoi,gamoc=sym.symbols('gamma_mu_i gamma_mu_c gamma_o_i gamma_o_c',positive = True, Real=True)\n"
   ]
  },
  {
   "cell_type": "code",
   "execution_count": 3,
   "metadata": {},
   "outputs": [],
   "source": [
    "\n",
    "in_mat=Matrix([[A,-C],[G,-D]])\n",
    "out_mat=Matrix([[-B,C],[-G,F]])"
   ]
  },
  {
   "cell_type": "code",
   "execution_count": 4,
   "metadata": {},
   "outputs": [
    {
     "data": {
      "text/latex": [
       "$$\\left ( \\left[\\begin{matrix}A & - C\\\\G & - D\\end{matrix}\\right], \\quad \\left[\\begin{matrix}- B & C\\\\- G & F\\end{matrix}\\right]\\right )$$"
      ],
      "text/plain": [
       "⎛⎡A  -C⎤  ⎡-B  C⎤⎞\n",
       "⎜⎢     ⎥, ⎢     ⎥⎟\n",
       "⎝⎣G  -D⎦  ⎣-G  F⎦⎠"
      ]
     },
     "execution_count": 4,
     "metadata": {},
     "output_type": "execute_result"
    }
   ],
   "source": [
    "in_mat, out_mat"
   ]
  },
  {
   "cell_type": "code",
   "execution_count": 5,
   "metadata": {},
   "outputs": [
    {
     "data": {
      "text/latex": [
       "$$\\left[\\begin{matrix}\\frac{A F}{- B F + C G} - \\frac{C G}{- B F + C G} & \\frac{C D}{- B F + C G} - \\frac{C F}{- B F + C G}\\\\\\frac{A G}{- B F + C G} - \\frac{B G}{- B F + C G} & \\frac{B D}{- B F + C G} - \\frac{C G}{- B F + C G}\\end{matrix}\\right]$$"
      ],
      "text/plain": [
       "⎡   A⋅F          C⋅G         C⋅D          C⋅F    ⎤\n",
       "⎢────────── - ──────────  ────────── - ──────────⎥\n",
       "⎢-B⋅F + C⋅G   -B⋅F + C⋅G  -B⋅F + C⋅G   -B⋅F + C⋅G⎥\n",
       "⎢                                                ⎥\n",
       "⎢   A⋅G          B⋅G         B⋅D          C⋅G    ⎥\n",
       "⎢────────── - ──────────  ────────── - ──────────⎥\n",
       "⎣-B⋅F + C⋅G   -B⋅F + C⋅G  -B⋅F + C⋅G   -B⋅F + C⋅G⎦"
      ]
     },
     "execution_count": 5,
     "metadata": {},
     "output_type": "execute_result"
    }
   ],
   "source": [
    "out_mat.inv()*in_mat"
   ]
  },
  {
   "cell_type": "code",
   "execution_count": 144,
   "metadata": {},
   "outputs": [],
   "source": [
    "A_eq=(I*(wcm+Sb12-w)+(gammi-gammc)/2)\n",
    "B_eq=(I*(wcm+Sb12-w)+(gammi+gammc)/2)\n",
    "C_eq=-I*Sa12*sym.sqrt(gammc/gamoc)\n",
    "D_eq=(I*(wco+Sa13-w)+(gamoi-gamoc)/2)\n",
    "F_eq=(I*(wco+Sa13-w)+(gamoi+gamoc)/2)\n",
    "G_eq=-I*Sb13*sym.sqrt(gamoc/gammc)\n"
   ]
  },
  {
   "cell_type": "code",
   "execution_count": 145,
   "metadata": {},
   "outputs": [
    {
     "data": {
      "text/latex": [
       "$$\\left[\\begin{matrix}- \\frac{4 i S_{a 1 2} a_{in} \\sqrt{\\gamma_{\\mu c}} \\sqrt{\\gamma_{o c}}}{4 S_{a 1 2} S_{b 1 3} + \\left(\\gamma_{\\mu c} + \\gamma_{\\mu i} + 2 i \\left(S_{b 1 2} - \\omega + \\omega_{c \\mu}\\right)\\right) \\left(\\gamma_{o c} + \\gamma_{o i} + 2 i \\left(S_{a 1 3} - \\omega + \\omega_{c o}\\right)\\right)} - \\frac{b_{in} \\left(4 S_{a 1 2} S_{b 1 3} + \\left(- \\gamma_{\\mu c} + \\gamma_{\\mu i} + 2 i \\left(S_{b 1 2} - \\omega + \\omega_{c \\mu}\\right)\\right) \\left(\\gamma_{o c} + \\gamma_{o i} + 2 i \\left(S_{a 1 3} - \\omega + \\omega_{c o}\\right)\\right)\\right)}{4 S_{a 1 2} S_{b 1 3} + \\left(\\gamma_{\\mu c} + \\gamma_{\\mu i} + 2 i \\left(S_{b 1 2} - \\omega + \\omega_{c \\mu}\\right)\\right) \\left(\\gamma_{o c} + \\gamma_{o i} + 2 i \\left(S_{a 1 3} - \\omega + \\omega_{c o}\\right)\\right)}\\\\- \\frac{4 i S_{b 1 3} b_{in} \\sqrt{\\gamma_{\\mu c}} \\sqrt{\\gamma_{o c}}}{4 S_{a 1 2} S_{b 1 3} + \\left(\\gamma_{\\mu c} + \\gamma_{\\mu i} + 2 i \\left(S_{b 1 2} - \\omega + \\omega_{c \\mu}\\right)\\right) \\left(\\gamma_{o c} + \\gamma_{o i} + 2 i \\left(S_{a 1 3} - \\omega + \\omega_{c o}\\right)\\right)} - \\frac{a_{in} \\left(4 S_{a 1 2} S_{b 1 3} + \\left(\\gamma_{\\mu c} + \\gamma_{\\mu i} + 2 i \\left(S_{b 1 2} - \\omega + \\omega_{c \\mu}\\right)\\right) \\left(- \\gamma_{o c} + \\gamma_{o i} + 2 i \\left(S_{a 1 3} - \\omega + \\omega_{c o}\\right)\\right)\\right)}{4 S_{a 1 2} S_{b 1 3} + \\left(\\gamma_{\\mu c} + \\gamma_{\\mu i} + 2 i \\left(S_{b 1 2} - \\omega + \\omega_{c \\mu}\\right)\\right) \\left(\\gamma_{o c} + \\gamma_{o i} + 2 i \\left(S_{a 1 3} - \\omega + \\omega_{c o}\\right)\\right)}\\end{matrix}\\right]$$"
      ],
      "text/plain": [
       "⎡                                                      _______   _______      \n",
       "⎢                                     4⋅ⅈ⋅Sₐ ₁ ₂⋅aᵢₙ⋅╲╱ γ_μ_c ⋅╲╱ γ_o_c       \n",
       "⎢- ───────────────────────────────────────────────────────────────────────────\n",
       "⎢  4⋅Sₐ ₁ ₂⋅S_b_1_3 + (γ_μ_c + γₘᵤ ᵢ + 2⋅ⅈ⋅(S_b_1_2 - ω + ω_c_μ))⋅(γ_o_c + γₒ \n",
       "⎢                                                                             \n",
       "⎢                                                      _______   _______      \n",
       "⎢                                    4⋅ⅈ⋅S_b_1_3⋅bᵢₙ⋅╲╱ γ_μ_c ⋅╲╱ γ_o_c       \n",
       "⎢- ───────────────────────────────────────────────────────────────────────────\n",
       "⎣  4⋅Sₐ ₁ ₂⋅S_b_1_3 + (γ_μ_c + γₘᵤ ᵢ + 2⋅ⅈ⋅(S_b_1_2 - ω + ω_c_μ))⋅(γ_o_c + γₒ \n",
       "\n",
       "                                                                              \n",
       "                                bᵢₙ⋅(4⋅Sₐ ₁ ₂⋅S_b_1_3 + (-γ_μ_c + γₘᵤ ᵢ + 2⋅ⅈ⋅\n",
       "───────────────────────────── - ──────────────────────────────────────────────\n",
       "ᵢ + 2⋅ⅈ⋅(Sₐ ₁ ₃ - ω + ω_c_o))       4⋅Sₐ ₁ ₂⋅S_b_1_3 + (γ_μ_c + γₘᵤ ᵢ + 2⋅ⅈ⋅(S\n",
       "                                                                              \n",
       "                                                                              \n",
       "                                aᵢₙ⋅(4⋅Sₐ ₁ ₂⋅S_b_1_3 + (γ_μ_c + γₘᵤ ᵢ + 2⋅ⅈ⋅(\n",
       "───────────────────────────── - ──────────────────────────────────────────────\n",
       "ᵢ + 2⋅ⅈ⋅(Sₐ ₁ ₃ - ω + ω_c_o))       4⋅Sₐ ₁ ₂⋅S_b_1_3 + (γ_μ_c + γₘᵤ ᵢ + 2⋅ⅈ⋅(S\n",
       "\n",
       "                                                                 ⎤\n",
       "(S_b_1_2 - ω + ω_c_μ))⋅(γ_o_c + γₒ ᵢ + 2⋅ⅈ⋅(Sₐ ₁ ₃ - ω + ω_c_o)))⎥\n",
       "─────────────────────────────────────────────────────────────────⎥\n",
       "_b_1_2 - ω + ω_c_μ))⋅(γ_o_c + γₒ ᵢ + 2⋅ⅈ⋅(Sₐ ₁ ₃ - ω + ω_c_o))   ⎥\n",
       "                                                                 ⎥\n",
       "                                                                 ⎥\n",
       "S_b_1_2 - ω + ω_c_μ))⋅(-γ_o_c + γₒ ᵢ + 2⋅ⅈ⋅(Sₐ ₁ ₃ - ω + ω_c_o)))⎥\n",
       "─────────────────────────────────────────────────────────────────⎥\n",
       "_b_1_2 - ω + ω_c_μ))⋅(γ_o_c + γₒ ᵢ + 2⋅ⅈ⋅(Sₐ ₁ ₃ - ω + ω_c_o))   ⎦"
      ]
     },
     "execution_count": 145,
     "metadata": {},
     "output_type": "execute_result"
    }
   ],
   "source": [
    "sym.simplify((out_mat.inv()*in_mat).subs({A:A_eq,B:B_eq,C:C_eq,D:D_eq,F:F_eq,G:G_eq}))*Matrix([[b_in],[a_in]])"
   ]
  },
  {
   "cell_type": "code",
   "execution_count": null,
   "metadata": {},
   "outputs": [],
   "source": []
  },
  {
   "cell_type": "code",
   "execution_count": null,
   "metadata": {},
   "outputs": [],
   "source": []
  },
  {
   "cell_type": "code",
   "execution_count": 8,
   "metadata": {},
   "outputs": [],
   "source": [
    "delo,delm, muo, mum, chi, xi, Del,a,b,c=sym.symbols('delta_o delta_mu mu_o mu_mu chi xi Delta a b c', real=True) \n",
    "sigo, sigm= sym.symbols('sigma_o sigma_mu', real=True, positive=True)\n"
   ]
  },
  {
   "cell_type": "code",
   "execution_count": 9,
   "metadata": {},
   "outputs": [],
   "source": [
    "delosq_eq=2*sigo**2*(chi**2-1/(2*sigm**2)*delm**2)\n",
    "delm_eq=delo-xi+muo-mum"
   ]
  },
  {
   "cell_type": "code",
   "execution_count": 10,
   "metadata": {},
   "outputs": [
    {
     "data": {
      "image/png": "[encoded data removed]",
      "text/latex": [
       "$$\\left ( 2 \\sigma_{o}^{2} \\left(\\chi^{2} - \\frac{\\delta_{\\mu}^{2}}{2 \\sigma_{\\mu}^{2}}\\right), \\quad \\delta_{o} - \\mu_{\\mu} + \\mu_{o} - \\xi\\right )$$"
      ],
      "text/plain": [
       "⎛      ⎛         2 ⎞                   ⎞\n",
       "⎜    2 ⎜ 2    δₘᵤ  ⎟                   ⎟\n",
       "⎜2⋅σₒ ⋅⎜χ  - ──────⎟, δₒ - μₘᵤ + μₒ - ξ⎟\n",
       "⎜      ⎜          2⎟                   ⎟\n",
       "⎝      ⎝     2⋅σₘᵤ ⎠                   ⎠"
      ]
     },
     "execution_count": 10,
     "metadata": {},
     "output_type": "execute_result"
    }
   ],
   "source": [
    "delosq_eq, delm_eq"
   ]
  },
  {
   "cell_type": "code",
   "execution_count": 11,
   "metadata": {},
   "outputs": [
    {
     "data": {
      "image/png": "[encoded data removed]",
      "text/latex": [
       "$$\\left [ \\frac{\\sigma_{o}}{\\sigma_{\\mu}^{2} + \\sigma_{o}^{2}} \\left(- \\sigma_{\\mu} \\sqrt{2 \\chi^{2} \\sigma_{\\mu}^{2} + 2 \\chi^{2} \\sigma_{o}^{2} - \\mu_{\\mu}^{2} + 2 \\mu_{\\mu} \\mu_{o} - 2 \\mu_{\\mu} \\xi - \\mu_{o}^{2} + 2 \\mu_{o} \\xi - \\xi^{2}} + \\sigma_{o} \\left(\\mu_{\\mu} - \\mu_{o} + \\xi\\right)\\right), \\quad \\frac{\\sigma_{o}}{\\sigma_{\\mu}^{2} + \\sigma_{o}^{2}} \\left(\\sigma_{\\mu} \\sqrt{2 \\chi^{2} \\sigma_{\\mu}^{2} + 2 \\chi^{2} \\sigma_{o}^{2} - \\mu_{\\mu}^{2} + 2 \\mu_{\\mu} \\mu_{o} - 2 \\mu_{\\mu} \\xi - \\mu_{o}^{2} + 2 \\mu_{o} \\xi - \\xi^{2}} + \\sigma_{o} \\left(\\mu_{\\mu} - \\mu_{o} + \\xi\\right)\\right)\\right ]$$"
      ],
      "text/plain": [
       "⎡   ⎛         ________________________________________________________________\n",
       "⎢   ⎜        ╱    2    2      2   2      2                          2         \n",
       "⎢σₒ⋅⎝- σₘᵤ⋅╲╱  2⋅χ ⋅σₘᵤ  + 2⋅χ ⋅σₒ  - μₘᵤ  + 2⋅μₘᵤ⋅μₒ - 2⋅μₘᵤ⋅ξ - μₒ  + 2⋅μₒ⋅ξ\n",
       "⎢─────────────────────────────────────────────────────────────────────────────\n",
       "⎢                                                  2     2                    \n",
       "⎣                                               σₘᵤ  + σₒ                     \n",
       "\n",
       "______                    ⎞     ⎛       ______________________________________\n",
       "    2                     ⎟     ⎜      ╱    2    2      2   2      2          \n",
       " - ξ   + σₒ⋅(μₘᵤ - μₒ + ξ)⎠  σₒ⋅⎝σₘᵤ⋅╲╱  2⋅χ ⋅σₘᵤ  + 2⋅χ ⋅σₒ  - μₘᵤ  + 2⋅μₘᵤ⋅μ\n",
       "───────────────────────────, ─────────────────────────────────────────────────\n",
       "                                                                              \n",
       "                                                                           σₘᵤ\n",
       "\n",
       "________________________________                    ⎞⎤\n",
       "                2             2                     ⎟⎥\n",
       "ₒ - 2⋅μₘᵤ⋅ξ - μₒ  + 2⋅μₒ⋅ξ - ξ   + σₒ⋅(μₘᵤ - μₒ + ξ)⎠⎥\n",
       "─────────────────────────────────────────────────────⎥\n",
       "2     2                                              ⎥\n",
       "  + σₒ                                               ⎦"
      ]
     },
     "execution_count": 11,
     "metadata": {},
     "output_type": "execute_result"
    }
   ],
   "source": [
    "delo1=sym.solve(sym.simplify(delosq_eq.subs({delm:delm_eq})-delo**2),delo)\n",
    "delo1"
   ]
  },
  {
   "cell_type": "code",
   "execution_count": 12,
   "metadata": {},
   "outputs": [
    {
     "data": {
      "image/png": "[encoded data removed]",
      "text/latex": [
       "$$\\left [ - \\mu_{\\mu} + \\mu_{o} + \\frac{\\sigma_{o}}{\\sigma_{\\mu}^{2} + \\sigma_{o}^{2}} \\left(- \\sigma_{\\mu} \\sqrt{2 \\chi^{2} \\sigma_{\\mu}^{2} + 2 \\chi^{2} \\sigma_{o}^{2} - \\mu_{\\mu}^{2} + 2 \\mu_{\\mu} \\mu_{o} - 2 \\mu_{\\mu} \\xi - \\mu_{o}^{2} + 2 \\mu_{o} \\xi - \\xi^{2}} + \\sigma_{o} \\left(\\mu_{\\mu} - \\mu_{o} + \\xi\\right)\\right) - \\xi, \\quad - \\mu_{\\mu} + \\mu_{o} + \\frac{\\sigma_{o}}{\\sigma_{\\mu}^{2} + \\sigma_{o}^{2}} \\left(\\sigma_{\\mu} \\sqrt{2 \\chi^{2} \\sigma_{\\mu}^{2} + 2 \\chi^{2} \\sigma_{o}^{2} - \\mu_{\\mu}^{2} + 2 \\mu_{\\mu} \\mu_{o} - 2 \\mu_{\\mu} \\xi - \\mu_{o}^{2} + 2 \\mu_{o} \\xi - \\xi^{2}} + \\sigma_{o} \\left(\\mu_{\\mu} - \\mu_{o} + \\xi\\right)\\right) - \\xi\\right ]$$"
      ],
      "text/plain": [
       "⎡               ⎛         ____________________________________________________\n",
       "⎢               ⎜        ╱    2    2      2   2      2                        \n",
       "⎢            σₒ⋅⎝- σₘᵤ⋅╲╱  2⋅χ ⋅σₘᵤ  + 2⋅χ ⋅σₒ  - μₘᵤ  + 2⋅μₘᵤ⋅μₒ - 2⋅μₘᵤ⋅ξ - \n",
       "⎢-μₘᵤ + μₒ + ─────────────────────────────────────────────────────────────────\n",
       "⎢                                                              2     2        \n",
       "⎣                                                           σₘᵤ  + σₒ         \n",
       "\n",
       "__________________                    ⎞                     ⎛       __________\n",
       "  2             2                     ⎟                     ⎜      ╱    2    2\n",
       "μₒ  + 2⋅μₒ⋅ξ - ξ   + σₒ⋅(μₘᵤ - μₒ + ξ)⎠                  σₒ⋅⎝σₘᵤ⋅╲╱  2⋅χ ⋅σₘᵤ \n",
       "─────────────────────────────────────── - ξ, -μₘᵤ + μₒ + ─────────────────────\n",
       "                                                                              \n",
       "                                                                              \n",
       "\n",
       "____________________________________________________________                  \n",
       "      2   2      2                          2             2                   \n",
       " + 2⋅χ ⋅σₒ  - μₘᵤ  + 2⋅μₘᵤ⋅μₒ - 2⋅μₘᵤ⋅ξ - μₒ  + 2⋅μₒ⋅ξ - ξ   + σₒ⋅(μₘᵤ - μₒ + \n",
       "──────────────────────────────────────────────────────────────────────────────\n",
       "                            2     2                                           \n",
       "                         σₘᵤ  + σₒ                                            \n",
       "\n",
       "  ⎞    ⎤\n",
       "  ⎟    ⎥\n",
       "ξ)⎠    ⎥\n",
       "─── - ξ⎥\n",
       "       ⎥\n",
       "       ⎦"
      ]
     },
     "execution_count": 12,
     "metadata": {},
     "output_type": "execute_result"
    }
   ],
   "source": [
    "delm1=[(delm_eq.subs({delo:delo1[0]})),(delm_eq.subs({delo:delo1[1]}))]\n",
    "delm1"
   ]
  },
  {
   "cell_type": "code",
   "execution_count": 13,
   "metadata": {},
   "outputs": [
    {
     "data": {
      "image/png": "[encoded data removed]",
      "text/latex": [
       "$$\\frac{2 \\chi \\sigma_{\\mu} \\sigma_{o}}{\\sqrt{2 \\chi^{2} \\sigma_{\\mu}^{2} + 2 \\chi^{2} \\sigma_{o}^{2} - \\mu_{\\mu}^{2} + 2 \\mu_{\\mu} \\mu_{o} - 2 \\mu_{\\mu} \\xi - \\mu_{o}^{2} + 2 \\mu_{o} \\xi - \\xi^{2}}}$$"
      ],
      "text/plain": [
       "                                2⋅χ⋅σₘᵤ⋅σₒ                               \n",
       "─────────────────────────────────────────────────────────────────────────\n",
       "   ______________________________________________________________________\n",
       "  ╱    2    2      2   2      2                          2             2 \n",
       "╲╱  2⋅χ ⋅σₘᵤ  + 2⋅χ ⋅σₒ  - μₘᵤ  + 2⋅μₘᵤ⋅μₒ - 2⋅μₘᵤ⋅ξ - μₒ  + 2⋅μₒ⋅ξ - ξ  "
      ]
     },
     "execution_count": 13,
     "metadata": {},
     "output_type": "execute_result"
    }
   ],
   "source": [
    "sym.simplify(sym.simplify(sym.simplify(sym.diff(delo1[0],chi))*sym.simplify(sym.diff(delm1[0],xi)))-sym.simplify(sym.simplify(sym.diff(delo1[0],xi))*sym.simplify(sym.diff(delm1[0],chi))))"
   ]
  },
  {
   "cell_type": "code",
   "execution_count": 14,
   "metadata": {},
   "outputs": [
    {
     "data": {
      "image/png": "[encoded data removed]",
      "text/latex": [
       "$$- \\frac{2 \\chi \\sigma_{\\mu} \\sigma_{o}}{\\sqrt{2 \\chi^{2} \\sigma_{\\mu}^{2} + 2 \\chi^{2} \\sigma_{o}^{2} - \\mu_{\\mu}^{2} + 2 \\mu_{\\mu} \\mu_{o} - 2 \\mu_{\\mu} \\xi - \\mu_{o}^{2} + 2 \\mu_{o} \\xi - \\xi^{2}}}$$"
      ],
      "text/plain": [
       "                               -2⋅χ⋅σₘᵤ⋅σₒ                               \n",
       "─────────────────────────────────────────────────────────────────────────\n",
       "   ______________________________________________________________________\n",
       "  ╱    2    2      2   2      2                          2             2 \n",
       "╲╱  2⋅χ ⋅σₘᵤ  + 2⋅χ ⋅σₒ  - μₘᵤ  + 2⋅μₘᵤ⋅μₒ - 2⋅μₘᵤ⋅ξ - μₒ  + 2⋅μₒ⋅ξ - ξ  "
      ]
     },
     "execution_count": 14,
     "metadata": {},
     "output_type": "execute_result"
    }
   ],
   "source": [
    "sym.simplify(sym.simplify(sym.simplify(sym.diff(delo1[1],chi))*sym.simplify(sym.diff(delm1[1],xi)))-sym.simplify(sym.simplify(sym.diff(delo1[1],xi))*sym.simplify(sym.diff(delm1[1],chi))))"
   ]
  },
  {
   "cell_type": "code",
   "execution_count": 54,
   "metadata": {},
   "outputs": [
    {
     "data": {
      "image/png": "[encoded data removed]",
      "text/latex": [
       "$$\\frac{1}{8 \\sigma_{o}^{2}} \\left(\\Delta + \\chi - 2 \\mu_{o}\\right)^{2} + \\frac{1}{8 \\sigma_{\\mu}^{2}} \\left(\\Delta - \\chi + 2 \\mu_{\\mu}\\right)^{2}$$"
      ],
      "text/plain": [
       "              2                  2\n",
       "(Δ + χ - 2⋅μₒ)    (Δ - χ + 2⋅μₘᵤ) \n",
       "─────────────── + ────────────────\n",
       "         2                  2     \n",
       "     8⋅σₒ              8⋅σₘᵤ      "
      ]
     },
     "execution_count": 54,
     "metadata": {},
     "output_type": "execute_result"
    }
   ],
   "source": [
    "Del_eq=delo-delm\n",
    "chi_eq=delo+delm\n",
    "delo_eq=(chi+Del)/(2)\n",
    "delm_eq=(chi-Del)/(2)\n",
    "sym.simplify(arg1_eq.subs({delo:delo_eq,delm:delm_eq}))"
   ]
  },
  {
   "cell_type": "code",
   "execution_count": null,
   "metadata": {},
   "outputs": [],
   "source": [
    "a,b,f = sym.symbols('a b f', real=True, positive=True)\n",
    "chi, Del, g, c =sym.symbols('chi Delta g c', real=True)"
   ]
  },
  {
   "cell_type": "code",
   "execution_count": 55,
   "metadata": {},
   "outputs": [
    {
     "data": {
      "image/png": "[encoded data removed]",
      "text/latex": [
       "$$\\Delta^{2} b^{2} + \\Delta^{2} f^{2} + 2 \\Delta a b \\chi - 2 \\Delta b c - 2 \\Delta f g + a^{2} \\chi^{2} - 2 a c \\chi + c^{2} + g^{2}$$"
      ],
      "text/plain": [
       " 2  2    2  2                                    2  2              2    2\n",
       "Δ ⋅b  + Δ ⋅f  + 2⋅Δ⋅a⋅b⋅χ - 2⋅Δ⋅b⋅c - 2⋅Δ⋅f⋅g + a ⋅χ  - 2⋅a⋅c⋅χ + c  + g "
      ]
     },
     "execution_count": 55,
     "metadata": {},
     "output_type": "execute_result"
    }
   ],
   "source": [
    "sym.expand((f*Del-g)**2+(a*chi+b*Del-c)**2)"
   ]
  },
  {
   "cell_type": "code",
   "execution_count": 56,
   "metadata": {},
   "outputs": [
    {
     "data": {
      "image/png": "[encoded data removed]",
      "text/latex": [
       "$$\\frac{\\Delta^{2}}{8 \\sigma_{o}^{2}} + \\frac{\\Delta^{2}}{8 \\sigma_{\\mu}^{2}} + \\frac{\\Delta \\chi}{4 \\sigma_{o}^{2}} - \\frac{\\Delta \\chi}{4 \\sigma_{\\mu}^{2}} + \\frac{\\Delta \\mu_{\\mu}}{2 \\sigma_{\\mu}^{2}} - \\frac{\\Delta \\mu_{o}}{2 \\sigma_{o}^{2}} + \\frac{\\chi^{2}}{8 \\sigma_{o}^{2}} + \\frac{\\chi^{2}}{8 \\sigma_{\\mu}^{2}} - \\frac{\\chi \\mu_{\\mu}}{2 \\sigma_{\\mu}^{2}} - \\frac{\\chi \\mu_{o}}{2 \\sigma_{o}^{2}} + \\frac{\\mu_{\\mu}^{2}}{2 \\sigma_{\\mu}^{2}} + \\frac{\\mu_{o}^{2}}{2 \\sigma_{o}^{2}}$$"
      ],
      "text/plain": [
       "   2       2                                          2       2               \n",
       "  Δ       Δ       Δ⋅χ     Δ⋅χ     Δ⋅μₘᵤ     Δ⋅μₒ     χ       χ      χ⋅μₘᵤ     \n",
       "───── + ────── + ───── - ────── + ────── - ───── + ───── + ────── - ────── - ─\n",
       "    2        2       2        2        2       2       2        2        2    \n",
       "8⋅σₒ    8⋅σₘᵤ    4⋅σₒ    4⋅σₘᵤ    2⋅σₘᵤ    2⋅σₒ    8⋅σₒ    8⋅σₘᵤ    2⋅σₘᵤ    2\n",
       "\n",
       "           2       2 \n",
       "χ⋅μₒ    μₘᵤ      μₒ  \n",
       "──── + ────── + ─────\n",
       "   2        2       2\n",
       "⋅σₒ    2⋅σₘᵤ    2⋅σₒ "
      ]
     },
     "execution_count": 56,
     "metadata": {},
     "output_type": "execute_result"
    }
   ],
   "source": [
    "sym.expand(arg1_eq.subs({delo:delo_eq, delm:delm_eq}))\n"
   ]
  },
  {
   "cell_type": "code",
   "execution_count": 57,
   "metadata": {},
   "outputs": [],
   "source": [
    "\n",
    "solve_eqs1=[b**2+f**2,2*a*b,-2*b*c-2*f*g,a**2, -2*a*c]\n",
    "solve_eqs2=[(1/sigo**2+1/sigm**2)/8, (1/sigo**2-1/sigm**2)/4, (mum/sigm**2-muo/sigo**2)/2, (1/sigo**2+1/sigm**2)/8, (-mum/sigm**2-muo/sigo**2)/2]\n",
    "solve_eq_tot=[a_i - b_i for a_i, b_i in zip(solve_eqs1,solve_eqs2)]\n",
    "solve_ans=sym.solve(solve_eq_tot,[a,b,c,f,g])\n"
   ]
  },
  {
   "cell_type": "code",
   "execution_count": null,
   "metadata": {},
   "outputs": [],
   "source": [
    "a_sol=sym.solve(sym.Eq(a**2,(1/sigo**2+1/sigm**2)/8), a)\n",
    "solve_eqs1=[a**2, 2*a*b, -2*a*c,b**2+f**2, -2*b*c-2*f*g]#,c**2+g**2]\n",
    "solve_eqs2=[(1/sigo**2+1/sigm**2)/8,(1/sigo**2-1/sigm**2)/4, (mum/sigm**2-muo/sigo**2)/2, (1/sigo**2+1/sigm**2)/8, (-mum/sigm**2-muo/sigo**2)/2]#, (mum/sigm**2+muo/sigo**2)/2]\n",
    "solve_eq_tot=[a_i - b_i for a_i, b_i in zip(solve_eqs1,solve_eqs2)]\n",
    "solve_ans=sym.solve(solve_eq_tot,[a,b,c,f,g])\n"
   ]
  },
  {
   "cell_type": "code",
   "execution_count": 58,
   "metadata": {},
   "outputs": [
    {
     "data": {
      "image/png": "[encoded data removed]",
      "text/latex": [
       "$$\\left [ \\left ( \\frac{\\sqrt{2 \\sigma_{\\mu}^{2} + 2 \\sigma_{o}^{2}}}{4 \\sigma_{\\mu} \\sigma_{o}}, \\quad \\frac{\\sqrt{2} \\left(\\sigma_{\\mu}^{2} - \\sigma_{o}^{2}\\right)}{4 \\sigma_{\\mu} \\sigma_{o} \\sqrt{\\sigma_{\\mu}^{2} + \\sigma_{o}^{2}}}, \\quad \\frac{\\sqrt{2} \\left(\\mu_{\\mu} \\sigma_{o}^{2} + \\mu_{o} \\sigma_{\\mu}^{2}\\right)}{2 \\sigma_{\\mu} \\sigma_{o} \\sqrt{\\sigma_{\\mu}^{2} + \\sigma_{o}^{2}}}, \\quad \\frac{\\sqrt{2}}{2 \\sqrt{\\sigma_{\\mu}^{2} + \\sigma_{o}^{2}}}, \\quad \\frac{\\sqrt{2} \\left(- \\mu_{\\mu} + \\mu_{o}\\right)}{2 \\sqrt{\\sigma_{\\mu}^{2} + \\sigma_{o}^{2}}}\\right )\\right ]$$"
      ],
      "text/plain": [
       "⎡⎛   ________________                                                         \n",
       "⎢⎜  ╱      2       2          ⎛   2     2⎞           ⎛      2         2⎞      \n",
       "⎢⎜╲╱  2⋅σₘᵤ  + 2⋅σₒ        √2⋅⎝σₘᵤ  - σₒ ⎠        √2⋅⎝μₘᵤ⋅σₒ  + μₒ⋅σₘᵤ ⎠      \n",
       "⎢⎜───────────────────, ────────────────────────, ────────────────────────, ───\n",
       "⎢⎜      4⋅σₘᵤ⋅σₒ                   ____________              ____________     \n",
       "⎢⎜                                ╱    2     2              ╱    2     2      \n",
       "⎣⎝                     4⋅σₘᵤ⋅σₒ⋅╲╱  σₘᵤ  + σₒ    2⋅σₘᵤ⋅σₒ⋅╲╱  σₘᵤ  + σₒ    2⋅╲\n",
       "\n",
       "                                 ⎞⎤\n",
       "                                 ⎟⎥\n",
       "     √2           √2⋅(-μₘᵤ + μₒ) ⎟⎥\n",
       "──────────────, ─────────────────⎟⎥\n",
       "  ____________       ____________⎟⎥\n",
       " ╱    2     2       ╱    2     2 ⎟⎥\n",
       "╱  σₘᵤ  + σₒ    2⋅╲╱  σₘᵤ  + σₒ  ⎠⎦"
      ]
     },
     "execution_count": 58,
     "metadata": {},
     "output_type": "execute_result"
    }
   ],
   "source": [
    "solve_ans"
   ]
  },
  {
   "cell_type": "code",
   "execution_count": 59,
   "metadata": {},
   "outputs": [
    {
     "data": {
      "image/png": "[encoded data removed]",
      "text/latex": [
       "$$\\left ( \\frac{\\sqrt{2 \\sigma_{\\mu}^{2} + 2 \\sigma_{o}^{2}}}{4 \\sigma_{\\mu} \\sigma_{o}}, \\quad \\frac{\\sqrt{2} \\left(\\sigma_{\\mu}^{2} - \\sigma_{o}^{2}\\right)}{4 \\sigma_{\\mu} \\sigma_{o} \\sqrt{\\sigma_{\\mu}^{2} + \\sigma_{o}^{2}}}, \\quad \\frac{\\sqrt{2} \\left(\\mu_{\\mu} \\sigma_{o}^{2} + \\mu_{o} \\sigma_{\\mu}^{2}\\right)}{2 \\sigma_{\\mu} \\sigma_{o} \\sqrt{\\sigma_{\\mu}^{2} + \\sigma_{o}^{2}}}, \\quad \\frac{\\sqrt{2}}{2 \\sqrt{\\sigma_{\\mu}^{2} + \\sigma_{o}^{2}}}, \\quad \\frac{\\sqrt{2} \\left(- \\mu_{\\mu} + \\mu_{o}\\right)}{2 \\sqrt{\\sigma_{\\mu}^{2} + \\sigma_{o}^{2}}}\\right )$$"
      ],
      "text/plain": [
       "⎛   ________________                                                          \n",
       "⎜  ╱      2       2          ⎛   2     2⎞           ⎛      2         2⎞       \n",
       "⎜╲╱  2⋅σₘᵤ  + 2⋅σₒ        √2⋅⎝σₘᵤ  - σₒ ⎠        √2⋅⎝μₘᵤ⋅σₒ  + μₒ⋅σₘᵤ ⎠       \n",
       "⎜───────────────────, ────────────────────────, ────────────────────────, ────\n",
       "⎜      4⋅σₘᵤ⋅σₒ                   ____________              ____________      \n",
       "⎜                                ╱    2     2              ╱    2     2       \n",
       "⎝                     4⋅σₘᵤ⋅σₒ⋅╲╱  σₘᵤ  + σₒ    2⋅σₘᵤ⋅σₒ⋅╲╱  σₘᵤ  + σₒ    2⋅╲╱\n",
       "\n",
       "                                ⎞\n",
       "                                ⎟\n",
       "    √2           √2⋅(-μₘᵤ + μₒ) ⎟\n",
       "─────────────, ─────────────────⎟\n",
       " ____________       ____________⎟\n",
       "╱    2     2       ╱    2     2 ⎟\n",
       "  σₘᵤ  + σₒ    2⋅╲╱  σₘᵤ  + σₒ  ⎠"
      ]
     },
     "execution_count": 59,
     "metadata": {},
     "output_type": "execute_result"
    }
   ],
   "source": [
    "[a_sol,b_sol,c_sol,f_sol,g_sol]=solve_ans[0]\n",
    "a_sol,b_sol,c_sol,f_sol,g_sol"
   ]
  },
  {
   "cell_type": "code",
   "execution_count": 62,
   "metadata": {},
   "outputs": [
    {
     "data": {
      "image/png": "[encoded data removed]",
      "text/latex": [
       "$$0$$"
      ],
      "text/plain": [
       "0"
      ]
     },
     "execution_count": 62,
     "metadata": {},
     "output_type": "execute_result"
    }
   ],
   "source": [
    "sym.simplify((f_sol*Del-g_sol)**2+(a_sol*chi+b_sol*Del-c_sol)**2-arg1_eq.subs({delo:delo_eq, delm:delm_eq}))"
   ]
  },
  {
   "cell_type": "code",
   "execution_count": 67,
   "metadata": {},
   "outputs": [
    {
     "data": {
      "image/png": "[encoded data removed]",
      "text/latex": [
       "$$\\frac{\\left(\\Delta + \\mu_{\\mu} - \\mu_{o}\\right)^{2}}{2 \\left(\\sigma_{\\mu}^{2} + \\sigma_{o}^{2}\\right)}$$"
      ],
      "text/plain": [
       "              2\n",
       "(Δ + μₘᵤ - μₒ) \n",
       "───────────────\n",
       "   ⎛   2     2⎞\n",
       " 2⋅⎝σₘᵤ  + σₒ ⎠"
      ]
     },
     "execution_count": 67,
     "metadata": {},
     "output_type": "execute_result"
    }
   ],
   "source": [
    "sym.simplify((f_sol*Del-g_sol)**2)"
   ]
  },
  {
   "cell_type": "code",
   "execution_count": 69,
   "metadata": {},
   "outputs": [
    {
     "data": {
      "image/png": "[encoded data removed]",
      "text/latex": [
       "$$\\frac{1}{8 \\sigma_{\\mu}^{2} \\sigma_{o}^{2} \\left(\\sigma_{\\mu}^{2} + \\sigma_{o}^{2}\\right)} \\left(\\Delta \\left(\\sigma_{\\mu}^{2} - \\sigma_{o}^{2}\\right) + \\chi \\left(\\sigma_{\\mu}^{2} + \\sigma_{o}^{2}\\right) - 2 \\mu_{\\mu} \\sigma_{o}^{2} - 2 \\mu_{o} \\sigma_{\\mu}^{2}\\right)^{2}$$"
      ],
      "text/plain": [
       "                                                         2\n",
       "⎛  ⎛   2     2⎞     ⎛   2     2⎞           2           2⎞ \n",
       "⎝Δ⋅⎝σₘᵤ  - σₒ ⎠ + χ⋅⎝σₘᵤ  + σₒ ⎠ - 2⋅μₘᵤ⋅σₒ  - 2⋅μₒ⋅σₘᵤ ⎠ \n",
       "──────────────────────────────────────────────────────────\n",
       "                      2   2 ⎛   2     2⎞                  \n",
       "                 8⋅σₘᵤ ⋅σₒ ⋅⎝σₘᵤ  + σₒ ⎠                  "
      ]
     },
     "execution_count": 69,
     "metadata": {},
     "output_type": "execute_result"
    }
   ],
   "source": [
    "sym.simplify((a_sol*chi+b_sol*Del-c_sol)**2)"
   ]
  },
  {
   "cell_type": "code",
   "execution_count": 103,
   "metadata": {},
   "outputs": [],
   "source": [
    "mu_Del_eq=muo-mum\n",
    "sig_Del_sq=sigm**2+sigo**2\n",
    "\n",
    "mu_chi_eq=1/(sigm**2+sigo**2)*(sigo**2*(Del+2*mum)-sigm**2*(Del-2*muo))\n",
    "sig_chi_sq=4*sigm**2*sigo**2/(sigm**2+sigo**2)"
   ]
  },
  {
   "cell_type": "code",
   "execution_count": 104,
   "metadata": {},
   "outputs": [
    {
     "data": {
      "image/png": "[encoded data removed]",
      "text/latex": [
       "$$\\left ( \\mu_{\\Delta}, \\quad \\sigma_{\\mu}^{2} + \\sigma_{o}^{2}, \\quad \\mu_{\\chi}, \\quad \\frac{4 \\sigma_{\\mu}^{2} \\sigma_{o}^{2}}{\\sigma_{\\mu}^{2} + \\sigma_{o}^{2}}\\right )$$"
      ],
      "text/plain": [
       "⎛                          2   2⎞\n",
       "⎜        2     2      4⋅σₘᵤ ⋅σₒ ⎟\n",
       "⎜μ_Δ, σₘᵤ  + σₒ , μᵪ, ──────────⎟\n",
       "⎜                        2     2⎟\n",
       "⎝                     σₘᵤ  + σₒ ⎠"
      ]
     },
     "execution_count": 104,
     "metadata": {},
     "output_type": "execute_result"
    }
   ],
   "source": [
    "mu_Del,sig_del_sq,mu_chi,sig_chi_sq"
   ]
  },
  {
   "cell_type": "code",
   "execution_count": 105,
   "metadata": {},
   "outputs": [
    {
     "data": {
      "image/png": "[encoded data removed]",
      "text/latex": [
       "$$0$$"
      ],
      "text/plain": [
       "0"
      ]
     },
     "execution_count": 105,
     "metadata": {},
     "output_type": "execute_result"
    }
   ],
   "source": [
    "sym.simplify((Del-mu_Del_eq)**2/(2*sig_Del_sq)+(chi-mu_chi_eq)**2/(2*sig_chi_sq)-arg1_eq.subs({delo:delo_eq, delm:delm_eq}))"
   ]
  },
  {
   "cell_type": "code",
   "execution_count": 87,
   "metadata": {},
   "outputs": [],
   "source": [
    "muD=sym.symbols('mu_Delta', real=True)\n",
    "sigD=sym.symbols('sigma_Delta', real=True, positive=True)\n",
    "A,B,C,D,E=sym.symbols('A B C D E', real=False)\n"
   ]
  },
  {
   "cell_type": "code",
   "execution_count": 88,
   "metadata": {
    "collapsed": true
   },
   "outputs": [
    {
     "ename": "KeyboardInterrupt",
     "evalue": "",
     "output_type": "error",
     "traceback": [
      "\u001b[0;31m---------------------------------------------------------------------------\u001b[0m",
      "\u001b[0;31mKeyError\u001b[0m                                  Traceback (most recent call last)",
      "\u001b[0;32m~/anaconda3/lib/python3.6/site-packages/sympy/core/assumptions.py\u001b[0m in \u001b[0;36mgetit\u001b[0;34m(self)\u001b[0m\n\u001b[1;32m    242\u001b[0m         \u001b[0;32mtry\u001b[0m\u001b[0;34m:\u001b[0m\u001b[0;34m\u001b[0m\u001b[0m\n\u001b[0;32m--> 243\u001b[0;31m             \u001b[0;32mreturn\u001b[0m \u001b[0mself\u001b[0m\u001b[0;34m.\u001b[0m\u001b[0m_assumptions\u001b[0m\u001b[0;34m[\u001b[0m\u001b[0mfact\u001b[0m\u001b[0;34m]\u001b[0m\u001b[0;34m\u001b[0m\u001b[0m\n\u001b[0m\u001b[1;32m    244\u001b[0m         \u001b[0;32mexcept\u001b[0m \u001b[0mKeyError\u001b[0m\u001b[0;34m:\u001b[0m\u001b[0;34m\u001b[0m\u001b[0m\n",
      "\u001b[0;31mKeyError\u001b[0m: 'finite'",
      "\nDuring handling of the above exception, another exception occurred:\n",
      "\u001b[0;31mKeyboardInterrupt\u001b[0m                         Traceback (most recent call last)",
      "\u001b[0;32m<ipython-input-88-cf759f3dc0dc>\u001b[0m in \u001b[0;36m<module>\u001b[0;34m()\u001b[0m\n\u001b[0;32m----> 1\u001b[0;31m \u001b[0mtest_int\u001b[0m\u001b[0;34m=\u001b[0m\u001b[0msym\u001b[0m\u001b[0;34m.\u001b[0m\u001b[0mintegrate\u001b[0m\u001b[0;34m(\u001b[0m\u001b[0msym\u001b[0m\u001b[0;34m.\u001b[0m\u001b[0mexp\u001b[0m\u001b[0;34m(\u001b[0m\u001b[0;34m-\u001b[0m\u001b[0;34m(\u001b[0m\u001b[0mDel\u001b[0m\u001b[0;34m-\u001b[0m\u001b[0mmuD\u001b[0m\u001b[0;34m)\u001b[0m\u001b[0;34m**\u001b[0m\u001b[0;36m2\u001b[0m\u001b[0;34m/\u001b[0m\u001b[0;34m(\u001b[0m\u001b[0;36m2\u001b[0m\u001b[0;34m*\u001b[0m\u001b[0msigD\u001b[0m\u001b[0;34m**\u001b[0m\u001b[0;36m2\u001b[0m\u001b[0;34m)\u001b[0m\u001b[0;34m)\u001b[0m\u001b[0;34m*\u001b[0m\u001b[0;34m(\u001b[0m\u001b[0mA\u001b[0m\u001b[0;34m*\u001b[0m\u001b[0mDel\u001b[0m\u001b[0;34m**\u001b[0m\u001b[0;36m2\u001b[0m\u001b[0;34m+\u001b[0m\u001b[0mB\u001b[0m\u001b[0;34m*\u001b[0m\u001b[0mDel\u001b[0m\u001b[0;34m+\u001b[0m\u001b[0mC\u001b[0m\u001b[0;34m)\u001b[0m\u001b[0;34m/\u001b[0m\u001b[0;34m(\u001b[0m\u001b[0mD\u001b[0m\u001b[0;34m*\u001b[0m\u001b[0mDel\u001b[0m\u001b[0;34m**\u001b[0m\u001b[0;36m2\u001b[0m\u001b[0;34m+\u001b[0m\u001b[0mE\u001b[0m\u001b[0;34m)\u001b[0m\u001b[0;34m,\u001b[0m\u001b[0mDel\u001b[0m\u001b[0;34m)\u001b[0m\u001b[0;34m\u001b[0m\u001b[0m\n\u001b[0m",
      "\u001b[0;32m~/anaconda3/lib/python3.6/site-packages/sympy/integrals/integrals.py\u001b[0m in \u001b[0;36mintegrate\u001b[0;34m(*args, **kwargs)\u001b[0m\n\u001b[1;32m   1293\u001b[0m     \u001b[0;32mif\u001b[0m \u001b[0misinstance\u001b[0m\u001b[0;34m(\u001b[0m\u001b[0mintegral\u001b[0m\u001b[0;34m,\u001b[0m \u001b[0mIntegral\u001b[0m\u001b[0;34m)\u001b[0m\u001b[0;34m:\u001b[0m\u001b[0;34m\u001b[0m\u001b[0m\n\u001b[1;32m   1294\u001b[0m         return integral.doit(deep=False, meijerg=meijerg, conds=conds,\n\u001b[0;32m-> 1295\u001b[0;31m                              risch=risch, manual=manual)\n\u001b[0m\u001b[1;32m   1296\u001b[0m     \u001b[0;32melse\u001b[0m\u001b[0;34m:\u001b[0m\u001b[0;34m\u001b[0m\u001b[0m\n\u001b[1;32m   1297\u001b[0m         \u001b[0;32mreturn\u001b[0m \u001b[0mintegral\u001b[0m\u001b[0;34m\u001b[0m\u001b[0m\n",
      "\u001b[0;32m~/anaconda3/lib/python3.6/site-packages/sympy/integrals/integrals.py\u001b[0m in \u001b[0;36mdoit\u001b[0;34m(self, **hints)\u001b[0m\n\u001b[1;32m    484\u001b[0m                     \u001b[0mfunction\u001b[0m\u001b[0;34m,\u001b[0m \u001b[0mxab\u001b[0m\u001b[0;34m[\u001b[0m\u001b[0;36m0\u001b[0m\u001b[0;34m]\u001b[0m\u001b[0;34m,\u001b[0m\u001b[0;34m\u001b[0m\u001b[0m\n\u001b[1;32m    485\u001b[0m                     \u001b[0mmeijerg\u001b[0m\u001b[0;34m=\u001b[0m\u001b[0mmeijerg1\u001b[0m\u001b[0;34m,\u001b[0m \u001b[0mrisch\u001b[0m\u001b[0;34m=\u001b[0m\u001b[0mrisch\u001b[0m\u001b[0;34m,\u001b[0m \u001b[0mmanual\u001b[0m\u001b[0;34m=\u001b[0m\u001b[0mmanual\u001b[0m\u001b[0;34m,\u001b[0m\u001b[0;34m\u001b[0m\u001b[0m\n\u001b[0;32m--> 486\u001b[0;31m                     conds=conds)\n\u001b[0m\u001b[1;32m    487\u001b[0m                 \u001b[0;32mif\u001b[0m \u001b[0mantideriv\u001b[0m \u001b[0;32mis\u001b[0m \u001b[0;32mNone\u001b[0m \u001b[0;32mand\u001b[0m \u001b[0mmeijerg1\u001b[0m \u001b[0;32mis\u001b[0m \u001b[0;32mTrue\u001b[0m\u001b[0;34m:\u001b[0m\u001b[0;34m\u001b[0m\u001b[0m\n\u001b[1;32m    488\u001b[0m                     \u001b[0mret\u001b[0m \u001b[0;34m=\u001b[0m \u001b[0mtry_meijerg\u001b[0m\u001b[0;34m(\u001b[0m\u001b[0mfunction\u001b[0m\u001b[0;34m,\u001b[0m \u001b[0mxab\u001b[0m\u001b[0;34m)\u001b[0m\u001b[0;34m\u001b[0m\u001b[0m\n",
      "\u001b[0;32m~/anaconda3/lib/python3.6/site-packages/sympy/integrals/integrals.py\u001b[0m in \u001b[0;36m_eval_integral\u001b[0;34m(self, f, x, meijerg, risch, manual, conds)\u001b[0m\n\u001b[1;32m    784\u001b[0m                 \u001b[0;32mif\u001b[0m \u001b[0mi\u001b[0m\u001b[0;34m:\u001b[0m\u001b[0;34m\u001b[0m\u001b[0m\n\u001b[1;32m    785\u001b[0m                     \u001b[0;31m# There was a nonelementary integral. Try integrating it.\u001b[0m\u001b[0;34m\u001b[0m\u001b[0;34m\u001b[0m\u001b[0m\n\u001b[0;32m--> 786\u001b[0;31m                     \u001b[0;32mreturn\u001b[0m \u001b[0mresult\u001b[0m \u001b[0;34m+\u001b[0m \u001b[0mi\u001b[0m\u001b[0;34m.\u001b[0m\u001b[0mdoit\u001b[0m\u001b[0;34m(\u001b[0m\u001b[0mrisch\u001b[0m\u001b[0;34m=\u001b[0m\u001b[0;32mFalse\u001b[0m\u001b[0;34m)\u001b[0m\u001b[0;34m\u001b[0m\u001b[0m\n\u001b[0m\u001b[1;32m    787\u001b[0m                 \u001b[0;32melse\u001b[0m\u001b[0;34m:\u001b[0m\u001b[0;34m\u001b[0m\u001b[0m\n\u001b[1;32m    788\u001b[0m                     \u001b[0;32mreturn\u001b[0m \u001b[0mresult\u001b[0m\u001b[0;34m\u001b[0m\u001b[0m\n",
      "\u001b[0;32m~/anaconda3/lib/python3.6/site-packages/sympy/integrals/integrals.py\u001b[0m in \u001b[0;36mdoit\u001b[0;34m(self, **hints)\u001b[0m\n\u001b[1;32m    484\u001b[0m                     \u001b[0mfunction\u001b[0m\u001b[0;34m,\u001b[0m \u001b[0mxab\u001b[0m\u001b[0;34m[\u001b[0m\u001b[0;36m0\u001b[0m\u001b[0;34m]\u001b[0m\u001b[0;34m,\u001b[0m\u001b[0;34m\u001b[0m\u001b[0m\n\u001b[1;32m    485\u001b[0m                     \u001b[0mmeijerg\u001b[0m\u001b[0;34m=\u001b[0m\u001b[0mmeijerg1\u001b[0m\u001b[0;34m,\u001b[0m \u001b[0mrisch\u001b[0m\u001b[0;34m=\u001b[0m\u001b[0mrisch\u001b[0m\u001b[0;34m,\u001b[0m \u001b[0mmanual\u001b[0m\u001b[0;34m=\u001b[0m\u001b[0mmanual\u001b[0m\u001b[0;34m,\u001b[0m\u001b[0;34m\u001b[0m\u001b[0m\n\u001b[0;32m--> 486\u001b[0;31m                     conds=conds)\n\u001b[0m\u001b[1;32m    487\u001b[0m                 \u001b[0;32mif\u001b[0m \u001b[0mantideriv\u001b[0m \u001b[0;32mis\u001b[0m \u001b[0;32mNone\u001b[0m \u001b[0;32mand\u001b[0m \u001b[0mmeijerg1\u001b[0m \u001b[0;32mis\u001b[0m \u001b[0;32mTrue\u001b[0m\u001b[0;34m:\u001b[0m\u001b[0;34m\u001b[0m\u001b[0m\n\u001b[1;32m    488\u001b[0m                     \u001b[0mret\u001b[0m \u001b[0;34m=\u001b[0m \u001b[0mtry_meijerg\u001b[0m\u001b[0;34m(\u001b[0m\u001b[0mfunction\u001b[0m\u001b[0;34m,\u001b[0m \u001b[0mxab\u001b[0m\u001b[0;34m)\u001b[0m\u001b[0;34m\u001b[0m\u001b[0m\n",
      "\u001b[0;32m~/anaconda3/lib/python3.6/site-packages/sympy/integrals/integrals.py\u001b[0m in \u001b[0;36m_eval_integral\u001b[0;34m(self, f, x, meijerg, risch, manual, conds)\u001b[0m\n\u001b[1;32m    892\u001b[0m                 \u001b[0;32mtry\u001b[0m\u001b[0;34m:\u001b[0m\u001b[0;34m\u001b[0m\u001b[0m\n\u001b[1;32m    893\u001b[0m                     \u001b[0;32mif\u001b[0m \u001b[0mconds\u001b[0m \u001b[0;34m==\u001b[0m \u001b[0;34m'piecewise'\u001b[0m\u001b[0;34m:\u001b[0m\u001b[0;34m\u001b[0m\u001b[0m\n\u001b[0;32m--> 894\u001b[0;31m                         \u001b[0mh\u001b[0m \u001b[0;34m=\u001b[0m \u001b[0mheurisch_wrapper\u001b[0m\u001b[0;34m(\u001b[0m\u001b[0mg\u001b[0m\u001b[0;34m,\u001b[0m \u001b[0mx\u001b[0m\u001b[0;34m,\u001b[0m \u001b[0mhints\u001b[0m\u001b[0;34m=\u001b[0m\u001b[0;34m[\u001b[0m\u001b[0;34m]\u001b[0m\u001b[0;34m)\u001b[0m\u001b[0;34m\u001b[0m\u001b[0m\n\u001b[0m\u001b[1;32m    895\u001b[0m                     \u001b[0;32melse\u001b[0m\u001b[0;34m:\u001b[0m\u001b[0;34m\u001b[0m\u001b[0m\n\u001b[1;32m    896\u001b[0m                         \u001b[0mh\u001b[0m \u001b[0;34m=\u001b[0m \u001b[0mheurisch\u001b[0m\u001b[0;34m(\u001b[0m\u001b[0mg\u001b[0m\u001b[0;34m,\u001b[0m \u001b[0mx\u001b[0m\u001b[0;34m,\u001b[0m \u001b[0mhints\u001b[0m\u001b[0;34m=\u001b[0m\u001b[0;34m[\u001b[0m\u001b[0;34m]\u001b[0m\u001b[0;34m)\u001b[0m\u001b[0;34m\u001b[0m\u001b[0m\n",
      "\u001b[0;32m~/anaconda3/lib/python3.6/site-packages/sympy/integrals/heurisch.py\u001b[0m in \u001b[0;36mheurisch_wrapper\u001b[0;34m(f, x, rewrite, hints, mappings, retries, degree_offset, unnecessary_permutations)\u001b[0m\n\u001b[1;32m    128\u001b[0m \u001b[0;34m\u001b[0m\u001b[0m\n\u001b[1;32m    129\u001b[0m     res = heurisch(f, x, rewrite, hints, mappings, retries, degree_offset,\n\u001b[0;32m--> 130\u001b[0;31m                    unnecessary_permutations)\n\u001b[0m\u001b[1;32m    131\u001b[0m     \u001b[0;32mif\u001b[0m \u001b[0;32mnot\u001b[0m \u001b[0misinstance\u001b[0m\u001b[0;34m(\u001b[0m\u001b[0mres\u001b[0m\u001b[0;34m,\u001b[0m \u001b[0mBasic\u001b[0m\u001b[0;34m)\u001b[0m\u001b[0;34m:\u001b[0m\u001b[0;34m\u001b[0m\u001b[0m\n\u001b[1;32m    132\u001b[0m         \u001b[0;32mreturn\u001b[0m \u001b[0mres\u001b[0m\u001b[0;34m\u001b[0m\u001b[0m\n",
      "\u001b[0;32m~/anaconda3/lib/python3.6/site-packages/sympy/integrals/heurisch.py\u001b[0m in \u001b[0;36mheurisch\u001b[0;34m(f, x, rewrite, hints, mappings, retries, degree_offset, unnecessary_permutations)\u001b[0m\n\u001b[1;32m    661\u001b[0m             \u001b[0msolution\u001b[0m \u001b[0;34m=\u001b[0m \u001b[0m_integrate\u001b[0m\u001b[0;34m(\u001b[0m\u001b[0;34m)\u001b[0m\u001b[0;34m\u001b[0m\u001b[0m\n\u001b[1;32m    662\u001b[0m     \u001b[0;32melse\u001b[0m\u001b[0;34m:\u001b[0m\u001b[0;34m\u001b[0m\u001b[0m\n\u001b[0;32m--> 663\u001b[0;31m         \u001b[0msolution\u001b[0m \u001b[0;34m=\u001b[0m \u001b[0m_integrate\u001b[0m\u001b[0;34m(\u001b[0m\u001b[0;34m)\u001b[0m\u001b[0;34m\u001b[0m\u001b[0m\n\u001b[0m\u001b[1;32m    664\u001b[0m \u001b[0;34m\u001b[0m\u001b[0m\n\u001b[1;32m    665\u001b[0m     \u001b[0;32mif\u001b[0m \u001b[0msolution\u001b[0m \u001b[0;32mis\u001b[0m \u001b[0;32mnot\u001b[0m \u001b[0;32mNone\u001b[0m\u001b[0;34m:\u001b[0m\u001b[0;34m\u001b[0m\u001b[0m\n",
      "\u001b[0;32m~/anaconda3/lib/python3.6/site-packages/sympy/integrals/heurisch.py\u001b[0m in \u001b[0;36m_integrate\u001b[0;34m(field)\u001b[0m\n\u001b[1;32m    647\u001b[0m         \u001b[0;32mexcept\u001b[0m \u001b[0mValueError\u001b[0m\u001b[0;34m:\u001b[0m\u001b[0;34m\u001b[0m\u001b[0m\n\u001b[1;32m    648\u001b[0m             \u001b[0;32mraise\u001b[0m \u001b[0mPolynomialError\u001b[0m\u001b[0;34m\u001b[0m\u001b[0m\n\u001b[0;32m--> 649\u001b[0;31m         \u001b[0msolution\u001b[0m \u001b[0;34m=\u001b[0m \u001b[0msolve_lin_sys\u001b[0m\u001b[0;34m(\u001b[0m\u001b[0mnumer\u001b[0m\u001b[0;34m.\u001b[0m\u001b[0mcoeffs\u001b[0m\u001b[0;34m(\u001b[0m\u001b[0;34m)\u001b[0m\u001b[0;34m,\u001b[0m \u001b[0mcoeff_ring\u001b[0m\u001b[0;34m,\u001b[0m \u001b[0m_raw\u001b[0m\u001b[0;34m=\u001b[0m\u001b[0;32mFalse\u001b[0m\u001b[0;34m)\u001b[0m\u001b[0;34m\u001b[0m\u001b[0m\n\u001b[0m\u001b[1;32m    650\u001b[0m \u001b[0;34m\u001b[0m\u001b[0m\n\u001b[1;32m    651\u001b[0m         \u001b[0;32mif\u001b[0m \u001b[0msolution\u001b[0m \u001b[0;32mis\u001b[0m \u001b[0;32mNone\u001b[0m\u001b[0;34m:\u001b[0m\u001b[0;34m\u001b[0m\u001b[0m\n",
      "\u001b[0;32m~/anaconda3/lib/python3.6/site-packages/sympy/polys/solvers.py\u001b[0m in \u001b[0;36msolve_lin_sys\u001b[0;34m(eqs, ring, _raw)\u001b[0m\n\u001b[1;32m     40\u001b[0m \u001b[0;34m\u001b[0m\u001b[0m\n\u001b[1;32m     41\u001b[0m     \u001b[0;31m# solve by row-reduction\u001b[0m\u001b[0;34m\u001b[0m\u001b[0;34m\u001b[0m\u001b[0m\n\u001b[0;32m---> 42\u001b[0;31m     \u001b[0mechelon\u001b[0m\u001b[0;34m,\u001b[0m \u001b[0mpivots\u001b[0m \u001b[0;34m=\u001b[0m \u001b[0mmatrix\u001b[0m\u001b[0;34m.\u001b[0m\u001b[0mrref\u001b[0m\u001b[0;34m(\u001b[0m\u001b[0miszerofunc\u001b[0m\u001b[0;34m=\u001b[0m\u001b[0;32mlambda\u001b[0m \u001b[0mx\u001b[0m\u001b[0;34m:\u001b[0m \u001b[0;32mnot\u001b[0m \u001b[0mx\u001b[0m\u001b[0;34m,\u001b[0m \u001b[0msimplify\u001b[0m\u001b[0;34m=\u001b[0m\u001b[0;32mlambda\u001b[0m \u001b[0mx\u001b[0m\u001b[0;34m:\u001b[0m \u001b[0mx\u001b[0m\u001b[0;34m)\u001b[0m\u001b[0;34m\u001b[0m\u001b[0m\n\u001b[0m\u001b[1;32m     43\u001b[0m \u001b[0;34m\u001b[0m\u001b[0m\n\u001b[1;32m     44\u001b[0m     \u001b[0;31m# construct the returnable form of the solutions\u001b[0m\u001b[0;34m\u001b[0m\u001b[0;34m\u001b[0m\u001b[0m\n",
      "\u001b[0;32m~/anaconda3/lib/python3.6/site-packages/sympy/matrices/matrices.py\u001b[0m in \u001b[0;36mrref\u001b[0;34m(self, iszerofunc, simplify, pivots, normalize_last)\u001b[0m\n\u001b[1;32m    878\u001b[0m         ret, pivot_cols = self._eval_rref(iszerofunc=iszerofunc,\n\u001b[1;32m    879\u001b[0m                                           \u001b[0msimpfunc\u001b[0m\u001b[0;34m=\u001b[0m\u001b[0msimpfunc\u001b[0m\u001b[0;34m,\u001b[0m\u001b[0;34m\u001b[0m\u001b[0m\n\u001b[0;32m--> 880\u001b[0;31m                                           normalize_last=normalize_last)\n\u001b[0m\u001b[1;32m    881\u001b[0m         \u001b[0;32mif\u001b[0m \u001b[0mpivots\u001b[0m\u001b[0;34m:\u001b[0m\u001b[0;34m\u001b[0m\u001b[0m\n\u001b[1;32m    882\u001b[0m             \u001b[0mret\u001b[0m \u001b[0;34m=\u001b[0m \u001b[0;34m(\u001b[0m\u001b[0mret\u001b[0m\u001b[0;34m,\u001b[0m \u001b[0mpivot_cols\u001b[0m\u001b[0;34m)\u001b[0m\u001b[0;34m\u001b[0m\u001b[0m\n",
      "\u001b[0;32m~/anaconda3/lib/python3.6/site-packages/sympy/matrices/matrices.py\u001b[0m in \u001b[0;36m_eval_rref\u001b[0;34m(self, iszerofunc, simpfunc, normalize_last)\u001b[0m\n\u001b[1;32m    533\u001b[0m         reduced, pivot_cols, swaps = self._row_reduce(iszerofunc, simpfunc,\n\u001b[1;32m    534\u001b[0m                                                       \u001b[0mnormalize_last\u001b[0m\u001b[0;34m,\u001b[0m \u001b[0mnormalize\u001b[0m\u001b[0;34m=\u001b[0m\u001b[0;32mTrue\u001b[0m\u001b[0;34m,\u001b[0m\u001b[0;34m\u001b[0m\u001b[0m\n\u001b[0;32m--> 535\u001b[0;31m                                                       zero_above=True)\n\u001b[0m\u001b[1;32m    536\u001b[0m         \u001b[0;32mreturn\u001b[0m \u001b[0mreduced\u001b[0m\u001b[0;34m,\u001b[0m \u001b[0mpivot_cols\u001b[0m\u001b[0;34m\u001b[0m\u001b[0m\n\u001b[1;32m    537\u001b[0m \u001b[0;34m\u001b[0m\u001b[0m\n",
      "\u001b[0;32m~/anaconda3/lib/python3.6/site-packages/sympy/matrices/matrices.py\u001b[0m in \u001b[0;36m_row_reduce\u001b[0;34m(self, iszerofunc, simpfunc, normalize_last, normalize, zero_above)\u001b[0m\n\u001b[1;32m    689\u001b[0m                     \u001b[0;32mcontinue\u001b[0m\u001b[0;34m\u001b[0m\u001b[0m\n\u001b[1;32m    690\u001b[0m \u001b[0;34m\u001b[0m\u001b[0m\n\u001b[0;32m--> 691\u001b[0;31m                 \u001b[0mcross_cancel\u001b[0m\u001b[0;34m(\u001b[0m\u001b[0mpivot_val\u001b[0m\u001b[0;34m,\u001b[0m \u001b[0mrow\u001b[0m\u001b[0;34m,\u001b[0m \u001b[0mval\u001b[0m\u001b[0;34m,\u001b[0m \u001b[0mpiv_row\u001b[0m\u001b[0;34m)\u001b[0m\u001b[0;34m\u001b[0m\u001b[0m\n\u001b[0m\u001b[1;32m    692\u001b[0m             \u001b[0mpiv_row\u001b[0m \u001b[0;34m+=\u001b[0m \u001b[0;36m1\u001b[0m\u001b[0;34m\u001b[0m\u001b[0m\n\u001b[1;32m    693\u001b[0m \u001b[0;34m\u001b[0m\u001b[0m\n",
      "\u001b[0;32m~/anaconda3/lib/python3.6/site-packages/sympy/matrices/matrices.py\u001b[0m in \u001b[0;36mcross_cancel\u001b[0;34m(a, i, b, j)\u001b[0m\n\u001b[1;32m    640\u001b[0m             \u001b[0mq\u001b[0m \u001b[0;34m=\u001b[0m \u001b[0;34m(\u001b[0m\u001b[0mj\u001b[0m \u001b[0;34m-\u001b[0m \u001b[0mi\u001b[0m\u001b[0;34m)\u001b[0m\u001b[0;34m*\u001b[0m\u001b[0mcols\u001b[0m\u001b[0;34m\u001b[0m\u001b[0m\n\u001b[1;32m    641\u001b[0m             \u001b[0;32mfor\u001b[0m \u001b[0mp\u001b[0m \u001b[0;32min\u001b[0m \u001b[0mrange\u001b[0m\u001b[0;34m(\u001b[0m\u001b[0mi\u001b[0m\u001b[0;34m*\u001b[0m\u001b[0mcols\u001b[0m\u001b[0;34m,\u001b[0m \u001b[0;34m(\u001b[0m\u001b[0mi\u001b[0m \u001b[0;34m+\u001b[0m \u001b[0;36m1\u001b[0m\u001b[0;34m)\u001b[0m\u001b[0;34m*\u001b[0m\u001b[0mcols\u001b[0m\u001b[0;34m)\u001b[0m\u001b[0;34m:\u001b[0m\u001b[0;34m\u001b[0m\u001b[0m\n\u001b[0;32m--> 642\u001b[0;31m                 \u001b[0mmat\u001b[0m\u001b[0;34m[\u001b[0m\u001b[0mp\u001b[0m\u001b[0;34m]\u001b[0m \u001b[0;34m=\u001b[0m \u001b[0ma\u001b[0m\u001b[0;34m*\u001b[0m\u001b[0mmat\u001b[0m\u001b[0;34m[\u001b[0m\u001b[0mp\u001b[0m\u001b[0;34m]\u001b[0m \u001b[0;34m-\u001b[0m \u001b[0mb\u001b[0m\u001b[0;34m*\u001b[0m\u001b[0mmat\u001b[0m\u001b[0;34m[\u001b[0m\u001b[0mp\u001b[0m \u001b[0;34m+\u001b[0m \u001b[0mq\u001b[0m\u001b[0;34m]\u001b[0m\u001b[0;34m\u001b[0m\u001b[0m\n\u001b[0m\u001b[1;32m    643\u001b[0m \u001b[0;34m\u001b[0m\u001b[0m\n\u001b[1;32m    644\u001b[0m         \u001b[0mpiv_row\u001b[0m\u001b[0;34m,\u001b[0m \u001b[0mpiv_col\u001b[0m \u001b[0;34m=\u001b[0m \u001b[0;36m0\u001b[0m\u001b[0;34m,\u001b[0m \u001b[0;36m0\u001b[0m\u001b[0;34m\u001b[0m\u001b[0m\n",
      "\u001b[0;32m~/anaconda3/lib/python3.6/site-packages/sympy/polys/domains/expressiondomain.py\u001b[0m in \u001b[0;36m__mul__\u001b[0;34m(f, g)\u001b[0m\n\u001b[1;32m     87\u001b[0m \u001b[0;34m\u001b[0m\u001b[0m\n\u001b[1;32m     88\u001b[0m             \u001b[0;32mif\u001b[0m \u001b[0mg\u001b[0m \u001b[0;32mis\u001b[0m \u001b[0;32mnot\u001b[0m \u001b[0;32mNone\u001b[0m\u001b[0;34m:\u001b[0m\u001b[0;34m\u001b[0m\u001b[0m\n\u001b[0;32m---> 89\u001b[0;31m                 \u001b[0;32mreturn\u001b[0m \u001b[0mf\u001b[0m\u001b[0;34m.\u001b[0m\u001b[0msimplify\u001b[0m\u001b[0;34m(\u001b[0m\u001b[0mf\u001b[0m\u001b[0;34m.\u001b[0m\u001b[0mex\u001b[0m\u001b[0;34m*\u001b[0m\u001b[0mg\u001b[0m\u001b[0;34m.\u001b[0m\u001b[0mex\u001b[0m\u001b[0;34m)\u001b[0m\u001b[0;34m\u001b[0m\u001b[0m\n\u001b[0m\u001b[1;32m     90\u001b[0m             \u001b[0;32melse\u001b[0m\u001b[0;34m:\u001b[0m\u001b[0;34m\u001b[0m\u001b[0m\n\u001b[1;32m     91\u001b[0m                 \u001b[0;32mreturn\u001b[0m \u001b[0mNotImplemented\u001b[0m\u001b[0;34m\u001b[0m\u001b[0m\n",
      "\u001b[0;32m~/anaconda3/lib/python3.6/site-packages/sympy/core/decorators.py\u001b[0m in \u001b[0;36m__sympifyit_wrapper\u001b[0;34m(a, b)\u001b[0m\n\u001b[1;32m     89\u001b[0m                 \u001b[0;32mif\u001b[0m \u001b[0;32mnot\u001b[0m \u001b[0mhasattr\u001b[0m\u001b[0;34m(\u001b[0m\u001b[0mb\u001b[0m\u001b[0;34m,\u001b[0m \u001b[0;34m'_op_priority'\u001b[0m\u001b[0;34m)\u001b[0m\u001b[0;34m:\u001b[0m\u001b[0;34m\u001b[0m\u001b[0m\n\u001b[1;32m     90\u001b[0m                     \u001b[0mb\u001b[0m \u001b[0;34m=\u001b[0m \u001b[0msympify\u001b[0m\u001b[0;34m(\u001b[0m\u001b[0mb\u001b[0m\u001b[0;34m,\u001b[0m \u001b[0mstrict\u001b[0m\u001b[0;34m=\u001b[0m\u001b[0;32mTrue\u001b[0m\u001b[0;34m)\u001b[0m\u001b[0;34m\u001b[0m\u001b[0m\n\u001b[0;32m---> 91\u001b[0;31m                 \u001b[0;32mreturn\u001b[0m \u001b[0mfunc\u001b[0m\u001b[0;34m(\u001b[0m\u001b[0ma\u001b[0m\u001b[0;34m,\u001b[0m \u001b[0mb\u001b[0m\u001b[0;34m)\u001b[0m\u001b[0;34m\u001b[0m\u001b[0m\n\u001b[0m\u001b[1;32m     92\u001b[0m             \u001b[0;32mexcept\u001b[0m \u001b[0mSympifyError\u001b[0m\u001b[0;34m:\u001b[0m\u001b[0;34m\u001b[0m\u001b[0m\n\u001b[1;32m     93\u001b[0m                 \u001b[0;32mreturn\u001b[0m \u001b[0mretval\u001b[0m\u001b[0;34m\u001b[0m\u001b[0m\n",
      "\u001b[0;32m~/anaconda3/lib/python3.6/site-packages/sympy/core/decorators.py\u001b[0m in \u001b[0;36mbinary_op_wrapper\u001b[0;34m(self, other)\u001b[0m\n\u001b[1;32m    130\u001b[0m                     \u001b[0;32melse\u001b[0m\u001b[0;34m:\u001b[0m\u001b[0;34m\u001b[0m\u001b[0m\n\u001b[1;32m    131\u001b[0m                         \u001b[0;32mreturn\u001b[0m \u001b[0mf\u001b[0m\u001b[0;34m(\u001b[0m\u001b[0mself\u001b[0m\u001b[0;34m)\u001b[0m\u001b[0;34m\u001b[0m\u001b[0m\n\u001b[0;32m--> 132\u001b[0;31m             \u001b[0;32mreturn\u001b[0m \u001b[0mfunc\u001b[0m\u001b[0;34m(\u001b[0m\u001b[0mself\u001b[0m\u001b[0;34m,\u001b[0m \u001b[0mother\u001b[0m\u001b[0;34m)\u001b[0m\u001b[0;34m\u001b[0m\u001b[0m\n\u001b[0m\u001b[1;32m    133\u001b[0m         \u001b[0;32mreturn\u001b[0m \u001b[0mbinary_op_wrapper\u001b[0m\u001b[0;34m\u001b[0m\u001b[0m\n\u001b[1;32m    134\u001b[0m     \u001b[0;32mreturn\u001b[0m \u001b[0mpriority_decorator\u001b[0m\u001b[0;34m\u001b[0m\u001b[0m\n",
      "\u001b[0;32m~/anaconda3/lib/python3.6/site-packages/sympy/core/expr.py\u001b[0m in \u001b[0;36m__mul__\u001b[0;34m(self, other)\u001b[0m\n\u001b[1;32m    138\u001b[0m     \u001b[0;34m@\u001b[0m\u001b[0mcall_highest_priority\u001b[0m\u001b[0;34m(\u001b[0m\u001b[0;34m'__rmul__'\u001b[0m\u001b[0;34m)\u001b[0m\u001b[0;34m\u001b[0m\u001b[0m\n\u001b[1;32m    139\u001b[0m     \u001b[0;32mdef\u001b[0m \u001b[0m__mul__\u001b[0m\u001b[0;34m(\u001b[0m\u001b[0mself\u001b[0m\u001b[0;34m,\u001b[0m \u001b[0mother\u001b[0m\u001b[0;34m)\u001b[0m\u001b[0;34m:\u001b[0m\u001b[0;34m\u001b[0m\u001b[0m\n\u001b[0;32m--> 140\u001b[0;31m         \u001b[0;32mreturn\u001b[0m \u001b[0mMul\u001b[0m\u001b[0;34m(\u001b[0m\u001b[0mself\u001b[0m\u001b[0;34m,\u001b[0m \u001b[0mother\u001b[0m\u001b[0;34m)\u001b[0m\u001b[0;34m\u001b[0m\u001b[0m\n\u001b[0m\u001b[1;32m    141\u001b[0m \u001b[0;34m\u001b[0m\u001b[0m\n\u001b[1;32m    142\u001b[0m     \u001b[0;34m@\u001b[0m\u001b[0m_sympifyit\u001b[0m\u001b[0;34m(\u001b[0m\u001b[0;34m'other'\u001b[0m\u001b[0;34m,\u001b[0m \u001b[0mNotImplemented\u001b[0m\u001b[0;34m)\u001b[0m\u001b[0;34m\u001b[0m\u001b[0m\n",
      "\u001b[0;32m~/anaconda3/lib/python3.6/site-packages/sympy/core/operations.py\u001b[0m in \u001b[0;36m__new__\u001b[0;34m(cls, *args, **options)\u001b[0m\n\u001b[1;32m     39\u001b[0m             \u001b[0;32mreturn\u001b[0m \u001b[0margs\u001b[0m\u001b[0;34m[\u001b[0m\u001b[0;36m0\u001b[0m\u001b[0;34m]\u001b[0m\u001b[0;34m\u001b[0m\u001b[0m\n\u001b[1;32m     40\u001b[0m \u001b[0;34m\u001b[0m\u001b[0m\n\u001b[0;32m---> 41\u001b[0;31m         \u001b[0mc_part\u001b[0m\u001b[0;34m,\u001b[0m \u001b[0mnc_part\u001b[0m\u001b[0;34m,\u001b[0m \u001b[0morder_symbols\u001b[0m \u001b[0;34m=\u001b[0m \u001b[0mcls\u001b[0m\u001b[0;34m.\u001b[0m\u001b[0mflatten\u001b[0m\u001b[0;34m(\u001b[0m\u001b[0margs\u001b[0m\u001b[0;34m)\u001b[0m\u001b[0;34m\u001b[0m\u001b[0m\n\u001b[0m\u001b[1;32m     42\u001b[0m         \u001b[0mis_commutative\u001b[0m \u001b[0;34m=\u001b[0m \u001b[0;32mnot\u001b[0m \u001b[0mnc_part\u001b[0m\u001b[0;34m\u001b[0m\u001b[0m\n\u001b[1;32m     43\u001b[0m         \u001b[0mobj\u001b[0m \u001b[0;34m=\u001b[0m \u001b[0mcls\u001b[0m\u001b[0;34m.\u001b[0m\u001b[0m_from_args\u001b[0m\u001b[0;34m(\u001b[0m\u001b[0mc_part\u001b[0m \u001b[0;34m+\u001b[0m \u001b[0mnc_part\u001b[0m\u001b[0;34m,\u001b[0m \u001b[0mis_commutative\u001b[0m\u001b[0;34m)\u001b[0m\u001b[0;34m\u001b[0m\u001b[0m\n",
      "\u001b[0;32m~/anaconda3/lib/python3.6/site-packages/sympy/core/mul.py\u001b[0m in \u001b[0;36mflatten\u001b[0;34m(cls, seq)\u001b[0m\n\u001b[1;32m    589\u001b[0m             \u001b[0;31m# we know for sure the result will be 0 except the multiplicand\u001b[0m\u001b[0;34m\u001b[0m\u001b[0;34m\u001b[0m\u001b[0m\n\u001b[1;32m    590\u001b[0m             \u001b[0;31m# is infinity\u001b[0m\u001b[0;34m\u001b[0m\u001b[0;34m\u001b[0m\u001b[0m\n\u001b[0;32m--> 591\u001b[0;31m             \u001b[0;32mif\u001b[0m \u001b[0many\u001b[0m\u001b[0;34m(\u001b[0m\u001b[0mc\u001b[0m\u001b[0;34m.\u001b[0m\u001b[0mis_finite\u001b[0m \u001b[0;34m==\u001b[0m \u001b[0;32mFalse\u001b[0m \u001b[0;32mfor\u001b[0m \u001b[0mc\u001b[0m \u001b[0;32min\u001b[0m \u001b[0mc_part\u001b[0m\u001b[0;34m)\u001b[0m\u001b[0;34m:\u001b[0m\u001b[0;34m\u001b[0m\u001b[0m\n\u001b[0m\u001b[1;32m    592\u001b[0m                 \u001b[0;32mreturn\u001b[0m \u001b[0;34m[\u001b[0m\u001b[0mS\u001b[0m\u001b[0;34m.\u001b[0m\u001b[0mNaN\u001b[0m\u001b[0;34m]\u001b[0m\u001b[0;34m,\u001b[0m \u001b[0;34m[\u001b[0m\u001b[0;34m]\u001b[0m\u001b[0;34m,\u001b[0m \u001b[0morder_symbols\u001b[0m\u001b[0;34m\u001b[0m\u001b[0m\n\u001b[1;32m    593\u001b[0m             \u001b[0;32mreturn\u001b[0m \u001b[0;34m[\u001b[0m\u001b[0mcoeff\u001b[0m\u001b[0;34m]\u001b[0m\u001b[0;34m,\u001b[0m \u001b[0;34m[\u001b[0m\u001b[0;34m]\u001b[0m\u001b[0;34m,\u001b[0m \u001b[0morder_symbols\u001b[0m\u001b[0;34m\u001b[0m\u001b[0m\n",
      "\u001b[0;32m~/anaconda3/lib/python3.6/site-packages/sympy/core/mul.py\u001b[0m in \u001b[0;36m<genexpr>\u001b[0;34m(.0)\u001b[0m\n\u001b[1;32m    589\u001b[0m             \u001b[0;31m# we know for sure the result will be 0 except the multiplicand\u001b[0m\u001b[0;34m\u001b[0m\u001b[0;34m\u001b[0m\u001b[0m\n\u001b[1;32m    590\u001b[0m             \u001b[0;31m# is infinity\u001b[0m\u001b[0;34m\u001b[0m\u001b[0;34m\u001b[0m\u001b[0m\n\u001b[0;32m--> 591\u001b[0;31m             \u001b[0;32mif\u001b[0m \u001b[0many\u001b[0m\u001b[0;34m(\u001b[0m\u001b[0mc\u001b[0m\u001b[0;34m.\u001b[0m\u001b[0mis_finite\u001b[0m \u001b[0;34m==\u001b[0m \u001b[0;32mFalse\u001b[0m \u001b[0;32mfor\u001b[0m \u001b[0mc\u001b[0m \u001b[0;32min\u001b[0m \u001b[0mc_part\u001b[0m\u001b[0;34m)\u001b[0m\u001b[0;34m:\u001b[0m\u001b[0;34m\u001b[0m\u001b[0m\n\u001b[0m\u001b[1;32m    592\u001b[0m                 \u001b[0;32mreturn\u001b[0m \u001b[0;34m[\u001b[0m\u001b[0mS\u001b[0m\u001b[0;34m.\u001b[0m\u001b[0mNaN\u001b[0m\u001b[0;34m]\u001b[0m\u001b[0;34m,\u001b[0m \u001b[0;34m[\u001b[0m\u001b[0;34m]\u001b[0m\u001b[0;34m,\u001b[0m \u001b[0morder_symbols\u001b[0m\u001b[0;34m\u001b[0m\u001b[0m\n\u001b[1;32m    593\u001b[0m             \u001b[0;32mreturn\u001b[0m \u001b[0;34m[\u001b[0m\u001b[0mcoeff\u001b[0m\u001b[0;34m]\u001b[0m\u001b[0;34m,\u001b[0m \u001b[0;34m[\u001b[0m\u001b[0;34m]\u001b[0m\u001b[0;34m,\u001b[0m \u001b[0morder_symbols\u001b[0m\u001b[0;34m\u001b[0m\u001b[0m\n",
      "\u001b[0;32m~/anaconda3/lib/python3.6/site-packages/sympy/core/assumptions.py\u001b[0m in \u001b[0;36mgetit\u001b[0;34m(self)\u001b[0m\n\u001b[1;32m    245\u001b[0m             \u001b[0;32mif\u001b[0m \u001b[0mself\u001b[0m\u001b[0;34m.\u001b[0m\u001b[0m_assumptions\u001b[0m \u001b[0;32mis\u001b[0m \u001b[0mself\u001b[0m\u001b[0;34m.\u001b[0m\u001b[0mdefault_assumptions\u001b[0m\u001b[0;34m:\u001b[0m\u001b[0;34m\u001b[0m\u001b[0m\n\u001b[1;32m    246\u001b[0m                 \u001b[0mself\u001b[0m\u001b[0;34m.\u001b[0m\u001b[0m_assumptions\u001b[0m \u001b[0;34m=\u001b[0m \u001b[0mself\u001b[0m\u001b[0;34m.\u001b[0m\u001b[0mdefault_assumptions\u001b[0m\u001b[0;34m.\u001b[0m\u001b[0mcopy\u001b[0m\u001b[0;34m(\u001b[0m\u001b[0;34m)\u001b[0m\u001b[0;34m\u001b[0m\u001b[0m\n\u001b[0;32m--> 247\u001b[0;31m             \u001b[0;32mreturn\u001b[0m \u001b[0m_ask\u001b[0m\u001b[0;34m(\u001b[0m\u001b[0mfact\u001b[0m\u001b[0;34m,\u001b[0m \u001b[0mself\u001b[0m\u001b[0;34m)\u001b[0m\u001b[0;34m\u001b[0m\u001b[0m\n\u001b[0m\u001b[1;32m    248\u001b[0m \u001b[0;34m\u001b[0m\u001b[0m\n\u001b[1;32m    249\u001b[0m     \u001b[0mgetit\u001b[0m\u001b[0;34m.\u001b[0m\u001b[0mfunc_name\u001b[0m \u001b[0;34m=\u001b[0m \u001b[0mas_property\u001b[0m\u001b[0;34m(\u001b[0m\u001b[0mfact\u001b[0m\u001b[0;34m)\u001b[0m\u001b[0;34m\u001b[0m\u001b[0m\n",
      "\u001b[0;32m~/anaconda3/lib/python3.6/site-packages/sympy/core/assumptions.py\u001b[0m in \u001b[0;36m_ask\u001b[0;34m(fact, obj)\u001b[0m\n\u001b[1;32m    300\u001b[0m             \u001b[0;32mcontinue\u001b[0m\u001b[0;34m\u001b[0m\u001b[0m\n\u001b[1;32m    301\u001b[0m         \u001b[0;32mif\u001b[0m \u001b[0mpk\u001b[0m \u001b[0;32min\u001b[0m \u001b[0mhandler_map\u001b[0m\u001b[0;34m:\u001b[0m\u001b[0;34m\u001b[0m\u001b[0m\n\u001b[0;32m--> 302\u001b[0;31m             \u001b[0m_ask\u001b[0m\u001b[0;34m(\u001b[0m\u001b[0mpk\u001b[0m\u001b[0;34m,\u001b[0m \u001b[0mobj\u001b[0m\u001b[0;34m)\u001b[0m\u001b[0;34m\u001b[0m\u001b[0m\n\u001b[0m\u001b[1;32m    303\u001b[0m \u001b[0;34m\u001b[0m\u001b[0m\n\u001b[1;32m    304\u001b[0m             \u001b[0;31m# we might have found the value of fact\u001b[0m\u001b[0;34m\u001b[0m\u001b[0;34m\u001b[0m\u001b[0m\n",
      "\u001b[0;32m~/anaconda3/lib/python3.6/site-packages/sympy/core/assumptions.py\u001b[0m in \u001b[0;36m_ask\u001b[0;34m(fact, obj)\u001b[0m\n\u001b[1;32m    288\u001b[0m         \u001b[0;32mpass\u001b[0m\u001b[0;34m\u001b[0m\u001b[0m\n\u001b[1;32m    289\u001b[0m     \u001b[0;32melse\u001b[0m\u001b[0;34m:\u001b[0m\u001b[0;34m\u001b[0m\u001b[0m\n\u001b[0;32m--> 290\u001b[0;31m         \u001b[0ma\u001b[0m \u001b[0;34m=\u001b[0m \u001b[0mevaluate\u001b[0m\u001b[0;34m(\u001b[0m\u001b[0mobj\u001b[0m\u001b[0;34m)\u001b[0m\u001b[0;34m\u001b[0m\u001b[0m\n\u001b[0m\u001b[1;32m    291\u001b[0m         \u001b[0;32mif\u001b[0m \u001b[0ma\u001b[0m \u001b[0;32mis\u001b[0m \u001b[0;32mnot\u001b[0m \u001b[0;32mNone\u001b[0m\u001b[0;34m:\u001b[0m\u001b[0;34m\u001b[0m\u001b[0m\n\u001b[1;32m    292\u001b[0m             \u001b[0massumptions\u001b[0m\u001b[0;34m.\u001b[0m\u001b[0mdeduce_all_facts\u001b[0m\u001b[0;34m(\u001b[0m\u001b[0;34m(\u001b[0m\u001b[0;34m(\u001b[0m\u001b[0mfact\u001b[0m\u001b[0;34m,\u001b[0m \u001b[0ma\u001b[0m\u001b[0;34m)\u001b[0m\u001b[0;34m,\u001b[0m\u001b[0;34m)\u001b[0m\u001b[0;34m)\u001b[0m\u001b[0;34m\u001b[0m\u001b[0m\n",
      "\u001b[0;32m~/anaconda3/lib/python3.6/site-packages/sympy/core/add.py\u001b[0m in \u001b[0;36m_eval_is_zero\u001b[0;34m(self)\u001b[0m\n\u001b[1;32m    535\u001b[0m             \u001b[0;32melif\u001b[0m \u001b[0ma\u001b[0m\u001b[0;34m.\u001b[0m\u001b[0mis_imaginary\u001b[0m\u001b[0;34m:\u001b[0m\u001b[0;34m\u001b[0m\u001b[0m\n\u001b[1;32m    536\u001b[0m                 \u001b[0mim\u001b[0m \u001b[0;34m=\u001b[0m \u001b[0;32mTrue\u001b[0m\u001b[0;34m\u001b[0m\u001b[0m\n\u001b[0;32m--> 537\u001b[0;31m             \u001b[0;32melif\u001b[0m \u001b[0;34m(\u001b[0m\u001b[0mS\u001b[0m\u001b[0;34m.\u001b[0m\u001b[0mImaginaryUnit\u001b[0m\u001b[0;34m*\u001b[0m\u001b[0ma\u001b[0m\u001b[0;34m)\u001b[0m\u001b[0;34m.\u001b[0m\u001b[0mis_real\u001b[0m\u001b[0;34m:\u001b[0m\u001b[0;34m\u001b[0m\u001b[0m\n\u001b[0m\u001b[1;32m    538\u001b[0m                 \u001b[0mim_or_z\u001b[0m \u001b[0;34m=\u001b[0m \u001b[0;32mTrue\u001b[0m\u001b[0;34m\u001b[0m\u001b[0m\n\u001b[1;32m    539\u001b[0m             \u001b[0;32melse\u001b[0m\u001b[0;34m:\u001b[0m\u001b[0;34m\u001b[0m\u001b[0m\n",
      "\u001b[0;32m~/anaconda3/lib/python3.6/site-packages/sympy/core/decorators.py\u001b[0m in \u001b[0;36m__sympifyit_wrapper\u001b[0;34m(a, b)\u001b[0m\n\u001b[1;32m     89\u001b[0m                 \u001b[0;32mif\u001b[0m \u001b[0;32mnot\u001b[0m \u001b[0mhasattr\u001b[0m\u001b[0;34m(\u001b[0m\u001b[0mb\u001b[0m\u001b[0;34m,\u001b[0m \u001b[0;34m'_op_priority'\u001b[0m\u001b[0;34m)\u001b[0m\u001b[0;34m:\u001b[0m\u001b[0;34m\u001b[0m\u001b[0m\n\u001b[1;32m     90\u001b[0m                     \u001b[0mb\u001b[0m \u001b[0;34m=\u001b[0m \u001b[0msympify\u001b[0m\u001b[0;34m(\u001b[0m\u001b[0mb\u001b[0m\u001b[0;34m,\u001b[0m \u001b[0mstrict\u001b[0m\u001b[0;34m=\u001b[0m\u001b[0;32mTrue\u001b[0m\u001b[0;34m)\u001b[0m\u001b[0;34m\u001b[0m\u001b[0m\n\u001b[0;32m---> 91\u001b[0;31m                 \u001b[0;32mreturn\u001b[0m \u001b[0mfunc\u001b[0m\u001b[0;34m(\u001b[0m\u001b[0ma\u001b[0m\u001b[0;34m,\u001b[0m \u001b[0mb\u001b[0m\u001b[0;34m)\u001b[0m\u001b[0;34m\u001b[0m\u001b[0m\n\u001b[0m\u001b[1;32m     92\u001b[0m             \u001b[0;32mexcept\u001b[0m \u001b[0mSympifyError\u001b[0m\u001b[0;34m:\u001b[0m\u001b[0;34m\u001b[0m\u001b[0m\n\u001b[1;32m     93\u001b[0m                 \u001b[0;32mreturn\u001b[0m \u001b[0mretval\u001b[0m\u001b[0;34m\u001b[0m\u001b[0m\n",
      "\u001b[0;32m~/anaconda3/lib/python3.6/site-packages/sympy/core/decorators.py\u001b[0m in \u001b[0;36mbinary_op_wrapper\u001b[0;34m(self, other)\u001b[0m\n\u001b[1;32m    130\u001b[0m                     \u001b[0;32melse\u001b[0m\u001b[0;34m:\u001b[0m\u001b[0;34m\u001b[0m\u001b[0m\n\u001b[1;32m    131\u001b[0m                         \u001b[0;32mreturn\u001b[0m \u001b[0mf\u001b[0m\u001b[0;34m(\u001b[0m\u001b[0mself\u001b[0m\u001b[0;34m)\u001b[0m\u001b[0;34m\u001b[0m\u001b[0m\n\u001b[0;32m--> 132\u001b[0;31m             \u001b[0;32mreturn\u001b[0m \u001b[0mfunc\u001b[0m\u001b[0;34m(\u001b[0m\u001b[0mself\u001b[0m\u001b[0;34m,\u001b[0m \u001b[0mother\u001b[0m\u001b[0;34m)\u001b[0m\u001b[0;34m\u001b[0m\u001b[0m\n\u001b[0m\u001b[1;32m    133\u001b[0m         \u001b[0;32mreturn\u001b[0m \u001b[0mbinary_op_wrapper\u001b[0m\u001b[0;34m\u001b[0m\u001b[0m\n\u001b[1;32m    134\u001b[0m     \u001b[0;32mreturn\u001b[0m \u001b[0mpriority_decorator\u001b[0m\u001b[0;34m\u001b[0m\u001b[0m\n",
      "\u001b[0;32m~/anaconda3/lib/python3.6/site-packages/sympy/core/expr.py\u001b[0m in \u001b[0;36m__mul__\u001b[0;34m(self, other)\u001b[0m\n\u001b[1;32m    138\u001b[0m     \u001b[0;34m@\u001b[0m\u001b[0mcall_highest_priority\u001b[0m\u001b[0;34m(\u001b[0m\u001b[0;34m'__rmul__'\u001b[0m\u001b[0;34m)\u001b[0m\u001b[0;34m\u001b[0m\u001b[0m\n\u001b[1;32m    139\u001b[0m     \u001b[0;32mdef\u001b[0m \u001b[0m__mul__\u001b[0m\u001b[0;34m(\u001b[0m\u001b[0mself\u001b[0m\u001b[0;34m,\u001b[0m \u001b[0mother\u001b[0m\u001b[0;34m)\u001b[0m\u001b[0;34m:\u001b[0m\u001b[0;34m\u001b[0m\u001b[0m\n\u001b[0;32m--> 140\u001b[0;31m         \u001b[0;32mreturn\u001b[0m \u001b[0mMul\u001b[0m\u001b[0;34m(\u001b[0m\u001b[0mself\u001b[0m\u001b[0;34m,\u001b[0m \u001b[0mother\u001b[0m\u001b[0;34m)\u001b[0m\u001b[0;34m\u001b[0m\u001b[0m\n\u001b[0m\u001b[1;32m    141\u001b[0m \u001b[0;34m\u001b[0m\u001b[0m\n\u001b[1;32m    142\u001b[0m     \u001b[0;34m@\u001b[0m\u001b[0m_sympifyit\u001b[0m\u001b[0;34m(\u001b[0m\u001b[0;34m'other'\u001b[0m\u001b[0;34m,\u001b[0m \u001b[0mNotImplemented\u001b[0m\u001b[0;34m)\u001b[0m\u001b[0;34m\u001b[0m\u001b[0m\n",
      "\u001b[0;32m~/anaconda3/lib/python3.6/site-packages/sympy/core/operations.py\u001b[0m in \u001b[0;36m__new__\u001b[0;34m(cls, *args, **options)\u001b[0m\n\u001b[1;32m     39\u001b[0m             \u001b[0;32mreturn\u001b[0m \u001b[0margs\u001b[0m\u001b[0;34m[\u001b[0m\u001b[0;36m0\u001b[0m\u001b[0;34m]\u001b[0m\u001b[0;34m\u001b[0m\u001b[0m\n\u001b[1;32m     40\u001b[0m \u001b[0;34m\u001b[0m\u001b[0m\n\u001b[0;32m---> 41\u001b[0;31m         \u001b[0mc_part\u001b[0m\u001b[0;34m,\u001b[0m \u001b[0mnc_part\u001b[0m\u001b[0;34m,\u001b[0m \u001b[0morder_symbols\u001b[0m \u001b[0;34m=\u001b[0m \u001b[0mcls\u001b[0m\u001b[0;34m.\u001b[0m\u001b[0mflatten\u001b[0m\u001b[0;34m(\u001b[0m\u001b[0margs\u001b[0m\u001b[0;34m)\u001b[0m\u001b[0;34m\u001b[0m\u001b[0m\n\u001b[0m\u001b[1;32m     42\u001b[0m         \u001b[0mis_commutative\u001b[0m \u001b[0;34m=\u001b[0m \u001b[0;32mnot\u001b[0m \u001b[0mnc_part\u001b[0m\u001b[0;34m\u001b[0m\u001b[0m\n\u001b[1;32m     43\u001b[0m         \u001b[0mobj\u001b[0m \u001b[0;34m=\u001b[0m \u001b[0mcls\u001b[0m\u001b[0;34m.\u001b[0m\u001b[0m_from_args\u001b[0m\u001b[0;34m(\u001b[0m\u001b[0mc_part\u001b[0m \u001b[0;34m+\u001b[0m \u001b[0mnc_part\u001b[0m\u001b[0;34m,\u001b[0m \u001b[0mis_commutative\u001b[0m\u001b[0;34m)\u001b[0m\u001b[0;34m\u001b[0m\u001b[0m\n",
      "\u001b[0;32m~/anaconda3/lib/python3.6/site-packages/sympy/core/mul.py\u001b[0m in \u001b[0;36mflatten\u001b[0;34m(cls, seq)\u001b[0m\n\u001b[1;32m    435\u001b[0m                         \u001b[0mbi\u001b[0m \u001b[0;34m=\u001b[0m \u001b[0mb\u001b[0m\u001b[0;34m\u001b[0m\u001b[0m\n\u001b[1;32m    436\u001b[0m                         \u001b[0mb\u001b[0m\u001b[0;34m,\u001b[0m \u001b[0me\u001b[0m \u001b[0;34m=\u001b[0m \u001b[0mp\u001b[0m\u001b[0;34m.\u001b[0m\u001b[0mas_base_exp\u001b[0m\u001b[0;34m(\u001b[0m\u001b[0;34m)\u001b[0m\u001b[0;34m\u001b[0m\u001b[0m\n\u001b[0;32m--> 437\u001b[0;31m                         \u001b[0;32mif\u001b[0m \u001b[0mb\u001b[0m \u001b[0;34m!=\u001b[0m \u001b[0mbi\u001b[0m\u001b[0;34m:\u001b[0m\u001b[0;34m\u001b[0m\u001b[0m\n\u001b[0m\u001b[1;32m    438\u001b[0m                             \u001b[0mchanged\u001b[0m \u001b[0;34m=\u001b[0m \u001b[0;32mTrue\u001b[0m\u001b[0;34m\u001b[0m\u001b[0m\n\u001b[1;32m    439\u001b[0m                 \u001b[0mc_part\u001b[0m\u001b[0;34m.\u001b[0m\u001b[0mappend\u001b[0m\u001b[0;34m(\u001b[0m\u001b[0mp\u001b[0m\u001b[0;34m)\u001b[0m\u001b[0;34m\u001b[0m\u001b[0m\n",
      "\u001b[0;32m~/anaconda3/lib/python3.6/site-packages/sympy/core/basic.py\u001b[0m in \u001b[0;36m__ne__\u001b[0;34m(self, other)\u001b[0m\n\u001b[1;32m    341\u001b[0m            \u001b[0mbut\u001b[0m \u001b[0mfaster\u001b[0m\u001b[0;34m\u001b[0m\u001b[0m\n\u001b[1;32m    342\u001b[0m         \"\"\"\n\u001b[0;32m--> 343\u001b[0;31m         \u001b[0;32mreturn\u001b[0m \u001b[0;32mnot\u001b[0m \u001b[0mself\u001b[0m\u001b[0;34m.\u001b[0m\u001b[0m__eq__\u001b[0m\u001b[0;34m(\u001b[0m\u001b[0mother\u001b[0m\u001b[0;34m)\u001b[0m\u001b[0;34m\u001b[0m\u001b[0m\n\u001b[0m\u001b[1;32m    344\u001b[0m \u001b[0;34m\u001b[0m\u001b[0m\n\u001b[1;32m    345\u001b[0m     \u001b[0;32mdef\u001b[0m \u001b[0mdummy_eq\u001b[0m\u001b[0;34m(\u001b[0m\u001b[0mself\u001b[0m\u001b[0;34m,\u001b[0m \u001b[0mother\u001b[0m\u001b[0;34m,\u001b[0m \u001b[0msymbol\u001b[0m\u001b[0;34m=\u001b[0m\u001b[0;32mNone\u001b[0m\u001b[0;34m)\u001b[0m\u001b[0;34m:\u001b[0m\u001b[0;34m\u001b[0m\u001b[0m\n",
      "\u001b[0;32m~/anaconda3/lib/python3.6/site-packages/sympy/core/basic.py\u001b[0m in \u001b[0;36m__eq__\u001b[0;34m(self, other)\u001b[0m\n\u001b[1;32m    301\u001b[0m         \u001b[0;32mfrom\u001b[0m \u001b[0mhttp\u001b[0m\u001b[0;34m:\u001b[0m\u001b[0;34m//\u001b[0m\u001b[0mdocs\u001b[0m\u001b[0;34m.\u001b[0m\u001b[0mpython\u001b[0m\u001b[0;34m.\u001b[0m\u001b[0morg\u001b[0m\u001b[0;34m/\u001b[0m\u001b[0mdev\u001b[0m\u001b[0;34m/\u001b[0m\u001b[0mreference\u001b[0m\u001b[0;34m/\u001b[0m\u001b[0mdatamodel\u001b[0m\u001b[0;34m.\u001b[0m\u001b[0mhtml\u001b[0m\u001b[0;31m#object.__hash__\u001b[0m\u001b[0;34m\u001b[0m\u001b[0m\n\u001b[1;32m    302\u001b[0m         \"\"\"\n\u001b[0;32m--> 303\u001b[0;31m         \u001b[0;32mfrom\u001b[0m \u001b[0msympy\u001b[0m \u001b[0;32mimport\u001b[0m \u001b[0mPow\u001b[0m\u001b[0;34m\u001b[0m\u001b[0m\n\u001b[0m\u001b[1;32m    304\u001b[0m         \u001b[0;32mif\u001b[0m \u001b[0mself\u001b[0m \u001b[0;32mis\u001b[0m \u001b[0mother\u001b[0m\u001b[0;34m:\u001b[0m\u001b[0;34m\u001b[0m\u001b[0m\n\u001b[1;32m    305\u001b[0m             \u001b[0;32mreturn\u001b[0m \u001b[0;32mTrue\u001b[0m\u001b[0;34m\u001b[0m\u001b[0m\n",
      "\u001b[0;32m~/anaconda3/lib/python3.6/importlib/_bootstrap.py\u001b[0m in \u001b[0;36m_handle_fromlist\u001b[0;34m(module, fromlist, import_, recursive)\u001b[0m\n",
      "\u001b[0;31mKeyboardInterrupt\u001b[0m: "
     ]
    }
   ],
   "source": [
    "test_int=sym.integrate(sym.exp(-(Del-muD)**2/(2*sigD**2))*(A*Del**2+B*Del+C)/(D*Del**2+E),Del)"
   ]
  },
  {
   "cell_type": "code",
   "execution_count": 78,
   "metadata": {},
   "outputs": [
    {
     "data": {
      "image/png": "[encoded data removed]",
      "text/latex": [
       "$$\\left(\\int \\frac{C e^{\\frac{\\Delta \\mu_{\\Delta}}{\\sigma_{\\Delta}^{2}}}}{D \\Delta^{2} e^{\\frac{\\Delta^{2}}{2 \\sigma_{\\Delta}^{2}}} + E e^{\\frac{\\Delta^{2}}{2 \\sigma_{\\Delta}^{2}}}}\\, d\\Delta + \\int \\frac{A \\Delta^{2} e^{\\frac{\\Delta \\mu_{\\Delta}}{\\sigma_{\\Delta}^{2}}}}{D \\Delta^{2} e^{\\frac{\\Delta^{2}}{2 \\sigma_{\\Delta}^{2}}} + E e^{\\frac{\\Delta^{2}}{2 \\sigma_{\\Delta}^{2}}}}\\, d\\Delta + \\int \\frac{B \\Delta e^{\\frac{\\Delta \\mu_{\\Delta}}{\\sigma_{\\Delta}^{2}}}}{D \\Delta^{2} e^{\\frac{\\Delta^{2}}{2 \\sigma_{\\Delta}^{2}}} + E e^{\\frac{\\Delta^{2}}{2 \\sigma_{\\Delta}^{2}}}}\\, d\\Delta\\right) e^{- \\frac{\\mu_{\\Delta}^{2}}{2 \\sigma_{\\Delta}^{2}}}$$"
      ],
      "text/plain": [
       "⎛⌠                               ⌠                               ⌠            \n",
       "⎜⎮            Δ⋅μ_Δ              ⎮             Δ⋅μ_Δ             ⎮            \n",
       "⎜⎮            ─────              ⎮             ─────             ⎮            \n",
       "⎜⎮                2              ⎮                 2             ⎮            \n",
       "⎜⎮             σ_Δ               ⎮          2   σ_Δ              ⎮            \n",
       "⎜⎮         C⋅ℯ                   ⎮       A⋅Δ ⋅ℯ                  ⎮        B⋅Δ⋅\n",
       "⎜⎮ ──────────────────────── dΔ + ⎮ ──────────────────────── dΔ + ⎮ ───────────\n",
       "⎜⎮          2           2        ⎮          2           2        ⎮          2 \n",
       "⎜⎮         Δ           Δ         ⎮         Δ           Δ         ⎮         Δ  \n",
       "⎜⎮       ──────      ──────      ⎮       ──────      ──────      ⎮       ─────\n",
       "⎜⎮            2           2      ⎮            2           2      ⎮            \n",
       "⎜⎮    2  2⋅σ_Δ       2⋅σ_Δ       ⎮    2  2⋅σ_Δ       2⋅σ_Δ       ⎮    2  2⋅σ_Δ\n",
       "⎜⎮ D⋅Δ ⋅ℯ       + E⋅ℯ            ⎮ D⋅Δ ⋅ℯ       + E⋅ℯ            ⎮ D⋅Δ ⋅ℯ     \n",
       "⎝⌡                               ⌡                               ⌡            \n",
       "\n",
       "                ⎞        \n",
       " Δ⋅μ_Δ          ⎟      2 \n",
       " ─────          ⎟  -μ_Δ  \n",
       "     2          ⎟  ──────\n",
       "  σ_Δ           ⎟       2\n",
       "ℯ               ⎟  2⋅σ_Δ \n",
       "───────────── dΔ⎟⋅ℯ      \n",
       "          2     ⎟        \n",
       "         Δ      ⎟        \n",
       "─      ──────   ⎟        \n",
       "2           2   ⎟        \n",
       "       2⋅σ_Δ    ⎟        \n",
       "  + E⋅ℯ         ⎟        \n",
       "                ⎠        "
      ]
     },
     "execution_count": 78,
     "metadata": {},
     "output_type": "execute_result"
    }
   ],
   "source": [
    "test_int"
   ]
  },
  {
   "cell_type": "code",
   "execution_count": 82,
   "metadata": {},
   "outputs": [
    {
     "data": {
      "image/png": "[encoded data removed]",
      "text/latex": [
       "$$e^{- \\frac{\\left(\\Delta + \\mu_{\\mu} - \\mu_{o}\\right)^{2}}{2 \\sigma_{\\mu}^{2} + 2 \\sigma_{o}^{2}} - \\frac{1}{8 \\sigma_{\\mu}^{2} \\sigma_{o}^{2}} \\left(\\chi - \\frac{1}{\\sigma_{\\mu}^{2} + \\sigma_{o}^{2}} \\left(- \\sigma_{\\mu}^{2} \\left(\\Delta - 2 \\mu_{o}\\right) + \\sigma_{o}^{2} \\left(\\Delta + 2 \\mu_{\\mu}\\right)\\right)\\right)^{2} \\left(\\sigma_{\\mu}^{2} + \\sigma_{o}^{2}\\right)}$$"
      ],
      "text/plain": [
       "                                                              2             \n",
       "                     ⎛         2                2            ⎞              \n",
       "                     ⎜    - σₘᵤ ⋅(Δ - 2⋅μₒ) + σₒ ⋅(Δ + 2⋅μₘᵤ)⎟  ⎛   2     2⎞\n",
       "                     ⎜χ - ───────────────────────────────────⎟ ⋅⎝σₘᵤ  + σₒ ⎠\n",
       "                 2   ⎜                    2     2            ⎟              \n",
       "   (Δ + μₘᵤ - μₒ)    ⎝                 σₘᵤ  + σₒ             ⎠              \n",
       " - ─────────────── - ───────────────────────────────────────────────────────\n",
       "         2       2                               2   2                      \n",
       "    2⋅σₘᵤ  + 2⋅σₒ                           8⋅σₘᵤ ⋅σₒ                       \n",
       "ℯ                                                                           "
      ]
     },
     "execution_count": 82,
     "metadata": {},
     "output_type": "execute_result"
    }
   ],
   "source": [
    "sym.exp(-(chi-mu_chi)**2/(2*sig_chi_sq)-(Del-mu_Del)**2/(2*sig_Del_sq))"
   ]
  },
  {
   "cell_type": "code",
   "execution_count": 94,
   "metadata": {},
   "outputs": [],
   "source": [
    "sig_chi, sig_Del=sym.symbols('sigma_chi sigma_Delta', positive=True)\n",
    "mu_chi, mu_Del=sym.symbols('mu_chi mu_Delta', real=True)\n",
    "expfun1=1/(2*sym.pi)*1/(sig_chi*sig_Del)*sym.exp(-(Del-mu_Del)**2/(2*sig_Del**2))*sym.exp(-(chi-mu_chi)**2/(2*sig_chi**2))\n",
    "expfun2=1/(2*sym.pi)*1/(sigo*sigm)*sym.exp(-(delo-sigo)**2/(2*sigo**2))*sym.exp(-(delm-sigm)**2/(2*sigm**2))"
   ]
  },
  {
   "cell_type": "code",
   "execution_count": 95,
   "metadata": {},
   "outputs": [
    {
     "data": {
      "image/png": "[encoded data removed]",
      "text/latex": [
       "$$\\left ( \\frac{4 \\sigma_{\\mu}^{2} \\sigma_{o}^{2}}{\\sigma_{\\mu}^{2} + \\sigma_{o}^{2}}, \\quad \\mu_{\\chi}, \\quad \\sigma_{\\mu}^{2} + \\sigma_{o}^{2}, \\quad \\mu_{\\Delta}\\right )$$"
      ],
      "text/plain": [
       "⎛     2   2                     ⎞\n",
       "⎜4⋅σₘᵤ ⋅σₒ          2     2     ⎟\n",
       "⎜──────────, μᵪ, σₘᵤ  + σₒ , μ_Δ⎟\n",
       "⎜   2     2                     ⎟\n",
       "⎝σₘᵤ  + σₒ                      ⎠"
      ]
     },
     "execution_count": 95,
     "metadata": {},
     "output_type": "execute_result"
    }
   ],
   "source": [
    "sig_chi_sq, mu_chi, sig_Del_sq, mu_Del"
   ]
  },
  {
   "cell_type": "code",
   "execution_count": 92,
   "metadata": {},
   "outputs": [
    {
     "data": {
      "image/png": "[encoded data removed]",
      "text/latex": [
       "$$\\left ( \\frac{e^{- \\frac{\\left(\\Delta - \\mu_{\\Delta}\\right)^{2}}{2 \\sigma_{\\Delta}^{2}}}}{2 \\pi \\sigma_{\\Delta} \\sigma_{\\chi}} e^{- \\frac{\\left(\\chi - \\mu_{\\chi}\\right)^{2}}{2 \\sigma_{\\chi}^{2}}}, \\quad \\frac{e^{- \\frac{\\left(\\delta_{\\mu} - \\sigma_{\\mu}\\right)^{2}}{2 \\sigma_{\\mu}^{2}}}}{2 \\pi \\sigma_{\\mu} \\sigma_{o}} e^{- \\frac{\\left(\\delta_{o} - \\sigma_{o}\\right)^{2}}{2 \\sigma_{o}^{2}}}\\right )$$"
      ],
      "text/plain": [
       "⎛           2            2                2             2 ⎞\n",
       "⎜ -(Δ - μ_Δ)    -(χ - μᵪ)     -(δₘᵤ - σₘᵤ)    -(δₒ - σₒ)  ⎟\n",
       "⎜ ────────────  ───────────   ──────────────  ────────────⎟\n",
       "⎜         2            2               2             2    ⎟\n",
       "⎜    2⋅σ_Δ         2⋅σᵪ           2⋅σₘᵤ          2⋅σₒ     ⎟\n",
       "⎜ℯ            ⋅ℯ             ℯ              ⋅ℯ            ⎟\n",
       "⎜──────────────────────────, ─────────────────────────────⎟\n",
       "⎝        2⋅π⋅σ_Δ⋅σᵪ                    2⋅π⋅σₘᵤ⋅σₒ         ⎠"
      ]
     },
     "execution_count": 92,
     "metadata": {},
     "output_type": "execute_result"
    }
   ],
   "source": [
    "\n",
    "expfun1, expfun2"
   ]
  },
  {
   "cell_type": "code",
   "execution_count": 108,
   "metadata": {},
   "outputs": [
    {
     "data": {
      "image/png": "[encoded data removed]",
      "text/latex": [
       "$$\\left ( \\frac{1}{4 \\pi \\sigma_{\\mu} \\sigma_{o}} e^{\\frac{\\delta_{\\mu}^{2} \\sigma_{\\mu}^{2}}{4 \\sigma_{o}^{2} \\left(\\sigma_{\\mu}^{2} + \\sigma_{o}^{2}\\right)} - \\frac{\\delta_{\\mu}^{2}}{2 \\sigma_{\\mu}^{2} + 2 \\sigma_{o}^{2}} - \\frac{\\delta_{\\mu}^{2}}{8 \\sigma_{o}^{2}} - \\frac{\\delta_{\\mu}^{2} \\sigma_{o}^{2}}{4 \\sigma_{\\mu}^{2} \\left(\\sigma_{\\mu}^{2} + \\sigma_{o}^{2}\\right)} - \\frac{\\delta_{\\mu}^{2}}{8 \\sigma_{\\mu}^{2}} + \\frac{\\delta_{\\mu} \\delta_{o}}{\\sigma_{\\mu}^{2} + \\sigma_{o}^{2}} - \\frac{\\delta_{\\mu} \\delta_{o}}{4 \\sigma_{o}^{2}} - \\frac{\\delta_{\\mu} \\delta_{o}}{4 \\sigma_{\\mu}^{2}} + \\frac{3 \\delta_{\\mu} \\mu_{\\mu}}{2 \\sigma_{\\mu}^{2} + 2 \\sigma_{o}^{2}} + \\frac{\\delta_{\\mu} \\mu_{\\mu} \\sigma_{o}^{2}}{2 \\sigma_{\\mu}^{2} \\left(\\sigma_{\\mu}^{2} + \\sigma_{o}^{2}\\right)} + \\frac{\\delta_{\\mu} \\mu_{o} \\sigma_{\\mu}^{2}}{2 \\sigma_{o}^{2} \\left(\\sigma_{\\mu}^{2} + \\sigma_{o}^{2}\\right)} - \\frac{\\delta_{\\mu} \\mu_{o}}{2 \\sigma_{\\mu}^{2} + 2 \\sigma_{o}^{2}} - \\frac{\\delta_{o}^{2} \\sigma_{\\mu}^{2}}{4 \\sigma_{o}^{2} \\left(\\sigma_{\\mu}^{2} + \\sigma_{o}^{2}\\right)} - \\frac{\\delta_{o}^{2}}{2 \\sigma_{\\mu}^{2} + 2 \\sigma_{o}^{2}} - \\frac{\\delta_{o}^{2}}{8 \\sigma_{o}^{2}} + \\frac{\\delta_{o}^{2} \\sigma_{o}^{2}}{4 \\sigma_{\\mu}^{2} \\left(\\sigma_{\\mu}^{2} + \\sigma_{o}^{2}\\right)} - \\frac{\\delta_{o}^{2}}{8 \\sigma_{\\mu}^{2}} - \\frac{\\delta_{o} \\mu_{\\mu}}{2 \\sigma_{\\mu}^{2} + 2 \\sigma_{o}^{2}} + \\frac{\\delta_{o} \\mu_{\\mu} \\sigma_{o}^{2}}{2 \\sigma_{\\mu}^{2} \\left(\\sigma_{\\mu}^{2} + \\sigma_{o}^{2}\\right)} + \\frac{\\delta_{o} \\mu_{o} \\sigma_{\\mu}^{2}}{2 \\sigma_{o}^{2} \\left(\\sigma_{\\mu}^{2} + \\sigma_{o}^{2}\\right)} + \\frac{3 \\delta_{o} \\mu_{o}}{2 \\sigma_{\\mu}^{2} + 2 \\sigma_{o}^{2}} - \\frac{\\mu_{\\mu}^{2}}{2 \\sigma_{\\mu}^{2} + 2 \\sigma_{o}^{2}} + \\frac{\\mu_{\\mu} \\mu_{o}}{\\sigma_{\\mu}^{2} + \\sigma_{o}^{2}} - \\frac{\\mu_{o}^{2}}{2 \\sigma_{\\mu}^{2} + 2 \\sigma_{o}^{2}} + \\frac{1}{8 \\sigma_{o}^{2} \\left(\\sigma_{\\mu}^{4} + 2 \\sigma_{\\mu}^{2} \\sigma_{o}^{2} + \\sigma_{o}^{4}\\right)} \\left(- \\delta_{\\mu}^{2} \\sigma_{\\mu}^{4} + 2 \\delta_{\\mu}^{2} \\sigma_{\\mu}^{2} \\sigma_{o}^{2} - \\delta_{\\mu}^{2} \\sigma_{o}^{4} + 2 \\delta_{\\mu} \\delta_{o} \\sigma_{\\mu}^{4} - 4 \\delta_{\\mu} \\delta_{o} \\sigma_{\\mu}^{2} \\sigma_{o}^{2} + 2 \\delta_{\\mu} \\delta_{o} \\sigma_{o}^{4} - 4 \\delta_{\\mu} \\mu_{\\mu} \\sigma_{\\mu}^{2} \\sigma_{o}^{2} + 4 \\delta_{\\mu} \\mu_{\\mu} \\sigma_{o}^{4} - 4 \\delta_{\\mu} \\mu_{o} \\sigma_{\\mu}^{4} + 4 \\delta_{\\mu} \\mu_{o} \\sigma_{\\mu}^{2} \\sigma_{o}^{2} - \\delta_{o}^{2} \\sigma_{\\mu}^{4} + 2 \\delta_{o}^{2} \\sigma_{\\mu}^{2} \\sigma_{o}^{2} - \\delta_{o}^{2} \\sigma_{o}^{4} + 4 \\delta_{o} \\mu_{\\mu} \\sigma_{\\mu}^{2} \\sigma_{o}^{2} - 4 \\delta_{o} \\mu_{\\mu} \\sigma_{o}^{4} + 4 \\delta_{o} \\mu_{o} \\sigma_{\\mu}^{4} - 4 \\delta_{o} \\mu_{o} \\sigma_{\\mu}^{2} \\sigma_{o}^{2} - 4 \\mu_{\\mu}^{2} \\sigma_{o}^{4} - 8 \\mu_{\\mu} \\mu_{o} \\sigma_{\\mu}^{2} \\sigma_{o}^{2} - 4 \\mu_{o}^{2} \\sigma_{\\mu}^{4}\\right) + \\frac{1}{8 \\sigma_{\\mu}^{2} \\left(\\sigma_{\\mu}^{4} + 2 \\sigma_{\\mu}^{2} \\sigma_{o}^{2} + \\sigma_{o}^{4}\\right)} \\left(- \\delta_{\\mu}^{2} \\sigma_{\\mu}^{4} + 2 \\delta_{\\mu}^{2} \\sigma_{\\mu}^{2} \\sigma_{o}^{2} - \\delta_{\\mu}^{2} \\sigma_{o}^{4} + 2 \\delta_{\\mu} \\delta_{o} \\sigma_{\\mu}^{4} - 4 \\delta_{\\mu} \\delta_{o} \\sigma_{\\mu}^{2} \\sigma_{o}^{2} + 2 \\delta_{\\mu} \\delta_{o} \\sigma_{o}^{4} - 4 \\delta_{\\mu} \\mu_{\\mu} \\sigma_{\\mu}^{2} \\sigma_{o}^{2} + 4 \\delta_{\\mu} \\mu_{\\mu} \\sigma_{o}^{4} - 4 \\delta_{\\mu} \\mu_{o} \\sigma_{\\mu}^{4} + 4 \\delta_{\\mu} \\mu_{o} \\sigma_{\\mu}^{2} \\sigma_{o}^{2} - \\delta_{o}^{2} \\sigma_{\\mu}^{4} + 2 \\delta_{o}^{2} \\sigma_{\\mu}^{2} \\sigma_{o}^{2} - \\delta_{o}^{2} \\sigma_{o}^{4} + 4 \\delta_{o} \\mu_{\\mu} \\sigma_{\\mu}^{2} \\sigma_{o}^{2} - 4 \\delta_{o} \\mu_{\\mu} \\sigma_{o}^{4} + 4 \\delta_{o} \\mu_{o} \\sigma_{\\mu}^{4} - 4 \\delta_{o} \\mu_{o} \\sigma_{\\mu}^{2} \\sigma_{o}^{2} - 4 \\mu_{\\mu}^{2} \\sigma_{o}^{4} - 8 \\mu_{\\mu} \\mu_{o} \\sigma_{\\mu}^{2} \\sigma_{o}^{2} - 4 \\mu_{o}^{2} \\sigma_{\\mu}^{4}\\right)}, \\quad \\frac{e^{- \\frac{\\left(\\delta_{\\mu} - \\sigma_{\\mu}\\right)^{2}}{2 \\sigma_{\\mu}^{2}}}}{2 \\pi \\sigma_{\\mu} \\sigma_{o}} e^{- \\frac{\\left(\\delta_{o} - \\sigma_{o}\\right)^{2}}{2 \\sigma_{o}^{2}}}\\right )$$"
      ],
      "text/plain": [
       "⎛        2    2                2            2            2   2            2   \n",
       "⎜     δₘᵤ ⋅σₘᵤ              δₘᵤ          δₘᵤ          δₘᵤ ⋅σₒ          δₘᵤ    \n",
       "⎜ ────────────────── - ────────────── - ───── - ─────────────────── - ────── +\n",
       "⎜     2 ⎛   2     2⎞        2       2       2        2 ⎛   2     2⎞        2  \n",
       "⎜ 4⋅σₒ ⋅⎝σₘᵤ  + σₒ ⎠   2⋅σₘᵤ  + 2⋅σₒ    8⋅σₒ    4⋅σₘᵤ ⋅⎝σₘᵤ  + σₒ ⎠   8⋅σₘᵤ   \n",
       "⎜ℯ                                                                            \n",
       "⎜─────────────────────────────────────────────────────────────────────────────\n",
       "⎝                                                                             \n",
       "\n",
       "                                                               2              \n",
       "   δₘᵤ⋅δₒ     δₘᵤ⋅δₒ   δₘᵤ⋅δₒ     3⋅δₘᵤ⋅μₘᵤ          δₘᵤ⋅μₘᵤ⋅σₒ           δₘᵤ⋅\n",
       " ────────── - ────── - ────── + ────────────── + ─────────────────── + ───────\n",
       "    2     2       2         2        2       2        2 ⎛   2     2⎞       2 ⎛\n",
       " σₘᵤ  + σₒ    4⋅σₒ     4⋅σₘᵤ    2⋅σₘᵤ  + 2⋅σₒ    2⋅σₘᵤ ⋅⎝σₘᵤ  + σₒ ⎠   2⋅σₒ ⋅⎝\n",
       "                                                                              \n",
       "──────────────────────────────────────────────────────────────────────────────\n",
       "                                                                              \n",
       "\n",
       "      2                               2    2               2            2     \n",
       "μₒ⋅σₘᵤ            δₘᵤ⋅μₒ            δₒ ⋅σₘᵤ              δₒ           δₒ      \n",
       "─────────── - ────────────── - ────────────────── - ────────────── - ───── + ─\n",
       "   2     2⎞        2       2       2 ⎛   2     2⎞        2       2       2    \n",
       "σₘᵤ  + σₒ ⎠   2⋅σₘᵤ  + 2⋅σₒ    4⋅σₒ ⋅⎝σₘᵤ  + σₒ ⎠   2⋅σₘᵤ  + 2⋅σₒ    8⋅σₒ    4\n",
       "                                                                              \n",
       "──────────────────────────────────────────────────────────────────────────────\n",
       "                                                                              \n",
       "\n",
       "       2   2            2                                    2                \n",
       "     δₒ ⋅σₒ           δₒ          δₒ⋅μₘᵤ            δₒ⋅μₘᵤ⋅σₒ            δₒ⋅μₒ\n",
       "────────────────── - ────── - ────────────── + ─────────────────── + ─────────\n",
       "    2 ⎛   2     2⎞        2        2       2        2 ⎛   2     2⎞       2 ⎛  \n",
       "⋅σₘᵤ ⋅⎝σₘᵤ  + σₒ ⎠   8⋅σₘᵤ    2⋅σₘᵤ  + 2⋅σₒ    2⋅σₘᵤ ⋅⎝σₘᵤ  + σₒ ⎠   2⋅σₒ ⋅⎝σₘ\n",
       "                                                                              \n",
       "──────────────────────────────────────────────────────────────────────────────\n",
       "                                                                              \n",
       "\n",
       "    2                                2                            2           \n",
       "⋅σₘᵤ           3⋅δₒ⋅μₒ            μₘᵤ           μₘᵤ⋅μₒ          μₒ          - \n",
       "───────── + ────────────── - ────────────── + ────────── - ────────────── + ──\n",
       " 2     2⎞        2       2        2       2      2     2        2       2     \n",
       "ᵤ  + σₒ ⎠   2⋅σₘᵤ  + 2⋅σₒ    2⋅σₘᵤ  + 2⋅σₒ    σₘᵤ  + σₒ    2⋅σₘᵤ  + 2⋅σₒ      \n",
       "                                                                              \n",
       "──────────────────────────────────────────────────────────────────────────────\n",
       "                                                                              \n",
       "\n",
       "   2    4        2    2   2      2   4               4               2   2    \n",
       "δₘᵤ ⋅σₘᵤ  + 2⋅δₘᵤ ⋅σₘᵤ ⋅σₒ  - δₘᵤ ⋅σₒ  + 2⋅δₘᵤ⋅δₒ⋅σₘᵤ  - 4⋅δₘᵤ⋅δₒ⋅σₘᵤ ⋅σₒ  + 2\n",
       "──────────────────────────────────────────────────────────────────────────────\n",
       "                                                                              \n",
       "                                                                              \n",
       "                                                                              \n",
       "──────────────────────────────────────────────────────────────────────────────\n",
       "                                                                              \n",
       "\n",
       "          4                2   2               4               4              \n",
       "⋅δₘᵤ⋅δₒ⋅σₒ  - 4⋅δₘᵤ⋅μₘᵤ⋅σₘᵤ ⋅σₒ  + 4⋅δₘᵤ⋅μₘᵤ⋅σₒ  - 4⋅δₘᵤ⋅μₒ⋅σₘᵤ  + 4⋅δₘᵤ⋅μₒ⋅σₘ\n",
       "──────────────────────────────────────────────────────────────────────────────\n",
       "                                                                   2 ⎛   4    \n",
       "                                                               8⋅σₒ ⋅⎝σₘᵤ  + 2\n",
       "                                                                              \n",
       "──────────────────────────────────────────────────────────────────────────────\n",
       "                                        4⋅π⋅σₘᵤ⋅σₒ                            \n",
       "\n",
       " 2   2     2    4       2    2   2     2   4               2   2              \n",
       "ᵤ ⋅σₒ  - δₒ ⋅σₘᵤ  + 2⋅δₒ ⋅σₘᵤ ⋅σₒ  - δₒ ⋅σₒ  + 4⋅δₒ⋅μₘᵤ⋅σₘᵤ ⋅σₒ  - 4⋅δₒ⋅μₘᵤ⋅σₒ\n",
       "──────────────────────────────────────────────────────────────────────────────\n",
       "    2   2     4⎞                                                              \n",
       "⋅σₘᵤ ⋅σₒ  + σₒ ⎠                                                              \n",
       "                                                                              \n",
       "──────────────────────────────────────────────────────────────────────────────\n",
       "                                                                              \n",
       "\n",
       "4              4              2   2        2   4               2   2       2  \n",
       "  + 4⋅δₒ⋅μₒ⋅σₘᵤ  - 4⋅δₒ⋅μₒ⋅σₘᵤ ⋅σₒ  - 4⋅μₘᵤ ⋅σₒ  - 8⋅μₘᵤ⋅μₒ⋅σₘᵤ ⋅σₒ  - 4⋅μₒ ⋅σ\n",
       "──────────────────────────────────────────────────────────────────────────────\n",
       "                                                                              \n",
       "                                                                              \n",
       "                                                                              \n",
       "──────────────────────────────────────────────────────────────────────────────\n",
       "                                                                              \n",
       "\n",
       "  4        2    4        2    2   2      2   4               4               2\n",
       "ₘᵤ    - δₘᵤ ⋅σₘᵤ  + 2⋅δₘᵤ ⋅σₘᵤ ⋅σₒ  - δₘᵤ ⋅σₒ  + 2⋅δₘᵤ⋅δₒ⋅σₘᵤ  - 4⋅δₘᵤ⋅δₒ⋅σₘᵤ \n",
       "─── + ────────────────────────────────────────────────────────────────────────\n",
       "                                                                              \n",
       "                                                                              \n",
       "                                                                              \n",
       "──────────────────────────────────────────────────────────────────────────────\n",
       "                                                                              \n",
       "\n",
       "   2              4                2   2               4               4      \n",
       "⋅σₒ  + 2⋅δₘᵤ⋅δₒ⋅σₒ  - 4⋅δₘᵤ⋅μₘᵤ⋅σₘᵤ ⋅σₒ  + 4⋅δₘᵤ⋅μₘᵤ⋅σₒ  - 4⋅δₘᵤ⋅μₒ⋅σₘᵤ  + 4⋅δ\n",
       "──────────────────────────────────────────────────────────────────────────────\n",
       "                                                                            2 \n",
       "                                                                       8⋅σₘᵤ ⋅\n",
       "                                                                              \n",
       "──────────────────────────────────────────────────────────────────────────────\n",
       "                                                                              \n",
       "\n",
       "         2   2     2    4       2    2   2     2   4               2   2      \n",
       "ₘᵤ⋅μₒ⋅σₘᵤ ⋅σₒ  - δₒ ⋅σₘᵤ  + 2⋅δₒ ⋅σₘᵤ ⋅σₒ  - δₒ ⋅σₒ  + 4⋅δₒ⋅μₘᵤ⋅σₘᵤ ⋅σₒ  - 4⋅δ\n",
       "──────────────────────────────────────────────────────────────────────────────\n",
       "⎛   4        2   2     4⎞                                                     \n",
       "⎝σₘᵤ  + 2⋅σₘᵤ ⋅σₒ  + σₒ ⎠                                                     \n",
       "                                                                              \n",
       "──────────────────────────────────────────────────────────────────────────────\n",
       "                                                                              \n",
       "\n",
       "        4              4              2   2        2   4               2   2  \n",
       "ₒ⋅μₘᵤ⋅σₒ  + 4⋅δₒ⋅μₒ⋅σₘᵤ  - 4⋅δₒ⋅μₒ⋅σₘᵤ ⋅σₒ  - 4⋅μₘᵤ ⋅σₒ  - 8⋅μₘᵤ⋅μₒ⋅σₘᵤ ⋅σₒ  -\n",
       "──────────────────────────────────────────────────────────────────────────────\n",
       "                                                                              \n",
       "                                                                              \n",
       "                                                                              \n",
       "──────────────────────────────────────────────────────────────────────────────\n",
       "                                                                              \n",
       "\n",
       "     2    4               2             2 ⎞\n",
       " 4⋅μₒ ⋅σₘᵤ    -(δₘᵤ - σₘᵤ)    -(δₒ - σₒ)  ⎟\n",
       "───────────   ──────────────  ────────────⎟\n",
       "                       2             2    ⎟\n",
       "                  2⋅σₘᵤ          2⋅σₒ     ⎟\n",
       "             ℯ              ⋅ℯ            ⎟\n",
       "───────────, ─────────────────────────────⎟\n",
       "                       2⋅π⋅σₘᵤ⋅σₒ         ⎠"
      ]
     },
     "execution_count": 108,
     "metadata": {},
     "output_type": "execute_result"
    }
   ],
   "source": [
    "Del_eq=delo-delm\n",
    "chi_eq=delm+delo\n",
    "sym.simplify(sym.expand(expfun1.subs({sig_Del:sym.sqrt(sig_Del_sq),sig_chi:sym.sqrt(sig_chi_sq),mu_Del:mu_Del_eq,mu_chi:mu_chi_eq}).subs({chi:chi_eq,Del:Del_eq}))), expfun2\n",
    "#expfun3_lam=sym.lambdify((delo,delm,sigo,sigm,muo,mum),expfun3)"
   ]
  },
  {
   "cell_type": "code",
   "execution_count": 110,
   "metadata": {},
   "outputs": [
    {
     "data": {
      "image/png": "[encoded data removed]",
      "text/latex": [
       "$$2 \\sigma_{\\mu} \\sigma_{o}$$"
      ],
      "text/plain": [
       "2⋅σₘᵤ⋅σₒ"
      ]
     },
     "execution_count": 110,
     "metadata": {},
     "output_type": "execute_result"
    }
   ],
   "source": [
    "sym.sqrt(sig_Del_sq)*sym.sqrt(sig_chi_sq)"
   ]
  },
  {
   "cell_type": "code",
   "execution_count": 129,
   "metadata": {},
   "outputs": [],
   "source": [
    "\n",
    "test1=sym.simplify(((chi-mu_chi)**2/(2*sig_chi**2)+(Del-mu_Del)**2/(2*sig_Del**2)).subs({sig_Del:sym.sqrt(sig_Del_sq),sig_chi:sym.sqrt(sig_chi_sq),mu_Del:mu_Del_eq,mu_chi:mu_chi_eq}).subs({chi:chi_eq,Del:Del_eq}))\n"
   ]
  },
  {
   "cell_type": "code",
   "execution_count": 130,
   "metadata": {},
   "outputs": [],
   "source": [
    "test2=(delo-muo)**2/(2*sigo**2)+(delm-mum)**2/(2*sigm**2)"
   ]
  },
  {
   "cell_type": "code",
   "execution_count": 131,
   "metadata": {},
   "outputs": [
    {
     "data": {
      "image/png": "[encoded data removed]",
      "text/latex": [
       "$$0$$"
      ],
      "text/plain": [
       "0"
      ]
     },
     "execution_count": 131,
     "metadata": {},
     "output_type": "execute_result"
    }
   ],
   "source": [
    "sym.simplify(test1-test2)"
   ]
  },
  {
   "cell_type": "code",
   "execution_count": 133,
   "metadata": {},
   "outputs": [
    {
     "data": {
      "image/png": "[encoded data removed]",
      "text/latex": [
       "$$\\frac{\\left(\\chi - \\mu_{\\chi}\\right)^{2}}{2 \\sigma_{\\chi}^{2}} + \\frac{\\left(\\Delta - \\mu_{\\Delta}\\right)^{2}}{2 \\sigma_{\\Delta}^{2}}$$"
      ],
      "text/plain": [
       "        2            2\n",
       "(χ - μᵪ)    (Δ - μ_Δ) \n",
       "───────── + ──────────\n",
       "      2            2  \n",
       "  2⋅σᵪ        2⋅σ_Δ   "
      ]
     },
     "execution_count": 133,
     "metadata": {},
     "output_type": "execute_result"
    }
   ],
   "source": [
    "((chi-mu_chi)**2/(2*sig_chi**2)+(Del-mu_Del)**2/(2*sig_Del**2))"
   ]
  },
  {
   "cell_type": "code",
   "execution_count": 146,
   "metadata": {},
   "outputs": [
    {
     "data": {
      "image/png": "[encoded data removed]",
      "text/latex": [
       "$$\\left ( \\frac{2 \\sigma_{\\mu} \\sigma_{o}}{\\sqrt{\\sigma_{\\mu}^{2} + \\sigma_{o}^{2}}}, \\quad \\sqrt{\\sigma_{\\mu}^{2} + \\sigma_{o}^{2}}\\right )$$"
      ],
      "text/plain": [
       "⎛                    ____________⎞\n",
       "⎜    2⋅σₘᵤ⋅σₒ       ╱    2     2 ⎟\n",
       "⎜───────────────, ╲╱  σₘᵤ  + σₒ  ⎟\n",
       "⎜   ____________                 ⎟\n",
       "⎜  ╱    2     2                  ⎟\n",
       "⎝╲╱  σₘᵤ  + σₒ                   ⎠"
      ]
     },
     "execution_count": 146,
     "metadata": {},
     "output_type": "execute_result"
    }
   ],
   "source": [
    "sym.sqrt(sig_chi_sq), sym.sqrt(sig_Del_sq)"
   ]
  },
  {
   "cell_type": "code",
   "execution_count": 147,
   "metadata": {},
   "outputs": [
    {
     "data": {
      "image/png": "[encoded data removed]",
      "text/latex": [
       "$$\\left ( \\frac{1}{\\sigma_{\\mu}^{2} + \\sigma_{o}^{2}} \\left(- \\sigma_{\\mu}^{2} \\left(\\Delta - 2 \\mu_{o}\\right) + \\sigma_{o}^{2} \\left(\\Delta + 2 \\mu_{\\mu}\\right)\\right), \\quad - \\mu_{\\mu} + \\mu_{o}\\right )$$"
      ],
      "text/plain": [
       "⎛     2                2                       ⎞\n",
       "⎜- σₘᵤ ⋅(Δ - 2⋅μₒ) + σₒ ⋅(Δ + 2⋅μₘᵤ)           ⎟\n",
       "⎜───────────────────────────────────, -μₘᵤ + μₒ⎟\n",
       "⎜                2     2                       ⎟\n",
       "⎝             σₘᵤ  + σₒ                        ⎠"
      ]
     },
     "execution_count": 147,
     "metadata": {},
     "output_type": "execute_result"
    }
   ],
   "source": [
    "mu_chi_eq, mu_Del_eq"
   ]
  },
  {
   "cell_type": "code",
   "execution_count": null,
   "metadata": {},
   "outputs": [],
   "source": []
  }
 ],
 "metadata": {
  "kernelspec": {
   "display_name": "Python 3",
   "language": "python",
   "name": "python3"
  },
  "language_info": {
   "codemirror_mode": {
    "name": "ipython",
    "version": 3
   },
   "file_extension": ".py",
   "mimetype": "text/x-python",
   "name": "python",
   "nbconvert_exporter": "python",
   "pygments_lexer": "ipython3",
   "version": "3.6.5"
  }
 },
 "nbformat": 4,
 "nbformat_minor": 2
}
