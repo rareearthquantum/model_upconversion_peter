{
 "cells": [
  {
   "cell_type": "markdown",
   "metadata": {},
   "source": [
    "Start by importing a load of stuff\n",
    "\n",
    "Add to this later if need more packages"
   ]
  },
  {
   "cell_type": "code",
   "execution_count": 1,
   "metadata": {},
   "outputs": [],
   "source": [
    "import sympy as sym\n",
    "sym.init_printing()\n",
    "\n",
    "import numpy as np\n",
    "from math import pi\n",
    "import math\n",
    "\n",
    "import matplotlib.pyplot as plt\n",
    "from sympy import I, Matrix, symbols\n",
    "from sympy.physics.quantum import TensorProduct, Dagger\n",
    "import scipy.optimize\n",
    "import scipy.integrate\n",
    "\n",
    "import scipy.constants as const\n",
    "\n",
    "#import qutip\n",
    "\n",
    "from matplotlib.colors import Normalize as Norm\n",
    "\n",
    "%load_ext cython\n",
    "%matplotlib notebook"
   ]
  },
  {
   "cell_type": "code",
   "execution_count": 2,
   "metadata": {},
   "outputs": [],
   "source": [
    "#define some s pre/post operators\n",
    "#used for defining superoperators like L in matrix form\n",
    "\n",
    "def spre(m):\n",
    "    return TensorProduct(sym.eye(m.shape[0]),m)\n",
    "\n",
    "def spost(m):\n",
    "    return TensorProduct(m.T, sym.eye(m.shape[0]))\n",
    "\n",
    "def collapse(c):\n",
    "    tmp = Dagger(c)*c/2\n",
    "    return spre(c)*spost(Dagger(c))-spre(tmp)-spost(tmp)\n",
    "\n",
    "\n",
    "s13=Matrix([[0,0,1],[0,0,0],[0,0,0]])\n",
    "s23=Matrix([[0,0,0],[0,0,1],[0,0,0]])\n",
    "s12=Matrix([[0,1,0],[0,0,0],[0,0,0]])\n",
    "\n",
    "s31=s13.T\n",
    "s32=s23.T\n",
    "s21=s12.T\n",
    "\n",
    "s11 = s12*s21\n",
    "s22 = s21*s12\n",
    "s33 = s31*s13"
   ]
  },
  {
   "cell_type": "code",
   "execution_count": 3,
   "metadata": {},
   "outputs": [],
   "source": [
    "#define symbols that are used for the symbolic stuff\n",
    "delta2,delta3=sym.symbols('delta_2 delta_3', real=True)\n",
    "gamma13,gamma23,gamma2d,gamma3d,nbath,gammamu=sym.symbols('gamma_13 gamma_23 gamma_2d gamma_3d n_b gamma_mu', real=True, negative=False)\n",
    "omegao, omegam=sym.symbols('Omega_o Omega_mu', real=True, negative=False)\n",
    "rho11, rho12, rho13, rho21, rho22, rho23, rho31, rho32, rho33=sym.symbols('rho_11 rho_12 rho_13 rho_21 rho_22 rho_23 rho_31 rho_32 rho_33')\n",
    "\n",
    "a= sym.symbols('a')\n",
    "ar,ai=sym.symbols('a_r a_i', real=True)\n",
    "g=sym.symbols('g',real=True, negative=False)\n",
    "lam=sym.symbols('lambda')"
   ]
  },
  {
   "cell_type": "code",
   "execution_count": 4,
   "metadata": {},
   "outputs": [
    {
     "data": {
      "text/latex": [
       "$$\\left ( \\left[\\begin{matrix}0 & \\Omega_{\\mu} & g \\overline{a}\\\\\\Omega_{\\mu} & \\delta_{2} & \\Omega_{o}\\\\a g & \\Omega_{o} & \\delta_{3}\\end{matrix}\\right], \\quad \\left[\\begin{matrix}0 & \\Omega_{\\mu} & 0\\\\\\Omega_{\\mu} & \\delta_{2} & \\Omega_{o}\\\\0 & \\Omega_{o} & \\delta_{3}\\end{matrix}\\right], \\quad \\left[\\begin{matrix}0 & 0 & 0\\\\0 & \\delta_{2} & \\Omega_{o}\\\\0 & \\Omega_{o} & \\delta_{3}\\end{matrix}\\right], \\quad \\left[\\begin{matrix}0 & \\Omega_{\\mu} & 0\\\\\\Omega_{\\mu} & \\delta_{2} & 0\\\\0 & 0 & \\delta_{3}\\end{matrix}\\right]\\right )$$"
      ],
      "text/plain": [
       "⎛⎡            _⎤                                             ⎞\n",
       "⎜⎢ 0   Ωₘᵤ  g⋅a⎥  ⎡ 0   Ωₘᵤ  0 ⎤  ⎡0  0   0 ⎤  ⎡ 0   Ωₘᵤ  0 ⎤⎟\n",
       "⎜⎢             ⎥  ⎢            ⎥  ⎢         ⎥  ⎢            ⎥⎟\n",
       "⎜⎢Ωₘᵤ  δ₂   Ωₒ ⎥, ⎢Ωₘᵤ  δ₂   Ωₒ⎥, ⎢0  δ₂  Ωₒ⎥, ⎢Ωₘᵤ  δ₂   0 ⎥⎟\n",
       "⎜⎢             ⎥  ⎢            ⎥  ⎢         ⎥  ⎢            ⎥⎟\n",
       "⎝⎣a⋅g  Ωₒ   δ₃ ⎦  ⎣ 0   Ωₒ   δ₃⎦  ⎣0  Ωₒ  δ₃⎦  ⎣ 0    0   δ₃⎦⎠"
      ]
     },
     "execution_count": 4,
     "metadata": {},
     "output_type": "execute_result"
    }
   ],
   "source": [
    "#define the Hamiltonian for the system\n",
    "#might add to this if we want to include more stuff\n",
    "H=omegam*s21+omegao*s32+ g*a*s31\n",
    "H=H+Dagger(H)\n",
    "H=H+delta2*s22+delta3*s33\n",
    "\n",
    "H_no_a=H[:,:]\n",
    "H_no_a[0,2]=0\n",
    "H_no_a[2,0]=0\n",
    "H_no_a\n",
    "\n",
    "H_o=H_no_a[:,:]\n",
    "H_o[0,1]=0\n",
    "H_o[1,0]=0\n",
    "\n",
    "H_mu=H_no_a[:,:]\n",
    "H_mu[2,1]=0\n",
    "H_mu[1,2]=0\n",
    "\n",
    "\n",
    "H, H_no_a, H_o, H_mu"
   ]
  },
  {
   "cell_type": "code",
   "execution_count": 117,
   "metadata": {},
   "outputs": [],
   "source": [
    "#define the Liovillian for the system in Matrix form\n",
    "#We change the first row to impose the normalisation condition\n",
    "LH=-I*spre(H)+I*spost(H)\n",
    "L21 = gammamu*(nbath+1)*collapse(s12)\n",
    "L12 = gammamu*nbath*collapse(s21)\n",
    "L32 = gamma23*collapse(s23)\n",
    "L31 = gamma13*collapse(s13)\n",
    "L22 = gamma2d*collapse(s22)\n",
    "L33 = gamma3d*collapse(s33)\n",
    "\n",
    "L = LH + L21 + L12 + L32 + L31 + L22 + L33\n",
    "L0=L.subs(a,0)\n",
    "L1=L-L0\n",
    "#L0 = L0.row_insert(0,Matrix([[1,0,0,0,1,0,0,0,1]]))\n",
    "#L0.row_del(1)"
   ]
  },
  {
   "cell_type": "code",
   "execution_count": 118,
   "metadata": {},
   "outputs": [
    {
     "data": {
      "text/latex": [
       "$$\\left[\\begin{matrix}- \\gamma_{\\mu} n_{b} & - i \\Omega_{\\mu} & 0 & i \\Omega_{\\mu} & \\gamma_{\\mu} \\left(n_{b} + 1\\right) & 0 & 0 & 0 & \\gamma_{13}\\\\- i \\Omega_{\\mu} & - i \\delta_{2} - \\frac{\\gamma_{2d}}{2} - \\frac{\\gamma_{\\mu} n_{b}}{2} - \\frac{\\gamma_{\\mu}}{2} \\left(n_{b} + 1\\right) & - i \\Omega_{o} & 0 & i \\Omega_{\\mu} & 0 & 0 & 0 & 0\\\\0 & - i \\Omega_{o} & - i \\delta_{3} - \\frac{\\gamma_{13}}{2} - \\frac{\\gamma_{23}}{2} - \\frac{\\gamma_{3d}}{2} - \\frac{\\gamma_{\\mu} n_{b}}{2} & 0 & 0 & i \\Omega_{\\mu} & 0 & 0 & 0\\\\i \\Omega_{\\mu} & 0 & 0 & i \\delta_{2} - \\frac{\\gamma_{2d}}{2} - \\frac{\\gamma_{\\mu} n_{b}}{2} - \\frac{\\gamma_{\\mu}}{2} \\left(n_{b} + 1\\right) & - i \\Omega_{\\mu} & 0 & i \\Omega_{o} & 0 & 0\\\\\\gamma_{\\mu} n_{b} & i \\Omega_{\\mu} & 0 & - i \\Omega_{\\mu} & - \\gamma_{\\mu} \\left(n_{b} + 1\\right) & - i \\Omega_{o} & 0 & i \\Omega_{o} & \\gamma_{23}\\\\0 & 0 & i \\Omega_{\\mu} & 0 & - i \\Omega_{o} & i \\delta_{2} - i \\delta_{3} - \\frac{\\gamma_{13}}{2} - \\frac{\\gamma_{23}}{2} - \\frac{\\gamma_{2d}}{2} - \\frac{\\gamma_{3d}}{2} - \\frac{\\gamma_{\\mu}}{2} \\left(n_{b} + 1\\right) & 0 & 0 & i \\Omega_{o}\\\\0 & 0 & 0 & i \\Omega_{o} & 0 & 0 & i \\delta_{3} - \\frac{\\gamma_{13}}{2} - \\frac{\\gamma_{23}}{2} - \\frac{\\gamma_{3d}}{2} - \\frac{\\gamma_{\\mu} n_{b}}{2} & - i \\Omega_{\\mu} & 0\\\\0 & 0 & 0 & 0 & i \\Omega_{o} & 0 & - i \\Omega_{\\mu} & - i \\delta_{2} + i \\delta_{3} - \\frac{\\gamma_{13}}{2} - \\frac{\\gamma_{23}}{2} - \\frac{\\gamma_{2d}}{2} - \\frac{\\gamma_{3d}}{2} - \\frac{\\gamma_{\\mu}}{2} \\left(n_{b} + 1\\right) & - i \\Omega_{o}\\\\0 & 0 & 0 & 0 & 0 & i \\Omega_{o} & 0 & - i \\Omega_{o} & - \\gamma_{13} - \\gamma_{23}\\end{matrix}\\right]$$"
      ],
      "text/plain": [
       "⎡-γₘᵤ⋅n_b                  -ⅈ⋅Ωₘᵤ                                  0          \n",
       "⎢                                                                             \n",
       "⎢                  γ_2d   γₘᵤ⋅n_b   γₘᵤ⋅(n_b + 1)                             \n",
       "⎢ -ⅈ⋅Ωₘᵤ   -ⅈ⋅δ₂ - ──── - ─────── - ─────────────                -ⅈ⋅Ωₒ        \n",
       "⎢                   2        2            2                                   \n",
       "⎢                                                                             \n",
       "⎢                                                          γ₁₃   γ₂₃   γ_3d   \n",
       "⎢   0                      -ⅈ⋅Ωₒ                   -ⅈ⋅δ₃ - ─── - ─── - ──── - \n",
       "⎢                                                           2     2     2     \n",
       "⎢                                                                             \n",
       "⎢                                                                             \n",
       "⎢ ⅈ⋅Ωₘᵤ                      0                                     0          \n",
       "⎢                                                                             \n",
       "⎢                                                                             \n",
       "⎢γₘᵤ⋅n_b                   ⅈ⋅Ωₘᵤ                                   0          \n",
       "⎢                                                                             \n",
       "⎢                                                                             \n",
       "⎢   0                        0                                   ⅈ⋅Ωₘᵤ        \n",
       "⎢                                                                             \n",
       "⎢                                                                             \n",
       "⎢                                                                             \n",
       "⎢   0                        0                                     0          \n",
       "⎢                                                                             \n",
       "⎢                                                                             \n",
       "⎢                                                                             \n",
       "⎢   0                        0                                     0          \n",
       "⎢                                                                             \n",
       "⎢                                                                             \n",
       "⎣   0                        0                                     0          \n",
       "\n",
       "                         ⅈ⋅Ωₘᵤ                  γₘᵤ⋅(n_b + 1)                 \n",
       "                                                                              \n",
       "                                                                              \n",
       "                           0                        ⅈ⋅Ωₘᵤ                     \n",
       "                                                                              \n",
       "                                                                              \n",
       "γₘᵤ⋅n_b                                                                       \n",
       "───────                    0                          0                       \n",
       "   2                                                                          \n",
       "                                                                              \n",
       "                γ_2d   γₘᵤ⋅n_b   γₘᵤ⋅(n_b + 1)                                \n",
       "         ⅈ⋅δ₂ - ──── - ─────── - ─────────────      -ⅈ⋅Ωₘᵤ                    \n",
       "                 2        2            2                                      \n",
       "                                                                              \n",
       "                        -ⅈ⋅Ωₘᵤ                  -γₘᵤ⋅(n_b + 1)                \n",
       "                                                                              \n",
       "                                                                              \n",
       "                           0                        -ⅈ⋅Ωₒ       ⅈ⋅δ₂ - ⅈ⋅δ₃ - \n",
       "                                                                              \n",
       "                                                                              \n",
       "                                                                              \n",
       "                         ⅈ⋅Ωₒ                         0                       \n",
       "                                                                              \n",
       "                                                                              \n",
       "                                                                              \n",
       "                           0                         ⅈ⋅Ωₒ                     \n",
       "                                                                              \n",
       "                                                                              \n",
       "                           0                          0                       \n",
       "\n",
       "            0                                            0                    \n",
       "                                                                              \n",
       "                                                                              \n",
       "            0                                            0                    \n",
       "                                                                              \n",
       "                                                                              \n",
       "                                                                              \n",
       "          ⅈ⋅Ωₘᵤ                                          0                    \n",
       "                                                                              \n",
       "                                                                              \n",
       "                                                                              \n",
       "            0                                          ⅈ⋅Ωₒ                   \n",
       "                                                                              \n",
       "                                                                              \n",
       "          -ⅈ⋅Ωₒ                                          0                    \n",
       "                                                                              \n",
       "γ₁₃   γ₂₃   γ_2d   γ_3d   γₘᵤ⋅(n_b + 1)                                       \n",
       "─── - ─── - ──── - ──── - ─────────────                  0                    \n",
       " 2     2     2      2           2                                             \n",
       "                                                                              \n",
       "                                                γ₁₃   γ₂₃   γ_3d   γₘᵤ⋅n_b    \n",
       "            0                            ⅈ⋅δ₃ - ─── - ─── - ──── - ───────    \n",
       "                                                 2     2     2        2       \n",
       "                                                                              \n",
       "                                                                              \n",
       "            0                                         -ⅈ⋅Ωₘᵤ                -ⅈ\n",
       "                                                                              \n",
       "                                                                              \n",
       "          ⅈ⋅Ωₒ                                           0                    \n",
       "\n",
       "                        0                                γ₁₃    ⎤\n",
       "                                                                ⎥\n",
       "                                                                ⎥\n",
       "                        0                                 0     ⎥\n",
       "                                                                ⎥\n",
       "                                                                ⎥\n",
       "                                                                ⎥\n",
       "                        0                                 0     ⎥\n",
       "                                                                ⎥\n",
       "                                                                ⎥\n",
       "                                                                ⎥\n",
       "                        0                                 0     ⎥\n",
       "                                                                ⎥\n",
       "                                                                ⎥\n",
       "                       ⅈ⋅Ωₒ                              γ₂₃    ⎥\n",
       "                                                                ⎥\n",
       "                                                                ⎥\n",
       "                        0                                ⅈ⋅Ωₒ   ⎥\n",
       "                                                                ⎥\n",
       "                                                                ⎥\n",
       "                                                                ⎥\n",
       "                      -ⅈ⋅Ωₘᵤ                              0     ⎥\n",
       "                                                                ⎥\n",
       "                                                                ⎥\n",
       "             γ₁₃   γ₂₃   γ_2d   γ_3d   γₘᵤ⋅(n_b + 1)            ⎥\n",
       "⋅δ₂ + ⅈ⋅δ₃ - ─── - ─── - ──── - ──── - ─────────────    -ⅈ⋅Ωₒ   ⎥\n",
       "              2     2     2      2           2                  ⎥\n",
       "                                                                ⎥\n",
       "                      -ⅈ⋅Ωₒ                           -γ₁₃ - γ₂₃⎦"
      ]
     },
     "execution_count": 118,
     "metadata": {},
     "output_type": "execute_result"
    }
   ],
   "source": [
    "L0"
   ]
  },
  {
   "cell_type": "code",
   "execution_count": 119,
   "metadata": {},
   "outputs": [],
   "source": [
    "#define the density matrix in square and row form\n",
    "#the row form is so the Liovillian in matrix form can be acted on it\n",
    "rho = Matrix([[rho11,rho21,rho31],[rho12,rho22,rho32],[rho13,rho23,rho33]])\n",
    "rho = 1*rho.T #because we are using \"fortran\" style matrix flatteneing\n",
    "rho[:]\n",
    "rhoflat = 1*rho.T \n",
    "rhoflat = rhoflat[:]"
   ]
  },
  {
   "cell_type": "code",
   "execution_count": 120,
   "metadata": {},
   "outputs": [
    {
     "data": {
      "text/latex": [
       "$$\\left[\\begin{matrix}0 & 0 & - i g \\overline{a} & 0 & 0 & 0 & i a g & 0 & 0\\\\0 & 0 & 0 & 0 & 0 & 0 & 0 & i a g & 0\\\\- i a g & 0 & 0 & 0 & 0 & 0 & 0 & 0 & i a g\\\\0 & 0 & 0 & 0 & 0 & - i g \\overline{a} & 0 & 0 & 0\\\\0 & 0 & 0 & 0 & 0 & 0 & 0 & 0 & 0\\\\0 & 0 & 0 & - i a g & 0 & 0 & 0 & 0 & 0\\\\i g \\overline{a} & 0 & 0 & 0 & 0 & 0 & 0 & 0 & - i g \\overline{a}\\\\0 & i g \\overline{a} & 0 & 0 & 0 & 0 & 0 & 0 & 0\\\\0 & 0 & i g \\overline{a} & 0 & 0 & 0 & - i a g & 0 & 0\\end{matrix}\\right]$$"
      ],
      "text/plain": [
       "⎡                    _                                          ⎤\n",
       "⎢  0       0    -ⅈ⋅g⋅a    0     0    0     ⅈ⋅a⋅g     0      0   ⎥\n",
       "⎢                                                               ⎥\n",
       "⎢  0       0      0       0     0    0       0     ⅈ⋅a⋅g    0   ⎥\n",
       "⎢                                                               ⎥\n",
       "⎢-ⅈ⋅a⋅g    0      0       0     0    0       0       0    ⅈ⋅a⋅g ⎥\n",
       "⎢                                                               ⎥\n",
       "⎢                                       _                       ⎥\n",
       "⎢  0       0      0       0     0  -ⅈ⋅g⋅a    0       0      0   ⎥\n",
       "⎢                                                               ⎥\n",
       "⎢  0       0      0       0     0    0       0       0      0   ⎥\n",
       "⎢                                                               ⎥\n",
       "⎢  0       0      0     -ⅈ⋅a⋅g  0    0       0       0      0   ⎥\n",
       "⎢                                                               ⎥\n",
       "⎢    _                                                         _⎥\n",
       "⎢ⅈ⋅g⋅a     0      0       0     0    0       0       0    -ⅈ⋅g⋅a⎥\n",
       "⎢                                                               ⎥\n",
       "⎢            _                                                  ⎥\n",
       "⎢  0     ⅈ⋅g⋅a    0       0     0    0       0       0      0   ⎥\n",
       "⎢                                                               ⎥\n",
       "⎢                   _                                           ⎥\n",
       "⎣  0       0    ⅈ⋅g⋅a     0     0    0     -ⅈ⋅a⋅g    0      0   ⎦"
      ]
     },
     "execution_count": 120,
     "metadata": {},
     "output_type": "execute_result"
    }
   ],
   "source": [
    "L1"
   ]
  },
  {
   "cell_type": "code",
   "execution_count": 121,
   "metadata": {},
   "outputs": [
    {
     "data": {
      "text/latex": [
       "$$\\left[\\begin{matrix}0 & \\Omega_{\\mu} & g \\overline{a}\\\\\\Omega_{\\mu} & \\delta_{2} & \\Omega_{o}\\\\a g & \\Omega_{o} & \\delta_{3}\\end{matrix}\\right]$$"
      ],
      "text/plain": [
       "⎡            _⎤\n",
       "⎢ 0   Ωₘᵤ  g⋅a⎥\n",
       "⎢             ⎥\n",
       "⎢Ωₘᵤ  δ₂   Ωₒ ⎥\n",
       "⎢             ⎥\n",
       "⎣a⋅g  Ωₒ   δ₃ ⎦"
      ]
     },
     "execution_count": 121,
     "metadata": {},
     "output_type": "execute_result"
    }
   ],
   "source": [
    "H"
   ]
  },
  {
   "cell_type": "code",
   "execution_count": 122,
   "metadata": {},
   "outputs": [],
   "source": [
    "#make lambda functions for the Liovillian so it can be used for numerics\n",
    "\n",
    "Lfunc = sym.lambdify((a,delta2, delta3, gamma13, gamma23, gamma2d, gamma3d, nbath,gammamu,omegao,omegam,g),L)\n",
    "L0func = sym.lambdify((delta2, delta3, gamma13, gamma23, gamma2d, gamma3d, nbath,gammamu,omegao,omegam),L0)\n",
    "L1func = sym.lambdify((a,g),L1)\n",
    "Hfunc = sym.lambdify((a,delta2,delta3,omegao, omegam,g),H)\n"
   ]
  },
  {
   "cell_type": "code",
   "execution_count": 123,
   "metadata": {},
   "outputs": [],
   "source": [
    "def rho0_func(delta2val,delta3val,p):\n",
    "    #aval=p['a']\n",
    "    #delta2val=p['delta2']\n",
    "    #delta3val=p['delta3']\n",
    "    #a_r=np.real(a)\n",
    "    #a_i=np.imag(a)\n",
    "    L0_mat=L0func(delta2val,delta3val,p['gamma13'],p['gamma23'],p['gamma2d'],p['gamma3d'], p['nbath'],p['gammamu'],p['omegao'],p['omegam'])\n",
    "    rho = np.linalg.solve(L0_mat.astype('complex128'),np.matrix([[1,0,0,0,0,0,0,0,0]]).T)\n",
    "    return rho"
   ]
  },
  {
   "cell_type": "code",
   "execution_count": 124,
   "metadata": {},
   "outputs": [],
   "source": [
    "# calculate microwave rabi frequency from power in in dBm\n",
    "def omegam_from_Pin(Pin,p):\n",
    "    mu0 = 4*pi*1e-7\n",
    "    hbar=1.05457e-34; # in J*s\n",
    "    Vsample=pi*((p['dsample']/2)**2) * p['Lsample'] # the volume of the Er:YSO sample\n",
    "    V_microwave_cavity = Vsample/p['fillfactor']    \n",
    "    mwP = 1e-3 * 10**(Pin/10)  #convert from dBm to Watts\n",
    "    Q=2*pi*p['freqm']/(p['kappami']+p['kappamc']*2) # Q factor\n",
    "    S21=(4*p['kappamc']**2)/(p['kappami']+p['kappamc']*2)**2\n",
    "    energy_in_cavity=math.sqrt(S21)*2/(2*pi*p['freqm']/Q)*mwP; # energy inside the microwave cavity, in J\n",
    "    Bmw=math.sqrt(mu0*(energy_in_cavity/V_microwave_cavity)/2); # Magnetic field of the microwave\n",
    "    p['omegam']=(p['mu12']*Bmw)/hbar*(-1); # in rad/sec???? in Hz\n",
    "    return p['omegam']\n",
    "# calculate optical rabi frequency from power in in dBm\n",
    "def omegao_from_Pin(Pin,p):\n",
    "    epsilon0=8.854187817e-12\n",
    "    hbar=1.05457e-34; # in J*s\n",
    "\n",
    "    optP = 1e-3 * 10**(Pin/10) #incident optical power in W\n",
    "    pflux = optP/(2*pi*p['freqo']*hbar) #photon flux (photons/sec)\n",
    "    n_in = pflux * p['kappaoc']*4/(p['kappaoc']+p['kappaoi'])**2 # num intracavity photons\n",
    "                                                #is this right????\n",
    "    Sspot = pi*p['Wcavity']**2 #cross sectional area of\n",
    "                                #optical mode\n",
    "    V_cav = (Sspot*p['Lcavity_vac']+Sspot*p['Lsample']*p['nYSO']**3)/2;\n",
    "    optEfield = math.sqrt(n_in*hbar*2*pi*p['freqo']/2/epsilon0/V_cav);\n",
    "    p['omegao'] = p['d23']*optEfield/hbar*(-1);\n",
    "    return p['omegao']"
   ]
  },
  {
   "cell_type": "code",
   "execution_count": 125,
   "metadata": {},
   "outputs": [
    {
     "data": {
      "image/png": "[encoded data removed]",
      "text/latex": [
       "$$-4754308.429163911$$"
      ],
      "text/plain": [
       "-4754308.429163911"
      ]
     },
     "execution_count": 125,
     "metadata": {},
     "output_type": "execute_result"
    }
   ],
   "source": [
    "p = {}\n",
    "p['a'] = 0\n",
    "aval=p['a']\n",
    "p['delta2'] = 0.\n",
    "p['delta3'] = 0.\n",
    "\n",
    "\n",
    "p['d13'] = 2e-32*math.sqrt(1/3)\n",
    "p['d23'] = 2e-32*math.sqrt(2/3)\n",
    "p['gamma13'] = p['d13']**2/(p['d13']**2+p['d23']**2)*1/11e-3\n",
    "p['gamma23'] = p['d23']**2/(p['d13']**2+p['d23']**2)*1/11e-3\n",
    "p['gamma2d'] = 1e6\n",
    "p['gamma3d'] = 1e6\n",
    "p['nbath'] = 20\n",
    "p['gammamu'] = 1/(p['nbath']+1) * 1e3\n",
    "\n",
    "p['g'] = 51.9  #optical coupling\n",
    "p['N'] = 1.28e15 # number of atoms in the optical mode\n",
    "\n",
    "p['deltac']=0 #detuning for \n",
    "p['kappaoi']=2*pi*7.95e6 # intrinsic loss for optical resonator\n",
    "p['kappaoc']=2*pi*1.7e6 # coupling loss for optical resonator\n",
    "p['df']=0.1e6 # how small descretisation step to take when integrating over the \n",
    "            # inhomogeneous lines\n",
    "\n",
    "p['mean_delta2']=0\n",
    "p['sd_delta2']=2*pi*25e6/2.355  #microwave inhomogeneous broadening\n",
    "                                #2.355is to turn FWHM into standard deviation\n",
    "p['mean_delta3']=0\n",
    "p['sd_delta3']=2*pi*170e6/2.355 #optical inhomogeneous broadening\n",
    "\n",
    "p['kappami'] = 650e3*2*pi # intrinsic loss for microwave cavity\n",
    "p['kappamc'] = 70e3*2*pi  # coupling loss for optical cavity\n",
    "                        # this is for one of the two output ports\n",
    "p['Nmu'] = 2.22e16  #toal number of atoms\n",
    "p['gmu'] = 1.04 #coupling between atoms and microwave field\n",
    "\n",
    "\n",
    "muBohr=927.4009994e-26; # Bohr magneton in J/T in J* T^-1\n",
    "p['mu12'] = 4.3803*muBohr # transition dipole moment for microwave cavity (J T^-1)\n",
    "\n",
    "p['Lsample']=12e-3 # the length of the sample, in m\n",
    "p['dsample']=5e-3 # the diameter of the sample, in m\n",
    "\n",
    "p['fillfactor']=0.8 #microwave filling factor\n",
    "p['freqm'] = 5.186e9\n",
    "p['freqo'] = 195113.36e9\n",
    "\n",
    "p['Lcavity_vac'] = 49.5e-3 # length of the vacuum part of the optical\n",
    "                           # Fabry Perot (m)\n",
    "p['Wcavity'] =  0.6e-3# width of optical resonator beam in sample (m)\n",
    "p['nYSO'] = 1.76 #refractive index of YSO\n",
    "\n",
    "# assume 1mW (=0dBm) input to both optical and to microwave cavities\n",
    "omegao_from_Pin(0,p)\n",
    "omegam_from_Pin(0,p)\n",
    "\n",
    "#see what rabi freqs we have\n",
    "#p['omegao']/1e6,p['omegam']/1e6\n"
   ]
  },
  {
   "cell_type": "code",
   "execution_count": 126,
   "metadata": {},
   "outputs": [],
   "source": [
    "def rho_func(aval, delta2val,delta3val,p):\n",
    "    xx=5\n",
    "    L1_mat=L1func(aval,p['g'])\n",
    "    L1_mat[xx,:]=[1,0,0,0,1,0,0,0,1]\n",
    "    L0_mat=L0func(delta2val,delta3val,p['gamma13'],p['gamma23'],p['gamma2d'],p['gamma3d'], p['nbath'],p['gammamu'],p['omegao'],p['omegam'])\n",
    "    rho0 = np.linalg.solve(L0_mat.astype('complex128'),np.matrix([[1,0,0,0,0,0,0,0,0]]).T)\n",
    "    L1rho0=L1_mat*rho0\n",
    "    L1rho0[xx]=0\n",
    "    rho1 = np.linalg.solve(L0_mat.astype('complex128'),np.matrix(L1rho0))\n",
    "    return rho0, rho1"
   ]
  },
  {
   "cell_type": "code",
   "execution_count": 314,
   "metadata": {},
   "outputs": [],
   "source": [
    "def E_func(aval, delta2val, delta3val,p):\n",
    "    H_mat=Hfunc(aval,delta2val,delta3val,p['omegao'],p['omegam'],p['g'])\n",
    "    rho0,rho1=rho_func(aval,delta2val,delta3val,p)\n",
    "    E0=np.trace(np.reshape(rho0,(3,3))*H_mat)\n",
    "    E1=np.trace(np.reshape(rho1,(3,3))*H_mat)\n",
    "    return E0, E1"
   ]
  },
  {
   "cell_type": "code",
   "execution_count": 322,
   "metadata": {},
   "outputs": [
    {
     "data": {
      "text/plain": [
       "((6504716.984399124+1.4574878193229779e-08j),\n",
       " (-0.07419315766511708+2.5779378631796135e-13j))"
      ]
     },
     "execution_count": 322,
     "metadata": {},
     "output_type": "execute_result"
    }
   ],
   "source": [
    "E_func(10j,-10e6,40e6,p)"
   ]
  },
  {
   "cell_type": "code",
   "execution_count": 317,
   "metadata": {},
   "outputs": [
    {
     "data": {
      "text/plain": [
       "{'a': 0,\n",
       " 'delta2': 0.0,\n",
       " 'delta3': 0.0,\n",
       " 'd13': 1.1547005383792515e-32,\n",
       " 'd23': 1.6329931618554522e-32,\n",
       " 'gamma13': 30.303030303030297,\n",
       " 'gamma23': 60.606060606060616,\n",
       " 'gamma2d': 1000000.0,\n",
       " 'gamma3d': 1000000.0,\n",
       " 'nbath': 20,\n",
       " 'gammamu': 47.61904761904761,\n",
       " 'g': 51.9,\n",
       " 'N': 1280000000000000.0,\n",
       " 'deltac': 0,\n",
       " 'kappaoi': 49951323.19207771,\n",
       " 'kappaoc': 10681415.022205297,\n",
       " 'df': 100000.0,\n",
       " 'mean_delta2': 0,\n",
       " 'sd_delta2': 66700480.96793615,\n",
       " 'mean_delta3': 0,\n",
       " 'sd_delta3': 453563270.5819659,\n",
       " 'kappami': 4084070.449666731,\n",
       " 'kappamc': 439822.971502571,\n",
       " 'Nmu': 2.22e+16,\n",
       " 'gmu': 1.04,\n",
       " 'mu12': 4.06229459767182e-23,\n",
       " 'Lsample': 0.012,\n",
       " 'dsample': 0.005,\n",
       " 'fillfactor': 0.8,\n",
       " 'freqm': 5186000000.0,\n",
       " 'freqo': 195113360000000.0,\n",
       " 'Lcavity_vac': 0.0495,\n",
       " 'Wcavity': 0.0006,\n",
       " 'nYSO': 1.76,\n",
       " 'omegao': -492090.88755145477,\n",
       " 'omegam': -4754308.429163911}"
      ]
     },
     "execution_count": 317,
     "metadata": {},
     "output_type": "execute_result"
    }
   ],
   "source": [
    "p"
   ]
  },
  {
   "cell_type": "code",
   "execution_count": 243,
   "metadata": {},
   "outputs": [
    {
     "data": {
      "text/plain": [
       "matrix([[ 3.49634097e-01-6.53827278e-11j],\n",
       "        [ 5.82006149e-05+2.69584271e-06j],\n",
       "        [-9.57455326e-05-4.46806713e-06j],\n",
       "        [ 5.82006149e-05-2.69584273e-06j],\n",
       "        [ 3.49501487e-01-6.53587848e-11j],\n",
       "        [ 8.12041902e-04+2.77909133e-05j],\n",
       "        [-9.57455326e-05+4.46806717e-06j],\n",
       "        [ 8.12041902e-04-2.77909136e-05j],\n",
       "        [ 3.00864416e-01-5.62041265e-11j]])"
      ]
     },
     "execution_count": 243,
     "metadata": {},
     "output_type": "execute_result"
    }
   ],
   "source": [
    "L0_mat=L0func(10e6,40e6,p['gamma13'],p['gamma23'],p['gamma2d'],p['gamma3d'], p['nbath'],p['gammamu'],p['omegao'],p['omegam'])\n",
    "L0_new=np.concatenate(([[1,0,0,0,1,0,0,0,1]],L0_mat),axis=0)\n",
    "L0_new_pinv=np.linalg.pinv(L0_new)\n",
    "#rho_new=L0_new_pinv*(np.array([[1,0,0,0,0,0,0,0,0,0]]))\n",
    "np.matrix(L0_new_pinv)*np.matrix(np.array([[1,0,0,0,0,0,0,0,0,0]]).T)"
   ]
  },
  {
   "cell_type": "code",
   "execution_count": 248,
   "metadata": {},
   "outputs": [],
   "source": [
    "L0_1 = L0.row_insert(0,Matrix([[1,0,0,0,1,0,0,0,1]]))\n",
    "L0_1.row_del(1)"
   ]
  },
  {
   "cell_type": "code",
   "execution_count": 267,
   "metadata": {},
   "outputs": [
    {
     "data": {
      "text/plain": [
       "matrix([[ 3.49634097e-01-7.23867639e-17j],\n",
       "        [ 5.82006149e-05+2.69584272e-06j],\n",
       "        [-9.57455326e-05-4.46806715e-06j],\n",
       "        [ 5.82006149e-05-2.69584272e-06j],\n",
       "        [ 3.49501487e-01-7.24423415e-17j],\n",
       "        [ 8.12041902e-04+2.77909135e-05j],\n",
       "        [-9.57455326e-05+4.46806715e-06j],\n",
       "        [ 8.12041902e-04-2.77909135e-05j],\n",
       "        [ 3.00864416e-01+1.45012886e-16j]])"
      ]
     },
     "execution_count": 267,
     "metadata": {},
     "output_type": "execute_result"
    }
   ],
   "source": [
    "L0_1func = sym.lambdify((delta2, delta3, gamma13, gamma23, gamma2d, gamma3d, nbath,gammamu,omegao,omegam),L0_1)\n",
    "L0_1_mat=L0_new1func(10e6,40e6,p['gamma13'],p['gamma23'],p['gamma2d'],p['gamma3d'], p['nbath'],p['gammamu'],p['omegao'],p['omegam'])\n",
    "rho0=np.linalg.solve(L0_1_mat.astype('complex128'),np.matrix([[1,0,0,0,0,0,0,0,0]]).T)\n",
    "rho0"
   ]
  },
  {
   "cell_type": "code",
   "execution_count": 279,
   "metadata": {},
   "outputs": [
    {
     "data": {
      "text/plain": [
       "matrix([[-4.97867239e-06+1.34897199e-15j],\n",
       "        [ 2.62467262e-08-4.84024827e-10j],\n",
       "        [-6.14608172e-07-7.24611896e-09j],\n",
       "        [ 2.62467262e-08+4.84024827e-10j],\n",
       "        [-5.00879625e-06+1.34848517e-15j],\n",
       "        [-1.49463423e-07-3.78985071e-09j],\n",
       "        [-6.14608172e-07+7.24611896e-09j],\n",
       "        [-1.49463423e-07+3.78985072e-09j],\n",
       "        [ 9.98746864e-06+1.16053990e-15j]])"
      ]
     },
     "execution_count": 279,
     "metadata": {},
     "output_type": "execute_result"
    }
   ],
   "source": [
    "L1rho0=L1func(10,p['g'])*rho0\n",
    "L1rho0_new=np.concatenate(([[0]],L1rho0),axis=0)\n",
    "#L1_new_pinv=np.linalg.pinv(L1_new)\n",
    "#rho1_new=np.concatenate(([[0]],rho0),axis=0)\n",
    "-L0_new_pinv*L1rho0_new"
   ]
  },
  {
   "cell_type": "code",
   "execution_count": 280,
   "metadata": {},
   "outputs": [],
   "source": [
    "def rho_func_test(aval, delta2val,delta3val,p,rho0,xx):\n",
    "    #xx=1\n",
    "    L1_mat=L1func(aval,p['g'])\n",
    "    L1_mat[xx,:]=[1,0,0,0,1,0,0,0,1]\n",
    "    L0_mat=L0func(delta2val,delta3val,p['gamma13'],p['gamma23'],p['gamma2d'],p['gamma3d'], p['nbath'],p['gammamu'],p['omegao'],p['omegam'])\n",
    "    #L0_mat1=L0_mat[:,:]\n",
    "    #L0_mat1[0,:]=[1,0,0,0,1,0,0,0,1]\n",
    "    L0_mat[xx,:]=[1,0,0,0,1,0,0,0,1]\n",
    "    #rho0 = np.linalg.solve(L0_mat1.astype('complex128'),np.matrix([[1,0,0,0,0,0,0,0,0]]).T)\n",
    "    L1rho0=L1_mat*rho0\n",
    "    L1rho0[xx]=0\n",
    "    rho1 = np.linalg.solve(L0_mat.astype('complex128'),-np.matrix(L1rho0)).T\n",
    "    return rho0, rho1"
   ]
  },
  {
   "cell_type": "code",
   "execution_count": 297,
   "metadata": {},
   "outputs": [],
   "source": [
    "def rho_func(aval, delta2val,delta3val,p):\n",
    "    L0_mat=L0func(delta2val,delta3val,p['gamma13'],p['gamma23'],p['gamma2d'],p['gamma3d'], p['nbath'],p['gammamu'],p['omegao'],p['omegam'])\n",
    "    L1_mat=L1func(aval,p['g'])\n",
    "    L0_mat[0,:]=[1,0,0,0,1,0,0,0,1] #for replacing a row, have to replace row corresponding to population - rho_11, or 22, or 33\n",
    "    rho0 = np.linalg.solve(L0_mat.astype('complex128'),np.matrix([[1,0,0,0,0,0,0,0,0]]).T)\n",
    "    L1rho0=L1_mat*rho0\n",
    "    L1rho0[0]=0\n",
    "    rho1 = np.linalg.solve(L0_mat.astype('complex128'),-np.matrix(L1rho0))\n",
    "    \n",
    "    return rho0, rho1\n",
    "    "
   ]
  },
  {
   "cell_type": "code",
   "execution_count": 301,
   "metadata": {},
   "outputs": [
    {
     "data": {
      "text/plain": [
       "(matrix([[ 3.49634097e-01-7.23867639e-17j],\n",
       "         [ 5.82006149e-05+2.69584272e-06j],\n",
       "         [-9.57455326e-05-4.46806715e-06j],\n",
       "         [ 5.82006149e-05-2.69584272e-06j],\n",
       "         [ 3.49501487e-01-7.24423415e-17j],\n",
       "         [ 8.12041902e-04+2.77909135e-05j],\n",
       "         [-9.57455326e-05+4.46806715e-06j],\n",
       "         [ 8.12041902e-04-2.77909135e-05j],\n",
       "         [ 3.00864416e-01+1.45012886e-16j]]),\n",
       " matrix([[-4.97867239e-06+5.76204158e-21j],\n",
       "         [ 2.62467262e-08-4.84024827e-10j],\n",
       "         [-6.14608172e-07-7.24611896e-09j],\n",
       "         [ 2.62467262e-08+4.84024827e-10j],\n",
       "         [-5.00879625e-06+5.50261617e-21j],\n",
       "         [-1.49463423e-07-3.78985072e-09j],\n",
       "         [-6.14608172e-07+7.24611896e-09j],\n",
       "         [-1.49463423e-07+3.78985072e-09j],\n",
       "         [ 9.98746864e-06-1.12491794e-20j]]))"
      ]
     },
     "execution_count": 301,
     "metadata": {},
     "output_type": "execute_result"
    }
   ],
   "source": [
    "rho_func(10,10e6,40e6,p)"
   ]
  },
  {
   "cell_type": "code",
   "execution_count": 323,
   "metadata": {},
   "outputs": [],
   "source": [
    "rho1=(np.reshape(rho1,(3,3)))"
   ]
  },
  {
   "cell_type": "code",
   "execution_count": 324,
   "metadata": {},
   "outputs": [],
   "source": [
    "rho0=(np.reshape(rho0,(3,3)))"
   ]
  },
  {
   "cell_type": "code",
   "execution_count": 312,
   "metadata": {},
   "outputs": [
    {
     "data": {
      "text/plain": [
       "(349.30767418231346-1.3454745130536683e-12j)"
      ]
     },
     "execution_count": 312,
     "metadata": {},
     "output_type": "execute_result"
    }
   ],
   "source": [
    "H_mat=Hfunc(10,10e6,40e6,p['omegao'],p['omegam'],p['g'])\n",
    "np.trace(H_mat*np.reshape(rho1,(3,3)))"
   ]
  },
  {
   "cell_type": "code",
   "execution_count": 313,
   "metadata": {},
   "outputs": [
    {
     "data": {
      "text/plain": [
       "(15528238.798715739+5.0792188233117486e-09j)"
      ]
     },
     "execution_count": 313,
     "metadata": {},
     "output_type": "execute_result"
    }
   ],
   "source": [
    "np.trace(H_mat*np.reshape(rho0,(3,3)))"
   ]
  },
  {
   "cell_type": "code",
   "execution_count": 334,
   "metadata": {},
   "outputs": [
    {
     "data": {
      "text/plain": [
       "matrix([[-1.42396649e-05+5.23199651e-20j,\n",
       "          4.49620023e-04-2.91428140e-05j,\n",
       "          6.40875905e-03-2.23390546e-04j],\n",
       "        [ 4.49620023e-04+2.91428140e-05j,\n",
       "         -1.43312588e-05+5.15650719e-20j,\n",
       "         -1.84002967e-04+1.63016194e-06j],\n",
       "        [ 6.40875905e-03+2.23390546e-04j,\n",
       "         -1.84002967e-04-1.63016194e-06j,\n",
       "          3.31959119e-05-1.43540701e-19j]])"
      ]
     },
     "execution_count": 334,
     "metadata": {},
     "output_type": "execute_result"
    }
   ],
   "source": [
    "rho1/rho0"
   ]
  },
  {
   "cell_type": "code",
   "execution_count": 332,
   "metadata": {},
   "outputs": [
    {
     "data": {
      "text/plain": [
       "matrix([[ 3.49634097e-01-7.23867639e-17j,\n",
       "          5.82006149e-05+2.69584272e-06j,\n",
       "         -9.57455326e-05-4.46806715e-06j],\n",
       "        [ 5.82006149e-05-2.69584272e-06j,\n",
       "          3.49501487e-01-7.24423415e-17j,\n",
       "          8.12041902e-04+2.77909135e-05j],\n",
       "        [-9.57455326e-05+4.46806715e-06j,\n",
       "          8.12041902e-04-2.77909135e-05j,\n",
       "          3.00864416e-01+1.45012886e-16j]])"
      ]
     },
     "execution_count": 332,
     "metadata": {},
     "output_type": "execute_result"
    }
   ],
   "source": [
    "rho0"
   ]
  },
  {
   "cell_type": "code",
   "execution_count": 336,
   "metadata": {},
   "outputs": [
    {
     "data": {
      "text/plain": [
       "matrix([[ 5,  5],\n",
       "        [11, 11]])"
      ]
     },
     "execution_count": 336,
     "metadata": {},
     "output_type": "execute_result"
    }
   ],
   "source": [
    "np.matrix([[1,2],[3,4]])*np.matrix([[1,1],[2,2]])"
   ]
  },
  {
   "cell_type": "code",
   "execution_count": 341,
   "metadata": {},
   "outputs": [
    {
     "data": {
      "text/plain": [
       "((15527245.059471041+5.083713006115431e-09j),\n",
       " (3429286.7931755898-3.1123477128858212e-09j))"
      ]
     },
     "execution_count": 341,
     "metadata": {},
     "output_type": "execute_result"
    }
   ],
   "source": [
    "E_func(100000,10e6,40e6,p)"
   ]
  },
  {
   "cell_type": "code",
   "execution_count": 342,
   "metadata": {},
   "outputs": [
    {
     "data": {
      "text/latex": [
       "$$\\left[\\begin{matrix}- \\gamma_{\\mu} n_{b} & - i \\Omega_{\\mu} & - i g \\overline{a} & i \\Omega_{\\mu} & \\gamma_{\\mu} \\left(n_{b} + 1\\right) & 0 & i a g & 0 & \\gamma_{13}\\\\- i \\Omega_{\\mu} & - i \\delta_{2} - \\frac{\\gamma_{2d}}{2} - \\frac{\\gamma_{\\mu} n_{b}}{2} - \\frac{\\gamma_{\\mu}}{2} \\left(n_{b} + 1\\right) & - i \\Omega_{o} & 0 & i \\Omega_{\\mu} & 0 & 0 & i a g & 0\\\\- i a g & - i \\Omega_{o} & - i \\delta_{3} - \\frac{\\gamma_{13}}{2} - \\frac{\\gamma_{23}}{2} - \\frac{\\gamma_{3d}}{2} - \\frac{\\gamma_{\\mu} n_{b}}{2} & 0 & 0 & i \\Omega_{\\mu} & 0 & 0 & i a g\\\\i \\Omega_{\\mu} & 0 & 0 & i \\delta_{2} - \\frac{\\gamma_{2d}}{2} - \\frac{\\gamma_{\\mu} n_{b}}{2} - \\frac{\\gamma_{\\mu}}{2} \\left(n_{b} + 1\\right) & - i \\Omega_{\\mu} & - i g \\overline{a} & i \\Omega_{o} & 0 & 0\\\\\\gamma_{\\mu} n_{b} & i \\Omega_{\\mu} & 0 & - i \\Omega_{\\mu} & - \\gamma_{\\mu} \\left(n_{b} + 1\\right) & - i \\Omega_{o} & 0 & i \\Omega_{o} & \\gamma_{23}\\\\0 & 0 & i \\Omega_{\\mu} & - i a g & - i \\Omega_{o} & i \\delta_{2} - i \\delta_{3} - \\frac{\\gamma_{13}}{2} - \\frac{\\gamma_{23}}{2} - \\frac{\\gamma_{2d}}{2} - \\frac{\\gamma_{3d}}{2} - \\frac{\\gamma_{\\mu}}{2} \\left(n_{b} + 1\\right) & 0 & 0 & i \\Omega_{o}\\\\i g \\overline{a} & 0 & 0 & i \\Omega_{o} & 0 & 0 & i \\delta_{3} - \\frac{\\gamma_{13}}{2} - \\frac{\\gamma_{23}}{2} - \\frac{\\gamma_{3d}}{2} - \\frac{\\gamma_{\\mu} n_{b}}{2} & - i \\Omega_{\\mu} & - i g \\overline{a}\\\\0 & i g \\overline{a} & 0 & 0 & i \\Omega_{o} & 0 & - i \\Omega_{\\mu} & - i \\delta_{2} + i \\delta_{3} - \\frac{\\gamma_{13}}{2} - \\frac{\\gamma_{23}}{2} - \\frac{\\gamma_{2d}}{2} - \\frac{\\gamma_{3d}}{2} - \\frac{\\gamma_{\\mu}}{2} \\left(n_{b} + 1\\right) & - i \\Omega_{o}\\\\0 & 0 & i g \\overline{a} & 0 & 0 & i \\Omega_{o} & - i a g & - i \\Omega_{o} & - \\gamma_{13} - \\gamma_{23}\\end{matrix}\\right]$$"
      ],
      "text/plain": [
       "⎡                                                                     _       \n",
       "⎢-γₘᵤ⋅n_b                  -ⅈ⋅Ωₘᵤ                                -ⅈ⋅g⋅a       \n",
       "⎢                                                                             \n",
       "⎢                  γ_2d   γₘᵤ⋅n_b   γₘᵤ⋅(n_b + 1)                             \n",
       "⎢ -ⅈ⋅Ωₘᵤ   -ⅈ⋅δ₂ - ──── - ─────── - ─────────────                -ⅈ⋅Ωₒ        \n",
       "⎢                   2        2            2                                   \n",
       "⎢                                                                             \n",
       "⎢                                                          γ₁₃   γ₂₃   γ_3d   \n",
       "⎢ -ⅈ⋅a⋅g                   -ⅈ⋅Ωₒ                   -ⅈ⋅δ₃ - ─── - ─── - ──── - \n",
       "⎢                                                           2     2     2     \n",
       "⎢                                                                             \n",
       "⎢                                                                             \n",
       "⎢ ⅈ⋅Ωₘᵤ                      0                                     0          \n",
       "⎢                                                                             \n",
       "⎢                                                                             \n",
       "⎢γₘᵤ⋅n_b                   ⅈ⋅Ωₘᵤ                                   0          \n",
       "⎢                                                                             \n",
       "⎢                                                                             \n",
       "⎢   0                        0                                   ⅈ⋅Ωₘᵤ        \n",
       "⎢                                                                             \n",
       "⎢                                                                             \n",
       "⎢     _                                                                       \n",
       "⎢ ⅈ⋅g⋅a                      0                                     0          \n",
       "⎢                                                                             \n",
       "⎢                                                                             \n",
       "⎢                              _                                              \n",
       "⎢   0                      ⅈ⋅g⋅a                                   0          \n",
       "⎢                                                                             \n",
       "⎢                                                                             \n",
       "⎢                                                                    _        \n",
       "⎣   0                        0                                   ⅈ⋅g⋅a        \n",
       "\n",
       "                                                                              \n",
       "                         ⅈ⋅Ωₘᵤ                  γₘᵤ⋅(n_b + 1)                 \n",
       "                                                                              \n",
       "                                                                              \n",
       "                           0                        ⅈ⋅Ωₘᵤ                     \n",
       "                                                                              \n",
       "                                                                              \n",
       "γₘᵤ⋅n_b                                                                       \n",
       "───────                    0                          0                       \n",
       "   2                                                                          \n",
       "                                                                              \n",
       "                γ_2d   γₘᵤ⋅n_b   γₘᵤ⋅(n_b + 1)                                \n",
       "         ⅈ⋅δ₂ - ──── - ─────── - ─────────────      -ⅈ⋅Ωₘᵤ                    \n",
       "                 2        2            2                                      \n",
       "                                                                              \n",
       "                        -ⅈ⋅Ωₘᵤ                  -γₘᵤ⋅(n_b + 1)                \n",
       "                                                                              \n",
       "                                                                              \n",
       "                        -ⅈ⋅a⋅g                      -ⅈ⋅Ωₒ       ⅈ⋅δ₂ - ⅈ⋅δ₃ - \n",
       "                                                                              \n",
       "                                                                              \n",
       "                                                                              \n",
       "                         ⅈ⋅Ωₒ                         0                       \n",
       "                                                                              \n",
       "                                                                              \n",
       "                                                                              \n",
       "                           0                         ⅈ⋅Ωₒ                     \n",
       "                                                                              \n",
       "                                                                              \n",
       "                                                                              \n",
       "                           0                          0                       \n",
       "\n",
       "                                                                              \n",
       "            0                                          ⅈ⋅a⋅g                  \n",
       "                                                                              \n",
       "                                                                              \n",
       "            0                                            0                    \n",
       "                                                                              \n",
       "                                                                              \n",
       "                                                                              \n",
       "          ⅈ⋅Ωₘᵤ                                          0                    \n",
       "                                                                              \n",
       "                                                                              \n",
       "              _                                                               \n",
       "         -ⅈ⋅g⋅a                                        ⅈ⋅Ωₒ                   \n",
       "                                                                              \n",
       "                                                                              \n",
       "          -ⅈ⋅Ωₒ                                          0                    \n",
       "                                                                              \n",
       "γ₁₃   γ₂₃   γ_2d   γ_3d   γₘᵤ⋅(n_b + 1)                                       \n",
       "─── - ─── - ──── - ──── - ─────────────                  0                    \n",
       " 2     2     2      2           2                                             \n",
       "                                                                              \n",
       "                                                γ₁₃   γ₂₃   γ_3d   γₘᵤ⋅n_b    \n",
       "            0                            ⅈ⋅δ₃ - ─── - ─── - ──── - ───────    \n",
       "                                                 2     2     2        2       \n",
       "                                                                              \n",
       "                                                                              \n",
       "            0                                         -ⅈ⋅Ωₘᵤ                -ⅈ\n",
       "                                                                              \n",
       "                                                                              \n",
       "                                                                              \n",
       "          ⅈ⋅Ωₒ                                        -ⅈ⋅a⋅g                  \n",
       "\n",
       "                                                                ⎤\n",
       "                        0                                γ₁₃    ⎥\n",
       "                                                                ⎥\n",
       "                                                                ⎥\n",
       "                      ⅈ⋅a⋅g                               0     ⎥\n",
       "                                                                ⎥\n",
       "                                                                ⎥\n",
       "                                                                ⎥\n",
       "                        0                               ⅈ⋅a⋅g   ⎥\n",
       "                                                                ⎥\n",
       "                                                                ⎥\n",
       "                                                                ⎥\n",
       "                        0                                 0     ⎥\n",
       "                                                                ⎥\n",
       "                                                                ⎥\n",
       "                       ⅈ⋅Ωₒ                              γ₂₃    ⎥\n",
       "                                                                ⎥\n",
       "                                                                ⎥\n",
       "                        0                                ⅈ⋅Ωₒ   ⎥\n",
       "                                                                ⎥\n",
       "                                                                ⎥\n",
       "                                                             _  ⎥\n",
       "                      -ⅈ⋅Ωₘᵤ                            -ⅈ⋅g⋅a  ⎥\n",
       "                                                                ⎥\n",
       "                                                                ⎥\n",
       "             γ₁₃   γ₂₃   γ_2d   γ_3d   γₘᵤ⋅(n_b + 1)            ⎥\n",
       "⋅δ₂ + ⅈ⋅δ₃ - ─── - ─── - ──── - ──── - ─────────────    -ⅈ⋅Ωₒ   ⎥\n",
       "              2     2     2      2           2                  ⎥\n",
       "                                                                ⎥\n",
       "                                                                ⎥\n",
       "                      -ⅈ⋅Ωₒ                           -γ₁₃ - γ₂₃⎦"
      ]
     },
     "execution_count": 342,
     "metadata": {},
     "output_type": "execute_result"
    }
   ],
   "source": [
    "L"
   ]
  },
  {
   "cell_type": "code",
   "execution_count": 343,
   "metadata": {},
   "outputs": [
    {
     "data": {
      "text/latex": [
       "$$\\left[\\begin{matrix}0 & \\Omega_{\\mu} & g \\overline{a}\\\\\\Omega_{\\mu} & \\delta_{2} & \\Omega_{o}\\\\a g & \\Omega_{o} & \\delta_{3}\\end{matrix}\\right]$$"
      ],
      "text/plain": [
       "⎡            _⎤\n",
       "⎢ 0   Ωₘᵤ  g⋅a⎥\n",
       "⎢             ⎥\n",
       "⎢Ωₘᵤ  δ₂   Ωₒ ⎥\n",
       "⎢             ⎥\n",
       "⎣a⋅g  Ωₒ   δ₃ ⎦"
      ]
     },
     "execution_count": 343,
     "metadata": {},
     "output_type": "execute_result"
    }
   ],
   "source": [
    "H"
   ]
  },
  {
   "cell_type": "code",
   "execution_count": 359,
   "metadata": {},
   "outputs": [
    {
     "data": {
      "text/latex": [
       "$$\\left[\\begin{matrix}0 & 1 & 0\\\\0 & 0 & 0\\\\0 & 0 & 0\\end{matrix}\\right]$$"
      ],
      "text/plain": [
       "⎡0  1  0⎤\n",
       "⎢       ⎥\n",
       "⎢0  0  0⎥\n",
       "⎢       ⎥\n",
       "⎣0  0  0⎦"
      ]
     },
     "execution_count": 359,
     "metadata": {},
     "output_type": "execute_result"
    }
   ],
   "source": [
    "s13*s32"
   ]
  },
  {
   "cell_type": "code",
   "execution_count": 358,
   "metadata": {},
   "outputs": [
    {
     "ename": "NotImplementedError",
     "evalue": "Rank-deficient matrices are not yet supported.",
     "output_type": "error",
     "traceback": [
      "\u001b[0;31m---------------------------------------------------------------------------\u001b[0m",
      "\u001b[0;31mValueError\u001b[0m                                Traceback (most recent call last)",
      "\u001b[0;32m~/anaconda3/lib/python3.6/site-packages/sympy/matrices/matrices.py\u001b[0m in \u001b[0;36mpinv\u001b[0;34m(self)\u001b[0m\n\u001b[1;32m   3558\u001b[0m             \u001b[0;32mif\u001b[0m \u001b[0mself\u001b[0m\u001b[0;34m.\u001b[0m\u001b[0mrows\u001b[0m \u001b[0;34m>=\u001b[0m \u001b[0mself\u001b[0m\u001b[0;34m.\u001b[0m\u001b[0mcols\u001b[0m\u001b[0;34m:\u001b[0m\u001b[0;34m\u001b[0m\u001b[0m\n\u001b[0;32m-> 3559\u001b[0;31m                 \u001b[0;32mreturn\u001b[0m \u001b[0;34m(\u001b[0m\u001b[0mAH\u001b[0m \u001b[0;34m*\u001b[0m \u001b[0mA\u001b[0m\u001b[0;34m)\u001b[0m\u001b[0;34m.\u001b[0m\u001b[0minv\u001b[0m\u001b[0;34m(\u001b[0m\u001b[0;34m)\u001b[0m \u001b[0;34m*\u001b[0m \u001b[0mAH\u001b[0m\u001b[0;34m\u001b[0m\u001b[0m\n\u001b[0m\u001b[1;32m   3560\u001b[0m             \u001b[0;32melse\u001b[0m\u001b[0;34m:\u001b[0m\u001b[0;34m\u001b[0m\u001b[0m\n",
      "\u001b[0;32m~/anaconda3/lib/python3.6/site-packages/sympy/matrices/matrices.py\u001b[0m in \u001b[0;36minv\u001b[0;34m(self, method, **kwargs)\u001b[0m\n\u001b[1;32m   2780\u001b[0m             \u001b[0mkwargs\u001b[0m\u001b[0;34m[\u001b[0m\u001b[0;34m'method'\u001b[0m\u001b[0;34m]\u001b[0m \u001b[0;34m=\u001b[0m \u001b[0mmethod\u001b[0m\u001b[0;34m\u001b[0m\u001b[0m\n\u001b[0;32m-> 2781\u001b[0;31m         \u001b[0;32mreturn\u001b[0m \u001b[0mself\u001b[0m\u001b[0;34m.\u001b[0m\u001b[0m_eval_inverse\u001b[0m\u001b[0;34m(\u001b[0m\u001b[0;34m**\u001b[0m\u001b[0mkwargs\u001b[0m\u001b[0;34m)\u001b[0m\u001b[0;34m\u001b[0m\u001b[0m\n\u001b[0m\u001b[1;32m   2782\u001b[0m \u001b[0;34m\u001b[0m\u001b[0m\n",
      "\u001b[0;32m~/anaconda3/lib/python3.6/site-packages/sympy/matrices/dense.py\u001b[0m in \u001b[0;36m_eval_inverse\u001b[0;34m(self, **kwargs)\u001b[0m\n\u001b[1;32m    259\u001b[0m         \u001b[0;32mif\u001b[0m \u001b[0mmethod\u001b[0m \u001b[0;34m==\u001b[0m \u001b[0;34m\"GE\"\u001b[0m\u001b[0;34m:\u001b[0m\u001b[0;34m\u001b[0m\u001b[0m\n\u001b[0;32m--> 260\u001b[0;31m             \u001b[0mrv\u001b[0m \u001b[0;34m=\u001b[0m \u001b[0mM\u001b[0m\u001b[0;34m.\u001b[0m\u001b[0minverse_GE\u001b[0m\u001b[0;34m(\u001b[0m\u001b[0miszerofunc\u001b[0m\u001b[0;34m=\u001b[0m\u001b[0miszerofunc\u001b[0m\u001b[0;34m)\u001b[0m\u001b[0;34m\u001b[0m\u001b[0m\n\u001b[0m\u001b[1;32m    261\u001b[0m         \u001b[0;32melif\u001b[0m \u001b[0mmethod\u001b[0m \u001b[0;34m==\u001b[0m \u001b[0;34m\"LU\"\u001b[0m\u001b[0;34m:\u001b[0m\u001b[0;34m\u001b[0m\u001b[0m\n",
      "\u001b[0;32m~/anaconda3/lib/python3.6/site-packages/sympy/matrices/matrices.py\u001b[0m in \u001b[0;36minverse_GE\u001b[0;34m(self, iszerofunc)\u001b[0m\n\u001b[1;32m   2695\u001b[0m         \u001b[0;32mif\u001b[0m \u001b[0many\u001b[0m\u001b[0;34m(\u001b[0m\u001b[0miszerofunc\u001b[0m\u001b[0;34m(\u001b[0m\u001b[0mred\u001b[0m\u001b[0;34m[\u001b[0m\u001b[0mj\u001b[0m\u001b[0;34m,\u001b[0m \u001b[0mj\u001b[0m\u001b[0;34m]\u001b[0m\u001b[0;34m)\u001b[0m \u001b[0;32mfor\u001b[0m \u001b[0mj\u001b[0m \u001b[0;32min\u001b[0m \u001b[0mrange\u001b[0m\u001b[0;34m(\u001b[0m\u001b[0mred\u001b[0m\u001b[0;34m.\u001b[0m\u001b[0mrows\u001b[0m\u001b[0;34m)\u001b[0m\u001b[0;34m)\u001b[0m\u001b[0;34m:\u001b[0m\u001b[0;34m\u001b[0m\u001b[0m\n\u001b[0;32m-> 2696\u001b[0;31m             \u001b[0;32mraise\u001b[0m \u001b[0mValueError\u001b[0m\u001b[0;34m(\u001b[0m\u001b[0;34m\"Matrix det == 0; not invertible.\"\u001b[0m\u001b[0;34m)\u001b[0m\u001b[0;34m\u001b[0m\u001b[0m\n\u001b[0m\u001b[1;32m   2697\u001b[0m \u001b[0;34m\u001b[0m\u001b[0m\n",
      "\u001b[0;31mValueError\u001b[0m: Matrix det == 0; not invertible.",
      "\nDuring handling of the above exception, another exception occurred:\n",
      "\u001b[0;31mNotImplementedError\u001b[0m                       Traceback (most recent call last)",
      "\u001b[0;32m<ipython-input-358-2e866fde4af5>\u001b[0m in \u001b[0;36m<module>\u001b[0;34m()\u001b[0m\n\u001b[0;32m----> 1\u001b[0;31m \u001b[0ms11\u001b[0m\u001b[0;34m.\u001b[0m\u001b[0mpinv\u001b[0m\u001b[0;34m(\u001b[0m\u001b[0;34m)\u001b[0m\u001b[0;34m\u001b[0m\u001b[0m\n\u001b[0m",
      "\u001b[0;32m~/anaconda3/lib/python3.6/site-packages/sympy/matrices/matrices.py\u001b[0m in \u001b[0;36mpinv\u001b[0;34m(self)\u001b[0m\n\u001b[1;32m   3562\u001b[0m         \u001b[0;32mexcept\u001b[0m \u001b[0mValueError\u001b[0m\u001b[0;34m:\u001b[0m\u001b[0;34m\u001b[0m\u001b[0m\n\u001b[1;32m   3563\u001b[0m             \u001b[0;31m# Matrix is not full rank, so A*AH cannot be inverted.\u001b[0m\u001b[0;34m\u001b[0m\u001b[0;34m\u001b[0m\u001b[0m\n\u001b[0;32m-> 3564\u001b[0;31m             raise NotImplementedError('Rank-deficient matrices are not yet '\n\u001b[0m\u001b[1;32m   3565\u001b[0m                                       'supported.')\n\u001b[1;32m   3566\u001b[0m \u001b[0;34m\u001b[0m\u001b[0m\n",
      "\u001b[0;31mNotImplementedError\u001b[0m: Rank-deficient matrices are not yet supported."
     ]
    }
   ],
   "source": [
    "s11.pinv()"
   ]
  },
  {
   "cell_type": "code",
   "execution_count": 366,
   "metadata": {},
   "outputs": [
    {
     "data": {
      "text/latex": [
       "$$\\left[\\begin{matrix}0\\\\\\frac{\\rho_{21}}{2}\\\\\\frac{\\rho_{31}}{2}\\\\\\frac{\\rho_{12}}{2}\\\\\\rho_{11} + \\rho_{22}\\\\\\rho_{32}\\\\\\frac{\\rho_{13}}{2}\\\\\\rho_{23}\\\\\\rho_{33}\\end{matrix}\\right]$$"
      ],
      "text/plain": [
       "⎡    0    ⎤\n",
       "⎢         ⎥\n",
       "⎢   ρ₂₁   ⎥\n",
       "⎢   ───   ⎥\n",
       "⎢    2    ⎥\n",
       "⎢         ⎥\n",
       "⎢   ρ₃₁   ⎥\n",
       "⎢   ───   ⎥\n",
       "⎢    2    ⎥\n",
       "⎢         ⎥\n",
       "⎢   ρ₁₂   ⎥\n",
       "⎢   ───   ⎥\n",
       "⎢    2    ⎥\n",
       "⎢         ⎥\n",
       "⎢ρ₁₁ + ρ₂₂⎥\n",
       "⎢         ⎥\n",
       "⎢   ρ₃₂   ⎥\n",
       "⎢         ⎥\n",
       "⎢   ρ₁₃   ⎥\n",
       "⎢   ───   ⎥\n",
       "⎢    2    ⎥\n",
       "⎢         ⎥\n",
       "⎢   ρ₂₃   ⎥\n",
       "⎢         ⎥\n",
       "⎣   ρ₃₃   ⎦"
      ]
     },
     "execution_count": 366,
     "metadata": {},
     "output_type": "execute_result"
    }
   ],
   "source": [
    "collapse(s21)*Matrix(rhoflat)+Matrix(rhoflat)"
   ]
  },
  {
   "cell_type": "code",
   "execution_count": 365,
   "metadata": {},
   "outputs": [
    {
     "data": {
      "text/latex": [
       "$$\\left[\\begin{matrix}\\rho_{11} + \\rho_{22}\\\\\\frac{\\rho_{21}}{2}\\\\\\rho_{31}\\\\\\frac{\\rho_{12}}{2}\\\\0\\\\\\frac{\\rho_{32}}{2}\\\\\\rho_{13}\\\\\\frac{\\rho_{23}}{2}\\\\\\rho_{33}\\end{matrix}\\right]$$"
      ],
      "text/plain": [
       "⎡ρ₁₁ + ρ₂₂⎤\n",
       "⎢         ⎥\n",
       "⎢   ρ₂₁   ⎥\n",
       "⎢   ───   ⎥\n",
       "⎢    2    ⎥\n",
       "⎢         ⎥\n",
       "⎢   ρ₃₁   ⎥\n",
       "⎢         ⎥\n",
       "⎢   ρ₁₂   ⎥\n",
       "⎢   ───   ⎥\n",
       "⎢    2    ⎥\n",
       "⎢         ⎥\n",
       "⎢    0    ⎥\n",
       "⎢         ⎥\n",
       "⎢   ρ₃₂   ⎥\n",
       "⎢   ───   ⎥\n",
       "⎢    2    ⎥\n",
       "⎢         ⎥\n",
       "⎢   ρ₁₃   ⎥\n",
       "⎢         ⎥\n",
       "⎢   ρ₂₃   ⎥\n",
       "⎢   ───   ⎥\n",
       "⎢    2    ⎥\n",
       "⎢         ⎥\n",
       "⎣   ρ₃₃   ⎦"
      ]
     },
     "execution_count": 365,
     "metadata": {},
     "output_type": "execute_result"
    }
   ],
   "source": [
    "collapse(s12)*Matrix(rhoflat)+Matrix(rhoflat)"
   ]
  },
  {
   "cell_type": "code",
   "execution_count": 375,
   "metadata": {},
   "outputs": [
    {
     "data": {
      "text/latex": [
       "$$\\left[\\begin{matrix}0\\\\1\\\\0\\end{matrix}\\right]$$"
      ],
      "text/plain": [
       "⎡0⎤\n",
       "⎢ ⎥\n",
       "⎢1⎥\n",
       "⎢ ⎥\n",
       "⎣0⎦"
      ]
     },
     "execution_count": 375,
     "metadata": {},
     "output_type": "execute_result"
    }
   ],
   "source": [
    "s21*Matrix([1,0,0])"
   ]
  },
  {
   "cell_type": "code",
   "execution_count": 380,
   "metadata": {},
   "outputs": [
    {
     "data": {
      "text/plain": [
       "matrix([[ 3.49634097e-01-6.53827278e-11j],\n",
       "        [ 5.82006149e-05+2.69584271e-06j],\n",
       "        [-9.57455326e-05-4.46806713e-06j],\n",
       "        [ 5.82006149e-05-2.69584273e-06j],\n",
       "        [ 3.49501487e-01-6.53587848e-11j],\n",
       "        [ 8.12041902e-04+2.77909133e-05j],\n",
       "        [-9.57455326e-05+4.46806717e-06j],\n",
       "        [ 8.12041902e-04-2.77909136e-05j],\n",
       "        [ 3.00864416e-01-5.62041265e-11j]])"
      ]
     },
     "execution_count": 380,
     "metadata": {},
     "output_type": "execute_result"
    }
   ],
   "source": [
    "np.matrix(L0_new_pinv)*np.matrix([1,0,0,0,0,0,0,0,0,0]).T"
   ]
  },
  {
   "cell_type": "code",
   "execution_count": 386,
   "metadata": {},
   "outputs": [
    {
     "data": {
      "text/latex": [
       "$$\\left[\\begin{matrix}0 & 1 & 0\\\\0 & 0 & 0\\\\0 & 0 & 0\\end{matrix}\\right]$$"
      ],
      "text/plain": [
       "⎡0  1  0⎤\n",
       "⎢       ⎥\n",
       "⎢0  0  0⎥\n",
       "⎢       ⎥\n",
       "⎣0  0  0⎦"
      ]
     },
     "execution_count": 386,
     "metadata": {},
     "output_type": "execute_result"
    }
   ],
   "source": [
    "s12*s22"
   ]
  },
  {
   "cell_type": "code",
   "execution_count": 390,
   "metadata": {},
   "outputs": [
    {
     "data": {
      "text/latex": [
       "$$\\left[\\begin{matrix}0 & 0 & 0\\\\0 & 0 & 0\\\\0 & 0 & 0\\end{matrix}\\right]$$"
      ],
      "text/plain": [
       "⎡0  0  0⎤\n",
       "⎢       ⎥\n",
       "⎢0  0  0⎥\n",
       "⎢       ⎥\n",
       "⎣0  0  0⎦"
      ]
     },
     "execution_count": 390,
     "metadata": {},
     "output_type": "execute_result"
    }
   ],
   "source": [
    "s33*s12*s33"
   ]
  },
  {
   "cell_type": "code",
   "execution_count": null,
   "metadata": {},
   "outputs": [],
   "source": []
  }
 ],
 "metadata": {
  "kernelspec": {
   "display_name": "Python 3",
   "language": "python",
   "name": "python3"
  },
  "language_info": {
   "codemirror_mode": {
    "name": "ipython",
    "version": 3
   },
   "file_extension": ".py",
   "mimetype": "text/x-python",
   "name": "python",
   "nbconvert_exporter": "python",
   "pygments_lexer": "ipython3",
   "version": "3.6.5"
  }
 },
 "nbformat": 4,
 "nbformat_minor": 2
}
