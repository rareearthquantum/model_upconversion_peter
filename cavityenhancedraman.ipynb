{
 "cells": [
  {
   "cell_type": "markdown",
   "metadata": {},
   "source": [
    "# Code for simulation of Raman heterodyne like processes\n",
    "\n",
    "## Importing depencies"
   ]
  },
  {
   "cell_type": "code",
   "execution_count": 1,
   "metadata": {},
   "outputs": [],
   "source": [
    "import sympy as sym\n",
    "sym.init_printing()\n",
    "\n",
    "import numpy as np\n",
    "from scipy import integrate,signal\n",
    "\n",
    "import math\n",
    "\n",
    "#from sympy.functions import Heaviside, sin, cos, sqrt\n",
    "\n",
    "\n",
    "import matplotlib.pyplot as plt\n",
    "from sympy import I, Matrix, symbols\n",
    "from sympy.physics.quantum import TensorProduct,Dagger\n",
    "\n",
    "\n",
    "import qutip\n",
    "\n",
    "%load_ext cython"
   ]
  },
  {
   "cell_type": "markdown",
   "metadata": {},
   "source": [
    "## Some things to help us make Liovillian superoperators\n",
    "- Uses an approach very like qutip and the qotoolbox, reading the documention for those two packages might help make sense of spre, spost, etc\n",
    "- s13 etc. are the atomic operators like |1><3| etc"
   ]
  },
  {
   "cell_type": "code",
   "execution_count": 2,
   "metadata": {},
   "outputs": [],
   "source": [
    "def spre(m):\n",
    "    return TensorProduct(sym.eye(m.shape[0]),m)\n",
    "\n",
    "\n",
    "def spost(m):\n",
    "    return TensorProduct(m.T,sym.eye(m.shape[0]))\n",
    "\n",
    "def collapse(c):\n",
    "    temp = Dagger(c)*c/2\n",
    "    return spre(c)*spost(Dagger(c))-spre(temp)-spost(temp)\n",
    "\n",
    "\n",
    "s13=Matrix([[0,0,1],[0,0,0],[0,0,0]])\n",
    "s23=Matrix([[0,0,0],[0,0,1],[0,0,0]])\n",
    "s12=Matrix([[0,1,0],[0,0,0],[0,0,0]])\n",
    "\n",
    "s31=s13.T\n",
    "s32=s23.T\n",
    "s21=s12.T\n",
    "\n",
    "s11 = s12*s21\n",
    "s22 = s21*s12\n",
    "s33 = s31*s13\n",
    "\n"
   ]
  },
  {
   "cell_type": "markdown",
   "metadata": {},
   "source": [
    "### Checking spre and spost agree with qutip\n",
    "\n",
    "Note: This notebook uses Frotran (colum first) order when flattening matricies."
   ]
  },
  {
   "cell_type": "code",
   "execution_count": 3,
   "metadata": {},
   "outputs": [
    {
     "data": {
      "text/plain": [
       "(Matrix([\n",
       " [0, -I],\n",
       " [I,  0]]),\n",
       " Quantum object: dims = [[2], [2]], shape = (2, 2), type = oper, isherm = True\n",
       " Qobj data =\n",
       " [[0.+0.j 0.-1.j]\n",
       "  [0.+1.j 0.+0.j]])"
      ]
     },
     "execution_count": 3,
     "metadata": {},
     "output_type": "execute_result"
    }
   ],
   "source": [
    "sigmay = Matrix([[0, -I], [I, 0 ]])\n",
    "sigmay, qutip.sigmay()"
   ]
  },
  {
   "cell_type": "code",
   "execution_count": 4,
   "metadata": {},
   "outputs": [
    {
     "data": {
      "text/latex": [
       "Quantum object: dims = [[2], [2]], shape = (2, 2), type = oper, isherm = True\\begin{equation*}\\left(\\begin{array}{*{11}c}0.0 & -1.0j\\\\1.0j & 0.0\\\\\\end{array}\\right)\\end{equation*}"
      ],
      "text/plain": [
       "Quantum object: dims = [[2], [2]], shape = (2, 2), type = oper, isherm = True\n",
       "Qobj data =\n",
       "[[0.+0.j 0.-1.j]\n",
       " [0.+1.j 0.+0.j]]"
      ]
     },
     "execution_count": 4,
     "metadata": {},
     "output_type": "execute_result"
    }
   ],
   "source": [
    "qutip.sigmay()"
   ]
  },
  {
   "cell_type": "code",
   "execution_count": 5,
   "metadata": {},
   "outputs": [
    {
     "data": {
      "text/plain": [
       "(Matrix([\n",
       " [0, -I, 0,  0],\n",
       " [I,  0, 0,  0],\n",
       " [0,  0, 0, -I],\n",
       " [0,  0, I,  0]]),\n",
       " Quantum object: dims = [[[2], [2]], [[2], [2]]], shape = (4, 4), type = super, isherm = True\n",
       " Qobj data =\n",
       " [[0.+0.j 0.-1.j 0.+0.j 0.+0.j]\n",
       "  [0.+1.j 0.+0.j 0.+0.j 0.+0.j]\n",
       "  [0.+0.j 0.+0.j 0.+0.j 0.-1.j]\n",
       "  [0.+0.j 0.+0.j 0.+1.j 0.+0.j]])"
      ]
     },
     "execution_count": 5,
     "metadata": {},
     "output_type": "execute_result"
    }
   ],
   "source": [
    "spre(sigmay),qutip.spre(qutip.sigmay())"
   ]
  },
  {
   "cell_type": "code",
   "execution_count": 6,
   "metadata": {},
   "outputs": [
    {
     "data": {
      "text/plain": [
       "(Matrix([\n",
       " [ 0,  0, I, 0],\n",
       " [ 0,  0, 0, I],\n",
       " [-I,  0, 0, 0],\n",
       " [ 0, -I, 0, 0]]),\n",
       " Quantum object: dims = [[[2], [2]], [[2], [2]]], shape = (4, 4), type = super, isherm = True\n",
       " Qobj data =\n",
       " [[0.+0.j 0.+0.j 0.+1.j 0.+0.j]\n",
       "  [0.+0.j 0.+0.j 0.+0.j 0.+1.j]\n",
       "  [0.-1.j 0.+0.j 0.+0.j 0.+0.j]\n",
       "  [0.+0.j 0.-1.j 0.+0.j 0.+0.j]])"
      ]
     },
     "execution_count": 6,
     "metadata": {},
     "output_type": "execute_result"
    }
   ],
   "source": [
    "spost(sigmay),qutip.spost(qutip.sigmay())"
   ]
  },
  {
   "cell_type": "markdown",
   "metadata": {},
   "source": [
    "## The symbolic variables we will use\n",
    "- TODO: explain what they all are\n"
   ]
  },
  {
   "cell_type": "code",
   "execution_count": 7,
   "metadata": {},
   "outputs": [],
   "source": [
    "delta2,delta3 = sym.symbols('delta_2 delta_3',real=True)\n",
    "gamma13,gamma23,gamma2d,gamma3d,nbath,gammamu = sym.symbols('gamma_13 gamma_23 gamma_2d gamma_3d n_b gamma_mu', real=True, negative=False)\n",
    "omegao,omegam = sym.symbols('Omega_o Omega_mu', real=True, negative=False)\n",
    "rho11,rho12,rho13,rho21,rho22,rho23,rho31,rho32,rho33 = sym.symbols('rho_11 rho_12 rho_13 rho_21 rho_22 rho_23 rho_31 rho_32 rho_33')\n",
    "\n",
    "a = sym.symbols('a')\n",
    "ar,ai = sym.symbols('a_r a_i',real=True)\n",
    "g = sym.symbols('g',real=True, negative=False)"
   ]
  },
  {
   "cell_type": "code",
   "execution_count": 8,
   "metadata": {},
   "outputs": [],
   "source": [
    "## Make the Liovillian superoperator"
   ]
  },
  {
   "cell_type": "code",
   "execution_count": 9,
   "metadata": {},
   "outputs": [],
   "source": [
    "H =  omegam*s21 + omegao*s32 + g*a*s31\n",
    "H = H + Dagger(H)\n",
    "H = H + delta2*s22 + delta3*s33\n",
    "LH = -I*spre(H)+I*spost(H) \n",
    "\n",
    "L21 = gammamu*(nbath+1)*collapse(s12)\n",
    "L12 = gammamu*(nbath)*collapse(s21)\n",
    "L32 = gamma23*collapse(s23)\n",
    "L31 = gamma13*collapse(s13)\n",
    "L22 = gamma2d*collapse(s22)\n",
    "L33 = gamma3d*collapse(s33)\n",
    "\n",
    "L = LH + L21 + L12 + L32 + L31 + L22 + L33\n",
    "\n",
    "#because Trace(rho) = 1 we can replace first row as below\n",
    "#this gives us a matrix that can be inverted\n",
    "L = L.row_insert(0,Matrix([[1,0,0,0,1,0,0,0,1]]))\n",
    "L.row_del(1)\n",
    "\n",
    "# The condition for the steady state is now L*rho=V\n",
    "# where V = [1,0,0, 0,0,0, 0,0,0].T"
   ]
  },
  {
   "cell_type": "markdown",
   "metadata": {},
   "source": [
    "### Expressions for the various operators"
   ]
  },
  {
   "cell_type": "code",
   "execution_count": 10,
   "metadata": {},
   "outputs": [
    {
     "data": {
      "text/latex": [
       "$$\\left[\\begin{matrix}1 & 0 & 0 & 0 & 1 & 0 & 0 & 0 & 1\\\\- i \\Omega_{\\mu} & - i \\delta_{2} - \\frac{\\gamma_{2d}}{2} - \\frac{\\gamma_{\\mu} n_{b}}{2} - \\frac{\\gamma_{\\mu} \\left(n_{b} + 1\\right)}{2} & - i \\Omega_{o} & 0 & i \\Omega_{\\mu} & 0 & 0 & i a g & 0\\\\- i a g & - i \\Omega_{o} & - i \\delta_{3} - \\frac{\\gamma_{13}}{2} - \\frac{\\gamma_{23}}{2} - \\frac{\\gamma_{3d}}{2} - \\frac{\\gamma_{\\mu} n_{b}}{2} & 0 & 0 & i \\Omega_{\\mu} & 0 & 0 & i a g\\\\i \\Omega_{\\mu} & 0 & 0 & i \\delta_{2} - \\frac{\\gamma_{2d}}{2} - \\frac{\\gamma_{\\mu} n_{b}}{2} - \\frac{\\gamma_{\\mu} \\left(n_{b} + 1\\right)}{2} & - i \\Omega_{\\mu} & - i g \\overline{a} & i \\Omega_{o} & 0 & 0\\\\\\gamma_{\\mu} n_{b} & i \\Omega_{\\mu} & 0 & - i \\Omega_{\\mu} & - \\gamma_{\\mu} \\left(n_{b} + 1\\right) & - i \\Omega_{o} & 0 & i \\Omega_{o} & \\gamma_{23}\\\\0 & 0 & i \\Omega_{\\mu} & - i a g & - i \\Omega_{o} & i \\delta_{2} - i \\delta_{3} - \\frac{\\gamma_{13}}{2} - \\frac{\\gamma_{23}}{2} - \\frac{\\gamma_{2d}}{2} - \\frac{\\gamma_{3d}}{2} - \\frac{\\gamma_{\\mu} \\left(n_{b} + 1\\right)}{2} & 0 & 0 & i \\Omega_{o}\\\\i g \\overline{a} & 0 & 0 & i \\Omega_{o} & 0 & 0 & i \\delta_{3} - \\frac{\\gamma_{13}}{2} - \\frac{\\gamma_{23}}{2} - \\frac{\\gamma_{3d}}{2} - \\frac{\\gamma_{\\mu} n_{b}}{2} & - i \\Omega_{\\mu} & - i g \\overline{a}\\\\0 & i g \\overline{a} & 0 & 0 & i \\Omega_{o} & 0 & - i \\Omega_{\\mu} & - i \\delta_{2} + i \\delta_{3} - \\frac{\\gamma_{13}}{2} - \\frac{\\gamma_{23}}{2} - \\frac{\\gamma_{2d}}{2} - \\frac{\\gamma_{3d}}{2} - \\frac{\\gamma_{\\mu} \\left(n_{b} + 1\\right)}{2} & - i \\Omega_{o}\\\\0 & 0 & i g \\overline{a} & 0 & 0 & i \\Omega_{o} & - i a g & - i \\Omega_{o} & - \\gamma_{13} - \\gamma_{23}\\end{matrix}\\right]$$"
      ],
      "text/plain": [
       "⎡   1                       0                                     0           \n",
       "⎢                                                                             \n",
       "⎢                 γ_2d   γₘᵤ⋅n_b   γₘᵤ⋅(n_b + 1)                              \n",
       "⎢-ⅈ⋅Ωₘᵤ   -ⅈ⋅δ₂ - ──── - ─────── - ─────────────                -ⅈ⋅Ωₒ         \n",
       "⎢                  2        2            2                                    \n",
       "⎢                                                                             \n",
       "⎢                                                         γ₁₃   γ₂₃   γ_3d   γ\n",
       "⎢-ⅈ⋅a⋅g                   -ⅈ⋅Ωₒ                   -ⅈ⋅δ₃ - ─── - ─── - ──── - ─\n",
       "⎢                                                          2     2     2      \n",
       "⎢                                                                             \n",
       "⎢                                                                             \n",
       "⎢ ⅈ⋅Ωₘᵤ                     0                                     0           \n",
       "⎢                                                                             \n",
       "⎢                                                                             \n",
       "⎢γₘᵤ⋅n_b                  ⅈ⋅Ωₘᵤ                                   0           \n",
       "⎢                                                                             \n",
       "⎢                                                                             \n",
       "⎢   0                       0                                   ⅈ⋅Ωₘᵤ         \n",
       "⎢                                                                             \n",
       "⎢                                                                             \n",
       "⎢     _                                                                       \n",
       "⎢ ⅈ⋅g⋅a                     0                                     0           \n",
       "⎢                                                                             \n",
       "⎢                                                                             \n",
       "⎢                             _                                               \n",
       "⎢   0                     ⅈ⋅g⋅a                                   0           \n",
       "⎢                                                                             \n",
       "⎢                                                                             \n",
       "⎢                                                                   _         \n",
       "⎣   0                       0                                   ⅈ⋅g⋅a         \n",
       "\n",
       "                          0                          1                        \n",
       "                                                                              \n",
       "                                                                              \n",
       "                          0                        ⅈ⋅Ωₘᵤ                      \n",
       "                                                                              \n",
       "                                                                              \n",
       "ₘᵤ⋅n_b                                                                        \n",
       "──────                    0                          0                        \n",
       "  2                                                                           \n",
       "                                                                              \n",
       "               γ_2d   γₘᵤ⋅n_b   γₘᵤ⋅(n_b + 1)                                 \n",
       "        ⅈ⋅δ₂ - ──── - ─────── - ─────────────      -ⅈ⋅Ωₘᵤ                     \n",
       "                2        2            2                                       \n",
       "                                                                              \n",
       "                       -ⅈ⋅Ωₘᵤ                  -γₘᵤ⋅(n_b + 1)                 \n",
       "                                                                              \n",
       "                                                                             γ\n",
       "                       -ⅈ⋅a⋅g                      -ⅈ⋅Ωₒ       ⅈ⋅δ₂ - ⅈ⋅δ₃ - ─\n",
       "                                                                              \n",
       "                                                                              \n",
       "                                                                              \n",
       "                        ⅈ⋅Ωₒ                         0                        \n",
       "                                                                              \n",
       "                                                                              \n",
       "                                                                              \n",
       "                          0                         ⅈ⋅Ωₒ                      \n",
       "                                                                              \n",
       "                                                                              \n",
       "                                                                              \n",
       "                          0                          0                        \n",
       "\n",
       "           0                                            0                     \n",
       "                                                                              \n",
       "                                                                              \n",
       "           0                                            0                     \n",
       "                                                                              \n",
       "                                                                              \n",
       "                                                                              \n",
       "         ⅈ⋅Ωₘᵤ                                          0                     \n",
       "                                                                              \n",
       "                                                                              \n",
       "             _                                                                \n",
       "        -ⅈ⋅g⋅a                                        ⅈ⋅Ωₒ                    \n",
       "                                                                              \n",
       "                                                                              \n",
       "         -ⅈ⋅Ωₒ                                          0                     \n",
       "                                                                              \n",
       "₁₃   γ₂₃   γ_2d   γ_3d   γₘᵤ⋅(n_b + 1)                                        \n",
       "── - ─── - ──── - ──── - ─────────────                  0                     \n",
       "2     2     2      2           2                                              \n",
       "                                                                              \n",
       "                                               γ₁₃   γ₂₃   γ_3d   γₘᵤ⋅n_b     \n",
       "           0                            ⅈ⋅δ₃ - ─── - ─── - ──── - ───────     \n",
       "                                                2     2     2        2        \n",
       "                                                                              \n",
       "                                                                              \n",
       "           0                                         -ⅈ⋅Ωₘᵤ                -ⅈ⋅\n",
       "                                                                              \n",
       "                                                                              \n",
       "                                                                              \n",
       "         ⅈ⋅Ωₒ                                        -ⅈ⋅a⋅g                   \n",
       "\n",
       "                       0                                 1     ⎤\n",
       "                                                               ⎥\n",
       "                                                               ⎥\n",
       "                     ⅈ⋅a⋅g                               0     ⎥\n",
       "                                                               ⎥\n",
       "                                                               ⎥\n",
       "                                                               ⎥\n",
       "                       0                               ⅈ⋅a⋅g   ⎥\n",
       "                                                               ⎥\n",
       "                                                               ⎥\n",
       "                                                               ⎥\n",
       "                       0                                 0     ⎥\n",
       "                                                               ⎥\n",
       "                                                               ⎥\n",
       "                      ⅈ⋅Ωₒ                              γ₂₃    ⎥\n",
       "                                                               ⎥\n",
       "                                                               ⎥\n",
       "                       0                                ⅈ⋅Ωₒ   ⎥\n",
       "                                                               ⎥\n",
       "                                                               ⎥\n",
       "                                                            _  ⎥\n",
       "                     -ⅈ⋅Ωₘᵤ                            -ⅈ⋅g⋅a  ⎥\n",
       "                                                               ⎥\n",
       "                                                               ⎥\n",
       "            γ₁₃   γ₂₃   γ_2d   γ_3d   γₘᵤ⋅(n_b + 1)            ⎥\n",
       "δ₂ + ⅈ⋅δ₃ - ─── - ─── - ──── - ──── - ─────────────    -ⅈ⋅Ωₒ   ⎥\n",
       "             2     2     2      2           2                  ⎥\n",
       "                                                               ⎥\n",
       "                                                               ⎥\n",
       "                     -ⅈ⋅Ωₒ                           -γ₁₃ - γ₂₃⎦"
      ]
     },
     "execution_count": 10,
     "metadata": {},
     "output_type": "execute_result"
    }
   ],
   "source": [
    "L"
   ]
  },
  {
   "cell_type": "code",
   "execution_count": 11,
   "metadata": {},
   "outputs": [
    {
     "data": {
      "text/latex": [
       "$$\\left[\\begin{matrix}0 & \\Omega_{\\mu} & g \\overline{a}\\\\\\Omega_{\\mu} & \\delta_{2} & \\Omega_{o}\\\\a g & \\Omega_{o} & \\delta_{3}\\end{matrix}\\right]$$"
      ],
      "text/plain": [
       "⎡            _⎤\n",
       "⎢ 0   Ωₘᵤ  g⋅a⎥\n",
       "⎢             ⎥\n",
       "⎢Ωₘᵤ  δ₂   Ωₒ ⎥\n",
       "⎢             ⎥\n",
       "⎣a⋅g  Ωₒ   δ₃ ⎦"
      ]
     },
     "execution_count": 11,
     "metadata": {},
     "output_type": "execute_result"
    }
   ],
   "source": [
    "H"
   ]
  },
  {
   "cell_type": "code",
   "execution_count": 12,
   "metadata": {},
   "outputs": [
    {
     "data": {
      "image/png": "[encoded data removed]",
      "text/latex": [
       "$$\\left [ \\rho_{11}, \\quad \\rho_{21}, \\quad \\rho_{31}, \\quad \\rho_{12}, \\quad \\rho_{22}, \\quad \\rho_{32}, \\quad \\rho_{13}, \\quad \\rho_{23}, \\quad \\rho_{33}\\right ]$$"
      ],
      "text/plain": [
       "[ρ₁₁, ρ₂₁, ρ₃₁, ρ₁₂, ρ₂₂, ρ₃₂, ρ₁₃, ρ₂₃, ρ₃₃]"
      ]
     },
     "execution_count": 12,
     "metadata": {},
     "output_type": "execute_result"
    }
   ],
   "source": [
    "#rho flattened out to a vector\n",
    "rho = Matrix([[rho11,rho21,rho31],[rho12,rho22,rho32],[rho13,rho23,rho33]])\n",
    "rho = 1*rho.T #because we are using \"fortran\" style matrix flatteneing\n",
    "rho[:]\n",
    "rhoflat = 1*rho.T \n",
    "rhoflat = rhoflat[:]\n",
    "rhoflat"
   ]
  },
  {
   "cell_type": "code",
   "execution_count": 13,
   "metadata": {},
   "outputs": [
    {
     "data": {
      "text/latex": [
       "$$\\left[\\begin{matrix}1 & 0 & 0\\\\- i \\Omega_{\\mu} & - i \\delta_{2} - \\frac{\\gamma_{2d}}{2} - \\frac{\\gamma_{\\mu} n_{b}}{2} - \\frac{\\gamma_{\\mu} \\left(n_{b} + 1\\right)}{2} & - i \\Omega_{o}\\\\- i a g & - i \\Omega_{o} & - i \\delta_{3} - \\frac{\\gamma_{13}}{2} - \\frac{\\gamma_{23}}{2} - \\frac{\\gamma_{3d}}{2} - \\frac{\\gamma_{\\mu} n_{b}}{2}\\\\i \\Omega_{\\mu} & 0 & 0\\\\\\gamma_{\\mu} n_{b} & i \\Omega_{\\mu} & 0\\\\0 & 0 & i \\Omega_{\\mu}\\\\i g \\overline{a} & 0 & 0\\\\0 & i g \\overline{a} & 0\\\\0 & 0 & i g \\overline{a}\\end{matrix}\\right]$$"
      ],
      "text/plain": [
       "⎡   1                       0                                     0           \n",
       "⎢                                                                             \n",
       "⎢                 γ_2d   γₘᵤ⋅n_b   γₘᵤ⋅(n_b + 1)                              \n",
       "⎢-ⅈ⋅Ωₘᵤ   -ⅈ⋅δ₂ - ──── - ─────── - ─────────────                -ⅈ⋅Ωₒ         \n",
       "⎢                  2        2            2                                    \n",
       "⎢                                                                             \n",
       "⎢                                                         γ₁₃   γ₂₃   γ_3d   γ\n",
       "⎢-ⅈ⋅a⋅g                   -ⅈ⋅Ωₒ                   -ⅈ⋅δ₃ - ─── - ─── - ──── - ─\n",
       "⎢                                                          2     2     2      \n",
       "⎢                                                                             \n",
       "⎢ ⅈ⋅Ωₘᵤ                     0                                     0           \n",
       "⎢                                                                             \n",
       "⎢γₘᵤ⋅n_b                  ⅈ⋅Ωₘᵤ                                   0           \n",
       "⎢                                                                             \n",
       "⎢   0                       0                                   ⅈ⋅Ωₘᵤ         \n",
       "⎢                                                                             \n",
       "⎢     _                                                                       \n",
       "⎢ ⅈ⋅g⋅a                     0                                     0           \n",
       "⎢                                                                             \n",
       "⎢                             _                                               \n",
       "⎢   0                     ⅈ⋅g⋅a                                   0           \n",
       "⎢                                                                             \n",
       "⎢                                                                   _         \n",
       "⎣   0                       0                                   ⅈ⋅g⋅a         \n",
       "\n",
       "      ⎤\n",
       "      ⎥\n",
       "      ⎥\n",
       "      ⎥\n",
       "      ⎥\n",
       "      ⎥\n",
       "ₘᵤ⋅n_b⎥\n",
       "──────⎥\n",
       "  2   ⎥\n",
       "      ⎥\n",
       "      ⎥\n",
       "      ⎥\n",
       "      ⎥\n",
       "      ⎥\n",
       "      ⎥\n",
       "      ⎥\n",
       "      ⎥\n",
       "      ⎥\n",
       "      ⎥\n",
       "      ⎥\n",
       "      ⎥\n",
       "      ⎥\n",
       "      ⎥\n",
       "      ⎦"
      ]
     },
     "execution_count": 13,
     "metadata": {},
     "output_type": "execute_result"
    }
   ],
   "source": [
    "L[:,0:3] #because the matrix gets clipped when exporting to PDF"
   ]
  },
  {
   "cell_type": "code",
   "execution_count": 14,
   "metadata": {},
   "outputs": [
    {
     "data": {
      "text/latex": [
       "$$\\left[\\begin{matrix}0 & 1 & 0\\\\0 & i \\Omega_{\\mu} & 0\\\\0 & 0 & i \\Omega_{\\mu}\\\\i \\delta_{2} - \\frac{\\gamma_{2d}}{2} - \\frac{\\gamma_{\\mu} n_{b}}{2} - \\frac{\\gamma_{\\mu} \\left(n_{b} + 1\\right)}{2} & - i \\Omega_{\\mu} & - i g \\overline{a}\\\\- i \\Omega_{\\mu} & - \\gamma_{\\mu} \\left(n_{b} + 1\\right) & - i \\Omega_{o}\\\\- i a g & - i \\Omega_{o} & i \\delta_{2} - i \\delta_{3} - \\frac{\\gamma_{13}}{2} - \\frac{\\gamma_{23}}{2} - \\frac{\\gamma_{2d}}{2} - \\frac{\\gamma_{3d}}{2} - \\frac{\\gamma_{\\mu} \\left(n_{b} + 1\\right)}{2}\\\\i \\Omega_{o} & 0 & 0\\\\0 & i \\Omega_{o} & 0\\\\0 & 0 & i \\Omega_{o}\\end{matrix}\\right]$$"
      ],
      "text/plain": [
       "⎡                  0                          1                               \n",
       "⎢                                                                             \n",
       "⎢                  0                        ⅈ⋅Ωₘᵤ                             \n",
       "⎢                                                                             \n",
       "⎢                  0                          0                               \n",
       "⎢                                                                             \n",
       "⎢       γ_2d   γₘᵤ⋅n_b   γₘᵤ⋅(n_b + 1)                                        \n",
       "⎢ⅈ⋅δ₂ - ──── - ─────── - ─────────────      -ⅈ⋅Ωₘᵤ                            \n",
       "⎢        2        2            2                                              \n",
       "⎢                                                                             \n",
       "⎢               -ⅈ⋅Ωₘᵤ                  -γₘᵤ⋅(n_b + 1)                        \n",
       "⎢                                                                             \n",
       "⎢                                                                     γ₁₃   γ₂\n",
       "⎢               -ⅈ⋅a⋅g                      -ⅈ⋅Ωₒ       ⅈ⋅δ₂ - ⅈ⋅δ₃ - ─── - ──\n",
       "⎢                                                                      2     2\n",
       "⎢                                                                             \n",
       "⎢                ⅈ⋅Ωₒ                         0                               \n",
       "⎢                                                                             \n",
       "⎢                  0                         ⅈ⋅Ωₒ                             \n",
       "⎢                                                                             \n",
       "⎣                  0                          0                               \n",
       "\n",
       "    0                          ⎤\n",
       "                               ⎥\n",
       "    0                          ⎥\n",
       "                               ⎥\n",
       "  ⅈ⋅Ωₘᵤ                        ⎥\n",
       "                               ⎥\n",
       "      _                        ⎥\n",
       " -ⅈ⋅g⋅a                        ⎥\n",
       "                               ⎥\n",
       "                               ⎥\n",
       "  -ⅈ⋅Ωₒ                        ⎥\n",
       "                               ⎥\n",
       "₃   γ_2d   γ_3d   γₘᵤ⋅(n_b + 1)⎥\n",
       "─ - ──── - ──── - ─────────────⎥\n",
       "     2      2           2      ⎥\n",
       "                               ⎥\n",
       "    0                          ⎥\n",
       "                               ⎥\n",
       "    0                          ⎥\n",
       "                               ⎥\n",
       "  ⅈ⋅Ωₒ                         ⎦"
      ]
     },
     "execution_count": 14,
     "metadata": {},
     "output_type": "execute_result"
    }
   ],
   "source": [
    "L[:,3:6]"
   ]
  },
  {
   "cell_type": "code",
   "execution_count": 15,
   "metadata": {},
   "outputs": [
    {
     "data": {
      "text/latex": [
       "$$\\left[\\begin{matrix}0 & 0 & 1\\\\0 & i a g & 0\\\\0 & 0 & i a g\\\\i \\Omega_{o} & 0 & 0\\\\0 & i \\Omega_{o} & \\gamma_{23}\\\\0 & 0 & i \\Omega_{o}\\\\i \\delta_{3} - \\frac{\\gamma_{13}}{2} - \\frac{\\gamma_{23}}{2} - \\frac{\\gamma_{3d}}{2} - \\frac{\\gamma_{\\mu} n_{b}}{2} & - i \\Omega_{\\mu} & - i g \\overline{a}\\\\- i \\Omega_{\\mu} & - i \\delta_{2} + i \\delta_{3} - \\frac{\\gamma_{13}}{2} - \\frac{\\gamma_{23}}{2} - \\frac{\\gamma_{2d}}{2} - \\frac{\\gamma_{3d}}{2} - \\frac{\\gamma_{\\mu} \\left(n_{b} + 1\\right)}{2} & - i \\Omega_{o}\\\\- i a g & - i \\Omega_{o} & - \\gamma_{13} - \\gamma_{23}\\end{matrix}\\right]$$"
      ],
      "text/plain": [
       "⎡                0                                            0               \n",
       "⎢                                                                             \n",
       "⎢                0                                          ⅈ⋅a⋅g             \n",
       "⎢                                                                             \n",
       "⎢                0                                            0               \n",
       "⎢                                                                             \n",
       "⎢              ⅈ⋅Ωₒ                                           0               \n",
       "⎢                                                                             \n",
       "⎢                0                                           ⅈ⋅Ωₒ             \n",
       "⎢                                                                             \n",
       "⎢                0                                            0               \n",
       "⎢                                                                             \n",
       "⎢       γ₁₃   γ₂₃   γ_3d   γₘᵤ⋅n_b                                            \n",
       "⎢ⅈ⋅δ₃ - ─── - ─── - ──── - ───────                          -ⅈ⋅Ωₘᵤ            \n",
       "⎢        2     2     2        2                                               \n",
       "⎢                                                                             \n",
       "⎢                                                  γ₁₃   γ₂₃   γ_2d   γ_3d   γ\n",
       "⎢             -ⅈ⋅Ωₘᵤ                -ⅈ⋅δ₂ + ⅈ⋅δ₃ - ─── - ─── - ──── - ──── - ─\n",
       "⎢                                                   2     2     2      2      \n",
       "⎢                                                                             \n",
       "⎣             -ⅈ⋅a⋅g                                        -ⅈ⋅Ωₒ             \n",
       "\n",
       "                  1     ⎤\n",
       "                        ⎥\n",
       "                  0     ⎥\n",
       "                        ⎥\n",
       "                ⅈ⋅a⋅g   ⎥\n",
       "                        ⎥\n",
       "                  0     ⎥\n",
       "                        ⎥\n",
       "                 γ₂₃    ⎥\n",
       "                        ⎥\n",
       "                 ⅈ⋅Ωₒ   ⎥\n",
       "                        ⎥\n",
       "                     _  ⎥\n",
       "                -ⅈ⋅g⋅a  ⎥\n",
       "                        ⎥\n",
       "                        ⎥\n",
       "ₘᵤ⋅(n_b + 1)            ⎥\n",
       "────────────    -ⅈ⋅Ωₒ   ⎥\n",
       "     2                  ⎥\n",
       "                        ⎥\n",
       "              -γ₁₃ - γ₂₃⎦"
      ]
     },
     "execution_count": 15,
     "metadata": {},
     "output_type": "execute_result"
    }
   ],
   "source": [
    "L[:,6:]"
   ]
  },
  {
   "cell_type": "code",
   "execution_count": 16,
   "metadata": {},
   "outputs": [
    {
     "data": {
      "image/png": "[encoded data removed]",
      "text/latex": [
       "$$\\rho_{13}$$"
      ],
      "text/plain": [
       "ρ₁₃"
      ]
     },
     "execution_count": 16,
     "metadata": {},
     "output_type": "execute_result"
    }
   ],
   "source": [
    "\n",
    "rhoflat[6]"
   ]
  },
  {
   "cell_type": "markdown",
   "metadata": {},
   "source": [
    "### We can transform the \"basis\" we use for our density matrix vector so that all the elements are real"
   ]
  },
  {
   "cell_type": "code",
   "execution_count": 17,
   "metadata": {},
   "outputs": [],
   "source": [
    "#change of variables to make things real to make it a bit faster maybe\n",
    "CtoR = Matrix([[2,0,0,0,0,0,0,0,0],\n",
    "               [0,0,0,0,2,0,0,0,0],\n",
    "               [0,0,0,0,0,0,0,0,2],\n",
    "               [0,1,0,1,0,0,0,0,0],\n",
    "               [0,I,0,-I,0,0,0,0,0],\n",
    "               [0,0,1,0,0,0,1,0,0],\n",
    "               [0,0,I,0,0,0,-I,0,0],\n",
    "               [0,0,0,0,0,1,0,1,0],\n",
    "               [0,0,0,0,0,I,0,-I,0]\n",
    "              ])\n",
    "CtoR=CtoR/2"
   ]
  },
  {
   "cell_type": "markdown",
   "metadata": {},
   "source": [
    "### The new organisation for our density matrix"
   ]
  },
  {
   "cell_type": "code",
   "execution_count": 18,
   "metadata": {},
   "outputs": [
    {
     "data": {
      "text/latex": [
       "$$\\left[\\begin{matrix}\\rho_{11}\\\\\\rho_{22}\\\\\\rho_{33}\\\\\\frac{\\rho_{12}}{2} + \\frac{\\rho_{21}}{2}\\\\- \\frac{i \\rho_{12}}{2} + \\frac{i \\rho_{21}}{2}\\\\\\frac{\\rho_{13}}{2} + \\frac{\\rho_{31}}{2}\\\\- \\frac{i \\rho_{13}}{2} + \\frac{i \\rho_{31}}{2}\\\\\\frac{\\rho_{23}}{2} + \\frac{\\rho_{32}}{2}\\\\- \\frac{i \\rho_{23}}{2} + \\frac{i \\rho_{32}}{2}\\end{matrix}\\right]$$"
      ],
      "text/plain": [
       "⎡      ρ₁₁      ⎤\n",
       "⎢               ⎥\n",
       "⎢      ρ₂₂      ⎥\n",
       "⎢               ⎥\n",
       "⎢      ρ₃₃      ⎥\n",
       "⎢               ⎥\n",
       "⎢   ρ₁₂   ρ₂₁   ⎥\n",
       "⎢   ─── + ───   ⎥\n",
       "⎢    2     2    ⎥\n",
       "⎢               ⎥\n",
       "⎢  ⅈ⋅ρ₁₂   ⅈ⋅ρ₂₁⎥\n",
       "⎢- ───── + ─────⎥\n",
       "⎢    2       2  ⎥\n",
       "⎢               ⎥\n",
       "⎢   ρ₁₃   ρ₃₁   ⎥\n",
       "⎢   ─── + ───   ⎥\n",
       "⎢    2     2    ⎥\n",
       "⎢               ⎥\n",
       "⎢  ⅈ⋅ρ₁₃   ⅈ⋅ρ₃₁⎥\n",
       "⎢- ───── + ─────⎥\n",
       "⎢    2       2  ⎥\n",
       "⎢               ⎥\n",
       "⎢   ρ₂₃   ρ₃₂   ⎥\n",
       "⎢   ─── + ───   ⎥\n",
       "⎢    2     2    ⎥\n",
       "⎢               ⎥\n",
       "⎢  ⅈ⋅ρ₂₃   ⅈ⋅ρ₃₂⎥\n",
       "⎢- ───── + ─────⎥\n",
       "⎣    2       2  ⎦"
      ]
     },
     "execution_count": 18,
     "metadata": {},
     "output_type": "execute_result"
    }
   ],
   "source": [
    "#these is our new state vector \n",
    "t = CtoR*Matrix(rhoflat)\n",
    "t"
   ]
  },
  {
   "cell_type": "markdown",
   "metadata": {},
   "source": [
    "### The Liovillian in this new basis"
   ]
  },
  {
   "cell_type": "code",
   "execution_count": 19,
   "metadata": {},
   "outputs": [
    {
     "data": {
      "text/latex": [
       "$$\\left[\\begin{matrix}1 & 1 & 1 & 0 & 0 & 0 & 0 & 0 & 0\\\\\\gamma_{\\mu} n_{b} & - \\gamma_{\\mu} \\left(n_{b} + 1\\right) & \\gamma_{23} & 0 & 2 \\Omega_{\\mu} & 0 & 0 & 0 & - 2 \\Omega_{o}\\\\0 & 0 & - \\gamma_{13} - \\gamma_{23} & 0 & 0 & 2 a_{i} g & 2 a_{r} g & 0 & 2 \\Omega_{o}\\\\0 & 0 & 0 & - \\frac{\\gamma_{2d}}{2} - \\gamma_{\\mu} n_{b} - \\frac{\\gamma_{\\mu}}{2} & - \\delta_{2} & 0 & - \\Omega_{o} & - a_{i} g & - a_{r} g\\\\\\Omega_{\\mu} & - \\Omega_{\\mu} & 0 & \\delta_{2} & - \\frac{\\gamma_{2d}}{2} - \\gamma_{\\mu} n_{b} - \\frac{\\gamma_{\\mu}}{2} & \\Omega_{o} & 0 & - a_{r} g & a_{i} g\\\\a_{i} g & 0 & - a_{i} g & 0 & - \\Omega_{o} & - \\frac{\\gamma_{13}}{2} - \\frac{\\gamma_{23}}{2} - \\frac{\\gamma_{3d}}{2} - \\frac{\\gamma_{\\mu} n_{b}}{2} & - \\delta_{3} & 0 & \\Omega_{\\mu}\\\\a_{r} g & 0 & - a_{r} g & \\Omega_{o} & 0 & \\delta_{3} & - \\frac{\\gamma_{13}}{2} - \\frac{\\gamma_{23}}{2} - \\frac{\\gamma_{3d}}{2} - \\frac{\\gamma_{\\mu} n_{b}}{2} & - \\Omega_{\\mu} & 0\\\\0 & 0 & 0 & a_{i} g & a_{r} g & 0 & \\Omega_{\\mu} & - \\frac{\\gamma_{13}}{2} - \\frac{\\gamma_{23}}{2} - \\frac{\\gamma_{2d}}{2} - \\frac{\\gamma_{3d}}{2} - \\frac{\\gamma_{\\mu} \\left(n_{b} + 1\\right)}{2} & \\delta_{2} - \\delta_{3}\\\\0 & \\Omega_{o} & - \\Omega_{o} & a_{r} g & - a_{i} g & - \\Omega_{\\mu} & 0 & - \\delta_{2} + \\delta_{3} & - \\frac{\\gamma_{13}}{2} - \\frac{\\gamma_{23}}{2} - \\frac{\\gamma_{2d}}{2} - \\frac{\\gamma_{3d}}{2} - \\frac{\\gamma_{\\mu} \\left(n_{b} + 1\\right)}{2}\\end{matrix}\\right]$$"
      ],
      "text/plain": [
       "⎡   1           1             1                 0                       0     \n",
       "⎢                                                                             \n",
       "⎢γₘᵤ⋅n_b  -γₘᵤ⋅(n_b + 1)     γ₂₃                0                     2⋅Ωₘᵤ   \n",
       "⎢                                                                             \n",
       "⎢   0           0         -γ₁₃ - γ₂₃            0                       0     \n",
       "⎢                                                                             \n",
       "⎢                                       γ_2d             γₘᵤ                  \n",
       "⎢   0           0             0       - ──── - γₘᵤ⋅n_b - ───           -δ₂    \n",
       "⎢                                        2                2                   \n",
       "⎢                                                                             \n",
       "⎢                                                               γ_2d          \n",
       "⎢  Ωₘᵤ         -Ωₘᵤ           0                 δ₂            - ──── - γₘᵤ⋅n_b\n",
       "⎢                                                                2            \n",
       "⎢                                                                             \n",
       "⎢                                                                             \n",
       "⎢ aᵢ⋅g          0           -aᵢ⋅g               0                      -Ωₒ    \n",
       "⎢                                                                             \n",
       "⎢                                                                             \n",
       "⎢                                                                             \n",
       "⎢ aᵣ⋅g          0           -aᵣ⋅g               Ωₒ                      0     \n",
       "⎢                                                                             \n",
       "⎢                                                                             \n",
       "⎢                                                                             \n",
       "⎢   0           0             0                aᵢ⋅g                    aᵣ⋅g   \n",
       "⎢                                                                             \n",
       "⎢                                                                             \n",
       "⎢                                                                             \n",
       "⎢   0           Ωₒ           -Ωₒ               aᵣ⋅g                   -aᵢ⋅g   \n",
       "⎣                                                                             \n",
       "\n",
       "                     0                             0                          \n",
       "                                                                              \n",
       "                     0                             0                          \n",
       "                                                                              \n",
       "                   2⋅aᵢ⋅g                        2⋅aᵣ⋅g                       \n",
       "                                                                              \n",
       "                                                                              \n",
       "                     0                            -Ωₒ                         \n",
       "                                                                              \n",
       "                                                                              \n",
       "   γₘᵤ                                                                        \n",
       " - ───               Ωₒ                            0                          \n",
       "    2                                                                         \n",
       "                                                                              \n",
       "          γ₁₃   γ₂₃   γ_3d   γₘᵤ⋅n_b                                          \n",
       "        - ─── - ─── - ──── - ───────              -δ₃                         \n",
       "           2     2     2        2                                             \n",
       "                                                                              \n",
       "                                        γ₁₃   γ₂₃   γ_3d   γₘᵤ⋅n_b            \n",
       "                     δ₃               - ─── - ─── - ──── - ───────            \n",
       "                                         2     2     2        2               \n",
       "                                                                              \n",
       "                                                                      γ₁₃   γ₂\n",
       "                     0                            Ωₘᵤ               - ─── - ──\n",
       "                                                                       2     2\n",
       "                                                                              \n",
       "                                                                              \n",
       "                    -Ωₘᵤ                           0                          \n",
       "                                                                              \n",
       "\n",
       "          0                                          0                    ⎤\n",
       "                                                                          ⎥\n",
       "          0                                        -2⋅Ωₒ                  ⎥\n",
       "                                                                          ⎥\n",
       "          0                                        2⋅Ωₒ                   ⎥\n",
       "                                                                          ⎥\n",
       "                                                                          ⎥\n",
       "        -aᵢ⋅g                                      -aᵣ⋅g                  ⎥\n",
       "                                                                          ⎥\n",
       "                                                                          ⎥\n",
       "                                                                          ⎥\n",
       "        -aᵣ⋅g                                      aᵢ⋅g                   ⎥\n",
       "                                                                          ⎥\n",
       "                                                                          ⎥\n",
       "                                                                          ⎥\n",
       "          0                                         Ωₘᵤ                   ⎥\n",
       "                                                                          ⎥\n",
       "                                                                          ⎥\n",
       "                                                                          ⎥\n",
       "        -Ωₘᵤ                                         0                    ⎥\n",
       "                                                                          ⎥\n",
       "                                                                          ⎥\n",
       "₃   γ_2d   γ_3d   γₘᵤ⋅(n_b + 1)                                           ⎥\n",
       "─ - ──── - ──── - ─────────────                   δ₂ - δ₃                 ⎥\n",
       "     2      2           2                                                 ⎥\n",
       "                                                                          ⎥\n",
       "                                   γ₁₃   γ₂₃   γ_2d   γ_3d   γₘᵤ⋅(n_b + 1)⎥\n",
       "      -δ₂ + δ₃                   - ─── - ─── - ──── - ──── - ─────────────⎥\n",
       "                                    2     2     2      2           2      ⎦"
      ]
     },
     "execution_count": 19,
     "metadata": {},
     "output_type": "execute_result"
    }
   ],
   "source": [
    "Lreal = sym.simplify(CtoR*L*CtoR.inv())\n",
    "Lreal = Lreal.subs(a,ar+I*ai)\n",
    "Lreal"
   ]
  },
  {
   "cell_type": "code",
   "execution_count": 20,
   "metadata": {},
   "outputs": [],
   "source": [
    "# A sanity check \n",
    "# sym.simplify(CtoR.inv()*Lreal*CtoR*Matrix(rhoflat)-(L*Matrix(rhoflat)).subs(a,ar+I*ai))"
   ]
  },
  {
   "cell_type": "code",
   "execution_count": null,
   "metadata": {},
   "outputs": [],
   "source": []
  },
  {
   "cell_type": "markdown",
   "metadata": {},
   "source": [
    "### C-code from our analytic expressions for the two different versions of the Liovillan\n",
    "- this is copied and pasted into some of the functions below"
   ]
  },
  {
   "cell_type": "code",
   "execution_count": 21,
   "metadata": {},
   "outputs": [
    {
     "name": "stdout",
     "output_type": "stream",
     "text": [
      "// Not supported in C:\n",
      "// conjugate\n",
      "[1, -I*Omega_mu, -I*a*g, I*Omega_mu, gamma_mu*n_b, 0, I*g*conjugate(a), 0, 0, 0, -I*delta_2 - 1.0/2.0*gamma_2d - 1.0/2.0*gamma_mu*n_b - 1.0/2.0*gamma_mu*(n_b + 1), -I*Omega_o, 0, I*Omega_mu, 0, 0, I*g*conjugate(a), 0, 0, -I*Omega_o, -I*delta_3 - 1.0/2.0*gamma_13 - 1.0/2.0*gamma_23 - 1.0/2.0*gamma_3d - 1.0/2.0*gamma_mu*n_b, 0, 0, I*Omega_mu, 0, 0, I*g*conjugate(a), 0, 0, 0, I*delta_2 - 1.0/2.0*gamma_2d - 1.0/2.0*gamma_mu*n_b - 1.0/2.0*gamma_mu*(n_b + 1), -I*Omega_mu, -I*a*g, I*Omega_o, 0, 0, 1, I*Omega_mu, 0, -I*Omega_mu, -gamma_mu*(n_b + 1), -I*Omega_o, 0, I*Omega_o, 0, 0, 0, I*Omega_mu, -I*g*conjugate(a), -I*Omega_o, I*delta_2 - I*delta_3 - 1.0/2.0*gamma_13 - 1.0/2.0*gamma_23 - 1.0/2.0*gamma_2d - 1.0/2.0*gamma_3d - 1.0/2.0*gamma_mu*(n_b + 1), 0, 0, I*Omega_o, 0, 0, 0, I*Omega_o, 0, 0, I*delta_3 - 1.0/2.0*gamma_13 - 1.0/2.0*gamma_23 - 1.0/2.0*gamma_3d - 1.0/2.0*gamma_mu*n_b, -I*Omega_mu, -I*a*g, 0, I*a*g, 0, 0, I*Omega_o, 0, -I*Omega_mu, -I*delta_2 + I*delta_3 - 1.0/2.0*gamma_13 - 1.0/2.0*gamma_23 - 1.0/2.0*gamma_2d - 1.0/2.0*gamma_3d - 1.0/2.0*gamma_mu*(n_b + 1), -I*Omega_o, 1, 0, I*a*g, 0, gamma_23, I*Omega_o, -I*g*conjugate(a), -I*Omega_o, -gamma_13 - gamma_23]\n",
      "-----------\n",
      "(1, gamma_mu*n_b, 0, 0, Omega_mu, a_i*g, a_r*g, 0, 0, 1, -gamma_mu*(n_b + 1), 0, 0, -Omega_mu, 0, 0, 0, Omega_o, 1, gamma_23, -gamma_13 - gamma_23, 0, 0, -a_i*g, -a_r*g, 0, -Omega_o, 0, 0, 0, -1.0/2.0*gamma_2d - gamma_mu*n_b - 1.0/2.0*gamma_mu, delta_2, 0, Omega_o, a_i*g, a_r*g, 0, 2*Omega_mu, 0, -delta_2, -1.0/2.0*gamma_2d - gamma_mu*n_b - 1.0/2.0*gamma_mu, -Omega_o, 0, a_r*g, -a_i*g, 0, 0, 2*a_i*g, 0, Omega_o, -1.0/2.0*gamma_13 - 1.0/2.0*gamma_23 - 1.0/2.0*gamma_3d - 1.0/2.0*gamma_mu*n_b, delta_3, 0, -Omega_mu, 0, 0, 2*a_r*g, -Omega_o, 0, -delta_3, -1.0/2.0*gamma_13 - 1.0/2.0*gamma_23 - 1.0/2.0*gamma_3d - 1.0/2.0*gamma_mu*n_b, Omega_mu, 0, 0, 0, 0, -a_i*g, -a_r*g, 0, -Omega_mu, -1.0/2.0*gamma_13 - 1.0/2.0*gamma_23 - 1.0/2.0*gamma_2d - 1.0/2.0*gamma_3d - 1.0/2.0*gamma_mu*(n_b + 1), -delta_2 + delta_3, 0, -2*Omega_o, 2*Omega_o, -a_r*g, a_i*g, Omega_mu, 0, delta_2 - delta_3, -1.0/2.0*gamma_13 - 1.0/2.0*gamma_23 - 1.0/2.0*gamma_2d - 1.0/2.0*gamma_3d - 1.0/2.0*gamma_mu*(n_b + 1))\n",
      "----------\n",
      "L[0] = 1\n",
      "L[1] = gamma_mu*n_b\n",
      "L[2] = 0\n",
      "L[3] = 0\n",
      "L[4] = Omega_mu\n",
      "L[5] = a_i*g\n",
      "L[6] = a_r*g\n",
      "L[7] = 0\n",
      "L[8] = 0\n",
      "L[9] = 1\n",
      "L[10] = -gamma_mu*(n_b + 1)\n",
      "L[11] = 0\n",
      "L[12] = 0\n",
      "L[13] = -Omega_mu\n",
      "L[14] = 0\n",
      "L[15] = 0\n",
      "L[16] = 0\n",
      "L[17] = Omega_o\n",
      "L[18] = 1\n",
      "L[19] = gamma_23\n",
      "L[20] = -gamma_13 - gamma_23\n",
      "L[21] = 0\n",
      "L[22] = 0\n",
      "L[23] = -a_i*g\n",
      "L[24] = -a_r*g\n",
      "L[25] = 0\n",
      "L[26] = -Omega_o\n",
      "L[27] = 0\n",
      "L[28] = 0\n",
      "L[29] = 0\n",
      "L[30] = -1.0/2.0*gamma_2d - gamma_mu*n_b - 1.0/2.0*gamma_mu\n",
      "L[31] = delta_2\n",
      "L[32] = 0\n",
      "L[33] = Omega_o\n",
      "L[34] = a_i*g\n",
      "L[35] = a_r*g\n",
      "L[36] = 0\n",
      "L[37] = 2*Omega_mu\n",
      "L[38] = 0\n",
      "L[39] = -delta_2\n",
      "L[40] = -1.0/2.0*gamma_2d - gamma_mu*n_b - 1.0/2.0*gamma_mu\n",
      "L[41] = -Omega_o\n",
      "L[42] = 0\n",
      "L[43] = a_r*g\n",
      "L[44] = -a_i*g\n",
      "L[45] = 0\n",
      "L[46] = 0\n",
      "L[47] = 2*a_i*g\n",
      "L[48] = 0\n",
      "L[49] = Omega_o\n",
      "L[50] = -1.0/2.0*gamma_13 - 1.0/2.0*gamma_23 - 1.0/2.0*gamma_3d - 1.0/2.0*gamma_mu*n_b\n",
      "L[51] = delta_3\n",
      "L[52] = 0\n",
      "L[53] = -Omega_mu\n",
      "L[54] = 0\n",
      "L[55] = 0\n",
      "L[56] = 2*a_r*g\n",
      "L[57] = -Omega_o\n",
      "L[58] = 0\n",
      "L[59] = -delta_3\n",
      "L[60] = -1.0/2.0*gamma_13 - 1.0/2.0*gamma_23 - 1.0/2.0*gamma_3d - 1.0/2.0*gamma_mu*n_b\n",
      "L[61] = Omega_mu\n",
      "L[62] = 0\n",
      "L[63] = 0\n",
      "L[64] = 0\n",
      "L[65] = 0\n",
      "L[66] = -a_i*g\n",
      "L[67] = -a_r*g\n",
      "L[68] = 0\n",
      "L[69] = -Omega_mu\n",
      "L[70] = -1.0/2.0*gamma_13 - 1.0/2.0*gamma_23 - 1.0/2.0*gamma_2d - 1.0/2.0*gamma_3d - 1.0/2.0*gamma_mu*(n_b + 1)\n",
      "L[71] = -delta_2 + delta_3\n",
      "L[72] = 0\n",
      "L[73] = -2*Omega_o\n",
      "L[74] = 2*Omega_o\n",
      "L[75] = -a_r*g\n",
      "L[76] = a_i*g\n",
      "L[77] = Omega_mu\n",
      "L[78] = 0\n",
      "L[79] = delta_2 - delta_3\n",
      "L[80] = -1.0/2.0*gamma_13 - 1.0/2.0*gamma_23 - 1.0/2.0*gamma_2d - 1.0/2.0*gamma_3d - 1.0/2.0*gamma_mu*(n_b + 1)\n"
     ]
    }
   ],
   "source": [
    "from sympy.printing import print_ccode\n",
    "Lflat = 1*L.T\n",
    "Lflat = Lflat[:]\n",
    "print_ccode(Lflat)\n",
    "\n",
    "print(\"-----------\")\n",
    "#because this is destined for cython it's in row-major order\n",
    "Lflatreal = 1*Lreal.T\n",
    "Lflatreal = Lflatreal[:]\n",
    "print_ccode(Lflatreal)\n",
    "print(\"----------\")\n",
    "for k in range(81):\n",
    "    print(\"L[%d] = \"%(k,),end=\"\")\n",
    "    print_ccode(Lflatreal[k])"
   ]
  },
  {
   "cell_type": "markdown",
   "metadata": {},
   "source": [
    "# Numerical code for steady state\n",
    "- Using analytic expressions above\n",
    "- The code below is much slower than the cython version below, but useful for confirming correctness of cython version.\n"
   ]
  },
  {
   "cell_type": "code",
   "execution_count": 22,
   "metadata": {},
   "outputs": [],
   "source": [
    "Lfunc = sym.lambdify((a,delta2, delta3, gamma13, gamma23, gamma2d, gamma3d, nbath,gammamu,omegao,omegam,g),L)\n",
    "\n",
    "Lrealfunc = sym.lambdify((ar,ai,delta2, delta3, gamma13, gamma23, gamma2d, gamma3d, nbath,gammamu,omegao,omegam,g),Lreal)\n",
    "\n",
    "# finds the steady state density matrix\n",
    "# p is a python dictionary full of parameters\n",
    "\n",
    "def steady_rho(p):\n",
    "    \n",
    "    Lmatrix = Lfunc(p['a'],p['delta2'],p['delta3'],p['gamma13'],\n",
    "                               p['gamma23'],p['gamma2d'],p['gamma3d'],p['nbath'],\n",
    "                               p['gammamu'],p['omegao'],p['omegam'],p['g'])\n",
    "    \n",
    "    #return Lmatrix\n",
    "    rho = np.linalg.solve(Lmatrix.astype('complex128'),np.matrix([[1,0,0,0,0,0,0,0,0]]).T)\n",
    "    return np.reshape(rho,(3,3),order='F')\n",
    "\n",
    "# this code is commented out because it has been replaced by cython version\n",
    "# will leave it for future sanity checks if \n",
    "\n",
    "# Just the rho13 element of the density matrix:\n",
    "\n",
    "# def steady_rho13_older(p):\n",
    "#     Lmatrix = Lfunc(p['a'],p['delta2'],p['delta3'],p['gamma13'],\n",
    "#                                p['gamma23'],p['gamma2d'],p['gamma3d'],p['nbath'],\n",
    "#                                p['gammamu'],p['omegao'],p['omegam'],p['g'])\n",
    "#     #return Lmatrix\n",
    "#     rho = np.linalg.solve(Lmatrix.astype('complex128'),np.matrix([[1,0,0,0,0,0,0,0,0]]).T)\n",
    "#     return rho[6]\n",
    "\n",
    "# # another version \n",
    "# def steady_rho13_old(p):\n",
    "#     Lmatrix =  Lrealfunc(np.real(p['a']),np.real(p['a']),p['delta2'],p['delta3'],p['gamma13'],\n",
    "#                                p['gamma23'],p['gamma2d'],p['gamma3d'],p['nbath'],\n",
    "#                                p['gammamu'],p['omegao'],p['omegam'],p['g'])\n",
    "#     rho = np.linalg.solve(Lmatrix.astype('double'),np.matrix([[1,0,0,0,0,0,0,0,0]]).T)    \n",
    "#     return rho[5]+1j*rho[6]"
   ]
  },
  {
   "cell_type": "markdown",
   "metadata": {},
   "source": [
    "# Functions to find atoms steady state\n",
    " Implemented in cython to make it (much) faster."
   ]
  },
  {
   "cell_type": "code",
   "execution_count": 31,
   "metadata": {},
   "outputs": [
    {
     "ename": "CompileError",
     "evalue": "command 'x86_64-linux-gnu-gcc' failed with exit status 1",
     "output_type": "error",
     "traceback": [
      "\u001b[0;31m---------------------------------------------------------------------------\u001b[0m",
      "\u001b[0;31mDistutilsExecError\u001b[0m                        Traceback (most recent call last)",
      "\u001b[0;32m/usr/lib/python3.6/distutils/unixccompiler.py\u001b[0m in \u001b[0;36m_compile\u001b[0;34m(self, obj, src, ext, cc_args, extra_postargs, pp_opts)\u001b[0m\n\u001b[1;32m    117\u001b[0m             self.spawn(compiler_so + cc_args + [src, '-o', obj] +\n\u001b[0;32m--> 118\u001b[0;31m                        extra_postargs)\n\u001b[0m\u001b[1;32m    119\u001b[0m         \u001b[0;32mexcept\u001b[0m \u001b[0mDistutilsExecError\u001b[0m \u001b[0;32mas\u001b[0m \u001b[0mmsg\u001b[0m\u001b[0;34m:\u001b[0m\u001b[0;34m\u001b[0m\u001b[0m\n",
      "\u001b[0;32m/usr/lib/python3.6/distutils/ccompiler.py\u001b[0m in \u001b[0;36mspawn\u001b[0;34m(self, cmd)\u001b[0m\n\u001b[1;32m    908\u001b[0m     \u001b[0;32mdef\u001b[0m \u001b[0mspawn\u001b[0m\u001b[0;34m(\u001b[0m\u001b[0mself\u001b[0m\u001b[0;34m,\u001b[0m \u001b[0mcmd\u001b[0m\u001b[0;34m)\u001b[0m\u001b[0;34m:\u001b[0m\u001b[0;34m\u001b[0m\u001b[0m\n\u001b[0;32m--> 909\u001b[0;31m         \u001b[0mspawn\u001b[0m\u001b[0;34m(\u001b[0m\u001b[0mcmd\u001b[0m\u001b[0;34m,\u001b[0m \u001b[0mdry_run\u001b[0m\u001b[0;34m=\u001b[0m\u001b[0mself\u001b[0m\u001b[0;34m.\u001b[0m\u001b[0mdry_run\u001b[0m\u001b[0;34m)\u001b[0m\u001b[0;34m\u001b[0m\u001b[0m\n\u001b[0m\u001b[1;32m    910\u001b[0m \u001b[0;34m\u001b[0m\u001b[0m\n",
      "\u001b[0;32m/usr/lib/python3.6/distutils/spawn.py\u001b[0m in \u001b[0;36mspawn\u001b[0;34m(cmd, search_path, verbose, dry_run)\u001b[0m\n\u001b[1;32m     35\u001b[0m     \u001b[0;32mif\u001b[0m \u001b[0mos\u001b[0m\u001b[0;34m.\u001b[0m\u001b[0mname\u001b[0m \u001b[0;34m==\u001b[0m \u001b[0;34m'posix'\u001b[0m\u001b[0;34m:\u001b[0m\u001b[0;34m\u001b[0m\u001b[0m\n\u001b[0;32m---> 36\u001b[0;31m         \u001b[0m_spawn_posix\u001b[0m\u001b[0;34m(\u001b[0m\u001b[0mcmd\u001b[0m\u001b[0;34m,\u001b[0m \u001b[0msearch_path\u001b[0m\u001b[0;34m,\u001b[0m \u001b[0mdry_run\u001b[0m\u001b[0;34m=\u001b[0m\u001b[0mdry_run\u001b[0m\u001b[0;34m)\u001b[0m\u001b[0;34m\u001b[0m\u001b[0m\n\u001b[0m\u001b[1;32m     37\u001b[0m     \u001b[0;32melif\u001b[0m \u001b[0mos\u001b[0m\u001b[0;34m.\u001b[0m\u001b[0mname\u001b[0m \u001b[0;34m==\u001b[0m \u001b[0;34m'nt'\u001b[0m\u001b[0;34m:\u001b[0m\u001b[0;34m\u001b[0m\u001b[0m\n",
      "\u001b[0;32m/usr/lib/python3.6/distutils/spawn.py\u001b[0m in \u001b[0;36m_spawn_posix\u001b[0;34m(cmd, search_path, verbose, dry_run)\u001b[0m\n\u001b[1;32m    158\u001b[0m                           \u001b[0;34m\"command %r failed with exit status %d\"\u001b[0m\u001b[0;34m\u001b[0m\u001b[0m\n\u001b[0;32m--> 159\u001b[0;31m                           % (cmd, exit_status))\n\u001b[0m\u001b[1;32m    160\u001b[0m             \u001b[0;32melif\u001b[0m \u001b[0mos\u001b[0m\u001b[0;34m.\u001b[0m\u001b[0mWIFSTOPPED\u001b[0m\u001b[0;34m(\u001b[0m\u001b[0mstatus\u001b[0m\u001b[0;34m)\u001b[0m\u001b[0;34m:\u001b[0m\u001b[0;34m\u001b[0m\u001b[0m\n",
      "\u001b[0;31mDistutilsExecError\u001b[0m: command 'x86_64-linux-gnu-gcc' failed with exit status 1",
      "\nDuring handling of the above exception, another exception occurred:\n",
      "\u001b[0;31mCompileError\u001b[0m                              Traceback (most recent call last)",
      "\u001b[0;32m<ipython-input-31-c49eb14712d0>\u001b[0m in \u001b[0;36m<module>\u001b[0;34m()\u001b[0m\n\u001b[0;32m----> 1\u001b[0;31m \u001b[0mget_ipython\u001b[0m\u001b[0;34m(\u001b[0m\u001b[0;34m)\u001b[0m\u001b[0;34m.\u001b[0m\u001b[0mrun_cell_magic\u001b[0m\u001b[0;34m(\u001b[0m\u001b[0;34m'cython'\u001b[0m\u001b[0;34m,\u001b[0m \u001b[0;34m'--compile-args=-fopenmp --link-args=-fopenmp '\u001b[0m\u001b[0;34m,\u001b[0m \u001b[0;34m'#### %%cython -a # this gives \"highligted\" output\\n\\n#cython: boundscheck=False, wraparound=False, nonecheck=False\\ncimport cython\\nimport numpy as np\\nfrom cython.parallel cimport prange\\ncimport scipy.linalg.cython_lapack as lapack\\nimport numpy as np\\nfrom libc.math cimport exp\\n\\n\\ncdef int nextpow2(int x):\\n    cdef int n=1\\n    while(True):\\n        if n>=x:\\n            return n\\n        n=2*n\\n\\ndef steady_rho13(p):\\n    cdef double a_r,a_i,delta_2,delta_3,gamma_13,gamma_23,gamma_2d,gamma_3d,n_b,gamma_mu,Omega_o,Omega_mu,g\\n    cdef double L[81]\\n    cdef double V[9]\\n    cdef int n = 9\\n    cdef double complex a\\n    cdef int info\\n    cdef int lda = 9\\n    cdef int ldb = 9 \\n    cdef int nrhs = 1\\n    cdef int workspace[9]\\n    \\n    V[:]= [1,0,0, 0,0,0, 0,0,0]\\n    a = p[\\'a\\']\\n    a_r = a.real\\n    a_i = a.imag\\n    delta_2 = p[\\'delta2\\']\\n    delta_3 = p[\\'delta3\\']\\n    gamma_13 = p[\\'gamma13\\']\\n    gamma_23 = p[\\'gamma23\\'] \\n    gamma_2d = p[\\'gamma2d\\']\\n    gamma_3d = p[\\'gamma3d\\']\\n    n_b = p[\\'nbath\\']\\n    gamma_mu = p[\\'gammamu\\']\\n    Omega_o = p[\\'omegao\\'] \\n    Omega_mu = p[\\'omegam\\']\\n    g = p[\\'g\\']\\n #   with nogil: # to make sure it\\'s not doing any slow python calls\\n    L[:] = (1, gamma_mu*n_b, 0, 0, Omega_mu, a_i*g, a_r*g, 0, 0, 1, -gamma_mu*(n_b + 1), 0, 0, -Omega_mu, 0, 0, 0, Omega_o, 1, gamma_23, -gamma_13 - gamma_23, 0, 0, -a_i*g, -a_r*g, 0, -Omega_o, 0, 0, 0, -1.0/2.0*gamma_2d - gamma_mu*n_b - 1.0/2.0*gamma_mu, delta_2, 0, Omega_o, a_i*g, a_r*g, 0, 2*Omega_mu, 0, -delta_2, -1.0/2.0*gamma_2d - gamma_mu*n_b - 1.0/2.0*gamma_mu, -Omega_o, 0, a_r*g, -a_i*g, 0, 0, 2*a_i*g, 0, Omega_o, -1.0/2.0*gamma_13 - 1.0/2.0*gamma_23 - 1.0/2.0*gamma_3d - 1.0/2.0*gamma_mu*n_b, delta_3, 0, -Omega_mu, 0, 0, 2*a_r*g, -Omega_o, 0, -delta_3, -1.0/2.0*gamma_13 - 1.0/2.0*gamma_23 - 1.0/2.0*gamma_3d - 1.0/2.0*gamma_mu*n_b, Omega_mu, 0, 0, 0, 0, -a_i*g, -a_r*g, 0, -Omega_mu, -1.0/2.0*gamma_13 - 1.0/2.0*gamma_23 - 1.0/2.0*gamma_2d - 1.0/2.0*gamma_3d - 1.0/2.0*gamma_mu*(n_b + 1), -delta_2 + delta_3, 0, -2*Omega_o, 2*Omega_o, -a_r*g, a_i*g, Omega_mu, 0, delta_2 - delta_3, -1.0/2.0*gamma_13 - 1.0/2.0*gamma_23 - 1.0/2.0*gamma_2d - 1.0/2.0*gamma_3d - 1.0/2.0*gamma_mu*(n_b + 1))\\n    \\n    lapack.dgesv(&n,&nrhs,L,&lda,workspace,V,&ldb,&info)\\n    return V[5]+1j*V[6]\\n\\n\\ncdef double complex steady_rho13_lots_of_args(double a_r,\\n                               double a_i,\\n                               double delta_2,\\n                               double delta_3,\\n                               double gamma_13,\\n                               double gamma_23,\\n                               double gamma_2d,\\n                               double gamma_3d,\\n                               double n_b,\\n                               double gamma_mu,\\n                               double Omega_o,\\n                               double Omega_mu,\\n                               double g) nogil:\\n    cdef double L[81]\\n    cdef double V[9]\\n    cdef int n = 9\\n    cdef double complex a\\n    cdef int info\\n    cdef int lda = 9\\n    cdef int ldb = 9 \\n    cdef int nrhs = 1\\n    cdef int workspace[9]\\n    cdef int k\\n  \\n    # Unfortunately cant use this syntax if we dont have dont have GIL\\n    #V[:] = [1,0,0, 0,0,0, 0,0,0]\\n    #L[:] = (1, gamma_mu*n_b, 0, 0, Omega_mu, a_i*g, a_r*g, 0, 0, 1, -gamma_mu*(n_b + 1), 0, 0, -Omega_mu, 0, 0, 0, Omega_o, 1, gamma_23, -gamma_13 - gamma_23, 0, 0, -a_i*g, -a_r*g, 0, -Omega_o, 0, 0, 0, -1.0/2.0*gamma_2d - gamma_mu*n_b - 1.0/2.0*gamma_mu, delta_2, 0, Omega_o, a_i*g, a_r*g, 0, 2*Omega_mu, 0, -delta_2, -1.0/2.0*gamma_2d - gamma_mu*n_b - 1.0/2.0*gamma_mu, -Omega_o, 0, a_r*g, -a_i*g, 0, 0, 2*a_i*g, 0, Omega_o, -1.0/2.0*gamma_13 - 1.0/2.0*gamma_23 - 1.0/2.0*gamma_3d - 1.0/2.0*gamma_mu*n_b, delta_3, 0, -Omega_mu, 0, 0, 2*a_r*g, -Omega_o, 0, -delta_3, -1.0/2.0*gamma_13 - 1.0/2.0*gamma_23 - 1.0/2.0*gamma_3d - 1.0/2.0*gamma_mu*n_b, Omega_mu, 0, 0, 0, 0, -a_i*g, -a_r*g, 0, -Omega_mu, -1.0/2.0*gamma_13 - 1.0/2.0*gamma_23 - 1.0/2.0*gamma_2d - 1.0/2.0*gamma_3d - 1.0/2.0*gamma_mu*(n_b + 1), -delta_2 + delta_3, 0, -2*Omega_o, 2*Omega_o, -a_r*g, a_i*g, Omega_mu, 0, delta_2 - delta_3, -1.0/2.0*gamma_13 - 1.0/2.0*gamma_23 - 1.0/2.0*gamma_2d - 1.0/2.0*gamma_3d - 1.0/2.0*gamma_mu*(n_b + 1))\\n    \\n    for k in range(9):\\n        V[k] = 0\\n    V[0] = 1\\n    \\n    L[0] = 1\\n    L[1] = gamma_mu*n_b\\n    L[2] = 0\\n    L[3] = 0\\n    L[4] = Omega_mu\\n    L[5] = a_i*g\\n    L[6] = a_r*g\\n    L[7] = 0\\n    L[8] = 0\\n    L[9] = 1\\n    L[10] = -gamma_mu*(n_b + 1)\\n    L[11] = 0\\n    L[12] = 0\\n    L[13] = -Omega_mu\\n    L[14] = 0\\n    L[15] = 0\\n    L[16] = 0\\n    L[17] = Omega_o\\n    L[18] = 1\\n    L[19] = gamma_23\\n    L[20] = -gamma_13 - gamma_23\\n    L[21] = 0\\n    L[22] = 0\\n    L[23] = -a_i*g\\n    L[24] = -a_r*g\\n    L[25] = 0\\n    L[26] = -Omega_o\\n    L[27] = 0\\n    L[28] = 0\\n    L[29] = 0\\n    L[30] = -1.0/2.0*gamma_2d - gamma_mu*n_b - 1.0/2.0*gamma_mu\\n    L[31] = delta_2\\n    L[32] = 0\\n    L[33] = Omega_o\\n    L[34] = a_i*g\\n    L[35] = a_r*g\\n    L[36] = 0\\n    L[37] = 2*Omega_mu\\n    L[38] = 0\\n    L[39] = -delta_2\\n    L[40] = -1.0/2.0*gamma_2d - gamma_mu*n_b - 1.0/2.0*gamma_mu\\n    L[41] = -Omega_o\\n    L[42] = 0\\n    L[43] = a_r*g\\n    L[44] = -a_i*g\\n    L[45] = 0\\n    L[46] = 0\\n    L[47] = 2*a_i*g\\n    L[48] = 0\\n    L[49] = Omega_o\\n    L[50] = -1.0/2.0*gamma_13 - 1.0/2.0*gamma_23 - 1.0/2.0*gamma_3d - 1.0/2.0*gamma_mu*n_b\\n    L[51] = delta_3\\n    L[52] = 0\\n    L[53] = -Omega_mu\\n    L[54] = 0\\n    L[55] = 0\\n    L[56] = 2*a_r*g\\n    L[57] = -Omega_o\\n    L[58] = 0\\n    L[59] = -delta_3\\n    L[60] = -1.0/2.0*gamma_13 - 1.0/2.0*gamma_23 - 1.0/2.0*gamma_3d - 1.0/2.0*gamma_mu*n_b\\n    L[61] = Omega_mu\\n    L[62] = 0\\n    L[63] = 0\\n    L[64] = 0\\n    L[65] = 0\\n    L[66] = -a_i*g\\n    L[67] = -a_r*g\\n    L[68] = 0\\n    L[69] = -Omega_mu\\n    L[70] = -1.0/2.0*gamma_13 - 1.0/2.0*gamma_23 - 1.0/2.0*gamma_2d - 1.0/2.0*gamma_3d - 1.0/2.0*gamma_mu*(n_b + 1)\\n    L[71] = -delta_2 + delta_3\\n    L[72] = 0\\n    L[73] = -2*Omega_o\\n    L[74] = 2*Omega_o\\n    L[75] = -a_r*g\\n    L[76] = a_i*g\\n    L[77] = Omega_mu\\n    L[78] = 0\\n    L[79] = delta_2 - delta_3\\n    L[80] = -1.0/2.0*gamma_13 - 1.0/2.0*gamma_23 - 1.0/2.0*gamma_2d - 1.0/2.0*gamma_3d - 1.0/2.0*gamma_mu*(n_b + 1)\\n    lapack.dgesv(&n,&nrhs,L,&lda,workspace,V,&ldb,&info)\\n    return V[5]+1j*V[6]\\n\\n\\n\\n# Integrate over an ensemble using simpson\\'s rule\\ndef ensemble_steady_rho13_integrated(p,double df):\\n    #cdef double df = 200e3 #frequency discretization\\n    cdef double a_r,a_i,delta_2,delta_3,gamma_13,gamma_23,gamma_2d,gamma_3d,n_b,gamma_mu,Omega_o,Omega_mu,g\\n    a = p[\\'a\\']\\n    a_r = a.real\\n    a_i = a.imag\\n    delta_2 = p[\\'delta2\\']\\n    delta_3 = p[\\'delta3\\']\\n    gamma_13 = p[\\'gamma13\\']\\n    gamma_23 = p[\\'gamma23\\'] \\n    gamma_2d = p[\\'gamma2d\\']\\n    gamma_3d = p[\\'gamma3d\\']\\n    n_b = p[\\'nbath\\']\\n    gamma_mu = p[\\'gammamu\\']\\n    Omega_o = p[\\'omegao\\'] \\n    Omega_mu = p[\\'omegam\\']\\n    g = p[\\'g\\']\\n    \\n    cdef int ii\\n    cdef int jj\\n    \\n    cdef double m2 = p[\\'mean_delta2\\']\\n    cdef double sd2 = p[\\'sd_delta2\\']\\n    cdef double m3 = p[\\'mean_delta3\\']\\n    cdef double sd3 = p[\\'sd_delta3\\']\\n    \\n    cdef int w2,w3\\n    \\n    cdef int ndelta2 = 2*int(3*sd2/df)+1\\n    cdef int ndelta3 = 2*int(3*sd3/df)+1\\n    #print(ndelta2,ndelta3) \\n\\n    delta2vals = np.linspace(-3,3,ndelta2)*sd2+m2\\n    delta3vals = np.linspace(-3,3,ndelta3)*sd3+m3\\n   \\n    cdef double [:] delta2valsv = delta2vals\\n    cdef double [:] delta3valsv = delta3vals\\n\\n    \\n    simpsonw2 = np.empty((ndelta2,),dtype=\\'int32\\')\\n    cdef int [:] simpsonw2v = simpsonw2 \\n    simpsonw3 = np.empty((ndelta3,),dtype=\\'int32\\')\\n    cdef int [:] simpsonw3v = simpsonw3   \\n    \\n    ii=0\\n    while(ii<(ndelta2-1)):\\n        simpsonw2v[ii]=2\\n        ii+=1\\n        simpsonw2v[ii]=4\\n        ii+=1\\n    simpsonw2v[0]=1\\n    simpsonw2v[ndelta2-1]=1\\n          \\n    ii=0\\n    while(ii<(ndelta3-1)):\\n        simpsonw3v[ii]=2\\n        ii+=1\\n        simpsonw3v[ii]=4\\n        ii+=1\\n    simpsonw3v[0]=1\\n    simpsonw3v[ndelta3-1]=1\\n\\n    \\n    \\n    cdef double complex sum = 0\\n    cdef double gaussie\\n    \\n    for ii in prange(ndelta2,nogil=True):\\n    #for ii in range(ndelta2):\\n        delta_2 = delta2valsv[ii]\\n        w2 = simpsonw2v[ii]\\n        for jj in range(ndelta3):\\n            delta_3 = delta3valsv[jj]\\n            w3 = simpsonw3v[jj]\\n            gaussie = 1.0/(2*3.14159265358979323846*sd3*sd2) * exp(-(delta_2-m2)**2/(2*sd2*sd2)-(delta_3-m3)**2/(2*sd3*sd3))\\n            sum += steady_rho13_lots_of_args(a_r,\\n                               a_i,\\n                               delta_2,\\n                               delta_3,\\n                               gamma_13,\\n                               gamma_23,\\n                               gamma_2d,\\n                               gamma_3d,\\n                               n_b,\\n                               gamma_mu,\\n                               Omega_o,\\n                               Omega_mu,\\n                               g)*gaussie*w2*w3\\n    return sum*df*df/9.0\\n\\n\\n# Steady state an ensemble of atoms, returns a matrix of rho13 values as well as the list of \\n# weights from the inhomogeneous broadening distribution.\\n# Convolve the two to get simulate single pass raman heterodyne signal as a function of frequency\\n\\ndef ensemble_steady_rho13(p,delta2vals,delta3vals):\\n    cdef double a_r,a_i,delta_2,delta_3,gamma_13,gamma_23,gamma_2d,gamma_3d,n_b,gamma_mu,Omega_o,Omega_mu,g\\n    a = p[\\'a\\']\\n    a_r = a.real\\n    a_i = a.imag\\n    delta_2 = p[\\'delta2\\']\\n    delta_3 = p[\\'delta3\\']\\n    gamma_13 = p[\\'gamma13\\']\\n    gamma_23 = p[\\'gamma23\\'] \\n    gamma_2d = p[\\'gamma2d\\']\\n    gamma_3d = p[\\'gamma3d\\']\\n    n_b = p[\\'nbath\\']\\n    gamma_mu = p[\\'gammamu\\']\\n    Omega_o = p[\\'omegao\\'] \\n    Omega_mu = p[\\'omegam\\']\\n    g = p[\\'g\\']\\n    \\n    cdef int ii\\n    cdef int jj\\n    \\n    cdef double m2 = p[\\'mean_delta2\\']\\n    cdef double sd2 = p[\\'sd_delta2\\']\\n    cdef double m3 = p[\\'mean_delta3\\']\\n    cdef double sd3 = p[\\'sd_delta3\\']\\n    #print(sd3)\\n    \\n    cdef double [:] delta2valsv = delta2vals\\n    cdef double [:] delta3valsv = delta3vals\\n    \\n    cdef int ndelta2 = len(delta2vals)\\n    cdef int ndelta3 = len(delta3vals)\\n    \\n    cdef double df2 = delta2valsv[1]-delta2valsv[0]\\n    cdef double df3 = delta3valsv[1]-delta3valsv[0]\\n    \\n    coh13 = np.zeros((ndelta2,ndelta3),dtype=\\'complex128\\') #make numpy array\\n    cdef double complex [:,:] coh13v = coh13 #make cython  \"view\" of the data\\n    \\n    w = np.zeros((ndelta2,ndelta3),dtype=\\'complex128\\') #make numpy array for gaussian weights\\n    cdef double complex [:,:] wv = w #make cython  \"view\" of the data\\n    \\n    for ii in prange(ndelta2, nogil=True):\\n    #for ii in range(ndelta2):    \\n        delta_2 = delta2valsv[ii]\\n        #print(\\'delta2 = \\',delta_2)\\n        for jj in range(ndelta3):\\n            delta_3 = delta3valsv[jj]\\n            coh13v[ii,jj] = steady_rho13_lots_of_args(a_r,\\n                               a_i,\\n                               delta_2,\\n                               delta_3,\\n                               gamma_13,\\n                               gamma_23,\\n                               gamma_2d,\\n                               gamma_3d,\\n                               n_b,\\n                               gamma_mu,\\n                               Omega_o,\\n                               Omega_mu,\\n                               g)\\n            wv[ii,jj] = 1.0/(2*3.14159265358979323846*sd3*sd2) * exp(-(delta_2-m2)**2/(2*sd2*sd2)-(delta_3-m3)**2/(2*sd3*sd3))\\n    return (coh13,w)\\n'\u001b[0m\u001b[0;34m)\u001b[0m\u001b[0;34m\u001b[0m\u001b[0m\n\u001b[0m",
      "\u001b[0;32m~/.local/lib/python3.6/site-packages/IPython/core/interactiveshell.py\u001b[0m in \u001b[0;36mrun_cell_magic\u001b[0;34m(self, magic_name, line, cell)\u001b[0m\n\u001b[1;32m   2165\u001b[0m             \u001b[0mmagic_arg_s\u001b[0m \u001b[0;34m=\u001b[0m \u001b[0mself\u001b[0m\u001b[0;34m.\u001b[0m\u001b[0mvar_expand\u001b[0m\u001b[0;34m(\u001b[0m\u001b[0mline\u001b[0m\u001b[0;34m,\u001b[0m \u001b[0mstack_depth\u001b[0m\u001b[0;34m)\u001b[0m\u001b[0;34m\u001b[0m\u001b[0m\n\u001b[1;32m   2166\u001b[0m             \u001b[0;32mwith\u001b[0m \u001b[0mself\u001b[0m\u001b[0;34m.\u001b[0m\u001b[0mbuiltin_trap\u001b[0m\u001b[0;34m:\u001b[0m\u001b[0;34m\u001b[0m\u001b[0m\n\u001b[0;32m-> 2167\u001b[0;31m                 \u001b[0mresult\u001b[0m \u001b[0;34m=\u001b[0m \u001b[0mfn\u001b[0m\u001b[0;34m(\u001b[0m\u001b[0mmagic_arg_s\u001b[0m\u001b[0;34m,\u001b[0m \u001b[0mcell\u001b[0m\u001b[0;34m)\u001b[0m\u001b[0;34m\u001b[0m\u001b[0m\n\u001b[0m\u001b[1;32m   2168\u001b[0m             \u001b[0;32mreturn\u001b[0m \u001b[0mresult\u001b[0m\u001b[0;34m\u001b[0m\u001b[0m\n\u001b[1;32m   2169\u001b[0m \u001b[0;34m\u001b[0m\u001b[0m\n",
      "\u001b[0;32m<decorator-gen-127>\u001b[0m in \u001b[0;36mcython\u001b[0;34m(self, line, cell)\u001b[0m\n",
      "\u001b[0;32m~/.local/lib/python3.6/site-packages/IPython/core/magic.py\u001b[0m in \u001b[0;36m<lambda>\u001b[0;34m(f, *a, **k)\u001b[0m\n\u001b[1;32m    185\u001b[0m     \u001b[0;31m# but it's overkill for just that one bit of state.\u001b[0m\u001b[0;34m\u001b[0m\u001b[0;34m\u001b[0m\u001b[0m\n\u001b[1;32m    186\u001b[0m     \u001b[0;32mdef\u001b[0m \u001b[0mmagic_deco\u001b[0m\u001b[0;34m(\u001b[0m\u001b[0marg\u001b[0m\u001b[0;34m)\u001b[0m\u001b[0;34m:\u001b[0m\u001b[0;34m\u001b[0m\u001b[0m\n\u001b[0;32m--> 187\u001b[0;31m         \u001b[0mcall\u001b[0m \u001b[0;34m=\u001b[0m \u001b[0;32mlambda\u001b[0m \u001b[0mf\u001b[0m\u001b[0;34m,\u001b[0m \u001b[0;34m*\u001b[0m\u001b[0ma\u001b[0m\u001b[0;34m,\u001b[0m \u001b[0;34m**\u001b[0m\u001b[0mk\u001b[0m\u001b[0;34m:\u001b[0m \u001b[0mf\u001b[0m\u001b[0;34m(\u001b[0m\u001b[0;34m*\u001b[0m\u001b[0ma\u001b[0m\u001b[0;34m,\u001b[0m \u001b[0;34m**\u001b[0m\u001b[0mk\u001b[0m\u001b[0;34m)\u001b[0m\u001b[0;34m\u001b[0m\u001b[0m\n\u001b[0m\u001b[1;32m    188\u001b[0m \u001b[0;34m\u001b[0m\u001b[0m\n\u001b[1;32m    189\u001b[0m         \u001b[0;32mif\u001b[0m \u001b[0mcallable\u001b[0m\u001b[0;34m(\u001b[0m\u001b[0marg\u001b[0m\u001b[0;34m)\u001b[0m\u001b[0;34m:\u001b[0m\u001b[0;34m\u001b[0m\u001b[0m\n",
      "\u001b[0;32m~/.local/lib/python3.6/site-packages/Cython/Build/IpythonMagic.py\u001b[0m in \u001b[0;36mcython\u001b[0;34m(self, line, cell)\u001b[0m\n\u001b[1;32m    327\u001b[0m \u001b[0;34m\u001b[0m\u001b[0m\n\u001b[1;32m    328\u001b[0m         self._build_extension(extension, lib_dir, pgo_step_name='use' if args.pgo else None,\n\u001b[0;32m--> 329\u001b[0;31m                               quiet=args.quiet)\n\u001b[0m\u001b[1;32m    330\u001b[0m \u001b[0;34m\u001b[0m\u001b[0m\n\u001b[1;32m    331\u001b[0m         \u001b[0mmodule\u001b[0m \u001b[0;34m=\u001b[0m \u001b[0mimp\u001b[0m\u001b[0;34m.\u001b[0m\u001b[0mload_dynamic\u001b[0m\u001b[0;34m(\u001b[0m\u001b[0mmodule_name\u001b[0m\u001b[0;34m,\u001b[0m \u001b[0mmodule_path\u001b[0m\u001b[0;34m)\u001b[0m\u001b[0;34m\u001b[0m\u001b[0m\n",
      "\u001b[0;32m~/.local/lib/python3.6/site-packages/Cython/Build/IpythonMagic.py\u001b[0m in \u001b[0;36m_build_extension\u001b[0;34m(self, extension, lib_dir, temp_dir, pgo_step_name, quiet)\u001b[0m\n\u001b[1;32m    437\u001b[0m             \u001b[0;32mif\u001b[0m \u001b[0;32mnot\u001b[0m \u001b[0mquiet\u001b[0m\u001b[0;34m:\u001b[0m\u001b[0;34m\u001b[0m\u001b[0m\n\u001b[1;32m    438\u001b[0m                 \u001b[0mold_threshold\u001b[0m \u001b[0;34m=\u001b[0m \u001b[0mdistutils\u001b[0m\u001b[0;34m.\u001b[0m\u001b[0mlog\u001b[0m\u001b[0;34m.\u001b[0m\u001b[0mset_threshold\u001b[0m\u001b[0;34m(\u001b[0m\u001b[0mdistutils\u001b[0m\u001b[0;34m.\u001b[0m\u001b[0mlog\u001b[0m\u001b[0;34m.\u001b[0m\u001b[0mDEBUG\u001b[0m\u001b[0;34m)\u001b[0m\u001b[0;34m\u001b[0m\u001b[0m\n\u001b[0;32m--> 439\u001b[0;31m             \u001b[0mbuild_extension\u001b[0m\u001b[0;34m.\u001b[0m\u001b[0mrun\u001b[0m\u001b[0;34m(\u001b[0m\u001b[0;34m)\u001b[0m\u001b[0;34m\u001b[0m\u001b[0m\n\u001b[0m\u001b[1;32m    440\u001b[0m         \u001b[0;32mfinally\u001b[0m\u001b[0;34m:\u001b[0m\u001b[0;34m\u001b[0m\u001b[0m\n\u001b[1;32m    441\u001b[0m             \u001b[0;32mif\u001b[0m \u001b[0;32mnot\u001b[0m \u001b[0mquiet\u001b[0m \u001b[0;32mand\u001b[0m \u001b[0mold_threshold\u001b[0m \u001b[0;32mis\u001b[0m \u001b[0;32mnot\u001b[0m \u001b[0;32mNone\u001b[0m\u001b[0;34m:\u001b[0m\u001b[0;34m\u001b[0m\u001b[0m\n",
      "\u001b[0;32m/usr/lib/python3.6/distutils/command/build_ext.py\u001b[0m in \u001b[0;36mrun\u001b[0;34m(self)\u001b[0m\n\u001b[1;32m    337\u001b[0m \u001b[0;34m\u001b[0m\u001b[0m\n\u001b[1;32m    338\u001b[0m         \u001b[0;31m# Now actually compile and link everything.\u001b[0m\u001b[0;34m\u001b[0m\u001b[0;34m\u001b[0m\u001b[0m\n\u001b[0;32m--> 339\u001b[0;31m         \u001b[0mself\u001b[0m\u001b[0;34m.\u001b[0m\u001b[0mbuild_extensions\u001b[0m\u001b[0;34m(\u001b[0m\u001b[0;34m)\u001b[0m\u001b[0;34m\u001b[0m\u001b[0m\n\u001b[0m\u001b[1;32m    340\u001b[0m \u001b[0;34m\u001b[0m\u001b[0m\n\u001b[1;32m    341\u001b[0m     \u001b[0;32mdef\u001b[0m \u001b[0mcheck_extensions_list\u001b[0m\u001b[0;34m(\u001b[0m\u001b[0mself\u001b[0m\u001b[0;34m,\u001b[0m \u001b[0mextensions\u001b[0m\u001b[0;34m)\u001b[0m\u001b[0;34m:\u001b[0m\u001b[0;34m\u001b[0m\u001b[0m\n",
      "\u001b[0;32m/usr/lib/python3.6/distutils/command/build_ext.py\u001b[0m in \u001b[0;36mbuild_extensions\u001b[0;34m(self)\u001b[0m\n\u001b[1;32m    446\u001b[0m             \u001b[0mself\u001b[0m\u001b[0;34m.\u001b[0m\u001b[0m_build_extensions_parallel\u001b[0m\u001b[0;34m(\u001b[0m\u001b[0;34m)\u001b[0m\u001b[0;34m\u001b[0m\u001b[0m\n\u001b[1;32m    447\u001b[0m         \u001b[0;32melse\u001b[0m\u001b[0;34m:\u001b[0m\u001b[0;34m\u001b[0m\u001b[0m\n\u001b[0;32m--> 448\u001b[0;31m             \u001b[0mself\u001b[0m\u001b[0;34m.\u001b[0m\u001b[0m_build_extensions_serial\u001b[0m\u001b[0;34m(\u001b[0m\u001b[0;34m)\u001b[0m\u001b[0;34m\u001b[0m\u001b[0m\n\u001b[0m\u001b[1;32m    449\u001b[0m \u001b[0;34m\u001b[0m\u001b[0m\n\u001b[1;32m    450\u001b[0m     \u001b[0;32mdef\u001b[0m \u001b[0m_build_extensions_parallel\u001b[0m\u001b[0;34m(\u001b[0m\u001b[0mself\u001b[0m\u001b[0;34m)\u001b[0m\u001b[0;34m:\u001b[0m\u001b[0;34m\u001b[0m\u001b[0m\n",
      "\u001b[0;32m/usr/lib/python3.6/distutils/command/build_ext.py\u001b[0m in \u001b[0;36m_build_extensions_serial\u001b[0;34m(self)\u001b[0m\n\u001b[1;32m    471\u001b[0m         \u001b[0;32mfor\u001b[0m \u001b[0mext\u001b[0m \u001b[0;32min\u001b[0m \u001b[0mself\u001b[0m\u001b[0;34m.\u001b[0m\u001b[0mextensions\u001b[0m\u001b[0;34m:\u001b[0m\u001b[0;34m\u001b[0m\u001b[0m\n\u001b[1;32m    472\u001b[0m             \u001b[0;32mwith\u001b[0m \u001b[0mself\u001b[0m\u001b[0;34m.\u001b[0m\u001b[0m_filter_build_errors\u001b[0m\u001b[0;34m(\u001b[0m\u001b[0mext\u001b[0m\u001b[0;34m)\u001b[0m\u001b[0;34m:\u001b[0m\u001b[0;34m\u001b[0m\u001b[0m\n\u001b[0;32m--> 473\u001b[0;31m                 \u001b[0mself\u001b[0m\u001b[0;34m.\u001b[0m\u001b[0mbuild_extension\u001b[0m\u001b[0;34m(\u001b[0m\u001b[0mext\u001b[0m\u001b[0;34m)\u001b[0m\u001b[0;34m\u001b[0m\u001b[0m\n\u001b[0m\u001b[1;32m    474\u001b[0m \u001b[0;34m\u001b[0m\u001b[0m\n\u001b[1;32m    475\u001b[0m     \u001b[0;34m@\u001b[0m\u001b[0mcontextlib\u001b[0m\u001b[0;34m.\u001b[0m\u001b[0mcontextmanager\u001b[0m\u001b[0;34m\u001b[0m\u001b[0m\n",
      "\u001b[0;32m/usr/lib/python3.6/distutils/command/build_ext.py\u001b[0m in \u001b[0;36mbuild_extension\u001b[0;34m(self, ext)\u001b[0m\n\u001b[1;32m    531\u001b[0m                                          \u001b[0mdebug\u001b[0m\u001b[0;34m=\u001b[0m\u001b[0mself\u001b[0m\u001b[0;34m.\u001b[0m\u001b[0mdebug\u001b[0m\u001b[0;34m,\u001b[0m\u001b[0;34m\u001b[0m\u001b[0m\n\u001b[1;32m    532\u001b[0m                                          \u001b[0mextra_postargs\u001b[0m\u001b[0;34m=\u001b[0m\u001b[0mextra_args\u001b[0m\u001b[0;34m,\u001b[0m\u001b[0;34m\u001b[0m\u001b[0m\n\u001b[0;32m--> 533\u001b[0;31m                                          depends=ext.depends)\n\u001b[0m\u001b[1;32m    534\u001b[0m \u001b[0;34m\u001b[0m\u001b[0m\n\u001b[1;32m    535\u001b[0m         \u001b[0;31m# XXX outdated variable, kept here in case third-part code\u001b[0m\u001b[0;34m\u001b[0m\u001b[0;34m\u001b[0m\u001b[0m\n",
      "\u001b[0;32m/usr/lib/python3.6/distutils/ccompiler.py\u001b[0m in \u001b[0;36mcompile\u001b[0;34m(self, sources, output_dir, macros, include_dirs, debug, extra_preargs, extra_postargs, depends)\u001b[0m\n\u001b[1;32m    572\u001b[0m             \u001b[0;32mexcept\u001b[0m \u001b[0mKeyError\u001b[0m\u001b[0;34m:\u001b[0m\u001b[0;34m\u001b[0m\u001b[0m\n\u001b[1;32m    573\u001b[0m                 \u001b[0;32mcontinue\u001b[0m\u001b[0;34m\u001b[0m\u001b[0m\n\u001b[0;32m--> 574\u001b[0;31m             \u001b[0mself\u001b[0m\u001b[0;34m.\u001b[0m\u001b[0m_compile\u001b[0m\u001b[0;34m(\u001b[0m\u001b[0mobj\u001b[0m\u001b[0;34m,\u001b[0m \u001b[0msrc\u001b[0m\u001b[0;34m,\u001b[0m \u001b[0mext\u001b[0m\u001b[0;34m,\u001b[0m \u001b[0mcc_args\u001b[0m\u001b[0;34m,\u001b[0m \u001b[0mextra_postargs\u001b[0m\u001b[0;34m,\u001b[0m \u001b[0mpp_opts\u001b[0m\u001b[0;34m)\u001b[0m\u001b[0;34m\u001b[0m\u001b[0m\n\u001b[0m\u001b[1;32m    575\u001b[0m \u001b[0;34m\u001b[0m\u001b[0m\n\u001b[1;32m    576\u001b[0m         \u001b[0;31m# Return *all* object filenames, not just the ones we just built.\u001b[0m\u001b[0;34m\u001b[0m\u001b[0;34m\u001b[0m\u001b[0m\n",
      "\u001b[0;32m/usr/lib/python3.6/distutils/unixccompiler.py\u001b[0m in \u001b[0;36m_compile\u001b[0;34m(self, obj, src, ext, cc_args, extra_postargs, pp_opts)\u001b[0m\n\u001b[1;32m    118\u001b[0m                        extra_postargs)\n\u001b[1;32m    119\u001b[0m         \u001b[0;32mexcept\u001b[0m \u001b[0mDistutilsExecError\u001b[0m \u001b[0;32mas\u001b[0m \u001b[0mmsg\u001b[0m\u001b[0;34m:\u001b[0m\u001b[0;34m\u001b[0m\u001b[0m\n\u001b[0;32m--> 120\u001b[0;31m             \u001b[0;32mraise\u001b[0m \u001b[0mCompileError\u001b[0m\u001b[0;34m(\u001b[0m\u001b[0mmsg\u001b[0m\u001b[0;34m)\u001b[0m\u001b[0;34m\u001b[0m\u001b[0m\n\u001b[0m\u001b[1;32m    121\u001b[0m \u001b[0;34m\u001b[0m\u001b[0m\n\u001b[1;32m    122\u001b[0m     def create_static_lib(self, objects, output_libname,\n",
      "\u001b[0;31mCompileError\u001b[0m: command 'x86_64-linux-gnu-gcc' failed with exit status 1"
     ]
    }
   ],
   "source": [
    "%%cython --compile-args=-fopenmp --link-args=-fopenmp \n",
    "#### %%cython -a # this gives \"highligted\" output\n",
    "\n",
    "#cython: boundscheck=False, wraparound=False, nonecheck=False\n",
    "cimport cython\n",
    "import numpy as np\n",
    "from cython.parallel cimport prange\n",
    "cimport scipy.linalg.cython_lapack as lapack\n",
    "import numpy as np\n",
    "from libc.math cimport exp\n",
    "\n",
    "\n",
    "cdef int nextpow2(int x):\n",
    "    cdef int n=1\n",
    "    while(True):\n",
    "        if n>=x:\n",
    "            return n\n",
    "        n=2*n\n",
    "\n",
    "def steady_rho13(p):\n",
    "    cdef double a_r,a_i,delta_2,delta_3,gamma_13,gamma_23,gamma_2d,gamma_3d,n_b,gamma_mu,Omega_o,Omega_mu,g\n",
    "    cdef double L[81]\n",
    "    cdef double V[9]\n",
    "    cdef int n = 9\n",
    "    cdef double complex a\n",
    "    cdef int info\n",
    "    cdef int lda = 9\n",
    "    cdef int ldb = 9 \n",
    "    cdef int nrhs = 1\n",
    "    cdef int workspace[9]\n",
    "    \n",
    "    V[:]= [1,0,0, 0,0,0, 0,0,0]\n",
    "    a = p['a']\n",
    "    a_r = a.real\n",
    "    a_i = a.imag\n",
    "    delta_2 = p['delta2']\n",
    "    delta_3 = p['delta3']\n",
    "    gamma_13 = p['gamma13']\n",
    "    gamma_23 = p['gamma23'] \n",
    "    gamma_2d = p['gamma2d']\n",
    "    gamma_3d = p['gamma3d']\n",
    "    n_b = p['nbath']\n",
    "    gamma_mu = p['gammamu']\n",
    "    Omega_o = p['omegao'] \n",
    "    Omega_mu = p['omegam']\n",
    "    g = p['g']\n",
    " #   with nogil: # to make sure it's not doing any slow python calls\n",
    "    L[:] = (1, gamma_mu*n_b, 0, 0, Omega_mu, a_i*g, a_r*g, 0, 0, 1, -gamma_mu*(n_b + 1), 0, 0, -Omega_mu, 0, 0, 0, Omega_o, 1, gamma_23, -gamma_13 - gamma_23, 0, 0, -a_i*g, -a_r*g, 0, -Omega_o, 0, 0, 0, -1.0/2.0*gamma_2d - gamma_mu*n_b - 1.0/2.0*gamma_mu, delta_2, 0, Omega_o, a_i*g, a_r*g, 0, 2*Omega_mu, 0, -delta_2, -1.0/2.0*gamma_2d - gamma_mu*n_b - 1.0/2.0*gamma_mu, -Omega_o, 0, a_r*g, -a_i*g, 0, 0, 2*a_i*g, 0, Omega_o, -1.0/2.0*gamma_13 - 1.0/2.0*gamma_23 - 1.0/2.0*gamma_3d - 1.0/2.0*gamma_mu*n_b, delta_3, 0, -Omega_mu, 0, 0, 2*a_r*g, -Omega_o, 0, -delta_3, -1.0/2.0*gamma_13 - 1.0/2.0*gamma_23 - 1.0/2.0*gamma_3d - 1.0/2.0*gamma_mu*n_b, Omega_mu, 0, 0, 0, 0, -a_i*g, -a_r*g, 0, -Omega_mu, -1.0/2.0*gamma_13 - 1.0/2.0*gamma_23 - 1.0/2.0*gamma_2d - 1.0/2.0*gamma_3d - 1.0/2.0*gamma_mu*(n_b + 1), -delta_2 + delta_3, 0, -2*Omega_o, 2*Omega_o, -a_r*g, a_i*g, Omega_mu, 0, delta_2 - delta_3, -1.0/2.0*gamma_13 - 1.0/2.0*gamma_23 - 1.0/2.0*gamma_2d - 1.0/2.0*gamma_3d - 1.0/2.0*gamma_mu*(n_b + 1))\n",
    "    \n",
    "    lapack.dgesv(&n,&nrhs,L,&lda,workspace,V,&ldb,&info)\n",
    "    return V[5]+1j*V[6]\n",
    "\n",
    "\n",
    "cdef double complex steady_rho13_lots_of_args(double a_r,\n",
    "                               double a_i,\n",
    "                               double delta_2,\n",
    "                               double delta_3,\n",
    "                               double gamma_13,\n",
    "                               double gamma_23,\n",
    "                               double gamma_2d,\n",
    "                               double gamma_3d,\n",
    "                               double n_b,\n",
    "                               double gamma_mu,\n",
    "                               double Omega_o,\n",
    "                               double Omega_mu,\n",
    "                               double g) nogil:\n",
    "    cdef double L[81]\n",
    "    cdef double V[9]\n",
    "    cdef int n = 9\n",
    "    cdef double complex a\n",
    "    cdef int info\n",
    "    cdef int lda = 9\n",
    "    cdef int ldb = 9 \n",
    "    cdef int nrhs = 1\n",
    "    cdef int workspace[9]\n",
    "    cdef int k\n",
    "  \n",
    "    # Unfortunately cant use this syntax if we dont have dont have GIL\n",
    "    #V[:] = [1,0,0, 0,0,0, 0,0,0]\n",
    "    #L[:] = (1, gamma_mu*n_b, 0, 0, Omega_mu, a_i*g, a_r*g, 0, 0, 1, -gamma_mu*(n_b + 1), 0, 0, -Omega_mu, 0, 0, 0, Omega_o, 1, gamma_23, -gamma_13 - gamma_23, 0, 0, -a_i*g, -a_r*g, 0, -Omega_o, 0, 0, 0, -1.0/2.0*gamma_2d - gamma_mu*n_b - 1.0/2.0*gamma_mu, delta_2, 0, Omega_o, a_i*g, a_r*g, 0, 2*Omega_mu, 0, -delta_2, -1.0/2.0*gamma_2d - gamma_mu*n_b - 1.0/2.0*gamma_mu, -Omega_o, 0, a_r*g, -a_i*g, 0, 0, 2*a_i*g, 0, Omega_o, -1.0/2.0*gamma_13 - 1.0/2.0*gamma_23 - 1.0/2.0*gamma_3d - 1.0/2.0*gamma_mu*n_b, delta_3, 0, -Omega_mu, 0, 0, 2*a_r*g, -Omega_o, 0, -delta_3, -1.0/2.0*gamma_13 - 1.0/2.0*gamma_23 - 1.0/2.0*gamma_3d - 1.0/2.0*gamma_mu*n_b, Omega_mu, 0, 0, 0, 0, -a_i*g, -a_r*g, 0, -Omega_mu, -1.0/2.0*gamma_13 - 1.0/2.0*gamma_23 - 1.0/2.0*gamma_2d - 1.0/2.0*gamma_3d - 1.0/2.0*gamma_mu*(n_b + 1), -delta_2 + delta_3, 0, -2*Omega_o, 2*Omega_o, -a_r*g, a_i*g, Omega_mu, 0, delta_2 - delta_3, -1.0/2.0*gamma_13 - 1.0/2.0*gamma_23 - 1.0/2.0*gamma_2d - 1.0/2.0*gamma_3d - 1.0/2.0*gamma_mu*(n_b + 1))\n",
    "    \n",
    "    for k in range(9):\n",
    "        V[k] = 0\n",
    "    V[0] = 1\n",
    "    \n",
    "    L[0] = 1\n",
    "    L[1] = gamma_mu*n_b\n",
    "    L[2] = 0\n",
    "    L[3] = 0\n",
    "    L[4] = Omega_mu\n",
    "    L[5] = a_i*g\n",
    "    L[6] = a_r*g\n",
    "    L[7] = 0\n",
    "    L[8] = 0\n",
    "    L[9] = 1\n",
    "    L[10] = -gamma_mu*(n_b + 1)\n",
    "    L[11] = 0\n",
    "    L[12] = 0\n",
    "    L[13] = -Omega_mu\n",
    "    L[14] = 0\n",
    "    L[15] = 0\n",
    "    L[16] = 0\n",
    "    L[17] = Omega_o\n",
    "    L[18] = 1\n",
    "    L[19] = gamma_23\n",
    "    L[20] = -gamma_13 - gamma_23\n",
    "    L[21] = 0\n",
    "    L[22] = 0\n",
    "    L[23] = -a_i*g\n",
    "    L[24] = -a_r*g\n",
    "    L[25] = 0\n",
    "    L[26] = -Omega_o\n",
    "    L[27] = 0\n",
    "    L[28] = 0\n",
    "    L[29] = 0\n",
    "    L[30] = -1.0/2.0*gamma_2d - gamma_mu*n_b - 1.0/2.0*gamma_mu\n",
    "    L[31] = delta_2\n",
    "    L[32] = 0\n",
    "    L[33] = Omega_o\n",
    "    L[34] = a_i*g\n",
    "    L[35] = a_r*g\n",
    "    L[36] = 0\n",
    "    L[37] = 2*Omega_mu\n",
    "    L[38] = 0\n",
    "    L[39] = -delta_2\n",
    "    L[40] = -1.0/2.0*gamma_2d - gamma_mu*n_b - 1.0/2.0*gamma_mu\n",
    "    L[41] = -Omega_o\n",
    "    L[42] = 0\n",
    "    L[43] = a_r*g\n",
    "    L[44] = -a_i*g\n",
    "    L[45] = 0\n",
    "    L[46] = 0\n",
    "    L[47] = 2*a_i*g\n",
    "    L[48] = 0\n",
    "    L[49] = Omega_o\n",
    "    L[50] = -1.0/2.0*gamma_13 - 1.0/2.0*gamma_23 - 1.0/2.0*gamma_3d - 1.0/2.0*gamma_mu*n_b\n",
    "    L[51] = delta_3\n",
    "    L[52] = 0\n",
    "    L[53] = -Omega_mu\n",
    "    L[54] = 0\n",
    "    L[55] = 0\n",
    "    L[56] = 2*a_r*g\n",
    "    L[57] = -Omega_o\n",
    "    L[58] = 0\n",
    "    L[59] = -delta_3\n",
    "    L[60] = -1.0/2.0*gamma_13 - 1.0/2.0*gamma_23 - 1.0/2.0*gamma_3d - 1.0/2.0*gamma_mu*n_b\n",
    "    L[61] = Omega_mu\n",
    "    L[62] = 0\n",
    "    L[63] = 0\n",
    "    L[64] = 0\n",
    "    L[65] = 0\n",
    "    L[66] = -a_i*g\n",
    "    L[67] = -a_r*g\n",
    "    L[68] = 0\n",
    "    L[69] = -Omega_mu\n",
    "    L[70] = -1.0/2.0*gamma_13 - 1.0/2.0*gamma_23 - 1.0/2.0*gamma_2d - 1.0/2.0*gamma_3d - 1.0/2.0*gamma_mu*(n_b + 1)\n",
    "    L[71] = -delta_2 + delta_3\n",
    "    L[72] = 0\n",
    "    L[73] = -2*Omega_o\n",
    "    L[74] = 2*Omega_o\n",
    "    L[75] = -a_r*g\n",
    "    L[76] = a_i*g\n",
    "    L[77] = Omega_mu\n",
    "    L[78] = 0\n",
    "    L[79] = delta_2 - delta_3\n",
    "    L[80] = -1.0/2.0*gamma_13 - 1.0/2.0*gamma_23 - 1.0/2.0*gamma_2d - 1.0/2.0*gamma_3d - 1.0/2.0*gamma_mu*(n_b + 1)\n",
    "    lapack.dgesv(&n,&nrhs,L,&lda,workspace,V,&ldb,&info)\n",
    "    return V[5]+1j*V[6]\n",
    "\n",
    "\n",
    "\n",
    "# Integrate over an ensemble using simpson's rule\n",
    "def ensemble_steady_rho13_integrated(p,double df):\n",
    "    #cdef double df = 200e3 #frequency discretization\n",
    "    cdef double a_r,a_i,delta_2,delta_3,gamma_13,gamma_23,gamma_2d,gamma_3d,n_b,gamma_mu,Omega_o,Omega_mu,g\n",
    "    a = p['a']\n",
    "    a_r = a.real\n",
    "    a_i = a.imag\n",
    "    delta_2 = p['delta2']\n",
    "    delta_3 = p['delta3']\n",
    "    gamma_13 = p['gamma13']\n",
    "    gamma_23 = p['gamma23'] \n",
    "    gamma_2d = p['gamma2d']\n",
    "    gamma_3d = p['gamma3d']\n",
    "    n_b = p['nbath']\n",
    "    gamma_mu = p['gammamu']\n",
    "    Omega_o = p['omegao'] \n",
    "    Omega_mu = p['omegam']\n",
    "    g = p['g']\n",
    "    \n",
    "    cdef int ii\n",
    "    cdef int jj\n",
    "    \n",
    "    cdef double m2 = p['mean_delta2']\n",
    "    cdef double sd2 = p['sd_delta2']\n",
    "    cdef double m3 = p['mean_delta3']\n",
    "    cdef double sd3 = p['sd_delta3']\n",
    "    \n",
    "    cdef int w2,w3\n",
    "    \n",
    "    cdef int ndelta2 = 2*int(3*sd2/df)+1\n",
    "    cdef int ndelta3 = 2*int(3*sd3/df)+1\n",
    "    #print(ndelta2,ndelta3) \n",
    "\n",
    "    delta2vals = np.linspace(-3,3,ndelta2)*sd2+m2\n",
    "    delta3vals = np.linspace(-3,3,ndelta3)*sd3+m3\n",
    "   \n",
    "    cdef double [:] delta2valsv = delta2vals\n",
    "    cdef double [:] delta3valsv = delta3vals\n",
    "\n",
    "    \n",
    "    simpsonw2 = np.empty((ndelta2,),dtype='int32')\n",
    "    cdef int [:] simpsonw2v = simpsonw2 \n",
    "    simpsonw3 = np.empty((ndelta3,),dtype='int32')\n",
    "    cdef int [:] simpsonw3v = simpsonw3   \n",
    "    \n",
    "    ii=0\n",
    "    while(ii<(ndelta2-1)):\n",
    "        simpsonw2v[ii]=2\n",
    "        ii+=1\n",
    "        simpsonw2v[ii]=4\n",
    "        ii+=1\n",
    "    simpsonw2v[0]=1\n",
    "    simpsonw2v[ndelta2-1]=1\n",
    "          \n",
    "    ii=0\n",
    "    while(ii<(ndelta3-1)):\n",
    "        simpsonw3v[ii]=2\n",
    "        ii+=1\n",
    "        simpsonw3v[ii]=4\n",
    "        ii+=1\n",
    "    simpsonw3v[0]=1\n",
    "    simpsonw3v[ndelta3-1]=1\n",
    "\n",
    "    \n",
    "    \n",
    "    cdef double complex sum = 0\n",
    "    cdef double gaussie\n",
    "    \n",
    "    for ii in prange(ndelta2,nogil=True):\n",
    "    #for ii in range(ndelta2):\n",
    "        delta_2 = delta2valsv[ii]\n",
    "        w2 = simpsonw2v[ii]\n",
    "        for jj in range(ndelta3):\n",
    "            delta_3 = delta3valsv[jj]\n",
    "            w3 = simpsonw3v[jj]\n",
    "            gaussie = 1.0/(2*3.14159265358979323846*sd3*sd2) * exp(-(delta_2-m2)**2/(2*sd2*sd2)-(delta_3-m3)**2/(2*sd3*sd3))\n",
    "            sum += steady_rho13_lots_of_args(a_r,\n",
    "                               a_i,\n",
    "                               delta_2,\n",
    "                               delta_3,\n",
    "                               gamma_13,\n",
    "                               gamma_23,\n",
    "                               gamma_2d,\n",
    "                               gamma_3d,\n",
    "                               n_b,\n",
    "                               gamma_mu,\n",
    "                               Omega_o,\n",
    "                               Omega_mu,\n",
    "                               g)*gaussie*w2*w3\n",
    "    return sum*df*df/9.0\n",
    "\n",
    "\n",
    "# Steady state an ensemble of atoms, returns a matrix of rho13 values as well as the list of \n",
    "# weights from the inhomogeneous broadening distribution.\n",
    "# Convolve the two to get simulate single pass raman heterodyne signal as a function of frequency\n",
    "\n",
    "def ensemble_steady_rho13(p,delta2vals,delta3vals):\n",
    "    cdef double a_r,a_i,delta_2,delta_3,gamma_13,gamma_23,gamma_2d,gamma_3d,n_b,gamma_mu,Omega_o,Omega_mu,g\n",
    "    a = p['a']\n",
    "    a_r = a.real\n",
    "    a_i = a.imag\n",
    "    delta_2 = p['delta2']\n",
    "    delta_3 = p['delta3']\n",
    "    gamma_13 = p['gamma13']\n",
    "    gamma_23 = p['gamma23'] \n",
    "    gamma_2d = p['gamma2d']\n",
    "    gamma_3d = p['gamma3d']\n",
    "    n_b = p['nbath']\n",
    "    gamma_mu = p['gammamu']\n",
    "    Omega_o = p['omegao'] \n",
    "    Omega_mu = p['omegam']\n",
    "    g = p['g']\n",
    "    \n",
    "    cdef int ii\n",
    "    cdef int jj\n",
    "    \n",
    "    cdef double m2 = p['mean_delta2']\n",
    "    cdef double sd2 = p['sd_delta2']\n",
    "    cdef double m3 = p['mean_delta3']\n",
    "    cdef double sd3 = p['sd_delta3']\n",
    "    #print(sd3)\n",
    "    \n",
    "    cdef double [:] delta2valsv = delta2vals\n",
    "    cdef double [:] delta3valsv = delta3vals\n",
    "    \n",
    "    cdef int ndelta2 = len(delta2vals)\n",
    "    cdef int ndelta3 = len(delta3vals)\n",
    "    \n",
    "    cdef double df2 = delta2valsv[1]-delta2valsv[0]\n",
    "    cdef double df3 = delta3valsv[1]-delta3valsv[0]\n",
    "    \n",
    "    coh13 = np.zeros((ndelta2,ndelta3),dtype='complex128') #make numpy array\n",
    "    cdef double complex [:,:] coh13v = coh13 #make cython  \"view\" of the data\n",
    "    \n",
    "    w = np.zeros((ndelta2,ndelta3),dtype='complex128') #make numpy array for gaussian weights\n",
    "    cdef double complex [:,:] wv = w #make cython  \"view\" of the data\n",
    "    \n",
    "    for ii in prange(ndelta2, nogil=True):\n",
    "    #for ii in range(ndelta2):    \n",
    "        delta_2 = delta2valsv[ii]\n",
    "        #for jj in range(ndelta3):\n",
    "        #    delta_3 = delta3valsv[jj]\n",
    "        #    coh13v[ii,jj] = steady_rho13_lots_of_args(a_r,\n",
    "        #                       a_i,\n",
    "        #                       delta_2,\n",
    "        #                       delta_3,\n",
    "        #                       gamma_13,\n",
    "        #                       gamma_23,\n",
    "        #                       gamma_2d,\n",
    "        #                       gamma_3d,\n",
    "        #                       n_b,\n",
    "        #                       gamma_mu,\n",
    "        #                       Omega_o,\n",
    "        #                       Omega_mu,\n",
    "        #                       g)\n",
    "    return (coh13,w)\n",
    "\n"
   ]
  },
  {
   "cell_type": "markdown",
   "metadata": {},
   "source": [
    "# Single pass signals without inhomogenous broadening"
   ]
  },
  {
   "cell_type": "markdown",
   "metadata": {},
   "source": [
    "## weird behavior -- driving both microwave and optical pump hard \n",
    "- Signal persists at very high microwave detuning \n",
    "- EIT like features"
   ]
  },
  {
   "cell_type": "code",
   "execution_count": 30,
   "metadata": {},
   "outputs": [
    {
     "data": {
      "image/png": "[encoded data removed]",
      "text/plain": [
       "<Figure size 720x288 with 2 Axes>"
      ]
     },
     "metadata": {},
     "output_type": "display_data"
    }
   ],
   "source": [
    "#some default parameters\n",
    "p = {}\n",
    "p['a'] = 0\n",
    "p['delta2'] = 0.\n",
    "p['delta3'] = 0.\n",
    "p['gamma13'] = 1./22e-3\n",
    "p['gamma23'] = 1./22e-3\n",
    "p['gamma2d'] = 1./1e-6\n",
    "p['gamma3d'] = 1./1e-6\n",
    "p['nbath'] = 20\n",
    "p['gammamu'] = 1./((p['nbath']+1)*11e-3)\n",
    "p['omegao'] = 10e6\n",
    "p['omegam'] = 10e6\n",
    "p['g'] = 0.\n",
    "\n",
    "# Code currently requires these, even if we're not interested in\n",
    "# inhomogeneous brodening for the moment\n",
    "p['mean_delta2']=0 \n",
    "p['sd_delta2']=20e6/2.355 #2.355 is to turn FWHM into standard deviation\n",
    "p['mean_delta3']=0\n",
    "p['sd_delta3']=300e6/2.355\n",
    "\n",
    "delta2vals = np.linspace(-10000e6,10000e6,501)\n",
    "delta3vals = np.linspace(-100e6,100e6,501)\n",
    "\n",
    "coh,_ = ensemble_steady_rho13(p,delta2vals,delta3vals)       \n",
    "\n",
    "plt.rcParams['figure.figsize'] = [10, 4]\n",
    "plt.imshow(np.abs(coh),extent = [min(delta3vals)/1e6,max(delta3vals)/1e6,max(delta2vals)/1e6,min(delta2vals)/1e6],aspect='auto')\n",
    "plt.ylabel('delta_2')\n",
    "plt.xlabel('delta_3')\n",
    "plt.colorbar();"
   ]
  },
  {
   "cell_type": "markdown",
   "metadata": {},
   "source": [
    "## Strong optical pump, weak microwaves"
   ]
  },
  {
   "cell_type": "code",
   "execution_count": null,
   "metadata": {},
   "outputs": [],
   "source": [
    "#some default parameters\n",
    "p = {}\n",
    "p['a'] = 0.0\n",
    "p['delta2'] = 0.0\n",
    "p['delta3'] = 0.0\n",
    "p['gamma13'] = 1./22e-3\n",
    "p['gamma23'] = 1./22e-3\n",
    "p['gamma2d'] = 1./1e-6\n",
    "p['gamma3d'] = 1./1e-6\n",
    "p['nbath'] = 20\n",
    "p['gammamu'] = 1./((p['nbath']+1)*11e-3)\n",
    "p['omegao'] = 10e6\n",
    "p['omegam'] = 1e3\n",
    "p['g'] = 0.0\n",
    "\n",
    "\n",
    "# Code currently requires these, even if we're not interested in\n",
    "# inhomogeneous brodening for the moment\n",
    "p['mean_delta2']=0 \n",
    "p['sd_delta2']=20e6/2.355 #2.355 is to turn FWHM into standard deviation\n",
    "p['mean_delta3']=0\n",
    "p['sd_delta3']=300e6/2.355\n",
    "\n",
    "\n",
    "delta2vals = np.linspace(-50e6,50e6,505)\n",
    "delta3vals = np.linspace(-50e6,50e6,505)\n",
    "\n",
    "     \n",
    "coh,_ = ensemble_steady_rho13(p,delta2vals,delta3vals)       \n",
    "coh = np.abs(coh)\n",
    "\n",
    "plt.rcParams['figure.figsize'] = [10, 4]\n",
    "plt.imshow(coh,extent = [min(delta3vals)/1e6,max(delta3vals)/1e6,max(delta2vals)/1e6,min(delta2vals)/1e6],aspect='auto')\n",
    "plt.ylabel('delta_2')\n",
    "plt.xlabel('delta_3')\n",
    "plt.colorbar();\n"
   ]
  },
  {
   "cell_type": "markdown",
   "metadata": {},
   "source": [
    "## Strong microwaves, weak optical pump"
   ]
  },
  {
   "cell_type": "code",
   "execution_count": null,
   "metadata": {},
   "outputs": [],
   "source": [
    "#some default parameters\n",
    "p = {}\n",
    "p['a'] = 0\n",
    "p['delta2'] = 0.\n",
    "p['delta3'] = 0.\n",
    "p['gamma13'] = 1./22e-3\n",
    "p['gamma23'] = 1./22e-3\n",
    "p['gamma2d'] = 1./1e-6\n",
    "p['gamma3d'] = 1./1e-6\n",
    "p['nbath'] = 20\n",
    "p['gammamu'] = 1./((p['nbath']+1)*11e-3)\n",
    "p['omegao'] = 1e3\n",
    "p['omegam'] = 10e6\n",
    "p['g'] = 0.\n",
    "\n",
    "# Code currently requires these, even if we're not interested in\n",
    "# inhomogeneous brodening for the moment\n",
    "p['mean_delta2']=0 \n",
    "p['sd_delta2']=20e6/2.355 #2.355 is to turn FWHM into standard deviation\n",
    "p['mean_delta3']=0\n",
    "p['sd_delta3']=300e6/2.355\n",
    "\n",
    "delta2vals = np.linspace(-40e6,40e6,501)\n",
    "delta3vals = np.linspace(-40e6,40e6,501)\n",
    "\n",
    "   \n",
    "coh,_ = ensemble_steady_rho13(p,delta2vals,delta3vals)       \n",
    "coh = np.abs(coh)\n",
    "\n",
    "\n",
    "plt.rcParams['figure.figsize'] = [8, 4]\n",
    "plt.imshow(coh,extent = [min(delta3vals)/1e6,max(delta3vals)/1e6,max(delta2vals)/1e6,min(delta2vals)/1e6],aspect='auto')\n",
    "plt.ylabel('delta_2')\n",
    "plt.xlabel('delta_3')\n",
    "plt.colorbar();"
   ]
  },
  {
   "cell_type": "markdown",
   "metadata": {},
   "source": [
    "## Both microwaves and optical pump weak"
   ]
  },
  {
   "cell_type": "code",
   "execution_count": null,
   "metadata": {},
   "outputs": [],
   "source": [
    "p = {}\n",
    "p['a'] = 0\n",
    "p['delta2'] = 0.\n",
    "p['delta3'] = 0.\n",
    "p['gamma13'] = 1./22e-3\n",
    "p['gamma23'] = 1./22e-3\n",
    "p['gamma2d'] = 1./1e-6\n",
    "p['gamma3d'] = 1./1e-6\n",
    "p['nbath'] = 20\n",
    "p['gammamu'] = 1./((p['nbath']+1)*11e-3)\n",
    "p['omegao'] = 1e3\n",
    "p['omegam'] = 1e3\n",
    "p['g'] = 0.\n",
    "\n",
    "# Code currently requires these, even if we're not interested in\n",
    "# inhomogeneous brodening for the moment\n",
    "p['mean_delta2']=0 \n",
    "p['sd_delta2']=20e6/2.355 #2.355 is to turn FWHM into standard deviation\n",
    "p['mean_delta3']=0\n",
    "p['sd_delta3']=300e6/2.355\n",
    "\n",
    "delta2vals = np.linspace(-5e6,5e6,501)\n",
    "delta3vals = np.linspace(-5e6,5e6,501)\n",
    "\n",
    "coh,_ = ensemble_steady_rho13(p,delta2vals,delta3vals)       \n",
    "coh = np.abs(coh)\n",
    "\n",
    "plt.rcParams['figure.figsize'] = [8, 4]\n",
    "plt.imshow(coh,extent = [min(delta3vals)/1e6,max(delta3vals)/1e6,max(delta2vals)/1e6,min(delta2vals)/1e6],aspect='auto')\n",
    "plt.ylabel('delta_2')\n",
    "plt.xlabel('delta_3')\n",
    "plt.colorbar();"
   ]
  },
  {
   "cell_type": "markdown",
   "metadata": {},
   "source": [
    "# Simulated single pass signal with inhomogneous broadening\n",
    "\n"
   ]
  },
  {
   "cell_type": "code",
   "execution_count": 27,
   "metadata": {},
   "outputs": [
    {
     "name": "stdout",
     "output_type": "stream",
     "text": [
      "CPU times: user 25.3 s, sys: 2.37 s, total: 27.7 s\n",
      "Wall time: 14 s\n"
     ]
    }
   ],
   "source": [
    "%%time \n",
    "p = {}\n",
    "p['a'] = 0\n",
    "p['delta2'] = 0.\n",
    "p['delta3'] = 0.\n",
    "p['gamma13'] = 1./22e-3\n",
    "p['gamma23'] = 1./22e-3\n",
    "p['gamma2d'] = 1./.1e-6 #unrealistically fast, but makes calculations easier\n",
    "p['gamma3d'] = 1./.1e-6\n",
    "p['nbath'] = 20\n",
    "p['gammamu'] = 1./((p['nbath']+1)*11e-3)\n",
    "p['omegao'] = 60e6\n",
    "p['omegam'] = 1e3\n",
    "p['g'] = 0.\n",
    "\n",
    "p['mean_delta2']=0\n",
    "p['sd_delta2']=20e6\n",
    "p['mean_delta3']=0\n",
    "p['sd_delta3']=20e6 #not realistic but makes calculations faster\n",
    "\n",
    "delta2vals = np.linspace(-100e6,100e6,1000)\n",
    "delta3vals = np.linspace(-1000e6,1000e6,10000)\n",
    "\n",
    "(coh13,w) = ensemble_steady_rho13(p,delta2vals,delta3vals)\n",
    "sig = signal.fftconvolve(coh13,w)"
   ]
  },
  {
   "cell_type": "code",
   "execution_count": 28,
   "metadata": {},
   "outputs": [
    {
     "data": {
      "image/png": "[encoded data removed]",
      "text/plain": [
       "<Figure size 720x1440 with 6 Axes>"
      ]
     },
     "metadata": {},
     "output_type": "display_data"
    }
   ],
   "source": [
    "plt.rcParams['figure.figsize'] = [10, 20]\n",
    "plt.subplot(3,1,1)        \n",
    "plt.imshow(np.abs(coh13),extent = [min(delta3vals)/1e6,max(delta3vals)/1e6,max(delta2vals)/1e6,min(delta2vals)/1e6],aspect='auto')\n",
    "plt.ylabel('delta_2')\n",
    "plt.xlabel('delta_3')\n",
    "plt.title('Signal from inhomogenous packet')\n",
    "plt.colorbar();\n",
    "\n",
    "plt.subplot(3,1,2)\n",
    "plt.imshow(w.real,extent = [min(delta3vals)/1e6,max(delta3vals)/1e6,max(delta2vals)/1e6,min(delta2vals)/1e6],aspect='auto')\n",
    "plt.ylabel('delta_2')\n",
    "plt.xlabel('delta_3')\n",
    "plt.title('Inhomogeneous broadening distribution')\n",
    "plt.colorbar();\n",
    "\n",
    "plt.subplot(3,1,3)\n",
    "plt.imshow(np.abs(sig),extent = [min(delta3vals)/1e6,max(delta3vals)/1e6,max(delta2vals)/1e6,min(delta2vals)/1e6],aspect='auto')\n",
    "plt.ylabel('delta_2')\n",
    "plt.xlabel('delta_3')\n",
    "plt.title('simulated single pass signal')\n",
    "plt.colorbar();"
   ]
  },
  {
   "cell_type": "code",
   "execution_count": null,
   "metadata": {},
   "outputs": [],
   "source": []
  },
  {
   "cell_type": "code",
   "execution_count": null,
   "metadata": {},
   "outputs": [],
   "source": [
    "#to test convergence of Simpson integration\n",
    "list(map( lambda df: ensemble_steady_rho13_integrated(p,df).real, [800e3,400e3,200e3,100e3,50e3]))"
   ]
  },
  {
   "cell_type": "code",
   "execution_count": null,
   "metadata": {},
   "outputs": [],
   "source": [
    "%time ensemble_steady_rho13_integrated(p,100e3)"
   ]
  },
  {
   "cell_type": "markdown",
   "metadata": {},
   "source": [
    "\n",
    "\n",
    "\n"
   ]
  },
  {
   "cell_type": "code",
   "execution_count": null,
   "metadata": {},
   "outputs": [],
   "source": []
  },
  {
   "cell_type": "code",
   "execution_count": null,
   "metadata": {},
   "outputs": [],
   "source": []
  },
  {
   "cell_type": "code",
   "execution_count": null,
   "metadata": {},
   "outputs": [],
   "source": []
  },
  {
   "cell_type": "code",
   "execution_count": null,
   "metadata": {},
   "outputs": [],
   "source": []
  },
  {
   "cell_type": "code",
   "execution_count": null,
   "metadata": {},
   "outputs": [],
   "source": []
  },
  {
   "cell_type": "code",
   "execution_count": null,
   "metadata": {},
   "outputs": [],
   "source": []
  },
  {
   "cell_type": "code",
   "execution_count": null,
   "metadata": {},
   "outputs": [],
   "source": []
  },
  {
   "cell_type": "code",
   "execution_count": null,
   "metadata": {},
   "outputs": [],
   "source": []
  },
  {
   "cell_type": "code",
   "execution_count": null,
   "metadata": {},
   "outputs": [],
   "source": []
  }
 ],
 "metadata": {
  "anaconda-cloud": {},
  "kernelspec": {
   "display_name": "Python 3",
   "language": "python",
   "name": "python3"
  },
  "language_info": {
   "codemirror_mode": {
    "name": "ipython",
    "version": 3
   },
   "file_extension": ".py",
   "mimetype": "text/x-python",
   "name": "python",
   "nbconvert_exporter": "python",
   "pygments_lexer": "ipython3",
   "version": "3.6.5"
  }
 },
 "nbformat": 4,
 "nbformat_minor": 1
}
