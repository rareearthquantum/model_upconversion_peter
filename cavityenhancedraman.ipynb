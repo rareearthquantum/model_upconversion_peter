{
 "cells": [
  {
   "cell_type": "markdown",
   "metadata": {},
   "source": [
    "# Code for simulation of Raman heterodyne like processes"
   ]
  },
  {
   "cell_type": "markdown",
   "metadata": {},
   "source": [
    "## Getting setup"
   ]
  },
  {
   "cell_type": "markdown",
   "metadata": {},
   "source": [
    "### Import required python libraries"
   ]
  },
  {
   "cell_type": "code",
   "execution_count": 1,
   "metadata": {
    "ExecuteTime": {
     "end_time": "2018-08-01T04:33:00.088144Z",
     "start_time": "2018-08-01T04:32:58.955674Z"
    }
   },
   "outputs": [],
   "source": [
    "import sympy as sym\n",
    "sym.init_printing()\n",
    "\n",
    "import numpy as np\n",
    "from scipy import integrate,signal\n",
    "\n",
    "import math\n",
    "from math import pi\n",
    "#from sympy.functions import Heaviside, sin, cos, sqrt\n",
    "\n",
    "\n",
    "import matplotlib.pyplot as plt\n",
    "from sympy import I, Matrix, symbols\n",
    "from sympy.physics.quantum import TensorProduct,Dagger\n",
    "import scipy.optimize\n",
    "\n",
    "import qutip\n",
    "\n",
    "%load_ext cython"
   ]
  },
  {
   "cell_type": "markdown",
   "metadata": {
    "heading_collapsed": true
   },
   "source": [
    "### Some things to help us make Liovillian superoperators\n",
    "- Uses an approach very like qutip and the qotoolbox, reading the documention for those two packages might help make sense of spre, spost, etc\n",
    "- s13 etc. are the atomic operators like |1><3| etc"
   ]
  },
  {
   "cell_type": "code",
   "execution_count": 2,
   "metadata": {
    "ExecuteTime": {
     "end_time": "2018-08-01T04:33:00.093106Z",
     "start_time": "2018-08-01T04:33:00.089474Z"
    },
    "hidden": true
   },
   "outputs": [],
   "source": [
    "def spre(m):\n",
    "    return TensorProduct(sym.eye(m.shape[0]),m)\n",
    "\n",
    "def spost(m):\n",
    "    return TensorProduct(m.T,sym.eye(m.shape[0]))\n",
    "\n",
    "def collapse(c):\n",
    "    temp = Dagger(c)*c/2\n",
    "    return spre(c)*spost(Dagger(c))-spre(temp)-spost(temp)\n",
    "\n",
    "\n",
    "s13=Matrix([[0,0,1],[0,0,0],[0,0,0]])\n",
    "s23=Matrix([[0,0,0],[0,0,1],[0,0,0]])\n",
    "s12=Matrix([[0,1,0],[0,0,0],[0,0,0]])\n",
    "\n",
    "s31=s13.T\n",
    "s32=s23.T\n",
    "s21=s12.T\n",
    "\n",
    "s11 = s12*s21\n",
    "s22 = s21*s12\n",
    "s33 = s31*s13\n",
    "\n"
   ]
  },
  {
   "cell_type": "markdown",
   "metadata": {},
   "source": [
    "### Checking spre and spost agree with qutip\n",
    "\n",
    "Note: This notebook uses Frotran (colum first) order when flattening matricies."
   ]
  },
  {
   "cell_type": "code",
   "execution_count": 3,
   "metadata": {
    "ExecuteTime": {
     "end_time": "2018-08-01T04:33:00.102424Z",
     "start_time": "2018-08-01T04:33:00.094524Z"
    }
   },
   "outputs": [
    {
     "data": {
      "text/plain": [
       "(Matrix([\n",
       " [0, -I],\n",
       " [I,  0]]),\n",
       " Quantum object: dims = [[2], [2]], shape = (2, 2), type = oper, isherm = True\n",
       " Qobj data =\n",
       " [[0.+0.j 0.-1.j]\n",
       "  [0.+1.j 0.+0.j]])"
      ]
     },
     "execution_count": 3,
     "metadata": {},
     "output_type": "execute_result"
    }
   ],
   "source": [
    "sigmay = Matrix([[0, -I], [I, 0 ]])\n",
    "sigmay, qutip.sigmay()"
   ]
  },
  {
   "cell_type": "code",
   "execution_count": 4,
   "metadata": {
    "ExecuteTime": {
     "end_time": "2018-08-01T04:33:00.108347Z",
     "start_time": "2018-08-01T04:33:00.103651Z"
    }
   },
   "outputs": [
    {
     "data": {
      "text/latex": [
       "Quantum object: dims = [[2], [2]], shape = (2, 2), type = oper, isherm = True\\begin{equation*}\\left(\\begin{array}{*{11}c}0.0 & -1.0j\\\\1.0j & 0.0\\\\\\end{array}\\right)\\end{equation*}"
      ],
      "text/plain": [
       "Quantum object: dims = [[2], [2]], shape = (2, 2), type = oper, isherm = True\n",
       "Qobj data =\n",
       "[[0.+0.j 0.-1.j]\n",
       " [0.+1.j 0.+0.j]]"
      ]
     },
     "execution_count": 4,
     "metadata": {},
     "output_type": "execute_result"
    }
   ],
   "source": [
    "qutip.sigmay()"
   ]
  },
  {
   "cell_type": "code",
   "execution_count": 5,
   "metadata": {
    "ExecuteTime": {
     "end_time": "2018-08-01T04:33:00.118862Z",
     "start_time": "2018-08-01T04:33:00.109546Z"
    }
   },
   "outputs": [
    {
     "data": {
      "text/plain": [
       "(Matrix([\n",
       " [0, -I, 0,  0],\n",
       " [I,  0, 0,  0],\n",
       " [0,  0, 0, -I],\n",
       " [0,  0, I,  0]]),\n",
       " Quantum object: dims = [[[2], [2]], [[2], [2]]], shape = (4, 4), type = super, isherm = True\n",
       " Qobj data =\n",
       " [[0.+0.j 0.-1.j 0.+0.j 0.+0.j]\n",
       "  [0.+1.j 0.+0.j 0.+0.j 0.+0.j]\n",
       "  [0.+0.j 0.+0.j 0.+0.j 0.-1.j]\n",
       "  [0.+0.j 0.+0.j 0.+1.j 0.+0.j]])"
      ]
     },
     "execution_count": 5,
     "metadata": {},
     "output_type": "execute_result"
    }
   ],
   "source": [
    "spre(sigmay),qutip.spre(qutip.sigmay())"
   ]
  },
  {
   "cell_type": "code",
   "execution_count": 6,
   "metadata": {
    "ExecuteTime": {
     "end_time": "2018-08-01T04:33:00.126638Z",
     "start_time": "2018-08-01T04:33:00.120142Z"
    }
   },
   "outputs": [
    {
     "data": {
      "text/plain": [
       "(Matrix([\n",
       " [ 0,  0, I, 0],\n",
       " [ 0,  0, 0, I],\n",
       " [-I,  0, 0, 0],\n",
       " [ 0, -I, 0, 0]]),\n",
       " Quantum object: dims = [[[2], [2]], [[2], [2]]], shape = (4, 4), type = super, isherm = True\n",
       " Qobj data =\n",
       " [[0.+0.j 0.+0.j 0.+1.j 0.+0.j]\n",
       "  [0.+0.j 0.+0.j 0.+0.j 0.+1.j]\n",
       "  [0.-1.j 0.+0.j 0.+0.j 0.+0.j]\n",
       "  [0.+0.j 0.-1.j 0.+0.j 0.+0.j]])"
      ]
     },
     "execution_count": 6,
     "metadata": {},
     "output_type": "execute_result"
    }
   ],
   "source": [
    "spost(sigmay),qutip.spost(qutip.sigmay())"
   ]
  },
  {
   "cell_type": "markdown",
   "metadata": {},
   "source": [
    "### The symbolic variables we will use\n",
    "- TODO: explain what they all are\n"
   ]
  },
  {
   "cell_type": "code",
   "execution_count": 7,
   "metadata": {
    "ExecuteTime": {
     "end_time": "2018-08-01T04:33:00.132034Z",
     "start_time": "2018-08-01T04:33:00.127807Z"
    }
   },
   "outputs": [],
   "source": [
    "delta2,delta3 = sym.symbols('delta_2 delta_3',real=True)\n",
    "gamma13,gamma23,gamma2d,gamma3d,nbath,gammamu = sym.symbols('gamma_13 gamma_23 gamma_2d gamma_3d n_b gamma_mu', real=True, negative=False)\n",
    "omegao,omegam = sym.symbols('Omega_o Omega_mu', real=True, negative=False)\n",
    "rho11,rho12,rho13,rho21,rho22,rho23,rho31,rho32,rho33 = sym.symbols('rho_11 rho_12 rho_13 rho_21 rho_22 rho_23 rho_31 rho_32 rho_33')\n",
    "\n",
    "a = sym.symbols('a')\n",
    "ar,ai = sym.symbols('a_r a_i',real=True)\n",
    "g = sym.symbols('g',real=True, negative=False)"
   ]
  },
  {
   "cell_type": "markdown",
   "metadata": {
    "heading_collapsed": true
   },
   "source": [
    "## Analytic calculations - Liovillian"
   ]
  },
  {
   "cell_type": "code",
   "execution_count": 8,
   "metadata": {
    "ExecuteTime": {
     "end_time": "2018-08-01T04:33:00.224664Z",
     "start_time": "2018-08-01T04:33:00.133223Z"
    },
    "hidden": true
   },
   "outputs": [],
   "source": [
    "H =  omegam*s21 + omegao*s32 + g*a*s31\n",
    "H = H + Dagger(H)\n",
    "H = H + delta2*s22 + delta3*s33\n",
    "LH = -I*spre(H)+I*spost(H) \n",
    "\n",
    "L21 = gammamu*(nbath+1)*collapse(s12)\n",
    "L12 = gammamu*(nbath)*collapse(s21)\n",
    "L32 = gamma23*collapse(s23)\n",
    "L31 = gamma13*collapse(s13)\n",
    "L22 = gamma2d*collapse(s22)\n",
    "L33 = gamma3d*collapse(s33)\n",
    "\n",
    "L = LH + L21 + L12 + L32 + L31 + L22 + L33\n",
    "\n",
    "#because Trace(rho) = 1 we can replace first row as below\n",
    "#this gives us a matrix that can be inverted\n",
    "L = L.row_insert(0,Matrix([[1,0,0,0,1,0,0,0,1]]))\n",
    "L.row_del(1)\n",
    "\n",
    "# The condition for the steady state is now L*rho=V\n",
    "# where V = [1,0,0, 0,0,0, 0,0,0].T"
   ]
  },
  {
   "cell_type": "markdown",
   "metadata": {
    "hidden": true
   },
   "source": [
    "### Expressions for the various operators"
   ]
  },
  {
   "cell_type": "code",
   "execution_count": 9,
   "metadata": {
    "ExecuteTime": {
     "end_time": "2018-08-01T04:33:00.450107Z",
     "start_time": "2018-08-01T04:33:00.225949Z"
    },
    "hidden": true
   },
   "outputs": [
    {
     "data": {
      "text/latex": [
       "$$\\left[\\begin{matrix}1 & 0 & 0 & 0 & 1 & 0 & 0 & 0 & 1\\\\- i \\Omega_{\\mu} & - i \\delta_{2} - \\frac{\\gamma_{2d}}{2} - \\frac{\\gamma_{\\mu} n_{b}}{2} - \\frac{\\gamma_{\\mu} \\left(n_{b} + 1\\right)}{2} & - i \\Omega_{o} & 0 & i \\Omega_{\\mu} & 0 & 0 & i a g & 0\\\\- i a g & - i \\Omega_{o} & - i \\delta_{3} - \\frac{\\gamma_{13}}{2} - \\frac{\\gamma_{23}}{2} - \\frac{\\gamma_{3d}}{2} - \\frac{\\gamma_{\\mu} n_{b}}{2} & 0 & 0 & i \\Omega_{\\mu} & 0 & 0 & i a g\\\\i \\Omega_{\\mu} & 0 & 0 & i \\delta_{2} - \\frac{\\gamma_{2d}}{2} - \\frac{\\gamma_{\\mu} n_{b}}{2} - \\frac{\\gamma_{\\mu} \\left(n_{b} + 1\\right)}{2} & - i \\Omega_{\\mu} & - i g \\overline{a} & i \\Omega_{o} & 0 & 0\\\\\\gamma_{\\mu} n_{b} & i \\Omega_{\\mu} & 0 & - i \\Omega_{\\mu} & - \\gamma_{\\mu} \\left(n_{b} + 1\\right) & - i \\Omega_{o} & 0 & i \\Omega_{o} & \\gamma_{23}\\\\0 & 0 & i \\Omega_{\\mu} & - i a g & - i \\Omega_{o} & i \\delta_{2} - i \\delta_{3} - \\frac{\\gamma_{13}}{2} - \\frac{\\gamma_{23}}{2} - \\frac{\\gamma_{2d}}{2} - \\frac{\\gamma_{3d}}{2} - \\frac{\\gamma_{\\mu} \\left(n_{b} + 1\\right)}{2} & 0 & 0 & i \\Omega_{o}\\\\i g \\overline{a} & 0 & 0 & i \\Omega_{o} & 0 & 0 & i \\delta_{3} - \\frac{\\gamma_{13}}{2} - \\frac{\\gamma_{23}}{2} - \\frac{\\gamma_{3d}}{2} - \\frac{\\gamma_{\\mu} n_{b}}{2} & - i \\Omega_{\\mu} & - i g \\overline{a}\\\\0 & i g \\overline{a} & 0 & 0 & i \\Omega_{o} & 0 & - i \\Omega_{\\mu} & - i \\delta_{2} + i \\delta_{3} - \\frac{\\gamma_{13}}{2} - \\frac{\\gamma_{23}}{2} - \\frac{\\gamma_{2d}}{2} - \\frac{\\gamma_{3d}}{2} - \\frac{\\gamma_{\\mu} \\left(n_{b} + 1\\right)}{2} & - i \\Omega_{o}\\\\0 & 0 & i g \\overline{a} & 0 & 0 & i \\Omega_{o} & - i a g & - i \\Omega_{o} & - \\gamma_{13} - \\gamma_{23}\\end{matrix}\\right]$$"
      ],
      "text/plain": [
       "⎡   1                       0                                     0           \n",
       "⎢                                                                             \n",
       "⎢                 γ_2d   γₘᵤ⋅n_b   γₘᵤ⋅(n_b + 1)                              \n",
       "⎢-ⅈ⋅Ωₘᵤ   -ⅈ⋅δ₂ - ──── - ─────── - ─────────────                -ⅈ⋅Ωₒ         \n",
       "⎢                  2        2            2                                    \n",
       "⎢                                                                             \n",
       "⎢                                                         γ₁₃   γ₂₃   γ_3d   γ\n",
       "⎢-ⅈ⋅a⋅g                   -ⅈ⋅Ωₒ                   -ⅈ⋅δ₃ - ─── - ─── - ──── - ─\n",
       "⎢                                                          2     2     2      \n",
       "⎢                                                                             \n",
       "⎢                                                                             \n",
       "⎢ ⅈ⋅Ωₘᵤ                     0                                     0           \n",
       "⎢                                                                             \n",
       "⎢                                                                             \n",
       "⎢γₘᵤ⋅n_b                  ⅈ⋅Ωₘᵤ                                   0           \n",
       "⎢                                                                             \n",
       "⎢                                                                             \n",
       "⎢   0                       0                                   ⅈ⋅Ωₘᵤ         \n",
       "⎢                                                                             \n",
       "⎢                                                                             \n",
       "⎢     _                                                                       \n",
       "⎢ ⅈ⋅g⋅a                     0                                     0           \n",
       "⎢                                                                             \n",
       "⎢                                                                             \n",
       "⎢                             _                                               \n",
       "⎢   0                     ⅈ⋅g⋅a                                   0           \n",
       "⎢                                                                             \n",
       "⎢                                                                             \n",
       "⎢                                                                   _         \n",
       "⎣   0                       0                                   ⅈ⋅g⋅a         \n",
       "\n",
       "                          0                          1                        \n",
       "                                                                              \n",
       "                                                                              \n",
       "                          0                        ⅈ⋅Ωₘᵤ                      \n",
       "                                                                              \n",
       "                                                                              \n",
       "ₘᵤ⋅n_b                                                                        \n",
       "──────                    0                          0                        \n",
       "  2                                                                           \n",
       "                                                                              \n",
       "               γ_2d   γₘᵤ⋅n_b   γₘᵤ⋅(n_b + 1)                                 \n",
       "        ⅈ⋅δ₂ - ──── - ─────── - ─────────────      -ⅈ⋅Ωₘᵤ                     \n",
       "                2        2            2                                       \n",
       "                                                                              \n",
       "                       -ⅈ⋅Ωₘᵤ                  -γₘᵤ⋅(n_b + 1)                 \n",
       "                                                                              \n",
       "                                                                             γ\n",
       "                       -ⅈ⋅a⋅g                      -ⅈ⋅Ωₒ       ⅈ⋅δ₂ - ⅈ⋅δ₃ - ─\n",
       "                                                                              \n",
       "                                                                              \n",
       "                                                                              \n",
       "                        ⅈ⋅Ωₒ                         0                        \n",
       "                                                                              \n",
       "                                                                              \n",
       "                                                                              \n",
       "                          0                         ⅈ⋅Ωₒ                      \n",
       "                                                                              \n",
       "                                                                              \n",
       "                                                                              \n",
       "                          0                          0                        \n",
       "\n",
       "           0                                            0                     \n",
       "                                                                              \n",
       "                                                                              \n",
       "           0                                            0                     \n",
       "                                                                              \n",
       "                                                                              \n",
       "                                                                              \n",
       "         ⅈ⋅Ωₘᵤ                                          0                     \n",
       "                                                                              \n",
       "                                                                              \n",
       "             _                                                                \n",
       "        -ⅈ⋅g⋅a                                        ⅈ⋅Ωₒ                    \n",
       "                                                                              \n",
       "                                                                              \n",
       "         -ⅈ⋅Ωₒ                                          0                     \n",
       "                                                                              \n",
       "₁₃   γ₂₃   γ_2d   γ_3d   γₘᵤ⋅(n_b + 1)                                        \n",
       "── - ─── - ──── - ──── - ─────────────                  0                     \n",
       "2     2     2      2           2                                              \n",
       "                                                                              \n",
       "                                               γ₁₃   γ₂₃   γ_3d   γₘᵤ⋅n_b     \n",
       "           0                            ⅈ⋅δ₃ - ─── - ─── - ──── - ───────     \n",
       "                                                2     2     2        2        \n",
       "                                                                              \n",
       "                                                                              \n",
       "           0                                         -ⅈ⋅Ωₘᵤ                -ⅈ⋅\n",
       "                                                                              \n",
       "                                                                              \n",
       "                                                                              \n",
       "         ⅈ⋅Ωₒ                                        -ⅈ⋅a⋅g                   \n",
       "\n",
       "                       0                                 1     ⎤\n",
       "                                                               ⎥\n",
       "                                                               ⎥\n",
       "                     ⅈ⋅a⋅g                               0     ⎥\n",
       "                                                               ⎥\n",
       "                                                               ⎥\n",
       "                                                               ⎥\n",
       "                       0                               ⅈ⋅a⋅g   ⎥\n",
       "                                                               ⎥\n",
       "                                                               ⎥\n",
       "                                                               ⎥\n",
       "                       0                                 0     ⎥\n",
       "                                                               ⎥\n",
       "                                                               ⎥\n",
       "                      ⅈ⋅Ωₒ                              γ₂₃    ⎥\n",
       "                                                               ⎥\n",
       "                                                               ⎥\n",
       "                       0                                ⅈ⋅Ωₒ   ⎥\n",
       "                                                               ⎥\n",
       "                                                               ⎥\n",
       "                                                            _  ⎥\n",
       "                     -ⅈ⋅Ωₘᵤ                            -ⅈ⋅g⋅a  ⎥\n",
       "                                                               ⎥\n",
       "                                                               ⎥\n",
       "            γ₁₃   γ₂₃   γ_2d   γ_3d   γₘᵤ⋅(n_b + 1)            ⎥\n",
       "δ₂ + ⅈ⋅δ₃ - ─── - ─── - ──── - ──── - ─────────────    -ⅈ⋅Ωₒ   ⎥\n",
       "             2     2     2      2           2                  ⎥\n",
       "                                                               ⎥\n",
       "                                                               ⎥\n",
       "                     -ⅈ⋅Ωₒ                           -γ₁₃ - γ₂₃⎦"
      ]
     },
     "execution_count": 9,
     "metadata": {},
     "output_type": "execute_result"
    }
   ],
   "source": [
    "L"
   ]
  },
  {
   "cell_type": "code",
   "execution_count": 10,
   "metadata": {
    "ExecuteTime": {
     "end_time": "2018-08-01T04:33:00.482956Z",
     "start_time": "2018-08-01T04:33:00.451668Z"
    },
    "hidden": true
   },
   "outputs": [
    {
     "data": {
      "text/latex": [
       "$$\\left[\\begin{matrix}0 & \\Omega_{\\mu} & g \\overline{a}\\\\\\Omega_{\\mu} & \\delta_{2} & \\Omega_{o}\\\\a g & \\Omega_{o} & \\delta_{3}\\end{matrix}\\right]$$"
      ],
      "text/plain": [
       "⎡            _⎤\n",
       "⎢ 0   Ωₘᵤ  g⋅a⎥\n",
       "⎢             ⎥\n",
       "⎢Ωₘᵤ  δ₂   Ωₒ ⎥\n",
       "⎢             ⎥\n",
       "⎣a⋅g  Ωₒ   δ₃ ⎦"
      ]
     },
     "execution_count": 10,
     "metadata": {},
     "output_type": "execute_result"
    }
   ],
   "source": [
    "H"
   ]
  },
  {
   "cell_type": "code",
   "execution_count": 11,
   "metadata": {
    "ExecuteTime": {
     "end_time": "2018-08-01T04:33:00.558162Z",
     "start_time": "2018-08-01T04:33:00.484083Z"
    },
    "hidden": true
   },
   "outputs": [
    {
     "data": {
      "image/png": "[encoded data removed]",
      "text/latex": [
       "$$\\left [ \\rho_{11}, \\quad \\rho_{21}, \\quad \\rho_{31}, \\quad \\rho_{12}, \\quad \\rho_{22}, \\quad \\rho_{32}, \\quad \\rho_{13}, \\quad \\rho_{23}, \\quad \\rho_{33}\\right ]$$"
      ],
      "text/plain": [
       "[ρ₁₁, ρ₂₁, ρ₃₁, ρ₁₂, ρ₂₂, ρ₃₂, ρ₁₃, ρ₂₃, ρ₃₃]"
      ]
     },
     "execution_count": 11,
     "metadata": {},
     "output_type": "execute_result"
    }
   ],
   "source": [
    "#rho flattened out to a vector\n",
    "rho = Matrix([[rho11,rho21,rho31],[rho12,rho22,rho32],[rho13,rho23,rho33]])\n",
    "rho = 1*rho.T #because we are using \"fortran\" style matrix flatteneing\n",
    "rho[:]\n",
    "rhoflat = 1*rho.T \n",
    "rhoflat = rhoflat[:]\n",
    "rhoflat"
   ]
  },
  {
   "cell_type": "code",
   "execution_count": 12,
   "metadata": {
    "ExecuteTime": {
     "end_time": "2018-08-01T04:33:00.601552Z",
     "start_time": "2018-08-01T04:33:00.559287Z"
    },
    "hidden": true
   },
   "outputs": [
    {
     "data": {
      "text/latex": [
       "$$\\left[\\begin{matrix}1 & 0 & 0\\\\- i \\Omega_{\\mu} & - i \\delta_{2} - \\frac{\\gamma_{2d}}{2} - \\frac{\\gamma_{\\mu} n_{b}}{2} - \\frac{\\gamma_{\\mu} \\left(n_{b} + 1\\right)}{2} & - i \\Omega_{o}\\\\- i a g & - i \\Omega_{o} & - i \\delta_{3} - \\frac{\\gamma_{13}}{2} - \\frac{\\gamma_{23}}{2} - \\frac{\\gamma_{3d}}{2} - \\frac{\\gamma_{\\mu} n_{b}}{2}\\\\i \\Omega_{\\mu} & 0 & 0\\\\\\gamma_{\\mu} n_{b} & i \\Omega_{\\mu} & 0\\\\0 & 0 & i \\Omega_{\\mu}\\\\i g \\overline{a} & 0 & 0\\\\0 & i g \\overline{a} & 0\\\\0 & 0 & i g \\overline{a}\\end{matrix}\\right]$$"
      ],
      "text/plain": [
       "⎡   1                       0                                     0           \n",
       "⎢                                                                             \n",
       "⎢                 γ_2d   γₘᵤ⋅n_b   γₘᵤ⋅(n_b + 1)                              \n",
       "⎢-ⅈ⋅Ωₘᵤ   -ⅈ⋅δ₂ - ──── - ─────── - ─────────────                -ⅈ⋅Ωₒ         \n",
       "⎢                  2        2            2                                    \n",
       "⎢                                                                             \n",
       "⎢                                                         γ₁₃   γ₂₃   γ_3d   γ\n",
       "⎢-ⅈ⋅a⋅g                   -ⅈ⋅Ωₒ                   -ⅈ⋅δ₃ - ─── - ─── - ──── - ─\n",
       "⎢                                                          2     2     2      \n",
       "⎢                                                                             \n",
       "⎢ ⅈ⋅Ωₘᵤ                     0                                     0           \n",
       "⎢                                                                             \n",
       "⎢γₘᵤ⋅n_b                  ⅈ⋅Ωₘᵤ                                   0           \n",
       "⎢                                                                             \n",
       "⎢   0                       0                                   ⅈ⋅Ωₘᵤ         \n",
       "⎢                                                                             \n",
       "⎢     _                                                                       \n",
       "⎢ ⅈ⋅g⋅a                     0                                     0           \n",
       "⎢                                                                             \n",
       "⎢                             _                                               \n",
       "⎢   0                     ⅈ⋅g⋅a                                   0           \n",
       "⎢                                                                             \n",
       "⎢                                                                   _         \n",
       "⎣   0                       0                                   ⅈ⋅g⋅a         \n",
       "\n",
       "      ⎤\n",
       "      ⎥\n",
       "      ⎥\n",
       "      ⎥\n",
       "      ⎥\n",
       "      ⎥\n",
       "ₘᵤ⋅n_b⎥\n",
       "──────⎥\n",
       "  2   ⎥\n",
       "      ⎥\n",
       "      ⎥\n",
       "      ⎥\n",
       "      ⎥\n",
       "      ⎥\n",
       "      ⎥\n",
       "      ⎥\n",
       "      ⎥\n",
       "      ⎥\n",
       "      ⎥\n",
       "      ⎥\n",
       "      ⎥\n",
       "      ⎥\n",
       "      ⎥\n",
       "      ⎦"
      ]
     },
     "execution_count": 12,
     "metadata": {},
     "output_type": "execute_result"
    }
   ],
   "source": [
    "L[:,0:3] #because the matrix gets clipped when exporting to PDF"
   ]
  },
  {
   "cell_type": "code",
   "execution_count": 13,
   "metadata": {
    "ExecuteTime": {
     "end_time": "2018-08-01T04:33:00.646697Z",
     "start_time": "2018-08-01T04:33:00.602659Z"
    },
    "hidden": true
   },
   "outputs": [
    {
     "data": {
      "text/latex": [
       "$$\\left[\\begin{matrix}0 & 1 & 0\\\\0 & i \\Omega_{\\mu} & 0\\\\0 & 0 & i \\Omega_{\\mu}\\\\i \\delta_{2} - \\frac{\\gamma_{2d}}{2} - \\frac{\\gamma_{\\mu} n_{b}}{2} - \\frac{\\gamma_{\\mu} \\left(n_{b} + 1\\right)}{2} & - i \\Omega_{\\mu} & - i g \\overline{a}\\\\- i \\Omega_{\\mu} & - \\gamma_{\\mu} \\left(n_{b} + 1\\right) & - i \\Omega_{o}\\\\- i a g & - i \\Omega_{o} & i \\delta_{2} - i \\delta_{3} - \\frac{\\gamma_{13}}{2} - \\frac{\\gamma_{23}}{2} - \\frac{\\gamma_{2d}}{2} - \\frac{\\gamma_{3d}}{2} - \\frac{\\gamma_{\\mu} \\left(n_{b} + 1\\right)}{2}\\\\i \\Omega_{o} & 0 & 0\\\\0 & i \\Omega_{o} & 0\\\\0 & 0 & i \\Omega_{o}\\end{matrix}\\right]$$"
      ],
      "text/plain": [
       "⎡                  0                          1                               \n",
       "⎢                                                                             \n",
       "⎢                  0                        ⅈ⋅Ωₘᵤ                             \n",
       "⎢                                                                             \n",
       "⎢                  0                          0                               \n",
       "⎢                                                                             \n",
       "⎢       γ_2d   γₘᵤ⋅n_b   γₘᵤ⋅(n_b + 1)                                        \n",
       "⎢ⅈ⋅δ₂ - ──── - ─────── - ─────────────      -ⅈ⋅Ωₘᵤ                            \n",
       "⎢        2        2            2                                              \n",
       "⎢                                                                             \n",
       "⎢               -ⅈ⋅Ωₘᵤ                  -γₘᵤ⋅(n_b + 1)                        \n",
       "⎢                                                                             \n",
       "⎢                                                                     γ₁₃   γ₂\n",
       "⎢               -ⅈ⋅a⋅g                      -ⅈ⋅Ωₒ       ⅈ⋅δ₂ - ⅈ⋅δ₃ - ─── - ──\n",
       "⎢                                                                      2     2\n",
       "⎢                                                                             \n",
       "⎢                ⅈ⋅Ωₒ                         0                               \n",
       "⎢                                                                             \n",
       "⎢                  0                         ⅈ⋅Ωₒ                             \n",
       "⎢                                                                             \n",
       "⎣                  0                          0                               \n",
       "\n",
       "    0                          ⎤\n",
       "                               ⎥\n",
       "    0                          ⎥\n",
       "                               ⎥\n",
       "  ⅈ⋅Ωₘᵤ                        ⎥\n",
       "                               ⎥\n",
       "      _                        ⎥\n",
       " -ⅈ⋅g⋅a                        ⎥\n",
       "                               ⎥\n",
       "                               ⎥\n",
       "  -ⅈ⋅Ωₒ                        ⎥\n",
       "                               ⎥\n",
       "₃   γ_2d   γ_3d   γₘᵤ⋅(n_b + 1)⎥\n",
       "─ - ──── - ──── - ─────────────⎥\n",
       "     2      2           2      ⎥\n",
       "                               ⎥\n",
       "    0                          ⎥\n",
       "                               ⎥\n",
       "    0                          ⎥\n",
       "                               ⎥\n",
       "  ⅈ⋅Ωₒ                         ⎦"
      ]
     },
     "execution_count": 13,
     "metadata": {},
     "output_type": "execute_result"
    }
   ],
   "source": [
    "L[:,3:6]"
   ]
  },
  {
   "cell_type": "code",
   "execution_count": 14,
   "metadata": {
    "ExecuteTime": {
     "end_time": "2018-08-01T04:33:00.693310Z",
     "start_time": "2018-08-01T04:33:00.647839Z"
    },
    "hidden": true
   },
   "outputs": [
    {
     "data": {
      "text/latex": [
       "$$\\left[\\begin{matrix}0 & 0 & 1\\\\0 & i a g & 0\\\\0 & 0 & i a g\\\\i \\Omega_{o} & 0 & 0\\\\0 & i \\Omega_{o} & \\gamma_{23}\\\\0 & 0 & i \\Omega_{o}\\\\i \\delta_{3} - \\frac{\\gamma_{13}}{2} - \\frac{\\gamma_{23}}{2} - \\frac{\\gamma_{3d}}{2} - \\frac{\\gamma_{\\mu} n_{b}}{2} & - i \\Omega_{\\mu} & - i g \\overline{a}\\\\- i \\Omega_{\\mu} & - i \\delta_{2} + i \\delta_{3} - \\frac{\\gamma_{13}}{2} - \\frac{\\gamma_{23}}{2} - \\frac{\\gamma_{2d}}{2} - \\frac{\\gamma_{3d}}{2} - \\frac{\\gamma_{\\mu} \\left(n_{b} + 1\\right)}{2} & - i \\Omega_{o}\\\\- i a g & - i \\Omega_{o} & - \\gamma_{13} - \\gamma_{23}\\end{matrix}\\right]$$"
      ],
      "text/plain": [
       "⎡                0                                            0               \n",
       "⎢                                                                             \n",
       "⎢                0                                          ⅈ⋅a⋅g             \n",
       "⎢                                                                             \n",
       "⎢                0                                            0               \n",
       "⎢                                                                             \n",
       "⎢              ⅈ⋅Ωₒ                                           0               \n",
       "⎢                                                                             \n",
       "⎢                0                                           ⅈ⋅Ωₒ             \n",
       "⎢                                                                             \n",
       "⎢                0                                            0               \n",
       "⎢                                                                             \n",
       "⎢       γ₁₃   γ₂₃   γ_3d   γₘᵤ⋅n_b                                            \n",
       "⎢ⅈ⋅δ₃ - ─── - ─── - ──── - ───────                          -ⅈ⋅Ωₘᵤ            \n",
       "⎢        2     2     2        2                                               \n",
       "⎢                                                                             \n",
       "⎢                                                  γ₁₃   γ₂₃   γ_2d   γ_3d   γ\n",
       "⎢             -ⅈ⋅Ωₘᵤ                -ⅈ⋅δ₂ + ⅈ⋅δ₃ - ─── - ─── - ──── - ──── - ─\n",
       "⎢                                                   2     2     2      2      \n",
       "⎢                                                                             \n",
       "⎣             -ⅈ⋅a⋅g                                        -ⅈ⋅Ωₒ             \n",
       "\n",
       "                  1     ⎤\n",
       "                        ⎥\n",
       "                  0     ⎥\n",
       "                        ⎥\n",
       "                ⅈ⋅a⋅g   ⎥\n",
       "                        ⎥\n",
       "                  0     ⎥\n",
       "                        ⎥\n",
       "                 γ₂₃    ⎥\n",
       "                        ⎥\n",
       "                 ⅈ⋅Ωₒ   ⎥\n",
       "                        ⎥\n",
       "                     _  ⎥\n",
       "                -ⅈ⋅g⋅a  ⎥\n",
       "                        ⎥\n",
       "                        ⎥\n",
       "ₘᵤ⋅(n_b + 1)            ⎥\n",
       "────────────    -ⅈ⋅Ωₒ   ⎥\n",
       "     2                  ⎥\n",
       "                        ⎥\n",
       "              -γ₁₃ - γ₂₃⎦"
      ]
     },
     "execution_count": 14,
     "metadata": {},
     "output_type": "execute_result"
    }
   ],
   "source": [
    "L[:,6:]"
   ]
  },
  {
   "cell_type": "code",
   "execution_count": 15,
   "metadata": {
    "ExecuteTime": {
     "end_time": "2018-08-01T04:33:00.726250Z",
     "start_time": "2018-08-01T04:33:00.694590Z"
    },
    "hidden": true
   },
   "outputs": [
    {
     "data": {
      "image/png": "[encoded data removed]",
      "text/latex": [
       "$$\\rho_{13}$$"
      ],
      "text/plain": [
       "ρ₁₃"
      ]
     },
     "execution_count": 15,
     "metadata": {},
     "output_type": "execute_result"
    }
   ],
   "source": [
    "\n",
    "rhoflat[6]"
   ]
  },
  {
   "cell_type": "markdown",
   "metadata": {
    "hidden": true
   },
   "source": [
    "### We can transform the \"basis\" we use for our density matrix vector so that all the elements are real"
   ]
  },
  {
   "cell_type": "code",
   "execution_count": 16,
   "metadata": {
    "ExecuteTime": {
     "end_time": "2018-08-01T04:33:00.732422Z",
     "start_time": "2018-08-01T04:33:00.727555Z"
    },
    "hidden": true
   },
   "outputs": [],
   "source": [
    "#change of variables to make things real to make it a bit faster maybe\n",
    "CtoR = Matrix([[2,0,0,0,0,0,0,0,0],\n",
    "               [0,0,0,0,2,0,0,0,0],\n",
    "               [0,0,0,0,0,0,0,0,2],\n",
    "               [0,1,0,1,0,0,0,0,0],\n",
    "               [0,I,0,-I,0,0,0,0,0],\n",
    "               [0,0,1,0,0,0,1,0,0],\n",
    "               [0,0,I,0,0,0,-I,0,0],\n",
    "               [0,0,0,0,0,1,0,1,0],\n",
    "               [0,0,0,0,0,I,0,-I,0]\n",
    "              ])\n",
    "CtoR=CtoR/2"
   ]
  },
  {
   "cell_type": "markdown",
   "metadata": {
    "hidden": true
   },
   "source": [
    "### The new organisation for our density matrix"
   ]
  },
  {
   "cell_type": "code",
   "execution_count": 17,
   "metadata": {
    "ExecuteTime": {
     "end_time": "2018-08-01T04:33:00.780839Z",
     "start_time": "2018-08-01T04:33:00.733495Z"
    },
    "hidden": true
   },
   "outputs": [
    {
     "data": {
      "text/latex": [
       "$$\\left[\\begin{matrix}\\rho_{11}\\\\\\rho_{22}\\\\\\rho_{33}\\\\\\frac{\\rho_{12}}{2} + \\frac{\\rho_{21}}{2}\\\\- \\frac{i \\rho_{12}}{2} + \\frac{i \\rho_{21}}{2}\\\\\\frac{\\rho_{13}}{2} + \\frac{\\rho_{31}}{2}\\\\- \\frac{i \\rho_{13}}{2} + \\frac{i \\rho_{31}}{2}\\\\\\frac{\\rho_{23}}{2} + \\frac{\\rho_{32}}{2}\\\\- \\frac{i \\rho_{23}}{2} + \\frac{i \\rho_{32}}{2}\\end{matrix}\\right]$$"
      ],
      "text/plain": [
       "⎡      ρ₁₁      ⎤\n",
       "⎢               ⎥\n",
       "⎢      ρ₂₂      ⎥\n",
       "⎢               ⎥\n",
       "⎢      ρ₃₃      ⎥\n",
       "⎢               ⎥\n",
       "⎢   ρ₁₂   ρ₂₁   ⎥\n",
       "⎢   ─── + ───   ⎥\n",
       "⎢    2     2    ⎥\n",
       "⎢               ⎥\n",
       "⎢  ⅈ⋅ρ₁₂   ⅈ⋅ρ₂₁⎥\n",
       "⎢- ───── + ─────⎥\n",
       "⎢    2       2  ⎥\n",
       "⎢               ⎥\n",
       "⎢   ρ₁₃   ρ₃₁   ⎥\n",
       "⎢   ─── + ───   ⎥\n",
       "⎢    2     2    ⎥\n",
       "⎢               ⎥\n",
       "⎢  ⅈ⋅ρ₁₃   ⅈ⋅ρ₃₁⎥\n",
       "⎢- ───── + ─────⎥\n",
       "⎢    2       2  ⎥\n",
       "⎢               ⎥\n",
       "⎢   ρ₂₃   ρ₃₂   ⎥\n",
       "⎢   ─── + ───   ⎥\n",
       "⎢    2     2    ⎥\n",
       "⎢               ⎥\n",
       "⎢  ⅈ⋅ρ₂₃   ⅈ⋅ρ₃₂⎥\n",
       "⎢- ───── + ─────⎥\n",
       "⎣    2       2  ⎦"
      ]
     },
     "execution_count": 17,
     "metadata": {},
     "output_type": "execute_result"
    }
   ],
   "source": [
    "#these is our new state vector \n",
    "t = CtoR*Matrix(rhoflat)\n",
    "t"
   ]
  },
  {
   "cell_type": "markdown",
   "metadata": {
    "hidden": true
   },
   "source": [
    "### The Liovillian in this new basis"
   ]
  },
  {
   "cell_type": "code",
   "execution_count": 18,
   "metadata": {
    "ExecuteTime": {
     "end_time": "2018-08-01T04:33:01.275364Z",
     "start_time": "2018-08-01T04:33:00.782080Z"
    },
    "hidden": true
   },
   "outputs": [
    {
     "data": {
      "text/latex": [
       "$$\\left[\\begin{matrix}1 & 1 & 1 & 0 & 0 & 0 & 0 & 0 & 0\\\\\\gamma_{\\mu} n_{b} & - \\gamma_{\\mu} \\left(n_{b} + 1\\right) & \\gamma_{23} & 0 & 2 \\Omega_{\\mu} & 0 & 0 & 0 & - 2 \\Omega_{o}\\\\0 & 0 & - \\gamma_{13} - \\gamma_{23} & 0 & 0 & 2 a_{i} g & 2 a_{r} g & 0 & 2 \\Omega_{o}\\\\0 & 0 & 0 & - \\frac{\\gamma_{2d}}{2} - \\gamma_{\\mu} n_{b} - \\frac{\\gamma_{\\mu}}{2} & - \\delta_{2} & 0 & - \\Omega_{o} & - a_{i} g & - a_{r} g\\\\\\Omega_{\\mu} & - \\Omega_{\\mu} & 0 & \\delta_{2} & - \\frac{\\gamma_{2d}}{2} - \\gamma_{\\mu} n_{b} - \\frac{\\gamma_{\\mu}}{2} & \\Omega_{o} & 0 & - a_{r} g & a_{i} g\\\\a_{i} g & 0 & - a_{i} g & 0 & - \\Omega_{o} & - \\frac{\\gamma_{13}}{2} - \\frac{\\gamma_{23}}{2} - \\frac{\\gamma_{3d}}{2} - \\frac{\\gamma_{\\mu} n_{b}}{2} & - \\delta_{3} & 0 & \\Omega_{\\mu}\\\\a_{r} g & 0 & - a_{r} g & \\Omega_{o} & 0 & \\delta_{3} & - \\frac{\\gamma_{13}}{2} - \\frac{\\gamma_{23}}{2} - \\frac{\\gamma_{3d}}{2} - \\frac{\\gamma_{\\mu} n_{b}}{2} & - \\Omega_{\\mu} & 0\\\\0 & 0 & 0 & a_{i} g & a_{r} g & 0 & \\Omega_{\\mu} & - \\frac{\\gamma_{13}}{2} - \\frac{\\gamma_{23}}{2} - \\frac{\\gamma_{2d}}{2} - \\frac{\\gamma_{3d}}{2} - \\frac{\\gamma_{\\mu} \\left(n_{b} + 1\\right)}{2} & \\delta_{2} - \\delta_{3}\\\\0 & \\Omega_{o} & - \\Omega_{o} & a_{r} g & - a_{i} g & - \\Omega_{\\mu} & 0 & - \\delta_{2} + \\delta_{3} & - \\frac{\\gamma_{13}}{2} - \\frac{\\gamma_{23}}{2} - \\frac{\\gamma_{2d}}{2} - \\frac{\\gamma_{3d}}{2} - \\frac{\\gamma_{\\mu} \\left(n_{b} + 1\\right)}{2}\\end{matrix}\\right]$$"
      ],
      "text/plain": [
       "⎡   1           1             1                 0                       0     \n",
       "⎢                                                                             \n",
       "⎢γₘᵤ⋅n_b  -γₘᵤ⋅(n_b + 1)     γ₂₃                0                     2⋅Ωₘᵤ   \n",
       "⎢                                                                             \n",
       "⎢   0           0         -γ₁₃ - γ₂₃            0                       0     \n",
       "⎢                                                                             \n",
       "⎢                                       γ_2d             γₘᵤ                  \n",
       "⎢   0           0             0       - ──── - γₘᵤ⋅n_b - ───           -δ₂    \n",
       "⎢                                        2                2                   \n",
       "⎢                                                                             \n",
       "⎢                                                               γ_2d          \n",
       "⎢  Ωₘᵤ         -Ωₘᵤ           0                 δ₂            - ──── - γₘᵤ⋅n_b\n",
       "⎢                                                                2            \n",
       "⎢                                                                             \n",
       "⎢                                                                             \n",
       "⎢ aᵢ⋅g          0           -aᵢ⋅g               0                      -Ωₒ    \n",
       "⎢                                                                             \n",
       "⎢                                                                             \n",
       "⎢                                                                             \n",
       "⎢ aᵣ⋅g          0           -aᵣ⋅g               Ωₒ                      0     \n",
       "⎢                                                                             \n",
       "⎢                                                                             \n",
       "⎢                                                                             \n",
       "⎢   0           0             0                aᵢ⋅g                    aᵣ⋅g   \n",
       "⎢                                                                             \n",
       "⎢                                                                             \n",
       "⎢                                                                             \n",
       "⎢   0           Ωₒ           -Ωₒ               aᵣ⋅g                   -aᵢ⋅g   \n",
       "⎣                                                                             \n",
       "\n",
       "                     0                             0                          \n",
       "                                                                              \n",
       "                     0                             0                          \n",
       "                                                                              \n",
       "                   2⋅aᵢ⋅g                        2⋅aᵣ⋅g                       \n",
       "                                                                              \n",
       "                                                                              \n",
       "                     0                            -Ωₒ                         \n",
       "                                                                              \n",
       "                                                                              \n",
       "   γₘᵤ                                                                        \n",
       " - ───               Ωₒ                            0                          \n",
       "    2                                                                         \n",
       "                                                                              \n",
       "          γ₁₃   γ₂₃   γ_3d   γₘᵤ⋅n_b                                          \n",
       "        - ─── - ─── - ──── - ───────              -δ₃                         \n",
       "           2     2     2        2                                             \n",
       "                                                                              \n",
       "                                        γ₁₃   γ₂₃   γ_3d   γₘᵤ⋅n_b            \n",
       "                     δ₃               - ─── - ─── - ──── - ───────            \n",
       "                                         2     2     2        2               \n",
       "                                                                              \n",
       "                                                                      γ₁₃   γ₂\n",
       "                     0                            Ωₘᵤ               - ─── - ──\n",
       "                                                                       2     2\n",
       "                                                                              \n",
       "                                                                              \n",
       "                    -Ωₘᵤ                           0                          \n",
       "                                                                              \n",
       "\n",
       "          0                                          0                    ⎤\n",
       "                                                                          ⎥\n",
       "          0                                        -2⋅Ωₒ                  ⎥\n",
       "                                                                          ⎥\n",
       "          0                                        2⋅Ωₒ                   ⎥\n",
       "                                                                          ⎥\n",
       "                                                                          ⎥\n",
       "        -aᵢ⋅g                                      -aᵣ⋅g                  ⎥\n",
       "                                                                          ⎥\n",
       "                                                                          ⎥\n",
       "                                                                          ⎥\n",
       "        -aᵣ⋅g                                      aᵢ⋅g                   ⎥\n",
       "                                                                          ⎥\n",
       "                                                                          ⎥\n",
       "                                                                          ⎥\n",
       "          0                                         Ωₘᵤ                   ⎥\n",
       "                                                                          ⎥\n",
       "                                                                          ⎥\n",
       "                                                                          ⎥\n",
       "        -Ωₘᵤ                                         0                    ⎥\n",
       "                                                                          ⎥\n",
       "                                                                          ⎥\n",
       "₃   γ_2d   γ_3d   γₘᵤ⋅(n_b + 1)                                           ⎥\n",
       "─ - ──── - ──── - ─────────────                   δ₂ - δ₃                 ⎥\n",
       "     2      2           2                                                 ⎥\n",
       "                                                                          ⎥\n",
       "                                   γ₁₃   γ₂₃   γ_2d   γ_3d   γₘᵤ⋅(n_b + 1)⎥\n",
       "      -δ₂ + δ₃                   - ─── - ─── - ──── - ──── - ─────────────⎥\n",
       "                                    2     2     2      2           2      ⎦"
      ]
     },
     "execution_count": 18,
     "metadata": {},
     "output_type": "execute_result"
    }
   ],
   "source": [
    "Lreal = sym.simplify(CtoR*L*CtoR.inv())\n",
    "Lreal = Lreal.subs(a,ar+I*ai)\n",
    "Lreal"
   ]
  },
  {
   "cell_type": "code",
   "execution_count": 19,
   "metadata": {
    "ExecuteTime": {
     "end_time": "2018-08-01T04:33:01.278093Z",
     "start_time": "2018-08-01T04:33:01.276568Z"
    },
    "hidden": true
   },
   "outputs": [],
   "source": [
    "# A sanity check \n",
    "# sym.simplify(CtoR.inv()*Lreal*CtoR*Matrix(rhoflat)-(L*Matrix(rhoflat)).subs(a,ar+I*ai))"
   ]
  },
  {
   "cell_type": "code",
   "execution_count": null,
   "metadata": {
    "hidden": true
   },
   "outputs": [],
   "source": []
  },
  {
   "cell_type": "markdown",
   "metadata": {
    "hidden": true
   },
   "source": [
    "### C-code from our analytic expressions for the two different versions of the Liovillan\n",
    "- this is copied and pasted into some of the functions below"
   ]
  },
  {
   "cell_type": "code",
   "execution_count": 20,
   "metadata": {
    "ExecuteTime": {
     "end_time": "2018-08-01T04:33:01.327087Z",
     "start_time": "2018-08-01T04:33:01.279112Z"
    },
    "hidden": true
   },
   "outputs": [
    {
     "name": "stdout",
     "output_type": "stream",
     "text": [
      "// Not supported in C:\n",
      "// conjugate\n",
      "[1, -I*Omega_mu, -I*a*g, I*Omega_mu, gamma_mu*n_b, 0, I*g*conjugate(a), 0, 0, 0, -I*delta_2 - 1.0/2.0*gamma_2d - 1.0/2.0*gamma_mu*n_b - 1.0/2.0*gamma_mu*(n_b + 1), -I*Omega_o, 0, I*Omega_mu, 0, 0, I*g*conjugate(a), 0, 0, -I*Omega_o, -I*delta_3 - 1.0/2.0*gamma_13 - 1.0/2.0*gamma_23 - 1.0/2.0*gamma_3d - 1.0/2.0*gamma_mu*n_b, 0, 0, I*Omega_mu, 0, 0, I*g*conjugate(a), 0, 0, 0, I*delta_2 - 1.0/2.0*gamma_2d - 1.0/2.0*gamma_mu*n_b - 1.0/2.0*gamma_mu*(n_b + 1), -I*Omega_mu, -I*a*g, I*Omega_o, 0, 0, 1, I*Omega_mu, 0, -I*Omega_mu, -gamma_mu*(n_b + 1), -I*Omega_o, 0, I*Omega_o, 0, 0, 0, I*Omega_mu, -I*g*conjugate(a), -I*Omega_o, I*delta_2 - I*delta_3 - 1.0/2.0*gamma_13 - 1.0/2.0*gamma_23 - 1.0/2.0*gamma_2d - 1.0/2.0*gamma_3d - 1.0/2.0*gamma_mu*(n_b + 1), 0, 0, I*Omega_o, 0, 0, 0, I*Omega_o, 0, 0, I*delta_3 - 1.0/2.0*gamma_13 - 1.0/2.0*gamma_23 - 1.0/2.0*gamma_3d - 1.0/2.0*gamma_mu*n_b, -I*Omega_mu, -I*a*g, 0, I*a*g, 0, 0, I*Omega_o, 0, -I*Omega_mu, -I*delta_2 + I*delta_3 - 1.0/2.0*gamma_13 - 1.0/2.0*gamma_23 - 1.0/2.0*gamma_2d - 1.0/2.0*gamma_3d - 1.0/2.0*gamma_mu*(n_b + 1), -I*Omega_o, 1, 0, I*a*g, 0, gamma_23, I*Omega_o, -I*g*conjugate(a), -I*Omega_o, -gamma_13 - gamma_23]\n",
      "-----------\n",
      "(1, gamma_mu*n_b, 0, 0, Omega_mu, a_i*g, a_r*g, 0, 0, 1, -gamma_mu*(n_b + 1), 0, 0, -Omega_mu, 0, 0, 0, Omega_o, 1, gamma_23, -gamma_13 - gamma_23, 0, 0, -a_i*g, -a_r*g, 0, -Omega_o, 0, 0, 0, -1.0/2.0*gamma_2d - gamma_mu*n_b - 1.0/2.0*gamma_mu, delta_2, 0, Omega_o, a_i*g, a_r*g, 0, 2*Omega_mu, 0, -delta_2, -1.0/2.0*gamma_2d - gamma_mu*n_b - 1.0/2.0*gamma_mu, -Omega_o, 0, a_r*g, -a_i*g, 0, 0, 2*a_i*g, 0, Omega_o, -1.0/2.0*gamma_13 - 1.0/2.0*gamma_23 - 1.0/2.0*gamma_3d - 1.0/2.0*gamma_mu*n_b, delta_3, 0, -Omega_mu, 0, 0, 2*a_r*g, -Omega_o, 0, -delta_3, -1.0/2.0*gamma_13 - 1.0/2.0*gamma_23 - 1.0/2.0*gamma_3d - 1.0/2.0*gamma_mu*n_b, Omega_mu, 0, 0, 0, 0, -a_i*g, -a_r*g, 0, -Omega_mu, -1.0/2.0*gamma_13 - 1.0/2.0*gamma_23 - 1.0/2.0*gamma_2d - 1.0/2.0*gamma_3d - 1.0/2.0*gamma_mu*(n_b + 1), -delta_2 + delta_3, 0, -2*Omega_o, 2*Omega_o, -a_r*g, a_i*g, Omega_mu, 0, delta_2 - delta_3, -1.0/2.0*gamma_13 - 1.0/2.0*gamma_23 - 1.0/2.0*gamma_2d - 1.0/2.0*gamma_3d - 1.0/2.0*gamma_mu*(n_b + 1))\n",
      "----------\n",
      "L[0] = 1\n",
      "L[1] = gamma_mu*n_b\n",
      "L[2] = 0\n",
      "L[3] = 0\n",
      "L[4] = Omega_mu\n",
      "L[5] = a_i*g\n",
      "L[6] = a_r*g\n",
      "L[7] = 0\n",
      "L[8] = 0\n",
      "L[9] = 1\n",
      "L[10] = -gamma_mu*(n_b + 1)\n",
      "L[11] = 0\n",
      "L[12] = 0\n",
      "L[13] = -Omega_mu\n",
      "L[14] = 0\n",
      "L[15] = 0\n",
      "L[16] = 0\n",
      "L[17] = Omega_o\n",
      "L[18] = 1\n",
      "L[19] = gamma_23\n",
      "L[20] = -gamma_13 - gamma_23\n",
      "L[21] = 0\n",
      "L[22] = 0\n",
      "L[23] = -a_i*g\n",
      "L[24] = -a_r*g\n",
      "L[25] = 0\n",
      "L[26] = -Omega_o\n",
      "L[27] = 0\n",
      "L[28] = 0\n",
      "L[29] = 0\n",
      "L[30] = -1.0/2.0*gamma_2d - gamma_mu*n_b - 1.0/2.0*gamma_mu\n",
      "L[31] = delta_2\n",
      "L[32] = 0\n",
      "L[33] = Omega_o\n",
      "L[34] = a_i*g\n",
      "L[35] = a_r*g\n",
      "L[36] = 0\n",
      "L[37] = 2*Omega_mu\n",
      "L[38] = 0\n",
      "L[39] = -delta_2\n",
      "L[40] = -1.0/2.0*gamma_2d - gamma_mu*n_b - 1.0/2.0*gamma_mu\n",
      "L[41] = -Omega_o\n",
      "L[42] = 0\n",
      "L[43] = a_r*g\n",
      "L[44] = -a_i*g\n",
      "L[45] = 0\n",
      "L[46] = 0\n",
      "L[47] = 2*a_i*g\n",
      "L[48] = 0\n",
      "L[49] = Omega_o\n",
      "L[50] = -1.0/2.0*gamma_13 - 1.0/2.0*gamma_23 - 1.0/2.0*gamma_3d - 1.0/2.0*gamma_mu*n_b\n",
      "L[51] = delta_3\n",
      "L[52] = 0\n",
      "L[53] = -Omega_mu\n",
      "L[54] = 0\n",
      "L[55] = 0\n",
      "L[56] = 2*a_r*g\n",
      "L[57] = -Omega_o\n",
      "L[58] = 0\n",
      "L[59] = -delta_3\n",
      "L[60] = -1.0/2.0*gamma_13 - 1.0/2.0*gamma_23 - 1.0/2.0*gamma_3d - 1.0/2.0*gamma_mu*n_b\n",
      "L[61] = Omega_mu\n",
      "L[62] = 0\n",
      "L[63] = 0\n",
      "L[64] = 0\n",
      "L[65] = 0\n",
      "L[66] = -a_i*g\n",
      "L[67] = -a_r*g\n",
      "L[68] = 0\n",
      "L[69] = -Omega_mu\n",
      "L[70] = -1.0/2.0*gamma_13 - 1.0/2.0*gamma_23 - 1.0/2.0*gamma_2d - 1.0/2.0*gamma_3d - 1.0/2.0*gamma_mu*(n_b + 1)\n",
      "L[71] = -delta_2 + delta_3\n",
      "L[72] = 0\n",
      "L[73] = -2*Omega_o\n",
      "L[74] = 2*Omega_o\n",
      "L[75] = -a_r*g\n",
      "L[76] = a_i*g\n",
      "L[77] = Omega_mu\n",
      "L[78] = 0\n",
      "L[79] = delta_2 - delta_3\n",
      "L[80] = -1.0/2.0*gamma_13 - 1.0/2.0*gamma_23 - 1.0/2.0*gamma_2d - 1.0/2.0*gamma_3d - 1.0/2.0*gamma_mu*(n_b + 1)\n"
     ]
    }
   ],
   "source": [
    "from sympy.printing import print_ccode\n",
    "Lflat = 1*L.T\n",
    "Lflat = Lflat[:]\n",
    "print_ccode(Lflat)\n",
    "\n",
    "print(\"-----------\")\n",
    "#because this is destined for cython it's in row-major order\n",
    "Lflatreal = 1*Lreal.T\n",
    "Lflatreal = Lflatreal[:]\n",
    "print_ccode(Lflatreal)\n",
    "print(\"----------\")\n",
    "for k in range(81):\n",
    "    print(\"L[%d] = \"%(k,),end=\"\")\n",
    "    print_ccode(Lflatreal[k])"
   ]
  },
  {
   "cell_type": "markdown",
   "metadata": {
    "heading_collapsed": true
   },
   "source": [
    "## Numerical code for steady state"
   ]
  },
  {
   "cell_type": "markdown",
   "metadata": {
    "heading_collapsed": true,
    "hidden": true
   },
   "source": [
    "### Python code\n",
    "- Using analytic expressions above\n",
    "- The code below is much slower than the cython version below, but useful for confirming correctness of cython version."
   ]
  },
  {
   "cell_type": "code",
   "execution_count": 21,
   "metadata": {
    "ExecuteTime": {
     "end_time": "2018-08-01T04:33:01.356716Z",
     "start_time": "2018-08-01T04:33:01.328225Z"
    },
    "hidden": true
   },
   "outputs": [],
   "source": [
    "Lfunc = sym.lambdify((a,delta2, delta3, gamma13, gamma23, gamma2d, gamma3d, nbath,gammamu,omegao,omegam,g),L)\n",
    "\n",
    "Lrealfunc = sym.lambdify((ar,ai,delta2, delta3, gamma13, gamma23, gamma2d, gamma3d, nbath,gammamu,omegao,omegam,g),Lreal)\n",
    "\n",
    "# finds the steady state density matrix\n",
    "# p is a python dictionary full of parameters\n",
    "\n",
    "def steady_rho(p):\n",
    "    \n",
    "    Lmatrix = Lfunc(p['a'],p['delta2'],p['delta3'],p['gamma13'],\n",
    "                               p['gamma23'],p['gamma2d'],p['gamma3d'],p['nbath'],\n",
    "                               p['gammamu'],p['omegao'],p['omegam'],p['g'])\n",
    "    \n",
    "    #return Lmatrix\n",
    "    rho = np.linalg.solve(Lmatrix.astype('complex128'),np.matrix([[1,0,0,0,0,0,0,0,0]]).T)\n",
    "    return np.reshape(rho,(3,3),order='F')\n",
    "\n",
    "# this code is commented out because it has been replaced by cython version\n",
    "# will leave it for future sanity checks if \n",
    "\n",
    "# Just the rho13 element of the density matrix:\n",
    "\n",
    "# def steady_rho13_older(p):\n",
    "#     Lmatrix = Lfunc(p['a'],p['delta2'],p['delta3'],p['gamma13'],\n",
    "#                                p['gamma23'],p['gamma2d'],p['gamma3d'],p['nbath'],\n",
    "#                                p['gammamu'],p['omegao'],p['omegam'],p['g'])\n",
    "#     #return Lmatrix\n",
    "#     rho = np.linalg.solve(Lmatrix.astype('complex128'),np.matrix([[1,0,0,0,0,0,0,0,0]]).T)\n",
    "#     return rho[6]\n",
    "\n",
    "# # another version \n",
    "# def steady_rho13_old(p):\n",
    "#     Lmatrix =  Lrealfunc(np.real(p['a']),np.real(p['a']),p['delta2'],p['delta3'],p['gamma13'],\n",
    "#                                p['gamma23'],p['gamma2d'],p['gamma3d'],p['nbath'],\n",
    "#                                p['gammamu'],p['omegao'],p['omegam'],p['g'])\n",
    "#     rho = np.linalg.solve(Lmatrix.astype('double'),np.matrix([[1,0,0,0,0,0,0,0,0]]).T)    \n",
    "#     return rho[5]+1j*rho[6]"
   ]
  },
  {
   "cell_type": "markdown",
   "metadata": {
    "hidden": true
   },
   "source": [
    "### Cython versions\n",
    " Implemented in cython to make it (much) faster."
   ]
  },
  {
   "cell_type": "code",
   "execution_count": 22,
   "metadata": {
    "ExecuteTime": {
     "end_time": "2018-08-01T04:33:05.155188Z",
     "start_time": "2018-08-01T04:33:01.357968Z"
    },
    "hidden": true
   },
   "outputs": [
    {
     "name": "stdout",
     "output_type": "stream",
     "text": [
      "[1/1] Cythonizing /home/jevon/.cache/ipython/cython/_cython_magic_74ad2fd20a76c5ac71360d0e03708b36.pyx\n",
      "building '_cython_magic_74ad2fd20a76c5ac71360d0e03708b36' extension\n",
      "x86_64-linux-gnu-gcc -pthread -DNDEBUG -g -fwrapv -O2 -Wall -Wstrict-prototypes -g -fdebug-prefix-map=/build/python3.6-EKG1lX/python3.6-3.6.5=. -specs=/usr/share/dpkg/no-pie-compile.specs -fstack-protector-strong -Wformat -Werror=format-security -Wdate-time -D_FORTIFY_SOURCE=2 -fPIC -I/home/jevon/.local/lib/python3.6/site-packages/numpy/core/include -I/usr/include/python3.6m -c /home/jevon/.cache/ipython/cython/_cython_magic_74ad2fd20a76c5ac71360d0e03708b36.c -o /home/jevon/.cache/ipython/cython/home/jevon/.cache/ipython/cython/_cython_magic_74ad2fd20a76c5ac71360d0e03708b36.o -fopenmp\n",
      "x86_64-linux-gnu-gcc -pthread -shared -Wl,-O1 -Wl,-Bsymbolic-functions -Wl,-Bsymbolic-functions -specs=/usr/share/dpkg/no-pie-link.specs -Wl,-z,relro -Wl,-Bsymbolic-functions -specs=/usr/share/dpkg/no-pie-link.specs -Wl,-z,relro -g -fdebug-prefix-map=/build/python3.6-EKG1lX/python3.6-3.6.5=. -specs=/usr/share/dpkg/no-pie-compile.specs -fstack-protector-strong -Wformat -Werror=format-security -Wdate-time -D_FORTIFY_SOURCE=2 /home/jevon/.cache/ipython/cython/home/jevon/.cache/ipython/cython/_cython_magic_74ad2fd20a76c5ac71360d0e03708b36.o -o /home/jevon/.cache/ipython/cython/_cython_magic_74ad2fd20a76c5ac71360d0e03708b36.cpython-36m-x86_64-linux-gnu.so -fopenmp\n"
     ]
    }
   ],
   "source": [
    "%%cython --compile-args=-fopenmp --link-args=-fopenmp --verbose --force\n",
    "#### %%cython -a # this gives \"highligted\" output\n",
    "\n",
    "#cython: boundscheck=False, wraparound=False, nonecheck=False\n",
    "cimport cython\n",
    "import numpy as np\n",
    "from cython.parallel cimport prange\n",
    "cimport scipy.linalg.cython_lapack as lapack\n",
    "import numpy as np\n",
    "from libc.math cimport exp\n",
    "\n",
    "\n",
    "cdef int nextpow2(int x):\n",
    "    cdef int n=1\n",
    "    while(True):\n",
    "        if n>=x:\n",
    "            return n\n",
    "        n=2*n\n",
    "\n",
    "def steady_rho13(p):\n",
    "    cdef double a_r,a_i,delta_2,delta_3,gamma_13,gamma_23,gamma_2d,gamma_3d,n_b,gamma_mu,Omega_o,Omega_mu,g\n",
    "    cdef double L[81]\n",
    "    cdef double V[9]\n",
    "    cdef int n = 9\n",
    "    cdef double complex a\n",
    "    cdef int info\n",
    "    cdef int lda = 9\n",
    "    cdef int ldb = 9 \n",
    "    cdef int nrhs = 1\n",
    "    cdef int workspace[9]\n",
    "    \n",
    "    V[:]= [1,0,0, 0,0,0, 0,0,0]\n",
    "    a = p['a']\n",
    "    a_r = a.real\n",
    "    a_i = a.imag\n",
    "    delta_2 = p['delta2']\n",
    "    delta_3 = p['delta3']\n",
    "    gamma_13 = p['gamma13']\n",
    "    gamma_23 = p['gamma23'] \n",
    "    gamma_2d = p['gamma2d']\n",
    "    gamma_3d = p['gamma3d']\n",
    "    n_b = p['nbath']\n",
    "    gamma_mu = p['gammamu']\n",
    "    Omega_o = p['omegao'] \n",
    "    Omega_mu = p['omegam']\n",
    "    g = p['g']\n",
    " #   with nogil: # to make sure it's not doing any slow python calls\n",
    "    L[:] = (1, gamma_mu*n_b, 0, 0, Omega_mu, a_i*g, a_r*g, 0, 0, 1, -gamma_mu*(n_b + 1), 0, 0, -Omega_mu, 0, 0, 0, Omega_o, 1, gamma_23, -gamma_13 - gamma_23, 0, 0, -a_i*g, -a_r*g, 0, -Omega_o, 0, 0, 0, -1.0/2.0*gamma_2d - gamma_mu*n_b - 1.0/2.0*gamma_mu, delta_2, 0, Omega_o, a_i*g, a_r*g, 0, 2*Omega_mu, 0, -delta_2, -1.0/2.0*gamma_2d - gamma_mu*n_b - 1.0/2.0*gamma_mu, -Omega_o, 0, a_r*g, -a_i*g, 0, 0, 2*a_i*g, 0, Omega_o, -1.0/2.0*gamma_13 - 1.0/2.0*gamma_23 - 1.0/2.0*gamma_3d - 1.0/2.0*gamma_mu*n_b, delta_3, 0, -Omega_mu, 0, 0, 2*a_r*g, -Omega_o, 0, -delta_3, -1.0/2.0*gamma_13 - 1.0/2.0*gamma_23 - 1.0/2.0*gamma_3d - 1.0/2.0*gamma_mu*n_b, Omega_mu, 0, 0, 0, 0, -a_i*g, -a_r*g, 0, -Omega_mu, -1.0/2.0*gamma_13 - 1.0/2.0*gamma_23 - 1.0/2.0*gamma_2d - 1.0/2.0*gamma_3d - 1.0/2.0*gamma_mu*(n_b + 1), -delta_2 + delta_3, 0, -2*Omega_o, 2*Omega_o, -a_r*g, a_i*g, Omega_mu, 0, delta_2 - delta_3, -1.0/2.0*gamma_13 - 1.0/2.0*gamma_23 - 1.0/2.0*gamma_2d - 1.0/2.0*gamma_3d - 1.0/2.0*gamma_mu*(n_b + 1))\n",
    "    \n",
    "    lapack.dgesv(&n,&nrhs,L,&lda,workspace,V,&ldb,&info)\n",
    "    return V[5]+1j*V[6]\n",
    "\n",
    "\n",
    "cdef double complex steady_rho13_lots_of_args(double a_r,\n",
    "                               double a_i,\n",
    "                               double delta_2,\n",
    "                               double delta_3,\n",
    "                               double gamma_13,\n",
    "                               double gamma_23,\n",
    "                               double gamma_2d,\n",
    "                               double gamma_3d,\n",
    "                               double n_b,\n",
    "                               double gamma_mu,\n",
    "                               double Omega_o,\n",
    "                               double Omega_mu,\n",
    "                               double g) nogil:\n",
    "    cdef double L[81]\n",
    "    cdef double V[9]\n",
    "    cdef int n = 9\n",
    "    cdef double complex a\n",
    "    cdef int info\n",
    "    cdef int lda = 9\n",
    "    cdef int ldb = 9 \n",
    "    cdef int nrhs = 1\n",
    "    cdef int workspace[9]\n",
    "    cdef int k\n",
    "  \n",
    "    # Unfortunately cant use this syntax if we dont have dont have GIL\n",
    "    #V[:] = [1,0,0, 0,0,0, 0,0,0]\n",
    "    #L[:] = (1, gamma_mu*n_b, 0, 0, Omega_mu, a_i*g, a_r*g, 0, 0, 1, -gamma_mu*(n_b + 1), 0, 0, -Omega_mu, 0, 0, 0, Omega_o, 1, gamma_23, -gamma_13 - gamma_23, 0, 0, -a_i*g, -a_r*g, 0, -Omega_o, 0, 0, 0, -1.0/2.0*gamma_2d - gamma_mu*n_b - 1.0/2.0*gamma_mu, delta_2, 0, Omega_o, a_i*g, a_r*g, 0, 2*Omega_mu, 0, -delta_2, -1.0/2.0*gamma_2d - gamma_mu*n_b - 1.0/2.0*gamma_mu, -Omega_o, 0, a_r*g, -a_i*g, 0, 0, 2*a_i*g, 0, Omega_o, -1.0/2.0*gamma_13 - 1.0/2.0*gamma_23 - 1.0/2.0*gamma_3d - 1.0/2.0*gamma_mu*n_b, delta_3, 0, -Omega_mu, 0, 0, 2*a_r*g, -Omega_o, 0, -delta_3, -1.0/2.0*gamma_13 - 1.0/2.0*gamma_23 - 1.0/2.0*gamma_3d - 1.0/2.0*gamma_mu*n_b, Omega_mu, 0, 0, 0, 0, -a_i*g, -a_r*g, 0, -Omega_mu, -1.0/2.0*gamma_13 - 1.0/2.0*gamma_23 - 1.0/2.0*gamma_2d - 1.0/2.0*gamma_3d - 1.0/2.0*gamma_mu*(n_b + 1), -delta_2 + delta_3, 0, -2*Omega_o, 2*Omega_o, -a_r*g, a_i*g, Omega_mu, 0, delta_2 - delta_3, -1.0/2.0*gamma_13 - 1.0/2.0*gamma_23 - 1.0/2.0*gamma_2d - 1.0/2.0*gamma_3d - 1.0/2.0*gamma_mu*(n_b + 1))\n",
    "    \n",
    "    for k in range(9):\n",
    "        V[k] = 0\n",
    "    V[0] = 1\n",
    "    \n",
    "    L[0] = 1\n",
    "    L[1] = gamma_mu*n_b\n",
    "    L[2] = 0\n",
    "    L[3] = 0\n",
    "    L[4] = Omega_mu\n",
    "    L[5] = a_i*g\n",
    "    L[6] = a_r*g\n",
    "    L[7] = 0\n",
    "    L[8] = 0\n",
    "    L[9] = 1\n",
    "    L[10] = -gamma_mu*(n_b + 1)\n",
    "    L[11] = 0\n",
    "    L[12] = 0\n",
    "    L[13] = -Omega_mu\n",
    "    L[14] = 0\n",
    "    L[15] = 0\n",
    "    L[16] = 0\n",
    "    L[17] = Omega_o\n",
    "    L[18] = 1\n",
    "    L[19] = gamma_23\n",
    "    L[20] = -gamma_13 - gamma_23\n",
    "    L[21] = 0\n",
    "    L[22] = 0\n",
    "    L[23] = -a_i*g\n",
    "    L[24] = -a_r*g\n",
    "    L[25] = 0\n",
    "    L[26] = -Omega_o\n",
    "    L[27] = 0\n",
    "    L[28] = 0\n",
    "    L[29] = 0\n",
    "    L[30] = -1.0/2.0*gamma_2d - gamma_mu*n_b - 1.0/2.0*gamma_mu\n",
    "    L[31] = delta_2\n",
    "    L[32] = 0\n",
    "    L[33] = Omega_o\n",
    "    L[34] = a_i*g\n",
    "    L[35] = a_r*g\n",
    "    L[36] = 0\n",
    "    L[37] = 2*Omega_mu\n",
    "    L[38] = 0\n",
    "    L[39] = -delta_2\n",
    "    L[40] = -1.0/2.0*gamma_2d - gamma_mu*n_b - 1.0/2.0*gamma_mu\n",
    "    L[41] = -Omega_o\n",
    "    L[42] = 0\n",
    "    L[43] = a_r*g\n",
    "    L[44] = -a_i*g\n",
    "    L[45] = 0\n",
    "    L[46] = 0\n",
    "    L[47] = 2*a_i*g\n",
    "    L[48] = 0\n",
    "    L[49] = Omega_o\n",
    "    L[50] = -1.0/2.0*gamma_13 - 1.0/2.0*gamma_23 - 1.0/2.0*gamma_3d - 1.0/2.0*gamma_mu*n_b\n",
    "    L[51] = delta_3\n",
    "    L[52] = 0\n",
    "    L[53] = -Omega_mu\n",
    "    L[54] = 0\n",
    "    L[55] = 0\n",
    "    L[56] = 2*a_r*g\n",
    "    L[57] = -Omega_o\n",
    "    L[58] = 0\n",
    "    L[59] = -delta_3\n",
    "    L[60] = -1.0/2.0*gamma_13 - 1.0/2.0*gamma_23 - 1.0/2.0*gamma_3d - 1.0/2.0*gamma_mu*n_b\n",
    "    L[61] = Omega_mu\n",
    "    L[62] = 0\n",
    "    L[63] = 0\n",
    "    L[64] = 0\n",
    "    L[65] = 0\n",
    "    L[66] = -a_i*g\n",
    "    L[67] = -a_r*g\n",
    "    L[68] = 0\n",
    "    L[69] = -Omega_mu\n",
    "    L[70] = -1.0/2.0*gamma_13 - 1.0/2.0*gamma_23 - 1.0/2.0*gamma_2d - 1.0/2.0*gamma_3d - 1.0/2.0*gamma_mu*(n_b + 1)\n",
    "    L[71] = -delta_2 + delta_3\n",
    "    L[72] = 0\n",
    "    L[73] = -2*Omega_o\n",
    "    L[74] = 2*Omega_o\n",
    "    L[75] = -a_r*g\n",
    "    L[76] = a_i*g\n",
    "    L[77] = Omega_mu\n",
    "    L[78] = 0\n",
    "    L[79] = delta_2 - delta_3\n",
    "    L[80] = -1.0/2.0*gamma_13 - 1.0/2.0*gamma_23 - 1.0/2.0*gamma_2d - 1.0/2.0*gamma_3d - 1.0/2.0*gamma_mu*(n_b + 1)\n",
    "    lapack.dgesv(&n,&nrhs,L,&lda,workspace,V,&ldb,&info)\n",
    "    return V[5]+1j*V[6]\n",
    "\n",
    "\n",
    "\n",
    "\n",
    "\n",
    "# Steady state an ensemble of atoms, returns a matrix of rho13 values as well as the list of \n",
    "# weights from the inhomogeneous broadening distribution.\n",
    "# Convolve the two to get simulate single pass raman heterodyne signal as a function of frequency\n",
    "\n",
    "def ensemble_steady_rho13(p,delta2vals,delta3vals):\n",
    "    cdef double a_r,a_i,delta_2,delta_3,gamma_13,gamma_23,gamma_2d,gamma_3d,n_b,gamma_mu,Omega_o,Omega_mu,g\n",
    "    a = p['a']\n",
    "    a_r = a.real\n",
    "    a_i = a.imag\n",
    "    delta_2 = p['delta2']\n",
    "    delta_3 = p['delta3']\n",
    "    gamma_13 = p['gamma13']\n",
    "    gamma_23 = p['gamma23'] \n",
    "    gamma_2d = p['gamma2d']\n",
    "    gamma_3d = p['gamma3d']\n",
    "    n_b = p['nbath']\n",
    "    gamma_mu = p['gammamu']\n",
    "    Omega_o = p['omegao'] \n",
    "    Omega_mu = p['omegam']\n",
    "    g = p['g']\n",
    "    \n",
    "    cdef int ii\n",
    "    cdef int jj\n",
    "    \n",
    "    cdef double m2 = p['mean_delta2']\n",
    "    cdef double sd2 = p['sd_delta2']\n",
    "    cdef double m3 = p['mean_delta3']\n",
    "    cdef double sd3 = p['sd_delta3']\n",
    "    #print(sd3)\n",
    "    \n",
    "    cdef double [:] delta2valsv = delta2vals\n",
    "    cdef double [:] delta3valsv = delta3vals\n",
    "    \n",
    "    cdef int ndelta2 = len(delta2vals)\n",
    "    cdef int ndelta3 = len(delta3vals)\n",
    "    \n",
    "    cdef double df2 = delta2valsv[1]-delta2valsv[0]\n",
    "    cdef double df3 = delta3valsv[1]-delta3valsv[0]\n",
    "    \n",
    "    coh13 = np.zeros((ndelta2,ndelta3),dtype='complex128') #make numpy array\n",
    "    cdef double complex [:,:] coh13v = coh13 #make cython  \"view\" of the data\n",
    "    \n",
    "    w = np.zeros((ndelta2,ndelta3),dtype='complex128') #make numpy array for gaussian weights\n",
    "    cdef double complex [:,:] wv = w #make cython  \"view\" of the data\n",
    "    \n",
    "    for ii in prange(ndelta2, nogil=True):\n",
    "    #for ii in range(ndelta2):    \n",
    "        delta_2 = delta2valsv[ii]\n",
    "        for jj in range(ndelta3):\n",
    "            delta_3 = delta3valsv[jj]\n",
    "            coh13v[ii,jj] = steady_rho13_lots_of_args(a_r,\n",
    "                               a_i,\n",
    "                               delta_2,\n",
    "                               delta_3,\n",
    "                               gamma_13,\n",
    "                               gamma_23,\n",
    "                               gamma_2d,\n",
    "                               gamma_3d,\n",
    "                               n_b,\n",
    "                               gamma_mu,\n",
    "                               Omega_o,\n",
    "                               Omega_mu,\n",
    "                               g)\n",
    "            wv[ii,jj] = 1.0/(2*3.14159265358979323846*sd3*sd2) * exp(-(delta_2-m2)**2/(2*sd2*sd2)-(delta_3-m3)**2/(2*sd3*sd3))\n",
    "    return (coh13,w)\n",
    "\n",
    "# Integrate over an ensemble using simpson's rule\n",
    "cpdef ensemble_steady_rho13_integrated(p,double df):\n",
    "    #cdef double df = 200e3 #frequency discretization\n",
    "    cdef double a_r,a_i,delta_2,delta_3,gamma_13,gamma_23,gamma_2d,gamma_3d,n_b,gamma_mu,Omega_o,Omega_mu,g\n",
    "    a = p['a']\n",
    "    a_r = a.real\n",
    "    a_i = a.imag\n",
    "    delta_2 = p['delta2']\n",
    "    delta_3 = p['delta3']\n",
    "    gamma_13 = p['gamma13']\n",
    "    gamma_23 = p['gamma23'] \n",
    "    gamma_2d = p['gamma2d']\n",
    "    gamma_3d = p['gamma3d']\n",
    "    n_b = p['nbath']\n",
    "    gamma_mu = p['gammamu']\n",
    "    Omega_o = p['omegao'] \n",
    "    Omega_mu = p['omegam']\n",
    "    g = p['g']\n",
    "    \n",
    "    cdef int ii\n",
    "    cdef int jj\n",
    "    \n",
    "    cdef double m2 = p['mean_delta2']\n",
    "    cdef double sd2 = p['sd_delta2']\n",
    "    cdef double m3 = p['mean_delta3']\n",
    "    cdef double sd3 = p['sd_delta3']\n",
    "    \n",
    "    cdef int w2,w3\n",
    "    \n",
    "    cdef int ndelta2 = 2*int(3*sd2/df)+1\n",
    "    cdef int ndelta3 = 2*int(3*sd3/df)+1\n",
    "    # print(ndelta2,ndelta3) \n",
    "\n",
    "    delta2vals = np.linspace(-3,3,ndelta2)*sd2+m2\n",
    "    delta3vals = np.linspace(-3,3,ndelta3)*sd3+m3\n",
    "   \n",
    "    cdef double [:] delta2valsv = delta2vals\n",
    "    cdef double [:] delta3valsv = delta3vals\n",
    "\n",
    "    \n",
    "    simpsonw2 = np.empty((ndelta2,),dtype='int32')\n",
    "    cdef int [:] simpsonw2v = simpsonw2 \n",
    "    simpsonw3 = np.empty((ndelta3,),dtype='int32')\n",
    "    cdef int [:] simpsonw3v = simpsonw3   \n",
    "    \n",
    "    ii=0\n",
    "    while(ii<(ndelta2-1)):\n",
    "        simpsonw2v[ii]=2\n",
    "        ii+=1\n",
    "        simpsonw2v[ii]=4\n",
    "        ii+=1\n",
    "    simpsonw2v[0]=1\n",
    "    simpsonw2v[ndelta2-1]=1\n",
    "          \n",
    "    ii=0\n",
    "    while(ii<(ndelta3-1)):\n",
    "        simpsonw3v[ii]=2\n",
    "        ii+=1\n",
    "        simpsonw3v[ii]=4\n",
    "        ii+=1\n",
    "    simpsonw3v[0]=1\n",
    "    simpsonw3v[ndelta3-1]=1\n",
    "\n",
    "    \n",
    "    \n",
    "    cdef double complex z = 0\n",
    "    cdef double sum_r = 0\n",
    "    cdef double sum_i = 0\n",
    "    cdef double gaussie\n",
    "    for ii in prange(ndelta2,nogil=True):\n",
    "    #for ii in range(ndelta2):\n",
    "        delta_2 = delta2valsv[ii]\n",
    "        w2 = simpsonw2v[ii]\n",
    "        for jj in range(ndelta3):\n",
    "            delta_3 = delta3valsv[jj]\n",
    "            w3 = simpsonw3v[jj]\n",
    "            gaussie = 1.0/(2*3.14159265358979323846*sd3*sd2) * exp(-(delta_2-m2)**2/(2*sd2*sd2)-(delta_3-m3)**2/(2*sd3*sd3))\n",
    "            z = steady_rho13_lots_of_args(a_r,\n",
    "                               a_i,\n",
    "                               delta_2,\n",
    "                               delta_3,\n",
    "                               gamma_13,\n",
    "                               gamma_23,\n",
    "                               gamma_2d,\n",
    "                               gamma_3d,\n",
    "                               n_b,\n",
    "                               gamma_mu,\n",
    "                               Omega_o,\n",
    "                               Omega_mu,\n",
    "                               g)*gaussie*w2*w3\n",
    "            #this is because cython doesn't know how to automatically do reductions for \n",
    "            #complex variables but seems to for doubles\n",
    "            sum_r += z.real\n",
    "            sum_i += z.imag\n",
    "    return (sum_r+sum_i*1j)*df*df/9.0\n"
   ]
  },
  {
   "cell_type": "markdown",
   "metadata": {},
   "source": [
    "## Calculations - just atoms"
   ]
  },
  {
   "cell_type": "markdown",
   "metadata": {},
   "source": [
    "### Single pass - no inhomogeneous broadening\n",
    "#### Weird behavior -- driving both microwave and optical pump hard \n",
    "- Signal persists at very high microwave detuning \n",
    "- EIT like features"
   ]
  },
  {
   "cell_type": "code",
   "execution_count": 23,
   "metadata": {
    "ExecuteTime": {
     "end_time": "2018-08-01T04:33:05.383277Z",
     "start_time": "2018-08-01T04:33:05.156766Z"
    }
   },
   "outputs": [
    {
     "data": {
      "image/png": "[encoded data removed]",
      "text/plain": [
       "<Figure size 432x288 with 2 Axes>"
      ]
     },
     "metadata": {},
     "output_type": "display_data"
    }
   ],
   "source": [
    "#some default parameters\n",
    "p = {}\n",
    "p['a'] = 0\n",
    "p['delta2'] = 0.\n",
    "p['delta3'] = 0.\n",
    "p['gamma13'] = 1./22e-3\n",
    "p['gamma23'] = 1./22e-3\n",
    "p['gamma2d'] = 1./1e-6\n",
    "p['gamma3d'] = 1./1e-6\n",
    "p['nbath'] = 20\n",
    "p['gammamu'] = 1./((p['nbath']+1)*11e-3)\n",
    "p['omegao'] = 10e6\n",
    "p['omegam'] = 10e6\n",
    "p['g'] = 0.\n",
    "\n",
    "# Code currently requires these, even if we're not interested in\n",
    "# inhomogeneous brodening for the moment\n",
    "p['mean_delta2']=0 \n",
    "p['sd_delta2']=20e6/2.355 #2.355 is to turn FWHM into standard deviation\n",
    "p['mean_delta3']=0\n",
    "p['sd_delta3']=300e6/2.355\n",
    "\n",
    "delta2vals = np.linspace(-10000e6,10000e6,501)\n",
    "delta3vals = np.linspace(-100e6,100e6,501)\n",
    "\n",
    "coh,_ = ensemble_steady_rho13(p,delta2vals,delta3vals)       \n",
    "\n",
    "#plt.rcParams['figure.figsize'] = [10, 4]\n",
    "plt.imshow(np.abs(coh),extent = [min(delta3vals)/1e6,max(delta3vals)/1e6,max(delta2vals)/1e6,min(delta2vals)/1e6],aspect='auto')\n",
    "plt.ylabel('delta_2')\n",
    "plt.xlabel('delta_3')\n",
    "plt.colorbar();"
   ]
  },
  {
   "cell_type": "markdown",
   "metadata": {},
   "source": [
    "#### Strong optical pump, weak microwaves"
   ]
  },
  {
   "cell_type": "code",
   "execution_count": 24,
   "metadata": {
    "ExecuteTime": {
     "end_time": "2018-08-01T04:33:05.573802Z",
     "start_time": "2018-08-01T04:33:05.384766Z"
    }
   },
   "outputs": [
    {
     "data": {
      "image/png": "[encoded data removed]",
      "text/plain": [
       "<Figure size 432x288 with 2 Axes>"
      ]
     },
     "metadata": {},
     "output_type": "display_data"
    }
   ],
   "source": [
    "#some default parameters\n",
    "p = {}\n",
    "p['a'] = 0.0\n",
    "p['delta2'] = 0.0\n",
    "p['delta3'] = 0.0\n",
    "p['gamma13'] = 1./22e-3\n",
    "p['gamma23'] = 1./22e-3\n",
    "p['gamma2d'] = 1./1e-6\n",
    "p['gamma3d'] = 1./1e-6\n",
    "p['nbath'] = 20\n",
    "p['gammamu'] = 1./((p['nbath']+1)*11e-3)\n",
    "p['omegao'] = 10e6\n",
    "p['omegam'] = 1e3\n",
    "p['g'] = 0.0\n",
    "\n",
    "\n",
    "# Code currently requires these, even if we're not interested in\n",
    "# inhomogeneous brodening for the moment\n",
    "p['mean_delta2']=0 \n",
    "p['sd_delta2']=20e6/2.355 #2.355 is to turn FWHM into standard deviation\n",
    "p['mean_delta3']=0\n",
    "p['sd_delta3']=300e6/2.355\n",
    "\n",
    "\n",
    "delta2vals = np.linspace(-50e6,50e6,505)\n",
    "delta3vals = np.linspace(-50e6,50e6,505)\n",
    "\n",
    "     \n",
    "coh,_ = ensemble_steady_rho13(p,delta2vals,delta3vals)       \n",
    "coh = np.abs(coh)\n",
    "\n",
    "#plt.rcParams['figure.figsize'] = [10, 4]\n",
    "plt.imshow(coh,extent = [min(delta3vals)/1e6,max(delta3vals)/1e6,max(delta2vals)/1e6,min(delta2vals)/1e6],aspect='auto')\n",
    "plt.ylabel('delta_2')\n",
    "plt.xlabel('delta_3')\n",
    "plt.colorbar();\n"
   ]
  },
  {
   "cell_type": "markdown",
   "metadata": {},
   "source": [
    "#### Strong microwaves, weak optical pump"
   ]
  },
  {
   "cell_type": "code",
   "execution_count": 25,
   "metadata": {
    "ExecuteTime": {
     "end_time": "2018-08-01T04:33:05.785053Z",
     "start_time": "2018-08-01T04:33:05.575264Z"
    }
   },
   "outputs": [
    {
     "data": {
      "image/png": "[encoded data removed]",
      "text/plain": [
       "<Figure size 432x288 with 2 Axes>"
      ]
     },
     "metadata": {},
     "output_type": "display_data"
    }
   ],
   "source": [
    "#some default parameters\n",
    "p = {}\n",
    "p['a'] = 0\n",
    "p['delta2'] = 0.\n",
    "p['delta3'] = 0.\n",
    "p['gamma13'] = 1./22e-3\n",
    "p['gamma23'] = 1./22e-3\n",
    "p['gamma2d'] = 1./1e-6\n",
    "p['gamma3d'] = 1./1e-6\n",
    "p['nbath'] = 20\n",
    "p['gammamu'] = 1./((p['nbath']+1)*11e-3)\n",
    "p['omegao'] = 1e3\n",
    "p['omegam'] = 10e6\n",
    "p['g'] = 0.\n",
    "\n",
    "# Code currently requires these, even if we're not interested in\n",
    "# inhomogeneous brodening for the moment\n",
    "p['mean_delta2']=0 \n",
    "p['sd_delta2']=20e6/2.355 #2.355 is to turn FWHM into standard deviation\n",
    "p['mean_delta3']=0\n",
    "p['sd_delta3']=300e6/2.355\n",
    "\n",
    "delta2vals = np.linspace(-40e6,40e6,501)\n",
    "delta3vals = np.linspace(-40e6,40e6,501)\n",
    "\n",
    "   \n",
    "coh,_ = ensemble_steady_rho13(p,delta2vals,delta3vals)       \n",
    "coh = np.abs(coh)\n",
    "\n",
    "\n",
    "#plt.rcParams['figure.figsize'] = [8, 4]\n",
    "plt.imshow(coh,extent = [min(delta3vals)/1e6,max(delta3vals)/1e6,max(delta2vals)/1e6,min(delta2vals)/1e6],aspect='auto')\n",
    "plt.ylabel('delta_2')\n",
    "plt.xlabel('delta_3')\n",
    "plt.colorbar();"
   ]
  },
  {
   "cell_type": "markdown",
   "metadata": {},
   "source": [
    "#### Both microwaves and optical pump weak"
   ]
  },
  {
   "cell_type": "code",
   "execution_count": 26,
   "metadata": {
    "ExecuteTime": {
     "end_time": "2018-08-01T04:33:05.994015Z",
     "start_time": "2018-08-01T04:33:05.786176Z"
    }
   },
   "outputs": [
    {
     "data": {
      "image/png": "[encoded data removed]",
      "text/plain": [
       "<Figure size 576x288 with 2 Axes>"
      ]
     },
     "metadata": {},
     "output_type": "display_data"
    }
   ],
   "source": [
    "p = {}\n",
    "p['a'] = 0\n",
    "p['delta2'] = 0.\n",
    "p['delta3'] = 0.\n",
    "p['gamma13'] = 1./22e-3\n",
    "p['gamma23'] = 1./22e-3\n",
    "p['gamma2d'] = 1./1e-6\n",
    "p['gamma3d'] = 1./1e-6\n",
    "p['nbath'] = 20\n",
    "p['gammamu'] = 1./((p['nbath']+1)*11e-3)\n",
    "p['omegao'] = 1e3\n",
    "p['omegam'] = 1e3\n",
    "p['g'] = 0.\n",
    "\n",
    "# Code currently requires these, even if we're not interested in\n",
    "# inhomogeneous brodening for the moment\n",
    "p['mean_delta2']=0 \n",
    "p['sd_delta2']=20e6/2.355 #2.355 is to turn FWHM into standard deviation\n",
    "p['mean_delta3']=0\n",
    "p['sd_delta3']=300e6/2.355\n",
    "\n",
    "delta2vals = np.linspace(-5e6,5e6,501)\n",
    "delta3vals = np.linspace(-5e6,5e6,501)\n",
    "\n",
    "coh,_ = ensemble_steady_rho13(p,delta2vals,delta3vals)       \n",
    "coh = np.abs(coh)\n",
    "\n",
    "plt.rcParams['figure.figsize'] = [8, 4]\n",
    "plt.imshow(coh,extent = [min(delta3vals)/1e6,max(delta3vals)/1e6,max(delta2vals)/1e6,min(delta2vals)/1e6],aspect='auto')\n",
    "plt.ylabel('delta_2')\n",
    "plt.xlabel('delta_3')\n",
    "plt.colorbar();"
   ]
  },
  {
   "cell_type": "markdown",
   "metadata": {},
   "source": [
    "### Single pass signal with inhomogneous broadening\n",
    "\n"
   ]
  },
  {
   "cell_type": "code",
   "execution_count": 27,
   "metadata": {
    "ExecuteTime": {
     "end_time": "2018-08-01T04:33:13.483908Z",
     "start_time": "2018-08-01T04:33:05.995529Z"
    }
   },
   "outputs": [
    {
     "name": "stdout",
     "output_type": "stream",
     "text": [
      "CPU times: user 18.1 s, sys: 1.5 s, total: 19.6 s\n",
      "Wall time: 7.48 s\n"
     ]
    }
   ],
   "source": [
    "%%time \n",
    "p = {}\n",
    "p['a'] = 0\n",
    "p['delta2'] = 0.\n",
    "p['delta3'] = 0.\n",
    "p['gamma13'] = 1./22e-3\n",
    "p['gamma23'] = 1./22e-3\n",
    "p['gamma2d'] = 1./.1e-6 #unrealistically fast, but makes calculations easier\n",
    "p['gamma3d'] = 1./.1e-6\n",
    "p['nbath'] = 20\n",
    "p['gammamu'] = 1./((p['nbath']+1)*11e-3)\n",
    "p['omegao'] = 60e6\n",
    "p['omegam'] = 1e3\n",
    "p['g'] = 0.\n",
    "\n",
    "p['mean_delta2']=0\n",
    "p['sd_delta2']=20e6\n",
    "p['mean_delta3']=0\n",
    "p['sd_delta3']=20e6 #not realistic but makes calculations faster\n",
    "\n",
    "delta2vals = np.linspace(-100e6,100e6,1000)\n",
    "delta3vals = np.linspace(-1000e6,1000e6,10000)\n",
    "\n",
    "(coh13,w) = ensemble_steady_rho13(p,delta2vals,delta3vals)\n",
    "sig = signal.fftconvolve(coh13,w)"
   ]
  },
  {
   "cell_type": "code",
   "execution_count": 28,
   "metadata": {
    "ExecuteTime": {
     "end_time": "2018-08-01T04:33:15.661041Z",
     "start_time": "2018-08-01T04:33:13.485087Z"
    }
   },
   "outputs": [
    {
     "data": {
      "image/png": "[encoded data removed]",
      "text/plain": [
       "<Figure size 576x288 with 6 Axes>"
      ]
     },
     "metadata": {},
     "output_type": "display_data"
    }
   ],
   "source": [
    "#plt.rcParams['figure.figsize'] = [10, 20]\n",
    "plt.subplot(3,1,1)        \n",
    "plt.imshow(np.abs(coh13),extent = [min(delta3vals)/1e6,max(delta3vals)/1e6,max(delta2vals)/1e6,min(delta2vals)/1e6],aspect='auto')\n",
    "plt.ylabel('delta_2')\n",
    "plt.xlabel('delta_3')\n",
    "plt.title('Signal from inhomogenous packet')\n",
    "plt.colorbar();\n",
    "\n",
    "plt.subplot(3,1,2)\n",
    "plt.imshow(w.real,extent = [min(delta3vals)/1e6,max(delta3vals)/1e6,max(delta2vals)/1e6,min(delta2vals)/1e6],aspect='auto')\n",
    "plt.ylabel('delta_2')\n",
    "plt.xlabel('delta_3')\n",
    "plt.title('Inhomogeneous broadening distribution')\n",
    "plt.colorbar();\n",
    "\n",
    "plt.subplot(3,1,3)\n",
    "plt.imshow(np.abs(sig),extent = [min(delta3vals)/1e6,max(delta3vals)/1e6,max(delta2vals)/1e6,min(delta2vals)/1e6],aspect='auto')\n",
    "plt.ylabel('delta_2')\n",
    "plt.xlabel('delta_3')\n",
    "plt.title('simulated single pass signal')\n",
    "plt.colorbar();"
   ]
  },
  {
   "cell_type": "markdown",
   "metadata": {},
   "source": [
    "\n",
    "\n",
    "\n"
   ]
  },
  {
   "cell_type": "markdown",
   "metadata": {},
   "source": [
    "## Introducing cavity dynamics"
   ]
  },
  {
   "cell_type": "markdown",
   "metadata": {},
   "source": [
    "The (classical) equations of motion of the cavity mode amplitude are given by \n",
    "$$\n",
    "\\frac{d}{dt} a = -i \\delta_c a -i\\sum_k g_k \\sigma_{13,k} - \\frac{(\\kappa_i+\\kappa_c)}{2}a - \\sqrt{\\kappa_c} a_{in}\n",
    "$$\n",
    "Here $\\kappa_i$ is the intrisic loss rate of our cavity and $\\kappa_c$ is the coupling induced loss.\n",
    "\n",
    "Defining \n",
    "$$\n",
    "S_{13}(a)= \\sum_k g_k \\sigma_{13,k}\n",
    "$$ \n",
    "We write $S_{13}(a)$ to remind us (explicitly) that the atoms states are a function of the cavity mode amplitude $a$.\n",
    "\n",
    "Because we won't drive $a$ this becomes\n",
    "$$\n",
    "\\frac{d}{dt} a = -i \\delta_c a\n",
    "-i S_{13}(a)\n",
    "- \\frac{(\\kappa_i+\\kappa_c)}{2}a \n",
    "$$\n",
    "So to find the steady state of the cavity we need to find the roots of the function\n",
    "$$\n",
    "f(a) = -i \\delta_c a\n",
    "-i S_{13}(a)\n",
    "- \\frac{(\\kappa_i+\\kappa_c)}{2}a \n",
    "$$"
   ]
  },
  {
   "cell_type": "code",
   "execution_count": 29,
   "metadata": {
    "ExecuteTime": {
     "end_time": "2018-08-01T04:33:15.666660Z",
     "start_time": "2018-08-01T04:33:15.662557Z"
    }
   },
   "outputs": [],
   "source": [
    "def ffunc(p):\n",
    "    df = p['df']\n",
    "    a = p['a']\n",
    "    N = p['N']\n",
    "    g = p['g']\n",
    "    deltac = p['deltac']\n",
    "    kappa = p['kappaoi']+p['kappaoc']\n",
    "    S13 = N*g*ensemble_steady_rho13_integrated(p,df)\n",
    "    return -1j*deltac*a - 1j*S13 - kappa/2*a\n",
    "\n",
    "# the same function but in a form that maps a 2d vector to a 2d vector rather than complex -> complex\n",
    "def ffunc_for_root(avec,p):\n",
    "    a = avec[0]+1j*avec[1]\n",
    "    # print(a)\n",
    "    p['a']=a\n",
    "    f = ffunc(p)\n",
    "    print(\"a=\",avec.real,avec.imag)\n",
    "    return [f.real,f.imag]\n",
    "\n",
    "def steadya(p):\n",
    "    # use value of a as steady state\n",
    "    a = p['a']\n",
    "    avec = [a.real,a.imag]\n",
    "    df = p['df']\n",
    "    result = scipy.optimize.root(ffunc_for_root,avec,args=(p))\n",
    "    if not result.success:\n",
    "        print(result)\n",
    "        raise(AssertionError('The bloody thing didn\\'t converge: '+result.message))\n",
    "    #update p['a'] why not?\n",
    "    a = result.x[0]+1j*result.x[1]\n",
    "    p['a']=a\n",
    "    return a\n"
   ]
  },
  {
   "cell_type": "markdown",
   "metadata": {
    "ExecuteTime": {
     "end_time": "2018-07-31T11:15:58.220013Z",
     "start_time": "2018-07-31T11:15:58.215970Z"
    }
   },
   "source": [
    "These aren't very realistic parameters, but lead to fast calcs"
   ]
  },
  {
   "cell_type": "code",
   "execution_count": 30,
   "metadata": {
    "ExecuteTime": {
     "end_time": "2018-08-01T04:33:17.540751Z",
     "start_time": "2018-08-01T04:33:15.668113Z"
    }
   },
   "outputs": [
    {
     "name": "stdout",
     "output_type": "stream",
     "text": [
      "a= [0 0] [0 0]\n",
      "a= [0. 0.] [0. 0.]\n",
      "a= [0. 0.] [0. 0.]\n",
      "a= [1.49011612e-08 0.00000000e+00] [0. 0.]\n",
      "a= [0.00000000e+00 1.49011612e-08] [0. 0.]\n",
      "a= [-7.02010012e-19  2.53471217e-06] [0. 0.]\n",
      "a= [-1.55759622e-21  2.53471217e-06] [0. 0.]\n",
      "a= [-1.55759622e-21  2.53471217e-06] [0. 0.]\n",
      "a= [-1.55759622e-21  2.53471217e-06] [0. 0.]\n",
      "a= [-1.55759622e-21  2.53471217e-06] [0. 0.]\n",
      "a= [-1.55759620e-21  2.53471217e-06] [0. 0.]\n",
      "a= [-1.55759622e-21  2.53471221e-06] [0. 0.]\n",
      "a= [-1.89849189e-14  2.78272749e-06] [0. 0.]\n",
      "a= [-2.31629326e-14  3.43857205e-06] [0. 0.]\n",
      "a= [-1.38056594e-14  3.46773630e-06] [0. 0.]\n",
      "a= [-2.75524342e-15  3.40288672e-06] [0. 0.]\n",
      "a= [-3.53232227e-17  3.40528747e-06] [0. 0.]\n",
      "a= [9.78381180e-19 3.40512286e-06] [0. 0.]\n",
      "a= [3.05765019e-21 3.40512725e-06] [0. 0.]\n",
      "a= [-6.52005574e-21  3.40512725e-06] [0. 0.]\n",
      "a= [-7.88579250e-21  3.40512725e-06] [0. 0.]\n",
      "a= [-1.06836605e-20  3.40512725e-06] [0. 0.]\n",
      "a= [-8.34170074e-21  3.40512725e-06] [0. 0.]\n",
      "a= [-1.30256203e-20  3.40512725e-06] [0. 0.]\n",
      "a= [-3.65778117e-21  3.40512725e-06] [0. 0.]\n",
      "a= [1.05819459e-20 3.40512725e-06] [0. 0.]\n",
      "a= [9.21082585e-21 3.40512725e-06] [0. 0.]\n",
      "a= [9.88575719e-21 3.40512725e-06] [0. 0.]\n",
      "a= [9.72177158e-21 3.40512725e-06] [0. 0.]\n",
      "a= [1.03267025e-20 3.40512725e-06] [0. 0.]\n",
      "a= [9.26154373e-21 3.40512725e-06] [0. 0.]\n",
      "a= [9.26154373e-21 3.40512725e-06] [0. 0.]\n",
      "a= [9.26154373e-21 3.40512725e-06] [0. 0.]\n",
      "a= [9.26154373e-21 3.40512725e-06] [0. 0.]\n",
      "a= [9.26154386e-21 3.40512725e-06] [0. 0.]\n",
      "a= [9.26154373e-21 3.40512730e-06] [0. 0.]\n",
      "a= [-5.64664261e-20  4.57443731e-06] [0. 0.]\n",
      "a= [-5.64664432e-20  4.57443746e-06] [0. 0.]\n",
      "a= [-5.64664525e-20  4.57443746e-06] [0. 0.]\n",
      "a= [-5.64672557e-20  4.57443746e-06] [0. 0.]\n",
      "a= [-5.66176669e-20  4.57443746e-06] [0. 0.]\n",
      "a= [-5.59921372e-20  4.57443746e-06] [0. 0.]\n",
      "a= [-5.64672557e-20  4.57443746e-06] [0. 0.]\n",
      "a= [-5.64672557e-20  4.57443746e-06] [0. 0.]\n",
      "a= [-5.64672557e-20  4.57443746e-06] [0. 0.]\n",
      "a= [-5.64672548e-20  4.57443746e-06] [0. 0.]\n",
      "a= [-5.64672557e-20  4.57443753e-06] [0. 0.]\n",
      "a= [3.64308513e-19 6.14527671e-06] [0. 0.]\n",
      "a= [3.64308627e-19 6.14527631e-06] [0. 0.]\n",
      "a= [3.64308839e-19 6.14527631e-06] [0. 0.]\n",
      "a= [3.65837556e-19 6.14527631e-06] [0. 0.]\n",
      "a= [3.64308844e-19 6.14527631e-06] [0. 0.]\n",
      "a= [3.64308839e-19 6.14527640e-06] [0. 0.]\n",
      "a= [3.64322542e-19 6.14527631e-06] [0. 0.]\n",
      "a= [3.64552252e-19 6.14527631e-06] [0. 0.]\n",
      "a= [3.64308839e-19 6.14527631e-06] [0. 0.]\n",
      "a= [3.64308839e-19 6.14527631e-06] [0. 0.]\n",
      "a= [3.64308839e-19 6.14527631e-06] [0. 0.]\n",
      "a= [3.64308844e-19 6.14527631e-06] [0. 0.]\n",
      "a= [3.64308839e-19 6.14527640e-06] [0. 0.]\n",
      "a= [1.06018633e-18 8.25551151e-06] [0. 0.]\n",
      "a= [1.06019171e-18 8.25551180e-06] [0. 0.]\n",
      "a= [1.06019706e-18 8.25551180e-06] [0. 0.]\n",
      "a= [1.0707976e-18 8.2555118e-06] [0. 0.]\n",
      "a= [1.06019708e-18 8.25551180e-06] [0. 0.]\n",
      "a= [1.06019706e-18 8.25551193e-06] [0. 0.]\n",
      "a= [1.06017215e-18 8.25551180e-06] [0. 0.]\n",
      "a= [1.06017215e-18 8.25551180e-06] [0. 0.]\n",
      "a= [1.06017215e-18 8.25551180e-06] [0. 0.]\n",
      "a= [1.06017215e-18 8.25551180e-06] [0. 0.]\n",
      "a= [1.06017217e-18 8.25551180e-06] [0. 0.]\n",
      "a= [1.06017215e-18 8.25551193e-06] [0. 0.]\n",
      "a= [1.06296179e-17 1.10903331e-05] [0. 0.]\n",
      "a= [1.06297906e-17 1.10903320e-05] [0. 0.]\n",
      "a= [1.06299671e-17 1.10903320e-05] [0. 0.]\n",
      "a= [9.51674593e-18 1.10903320e-05] [0. 0.]\n",
      "a= [1.06297908e-17 1.10903320e-05] [0. 0.]\n",
      "a= [1.06297906e-17 1.10903321e-05] [0. 0.]\n",
      "a= [1.06289058e-17 1.10903320e-05] [0. 0.]\n",
      "a= [1.06021729e-17 1.10903320e-05] [0. 0.]\n",
      "a= [8.02786216e-18 1.10903320e-05] [0. 0.]\n",
      "a= [2.87924064e-18 1.10903320e-05] [0. 0.]\n",
      "a= [-5.24893206e-21  1.10903320e-05] [0. 0.]\n",
      "a= [-1.48696906e-21  1.10903320e-05] [0. 0.]\n",
      "a= [-1.48696906e-21  1.10903320e-05] [0. 0.]\n",
      "a= [-1.48696906e-21  1.10903320e-05] [0. 0.]\n",
      "a= [-1.48696906e-21  1.10903320e-05] [0. 0.]\n",
      "a= [-1.48696904e-21  1.10903320e-05] [0. 0.]\n",
      "a= [-1.48696906e-21  1.10903321e-05] [0. 0.]\n",
      "a= [-1.88468847e-20  1.48984578e-05] [0. 0.]\n",
      "a= [-1.88468979e-20  1.48984607e-05] [0. 0.]\n",
      "a= [-1.88468974e-20  1.48984607e-05] [0. 0.]\n",
      "a= [-1.88468962e-20  1.48984607e-05] [0. 0.]\n",
      "a= [-1.88468976e-20  1.48984607e-05] [0. 0.]\n",
      "a= [-1.88468979e-20  1.48984609e-05] [0. 0.]\n",
      "a= [-2.89593164e-20  1.48984607e-05] [0. 0.]\n",
      "a= [-4.91841536e-20  1.48984607e-05] [0. 0.]\n",
      "a= [-4.57714333e-20  1.48984607e-05] [0. 0.]\n",
      "a= [-4.24635788e-20  1.48984607e-05] [0. 0.]\n",
      "a= [-4.48618385e-20  1.48984607e-05] [0. 0.]\n",
      "a= [-4.43318222e-20  1.48984607e-05] [0. 0.]\n",
      "a= [-4.47475277e-20  1.48984607e-05] [0. 0.]\n",
      "a= [-4.48618379e-20  1.48984607e-05] [0. 0.]\n",
      "a= [-4.48618385e-20  1.48984609e-05] [0. 0.]\n",
      "a= [-4.48618389e-20  1.48984607e-05] [0. 0.]\n",
      "a= [-4.48618388e-20  1.48984607e-05] [0. 0.]\n",
      "a= [-4.48618385e-20  1.48984607e-05] [0. 0.]\n",
      "a= [-4.48618385e-20  1.48984607e-05] [0. 0.]\n",
      "a= [-4.48618385e-20  1.48984607e-05] [0. 0.]\n",
      "a= [-4.48618379e-20  1.48984607e-05] [0. 0.]\n",
      "a= [-4.48618385e-20  1.48984609e-05] [0. 0.]\n",
      "a= [1.15334020e-19 2.00138929e-05] [0. 0.]\n",
      "a= [1.15334027e-19 2.00138939e-05] [0. 0.]\n",
      "a= [1.15334019e-19 2.00138939e-05] [0. 0.]\n",
      "a= [1.15333992e-19 2.00138939e-05] [0. 0.]\n",
      "a= [1.15334212e-19 2.00138939e-05] [0. 0.]\n",
      "a= [1.15334021e-19 2.00138939e-05] [0. 0.]\n",
      "a= [1.15334019e-19 2.00138942e-05] [0. 0.]\n",
      "a= [1.15333929e-19 2.00138939e-05] [0. 0.]\n",
      "a= [1.15334019e-19 2.00138939e-05] [0. 0.]\n",
      "a= [1.15334019e-19 2.00138939e-05] [0. 0.]\n",
      "a= [1.15334019e-19 2.00138939e-05] [0. 0.]\n",
      "a= [1.15334021e-19 2.00138939e-05] [0. 0.]\n",
      "a= [1.15334019e-19 2.00138942e-05] [0. 0.]\n",
      "a= [5.37278925e-19 2.68849839e-05] [0. 0.]\n",
      "a= [5.37278768e-19 2.68849832e-05] [0. 0.]\n",
      "a= [5.37278638e-19 2.68849832e-05] [0. 0.]\n",
      "a= [5.37268050e-19 2.68849832e-05] [0. 0.]\n",
      "a= [5.37501757e-19 2.68849832e-05] [0. 0.]\n",
      "a= [5.37268050e-19 2.68849832e-05] [0. 0.]\n",
      "a= [5.37268050e-19 2.68849832e-05] [0. 0.]\n",
      "a= [5.37268050e-19 2.68849832e-05] [0. 0.]\n",
      "a= [5.37268058e-19 2.68849832e-05] [0. 0.]\n",
      "a= [5.37268050e-19 2.68849836e-05] [0. 0.]\n",
      "a= [-2.41339328e-18  3.61132233e-05] [0. 0.]\n",
      "a= [-2.41338887e-18  3.61132232e-05] [0. 0.]\n",
      "a= [-2.41338887e-18  3.61132232e-05] [0. 0.]\n",
      "a= [-2.41338887e-18  3.61132232e-05] [0. 0.]\n",
      "a= [-2.41338887e-18  3.61132232e-05] [0. 0.]\n",
      "a= [-2.41338884e-18  3.61132232e-05] [0. 0.]\n",
      "a= [-2.41338887e-18  3.61132237e-05] [0. 0.]\n",
      "a= [-6.70919001e-18  4.85046698e-05] [0. 0.]\n",
      "a= [-6.70921968e-18  4.85046728e-05] [0. 0.]\n",
      "a= [-6.70924796e-18  4.85046728e-05] [0. 0.]\n",
      "a= [-6.72661640e-18  4.85046728e-05] [0. 0.]\n",
      "a= [9.66433633e-19 4.85046728e-05] [0. 0.]\n",
      "a= [-2.88009138e-18  4.85046728e-05] [0. 0.]\n",
      "a= [8.87677650e-20 4.85046728e-05] [0. 0.]\n",
      "a= [1.24353229e-19 4.85046728e-05] [0. 0.]\n",
      "a= [1.24353229e-19 4.85046728e-05] [0. 0.]\n",
      "a= [1.24353229e-19 4.85046728e-05] [0. 0.]\n",
      "a= [1.24353229e-19 4.85046728e-05] [0. 0.]\n",
      "a= [1.24353230e-19 4.85046728e-05] [0. 0.]\n",
      "a= [1.24353229e-19 4.85046735e-05] [0. 0.]\n",
      "a= [3.80204363e-19 6.51373708e-05] [0. 0.]\n",
      "a= [3.80204258e-19 6.51373703e-05] [0. 0.]\n",
      "a= [3.80204182e-19 6.51373703e-05] [0. 0.]\n",
      "a= [3.80203640e-19 6.51373703e-05] [0. 0.]\n",
      "a= [3.80199594e-19 6.51373703e-05] [0. 0.]\n",
      "a= [3.80203640e-19 6.51373703e-05] [0. 0.]\n",
      "a= [3.80203640e-19 6.51373703e-05] [0. 0.]\n",
      "a= [3.80203640e-19 6.51373703e-05] [0. 0.]\n",
      "a= [3.80203646e-19 6.51373703e-05] [0. 0.]\n",
      "a= [3.80203640e-19 6.51373713e-05] [0. 0.]\n",
      "a= [4.09162161e-18 8.74478709e-05] [0. 0.]\n",
      "a= [4.09161857e-18 8.74478680e-05] [0. 0.]\n",
      "a= [4.09161579e-18 8.74478680e-05] [0. 0.]\n",
      "a= [4.09035855e-18 8.74478680e-05] [0. 0.]\n",
      "a= [4.09161585e-18 8.74478680e-05] [0. 0.]\n",
      "a= [4.09161579e-18 8.74478693e-05] [0. 0.]\n",
      "a= [2.90109771e-18 8.74478680e-05] [0. 0.]\n",
      "a= [5.2006156e-19 8.7447868e-05] [0. 0.]\n",
      "a= [-1.63030029e-19  8.74478680e-05] [0. 0.]\n",
      "a= [-1.45013486e-19  8.74478680e-05] [0. 0.]\n",
      "a= [-1.51445268e-19  8.74478680e-05] [0. 0.]\n",
      "a= [-1.45013486e-19  8.74478680e-05] [0. 0.]\n",
      "a= [-1.45013486e-19  8.74478680e-05] [0. 0.]\n",
      "a= [-1.45013486e-19  8.74478680e-05] [0. 0.]\n",
      "a= [-1.45013484e-19  8.74478680e-05] [0. 0.]\n",
      "a= [-1.45013486e-19  8.74478693e-05] [0. 0.]\n",
      "a= [7.15769025e-18 1.17337724e-04] [0. 0.]\n",
      "a= [7.15768532e-18 1.17337722e-04] [0. 0.]\n",
      "a= [7.15768064e-18 1.17337722e-04] [0. 0.]\n",
      "a= [7.15768532e-18 1.17337722e-04] [0. 0.]\n",
      "a= [7.15768532e-18 1.17337722e-04] [0. 0.]\n",
      "a= [7.15768532e-18 1.17337722e-04] [0. 0.]\n",
      "a= [7.15768542e-18 1.17337722e-04] [0. 0.]\n",
      "a= [7.15768532e-18 1.17337724e-04] [0. 0.]\n",
      "a= [-1.39082931e-16  1.57292999e-04] [0. 0.]\n",
      "a= [-1.39084963e-16  1.57292933e-04] [0. 0.]\n",
      "a= [-1.39087245e-16  1.57292933e-04] [0. 0.]\n",
      "a= [-1.10475003e-16  1.57292933e-04] [0. 0.]\n",
      "a= [-6.53586889e-19  1.57292933e-04] [0. 0.]\n",
      "a= [3.04140219e-19 1.57292933e-04] [0. 0.]\n",
      "a= [3.04140219e-19 1.57292933e-04] [0. 0.]\n",
      "a= [3.04140219e-19 1.57292933e-04] [0. 0.]\n",
      "a= [3.04140219e-19 1.57292933e-04] [0. 0.]\n",
      "a= [3.04140224e-19 1.57292933e-04] [0. 0.]\n",
      "a= [3.04140219e-19 1.57292936e-04] [0. 0.]\n",
      "a= [2.01283717e-19 2.10487359e-04] [0. 0.]\n",
      "a= [2.01283452e-19 2.10487356e-04] [0. 0.]\n",
      "a= [2.01283509e-19 2.10487356e-04] [0. 0.]\n",
      "a= [2.01283674e-19 2.10487356e-04] [0. 0.]\n",
      "a= [2.01284031e-19 2.10487356e-04] [0. 0.]\n",
      "a= [2.01281746e-19 2.10487356e-04] [0. 0.]\n",
      "a= [2.01283674e-19 2.10487356e-04] [0. 0.]\n",
      "a= [2.01283674e-19 2.10487356e-04] [0. 0.]\n",
      "a= [2.01283674e-19 2.10487356e-04] [0. 0.]\n",
      "a= [2.01283677e-19 2.10487356e-04] [0. 0.]\n",
      "a= [2.01283674e-19 2.10487359e-04] [0. 0.]\n",
      "a= [9.55676275e-19 2.80784226e-04] [0. 0.]\n",
      "a= [9.55676355e-19 2.80784229e-04] [0. 0.]\n",
      "a= [9.55676379e-19 2.80784229e-04] [0. 0.]\n",
      "a= [9.55676479e-19 2.80784229e-04] [0. 0.]\n",
      "a= [9.55676379e-19 2.80784229e-04] [0. 0.]\n",
      "a= [9.55676379e-19 2.80784229e-04] [0. 0.]\n",
      "a= [9.55676379e-19 2.80784229e-04] [0. 0.]\n",
      "a= [9.55676394e-19 2.80784229e-04] [0. 0.]\n",
      "a= [9.55676379e-19 2.80784234e-04] [0. 0.]\n",
      "a= [-4.81362492e-18  3.72409127e-04] [0. 0.]\n",
      "a= [-4.81362526e-18  3.72409163e-04] [0. 0.]\n",
      "a= [-4.81362327e-18  3.72409163e-04] [0. 0.]\n",
      "a= [-4.81358034e-18  3.72409163e-04] [0. 0.]\n",
      "a= [-4.81362320e-18  3.72409163e-04] [0. 0.]\n",
      "a= [-4.81362327e-18  3.72409168e-04] [0. 0.]\n",
      "a= [-4.81362822e-18  3.72409163e-04] [0. 0.]\n",
      "a= [-4.81429331e-18  3.72409163e-04] [0. 0.]\n",
      "a= [-4.81362822e-18  3.72409163e-04] [0. 0.]\n",
      "a= [-4.81362822e-18  3.72409163e-04] [0. 0.]\n",
      "a= [-4.81362822e-18  3.72409163e-04] [0. 0.]\n",
      "a= [-4.81362815e-18  3.72409163e-04] [0. 0.]\n",
      "a= [-4.81362822e-18  3.72409168e-04] [0. 0.]\n",
      "a= [2.32907026e-17 4.88730310e-04] [0. 0.]\n",
      "a= [2.32906736e-17 4.88730320e-04] [0. 0.]\n",
      "a= [2.32906452e-17 4.88730320e-04] [0. 0.]\n"
     ]
    },
    {
     "name": "stdout",
     "output_type": "stream",
     "text": [
      "a= [2.3304078e-17 4.8873032e-04] [0. 0.]\n",
      "a= [2.32906736e-17 4.88730320e-04] [0. 0.]\n",
      "a= [2.32906736e-17 4.88730320e-04] [0. 0.]\n",
      "a= [2.32906736e-17 4.88730320e-04] [0. 0.]\n",
      "a= [2.3290674e-17 4.8873032e-04] [0. 0.]\n",
      "a= [2.32906736e-17 4.88730327e-04] [0. 0.]\n",
      "a= [7.00173554e-17 6.28801723e-04] [0. 0.]\n",
      "a= [7.00178084e-17 6.28801703e-04] [0. 0.]\n",
      "a= [7.00182750e-17 6.28801703e-04] [0. 0.]\n",
      "a= [6.97842069e-17 6.28801703e-04] [0. 0.]\n",
      "a= [7.00178095e-17 6.28801703e-04] [0. 0.]\n",
      "a= [7.00178084e-17 6.28801713e-04] [0. 0.]\n",
      "a= [8.08073253e-18 6.28801697e-04] [0. 0.]\n",
      "a= [7.00178084e-17 6.28801703e-04] [0. 0.]\n",
      "a= [7.00178084e-17 6.28801703e-04] [0. 0.]\n",
      "a= [7.00178084e-17 6.28801703e-04] [0. 0.]\n",
      "a= [7.00178095e-17 6.28801703e-04] [0. 0.]\n",
      "a= [7.00178084e-17 6.28801713e-04] [0. 0.]\n",
      "a= [8.54100292e-16 7.78624199e-04] [0. 0.]\n",
      "a= [8.54087243e-16 7.78624154e-04] [0. 0.]\n",
      "a= [8.54074379e-16 7.78624154e-04] [0. 0.]\n",
      "a= [6.25066911e-16 7.78624154e-04] [0. 0.]\n",
      "a= [-9.83651673e-18  7.78624154e-04] [0. 0.]\n",
      "a= [-1.84092498e-18  7.78624154e-04] [0. 0.]\n",
      "a= [-1.84092498e-18  7.78624154e-04] [0. 0.]\n",
      "a= [-1.84092498e-18  7.78624154e-04] [0. 0.]\n",
      "a= [-1.84092498e-18  7.78624154e-04] [0. 0.]\n",
      "a= [-1.84092495e-18  7.78624154e-04] [0. 0.]\n",
      "a= [-1.84092498e-18  7.78624165e-04] [0. 0.]\n",
      "a= [-5.55240324e-18  8.90751307e-04] [0. 0.]\n",
      "a= [-5.55240114e-18  8.90751285e-04] [0. 0.]\n",
      "a= [-5.55239948e-18  8.90751285e-04] [0. 0.]\n",
      "a= [-5.55239549e-18  8.90751285e-04] [0. 0.]\n",
      "a= [-5.55281386e-18  8.90751285e-04] [0. 0.]\n",
      "a= [-5.55239948e-18  8.90751285e-04] [0. 0.]\n",
      "a= [-5.55239948e-18  8.90751285e-04] [0. 0.]\n",
      "a= [-5.55239948e-18  8.90751285e-04] [0. 0.]\n",
      "a= [-5.55239940e-18  8.90751285e-04] [0. 0.]\n",
      "a= [-5.55239948e-18  8.90751298e-04] [0. 0.]\n",
      "a= [-1.86848186e-17  8.40827374e-04] [0. 0.]\n",
      "a= [-1.86848029e-17  8.40827364e-04] [0. 0.]\n",
      "a= [-1.86847842e-17  8.40827364e-04] [0. 0.]\n",
      "a= [-1.86848029e-17  8.40827364e-04] [0. 0.]\n",
      "a= [-1.86848029e-17  8.40827364e-04] [0. 0.]\n",
      "a= [-1.86848029e-17  8.40827364e-04] [0. 0.]\n",
      "a= [-1.86848026e-17  8.40827364e-04] [0. 0.]\n",
      "a= [-1.86848029e-17  8.40827377e-04] [0. 0.]\n",
      "a= [-2.18610516e-10  3.47406223e-04] [0. 0.]\n",
      "a= [-2.26109239e-11  3.47405908e-04] [0. 0.]\n",
      "a= [-1.82442694e-12  3.47405908e-04] [0. 0.]\n",
      "a= [-5.32468494e-18  3.47405908e-04] [0. 0.]\n",
      "a= [-5.32468494e-18  3.47405908e-04] [0. 0.]\n",
      "a= [-5.32468494e-18  3.47405908e-04] [0. 0.]\n",
      "a= [-5.32468494e-18  3.47405908e-04] [0. 0.]\n",
      "a= [-5.32468486e-18  3.47405908e-04] [0. 0.]\n",
      "a= [-5.32468494e-18  3.47405913e-04] [0. 0.]\n",
      "a= [ 9.39984192e-16 -1.13876462e-03] [0. 0.]\n",
      "a= [ 9.39986529e-16 -1.13876743e-03] [0. 0.]\n",
      "a= [ 9.39987070e-16 -1.13876743e-03] [0. 0.]\n",
      "a= [ 9.39987070e-16 -1.13876743e-03] [0. 0.]\n",
      "a= [ 9.39987070e-16 -1.13876743e-03] [0. 0.]\n",
      "a= [ 9.39987070e-16 -1.13876743e-03] [0. 0.]\n",
      "a= [ 9.39987084e-16 -1.13876743e-03] [0. 0.]\n",
      "a= [ 9.39987070e-16 -1.13876741e-03] [0. 0.]\n",
      "a= [ 2.77716599e-09 -4.48984441e-03] [0. 0.]\n",
      "a= [ 2.46740184e-10 -4.48984953e-03] [0. 0.]\n",
      "a= [ 1.85260842e-11 -4.48984953e-03] [0. 0.]\n",
      "a= [ 4.56392949e-17 -4.48984953e-03] [0. 0.]\n",
      "a= [ 4.56392949e-17 -4.48984953e-03] [0. 0.]\n",
      "a= [ 4.56392949e-17 -4.48984953e-03] [0. 0.]\n",
      "a= [ 4.56392949e-17 -4.48984953e-03] [0. 0.]\n",
      "a= [ 4.56392956e-17 -4.48984953e-03] [0. 0.]\n",
      "a= [ 4.56392949e-17 -4.48984946e-03] [0. 0.]\n",
      "a= [-8.98777827e-16 -1.06837890e-02] [0. 0.]\n",
      "a= [-8.98770355e-16 -1.06837601e-02] [0. 0.]\n",
      "a= [-8.98767368e-16 -1.06837601e-02] [0. 0.]\n",
      "a= [-8.98767368e-16 -1.06837601e-02] [0. 0.]\n",
      "a= [-8.98767368e-16 -1.06837601e-02] [0. 0.]\n",
      "a= [-8.98767368e-16 -1.06837601e-02] [0. 0.]\n",
      "a= [-8.98767354e-16 -1.06837601e-02] [0. 0.]\n",
      "a= [-8.98767368e-16 -1.06837599e-02] [0. 0.]\n",
      "a= [ 1.72187285e-13 -2.01238524e-02] [0. 0.]\n",
      "a= [ 1.72148638e-13 -2.01236481e-02] [0. 0.]\n",
      "a= [ 1.72113746e-13 -2.01236481e-02] [0. 0.]\n",
      "a= [ 1.72113746e-13 -2.01236481e-02] [0. 0.]\n",
      "a= [ 1.72113746e-13 -2.01236481e-02] [0. 0.]\n",
      "a= [ 1.72113746e-13 -2.01236481e-02] [0. 0.]\n",
      "a= [ 1.72113749e-13 -2.01236481e-02] [0. 0.]\n",
      "a= [ 1.72113746e-13 -2.01236478e-02] [0. 0.]\n",
      "a= [-1.41996834e-12 -3.17035649e-02] [0. 0.]\n",
      "a= [-1.42691958e-12 -3.17030719e-02] [0. 0.]\n",
      "a= [-1.43397305e-12 -3.17030719e-02] [0. 0.]\n",
      "a= [-1.43397305e-12 -3.17030719e-02] [0. 0.]\n",
      "a= [-1.43397305e-12 -3.17030719e-02] [0. 0.]\n",
      "a= [-1.43397305e-12 -3.17030719e-02] [0. 0.]\n",
      "a= [-1.43397303e-12 -3.17030719e-02] [0. 0.]\n",
      "a= [-1.43397305e-12 -3.17030714e-02] [0. 0.]\n",
      "a= [ 5.25133320e-12 -4.22698701e-02] [0. 0.]\n",
      "a= [ 5.40069413e-12 -4.22693915e-02] [0. 0.]\n",
      "a= [ 5.55461618e-12 -4.22693916e-02] [0. 0.]\n",
      "a= [ 6.63540699e-12 -4.22693916e-02] [0. 0.]\n",
      "a= [ 5.40069421e-12 -4.22693915e-02] [0. 0.]\n",
      "a= [ 5.40069413e-12 -4.22693909e-02] [0. 0.]\n",
      "a= [-1.67672163e-11 -4.22693915e-02] [0. 0.]\n",
      "a= [ 1.71147377e-16 -4.22693915e-02] [0. 0.]\n",
      "a= [ 4.98930551e-18 -4.22693915e-02] [0. 0.]\n",
      "a= [ 4.98930551e-18 -4.22693915e-02] [0. 0.]\n",
      "a= [ 4.98930551e-18 -4.22693915e-02] [0. 0.]\n",
      "a= [ 4.98930551e-18 -4.22693915e-02] [0. 0.]\n",
      "a= [ 4.98930559e-18 -4.22693915e-02] [0. 0.]\n",
      "a= [ 4.98930551e-18 -4.22693909e-02] [0. 0.]\n",
      "a= [ 1.08179141e-17 -4.74220854e-02] [0. 0.]\n",
      "a= [ 1.08178004e-17 -4.74219867e-02] [0. 0.]\n",
      "a= [ 1.08177993e-17 -4.74219867e-02] [0. 0.]\n",
      "a= [ 1.08177993e-17 -4.74219867e-02] [0. 0.]\n",
      "a= [ 1.08177993e-17 -4.74219867e-02] [0. 0.]\n",
      "a= [ 1.08177993e-17 -4.74219867e-02] [0. 0.]\n",
      "a= [ 1.08177995e-17 -4.74219867e-02] [0. 0.]\n",
      "a= [ 1.08177993e-17 -4.74219860e-02] [0. 0.]\n",
      "a= [ 1.58298298e-17 -4.46755989e-02] [0. 0.]\n",
      "a= [ 1.58299082e-17 -4.46755811e-02] [0. 0.]\n",
      "a= [ 1.58299527e-17 -4.46755811e-02] [0. 0.]\n",
      "a= [ 1.58299527e-17 -4.46755811e-02] [0. 0.]\n",
      "a= [ 1.58299527e-17 -4.46755811e-02] [0. 0.]\n",
      "a= [ 1.58299527e-17 -4.46755811e-02] [0. 0.]\n",
      "a= [ 1.58299530e-17 -4.46755811e-02] [0. 0.]\n",
      "a= [ 1.58299527e-17 -4.46755805e-02] [0. 0.]\n",
      "a= [-1.29108117e-11 -3.67127389e-02] [0. 0.]\n",
      "a= [-1.28846411e-13 -3.67126711e-02] [0. 0.]\n",
      "a= [-1.28570335e-15 -3.67126711e-02] [0. 0.]\n",
      "a= [-1.28570335e-15 -3.67126711e-02] [0. 0.]\n",
      "a= [-1.28570335e-15 -3.67126711e-02] [0. 0.]\n",
      "a= [-1.28570335e-15 -3.67126711e-02] [0. 0.]\n",
      "a= [-1.28570333e-15 -3.67126711e-02] [0. 0.]\n",
      "a= [-1.28570335e-15 -3.67126705e-02] [0. 0.]\n",
      "a= [-2.58118606e-16 -2.83279105e-02] [0. 0.]\n",
      "a= [-2.58274365e-16 -2.83278805e-02] [0. 0.]\n",
      "a= [-2.58434147e-16 -2.83278805e-02] [0. 0.]\n",
      "a= [-2.58434147e-16 -2.83278805e-02] [0. 0.]\n",
      "a= [-2.58434147e-16 -2.83278805e-02] [0. 0.]\n",
      "a= [-2.58434147e-16 -2.83278805e-02] [0. 0.]\n",
      "a= [-2.58434143e-16 -2.83278805e-02] [0. 0.]\n",
      "a= [-2.58434147e-16 -2.83278801e-02] [0. 0.]\n",
      "a= [ 8.84278249e-15 -2.14134377e-02] [0. 0.]\n",
      "a= [ 8.86044425e-15 -2.14134293e-02] [0. 0.]\n",
      "a= [ 8.87813066e-15 -2.14134293e-02] [0. 0.]\n",
      "a= [ 8.90963288e-15 -2.14134293e-02] [0. 0.]\n",
      "a= [-1.10342661e-15 -2.14134293e-02] [0. 0.]\n",
      "a= [-1.10342661e-15 -2.14134293e-02] [0. 0.]\n",
      "a= [-1.10342661e-15 -2.14134293e-02] [0. 0.]\n",
      "a= [-1.10342661e-15 -2.14134293e-02] [0. 0.]\n",
      "a= [-1.10342659e-15 -2.14134293e-02] [0. 0.]\n",
      "a= [-1.10342661e-15 -2.14134290e-02] [0. 0.]\n",
      "a= [-1.92580283e-14 -1.60598581e-02] [0. 0.]\n",
      "a= [-1.89355031e-14 -1.60598560e-02] [0. 0.]\n",
      "a= [-1.86183728e-14 -1.60598560e-02] [0. 0.]\n",
      "a= [-1.53404602e-15 -1.60598560e-02] [0. 0.]\n",
      "a= [-1.53404602e-15 -1.60598560e-02] [0. 0.]\n",
      "a= [-1.53404602e-15 -1.60598560e-02] [0. 0.]\n",
      "a= [-1.53404602e-15 -1.60598560e-02] [0. 0.]\n",
      "a= [-1.5340460e-15 -1.6059856e-02] [0. 0.]\n",
      "a= [-1.53404602e-15 -1.60598558e-02] [0. 0.]\n",
      "a= [-1.16688904e-14 -1.20013719e-02] [0. 0.]\n",
      "a= [-1.15322460e-14 -1.20013714e-02] [0. 0.]\n",
      "a= [-1.13972004e-14 -1.20013714e-02] [0. 0.]\n",
      "a= [-4.05556517e-17 -1.20013714e-02] [0. 0.]\n",
      "a= [-4.05556517e-17 -1.20013714e-02] [0. 0.]\n",
      "a= [-4.05556517e-17 -1.20013714e-02] [0. 0.]\n",
      "a= [-4.05556517e-17 -1.20013714e-02] [0. 0.]\n",
      "a= [-4.05556511e-17 -1.20013714e-02] [0. 0.]\n",
      "a= [-4.05556517e-17 -1.20013713e-02] [0. 0.]\n",
      "a= [ 3.29962555e-16 -8.95227364e-03] [0. 0.]\n",
      "a= [ 3.29549438e-16 -8.95227364e-03] [0. 0.]\n",
      "a= [ 3.29549438e-16 -8.95227364e-03] [0. 0.]\n",
      "a= [ 3.29549438e-16 -8.95227364e-03] [0. 0.]\n",
      "a= [ 3.29549438e-16 -8.95227364e-03] [0. 0.]\n",
      "a= [ 3.29549442e-16 -8.95227364e-03] [0. 0.]\n",
      "a= [ 3.29549438e-16 -8.95227351e-03] [0. 0.]\n",
      "a= [ 5.98996539e-16 -6.67147755e-03] [0. 0.]\n",
      "a= [ 5.75542086e-16 -6.67147756e-03] [0. 0.]\n",
      "a= [ 5.75542086e-16 -6.67147756e-03] [0. 0.]\n",
      "a= [ 5.75542086e-16 -6.67147756e-03] [0. 0.]\n",
      "a= [ 5.75542086e-16 -6.67147756e-03] [0. 0.]\n",
      "a= [ 5.75542095e-16 -6.67147756e-03] [0. 0.]\n"
     ]
    },
    {
     "name": "stdout",
     "output_type": "stream",
     "text": [
      "a= [ 5.75542086e-16 -6.67147746e-03] [0. 0.]\n",
      "a= [ 3.55829731e-14 -4.96921533e-03] [0. 0.]\n",
      "a= [ 5.31593394e-18 -4.96921526e-03] [0. 0.]\n",
      "a= [-3.61405424e-22 -4.96921526e-03] [0. 0.]\n"
     ]
    }
   ],
   "source": [
    "df = 0.1\n",
    "p = {}\n",
    "p['a'] = 0\n",
    "p['delta2'] = 0.\n",
    "p['delta3'] = 0.\n",
    "p['gamma13'] = 1\n",
    "p['gamma23'] = 1\n",
    "p['gamma2d'] = 1\n",
    "p['gamma3d'] = 1\n",
    "p['nbath'] = 2\n",
    "p['gammamu'] = 1\n",
    "p['omegao'] = 1\n",
    "p['omegam'] = .01\n",
    "p['g'] = 1.\n",
    "p['N'] = 1\n",
    "p['deltac']=0\n",
    "p['kappaoi']=1\n",
    "p['kappaoc']=1\n",
    "p['df']=0.1\n",
    "\n",
    "p['mean_delta2']=0 \n",
    "p['sd_delta2']=2 #2.355 is to turn FWHM into standard deviation\n",
    "p['mean_delta3']=0\n",
    "p['sd_delta3']=3\n",
    "\n",
    "omegamvals = np.logspace(-3,2,40)\n",
    "avals = np.zeros(omegamvals.shape,dtype='complex128')\n",
    "for i,omegam in enumerate(omegamvals):\n",
    "    p['omegam']=omegam\n",
    "    avals[i] = steadya(p)"
   ]
  },
  {
   "cell_type": "code",
   "execution_count": 31,
   "metadata": {
    "ExecuteTime": {
     "end_time": "2018-08-01T04:33:17.787795Z",
     "start_time": "2018-08-01T04:33:17.542070Z"
    },
    "scrolled": false
   },
   "outputs": [
    {
     "data": {
      "image/png": "[encoded data removed]",
      "text/plain": [
       "<Figure size 576x288 with 1 Axes>"
      ]
     },
     "metadata": {},
     "output_type": "display_data"
    }
   ],
   "source": [
    "plt.semilogx(omegamvals,(np.abs(avals)/(omegamvals))**2)\n",
    "plt.ylabel('propto efficiency')\n",
    "plt.xlabel('Omega_mu');\n"
   ]
  },
  {
   "cell_type": "markdown",
   "metadata": {},
   "source": [
    "## Time for some realistic simulations\n"
   ]
  },
  {
   "cell_type": "code",
   "execution_count": 32,
   "metadata": {
    "ExecuteTime": {
     "end_time": "2018-08-01T04:33:17.792554Z",
     "start_time": "2018-08-01T04:33:17.789287Z"
    }
   },
   "outputs": [],
   "source": [
    "# calculate microwave rabi frequency from power in in dBm\n",
    "def omegam_from_Pin(Pin,p):\n",
    "    mu0 = 4*pi*1e-7\n",
    "    hbar=1.05457e-34; # in J*s\n",
    "    Vsample=pi*((p['dsample']/2)**2) * p['Lsample'] # the volume of the Er:YSO sample\n",
    "    V_microwave_cavity = Vsample/p['fillfactor']    \n",
    "    mwP = 1e-3 * 10**(Pin/10)  #convert from dBm to Watts\n",
    "    Q=2*pi*p['freqm']/(p['kappami']+p['kappamc']*2) # Q factor\n",
    "    S21=(4*p['kappamc']**2)/(p['kappami']+p['kappamc']*2)**2\n",
    "    energy_in_cavity=math.sqrt(S21)*2/(2*pi*p['freqm']/Q)*mwP; # energy inside the microwave cavity, in J\n",
    "    Bmw=math.sqrt(mu0*(energy_in_cavity/V_microwave_cavity)/2); # Magnetic field of the microwave\n",
    "    p['omegam']=(p['mu12']*Bmw)/hbar*(-1); # in rad/sec???? in Hz\n",
    "    return p['omegam']"
   ]
  },
  {
   "cell_type": "code",
   "execution_count": 33,
   "metadata": {
    "ExecuteTime": {
     "end_time": "2018-08-01T04:33:17.804441Z",
     "start_time": "2018-08-01T04:33:17.794005Z"
    }
   },
   "outputs": [],
   "source": [
    "# calculate optical rabi frequency from power in in dBm\n",
    "def omegao_from_Pin(Pin,p):\n",
    "    epsilon0=8.854187817e-12\n",
    "    hbar=1.05457e-34; # in J*s\n",
    "\n",
    "    optP = 1e-3 * 10**(Pin/10) #incident optical power in W\n",
    "    pflux = optP/(2*pi*p['freqo']*hbar) #photon flux (photons/sec)\n",
    "    n_in = pflux * p['kappaoc']*4/(p['kappaoc']+p['kappaoi'])**2 # num intracavity photons\n",
    "                                                #is this right????\n",
    "    Sspot = pi*p['Wcavity']**2 #cross sectional area of\n",
    "                                #optical mode\n",
    "    V_cav = (Sspot*p['Lcavity_vac']+Sspot*p['Lsample']*p['nYSO']**3)/2;\n",
    "    optEfield = math.sqrt(n_in*hbar*2*pi*p['freqo']/2/epsilon0/V_cav);\n",
    "    p['omegao'] = p['d23']*optEfield/hbar*(-1);\n",
    "    return p['omegao']"
   ]
  },
  {
   "cell_type": "code",
   "execution_count": 34,
   "metadata": {
    "ExecuteTime": {
     "end_time": "2018-08-01T04:33:17.889481Z",
     "start_time": "2018-08-01T04:33:17.805673Z"
    }
   },
   "outputs": [
    {
     "data": {
      "image/png": "[encoded data removed]",
      "text/latex": [
       "$$\\left ( -0.49209088755145475, \\quad -4.7543084291639115\\right )$$"
      ],
      "text/plain": [
       "(-0.49209088755145475, -4.7543084291639115)"
      ]
     },
     "execution_count": 34,
     "metadata": {},
     "output_type": "execute_result"
    }
   ],
   "source": [
    "# parameters from Stephen via slack\n",
    "# parameters commented out are not used in calculation\n",
    "p = {}\n",
    "p['a'] = 0\n",
    "p['delta2'] = 0.\n",
    "p['delta3'] = 0.\n",
    "\n",
    "\n",
    "p['d13'] = 2e-32*math.sqrt(1/3)\n",
    "p['d23'] = 2e-32*math.sqrt(2/3)\n",
    "p['gamma13'] = p['d13']**2/(p['d13']**2+p['d23']**2)*1/11e-3\n",
    "p['gamma23'] = p['d23']**2/(p['d13']**2+p['d23']**2)*1/11e-3\n",
    "p['gamma2d'] = 1e6\n",
    "p['gamma3d'] = 1e6\n",
    "p['nbath'] = 20\n",
    "p['gammamu'] = 1/(p['nbath']+1) * 1/1e3\n",
    "\n",
    "p['g'] = 51.9  #optical coupling\n",
    "p['N'] = 1.28e15 # number of atoms in the optical mode\n",
    "\n",
    "#try and make things a bit better conditioned\n",
    "p['N']=1\n",
    "p['g']=2e9\n",
    "\n",
    "p['deltac']=0 #detuning for \n",
    "p['kappaoi']=2*pi*7.95e6 # intrinsic loss for optical resonator\n",
    "p['kappaoc']=2*pi*1.7e6 # coupling loss for optical resonator\n",
    "p['df']=0.1e6 # how small descretisation step to take when integrating over the \n",
    "            # inhomogeneous lines\n",
    "\n",
    "p['mean_delta2']=0\n",
    "p['sd_delta2']=2*pi*25e6/2.355  #microwave inhomogeneous broadening\n",
    "                                #2.355is to turn FWHM into standard deviation\n",
    "p['mean_delta3']=0\n",
    "p['sd_delta3']=2*pi*170e6/2.355 #optical inhomogeneous broadening\n",
    "\n",
    "p['kappami'] = 650e3*2*pi # intrinsic loss for microwave cavity\n",
    "p['kappamc'] = 70e3*2*pi  # coupling loss for optical cavity\n",
    "                        # this is for one of the two output ports\n",
    "p['Nmu'] = 2.22e16  #toal number of atoms\n",
    "p['gmu'] = 1.04 #coupling between atoms and microwave field\n",
    "\n",
    "\n",
    "muBohr=927.4009994e-26; # Bohr magneton in J/T in J* T^-1\n",
    "p['mu12'] = 4.3803*muBohr # transition dipole moment for microwave cavity (J T^-1)\n",
    "\n",
    "p['Lsample']=12e-3 # the length of the sample, in m\n",
    "p['dsample']=5e-3 # the diameter of the sample, in m\n",
    "\n",
    "p['fillfactor']=0.8 #microwave filling factor\n",
    "p['freqm'] = 5.186e9\n",
    "p['freqo'] = 195113.36e9\n",
    "\n",
    "p['Lcavity_vac'] = 49.5e-3 # length of the vacuum part of the optical\n",
    "                           # Fabry Perot (m)\n",
    "p['Wcavity'] =  0.6e-3# width of optical resonator beam in sample (m)\n",
    "p['nYSO'] = 1.76 #refractive index of YSO\n",
    "\n",
    "\n",
    "# assume 1mW (=0dBm) input to both optical and to microwave cavities\n",
    "omegao_from_Pin(0,p)\n",
    "omegam_from_Pin(0,p)\n",
    "\n",
    "#see what rabi freqs we have\n",
    "p['omegao']/1e6,p['omegam']/1e6\n",
    "\n",
    "#%time ensemble_steady_rho13_integrated(p,p['df'])"
   ]
  },
  {
   "cell_type": "code",
   "execution_count": 35,
   "metadata": {
    "ExecuteTime": {
     "end_time": "2018-08-01T04:33:22.734570Z",
     "start_time": "2018-08-01T04:33:17.890920Z"
    }
   },
   "outputs": [
    {
     "name": "stdout",
     "output_type": "stream",
     "text": [
      "a= [0 0] [0 0]\n",
      "a= [0. 0.] [0. 0.]\n",
      "a= [0. 0.] [0. 0.]\n",
      "a= [1.49011612e-08 0.00000000e+00] [0. 0.]\n",
      "a= [0.00000000e+00 1.49011612e-08] [0. 0.]\n",
      "a= [1.31667635e-07 3.00540462e-07] [0. 0.]\n",
      "a= [3.94190725e-07 9.01621559e-07] [0. 0.]\n",
      "a= [9.14895219e-07 2.10378467e-06] [0. 0.]\n",
      "a= [1.93962477e-06 4.50811435e-06] [0. 0.]\n",
      "a= [4.02716312e-06 9.31676579e-06] [0. 0.]\n",
      "a= [9.17382997e-06 1.89338406e-05] [0. 0.]\n",
      "a= [1.60138337e-05 3.81687352e-05] [0. 0.]\n",
      "a= [-1.09649688e-04  7.65401611e-05] [0. 0.]\n",
      "a= [0.00204798 0.00011386] [0. 0.]\n",
      "a= [-7.20489487e-05  9.63043414e-05] [0. 0.]\n",
      "a= [-1.09649686e-04  7.65401611e-05] [0. 0.]\n",
      "a= [-1.09649688e-04  7.65401623e-05] [0. 0.]\n",
      "a= [-1.43687843e-04  7.44561969e-05] [0. 0.]\n",
      "a= [-1.93791812e-04  4.82319087e-05] [0. 0.]\n",
      "a= [-2.11758519e-04 -1.21207947e-05] [0. 0.]\n",
      "a= [-2.16429251e-04 -2.50149147e-06] [0. 0.]\n",
      "a= [-2.16341837e-04 -2.99210980e-06] [0. 0.]\n",
      "a= [-2.16350620e-04 -3.00348763e-06] [0. 0.]\n",
      "a= [-2.16352371e-04 -3.00459331e-06] [0. 0.]\n",
      "a= [-2.16352495e-04 -3.00467215e-06] [0. 0.]\n",
      "a= [-2.16352495e-04 -3.00467210e-06] [0. 0.]\n"
     ]
    },
    {
     "data": {
      "text/plain": [
       "(-0.0002163524947149412-3.0046721007370277e-06j)"
      ]
     },
     "execution_count": 35,
     "metadata": {},
     "output_type": "execute_result"
    }
   ],
   "source": [
    "p['df'] = 1e6\n",
    "steadya(p)"
   ]
  },
  {
   "cell_type": "code",
   "execution_count": 36,
   "metadata": {
    "ExecuteTime": {
     "end_time": "2018-08-01T04:33:39.076466Z",
     "start_time": "2018-08-01T04:33:22.735871Z"
    }
   },
   "outputs": [
    {
     "name": "stdout",
     "output_type": "stream",
     "text": [
      "a= [-2.16352495e-04 -3.00467210e-06] [0. 0.]\n",
      "a= [-2.16352495e-04 -3.00467210e-06] [0. 0.]\n",
      "a= [-2.16352495e-04 -3.00467210e-06] [0. 0.]\n",
      "a= [-2.16352491e-04 -3.00467210e-06] [0. 0.]\n",
      "a= [-2.16352495e-04 -3.00467206e-06] [0. 0.]\n",
      "a= [-2.16328663e-04 -2.95964434e-06] [0. 0.]\n",
      "a= [-2.16328650e-04 -2.95964531e-06] [0. 0.]\n",
      "a= [-2.16328650e-04 -2.95964531e-06] [0. 0.]\n",
      "CPU times: user 2min 9s, sys: 1.08 s, total: 2min 10s\n",
      "Wall time: 16.3 s\n"
     ]
    },
    {
     "data": {
      "text/plain": [
       "(-0.0002163286500295233-2.959645307697002e-06j)"
      ]
     },
     "execution_count": 36,
     "metadata": {},
     "output_type": "execute_result"
    }
   ],
   "source": [
    "p['df'] = 0.3e6 \n",
    "%time steadya(p)"
   ]
  },
  {
   "cell_type": "code",
   "execution_count": 37,
   "metadata": {
    "ExecuteTime": {
     "end_time": "2018-08-01T04:33:39.080390Z",
     "start_time": "2018-08-01T04:33:39.078165Z"
    }
   },
   "outputs": [],
   "source": [
    "#commented out because it takes and age to run\n",
    "\n",
    "# omegamvals = np.logspace(-3,2,8)\n",
    "# avals = np.zeros(omegamvals.shape,dtype='complex128')\n",
    "# for i,omegam in enumerate(omegamvals):\n",
    "#     p['omegam']=omegam\n",
    "#     print(\"%d/%d\"%(i+1,len(omegamvals)),end=\"\")\n",
    "#     avals[i] = steadya(p)\n",
    "#     print(\" -- completed\")\n",
    "    "
   ]
  },
  {
   "cell_type": "code",
   "execution_count": 38,
   "metadata": {
    "ExecuteTime": {
     "end_time": "2018-08-01T04:33:39.087093Z",
     "start_time": "2018-08-01T04:33:39.082009Z"
    }
   },
   "outputs": [],
   "source": [
    "# plt.semilogx(omegamvals,(np.abs(avals)/(omegamvals))**2,'x-')\n",
    "# plt.ylabel('propto efficiency')\n",
    "# plt.xlabel('Omega_mu')"
   ]
  },
  {
   "cell_type": "code",
   "execution_count": 39,
   "metadata": {
    "ExecuteTime": {
     "end_time": "2018-08-01T04:33:39.234291Z",
     "start_time": "2018-08-01T04:33:39.088097Z"
    }
   },
   "outputs": [
    {
     "name": "stdout",
     "output_type": "stream",
     "text": [
      "bb8\r\n"
     ]
    }
   ],
   "source": [
    "!hostname"
   ]
  },
  {
   "cell_type": "code",
   "execution_count": 40,
   "metadata": {
    "ExecuteTime": {
     "end_time": "2018-08-01T04:33:39.382093Z",
     "start_time": "2018-08-01T04:33:39.236170Z"
    }
   },
   "outputs": [
    {
     "data": {
      "image/png": "[encoded data removed]",
      "text/latex": [
       "$$2000.0$$"
      ],
      "text/plain": [
       "2000.0"
      ]
     },
     "execution_count": 40,
     "metadata": {},
     "output_type": "execute_result"
    }
   ],
   "source": [
    "math.sqrt(p['N'])*p['g']/1e6"
   ]
  },
  {
   "cell_type": "code",
   "execution_count": null,
   "metadata": {},
   "outputs": [],
   "source": []
  }
 ],
 "metadata": {
  "anaconda-cloud": {},
  "kernelspec": {
   "display_name": "Python 3",
   "language": "python",
   "name": "python3"
  },
  "language_info": {
   "codemirror_mode": {
    "name": "ipython",
    "version": 3
   },
   "file_extension": ".py",
   "mimetype": "text/x-python",
   "name": "python",
   "nbconvert_exporter": "python",
   "pygments_lexer": "ipython3",
   "version": "3.6.5"
  },
  "toc": {
   "base_numbering": 1,
   "nav_menu": {},
   "number_sections": true,
   "sideBar": false,
   "skip_h1_title": false,
   "title_cell": "Table of Contents",
   "title_sidebar": "Contents",
   "toc_cell": false,
   "toc_position": {
    "height": "678px",
    "left": "21px",
    "top": "145.133px",
    "width": "371px"
   },
   "toc_section_display": true,
   "toc_window_display": true
  }
 },
 "nbformat": 4,
 "nbformat_minor": 1
}
