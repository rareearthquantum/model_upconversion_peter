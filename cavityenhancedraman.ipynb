{
 "cells": [
  {
   "cell_type": "markdown",
   "metadata": {},
   "source": [
    "# Code for simulation of Raman heterodyne like processes"
   ]
  },
  {
   "cell_type": "markdown",
   "metadata": {},
   "source": [
    "## Getting setup"
   ]
  },
  {
   "cell_type": "markdown",
   "metadata": {},
   "source": [
    "### Import required python libraries"
   ]
  },
  {
   "cell_type": "code",
   "execution_count": 1,
   "metadata": {
    "ExecuteTime": {
     "end_time": "2018-08-02T16:58:07.891466Z",
     "start_time": "2018-08-02T16:58:06.761472Z"
    }
   },
   "outputs": [],
   "source": [
    "import sympy as sym\n",
    "sym.init_printing()\n",
    "\n",
    "import numpy as np\n",
    "from scipy import integrate,signal\n",
    "\n",
    "import math\n",
    "from math import pi\n",
    "#from sympy.functions import Heaviside, sin, cos, sqrt\n",
    "\n",
    "\n",
    "import matplotlib.pyplot as plt\n",
    "from sympy import I, Matrix, symbols\n",
    "from sympy.physics.quantum import TensorProduct,Dagger\n",
    "import scipy.optimize\n",
    "\n",
    "\n",
    "import scipy.constants as const\n",
    "\n",
    "import qutip\n",
    "\n",
    "from matplotlib.colors import Normalize as Norm\n",
    "\n",
    "%load_ext cython"
   ]
  },
  {
   "cell_type": "markdown",
   "metadata": {
    "heading_collapsed": true
   },
   "source": [
    "### Some things to help us make Liovillian superoperators\n",
    "- Uses an approach very like qutip and the qotoolbox, reading the documention for those two packages might help make sense of spre, spost, etc\n",
    "- s13 etc. are the atomic operators like |1><3| etc"
   ]
  },
  {
   "cell_type": "code",
   "execution_count": 2,
   "metadata": {
    "ExecuteTime": {
     "end_time": "2018-08-02T16:58:07.896302Z",
     "start_time": "2018-08-02T16:58:07.892793Z"
    },
    "hidden": true
   },
   "outputs": [],
   "source": [
    "def spre(m):\n",
    "    return TensorProduct(sym.eye(m.shape[0]),m)\n",
    "\n",
    "def spost(m):\n",
    "    return TensorProduct(m.T,sym.eye(m.shape[0]))\n",
    "\n",
    "def collapse(c):\n",
    "    temp = Dagger(c)*c/2\n",
    "    return spre(c)*spost(Dagger(c))-spre(temp)-spost(temp)\n",
    "\n",
    "\n",
    "s13=Matrix([[0,0,1],[0,0,0],[0,0,0]])\n",
    "s23=Matrix([[0,0,0],[0,0,1],[0,0,0]])\n",
    "s12=Matrix([[0,1,0],[0,0,0],[0,0,0]])\n",
    "\n",
    "s31=s13.T\n",
    "s32=s23.T\n",
    "s21=s12.T\n",
    "\n",
    "s11 = s12*s21\n",
    "s22 = s21*s12\n",
    "s33 = s31*s13\n",
    "\n"
   ]
  },
  {
   "cell_type": "markdown",
   "metadata": {},
   "source": [
    "### Checking spre and spost agree with qutip\n",
    "\n",
    "Note: This notebook uses Frotran (colum first) order when flattening matricies."
   ]
  },
  {
   "cell_type": "code",
   "execution_count": 3,
   "metadata": {
    "ExecuteTime": {
     "end_time": "2018-08-02T16:58:07.905193Z",
     "start_time": "2018-08-02T16:58:07.897402Z"
    }
   },
   "outputs": [
    {
     "data": {
      "text/plain": [
       "(Matrix([\n",
       " [0, -I],\n",
       " [I,  0]]),\n",
       " Quantum object: dims = [[2], [2]], shape = (2, 2), type = oper, isherm = True\n",
       " Qobj data =\n",
       " [[0.+0.j 0.-1.j]\n",
       "  [0.+1.j 0.+0.j]])"
      ]
     },
     "execution_count": 3,
     "metadata": {},
     "output_type": "execute_result"
    }
   ],
   "source": [
    "sigmay = Matrix([[0, -I], [I, 0 ]])\n",
    "sigmay, qutip.sigmay()"
   ]
  },
  {
   "cell_type": "code",
   "execution_count": 4,
   "metadata": {
    "ExecuteTime": {
     "end_time": "2018-08-02T16:58:07.910314Z",
     "start_time": "2018-08-02T16:58:07.906238Z"
    }
   },
   "outputs": [
    {
     "data": {
      "text/latex": [
       "Quantum object: dims = [[2], [2]], shape = (2, 2), type = oper, isherm = True\\begin{equation*}\\left(\\begin{array}{*{11}c}0.0 & -1.0j\\\\1.0j & 0.0\\\\\\end{array}\\right)\\end{equation*}"
      ],
      "text/plain": [
       "Quantum object: dims = [[2], [2]], shape = (2, 2), type = oper, isherm = True\n",
       "Qobj data =\n",
       "[[0.+0.j 0.-1.j]\n",
       " [0.+1.j 0.+0.j]]"
      ]
     },
     "execution_count": 4,
     "metadata": {},
     "output_type": "execute_result"
    }
   ],
   "source": [
    "qutip.sigmay()"
   ]
  },
  {
   "cell_type": "code",
   "execution_count": 5,
   "metadata": {
    "ExecuteTime": {
     "end_time": "2018-08-02T16:58:07.917715Z",
     "start_time": "2018-08-02T16:58:07.911365Z"
    }
   },
   "outputs": [
    {
     "data": {
      "text/plain": [
       "(Matrix([\n",
       " [0, -I, 0,  0],\n",
       " [I,  0, 0,  0],\n",
       " [0,  0, 0, -I],\n",
       " [0,  0, I,  0]]),\n",
       " Quantum object: dims = [[[2], [2]], [[2], [2]]], shape = (4, 4), type = super, isherm = True\n",
       " Qobj data =\n",
       " [[0.+0.j 0.-1.j 0.+0.j 0.+0.j]\n",
       "  [0.+1.j 0.+0.j 0.+0.j 0.+0.j]\n",
       "  [0.+0.j 0.+0.j 0.+0.j 0.-1.j]\n",
       "  [0.+0.j 0.+0.j 0.+1.j 0.+0.j]])"
      ]
     },
     "execution_count": 5,
     "metadata": {},
     "output_type": "execute_result"
    }
   ],
   "source": [
    "spre(sigmay),qutip.spre(qutip.sigmay())"
   ]
  },
  {
   "cell_type": "code",
   "execution_count": 6,
   "metadata": {
    "ExecuteTime": {
     "end_time": "2018-08-02T16:58:07.927622Z",
     "start_time": "2018-08-02T16:58:07.918717Z"
    }
   },
   "outputs": [
    {
     "data": {
      "text/plain": [
       "(Matrix([\n",
       " [ 0,  0, I, 0],\n",
       " [ 0,  0, 0, I],\n",
       " [-I,  0, 0, 0],\n",
       " [ 0, -I, 0, 0]]),\n",
       " Quantum object: dims = [[[2], [2]], [[2], [2]]], shape = (4, 4), type = super, isherm = True\n",
       " Qobj data =\n",
       " [[0.+0.j 0.+0.j 0.+1.j 0.+0.j]\n",
       "  [0.+0.j 0.+0.j 0.+0.j 0.+1.j]\n",
       "  [0.-1.j 0.+0.j 0.+0.j 0.+0.j]\n",
       "  [0.+0.j 0.-1.j 0.+0.j 0.+0.j]])"
      ]
     },
     "execution_count": 6,
     "metadata": {},
     "output_type": "execute_result"
    }
   ],
   "source": [
    "spost(sigmay),qutip.spost(qutip.sigmay())"
   ]
  },
  {
   "cell_type": "markdown",
   "metadata": {},
   "source": [
    "### The symbolic variables we will use\n",
    "- TODO: explain what they all are\n"
   ]
  },
  {
   "cell_type": "code",
   "execution_count": 7,
   "metadata": {
    "ExecuteTime": {
     "end_time": "2018-08-02T16:58:07.932517Z",
     "start_time": "2018-08-02T16:58:07.928690Z"
    }
   },
   "outputs": [],
   "source": [
    "delta2,delta3 = sym.symbols('delta_2 delta_3',real=True)\n",
    "gamma13,gamma23,gamma2d,gamma3d,nbath,gammamu = sym.symbols('gamma_13 gamma_23 gamma_2d gamma_3d n_b gamma_mu', real=True, negative=False)\n",
    "omegao,omegam = sym.symbols('Omega_o Omega_mu', real=True, negative=False)\n",
    "rho11,rho12,rho13,rho21,rho22,rho23,rho31,rho32,rho33 = sym.symbols('rho_11 rho_12 rho_13 rho_21 rho_22 rho_23 rho_31 rho_32 rho_33')\n",
    "\n",
    "a = sym.symbols('a')\n",
    "ar,ai = sym.symbols('a_r a_i',real=True)\n",
    "g = sym.symbols('g',real=True, negative=False)"
   ]
  },
  {
   "cell_type": "markdown",
   "metadata": {},
   "source": [
    "## Analytic calculations - Liovillian"
   ]
  },
  {
   "cell_type": "code",
   "execution_count": 8,
   "metadata": {
    "ExecuteTime": {
     "end_time": "2018-08-02T16:58:08.022548Z",
     "start_time": "2018-08-02T16:58:07.933679Z"
    }
   },
   "outputs": [],
   "source": [
    "H =  omegam*s21 + omegao*s32 + g*a*s31\n",
    "H = H + Dagger(H)\n",
    "H = H + delta2*s22 + delta3*s33\n",
    "LH = -I*spre(H)+I*spost(H) \n",
    "\n",
    "L21 = gammamu*(nbath+1)*collapse(s12)\n",
    "L12 = gammamu*(nbath)*collapse(s21)\n",
    "L32 = gamma23*collapse(s23)\n",
    "L31 = gamma13*collapse(s13)\n",
    "L22 = gamma2d*collapse(s22)\n",
    "L33 = gamma3d*collapse(s33)\n",
    "\n",
    "L = LH + L21 + L12 + L32 + L31 + L22 + L33\n",
    "\n",
    "#because Trace(rho) = 1 we can replace first row as below\n",
    "#this gives us a matrix that can be inverted\n",
    "L = L.row_insert(0,Matrix([[1,0,0,0,1,0,0,0,1]]))\n",
    "L.row_del(1)\n",
    "\n",
    "# The condition for the steady state is now L*rho=V\n",
    "# where V = [1,0,0, 0,0,0, 0,0,0].T"
   ]
  },
  {
   "cell_type": "code",
   "execution_count": 14,
   "metadata": {},
   "outputs": [
    {
     "data": {
      "text/latex": [
       "$$\\left[\\begin{matrix}0 & - i \\Omega_{\\mu} & - i g \\overline{a} & i \\Omega_{\\mu} & 0 & 0 & i a g & 0 & 0\\\\- i \\Omega_{\\mu} & - i \\delta_{2} & - i \\Omega_{o} & 0 & i \\Omega_{\\mu} & 0 & 0 & i a g & 0\\\\- i a g & - i \\Omega_{o} & - i \\delta_{3} & 0 & 0 & i \\Omega_{\\mu} & 0 & 0 & i a g\\\\i \\Omega_{\\mu} & 0 & 0 & i \\delta_{2} & - i \\Omega_{\\mu} & - i g \\overline{a} & i \\Omega_{o} & 0 & 0\\\\0 & i \\Omega_{\\mu} & 0 & - i \\Omega_{\\mu} & 0 & - i \\Omega_{o} & 0 & i \\Omega_{o} & 0\\\\0 & 0 & i \\Omega_{\\mu} & - i a g & - i \\Omega_{o} & i \\delta_{2} - i \\delta_{3} & 0 & 0 & i \\Omega_{o}\\\\i g \\overline{a} & 0 & 0 & i \\Omega_{o} & 0 & 0 & i \\delta_{3} & - i \\Omega_{\\mu} & - i g \\overline{a}\\\\0 & i g \\overline{a} & 0 & 0 & i \\Omega_{o} & 0 & - i \\Omega_{\\mu} & - i \\delta_{2} + i \\delta_{3} & - i \\Omega_{o}\\\\0 & 0 & i g \\overline{a} & 0 & 0 & i \\Omega_{o} & - i a g & - i \\Omega_{o} & 0\\end{matrix}\\right]$$"
      ],
      "text/plain": [
       "⎡                     _                                                       \n",
       "⎢  0     -ⅈ⋅Ωₘᵤ  -ⅈ⋅g⋅a  ⅈ⋅Ωₘᵤ     0          0       ⅈ⋅a⋅g        0          \n",
       "⎢                                                                             \n",
       "⎢-ⅈ⋅Ωₘᵤ  -ⅈ⋅δ₂   -ⅈ⋅Ωₒ     0     ⅈ⋅Ωₘᵤ        0         0        ⅈ⋅a⋅g        \n",
       "⎢                                                                             \n",
       "⎢-ⅈ⋅a⋅g  -ⅈ⋅Ωₒ   -ⅈ⋅δ₃     0       0        ⅈ⋅Ωₘᵤ       0          0        ⅈ⋅\n",
       "⎢                                                                             \n",
       "⎢                                               _                             \n",
       "⎢ⅈ⋅Ωₘᵤ     0       0      ⅈ⋅δ₂   -ⅈ⋅Ωₘᵤ    -ⅈ⋅g⋅a      ⅈ⋅Ωₒ        0          \n",
       "⎢                                                                             \n",
       "⎢  0     ⅈ⋅Ωₘᵤ     0     -ⅈ⋅Ωₘᵤ    0        -ⅈ⋅Ωₒ       0         ⅈ⋅Ωₒ        \n",
       "⎢                                                                             \n",
       "⎢  0       0     ⅈ⋅Ωₘᵤ   -ⅈ⋅a⋅g  -ⅈ⋅Ωₒ   ⅈ⋅δ₂ - ⅈ⋅δ₃    0          0         ⅈ\n",
       "⎢                                                                             \n",
       "⎢    _                                                                        \n",
       "⎢ⅈ⋅g⋅a     0       0      ⅈ⋅Ωₒ     0          0        ⅈ⋅δ₃      -ⅈ⋅Ωₘᵤ     -ⅈ\n",
       "⎢                                                                             \n",
       "⎢            _                                                                \n",
       "⎢  0     ⅈ⋅g⋅a     0       0      ⅈ⋅Ωₒ        0       -ⅈ⋅Ωₘᵤ  -ⅈ⋅δ₂ + ⅈ⋅δ₃  -ⅈ\n",
       "⎢                                                                             \n",
       "⎢                    _                                                        \n",
       "⎣  0       0     ⅈ⋅g⋅a     0       0        ⅈ⋅Ωₒ      -ⅈ⋅a⋅g     -ⅈ⋅Ωₒ        \n",
       "\n",
       "    ⎤\n",
       "0   ⎥\n",
       "    ⎥\n",
       "0   ⎥\n",
       "    ⎥\n",
       "a⋅g ⎥\n",
       "    ⎥\n",
       "    ⎥\n",
       "0   ⎥\n",
       "    ⎥\n",
       "0   ⎥\n",
       "    ⎥\n",
       "⋅Ωₒ ⎥\n",
       "    ⎥\n",
       "   _⎥\n",
       "⋅g⋅a⎥\n",
       "    ⎥\n",
       "    ⎥\n",
       "⋅Ωₒ ⎥\n",
       "    ⎥\n",
       "    ⎥\n",
       "0   ⎦"
      ]
     },
     "execution_count": 14,
     "metadata": {},
     "output_type": "execute_result"
    }
   ],
   "source": [
    "LH "
   ]
  },
  {
   "cell_type": "markdown",
   "metadata": {},
   "source": [
    "### Expressions for the various operators"
   ]
  },
  {
   "cell_type": "code",
   "execution_count": 9,
   "metadata": {
    "ExecuteTime": {
     "end_time": "2018-08-02T16:58:08.248310Z",
     "start_time": "2018-08-02T16:58:08.023632Z"
    }
   },
   "outputs": [
    {
     "data": {
      "text/latex": [
       "$$\\left[\\begin{matrix}1 & 0 & 0 & 0 & 1 & 0 & 0 & 0 & 1\\\\- i \\Omega_{\\mu} & - i \\delta_{2} - \\frac{\\gamma_{2d}}{2} - \\frac{\\gamma_{\\mu} n_{b}}{2} - \\frac{\\gamma_{\\mu}}{2} \\left(n_{b} + 1\\right) & - i \\Omega_{o} & 0 & i \\Omega_{\\mu} & 0 & 0 & i a g & 0\\\\- i a g & - i \\Omega_{o} & - i \\delta_{3} - \\frac{\\gamma_{13}}{2} - \\frac{\\gamma_{23}}{2} - \\frac{\\gamma_{3d}}{2} - \\frac{\\gamma_{\\mu} n_{b}}{2} & 0 & 0 & i \\Omega_{\\mu} & 0 & 0 & i a g\\\\i \\Omega_{\\mu} & 0 & 0 & i \\delta_{2} - \\frac{\\gamma_{2d}}{2} - \\frac{\\gamma_{\\mu} n_{b}}{2} - \\frac{\\gamma_{\\mu}}{2} \\left(n_{b} + 1\\right) & - i \\Omega_{\\mu} & - i g \\overline{a} & i \\Omega_{o} & 0 & 0\\\\\\gamma_{\\mu} n_{b} & i \\Omega_{\\mu} & 0 & - i \\Omega_{\\mu} & - \\gamma_{\\mu} \\left(n_{b} + 1\\right) & - i \\Omega_{o} & 0 & i \\Omega_{o} & \\gamma_{23}\\\\0 & 0 & i \\Omega_{\\mu} & - i a g & - i \\Omega_{o} & i \\delta_{2} - i \\delta_{3} - \\frac{\\gamma_{13}}{2} - \\frac{\\gamma_{23}}{2} - \\frac{\\gamma_{2d}}{2} - \\frac{\\gamma_{3d}}{2} - \\frac{\\gamma_{\\mu}}{2} \\left(n_{b} + 1\\right) & 0 & 0 & i \\Omega_{o}\\\\i g \\overline{a} & 0 & 0 & i \\Omega_{o} & 0 & 0 & i \\delta_{3} - \\frac{\\gamma_{13}}{2} - \\frac{\\gamma_{23}}{2} - \\frac{\\gamma_{3d}}{2} - \\frac{\\gamma_{\\mu} n_{b}}{2} & - i \\Omega_{\\mu} & - i g \\overline{a}\\\\0 & i g \\overline{a} & 0 & 0 & i \\Omega_{o} & 0 & - i \\Omega_{\\mu} & - i \\delta_{2} + i \\delta_{3} - \\frac{\\gamma_{13}}{2} - \\frac{\\gamma_{23}}{2} - \\frac{\\gamma_{2d}}{2} - \\frac{\\gamma_{3d}}{2} - \\frac{\\gamma_{\\mu}}{2} \\left(n_{b} + 1\\right) & - i \\Omega_{o}\\\\0 & 0 & i g \\overline{a} & 0 & 0 & i \\Omega_{o} & - i a g & - i \\Omega_{o} & - \\gamma_{13} - \\gamma_{23}\\end{matrix}\\right]$$"
      ],
      "text/plain": [
       "⎡   1                       0                                     0           \n",
       "⎢                                                                             \n",
       "⎢                 γ_2d   γₘᵤ⋅n_b   γₘᵤ⋅(n_b + 1)                              \n",
       "⎢-ⅈ⋅Ωₘᵤ   -ⅈ⋅δ₂ - ──── - ─────── - ─────────────                -ⅈ⋅Ωₒ         \n",
       "⎢                  2        2            2                                    \n",
       "⎢                                                                             \n",
       "⎢                                                         γ₁₃   γ₂₃   γ_3d   γ\n",
       "⎢-ⅈ⋅a⋅g                   -ⅈ⋅Ωₒ                   -ⅈ⋅δ₃ - ─── - ─── - ──── - ─\n",
       "⎢                                                          2     2     2      \n",
       "⎢                                                                             \n",
       "⎢                                                                             \n",
       "⎢ ⅈ⋅Ωₘᵤ                     0                                     0           \n",
       "⎢                                                                             \n",
       "⎢                                                                             \n",
       "⎢γₘᵤ⋅n_b                  ⅈ⋅Ωₘᵤ                                   0           \n",
       "⎢                                                                             \n",
       "⎢                                                                             \n",
       "⎢   0                       0                                   ⅈ⋅Ωₘᵤ         \n",
       "⎢                                                                             \n",
       "⎢                                                                             \n",
       "⎢     _                                                                       \n",
       "⎢ ⅈ⋅g⋅a                     0                                     0           \n",
       "⎢                                                                             \n",
       "⎢                                                                             \n",
       "⎢                             _                                               \n",
       "⎢   0                     ⅈ⋅g⋅a                                   0           \n",
       "⎢                                                                             \n",
       "⎢                                                                             \n",
       "⎢                                                                   _         \n",
       "⎣   0                       0                                   ⅈ⋅g⋅a         \n",
       "\n",
       "                          0                          1                        \n",
       "                                                                              \n",
       "                                                                              \n",
       "                          0                        ⅈ⋅Ωₘᵤ                      \n",
       "                                                                              \n",
       "                                                                              \n",
       "ₘᵤ⋅n_b                                                                        \n",
       "──────                    0                          0                        \n",
       "  2                                                                           \n",
       "                                                                              \n",
       "               γ_2d   γₘᵤ⋅n_b   γₘᵤ⋅(n_b + 1)                                 \n",
       "        ⅈ⋅δ₂ - ──── - ─────── - ─────────────      -ⅈ⋅Ωₘᵤ                     \n",
       "                2        2            2                                       \n",
       "                                                                              \n",
       "                       -ⅈ⋅Ωₘᵤ                  -γₘᵤ⋅(n_b + 1)                 \n",
       "                                                                              \n",
       "                                                                             γ\n",
       "                       -ⅈ⋅a⋅g                      -ⅈ⋅Ωₒ       ⅈ⋅δ₂ - ⅈ⋅δ₃ - ─\n",
       "                                                                              \n",
       "                                                                              \n",
       "                                                                              \n",
       "                        ⅈ⋅Ωₒ                         0                        \n",
       "                                                                              \n",
       "                                                                              \n",
       "                                                                              \n",
       "                          0                         ⅈ⋅Ωₒ                      \n",
       "                                                                              \n",
       "                                                                              \n",
       "                                                                              \n",
       "                          0                          0                        \n",
       "\n",
       "           0                                            0                     \n",
       "                                                                              \n",
       "                                                                              \n",
       "           0                                            0                     \n",
       "                                                                              \n",
       "                                                                              \n",
       "                                                                              \n",
       "         ⅈ⋅Ωₘᵤ                                          0                     \n",
       "                                                                              \n",
       "                                                                              \n",
       "             _                                                                \n",
       "        -ⅈ⋅g⋅a                                        ⅈ⋅Ωₒ                    \n",
       "                                                                              \n",
       "                                                                              \n",
       "         -ⅈ⋅Ωₒ                                          0                     \n",
       "                                                                              \n",
       "₁₃   γ₂₃   γ_2d   γ_3d   γₘᵤ⋅(n_b + 1)                                        \n",
       "── - ─── - ──── - ──── - ─────────────                  0                     \n",
       "2     2     2      2           2                                              \n",
       "                                                                              \n",
       "                                               γ₁₃   γ₂₃   γ_3d   γₘᵤ⋅n_b     \n",
       "           0                            ⅈ⋅δ₃ - ─── - ─── - ──── - ───────     \n",
       "                                                2     2     2        2        \n",
       "                                                                              \n",
       "                                                                              \n",
       "           0                                         -ⅈ⋅Ωₘᵤ                -ⅈ⋅\n",
       "                                                                              \n",
       "                                                                              \n",
       "                                                                              \n",
       "         ⅈ⋅Ωₒ                                        -ⅈ⋅a⋅g                   \n",
       "\n",
       "                       0                                 1     ⎤\n",
       "                                                               ⎥\n",
       "                                                               ⎥\n",
       "                     ⅈ⋅a⋅g                               0     ⎥\n",
       "                                                               ⎥\n",
       "                                                               ⎥\n",
       "                                                               ⎥\n",
       "                       0                               ⅈ⋅a⋅g   ⎥\n",
       "                                                               ⎥\n",
       "                                                               ⎥\n",
       "                                                               ⎥\n",
       "                       0                                 0     ⎥\n",
       "                                                               ⎥\n",
       "                                                               ⎥\n",
       "                      ⅈ⋅Ωₒ                              γ₂₃    ⎥\n",
       "                                                               ⎥\n",
       "                                                               ⎥\n",
       "                       0                                ⅈ⋅Ωₒ   ⎥\n",
       "                                                               ⎥\n",
       "                                                               ⎥\n",
       "                                                            _  ⎥\n",
       "                     -ⅈ⋅Ωₘᵤ                            -ⅈ⋅g⋅a  ⎥\n",
       "                                                               ⎥\n",
       "                                                               ⎥\n",
       "            γ₁₃   γ₂₃   γ_2d   γ_3d   γₘᵤ⋅(n_b + 1)            ⎥\n",
       "δ₂ + ⅈ⋅δ₃ - ─── - ─── - ──── - ──── - ─────────────    -ⅈ⋅Ωₒ   ⎥\n",
       "             2     2     2      2           2                  ⎥\n",
       "                                                               ⎥\n",
       "                                                               ⎥\n",
       "                     -ⅈ⋅Ωₒ                           -γ₁₃ - γ₂₃⎦"
      ]
     },
     "execution_count": 9,
     "metadata": {},
     "output_type": "execute_result"
    }
   ],
   "source": [
    "L"
   ]
  },
  {
   "cell_type": "code",
   "execution_count": 10,
   "metadata": {
    "ExecuteTime": {
     "end_time": "2018-08-02T16:58:08.281086Z",
     "start_time": "2018-08-02T16:58:08.249439Z"
    }
   },
   "outputs": [
    {
     "data": {
      "text/latex": [
       "$$\\left[\\begin{matrix}0 & \\Omega_{\\mu} & g \\overline{a}\\\\\\Omega_{\\mu} & \\delta_{2} & \\Omega_{o}\\\\a g & \\Omega_{o} & \\delta_{3}\\end{matrix}\\right]$$"
      ],
      "text/plain": [
       "⎡            _⎤\n",
       "⎢ 0   Ωₘᵤ  g⋅a⎥\n",
       "⎢             ⎥\n",
       "⎢Ωₘᵤ  δ₂   Ωₒ ⎥\n",
       "⎢             ⎥\n",
       "⎣a⋅g  Ωₒ   δ₃ ⎦"
      ]
     },
     "execution_count": 10,
     "metadata": {},
     "output_type": "execute_result"
    }
   ],
   "source": [
    "H"
   ]
  },
  {
   "cell_type": "code",
   "execution_count": 11,
   "metadata": {},
   "outputs": [
    {
     "data": {
      "text/latex": [
       "$$\\left[\\begin{matrix}\\rho_{11} & \\rho_{12} & \\rho_{13}\\\\\\rho_{21} & \\rho_{22} & \\rho_{23}\\\\\\rho_{31} & \\rho_{32} & \\rho_{33}\\end{matrix}\\right]$$"
      ],
      "text/plain": [
       "⎡ρ₁₁  ρ₁₂  ρ₁₃⎤\n",
       "⎢             ⎥\n",
       "⎢ρ₂₁  ρ₂₂  ρ₂₃⎥\n",
       "⎢             ⎥\n",
       "⎣ρ₃₁  ρ₃₂  ρ₃₃⎦"
      ]
     },
     "execution_count": 11,
     "metadata": {},
     "output_type": "execute_result"
    }
   ],
   "source": [
    "rho = Matrix([[rho11,rho21,rho31],[rho12,rho22,rho32],[rho13,rho23,rho33]])\n",
    "rho.T"
   ]
  },
  {
   "cell_type": "code",
   "execution_count": 12,
   "metadata": {
    "ExecuteTime": {
     "end_time": "2018-08-02T16:58:08.375465Z",
     "start_time": "2018-08-02T16:58:08.282160Z"
    }
   },
   "outputs": [
    {
     "data": {
      "image/png": "[encoded data removed]",
      "text/latex": [
       "$$\\left [ \\rho_{11}, \\quad \\rho_{21}, \\quad \\rho_{31}, \\quad \\rho_{12}, \\quad \\rho_{22}, \\quad \\rho_{32}, \\quad \\rho_{13}, \\quad \\rho_{23}, \\quad \\rho_{33}\\right ]$$"
      ],
      "text/plain": [
       "[ρ₁₁, ρ₂₁, ρ₃₁, ρ₁₂, ρ₂₂, ρ₃₂, ρ₁₃, ρ₂₃, ρ₃₃]"
      ]
     },
     "execution_count": 12,
     "metadata": {},
     "output_type": "execute_result"
    }
   ],
   "source": [
    "#rho flattened out to a vector\n",
    "rho = Matrix([[rho11,rho21,rho31],[rho12,rho22,rho32],[rho13,rho23,rho33]])\n",
    "rho = 1*rho.T #because we are using \"fortran\" style matrix flatteneing\n",
    "rho[:]\n",
    "rhoflat = 1*rho.T \n",
    "rhoflat = rhoflat[:]\n",
    "rhoflat"
   ]
  },
  {
   "cell_type": "code",
   "execution_count": 13,
   "metadata": {
    "ExecuteTime": {
     "end_time": "2018-08-02T16:58:08.424750Z",
     "start_time": "2018-08-02T16:58:08.376891Z"
    }
   },
   "outputs": [
    {
     "data": {
      "text/latex": [
       "$$\\left[\\begin{matrix}1 & 0 & 0\\\\- i \\Omega_{\\mu} & - i \\delta_{2} - \\frac{\\gamma_{2d}}{2} - \\frac{\\gamma_{\\mu} n_{b}}{2} - \\frac{\\gamma_{\\mu}}{2} \\left(n_{b} + 1\\right) & - i \\Omega_{o}\\\\- i a g & - i \\Omega_{o} & - i \\delta_{3} - \\frac{\\gamma_{13}}{2} - \\frac{\\gamma_{23}}{2} - \\frac{\\gamma_{3d}}{2} - \\frac{\\gamma_{\\mu} n_{b}}{2}\\\\i \\Omega_{\\mu} & 0 & 0\\\\\\gamma_{\\mu} n_{b} & i \\Omega_{\\mu} & 0\\\\0 & 0 & i \\Omega_{\\mu}\\\\i g \\overline{a} & 0 & 0\\\\0 & i g \\overline{a} & 0\\\\0 & 0 & i g \\overline{a}\\end{matrix}\\right]$$"
      ],
      "text/plain": [
       "⎡   1                       0                                     0           \n",
       "⎢                                                                             \n",
       "⎢                 γ_2d   γₘᵤ⋅n_b   γₘᵤ⋅(n_b + 1)                              \n",
       "⎢-ⅈ⋅Ωₘᵤ   -ⅈ⋅δ₂ - ──── - ─────── - ─────────────                -ⅈ⋅Ωₒ         \n",
       "⎢                  2        2            2                                    \n",
       "⎢                                                                             \n",
       "⎢                                                         γ₁₃   γ₂₃   γ_3d   γ\n",
       "⎢-ⅈ⋅a⋅g                   -ⅈ⋅Ωₒ                   -ⅈ⋅δ₃ - ─── - ─── - ──── - ─\n",
       "⎢                                                          2     2     2      \n",
       "⎢                                                                             \n",
       "⎢ ⅈ⋅Ωₘᵤ                     0                                     0           \n",
       "⎢                                                                             \n",
       "⎢γₘᵤ⋅n_b                  ⅈ⋅Ωₘᵤ                                   0           \n",
       "⎢                                                                             \n",
       "⎢   0                       0                                   ⅈ⋅Ωₘᵤ         \n",
       "⎢                                                                             \n",
       "⎢     _                                                                       \n",
       "⎢ ⅈ⋅g⋅a                     0                                     0           \n",
       "⎢                                                                             \n",
       "⎢                             _                                               \n",
       "⎢   0                     ⅈ⋅g⋅a                                   0           \n",
       "⎢                                                                             \n",
       "⎢                                                                   _         \n",
       "⎣   0                       0                                   ⅈ⋅g⋅a         \n",
       "\n",
       "      ⎤\n",
       "      ⎥\n",
       "      ⎥\n",
       "      ⎥\n",
       "      ⎥\n",
       "      ⎥\n",
       "ₘᵤ⋅n_b⎥\n",
       "──────⎥\n",
       "  2   ⎥\n",
       "      ⎥\n",
       "      ⎥\n",
       "      ⎥\n",
       "      ⎥\n",
       "      ⎥\n",
       "      ⎥\n",
       "      ⎥\n",
       "      ⎥\n",
       "      ⎥\n",
       "      ⎥\n",
       "      ⎥\n",
       "      ⎥\n",
       "      ⎥\n",
       "      ⎥\n",
       "      ⎦"
      ]
     },
     "execution_count": 13,
     "metadata": {},
     "output_type": "execute_result"
    }
   ],
   "source": [
    "L[:,0:3] #because the matrix gets clipped when exporting to PDF"
   ]
  },
  {
   "cell_type": "code",
   "execution_count": 14,
   "metadata": {
    "ExecuteTime": {
     "end_time": "2018-08-02T16:58:08.477903Z",
     "start_time": "2018-08-02T16:58:08.426151Z"
    }
   },
   "outputs": [
    {
     "data": {
      "text/latex": [
       "$$\\left[\\begin{matrix}0 & 1 & 0\\\\0 & i \\Omega_{\\mu} & 0\\\\0 & 0 & i \\Omega_{\\mu}\\\\i \\delta_{2} - \\frac{\\gamma_{2d}}{2} - \\frac{\\gamma_{\\mu} n_{b}}{2} - \\frac{\\gamma_{\\mu}}{2} \\left(n_{b} + 1\\right) & - i \\Omega_{\\mu} & - i g \\overline{a}\\\\- i \\Omega_{\\mu} & - \\gamma_{\\mu} \\left(n_{b} + 1\\right) & - i \\Omega_{o}\\\\- i a g & - i \\Omega_{o} & i \\delta_{2} - i \\delta_{3} - \\frac{\\gamma_{13}}{2} - \\frac{\\gamma_{23}}{2} - \\frac{\\gamma_{2d}}{2} - \\frac{\\gamma_{3d}}{2} - \\frac{\\gamma_{\\mu}}{2} \\left(n_{b} + 1\\right)\\\\i \\Omega_{o} & 0 & 0\\\\0 & i \\Omega_{o} & 0\\\\0 & 0 & i \\Omega_{o}\\end{matrix}\\right]$$"
      ],
      "text/plain": [
       "⎡                  0                          1                               \n",
       "⎢                                                                             \n",
       "⎢                  0                        ⅈ⋅Ωₘᵤ                             \n",
       "⎢                                                                             \n",
       "⎢                  0                          0                               \n",
       "⎢                                                                             \n",
       "⎢       γ_2d   γₘᵤ⋅n_b   γₘᵤ⋅(n_b + 1)                                        \n",
       "⎢ⅈ⋅δ₂ - ──── - ─────── - ─────────────      -ⅈ⋅Ωₘᵤ                            \n",
       "⎢        2        2            2                                              \n",
       "⎢                                                                             \n",
       "⎢               -ⅈ⋅Ωₘᵤ                  -γₘᵤ⋅(n_b + 1)                        \n",
       "⎢                                                                             \n",
       "⎢                                                                     γ₁₃   γ₂\n",
       "⎢               -ⅈ⋅a⋅g                      -ⅈ⋅Ωₒ       ⅈ⋅δ₂ - ⅈ⋅δ₃ - ─── - ──\n",
       "⎢                                                                      2     2\n",
       "⎢                                                                             \n",
       "⎢                ⅈ⋅Ωₒ                         0                               \n",
       "⎢                                                                             \n",
       "⎢                  0                         ⅈ⋅Ωₒ                             \n",
       "⎢                                                                             \n",
       "⎣                  0                          0                               \n",
       "\n",
       "    0                          ⎤\n",
       "                               ⎥\n",
       "    0                          ⎥\n",
       "                               ⎥\n",
       "  ⅈ⋅Ωₘᵤ                        ⎥\n",
       "                               ⎥\n",
       "      _                        ⎥\n",
       " -ⅈ⋅g⋅a                        ⎥\n",
       "                               ⎥\n",
       "                               ⎥\n",
       "  -ⅈ⋅Ωₒ                        ⎥\n",
       "                               ⎥\n",
       "₃   γ_2d   γ_3d   γₘᵤ⋅(n_b + 1)⎥\n",
       "─ - ──── - ──── - ─────────────⎥\n",
       "     2      2           2      ⎥\n",
       "                               ⎥\n",
       "    0                          ⎥\n",
       "                               ⎥\n",
       "    0                          ⎥\n",
       "                               ⎥\n",
       "  ⅈ⋅Ωₒ                         ⎦"
      ]
     },
     "execution_count": 14,
     "metadata": {},
     "output_type": "execute_result"
    }
   ],
   "source": [
    "L[:,3:6]"
   ]
  },
  {
   "cell_type": "code",
   "execution_count": 15,
   "metadata": {
    "ExecuteTime": {
     "end_time": "2018-08-02T16:58:08.524972Z",
     "start_time": "2018-08-02T16:58:08.479196Z"
    }
   },
   "outputs": [
    {
     "data": {
      "text/latex": [
       "$$\\left[\\begin{matrix}0 & 0 & 1\\\\0 & i a g & 0\\\\0 & 0 & i a g\\\\i \\Omega_{o} & 0 & 0\\\\0 & i \\Omega_{o} & \\gamma_{23}\\\\0 & 0 & i \\Omega_{o}\\\\i \\delta_{3} - \\frac{\\gamma_{13}}{2} - \\frac{\\gamma_{23}}{2} - \\frac{\\gamma_{3d}}{2} - \\frac{\\gamma_{\\mu} n_{b}}{2} & - i \\Omega_{\\mu} & - i g \\overline{a}\\\\- i \\Omega_{\\mu} & - i \\delta_{2} + i \\delta_{3} - \\frac{\\gamma_{13}}{2} - \\frac{\\gamma_{23}}{2} - \\frac{\\gamma_{2d}}{2} - \\frac{\\gamma_{3d}}{2} - \\frac{\\gamma_{\\mu}}{2} \\left(n_{b} + 1\\right) & - i \\Omega_{o}\\\\- i a g & - i \\Omega_{o} & - \\gamma_{13} - \\gamma_{23}\\end{matrix}\\right]$$"
      ],
      "text/plain": [
       "⎡                0                                            0               \n",
       "⎢                                                                             \n",
       "⎢                0                                          ⅈ⋅a⋅g             \n",
       "⎢                                                                             \n",
       "⎢                0                                            0               \n",
       "⎢                                                                             \n",
       "⎢              ⅈ⋅Ωₒ                                           0               \n",
       "⎢                                                                             \n",
       "⎢                0                                           ⅈ⋅Ωₒ             \n",
       "⎢                                                                             \n",
       "⎢                0                                            0               \n",
       "⎢                                                                             \n",
       "⎢       γ₁₃   γ₂₃   γ_3d   γₘᵤ⋅n_b                                            \n",
       "⎢ⅈ⋅δ₃ - ─── - ─── - ──── - ───────                          -ⅈ⋅Ωₘᵤ            \n",
       "⎢        2     2     2        2                                               \n",
       "⎢                                                                             \n",
       "⎢                                                  γ₁₃   γ₂₃   γ_2d   γ_3d   γ\n",
       "⎢             -ⅈ⋅Ωₘᵤ                -ⅈ⋅δ₂ + ⅈ⋅δ₃ - ─── - ─── - ──── - ──── - ─\n",
       "⎢                                                   2     2     2      2      \n",
       "⎢                                                                             \n",
       "⎣             -ⅈ⋅a⋅g                                        -ⅈ⋅Ωₒ             \n",
       "\n",
       "                  1     ⎤\n",
       "                        ⎥\n",
       "                  0     ⎥\n",
       "                        ⎥\n",
       "                ⅈ⋅a⋅g   ⎥\n",
       "                        ⎥\n",
       "                  0     ⎥\n",
       "                        ⎥\n",
       "                 γ₂₃    ⎥\n",
       "                        ⎥\n",
       "                 ⅈ⋅Ωₒ   ⎥\n",
       "                        ⎥\n",
       "                     _  ⎥\n",
       "                -ⅈ⋅g⋅a  ⎥\n",
       "                        ⎥\n",
       "                        ⎥\n",
       "ₘᵤ⋅(n_b + 1)            ⎥\n",
       "────────────    -ⅈ⋅Ωₒ   ⎥\n",
       "     2                  ⎥\n",
       "                        ⎥\n",
       "              -γ₁₃ - γ₂₃⎦"
      ]
     },
     "execution_count": 15,
     "metadata": {},
     "output_type": "execute_result"
    }
   ],
   "source": [
    "L[:,6:]"
   ]
  },
  {
   "cell_type": "code",
   "execution_count": 16,
   "metadata": {},
   "outputs": [
    {
     "data": {
      "text/latex": [
       "$$\\left[\\begin{matrix}1 & 0 & 0 & 0 & 1 & 0 & 0 & 0 & 1\\\\- i \\Omega_{\\mu} & - i \\delta_{2} - \\frac{\\gamma_{2d}}{2} - \\frac{\\gamma_{\\mu} n_{b}}{2} - \\frac{\\gamma_{\\mu}}{2} \\left(n_{b} + 1\\right) & - i \\Omega_{o} & 0 & i \\Omega_{\\mu} & 0 & 0 & i a g & 0\\\\- i a g & - i \\Omega_{o} & - i \\delta_{3} - \\frac{\\gamma_{13}}{2} - \\frac{\\gamma_{23}}{2} - \\frac{\\gamma_{3d}}{2} - \\frac{\\gamma_{\\mu} n_{b}}{2} & 0 & 0 & i \\Omega_{\\mu} & 0 & 0 & i a g\\\\i \\Omega_{\\mu} & 0 & 0 & i \\delta_{2} - \\frac{\\gamma_{2d}}{2} - \\frac{\\gamma_{\\mu} n_{b}}{2} - \\frac{\\gamma_{\\mu}}{2} \\left(n_{b} + 1\\right) & - i \\Omega_{\\mu} & - i g \\overline{a} & i \\Omega_{o} & 0 & 0\\\\\\gamma_{\\mu} n_{b} & i \\Omega_{\\mu} & 0 & - i \\Omega_{\\mu} & - \\gamma_{\\mu} \\left(n_{b} + 1\\right) & - i \\Omega_{o} & 0 & i \\Omega_{o} & \\gamma_{23}\\\\0 & 0 & i \\Omega_{\\mu} & - i a g & - i \\Omega_{o} & i \\delta_{2} - i \\delta_{3} - \\frac{\\gamma_{13}}{2} - \\frac{\\gamma_{23}}{2} - \\frac{\\gamma_{2d}}{2} - \\frac{\\gamma_{3d}}{2} - \\frac{\\gamma_{\\mu}}{2} \\left(n_{b} + 1\\right) & 0 & 0 & i \\Omega_{o}\\\\i g \\overline{a} & 0 & 0 & i \\Omega_{o} & 0 & 0 & i \\delta_{3} - \\frac{\\gamma_{13}}{2} - \\frac{\\gamma_{23}}{2} - \\frac{\\gamma_{3d}}{2} - \\frac{\\gamma_{\\mu} n_{b}}{2} & - i \\Omega_{\\mu} & - i g \\overline{a}\\\\0 & i g \\overline{a} & 0 & 0 & i \\Omega_{o} & 0 & - i \\Omega_{\\mu} & - i \\delta_{2} + i \\delta_{3} - \\frac{\\gamma_{13}}{2} - \\frac{\\gamma_{23}}{2} - \\frac{\\gamma_{2d}}{2} - \\frac{\\gamma_{3d}}{2} - \\frac{\\gamma_{\\mu}}{2} \\left(n_{b} + 1\\right) & - i \\Omega_{o}\\\\0 & 0 & i g \\overline{a} & 0 & 0 & i \\Omega_{o} & - i a g & - i \\Omega_{o} & - \\gamma_{13} - \\gamma_{23}\\end{matrix}\\right]$$"
      ],
      "text/plain": [
       "⎡   1                       0                                     0           \n",
       "⎢                                                                             \n",
       "⎢                 γ_2d   γₘᵤ⋅n_b   γₘᵤ⋅(n_b + 1)                              \n",
       "⎢-ⅈ⋅Ωₘᵤ   -ⅈ⋅δ₂ - ──── - ─────── - ─────────────                -ⅈ⋅Ωₒ         \n",
       "⎢                  2        2            2                                    \n",
       "⎢                                                                             \n",
       "⎢                                                         γ₁₃   γ₂₃   γ_3d   γ\n",
       "⎢-ⅈ⋅a⋅g                   -ⅈ⋅Ωₒ                   -ⅈ⋅δ₃ - ─── - ─── - ──── - ─\n",
       "⎢                                                          2     2     2      \n",
       "⎢                                                                             \n",
       "⎢                                                                             \n",
       "⎢ ⅈ⋅Ωₘᵤ                     0                                     0           \n",
       "⎢                                                                             \n",
       "⎢                                                                             \n",
       "⎢γₘᵤ⋅n_b                  ⅈ⋅Ωₘᵤ                                   0           \n",
       "⎢                                                                             \n",
       "⎢                                                                             \n",
       "⎢   0                       0                                   ⅈ⋅Ωₘᵤ         \n",
       "⎢                                                                             \n",
       "⎢                                                                             \n",
       "⎢     _                                                                       \n",
       "⎢ ⅈ⋅g⋅a                     0                                     0           \n",
       "⎢                                                                             \n",
       "⎢                                                                             \n",
       "⎢                             _                                               \n",
       "⎢   0                     ⅈ⋅g⋅a                                   0           \n",
       "⎢                                                                             \n",
       "⎢                                                                             \n",
       "⎢                                                                   _         \n",
       "⎣   0                       0                                   ⅈ⋅g⋅a         \n",
       "\n",
       "                          0                          1                        \n",
       "                                                                              \n",
       "                                                                              \n",
       "                          0                        ⅈ⋅Ωₘᵤ                      \n",
       "                                                                              \n",
       "                                                                              \n",
       "ₘᵤ⋅n_b                                                                        \n",
       "──────                    0                          0                        \n",
       "  2                                                                           \n",
       "                                                                              \n",
       "               γ_2d   γₘᵤ⋅n_b   γₘᵤ⋅(n_b + 1)                                 \n",
       "        ⅈ⋅δ₂ - ──── - ─────── - ─────────────      -ⅈ⋅Ωₘᵤ                     \n",
       "                2        2            2                                       \n",
       "                                                                              \n",
       "                       -ⅈ⋅Ωₘᵤ                  -γₘᵤ⋅(n_b + 1)                 \n",
       "                                                                              \n",
       "                                                                             γ\n",
       "                       -ⅈ⋅a⋅g                      -ⅈ⋅Ωₒ       ⅈ⋅δ₂ - ⅈ⋅δ₃ - ─\n",
       "                                                                              \n",
       "                                                                              \n",
       "                                                                              \n",
       "                        ⅈ⋅Ωₒ                         0                        \n",
       "                                                                              \n",
       "                                                                              \n",
       "                                                                              \n",
       "                          0                         ⅈ⋅Ωₒ                      \n",
       "                                                                              \n",
       "                                                                              \n",
       "                                                                              \n",
       "                          0                          0                        \n",
       "\n",
       "           0                                            0                     \n",
       "                                                                              \n",
       "                                                                              \n",
       "           0                                            0                     \n",
       "                                                                              \n",
       "                                                                              \n",
       "                                                                              \n",
       "         ⅈ⋅Ωₘᵤ                                          0                     \n",
       "                                                                              \n",
       "                                                                              \n",
       "             _                                                                \n",
       "        -ⅈ⋅g⋅a                                        ⅈ⋅Ωₒ                    \n",
       "                                                                              \n",
       "                                                                              \n",
       "         -ⅈ⋅Ωₒ                                          0                     \n",
       "                                                                              \n",
       "₁₃   γ₂₃   γ_2d   γ_3d   γₘᵤ⋅(n_b + 1)                                        \n",
       "── - ─── - ──── - ──── - ─────────────                  0                     \n",
       "2     2     2      2           2                                              \n",
       "                                                                              \n",
       "                                               γ₁₃   γ₂₃   γ_3d   γₘᵤ⋅n_b     \n",
       "           0                            ⅈ⋅δ₃ - ─── - ─── - ──── - ───────     \n",
       "                                                2     2     2        2        \n",
       "                                                                              \n",
       "                                                                              \n",
       "           0                                         -ⅈ⋅Ωₘᵤ                -ⅈ⋅\n",
       "                                                                              \n",
       "                                                                              \n",
       "                                                                              \n",
       "         ⅈ⋅Ωₒ                                        -ⅈ⋅a⋅g                   \n",
       "\n",
       "                       0                                 1     ⎤\n",
       "                                                               ⎥\n",
       "                                                               ⎥\n",
       "                     ⅈ⋅a⋅g                               0     ⎥\n",
       "                                                               ⎥\n",
       "                                                               ⎥\n",
       "                                                               ⎥\n",
       "                       0                               ⅈ⋅a⋅g   ⎥\n",
       "                                                               ⎥\n",
       "                                                               ⎥\n",
       "                                                               ⎥\n",
       "                       0                                 0     ⎥\n",
       "                                                               ⎥\n",
       "                                                               ⎥\n",
       "                      ⅈ⋅Ωₒ                              γ₂₃    ⎥\n",
       "                                                               ⎥\n",
       "                                                               ⎥\n",
       "                       0                                ⅈ⋅Ωₒ   ⎥\n",
       "                                                               ⎥\n",
       "                                                               ⎥\n",
       "                                                            _  ⎥\n",
       "                     -ⅈ⋅Ωₘᵤ                            -ⅈ⋅g⋅a  ⎥\n",
       "                                                               ⎥\n",
       "                                                               ⎥\n",
       "            γ₁₃   γ₂₃   γ_2d   γ_3d   γₘᵤ⋅(n_b + 1)            ⎥\n",
       "δ₂ + ⅈ⋅δ₃ - ─── - ─── - ──── - ──── - ─────────────    -ⅈ⋅Ωₒ   ⎥\n",
       "             2     2     2      2           2                  ⎥\n",
       "                                                               ⎥\n",
       "                                                               ⎥\n",
       "                     -ⅈ⋅Ωₒ                           -γ₁₃ - γ₂₃⎦"
      ]
     },
     "execution_count": 16,
     "metadata": {},
     "output_type": "execute_result"
    }
   ],
   "source": [
    "L"
   ]
  },
  {
   "cell_type": "code",
   "execution_count": 17,
   "metadata": {
    "ExecuteTime": {
     "end_time": "2018-08-02T16:58:08.558307Z",
     "start_time": "2018-08-02T16:58:08.526072Z"
    }
   },
   "outputs": [
    {
     "data": {
      "image/png": "[encoded data removed]",
      "text/latex": [
       "$$\\rho_{23} + 1.0 i \\rho_{31}$$"
      ],
      "text/plain": [
       "ρ₂₃ + 1.0⋅ⅈ⋅ρ₃₁"
      ]
     },
     "execution_count": 17,
     "metadata": {},
     "output_type": "execute_result"
    }
   ],
   "source": [
    "\n",
    "rho_test=rho[:]\n",
    "rho_test[5]+1j*rho_test[6]"
   ]
  },
  {
   "cell_type": "markdown",
   "metadata": {},
   "source": [
    "### We can transform the \"basis\" we use for our density matrix vector so that all the elements are real"
   ]
  },
  {
   "cell_type": "code",
   "execution_count": 18,
   "metadata": {
    "ExecuteTime": {
     "end_time": "2018-08-02T16:58:08.564271Z",
     "start_time": "2018-08-02T16:58:08.559481Z"
    }
   },
   "outputs": [],
   "source": [
    "#change of variables to make things real to make it a bit faster maybe\n",
    "CtoR = Matrix([[2,0,0,0,0,0,0,0,0],\n",
    "               [0,0,0,0,2,0,0,0,0],\n",
    "               [0,0,0,0,0,0,0,0,2],\n",
    "               [0,1,0,1,0,0,0,0,0],\n",
    "               [0,I,0,-I,0,0,0,0,0],\n",
    "               [0,0,1,0,0,0,1,0,0],\n",
    "               [0,0,I,0,0,0,-I,0,0],\n",
    "               [0,0,0,0,0,1,0,1,0],\n",
    "               [0,0,0,0,0,I,0,-I,0]\n",
    "              ])\n",
    "CtoR=CtoR/2"
   ]
  },
  {
   "cell_type": "markdown",
   "metadata": {},
   "source": [
    "### The new organisation for our density matrix"
   ]
  },
  {
   "cell_type": "code",
   "execution_count": 19,
   "metadata": {
    "ExecuteTime": {
     "end_time": "2018-08-02T16:58:08.611543Z",
     "start_time": "2018-08-02T16:58:08.565386Z"
    }
   },
   "outputs": [
    {
     "data": {
      "text/latex": [
       "$$\\left[\\begin{matrix}\\rho_{11}\\\\\\rho_{22}\\\\\\rho_{33}\\\\\\frac{\\rho_{12}}{2} + \\frac{\\rho_{21}}{2}\\\\- \\frac{i \\rho_{12}}{2} + \\frac{i \\rho_{21}}{2}\\\\\\frac{\\rho_{13}}{2} + \\frac{\\rho_{31}}{2}\\\\- \\frac{i \\rho_{13}}{2} + \\frac{i \\rho_{31}}{2}\\\\\\frac{\\rho_{23}}{2} + \\frac{\\rho_{32}}{2}\\\\- \\frac{i \\rho_{23}}{2} + \\frac{i \\rho_{32}}{2}\\end{matrix}\\right]$$"
      ],
      "text/plain": [
       "⎡      ρ₁₁      ⎤\n",
       "⎢               ⎥\n",
       "⎢      ρ₂₂      ⎥\n",
       "⎢               ⎥\n",
       "⎢      ρ₃₃      ⎥\n",
       "⎢               ⎥\n",
       "⎢   ρ₁₂   ρ₂₁   ⎥\n",
       "⎢   ─── + ───   ⎥\n",
       "⎢    2     2    ⎥\n",
       "⎢               ⎥\n",
       "⎢  ⅈ⋅ρ₁₂   ⅈ⋅ρ₂₁⎥\n",
       "⎢- ───── + ─────⎥\n",
       "⎢    2       2  ⎥\n",
       "⎢               ⎥\n",
       "⎢   ρ₁₃   ρ₃₁   ⎥\n",
       "⎢   ─── + ───   ⎥\n",
       "⎢    2     2    ⎥\n",
       "⎢               ⎥\n",
       "⎢  ⅈ⋅ρ₁₃   ⅈ⋅ρ₃₁⎥\n",
       "⎢- ───── + ─────⎥\n",
       "⎢    2       2  ⎥\n",
       "⎢               ⎥\n",
       "⎢   ρ₂₃   ρ₃₂   ⎥\n",
       "⎢   ─── + ───   ⎥\n",
       "⎢    2     2    ⎥\n",
       "⎢               ⎥\n",
       "⎢  ⅈ⋅ρ₂₃   ⅈ⋅ρ₃₂⎥\n",
       "⎢- ───── + ─────⎥\n",
       "⎣    2       2  ⎦"
      ]
     },
     "execution_count": 19,
     "metadata": {},
     "output_type": "execute_result"
    }
   ],
   "source": [
    "#these is our new state vector \n",
    "t = CtoR*Matrix(rhoflat)\n",
    "t"
   ]
  },
  {
   "cell_type": "markdown",
   "metadata": {},
   "source": [
    "### The Liovillian in this new basis"
   ]
  },
  {
   "cell_type": "code",
   "execution_count": 20,
   "metadata": {
    "ExecuteTime": {
     "end_time": "2018-08-02T16:58:09.096877Z",
     "start_time": "2018-08-02T16:58:08.612754Z"
    }
   },
   "outputs": [
    {
     "data": {
      "text/latex": [
       "$$\\left[\\begin{matrix}1 & 1 & 1 & 0 & 0 & 0 & 0 & 0 & 0\\\\\\gamma_{\\mu} n_{b} & - \\gamma_{\\mu} \\left(n_{b} + 1\\right) & \\gamma_{23} & 0 & 2 \\Omega_{\\mu} & 0 & 0 & 0 & - 2 \\Omega_{o}\\\\0 & 0 & - \\gamma_{13} - \\gamma_{23} & 0 & 0 & 2 a_{i} g & 2 a_{r} g & 0 & 2 \\Omega_{o}\\\\0 & 0 & 0 & - \\frac{\\gamma_{2d}}{2} - \\gamma_{\\mu} n_{b} - \\frac{\\gamma_{\\mu}}{2} & - \\delta_{2} & 0 & - \\Omega_{o} & - a_{i} g & - a_{r} g\\\\\\Omega_{\\mu} & - \\Omega_{\\mu} & 0 & \\delta_{2} & - \\frac{\\gamma_{2d}}{2} - \\gamma_{\\mu} n_{b} - \\frac{\\gamma_{\\mu}}{2} & \\Omega_{o} & 0 & - a_{r} g & a_{i} g\\\\a_{i} g & 0 & - a_{i} g & 0 & - \\Omega_{o} & - \\frac{\\gamma_{13}}{2} - \\frac{\\gamma_{23}}{2} - \\frac{\\gamma_{3d}}{2} - \\frac{\\gamma_{\\mu} n_{b}}{2} & - \\delta_{3} & 0 & \\Omega_{\\mu}\\\\a_{r} g & 0 & - a_{r} g & \\Omega_{o} & 0 & \\delta_{3} & - \\frac{\\gamma_{13}}{2} - \\frac{\\gamma_{23}}{2} - \\frac{\\gamma_{3d}}{2} - \\frac{\\gamma_{\\mu} n_{b}}{2} & - \\Omega_{\\mu} & 0\\\\0 & 0 & 0 & a_{i} g & a_{r} g & 0 & \\Omega_{\\mu} & - \\frac{\\gamma_{13}}{2} - \\frac{\\gamma_{23}}{2} - \\frac{\\gamma_{2d}}{2} - \\frac{\\gamma_{3d}}{2} - \\frac{\\gamma_{\\mu}}{2} \\left(n_{b} + 1\\right) & \\delta_{2} - \\delta_{3}\\\\0 & \\Omega_{o} & - \\Omega_{o} & a_{r} g & - a_{i} g & - \\Omega_{\\mu} & 0 & - \\delta_{2} + \\delta_{3} & - \\frac{\\gamma_{13}}{2} - \\frac{\\gamma_{23}}{2} - \\frac{\\gamma_{2d}}{2} - \\frac{\\gamma_{3d}}{2} - \\frac{\\gamma_{\\mu}}{2} \\left(n_{b} + 1\\right)\\end{matrix}\\right]$$"
      ],
      "text/plain": [
       "⎡   1           1             1                 0                       0     \n",
       "⎢                                                                             \n",
       "⎢γₘᵤ⋅n_b  -γₘᵤ⋅(n_b + 1)     γ₂₃                0                     2⋅Ωₘᵤ   \n",
       "⎢                                                                             \n",
       "⎢   0           0         -γ₁₃ - γ₂₃            0                       0     \n",
       "⎢                                                                             \n",
       "⎢                                       γ_2d             γₘᵤ                  \n",
       "⎢   0           0             0       - ──── - γₘᵤ⋅n_b - ───           -δ₂    \n",
       "⎢                                        2                2                   \n",
       "⎢                                                                             \n",
       "⎢                                                               γ_2d          \n",
       "⎢  Ωₘᵤ         -Ωₘᵤ           0                 δ₂            - ──── - γₘᵤ⋅n_b\n",
       "⎢                                                                2            \n",
       "⎢                                                                             \n",
       "⎢                                                                             \n",
       "⎢ aᵢ⋅g          0           -aᵢ⋅g               0                      -Ωₒ    \n",
       "⎢                                                                             \n",
       "⎢                                                                             \n",
       "⎢                                                                             \n",
       "⎢ aᵣ⋅g          0           -aᵣ⋅g               Ωₒ                      0     \n",
       "⎢                                                                             \n",
       "⎢                                                                             \n",
       "⎢                                                                             \n",
       "⎢   0           0             0                aᵢ⋅g                    aᵣ⋅g   \n",
       "⎢                                                                             \n",
       "⎢                                                                             \n",
       "⎢                                                                             \n",
       "⎢   0           Ωₒ           -Ωₒ               aᵣ⋅g                   -aᵢ⋅g   \n",
       "⎣                                                                             \n",
       "\n",
       "                     0                             0                          \n",
       "                                                                              \n",
       "                     0                             0                          \n",
       "                                                                              \n",
       "                   2⋅aᵢ⋅g                        2⋅aᵣ⋅g                       \n",
       "                                                                              \n",
       "                                                                              \n",
       "                     0                            -Ωₒ                         \n",
       "                                                                              \n",
       "                                                                              \n",
       "   γₘᵤ                                                                        \n",
       " - ───               Ωₒ                            0                          \n",
       "    2                                                                         \n",
       "                                                                              \n",
       "          γ₁₃   γ₂₃   γ_3d   γₘᵤ⋅n_b                                          \n",
       "        - ─── - ─── - ──── - ───────              -δ₃                         \n",
       "           2     2     2        2                                             \n",
       "                                                                              \n",
       "                                        γ₁₃   γ₂₃   γ_3d   γₘᵤ⋅n_b            \n",
       "                     δ₃               - ─── - ─── - ──── - ───────            \n",
       "                                         2     2     2        2               \n",
       "                                                                              \n",
       "                                                                      γ₁₃   γ₂\n",
       "                     0                            Ωₘᵤ               - ─── - ──\n",
       "                                                                       2     2\n",
       "                                                                              \n",
       "                                                                              \n",
       "                    -Ωₘᵤ                           0                          \n",
       "                                                                              \n",
       "\n",
       "          0                                          0                    ⎤\n",
       "                                                                          ⎥\n",
       "          0                                        -2⋅Ωₒ                  ⎥\n",
       "                                                                          ⎥\n",
       "          0                                        2⋅Ωₒ                   ⎥\n",
       "                                                                          ⎥\n",
       "                                                                          ⎥\n",
       "        -aᵢ⋅g                                      -aᵣ⋅g                  ⎥\n",
       "                                                                          ⎥\n",
       "                                                                          ⎥\n",
       "                                                                          ⎥\n",
       "        -aᵣ⋅g                                      aᵢ⋅g                   ⎥\n",
       "                                                                          ⎥\n",
       "                                                                          ⎥\n",
       "                                                                          ⎥\n",
       "          0                                         Ωₘᵤ                   ⎥\n",
       "                                                                          ⎥\n",
       "                                                                          ⎥\n",
       "                                                                          ⎥\n",
       "        -Ωₘᵤ                                         0                    ⎥\n",
       "                                                                          ⎥\n",
       "                                                                          ⎥\n",
       "₃   γ_2d   γ_3d   γₘᵤ⋅(n_b + 1)                                           ⎥\n",
       "─ - ──── - ──── - ─────────────                   δ₂ - δ₃                 ⎥\n",
       "     2      2           2                                                 ⎥\n",
       "                                                                          ⎥\n",
       "                                   γ₁₃   γ₂₃   γ_2d   γ_3d   γₘᵤ⋅(n_b + 1)⎥\n",
       "      -δ₂ + δ₃                   - ─── - ─── - ──── - ──── - ─────────────⎥\n",
       "                                    2     2     2      2           2      ⎦"
      ]
     },
     "execution_count": 20,
     "metadata": {},
     "output_type": "execute_result"
    }
   ],
   "source": [
    "Lreal = sym.simplify(CtoR*L*CtoR.inv())\n",
    "Lreal = Lreal.subs(a,ar+I*ai)\n",
    "Lreal"
   ]
  },
  {
   "cell_type": "code",
   "execution_count": 21,
   "metadata": {
    "ExecuteTime": {
     "end_time": "2018-08-02T16:58:09.099741Z",
     "start_time": "2018-08-02T16:58:09.098198Z"
    }
   },
   "outputs": [
    {
     "data": {
      "text/latex": [
       "$$\\left[\\begin{matrix}0\\\\0\\\\0\\\\0\\\\0\\\\0\\\\0\\\\0\\\\0\\end{matrix}\\right]$$"
      ],
      "text/plain": [
       "⎡0⎤\n",
       "⎢ ⎥\n",
       "⎢0⎥\n",
       "⎢ ⎥\n",
       "⎢0⎥\n",
       "⎢ ⎥\n",
       "⎢0⎥\n",
       "⎢ ⎥\n",
       "⎢0⎥\n",
       "⎢ ⎥\n",
       "⎢0⎥\n",
       "⎢ ⎥\n",
       "⎢0⎥\n",
       "⎢ ⎥\n",
       "⎢0⎥\n",
       "⎢ ⎥\n",
       "⎣0⎦"
      ]
     },
     "execution_count": 21,
     "metadata": {},
     "output_type": "execute_result"
    }
   ],
   "source": [
    "# A sanity check \n",
    "sym.simplify(CtoR.inv()*Lreal*CtoR*Matrix(rhoflat)-(L*Matrix(rhoflat)).subs(a,ar+I*ai))"
   ]
  },
  {
   "cell_type": "code",
   "execution_count": null,
   "metadata": {},
   "outputs": [],
   "source": []
  },
  {
   "cell_type": "markdown",
   "metadata": {},
   "source": [
    "### C-code from our analytic expressions for the two different versions of the Liovillan\n",
    "- this is copied and pasted into some of the functions below"
   ]
  },
  {
   "cell_type": "code",
   "execution_count": 22,
   "metadata": {
    "ExecuteTime": {
     "end_time": "2018-08-02T16:58:09.152294Z",
     "start_time": "2018-08-02T16:58:09.100775Z"
    }
   },
   "outputs": [
    {
     "ename": "TypeError",
     "evalue": "unhashable type: 'list'",
     "output_type": "error",
     "traceback": [
      "\u001b[0;31m---------------------------------------------------------------------------\u001b[0m",
      "\u001b[0;31mTypeError\u001b[0m                                 Traceback (most recent call last)",
      "\u001b[0;32m<ipython-input-22-92899a488ee6>\u001b[0m in \u001b[0;36m<module>\u001b[0;34m()\u001b[0m\n\u001b[1;32m      2\u001b[0m \u001b[0mLflat\u001b[0m \u001b[0;34m=\u001b[0m \u001b[0;36m1\u001b[0m\u001b[0;34m*\u001b[0m\u001b[0mL\u001b[0m\u001b[0;34m.\u001b[0m\u001b[0mT\u001b[0m\u001b[0;34m\u001b[0m\u001b[0m\n\u001b[1;32m      3\u001b[0m \u001b[0mLflat\u001b[0m \u001b[0;34m=\u001b[0m \u001b[0mLflat\u001b[0m\u001b[0;34m[\u001b[0m\u001b[0;34m:\u001b[0m\u001b[0;34m]\u001b[0m\u001b[0;34m\u001b[0m\u001b[0m\n\u001b[0;32m----> 4\u001b[0;31m \u001b[0mprint_ccode\u001b[0m\u001b[0;34m(\u001b[0m\u001b[0mLflat\u001b[0m\u001b[0;34m)\u001b[0m\u001b[0;34m\u001b[0m\u001b[0m\n\u001b[0m\u001b[1;32m      5\u001b[0m \u001b[0;34m\u001b[0m\u001b[0m\n\u001b[1;32m      6\u001b[0m \u001b[0mprint\u001b[0m\u001b[0;34m(\u001b[0m\u001b[0;34m\"-----------\"\u001b[0m\u001b[0;34m)\u001b[0m\u001b[0;34m\u001b[0m\u001b[0m\n",
      "\u001b[0;32m~/anaconda3/lib/python3.6/site-packages/sympy/printing/ccode.py\u001b[0m in \u001b[0;36mprint_ccode\u001b[0;34m(expr, **settings)\u001b[0m\n\u001b[1;32m    562\u001b[0m \u001b[0;32mdef\u001b[0m \u001b[0mprint_ccode\u001b[0m\u001b[0;34m(\u001b[0m\u001b[0mexpr\u001b[0m\u001b[0;34m,\u001b[0m \u001b[0;34m**\u001b[0m\u001b[0msettings\u001b[0m\u001b[0;34m)\u001b[0m\u001b[0;34m:\u001b[0m\u001b[0;34m\u001b[0m\u001b[0m\n\u001b[1;32m    563\u001b[0m     \u001b[0;34m\"\"\"Prints C representation of the given expression.\"\"\"\u001b[0m\u001b[0;34m\u001b[0m\u001b[0m\n\u001b[0;32m--> 564\u001b[0;31m     \u001b[0mprint\u001b[0m\u001b[0;34m(\u001b[0m\u001b[0mccode\u001b[0m\u001b[0;34m(\u001b[0m\u001b[0mexpr\u001b[0m\u001b[0;34m,\u001b[0m \u001b[0;34m**\u001b[0m\u001b[0msettings\u001b[0m\u001b[0;34m)\u001b[0m\u001b[0;34m)\u001b[0m\u001b[0;34m\u001b[0m\u001b[0m\n\u001b[0m",
      "\u001b[0;32m~/anaconda3/lib/python3.6/site-packages/sympy/printing/ccode.py\u001b[0m in \u001b[0;36mccode\u001b[0;34m(expr, assign_to, standard, **settings)\u001b[0m\n\u001b[1;32m    557\u001b[0m     \u001b[0mA\u001b[0m\u001b[0;34m[\u001b[0m\u001b[0;36m2\u001b[0m\u001b[0;34m]\u001b[0m \u001b[0;34m=\u001b[0m \u001b[0msin\u001b[0m\u001b[0;34m(\u001b[0m\u001b[0mx\u001b[0m\u001b[0;34m)\u001b[0m\u001b[0;34m;\u001b[0m\u001b[0;34m\u001b[0m\u001b[0m\n\u001b[1;32m    558\u001b[0m     \"\"\"\n\u001b[0;32m--> 559\u001b[0;31m     \u001b[0;32mreturn\u001b[0m \u001b[0mc_code_printers\u001b[0m\u001b[0;34m[\u001b[0m\u001b[0mstandard\u001b[0m\u001b[0;34m.\u001b[0m\u001b[0mlower\u001b[0m\u001b[0;34m(\u001b[0m\u001b[0;34m)\u001b[0m\u001b[0;34m]\u001b[0m\u001b[0;34m(\u001b[0m\u001b[0msettings\u001b[0m\u001b[0;34m)\u001b[0m\u001b[0;34m.\u001b[0m\u001b[0mdoprint\u001b[0m\u001b[0;34m(\u001b[0m\u001b[0mexpr\u001b[0m\u001b[0;34m,\u001b[0m \u001b[0massign_to\u001b[0m\u001b[0;34m)\u001b[0m\u001b[0;34m\u001b[0m\u001b[0m\n\u001b[0m\u001b[1;32m    560\u001b[0m \u001b[0;34m\u001b[0m\u001b[0m\n\u001b[1;32m    561\u001b[0m \u001b[0;34m\u001b[0m\u001b[0m\n",
      "\u001b[0;32m~/anaconda3/lib/python3.6/site-packages/sympy/printing/codeprinter.py\u001b[0m in \u001b[0;36mdoprint\u001b[0;34m(self, expr, assign_to)\u001b[0m\n\u001b[1;32m     79\u001b[0m         \u001b[0mself\u001b[0m\u001b[0;34m.\u001b[0m\u001b[0m_number_symbols\u001b[0m \u001b[0;34m=\u001b[0m \u001b[0mset\u001b[0m\u001b[0;34m(\u001b[0m\u001b[0;34m)\u001b[0m\u001b[0;34m\u001b[0m\u001b[0m\n\u001b[1;32m     80\u001b[0m \u001b[0;34m\u001b[0m\u001b[0m\n\u001b[0;32m---> 81\u001b[0;31m         \u001b[0mlines\u001b[0m \u001b[0;34m=\u001b[0m \u001b[0mself\u001b[0m\u001b[0;34m.\u001b[0m\u001b[0m_print\u001b[0m\u001b[0;34m(\u001b[0m\u001b[0mexpr\u001b[0m\u001b[0;34m)\u001b[0m\u001b[0;34m.\u001b[0m\u001b[0msplitlines\u001b[0m\u001b[0;34m(\u001b[0m\u001b[0;34m)\u001b[0m\u001b[0;34m\u001b[0m\u001b[0m\n\u001b[0m\u001b[1;32m     82\u001b[0m \u001b[0;34m\u001b[0m\u001b[0m\n\u001b[1;32m     83\u001b[0m         \u001b[0;31m# format the output\u001b[0m\u001b[0;34m\u001b[0m\u001b[0;34m\u001b[0m\u001b[0m\n",
      "\u001b[0;32m~/anaconda3/lib/python3.6/site-packages/sympy/printing/printer.py\u001b[0m in \u001b[0;36m_print\u001b[0;34m(self, expr, *args, **kwargs)\u001b[0m\n\u001b[1;32m    255\u001b[0m                 \u001b[0mprintmethod\u001b[0m \u001b[0;34m=\u001b[0m \u001b[0;34m'_print_'\u001b[0m \u001b[0;34m+\u001b[0m \u001b[0mcls\u001b[0m\u001b[0;34m.\u001b[0m\u001b[0m__name__\u001b[0m\u001b[0;34m\u001b[0m\u001b[0m\n\u001b[1;32m    256\u001b[0m                 \u001b[0;32mif\u001b[0m \u001b[0mhasattr\u001b[0m\u001b[0;34m(\u001b[0m\u001b[0mself\u001b[0m\u001b[0;34m,\u001b[0m \u001b[0mprintmethod\u001b[0m\u001b[0;34m)\u001b[0m\u001b[0;34m:\u001b[0m\u001b[0;34m\u001b[0m\u001b[0m\n\u001b[0;32m--> 257\u001b[0;31m                     \u001b[0;32mreturn\u001b[0m \u001b[0mgetattr\u001b[0m\u001b[0;34m(\u001b[0m\u001b[0mself\u001b[0m\u001b[0;34m,\u001b[0m \u001b[0mprintmethod\u001b[0m\u001b[0;34m)\u001b[0m\u001b[0;34m(\u001b[0m\u001b[0mexpr\u001b[0m\u001b[0;34m,\u001b[0m \u001b[0;34m*\u001b[0m\u001b[0margs\u001b[0m\u001b[0;34m,\u001b[0m \u001b[0;34m**\u001b[0m\u001b[0mkwargs\u001b[0m\u001b[0;34m)\u001b[0m\u001b[0;34m\u001b[0m\u001b[0m\n\u001b[0m\u001b[1;32m    258\u001b[0m             \u001b[0;31m# Unknown object, fall back to the emptyPrinter.\u001b[0m\u001b[0;34m\u001b[0m\u001b[0;34m\u001b[0m\u001b[0m\n\u001b[1;32m    259\u001b[0m             \u001b[0;32mreturn\u001b[0m \u001b[0mself\u001b[0m\u001b[0;34m.\u001b[0m\u001b[0memptyPrinter\u001b[0m\u001b[0;34m(\u001b[0m\u001b[0mexpr\u001b[0m\u001b[0;34m)\u001b[0m\u001b[0;34m\u001b[0m\u001b[0m\n",
      "\u001b[0;32m~/anaconda3/lib/python3.6/site-packages/sympy/printing/codeprinter.py\u001b[0m in \u001b[0;36m_print_not_supported\u001b[0;34m(self, expr)\u001b[0m\n\u001b[1;32m    424\u001b[0m \u001b[0;34m\u001b[0m\u001b[0m\n\u001b[1;32m    425\u001b[0m     \u001b[0;32mdef\u001b[0m \u001b[0m_print_not_supported\u001b[0m\u001b[0;34m(\u001b[0m\u001b[0mself\u001b[0m\u001b[0;34m,\u001b[0m \u001b[0mexpr\u001b[0m\u001b[0;34m)\u001b[0m\u001b[0;34m:\u001b[0m\u001b[0;34m\u001b[0m\u001b[0m\n\u001b[0;32m--> 426\u001b[0;31m         \u001b[0mself\u001b[0m\u001b[0;34m.\u001b[0m\u001b[0m_not_supported\u001b[0m\u001b[0;34m.\u001b[0m\u001b[0madd\u001b[0m\u001b[0;34m(\u001b[0m\u001b[0mexpr\u001b[0m\u001b[0;34m)\u001b[0m\u001b[0;34m\u001b[0m\u001b[0m\n\u001b[0m\u001b[1;32m    427\u001b[0m         \u001b[0;32mreturn\u001b[0m \u001b[0mself\u001b[0m\u001b[0;34m.\u001b[0m\u001b[0memptyPrinter\u001b[0m\u001b[0;34m(\u001b[0m\u001b[0mexpr\u001b[0m\u001b[0;34m)\u001b[0m\u001b[0;34m\u001b[0m\u001b[0m\n\u001b[1;32m    428\u001b[0m \u001b[0;34m\u001b[0m\u001b[0m\n",
      "\u001b[0;31mTypeError\u001b[0m: unhashable type: 'list'"
     ]
    }
   ],
   "source": [
    "from sympy.printing import print_ccode\n",
    "Lflat = 1*L.T\n",
    "Lflat = Lflat[:]\n",
    "print_ccode(Lflat)\n",
    "\n",
    "print(\"-----------\")\n",
    "#because this is destined for cython it's in row-major order\n",
    "Lflatreal = 1*Lreal.T\n",
    "Lflatreal = Lflatreal[:]\n",
    "print_ccode(Lflatreal)\n",
    "print(\"----------\")\n",
    "for k in range(81):\n",
    "    print(\"L[%d] = \"%(k,),end=\"\")\n",
    "    print_ccode(Lflatreal[k])"
   ]
  },
  {
   "cell_type": "code",
   "execution_count": 23,
   "metadata": {},
   "outputs": [
    {
     "data": {
      "image/png": "[encoded data removed]",
      "text/latex": [
       "$$\\left [ 1, \\quad - i \\Omega_{\\mu}, \\quad - i a g, \\quad i \\Omega_{\\mu}, \\quad \\gamma_{\\mu} n_{b}, \\quad 0, \\quad i g \\overline{a}, \\quad 0, \\quad 0, \\quad 0, \\quad - i \\delta_{2} - \\frac{\\gamma_{2d}}{2} - \\frac{\\gamma_{\\mu} n_{b}}{2} - \\frac{\\gamma_{\\mu}}{2} \\left(n_{b} + 1\\right), \\quad - i \\Omega_{o}, \\quad 0, \\quad i \\Omega_{\\mu}, \\quad 0, \\quad 0, \\quad i g \\overline{a}, \\quad 0, \\quad 0, \\quad - i \\Omega_{o}, \\quad - i \\delta_{3} - \\frac{\\gamma_{13}}{2} - \\frac{\\gamma_{23}}{2} - \\frac{\\gamma_{3d}}{2} - \\frac{\\gamma_{\\mu} n_{b}}{2}, \\quad 0, \\quad 0, \\quad i \\Omega_{\\mu}, \\quad 0, \\quad 0, \\quad i g \\overline{a}, \\quad 0, \\quad 0, \\quad 0, \\quad i \\delta_{2} - \\frac{\\gamma_{2d}}{2} - \\frac{\\gamma_{\\mu} n_{b}}{2} - \\frac{\\gamma_{\\mu}}{2} \\left(n_{b} + 1\\right), \\quad - i \\Omega_{\\mu}, \\quad - i a g, \\quad i \\Omega_{o}, \\quad 0, \\quad 0, \\quad 1, \\quad i \\Omega_{\\mu}, \\quad 0, \\quad - i \\Omega_{\\mu}, \\quad - \\gamma_{\\mu} \\left(n_{b} + 1\\right), \\quad - i \\Omega_{o}, \\quad 0, \\quad i \\Omega_{o}, \\quad 0, \\quad 0, \\quad 0, \\quad i \\Omega_{\\mu}, \\quad - i g \\overline{a}, \\quad - i \\Omega_{o}, \\quad i \\delta_{2} - i \\delta_{3} - \\frac{\\gamma_{13}}{2} - \\frac{\\gamma_{23}}{2} - \\frac{\\gamma_{2d}}{2} - \\frac{\\gamma_{3d}}{2} - \\frac{\\gamma_{\\mu}}{2} \\left(n_{b} + 1\\right), \\quad 0, \\quad 0, \\quad i \\Omega_{o}, \\quad 0, \\quad 0, \\quad 0, \\quad i \\Omega_{o}, \\quad 0, \\quad 0, \\quad i \\delta_{3} - \\frac{\\gamma_{13}}{2} - \\frac{\\gamma_{23}}{2} - \\frac{\\gamma_{3d}}{2} - \\frac{\\gamma_{\\mu} n_{b}}{2}, \\quad - i \\Omega_{\\mu}, \\quad - i a g, \\quad 0, \\quad i a g, \\quad 0, \\quad 0, \\quad i \\Omega_{o}, \\quad 0, \\quad - i \\Omega_{\\mu}, \\quad - i \\delta_{2} + i \\delta_{3} - \\frac{\\gamma_{13}}{2} - \\frac{\\gamma_{23}}{2} - \\frac{\\gamma_{2d}}{2} - \\frac{\\gamma_{3d}}{2} - \\frac{\\gamma_{\\mu}}{2} \\left(n_{b} + 1\\right), \\quad - i \\Omega_{o}, \\quad 1, \\quad 0, \\quad i a g, \\quad 0, \\quad \\gamma_{23}, \\quad i \\Omega_{o}, \\quad - i g \\overline{a}, \\quad - i \\Omega_{o}, \\quad - \\gamma_{13} - \\gamma_{23}\\right ]$$"
      ],
      "text/plain": [
       "⎡                                          _                   γ_2d   γₘᵤ⋅n_b \n",
       "⎢1, -ⅈ⋅Ωₘᵤ, -ⅈ⋅a⋅g, ⅈ⋅Ωₘᵤ, γₘᵤ⋅n_b, 0, ⅈ⋅g⋅a, 0, 0, 0, -ⅈ⋅δ₂ - ──── - ─────── \n",
       "⎣                                                               2        2    \n",
       "\n",
       "  γₘᵤ⋅(n_b + 1)                             _                       γ₁₃   γ₂₃ \n",
       "- ─────────────, -ⅈ⋅Ωₒ, 0, ⅈ⋅Ωₘᵤ, 0, 0, ⅈ⋅g⋅a, 0, 0, -ⅈ⋅Ωₒ, -ⅈ⋅δ₃ - ─── - ─── \n",
       "        2                                                            2     2  \n",
       "\n",
       "  γ_3d   γₘᵤ⋅n_b                         _                  γ_2d   γₘᵤ⋅n_b   γ\n",
       "- ──── - ───────, 0, 0, ⅈ⋅Ωₘᵤ, 0, 0, ⅈ⋅g⋅a, 0, 0, 0, ⅈ⋅δ₂ - ──── - ─────── - ─\n",
       "   2        2                                                2        2       \n",
       "\n",
       "ₘᵤ⋅(n_b + 1)                                                                  \n",
       "────────────, -ⅈ⋅Ωₘᵤ, -ⅈ⋅a⋅g, ⅈ⋅Ωₒ, 0, 0, 1, ⅈ⋅Ωₘᵤ, 0, -ⅈ⋅Ωₘᵤ, -γₘᵤ⋅(n_b + 1),\n",
       "     2                                                                        \n",
       "\n",
       "                                      _                       γ₁₃   γ₂₃   γ_2d\n",
       " -ⅈ⋅Ωₒ, 0, ⅈ⋅Ωₒ, 0, 0, 0, ⅈ⋅Ωₘᵤ, -ⅈ⋅g⋅a, -ⅈ⋅Ωₒ, ⅈ⋅δ₂ - ⅈ⋅δ₃ - ─── - ─── - ────\n",
       "                                                               2     2     2  \n",
       "\n",
       "   γ_3d   γₘᵤ⋅(n_b + 1)                                          γ₁₃   γ₂₃   γ\n",
       " - ──── - ─────────────, 0, 0, ⅈ⋅Ωₒ, 0, 0, 0, ⅈ⋅Ωₒ, 0, 0, ⅈ⋅δ₃ - ─── - ─── - ─\n",
       "    2           2                                                 2     2     \n",
       "\n",
       "_3d   γₘᵤ⋅n_b                                                                 \n",
       "─── - ───────, -ⅈ⋅Ωₘᵤ, -ⅈ⋅a⋅g, 0, ⅈ⋅a⋅g, 0, 0, ⅈ⋅Ωₒ, 0, -ⅈ⋅Ωₘᵤ, -ⅈ⋅δ₂ + ⅈ⋅δ₃ -\n",
       "2        2                                                                    \n",
       "\n",
       " γ₁₃   γ₂₃   γ_2d   γ_3d   γₘᵤ⋅(n_b + 1)                                      \n",
       " ─── - ─── - ──── - ──── - ─────────────, -ⅈ⋅Ωₒ, 1, 0, ⅈ⋅a⋅g, 0, γ₂₃, ⅈ⋅Ωₒ, -ⅈ\n",
       "  2     2     2      2           2                                            \n",
       "\n",
       "   _                   ⎤\n",
       "⋅g⋅a, -ⅈ⋅Ωₒ, -γ₁₃ - γ₂₃⎥\n",
       "                       ⎦"
      ]
     },
     "execution_count": 23,
     "metadata": {},
     "output_type": "execute_result"
    }
   ],
   "source": [
    "Lflat"
   ]
  },
  {
   "cell_type": "markdown",
   "metadata": {},
   "source": [
    "## Numerical code for steady state"
   ]
  },
  {
   "cell_type": "markdown",
   "metadata": {
    "heading_collapsed": true
   },
   "source": [
    "### Python code\n",
    "- Using analytic expressions above\n",
    "- The code below is much slower than the cython version below, but useful for confirming correctness of cython version."
   ]
  },
  {
   "cell_type": "code",
   "execution_count": 24,
   "metadata": {
    "ExecuteTime": {
     "end_time": "2018-08-02T16:58:09.181261Z",
     "start_time": "2018-08-02T16:58:09.153379Z"
    },
    "hidden": true
   },
   "outputs": [],
   "source": [
    "Lfunc = sym.lambdify((a,delta2, delta3, gamma13, gamma23, gamma2d, gamma3d, nbath,gammamu,omegao,omegam,g),L)\n",
    "\n",
    "Lrealfunc = sym.lambdify((ar,ai,delta2, delta3, gamma13, gamma23, gamma2d, gamma3d, nbath,gammamu,omegao,omegam,g),Lreal)\n",
    "\n",
    "# finds the steady state density matrix\n",
    "# p is a python dictionary full of parameters\n",
    "\n",
    "def steady_rho(p):\n",
    "    \n",
    "    Lmatrix = Lfunc(p['a'],p['delta2'],p['delta3'],p['gamma13'],\n",
    "                               p['gamma23'],p['gamma2d'],p['gamma3d'],p['nbath'],\n",
    "                               p['gammamu'],p['omegao'],p['omegam'],p['g'])\n",
    "    \n",
    "    #return Lmatrix\n",
    "    rho = np.linalg.solve(Lmatrix.astype('complex128'),np.matrix([[1,0,0,0,0,0,0,0,0]]).T)\n",
    "    return np.reshape(rho,(3,3),order='F')\n",
    "\n",
    "# this code is commented out because it has been replaced by cython version\n",
    "# will leave it for future sanity checks if \n",
    "\n",
    "# Just the rho13 element of the density matrix:\n",
    "\n",
    "# def steady_rho13_older(p):\n",
    "#     Lmatrix = Lfunc(p['a'],p['delta2'],p['delta3'],p['gamma13'],\n",
    "#                                p['gamma23'],p['gamma2d'],p['gamma3d'],p['nbath'],\n",
    "#                                p['gammamu'],p['omegao'],p['omegam'],p['g'])\n",
    "#     #return Lmatrix\n",
    "#     rho = np.linalg.solve(Lmatrix.astype('complex128'),np.matrix([[1,0,0,0,0,0,0,0,0]]).T)\n",
    "#     return rho[6]\n",
    "\n",
    "# # another version \n",
    "# def steady_rho13_old(p):\n",
    "#     Lmatrix =  Lrealfunc(np.real(p['a']),np.real(p['a']),p['delta2'],p['delta3'],p['gamma13'],\n",
    "#                                p['gamma23'],p['gamma2d'],p['gamma3d'],p['nbath'],\n",
    "#                                p['gammamu'],p['omegao'],p['omegam'],p['g'])\n",
    "#     rho = np.linalg.solve(Lmatrix.astype('double'),np.matrix([[1,0,0,0,0,0,0,0,0]]).T)    \n",
    "#     return rho[5]+1j*rho[6]"
   ]
  },
  {
   "cell_type": "markdown",
   "metadata": {},
   "source": [
    "### Cython versions\n",
    " Implemented in cython to make it (much) faster."
   ]
  },
  {
   "cell_type": "code",
   "execution_count": 26,
   "metadata": {
    "ExecuteTime": {
     "end_time": "2018-08-02T16:58:13.157331Z",
     "start_time": "2018-08-02T16:58:09.182558Z"
    }
   },
   "outputs": [
    {
     "name": "stdout",
     "output_type": "stream",
     "text": [
      "[1/1] Cythonizing /home/peter/.cache/ipython/cython/_cython_magic_8ae246e4dfd54d27120f1d3f87682032.pyx\n",
      "building '_cython_magic_8ae246e4dfd54d27120f1d3f87682032' extension\n",
      "gcc -pthread -B /home/peter/anaconda3/compiler_compat -Wl,--sysroot=/ -Wsign-compare -DNDEBUG -g -fwrapv -O3 -Wall -fPIC -I/home/peter/anaconda3/lib/python3.6/site-packages/numpy/core/include -I/home/peter/anaconda3/lib/python3.6/site-packages/numpy/core/include -I/home/peter/anaconda3/include/python3.6m -c /home/peter/.cache/ipython/cython/_cython_magic_8ae246e4dfd54d27120f1d3f87682032.c -o /home/peter/.cache/ipython/cython/home/peter/.cache/ipython/cython/_cython_magic_8ae246e4dfd54d27120f1d3f87682032.o -fopenmp\n",
      "gcc -pthread -shared -B /home/peter/anaconda3/compiler_compat -L/home/peter/anaconda3/lib -Wl,-rpath=/home/peter/anaconda3/lib -Wl,--no-as-needed -Wl,--sysroot=/ /home/peter/.cache/ipython/cython/home/peter/.cache/ipython/cython/_cython_magic_8ae246e4dfd54d27120f1d3f87682032.o -o /home/peter/.cache/ipython/cython/_cython_magic_8ae246e4dfd54d27120f1d3f87682032.cpython-36m-x86_64-linux-gnu.so -fopenmp\n"
     ]
    }
   ],
   "source": [
    "%%cython --compile-args=-fopenmp --link-args=-fopenmp --verbose --force\n",
    "#### %%cython -a # this gives \"highligted\" output\n",
    "\n",
    "#cython: boundscheck=False, wraparound=False, nonecheck=False\n",
    "cimport cython\n",
    "import numpy as np\n",
    "from cython.parallel cimport prange\n",
    "cimport scipy.linalg.cython_lapack as lapack\n",
    "import numpy as np\n",
    "from libc.math cimport exp\n",
    "\n",
    "\n",
    "cdef int nextpow2(int x):\n",
    "    cdef int n=1\n",
    "    while(True):\n",
    "        if n>=x:\n",
    "            return n\n",
    "        n=2*n\n",
    "\n",
    "def steady_rho13(p):\n",
    "    cdef double a_r,a_i,delta_2,delta_3,gamma_13,gamma_23,gamma_2d,gamma_3d,n_b,gamma_mu,Omega_o,Omega_mu,g\n",
    "    cdef double L[81]\n",
    "    cdef double V[9]\n",
    "    cdef int n = 9\n",
    "    cdef double complex a\n",
    "    cdef int info\n",
    "    cdef int lda = 9\n",
    "    cdef int ldb = 9 \n",
    "    cdef int nrhs = 1\n",
    "    cdef int workspace[9]\n",
    "    \n",
    "    V[:]= [1,0,0, 0,0,0, 0,0,0]\n",
    "    a = p['a']\n",
    "    a_r = a.real\n",
    "    a_i = a.imag\n",
    "    delta_2 = p['delta2']\n",
    "    delta_3 = p['delta3']\n",
    "    gamma_13 = p['gamma13']\n",
    "    gamma_23 = p['gamma23'] \n",
    "    gamma_2d = p['gamma2d']\n",
    "    gamma_3d = p['gamma3d']\n",
    "    n_b = p['nbath']\n",
    "    gamma_mu = p['gammamu']\n",
    "    Omega_o = p['omegao'] \n",
    "    Omega_mu = p['omegam']\n",
    "    g = p['g']\n",
    " #   with nogil: # to make sure it's not doing any slow python calls\n",
    "    L[:] = (1, gamma_mu*n_b, 0, 0, Omega_mu, a_i*g, a_r*g, 0, 0, 1, -gamma_mu*(n_b + 1), 0, 0, -Omega_mu, 0, 0, 0, Omega_o, 1, gamma_23, -gamma_13 - gamma_23, 0, 0, -a_i*g, -a_r*g, 0, -Omega_o, 0, 0, 0, -1.0/2.0*gamma_2d - gamma_mu*n_b - 1.0/2.0*gamma_mu, delta_2, 0, Omega_o, a_i*g, a_r*g, 0, 2*Omega_mu, 0, -delta_2, -1.0/2.0*gamma_2d - gamma_mu*n_b - 1.0/2.0*gamma_mu, -Omega_o, 0, a_r*g, -a_i*g, 0, 0, 2*a_i*g, 0, Omega_o, -1.0/2.0*gamma_13 - 1.0/2.0*gamma_23 - 1.0/2.0*gamma_3d - 1.0/2.0*gamma_mu*n_b, delta_3, 0, -Omega_mu, 0, 0, 2*a_r*g, -Omega_o, 0, -delta_3, -1.0/2.0*gamma_13 - 1.0/2.0*gamma_23 - 1.0/2.0*gamma_3d - 1.0/2.0*gamma_mu*n_b, Omega_mu, 0, 0, 0, 0, -a_i*g, -a_r*g, 0, -Omega_mu, -1.0/2.0*gamma_13 - 1.0/2.0*gamma_23 - 1.0/2.0*gamma_2d - 1.0/2.0*gamma_3d - 1.0/2.0*gamma_mu*(n_b + 1), -delta_2 + delta_3, 0, -2*Omega_o, 2*Omega_o, -a_r*g, a_i*g, Omega_mu, 0, delta_2 - delta_3, -1.0/2.0*gamma_13 - 1.0/2.0*gamma_23 - 1.0/2.0*gamma_2d - 1.0/2.0*gamma_3d - 1.0/2.0*gamma_mu*(n_b + 1))\n",
    "    \n",
    "    lapack.dgesv(&n,&nrhs,L,&lda,workspace,V,&ldb,&info)\n",
    "    return V[5]+1j*V[6]\n",
    "\n",
    "\n",
    "cdef double complex steady_rho13_lots_of_args(double a_r,\n",
    "                               double a_i,\n",
    "                               double delta_2,\n",
    "                               double delta_3,\n",
    "                               double gamma_13,\n",
    "                               double gamma_23,\n",
    "                               double gamma_2d,\n",
    "                               double gamma_3d,\n",
    "                               double n_b,\n",
    "                               double gamma_mu,\n",
    "                               double Omega_o,\n",
    "                               double Omega_mu,\n",
    "                               double g) nogil:\n",
    "    cdef double L[81]\n",
    "    cdef double V[9]\n",
    "    cdef int n = 9\n",
    "    cdef double complex a\n",
    "    cdef int info\n",
    "    cdef int lda = 9\n",
    "    cdef int ldb = 9 \n",
    "    cdef int nrhs = 1\n",
    "    cdef int workspace[9]\n",
    "    cdef int k\n",
    "  \n",
    "    # Unfortunately cant use this syntax if we dont have dont have GIL\n",
    "    #V[:] = [1,0,0, 0,0,0, 0,0,0]\n",
    "    #L[:] = (1, gamma_mu*n_b, 0, 0, Omega_mu, a_i*g, a_r*g, 0, 0, 1, -gamma_mu*(n_b + 1), 0, 0, -Omega_mu, 0, 0, 0, Omega_o, 1, gamma_23, -gamma_13 - gamma_23, 0, 0, -a_i*g, -a_r*g, 0, -Omega_o, 0, 0, 0, -1.0/2.0*gamma_2d - gamma_mu*n_b - 1.0/2.0*gamma_mu, delta_2, 0, Omega_o, a_i*g, a_r*g, 0, 2*Omega_mu, 0, -delta_2, -1.0/2.0*gamma_2d - gamma_mu*n_b - 1.0/2.0*gamma_mu, -Omega_o, 0, a_r*g, -a_i*g, 0, 0, 2*a_i*g, 0, Omega_o, -1.0/2.0*gamma_13 - 1.0/2.0*gamma_23 - 1.0/2.0*gamma_3d - 1.0/2.0*gamma_mu*n_b, delta_3, 0, -Omega_mu, 0, 0, 2*a_r*g, -Omega_o, 0, -delta_3, -1.0/2.0*gamma_13 - 1.0/2.0*gamma_23 - 1.0/2.0*gamma_3d - 1.0/2.0*gamma_mu*n_b, Omega_mu, 0, 0, 0, 0, -a_i*g, -a_r*g, 0, -Omega_mu, -1.0/2.0*gamma_13 - 1.0/2.0*gamma_23 - 1.0/2.0*gamma_2d - 1.0/2.0*gamma_3d - 1.0/2.0*gamma_mu*(n_b + 1), -delta_2 + delta_3, 0, -2*Omega_o, 2*Omega_o, -a_r*g, a_i*g, Omega_mu, 0, delta_2 - delta_3, -1.0/2.0*gamma_13 - 1.0/2.0*gamma_23 - 1.0/2.0*gamma_2d - 1.0/2.0*gamma_3d - 1.0/2.0*gamma_mu*(n_b + 1))\n",
    "    \n",
    "    for k in range(9):\n",
    "        V[k] = 0\n",
    "    V[0] = 1\n",
    "    \n",
    "    L[0] = 1\n",
    "    L[1] = gamma_mu*n_b\n",
    "    L[2] = 0\n",
    "    L[3] = 0\n",
    "    L[4] = Omega_mu\n",
    "    L[5] = a_i*g\n",
    "    L[6] = a_r*g\n",
    "    L[7] = 0\n",
    "    L[8] = 0\n",
    "    L[9] = 1\n",
    "    L[10] = -gamma_mu*(n_b + 1)\n",
    "    L[11] = 0\n",
    "    L[12] = 0\n",
    "    L[13] = -Omega_mu\n",
    "    L[14] = 0\n",
    "    L[15] = 0\n",
    "    L[16] = 0\n",
    "    L[17] = Omega_o\n",
    "    L[18] = 1\n",
    "    L[19] = gamma_23\n",
    "    L[20] = -gamma_13 - gamma_23\n",
    "    L[21] = 0\n",
    "    L[22] = 0\n",
    "    L[23] = -a_i*g\n",
    "    L[24] = -a_r*g\n",
    "    L[25] = 0\n",
    "    L[26] = -Omega_o\n",
    "    L[27] = 0\n",
    "    L[28] = 0\n",
    "    L[29] = 0\n",
    "    L[30] = -1.0/2.0*gamma_2d - gamma_mu*n_b - 1.0/2.0*gamma_mu\n",
    "    L[31] = delta_2\n",
    "    L[32] = 0\n",
    "    L[33] = Omega_o\n",
    "    L[34] = a_i*g\n",
    "    L[35] = a_r*g\n",
    "    L[36] = 0\n",
    "    L[37] = 2*Omega_mu\n",
    "    L[38] = 0\n",
    "    L[39] = -delta_2\n",
    "    L[40] = -1.0/2.0*gamma_2d - gamma_mu*n_b - 1.0/2.0*gamma_mu\n",
    "    L[41] = -Omega_o\n",
    "    L[42] = 0\n",
    "    L[43] = a_r*g\n",
    "    L[44] = -a_i*g\n",
    "    L[45] = 0\n",
    "    L[46] = 0\n",
    "    L[47] = 2*a_i*g\n",
    "    L[48] = 0\n",
    "    L[49] = Omega_o\n",
    "    L[50] = -1.0/2.0*gamma_13 - 1.0/2.0*gamma_23 - 1.0/2.0*gamma_3d - 1.0/2.0*gamma_mu*n_b\n",
    "    L[51] = delta_3\n",
    "    L[52] = 0\n",
    "    L[53] = -Omega_mu\n",
    "    L[54] = 0\n",
    "    L[55] = 0\n",
    "    L[56] = 2*a_r*g\n",
    "    L[57] = -Omega_o\n",
    "    L[58] = 0\n",
    "    L[59] = -delta_3\n",
    "    L[60] = -1.0/2.0*gamma_13 - 1.0/2.0*gamma_23 - 1.0/2.0*gamma_3d - 1.0/2.0*gamma_mu*n_b\n",
    "    L[61] = Omega_mu\n",
    "    L[62] = 0\n",
    "    L[63] = 0\n",
    "    L[64] = 0\n",
    "    L[65] = 0\n",
    "    L[66] = -a_i*g\n",
    "    L[67] = -a_r*g\n",
    "    L[68] = 0\n",
    "    L[69] = -Omega_mu\n",
    "    L[70] = -1.0/2.0*gamma_13 - 1.0/2.0*gamma_23 - 1.0/2.0*gamma_2d - 1.0/2.0*gamma_3d - 1.0/2.0*gamma_mu*(n_b + 1)\n",
    "    L[71] = -delta_2 + delta_3\n",
    "    L[72] = 0\n",
    "    L[73] = -2*Omega_o\n",
    "    L[74] = 2*Omega_o\n",
    "    L[75] = -a_r*g\n",
    "    L[76] = a_i*g\n",
    "    L[77] = Omega_mu\n",
    "    L[78] = 0\n",
    "    L[79] = delta_2 - delta_3\n",
    "    L[80] = -1.0/2.0*gamma_13 - 1.0/2.0*gamma_23 - 1.0/2.0*gamma_2d - 1.0/2.0*gamma_3d - 1.0/2.0*gamma_mu*(n_b + 1)\n",
    "    lapack.dgesv(&n,&nrhs,L,&lda,workspace,V,&ldb,&info)\n",
    "    return V[5]+1j*V[6]\n",
    "\n",
    "\n",
    "\n",
    "\n",
    "\n",
    "# Steady state an ensemble of atoms, returns a matrix of rho13 values as well as the list of \n",
    "# weights from the inhomogeneous broadening distribution.\n",
    "# Convolve the two to get simulate single pass raman heterodyne signal as a function of frequency\n",
    "\n",
    "def ensemble_steady_rho13(p,delta2vals,delta3vals):\n",
    "    cdef double a_r,a_i,delta_2,delta_3,gamma_13,gamma_23,gamma_2d,gamma_3d,n_b,gamma_mu,Omega_o,Omega_mu,g\n",
    "    a = p['a']\n",
    "    a_r = a.real\n",
    "    a_i = a.imag\n",
    "    delta_2 = p['delta2']\n",
    "    delta_3 = p['delta3']\n",
    "    gamma_13 = p['gamma13']\n",
    "    gamma_23 = p['gamma23'] \n",
    "    gamma_2d = p['gamma2d']\n",
    "    gamma_3d = p['gamma3d']\n",
    "    n_b = p['nbath']\n",
    "    gamma_mu = p['gammamu']\n",
    "    Omega_o = p['omegao'] \n",
    "    Omega_mu = p['omegam']\n",
    "    g = p['g']\n",
    "    \n",
    "    cdef int ii\n",
    "    cdef int jj\n",
    "    \n",
    "    cdef double m2 = p['mean_delta2']\n",
    "    cdef double sd2 = p['sd_delta2']\n",
    "    cdef double m3 = p['mean_delta3']\n",
    "    cdef double sd3 = p['sd_delta3']\n",
    "    #print(sd3)\n",
    "    \n",
    "    cdef double [:] delta2valsv = delta2vals\n",
    "    cdef double [:] delta3valsv = delta3vals\n",
    "    \n",
    "    cdef int ndelta2 = len(delta2vals)\n",
    "    cdef int ndelta3 = len(delta3vals)\n",
    "    \n",
    "    cdef double df2 = delta2valsv[1]-delta2valsv[0]\n",
    "    cdef double df3 = delta3valsv[1]-delta3valsv[0]\n",
    "    \n",
    "    coh13 = np.zeros((ndelta2,ndelta3),dtype='complex128') #make numpy array\n",
    "    cdef double complex [:,:] coh13v = coh13 #make cython  \"view\" of the data\n",
    "    \n",
    "    w = np.zeros((ndelta2,ndelta3),dtype='complex128') #make numpy array for gaussian weights\n",
    "    cdef double complex [:,:] wv = w #make cython  \"view\" of the data\n",
    "    \n",
    "    for ii in prange(ndelta2, nogil=True):\n",
    "    #for ii in range(ndelta2):    \n",
    "        delta_2 = delta2valsv[ii]\n",
    "        for jj in range(ndelta3):\n",
    "            delta_3 = delta3valsv[jj]\n",
    "            coh13v[ii,jj] = steady_rho13_lots_of_args(a_r,\n",
    "                               a_i,\n",
    "                               delta_2,\n",
    "                               delta_3,\n",
    "                               gamma_13,\n",
    "                               gamma_23,\n",
    "                               gamma_2d,\n",
    "                               gamma_3d,\n",
    "                               n_b,\n",
    "                               gamma_mu,\n",
    "                               Omega_o,\n",
    "                               Omega_mu,\n",
    "                               g)\n",
    "            wv[ii,jj] = 1.0/(2*3.14159265358979323846*sd3*sd2) * exp(-(delta_2-m2)**2/(2*sd2*sd2)-(delta_3-m3)**2/(2*sd3*sd3))\n",
    "    return (coh13,w)\n",
    "\n",
    "\n",
    "\n",
    "# Steady state an ensemble of atoms, returns a matrix of rho values as well as the list of \n",
    "# weights from the inhomogeneous broadening distribution.\n",
    "# Convolve the two to get simulate single pass raman heterodyne signal as a function of frequency\n",
    "\n",
    "def ensemble_steady_rho(p,delta2vals,delta3vals):\n",
    "    cdef double a_r,a_i,delta_2,delta_3,gamma_13,gamma_23,gamma_2d,gamma_3d,n_b,gamma_mu,Omega_o,Omega_mu,g\n",
    "    a = p['a']\n",
    "    a_r = a.real\n",
    "    a_i = a.imag\n",
    "    delta_2 = p['delta2']\n",
    "    delta_3 = p['delta3']\n",
    "    gamma_13 = p['gamma13']\n",
    "    gamma_23 = p['gamma23'] \n",
    "    gamma_2d = p['gamma2d']\n",
    "    gamma_3d = p['gamma3d']\n",
    "    n_b = p['nbath']\n",
    "    gamma_mu = p['gammamu']\n",
    "    Omega_o = p['omegao'] \n",
    "    Omega_mu = p['omegam']\n",
    "    g = p['g']\n",
    "    \n",
    "    cdef int ii\n",
    "    cdef int jj\n",
    "    cdef int kk\n",
    "    \n",
    "    cdef double m2 = p['mean_delta2']\n",
    "    cdef double sd2 = p['sd_delta2']\n",
    "    cdef double m3 = p['mean_delta3']\n",
    "    cdef double sd3 = p['sd_delta3']\n",
    "    #print(sd3)\n",
    "    \n",
    "    cdef double [:] delta2valsv = delta2vals\n",
    "    cdef double [:] delta3valsv = delta3vals\n",
    "    \n",
    "    cdef int ndelta2 = len(delta2vals)\n",
    "    cdef int ndelta3 = len(delta3vals)\n",
    "    \n",
    "    cdef double df2 = delta2valsv[1]-delta2valsv[0]\n",
    "    cdef double df3 = delta3valsv[1]-delta3valsv[0]\n",
    "    \n",
    "    rho = np.zeros((ndelta2,ndelta3,9),dtype='complex128') #make numpy array\n",
    "    cdef double complex [:,:,:] rhov = rho #make cython  \"view\" of the data\n",
    "    \n",
    "    tmp = np.zeros((9,),dtype='complex128') #make numpy array\n",
    "    cdef double complex [:] tmpv = tmp #make cython  \"view\" for temporary array\n",
    "    \n",
    "    w = np.zeros((ndelta2,ndelta3),dtype='complex128') #make numpy array for gaussian weights\n",
    "    cdef double complex [:,:] wv = w #make cython  \"view\" of the data\n",
    "    \n",
    "    for ii in prange(ndelta2, nogil=True):\n",
    "    #for ii in range(ndelta2):    \n",
    "        delta_2 = delta2valsv[ii]\n",
    "        for jj in range(ndelta3):\n",
    "            delta_3 = delta3valsv[jj]\n",
    "#             tmp = steady_rho_lots_of_args(a_r,\n",
    "#                                a_i,\n",
    "#                                delta_2,\n",
    "#                                delta_3,\n",
    "#                                gamma_13,\n",
    "#                                gamma_23,\n",
    "#                                gamma_2d,\n",
    "#                                gamma_3d,\n",
    "#                                n_b,\n",
    "#                                gamma_mu,\n",
    "#                                Omega_o,\n",
    "#                                Omega_mu,\n",
    "#                                g)\n",
    "            for kk in range(9):\n",
    "                    rhov[ii,jj,kk] = tmpv[kk]\n",
    "            wv[ii,jj] = 1.0/(2*3.14159265358979323846*sd3*sd2) * exp(-(delta_2-m2)**2/(2*sd2*sd2)-(delta_3-m3)**2/(2*sd3*sd3))\n",
    "    return (rho,w)\n",
    "\n",
    "\n",
    "\n",
    "\n",
    "# Integrate over an ensemble using simpson's rule\n",
    "cpdef ensemble_steady_rho13_integrated(p,double df):\n",
    "    #cdef double df = 200e3 #frequency discretization\n",
    "    cdef double a_r,a_i,delta_2,delta_3,gamma_13,gamma_23,gamma_2d,gamma_3d,n_b,gamma_mu,Omega_o,Omega_mu,g\n",
    "    a = p['a']\n",
    "    a_r = a.real\n",
    "    a_i = a.imag\n",
    "    delta_2 = p['delta2']\n",
    "    delta_3 = p['delta3']\n",
    "    gamma_13 = p['gamma13']\n",
    "    gamma_23 = p['gamma23'] \n",
    "    gamma_2d = p['gamma2d']\n",
    "    gamma_3d = p['gamma3d']\n",
    "    n_b = p['nbath']\n",
    "    gamma_mu = p['gammamu']\n",
    "    Omega_o = p['omegao'] \n",
    "    Omega_mu = p['omegam']\n",
    "    g = p['g']\n",
    "    \n",
    "    cdef int ii\n",
    "    cdef int jj\n",
    "    \n",
    "    cdef double m2 = p['mean_delta2']\n",
    "    cdef double sd2 = p['sd_delta2']\n",
    "    cdef double m3 = p['mean_delta3']\n",
    "    cdef double sd3 = p['sd_delta3']\n",
    "    \n",
    "    cdef int w2,w3\n",
    "    \n",
    "    cdef int ndelta2 = 2*int(3*sd2/df)+1\n",
    "    cdef int ndelta3 = 2*int(3*sd3/df)+1\n",
    "    # print(ndelta2,ndelta3) \n",
    "\n",
    "    delta2vals = np.linspace(-3,3,ndelta2)*sd2+m2\n",
    "    delta3vals = np.linspace(-3,3,ndelta3)*sd3+m3\n",
    "   \n",
    "    cdef double [:] delta2valsv = delta2vals\n",
    "    cdef double [:] delta3valsv = delta3vals\n",
    "\n",
    "    \n",
    "    simpsonw2 = np.empty((ndelta2,),dtype='int32')\n",
    "    cdef int [:] simpsonw2v = simpsonw2 \n",
    "    simpsonw3 = np.empty((ndelta3,),dtype='int32')\n",
    "    cdef int [:] simpsonw3v = simpsonw3   \n",
    "    \n",
    "    ii=0\n",
    "    while(ii<(ndelta2-1)):\n",
    "        simpsonw2v[ii]=2\n",
    "        ii+=1\n",
    "        simpsonw2v[ii]=4\n",
    "        ii+=1\n",
    "    simpsonw2v[0]=1\n",
    "    simpsonw2v[ndelta2-1]=1\n",
    "          \n",
    "    ii=0\n",
    "    while(ii<(ndelta3-1)):\n",
    "        simpsonw3v[ii]=2\n",
    "        ii+=1\n",
    "        simpsonw3v[ii]=4\n",
    "        ii+=1\n",
    "    simpsonw3v[0]=1\n",
    "    simpsonw3v[ndelta3-1]=1\n",
    "\n",
    "    \n",
    "    \n",
    "    cdef double complex z = 0\n",
    "    cdef double sum_r = 0\n",
    "    cdef double sum_i = 0\n",
    "    cdef double gaussie\n",
    "    for ii in prange(ndelta2,nogil=True):\n",
    "    #for ii in range(ndelta2):\n",
    "        delta_2 = delta2valsv[ii]\n",
    "        w2 = simpsonw2v[ii]\n",
    "        for jj in range(ndelta3):\n",
    "            delta_3 = delta3valsv[jj]\n",
    "            w3 = simpsonw3v[jj]\n",
    "            gaussie = 1.0/(2*3.14159265358979323846*sd3*sd2) * exp(-(delta_2-m2)**2/(2*sd2*sd2)-(delta_3-m3)**2/(2*sd3*sd3))\n",
    "            z = steady_rho13_lots_of_args(a_r,\n",
    "                               a_i,\n",
    "                               delta_2,\n",
    "                               delta_3,\n",
    "                               gamma_13,\n",
    "                               gamma_23,\n",
    "                               gamma_2d,\n",
    "                               gamma_3d,\n",
    "                               n_b,\n",
    "                               gamma_mu,\n",
    "                               Omega_o,\n",
    "                               Omega_mu,\n",
    "                               g)*gaussie*w2*w3\n",
    "            #this is because cython doesn't know how to automatically do reductions for \n",
    "            #complex variables but seems to for doubles\n",
    "            sum_r += z.real\n",
    "            sum_i += z.imag\n",
    "    return (sum_r+sum_i*1j)*df*df/9.0\n",
    "\n",
    "\n",
    "''''\n",
    "def ensemble_steady_rho13_integrated_quad(p):\n",
    "    a = p['a']\n",
    "    a_r = a.real\n",
    "    a_i = a.imag\n",
    "    delta_2 = p['delta2']\n",
    "    delta_3 = p['delta3']\n",
    "    gamma_13 = p['gamma13']\n",
    "    gamma_23 = p['gamma23'] \n",
    "    gamma_2d = p['gamma2d']\n",
    "    gamma_3d = p['gamma3d']\n",
    "    n_b = p['nbath']\n",
    "    gamma_mu = p['gammamu']\n",
    "    Omega_o = p['omegao'] \n",
    "    Omega_mu = p['omegam']\n",
    "    g = p['g']\n",
    "    \n",
    "    m2 = p['mean_delta2']\n",
    "    sd2 = p['sd_delta2']\n",
    "    m3 = p['mean_delta3']\n",
    "    sd3 = p['sd_delta3']\n",
    "    \n",
    "    #delta2vals = np.linspace(-3,3,ndelta2)*sd2+m2\n",
    "    #delta3vals = np.linspace(-3,3,ndelta3)*sd3+m3\n",
    "    \n",
    "    delta2min = -3*sd2+m2\n",
    "    delta2max = 3*sd2+m2\n",
    "    delta3min = -3*sd3+m3\n",
    "    delta3max = 3*sd3+m3\n",
    "    #defining lambda function to integrate, x0 is delta2, x1 is delta3\n",
    "    #func_to_integrate = lambda x0, x1 : 1.0/(2*3.14159265358979323846*sd3*sd2) * np.exp(-(x0-m2)**2/(2*sd2*sd2)-(x1-m3)**2/(2*sd3*sd3))*steady_rho13_lots_of_args(a_r,\n",
    "     #                          a_i,\n",
    "      #                         x0,\n",
    "       #                        x1,\n",
    "        #                       gamma_13,\n",
    "         #                      gamma_23,\n",
    "          #                     gamma_2d,\n",
    "           #                    gamma_3d,\n",
    "            #                   n_b,\n",
    "             #                  gamma_mu,\n",
    "              #                 Omega_o,\n",
    "               #                Omega_mu,\n",
    "                #               g)\n",
    "    func_to_integrate = lambda x0, x1 : x0**2+x1 #steady_rho13_lots_of_args(a_r, a_i,x0,x1,gamma_13,gamma_23,gamma_2d,gamma_3d,n_b,gamma_mu,Omega_o,Omega_mu,g)\n",
    "    integrated_func = integrate.nquad(func_to_integrate,[[delta2min, delta2max],[delta3min, delta3max]])\n",
    "    #integrated_func=steady_rho13_lots_of_args(a_r, a_i,delta_2,delta_3,gamma_13,gamma_23,gamma_2d,gamma_3d,n_b,gamma_mu,Omega_o,Omega_mu,g)\n",
    "    return integrated_func'''"
   ]
  },
  {
   "cell_type": "code",
   "execution_count": null,
   "metadata": {},
   "outputs": [],
   "source": [
    "def ensemble_steady_rho13_integrated_quad(p):\n",
    "    a = p['a']\n",
    "    a_r = a.real\n",
    "    a_i = a.imag\n",
    "    delta_2 = p['delta2']\n",
    "    delta_3 = p['delta3']\n",
    "    gamma_13 = p['gamma13']\n",
    "    gamma_23 = p['gamma23'] \n",
    "    gamma_2d = p['gamma2d']\n",
    "    gamma_3d = p['gamma3d']\n",
    "    n_b = p['nbath']\n",
    "    gamma_mu = p['gammamu']\n",
    "    Omega_o = p['omegao'] \n",
    "    Omega_mu = p['omegam']\n",
    "    g = p['g']\n",
    "    \n",
    "    m2 = p['mean_delta2']\n",
    "    sd2 = p['sd_delta2']\n",
    "    m3 = p['mean_delta3']\n",
    "    sd3 = p['sd_delta3']\n",
    "    \n",
    "    #delta2vals = np.linspace(-3,3,ndelta2)*sd2+m2\n",
    "    #delta3vals = np.linspace(-3,3,ndelta3)*sd3+m3\n",
    "    \n",
    "    delta2min = -3*sd2+m2\n",
    "    delta2max = 3*sd2+m2\n",
    "    delta3min = -3*sd3+m3\n",
    "    delta3max = 3*sd3+m3\n",
    "    #defining lambda function to integrate, x0 is delta2, x1 is delta3\n",
    "    #func_to_integrate = lambda x0, x1 : 1.0/(2*3.14159265358979323846*sd3*sd2) * np.exp(-(x0-m2)**2/(2*sd2*sd2)-(x1-m3)**2/(2*sd3*sd3))*steady_rho13_lots_of_args(a_r,\n",
    "     #                          a_i,\n",
    "      #                         x0,\n",
    "       #                        x1,\n",
    "        #                       gamma_13,\n",
    "         #                      gamma_23,\n",
    "          #                     gamma_2d,\n",
    "           #                    gamma_3d,\n",
    "            #                   n_b,\n",
    "             #                  gamma_mu,\n",
    "              #                 Omega_o,\n",
    "               #                Omega_mu,\n",
    "                #               g)\n",
    "    func_to_integrate = lambda x0, x1 : x0**2+x1 #steady_rho13_lots_of_args(a_r, a_i,x0,x1,gamma_13,gamma_23,gamma_2d,gamma_3d,n_b,gamma_mu,Omega_o,Omega_mu,g)\n",
    "    integrated_func = integrate.nquad(func_to_integrate,[[delta2min, delta2max],[delta3min, delta3max]])\n",
    "    #integrated_func=steady_rho13_lots_of_args(a_r, a_i,delta_2,delta_3,gamma_13,gamma_23,gamma_2d,gamma_3d,n_b,gamma_mu,Omega_o,Omega_mu,g)\n",
    "    return integrated_func"
   ]
  },
  {
   "cell_type": "code",
   "execution_count": null,
   "metadata": {},
   "outputs": [],
   "source": [
    "p = {}\n",
    "p['a'] =1 +1.j\n",
    "p['delta2'] = 0.\n",
    "p['delta3'] = 0.\n",
    "p['gamma13'] = 1./22e-3\n",
    "p['gamma23'] = 1./22e-3\n",
    "p['gamma2d'] = 1./1e-6\n",
    "p['gamma3d'] = 1./1e-6\n",
    "p['nbath'] = 20\n",
    "p['gammamu'] = 1./((p['nbath']+1)*11e-3)\n",
    "p['omegao'] = 10e6\n",
    "p['omegam'] = 10e6\n",
    "p['g'] = 0.\n",
    "\n",
    "# Code currently requires these, even if we're not interested in\n",
    "# inhomogeneous brodening for the moment\n",
    "p['mean_delta2']=0 \n",
    "p['sd_delta2']=20e6/2.355 #2.355 is to turn FWHM into standard deviation\n",
    "p['mean_delta3']=0\n",
    "p['sd_delta3']=300e6/2.355\n",
    "\n",
    "coh_int_test=ensemble_steady_rho13_integrated_quad(p)\n",
    "coh_int_test"
   ]
  },
  {
   "cell_type": "code",
   "execution_count": null,
   "metadata": {},
   "outputs": [],
   "source": [
    "p"
   ]
  },
  {
   "cell_type": "markdown",
   "metadata": {},
   "source": [
    "## Calculations - just atoms"
   ]
  },
  {
   "cell_type": "markdown",
   "metadata": {},
   "source": [
    "### Single pass - no inhomogeneous broadening\n",
    "#### Weird behavior -- driving both microwave and optical pump hard \n",
    "- Signal persists at very high microwave detuning \n",
    "- EIT like features"
   ]
  },
  {
   "cell_type": "code",
   "execution_count": null,
   "metadata": {
    "ExecuteTime": {
     "end_time": "2018-08-02T16:58:13.385807Z",
     "start_time": "2018-08-02T16:58:13.158997Z"
    }
   },
   "outputs": [],
   "source": [
    "#some default parameters\n",
    "p = {}\n",
    "p['a'] = 0\n",
    "p['delta2'] = 0.\n",
    "p['delta3'] = 0.\n",
    "p['gamma13'] = 1./22e-3\n",
    "p['gamma23'] = 1./22e-3\n",
    "p['gamma2d'] = 1./1e-6\n",
    "p['gamma3d'] = 1./1e-6\n",
    "p['nbath'] = 20\n",
    "p['gammamu'] = 1./((p['nbath']+1)*11e-3)\n",
    "p['omegao'] = 10e6\n",
    "p['omegam'] = 10e6\n",
    "p['g'] = 0.\n",
    "\n",
    "# Code currently requires these, even if we're not interested in\n",
    "# inhomogeneous brodening for the moment\n",
    "p['mean_delta2']=0 \n",
    "p['sd_delta2']=20e6/2.355 #2.355 is to turn FWHM into standard deviation\n",
    "p['mean_delta3']=0\n",
    "p['sd_delta3']=300e6/2.355\n",
    "\n",
    "delta2vals = np.linspace(-10000e6,10000e6,501)\n",
    "delta3vals = np.linspace(-100e6,100e6,501)\n",
    "\n",
    "coh,_ = ensemble_steady_rho13(p,delta2vals,delta3vals)       \n",
    "\n",
    "#plt.rcParams['figure.figsize'] = [10, 4]\n",
    "plt.imshow(np.abs(coh),extent = [min(delta3vals)/1e6,max(delta3vals)/1e6,max(delta2vals)/1e6,min(delta2vals)/1e6],aspect='auto')\n",
    "plt.ylabel('delta_2')\n",
    "plt.xlabel('delta_3')\n",
    "plt.colorbar();"
   ]
  },
  {
   "cell_type": "markdown",
   "metadata": {},
   "source": [
    "#### Strong optical pump, weak microwaves"
   ]
  },
  {
   "cell_type": "code",
   "execution_count": null,
   "metadata": {
    "ExecuteTime": {
     "end_time": "2018-08-02T16:58:13.586179Z",
     "start_time": "2018-08-02T16:58:13.386934Z"
    },
    "scrolled": true
   },
   "outputs": [],
   "source": [
    "#some default parameters\n",
    "p = {}\n",
    "p['a'] = 0.0\n",
    "p['delta2'] = 0.0\n",
    "p['delta3'] = 0.0\n",
    "p['gamma13'] = 1./22e-3\n",
    "p['gamma23'] = 1./22e-3\n",
    "p['gamma2d'] = 1./1e-6\n",
    "p['gamma3d'] = 1./1e-6\n",
    "p['nbath'] = 20\n",
    "p['gammamu'] = 1./((p['nbath']+1)*11e-3)\n",
    "p['omegao'] = 10e6\n",
    "p['omegam'] = 1e3\n",
    "p['g'] = 0.0\n",
    "\n",
    "\n",
    "# Code currently requires these, even if we're not interested in\n",
    "# inhomogeneous brodening for the moment\n",
    "p['mean_delta2']=0 \n",
    "p['sd_delta2']=20e6/2.355 #2.355 is to turn FWHM into standard deviation\n",
    "p['mean_delta3']=0\n",
    "p['sd_delta3']=300e6/2.355\n",
    "\n",
    "\n",
    "delta2vals = np.linspace(-50e6,50e6,150)\n",
    "delta3vals = np.linspace(-50e6,50e6,150)\n",
    "\n",
    "     \n",
    "coh,_ = ensemble_steady_rho13(p,delta2vals,delta3vals)       \n",
    "coh = np.abs(coh)\n",
    "\n",
    "#plt.rcParams['figure.figsize'] = [10, 4]\n",
    "plt.imshow(coh,extent = [min(delta3vals)/1e6,max(delta3vals)/1e6,max(delta2vals)/1e6,min(delta2vals)/1e6],aspect='auto')\n",
    "plt.ylabel('delta_2')\n",
    "plt.xlabel('delta_3')\n",
    "plt.colorbar();\n"
   ]
  },
  {
   "cell_type": "code",
   "execution_count": null,
   "metadata": {},
   "outputs": [],
   "source": [
    "1./((p['nbath']+1)*11e-3)"
   ]
  },
  {
   "cell_type": "markdown",
   "metadata": {},
   "source": [
    "#### Strong microwaves, weak optical pump"
   ]
  },
  {
   "cell_type": "code",
   "execution_count": null,
   "metadata": {
    "ExecuteTime": {
     "end_time": "2018-08-02T16:58:13.796520Z",
     "start_time": "2018-08-02T16:58:13.587321Z"
    },
    "scrolled": false
   },
   "outputs": [],
   "source": [
    "#some default parameters\n",
    "p = {}\n",
    "p['a'] = 0\n",
    "p['delta2'] = 0.\n",
    "p['delta3'] = 0.\n",
    "p['gamma13'] = 1./22e-3\n",
    "p['gamma23'] = 1./22e-3\n",
    "p['gamma2d'] = 1./1e-6\n",
    "p['gamma3d'] = 1./1e-6\n",
    "p['nbath'] = 20\n",
    "p['gammamu'] = 1./((p['nbath']+1)*11e-3)\n",
    "p['omegao'] = 1e3\n",
    "p['omegam'] = 10e6\n",
    "p['g'] = 0.\n",
    "\n",
    "# Code currently requires these, even if we're not interested in\n",
    "# inhomogeneous brodening for the moment\n",
    "p['mean_delta2']=0 \n",
    "p['sd_delta2']=20e6/2.355 #2.355 is to turn FWHM into standard deviation\n",
    "p['mean_delta3']=0\n",
    "p['sd_delta3']=300e6/2.355\n",
    "\n",
    "delta2vals = np.linspace(-40e6,40e6,400)\n",
    "delta3vals = np.linspace(-40e6,40e6,400)\n",
    "\n",
    "   \n",
    "coh,_ = ensemble_steady_rho13(p,delta2vals,delta3vals)       \n",
    "coh = np.abs(coh)\n",
    "\n",
    "\n",
    "#plt.rcParams['figure.figsize'] = [8, 4]\n",
    "plt.imshow(coh,extent = [min(delta3vals)/1e6,max(delta3vals)/1e6,max(delta2vals)/1e6,min(delta2vals)/1e6],aspect='auto')\n",
    "plt.ylabel('delta_2')\n",
    "plt.xlabel('delta_3')\n",
    "plt.colorbar();"
   ]
  },
  {
   "cell_type": "code",
   "execution_count": null,
   "metadata": {},
   "outputs": [],
   "source": [
    "delrange=range(0,400)\n",
    "plt.plot(delta3vals[delrange],abs(coh[100,delrange]))"
   ]
  },
  {
   "cell_type": "code",
   "execution_count": null,
   "metadata": {},
   "outputs": [],
   "source": [
    "delrange[199]"
   ]
  },
  {
   "cell_type": "markdown",
   "metadata": {},
   "source": [
    "#### Both microwaves and optical pump weak"
   ]
  },
  {
   "cell_type": "code",
   "execution_count": null,
   "metadata": {
    "ExecuteTime": {
     "end_time": "2018-08-02T16:58:14.007106Z",
     "start_time": "2018-08-02T16:58:13.797770Z"
    }
   },
   "outputs": [],
   "source": [
    "p = {}\n",
    "p['a'] = 0\n",
    "p['delta2'] = 0.\n",
    "p['delta3'] = 0.\n",
    "p['gamma13'] = 1./22e-3\n",
    "p['gamma23'] = 1./22e-3\n",
    "p['gamma2d'] = 1./1e-6\n",
    "p['gamma3d'] = 1./1e-6\n",
    "p['nbath'] = 20\n",
    "p['gammamu'] = 1./((p['nbath']+1)*11e-3)\n",
    "p['omegao'] = 1e3\n",
    "p['omegam'] = 1e3\n",
    "p['g'] = 0.\n",
    "\n",
    "# Code currently requires these, even if we're not interested in\n",
    "# inhomogeneous brodening for the moment\n",
    "p['mean_delta2']=0 \n",
    "p['sd_delta2']=20e6/2.355 #2.355 is to turn FWHM into standard deviation\n",
    "p['mean_delta3']=0\n",
    "p['sd_delta3']=300e6/2.355\n",
    "\n",
    "delta2vals = np.linspace(-5e6,5e6,501)\n",
    "delta3vals = np.linspace(-5e6,5e6,501)\n",
    "\n",
    "coh,_ = ensemble_steady_rho13(p,delta2vals,delta3vals)       \n",
    "coh = np.abs(coh)\n",
    "\n",
    "plt.rcParams['figure.figsize'] = [8, 4]\n",
    "plt.imshow(coh,extent = [min(delta3vals)/1e6,max(delta3vals)/1e6,max(delta2vals)/1e6,min(delta2vals)/1e6],aspect='auto')\n",
    "plt.ylabel('delta_2')\n",
    "plt.xlabel('delta_3')\n",
    "plt.colorbar();"
   ]
  },
  {
   "cell_type": "markdown",
   "metadata": {},
   "source": [
    "### Single pass signal with inhomogneous broadening\n",
    "\n"
   ]
  },
  {
   "cell_type": "code",
   "execution_count": null,
   "metadata": {
    "ExecuteTime": {
     "end_time": "2018-08-02T16:58:21.558337Z",
     "start_time": "2018-08-02T16:58:14.008227Z"
    }
   },
   "outputs": [],
   "source": [
    "%%time \n",
    "p = {}\n",
    "p['a'] = 0\n",
    "p['delta2'] = 0.\n",
    "p['delta3'] = 0.\n",
    "p['gamma13'] = 1./22e-3\n",
    "p['gamma23'] = 1./22e-3\n",
    "p['gamma2d'] = 1./.1e-6 #unrealistically fast, but makes calculations easier\n",
    "p['gamma3d'] = 1./.1e-6\n",
    "p['nbath'] = 20\n",
    "p['gammamu'] = 1./((p['nbath']+1)*11e-3)\n",
    "p['omegao'] = 60e6\n",
    "p['omegam'] = 1e3\n",
    "p['g'] = 0.\n",
    "\n",
    "p['mean_delta2']=0\n",
    "p['sd_delta2']=20e6\n",
    "p['mean_delta3']=0\n",
    "p['sd_delta3']=20e6 #not realistic but makes calculations faster\n",
    "\n",
    "delta2vals = np.linspace(-100e6,100e6,1000)\n",
    "delta3vals = np.linspace(-1000e6,1000e6,10000)\n",
    "\n",
    "(coh13,w) = ensemble_steady_rho13(p,delta2vals,delta3vals)\n",
    "sig = signal.fftconvolve(coh13,w)"
   ]
  },
  {
   "cell_type": "code",
   "execution_count": null,
   "metadata": {
    "ExecuteTime": {
     "end_time": "2018-08-02T16:58:23.766045Z",
     "start_time": "2018-08-02T16:58:21.559630Z"
    }
   },
   "outputs": [],
   "source": [
    "plt.rcParams['figure.figsize'] = [10, 20]\n",
    "plt.subplot(3,1,1)        \n",
    "plt.imshow(np.abs(coh13),extent = [min(delta3vals)/1e6,max(delta3vals)/1e6,max(delta2vals)/1e6,min(delta2vals)/1e6],aspect='auto')\n",
    "plt.ylabel('delta_2')\n",
    "plt.xlabel('delta_3')\n",
    "plt.title('Signal from inhomogenous packet')\n",
    "plt.colorbar();\n",
    "\n",
    "plt.subplot(3,1,2)\n",
    "plt.imshow(w.real,extent = [min(delta3vals)/1e6,max(delta3vals)/1e6,max(delta2vals)/1e6,min(delta2vals)/1e6],aspect='auto')\n",
    "plt.ylabel('delta_2')\n",
    "plt.xlabel('delta_3')\n",
    "plt.title('Inhomogeneous broadening distribution')\n",
    "plt.colorbar();\n",
    "\n",
    "plt.subplot(3,1,3)\n",
    "plt.imshow(np.abs(sig),extent = [min(delta3vals)/1e6,max(delta3vals)/1e6,max(delta2vals)/1e6,min(delta2vals)/1e6],aspect='auto')\n",
    "plt.ylabel('delta_2')\n",
    "plt.xlabel('delta_3')\n",
    "plt.title('simulated single pass signal')\n",
    "plt.colorbar();"
   ]
  },
  {
   "cell_type": "markdown",
   "metadata": {},
   "source": [
    "\n",
    "\n",
    "\n"
   ]
  },
  {
   "cell_type": "markdown",
   "metadata": {},
   "source": [
    "## Introducing cavity dynamics"
   ]
  },
  {
   "cell_type": "markdown",
   "metadata": {},
   "source": [
    "The (classical) equations of motion of the cavity mode amplitude are given by \n",
    "$$\n",
    "\\frac{d}{dt} a = -i \\delta_c a -i\\sum_k g_k \\sigma_{13,k} - \\frac{(\\kappa_i+\\kappa_c)}{2}a - \\sqrt{\\kappa_c} a_{in}\n",
    "$$\n",
    "Here $\\kappa_i$ is the intrisic loss rate of our cavity and $\\kappa_c$ is the coupling induced loss.\n",
    "\n",
    "Defining \n",
    "$$\n",
    "S_{13}(a)= \\sum_k g_k \\sigma_{13,k}\n",
    "$$ \n",
    "We write $S_{13}(a)$ to remind us (explicitly) that the atoms states are a function of the cavity mode amplitude $a$.\n",
    "\n",
    "Because we won't drive $a$ this becomes\n",
    "$$\n",
    "\\frac{d}{dt} a = -i \\delta_c a\n",
    "-i S_{13}(a)\n",
    "- \\frac{(\\kappa_i+\\kappa_c)}{2}a \n",
    "$$\n",
    "So to find the steady state of the cavity we need to find the roots of the function\n",
    "$$\n",
    "f(a) = -i \\delta_c a\n",
    "-i S_{13}(a)\n",
    "- \\frac{(\\kappa_i+\\kappa_c)}{2}a \n",
    "$$"
   ]
  },
  {
   "cell_type": "code",
   "execution_count": 39,
   "metadata": {
    "ExecuteTime": {
     "end_time": "2018-08-02T16:58:23.770863Z",
     "start_time": "2018-08-02T16:58:23.767266Z"
    }
   },
   "outputs": [],
   "source": [
    "def ffunc(p):\n",
    "    df = p['df']\n",
    "    a = p['a']\n",
    "    N = p['N']\n",
    "    g = p['g']\n",
    "    deltac = p['deltac']\n",
    "    kappa = p['kappaoi']+p['kappaoc']\n",
    "    S13 = N*g*ensemble_steady_rho13_integrated(p,df)\n",
    "    return -1j*deltac*a - 1j*S13 - kappa/2*a\n",
    "\n",
    "# the same function but in a form that maps a 2d vector to a 2d vector rather than complex -> complex\n",
    "def ffunc_for_root(avec,p):\n",
    "    a = avec[0]+1j*avec[1]\n",
    "    # print(a)\n",
    "    p['a']=a\n",
    "    f = ffunc(p)\n",
    "    return [f.real,f.imag]\n",
    "\n",
    "def steadya(p):\n",
    "    # use value of a as steady state\n",
    "    a = p['a']\n",
    "    avec = [a.real,a.imag]\n",
    "    df = p['df']\n",
    "    result = scipy.optimize.root(ffunc_for_root,avec,args=(p))\n",
    "    if not result.success:\n",
    "        print(result)\n",
    "        raise(AssertionError('The bloody thing didn\\'t converge: '+result.message))\n",
    "    #update p['a'] why not?\n",
    "    a = result.x[0]+1j*result.x[1]\n",
    "    p['a']=a\n",
    "    return a\n"
   ]
  },
  {
   "cell_type": "markdown",
   "metadata": {
    "ExecuteTime": {
     "end_time": "2018-07-31T11:15:58.220013Z",
     "start_time": "2018-07-31T11:15:58.215970Z"
    }
   },
   "source": [
    "These aren't very realistic parameters, but lead to fast calcs"
   ]
  },
  {
   "cell_type": "code",
   "execution_count": null,
   "metadata": {
    "ExecuteTime": {
     "end_time": "2018-08-02T16:58:23.778223Z",
     "start_time": "2018-08-02T16:58:23.771975Z"
    }
   },
   "outputs": [],
   "source": [
    "# df = 0.1\n",
    "# p = {}\n",
    "# p['a'] = 0\n",
    "# p['delta2'] = 0.\n",
    "# p['delta3'] = 0.\n",
    "# p['gamma13'] = 1\n",
    "# p['gamma23'] = 1\n",
    "# p['gamma2d'] = 1\n",
    "# p['gamma3d'] = 1\n",
    "# p['nbath'] = 2\n",
    "# p['gammamu'] = 1\n",
    "# p['omegao'] = 1\n",
    "# p['omegam'] = .01\n",
    "# p['g'] = 1.\n",
    "# p['N'] = 1\n",
    "# p['deltac']=0\n",
    "# p['kappaoi']=1\n",
    "# p['kappaoc']=1\n",
    "# p['df']=0.1\n",
    "\n",
    "# p['mean_delta2']=0 \n",
    "# p['sd_delta2']=2 #2.355 is to turn FWHM into standard deviation\n",
    "# p['mean_delta3']=0\n",
    "# p['sd_delta3']=3\n",
    "\n",
    "# omegamvals = np.logspace(-3,2,40)\n",
    "# avals = np.zeros(omegamvals.shape,dtype='complex128')\n",
    "# for i,omegam in enumerate(omegamvals):\n",
    "#     p['omegam']=omegam\n",
    "#     avals[i] = steadya(p)"
   ]
  },
  {
   "cell_type": "code",
   "execution_count": null,
   "metadata": {
    "ExecuteTime": {
     "end_time": "2018-08-02T16:58:23.785869Z",
     "start_time": "2018-08-02T16:58:23.779228Z"
    },
    "scrolled": false
   },
   "outputs": [],
   "source": [
    "# plt.semilogx(omegamvals,(np.abs(avals)/(omegamvals))**2)\n",
    "# plt.ylabel('propto efficiency')\n",
    "# plt.xlabel('Omega_mu');\n"
   ]
  },
  {
   "cell_type": "markdown",
   "metadata": {},
   "source": [
    "## Time for some realistic simulations\n"
   ]
  },
  {
   "cell_type": "code",
   "execution_count": 27,
   "metadata": {
    "ExecuteTime": {
     "end_time": "2018-08-02T17:04:16.028066Z",
     "start_time": "2018-08-02T17:04:16.022963Z"
    }
   },
   "outputs": [],
   "source": [
    "# calculate microwave rabi frequency from power in in dBm\n",
    "def omegam_from_Pin(Pin,p):\n",
    "    mu0 = 4*pi*1e-7\n",
    "    hbar=1.05457e-34; # in J*s\n",
    "    Vsample=pi*((p['dsample']/2)**2) * p['Lsample'] # the volume of the Er:YSO sample\n",
    "    V_microwave_cavity = Vsample/p['fillfactor']    \n",
    "    mwP = 1e-3 * 10**(Pin/10)  #convert from dBm to Watts\n",
    "    Q=2*pi*p['freqm']/(p['kappami']+p['kappamc']*2) # Q factor\n",
    "    S21=(4*p['kappamc']**2)/(p['kappami']+p['kappamc']*2)**2\n",
    "    energy_in_cavity=math.sqrt(S21)*2/(2*pi*p['freqm']/Q)*mwP; # energy inside the microwave cavity, in J\n",
    "    Bmw=math.sqrt(mu0*(energy_in_cavity/V_microwave_cavity)/2); # Magnetic field of the microwave\n",
    "    p['omegam']=(p['mu12']*Bmw)/hbar*(-1); # in rad/sec???? in Hz\n",
    "    return p['omegam']"
   ]
  },
  {
   "cell_type": "code",
   "execution_count": 65,
   "metadata": {
    "ExecuteTime": {
     "end_time": "2018-08-02T17:04:16.556657Z",
     "start_time": "2018-08-02T17:04:16.551577Z"
    }
   },
   "outputs": [],
   "source": [
    "# calculate optical rabi frequency from power in in dBm\n",
    "def omegao_from_Pin(Pin,p):\n",
    "    epsilon0=8.854187817e-12\n",
    "    hbar=1.05457e-34; # in J*s\n",
    "\n",
    "    optP = 1e-3 * 10**(Pin/10) #incident optical power in W\n",
    "    pflux = optP/(2*pi*p['freqo']*hbar) #photon flux (photons/sec)\n",
    "    n_in = pflux * p['kappaoc']*4/(p['kappaoc']+p['kappaoi'])**2 # num intracavity photons\n",
    "                                                #is this right????\n",
    "    Sspot = pi*p['Wcavity']**2 #cross sectional area of\n",
    "                                #optical mode\n",
    "    V_cav = (Sspot*p['Lcavity_vac']+Sspot*p['Lsample']*p['nYSO']**3)/2;\n",
    "    optEfield = math.sqrt(n_in*hbar*2*pi*p['freqo']/2/epsilon0/V_cav);\n",
    "    p['omegao'] = p['d23']*optEfield/hbar*(-1);\n",
    "    return p['omegao']"
   ]
  },
  {
   "cell_type": "code",
   "execution_count": 66,
   "metadata": {
    "ExecuteTime": {
     "end_time": "2018-08-02T17:04:17.383942Z",
     "start_time": "2018-08-02T17:04:17.295123Z"
    }
   },
   "outputs": [
    {
     "data": {
      "image/png": "[encoded data removed]",
      "text/latex": [
       "$$\\left ( -0.49209088755145475, \\quad -4.7543084291639115\\right )$$"
      ],
      "text/plain": [
       "(-0.49209088755145475, -4.7543084291639115)"
      ]
     },
     "execution_count": 66,
     "metadata": {},
     "output_type": "execute_result"
    }
   ],
   "source": [
    "# parameters from Stephen via slack\n",
    "# parameters commented out are not used in calculation\n",
    "p = {}\n",
    "p['a'] = 0\n",
    "p['delta2'] = 0.\n",
    "p['delta3'] = 0.\n",
    "\n",
    "\n",
    "p['d13'] = 2e-32*math.sqrt(1/3)\n",
    "p['d23'] = 2e-32*math.sqrt(2/3)\n",
    "p['gamma13'] = p['d13']**2/(p['d13']**2+p['d23']**2)*1/11e-3\n",
    "p['gamma23'] = p['d23']**2/(p['d13']**2+p['d23']**2)*1/11e-3\n",
    "p['gamma2d'] = 1e6\n",
    "p['gamma3d'] = 1e6\n",
    "p['nbath'] = 20\n",
    "p['gammamu'] = 1/(p['nbath']+1) * 1e3\n",
    "\n",
    "p['g'] = 51.9  #optical coupling\n",
    "p['N'] = 1.28e15 # number of atoms in the optical mode\n",
    "\n",
    "p['deltac']=0 #detuning for \n",
    "p['kappaoi']=2*pi*7.95e6 # intrinsic loss for optical resonator\n",
    "p['kappaoc']=2*pi*1.7e6 # coupling loss for optical resonator\n",
    "p['df']=0.1e6 # how small descretisation step to take when integrating over the \n",
    "            # inhomogeneous lines\n",
    "\n",
    "p['mean_delta2']=0\n",
    "p['sd_delta2']=2*pi*25e6/2.355  #microwave inhomogeneous broadening\n",
    "                                #2.355is to turn FWHM into standard deviation\n",
    "p['mean_delta3']=0\n",
    "p['sd_delta3']=2*pi*170e6/2.355 #optical inhomogeneous broadening\n",
    "\n",
    "p['kappami'] = 650e3*2*pi # intrinsic loss for microwave cavity\n",
    "p['kappamc'] = 70e3*2*pi  # coupling loss for optical cavity\n",
    "                        # this is for one of the two output ports\n",
    "p['Nmu'] = 2.22e16  #toal number of atoms\n",
    "p['gmu'] = 1.04 #coupling between atoms and microwave field\n",
    "\n",
    "\n",
    "muBohr=927.4009994e-26; # Bohr magneton in J/T in J* T^-1\n",
    "p['mu12'] = 4.3803*muBohr # transition dipole moment for microwave cavity (J T^-1)\n",
    "\n",
    "p['Lsample']=12e-3 # the length of the sample, in m\n",
    "p['dsample']=5e-3 # the diameter of the sample, in m\n",
    "\n",
    "p['fillfactor']=0.8 #microwave filling factor\n",
    "p['freqm'] = 5.186e9\n",
    "p['freqo'] = 195113.36e9\n",
    "\n",
    "p['Lcavity_vac'] = 49.5e-3 # length of the vacuum part of the optical\n",
    "                           # Fabry Perot (m)\n",
    "p['Wcavity'] =  0.6e-3# width of optical resonator beam in sample (m)\n",
    "p['nYSO'] = 1.76 #refractive index of YSO\n",
    "\n",
    "# assume 1mW (=0dBm) input to both optical and to microwave cavities\n",
    "omegao_from_Pin(0,p)\n",
    "omegam_from_Pin(0,p)\n",
    "\n",
    "#see what rabi freqs we have\n",
    "p['omegao']/1e6,p['omegam']/1e6\n",
    "\n",
    "#%time ensemble_steady_rho13_integrated(p,p['df'])"
   ]
  },
  {
   "cell_type": "markdown",
   "metadata": {},
   "source": [
    "In order to make things easier for the root finder we make the substiution\n",
    "\n",
    "$$ g \\leftarrow \\alpha g $$\n",
    "\n",
    "$$ N \\leftarrow \\frac{N}{\\alpha^2} $$\n",
    "\n",
    "This means that inorder to get the true intracavity field $a$ we need to multiply the results of our calculations by $\\alpha$.\n",
    "\n",
    "Trial and error suggests that using $\\alpha = \\sqrt{N}$ (the original $N$) is a good choice\n",
    "\n"
   ]
  },
  {
   "cell_type": "code",
   "execution_count": 67,
   "metadata": {
    "ExecuteTime": {
     "end_time": "2018-08-02T17:04:22.069130Z",
     "start_time": "2018-08-02T17:04:22.066033Z"
    }
   },
   "outputs": [
    {
     "data": {
      "text/plain": [
       "(1.8568308485158254, ' GHz')"
      ]
     },
     "execution_count": 67,
     "metadata": {},
     "output_type": "execute_result"
    }
   ],
   "source": [
    "alpha = math.sqrt(p['N'])/40\n",
    "p['g'] = alpha *p['g']\n",
    "p['N'] = p['N']/alpha**2\n",
    "\n",
    "#this parameter shouldn't change\n",
    "math.sqrt(p['N'])*p['g']/1e9, \" GHz\""
   ]
  },
  {
   "cell_type": "markdown",
   "metadata": {},
   "source": [
    "### Efficiency vs microwave input power "
   ]
  },
  {
   "cell_type": "code",
   "execution_count": 68,
   "metadata": {
    "ExecuteTime": {
     "end_time": "2018-08-02T17:05:00.061420Z",
     "start_time": "2018-08-02T17:04:25.319735Z"
    }
   },
   "outputs": [],
   "source": [
    "Pmu_vals_dBm = np.arange(-30,10,3) # in dBm\n",
    "Pmu_vals_W = 1e-3*np.exp(np.log(10)*Pmu_vals_dBm/10) #in W\n",
    "\n",
    "avals_approx = np.zeros(Pmu_vals_dBm.shape,dtype='complex128')\n",
    "avals = np.zeros(Pmu_vals_dBm.shape,dtype='complex128')\n",
    "\n",
    "for (i,P) in enumerate(Pmu_vals_dBm):\n",
    "    #print(\"%d/%d\"%(i+1,len(Pmu_vals_dBm)),end=\"\")\n",
    "    omegam_from_Pin(P,p)\n",
    "    p['df'] = 2e6\n",
    "    avals_approx[i] = steadya(p)*alpha\n",
    "    p['df'] = 1e6\n",
    "    avals[i] = steadya(p)*alpha\n",
    "    #print(\" -- completed\")\n"
   ]
  },
  {
   "cell_type": "code",
   "execution_count": 71,
   "metadata": {},
   "outputs": [
    {
     "data": {
      "text/plain": [
       "[<matplotlib.lines.Line2D at 0x7f45c687cb70>]"
      ]
     },
     "execution_count": 71,
     "metadata": {},
     "output_type": "execute_result"
    },
    {
     "data": {
      "image/png": "[encoded data removed]",
      "text/plain": [
       "<Figure size 432x288 with 1 Axes>"
      ]
     },
     "metadata": {},
     "output_type": "display_data"
    }
   ],
   "source": [
    "plt.plot(np.imag(avals))"
   ]
  },
  {
   "cell_type": "code",
   "execution_count": 72,
   "metadata": {
    "ExecuteTime": {
     "end_time": "2018-08-02T17:05:00.065205Z",
     "start_time": "2018-08-02T17:05:00.062741Z"
    }
   },
   "outputs": [],
   "source": [
    "# this is the energy efficiency of the conversion\n",
    "effic = p['kappaoc']*np.abs(avals**2)*const.h*p['freqo'] /Pmu_vals_W\n",
    "effic_approx = p['kappaoc']*np.abs(avals_approx**2)*const.h*p['freqo'] /Pmu_vals_W\n",
    "\n",
    "# quantum efficiency\n",
    "effic  = effic*p['freqm']/p['freqo']\n",
    "effic_approx  = effic_approx*p['freqm']/p['freqo']"
   ]
  },
  {
   "cell_type": "code",
   "execution_count": 73,
   "metadata": {
    "ExecuteTime": {
     "end_time": "2018-08-02T17:05:00.182826Z",
     "start_time": "2018-08-02T17:05:00.066381Z"
    }
   },
   "outputs": [
    {
     "data": {
      "image/png": "[encoded data removed]",
      "text/plain": [
       "<Figure size 432x288 with 1 Axes>"
      ]
     },
     "metadata": {},
     "output_type": "display_data"
    }
   ],
   "source": [
    "plt.plot(Pmu_vals_dBm,effic*1e6,'x-',\n",
    "         Pmu_vals_dBm,effic_approx*1e6,'o-')\n",
    "plt.ylabel('efficiency (ppm)')\n",
    "plt.xlabel('MW power input (dBm)');"
   ]
  },
  {
   "cell_type": "code",
   "execution_count": null,
   "metadata": {
    "ExecuteTime": {
     "end_time": "2018-08-02T17:05:00.363924Z",
     "start_time": "2018-08-02T17:05:00.184305Z"
    }
   },
   "outputs": [],
   "source": [
    "plt.semilogy(Pmu_vals_dBm,effic,'x-',\n",
    "             Pmu_vals_dBm,effic_approx,'o-')#,Pmu_vals_dBm,np.abs(avals_approx)/Pmu_vals_W,'o-')\n",
    "plt.ylabel('efficiency')\n",
    "plt.xlabel('MW power input (dBm)');\n"
   ]
  },
  {
   "cell_type": "markdown",
   "metadata": {
    "ExecuteTime": {
     "end_time": "2018-08-02T07:56:08.176148Z",
     "start_time": "2018-08-02T07:56:08.174279Z"
    }
   },
   "source": [
    "### Looking at how the population changes with microwave power"
   ]
  },
  {
   "cell_type": "code",
   "execution_count": null,
   "metadata": {
    "ExecuteTime": {
     "end_time": "2018-08-02T17:05:02.983663Z",
     "start_time": "2018-08-02T17:05:00.364976Z"
    }
   },
   "outputs": [],
   "source": [
    "#-30dBm in put power\n",
    "p['omegam']=0\n",
    "p['a']=0\n",
    "# omegam_from_Pin(-50,p)\n",
    "# p['a']=0\n",
    "# p['df']=2e6\n",
    "# steadya(p)\n",
    "# print(p['a'])\n",
    "# p['df']=1e6\n",
    "# steadya(p)\n",
    "# print(p['a'])\n",
    "\n",
    "delta2vals = np.linspace(-30e6,30e6,201)\n",
    "delta3vals = np.linspace(-30e6,30e6,201)\n",
    "\n",
    "pop = np.zeros((len(delta2vals),len(delta3vals),3))\n",
    "\n",
    "for ii in range(len(delta2vals)):\n",
    "    for jj in range(len(delta3vals)):\n",
    "        p['delta2'] = delta2vals[ii]\n",
    "        p['delta3'] = delta3vals[jj]\n",
    "        rho = steady_rho(p)\n",
    "        for kk in range(3):\n",
    "            pop[ii,jj,kk] = rho[kk,kk].real\n"
   ]
  },
  {
   "cell_type": "code",
   "execution_count": null,
   "metadata": {
    "ExecuteTime": {
     "end_time": "2018-08-02T17:05:03.233114Z",
     "start_time": "2018-08-02T17:05:02.985026Z"
    }
   },
   "outputs": [],
   "source": [
    "plt.subplot(1,3,1)\n",
    "plt.rcParams['figure.figsize'] = [8, 4]\n",
    "plt.imshow(pop[:,:,0],\n",
    "           extent = [min(delta3vals)/1e6,max(delta3vals)/1e6,max(delta2vals)/1e6,min(delta2vals)/1e6],\n",
    "           norm=Norm(vmin=0, vmax=1),aspect='auto')\n",
    "plt.ylabel('delta_2')\n",
    "plt.xlabel('delta_3')\n",
    "plt.colorbar();\n",
    "\n",
    "plt.subplot(1,3,2)\n",
    "plt.rcParams['figure.figsize'] = [8, 4]\n",
    "plt.imshow(pop[:,:,1],extent = [min(delta3vals)/1e6,max(delta3vals)/1e6,max(delta2vals)/1e6,min(delta2vals)/1e6],\n",
    "           norm=Norm(vmin=0, vmax=1),aspect='auto')\n",
    "plt.ylabel('delta_2')\n",
    "plt.xlabel('delta_3')\n",
    "plt.colorbar();\n",
    "\n",
    "plt.subplot(1,3,3)\n",
    "plt.rcParams['figure.figsize'] = [8, 4]\n",
    "plt.imshow(pop[:,:,2],extent = [min(delta3vals)/1e6,max(delta3vals)/1e6,max(delta2vals)/1e6,min(delta2vals)/1e6],\n",
    "           norm=Norm(vmin=0, vmax=1),aspect='auto')\n",
    "plt.ylabel('delta_2')\n",
    "plt.xlabel('delta_3')\n",
    "plt.colorbar();"
   ]
  },
  {
   "cell_type": "code",
   "execution_count": null,
   "metadata": {
    "ExecuteTime": {
     "end_time": "2018-08-02T17:05:03.355910Z",
     "start_time": "2018-08-02T17:05:03.234220Z"
    }
   },
   "outputs": [],
   "source": [
    "plt.rcParams['figure.figsize'] = [8, 4]\n",
    "plt.imshow(pop[:,:,0]-pop[:,:,2],extent = [min(delta3vals)/1e6,max(delta3vals)/1e6,max(delta2vals)/1e6,min(delta2vals)/1e6])\n",
    "plt.ylabel('delta_2')\n",
    "plt.xlabel('delta_3')\n",
    "plt.title('rho11-rho33 weak microwaves')\n",
    "plt.colorbar();"
   ]
  },
  {
   "cell_type": "code",
   "execution_count": null,
   "metadata": {
    "ExecuteTime": {
     "end_time": "2018-08-02T17:05:06.899881Z",
     "start_time": "2018-08-02T17:05:03.357330Z"
    }
   },
   "outputs": [],
   "source": [
    "#-5dBm in put power\n",
    "\n",
    "omegam_from_Pin(-15,p)\n",
    "p['a']=0\n",
    "p['df']=2e6\n",
    "steadya(p)\n",
    "print(p['a'])\n",
    "p['df']=1e6\n",
    "steadya(p)\n",
    "print(p['a'])\n",
    "\n",
    "delta2vals = np.linspace(-30e6,30e6,101)\n",
    "delta3vals = np.linspace(-30e6,30e6,101)\n",
    "\n",
    "pop = np.zeros((len(delta2vals),len(delta3vals),3))\n",
    "\n",
    "for ii in range(len(delta2vals)):\n",
    "    for jj in range(len(delta3vals)):\n",
    "        p['delta2'] = delta2vals[ii]\n",
    "        p['delta3'] = delta3vals[jj]\n",
    "        rho = steady_rho(p)\n",
    "        for kk in range(3):\n",
    "            pop[ii,jj,kk] = rho[kk,kk].real\n",
    "        \n"
   ]
  },
  {
   "cell_type": "code",
   "execution_count": null,
   "metadata": {
    "ExecuteTime": {
     "end_time": "2018-08-02T17:05:07.137561Z",
     "start_time": "2018-08-02T17:05:06.901017Z"
    }
   },
   "outputs": [],
   "source": [
    "plt.subplot(1,3,1)\n",
    "plt.rcParams['figure.figsize'] = [8, 4]\n",
    "plt.imshow(pop[:,:,0],\n",
    "           extent = [min(delta3vals)/1e6,max(delta3vals)/1e6,max(delta2vals)/1e6,min(delta2vals)/1e6],\n",
    "           norm=Norm(vmin=0, vmax=1),aspect='auto')\n",
    "plt.ylabel('delta_2')\n",
    "plt.xlabel('delta_3')\n",
    "plt.colorbar();\n",
    "\n",
    "plt.subplot(1,3,2)\n",
    "plt.rcParams['figure.figsize'] = [8, 4]\n",
    "plt.imshow(pop[:,:,1],extent = [min(delta3vals)/1e6,max(delta3vals)/1e6,max(delta2vals)/1e6,min(delta2vals)/1e6],\n",
    "           norm=Norm(vmin=0, vmax=1),aspect='auto')\n",
    "plt.ylabel('delta_2')\n",
    "plt.xlabel('delta_3')\n",
    "plt.colorbar();\n",
    "\n",
    "plt.subplot(1,3,3)\n",
    "plt.rcParams['figure.figsize'] = [8, 4]\n",
    "plt.imshow(pop[:,:,2],extent = [min(delta3vals)/1e6,max(delta3vals)/1e6,max(delta2vals)/1e6,min(delta2vals)/1e6],\n",
    "           norm=Norm(vmin=0, vmax=1),aspect='auto')\n",
    "plt.ylabel('delta_2')\n",
    "plt.xlabel('delta_3')\n",
    "plt.colorbar();"
   ]
  },
  {
   "cell_type": "code",
   "execution_count": null,
   "metadata": {
    "ExecuteTime": {
     "end_time": "2018-08-02T17:05:07.256541Z",
     "start_time": "2018-08-02T17:05:07.138989Z"
    }
   },
   "outputs": [],
   "source": [
    "plt.rcParams['figure.figsize'] = [8, 4]\n",
    "plt.imshow(pop[:,:,0]-pop[:,:,2],extent = [min(delta3vals)/1e6,max(delta3vals)/1e6,max(delta2vals)/1e6,min(delta2vals)/1e6])\n",
    "plt.ylabel('delta_2')\n",
    "plt.xlabel('delta_3')\n",
    "plt.title('rho11-rho33 5dBm in')\n",
    "plt.colorbar();"
   ]
  },
  {
   "cell_type": "code",
   "execution_count": null,
   "metadata": {
    "ExecuteTime": {
     "end_time": "2018-08-02T17:05:07.260164Z",
     "start_time": "2018-08-02T17:05:07.257655Z"
    }
   },
   "outputs": [],
   "source": [
    "p"
   ]
  },
  {
   "cell_type": "markdown",
   "metadata": {
    "ExecuteTime": {
     "end_time": "2018-08-02T03:37:12.537552Z",
     "start_time": "2018-08-02T03:36:21.672Z"
    }
   },
   "source": [
    "### does lowering the temperature work? - this bit still broken\n"
   ]
  },
  {
   "cell_type": "code",
   "execution_count": null,
   "metadata": {
    "ExecuteTime": {
     "end_time": "2018-08-02T17:05:07.266667Z",
     "start_time": "2018-08-02T17:05:07.261208Z"
    }
   },
   "outputs": [],
   "source": [
    "#p['nbath']=20"
   ]
  },
  {
   "cell_type": "code",
   "execution_count": null,
   "metadata": {
    "ExecuteTime": {
     "end_time": "2018-08-02T16:59:15.953147Z",
     "start_time": "2018-08-02T16:59:15.944599Z"
    }
   },
   "outputs": [],
   "source": [
    "# Pmu_vals_dBm = np.arange(-30,11,3) # in dBm\n",
    "\n",
    "# Pmu_vals_W = 1e-3*np.exp(np.log(10)*Pmu_vals_dBm/10) #in W\n",
    "\n",
    "\n",
    "# avals_approx = np.zeros(Pmu_vals_dBm.shape,dtype='complex128')\n",
    "# avals_cold =   np.zeros(Pmu_vals_dBm.shape,dtype='complex128')\n",
    "\n",
    "# for (i,P) in enumerate(Pmu_vals_dBm):\n",
    "#     print(\"%d/%d\"%(i+1,len(Pmu_vals_dBm)),end=\"\")\n",
    "#     omegam_from_Pin(P,p)\n",
    "#     p['df'] = 2e6\n",
    "#     avals_approx[i] = steadya(p)*alpha\n",
    "#     p['df'] = 1e6\n",
    "#     avals_cold[i] = steadya(p)*alpha\n",
    "#     print(\" -- completed\")\n"
   ]
  },
  {
   "cell_type": "code",
   "execution_count": null,
   "metadata": {
    "ExecuteTime": {
     "end_time": "2018-08-02T16:59:15.957441Z",
     "start_time": "2018-08-02T16:59:15.954181Z"
    }
   },
   "outputs": [],
   "source": [
    "# # this is the energy efficiency of the conversion\n",
    "# effic_cold = p['kappaoc']*np.abs(avals_cold**2)*const.h*p['freqo'] /Pmu_vals_W\n",
    "# effic_approx = p['kappaoc']*np.abs(avals_approx**2)*const.h*p['freqo'] /Pmu_vals_W\n",
    "\n",
    "# #quantum efficiency\n",
    "# effic_cold  = effic*p['freqm']/p['freqo']\n",
    "# effic_approx  = effic_approx*p['freqm']/p['freqo']"
   ]
  },
  {
   "cell_type": "code",
   "execution_count": null,
   "metadata": {
    "ExecuteTime": {
     "end_time": "2018-08-02T16:59:15.961594Z",
     "start_time": "2018-08-02T16:59:15.958436Z"
    }
   },
   "outputs": [],
   "source": [
    "# plt.semilogy(Pmu_vals_dBm,effic*1e6,'x-',\n",
    "#          Pmu_vals_dBm,effic_cold*1e6,'o-')#,Pmu_vals_dBm,np.abs(avals_approx)/Pmu_vals_W,'o-')\n",
    "# plt.ylabel('efficiency (ppm)')\n",
    "# plt.xlabel('MW power input (dBm)');\n",
    "# plt.legend(('hotish','cold'))"
   ]
  },
  {
   "cell_type": "markdown",
   "metadata": {},
   "source": [
    "### scratchpad\n"
   ]
  },
  {
   "cell_type": "code",
   "execution_count": null,
   "metadata": {
    "ExecuteTime": {
     "end_time": "2018-08-02T16:59:16.052461Z",
     "start_time": "2018-08-02T16:59:15.962624Z"
    }
   },
   "outputs": [],
   "source": []
  },
  {
   "cell_type": "code",
   "execution_count": null,
   "metadata": {
    "ExecuteTime": {
     "end_time": "2018-08-02T16:59:16.060637Z",
     "start_time": "2018-08-02T16:59:16.053819Z"
    }
   },
   "outputs": [],
   "source": []
  },
  {
   "cell_type": "code",
   "execution_count": null,
   "metadata": {},
   "outputs": [],
   "source": []
  },
  {
   "cell_type": "code",
   "execution_count": null,
   "metadata": {},
   "outputs": [],
   "source": []
  },
  {
   "cell_type": "code",
   "execution_count": null,
   "metadata": {},
   "outputs": [],
   "source": []
  }
 ],
 "metadata": {
  "anaconda-cloud": {},
  "kernelspec": {
   "display_name": "Python 3",
   "language": "python",
   "name": "python3"
  },
  "language_info": {
   "codemirror_mode": {
    "name": "ipython",
    "version": 3
   },
   "file_extension": ".py",
   "mimetype": "text/x-python",
   "name": "python",
   "nbconvert_exporter": "python",
   "pygments_lexer": "ipython3",
   "version": "3.6.5"
  },
  "notify_time": "30",
  "toc": {
   "base_numbering": 1,
   "nav_menu": {},
   "number_sections": true,
   "sideBar": false,
   "skip_h1_title": false,
   "title_cell": "Table of Contents",
   "title_sidebar": "Contents",
   "toc_cell": false,
   "toc_position": {
    "height": "678px",
    "left": "21px",
    "top": "145.133px",
    "width": "371px"
   },
   "toc_section_display": true,
   "toc_window_display": true
  }
 },
 "nbformat": 4,
 "nbformat_minor": 1
}
