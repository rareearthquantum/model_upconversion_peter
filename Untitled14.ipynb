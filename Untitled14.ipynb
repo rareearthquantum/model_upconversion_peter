{
 "cells": [
  {
   "cell_type": "code",
   "execution_count": 1,
   "metadata": {},
   "outputs": [],
   "source": [
    "\n",
    "import sympy as sym\n",
    "sym.init_printing()\n",
    "\n",
    "import numpy as np\n",
    "from math import pi\n",
    "import math\n",
    "import matplotlib.pyplot as plt\n",
    "from sympy import I, Matrix, symbols\n",
    "from sympy.physics.quantum import TensorProduct, Dagger\n",
    "import scipy.optimize\n",
    "import scipy.integrate\n",
    "import scipy.constants as const\n",
    "\n",
    "#import qutip\n",
    "\n",
    "from matplotlib.colors import Normalize as Norm\n"
   ]
  },
  {
   "cell_type": "code",
   "execution_count": 2,
   "metadata": {},
   "outputs": [],
   "source": [
    "deltamacvals=np.linspace(-1e8,1e8,21)\n",
    "deltamvals=np.linspace(-1e8,1e8,11)\n",
    "binval=50#e-6\n",
    "Temp=100e-3\n",
    "p = {}\n",
    "\n",
    "\n",
    "p['deltamu'] = 0.\n",
    "p['deltao'] = 0.\n",
    "\n",
    "\n",
    "p['d13'] = 2e-32*math.sqrt(1/3)\n",
    "p['d12'] = 2e-32*math.sqrt(2/3)\n",
    "p['gamma13'] = p['d13']**2/(p['d13']**2+p['d12']**2)*1/11e-3\n",
    "p['gamma12'] = p['d12']**2/(p['d13']**2+p['d12']**2)*1/11e-3\n",
    "p['gamma2d'] = 1e6\n",
    "p['gamma3d'] = 1e6\n",
    "p['nbath'] = 0.2\n",
    "p['gamma23'] = 1/(p['nbath']+1) * 1e3\n",
    "\n",
    "p['go'] = 51.9  #optical coupling\n",
    "\n",
    "p['No'] = 1.28e15 # number of atoms in the optical mode\n",
    "\n",
    "p['deltac']=0 #detuning for\n",
    "p['kappaoi']=2*pi*7.95e6 # intrinsic loss for optical resonator\n",
    "p['kappaoc']=2*pi*1.7e6 # coupling loss for optical resonator\n",
    "#p['df']=0.1e6 # how small descretisation step to take when integrating over the\n",
    "            # inhomogeneous lines\n",
    "\n",
    "p['mean_delam']=0\n",
    "p['sd_delam']=2*pi*2e6  #microwave inhomogeneous broadening\n",
    "                                #2.355is to turn FWHM into standard deviation\n",
    "p['mean_delao']=0\n",
    "p['sd_delao']=2*pi*1000e6 #optical inhomogeneous broadening\n",
    "\n",
    "p['kappami'] = 650e3*2*pi # intrinsic loss for microwave cavity\n",
    "p['kappamc'] = 70e3*2*pi  # coupling loss for optical cavity\n",
    "                        # this is for one of the two output ports\n",
    "p['Nm'] = 2.22e18  #toal number of atoms\n",
    "p['gm'] = 1.04#*0.01 #coupling between atoms and microwave field\n",
    "\n",
    "p['gammaoc']=2*pi*1.7e6\n",
    "p['gammaoi']=2*pi*7.95e6\n",
    "p['gammamc']=2*pi*0.0622e6\n",
    "p['gammami']=2*pi*5.69e6\n",
    "\n",
    "\n",
    "muBohr=927.4009994e-26; # Bohr magneton in J/T in J* T^-1\n",
    "p['mu12'] = 4.3803*muBohr # transition dipole moment for microwave cavity (J T^-1)\n",
    "\n",
    "p['Lsample']=12e-3 # the length of the sample, in m\n",
    "p['dsample']=5e-3 # the diameter of the sample, in m\n",
    "\n",
    "p['fillfactor']=0.8 #microwave filling factor\n",
    "p['freqmu'] = 5.186e9\n",
    "p['freq_pump'] = 195113.36e9 #pump frequency\n",
    "p['freqo']=p['freqmu']+p['freq_pump']\n",
    "\n",
    "p['Lcavity_vac'] = 49.5e-3 # length of the vacuum part of the optical\n",
    "                           # Fabry Perot (m)\n",
    "p['Wcavity'] =  0.6e-3# width of optical resonator beam in sample (m)\n",
    "p['nYSO'] = 1.76\n",
    "p['Omega']=-326777.05562950054*0.1#*0.001"
   ]
  },
  {
   "cell_type": "code",
   "execution_count": 3,
   "metadata": {},
   "outputs": [
    {
     "data": {
      "text/plain": [
       "{'deltamu': 0.0,\n",
       " 'deltao': 0.0,\n",
       " 'd13': 1.1547005383792515e-32,\n",
       " 'd12': 1.6329931618554522e-32,\n",
       " 'gamma13': 30.303030303030297,\n",
       " 'gamma12': 60.606060606060616,\n",
       " 'gamma2d': 1000000.0,\n",
       " 'gamma3d': 1000000.0,\n",
       " 'nbath': 0.2,\n",
       " 'gamma23': 833.3333333333334,\n",
       " 'go': 51.9,\n",
       " 'No': 1280000000000000.0,\n",
       " 'deltac': 0,\n",
       " 'kappaoi': 49951323.19207771,\n",
       " 'kappaoc': 10681415.022205297,\n",
       " 'mean_delam': 0,\n",
       " 'sd_delam': 12566370.614359172,\n",
       " 'mean_delao': 0,\n",
       " 'sd_delao': 6283185307.179586,\n",
       " 'kappami': 4084070.449666731,\n",
       " 'kappamc': 439822.971502571,\n",
       " 'Nm': 2.22e+18,\n",
       " 'gm': 1.04,\n",
       " 'gammaoc': 10681415.022205297,\n",
       " 'gammaoi': 49951323.19207771,\n",
       " 'gammamc': 390814.12610657024,\n",
       " 'gammami': 35751324.39785185,\n",
       " 'mu12': 4.06229459767182e-23,\n",
       " 'Lsample': 0.012,\n",
       " 'dsample': 0.005,\n",
       " 'fillfactor': 0.8,\n",
       " 'freqmu': 5186000000.0,\n",
       " 'freq_pump': 195113360000000.0,\n",
       " 'freqo': 195118546000000.0,\n",
       " 'Lcavity_vac': 0.0495,\n",
       " 'Wcavity': 0.0006,\n",
       " 'nYSO': 1.76,\n",
       " 'Omega': -32677.705562950054}"
      ]
     },
     "execution_count": 3,
     "metadata": {},
     "output_type": "execute_result"
    }
   ],
   "source": [
    "p"
   ]
  },
  {
   "cell_type": "code",
   "execution_count": 189,
   "metadata": {},
   "outputs": [],
   "source": [
    "ds1=lambda delta,N=p['No']: delta/2+np.sqrt((delta/2)**2+(np.sqrt(N)*p['gm'])**2)\n",
    "ds2=lambda delta,N=p['No']: delta/2-np.sqrt((delta/2)**2+(np.sqrt(N)*p['gm'])**2)\n"
   ]
  },
  {
   "cell_type": "code",
   "execution_count": 190,
   "metadata": {},
   "outputs": [
    {
     "data": {
      "text/plain": [
       "[<matplotlib.lines.Line2D at 0x7f197ea7dfd0>]"
      ]
     },
     "execution_count": 190,
     "metadata": {},
     "output_type": "execute_result"
    },
    {
     "data": {
      "image/png": "[encoded data removed]",
      "text/plain": [
       "<Figure size 432x288 with 1 Axes>"
      ]
     },
     "metadata": {},
     "output_type": "display_data"
    }
   ],
   "source": [
    "Nval=p['No']\n",
    "deltavals=np.linspace(-5e8,5e8,100)\n",
    "plt.plot(ds1(deltavals,Nval),deltavals)\n",
    "plt.plot(ds2(deltavals,Nval),deltavals)"
   ]
  },
  {
   "cell_type": "code",
   "execution_count": 191,
   "metadata": {},
   "outputs": [
    {
     "data": {
      "text/plain": [
       "[<matplotlib.lines.Line2D at 0x7f19c5f199e8>]"
      ]
     },
     "execution_count": 191,
     "metadata": {},
     "output_type": "execute_result"
    },
    {
     "data": {
      "image/png": "[encoded data removed]",
      "text/plain": [
       "<Figure size 432x288 with 1 Axes>"
      ]
     },
     "metadata": {},
     "output_type": "display_data"
    }
   ],
   "source": [
    "plt.plot(deltavals,ds1(deltavals,Nval))\n",
    "plt.plot(deltavals,ds2(deltavals,Nval))"
   ]
  },
  {
   "cell_type": "code",
   "execution_count": 192,
   "metadata": {},
   "outputs": [],
   "source": [
    "t1=np.linspace(20,60,100)\n",
    "t2=np.linspace(65,80,100)\n",
    "t3=np.linspace(80,120,100)\n",
    "tau1=5\n",
    "tau3=10\n",
    "N1=(np.exp(-t1/tau1))*p['No']\n",
    "N2=np.zeros((len(t2)))\n",
    "N3=(1-np.exp(-(t3-t3[0])/tau3))\n"
   ]
  },
  {
   "cell_type": "code",
   "execution_count": 193,
   "metadata": {},
   "outputs": [
    {
     "data": {
      "text/plain": [
       "[<matplotlib.lines.Line2D at 0x7f1980ec6f60>]"
      ]
     },
     "execution_count": 193,
     "metadata": {},
     "output_type": "execute_result"
    },
    {
     "data": {
      "image/png": "[encoded data removed]",
      "text/plain": [
       "<Figure size 432x288 with 1 Axes>"
      ]
     },
     "metadata": {},
     "output_type": "display_data"
    }
   ],
   "source": [
    "plt.plot(t1,N1)\n",
    "plt.plot(t2,N2)\n",
    "plt.plot(t3,N3)"
   ]
  },
  {
   "cell_type": "code",
   "execution_count": 194,
   "metadata": {},
   "outputs": [
    {
     "data": {
      "text/plain": [
       "[<matplotlib.lines.Line2D at 0x7f19c5f9dcc0>]"
      ]
     },
     "execution_count": 194,
     "metadata": {},
     "output_type": "execute_result"
    },
    {
     "data": {
      "image/png": "[encoded data removed]",
      "text/plain": [
       "<Figure size 432x288 with 1 Axes>"
      ]
     },
     "metadata": {},
     "output_type": "display_data"
    }
   ],
   "source": [
    "plt.plot(tt,ds1(0.2002,NN))\n",
    "plt.plot(tt,ds2(0.2002,NN))"
   ]
  },
  {
   "cell_type": "code",
   "execution_count": 202,
   "metadata": {},
   "outputs": [],
   "source": [
    "fc=4733e6 #MHz\n",
    "\n",
    "ds1=lambda B,N=p['No']: (fc+B*24.1886e9)/2+np.sqrt((fc-B*24.1886e9)**2/4+(np.sqrt(N)*p['gm'])**2)\n",
    "ds2=lambda B,N=p['No']: (fc+B*24.1886e9)/2-np.sqrt((fc-B*24.1886e9)**2/4+(np.sqrt(N)*p['gm'])**2)\n"
   ]
  },
  {
   "cell_type": "code",
   "execution_count": 203,
   "metadata": {},
   "outputs": [
    {
     "data": {
      "image/png": "[encoded data removed]",
      "text/latex": [
       "$$1.28$$"
      ],
      "text/plain": [
       "1.28"
      ]
     },
     "execution_count": 203,
     "metadata": {},
     "output_type": "execute_result"
    }
   ],
   "source": [
    "p['No']*1e-15"
   ]
  },
  {
   "cell_type": "code",
   "execution_count": 204,
   "metadata": {},
   "outputs": [
    {
     "data": {
      "text/plain": [
       "[<matplotlib.lines.Line2D at 0x7f19806b2668>]"
      ]
     },
     "execution_count": 204,
     "metadata": {},
     "output_type": "execute_result"
    },
    {
     "data": {
      "image/png": "[encoded data removed]",
      "text/plain": [
       "<Figure size 432x288 with 1 Axes>"
      ]
     },
     "metadata": {},
     "output_type": "display_data"
    }
   ],
   "source": [
    "Bvals=np.linspace(0.17,0.22,100)\n",
    "Nval=p['No']*2\n",
    "plt.plot(ds1(Bvals,Nval),Bvals*24.1886e9)\n",
    "plt.plot(ds2(Bvals,Nval),Bvals*24.1886e9)\n",
    "plt.plot([4.2e9,5.2e9], [0.2002*24.1886e9,0.2002*24.1886e9])"
   ]
  },
  {
   "cell_type": "code",
   "execution_count": 205,
   "metadata": {},
   "outputs": [
    {
     "data": {
      "text/plain": [
       "[<matplotlib.lines.Line2D at 0x7f197f220da0>]"
      ]
     },
     "execution_count": 205,
     "metadata": {},
     "output_type": "execute_result"
    },
    {
     "data": {
      "image/png": "[encoded data removed]",
      "text/plain": [
       "<Figure size 432x288 with 1 Axes>"
      ]
     },
     "metadata": {},
     "output_type": "display_data"
    }
   ],
   "source": [
    "plt.plot(ds1(Bvals,Nval)+ds2(Bvals,Nval),Bvals*24.1886e9)\n"
   ]
  },
  {
   "cell_type": "code",
   "execution_count": 206,
   "metadata": {},
   "outputs": [
    {
     "data": {
      "text/plain": [
       "array([-5.00000000e+08, -4.89898990e+08, -4.79797980e+08, -4.69696970e+08,\n",
       "       -4.59595960e+08, -4.49494949e+08, -4.39393939e+08, -4.29292929e+08,\n",
       "       -4.19191919e+08, -4.09090909e+08, -3.98989899e+08, -3.88888889e+08,\n",
       "       -3.78787879e+08, -3.68686869e+08, -3.58585859e+08, -3.48484848e+08,\n",
       "       -3.38383838e+08, -3.28282828e+08, -3.18181818e+08, -3.08080808e+08,\n",
       "       -2.97979798e+08, -2.87878788e+08, -2.77777778e+08, -2.67676768e+08,\n",
       "       -2.57575758e+08, -2.47474747e+08, -2.37373737e+08, -2.27272727e+08,\n",
       "       -2.17171717e+08, -2.07070707e+08, -1.96969697e+08, -1.86868687e+08,\n",
       "       -1.76767677e+08, -1.66666667e+08, -1.56565657e+08, -1.46464646e+08,\n",
       "       -1.36363636e+08, -1.26262626e+08, -1.16161616e+08, -1.06060606e+08,\n",
       "       -9.59595960e+07, -8.58585859e+07, -7.57575758e+07, -6.56565657e+07,\n",
       "       -5.55555556e+07, -4.54545455e+07, -3.53535354e+07, -2.52525253e+07,\n",
       "       -1.51515152e+07, -5.05050505e+06,  5.05050505e+06,  1.51515152e+07,\n",
       "        2.52525253e+07,  3.53535354e+07,  4.54545455e+07,  5.55555556e+07,\n",
       "        6.56565657e+07,  7.57575758e+07,  8.58585859e+07,  9.59595960e+07,\n",
       "        1.06060606e+08,  1.16161616e+08,  1.26262626e+08,  1.36363636e+08,\n",
       "        1.46464646e+08,  1.56565657e+08,  1.66666667e+08,  1.76767677e+08,\n",
       "        1.86868687e+08,  1.96969697e+08,  2.07070707e+08,  2.17171717e+08,\n",
       "        2.27272727e+08,  2.37373737e+08,  2.47474747e+08,  2.57575758e+08,\n",
       "        2.67676768e+08,  2.77777778e+08,  2.87878788e+08,  2.97979798e+08,\n",
       "        3.08080808e+08,  3.18181818e+08,  3.28282828e+08,  3.38383838e+08,\n",
       "        3.48484848e+08,  3.58585859e+08,  3.68686869e+08,  3.78787879e+08,\n",
       "        3.88888889e+08,  3.98989899e+08,  4.09090909e+08,  4.19191919e+08,\n",
       "        4.29292929e+08,  4.39393939e+08,  4.49494949e+08,  4.59595960e+08,\n",
       "        4.69696970e+08,  4.79797980e+08,  4.89898990e+08,  5.00000000e+08])"
      ]
     },
     "execution_count": 206,
     "metadata": {},
     "output_type": "execute_result"
    }
   ],
   "source": [
    "deltavals"
   ]
  },
  {
   "cell_type": "code",
   "execution_count": 207,
   "metadata": {},
   "outputs": [
    {
     "data": {
      "text/plain": [
       "array([4.11206200e+09, 4.12427846e+09, 4.13649493e+09, 4.14871139e+09,\n",
       "       4.16092786e+09, 4.17314432e+09, 4.18536079e+09, 4.19757725e+09,\n",
       "       4.20979372e+09, 4.22201018e+09, 4.23422665e+09, 4.24644311e+09,\n",
       "       4.25865958e+09, 4.27087604e+09, 4.28309251e+09, 4.29530897e+09,\n",
       "       4.30752543e+09, 4.31974190e+09, 4.33195836e+09, 4.34417483e+09,\n",
       "       4.35639129e+09, 4.36860776e+09, 4.38082422e+09, 4.39304069e+09,\n",
       "       4.40525715e+09, 4.41747362e+09, 4.42969008e+09, 4.44190655e+09,\n",
       "       4.45412301e+09, 4.46633947e+09, 4.47855594e+09, 4.49077240e+09,\n",
       "       4.50298887e+09, 4.51520533e+09, 4.52742180e+09, 4.53963826e+09,\n",
       "       4.55185473e+09, 4.56407119e+09, 4.57628766e+09, 4.58850412e+09,\n",
       "       4.60072059e+09, 4.61293705e+09, 4.62515352e+09, 4.63736998e+09,\n",
       "       4.64958644e+09, 4.66180291e+09, 4.67401937e+09, 4.68623584e+09,\n",
       "       4.69845230e+09, 4.71066877e+09, 4.72288523e+09, 4.73510170e+09,\n",
       "       4.74731816e+09, 4.75953463e+09, 4.77175109e+09, 4.78396756e+09,\n",
       "       4.79618402e+09, 4.80840048e+09, 4.82061695e+09, 4.83283341e+09,\n",
       "       4.84504988e+09, 4.85726634e+09, 4.86948281e+09, 4.88169927e+09,\n",
       "       4.89391574e+09, 4.90613220e+09, 4.91834867e+09, 4.93056513e+09,\n",
       "       4.94278160e+09, 4.95499806e+09, 4.96721453e+09, 4.97943099e+09,\n",
       "       4.99164745e+09, 5.00386392e+09, 5.01608038e+09, 5.02829685e+09,\n",
       "       5.04051331e+09, 5.05272978e+09, 5.06494624e+09, 5.07716271e+09,\n",
       "       5.08937917e+09, 5.10159564e+09, 5.11381210e+09, 5.12602857e+09,\n",
       "       5.13824503e+09, 5.15046149e+09, 5.16267796e+09, 5.17489442e+09,\n",
       "       5.18711089e+09, 5.19932735e+09, 5.21154382e+09, 5.22376028e+09,\n",
       "       5.23597675e+09, 5.24819321e+09, 5.26040968e+09, 5.27262614e+09,\n",
       "       5.28484261e+09, 5.29705907e+09, 5.30927554e+09, 5.32149200e+09])"
      ]
     },
     "execution_count": 207,
     "metadata": {},
     "output_type": "execute_result"
    }
   ],
   "source": [
    "Bvals*24.1886e9"
   ]
  },
  {
   "cell_type": "code",
   "execution_count": 208,
   "metadata": {},
   "outputs": [],
   "source": [
    "A,B, C,F = sym.symbols('A B C F', positive=True)\n",
    "D=sym.symbols('D', real=True)\n",
    "\n",
    "Amat=Matrix([[-A,1,0],[-B,C,D],[0,-D,C]])\n",
    "bvec=Matrix([F,B/2,0])"
   ]
  },
  {
   "cell_type": "code",
   "execution_count": 209,
   "metadata": {},
   "outputs": [
    {
     "data": {
      "text/latex": [
       "$$\\left ( \\left[\\begin{matrix}- A & 1 & 0\\\\- B & C & D\\\\0 & - D & C\\end{matrix}\\right], \\quad \\left[\\begin{matrix}F\\\\\\frac{B}{2}\\\\0\\end{matrix}\\right]\\right )$$"
      ],
      "text/plain": [
       "⎛             ⎡F⎤⎞\n",
       "⎜⎡-A  1   0⎤  ⎢ ⎥⎟\n",
       "⎜⎢         ⎥  ⎢B⎥⎟\n",
       "⎜⎢-B  C   D⎥, ⎢─⎥⎟\n",
       "⎜⎢         ⎥  ⎢2⎥⎟\n",
       "⎜⎣0   -D  C⎦  ⎢ ⎥⎟\n",
       "⎝             ⎣0⎦⎠"
      ]
     },
     "execution_count": 209,
     "metadata": {},
     "output_type": "execute_result"
    }
   ],
   "source": [
    "Amat, bvec"
   ]
  },
  {
   "cell_type": "code",
   "execution_count": 210,
   "metadata": {},
   "outputs": [],
   "source": [
    "M=sym.simplify(Amat.eigenvects())"
   ]
  },
  {
   "cell_type": "code",
   "execution_count": 141,
   "metadata": {},
   "outputs": [
    {
     "data": {
      "text/latex": [
       "$$\\left[\\begin{matrix}- \\frac{C^{2} + D^{2}}{A C^{2} + A D^{2} - B C} & \\frac{C}{A D^{2} + C \\left(A C - B\\right)} & - \\frac{D}{A D^{2} + C \\left(A C - B\\right)}\\\\- \\frac{B C}{A D^{2} + C \\left(A C - B\\right)} & \\frac{A C}{A C^{2} + A D^{2} - B C} & - \\frac{A D}{A D^{2} + C \\left(A C - B\\right)}\\\\- \\frac{B D}{A D^{2} + C \\left(A C - B\\right)} & \\frac{A D}{A D^{2} + C \\left(A C - B\\right)} & \\frac{A C - B}{A D^{2} + C \\left(A C - B\\right)}\\end{matrix}\\right]$$"
      ],
      "text/plain": [
       "⎡    ⎛ 2    2⎞                                             ⎤\n",
       "⎢   -⎝C  + D ⎠               C                  -D         ⎥\n",
       "⎢─────────────────   ──────────────────  ──────────────────⎥\n",
       "⎢   2      2            2                   2              ⎥\n",
       "⎢A⋅C  + A⋅D  - B⋅C   A⋅D  + C⋅(A⋅C - B)  A⋅D  + C⋅(A⋅C - B)⎥\n",
       "⎢                                                          ⎥\n",
       "⎢      -B⋅C                 A⋅C                -A⋅D        ⎥\n",
       "⎢──────────────────  ─────────────────   ──────────────────⎥\n",
       "⎢   2                   2      2            2              ⎥\n",
       "⎢A⋅D  + C⋅(A⋅C - B)  A⋅C  + A⋅D  - B⋅C   A⋅D  + C⋅(A⋅C - B)⎥\n",
       "⎢                                                          ⎥\n",
       "⎢      -B⋅D                 A⋅D               A⋅C - B      ⎥\n",
       "⎢──────────────────  ──────────────────  ──────────────────⎥\n",
       "⎢   2                   2                   2              ⎥\n",
       "⎣A⋅D  + C⋅(A⋅C - B)  A⋅D  + C⋅(A⋅C - B)  A⋅D  + C⋅(A⋅C - B)⎦"
      ]
     },
     "execution_count": 141,
     "metadata": {},
     "output_type": "execute_result"
    }
   ],
   "source": [
    "Ainv=Amat.inv()\n",
    "sym.simplify(Ainv)"
   ]
  },
  {
   "cell_type": "code",
   "execution_count": 140,
   "metadata": {},
   "outputs": [
    {
     "data": {
      "text/latex": [
       "$$\\left[\\begin{matrix}\\frac{\\frac{B C}{2} - C^{2} F - D^{2} F}{A C^{2} + A D^{2} - B C}\\\\\\frac{B C \\left(A - 2 F\\right)}{2 \\left(A D^{2} + C \\left(A C - B\\right)\\right)}\\\\\\frac{B D \\left(A - 2 F\\right)}{2 \\left(A D^{2} + C \\left(A C - B\\right)\\right)}\\end{matrix}\\right]$$"
      ],
      "text/plain": [
       "⎡  B⋅C    2      2     ⎤\n",
       "⎢  ─── - C ⋅F - D ⋅F   ⎥\n",
       "⎢   2                  ⎥\n",
       "⎢  ─────────────────   ⎥\n",
       "⎢     2      2         ⎥\n",
       "⎢  A⋅C  + A⋅D  - B⋅C   ⎥\n",
       "⎢                      ⎥\n",
       "⎢    B⋅C⋅(A - 2⋅F)     ⎥\n",
       "⎢──────────────────────⎥\n",
       "⎢  ⎛   2              ⎞⎥\n",
       "⎢2⋅⎝A⋅D  + C⋅(A⋅C - B)⎠⎥\n",
       "⎢                      ⎥\n",
       "⎢    B⋅D⋅(A - 2⋅F)     ⎥\n",
       "⎢──────────────────────⎥\n",
       "⎢  ⎛   2              ⎞⎥\n",
       "⎣2⋅⎝A⋅D  + C⋅(A⋅C - B)⎠⎦"
      ]
     },
     "execution_count": 140,
     "metadata": {},
     "output_type": "execute_result"
    }
   ],
   "source": [
    "sym.simplify(Ainv*bvec)"
   ]
  },
  {
   "cell_type": "code",
   "execution_count": 152,
   "metadata": {},
   "outputs": [
    {
     "data": {
      "image/png": "[encoded data removed]",
      "text/latex": [
       "$$\\left [ - \\frac{A}{3} + \\frac{2 C}{3} - \\frac{6 A C - 3 B - 3 C^{2} - 3 D^{2} + \\left(A - 2 C\\right)^{2}}{3 \\sqrt[3]{\\frac{27 A}{2} C^{2} + \\frac{27 A}{2} D^{2} - \\frac{27 B}{2} C + \\left(A - 2 C\\right)^{3} - \\frac{1}{2} \\left(9 A - 18 C\\right) \\left(- 2 A C + B + C^{2} + D^{2}\\right) + \\frac{1}{2} \\sqrt{- 4 \\left(6 A C - 3 B - 3 C^{2} - 3 D^{2} + \\left(A - 2 C\\right)^{2}\\right)^{3} + \\left(27 A C^{2} + 27 A D^{2} - 27 B C + 2 \\left(A - 2 C\\right)^{3} - \\left(9 A - 18 C\\right) \\left(- 2 A C + B + C^{2} + D^{2}\\right)\\right)^{2}}}} - \\frac{1}{3} \\sqrt[3]{\\frac{27 A}{2} C^{2} + \\frac{27 A}{2} D^{2} - \\frac{27 B}{2} C + \\left(A - 2 C\\right)^{3} - \\frac{1}{2} \\left(9 A - 18 C\\right) \\left(- 2 A C + B + C^{2} + D^{2}\\right) + \\frac{1}{2} \\sqrt{- 4 \\left(6 A C - 3 B - 3 C^{2} - 3 D^{2} + \\left(A - 2 C\\right)^{2}\\right)^{3} + \\left(27 A C^{2} + 27 A D^{2} - 27 B C + 2 \\left(A - 2 C\\right)^{3} - \\left(9 A - 18 C\\right) \\left(- 2 A C + B + C^{2} + D^{2}\\right)\\right)^{2}}}, \\quad - \\frac{A}{3} + \\frac{2 C}{3} - \\frac{6 A C - 3 B - 3 C^{2} - 3 D^{2} + \\left(A - 2 C\\right)^{2}}{3 \\left(- \\frac{1}{2} + \\frac{\\sqrt{3} i}{2}\\right) \\sqrt[3]{\\frac{27 A}{2} C^{2} + \\frac{27 A}{2} D^{2} - \\frac{27 B}{2} C + \\left(A - 2 C\\right)^{3} - \\frac{1}{2} \\left(9 A - 18 C\\right) \\left(- 2 A C + B + C^{2} + D^{2}\\right) + \\frac{1}{2} \\sqrt{- 4 \\left(6 A C - 3 B - 3 C^{2} - 3 D^{2} + \\left(A - 2 C\\right)^{2}\\right)^{3} + \\left(27 A C^{2} + 27 A D^{2} - 27 B C + 2 \\left(A - 2 C\\right)^{3} - \\left(9 A - 18 C\\right) \\left(- 2 A C + B + C^{2} + D^{2}\\right)\\right)^{2}}}} - \\frac{1}{3} \\left(- \\frac{1}{2} + \\frac{\\sqrt{3} i}{2}\\right) \\sqrt[3]{\\frac{27 A}{2} C^{2} + \\frac{27 A}{2} D^{2} - \\frac{27 B}{2} C + \\left(A - 2 C\\right)^{3} - \\frac{1}{2} \\left(9 A - 18 C\\right) \\left(- 2 A C + B + C^{2} + D^{2}\\right) + \\frac{1}{2} \\sqrt{- 4 \\left(6 A C - 3 B - 3 C^{2} - 3 D^{2} + \\left(A - 2 C\\right)^{2}\\right)^{3} + \\left(27 A C^{2} + 27 A D^{2} - 27 B C + 2 \\left(A - 2 C\\right)^{3} - \\left(9 A - 18 C\\right) \\left(- 2 A C + B + C^{2} + D^{2}\\right)\\right)^{2}}}, \\quad - \\frac{A}{3} + \\frac{2 C}{3} - \\frac{6 A C - 3 B - 3 C^{2} - 3 D^{2} + \\left(A - 2 C\\right)^{2}}{3 \\left(- \\frac{1}{2} - \\frac{\\sqrt{3} i}{2}\\right) \\sqrt[3]{\\frac{27 A}{2} C^{2} + \\frac{27 A}{2} D^{2} - \\frac{27 B}{2} C + \\left(A - 2 C\\right)^{3} - \\frac{1}{2} \\left(9 A - 18 C\\right) \\left(- 2 A C + B + C^{2} + D^{2}\\right) + \\frac{1}{2} \\sqrt{- 4 \\left(6 A C - 3 B - 3 C^{2} - 3 D^{2} + \\left(A - 2 C\\right)^{2}\\right)^{3} + \\left(27 A C^{2} + 27 A D^{2} - 27 B C + 2 \\left(A - 2 C\\right)^{3} - \\left(9 A - 18 C\\right) \\left(- 2 A C + B + C^{2} + D^{2}\\right)\\right)^{2}}}} - \\frac{1}{3} \\left(- \\frac{1}{2} - \\frac{\\sqrt{3} i}{2}\\right) \\sqrt[3]{\\frac{27 A}{2} C^{2} + \\frac{27 A}{2} D^{2} - \\frac{27 B}{2} C + \\left(A - 2 C\\right)^{3} - \\frac{1}{2} \\left(9 A - 18 C\\right) \\left(- 2 A C + B + C^{2} + D^{2}\\right) + \\frac{1}{2} \\sqrt{- 4 \\left(6 A C - 3 B - 3 C^{2} - 3 D^{2} + \\left(A - 2 C\\right)^{2}\\right)^{3} + \\left(27 A C^{2} + 27 A D^{2} - 27 B C + 2 \\left(A - 2 C\\right)^{3} - \\left(9 A - 18 C\\right) \\left(- 2 A C + B + C^{2} + D^{2}\\right)\\right)^{2}}}\\right ]$$"
      ],
      "text/plain": [
       "⎡                                                                             \n",
       "⎢                                                                             \n",
       "⎢                                                                             \n",
       "⎢                                                                             \n",
       "⎢                                                                             \n",
       "⎢                                                                             \n",
       "⎢  A   2⋅C                                                                    \n",
       "⎢- ─ + ─── - ─────────────────────────────────────────────────────────────────\n",
       "⎢  3    3             ________________________________________________________\n",
       "⎢                    ╱                                                        \n",
       "⎢                   ╱                                                         \n",
       "⎢                  ╱         2         2                                      \n",
       "⎢                 ╱    27⋅A⋅C    27⋅A⋅D    27⋅B⋅C            3   (9⋅A - 18⋅C)⋅\n",
       "⎢            3⋅3 ╱     ─────── + ─────── - ────── + (A - 2⋅C)  - ─────────────\n",
       "⎣              ╲╱         2         2        2                                \n",
       "\n",
       "                                                                              \n",
       "                                                                              \n",
       "                                                                              \n",
       "                                                                              \n",
       "                                                                              \n",
       "                                               2      2            2          \n",
       "                              6⋅A⋅C - 3⋅B - 3⋅C  - 3⋅D  + (A - 2⋅C)           \n",
       "──────────────────────────────────────────────────────────────────────────────\n",
       "______________________________________________________________________________\n",
       "                             _________________________________________________\n",
       "                            ╱                                             3   \n",
       "⎛              2    2⎞     ╱      ⎛                 2      2            2⎞    \n",
       "⎝-2⋅A⋅C + B + C  + D ⎠   ╲╱   - 4⋅⎝6⋅A⋅C - 3⋅B - 3⋅C  - 3⋅D  + (A - 2⋅C) ⎠  + \n",
       "────────────────────── + ─────────────────────────────────────────────────────\n",
       "    2                                                                         \n",
       "\n",
       "                                                                              \n",
       "                                                                              \n",
       "                                                                              \n",
       "                                                                              \n",
       "                                                                              \n",
       "                                                                              \n",
       "                                                                              \n",
       "──────────────────────────────────────────────────────────────────────────────\n",
       "______________________________________________________________________________\n",
       "______________________________________________________________________________\n",
       "                                                                              \n",
       "⎛      2         2                       3                ⎛              2    \n",
       "⎝27⋅A⋅C  + 27⋅A⋅D  - 27⋅B⋅C + 2⋅(A - 2⋅C)  - (9⋅A - 18⋅C)⋅⎝-2⋅A⋅C + B + C  + D\n",
       "──────────────────────────────────────────────────────────────────────────────\n",
       "              2                                                               \n",
       "\n",
       "                ______________________________________________________________\n",
       "               ╱                                                              \n",
       "              ╱                                                               \n",
       "             ╱         2         2                                      ⎛     \n",
       "            ╱    27⋅A⋅C    27⋅A⋅D    27⋅B⋅C            3   (9⋅A - 18⋅C)⋅⎝-2⋅A⋅\n",
       "         3 ╱     ─────── + ─────── - ────── + (A - 2⋅C)  - ───────────────────\n",
       "         ╲╱         2         2        2                                    2 \n",
       "────── - ─────────────────────────────────────────────────────────────────────\n",
       "______                                                                        \n",
       "_____                                                                         \n",
       "   2                                                                          \n",
       "2⎞⎞                                                                           \n",
       " ⎠⎠                                                                           \n",
       "─────                                                                         \n",
       "                                                                              \n",
       "\n",
       "______________________________________________________________________________\n",
       "                       _______________________________________________________\n",
       "                      ╱                                             3         \n",
       "         2    2⎞     ╱      ⎛                 2      2            2⎞    ⎛     \n",
       "C + B + C  + D ⎠   ╲╱   - 4⋅⎝6⋅A⋅C - 3⋅B - 3⋅C  - 3⋅D  + (A - 2⋅C) ⎠  + ⎝27⋅A⋅\n",
       "──────────────── + ───────────────────────────────────────────────────────────\n",
       "                                                                              \n",
       "──────────────────────────────────────────────────────────────────────────────\n",
       "                                           3                                  \n",
       "                                                                              \n",
       "                                                                              \n",
       "                                                                              \n",
       "                                                                              \n",
       "                                                                              \n",
       "                                                                              \n",
       "\n",
       "______________________________________________________________________________\n",
       "_____________________________________________________________________________ \n",
       "                                                                           2  \n",
       " 2         2                       3                ⎛              2    2⎞⎞   \n",
       "C  + 27⋅A⋅D  - 27⋅B⋅C + 2⋅(A - 2⋅C)  - (9⋅A - 18⋅C)⋅⎝-2⋅A⋅C + B + C  + D ⎠⎠   \n",
       "───────────────────────────────────────────────────────────────────────────── \n",
       "        2                                                                     \n",
       "──────────────────────────────────────────────────────────────────────────────\n",
       "                                                                              \n",
       "                                                                              \n",
       "                                                                              \n",
       "                                                                              \n",
       "                                                                              \n",
       "                                                                              \n",
       "                                                                              \n",
       "\n",
       "                                                                              \n",
       "                                                                              \n",
       "                                                                              \n",
       "                                                                              \n",
       "                                                                              \n",
       "                                                                              \n",
       "    A   2⋅C                                                                   \n",
       ", - ─ + ─── - ────────────────────────────────────────────────────────────────\n",
       "    3    3                          __________________________________________\n",
       "                                   ╱                                          \n",
       "                                  ╱                                           \n",
       "                                 ╱         2         2                        \n",
       "                ⎛  1   √3⋅ⅈ⎞    ╱    27⋅A⋅C    27⋅A⋅D    27⋅B⋅C            3  \n",
       "              3⋅⎜- ─ + ────⎟⋅3 ╱     ─────── + ─────── - ────── + (A - 2⋅C)  -\n",
       "                ⎝  2    2  ⎠ ╲╱         2         2        2                  \n",
       "\n",
       "                                                                              \n",
       "                                                                              \n",
       "                                                                              \n",
       "                                                                              \n",
       "                                                                              \n",
       "                                                      2      2            2   \n",
       "                                     6⋅A⋅C - 3⋅B - 3⋅C  - 3⋅D  + (A - 2⋅C)    \n",
       "──────────────────────────────────────────────────────────────────────────────\n",
       "______________________________________________________________________________\n",
       "                                           ___________________________________\n",
       "                                          ╱                                   \n",
       "              ⎛              2    2⎞     ╱      ⎛                 2      2    \n",
       " (9⋅A - 18⋅C)⋅⎝-2⋅A⋅C + B + C  + D ⎠   ╲╱   - 4⋅⎝6⋅A⋅C - 3⋅B - 3⋅C  - 3⋅D  + (\n",
       " ─────────────────────────────────── + ───────────────────────────────────────\n",
       "                  2                                                           \n",
       "\n",
       "                                                                              \n",
       "                                                                              \n",
       "                                                                              \n",
       "                                                                              \n",
       "                                                                              \n",
       "                                                                              \n",
       "                                                                              \n",
       "──────────────────────────────────────────────────────────────────────────────\n",
       "______________________________________________________________________________\n",
       "______________________________________________________________________________\n",
       "          3                                                                   \n",
       "        2⎞    ⎛      2         2                       3                ⎛     \n",
       "A - 2⋅C) ⎠  + ⎝27⋅A⋅C  + 27⋅A⋅D  - 27⋅B⋅C + 2⋅(A - 2⋅C)  - (9⋅A - 18⋅C)⋅⎝-2⋅A⋅\n",
       "──────────────────────────────────────────────────────────────────────────────\n",
       "                            2                                                 \n",
       "\n",
       "                                           ___________________________________\n",
       "                                          ╱                                   \n",
       "                                         ╱                                    \n",
       "                                        ╱         2         2                 \n",
       "                       ⎛  1   √3⋅ⅈ⎞    ╱    27⋅A⋅C    27⋅A⋅D    27⋅B⋅C        \n",
       "                       ⎜- ─ + ────⎟⋅3 ╱     ─────── + ─────── - ────── + (A - \n",
       "                       ⎝  2    2  ⎠ ╲╱         2         2        2           \n",
       "──────────────────── - ───────────────────────────────────────────────────────\n",
       "____________________                                                          \n",
       "___________________                                                           \n",
       "                 2                                                            \n",
       "         2    2⎞⎞                                                             \n",
       "C + B + C  + D ⎠⎠                                                             \n",
       "───────────────────                                                           \n",
       "                                                                              \n",
       "\n",
       "______________________________________________________________________________\n",
       "                                                  ____________________________\n",
       "                                                 ╱                            \n",
       "                     ⎛              2    2⎞     ╱      ⎛                 2    \n",
       "    3   (9⋅A - 18⋅C)⋅⎝-2⋅A⋅C + B + C  + D ⎠   ╲╱   - 4⋅⎝6⋅A⋅C - 3⋅B - 3⋅C  - 3\n",
       "2⋅C)  - ─────────────────────────────────── + ────────────────────────────────\n",
       "                         2                                                    \n",
       "──────────────────────────────────────────────────────────────────────────────\n",
       "                                                               3              \n",
       "                                                                              \n",
       "                                                                              \n",
       "                                                                              \n",
       "                                                                              \n",
       "                                                                              \n",
       "                                                                              \n",
       "\n",
       "______________________________________________________________________________\n",
       "______________________________________________________________________________\n",
       "                 3                                                            \n",
       "  2            2⎞    ⎛      2         2                       3               \n",
       "⋅D  + (A - 2⋅C) ⎠  + ⎝27⋅A⋅C  + 27⋅A⋅D  - 27⋅B⋅C + 2⋅(A - 2⋅C)  - (9⋅A - 18⋅C)\n",
       "──────────────────────────────────────────────────────────────────────────────\n",
       "                                   2                                          \n",
       "──────────────────────────────────────────────────────────────────────────────\n",
       "                                                                              \n",
       "                                                                              \n",
       "                                                                              \n",
       "                                                                              \n",
       "                                                                              \n",
       "                                                                              \n",
       "                                                                              \n",
       "\n",
       "___________________________                                                   \n",
       "__________________________                                                    \n",
       "                        2                                                     \n",
       " ⎛              2    2⎞⎞                                                      \n",
       "⋅⎝-2⋅A⋅C + B + C  + D ⎠⎠                                                      \n",
       "──────────────────────────                                                    \n",
       "                               A   2⋅C                                        \n",
       "───────────────────────────, - ─ + ─── - ─────────────────────────────────────\n",
       "                               3    3                          _______________\n",
       "                                                              ╱               \n",
       "                                                             ╱                \n",
       "                                                            ╱         2       \n",
       "                                           ⎛  1   √3⋅ⅈ⎞    ╱    27⋅A⋅C    27⋅A\n",
       "                                         3⋅⎜- ─ - ────⎟⋅3 ╱     ─────── + ────\n",
       "                                           ⎝  2    2  ⎠ ╲╱         2         2\n",
       "\n",
       "                                                                              \n",
       "                                                                              \n",
       "                                                                              \n",
       "                                                                              \n",
       "                                                                              \n",
       "                                                                              \n",
       "                                                                6⋅A⋅C - 3⋅B - \n",
       "──────────────────────────────────────────────────────────────────────────────\n",
       "______________________________________________________________________________\n",
       "                                                                      ________\n",
       "                                                                     ╱        \n",
       "  2                                      ⎛              2    2⎞     ╱      ⎛  \n",
       "⋅D    27⋅B⋅C            3   (9⋅A - 18⋅C)⋅⎝-2⋅A⋅C + B + C  + D ⎠   ╲╱   - 4⋅⎝6⋅\n",
       "─── - ────── + (A - 2⋅C)  - ─────────────────────────────────── + ────────────\n",
       "        2                                    2                                \n",
       "\n",
       "                                                                              \n",
       "                                                                              \n",
       "                                                                              \n",
       "                                                                              \n",
       "                                                                              \n",
       "   2      2            2                                                      \n",
       "3⋅C  - 3⋅D  + (A - 2⋅C)                                                       \n",
       "──────────────────────────────────────────────────────────────────────────────\n",
       "______________________________________________________________________________\n",
       "______________________________________________________________________________\n",
       "                                     3                                        \n",
       "               2      2            2⎞    ⎛      2         2                   \n",
       "A⋅C - 3⋅B - 3⋅C  - 3⋅D  + (A - 2⋅C) ⎠  + ⎝27⋅A⋅C  + 27⋅A⋅D  - 27⋅B⋅C + 2⋅(A - \n",
       "──────────────────────────────────────────────────────────────────────────────\n",
       "                                                       2                      \n",
       "\n",
       "                                                                      ________\n",
       "                                                                     ╱        \n",
       "                                                                    ╱         \n",
       "                                                                   ╱         2\n",
       "                                                  ⎛  1   √3⋅ⅈ⎞    ╱    27⋅A⋅C \n",
       "                                                  ⎜- ─ - ────⎟⋅3 ╱     ───────\n",
       "                                                  ⎝  2    2  ⎠ ╲╱         2   \n",
       "─────────────────────────────────────────────── - ────────────────────────────\n",
       "_______________________________________________                               \n",
       "______________________________________________                                \n",
       "                                            2                                 \n",
       "    3                ⎛              2    2⎞⎞                                  \n",
       "2⋅C)  - (9⋅A - 18⋅C)⋅⎝-2⋅A⋅C + B + C  + D ⎠⎠                                  \n",
       "──────────────────────────────────────────────                                \n",
       "                                                                              \n",
       "\n",
       "______________________________________________________________________________\n",
       "                                                                             _\n",
       "                                                                            ╱ \n",
       "         2                                      ⎛              2    2⎞     ╱  \n",
       "   27⋅A⋅D    27⋅B⋅C            3   (9⋅A - 18⋅C)⋅⎝-2⋅A⋅C + B + C  + D ⎠   ╲╱   \n",
       " + ─────── - ────── + (A - 2⋅C)  - ─────────────────────────────────── + ─────\n",
       "      2        2                                    2                         \n",
       "──────────────────────────────────────────────────────────────────────────────\n",
       "                                                                              \n",
       "                                                                              \n",
       "                                                                              \n",
       "                                                                              \n",
       "                                                                              \n",
       "                                                                              \n",
       "                                                                              \n",
       "\n",
       "______________________________________________________________________________\n",
       "______________________________________________________________________________\n",
       "                                            3                                 \n",
       "    ⎛                 2      2            2⎞    ⎛      2         2            \n",
       "- 4⋅⎝6⋅A⋅C - 3⋅B - 3⋅C  - 3⋅D  + (A - 2⋅C) ⎠  + ⎝27⋅A⋅C  + 27⋅A⋅D  - 27⋅B⋅C + \n",
       "──────────────────────────────────────────────────────────────────────────────\n",
       "                                                              2               \n",
       "──────────────────────────────────────────────────────────────────────────────\n",
       "            3                                                                 \n",
       "                                                                              \n",
       "                                                                              \n",
       "                                                                              \n",
       "                                                                              \n",
       "                                                                              \n",
       "                                                                              \n",
       "\n",
       "______________________________________________________⎤\n",
       "_____________________________________________________ ⎥\n",
       "                                                   2  ⎥\n",
       "           3                ⎛              2    2⎞⎞   ⎥\n",
       "2⋅(A - 2⋅C)  - (9⋅A - 18⋅C)⋅⎝-2⋅A⋅C + B + C  + D ⎠⎠   ⎥\n",
       "───────────────────────────────────────────────────── ⎥\n",
       "                                                      ⎥\n",
       "──────────────────────────────────────────────────────⎥\n",
       "                                                      ⎥\n",
       "                                                      ⎥\n",
       "                                                      ⎥\n",
       "                                                      ⎥\n",
       "                                                      ⎥\n",
       "                                                      ⎥\n",
       "                                                      ⎦"
      ]
     },
     "execution_count": 152,
     "metadata": {},
     "output_type": "execute_result"
    }
   ],
   "source": [
    "sym.simplify(list(Amat.eigenvals().keys()))"
   ]
  },
  {
   "cell_type": "code",
   "execution_count": 165,
   "metadata": {},
   "outputs": [],
   "source": [
    "r22,Bi,Br=sym.symbols('rho_22 beta_i beta_r',real=True,cls=sym.Function)\n",
    "t=sym.symbols('t')"
   ]
  },
  {
   "cell_type": "code",
   "execution_count": 169,
   "metadata": {},
   "outputs": [
    {
     "data": {
      "text/latex": [
       "$$\\left ( \\left[\\begin{matrix}- A & 1 & 0\\\\- B & C & D\\\\0 & - D & C\\end{matrix}\\right], \\quad \\left[\\begin{matrix}F\\\\\\frac{B}{2}\\\\0\\end{matrix}\\right]\\right )$$"
      ],
      "text/plain": [
       "⎛             ⎡F⎤⎞\n",
       "⎜⎡-A  1   0⎤  ⎢ ⎥⎟\n",
       "⎜⎢         ⎥  ⎢B⎥⎟\n",
       "⎜⎢-B  C   D⎥, ⎢─⎥⎟\n",
       "⎜⎢         ⎥  ⎢2⎥⎟\n",
       "⎜⎣0   -D  C⎦  ⎢ ⎥⎟\n",
       "⎝             ⎣0⎦⎠"
      ]
     },
     "execution_count": 169,
     "metadata": {},
     "output_type": "execute_result"
    }
   ],
   "source": [
    "Amat, bvec"
   ]
  },
  {
   "cell_type": "code",
   "execution_count": 166,
   "metadata": {},
   "outputs": [
    {
     "data": {
      "text/plain": [
       "(rho_22, beta_i, beta_r)"
      ]
     },
     "execution_count": 166,
     "metadata": {},
     "output_type": "execute_result"
    }
   ],
   "source": [
    "r22,Bi,Br"
   ]
  },
  {
   "cell_type": "code",
   "execution_count": 184,
   "metadata": {},
   "outputs": [],
   "source": [
    "eq_rho22=sym.Eq(sym.Derivative(r22(t),t),-A*r22(t)+Bi(t))#+F)\n",
    "eq_bi=sym.Eq(sym.Derivative(Bi(t),t),-B*r22(t)+C*Bi(t)+D*Br(t))#+B/2)\n",
    "eq_br=sym.Eq(sym.Derivative(Br(t),t),-D*Bi(t)+C*Br(t))"
   ]
  },
  {
   "cell_type": "code",
   "execution_count": 185,
   "metadata": {},
   "outputs": [
    {
     "data": {
      "image/png": "[encoded data removed]",
      "text/latex": [
       "$$\\left ( \\frac{d}{d t} \\rho_{22}{\\left (t \\right )} = - A \\rho_{22}{\\left (t \\right )} + \\beta_{i}{\\left (t \\right )}, \\quad \\frac{d}{d t} \\beta_{i}{\\left (t \\right )} = - B \\rho_{22}{\\left (t \\right )} + C \\beta_{i}{\\left (t \\right )} + D \\beta_{r}{\\left (t \\right )}, \\quad \\frac{d}{d t} \\beta_{r}{\\left (t \\right )} = C \\beta_{r}{\\left (t \\right )} - D \\beta_{i}{\\left (t \\right )}\\right )$$"
      ],
      "text/plain": [
       "⎛d                               d                                          d \n",
       "⎜──(ρ₂₂(t)) = -A⋅ρ₂₂(t) + βᵢ(t), ──(βᵢ(t)) = -B⋅ρ₂₂(t) + C⋅βᵢ(t) + D⋅βᵣ(t), ──\n",
       "⎝dt                              dt                                         dt\n",
       "\n",
       "                           ⎞\n",
       "(βᵣ(t)) = C⋅βᵣ(t) - D⋅βᵢ(t)⎟\n",
       "                           ⎠"
      ]
     },
     "execution_count": 185,
     "metadata": {},
     "output_type": "execute_result"
    }
   ],
   "source": [
    "eq=(eq_rho22, eq_bi,eq_br)\n",
    "eq"
   ]
  },
  {
   "cell_type": "code",
   "execution_count": 215,
   "metadata": {},
   "outputs": [],
   "source": [
    "gammamu, nbath,Omegamu, gamma2d=sym.symbols('gamma_mu n_b Omega_mu gamma_2d',positive=True)\n",
    "deltaamu, deltamu = sym.symbols('delta_a_mu delta_mu', real=True)"
   ]
  },
  {
   "cell_type": "code",
   "execution_count": 216,
   "metadata": {},
   "outputs": [],
   "source": [
    "subs_dict={A:gammamu*(2*nbath+1),B:2*Omegamu**2,C:-gamma2d/2-gammamu/2*(2*nbath+1),D:deltaamu-deltamu}"
   ]
  },
  {
   "cell_type": "code",
   "execution_count": 218,
   "metadata": {},
   "outputs": [],
   "source": [
    "Amat_full=Amat.subs(subs_dict)"
   ]
  },
  {
   "cell_type": "code",
   "execution_count": 219,
   "metadata": {},
   "outputs": [
    {
     "data": {
      "text/latex": [
       "$$\\left[\\begin{matrix}- \\gamma_{\\mu} \\left(2 n_{b} + 1\\right) & 1 & 0\\\\- 2 \\Omega_{\\mu}^{2} & - \\frac{\\gamma_{2d}}{2} - \\frac{\\gamma_{\\mu}}{2} \\left(2 n_{b} + 1\\right) & \\delta_{a \\mu} - \\delta_{\\mu}\\\\0 & - \\delta_{a \\mu} + \\delta_{\\mu} & - \\frac{\\gamma_{2d}}{2} - \\frac{\\gamma_{\\mu}}{2} \\left(2 n_{b} + 1\\right)\\end{matrix}\\right]$$"
      ],
      "text/plain": [
       "⎡-γₘᵤ⋅(2⋅n_b + 1)             1                         0            ⎤\n",
       "⎢                                                                    ⎥\n",
       "⎢          2         γ_2d   γₘᵤ⋅(2⋅n_b + 1)                          ⎥\n",
       "⎢    -2⋅Ωₘᵤ        - ──── - ───────────────        δₐ ₘᵤ - δₘᵤ       ⎥\n",
       "⎢                     2            2                                 ⎥\n",
       "⎢                                                                    ⎥\n",
       "⎢                                              γ_2d   γₘᵤ⋅(2⋅n_b + 1)⎥\n",
       "⎢       0                -δₐ ₘᵤ + δₘᵤ        - ──── - ───────────────⎥\n",
       "⎣                                               2            2       ⎦"
      ]
     },
     "execution_count": 219,
     "metadata": {},
     "output_type": "execute_result"
    }
   ],
   "source": [
    "Amat_full"
   ]
  },
  {
   "cell_type": "code",
   "execution_count": null,
   "metadata": {},
   "outputs": [],
   "source": [
    "Amat_full.eigenvects()"
   ]
  },
  {
   "cell_type": "code",
   "execution_count": 3,
   "metadata": {},
   "outputs": [],
   "source": [
    "import numpy as np\n"
   ]
  },
  {
   "cell_type": "code",
   "execution_count": 9,
   "metadata": {},
   "outputs": [
    {
     "data": {
      "text/plain": [
       "105.15810430014417"
      ]
     },
     "execution_count": 9,
     "metadata": {},
     "output_type": "execute_result"
    }
   ],
   "source": [
    "aa=[1+1j,2-9.87j,30.9-1e2*1j]\n",
    "#np.mod(np.array(aa))\n",
    "np.linalg.norm(np.array(aa))"
   ]
  },
  {
   "cell_type": "code",
   "execution_count": 10,
   "metadata": {},
   "outputs": [],
   "source": [
    "def fun1(x, fun_in):\n",
    "    return fun_in(x)*x"
   ]
  },
  {
   "cell_type": "code",
   "execution_count": 14,
   "metadata": {},
   "outputs": [],
   "source": [
    "def fun_in(x):\n",
    "    return x**2-1\n"
   ]
  },
  {
   "cell_type": "code",
   "execution_count": 16,
   "metadata": {},
   "outputs": [
    {
     "data": {
      "text/plain": [
       "0"
      ]
     },
     "execution_count": 16,
     "metadata": {},
     "output_type": "execute_result"
    }
   ],
   "source": [
    "fun1(1,fun_in)"
   ]
  },
  {
   "cell_type": "code",
   "execution_count": null,
   "metadata": {},
   "outputs": [],
   "source": []
  }
 ],
 "metadata": {
  "kernelspec": {
   "display_name": "Python 3",
   "language": "python",
   "name": "python3"
  },
  "language_info": {
   "codemirror_mode": {
    "name": "ipython",
    "version": 3
   },
   "file_extension": ".py",
   "mimetype": "text/x-python",
   "name": "python",
   "nbconvert_exporter": "python",
   "pygments_lexer": "ipython3",
   "version": "3.6.5"
  }
 },
 "nbformat": 4,
 "nbformat_minor": 2
}
