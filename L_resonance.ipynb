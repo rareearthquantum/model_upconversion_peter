{
 "cells": [
  {
   "cell_type": "markdown",
   "metadata": {},
   "source": [
    "Going to rewrite the code to make sure I get it"
   ]
  },
  {
   "cell_type": "code",
   "execution_count": 4,
   "metadata": {},
   "outputs": [],
   "source": [
    "#importing python libs\n",
    "\n",
    "import sympy as sym\n",
    "sym.init_printing()\n",
    "\n",
    "import numpy as np\n",
    "from math import pi\n",
    "\n",
    "import matplotlib.pyplot as plt\n",
    "from sympy import I, Matrix, symbols\n",
    "from sympy.physics.quantum import TensorProduct, Dagger\n",
    "import scipy.optimize\n",
    "\n",
    "import scipy.constants as const\n",
    "\n",
    "#import qutip\n",
    "\n",
    "from matplotlib.colors import Normalize as Norm\n",
    "\n",
    "%load_ext cython\n"
   ]
  },
  {
   "cell_type": "code",
   "execution_count": 42,
   "metadata": {},
   "outputs": [],
   "source": [
    "#define some s pre/post operators\n",
    "\n",
    "def spre(m):\n",
    "    return TensorProduct(sym.eye(m.shape[0]),m)\n",
    "\n",
    "def spost(m):\n",
    "    return TensorProduct(m.T, sym.eye(m.shape[0]))\n",
    "\n",
    "def collapse(c):\n",
    "    tmp = Dagger(c)*c/2\n",
    "    return spre(c)*spost(Dagger(c))-spre(tmp)-spost(tmp)\n",
    "\n",
    "\n",
    "s13=Matrix([[0,0,1],[0,0,0],[0,0,0]])\n",
    "s23=Matrix([[0,0,0],[0,0,1],[0,0,0]])\n",
    "s12=Matrix([[0,1,0],[0,0,0],[0,0,0]])\n",
    "\n",
    "s31=s13.T\n",
    "s32=s23.T\n",
    "s21=s12.T\n",
    "\n",
    "s11 = s12*s21\n",
    "s22 = s21*s12\n",
    "s33 = s31*s13\n",
    "\n"
   ]
  },
  {
   "cell_type": "code",
   "execution_count": 43,
   "metadata": {},
   "outputs": [],
   "source": [
    "#sigmay = Matrix([[0,-I],[I,0]])"
   ]
  },
  {
   "cell_type": "code",
   "execution_count": 44,
   "metadata": {},
   "outputs": [],
   "source": [
    "delta2,delta3=sym.symbols('delta_2 delta_3', real=True)\n",
    "gamma13,gamma23,gamma2d,gamma3d,nbath,gammamu=sym.symbols('gamma_13 gamma_23 gamma_2d gamma_3d n_b gamma_mu', real=True, negative=False)\n",
    "omegao, omegam=sym.symbols('Omega_o Omega_mu', real=True, negative=False)\n",
    "rho11, rho12, rho13, rho21, rho22, rho23, rho31, rho32, rho33=sym.symbols('rho_11 rho_12 rho_13 rho_21 rho_22 rho_23 rho_31 rho_32 rho_33')\n",
    "\n",
    "a= sym.symbols('a')\n",
    "ar,ai=sym.symbols('a_r a_i', real=True)\n",
    "g=sym.symbols('g',real=True, negative=False)\n"
   ]
  },
  {
   "cell_type": "code",
   "execution_count": 45,
   "metadata": {},
   "outputs": [
    {
     "data": {
      "text/latex": [
       "$$\\left ( \\left[\\begin{matrix}0 & \\Omega_{\\mu} & g \\overline{a}\\\\\\Omega_{\\mu} & \\delta_{2} & \\Omega_{o}\\\\a g & \\Omega_{o} & \\delta_{3}\\end{matrix}\\right], \\quad \\left[\\begin{matrix}0 & \\Omega_{\\mu} & 0\\\\\\Omega_{\\mu} & \\delta_{2} & \\Omega_{o}\\\\0 & \\Omega_{o} & \\delta_{3}\\end{matrix}\\right], \\quad \\left[\\begin{matrix}0 & 0 & 0\\\\0 & \\delta_{2} & \\Omega_{o}\\\\0 & \\Omega_{o} & \\delta_{3}\\end{matrix}\\right], \\quad \\left[\\begin{matrix}0 & \\Omega_{\\mu} & 0\\\\\\Omega_{\\mu} & \\delta_{2} & 0\\\\0 & 0 & \\delta_{3}\\end{matrix}\\right]\\right )$$"
      ],
      "text/plain": [
       "⎛⎡            _⎤                                             ⎞\n",
       "⎜⎢ 0   Ωₘᵤ  g⋅a⎥  ⎡ 0   Ωₘᵤ  0 ⎤  ⎡0  0   0 ⎤  ⎡ 0   Ωₘᵤ  0 ⎤⎟\n",
       "⎜⎢             ⎥  ⎢            ⎥  ⎢         ⎥  ⎢            ⎥⎟\n",
       "⎜⎢Ωₘᵤ  δ₂   Ωₒ ⎥, ⎢Ωₘᵤ  δ₂   Ωₒ⎥, ⎢0  δ₂  Ωₒ⎥, ⎢Ωₘᵤ  δ₂   0 ⎥⎟\n",
       "⎜⎢             ⎥  ⎢            ⎥  ⎢         ⎥  ⎢            ⎥⎟\n",
       "⎝⎣a⋅g  Ωₒ   δ₃ ⎦  ⎣ 0   Ωₒ   δ₃⎦  ⎣0  Ωₒ  δ₃⎦  ⎣ 0    0   δ₃⎦⎠"
      ]
     },
     "execution_count": 45,
     "metadata": {},
     "output_type": "execute_result"
    }
   ],
   "source": [
    "H=omegam*s21+omegao*s32+ g*a*s31\n",
    "H=H+Dagger(H)\n",
    "H=H+delta2*s22+delta3*s33\n",
    "\n",
    "H_no_a=H[:,:]\n",
    "H_no_a[0,2]=0\n",
    "H_no_a[2,0]=0\n",
    "H_no_a\n",
    "\n",
    "H_o=H_no_a[:,:]\n",
    "H_o[0,1]=0\n",
    "H_o[1,0]=0\n",
    "\n",
    "H_mu=H_no_a[:,:]\n",
    "H_mu[2,1]=0\n",
    "H_mu[1,2]=0\n",
    "\n",
    "\n",
    "H, H_no_a, H_o, H_mu"
   ]
  },
  {
   "cell_type": "code",
   "execution_count": 46,
   "metadata": {},
   "outputs": [],
   "source": [
    "LH=-I*spre(H)+I*spost(H)\n",
    "L21 = gammamu*(nbath+1)*collapse(s12)\n",
    "L12 = gammamu*nbath*collapse(s21)\n",
    "L32 = gamma23*collapse(s23)\n",
    "L31 = gamma13*collapse(s13)\n",
    "L22 = gamma2d*collapse(s22)\n",
    "L33 = gamma3d*collapse(s33)\n",
    "\n",
    "L = LH + L21 + L12 + L32 + L31 + L22 + L33\n",
    "\n",
    "L = L.row_insert(0,Matrix([[1,0,0,0,1,0,0,0,1]]))\n",
    "L.row_del(1)\n",
    "\n"
   ]
  },
  {
   "cell_type": "code",
   "execution_count": 47,
   "metadata": {},
   "outputs": [
    {
     "data": {
      "image/png": "[encoded data removed]",
      "text/latex": [
       "$$\\left [ \\rho_{11}, \\quad \\rho_{21}, \\quad \\rho_{31}, \\quad \\rho_{12}, \\quad \\rho_{22}, \\quad \\rho_{32}, \\quad \\rho_{13}, \\quad \\rho_{23}, \\quad \\rho_{33}\\right ]$$"
      ],
      "text/plain": [
       "[ρ₁₁, ρ₂₁, ρ₃₁, ρ₁₂, ρ₂₂, ρ₃₂, ρ₁₃, ρ₂₃, ρ₃₃]"
      ]
     },
     "execution_count": 47,
     "metadata": {},
     "output_type": "execute_result"
    }
   ],
   "source": [
    "rho = Matrix([[rho11,rho21,rho31],[rho12,rho22,rho32],[rho13,rho23,rho33]])\n",
    "rho = 1*rho.T #because we are using \"fortran\" style matrix flatteneing\n",
    "rho[:]\n",
    "rhoflat = 1*rho.T \n",
    "rhoflat = rhoflat[:]\n",
    "rhoflat"
   ]
  },
  {
   "cell_type": "code",
   "execution_count": 48,
   "metadata": {},
   "outputs": [
    {
     "data": {
      "text/latex": [
       "$$\\left[\\begin{matrix}\\rho_{11}\\\\\\rho_{22}\\\\\\rho_{33}\\\\\\frac{\\rho_{12}}{2} + \\frac{\\rho_{21}}{2}\\\\- \\frac{i \\rho_{12}}{2} + \\frac{i \\rho_{21}}{2}\\\\\\frac{\\rho_{13}}{2} + \\frac{\\rho_{31}}{2}\\\\- \\frac{i \\rho_{13}}{2} + \\frac{i \\rho_{31}}{2}\\\\\\frac{\\rho_{23}}{2} + \\frac{\\rho_{32}}{2}\\\\- \\frac{i \\rho_{23}}{2} + \\frac{i \\rho_{32}}{2}\\end{matrix}\\right]$$"
      ],
      "text/plain": [
       "⎡      ρ₁₁      ⎤\n",
       "⎢               ⎥\n",
       "⎢      ρ₂₂      ⎥\n",
       "⎢               ⎥\n",
       "⎢      ρ₃₃      ⎥\n",
       "⎢               ⎥\n",
       "⎢   ρ₁₂   ρ₂₁   ⎥\n",
       "⎢   ─── + ───   ⎥\n",
       "⎢    2     2    ⎥\n",
       "⎢               ⎥\n",
       "⎢  ⅈ⋅ρ₁₂   ⅈ⋅ρ₂₁⎥\n",
       "⎢- ───── + ─────⎥\n",
       "⎢    2       2  ⎥\n",
       "⎢               ⎥\n",
       "⎢   ρ₁₃   ρ₃₁   ⎥\n",
       "⎢   ─── + ───   ⎥\n",
       "⎢    2     2    ⎥\n",
       "⎢               ⎥\n",
       "⎢  ⅈ⋅ρ₁₃   ⅈ⋅ρ₃₁⎥\n",
       "⎢- ───── + ─────⎥\n",
       "⎢    2       2  ⎥\n",
       "⎢               ⎥\n",
       "⎢   ρ₂₃   ρ₃₂   ⎥\n",
       "⎢   ─── + ───   ⎥\n",
       "⎢    2     2    ⎥\n",
       "⎢               ⎥\n",
       "⎢  ⅈ⋅ρ₂₃   ⅈ⋅ρ₃₂⎥\n",
       "⎢- ───── + ─────⎥\n",
       "⎣    2       2  ⎦"
      ]
     },
     "execution_count": 48,
     "metadata": {},
     "output_type": "execute_result"
    }
   ],
   "source": [
    "#change of variables to make things real to make it a bit faster maybe\n",
    "CtoR = Matrix([[2,0,0,0,0,0,0,0,0],\n",
    "               [0,0,0,0,2,0,0,0,0],\n",
    "               [0,0,0,0,0,0,0,0,2],\n",
    "               [0,1,0,1,0,0,0,0,0],\n",
    "               [0,I,0,-I,0,0,0,0,0],\n",
    "               [0,0,1,0,0,0,1,0,0],\n",
    "               [0,0,I,0,0,0,-I,0,0],\n",
    "               [0,0,0,0,0,1,0,1,0],\n",
    "               [0,0,0,0,0,I,0,-I,0]\n",
    "              ])\n",
    "CtoR=CtoR/2\n",
    "CtoR_mat = np.matrix([[2,0,0,0,0,0,0,0,0],\n",
    "               [0,0,0,0,2,0,0,0,0],\n",
    "               [0,0,0,0,0,0,0,0,2],\n",
    "               [0,1,0,1,0,0,0,0,0],\n",
    "               [0,I,0,-I,0,0,0,0,0],\n",
    "               [0,0,1,0,0,0,1,0,0],\n",
    "               [0,0,I,0,0,0,-I,0,0],\n",
    "               [0,0,0,0,0,1,0,1,0],\n",
    "               [0,0,0,0,0,I,0,-I,0]\n",
    "              ])/2\n",
    "t = CtoR*Matrix(rhoflat)\n",
    "t"
   ]
  },
  {
   "cell_type": "code",
   "execution_count": 49,
   "metadata": {},
   "outputs": [
    {
     "data": {
      "image/png": "[encoded data removed]",
      "text/latex": [
       "$$\\left [ \\rho_{11}, \\quad \\rho_{21}, \\quad \\rho_{31}, \\quad \\rho_{12}, \\quad \\rho_{22}, \\quad \\rho_{32}, \\quad \\rho_{13}, \\quad \\rho_{23}, \\quad \\rho_{33}\\right ]$$"
      ],
      "text/plain": [
       "[ρ₁₁, ρ₂₁, ρ₃₁, ρ₁₂, ρ₂₂, ρ₃₂, ρ₁₃, ρ₂₃, ρ₃₃]"
      ]
     },
     "execution_count": 49,
     "metadata": {},
     "output_type": "execute_result"
    }
   ],
   "source": [
    "rhoflat"
   ]
  },
  {
   "cell_type": "code",
   "execution_count": 50,
   "metadata": {},
   "outputs": [],
   "source": [
    "Lreal = sym.simplify(CtoR*L*CtoR.inv())\n",
    "Lreal = Lreal.subs(a,ar+I*ai)\n",
    "Lreal\n",
    "\n",
    "\n",
    "Lfunc = sym.lambdify((a,delta2, delta3, gamma13, gamma23, gamma2d, gamma3d, nbath,gammamu,omegao,omegam,g),L)\n",
    "\n",
    "Lrealfunc = sym.lambdify((ar,ai,delta2, delta3, gamma13, gamma23, gamma2d, gamma3d, nbath,gammamu,omegao,omegam,g),Lreal)"
   ]
  },
  {
   "cell_type": "code",
   "execution_count": 53,
   "metadata": {},
   "outputs": [
    {
     "data": {
      "text/latex": [
       "$$\\left[\\begin{matrix}1 & 0 & 0 & 0 & 1 & 0 & 0 & 0 & 1\\\\- i \\Omega_{\\mu} & - i \\delta_{2} - \\frac{\\gamma_{2d}}{2} - \\frac{\\gamma_{\\mu} n_{b}}{2} - \\frac{\\gamma_{\\mu}}{2} \\left(n_{b} + 1\\right) & - i \\Omega_{o} & 0 & i \\Omega_{\\mu} & 0 & 0 & i a g & 0\\\\- i a g & - i \\Omega_{o} & - i \\delta_{3} - \\frac{\\gamma_{13}}{2} - \\frac{\\gamma_{23}}{2} - \\frac{\\gamma_{3d}}{2} - \\frac{\\gamma_{\\mu} n_{b}}{2} & 0 & 0 & i \\Omega_{\\mu} & 0 & 0 & i a g\\\\i \\Omega_{\\mu} & 0 & 0 & i \\delta_{2} - \\frac{\\gamma_{2d}}{2} - \\frac{\\gamma_{\\mu} n_{b}}{2} - \\frac{\\gamma_{\\mu}}{2} \\left(n_{b} + 1\\right) & - i \\Omega_{\\mu} & - i g \\overline{a} & i \\Omega_{o} & 0 & 0\\\\\\gamma_{\\mu} n_{b} & i \\Omega_{\\mu} & 0 & - i \\Omega_{\\mu} & - \\gamma_{\\mu} \\left(n_{b} + 1\\right) & - i \\Omega_{o} & 0 & i \\Omega_{o} & \\gamma_{23}\\\\0 & 0 & i \\Omega_{\\mu} & - i a g & - i \\Omega_{o} & i \\delta_{2} - i \\delta_{3} - \\frac{\\gamma_{13}}{2} - \\frac{\\gamma_{23}}{2} - \\frac{\\gamma_{2d}}{2} - \\frac{\\gamma_{3d}}{2} - \\frac{\\gamma_{\\mu}}{2} \\left(n_{b} + 1\\right) & 0 & 0 & i \\Omega_{o}\\\\i g \\overline{a} & 0 & 0 & i \\Omega_{o} & 0 & 0 & i \\delta_{3} - \\frac{\\gamma_{13}}{2} - \\frac{\\gamma_{23}}{2} - \\frac{\\gamma_{3d}}{2} - \\frac{\\gamma_{\\mu} n_{b}}{2} & - i \\Omega_{\\mu} & - i g \\overline{a}\\\\0 & i g \\overline{a} & 0 & 0 & i \\Omega_{o} & 0 & - i \\Omega_{\\mu} & - i \\delta_{2} + i \\delta_{3} - \\frac{\\gamma_{13}}{2} - \\frac{\\gamma_{23}}{2} - \\frac{\\gamma_{2d}}{2} - \\frac{\\gamma_{3d}}{2} - \\frac{\\gamma_{\\mu}}{2} \\left(n_{b} + 1\\right) & - i \\Omega_{o}\\\\0 & 0 & i g \\overline{a} & 0 & 0 & i \\Omega_{o} & - i a g & - i \\Omega_{o} & - \\gamma_{13} - \\gamma_{23}\\end{matrix}\\right]$$"
      ],
      "text/plain": [
       "⎡   1                       0                                     0           \n",
       "⎢                                                                             \n",
       "⎢                 γ_2d   γₘᵤ⋅n_b   γₘᵤ⋅(n_b + 1)                              \n",
       "⎢-ⅈ⋅Ωₘᵤ   -ⅈ⋅δ₂ - ──── - ─────── - ─────────────                -ⅈ⋅Ωₒ         \n",
       "⎢                  2        2            2                                    \n",
       "⎢                                                                             \n",
       "⎢                                                         γ₁₃   γ₂₃   γ_3d   γ\n",
       "⎢-ⅈ⋅a⋅g                   -ⅈ⋅Ωₒ                   -ⅈ⋅δ₃ - ─── - ─── - ──── - ─\n",
       "⎢                                                          2     2     2      \n",
       "⎢                                                                             \n",
       "⎢                                                                             \n",
       "⎢ ⅈ⋅Ωₘᵤ                     0                                     0           \n",
       "⎢                                                                             \n",
       "⎢                                                                             \n",
       "⎢γₘᵤ⋅n_b                  ⅈ⋅Ωₘᵤ                                   0           \n",
       "⎢                                                                             \n",
       "⎢                                                                             \n",
       "⎢   0                       0                                   ⅈ⋅Ωₘᵤ         \n",
       "⎢                                                                             \n",
       "⎢                                                                             \n",
       "⎢     _                                                                       \n",
       "⎢ ⅈ⋅g⋅a                     0                                     0           \n",
       "⎢                                                                             \n",
       "⎢                                                                             \n",
       "⎢                             _                                               \n",
       "⎢   0                     ⅈ⋅g⋅a                                   0           \n",
       "⎢                                                                             \n",
       "⎢                                                                             \n",
       "⎢                                                                   _         \n",
       "⎣   0                       0                                   ⅈ⋅g⋅a         \n",
       "\n",
       "                          0                          1                        \n",
       "                                                                              \n",
       "                                                                              \n",
       "                          0                        ⅈ⋅Ωₘᵤ                      \n",
       "                                                                              \n",
       "                                                                              \n",
       "ₘᵤ⋅n_b                                                                        \n",
       "──────                    0                          0                        \n",
       "  2                                                                           \n",
       "                                                                              \n",
       "               γ_2d   γₘᵤ⋅n_b   γₘᵤ⋅(n_b + 1)                                 \n",
       "        ⅈ⋅δ₂ - ──── - ─────── - ─────────────      -ⅈ⋅Ωₘᵤ                     \n",
       "                2        2            2                                       \n",
       "                                                                              \n",
       "                       -ⅈ⋅Ωₘᵤ                  -γₘᵤ⋅(n_b + 1)                 \n",
       "                                                                              \n",
       "                                                                             γ\n",
       "                       -ⅈ⋅a⋅g                      -ⅈ⋅Ωₒ       ⅈ⋅δ₂ - ⅈ⋅δ₃ - ─\n",
       "                                                                              \n",
       "                                                                              \n",
       "                                                                              \n",
       "                        ⅈ⋅Ωₒ                         0                        \n",
       "                                                                              \n",
       "                                                                              \n",
       "                                                                              \n",
       "                          0                         ⅈ⋅Ωₒ                      \n",
       "                                                                              \n",
       "                                                                              \n",
       "                                                                              \n",
       "                          0                          0                        \n",
       "\n",
       "           0                                            0                     \n",
       "                                                                              \n",
       "                                                                              \n",
       "           0                                            0                     \n",
       "                                                                              \n",
       "                                                                              \n",
       "                                                                              \n",
       "         ⅈ⋅Ωₘᵤ                                          0                     \n",
       "                                                                              \n",
       "                                                                              \n",
       "             _                                                                \n",
       "        -ⅈ⋅g⋅a                                        ⅈ⋅Ωₒ                    \n",
       "                                                                              \n",
       "                                                                              \n",
       "         -ⅈ⋅Ωₒ                                          0                     \n",
       "                                                                              \n",
       "₁₃   γ₂₃   γ_2d   γ_3d   γₘᵤ⋅(n_b + 1)                                        \n",
       "── - ─── - ──── - ──── - ─────────────                  0                     \n",
       "2     2     2      2           2                                              \n",
       "                                                                              \n",
       "                                               γ₁₃   γ₂₃   γ_3d   γₘᵤ⋅n_b     \n",
       "           0                            ⅈ⋅δ₃ - ─── - ─── - ──── - ───────     \n",
       "                                                2     2     2        2        \n",
       "                                                                              \n",
       "                                                                              \n",
       "           0                                         -ⅈ⋅Ωₘᵤ                -ⅈ⋅\n",
       "                                                                              \n",
       "                                                                              \n",
       "                                                                              \n",
       "         ⅈ⋅Ωₒ                                        -ⅈ⋅a⋅g                   \n",
       "\n",
       "                       0                                 1     ⎤\n",
       "                                                               ⎥\n",
       "                                                               ⎥\n",
       "                     ⅈ⋅a⋅g                               0     ⎥\n",
       "                                                               ⎥\n",
       "                                                               ⎥\n",
       "                                                               ⎥\n",
       "                       0                               ⅈ⋅a⋅g   ⎥\n",
       "                                                               ⎥\n",
       "                                                               ⎥\n",
       "                                                               ⎥\n",
       "                       0                                 0     ⎥\n",
       "                                                               ⎥\n",
       "                                                               ⎥\n",
       "                      ⅈ⋅Ωₒ                              γ₂₃    ⎥\n",
       "                                                               ⎥\n",
       "                                                               ⎥\n",
       "                       0                                ⅈ⋅Ωₒ   ⎥\n",
       "                                                               ⎥\n",
       "                                                               ⎥\n",
       "                                                            _  ⎥\n",
       "                     -ⅈ⋅Ωₘᵤ                            -ⅈ⋅g⋅a  ⎥\n",
       "                                                               ⎥\n",
       "                                                               ⎥\n",
       "            γ₁₃   γ₂₃   γ_2d   γ_3d   γₘᵤ⋅(n_b + 1)            ⎥\n",
       "δ₂ + ⅈ⋅δ₃ - ─── - ─── - ──── - ──── - ─────────────    -ⅈ⋅Ωₒ   ⎥\n",
       "             2     2     2      2           2                  ⎥\n",
       "                                                               ⎥\n",
       "                                                               ⎥\n",
       "                     -ⅈ⋅Ωₒ                           -γ₁₃ - γ₂₃⎦"
      ]
     },
     "execution_count": 53,
     "metadata": {},
     "output_type": "execute_result"
    }
   ],
   "source": [
    "L"
   ]
  },
  {
   "cell_type": "code",
   "execution_count": 62,
   "metadata": {},
   "outputs": [],
   "source": [
    "Ho_eigs=list(H_o.eigenvals().keys())\n",
    "Hmu_eigs=list(H_mu.eigenvals().keys())\n"
   ]
  },
  {
   "cell_type": "code",
   "execution_count": 63,
   "metadata": {},
   "outputs": [
    {
     "data": {
      "image/png": "[encoded data removed]",
      "text/latex": [
       "$$\\left ( \\left [ \\frac{\\delta_{2}}{2} + \\frac{\\delta_{3}}{2} - \\frac{1}{2} \\sqrt{4 \\Omega_{o}^{2} + \\delta_{2}^{2} - 2 \\delta_{2} \\delta_{3} + \\delta_{3}^{2}}, \\quad \\frac{\\delta_{2}}{2} + \\frac{\\delta_{3}}{2} + \\frac{1}{2} \\sqrt{4 \\Omega_{o}^{2} + \\delta_{2}^{2} - 2 \\delta_{2} \\delta_{3} + \\delta_{3}^{2}}, \\quad 0\\right ], \\quad \\left [ \\delta_{3}, \\quad \\frac{\\delta_{2}}{2} - \\frac{1}{2} \\sqrt{4 \\Omega_{\\mu}^{2} + \\delta_{2}^{2}}, \\quad \\frac{\\delta_{2}}{2} + \\frac{1}{2} \\sqrt{4 \\Omega_{\\mu}^{2} + \\delta_{2}^{2}}\\right ]\\right )$$"
      ],
      "text/plain": [
       "⎛⎡             _____________________________               ___________________\n",
       "⎜⎢            ╱     2     2               2               ╱     2     2       \n",
       "⎜⎢δ₂   δ₃   ╲╱  4⋅Ωₒ  + δ₂  - 2⋅δ₂⋅δ₃ + δ₃    δ₂   δ₃   ╲╱  4⋅Ωₒ  + δ₂  - 2⋅δ₂\n",
       "⎜⎢── + ── - ────────────────────────────────, ── + ── + ──────────────────────\n",
       "⎝⎣2    2                   2                  2    2                   2      \n",
       "\n",
       "__________   ⎤  ⎡            ______________          ______________⎤⎞\n",
       "        2    ⎥  ⎢           ╱      2     2          ╱      2     2 ⎥⎟\n",
       "⋅δ₃ + δ₃     ⎥  ⎢    δ₂   ╲╱  4⋅Ωₘᵤ  + δ₂    δ₂   ╲╱  4⋅Ωₘᵤ  + δ₂  ⎥⎟\n",
       "──────────, 0⎥, ⎢δ₃, ── - ─────────────────, ── + ─────────────────⎥⎟\n",
       "             ⎦  ⎣    2            2          2            2        ⎦⎠"
      ]
     },
     "execution_count": 63,
     "metadata": {},
     "output_type": "execute_result"
    }
   ],
   "source": [
    "Ho_eigs,Hmu_eigs"
   ]
  },
  {
   "cell_type": "code",
   "execution_count": 72,
   "metadata": {},
   "outputs": [
    {
     "data": {
      "image/png": "[encoded data removed]",
      "text/latex": [
       "$$\\left [ \\frac{\\Omega_{o}^{2}}{\\delta_{3}}\\right ]$$"
      ],
      "text/plain": [
       "⎡  2⎤\n",
       "⎢Ωₒ ⎥\n",
       "⎢───⎥\n",
       "⎣ δ₃⎦"
      ]
     },
     "execution_count": 72,
     "metadata": {},
     "output_type": "execute_result"
    }
   ],
   "source": [
    "Ho_del2=sym.solve(Ho_eigs[1],delta2)\n",
    "Ho_del2"
   ]
  },
  {
   "cell_type": "code",
   "execution_count": 71,
   "metadata": {},
   "outputs": [
    {
     "data": {
      "image/png": "[encoded data removed]",
      "text/latex": [
       "$$- \\frac{\\Omega_{\\mu}^{2}}{\\delta_{3}} + \\delta_{3}$$"
      ],
      "text/plain": [
       "     2     \n",
       "  Ωₘᵤ      \n",
       "- ──── + δ₃\n",
       "   δ₃      "
      ]
     },
     "execution_count": 71,
     "metadata": {},
     "output_type": "execute_result"
    }
   ],
   "source": [
    "Hmu_del2=sym.solve(Hmu_eigs[0]**2-Hmu_eigs[1]**2,delta2)[0]\n",
    "Hmu_del2"
   ]
  },
  {
   "cell_type": "code",
   "execution_count": 76,
   "metadata": {},
   "outputs": [],
   "source": [
    "#L_o=L.subs([(omegam,0),(delta2,Ho_del2)])\n",
    "#L_mu=L.subs([(omegao,0),(delta2,Hmu_del2)])\n",
    "L_o=sym.simplify(L.subs([(omegam,0),(delta2,omegao**2/delta3)]))\n",
    "L_mu=sym.simplify(L.subs([(omegao,0),(delta2,-omegam**2/delta3+delta3)]))"
   ]
  },
  {
   "cell_type": "code",
   "execution_count": 77,
   "metadata": {},
   "outputs": [
    {
     "data": {
      "text/latex": [
       "$$\\left[\\begin{matrix}1 & 0 & 0 & 0 & 1 & 0 & 0 & 0 & 1\\\\0 & - \\frac{i \\Omega_{o}^{2}}{\\delta_{3}} - \\frac{\\gamma_{2d}}{2} - \\gamma_{\\mu} n_{b} - \\frac{\\gamma_{\\mu}}{2} & - i \\Omega_{o} & 0 & 0 & 0 & 0 & i a g & 0\\\\- i a g & - i \\Omega_{o} & - i \\delta_{3} - \\frac{\\gamma_{13}}{2} - \\frac{\\gamma_{23}}{2} - \\frac{\\gamma_{3d}}{2} - \\frac{\\gamma_{\\mu} n_{b}}{2} & 0 & 0 & 0 & 0 & 0 & i a g\\\\0 & 0 & 0 & \\frac{i \\Omega_{o}^{2}}{\\delta_{3}} - \\frac{\\gamma_{2d}}{2} - \\gamma_{\\mu} n_{b} - \\frac{\\gamma_{\\mu}}{2} & 0 & - i g \\overline{a} & i \\Omega_{o} & 0 & 0\\\\\\gamma_{\\mu} n_{b} & 0 & 0 & 0 & - \\gamma_{\\mu} \\left(n_{b} + 1\\right) & - i \\Omega_{o} & 0 & i \\Omega_{o} & \\gamma_{23}\\\\0 & 0 & 0 & - i a g & - i \\Omega_{o} & \\frac{1}{\\delta_{3}} \\left(i \\Omega_{o}^{2} - \\frac{\\delta_{3}}{2} \\left(2 i \\delta_{3} + \\gamma_{13} + \\gamma_{23} + \\gamma_{2d} + \\gamma_{3d} + \\gamma_{\\mu} \\left(n_{b} + 1\\right)\\right)\\right) & 0 & 0 & i \\Omega_{o}\\\\i g \\overline{a} & 0 & 0 & i \\Omega_{o} & 0 & 0 & i \\delta_{3} - \\frac{\\gamma_{13}}{2} - \\frac{\\gamma_{23}}{2} - \\frac{\\gamma_{3d}}{2} - \\frac{\\gamma_{\\mu} n_{b}}{2} & 0 & - i g \\overline{a}\\\\0 & i g \\overline{a} & 0 & 0 & i \\Omega_{o} & 0 & 0 & \\frac{1}{\\delta_{3}} \\left(- i \\Omega_{o}^{2} + \\frac{\\delta_{3}}{2} \\left(2 i \\delta_{3} - \\gamma_{13} - \\gamma_{23} - \\gamma_{2d} - \\gamma_{3d} - \\gamma_{\\mu} \\left(n_{b} + 1\\right)\\right)\\right) & - i \\Omega_{o}\\\\0 & 0 & i g \\overline{a} & 0 & 0 & i \\Omega_{o} & - i a g & - i \\Omega_{o} & - \\gamma_{13} - \\gamma_{23}\\end{matrix}\\right]$$"
      ],
      "text/plain": [
       "⎡   1                   0                                 0                   \n",
       "⎢                                                                             \n",
       "⎢               2                                                             \n",
       "⎢           ⅈ⋅Ωₒ    γ_2d             γₘᵤ                                      \n",
       "⎢   0     - ───── - ──── - γₘᵤ⋅n_b - ───                -ⅈ⋅Ωₒ                 \n",
       "⎢             δ₃     2                2                                       \n",
       "⎢                                                                             \n",
       "⎢                                                 γ₁₃   γ₂₃   γ_3d   γₘᵤ⋅n_b  \n",
       "⎢-ⅈ⋅a⋅g               -ⅈ⋅Ωₒ               -ⅈ⋅δ₃ - ─── - ─── - ──── - ───────  \n",
       "⎢                                                  2     2     2        2     \n",
       "⎢                                                                             \n",
       "⎢                                                                             \n",
       "⎢                                                                             \n",
       "⎢   0                   0                                 0                   \n",
       "⎢                                                                             \n",
       "⎢                                                                             \n",
       "⎢γₘᵤ⋅n_b                0                                 0                   \n",
       "⎢                                                                             \n",
       "⎢                                                                             \n",
       "⎢                                                                             \n",
       "⎢                                                                             \n",
       "⎢   0                   0                                 0                   \n",
       "⎢                                                                             \n",
       "⎢                                                                             \n",
       "⎢     _                                                                       \n",
       "⎢ ⅈ⋅g⋅a                 0                                 0                   \n",
       "⎢                                                                             \n",
       "⎢                                                                             \n",
       "⎢                                                                             \n",
       "⎢                                                                             \n",
       "⎢                         _                                                   \n",
       "⎢   0                 ⅈ⋅g⋅a                               0                   \n",
       "⎢                                                                             \n",
       "⎢                                                                             \n",
       "⎢                                                           _                 \n",
       "⎣   0                   0                               ⅈ⋅g⋅a                 \n",
       "\n",
       "             0                      1                                       0 \n",
       "                                                                              \n",
       "                                                                              \n",
       "                                                                              \n",
       "             0                      0                                       0 \n",
       "                                                                              \n",
       "                                                                              \n",
       "                                                                              \n",
       "             0                      0                                       0 \n",
       "                                                                              \n",
       "                                                                              \n",
       "    2                                                                         \n",
       "ⅈ⋅Ωₒ    γ_2d             γₘᵤ                                                  \n",
       "───── - ──── - γₘᵤ⋅n_b - ───        0                                    -ⅈ⋅g⋅\n",
       "  δ₃     2                2                                                   \n",
       "                                                                              \n",
       "             0                -γₘᵤ⋅(n_b + 1)                              -ⅈ⋅Ω\n",
       "                                                                              \n",
       "                                                  2   δ₃⋅(2⋅ⅈ⋅δ₃ + γ₁₃ + γ₂₃ +\n",
       "                                              ⅈ⋅Ωₒ  - ────────────────────────\n",
       "                                                                              \n",
       "           -ⅈ⋅a⋅g                 -ⅈ⋅Ωₒ       ────────────────────────────────\n",
       "                                                                            δ₃\n",
       "                                                                              \n",
       "                                                                              \n",
       "            ⅈ⋅Ωₒ                    0                                       0 \n",
       "                                                                              \n",
       "                                                                              \n",
       "                                                                              \n",
       "                                                                              \n",
       "                                                                              \n",
       "             0                     ⅈ⋅Ωₒ                                     0 \n",
       "                                                                              \n",
       "                                                                              \n",
       "                                                                              \n",
       "             0                      0                                     ⅈ⋅Ωₒ\n",
       "\n",
       "                                               0                              \n",
       "                                                                              \n",
       "                                                                              \n",
       "                                                                              \n",
       "                                               0                              \n",
       "                                                                              \n",
       "                                                                              \n",
       "                                                                              \n",
       "                                               0                              \n",
       "                                                                              \n",
       "                                                                              \n",
       "                                                                              \n",
       "_                                                                             \n",
       "a                                            ⅈ⋅Ωₒ                             \n",
       "                                                                              \n",
       "                                                                              \n",
       "ₒ                                              0                              \n",
       "                                                                              \n",
       " γ_2d + γ_3d + γₘᵤ⋅(n_b + 1))                                                 \n",
       "─────────────────────────────                                                 \n",
       "  2                                                                           \n",
       "─────────────────────────────                  0                              \n",
       "                                                                              \n",
       "                                                                              \n",
       "                                      γ₁₃   γ₂₃   γ_3d   γₘᵤ⋅n_b              \n",
       "                               ⅈ⋅δ₃ - ─── - ─── - ──── - ───────              \n",
       "                                       2     2     2        2                 \n",
       "                                                                              \n",
       "                                                                        2   δ₃\n",
       "                                                                  - ⅈ⋅Ωₒ  + ──\n",
       "                                                                              \n",
       "                                               0                  ────────────\n",
       "                                                                              \n",
       "                                                                              \n",
       "                                                                              \n",
       "                                            -ⅈ⋅a⋅g                            \n",
       "\n",
       "                   0                                     1     ⎤\n",
       "                                                               ⎥\n",
       "                                                               ⎥\n",
       "                                                               ⎥\n",
       "                 ⅈ⋅a⋅g                                   0     ⎥\n",
       "                                                               ⎥\n",
       "                                                               ⎥\n",
       "                                                               ⎥\n",
       "                   0                                   ⅈ⋅a⋅g   ⎥\n",
       "                                                               ⎥\n",
       "                                                               ⎥\n",
       "                                                               ⎥\n",
       "                                                               ⎥\n",
       "                   0                                     0     ⎥\n",
       "                                                               ⎥\n",
       "                                                               ⎥\n",
       "                 ⅈ⋅Ωₒ                                   γ₂₃    ⎥\n",
       "                                                               ⎥\n",
       "                                                               ⎥\n",
       "                                                               ⎥\n",
       "                                                               ⎥\n",
       "                   0                                    ⅈ⋅Ωₒ   ⎥\n",
       "                                                               ⎥\n",
       "                                                               ⎥\n",
       "                                                            _  ⎥\n",
       "                   0                                   -ⅈ⋅g⋅a  ⎥\n",
       "                                                               ⎥\n",
       "                                                               ⎥\n",
       "⋅(2⋅ⅈ⋅δ₃ - γ₁₃ - γ₂₃ - γ_2d - γ_3d - γₘᵤ⋅(n_b + 1))            ⎥\n",
       "───────────────────────────────────────────────────            ⎥\n",
       "                        2                                      ⎥\n",
       "───────────────────────────────────────────────────    -ⅈ⋅Ωₒ   ⎥\n",
       "                   δ₃                                          ⎥\n",
       "                                                               ⎥\n",
       "                                                               ⎥\n",
       "                 -ⅈ⋅Ωₒ                               -γ₁₃ - γ₂₃⎦"
      ]
     },
     "execution_count": 77,
     "metadata": {},
     "output_type": "execute_result"
    }
   ],
   "source": [
    "L_o"
   ]
  },
  {
   "cell_type": "code",
   "execution_count": 78,
   "metadata": {},
   "outputs": [
    {
     "data": {
      "text/latex": [
       "$$\\left[\\begin{matrix}1 & 0 & 0 & 0 & 1 & 0 & 0 & 0 & 1\\\\- i \\Omega_{\\mu} & \\frac{i \\Omega_{\\mu}^{2}}{\\delta_{3}} - i \\delta_{3} - \\frac{\\gamma_{2d}}{2} - \\gamma_{\\mu} n_{b} - \\frac{\\gamma_{\\mu}}{2} & 0 & 0 & i \\Omega_{\\mu} & 0 & 0 & i a g & 0\\\\- i a g & 0 & - i \\delta_{3} - \\frac{\\gamma_{13}}{2} - \\frac{\\gamma_{23}}{2} - \\frac{\\gamma_{3d}}{2} - \\frac{\\gamma_{\\mu} n_{b}}{2} & 0 & 0 & i \\Omega_{\\mu} & 0 & 0 & i a g\\\\i \\Omega_{\\mu} & 0 & 0 & - \\frac{i \\Omega_{\\mu}^{2}}{\\delta_{3}} + i \\delta_{3} - \\frac{\\gamma_{2d}}{2} - \\gamma_{\\mu} n_{b} - \\frac{\\gamma_{\\mu}}{2} & - i \\Omega_{\\mu} & - i g \\overline{a} & 0 & 0 & 0\\\\\\gamma_{\\mu} n_{b} & i \\Omega_{\\mu} & 0 & - i \\Omega_{\\mu} & - \\gamma_{\\mu} \\left(n_{b} + 1\\right) & 0 & 0 & 0 & \\gamma_{23}\\\\0 & 0 & i \\Omega_{\\mu} & - i a g & 0 & - \\frac{i \\Omega_{\\mu}^{2}}{\\delta_{3}} - \\frac{\\gamma_{13}}{2} - \\frac{\\gamma_{23}}{2} - \\frac{\\gamma_{2d}}{2} - \\frac{\\gamma_{3d}}{2} - \\frac{\\gamma_{\\mu} n_{b}}{2} - \\frac{\\gamma_{\\mu}}{2} & 0 & 0 & 0\\\\i g \\overline{a} & 0 & 0 & 0 & 0 & 0 & i \\delta_{3} - \\frac{\\gamma_{13}}{2} - \\frac{\\gamma_{23}}{2} - \\frac{\\gamma_{3d}}{2} - \\frac{\\gamma_{\\mu} n_{b}}{2} & - i \\Omega_{\\mu} & - i g \\overline{a}\\\\0 & i g \\overline{a} & 0 & 0 & 0 & 0 & - i \\Omega_{\\mu} & \\frac{i \\Omega_{\\mu}^{2}}{\\delta_{3}} - \\frac{\\gamma_{13}}{2} - \\frac{\\gamma_{23}}{2} - \\frac{\\gamma_{2d}}{2} - \\frac{\\gamma_{3d}}{2} - \\frac{\\gamma_{\\mu} n_{b}}{2} - \\frac{\\gamma_{\\mu}}{2} & 0\\\\0 & 0 & i g \\overline{a} & 0 & 0 & 0 & - i a g & 0 & - \\gamma_{13} - \\gamma_{23}\\end{matrix}\\right]$$"
      ],
      "text/plain": [
       "⎡   1                      0                                    0             \n",
       "⎢                                                                             \n",
       "⎢              2                                                              \n",
       "⎢         ⅈ⋅Ωₘᵤ           γ_2d             γₘᵤ                                \n",
       "⎢-ⅈ⋅Ωₘᵤ   ────── - ⅈ⋅δ₃ - ──── - γₘᵤ⋅n_b - ───                  0             \n",
       "⎢           δ₃             2                2                                 \n",
       "⎢                                                                             \n",
       "⎢                                                       γ₁₃   γ₂₃   γ_3d   γₘᵤ\n",
       "⎢-ⅈ⋅a⋅g                    0                    -ⅈ⋅δ₃ - ─── - ─── - ──── - ───\n",
       "⎢                                                        2     2     2        \n",
       "⎢                                                                             \n",
       "⎢                                                                             \n",
       "⎢                                                                             \n",
       "⎢ ⅈ⋅Ωₘᵤ                    0                                    0             \n",
       "⎢                                                                             \n",
       "⎢                                                                             \n",
       "⎢γₘᵤ⋅n_b                 ⅈ⋅Ωₘᵤ                                  0             \n",
       "⎢                                                                             \n",
       "⎢                                                                             \n",
       "⎢                                                                             \n",
       "⎢   0                      0                                  ⅈ⋅Ωₘᵤ           \n",
       "⎢                                                                             \n",
       "⎢                                                                             \n",
       "⎢     _                                                                       \n",
       "⎢ ⅈ⋅g⋅a                    0                                    0             \n",
       "⎢                                                                             \n",
       "⎢                                                                             \n",
       "⎢                                                                             \n",
       "⎢                            _                                                \n",
       "⎢   0                    ⅈ⋅g⋅a                                  0             \n",
       "⎢                                                                             \n",
       "⎢                                                                             \n",
       "⎢                                                                 _           \n",
       "⎣   0                      0                                  ⅈ⋅g⋅a           \n",
       "\n",
       "                        0                           1                         \n",
       "                                                                              \n",
       "                                                                              \n",
       "                                                                              \n",
       "                        0                         ⅈ⋅Ωₘᵤ                       \n",
       "                                                                              \n",
       "                                                                              \n",
       "⋅n_b                                                                          \n",
       "────                    0                           0                         \n",
       "2                                                                             \n",
       "                                                                              \n",
       "             2                                                                \n",
       "        ⅈ⋅Ωₘᵤ           γ_2d             γₘᵤ                                  \n",
       "      - ────── + ⅈ⋅δ₃ - ──── - γₘᵤ⋅n_b - ───      -ⅈ⋅Ωₘᵤ                      \n",
       "          δ₃             2                2                                   \n",
       "                                                                              \n",
       "                      -ⅈ⋅Ωₘᵤ                  -γₘᵤ⋅(n_b + 1)                  \n",
       "                                                                              \n",
       "                                                                     2        \n",
       "                                                                ⅈ⋅Ωₘᵤ    γ₁₃  \n",
       "                      -ⅈ⋅a⋅g                        0         - ────── - ─── -\n",
       "                                                                  δ₃      2   \n",
       "                                                                              \n",
       "                                                                              \n",
       "                        0                           0                         \n",
       "                                                                              \n",
       "                                                                              \n",
       "                                                                              \n",
       "                                                                              \n",
       "                        0                           0                         \n",
       "                                                                              \n",
       "                                                                              \n",
       "                                                                              \n",
       "                        0                           0                         \n",
       "\n",
       "        0                                           0                         \n",
       "                                                                              \n",
       "                                                                              \n",
       "                                                                              \n",
       "        0                                           0                         \n",
       "                                                                              \n",
       "                                                                              \n",
       "                                                                              \n",
       "      ⅈ⋅Ωₘᵤ                                         0                         \n",
       "                                                                              \n",
       "                                                                              \n",
       "                                                                              \n",
       "           _                                                                  \n",
       "      -ⅈ⋅g⋅a                                        0                         \n",
       "                                                                              \n",
       "                                                                              \n",
       "        0                                           0                         \n",
       "                                                                              \n",
       "                                                                              \n",
       " γ₂₃   γ_2d   γ_3d   γₘᵤ⋅n_b   γₘᵤ                                            \n",
       " ─── - ──── - ──── - ─────── - ───                  0                         \n",
       "  2     2      2        2       2                                             \n",
       "                                                                              \n",
       "                                           γ₁₃   γ₂₃   γ_3d   γₘᵤ⋅n_b         \n",
       "        0                           ⅈ⋅δ₃ - ─── - ─── - ──── - ───────         \n",
       "                                            2     2     2        2            \n",
       "                                                                              \n",
       "                                                                            2 \n",
       "                                                                       ⅈ⋅Ωₘᵤ  \n",
       "        0                                        -ⅈ⋅Ωₘᵤ                ────── \n",
       "                                                                         δ₃   \n",
       "                                                                              \n",
       "                                                                              \n",
       "        0                                        -ⅈ⋅a⋅g                       \n",
       "\n",
       "                0                              1     ⎤\n",
       "                                                     ⎥\n",
       "                                                     ⎥\n",
       "                                                     ⎥\n",
       "              ⅈ⋅a⋅g                            0     ⎥\n",
       "                                                     ⎥\n",
       "                                                     ⎥\n",
       "                                                     ⎥\n",
       "                0                            ⅈ⋅a⋅g   ⎥\n",
       "                                                     ⎥\n",
       "                                                     ⎥\n",
       "                                                     ⎥\n",
       "                                                     ⎥\n",
       "                0                              0     ⎥\n",
       "                                                     ⎥\n",
       "                                                     ⎥\n",
       "                0                             γ₂₃    ⎥\n",
       "                                                     ⎥\n",
       "                                                     ⎥\n",
       "                                                     ⎥\n",
       "                0                              0     ⎥\n",
       "                                                     ⎥\n",
       "                                                     ⎥\n",
       "                                                  _  ⎥\n",
       "              -ⅈ⋅Ωₘᵤ                         -ⅈ⋅g⋅a  ⎥\n",
       "                                                     ⎥\n",
       "                                                     ⎥\n",
       "                                                     ⎥\n",
       "  γ₁₃   γ₂₃   γ_2d   γ_3d   γₘᵤ⋅n_b   γₘᵤ            ⎥\n",
       "- ─── - ─── - ──── - ──── - ─────── - ───      0     ⎥\n",
       "   2     2     2      2        2       2             ⎥\n",
       "                                                     ⎥\n",
       "                                                     ⎥\n",
       "                0                          -γ₁₃ - γ₂₃⎦"
      ]
     },
     "execution_count": 78,
     "metadata": {},
     "output_type": "execute_result"
    }
   ],
   "source": [
    "L_mu"
   ]
  },
  {
   "cell_type": "code",
   "execution_count": 93,
   "metadata": {},
   "outputs": [],
   "source": [
    "L_o_null=Matrix(L_o[:,:])\n",
    "L_o_null[0,:]=sym.zeros(1,9)"
   ]
  },
  {
   "cell_type": "code",
   "execution_count": 94,
   "metadata": {},
   "outputs": [
    {
     "data": {
      "text/latex": [
       "$$\\left[\\begin{matrix}0 & 0 & 0 & 0 & 0 & 0 & 0 & 0 & 0\\\\0 & - \\frac{i \\Omega_{o}^{2}}{\\delta_{3}} - \\frac{\\gamma_{2d}}{2} - \\gamma_{\\mu} n_{b} - \\frac{\\gamma_{\\mu}}{2} & - i \\Omega_{o} & 0 & 0 & 0 & 0 & i a g & 0\\\\- i a g & - i \\Omega_{o} & - i \\delta_{3} - \\frac{\\gamma_{13}}{2} - \\frac{\\gamma_{23}}{2} - \\frac{\\gamma_{3d}}{2} - \\frac{\\gamma_{\\mu} n_{b}}{2} & 0 & 0 & 0 & 0 & 0 & i a g\\\\0 & 0 & 0 & \\frac{i \\Omega_{o}^{2}}{\\delta_{3}} - \\frac{\\gamma_{2d}}{2} - \\gamma_{\\mu} n_{b} - \\frac{\\gamma_{\\mu}}{2} & 0 & - i g \\overline{a} & i \\Omega_{o} & 0 & 0\\\\\\gamma_{\\mu} n_{b} & 0 & 0 & 0 & - \\gamma_{\\mu} \\left(n_{b} + 1\\right) & - i \\Omega_{o} & 0 & i \\Omega_{o} & \\gamma_{23}\\\\0 & 0 & 0 & - i a g & - i \\Omega_{o} & \\frac{1}{\\delta_{3}} \\left(i \\Omega_{o}^{2} - \\frac{\\delta_{3}}{2} \\left(2 i \\delta_{3} + \\gamma_{13} + \\gamma_{23} + \\gamma_{2d} + \\gamma_{3d} + \\gamma_{\\mu} \\left(n_{b} + 1\\right)\\right)\\right) & 0 & 0 & i \\Omega_{o}\\\\i g \\overline{a} & 0 & 0 & i \\Omega_{o} & 0 & 0 & i \\delta_{3} - \\frac{\\gamma_{13}}{2} - \\frac{\\gamma_{23}}{2} - \\frac{\\gamma_{3d}}{2} - \\frac{\\gamma_{\\mu} n_{b}}{2} & 0 & - i g \\overline{a}\\\\0 & i g \\overline{a} & 0 & 0 & i \\Omega_{o} & 0 & 0 & \\frac{1}{\\delta_{3}} \\left(- i \\Omega_{o}^{2} + \\frac{\\delta_{3}}{2} \\left(2 i \\delta_{3} - \\gamma_{13} - \\gamma_{23} - \\gamma_{2d} - \\gamma_{3d} - \\gamma_{\\mu} \\left(n_{b} + 1\\right)\\right)\\right) & - i \\Omega_{o}\\\\0 & 0 & i g \\overline{a} & 0 & 0 & i \\Omega_{o} & - i a g & - i \\Omega_{o} & - \\gamma_{13} - \\gamma_{23}\\end{matrix}\\right]$$"
      ],
      "text/plain": [
       "⎡   0                   0                                 0                   \n",
       "⎢                                                                             \n",
       "⎢               2                                                             \n",
       "⎢           ⅈ⋅Ωₒ    γ_2d             γₘᵤ                                      \n",
       "⎢   0     - ───── - ──── - γₘᵤ⋅n_b - ───                -ⅈ⋅Ωₒ                 \n",
       "⎢             δ₃     2                2                                       \n",
       "⎢                                                                             \n",
       "⎢                                                 γ₁₃   γ₂₃   γ_3d   γₘᵤ⋅n_b  \n",
       "⎢-ⅈ⋅a⋅g               -ⅈ⋅Ωₒ               -ⅈ⋅δ₃ - ─── - ─── - ──── - ───────  \n",
       "⎢                                                  2     2     2        2     \n",
       "⎢                                                                             \n",
       "⎢                                                                             \n",
       "⎢                                                                             \n",
       "⎢   0                   0                                 0                   \n",
       "⎢                                                                             \n",
       "⎢                                                                             \n",
       "⎢γₘᵤ⋅n_b                0                                 0                   \n",
       "⎢                                                                             \n",
       "⎢                                                                             \n",
       "⎢                                                                             \n",
       "⎢                                                                             \n",
       "⎢   0                   0                                 0                   \n",
       "⎢                                                                             \n",
       "⎢                                                                             \n",
       "⎢     _                                                                       \n",
       "⎢ ⅈ⋅g⋅a                 0                                 0                   \n",
       "⎢                                                                             \n",
       "⎢                                                                             \n",
       "⎢                                                                             \n",
       "⎢                                                                             \n",
       "⎢                         _                                                   \n",
       "⎢   0                 ⅈ⋅g⋅a                               0                   \n",
       "⎢                                                                             \n",
       "⎢                                                                             \n",
       "⎢                                                           _                 \n",
       "⎣   0                   0                               ⅈ⋅g⋅a                 \n",
       "\n",
       "             0                      0                                       0 \n",
       "                                                                              \n",
       "                                                                              \n",
       "                                                                              \n",
       "             0                      0                                       0 \n",
       "                                                                              \n",
       "                                                                              \n",
       "                                                                              \n",
       "             0                      0                                       0 \n",
       "                                                                              \n",
       "                                                                              \n",
       "    2                                                                         \n",
       "ⅈ⋅Ωₒ    γ_2d             γₘᵤ                                                  \n",
       "───── - ──── - γₘᵤ⋅n_b - ───        0                                    -ⅈ⋅g⋅\n",
       "  δ₃     2                2                                                   \n",
       "                                                                              \n",
       "             0                -γₘᵤ⋅(n_b + 1)                              -ⅈ⋅Ω\n",
       "                                                                              \n",
       "                                                  2   δ₃⋅(2⋅ⅈ⋅δ₃ + γ₁₃ + γ₂₃ +\n",
       "                                              ⅈ⋅Ωₒ  - ────────────────────────\n",
       "                                                                              \n",
       "           -ⅈ⋅a⋅g                 -ⅈ⋅Ωₒ       ────────────────────────────────\n",
       "                                                                            δ₃\n",
       "                                                                              \n",
       "                                                                              \n",
       "            ⅈ⋅Ωₒ                    0                                       0 \n",
       "                                                                              \n",
       "                                                                              \n",
       "                                                                              \n",
       "                                                                              \n",
       "                                                                              \n",
       "             0                     ⅈ⋅Ωₒ                                     0 \n",
       "                                                                              \n",
       "                                                                              \n",
       "                                                                              \n",
       "             0                      0                                     ⅈ⋅Ωₒ\n",
       "\n",
       "                                               0                              \n",
       "                                                                              \n",
       "                                                                              \n",
       "                                                                              \n",
       "                                               0                              \n",
       "                                                                              \n",
       "                                                                              \n",
       "                                                                              \n",
       "                                               0                              \n",
       "                                                                              \n",
       "                                                                              \n",
       "                                                                              \n",
       "_                                                                             \n",
       "a                                            ⅈ⋅Ωₒ                             \n",
       "                                                                              \n",
       "                                                                              \n",
       "ₒ                                              0                              \n",
       "                                                                              \n",
       " γ_2d + γ_3d + γₘᵤ⋅(n_b + 1))                                                 \n",
       "─────────────────────────────                                                 \n",
       "  2                                                                           \n",
       "─────────────────────────────                  0                              \n",
       "                                                                              \n",
       "                                                                              \n",
       "                                      γ₁₃   γ₂₃   γ_3d   γₘᵤ⋅n_b              \n",
       "                               ⅈ⋅δ₃ - ─── - ─── - ──── - ───────              \n",
       "                                       2     2     2        2                 \n",
       "                                                                              \n",
       "                                                                        2   δ₃\n",
       "                                                                  - ⅈ⋅Ωₒ  + ──\n",
       "                                                                              \n",
       "                                               0                  ────────────\n",
       "                                                                              \n",
       "                                                                              \n",
       "                                                                              \n",
       "                                            -ⅈ⋅a⋅g                            \n",
       "\n",
       "                   0                                     0     ⎤\n",
       "                                                               ⎥\n",
       "                                                               ⎥\n",
       "                                                               ⎥\n",
       "                 ⅈ⋅a⋅g                                   0     ⎥\n",
       "                                                               ⎥\n",
       "                                                               ⎥\n",
       "                                                               ⎥\n",
       "                   0                                   ⅈ⋅a⋅g   ⎥\n",
       "                                                               ⎥\n",
       "                                                               ⎥\n",
       "                                                               ⎥\n",
       "                                                               ⎥\n",
       "                   0                                     0     ⎥\n",
       "                                                               ⎥\n",
       "                                                               ⎥\n",
       "                 ⅈ⋅Ωₒ                                   γ₂₃    ⎥\n",
       "                                                               ⎥\n",
       "                                                               ⎥\n",
       "                                                               ⎥\n",
       "                                                               ⎥\n",
       "                   0                                    ⅈ⋅Ωₒ   ⎥\n",
       "                                                               ⎥\n",
       "                                                               ⎥\n",
       "                                                            _  ⎥\n",
       "                   0                                   -ⅈ⋅g⋅a  ⎥\n",
       "                                                               ⎥\n",
       "                                                               ⎥\n",
       "⋅(2⋅ⅈ⋅δ₃ - γ₁₃ - γ₂₃ - γ_2d - γ_3d - γₘᵤ⋅(n_b + 1))            ⎥\n",
       "───────────────────────────────────────────────────            ⎥\n",
       "                        2                                      ⎥\n",
       "───────────────────────────────────────────────────    -ⅈ⋅Ωₒ   ⎥\n",
       "                   δ₃                                          ⎥\n",
       "                                                               ⎥\n",
       "                                                               ⎥\n",
       "                 -ⅈ⋅Ωₒ                               -γ₁₃ - γ₂₃⎦"
      ]
     },
     "execution_count": 94,
     "metadata": {},
     "output_type": "execute_result"
    }
   ],
   "source": [
    "L_o_null"
   ]
  },
  {
   "cell_type": "code",
   "execution_count": 95,
   "metadata": {},
   "outputs": [],
   "source": [
    "L_mu_null=Matrix(L_mu[:,:])\n",
    "L_mu_null[0,:]=sym.zeros(1,9)"
   ]
  },
  {
   "cell_type": "code",
   "execution_count": 97,
   "metadata": {},
   "outputs": [
    {
     "ename": "KeyboardInterrupt",
     "evalue": "",
     "output_type": "error",
     "traceback": [
      "\u001b[0;31m---------------------------------------------------------------------------\u001b[0m",
      "\u001b[0;31mKeyboardInterrupt\u001b[0m                         Traceback (most recent call last)",
      "\u001b[0;32m<ipython-input-97-a83039bc4708>\u001b[0m in \u001b[0;36m<module>\u001b[0;34m()\u001b[0m\n\u001b[0;32m----> 1\u001b[0;31m \u001b[0mL_mu_null\u001b[0m\u001b[0;34m.\u001b[0m\u001b[0mnullspace\u001b[0m\u001b[0;34m(\u001b[0m\u001b[0;34m)\u001b[0m\u001b[0;34m\u001b[0m\u001b[0m\n\u001b[0m",
      "\u001b[0;32m~/anaconda3/lib/python3.6/site-packages/sympy/matrices/matrices.py\u001b[0m in \u001b[0;36mnullspace\u001b[0;34m(self, simplify)\u001b[0m\n\u001b[1;32m    946\u001b[0m         \"\"\"\n\u001b[1;32m    947\u001b[0m \u001b[0;34m\u001b[0m\u001b[0m\n\u001b[0;32m--> 948\u001b[0;31m         \u001b[0mreduced\u001b[0m\u001b[0;34m,\u001b[0m \u001b[0mpivots\u001b[0m \u001b[0;34m=\u001b[0m \u001b[0mself\u001b[0m\u001b[0;34m.\u001b[0m\u001b[0mrref\u001b[0m\u001b[0;34m(\u001b[0m\u001b[0msimplify\u001b[0m\u001b[0;34m=\u001b[0m\u001b[0msimplify\u001b[0m\u001b[0;34m)\u001b[0m\u001b[0;34m\u001b[0m\u001b[0m\n\u001b[0m\u001b[1;32m    949\u001b[0m \u001b[0;34m\u001b[0m\u001b[0m\n\u001b[1;32m    950\u001b[0m         \u001b[0mfree_vars\u001b[0m \u001b[0;34m=\u001b[0m \u001b[0;34m[\u001b[0m\u001b[0mi\u001b[0m \u001b[0;32mfor\u001b[0m \u001b[0mi\u001b[0m \u001b[0;32min\u001b[0m \u001b[0mrange\u001b[0m\u001b[0;34m(\u001b[0m\u001b[0mself\u001b[0m\u001b[0;34m.\u001b[0m\u001b[0mcols\u001b[0m\u001b[0;34m)\u001b[0m \u001b[0;32mif\u001b[0m \u001b[0mi\u001b[0m \u001b[0;32mnot\u001b[0m \u001b[0;32min\u001b[0m \u001b[0mpivots\u001b[0m\u001b[0;34m]\u001b[0m\u001b[0;34m\u001b[0m\u001b[0m\n",
      "\u001b[0;32m~/anaconda3/lib/python3.6/site-packages/sympy/matrices/matrices.py\u001b[0m in \u001b[0;36mrref\u001b[0;34m(self, iszerofunc, simplify, pivots, normalize_last)\u001b[0m\n\u001b[1;32m    878\u001b[0m         ret, pivot_cols = self._eval_rref(iszerofunc=iszerofunc,\n\u001b[1;32m    879\u001b[0m                                           \u001b[0msimpfunc\u001b[0m\u001b[0;34m=\u001b[0m\u001b[0msimpfunc\u001b[0m\u001b[0;34m,\u001b[0m\u001b[0;34m\u001b[0m\u001b[0m\n\u001b[0;32m--> 880\u001b[0;31m                                           normalize_last=normalize_last)\n\u001b[0m\u001b[1;32m    881\u001b[0m         \u001b[0;32mif\u001b[0m \u001b[0mpivots\u001b[0m\u001b[0;34m:\u001b[0m\u001b[0;34m\u001b[0m\u001b[0m\n\u001b[1;32m    882\u001b[0m             \u001b[0mret\u001b[0m \u001b[0;34m=\u001b[0m \u001b[0;34m(\u001b[0m\u001b[0mret\u001b[0m\u001b[0;34m,\u001b[0m \u001b[0mpivot_cols\u001b[0m\u001b[0;34m)\u001b[0m\u001b[0;34m\u001b[0m\u001b[0m\n",
      "\u001b[0;32m~/anaconda3/lib/python3.6/site-packages/sympy/matrices/matrices.py\u001b[0m in \u001b[0;36m_eval_rref\u001b[0;34m(self, iszerofunc, simpfunc, normalize_last)\u001b[0m\n\u001b[1;32m    533\u001b[0m         reduced, pivot_cols, swaps = self._row_reduce(iszerofunc, simpfunc,\n\u001b[1;32m    534\u001b[0m                                                       \u001b[0mnormalize_last\u001b[0m\u001b[0;34m,\u001b[0m \u001b[0mnormalize\u001b[0m\u001b[0;34m=\u001b[0m\u001b[0;32mTrue\u001b[0m\u001b[0;34m,\u001b[0m\u001b[0;34m\u001b[0m\u001b[0m\n\u001b[0;32m--> 535\u001b[0;31m                                                       zero_above=True)\n\u001b[0m\u001b[1;32m    536\u001b[0m         \u001b[0;32mreturn\u001b[0m \u001b[0mreduced\u001b[0m\u001b[0;34m,\u001b[0m \u001b[0mpivot_cols\u001b[0m\u001b[0;34m\u001b[0m\u001b[0m\n\u001b[1;32m    537\u001b[0m \u001b[0;34m\u001b[0m\u001b[0m\n",
      "\u001b[0;32m~/anaconda3/lib/python3.6/site-packages/sympy/matrices/matrices.py\u001b[0m in \u001b[0;36m_row_reduce\u001b[0;34m(self, iszerofunc, simpfunc, normalize_last, normalize, zero_above)\u001b[0m\n\u001b[1;32m    649\u001b[0m             \u001b[0mpivot_offset\u001b[0m\u001b[0;34m,\u001b[0m \u001b[0mpivot_val\u001b[0m\u001b[0;34m,\u001b[0m\u001b[0;31m \u001b[0m\u001b[0;31m\\\u001b[0m\u001b[0;34m\u001b[0m\u001b[0m\n\u001b[1;32m    650\u001b[0m             assumed_nonzero, newly_determined = _find_reasonable_pivot(\n\u001b[0;32m--> 651\u001b[0;31m                 get_col(piv_col)[piv_row:], iszerofunc, simpfunc)\n\u001b[0m\u001b[1;32m    652\u001b[0m \u001b[0;34m\u001b[0m\u001b[0m\n\u001b[1;32m    653\u001b[0m             \u001b[0;31m# _find_reasonable_pivot may have simplified some things\u001b[0m\u001b[0;34m\u001b[0m\u001b[0;34m\u001b[0m\u001b[0m\n",
      "\u001b[0;32m~/anaconda3/lib/python3.6/site-packages/sympy/matrices/matrices.py\u001b[0m in \u001b[0;36m_find_reasonable_pivot\u001b[0;34m(col, iszerofunc, simpfunc)\u001b[0m\n\u001b[1;32m   4083\u001b[0m         \u001b[0;32mif\u001b[0m \u001b[0mpossible_zeros\u001b[0m\u001b[0;34m[\u001b[0m\u001b[0mi\u001b[0m\u001b[0;34m]\u001b[0m \u001b[0;32mis\u001b[0m \u001b[0;32mnot\u001b[0m \u001b[0;32mNone\u001b[0m\u001b[0;34m:\u001b[0m\u001b[0;34m\u001b[0m\u001b[0m\n\u001b[1;32m   4084\u001b[0m             \u001b[0;32mcontinue\u001b[0m\u001b[0;34m\u001b[0m\u001b[0m\n\u001b[0;32m-> 4085\u001b[0;31m         \u001b[0msimped\u001b[0m \u001b[0;34m=\u001b[0m \u001b[0msimpfunc\u001b[0m\u001b[0;34m(\u001b[0m\u001b[0mx\u001b[0m\u001b[0;34m)\u001b[0m\u001b[0;34m\u001b[0m\u001b[0m\n\u001b[0m\u001b[1;32m   4086\u001b[0m         \u001b[0mis_zero\u001b[0m \u001b[0;34m=\u001b[0m \u001b[0miszerofunc\u001b[0m\u001b[0;34m(\u001b[0m\u001b[0msimped\u001b[0m\u001b[0;34m)\u001b[0m\u001b[0;34m\u001b[0m\u001b[0m\n\u001b[1;32m   4087\u001b[0m         \u001b[0;32mif\u001b[0m \u001b[0mis_zero\u001b[0m \u001b[0;34m==\u001b[0m \u001b[0;32mTrue\u001b[0m \u001b[0;32mor\u001b[0m \u001b[0mis_zero\u001b[0m \u001b[0;34m==\u001b[0m \u001b[0;32mFalse\u001b[0m\u001b[0;34m:\u001b[0m\u001b[0;34m\u001b[0m\u001b[0m\n",
      "\u001b[0;32m~/anaconda3/lib/python3.6/site-packages/sympy/simplify/simplify.py\u001b[0m in \u001b[0;36msimplify\u001b[0;34m(expr, ratio, measure, fu)\u001b[0m\n\u001b[1;32m    544\u001b[0m     \u001b[0mexpr\u001b[0m \u001b[0;34m=\u001b[0m \u001b[0mbottom_up\u001b[0m\u001b[0;34m(\u001b[0m\u001b[0mexpr\u001b[0m\u001b[0;34m,\u001b[0m \u001b[0;32mlambda\u001b[0m \u001b[0mw\u001b[0m\u001b[0;34m:\u001b[0m \u001b[0mw\u001b[0m\u001b[0;34m.\u001b[0m\u001b[0mnormal\u001b[0m\u001b[0;34m(\u001b[0m\u001b[0;34m)\u001b[0m\u001b[0;34m)\u001b[0m\u001b[0;34m\u001b[0m\u001b[0m\n\u001b[1;32m    545\u001b[0m     \u001b[0mexpr\u001b[0m \u001b[0;34m=\u001b[0m \u001b[0mMul\u001b[0m\u001b[0;34m(\u001b[0m\u001b[0;34m*\u001b[0m\u001b[0mpowsimp\u001b[0m\u001b[0;34m(\u001b[0m\u001b[0mexpr\u001b[0m\u001b[0;34m)\u001b[0m\u001b[0;34m.\u001b[0m\u001b[0mas_content_primitive\u001b[0m\u001b[0;34m(\u001b[0m\u001b[0;34m)\u001b[0m\u001b[0;34m)\u001b[0m\u001b[0;34m\u001b[0m\u001b[0m\n\u001b[0;32m--> 546\u001b[0;31m     \u001b[0m_e\u001b[0m \u001b[0;34m=\u001b[0m \u001b[0mcancel\u001b[0m\u001b[0;34m(\u001b[0m\u001b[0mexpr\u001b[0m\u001b[0;34m)\u001b[0m\u001b[0;34m\u001b[0m\u001b[0m\n\u001b[0m\u001b[1;32m    547\u001b[0m     \u001b[0mexpr1\u001b[0m \u001b[0;34m=\u001b[0m \u001b[0mshorter\u001b[0m\u001b[0;34m(\u001b[0m\u001b[0m_e\u001b[0m\u001b[0;34m,\u001b[0m \u001b[0m_mexpand\u001b[0m\u001b[0;34m(\u001b[0m\u001b[0m_e\u001b[0m\u001b[0;34m)\u001b[0m\u001b[0;34m.\u001b[0m\u001b[0mcancel\u001b[0m\u001b[0;34m(\u001b[0m\u001b[0;34m)\u001b[0m\u001b[0;34m)\u001b[0m  \u001b[0;31m# issue 6829\u001b[0m\u001b[0;34m\u001b[0m\u001b[0m\n\u001b[1;32m    548\u001b[0m     \u001b[0mexpr2\u001b[0m \u001b[0;34m=\u001b[0m \u001b[0mshorter\u001b[0m\u001b[0;34m(\u001b[0m\u001b[0mtogether\u001b[0m\u001b[0;34m(\u001b[0m\u001b[0mexpr\u001b[0m\u001b[0;34m,\u001b[0m \u001b[0mdeep\u001b[0m\u001b[0;34m=\u001b[0m\u001b[0;32mTrue\u001b[0m\u001b[0;34m)\u001b[0m\u001b[0;34m,\u001b[0m \u001b[0mtogether\u001b[0m\u001b[0;34m(\u001b[0m\u001b[0mexpr1\u001b[0m\u001b[0;34m,\u001b[0m \u001b[0mdeep\u001b[0m\u001b[0;34m=\u001b[0m\u001b[0;32mTrue\u001b[0m\u001b[0;34m)\u001b[0m\u001b[0;34m)\u001b[0m\u001b[0;34m\u001b[0m\u001b[0m\n",
      "\u001b[0;32m~/anaconda3/lib/python3.6/site-packages/sympy/polys/polytools.py\u001b[0m in \u001b[0;36mcancel\u001b[0;34m(f, *gens, **args)\u001b[0m\n\u001b[1;32m   6432\u001b[0m \u001b[0;34m\u001b[0m\u001b[0m\n\u001b[1;32m   6433\u001b[0m     \u001b[0;32mtry\u001b[0m\u001b[0;34m:\u001b[0m\u001b[0;34m\u001b[0m\u001b[0m\n\u001b[0;32m-> 6434\u001b[0;31m         \u001b[0;34m(\u001b[0m\u001b[0mF\u001b[0m\u001b[0;34m,\u001b[0m \u001b[0mG\u001b[0m\u001b[0;34m)\u001b[0m\u001b[0;34m,\u001b[0m \u001b[0mopt\u001b[0m \u001b[0;34m=\u001b[0m \u001b[0mparallel_poly_from_expr\u001b[0m\u001b[0;34m(\u001b[0m\u001b[0;34m(\u001b[0m\u001b[0mp\u001b[0m\u001b[0;34m,\u001b[0m \u001b[0mq\u001b[0m\u001b[0;34m)\u001b[0m\u001b[0;34m,\u001b[0m \u001b[0;34m*\u001b[0m\u001b[0mgens\u001b[0m\u001b[0;34m,\u001b[0m \u001b[0;34m**\u001b[0m\u001b[0margs\u001b[0m\u001b[0;34m)\u001b[0m\u001b[0;34m\u001b[0m\u001b[0m\n\u001b[0m\u001b[1;32m   6435\u001b[0m     \u001b[0;32mexcept\u001b[0m \u001b[0mPolificationFailed\u001b[0m\u001b[0;34m:\u001b[0m\u001b[0;34m\u001b[0m\u001b[0m\n\u001b[1;32m   6436\u001b[0m         \u001b[0;32mif\u001b[0m \u001b[0;32mnot\u001b[0m \u001b[0misinstance\u001b[0m\u001b[0;34m(\u001b[0m\u001b[0mf\u001b[0m\u001b[0;34m,\u001b[0m \u001b[0;34m(\u001b[0m\u001b[0mtuple\u001b[0m\u001b[0;34m,\u001b[0m \u001b[0mTuple\u001b[0m\u001b[0;34m)\u001b[0m\u001b[0;34m)\u001b[0m\u001b[0;34m:\u001b[0m\u001b[0;34m\u001b[0m\u001b[0m\n",
      "\u001b[0;32m~/anaconda3/lib/python3.6/site-packages/sympy/polys/polytools.py\u001b[0m in \u001b[0;36mparallel_poly_from_expr\u001b[0;34m(exprs, *gens, **args)\u001b[0m\n\u001b[1;32m   4264\u001b[0m     \u001b[0;34m\"\"\"Construct polynomials from expressions. \"\"\"\u001b[0m\u001b[0;34m\u001b[0m\u001b[0m\n\u001b[1;32m   4265\u001b[0m     \u001b[0mopt\u001b[0m \u001b[0;34m=\u001b[0m \u001b[0moptions\u001b[0m\u001b[0;34m.\u001b[0m\u001b[0mbuild_options\u001b[0m\u001b[0;34m(\u001b[0m\u001b[0mgens\u001b[0m\u001b[0;34m,\u001b[0m \u001b[0margs\u001b[0m\u001b[0;34m)\u001b[0m\u001b[0;34m\u001b[0m\u001b[0m\n\u001b[0;32m-> 4266\u001b[0;31m     \u001b[0;32mreturn\u001b[0m \u001b[0m_parallel_poly_from_expr\u001b[0m\u001b[0;34m(\u001b[0m\u001b[0mexprs\u001b[0m\u001b[0;34m,\u001b[0m \u001b[0mopt\u001b[0m\u001b[0;34m)\u001b[0m\u001b[0;34m\u001b[0m\u001b[0m\n\u001b[0m\u001b[1;32m   4267\u001b[0m \u001b[0;34m\u001b[0m\u001b[0m\n\u001b[1;32m   4268\u001b[0m \u001b[0;34m\u001b[0m\u001b[0m\n",
      "\u001b[0;32m~/anaconda3/lib/python3.6/site-packages/sympy/polys/polytools.py\u001b[0m in \u001b[0;36m_parallel_poly_from_expr\u001b[0;34m(exprs, opt)\u001b[0m\n\u001b[1;32m   4303\u001b[0m \u001b[0;34m\u001b[0m\u001b[0m\n\u001b[1;32m   4304\u001b[0m                 \u001b[0;32mif\u001b[0m \u001b[0mopt\u001b[0m\u001b[0;34m.\u001b[0m\u001b[0mexpand\u001b[0m\u001b[0;34m:\u001b[0m\u001b[0;34m\u001b[0m\u001b[0m\n\u001b[0;32m-> 4305\u001b[0;31m                     \u001b[0mexpr\u001b[0m \u001b[0;34m=\u001b[0m \u001b[0mexpr\u001b[0m\u001b[0;34m.\u001b[0m\u001b[0mexpand\u001b[0m\u001b[0;34m(\u001b[0m\u001b[0;34m)\u001b[0m\u001b[0;34m\u001b[0m\u001b[0m\n\u001b[0m\u001b[1;32m   4306\u001b[0m         \u001b[0;32melse\u001b[0m\u001b[0;34m:\u001b[0m\u001b[0;34m\u001b[0m\u001b[0m\n\u001b[1;32m   4307\u001b[0m             \u001b[0mfailed\u001b[0m \u001b[0;34m=\u001b[0m \u001b[0;32mTrue\u001b[0m\u001b[0;34m\u001b[0m\u001b[0m\n",
      "\u001b[0;32m~/anaconda3/lib/python3.6/site-packages/sympy/core/expr.py\u001b[0m in \u001b[0;36mexpand\u001b[0;34m(self, deep, modulus, power_base, power_exp, mul, log, multinomial, basic, **hints)\u001b[0m\n\u001b[1;32m   3052\u001b[0m             \u001b[0;32mif\u001b[0m \u001b[0mhints\u001b[0m\u001b[0;34m.\u001b[0m\u001b[0mget\u001b[0m\u001b[0;34m(\u001b[0m\u001b[0;34m'mul'\u001b[0m\u001b[0;34m,\u001b[0m \u001b[0;32mFalse\u001b[0m\u001b[0;34m)\u001b[0m\u001b[0;34m:\u001b[0m\u001b[0;34m\u001b[0m\u001b[0m\n\u001b[1;32m   3053\u001b[0m                 expr, _ = Expr._expand_hint(\n\u001b[0;32m-> 3054\u001b[0;31m                     expr, '_eval_expand_mul', deep=deep, **hints)\n\u001b[0m\u001b[1;32m   3055\u001b[0m             \u001b[0;32mif\u001b[0m \u001b[0mhints\u001b[0m\u001b[0;34m.\u001b[0m\u001b[0mget\u001b[0m\u001b[0;34m(\u001b[0m\u001b[0;34m'log'\u001b[0m\u001b[0;34m,\u001b[0m \u001b[0;32mFalse\u001b[0m\u001b[0;34m)\u001b[0m\u001b[0;34m:\u001b[0m\u001b[0;34m\u001b[0m\u001b[0m\n\u001b[1;32m   3056\u001b[0m                 expr, _ = Expr._expand_hint(\n",
      "\u001b[0;32m~/anaconda3/lib/python3.6/site-packages/sympy/core/expr.py\u001b[0m in \u001b[0;36m_expand_hint\u001b[0;34m(expr, hint, deep, **hints)\u001b[0m\n\u001b[1;32m   2976\u001b[0m             \u001b[0msargs\u001b[0m \u001b[0;34m=\u001b[0m \u001b[0;34m[\u001b[0m\u001b[0;34m]\u001b[0m\u001b[0;34m\u001b[0m\u001b[0m\n\u001b[1;32m   2977\u001b[0m             \u001b[0;32mfor\u001b[0m \u001b[0marg\u001b[0m \u001b[0;32min\u001b[0m \u001b[0mexpr\u001b[0m\u001b[0;34m.\u001b[0m\u001b[0margs\u001b[0m\u001b[0;34m:\u001b[0m\u001b[0;34m\u001b[0m\u001b[0m\n\u001b[0;32m-> 2978\u001b[0;31m                 \u001b[0marg\u001b[0m\u001b[0;34m,\u001b[0m \u001b[0marghit\u001b[0m \u001b[0;34m=\u001b[0m \u001b[0mExpr\u001b[0m\u001b[0;34m.\u001b[0m\u001b[0m_expand_hint\u001b[0m\u001b[0;34m(\u001b[0m\u001b[0marg\u001b[0m\u001b[0;34m,\u001b[0m \u001b[0mhint\u001b[0m\u001b[0;34m,\u001b[0m \u001b[0;34m**\u001b[0m\u001b[0mhints\u001b[0m\u001b[0;34m)\u001b[0m\u001b[0;34m\u001b[0m\u001b[0m\n\u001b[0m\u001b[1;32m   2979\u001b[0m                 \u001b[0mhit\u001b[0m \u001b[0;34m|=\u001b[0m \u001b[0marghit\u001b[0m\u001b[0;34m\u001b[0m\u001b[0m\n\u001b[1;32m   2980\u001b[0m                 \u001b[0msargs\u001b[0m\u001b[0;34m.\u001b[0m\u001b[0mappend\u001b[0m\u001b[0;34m(\u001b[0m\u001b[0marg\u001b[0m\u001b[0;34m)\u001b[0m\u001b[0;34m\u001b[0m\u001b[0m\n",
      "\u001b[0;32m~/anaconda3/lib/python3.6/site-packages/sympy/core/expr.py\u001b[0m in \u001b[0;36m_expand_hint\u001b[0;34m(expr, hint, deep, **hints)\u001b[0m\n\u001b[1;32m   2984\u001b[0m \u001b[0;34m\u001b[0m\u001b[0m\n\u001b[1;32m   2985\u001b[0m         \u001b[0;32mif\u001b[0m \u001b[0mhasattr\u001b[0m\u001b[0;34m(\u001b[0m\u001b[0mexpr\u001b[0m\u001b[0;34m,\u001b[0m \u001b[0mhint\u001b[0m\u001b[0;34m)\u001b[0m\u001b[0;34m:\u001b[0m\u001b[0;34m\u001b[0m\u001b[0m\n\u001b[0;32m-> 2986\u001b[0;31m             \u001b[0mnewexpr\u001b[0m \u001b[0;34m=\u001b[0m \u001b[0mgetattr\u001b[0m\u001b[0;34m(\u001b[0m\u001b[0mexpr\u001b[0m\u001b[0;34m,\u001b[0m \u001b[0mhint\u001b[0m\u001b[0;34m)\u001b[0m\u001b[0;34m(\u001b[0m\u001b[0;34m**\u001b[0m\u001b[0mhints\u001b[0m\u001b[0;34m)\u001b[0m\u001b[0;34m\u001b[0m\u001b[0m\n\u001b[0m\u001b[1;32m   2987\u001b[0m             \u001b[0;32mif\u001b[0m \u001b[0mnewexpr\u001b[0m \u001b[0;34m!=\u001b[0m \u001b[0mexpr\u001b[0m\u001b[0;34m:\u001b[0m\u001b[0;34m\u001b[0m\u001b[0m\n\u001b[1;32m   2988\u001b[0m                 \u001b[0;32mreturn\u001b[0m \u001b[0;34m(\u001b[0m\u001b[0mnewexpr\u001b[0m\u001b[0;34m,\u001b[0m \u001b[0;32mTrue\u001b[0m\u001b[0;34m)\u001b[0m\u001b[0;34m\u001b[0m\u001b[0m\n",
      "\u001b[0;32m~/anaconda3/lib/python3.6/site-packages/sympy/core/mul.py\u001b[0m in \u001b[0;36m_eval_expand_mul\u001b[0;34m(self, **hints)\u001b[0m\n\u001b[1;32m    876\u001b[0m                 \u001b[0margs\u001b[0m \u001b[0;34m=\u001b[0m \u001b[0;34m[\u001b[0m\u001b[0;34m]\u001b[0m\u001b[0;34m\u001b[0m\u001b[0m\n\u001b[1;32m    877\u001b[0m                 \u001b[0;32mfor\u001b[0m \u001b[0mterm\u001b[0m \u001b[0;32min\u001b[0m \u001b[0mterms\u001b[0m\u001b[0;34m:\u001b[0m\u001b[0;34m\u001b[0m\u001b[0m\n\u001b[0;32m--> 878\u001b[0;31m                     \u001b[0mt\u001b[0m \u001b[0;34m=\u001b[0m \u001b[0mself\u001b[0m\u001b[0;34m.\u001b[0m\u001b[0mfunc\u001b[0m\u001b[0;34m(\u001b[0m\u001b[0mplain\u001b[0m\u001b[0;34m,\u001b[0m \u001b[0mterm\u001b[0m\u001b[0;34m)\u001b[0m\u001b[0;34m\u001b[0m\u001b[0m\n\u001b[0m\u001b[1;32m    879\u001b[0m                     \u001b[0;32mif\u001b[0m \u001b[0mt\u001b[0m\u001b[0;34m.\u001b[0m\u001b[0mis_Mul\u001b[0m \u001b[0;32mand\u001b[0m \u001b[0many\u001b[0m\u001b[0;34m(\u001b[0m\u001b[0ma\u001b[0m\u001b[0;34m.\u001b[0m\u001b[0mis_Add\u001b[0m \u001b[0;32mfor\u001b[0m \u001b[0ma\u001b[0m \u001b[0;32min\u001b[0m \u001b[0mt\u001b[0m\u001b[0;34m.\u001b[0m\u001b[0margs\u001b[0m\u001b[0;34m)\u001b[0m\u001b[0;34m:\u001b[0m\u001b[0;34m\u001b[0m\u001b[0m\n\u001b[1;32m    880\u001b[0m                         \u001b[0mt\u001b[0m \u001b[0;34m=\u001b[0m \u001b[0mt\u001b[0m\u001b[0;34m.\u001b[0m\u001b[0m_eval_expand_mul\u001b[0m\u001b[0;34m(\u001b[0m\u001b[0;34m)\u001b[0m\u001b[0;34m\u001b[0m\u001b[0m\n",
      "\u001b[0;32m~/anaconda3/lib/python3.6/site-packages/sympy/core/operations.py\u001b[0m in \u001b[0;36m__new__\u001b[0;34m(cls, *args, **options)\u001b[0m\n\u001b[1;32m     39\u001b[0m             \u001b[0;32mreturn\u001b[0m \u001b[0margs\u001b[0m\u001b[0;34m[\u001b[0m\u001b[0;36m0\u001b[0m\u001b[0;34m]\u001b[0m\u001b[0;34m\u001b[0m\u001b[0m\n\u001b[1;32m     40\u001b[0m \u001b[0;34m\u001b[0m\u001b[0m\n\u001b[0;32m---> 41\u001b[0;31m         \u001b[0mc_part\u001b[0m\u001b[0;34m,\u001b[0m \u001b[0mnc_part\u001b[0m\u001b[0;34m,\u001b[0m \u001b[0morder_symbols\u001b[0m \u001b[0;34m=\u001b[0m \u001b[0mcls\u001b[0m\u001b[0;34m.\u001b[0m\u001b[0mflatten\u001b[0m\u001b[0;34m(\u001b[0m\u001b[0margs\u001b[0m\u001b[0;34m)\u001b[0m\u001b[0;34m\u001b[0m\u001b[0m\n\u001b[0m\u001b[1;32m     42\u001b[0m         \u001b[0mis_commutative\u001b[0m \u001b[0;34m=\u001b[0m \u001b[0;32mnot\u001b[0m \u001b[0mnc_part\u001b[0m\u001b[0;34m\u001b[0m\u001b[0m\n\u001b[1;32m     43\u001b[0m         \u001b[0mobj\u001b[0m \u001b[0;34m=\u001b[0m \u001b[0mcls\u001b[0m\u001b[0;34m.\u001b[0m\u001b[0m_from_args\u001b[0m\u001b[0;34m(\u001b[0m\u001b[0mc_part\u001b[0m \u001b[0;34m+\u001b[0m \u001b[0mnc_part\u001b[0m\u001b[0;34m,\u001b[0m \u001b[0mis_commutative\u001b[0m\u001b[0;34m)\u001b[0m\u001b[0;34m\u001b[0m\u001b[0m\n",
      "\u001b[0;32m~/anaconda3/lib/python3.6/site-packages/sympy/core/mul.py\u001b[0m in \u001b[0;36mflatten\u001b[0;34m(cls, seq)\u001b[0m\n\u001b[1;32m    389\u001b[0m \u001b[0;34m\u001b[0m\u001b[0m\n\u001b[1;32m    390\u001b[0m         \u001b[0;31m# in c_powers\u001b[0m\u001b[0;34m\u001b[0m\u001b[0;34m\u001b[0m\u001b[0m\n\u001b[0;32m--> 391\u001b[0;31m         \u001b[0mc_powers\u001b[0m \u001b[0;34m=\u001b[0m \u001b[0m_gather\u001b[0m\u001b[0;34m(\u001b[0m\u001b[0mc_powers\u001b[0m\u001b[0;34m)\u001b[0m\u001b[0;34m\u001b[0m\u001b[0m\n\u001b[0m\u001b[1;32m    392\u001b[0m \u001b[0;34m\u001b[0m\u001b[0m\n\u001b[1;32m    393\u001b[0m         \u001b[0;31m# and in num_exp\u001b[0m\u001b[0;34m\u001b[0m\u001b[0;34m\u001b[0m\u001b[0m\n",
      "\u001b[0;32m~/anaconda3/lib/python3.6/site-packages/sympy/core/mul.py\u001b[0m in \u001b[0;36m_gather\u001b[0;34m(c_powers)\u001b[0m\n\u001b[1;32m    385\u001b[0m             \u001b[0mnew_c_powers\u001b[0m \u001b[0;34m=\u001b[0m \u001b[0;34m[\u001b[0m\u001b[0;34m]\u001b[0m\u001b[0;34m\u001b[0m\u001b[0m\n\u001b[1;32m    386\u001b[0m             \u001b[0;32mfor\u001b[0m \u001b[0mb\u001b[0m\u001b[0;34m,\u001b[0m \u001b[0me\u001b[0m \u001b[0;32min\u001b[0m \u001b[0mcommon_b\u001b[0m\u001b[0;34m.\u001b[0m\u001b[0mitems\u001b[0m\u001b[0;34m(\u001b[0m\u001b[0;34m)\u001b[0m\u001b[0;34m:\u001b[0m\u001b[0;34m\u001b[0m\u001b[0m\n\u001b[0;32m--> 387\u001b[0;31m                 \u001b[0mnew_c_powers\u001b[0m\u001b[0;34m.\u001b[0m\u001b[0mextend\u001b[0m\u001b[0;34m(\u001b[0m\u001b[0;34m[\u001b[0m\u001b[0;34m(\u001b[0m\u001b[0mb\u001b[0m\u001b[0;34m,\u001b[0m \u001b[0mc\u001b[0m\u001b[0;34m*\u001b[0m\u001b[0mt\u001b[0m\u001b[0;34m)\u001b[0m \u001b[0;32mfor\u001b[0m \u001b[0mt\u001b[0m\u001b[0;34m,\u001b[0m \u001b[0mc\u001b[0m \u001b[0;32min\u001b[0m \u001b[0me\u001b[0m\u001b[0;34m.\u001b[0m\u001b[0mitems\u001b[0m\u001b[0;34m(\u001b[0m\u001b[0;34m)\u001b[0m\u001b[0;34m]\u001b[0m\u001b[0;34m)\u001b[0m\u001b[0;34m\u001b[0m\u001b[0m\n\u001b[0m\u001b[1;32m    388\u001b[0m             \u001b[0;32mreturn\u001b[0m \u001b[0mnew_c_powers\u001b[0m\u001b[0;34m\u001b[0m\u001b[0m\n\u001b[1;32m    389\u001b[0m \u001b[0;34m\u001b[0m\u001b[0m\n",
      "\u001b[0;32m~/anaconda3/lib/python3.6/site-packages/sympy/core/mul.py\u001b[0m in \u001b[0;36m<listcomp>\u001b[0;34m(.0)\u001b[0m\n\u001b[1;32m    385\u001b[0m             \u001b[0mnew_c_powers\u001b[0m \u001b[0;34m=\u001b[0m \u001b[0;34m[\u001b[0m\u001b[0;34m]\u001b[0m\u001b[0;34m\u001b[0m\u001b[0m\n\u001b[1;32m    386\u001b[0m             \u001b[0;32mfor\u001b[0m \u001b[0mb\u001b[0m\u001b[0;34m,\u001b[0m \u001b[0me\u001b[0m \u001b[0;32min\u001b[0m \u001b[0mcommon_b\u001b[0m\u001b[0;34m.\u001b[0m\u001b[0mitems\u001b[0m\u001b[0;34m(\u001b[0m\u001b[0;34m)\u001b[0m\u001b[0;34m:\u001b[0m\u001b[0;34m\u001b[0m\u001b[0m\n\u001b[0;32m--> 387\u001b[0;31m                 \u001b[0mnew_c_powers\u001b[0m\u001b[0;34m.\u001b[0m\u001b[0mextend\u001b[0m\u001b[0;34m(\u001b[0m\u001b[0;34m[\u001b[0m\u001b[0;34m(\u001b[0m\u001b[0mb\u001b[0m\u001b[0;34m,\u001b[0m \u001b[0mc\u001b[0m\u001b[0;34m*\u001b[0m\u001b[0mt\u001b[0m\u001b[0;34m)\u001b[0m \u001b[0;32mfor\u001b[0m \u001b[0mt\u001b[0m\u001b[0;34m,\u001b[0m \u001b[0mc\u001b[0m \u001b[0;32min\u001b[0m \u001b[0me\u001b[0m\u001b[0;34m.\u001b[0m\u001b[0mitems\u001b[0m\u001b[0;34m(\u001b[0m\u001b[0;34m)\u001b[0m\u001b[0;34m]\u001b[0m\u001b[0;34m)\u001b[0m\u001b[0;34m\u001b[0m\u001b[0m\n\u001b[0m\u001b[1;32m    388\u001b[0m             \u001b[0;32mreturn\u001b[0m \u001b[0mnew_c_powers\u001b[0m\u001b[0;34m\u001b[0m\u001b[0m\n\u001b[1;32m    389\u001b[0m \u001b[0;34m\u001b[0m\u001b[0m\n",
      "\u001b[0;32m~/anaconda3/lib/python3.6/site-packages/sympy/core/numbers.py\u001b[0m in \u001b[0;36m__mul__\u001b[0;34m(self, other)\u001b[0m\n\u001b[1;32m   2072\u001b[0m                 \u001b[0;32mreturn\u001b[0m \u001b[0mInteger\u001b[0m\u001b[0;34m(\u001b[0m\u001b[0mself\u001b[0m\u001b[0;34m.\u001b[0m\u001b[0mp\u001b[0m\u001b[0;34m*\u001b[0m\u001b[0mother\u001b[0m\u001b[0;34m)\u001b[0m\u001b[0;34m\u001b[0m\u001b[0m\n\u001b[1;32m   2073\u001b[0m             \u001b[0;32melif\u001b[0m \u001b[0misinstance\u001b[0m\u001b[0;34m(\u001b[0m\u001b[0mother\u001b[0m\u001b[0;34m,\u001b[0m \u001b[0mInteger\u001b[0m\u001b[0;34m)\u001b[0m\u001b[0;34m:\u001b[0m\u001b[0;34m\u001b[0m\u001b[0m\n\u001b[0;32m-> 2074\u001b[0;31m                 \u001b[0;32mreturn\u001b[0m \u001b[0mInteger\u001b[0m\u001b[0;34m(\u001b[0m\u001b[0mself\u001b[0m\u001b[0;34m.\u001b[0m\u001b[0mp\u001b[0m\u001b[0;34m*\u001b[0m\u001b[0mother\u001b[0m\u001b[0;34m.\u001b[0m\u001b[0mp\u001b[0m\u001b[0;34m)\u001b[0m\u001b[0;34m\u001b[0m\u001b[0m\n\u001b[0m\u001b[1;32m   2075\u001b[0m             \u001b[0;32melif\u001b[0m \u001b[0misinstance\u001b[0m\u001b[0;34m(\u001b[0m\u001b[0mother\u001b[0m\u001b[0;34m,\u001b[0m \u001b[0mRational\u001b[0m\u001b[0;34m)\u001b[0m\u001b[0;34m:\u001b[0m\u001b[0;34m\u001b[0m\u001b[0m\n\u001b[1;32m   2076\u001b[0m                 \u001b[0;32mreturn\u001b[0m \u001b[0mRational\u001b[0m\u001b[0;34m(\u001b[0m\u001b[0mself\u001b[0m\u001b[0;34m.\u001b[0m\u001b[0mp\u001b[0m\u001b[0;34m*\u001b[0m\u001b[0mother\u001b[0m\u001b[0;34m.\u001b[0m\u001b[0mp\u001b[0m\u001b[0;34m,\u001b[0m \u001b[0mother\u001b[0m\u001b[0;34m.\u001b[0m\u001b[0mq\u001b[0m\u001b[0;34m,\u001b[0m \u001b[0migcd\u001b[0m\u001b[0;34m(\u001b[0m\u001b[0mself\u001b[0m\u001b[0;34m.\u001b[0m\u001b[0mp\u001b[0m\u001b[0;34m,\u001b[0m \u001b[0mother\u001b[0m\u001b[0;34m.\u001b[0m\u001b[0mq\u001b[0m\u001b[0;34m)\u001b[0m\u001b[0;34m)\u001b[0m\u001b[0;34m\u001b[0m\u001b[0m\n",
      "\u001b[0;31mKeyboardInterrupt\u001b[0m: "
     ]
    }
   ],
   "source": [
    "L_mu_null.nullspace()"
   ]
  },
  {
   "cell_type": "code",
   "execution_count": 139,
   "metadata": {},
   "outputs": [],
   "source": [
    "def rho_on_resonance(L, delta3vals):\n",
    "    Lfunc = sym.lambdify((a, delta3, gamma13, gamma23, gamma2d, gamma3d, nbath,gammamu,omegao,omegam,g),L)\n",
    "    \n",
    "    rho=np.zeros((9,len(delta3vals)),dtype=np.complex_)\n",
    "    \n",
    "    for ii, del3val in enumerate(delta3vals):\n",
    "        if del3val != 0:\n",
    "            Lmatrix=Lfunc(aval,del3val, gamma13val, gamma23val, gamma2dval, gamma3dval, nbathval,gammamuval,omegaoval,omegamval,gval)\n",
    "            rho[:,ii] = np.reshape(np.linalg.solve(Lmatrix.astype('complex128'),np.matrix([[1,0,0,0,0,0,0,0,0]]).T),9)\n",
    "        else:\n",
    "            rho[:,ii]=np.nan\n",
    "    return rho\n"
   ]
  },
  {
   "cell_type": "code",
   "execution_count": 193,
   "metadata": {},
   "outputs": [],
   "source": [
    "aval=0\n",
    "gamma13val=1./22e-3\n",
    "gamma23val=1./22e-3\n",
    "gamma2dval=1./1e-6\n",
    "gamma3dval=1./1e-6\n",
    "nbathval=20\n",
    "gammamuval=1./((nbathval+1)*11e-3)\n",
    "gval=0\n",
    "omegaoval=1e7\n",
    "omegamval=1e7\n",
    "ndelta2=501\n",
    "ndelta3=501\n",
    "\n",
    "delta2vals=np.linspace(-40e6,40e6,ndelta2)\n",
    "delta3vals=np.linspace(-40e6,40e6,ndelta3)"
   ]
  },
  {
   "cell_type": "code",
   "execution_count": 194,
   "metadata": {},
   "outputs": [],
   "source": [
    "rho_o=rho_on_resonance(L_o, delta3vals)"
   ]
  },
  {
   "cell_type": "code",
   "execution_count": 195,
   "metadata": {},
   "outputs": [],
   "source": [
    "rho_mu=rho_on_resonance(L_mu, delta3vals)"
   ]
  },
  {
   "cell_type": "code",
   "execution_count": 196,
   "metadata": {},
   "outputs": [
    {
     "data": {
      "text/latex": [
       "$$\\left[\\begin{matrix}0.500015062850995 + 5.50861239833398 \\cdot 10^{-20} i\\\\8.06866564771965 \\cdot 10^{-6} - 1.08091433573393 \\cdot 10^{-7} i\\\\0\\\\8.06866564771965 \\cdot 10^{-6} + 1.08091433573452 \\cdot 10^{-7} i\\\\0.499984937149005 - 5.5052787191078 \\cdot 10^{-20} i\\\\0\\\\0\\\\0\\\\0\\end{matrix}\\right]$$"
      ],
      "text/plain": [
       "⎡0.500015062850995 + 5.50861239833398e-20⋅ⅈ ⎤\n",
       "⎢                                           ⎥\n",
       "⎢8.06866564771965e-6 - 1.08091433573393e-7⋅ⅈ⎥\n",
       "⎢                                           ⎥\n",
       "⎢                     0                     ⎥\n",
       "⎢                                           ⎥\n",
       "⎢8.06866564771965e-6 + 1.08091433573452e-7⋅ⅈ⎥\n",
       "⎢                                           ⎥\n",
       "⎢ 0.499984937149005 - 5.5052787191078e-20⋅ⅈ ⎥\n",
       "⎢                                           ⎥\n",
       "⎢                     0                     ⎥\n",
       "⎢                                           ⎥\n",
       "⎢                     0                     ⎥\n",
       "⎢                                           ⎥\n",
       "⎢                     0                     ⎥\n",
       "⎢                                           ⎥\n",
       "⎣                     0                     ⎦"
      ]
     },
     "execution_count": 196,
     "metadata": {},
     "output_type": "execute_result"
    }
   ],
   "source": [
    "Matrix(rho_mu[:,1])"
   ]
  },
  {
   "cell_type": "code",
   "execution_count": 197,
   "metadata": {},
   "outputs": [
    {
     "data": {
      "text/latex": [
       "$$\\left[\\begin{matrix}0.440585466946113 + 5.90361004335898 \\cdot 10^{-16} i\\\\0\\\\0\\\\0\\\\0.279795880176805 - 1.26308590435301 \\cdot 10^{-16} i\\\\4.74418374794868 \\cdot 10^{-5} - 1.27099387671394 \\cdot 10^{-6} i\\\\0\\\\4.74418374794868 \\cdot 10^{-5} + 1.27099387671407 \\cdot 10^{-6} i\\\\0.279618652877082 - 1.26559117048823 \\cdot 10^{-16} i\\end{matrix}\\right]$$"
      ],
      "text/plain": [
       "⎡0.440585466946113 + 5.90361004335898e-16⋅ⅈ ⎤\n",
       "⎢                                           ⎥\n",
       "⎢                     0                     ⎥\n",
       "⎢                                           ⎥\n",
       "⎢                     0                     ⎥\n",
       "⎢                                           ⎥\n",
       "⎢                     0                     ⎥\n",
       "⎢                                           ⎥\n",
       "⎢0.279795880176805 - 1.26308590435301e-16⋅ⅈ ⎥\n",
       "⎢                                           ⎥\n",
       "⎢4.74418374794868e-5 - 1.27099387671394e-6⋅ⅈ⎥\n",
       "⎢                                           ⎥\n",
       "⎢                     0                     ⎥\n",
       "⎢                                           ⎥\n",
       "⎢4.74418374794868e-5 + 1.27099387671407e-6⋅ⅈ⎥\n",
       "⎢                                           ⎥\n",
       "⎣0.279618652877082 - 1.26559117048823e-16⋅ⅈ ⎦"
      ]
     },
     "execution_count": 197,
     "metadata": {},
     "output_type": "execute_result"
    }
   ],
   "source": [
    "Matrix(rho_o[:,1])"
   ]
  },
  {
   "cell_type": "code",
   "execution_count": 198,
   "metadata": {},
   "outputs": [
    {
     "data": {
      "image/png": "[encoded data removed]",
      "text/latex": [
       "$$\\left [ \\rho_{11}, \\quad \\rho_{21}, \\quad \\rho_{31}, \\quad \\rho_{12}, \\quad \\rho_{22}, \\quad \\rho_{32}, \\quad \\rho_{13}, \\quad \\rho_{23}, \\quad \\rho_{33}\\right ]$$"
      ],
      "text/plain": [
       "[ρ₁₁, ρ₂₁, ρ₃₁, ρ₁₂, ρ₂₂, ρ₃₂, ρ₁₃, ρ₂₃, ρ₃₃]"
      ]
     },
     "execution_count": 198,
     "metadata": {},
     "output_type": "execute_result"
    }
   ],
   "source": [
    "rhoflat"
   ]
  },
  {
   "cell_type": "code",
   "execution_count": 199,
   "metadata": {},
   "outputs": [
    {
     "data": {
      "text/plain": [
       "[<matplotlib.lines.Line2D at 0x7f69af88e080>]"
      ]
     },
     "execution_count": 199,
     "metadata": {},
     "output_type": "execute_result"
    },
    {
     "data": {
      "image/png": "[encoded data removed]",
      "text/plain": [
       "<Figure size 432x288 with 1 Axes>"
      ]
     },
     "metadata": {},
     "output_type": "display_data"
    }
   ],
   "source": [
    "plt.plot(delta3vals,np.real(rho_mu[1,:]))\n",
    "plt.plot(delta3vals,np.imag(rho_mu[1,:]))"
   ]
  },
  {
   "cell_type": "code",
   "execution_count": 200,
   "metadata": {},
   "outputs": [
    {
     "data": {
      "text/plain": [
       "[<matplotlib.lines.Line2D at 0x7f69af8ed5f8>]"
      ]
     },
     "execution_count": 200,
     "metadata": {},
     "output_type": "execute_result"
    },
    {
     "data": {
      "image/png": "[encoded data removed]",
      "text/plain": [
       "<Figure size 432x288 with 1 Axes>"
      ]
     },
     "metadata": {},
     "output_type": "display_data"
    }
   ],
   "source": [
    "plt.plot(delta3vals,np.real(rho_o[5,:]))\n",
    "plt.plot(delta3vals,np.imag(rho_o[5,:]))"
   ]
  },
  {
   "cell_type": "code",
   "execution_count": null,
   "metadata": {},
   "outputs": [],
   "source": []
  },
  {
   "cell_type": "code",
   "execution_count": null,
   "metadata": {},
   "outputs": [],
   "source": []
  }
 ],
 "metadata": {
  "kernelspec": {
   "display_name": "Python 3",
   "language": "python",
   "name": "python3"
  },
  "language_info": {
   "codemirror_mode": {
    "name": "ipython",
    "version": 3
   },
   "file_extension": ".py",
   "mimetype": "text/x-python",
   "name": "python",
   "nbconvert_exporter": "python",
   "pygments_lexer": "ipython3",
   "version": "3.6.5"
  }
 },
 "nbformat": 4,
 "nbformat_minor": 2
}
