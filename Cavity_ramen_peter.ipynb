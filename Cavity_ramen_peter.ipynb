{
 "cells": [
  {
   "cell_type": "markdown",
   "metadata": {},
   "source": [
    "Start by importing a load of stuff\n",
    "\n",
    "Add to this later if need more packages"
   ]
  },
  {
   "cell_type": "code",
   "execution_count": 1,
   "metadata": {},
   "outputs": [],
   "source": [
    "import sympy as sym\n",
    "sym.init_printing()\n",
    "\n",
    "import numpy as np\n",
    "from math import pi\n",
    "\n",
    "import matplotlib.pyplot as plt\n",
    "from sympy import I, Matrix, symbols\n",
    "from sympy.physics.quantum import TensorProduct, Dagger\n",
    "import scipy.optimize\n",
    "import scipy.integrate\n",
    "\n",
    "import scipy.constants as const\n",
    "\n",
    "#import qutip\n",
    "\n",
    "from matplotlib.colors import Normalize as Norm\n",
    "\n",
    "%load_ext cython"
   ]
  },
  {
   "cell_type": "code",
   "execution_count": 2,
   "metadata": {},
   "outputs": [],
   "source": [
    "#define some s pre/post operators\n",
    "#used for defining superoperators like L in matrix form\n",
    "\n",
    "def spre(m):\n",
    "    return TensorProduct(sym.eye(m.shape[0]),m)\n",
    "\n",
    "def spost(m):\n",
    "    return TensorProduct(m.T, sym.eye(m.shape[0]))\n",
    "\n",
    "def collapse(c):\n",
    "    tmp = Dagger(c)*c/2\n",
    "    return spre(c)*spost(Dagger(c))-spre(tmp)-spost(tmp)\n",
    "\n",
    "\n",
    "s13=Matrix([[0,0,1],[0,0,0],[0,0,0]])\n",
    "s23=Matrix([[0,0,0],[0,0,1],[0,0,0]])\n",
    "s12=Matrix([[0,1,0],[0,0,0],[0,0,0]])\n",
    "\n",
    "s31=s13.T\n",
    "s32=s23.T\n",
    "s21=s12.T\n",
    "\n",
    "s11 = s12*s21\n",
    "s22 = s21*s12\n",
    "s33 = s31*s13"
   ]
  },
  {
   "cell_type": "code",
   "execution_count": 3,
   "metadata": {},
   "outputs": [],
   "source": [
    "#define symbols that are used for the symbolic stuff\n",
    "delta2,delta3=sym.symbols('delta_2 delta_3', real=True)\n",
    "gamma13,gamma23,gamma2d,gamma3d,nbath,gammamu=sym.symbols('gamma_13 gamma_23 gamma_2d gamma_3d n_b gamma_mu', real=True, negative=False)\n",
    "omegao, omegam=sym.symbols('Omega_o Omega_mu', real=True, negative=False)\n",
    "rho11, rho12, rho13, rho21, rho22, rho23, rho31, rho32, rho33=sym.symbols('rho_11 rho_12 rho_13 rho_21 rho_22 rho_23 rho_31 rho_32 rho_33')\n",
    "\n",
    "a= sym.symbols('a')\n",
    "ar,ai=sym.symbols('a_r a_i', real=True)\n",
    "g=sym.symbols('g',real=True, negative=False)\n",
    "lam=sym.symbols('lambda')"
   ]
  },
  {
   "cell_type": "code",
   "execution_count": 4,
   "metadata": {},
   "outputs": [
    {
     "data": {
      "text/latex": [
       "$$\\left ( \\left[\\begin{matrix}0 & \\Omega_{\\mu} & g \\overline{a}\\\\\\Omega_{\\mu} & \\delta_{2} & \\Omega_{o}\\\\a g & \\Omega_{o} & \\delta_{3}\\end{matrix}\\right], \\quad \\left[\\begin{matrix}0 & \\Omega_{\\mu} & 0\\\\\\Omega_{\\mu} & \\delta_{2} & \\Omega_{o}\\\\0 & \\Omega_{o} & \\delta_{3}\\end{matrix}\\right], \\quad \\left[\\begin{matrix}0 & 0 & 0\\\\0 & \\delta_{2} & \\Omega_{o}\\\\0 & \\Omega_{o} & \\delta_{3}\\end{matrix}\\right], \\quad \\left[\\begin{matrix}0 & \\Omega_{\\mu} & 0\\\\\\Omega_{\\mu} & \\delta_{2} & 0\\\\0 & 0 & \\delta_{3}\\end{matrix}\\right]\\right )$$"
      ],
      "text/plain": [
       "⎛⎡            _⎤                                             ⎞\n",
       "⎜⎢ 0   Ωₘᵤ  g⋅a⎥  ⎡ 0   Ωₘᵤ  0 ⎤  ⎡0  0   0 ⎤  ⎡ 0   Ωₘᵤ  0 ⎤⎟\n",
       "⎜⎢             ⎥  ⎢            ⎥  ⎢         ⎥  ⎢            ⎥⎟\n",
       "⎜⎢Ωₘᵤ  δ₂   Ωₒ ⎥, ⎢Ωₘᵤ  δ₂   Ωₒ⎥, ⎢0  δ₂  Ωₒ⎥, ⎢Ωₘᵤ  δ₂   0 ⎥⎟\n",
       "⎜⎢             ⎥  ⎢            ⎥  ⎢         ⎥  ⎢            ⎥⎟\n",
       "⎝⎣a⋅g  Ωₒ   δ₃ ⎦  ⎣ 0   Ωₒ   δ₃⎦  ⎣0  Ωₒ  δ₃⎦  ⎣ 0    0   δ₃⎦⎠"
      ]
     },
     "execution_count": 4,
     "metadata": {},
     "output_type": "execute_result"
    }
   ],
   "source": [
    "#define the Hamiltonian for the system\n",
    "#might add to this if we want to include more stuff\n",
    "H=omegam*s21+omegao*s32+ g*a*s31\n",
    "H=H+Dagger(H)\n",
    "H=H+delta2*s22+delta3*s33\n",
    "\n",
    "H_no_a=H[:,:]\n",
    "H_no_a[0,2]=0\n",
    "H_no_a[2,0]=0\n",
    "H_no_a\n",
    "\n",
    "H_o=H_no_a[:,:]\n",
    "H_o[0,1]=0\n",
    "H_o[1,0]=0\n",
    "\n",
    "H_mu=H_no_a[:,:]\n",
    "H_mu[2,1]=0\n",
    "H_mu[1,2]=0\n",
    "\n",
    "\n",
    "H, H_no_a, H_o, H_mu"
   ]
  },
  {
   "cell_type": "code",
   "execution_count": 34,
   "metadata": {},
   "outputs": [],
   "source": [
    "#define the Liovillian for the system in Matrix form\n",
    "#We change the first row to impose the normalisation condition\n",
    "LH=-I*spre(H)+I*spost(H)\n",
    "L21 = gammamu*(nbath+1)*collapse(s12)\n",
    "L12 = gammamu*nbath*collapse(s21)\n",
    "L32 = gamma23*collapse(s23)\n",
    "L31 = gamma13*collapse(s13)\n",
    "L22 = gamma2d*collapse(s22)\n",
    "L33 = gamma3d*collapse(s33)\n",
    "\n",
    "L = LH + L21 + L12 + L32 + L31 + L22 + L33\n",
    "\n",
    "L = L.row_insert(0,Matrix([[1,0,0,0,1,0,0,0,1]]))\n",
    "L.row_del(1)"
   ]
  },
  {
   "cell_type": "code",
   "execution_count": 35,
   "metadata": {},
   "outputs": [],
   "source": [
    "#define the density matrix in square and row form\n",
    "#the row form is so the Liovillian in matrix form can be acted on it\n",
    "rho = Matrix([[rho11,rho21,rho31],[rho12,rho22,rho32],[rho13,rho23,rho33]])\n",
    "rho = 1*rho.T #because we are using \"fortran\" style matrix flatteneing\n",
    "rho[:]\n",
    "rhoflat = 1*rho.T \n",
    "rhoflat = rhoflat[:]"
   ]
  },
  {
   "cell_type": "code",
   "execution_count": 36,
   "metadata": {},
   "outputs": [],
   "source": [
    "#CtoR takes the complex, Hermitian Liovillian and transforms to a real, non hermitian version\n",
    "CtoR = Matrix([[2,0,0,0,0,0,0,0,0],\n",
    "               [0,0,0,0,2,0,0,0,0],\n",
    "               [0,0,0,0,0,0,0,0,2],\n",
    "               [0,1,0,1,0,0,0,0,0],\n",
    "               [0,I,0,-I,0,0,0,0,0],\n",
    "               [0,0,1,0,0,0,1,0,0],\n",
    "               [0,0,I,0,0,0,-I,0,0],\n",
    "               [0,0,0,0,0,1,0,1,0],\n",
    "               [0,0,0,0,0,I,0,-I,0]\n",
    "              ])\n",
    "CtoR=CtoR/2"
   ]
  },
  {
   "cell_type": "code",
   "execution_count": 37,
   "metadata": {},
   "outputs": [],
   "source": [
    "#make lambda functions for the Liovillian so it can be used for numerics\n",
    "\n",
    "Lreal = sym.simplify(CtoR*L*CtoR.inv())\n",
    "Lreal = Lreal.subs(a,ar+I*ai)\n",
    "Lreal\n",
    "\n",
    "\n",
    "Lfunc = sym.lambdify((a,delta2, delta3, gamma13, gamma23, gamma2d, gamma3d, nbath,gammamu,omegao,omegam,g),L)\n",
    "\n",
    "Lrealfunc = sym.lambdify((ar,ai,delta2, delta3, gamma13, gamma23, gamma2d, gamma3d, nbath,gammamu,omegao,omegam,g),Lreal)"
   ]
  },
  {
   "cell_type": "code",
   "execution_count": 38,
   "metadata": {},
   "outputs": [],
   "source": [
    "def dressed_states(delta3vals,omegamval,omegaoval):\n",
    "    H_disc=sym.discriminant(sym.det(H_no_a-lam*sym.eye(3)),lam)\n",
    "    H_disc_fun=sym.lambdify((delta2,delta3, omegam, omegao), H_disc)\n",
    "    H_disc_diff=sym.diff(H_disc,delta2)\n",
    "    H_disc_diff_fun=sym.lambdify((delta2,delta3, omegam, omegao), H_disc_diff)\n",
    "    delta2_ds_vals=np.zeros(len(delta3vals))\n",
    "    delta3min=np.min(delta3vals)\n",
    "    delta3max=np.max(delta3vals)\n",
    "    for ii in range(len(delta3vals)):\n",
    "        try:\n",
    "            delta2_ds_vals[ii]=scipy.optimize.brentq(H_disc_diff_fun,-(-omegamval**2/delta3vals[ii]+delta3vals[ii]), omegaoval**2/delta3vals[ii],\n",
    "                                                 args=(delta3vals[ii], omegamval, omegaoval))\n",
    "            #if np.abs(H_disc_fun(delta2_ds_vals[ii],delta3vals[ii], omegamval, omegaoval))>1e36:\n",
    "             #   delta2_ds_vals[ii]=np.nan\n",
    "        except (ValueError, RuntimeError) as e:\n",
    "            try:\n",
    "                delta2_ds_vals[ii]=scipy.optimize.brentq(H_disc_diff_fun,(-omegamval**2/delta3vals[ii]+delta3vals[ii]), -omegaoval**2/delta3vals[ii],\n",
    "                                                 args=(delta3vals[ii], omegamval, omegaoval))\n",
    "            except (ValueError, RuntimeError) as e:\n",
    "                delta2_ds_vals[ii]=np.nan\n",
    "    return delta2_ds_vals"
   ]
  },
  {
   "cell_type": "code",
   "execution_count": 39,
   "metadata": {},
   "outputs": [],
   "source": [
    "def dressed_states_single(delta3val,omegamval,omegaoval):\n",
    "    H_disc=sym.discriminant(sym.det(H_no_a-lam*sym.eye(3)),lam)\n",
    "    H_disc_fun=sym.lambdify((delta2,delta3, omegam, omegao), H_disc)\n",
    "    H_disc_diff=sym.diff(H_disc,delta2)\n",
    "    H_disc_diff_fun=sym.lambdify((delta2,delta3, omegam, omegao), H_disc_diff)\n",
    "    #delta2_ds_vals=np.zeros(len(delta3vals))\n",
    "    #delta3min=np.min(delta3vals)\n",
    "    #delta3max=np.max(delta3vals)\n",
    "    try:\n",
    "        delta2_ds_val=scipy.optimize.brentq(H_disc_diff_fun,-(-omegamval**2/delta3val+delta3val), omegaoval**2/delta3val,\n",
    "                                                 args=(delta3val, omegamval, omegaoval))\n",
    "            #if np.abs(H_disc_fun(delta2_ds_vals[ii],delta3vals[ii], omegamval, omegaoval))>1e36:\n",
    "             #   delta2_ds_vals[ii]=np.nan\n",
    "    except (ValueError, RuntimeError,ZeroDivisionError) as e:\n",
    "        try:\n",
    "            delta2_ds_val=scipy.optimize.brentq(H_disc_diff_fun,(-omegamval**2/delta3val+delta3val), -omegaoval**2/delta3val,\n",
    "                                                 args=(delta3val, omegamval, omegaoval))\n",
    "        except (ValueError, RuntimeError,ZeroDivisionError) as e:\n",
    "                delta2_ds_val=np.nan\n",
    "    return delta2_ds_val"
   ]
  },
  {
   "cell_type": "code",
   "execution_count": 40,
   "metadata": {},
   "outputs": [],
   "source": [
    "def steady_rho_lots_of_args(a,delta2,delta3,gamma_13,gamma_23,gamma_2d,gamma_3d, n_b,gamma_mu,omegao,omegamu,g):\n",
    "    a_r=np.real(a)\n",
    "    a_i=np.imag(a)\n",
    "    L_mat=Lfunc(a, delta2,delta3,gamma_13,gamma_23,gamma_2d,gamma_3d, n_b,gamma_mu,omegao,omegamu,g)\n",
    "    rho = np.linalg.solve(L_mat.astype('complex128'),np.matrix([[1,0,0,0,0,0,0,0,0]]).T)\n",
    "    return np.reshape(rho,(3,3),order='F')\n",
    "def steady_rho_lots_of_args_inds(ind1,ind2,a,delta2vals,delta3vals,gamma_13,gamma_23,gamma_2d,gama_3d, n_b,gamma_mu,omegao,omegamu,g):\n",
    "    coh_vals=np.zeros((len(delta2vals),len(delta3vals)), dtype=np.complex_)\n",
    "    for ii in range(len(delta2vals)):\n",
    "        for jj in range(len(delta3vals)):\n",
    "            coh_vals[ii,jj]=steady_rho_lots_of_args(a,delta2vals[ii],delta3vals[jj],gamma_13,gamma_23,gamma_2d,gama_3d, n_b,gamma_mu,omegao,omegamu,g)[ind1-1,ind2-1]\n",
    "    return coh_vals"
   ]
  },
  {
   "cell_type": "code",
   "execution_count": 41,
   "metadata": {},
   "outputs": [],
   "source": [
    "def integrate1d_peaks(func,x,ylims, peak_func):\n",
    "    peak_yval=peak_func(x)\n",
    "    \n",
    "    if (np.isnan(peak_yval) or peak_yval>ylims[1] or peak_yval<ylims[0]):\n",
    "        funcval=scipy.integrate.quad(func, ylims[0], ylims[1], args=x)[0]\n",
    "        \n",
    "    else:\n",
    "        funcval1=scipy.integrate.quad(func, ylims[0], peak_yval, args=x)[0]\n",
    "        funcval2=scipy.integrate.quad(func, peak_yval, ylims[1], args=x)[0]\n",
    "        funcval=funcval1+funcval2\n",
    "    return funcval\n",
    "\n",
    "def integrate2d_peaks(func, ylims, xlims, peak_func):\n",
    "    temp_fun=lambda x: integrate1d_peaks(func, x, ylims, peak_func)\n",
    "    inte=scipy.integrate.quad(temp_fun,xlims[0], xlims[1])\n",
    "    return inte"
   ]
  },
  {
   "cell_type": "code",
   "execution_count": 42,
   "metadata": {},
   "outputs": [],
   "source": [
    "aval=0\n",
    "gamma13val=1./22e-3\n",
    "gamma23val=1./22e-3\n",
    "gamma2dval=1./1e-6\n",
    "gamma3dval=1./1e-6\n",
    "nbathval=20\n",
    "gammamuval=1./((nbathval+1)*11e-3)\n",
    "omegaoval=1e3\n",
    "omegamval=1e7\n",
    "gval=0\n",
    "ndelta2=501\n",
    "ndelta3=501\n",
    "delta2vals=np.linspace(-80e6,80e6,ndelta2)\n",
    "delta3vals=np.linspace(-80e6,80e6,ndelta3)\n",
    "im_lims=[np.min(delta3vals), np.max(delta3vals),np.min(delta2vals), np.max(delta2vals)]"
   ]
  },
  {
   "cell_type": "code",
   "execution_count": 43,
   "metadata": {},
   "outputs": [
    {
     "data": {
      "text/plain": [
       "<matplotlib.image.AxesImage at 0x7f5ad2914550>"
      ]
     },
     "execution_count": 43,
     "metadata": {},
     "output_type": "execute_result"
    },
    {
     "data": {
      "image/png": "[encoded data removed]",
      "text/plain": [
       "<Figure size 432x288 with 1 Axes>"
      ]
     },
     "metadata": {},
     "output_type": "display_data"
    }
   ],
   "source": [
    "plt.imshow(np.abs(steady_rho_lots_of_args_inds(1,3,aval,delta2vals,delta3vals,gamma13val,gamma23val,gamma2dval,gamma3dval,nbathval,gammamuval,omegaoval, omegamval,gval)))\n"
   ]
  },
  {
   "cell_type": "code",
   "execution_count": 26,
   "metadata": {},
   "outputs": [],
   "source": [
    "coh13_Rfun=lambda del2, del3 : np.real(steady_rho_lots_of_args(aval,del2,del3,gamma13val,gamma23val,gamma2dval,gamma3dval,nbathval,gammamuval,omegaoval, omegamval,gval)[0,2])\n",
    "coh13_Ifun=lambda del2, del3 : np.imag(steady_rho_lots_of_args(aval,del2,del3,gamma13val,gamma23val,gamma2dval,gamma3dval,nbathval,gammamuval,omegaoval, omegamval,gval)[0,2])\n",
    "gauss_fun=lambda del2, del3, m2,m3,sd2,sd3: 1.0/(2*pi*sd2*sd3)*np.exp(-(del2-m2)**2/(2*sd2**2)\n",
    "                                                                  -(del3-m3)**2/(2*sd3**2))\n",
    "coh13_Rguass_fun=lambda del2,del3,m2=m2val,m3=m3val,sd2=sd2val,sd3=sd3val: coh13_Rfun(del2,del3)*gauss_fun(del2,del3,m2,m3,sd2,sd3)\n",
    "coh13_Iguass_fun=lambda del2,del3,m2=m2val,m3=m3val,sd2=sd2val,sd3=sd3val: coh13_Ifun(del2,del3)*gauss_fun(del2,del3,m2,m3,sd2,sd3)"
   ]
  },
  {
   "cell_type": "code",
   "execution_count": 27,
   "metadata": {
    "scrolled": true
   },
   "outputs": [
    {
     "name": "stderr",
     "output_type": "stream",
     "text": [
      "/home/peter/anaconda3/lib/python3.6/site-packages/scipy/integrate/quadpack.py:385: IntegrationWarning: The integral is probably divergent, or slowly convergent.\n",
      "  warnings.warn(msg, IntegrationWarning)\n",
      "/home/peter/anaconda3/lib/python3.6/site-packages/scipy/integrate/quadpack.py:385: IntegrationWarning: The maximum number of subdivisions (50) has been achieved.\n",
      "  If increasing the limit yields no improvement it is advised to analyze \n",
      "  the integrand in order to determine the difficulties.  If the position of a \n",
      "  local difficulty can be determined (singularity, discontinuity) one will \n",
      "  probably gain from splitting up the interval and calling the integrator \n",
      "  on the subranges.  Perhaps a special-purpose integrator should be used.\n",
      "  warnings.warn(msg, IntegrationWarning)\n"
     ]
    },
    {
     "ename": "KeyboardInterrupt",
     "evalue": "",
     "output_type": "error",
     "traceback": [
      "\u001b[0;31m---------------------------------------------------------------------------\u001b[0m",
      "\u001b[0;31mKeyboardInterrupt\u001b[0m                         Traceback (most recent call last)",
      "\u001b[0;32m<ipython-input-27-7b01e465929f>\u001b[0m in \u001b[0;36m<module>\u001b[0;34m()\u001b[0m\n\u001b[0;32m----> 1\u001b[0;31m \u001b[0mscipy\u001b[0m\u001b[0;34m.\u001b[0m\u001b[0mintegrate\u001b[0m\u001b[0;34m.\u001b[0m\u001b[0mnquad\u001b[0m\u001b[0;34m(\u001b[0m\u001b[0mcoh13_Rguass_fun\u001b[0m\u001b[0;34m,\u001b[0m \u001b[0;34m[\u001b[0m\u001b[0;34m[\u001b[0m\u001b[0;34m-\u001b[0m\u001b[0;36m40e6\u001b[0m\u001b[0;34m,\u001b[0m\u001b[0;36m40e6\u001b[0m\u001b[0;34m]\u001b[0m\u001b[0;34m,\u001b[0m\u001b[0;34m[\u001b[0m\u001b[0;34m-\u001b[0m\u001b[0;36m40e6\u001b[0m\u001b[0;34m,\u001b[0m\u001b[0;36m40e6\u001b[0m\u001b[0;34m]\u001b[0m\u001b[0;34m]\u001b[0m\u001b[0;34m)\u001b[0m\u001b[0;34m\u001b[0m\u001b[0m\n\u001b[0m",
      "\u001b[0;32m~/anaconda3/lib/python3.6/site-packages/scipy/integrate/quadpack.py\u001b[0m in \u001b[0;36mnquad\u001b[0;34m(func, ranges, args, opts, full_output)\u001b[0m\n\u001b[1;32m    803\u001b[0m     \u001b[0;32melse\u001b[0m\u001b[0;34m:\u001b[0m\u001b[0;34m\u001b[0m\u001b[0m\n\u001b[1;32m    804\u001b[0m         \u001b[0mopts\u001b[0m \u001b[0;34m=\u001b[0m \u001b[0;34m[\u001b[0m\u001b[0mopt\u001b[0m \u001b[0;32mif\u001b[0m \u001b[0mcallable\u001b[0m\u001b[0;34m(\u001b[0m\u001b[0mopt\u001b[0m\u001b[0;34m)\u001b[0m \u001b[0;32melse\u001b[0m \u001b[0m_OptFunc\u001b[0m\u001b[0;34m(\u001b[0m\u001b[0mopt\u001b[0m\u001b[0;34m)\u001b[0m \u001b[0;32mfor\u001b[0m \u001b[0mopt\u001b[0m \u001b[0;32min\u001b[0m \u001b[0mopts\u001b[0m\u001b[0;34m]\u001b[0m\u001b[0;34m\u001b[0m\u001b[0m\n\u001b[0;32m--> 805\u001b[0;31m     \u001b[0;32mreturn\u001b[0m \u001b[0m_NQuad\u001b[0m\u001b[0;34m(\u001b[0m\u001b[0mfunc\u001b[0m\u001b[0;34m,\u001b[0m \u001b[0mranges\u001b[0m\u001b[0;34m,\u001b[0m \u001b[0mopts\u001b[0m\u001b[0;34m,\u001b[0m \u001b[0mfull_output\u001b[0m\u001b[0;34m)\u001b[0m\u001b[0;34m.\u001b[0m\u001b[0mintegrate\u001b[0m\u001b[0;34m(\u001b[0m\u001b[0;34m*\u001b[0m\u001b[0margs\u001b[0m\u001b[0;34m)\u001b[0m\u001b[0;34m\u001b[0m\u001b[0m\n\u001b[0m\u001b[1;32m    806\u001b[0m \u001b[0;34m\u001b[0m\u001b[0m\n\u001b[1;32m    807\u001b[0m \u001b[0;34m\u001b[0m\u001b[0m\n",
      "\u001b[0;32m~/anaconda3/lib/python3.6/site-packages/scipy/integrate/quadpack.py\u001b[0m in \u001b[0;36mintegrate\u001b[0;34m(self, *args, **kwargs)\u001b[0m\n\u001b[1;32m    858\u001b[0m             \u001b[0mf\u001b[0m \u001b[0;34m=\u001b[0m \u001b[0mpartial\u001b[0m\u001b[0;34m(\u001b[0m\u001b[0mself\u001b[0m\u001b[0;34m.\u001b[0m\u001b[0mintegrate\u001b[0m\u001b[0;34m,\u001b[0m \u001b[0mdepth\u001b[0m\u001b[0;34m=\u001b[0m\u001b[0mdepth\u001b[0m\u001b[0;34m+\u001b[0m\u001b[0;36m1\u001b[0m\u001b[0;34m)\u001b[0m\u001b[0;34m\u001b[0m\u001b[0m\n\u001b[1;32m    859\u001b[0m         quad_r = quad(f, low, high, args=args, full_output=self.full_output,\n\u001b[0;32m--> 860\u001b[0;31m                       **opt)\n\u001b[0m\u001b[1;32m    861\u001b[0m         \u001b[0mvalue\u001b[0m \u001b[0;34m=\u001b[0m \u001b[0mquad_r\u001b[0m\u001b[0;34m[\u001b[0m\u001b[0;36m0\u001b[0m\u001b[0;34m]\u001b[0m\u001b[0;34m\u001b[0m\u001b[0m\n\u001b[1;32m    862\u001b[0m         \u001b[0mabserr\u001b[0m \u001b[0;34m=\u001b[0m \u001b[0mquad_r\u001b[0m\u001b[0;34m[\u001b[0m\u001b[0;36m1\u001b[0m\u001b[0;34m]\u001b[0m\u001b[0;34m\u001b[0m\u001b[0m\n",
      "\u001b[0;32m~/anaconda3/lib/python3.6/site-packages/scipy/integrate/quadpack.py\u001b[0m in \u001b[0;36mquad\u001b[0;34m(func, a, b, args, full_output, epsabs, epsrel, limit, points, weight, wvar, wopts, maxp1, limlst)\u001b[0m\n\u001b[1;32m    339\u001b[0m     \u001b[0;32mif\u001b[0m \u001b[0mweight\u001b[0m \u001b[0;32mis\u001b[0m \u001b[0;32mNone\u001b[0m\u001b[0;34m:\u001b[0m\u001b[0;34m\u001b[0m\u001b[0m\n\u001b[1;32m    340\u001b[0m         retval = _quad(func, a, b, args, full_output, epsabs, epsrel, limit,\n\u001b[0;32m--> 341\u001b[0;31m                        points)\n\u001b[0m\u001b[1;32m    342\u001b[0m     \u001b[0;32melse\u001b[0m\u001b[0;34m:\u001b[0m\u001b[0;34m\u001b[0m\u001b[0m\n\u001b[1;32m    343\u001b[0m         retval = _quad_weight(func, a, b, args, full_output, epsabs, epsrel,\n",
      "\u001b[0;32m~/anaconda3/lib/python3.6/site-packages/scipy/integrate/quadpack.py\u001b[0m in \u001b[0;36m_quad\u001b[0;34m(func, a, b, args, full_output, epsabs, epsrel, limit, points)\u001b[0m\n\u001b[1;32m    446\u001b[0m     \u001b[0;32mif\u001b[0m \u001b[0mpoints\u001b[0m \u001b[0;32mis\u001b[0m \u001b[0;32mNone\u001b[0m\u001b[0;34m:\u001b[0m\u001b[0;34m\u001b[0m\u001b[0m\n\u001b[1;32m    447\u001b[0m         \u001b[0;32mif\u001b[0m \u001b[0minfbounds\u001b[0m \u001b[0;34m==\u001b[0m \u001b[0;36m0\u001b[0m\u001b[0;34m:\u001b[0m\u001b[0;34m\u001b[0m\u001b[0m\n\u001b[0;32m--> 448\u001b[0;31m             \u001b[0;32mreturn\u001b[0m \u001b[0m_quadpack\u001b[0m\u001b[0;34m.\u001b[0m\u001b[0m_qagse\u001b[0m\u001b[0;34m(\u001b[0m\u001b[0mfunc\u001b[0m\u001b[0;34m,\u001b[0m\u001b[0ma\u001b[0m\u001b[0;34m,\u001b[0m\u001b[0mb\u001b[0m\u001b[0;34m,\u001b[0m\u001b[0margs\u001b[0m\u001b[0;34m,\u001b[0m\u001b[0mfull_output\u001b[0m\u001b[0;34m,\u001b[0m\u001b[0mepsabs\u001b[0m\u001b[0;34m,\u001b[0m\u001b[0mepsrel\u001b[0m\u001b[0;34m,\u001b[0m\u001b[0mlimit\u001b[0m\u001b[0;34m)\u001b[0m\u001b[0;34m\u001b[0m\u001b[0m\n\u001b[0m\u001b[1;32m    449\u001b[0m         \u001b[0;32melse\u001b[0m\u001b[0;34m:\u001b[0m\u001b[0;34m\u001b[0m\u001b[0m\n\u001b[1;32m    450\u001b[0m             \u001b[0;32mreturn\u001b[0m \u001b[0m_quadpack\u001b[0m\u001b[0;34m.\u001b[0m\u001b[0m_qagie\u001b[0m\u001b[0;34m(\u001b[0m\u001b[0mfunc\u001b[0m\u001b[0;34m,\u001b[0m\u001b[0mbound\u001b[0m\u001b[0;34m,\u001b[0m\u001b[0minfbounds\u001b[0m\u001b[0;34m,\u001b[0m\u001b[0margs\u001b[0m\u001b[0;34m,\u001b[0m\u001b[0mfull_output\u001b[0m\u001b[0;34m,\u001b[0m\u001b[0mepsabs\u001b[0m\u001b[0;34m,\u001b[0m\u001b[0mepsrel\u001b[0m\u001b[0;34m,\u001b[0m\u001b[0mlimit\u001b[0m\u001b[0;34m)\u001b[0m\u001b[0;34m\u001b[0m\u001b[0m\n",
      "\u001b[0;32m~/anaconda3/lib/python3.6/site-packages/scipy/integrate/quadpack.py\u001b[0m in \u001b[0;36mintegrate\u001b[0;34m(self, *args, **kwargs)\u001b[0m\n\u001b[1;32m    858\u001b[0m             \u001b[0mf\u001b[0m \u001b[0;34m=\u001b[0m \u001b[0mpartial\u001b[0m\u001b[0;34m(\u001b[0m\u001b[0mself\u001b[0m\u001b[0;34m.\u001b[0m\u001b[0mintegrate\u001b[0m\u001b[0;34m,\u001b[0m \u001b[0mdepth\u001b[0m\u001b[0;34m=\u001b[0m\u001b[0mdepth\u001b[0m\u001b[0;34m+\u001b[0m\u001b[0;36m1\u001b[0m\u001b[0;34m)\u001b[0m\u001b[0;34m\u001b[0m\u001b[0m\n\u001b[1;32m    859\u001b[0m         quad_r = quad(f, low, high, args=args, full_output=self.full_output,\n\u001b[0;32m--> 860\u001b[0;31m                       **opt)\n\u001b[0m\u001b[1;32m    861\u001b[0m         \u001b[0mvalue\u001b[0m \u001b[0;34m=\u001b[0m \u001b[0mquad_r\u001b[0m\u001b[0;34m[\u001b[0m\u001b[0;36m0\u001b[0m\u001b[0;34m]\u001b[0m\u001b[0;34m\u001b[0m\u001b[0m\n\u001b[1;32m    862\u001b[0m         \u001b[0mabserr\u001b[0m \u001b[0;34m=\u001b[0m \u001b[0mquad_r\u001b[0m\u001b[0;34m[\u001b[0m\u001b[0;36m1\u001b[0m\u001b[0;34m]\u001b[0m\u001b[0;34m\u001b[0m\u001b[0m\n",
      "\u001b[0;32m~/anaconda3/lib/python3.6/site-packages/scipy/integrate/quadpack.py\u001b[0m in \u001b[0;36mquad\u001b[0;34m(func, a, b, args, full_output, epsabs, epsrel, limit, points, weight, wvar, wopts, maxp1, limlst)\u001b[0m\n\u001b[1;32m    339\u001b[0m     \u001b[0;32mif\u001b[0m \u001b[0mweight\u001b[0m \u001b[0;32mis\u001b[0m \u001b[0;32mNone\u001b[0m\u001b[0;34m:\u001b[0m\u001b[0;34m\u001b[0m\u001b[0m\n\u001b[1;32m    340\u001b[0m         retval = _quad(func, a, b, args, full_output, epsabs, epsrel, limit,\n\u001b[0;32m--> 341\u001b[0;31m                        points)\n\u001b[0m\u001b[1;32m    342\u001b[0m     \u001b[0;32melse\u001b[0m\u001b[0;34m:\u001b[0m\u001b[0;34m\u001b[0m\u001b[0m\n\u001b[1;32m    343\u001b[0m         retval = _quad_weight(func, a, b, args, full_output, epsabs, epsrel,\n",
      "\u001b[0;32m~/anaconda3/lib/python3.6/site-packages/scipy/integrate/quadpack.py\u001b[0m in \u001b[0;36m_quad\u001b[0;34m(func, a, b, args, full_output, epsabs, epsrel, limit, points)\u001b[0m\n\u001b[1;32m    446\u001b[0m     \u001b[0;32mif\u001b[0m \u001b[0mpoints\u001b[0m \u001b[0;32mis\u001b[0m \u001b[0;32mNone\u001b[0m\u001b[0;34m:\u001b[0m\u001b[0;34m\u001b[0m\u001b[0m\n\u001b[1;32m    447\u001b[0m         \u001b[0;32mif\u001b[0m \u001b[0minfbounds\u001b[0m \u001b[0;34m==\u001b[0m \u001b[0;36m0\u001b[0m\u001b[0;34m:\u001b[0m\u001b[0;34m\u001b[0m\u001b[0m\n\u001b[0;32m--> 448\u001b[0;31m             \u001b[0;32mreturn\u001b[0m \u001b[0m_quadpack\u001b[0m\u001b[0;34m.\u001b[0m\u001b[0m_qagse\u001b[0m\u001b[0;34m(\u001b[0m\u001b[0mfunc\u001b[0m\u001b[0;34m,\u001b[0m\u001b[0ma\u001b[0m\u001b[0;34m,\u001b[0m\u001b[0mb\u001b[0m\u001b[0;34m,\u001b[0m\u001b[0margs\u001b[0m\u001b[0;34m,\u001b[0m\u001b[0mfull_output\u001b[0m\u001b[0;34m,\u001b[0m\u001b[0mepsabs\u001b[0m\u001b[0;34m,\u001b[0m\u001b[0mepsrel\u001b[0m\u001b[0;34m,\u001b[0m\u001b[0mlimit\u001b[0m\u001b[0;34m)\u001b[0m\u001b[0;34m\u001b[0m\u001b[0m\n\u001b[0m\u001b[1;32m    449\u001b[0m         \u001b[0;32melse\u001b[0m\u001b[0;34m:\u001b[0m\u001b[0;34m\u001b[0m\u001b[0m\n\u001b[1;32m    450\u001b[0m             \u001b[0;32mreturn\u001b[0m \u001b[0m_quadpack\u001b[0m\u001b[0;34m.\u001b[0m\u001b[0m_qagie\u001b[0m\u001b[0;34m(\u001b[0m\u001b[0mfunc\u001b[0m\u001b[0;34m,\u001b[0m\u001b[0mbound\u001b[0m\u001b[0;34m,\u001b[0m\u001b[0minfbounds\u001b[0m\u001b[0;34m,\u001b[0m\u001b[0margs\u001b[0m\u001b[0;34m,\u001b[0m\u001b[0mfull_output\u001b[0m\u001b[0;34m,\u001b[0m\u001b[0mepsabs\u001b[0m\u001b[0;34m,\u001b[0m\u001b[0mepsrel\u001b[0m\u001b[0;34m,\u001b[0m\u001b[0mlimit\u001b[0m\u001b[0;34m)\u001b[0m\u001b[0;34m\u001b[0m\u001b[0m\n",
      "\u001b[0;32m<ipython-input-26-c6208d6216b2>\u001b[0m in \u001b[0;36m<lambda>\u001b[0;34m(del2, del3, m2, m3, sd2, sd3)\u001b[0m\n\u001b[1;32m      3\u001b[0m gauss_fun=lambda del2, del3, m2,m3,sd2,sd3: 1.0/(2*pi*sd2*sd3)*np.exp(-(del2-m2)**2/(2*sd2**2)\n\u001b[1;32m      4\u001b[0m                                                                   -(del3-m3)**2/(2*sd3**2))\n\u001b[0;32m----> 5\u001b[0;31m \u001b[0mcoh13_Rguass_fun\u001b[0m\u001b[0;34m=\u001b[0m\u001b[0;32mlambda\u001b[0m \u001b[0mdel2\u001b[0m\u001b[0;34m,\u001b[0m\u001b[0mdel3\u001b[0m\u001b[0;34m,\u001b[0m\u001b[0mm2\u001b[0m\u001b[0;34m=\u001b[0m\u001b[0mm2val\u001b[0m\u001b[0;34m,\u001b[0m\u001b[0mm3\u001b[0m\u001b[0;34m=\u001b[0m\u001b[0mm3val\u001b[0m\u001b[0;34m,\u001b[0m\u001b[0msd2\u001b[0m\u001b[0;34m=\u001b[0m\u001b[0msd2val\u001b[0m\u001b[0;34m,\u001b[0m\u001b[0msd3\u001b[0m\u001b[0;34m=\u001b[0m\u001b[0msd3val\u001b[0m\u001b[0;34m:\u001b[0m \u001b[0mcoh13_Rfun\u001b[0m\u001b[0;34m(\u001b[0m\u001b[0mdel2\u001b[0m\u001b[0;34m,\u001b[0m\u001b[0mdel3\u001b[0m\u001b[0;34m)\u001b[0m\u001b[0;34m*\u001b[0m\u001b[0mgauss_fun\u001b[0m\u001b[0;34m(\u001b[0m\u001b[0mdel2\u001b[0m\u001b[0;34m,\u001b[0m\u001b[0mdel3\u001b[0m\u001b[0;34m,\u001b[0m\u001b[0mm2\u001b[0m\u001b[0;34m,\u001b[0m\u001b[0mm3\u001b[0m\u001b[0;34m,\u001b[0m\u001b[0msd2\u001b[0m\u001b[0;34m,\u001b[0m\u001b[0msd3\u001b[0m\u001b[0;34m)\u001b[0m\u001b[0;34m\u001b[0m\u001b[0m\n\u001b[0m\u001b[1;32m      6\u001b[0m \u001b[0mcoh13_Iguass_fun\u001b[0m\u001b[0;34m=\u001b[0m\u001b[0;32mlambda\u001b[0m \u001b[0mdel2\u001b[0m\u001b[0;34m,\u001b[0m\u001b[0mdel3\u001b[0m\u001b[0;34m,\u001b[0m\u001b[0mm2\u001b[0m\u001b[0;34m=\u001b[0m\u001b[0mm2val\u001b[0m\u001b[0;34m,\u001b[0m\u001b[0mm3\u001b[0m\u001b[0;34m=\u001b[0m\u001b[0mm3val\u001b[0m\u001b[0;34m,\u001b[0m\u001b[0msd2\u001b[0m\u001b[0;34m=\u001b[0m\u001b[0msd2val\u001b[0m\u001b[0;34m,\u001b[0m\u001b[0msd3\u001b[0m\u001b[0;34m=\u001b[0m\u001b[0msd3val\u001b[0m\u001b[0;34m:\u001b[0m \u001b[0mcoh13_Ifun\u001b[0m\u001b[0;34m(\u001b[0m\u001b[0mdel2\u001b[0m\u001b[0;34m,\u001b[0m\u001b[0mdel3\u001b[0m\u001b[0;34m)\u001b[0m\u001b[0;34m*\u001b[0m\u001b[0mgauss_fun\u001b[0m\u001b[0;34m(\u001b[0m\u001b[0mdel2\u001b[0m\u001b[0;34m,\u001b[0m\u001b[0mdel3\u001b[0m\u001b[0;34m,\u001b[0m\u001b[0mm2\u001b[0m\u001b[0;34m,\u001b[0m\u001b[0mm3\u001b[0m\u001b[0;34m,\u001b[0m\u001b[0msd2\u001b[0m\u001b[0;34m,\u001b[0m\u001b[0msd3\u001b[0m\u001b[0;34m)\u001b[0m\u001b[0;34m\u001b[0m\u001b[0m\n",
      "\u001b[0;32m<ipython-input-26-c6208d6216b2>\u001b[0m in \u001b[0;36m<lambda>\u001b[0;34m(del2, del3)\u001b[0m\n\u001b[0;32m----> 1\u001b[0;31m \u001b[0mcoh13_Rfun\u001b[0m\u001b[0;34m=\u001b[0m\u001b[0;32mlambda\u001b[0m \u001b[0mdel2\u001b[0m\u001b[0;34m,\u001b[0m \u001b[0mdel3\u001b[0m \u001b[0;34m:\u001b[0m \u001b[0mnp\u001b[0m\u001b[0;34m.\u001b[0m\u001b[0mreal\u001b[0m\u001b[0;34m(\u001b[0m\u001b[0msteady_rho_lots_of_args\u001b[0m\u001b[0;34m(\u001b[0m\u001b[0maval\u001b[0m\u001b[0;34m,\u001b[0m\u001b[0mdel2\u001b[0m\u001b[0;34m,\u001b[0m\u001b[0mdel3\u001b[0m\u001b[0;34m,\u001b[0m\u001b[0mgamma13val\u001b[0m\u001b[0;34m,\u001b[0m\u001b[0mgamma23val\u001b[0m\u001b[0;34m,\u001b[0m\u001b[0mgamma2dval\u001b[0m\u001b[0;34m,\u001b[0m\u001b[0mgamma3dval\u001b[0m\u001b[0;34m,\u001b[0m\u001b[0mnbathval\u001b[0m\u001b[0;34m,\u001b[0m\u001b[0mgammamuval\u001b[0m\u001b[0;34m,\u001b[0m\u001b[0momegaoval\u001b[0m\u001b[0;34m,\u001b[0m \u001b[0momegamval\u001b[0m\u001b[0;34m,\u001b[0m\u001b[0mgval\u001b[0m\u001b[0;34m)\u001b[0m\u001b[0;34m[\u001b[0m\u001b[0;36m0\u001b[0m\u001b[0;34m,\u001b[0m\u001b[0;36m2\u001b[0m\u001b[0;34m]\u001b[0m\u001b[0;34m)\u001b[0m\u001b[0;34m\u001b[0m\u001b[0m\n\u001b[0m\u001b[1;32m      2\u001b[0m \u001b[0mcoh13_Ifun\u001b[0m\u001b[0;34m=\u001b[0m\u001b[0;32mlambda\u001b[0m \u001b[0mdel2\u001b[0m\u001b[0;34m,\u001b[0m \u001b[0mdel3\u001b[0m \u001b[0;34m:\u001b[0m \u001b[0mnp\u001b[0m\u001b[0;34m.\u001b[0m\u001b[0mimag\u001b[0m\u001b[0;34m(\u001b[0m\u001b[0msteady_rho_lots_of_args\u001b[0m\u001b[0;34m(\u001b[0m\u001b[0maval\u001b[0m\u001b[0;34m,\u001b[0m\u001b[0mdel2\u001b[0m\u001b[0;34m,\u001b[0m\u001b[0mdel3\u001b[0m\u001b[0;34m,\u001b[0m\u001b[0mgamma13val\u001b[0m\u001b[0;34m,\u001b[0m\u001b[0mgamma23val\u001b[0m\u001b[0;34m,\u001b[0m\u001b[0mgamma2dval\u001b[0m\u001b[0;34m,\u001b[0m\u001b[0mgamma3dval\u001b[0m\u001b[0;34m,\u001b[0m\u001b[0mnbathval\u001b[0m\u001b[0;34m,\u001b[0m\u001b[0mgammamuval\u001b[0m\u001b[0;34m,\u001b[0m\u001b[0momegaoval\u001b[0m\u001b[0;34m,\u001b[0m \u001b[0momegamval\u001b[0m\u001b[0;34m,\u001b[0m\u001b[0mgval\u001b[0m\u001b[0;34m)\u001b[0m\u001b[0;34m[\u001b[0m\u001b[0;36m0\u001b[0m\u001b[0;34m,\u001b[0m\u001b[0;36m2\u001b[0m\u001b[0;34m]\u001b[0m\u001b[0;34m)\u001b[0m\u001b[0;34m\u001b[0m\u001b[0m\n\u001b[1;32m      3\u001b[0m gauss_fun=lambda del2, del3, m2,m3,sd2,sd3: 1.0/(2*pi*sd2*sd3)*np.exp(-(del2-m2)**2/(2*sd2**2)\n\u001b[1;32m      4\u001b[0m                                                                   -(del3-m3)**2/(2*sd3**2))\n\u001b[1;32m      5\u001b[0m \u001b[0mcoh13_Rguass_fun\u001b[0m\u001b[0;34m=\u001b[0m\u001b[0;32mlambda\u001b[0m \u001b[0mdel2\u001b[0m\u001b[0;34m,\u001b[0m\u001b[0mdel3\u001b[0m\u001b[0;34m,\u001b[0m\u001b[0mm2\u001b[0m\u001b[0;34m=\u001b[0m\u001b[0mm2val\u001b[0m\u001b[0;34m,\u001b[0m\u001b[0mm3\u001b[0m\u001b[0;34m=\u001b[0m\u001b[0mm3val\u001b[0m\u001b[0;34m,\u001b[0m\u001b[0msd2\u001b[0m\u001b[0;34m=\u001b[0m\u001b[0msd2val\u001b[0m\u001b[0;34m,\u001b[0m\u001b[0msd3\u001b[0m\u001b[0;34m=\u001b[0m\u001b[0msd3val\u001b[0m\u001b[0;34m:\u001b[0m \u001b[0mcoh13_Rfun\u001b[0m\u001b[0;34m(\u001b[0m\u001b[0mdel2\u001b[0m\u001b[0;34m,\u001b[0m\u001b[0mdel3\u001b[0m\u001b[0;34m)\u001b[0m\u001b[0;34m*\u001b[0m\u001b[0mgauss_fun\u001b[0m\u001b[0;34m(\u001b[0m\u001b[0mdel2\u001b[0m\u001b[0;34m,\u001b[0m\u001b[0mdel3\u001b[0m\u001b[0;34m,\u001b[0m\u001b[0mm2\u001b[0m\u001b[0;34m,\u001b[0m\u001b[0mm3\u001b[0m\u001b[0;34m,\u001b[0m\u001b[0msd2\u001b[0m\u001b[0;34m,\u001b[0m\u001b[0msd3\u001b[0m\u001b[0;34m)\u001b[0m\u001b[0;34m\u001b[0m\u001b[0m\n",
      "\u001b[0;32m<ipython-input-12-61142d9a63ab>\u001b[0m in \u001b[0;36msteady_rho_lots_of_args\u001b[0;34m(a, delta2, delta3, gamma_13, gamma_23, gamma_2d, gamma_3d, n_b, gamma_mu, omegao, omegamu, g)\u001b[0m\n\u001b[1;32m      2\u001b[0m     \u001b[0ma_r\u001b[0m\u001b[0;34m=\u001b[0m\u001b[0mnp\u001b[0m\u001b[0;34m.\u001b[0m\u001b[0mreal\u001b[0m\u001b[0;34m(\u001b[0m\u001b[0ma\u001b[0m\u001b[0;34m)\u001b[0m\u001b[0;34m\u001b[0m\u001b[0m\n\u001b[1;32m      3\u001b[0m     \u001b[0ma_i\u001b[0m\u001b[0;34m=\u001b[0m\u001b[0mnp\u001b[0m\u001b[0;34m.\u001b[0m\u001b[0mimag\u001b[0m\u001b[0;34m(\u001b[0m\u001b[0ma\u001b[0m\u001b[0;34m)\u001b[0m\u001b[0;34m\u001b[0m\u001b[0m\n\u001b[0;32m----> 4\u001b[0;31m     \u001b[0mL_mat\u001b[0m\u001b[0;34m=\u001b[0m\u001b[0mLfunc\u001b[0m\u001b[0;34m(\u001b[0m\u001b[0ma\u001b[0m\u001b[0;34m,\u001b[0m \u001b[0mdelta2\u001b[0m\u001b[0;34m,\u001b[0m\u001b[0mdelta3\u001b[0m\u001b[0;34m,\u001b[0m\u001b[0mgamma_13\u001b[0m\u001b[0;34m,\u001b[0m\u001b[0mgamma_23\u001b[0m\u001b[0;34m,\u001b[0m\u001b[0mgamma_2d\u001b[0m\u001b[0;34m,\u001b[0m\u001b[0mgamma_3d\u001b[0m\u001b[0;34m,\u001b[0m \u001b[0mn_b\u001b[0m\u001b[0;34m,\u001b[0m\u001b[0mgamma_mu\u001b[0m\u001b[0;34m,\u001b[0m\u001b[0momegao\u001b[0m\u001b[0;34m,\u001b[0m\u001b[0momegamu\u001b[0m\u001b[0;34m,\u001b[0m\u001b[0mg\u001b[0m\u001b[0;34m)\u001b[0m\u001b[0;34m\u001b[0m\u001b[0m\n\u001b[0m\u001b[1;32m      5\u001b[0m     \u001b[0mrho\u001b[0m \u001b[0;34m=\u001b[0m \u001b[0mnp\u001b[0m\u001b[0;34m.\u001b[0m\u001b[0mlinalg\u001b[0m\u001b[0;34m.\u001b[0m\u001b[0msolve\u001b[0m\u001b[0;34m(\u001b[0m\u001b[0mL_mat\u001b[0m\u001b[0;34m.\u001b[0m\u001b[0mastype\u001b[0m\u001b[0;34m(\u001b[0m\u001b[0;34m'complex128'\u001b[0m\u001b[0;34m)\u001b[0m\u001b[0;34m,\u001b[0m\u001b[0mnp\u001b[0m\u001b[0;34m.\u001b[0m\u001b[0mmatrix\u001b[0m\u001b[0;34m(\u001b[0m\u001b[0;34m[\u001b[0m\u001b[0;34m[\u001b[0m\u001b[0;36m1\u001b[0m\u001b[0;34m,\u001b[0m\u001b[0;36m0\u001b[0m\u001b[0;34m,\u001b[0m\u001b[0;36m0\u001b[0m\u001b[0;34m,\u001b[0m\u001b[0;36m0\u001b[0m\u001b[0;34m,\u001b[0m\u001b[0;36m0\u001b[0m\u001b[0;34m,\u001b[0m\u001b[0;36m0\u001b[0m\u001b[0;34m,\u001b[0m\u001b[0;36m0\u001b[0m\u001b[0;34m,\u001b[0m\u001b[0;36m0\u001b[0m\u001b[0;34m,\u001b[0m\u001b[0;36m0\u001b[0m\u001b[0;34m]\u001b[0m\u001b[0;34m]\u001b[0m\u001b[0;34m)\u001b[0m\u001b[0;34m.\u001b[0m\u001b[0mT\u001b[0m\u001b[0;34m)\u001b[0m\u001b[0;34m\u001b[0m\u001b[0m\n\u001b[1;32m      6\u001b[0m     \u001b[0;32mreturn\u001b[0m \u001b[0mnp\u001b[0m\u001b[0;34m.\u001b[0m\u001b[0mreshape\u001b[0m\u001b[0;34m(\u001b[0m\u001b[0mrho\u001b[0m\u001b[0;34m,\u001b[0m\u001b[0;34m(\u001b[0m\u001b[0;36m3\u001b[0m\u001b[0;34m,\u001b[0m\u001b[0;36m3\u001b[0m\u001b[0;34m)\u001b[0m\u001b[0;34m,\u001b[0m\u001b[0morder\u001b[0m\u001b[0;34m=\u001b[0m\u001b[0;34m'F'\u001b[0m\u001b[0;34m)\u001b[0m\u001b[0;34m\u001b[0m\u001b[0m\n",
      "\u001b[0;32m~/anaconda3/lib/python3.6/site-packages/numpy/__init__.py\u001b[0m in \u001b[0;36m<lambda>\u001b[0;34m(_Dummy_140, _Dummy_141, _Dummy_142, _Dummy_143, _Dummy_144, _Dummy_145, _Dummy_146, _Dummy_147, _Dummy_148, _Dummy_149, _Dummy_150, _Dummy_151)\u001b[0m\n",
      "\u001b[0;31mKeyboardInterrupt\u001b[0m: "
     ]
    }
   ],
   "source": [
    "scipy.integrate.nquad(coh13_Rguass_fun, [[-40e6,40e6],[-40e6,40e6]])"
   ]
  },
  {
   "cell_type": "code",
   "execution_count": null,
   "metadata": {},
   "outputs": [],
   "source": [
    "def rho13_integrated(del2_lims, del3_lims, peak_func):\n",
    "    coh13_R_int=integrate2d_peaks(coh13_Rguass_fun, del2_lims,del3_lims,peak_func)\n",
    "    coh13_I_int=integrate2d_peaks(coh13_Iguass_fun, del2_lims,del3_lims,peak_func)\n",
    "    #return [coh13_R_int, coh13_I_int]#coh13_R_int+1.j*coh13_I_int\\\n",
    "    #return coh13_R_int+1.j*coh13_I_int\n",
    "    return coh13_R_int[0]+1.j*coh13_I_int[0],coh13_R_int[1]+1.j*coh13_I_int[1]"
   ]
  },
  {
   "cell_type": "code",
   "execution_count": null,
   "metadata": {},
   "outputs": [],
   "source": [
    "def rho13_integrated_quad(del2_lims, del3_lims):\n",
    "    coh13_R_int=scipy.integrate.nquad(coh13_Rguass_fun, [del2_lims,del3_lims])[0]\n",
    "    coh13_I_int=scipy.integrate.nquad(coh13_Iguass_fun, [del2_lims,del3_lims])[0]\n",
    "    #return [coh13_R_int, coh13_I_int]#coh13_R_int+1.j*coh13_I_int\\\n",
    "    return coh13_R_int+1.j*coh13_I_int"
   ]
  },
  {
   "cell_type": "code",
   "execution_count": 21,
   "metadata": {},
   "outputs": [],
   "source": [
    "delta3_o_func=lambda del3 : omegaoval**2/del3 if del3!=0 else np.nan\n",
    "delta3_mu_func=lambda del3 : del3-omegamval**2/del3 if del3!=0 else np.nan"
   ]
  },
  {
   "cell_type": "code",
   "execution_count": 22,
   "metadata": {
    "collapsed": true
   },
   "outputs": [
    {
     "name": "stderr",
     "output_type": "stream",
     "text": [
      "/home/peter/anaconda3/lib/python3.6/site-packages/scipy/integrate/quadpack.py:385: IntegrationWarning: The integral is probably divergent, or slowly convergent.\n",
      "  warnings.warn(msg, IntegrationWarning)\n",
      "/home/peter/anaconda3/lib/python3.6/site-packages/scipy/integrate/quadpack.py:385: IntegrationWarning: The maximum number of subdivisions (50) has been achieved.\n",
      "  If increasing the limit yields no improvement it is advised to analyze \n",
      "  the integrand in order to determine the difficulties.  If the position of a \n",
      "  local difficulty can be determined (singularity, discontinuity) one will \n",
      "  probably gain from splitting up the interval and calling the integrator \n",
      "  on the subranges.  Perhaps a special-purpose integrator should be used.\n",
      "  warnings.warn(msg, IntegrationWarning)\n"
     ]
    },
    {
     "ename": "KeyboardInterrupt",
     "evalue": "",
     "output_type": "error",
     "traceback": [
      "\u001b[0;31m---------------------------------------------------------------------------\u001b[0m",
      "\u001b[0;31mKeyboardInterrupt\u001b[0m                         Traceback (most recent call last)",
      "\u001b[0;32m<ipython-input-22-7cd8d5cfb47a>\u001b[0m in \u001b[0;36m<module>\u001b[0;34m()\u001b[0m\n\u001b[1;32m      1\u001b[0m \u001b[0mpeak_func\u001b[0m\u001b[0;34m=\u001b[0m\u001b[0;32mlambda\u001b[0m \u001b[0mdel3\u001b[0m \u001b[0;34m:\u001b[0m \u001b[0mdressed_states_single\u001b[0m\u001b[0;34m(\u001b[0m\u001b[0mdel3\u001b[0m\u001b[0;34m,\u001b[0m \u001b[0momegamval\u001b[0m\u001b[0;34m,\u001b[0m \u001b[0momegaoval\u001b[0m\u001b[0;34m)\u001b[0m\u001b[0;34m\u001b[0m\u001b[0m\n\u001b[0;32m----> 2\u001b[0;31m \u001b[0mrho13_integrated\u001b[0m\u001b[0;34m(\u001b[0m\u001b[0;34m[\u001b[0m\u001b[0;34m-\u001b[0m\u001b[0;36m50e6\u001b[0m\u001b[0;34m,\u001b[0m\u001b[0;36m40e6\u001b[0m\u001b[0;34m]\u001b[0m\u001b[0;34m,\u001b[0m\u001b[0;34m[\u001b[0m\u001b[0;34m-\u001b[0m\u001b[0;36m40e6\u001b[0m\u001b[0;34m,\u001b[0m\u001b[0;36m30e6\u001b[0m\u001b[0;34m]\u001b[0m\u001b[0;34m,\u001b[0m \u001b[0mdelta3_mu_func\u001b[0m\u001b[0;34m)\u001b[0m\u001b[0;34m\u001b[0m\u001b[0m\n\u001b[0m",
      "\u001b[0;32m<ipython-input-19-69759bc0074d>\u001b[0m in \u001b[0;36mrho13_integrated\u001b[0;34m(del2_lims, del3_lims, peak_func)\u001b[0m\n\u001b[1;32m      1\u001b[0m \u001b[0;32mdef\u001b[0m \u001b[0mrho13_integrated\u001b[0m\u001b[0;34m(\u001b[0m\u001b[0mdel2_lims\u001b[0m\u001b[0;34m,\u001b[0m \u001b[0mdel3_lims\u001b[0m\u001b[0;34m,\u001b[0m \u001b[0mpeak_func\u001b[0m\u001b[0;34m)\u001b[0m\u001b[0;34m:\u001b[0m\u001b[0;34m\u001b[0m\u001b[0m\n\u001b[0;32m----> 2\u001b[0;31m     \u001b[0mcoh13_R_int\u001b[0m\u001b[0;34m=\u001b[0m\u001b[0mintegrate2d_peaks\u001b[0m\u001b[0;34m(\u001b[0m\u001b[0mcoh13_Rguass_fun\u001b[0m\u001b[0;34m,\u001b[0m \u001b[0mdel2_lims\u001b[0m\u001b[0;34m,\u001b[0m\u001b[0mdel3_lims\u001b[0m\u001b[0;34m,\u001b[0m\u001b[0mpeak_func\u001b[0m\u001b[0;34m)\u001b[0m\u001b[0;34m\u001b[0m\u001b[0m\n\u001b[0m\u001b[1;32m      3\u001b[0m     \u001b[0mcoh13_I_int\u001b[0m\u001b[0;34m=\u001b[0m\u001b[0mintegrate2d_peaks\u001b[0m\u001b[0;34m(\u001b[0m\u001b[0mcoh13_Iguass_fun\u001b[0m\u001b[0;34m,\u001b[0m \u001b[0mdel2_lims\u001b[0m\u001b[0;34m,\u001b[0m\u001b[0mdel3_lims\u001b[0m\u001b[0;34m,\u001b[0m\u001b[0mpeak_func\u001b[0m\u001b[0;34m)\u001b[0m\u001b[0;34m\u001b[0m\u001b[0m\n\u001b[1;32m      4\u001b[0m     \u001b[0;31m#return [coh13_R_int, coh13_I_int]#coh13_R_int+1.j*coh13_I_int\\\u001b[0m\u001b[0;34m\u001b[0m\u001b[0;34m\u001b[0m\u001b[0m\n\u001b[1;32m      5\u001b[0m     \u001b[0;31m#return coh13_R_int+1.j*coh13_I_int\u001b[0m\u001b[0;34m\u001b[0m\u001b[0;34m\u001b[0m\u001b[0m\n",
      "\u001b[0;32m<ipython-input-12-8a7264c129dc>\u001b[0m in \u001b[0;36mintegrate2d_peaks\u001b[0;34m(func, ylims, xlims, peak_func)\u001b[0m\n\u001b[1;32m     13\u001b[0m \u001b[0;32mdef\u001b[0m \u001b[0mintegrate2d_peaks\u001b[0m\u001b[0;34m(\u001b[0m\u001b[0mfunc\u001b[0m\u001b[0;34m,\u001b[0m \u001b[0mylims\u001b[0m\u001b[0;34m,\u001b[0m \u001b[0mxlims\u001b[0m\u001b[0;34m,\u001b[0m \u001b[0mpeak_func\u001b[0m\u001b[0;34m)\u001b[0m\u001b[0;34m:\u001b[0m\u001b[0;34m\u001b[0m\u001b[0m\n\u001b[1;32m     14\u001b[0m     \u001b[0mtemp_fun\u001b[0m\u001b[0;34m=\u001b[0m\u001b[0;32mlambda\u001b[0m \u001b[0mx\u001b[0m\u001b[0;34m:\u001b[0m \u001b[0mintegrate1d_peaks\u001b[0m\u001b[0;34m(\u001b[0m\u001b[0mfunc\u001b[0m\u001b[0;34m,\u001b[0m \u001b[0mx\u001b[0m\u001b[0;34m,\u001b[0m \u001b[0mylims\u001b[0m\u001b[0;34m,\u001b[0m \u001b[0mpeak_func\u001b[0m\u001b[0;34m)\u001b[0m\u001b[0;34m\u001b[0m\u001b[0m\n\u001b[0;32m---> 15\u001b[0;31m     \u001b[0minte\u001b[0m\u001b[0;34m=\u001b[0m\u001b[0mscipy\u001b[0m\u001b[0;34m.\u001b[0m\u001b[0mintegrate\u001b[0m\u001b[0;34m.\u001b[0m\u001b[0mquad\u001b[0m\u001b[0;34m(\u001b[0m\u001b[0mtemp_fun\u001b[0m\u001b[0;34m,\u001b[0m\u001b[0mxlims\u001b[0m\u001b[0;34m[\u001b[0m\u001b[0;36m0\u001b[0m\u001b[0;34m]\u001b[0m\u001b[0;34m,\u001b[0m \u001b[0mxlims\u001b[0m\u001b[0;34m[\u001b[0m\u001b[0;36m1\u001b[0m\u001b[0;34m]\u001b[0m\u001b[0;34m)\u001b[0m\u001b[0;34m\u001b[0m\u001b[0m\n\u001b[0m\u001b[1;32m     16\u001b[0m     \u001b[0;32mreturn\u001b[0m \u001b[0minte\u001b[0m\u001b[0;34m\u001b[0m\u001b[0m\n",
      "\u001b[0;32m~/anaconda3/lib/python3.6/site-packages/scipy/integrate/quadpack.py\u001b[0m in \u001b[0;36mquad\u001b[0;34m(func, a, b, args, full_output, epsabs, epsrel, limit, points, weight, wvar, wopts, maxp1, limlst)\u001b[0m\n\u001b[1;32m    339\u001b[0m     \u001b[0;32mif\u001b[0m \u001b[0mweight\u001b[0m \u001b[0;32mis\u001b[0m \u001b[0;32mNone\u001b[0m\u001b[0;34m:\u001b[0m\u001b[0;34m\u001b[0m\u001b[0m\n\u001b[1;32m    340\u001b[0m         retval = _quad(func, a, b, args, full_output, epsabs, epsrel, limit,\n\u001b[0;32m--> 341\u001b[0;31m                        points)\n\u001b[0m\u001b[1;32m    342\u001b[0m     \u001b[0;32melse\u001b[0m\u001b[0;34m:\u001b[0m\u001b[0;34m\u001b[0m\u001b[0m\n\u001b[1;32m    343\u001b[0m         retval = _quad_weight(func, a, b, args, full_output, epsabs, epsrel,\n",
      "\u001b[0;32m~/anaconda3/lib/python3.6/site-packages/scipy/integrate/quadpack.py\u001b[0m in \u001b[0;36m_quad\u001b[0;34m(func, a, b, args, full_output, epsabs, epsrel, limit, points)\u001b[0m\n\u001b[1;32m    446\u001b[0m     \u001b[0;32mif\u001b[0m \u001b[0mpoints\u001b[0m \u001b[0;32mis\u001b[0m \u001b[0;32mNone\u001b[0m\u001b[0;34m:\u001b[0m\u001b[0;34m\u001b[0m\u001b[0m\n\u001b[1;32m    447\u001b[0m         \u001b[0;32mif\u001b[0m \u001b[0minfbounds\u001b[0m \u001b[0;34m==\u001b[0m \u001b[0;36m0\u001b[0m\u001b[0;34m:\u001b[0m\u001b[0;34m\u001b[0m\u001b[0m\n\u001b[0;32m--> 448\u001b[0;31m             \u001b[0;32mreturn\u001b[0m \u001b[0m_quadpack\u001b[0m\u001b[0;34m.\u001b[0m\u001b[0m_qagse\u001b[0m\u001b[0;34m(\u001b[0m\u001b[0mfunc\u001b[0m\u001b[0;34m,\u001b[0m\u001b[0ma\u001b[0m\u001b[0;34m,\u001b[0m\u001b[0mb\u001b[0m\u001b[0;34m,\u001b[0m\u001b[0margs\u001b[0m\u001b[0;34m,\u001b[0m\u001b[0mfull_output\u001b[0m\u001b[0;34m,\u001b[0m\u001b[0mepsabs\u001b[0m\u001b[0;34m,\u001b[0m\u001b[0mepsrel\u001b[0m\u001b[0;34m,\u001b[0m\u001b[0mlimit\u001b[0m\u001b[0;34m)\u001b[0m\u001b[0;34m\u001b[0m\u001b[0m\n\u001b[0m\u001b[1;32m    449\u001b[0m         \u001b[0;32melse\u001b[0m\u001b[0;34m:\u001b[0m\u001b[0;34m\u001b[0m\u001b[0m\n\u001b[1;32m    450\u001b[0m             \u001b[0;32mreturn\u001b[0m \u001b[0m_quadpack\u001b[0m\u001b[0;34m.\u001b[0m\u001b[0m_qagie\u001b[0m\u001b[0;34m(\u001b[0m\u001b[0mfunc\u001b[0m\u001b[0;34m,\u001b[0m\u001b[0mbound\u001b[0m\u001b[0;34m,\u001b[0m\u001b[0minfbounds\u001b[0m\u001b[0;34m,\u001b[0m\u001b[0margs\u001b[0m\u001b[0;34m,\u001b[0m\u001b[0mfull_output\u001b[0m\u001b[0;34m,\u001b[0m\u001b[0mepsabs\u001b[0m\u001b[0;34m,\u001b[0m\u001b[0mepsrel\u001b[0m\u001b[0;34m,\u001b[0m\u001b[0mlimit\u001b[0m\u001b[0;34m)\u001b[0m\u001b[0;34m\u001b[0m\u001b[0m\n",
      "\u001b[0;32m<ipython-input-12-8a7264c129dc>\u001b[0m in \u001b[0;36m<lambda>\u001b[0;34m(x)\u001b[0m\n\u001b[1;32m     12\u001b[0m \u001b[0;34m\u001b[0m\u001b[0m\n\u001b[1;32m     13\u001b[0m \u001b[0;32mdef\u001b[0m \u001b[0mintegrate2d_peaks\u001b[0m\u001b[0;34m(\u001b[0m\u001b[0mfunc\u001b[0m\u001b[0;34m,\u001b[0m \u001b[0mylims\u001b[0m\u001b[0;34m,\u001b[0m \u001b[0mxlims\u001b[0m\u001b[0;34m,\u001b[0m \u001b[0mpeak_func\u001b[0m\u001b[0;34m)\u001b[0m\u001b[0;34m:\u001b[0m\u001b[0;34m\u001b[0m\u001b[0m\n\u001b[0;32m---> 14\u001b[0;31m     \u001b[0mtemp_fun\u001b[0m\u001b[0;34m=\u001b[0m\u001b[0;32mlambda\u001b[0m \u001b[0mx\u001b[0m\u001b[0;34m:\u001b[0m \u001b[0mintegrate1d_peaks\u001b[0m\u001b[0;34m(\u001b[0m\u001b[0mfunc\u001b[0m\u001b[0;34m,\u001b[0m \u001b[0mx\u001b[0m\u001b[0;34m,\u001b[0m \u001b[0mylims\u001b[0m\u001b[0;34m,\u001b[0m \u001b[0mpeak_func\u001b[0m\u001b[0;34m)\u001b[0m\u001b[0;34m\u001b[0m\u001b[0m\n\u001b[0m\u001b[1;32m     15\u001b[0m     \u001b[0minte\u001b[0m\u001b[0;34m=\u001b[0m\u001b[0mscipy\u001b[0m\u001b[0;34m.\u001b[0m\u001b[0mintegrate\u001b[0m\u001b[0;34m.\u001b[0m\u001b[0mquad\u001b[0m\u001b[0;34m(\u001b[0m\u001b[0mtemp_fun\u001b[0m\u001b[0;34m,\u001b[0m\u001b[0mxlims\u001b[0m\u001b[0;34m[\u001b[0m\u001b[0;36m0\u001b[0m\u001b[0;34m]\u001b[0m\u001b[0;34m,\u001b[0m \u001b[0mxlims\u001b[0m\u001b[0;34m[\u001b[0m\u001b[0;36m1\u001b[0m\u001b[0;34m]\u001b[0m\u001b[0;34m)\u001b[0m\u001b[0;34m\u001b[0m\u001b[0m\n\u001b[1;32m     16\u001b[0m     \u001b[0;32mreturn\u001b[0m \u001b[0minte\u001b[0m\u001b[0;34m\u001b[0m\u001b[0m\n",
      "\u001b[0;32m<ipython-input-12-8a7264c129dc>\u001b[0m in \u001b[0;36mintegrate1d_peaks\u001b[0;34m(func, x, ylims, peak_func)\u001b[0m\n\u001b[1;32m      7\u001b[0m     \u001b[0;32melse\u001b[0m\u001b[0;34m:\u001b[0m\u001b[0;34m\u001b[0m\u001b[0m\n\u001b[1;32m      8\u001b[0m         \u001b[0mfuncval1\u001b[0m\u001b[0;34m=\u001b[0m\u001b[0mscipy\u001b[0m\u001b[0;34m.\u001b[0m\u001b[0mintegrate\u001b[0m\u001b[0;34m.\u001b[0m\u001b[0mquad\u001b[0m\u001b[0;34m(\u001b[0m\u001b[0mfunc\u001b[0m\u001b[0;34m,\u001b[0m \u001b[0mylims\u001b[0m\u001b[0;34m[\u001b[0m\u001b[0;36m0\u001b[0m\u001b[0;34m]\u001b[0m\u001b[0;34m,\u001b[0m \u001b[0mpeak_yval\u001b[0m\u001b[0;34m,\u001b[0m \u001b[0margs\u001b[0m\u001b[0;34m=\u001b[0m\u001b[0mx\u001b[0m\u001b[0;34m)\u001b[0m\u001b[0;34m[\u001b[0m\u001b[0;36m0\u001b[0m\u001b[0;34m]\u001b[0m\u001b[0;34m\u001b[0m\u001b[0m\n\u001b[0;32m----> 9\u001b[0;31m         \u001b[0mfuncval2\u001b[0m\u001b[0;34m=\u001b[0m\u001b[0mscipy\u001b[0m\u001b[0;34m.\u001b[0m\u001b[0mintegrate\u001b[0m\u001b[0;34m.\u001b[0m\u001b[0mquad\u001b[0m\u001b[0;34m(\u001b[0m\u001b[0mfunc\u001b[0m\u001b[0;34m,\u001b[0m \u001b[0mpeak_yval\u001b[0m\u001b[0;34m,\u001b[0m \u001b[0mylims\u001b[0m\u001b[0;34m[\u001b[0m\u001b[0;36m1\u001b[0m\u001b[0;34m]\u001b[0m\u001b[0;34m,\u001b[0m \u001b[0margs\u001b[0m\u001b[0;34m=\u001b[0m\u001b[0mx\u001b[0m\u001b[0;34m)\u001b[0m\u001b[0;34m[\u001b[0m\u001b[0;36m0\u001b[0m\u001b[0;34m]\u001b[0m\u001b[0;34m\u001b[0m\u001b[0m\n\u001b[0m\u001b[1;32m     10\u001b[0m         \u001b[0mfuncval\u001b[0m\u001b[0;34m=\u001b[0m\u001b[0mfuncval1\u001b[0m\u001b[0;34m+\u001b[0m\u001b[0mfuncval2\u001b[0m\u001b[0;34m\u001b[0m\u001b[0m\n\u001b[1;32m     11\u001b[0m     \u001b[0;32mreturn\u001b[0m \u001b[0mfuncval\u001b[0m\u001b[0;34m\u001b[0m\u001b[0m\n",
      "\u001b[0;32m~/anaconda3/lib/python3.6/site-packages/scipy/integrate/quadpack.py\u001b[0m in \u001b[0;36mquad\u001b[0;34m(func, a, b, args, full_output, epsabs, epsrel, limit, points, weight, wvar, wopts, maxp1, limlst)\u001b[0m\n\u001b[1;32m    339\u001b[0m     \u001b[0;32mif\u001b[0m \u001b[0mweight\u001b[0m \u001b[0;32mis\u001b[0m \u001b[0;32mNone\u001b[0m\u001b[0;34m:\u001b[0m\u001b[0;34m\u001b[0m\u001b[0m\n\u001b[1;32m    340\u001b[0m         retval = _quad(func, a, b, args, full_output, epsabs, epsrel, limit,\n\u001b[0;32m--> 341\u001b[0;31m                        points)\n\u001b[0m\u001b[1;32m    342\u001b[0m     \u001b[0;32melse\u001b[0m\u001b[0;34m:\u001b[0m\u001b[0;34m\u001b[0m\u001b[0m\n\u001b[1;32m    343\u001b[0m         retval = _quad_weight(func, a, b, args, full_output, epsabs, epsrel,\n",
      "\u001b[0;32m~/anaconda3/lib/python3.6/site-packages/scipy/integrate/quadpack.py\u001b[0m in \u001b[0;36m_quad\u001b[0;34m(func, a, b, args, full_output, epsabs, epsrel, limit, points)\u001b[0m\n\u001b[1;32m    446\u001b[0m     \u001b[0;32mif\u001b[0m \u001b[0mpoints\u001b[0m \u001b[0;32mis\u001b[0m \u001b[0;32mNone\u001b[0m\u001b[0;34m:\u001b[0m\u001b[0;34m\u001b[0m\u001b[0m\n\u001b[1;32m    447\u001b[0m         \u001b[0;32mif\u001b[0m \u001b[0minfbounds\u001b[0m \u001b[0;34m==\u001b[0m \u001b[0;36m0\u001b[0m\u001b[0;34m:\u001b[0m\u001b[0;34m\u001b[0m\u001b[0m\n\u001b[0;32m--> 448\u001b[0;31m             \u001b[0;32mreturn\u001b[0m \u001b[0m_quadpack\u001b[0m\u001b[0;34m.\u001b[0m\u001b[0m_qagse\u001b[0m\u001b[0;34m(\u001b[0m\u001b[0mfunc\u001b[0m\u001b[0;34m,\u001b[0m\u001b[0ma\u001b[0m\u001b[0;34m,\u001b[0m\u001b[0mb\u001b[0m\u001b[0;34m,\u001b[0m\u001b[0margs\u001b[0m\u001b[0;34m,\u001b[0m\u001b[0mfull_output\u001b[0m\u001b[0;34m,\u001b[0m\u001b[0mepsabs\u001b[0m\u001b[0;34m,\u001b[0m\u001b[0mepsrel\u001b[0m\u001b[0;34m,\u001b[0m\u001b[0mlimit\u001b[0m\u001b[0;34m)\u001b[0m\u001b[0;34m\u001b[0m\u001b[0m\n\u001b[0m\u001b[1;32m    449\u001b[0m         \u001b[0;32melse\u001b[0m\u001b[0;34m:\u001b[0m\u001b[0;34m\u001b[0m\u001b[0m\n\u001b[1;32m    450\u001b[0m             \u001b[0;32mreturn\u001b[0m \u001b[0m_quadpack\u001b[0m\u001b[0;34m.\u001b[0m\u001b[0m_qagie\u001b[0m\u001b[0;34m(\u001b[0m\u001b[0mfunc\u001b[0m\u001b[0;34m,\u001b[0m\u001b[0mbound\u001b[0m\u001b[0;34m,\u001b[0m\u001b[0minfbounds\u001b[0m\u001b[0;34m,\u001b[0m\u001b[0margs\u001b[0m\u001b[0;34m,\u001b[0m\u001b[0mfull_output\u001b[0m\u001b[0;34m,\u001b[0m\u001b[0mepsabs\u001b[0m\u001b[0;34m,\u001b[0m\u001b[0mepsrel\u001b[0m\u001b[0;34m,\u001b[0m\u001b[0mlimit\u001b[0m\u001b[0;34m)\u001b[0m\u001b[0;34m\u001b[0m\u001b[0m\n",
      "\u001b[0;32m<ipython-input-15-c6208d6216b2>\u001b[0m in \u001b[0;36m<lambda>\u001b[0;34m(del2, del3, m2, m3, sd2, sd3)\u001b[0m\n\u001b[1;32m      3\u001b[0m gauss_fun=lambda del2, del3, m2,m3,sd2,sd3: 1.0/(2*pi*sd2*sd3)*np.exp(-(del2-m2)**2/(2*sd2**2)\n\u001b[1;32m      4\u001b[0m                                                                   -(del3-m3)**2/(2*sd3**2))\n\u001b[0;32m----> 5\u001b[0;31m \u001b[0mcoh13_Rguass_fun\u001b[0m\u001b[0;34m=\u001b[0m\u001b[0;32mlambda\u001b[0m \u001b[0mdel2\u001b[0m\u001b[0;34m,\u001b[0m\u001b[0mdel3\u001b[0m\u001b[0;34m,\u001b[0m\u001b[0mm2\u001b[0m\u001b[0;34m=\u001b[0m\u001b[0mm2val\u001b[0m\u001b[0;34m,\u001b[0m\u001b[0mm3\u001b[0m\u001b[0;34m=\u001b[0m\u001b[0mm3val\u001b[0m\u001b[0;34m,\u001b[0m\u001b[0msd2\u001b[0m\u001b[0;34m=\u001b[0m\u001b[0msd2val\u001b[0m\u001b[0;34m,\u001b[0m\u001b[0msd3\u001b[0m\u001b[0;34m=\u001b[0m\u001b[0msd3val\u001b[0m\u001b[0;34m:\u001b[0m \u001b[0mcoh13_Rfun\u001b[0m\u001b[0;34m(\u001b[0m\u001b[0mdel2\u001b[0m\u001b[0;34m,\u001b[0m\u001b[0mdel3\u001b[0m\u001b[0;34m)\u001b[0m\u001b[0;34m*\u001b[0m\u001b[0mgauss_fun\u001b[0m\u001b[0;34m(\u001b[0m\u001b[0mdel2\u001b[0m\u001b[0;34m,\u001b[0m\u001b[0mdel3\u001b[0m\u001b[0;34m,\u001b[0m\u001b[0mm2\u001b[0m\u001b[0;34m,\u001b[0m\u001b[0mm3\u001b[0m\u001b[0;34m,\u001b[0m\u001b[0msd2\u001b[0m\u001b[0;34m,\u001b[0m\u001b[0msd3\u001b[0m\u001b[0;34m)\u001b[0m\u001b[0;34m\u001b[0m\u001b[0m\n\u001b[0m\u001b[1;32m      6\u001b[0m \u001b[0mcoh13_Iguass_fun\u001b[0m\u001b[0;34m=\u001b[0m\u001b[0;32mlambda\u001b[0m \u001b[0mdel2\u001b[0m\u001b[0;34m,\u001b[0m\u001b[0mdel3\u001b[0m\u001b[0;34m,\u001b[0m\u001b[0mm2\u001b[0m\u001b[0;34m=\u001b[0m\u001b[0mm2val\u001b[0m\u001b[0;34m,\u001b[0m\u001b[0mm3\u001b[0m\u001b[0;34m=\u001b[0m\u001b[0mm3val\u001b[0m\u001b[0;34m,\u001b[0m\u001b[0msd2\u001b[0m\u001b[0;34m=\u001b[0m\u001b[0msd2val\u001b[0m\u001b[0;34m,\u001b[0m\u001b[0msd3\u001b[0m\u001b[0;34m=\u001b[0m\u001b[0msd3val\u001b[0m\u001b[0;34m:\u001b[0m \u001b[0mcoh13_Ifun\u001b[0m\u001b[0;34m(\u001b[0m\u001b[0mdel2\u001b[0m\u001b[0;34m,\u001b[0m\u001b[0mdel3\u001b[0m\u001b[0;34m)\u001b[0m\u001b[0;34m*\u001b[0m\u001b[0mgauss_fun\u001b[0m\u001b[0;34m(\u001b[0m\u001b[0mdel2\u001b[0m\u001b[0;34m,\u001b[0m\u001b[0mdel3\u001b[0m\u001b[0;34m,\u001b[0m\u001b[0mm2\u001b[0m\u001b[0;34m,\u001b[0m\u001b[0mm3\u001b[0m\u001b[0;34m,\u001b[0m\u001b[0msd2\u001b[0m\u001b[0;34m,\u001b[0m\u001b[0msd3\u001b[0m\u001b[0;34m)\u001b[0m\u001b[0;34m\u001b[0m\u001b[0m\n",
      "\u001b[0;32m<ipython-input-15-c6208d6216b2>\u001b[0m in \u001b[0;36m<lambda>\u001b[0;34m(del2, del3)\u001b[0m\n\u001b[0;32m----> 1\u001b[0;31m \u001b[0mcoh13_Rfun\u001b[0m\u001b[0;34m=\u001b[0m\u001b[0;32mlambda\u001b[0m \u001b[0mdel2\u001b[0m\u001b[0;34m,\u001b[0m \u001b[0mdel3\u001b[0m \u001b[0;34m:\u001b[0m \u001b[0mnp\u001b[0m\u001b[0;34m.\u001b[0m\u001b[0mreal\u001b[0m\u001b[0;34m(\u001b[0m\u001b[0msteady_rho_lots_of_args\u001b[0m\u001b[0;34m(\u001b[0m\u001b[0maval\u001b[0m\u001b[0;34m,\u001b[0m\u001b[0mdel2\u001b[0m\u001b[0;34m,\u001b[0m\u001b[0mdel3\u001b[0m\u001b[0;34m,\u001b[0m\u001b[0mgamma13val\u001b[0m\u001b[0;34m,\u001b[0m\u001b[0mgamma23val\u001b[0m\u001b[0;34m,\u001b[0m\u001b[0mgamma2dval\u001b[0m\u001b[0;34m,\u001b[0m\u001b[0mgamma3dval\u001b[0m\u001b[0;34m,\u001b[0m\u001b[0mnbathval\u001b[0m\u001b[0;34m,\u001b[0m\u001b[0mgammamuval\u001b[0m\u001b[0;34m,\u001b[0m\u001b[0momegaoval\u001b[0m\u001b[0;34m,\u001b[0m \u001b[0momegamval\u001b[0m\u001b[0;34m,\u001b[0m\u001b[0mgval\u001b[0m\u001b[0;34m)\u001b[0m\u001b[0;34m[\u001b[0m\u001b[0;36m0\u001b[0m\u001b[0;34m,\u001b[0m\u001b[0;36m2\u001b[0m\u001b[0;34m]\u001b[0m\u001b[0;34m)\u001b[0m\u001b[0;34m\u001b[0m\u001b[0m\n\u001b[0m\u001b[1;32m      2\u001b[0m \u001b[0mcoh13_Ifun\u001b[0m\u001b[0;34m=\u001b[0m\u001b[0;32mlambda\u001b[0m \u001b[0mdel2\u001b[0m\u001b[0;34m,\u001b[0m \u001b[0mdel3\u001b[0m \u001b[0;34m:\u001b[0m \u001b[0mnp\u001b[0m\u001b[0;34m.\u001b[0m\u001b[0mimag\u001b[0m\u001b[0;34m(\u001b[0m\u001b[0msteady_rho_lots_of_args\u001b[0m\u001b[0;34m(\u001b[0m\u001b[0maval\u001b[0m\u001b[0;34m,\u001b[0m\u001b[0mdel2\u001b[0m\u001b[0;34m,\u001b[0m\u001b[0mdel3\u001b[0m\u001b[0;34m,\u001b[0m\u001b[0mgamma13val\u001b[0m\u001b[0;34m,\u001b[0m\u001b[0mgamma23val\u001b[0m\u001b[0;34m,\u001b[0m\u001b[0mgamma2dval\u001b[0m\u001b[0;34m,\u001b[0m\u001b[0mgamma3dval\u001b[0m\u001b[0;34m,\u001b[0m\u001b[0mnbathval\u001b[0m\u001b[0;34m,\u001b[0m\u001b[0mgammamuval\u001b[0m\u001b[0;34m,\u001b[0m\u001b[0momegaoval\u001b[0m\u001b[0;34m,\u001b[0m \u001b[0momegamval\u001b[0m\u001b[0;34m,\u001b[0m\u001b[0mgval\u001b[0m\u001b[0;34m)\u001b[0m\u001b[0;34m[\u001b[0m\u001b[0;36m0\u001b[0m\u001b[0;34m,\u001b[0m\u001b[0;36m2\u001b[0m\u001b[0;34m]\u001b[0m\u001b[0;34m)\u001b[0m\u001b[0;34m\u001b[0m\u001b[0m\n\u001b[1;32m      3\u001b[0m gauss_fun=lambda del2, del3, m2,m3,sd2,sd3: 1.0/(2*pi*sd2*sd3)*np.exp(-(del2-m2)**2/(2*sd2**2)\n\u001b[1;32m      4\u001b[0m                                                                   -(del3-m3)**2/(2*sd3**2))\n\u001b[1;32m      5\u001b[0m \u001b[0mcoh13_Rguass_fun\u001b[0m\u001b[0;34m=\u001b[0m\u001b[0;32mlambda\u001b[0m \u001b[0mdel2\u001b[0m\u001b[0;34m,\u001b[0m\u001b[0mdel3\u001b[0m\u001b[0;34m,\u001b[0m\u001b[0mm2\u001b[0m\u001b[0;34m=\u001b[0m\u001b[0mm2val\u001b[0m\u001b[0;34m,\u001b[0m\u001b[0mm3\u001b[0m\u001b[0;34m=\u001b[0m\u001b[0mm3val\u001b[0m\u001b[0;34m,\u001b[0m\u001b[0msd2\u001b[0m\u001b[0;34m=\u001b[0m\u001b[0msd2val\u001b[0m\u001b[0;34m,\u001b[0m\u001b[0msd3\u001b[0m\u001b[0;34m=\u001b[0m\u001b[0msd3val\u001b[0m\u001b[0;34m:\u001b[0m \u001b[0mcoh13_Rfun\u001b[0m\u001b[0;34m(\u001b[0m\u001b[0mdel2\u001b[0m\u001b[0;34m,\u001b[0m\u001b[0mdel3\u001b[0m\u001b[0;34m)\u001b[0m\u001b[0;34m*\u001b[0m\u001b[0mgauss_fun\u001b[0m\u001b[0;34m(\u001b[0m\u001b[0mdel2\u001b[0m\u001b[0;34m,\u001b[0m\u001b[0mdel3\u001b[0m\u001b[0;34m,\u001b[0m\u001b[0mm2\u001b[0m\u001b[0;34m,\u001b[0m\u001b[0mm3\u001b[0m\u001b[0;34m,\u001b[0m\u001b[0msd2\u001b[0m\u001b[0;34m,\u001b[0m\u001b[0msd3\u001b[0m\u001b[0;34m)\u001b[0m\u001b[0;34m\u001b[0m\u001b[0m\n",
      "\u001b[0;32m~/anaconda3/lib/python3.6/site-packages/numpy/matrixlib/defmatrix.py\u001b[0m in \u001b[0;36m__getitem__\u001b[0;34m(self, index)\u001b[0m\n\u001b[1;32m    278\u001b[0m         \u001b[0;32mreturn\u001b[0m\u001b[0;34m\u001b[0m\u001b[0m\n\u001b[1;32m    279\u001b[0m \u001b[0;34m\u001b[0m\u001b[0m\n\u001b[0;32m--> 280\u001b[0;31m     \u001b[0;32mdef\u001b[0m \u001b[0m__getitem__\u001b[0m\u001b[0;34m(\u001b[0m\u001b[0mself\u001b[0m\u001b[0;34m,\u001b[0m \u001b[0mindex\u001b[0m\u001b[0;34m)\u001b[0m\u001b[0;34m:\u001b[0m\u001b[0;34m\u001b[0m\u001b[0m\n\u001b[0m\u001b[1;32m    281\u001b[0m         \u001b[0mself\u001b[0m\u001b[0;34m.\u001b[0m\u001b[0m_getitem\u001b[0m \u001b[0;34m=\u001b[0m \u001b[0;32mTrue\u001b[0m\u001b[0;34m\u001b[0m\u001b[0m\n\u001b[1;32m    282\u001b[0m \u001b[0;34m\u001b[0m\u001b[0m\n",
      "\u001b[0;31mKeyboardInterrupt\u001b[0m: "
     ]
    }
   ],
   "source": [
    "peak_func=lambda del3 : dressed_states_single(del3, omegamval, omegaoval)\n",
    "rho13_integrated([-50e6,40e6],[-40e6,30e6], delta3_mu_func)"
   ]
  },
  {
   "cell_type": "code",
   "execution_count": null,
   "metadata": {},
   "outputs": [],
   "source": [
    "rho13_integrated_quad([-50e6,40e6],[-40e6,40e6])"
   ]
  },
  {
   "cell_type": "code",
   "execution_count": 34,
   "metadata": {
    "scrolled": true
   },
   "outputs": [
    {
     "ename": "LinAlgError",
     "evalue": "Singular matrix",
     "output_type": "error",
     "traceback": [
      "\u001b[0;31m---------------------------------------------------------------------------\u001b[0m",
      "\u001b[0;31mLinAlgError\u001b[0m                               Traceback (most recent call last)",
      "\u001b[0;32m<ipython-input-34-95cf7fe2d0e1>\u001b[0m in \u001b[0;36m<module>\u001b[0;34m()\u001b[0m\n\u001b[1;32m     11\u001b[0m         \u001b[0;31m#dressed_states_plot=dressed_states_3(delta3vals, omegamvals_test[ii], omegaovals_test[jj])\u001b[0m\u001b[0;34m\u001b[0m\u001b[0;34m\u001b[0m\u001b[0m\n\u001b[1;32m     12\u001b[0m                 rho_save[ii,jj,kk,ll,:]=steady_rho_lots_of_args(aval, delta2vals[kk], delta3vals[ll],gamma13val, gamma23val,\n\u001b[0;32m---> 13\u001b[0;31m                                         gamma2dval, gamma3dval, nbathval, gammamuval, omegaovals_test[jj], omegamvals_test[ii],gval)\n\u001b[0m\u001b[1;32m     14\u001b[0m \u001b[0;34m\u001b[0m\u001b[0m\n",
      "\u001b[0;32m<ipython-input-11-61142d9a63ab>\u001b[0m in \u001b[0;36msteady_rho_lots_of_args\u001b[0;34m(a, delta2, delta3, gamma_13, gamma_23, gamma_2d, gamma_3d, n_b, gamma_mu, omegao, omegamu, g)\u001b[0m\n\u001b[1;32m      3\u001b[0m     \u001b[0ma_i\u001b[0m\u001b[0;34m=\u001b[0m\u001b[0mnp\u001b[0m\u001b[0;34m.\u001b[0m\u001b[0mimag\u001b[0m\u001b[0;34m(\u001b[0m\u001b[0ma\u001b[0m\u001b[0;34m)\u001b[0m\u001b[0;34m\u001b[0m\u001b[0m\n\u001b[1;32m      4\u001b[0m     \u001b[0mL_mat\u001b[0m\u001b[0;34m=\u001b[0m\u001b[0mLfunc\u001b[0m\u001b[0;34m(\u001b[0m\u001b[0ma\u001b[0m\u001b[0;34m,\u001b[0m \u001b[0mdelta2\u001b[0m\u001b[0;34m,\u001b[0m\u001b[0mdelta3\u001b[0m\u001b[0;34m,\u001b[0m\u001b[0mgamma_13\u001b[0m\u001b[0;34m,\u001b[0m\u001b[0mgamma_23\u001b[0m\u001b[0;34m,\u001b[0m\u001b[0mgamma_2d\u001b[0m\u001b[0;34m,\u001b[0m\u001b[0mgamma_3d\u001b[0m\u001b[0;34m,\u001b[0m \u001b[0mn_b\u001b[0m\u001b[0;34m,\u001b[0m\u001b[0mgamma_mu\u001b[0m\u001b[0;34m,\u001b[0m\u001b[0momegao\u001b[0m\u001b[0;34m,\u001b[0m\u001b[0momegamu\u001b[0m\u001b[0;34m,\u001b[0m\u001b[0mg\u001b[0m\u001b[0;34m)\u001b[0m\u001b[0;34m\u001b[0m\u001b[0m\n\u001b[0;32m----> 5\u001b[0;31m     \u001b[0mrho\u001b[0m \u001b[0;34m=\u001b[0m \u001b[0mnp\u001b[0m\u001b[0;34m.\u001b[0m\u001b[0mlinalg\u001b[0m\u001b[0;34m.\u001b[0m\u001b[0msolve\u001b[0m\u001b[0;34m(\u001b[0m\u001b[0mL_mat\u001b[0m\u001b[0;34m.\u001b[0m\u001b[0mastype\u001b[0m\u001b[0;34m(\u001b[0m\u001b[0;34m'complex128'\u001b[0m\u001b[0;34m)\u001b[0m\u001b[0;34m,\u001b[0m\u001b[0mnp\u001b[0m\u001b[0;34m.\u001b[0m\u001b[0mmatrix\u001b[0m\u001b[0;34m(\u001b[0m\u001b[0;34m[\u001b[0m\u001b[0;34m[\u001b[0m\u001b[0;36m1\u001b[0m\u001b[0;34m,\u001b[0m\u001b[0;36m0\u001b[0m\u001b[0;34m,\u001b[0m\u001b[0;36m0\u001b[0m\u001b[0;34m,\u001b[0m\u001b[0;36m0\u001b[0m\u001b[0;34m,\u001b[0m\u001b[0;36m0\u001b[0m\u001b[0;34m,\u001b[0m\u001b[0;36m0\u001b[0m\u001b[0;34m,\u001b[0m\u001b[0;36m0\u001b[0m\u001b[0;34m,\u001b[0m\u001b[0;36m0\u001b[0m\u001b[0;34m,\u001b[0m\u001b[0;36m0\u001b[0m\u001b[0;34m]\u001b[0m\u001b[0;34m]\u001b[0m\u001b[0;34m)\u001b[0m\u001b[0;34m.\u001b[0m\u001b[0mT\u001b[0m\u001b[0;34m)\u001b[0m\u001b[0;34m\u001b[0m\u001b[0m\n\u001b[0m\u001b[1;32m      6\u001b[0m     \u001b[0;32mreturn\u001b[0m \u001b[0mnp\u001b[0m\u001b[0;34m.\u001b[0m\u001b[0mreshape\u001b[0m\u001b[0;34m(\u001b[0m\u001b[0mrho\u001b[0m\u001b[0;34m,\u001b[0m\u001b[0;34m(\u001b[0m\u001b[0;36m3\u001b[0m\u001b[0;34m,\u001b[0m\u001b[0;36m3\u001b[0m\u001b[0;34m)\u001b[0m\u001b[0;34m,\u001b[0m\u001b[0morder\u001b[0m\u001b[0;34m=\u001b[0m\u001b[0;34m'F'\u001b[0m\u001b[0;34m)\u001b[0m\u001b[0;34m\u001b[0m\u001b[0m\n\u001b[1;32m      7\u001b[0m \u001b[0;32mdef\u001b[0m \u001b[0msteady_rho_lots_of_args_inds\u001b[0m\u001b[0;34m(\u001b[0m\u001b[0mind1\u001b[0m\u001b[0;34m,\u001b[0m\u001b[0mind2\u001b[0m\u001b[0;34m,\u001b[0m\u001b[0ma\u001b[0m\u001b[0;34m,\u001b[0m\u001b[0mdelta2vals\u001b[0m\u001b[0;34m,\u001b[0m\u001b[0mdelta3vals\u001b[0m\u001b[0;34m,\u001b[0m\u001b[0mgamma_13\u001b[0m\u001b[0;34m,\u001b[0m\u001b[0mgamma_23\u001b[0m\u001b[0;34m,\u001b[0m\u001b[0mgamma_2d\u001b[0m\u001b[0;34m,\u001b[0m\u001b[0mgama_3d\u001b[0m\u001b[0;34m,\u001b[0m \u001b[0mn_b\u001b[0m\u001b[0;34m,\u001b[0m\u001b[0mgamma_mu\u001b[0m\u001b[0;34m,\u001b[0m\u001b[0momegao\u001b[0m\u001b[0;34m,\u001b[0m\u001b[0momegamu\u001b[0m\u001b[0;34m,\u001b[0m\u001b[0mg\u001b[0m\u001b[0;34m)\u001b[0m\u001b[0;34m:\u001b[0m\u001b[0;34m\u001b[0m\u001b[0m\n",
      "\u001b[0;32m~/anaconda3/lib/python3.6/site-packages/numpy/linalg/linalg.py\u001b[0m in \u001b[0;36msolve\u001b[0;34m(a, b)\u001b[0m\n\u001b[1;32m    388\u001b[0m     \u001b[0msignature\u001b[0m \u001b[0;34m=\u001b[0m \u001b[0;34m'DD->D'\u001b[0m \u001b[0;32mif\u001b[0m \u001b[0misComplexType\u001b[0m\u001b[0;34m(\u001b[0m\u001b[0mt\u001b[0m\u001b[0;34m)\u001b[0m \u001b[0;32melse\u001b[0m \u001b[0;34m'dd->d'\u001b[0m\u001b[0;34m\u001b[0m\u001b[0m\n\u001b[1;32m    389\u001b[0m     \u001b[0mextobj\u001b[0m \u001b[0;34m=\u001b[0m \u001b[0mget_linalg_error_extobj\u001b[0m\u001b[0;34m(\u001b[0m\u001b[0m_raise_linalgerror_singular\u001b[0m\u001b[0;34m)\u001b[0m\u001b[0;34m\u001b[0m\u001b[0m\n\u001b[0;32m--> 390\u001b[0;31m     \u001b[0mr\u001b[0m \u001b[0;34m=\u001b[0m \u001b[0mgufunc\u001b[0m\u001b[0;34m(\u001b[0m\u001b[0ma\u001b[0m\u001b[0;34m,\u001b[0m \u001b[0mb\u001b[0m\u001b[0;34m,\u001b[0m \u001b[0msignature\u001b[0m\u001b[0;34m=\u001b[0m\u001b[0msignature\u001b[0m\u001b[0;34m,\u001b[0m \u001b[0mextobj\u001b[0m\u001b[0;34m=\u001b[0m\u001b[0mextobj\u001b[0m\u001b[0;34m)\u001b[0m\u001b[0;34m\u001b[0m\u001b[0m\n\u001b[0m\u001b[1;32m    391\u001b[0m \u001b[0;34m\u001b[0m\u001b[0m\n\u001b[1;32m    392\u001b[0m     \u001b[0;32mreturn\u001b[0m \u001b[0mwrap\u001b[0m\u001b[0;34m(\u001b[0m\u001b[0mr\u001b[0m\u001b[0;34m.\u001b[0m\u001b[0mastype\u001b[0m\u001b[0;34m(\u001b[0m\u001b[0mresult_t\u001b[0m\u001b[0;34m,\u001b[0m \u001b[0mcopy\u001b[0m\u001b[0;34m=\u001b[0m\u001b[0;32mFalse\u001b[0m\u001b[0;34m)\u001b[0m\u001b[0;34m)\u001b[0m\u001b[0;34m\u001b[0m\u001b[0m\n",
      "\u001b[0;32m~/anaconda3/lib/python3.6/site-packages/numpy/linalg/linalg.py\u001b[0m in \u001b[0;36m_raise_linalgerror_singular\u001b[0;34m(err, flag)\u001b[0m\n\u001b[1;32m     87\u001b[0m \u001b[0;34m\u001b[0m\u001b[0m\n\u001b[1;32m     88\u001b[0m \u001b[0;32mdef\u001b[0m \u001b[0m_raise_linalgerror_singular\u001b[0m\u001b[0;34m(\u001b[0m\u001b[0merr\u001b[0m\u001b[0;34m,\u001b[0m \u001b[0mflag\u001b[0m\u001b[0;34m)\u001b[0m\u001b[0;34m:\u001b[0m\u001b[0;34m\u001b[0m\u001b[0m\n\u001b[0;32m---> 89\u001b[0;31m     \u001b[0;32mraise\u001b[0m \u001b[0mLinAlgError\u001b[0m\u001b[0;34m(\u001b[0m\u001b[0;34m\"Singular matrix\"\u001b[0m\u001b[0;34m)\u001b[0m\u001b[0;34m\u001b[0m\u001b[0m\n\u001b[0m\u001b[1;32m     90\u001b[0m \u001b[0;34m\u001b[0m\u001b[0m\n\u001b[1;32m     91\u001b[0m \u001b[0;32mdef\u001b[0m \u001b[0m_raise_linalgerror_nonposdef\u001b[0m\u001b[0;34m(\u001b[0m\u001b[0merr\u001b[0m\u001b[0;34m,\u001b[0m \u001b[0mflag\u001b[0m\u001b[0;34m)\u001b[0m\u001b[0;34m:\u001b[0m\u001b[0;34m\u001b[0m\u001b[0m\n",
      "\u001b[0;31mLinAlgError\u001b[0m: Singular matrix"
     ]
    }
   ],
   "source": [
    "omegamvals_test=[1e3,1e4,1e5,1e6, 1e7]\n",
    "omegaovals_test=[1e3,1e4,1e5,1e6, 1e7]\n",
    "#omegamvals_test=[1e3,1e7]\n",
    "#omegaovals_test=[1e3,1e7]\n",
    "rho_save=np.zeros((len(omegamvals_test),len(omegaovals_test),ndelta2,ndelta3,3,3), dtype=np.complex_)\n",
    "for ii in range(len(omegamvals_test)):\n",
    "    for jj in range(len(omegaovals_test)):\n",
    "        for kk in range(len(delta2vals)):\n",
    "            for ll in range(len(delta3vals)):\n",
    "                \n",
    "        #dressed_states_plot=dressed_states_3(delta3vals, omegamvals_test[ii], omegaovals_test[jj])\n",
    "                rho_save[ii,jj,kk,ll,:]=steady_rho_lots_of_args(aval, delta2vals[kk], delta3vals[ll],gamma13val, gamma23val,\n",
    "                                        gamma2dval, gamma3dval, nbathval, gammamuval, omegaovals_test[jj], omegamvals_test[ii],gval)\n",
    "        "
   ]
  },
  {
   "cell_type": "code",
   "execution_count": null,
   "metadata": {},
   "outputs": [],
   "source": [
    "fig=plt.subplots(figsize=(15,15))\n",
    "plt.rc('text', usetex=False)\n",
    "pltnum=1\n",
    "for ii in range(len(omegamvals_test)):\n",
    "    for jj in range(len(omegaovals_test)):\n",
    "        sbplt=plt.subplot(len(omegamvals_test), len(omegaovals_test),pltnum)\n",
    "        pltnum+=1\n",
    "        sbplt.imshow(np.abs(rho_save[ii,jj,:,:,0,2]),origin='lower',extent=im_lims)\n"
   ]
  },
  {
   "cell_type": "code",
   "execution_count": 196,
   "metadata": {},
   "outputs": [],
   "source": [
    "def a_func(del2_lims,del3_lims,*peak_fun):\n",
    "    if len(peak_fun)!=0:\n",
    "        S13=N*gval*rho13_integrated(del2_lims, del3_lims,peak_fun[0])\n",
    "    else:\n",
    "        S13=N*gval*rho13_integrated_quad(del2_lims,del3_lims)\n",
    "    return -1j*deltac*aval-1j*S13-kappa/2*aval"
   ]
  },
  {
   "cell_type": "code",
   "execution_count": 203,
   "metadata": {},
   "outputs": [],
   "source": [
    "def steadya(a_guess,del2_lims,del3_lims,*peak_fun):\n",
    "    a_steady=scipy.optimize.root(a_func,a_guess,args=(del2_lims,del3_lims,peak_fun))\n",
    "    if not result.success:\n",
    "        print(result)\n",
    "        raise(AssertionError('Nop, no converge '+result.message))\n",
    "    return a_steady"
   ]
  },
  {
   "cell_type": "code",
   "execution_count": 210,
   "metadata": {},
   "outputs": [
    {
     "ename": "TypeError",
     "evalue": "'list' object is not callable",
     "output_type": "error",
     "traceback": [
      "\u001b[0;31m---------------------------------------------------------------------------\u001b[0m",
      "\u001b[0;31mTypeError\u001b[0m                                 Traceback (most recent call last)",
      "\u001b[0;32m<ipython-input-210-d5b930964df6>\u001b[0m in \u001b[0;36m<module>\u001b[0;34m()\u001b[0m\n\u001b[1;32m      3\u001b[0m \u001b[0mdeltac\u001b[0m\u001b[0;34m=\u001b[0m\u001b[0;36m0\u001b[0m\u001b[0;34m\u001b[0m\u001b[0m\n\u001b[1;32m      4\u001b[0m \u001b[0mkappa\u001b[0m\u001b[0;34m=\u001b[0m\u001b[0;36m1\u001b[0m\u001b[0;34m\u001b[0m\u001b[0m\n\u001b[0;32m----> 5\u001b[0;31m \u001b[0msteadya\u001b[0m\u001b[0;34m(\u001b[0m\u001b[0;36m0\u001b[0m\u001b[0;34m,\u001b[0m\u001b[0;34m[\u001b[0m\u001b[0mdelta2_min\u001b[0m\u001b[0;34m,\u001b[0m\u001b[0mdelta2_max\u001b[0m\u001b[0;34m]\u001b[0m\u001b[0;34m,\u001b[0m\u001b[0;34m[\u001b[0m\u001b[0mdelta3_min\u001b[0m\u001b[0;34m,\u001b[0m\u001b[0mdelta3_max\u001b[0m\u001b[0;34m]\u001b[0m\u001b[0;34m,\u001b[0m \u001b[0mdelta3_mu_func\u001b[0m\u001b[0;34m)\u001b[0m\u001b[0;34m\u001b[0m\u001b[0m\n\u001b[0m",
      "\u001b[0;32m<ipython-input-203-d55c2ed2a3db>\u001b[0m in \u001b[0;36msteadya\u001b[0;34m(a_guess, del2_lims, del3_lims, *peak_fun)\u001b[0m\n\u001b[1;32m      1\u001b[0m \u001b[0;32mdef\u001b[0m \u001b[0msteadya\u001b[0m\u001b[0;34m(\u001b[0m\u001b[0ma_guess\u001b[0m\u001b[0;34m,\u001b[0m\u001b[0mdel2_lims\u001b[0m\u001b[0;34m,\u001b[0m\u001b[0mdel3_lims\u001b[0m\u001b[0;34m,\u001b[0m\u001b[0;34m*\u001b[0m\u001b[0mpeak_fun\u001b[0m\u001b[0;34m)\u001b[0m\u001b[0;34m:\u001b[0m\u001b[0;34m\u001b[0m\u001b[0m\n\u001b[0;32m----> 2\u001b[0;31m     \u001b[0ma_steady\u001b[0m\u001b[0;34m=\u001b[0m\u001b[0mscipy\u001b[0m\u001b[0;34m.\u001b[0m\u001b[0moptimize\u001b[0m\u001b[0;34m.\u001b[0m\u001b[0mroot\u001b[0m\u001b[0;34m(\u001b[0m\u001b[0ma_func\u001b[0m\u001b[0;34m,\u001b[0m\u001b[0ma_guess\u001b[0m\u001b[0;34m,\u001b[0m\u001b[0margs\u001b[0m\u001b[0;34m=\u001b[0m\u001b[0;34m(\u001b[0m\u001b[0mdel2_lims\u001b[0m\u001b[0;34m,\u001b[0m\u001b[0mdel3_lims\u001b[0m\u001b[0;34m,\u001b[0m\u001b[0mpeak_fun\u001b[0m\u001b[0;34m)\u001b[0m\u001b[0;34m)\u001b[0m\u001b[0;34m\u001b[0m\u001b[0m\n\u001b[0m\u001b[1;32m      3\u001b[0m     \u001b[0;32mif\u001b[0m \u001b[0;32mnot\u001b[0m \u001b[0mresult\u001b[0m\u001b[0;34m.\u001b[0m\u001b[0msuccess\u001b[0m\u001b[0;34m:\u001b[0m\u001b[0;34m\u001b[0m\u001b[0m\n\u001b[1;32m      4\u001b[0m         \u001b[0mprint\u001b[0m\u001b[0;34m(\u001b[0m\u001b[0mresult\u001b[0m\u001b[0;34m)\u001b[0m\u001b[0;34m\u001b[0m\u001b[0m\n\u001b[1;32m      5\u001b[0m         \u001b[0;32mraise\u001b[0m\u001b[0;34m(\u001b[0m\u001b[0mAssertionError\u001b[0m\u001b[0;34m(\u001b[0m\u001b[0;34m'Nop, no converge '\u001b[0m\u001b[0;34m+\u001b[0m\u001b[0mresult\u001b[0m\u001b[0;34m.\u001b[0m\u001b[0mmessage\u001b[0m\u001b[0;34m)\u001b[0m\u001b[0;34m)\u001b[0m\u001b[0;34m\u001b[0m\u001b[0m\n",
      "\u001b[0;32m~/anaconda3/lib/python3.6/site-packages/scipy/optimize/_root.py\u001b[0m in \u001b[0;36mroot\u001b[0;34m(fun, x0, args, method, jac, tol, callback, options)\u001b[0m\n\u001b[1;32m    185\u001b[0m \u001b[0;34m\u001b[0m\u001b[0m\n\u001b[1;32m    186\u001b[0m     \u001b[0;32mif\u001b[0m \u001b[0mmeth\u001b[0m \u001b[0;34m==\u001b[0m \u001b[0;34m'hybr'\u001b[0m\u001b[0;34m:\u001b[0m\u001b[0;34m\u001b[0m\u001b[0m\n\u001b[0;32m--> 187\u001b[0;31m         \u001b[0msol\u001b[0m \u001b[0;34m=\u001b[0m \u001b[0m_root_hybr\u001b[0m\u001b[0;34m(\u001b[0m\u001b[0mfun\u001b[0m\u001b[0;34m,\u001b[0m \u001b[0mx0\u001b[0m\u001b[0;34m,\u001b[0m \u001b[0margs\u001b[0m\u001b[0;34m=\u001b[0m\u001b[0margs\u001b[0m\u001b[0;34m,\u001b[0m \u001b[0mjac\u001b[0m\u001b[0;34m=\u001b[0m\u001b[0mjac\u001b[0m\u001b[0;34m,\u001b[0m \u001b[0;34m**\u001b[0m\u001b[0moptions\u001b[0m\u001b[0;34m)\u001b[0m\u001b[0;34m\u001b[0m\u001b[0m\n\u001b[0m\u001b[1;32m    188\u001b[0m     \u001b[0;32melif\u001b[0m \u001b[0mmeth\u001b[0m \u001b[0;34m==\u001b[0m \u001b[0;34m'lm'\u001b[0m\u001b[0;34m:\u001b[0m\u001b[0;34m\u001b[0m\u001b[0m\n\u001b[1;32m    189\u001b[0m         \u001b[0msol\u001b[0m \u001b[0;34m=\u001b[0m \u001b[0m_root_leastsq\u001b[0m\u001b[0;34m(\u001b[0m\u001b[0mfun\u001b[0m\u001b[0;34m,\u001b[0m \u001b[0mx0\u001b[0m\u001b[0;34m,\u001b[0m \u001b[0margs\u001b[0m\u001b[0;34m=\u001b[0m\u001b[0margs\u001b[0m\u001b[0;34m,\u001b[0m \u001b[0mjac\u001b[0m\u001b[0;34m=\u001b[0m\u001b[0mjac\u001b[0m\u001b[0;34m,\u001b[0m \u001b[0;34m**\u001b[0m\u001b[0moptions\u001b[0m\u001b[0;34m)\u001b[0m\u001b[0;34m\u001b[0m\u001b[0m\n",
      "\u001b[0;32m~/anaconda3/lib/python3.6/site-packages/scipy/optimize/minpack.py\u001b[0m in \u001b[0;36m_root_hybr\u001b[0;34m(func, x0, args, jac, col_deriv, xtol, maxfev, band, eps, factor, diag, **unknown_options)\u001b[0m\n\u001b[1;32m    212\u001b[0m     \u001b[0;32mif\u001b[0m \u001b[0;32mnot\u001b[0m \u001b[0misinstance\u001b[0m\u001b[0;34m(\u001b[0m\u001b[0margs\u001b[0m\u001b[0;34m,\u001b[0m \u001b[0mtuple\u001b[0m\u001b[0;34m)\u001b[0m\u001b[0;34m:\u001b[0m\u001b[0;34m\u001b[0m\u001b[0m\n\u001b[1;32m    213\u001b[0m         \u001b[0margs\u001b[0m \u001b[0;34m=\u001b[0m \u001b[0;34m(\u001b[0m\u001b[0margs\u001b[0m\u001b[0;34m,\u001b[0m\u001b[0;34m)\u001b[0m\u001b[0;34m\u001b[0m\u001b[0m\n\u001b[0;32m--> 214\u001b[0;31m     \u001b[0mshape\u001b[0m\u001b[0;34m,\u001b[0m \u001b[0mdtype\u001b[0m \u001b[0;34m=\u001b[0m \u001b[0m_check_func\u001b[0m\u001b[0;34m(\u001b[0m\u001b[0;34m'fsolve'\u001b[0m\u001b[0;34m,\u001b[0m \u001b[0;34m'func'\u001b[0m\u001b[0;34m,\u001b[0m \u001b[0mfunc\u001b[0m\u001b[0;34m,\u001b[0m \u001b[0mx0\u001b[0m\u001b[0;34m,\u001b[0m \u001b[0margs\u001b[0m\u001b[0;34m,\u001b[0m \u001b[0mn\u001b[0m\u001b[0;34m,\u001b[0m \u001b[0;34m(\u001b[0m\u001b[0mn\u001b[0m\u001b[0;34m,\u001b[0m\u001b[0;34m)\u001b[0m\u001b[0;34m)\u001b[0m\u001b[0;34m\u001b[0m\u001b[0m\n\u001b[0m\u001b[1;32m    215\u001b[0m     \u001b[0;32mif\u001b[0m \u001b[0mepsfcn\u001b[0m \u001b[0;32mis\u001b[0m \u001b[0;32mNone\u001b[0m\u001b[0;34m:\u001b[0m\u001b[0;34m\u001b[0m\u001b[0m\n\u001b[1;32m    216\u001b[0m         \u001b[0mepsfcn\u001b[0m \u001b[0;34m=\u001b[0m \u001b[0mfinfo\u001b[0m\u001b[0;34m(\u001b[0m\u001b[0mdtype\u001b[0m\u001b[0;34m)\u001b[0m\u001b[0;34m.\u001b[0m\u001b[0meps\u001b[0m\u001b[0;34m\u001b[0m\u001b[0m\n",
      "\u001b[0;32m~/anaconda3/lib/python3.6/site-packages/scipy/optimize/minpack.py\u001b[0m in \u001b[0;36m_check_func\u001b[0;34m(checker, argname, thefunc, x0, args, numinputs, output_shape)\u001b[0m\n\u001b[1;32m     25\u001b[0m def _check_func(checker, argname, thefunc, x0, args, numinputs,\n\u001b[1;32m     26\u001b[0m                 output_shape=None):\n\u001b[0;32m---> 27\u001b[0;31m     \u001b[0mres\u001b[0m \u001b[0;34m=\u001b[0m \u001b[0matleast_1d\u001b[0m\u001b[0;34m(\u001b[0m\u001b[0mthefunc\u001b[0m\u001b[0;34m(\u001b[0m\u001b[0;34m*\u001b[0m\u001b[0;34m(\u001b[0m\u001b[0;34m(\u001b[0m\u001b[0mx0\u001b[0m\u001b[0;34m[\u001b[0m\u001b[0;34m:\u001b[0m\u001b[0mnuminputs\u001b[0m\u001b[0;34m]\u001b[0m\u001b[0;34m,\u001b[0m\u001b[0;34m)\u001b[0m \u001b[0;34m+\u001b[0m \u001b[0margs\u001b[0m\u001b[0;34m)\u001b[0m\u001b[0;34m)\u001b[0m\u001b[0;34m)\u001b[0m\u001b[0;34m\u001b[0m\u001b[0m\n\u001b[0m\u001b[1;32m     28\u001b[0m     \u001b[0;32mif\u001b[0m \u001b[0;34m(\u001b[0m\u001b[0moutput_shape\u001b[0m \u001b[0;32mis\u001b[0m \u001b[0;32mnot\u001b[0m \u001b[0;32mNone\u001b[0m\u001b[0;34m)\u001b[0m \u001b[0;32mand\u001b[0m \u001b[0;34m(\u001b[0m\u001b[0mshape\u001b[0m\u001b[0;34m(\u001b[0m\u001b[0mres\u001b[0m\u001b[0;34m)\u001b[0m \u001b[0;34m!=\u001b[0m \u001b[0moutput_shape\u001b[0m\u001b[0;34m)\u001b[0m\u001b[0;34m:\u001b[0m\u001b[0;34m\u001b[0m\u001b[0m\n\u001b[1;32m     29\u001b[0m         \u001b[0;32mif\u001b[0m \u001b[0;34m(\u001b[0m\u001b[0moutput_shape\u001b[0m\u001b[0;34m[\u001b[0m\u001b[0;36m0\u001b[0m\u001b[0;34m]\u001b[0m \u001b[0;34m!=\u001b[0m \u001b[0;36m1\u001b[0m\u001b[0;34m)\u001b[0m\u001b[0;34m:\u001b[0m\u001b[0;34m\u001b[0m\u001b[0m\n",
      "\u001b[0;32m<ipython-input-196-26c2526bfb1a>\u001b[0m in \u001b[0;36ma_func\u001b[0;34m(del2_lims, del3_lims, *peak_fun)\u001b[0m\n\u001b[1;32m      1\u001b[0m \u001b[0;32mdef\u001b[0m \u001b[0ma_func\u001b[0m\u001b[0;34m(\u001b[0m\u001b[0mdel2_lims\u001b[0m\u001b[0;34m,\u001b[0m\u001b[0mdel3_lims\u001b[0m\u001b[0;34m,\u001b[0m\u001b[0;34m*\u001b[0m\u001b[0mpeak_fun\u001b[0m\u001b[0;34m)\u001b[0m\u001b[0;34m:\u001b[0m\u001b[0;34m\u001b[0m\u001b[0m\n\u001b[1;32m      2\u001b[0m     \u001b[0;32mif\u001b[0m \u001b[0mlen\u001b[0m\u001b[0;34m(\u001b[0m\u001b[0mpeak_fun\u001b[0m\u001b[0;34m)\u001b[0m\u001b[0;34m!=\u001b[0m\u001b[0;36m0\u001b[0m\u001b[0;34m:\u001b[0m\u001b[0;34m\u001b[0m\u001b[0m\n\u001b[0;32m----> 3\u001b[0;31m         \u001b[0mS13\u001b[0m\u001b[0;34m=\u001b[0m\u001b[0mN\u001b[0m\u001b[0;34m*\u001b[0m\u001b[0mgval\u001b[0m\u001b[0;34m*\u001b[0m\u001b[0mrho13_integrated\u001b[0m\u001b[0;34m(\u001b[0m\u001b[0mdel2_lims\u001b[0m\u001b[0;34m,\u001b[0m \u001b[0mdel3_lims\u001b[0m\u001b[0;34m,\u001b[0m\u001b[0mpeak_fun\u001b[0m\u001b[0;34m[\u001b[0m\u001b[0;36m0\u001b[0m\u001b[0;34m]\u001b[0m\u001b[0;34m)\u001b[0m\u001b[0;34m\u001b[0m\u001b[0m\n\u001b[0m\u001b[1;32m      4\u001b[0m     \u001b[0;32melse\u001b[0m\u001b[0;34m:\u001b[0m\u001b[0;34m\u001b[0m\u001b[0m\n\u001b[1;32m      5\u001b[0m         \u001b[0mS13\u001b[0m\u001b[0;34m=\u001b[0m\u001b[0mN\u001b[0m\u001b[0;34m*\u001b[0m\u001b[0mgval\u001b[0m\u001b[0;34m*\u001b[0m\u001b[0mrho13_integrated_quad\u001b[0m\u001b[0;34m(\u001b[0m\u001b[0mdel2_lims\u001b[0m\u001b[0;34m,\u001b[0m\u001b[0mdel3_lims\u001b[0m\u001b[0;34m)\u001b[0m\u001b[0;34m\u001b[0m\u001b[0m\n",
      "\u001b[0;32m<ipython-input-117-69759bc0074d>\u001b[0m in \u001b[0;36mrho13_integrated\u001b[0;34m(del2_lims, del3_lims, peak_func)\u001b[0m\n\u001b[1;32m      1\u001b[0m \u001b[0;32mdef\u001b[0m \u001b[0mrho13_integrated\u001b[0m\u001b[0;34m(\u001b[0m\u001b[0mdel2_lims\u001b[0m\u001b[0;34m,\u001b[0m \u001b[0mdel3_lims\u001b[0m\u001b[0;34m,\u001b[0m \u001b[0mpeak_func\u001b[0m\u001b[0;34m)\u001b[0m\u001b[0;34m:\u001b[0m\u001b[0;34m\u001b[0m\u001b[0m\n\u001b[0;32m----> 2\u001b[0;31m     \u001b[0mcoh13_R_int\u001b[0m\u001b[0;34m=\u001b[0m\u001b[0mintegrate2d_peaks\u001b[0m\u001b[0;34m(\u001b[0m\u001b[0mcoh13_Rguass_fun\u001b[0m\u001b[0;34m,\u001b[0m \u001b[0mdel2_lims\u001b[0m\u001b[0;34m,\u001b[0m\u001b[0mdel3_lims\u001b[0m\u001b[0;34m,\u001b[0m\u001b[0mpeak_func\u001b[0m\u001b[0;34m)\u001b[0m\u001b[0;34m\u001b[0m\u001b[0m\n\u001b[0m\u001b[1;32m      3\u001b[0m     \u001b[0mcoh13_I_int\u001b[0m\u001b[0;34m=\u001b[0m\u001b[0mintegrate2d_peaks\u001b[0m\u001b[0;34m(\u001b[0m\u001b[0mcoh13_Iguass_fun\u001b[0m\u001b[0;34m,\u001b[0m \u001b[0mdel2_lims\u001b[0m\u001b[0;34m,\u001b[0m\u001b[0mdel3_lims\u001b[0m\u001b[0;34m,\u001b[0m\u001b[0mpeak_func\u001b[0m\u001b[0;34m)\u001b[0m\u001b[0;34m\u001b[0m\u001b[0m\n\u001b[1;32m      4\u001b[0m     \u001b[0;31m#return [coh13_R_int, coh13_I_int]#coh13_R_int+1.j*coh13_I_int\\\u001b[0m\u001b[0;34m\u001b[0m\u001b[0;34m\u001b[0m\u001b[0m\n\u001b[1;32m      5\u001b[0m     \u001b[0;31m#return coh13_R_int+1.j*coh13_I_int\u001b[0m\u001b[0;34m\u001b[0m\u001b[0;34m\u001b[0m\u001b[0m\n",
      "\u001b[0;32m<ipython-input-82-8a7264c129dc>\u001b[0m in \u001b[0;36mintegrate2d_peaks\u001b[0;34m(func, ylims, xlims, peak_func)\u001b[0m\n\u001b[1;32m     13\u001b[0m \u001b[0;32mdef\u001b[0m \u001b[0mintegrate2d_peaks\u001b[0m\u001b[0;34m(\u001b[0m\u001b[0mfunc\u001b[0m\u001b[0;34m,\u001b[0m \u001b[0mylims\u001b[0m\u001b[0;34m,\u001b[0m \u001b[0mxlims\u001b[0m\u001b[0;34m,\u001b[0m \u001b[0mpeak_func\u001b[0m\u001b[0;34m)\u001b[0m\u001b[0;34m:\u001b[0m\u001b[0;34m\u001b[0m\u001b[0m\n\u001b[1;32m     14\u001b[0m     \u001b[0mtemp_fun\u001b[0m\u001b[0;34m=\u001b[0m\u001b[0;32mlambda\u001b[0m \u001b[0mx\u001b[0m\u001b[0;34m:\u001b[0m \u001b[0mintegrate1d_peaks\u001b[0m\u001b[0;34m(\u001b[0m\u001b[0mfunc\u001b[0m\u001b[0;34m,\u001b[0m \u001b[0mx\u001b[0m\u001b[0;34m,\u001b[0m \u001b[0mylims\u001b[0m\u001b[0;34m,\u001b[0m \u001b[0mpeak_func\u001b[0m\u001b[0;34m)\u001b[0m\u001b[0;34m\u001b[0m\u001b[0m\n\u001b[0;32m---> 15\u001b[0;31m     \u001b[0minte\u001b[0m\u001b[0;34m=\u001b[0m\u001b[0mscipy\u001b[0m\u001b[0;34m.\u001b[0m\u001b[0mintegrate\u001b[0m\u001b[0;34m.\u001b[0m\u001b[0mquad\u001b[0m\u001b[0;34m(\u001b[0m\u001b[0mtemp_fun\u001b[0m\u001b[0;34m,\u001b[0m\u001b[0mxlims\u001b[0m\u001b[0;34m[\u001b[0m\u001b[0;36m0\u001b[0m\u001b[0;34m]\u001b[0m\u001b[0;34m,\u001b[0m \u001b[0mxlims\u001b[0m\u001b[0;34m[\u001b[0m\u001b[0;36m1\u001b[0m\u001b[0;34m]\u001b[0m\u001b[0;34m)\u001b[0m\u001b[0;34m\u001b[0m\u001b[0m\n\u001b[0m\u001b[1;32m     16\u001b[0m     \u001b[0;32mreturn\u001b[0m \u001b[0minte\u001b[0m\u001b[0;34m\u001b[0m\u001b[0m\n",
      "\u001b[0;32m~/anaconda3/lib/python3.6/site-packages/scipy/integrate/quadpack.py\u001b[0m in \u001b[0;36mquad\u001b[0;34m(func, a, b, args, full_output, epsabs, epsrel, limit, points, weight, wvar, wopts, maxp1, limlst)\u001b[0m\n\u001b[1;32m    339\u001b[0m     \u001b[0;32mif\u001b[0m \u001b[0mweight\u001b[0m \u001b[0;32mis\u001b[0m \u001b[0;32mNone\u001b[0m\u001b[0;34m:\u001b[0m\u001b[0;34m\u001b[0m\u001b[0m\n\u001b[1;32m    340\u001b[0m         retval = _quad(func, a, b, args, full_output, epsabs, epsrel, limit,\n\u001b[0;32m--> 341\u001b[0;31m                        points)\n\u001b[0m\u001b[1;32m    342\u001b[0m     \u001b[0;32melse\u001b[0m\u001b[0;34m:\u001b[0m\u001b[0;34m\u001b[0m\u001b[0m\n\u001b[1;32m    343\u001b[0m         retval = _quad_weight(func, a, b, args, full_output, epsabs, epsrel,\n",
      "\u001b[0;32m~/anaconda3/lib/python3.6/site-packages/scipy/integrate/quadpack.py\u001b[0m in \u001b[0;36m_quad\u001b[0;34m(func, a, b, args, full_output, epsabs, epsrel, limit, points)\u001b[0m\n\u001b[1;32m    446\u001b[0m     \u001b[0;32mif\u001b[0m \u001b[0mpoints\u001b[0m \u001b[0;32mis\u001b[0m \u001b[0;32mNone\u001b[0m\u001b[0;34m:\u001b[0m\u001b[0;34m\u001b[0m\u001b[0m\n\u001b[1;32m    447\u001b[0m         \u001b[0;32mif\u001b[0m \u001b[0minfbounds\u001b[0m \u001b[0;34m==\u001b[0m \u001b[0;36m0\u001b[0m\u001b[0;34m:\u001b[0m\u001b[0;34m\u001b[0m\u001b[0m\n\u001b[0;32m--> 448\u001b[0;31m             \u001b[0;32mreturn\u001b[0m \u001b[0m_quadpack\u001b[0m\u001b[0;34m.\u001b[0m\u001b[0m_qagse\u001b[0m\u001b[0;34m(\u001b[0m\u001b[0mfunc\u001b[0m\u001b[0;34m,\u001b[0m\u001b[0ma\u001b[0m\u001b[0;34m,\u001b[0m\u001b[0mb\u001b[0m\u001b[0;34m,\u001b[0m\u001b[0margs\u001b[0m\u001b[0;34m,\u001b[0m\u001b[0mfull_output\u001b[0m\u001b[0;34m,\u001b[0m\u001b[0mepsabs\u001b[0m\u001b[0;34m,\u001b[0m\u001b[0mepsrel\u001b[0m\u001b[0;34m,\u001b[0m\u001b[0mlimit\u001b[0m\u001b[0;34m)\u001b[0m\u001b[0;34m\u001b[0m\u001b[0m\n\u001b[0m\u001b[1;32m    449\u001b[0m         \u001b[0;32melse\u001b[0m\u001b[0;34m:\u001b[0m\u001b[0;34m\u001b[0m\u001b[0m\n\u001b[1;32m    450\u001b[0m             \u001b[0;32mreturn\u001b[0m \u001b[0m_quadpack\u001b[0m\u001b[0;34m.\u001b[0m\u001b[0m_qagie\u001b[0m\u001b[0;34m(\u001b[0m\u001b[0mfunc\u001b[0m\u001b[0;34m,\u001b[0m\u001b[0mbound\u001b[0m\u001b[0;34m,\u001b[0m\u001b[0minfbounds\u001b[0m\u001b[0;34m,\u001b[0m\u001b[0margs\u001b[0m\u001b[0;34m,\u001b[0m\u001b[0mfull_output\u001b[0m\u001b[0;34m,\u001b[0m\u001b[0mepsabs\u001b[0m\u001b[0;34m,\u001b[0m\u001b[0mepsrel\u001b[0m\u001b[0;34m,\u001b[0m\u001b[0mlimit\u001b[0m\u001b[0;34m)\u001b[0m\u001b[0;34m\u001b[0m\u001b[0m\n",
      "\u001b[0;32m<ipython-input-82-8a7264c129dc>\u001b[0m in \u001b[0;36m<lambda>\u001b[0;34m(x)\u001b[0m\n\u001b[1;32m     12\u001b[0m \u001b[0;34m\u001b[0m\u001b[0m\n\u001b[1;32m     13\u001b[0m \u001b[0;32mdef\u001b[0m \u001b[0mintegrate2d_peaks\u001b[0m\u001b[0;34m(\u001b[0m\u001b[0mfunc\u001b[0m\u001b[0;34m,\u001b[0m \u001b[0mylims\u001b[0m\u001b[0;34m,\u001b[0m \u001b[0mxlims\u001b[0m\u001b[0;34m,\u001b[0m \u001b[0mpeak_func\u001b[0m\u001b[0;34m)\u001b[0m\u001b[0;34m:\u001b[0m\u001b[0;34m\u001b[0m\u001b[0m\n\u001b[0;32m---> 14\u001b[0;31m     \u001b[0mtemp_fun\u001b[0m\u001b[0;34m=\u001b[0m\u001b[0;32mlambda\u001b[0m \u001b[0mx\u001b[0m\u001b[0;34m:\u001b[0m \u001b[0mintegrate1d_peaks\u001b[0m\u001b[0;34m(\u001b[0m\u001b[0mfunc\u001b[0m\u001b[0;34m,\u001b[0m \u001b[0mx\u001b[0m\u001b[0;34m,\u001b[0m \u001b[0mylims\u001b[0m\u001b[0;34m,\u001b[0m \u001b[0mpeak_func\u001b[0m\u001b[0;34m)\u001b[0m\u001b[0;34m\u001b[0m\u001b[0m\n\u001b[0m\u001b[1;32m     15\u001b[0m     \u001b[0minte\u001b[0m\u001b[0;34m=\u001b[0m\u001b[0mscipy\u001b[0m\u001b[0;34m.\u001b[0m\u001b[0mintegrate\u001b[0m\u001b[0;34m.\u001b[0m\u001b[0mquad\u001b[0m\u001b[0;34m(\u001b[0m\u001b[0mtemp_fun\u001b[0m\u001b[0;34m,\u001b[0m\u001b[0mxlims\u001b[0m\u001b[0;34m[\u001b[0m\u001b[0;36m0\u001b[0m\u001b[0;34m]\u001b[0m\u001b[0;34m,\u001b[0m \u001b[0mxlims\u001b[0m\u001b[0;34m[\u001b[0m\u001b[0;36m1\u001b[0m\u001b[0;34m]\u001b[0m\u001b[0;34m)\u001b[0m\u001b[0;34m\u001b[0m\u001b[0m\n\u001b[1;32m     16\u001b[0m     \u001b[0;32mreturn\u001b[0m \u001b[0minte\u001b[0m\u001b[0;34m\u001b[0m\u001b[0m\n",
      "\u001b[0;32m<ipython-input-82-8a7264c129dc>\u001b[0m in \u001b[0;36mintegrate1d_peaks\u001b[0;34m(func, x, ylims, peak_func)\u001b[0m\n\u001b[1;32m      1\u001b[0m \u001b[0;32mdef\u001b[0m \u001b[0mintegrate1d_peaks\u001b[0m\u001b[0;34m(\u001b[0m\u001b[0mfunc\u001b[0m\u001b[0;34m,\u001b[0m\u001b[0mx\u001b[0m\u001b[0;34m,\u001b[0m\u001b[0mylims\u001b[0m\u001b[0;34m,\u001b[0m \u001b[0mpeak_func\u001b[0m\u001b[0;34m)\u001b[0m\u001b[0;34m:\u001b[0m\u001b[0;34m\u001b[0m\u001b[0m\n\u001b[0;32m----> 2\u001b[0;31m     \u001b[0mpeak_yval\u001b[0m\u001b[0;34m=\u001b[0m\u001b[0mpeak_func\u001b[0m\u001b[0;34m(\u001b[0m\u001b[0mx\u001b[0m\u001b[0;34m)\u001b[0m\u001b[0;34m\u001b[0m\u001b[0m\n\u001b[0m\u001b[1;32m      3\u001b[0m \u001b[0;34m\u001b[0m\u001b[0m\n\u001b[1;32m      4\u001b[0m     \u001b[0;32mif\u001b[0m \u001b[0;34m(\u001b[0m\u001b[0mnp\u001b[0m\u001b[0;34m.\u001b[0m\u001b[0misnan\u001b[0m\u001b[0;34m(\u001b[0m\u001b[0mpeak_yval\u001b[0m\u001b[0;34m)\u001b[0m \u001b[0;32mor\u001b[0m \u001b[0mpeak_yval\u001b[0m\u001b[0;34m>\u001b[0m\u001b[0mylims\u001b[0m\u001b[0;34m[\u001b[0m\u001b[0;36m1\u001b[0m\u001b[0;34m]\u001b[0m \u001b[0;32mor\u001b[0m \u001b[0mpeak_yval\u001b[0m\u001b[0;34m<\u001b[0m\u001b[0mylims\u001b[0m\u001b[0;34m[\u001b[0m\u001b[0;36m0\u001b[0m\u001b[0;34m]\u001b[0m\u001b[0;34m)\u001b[0m\u001b[0;34m:\u001b[0m\u001b[0;34m\u001b[0m\u001b[0m\n\u001b[1;32m      5\u001b[0m         \u001b[0mfuncval\u001b[0m\u001b[0;34m=\u001b[0m\u001b[0mscipy\u001b[0m\u001b[0;34m.\u001b[0m\u001b[0mintegrate\u001b[0m\u001b[0;34m.\u001b[0m\u001b[0mquad\u001b[0m\u001b[0;34m(\u001b[0m\u001b[0mfunc\u001b[0m\u001b[0;34m,\u001b[0m \u001b[0mylims\u001b[0m\u001b[0;34m[\u001b[0m\u001b[0;36m0\u001b[0m\u001b[0;34m]\u001b[0m\u001b[0;34m,\u001b[0m \u001b[0mylims\u001b[0m\u001b[0;34m[\u001b[0m\u001b[0;36m1\u001b[0m\u001b[0;34m]\u001b[0m\u001b[0;34m,\u001b[0m \u001b[0margs\u001b[0m\u001b[0;34m=\u001b[0m\u001b[0mx\u001b[0m\u001b[0;34m)\u001b[0m\u001b[0;34m[\u001b[0m\u001b[0;36m0\u001b[0m\u001b[0;34m]\u001b[0m\u001b[0;34m\u001b[0m\u001b[0m\n",
      "\u001b[0;31mTypeError\u001b[0m: 'list' object is not callable"
     ]
    }
   ],
   "source": [
    "gval=1.\n",
    "N=1\n",
    "deltac=0\n",
    "kappa=1\n",
    "\n",
    "steadya(0,[delta2_min,delta2_max],[delta3_min,delta3_max], delta3_mu_func)"
   ]
  },
  {
   "cell_type": "code",
   "execution_count": 211,
   "metadata": {},
   "outputs": [
    {
     "data": {
      "image/png": "[encoded data removed]",
      "text/latex": [
       "$$- 0.5 a - 8.43321378782824 \\cdot 10^{-7} i$$"
      ],
      "text/plain": [
       "-0.5⋅a - 8.43321378782824e-7⋅ⅈ"
      ]
     },
     "execution_count": 211,
     "metadata": {},
     "output_type": "execute_result"
    }
   ],
   "source": [
    "a_func([delta2_min,delta2_max],[delta3_min,delta3_max])"
   ]
  },
  {
   "cell_type": "code",
   "execution_count": 212,
   "metadata": {},
   "outputs": [
    {
     "data": {
      "image/png": "[encoded data removed]",
      "text/latex": [
       "$$0$$"
      ],
      "text/plain": [
       "0"
      ]
     },
     "execution_count": 212,
     "metadata": {},
     "output_type": "execute_result"
    }
   ],
   "source": [
    "aval"
   ]
  },
  {
   "cell_type": "code",
   "execution_count": null,
   "metadata": {},
   "outputs": [],
   "source": []
  }
 ],
 "metadata": {
  "kernelspec": {
   "display_name": "Python 3",
   "language": "python",
   "name": "python3"
  },
  "language_info": {
   "codemirror_mode": {
    "name": "ipython",
    "version": 3
   },
   "file_extension": ".py",
   "mimetype": "text/x-python",
   "name": "python",
   "nbconvert_exporter": "python",
   "pygments_lexer": "ipython3",
   "version": "3.6.5"
  }
 },
 "nbformat": 4,
 "nbformat_minor": 2
}
