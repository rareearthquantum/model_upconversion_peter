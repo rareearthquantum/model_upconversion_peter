{
 "cells": [
  {
   "cell_type": "code",
   "execution_count": 1,
   "metadata": {},
   "outputs": [],
   "source": [
    "import sympy as sym\n",
    "from sympy.functions import Heaviside, sin, cos, sqrt\n",
    "#from sympy.vector import *\n",
    "sym.init_printing()\n",
    "\n",
    "# This IPython magic generates a table with version information\n",
    "#https://github.com/jrjohansson/version_information\n",
    "#%load_ext version_information\n",
    "#%version_information sympy"
   ]
  },
  {
   "cell_type": "code",
   "execution_count": 2,
   "metadata": {},
   "outputs": [],
   "source": [
    "from sympy import I, Matrix, symbols\n",
    "from sympy.physics.quantum import TensorProduct,Dagger\n",
    "\n",
    "\n",
    "def spre(m):\n",
    "    return TensorProduct(sym.eye(m.shape[0]),m)\n",
    "\n",
    "\n",
    "def spost(m):\n",
    "    return TensorProduct(m.T,sym.eye(m.shape[0]))\n",
    "\n",
    "def collapse(c):\n",
    "    temp = Dagger(c)*c\n",
    "    return 2*spre(c)*spost(Dagger(c))-spre(temp)-spost(temp)\n",
    "\n",
    "s13=Matrix([[0,0,1],[0,0,0],[0,0,0]])\n",
    "s23=Matrix([[0,0,0],[0,0,1],[0,0,0]])\n",
    "s12=Matrix([[0,1,0],[0,0,0],[0,0,0]])\n",
    "\n",
    "s31=s13.T\n",
    "s32=s23.T\n",
    "s21=s12.T\n",
    "\n",
    "s11 = s12*s21\n",
    "s22 = s21*s12\n",
    "s33 = s31*s13\n",
    "\n"
   ]
  },
  {
   "cell_type": "code",
   "execution_count": 3,
   "metadata": {},
   "outputs": [],
   "source": [
    "delta2,delta3 = sym.symbols('delta_2 delta_3',real=True)\n",
    "gamma13,gamma23,gamma2d,gamma3d,nbath,gammam = sym.symbols('gamma_13 gamma_23 gamma_2d gamma_3d n_b gamma_m', real=True, negative=False)\n",
    "omegao,omegam,omegasig = sym.symbols('Omega_o Omega_m Omega_sb')\n",
    "sigmm,sigmo = sym.symbols('sigma_m sigma_o')"
   ]
  },
  {
   "cell_type": "code",
   "execution_count": 4,
   "metadata": {},
   "outputs": [
    {
     "data": {
      "text/latex": [
       "$$\\left[\\begin{matrix}1 & 0 & 0 & 0 & 1 & 0 & 0 & 0 & 1\\\\- i \\Omega_{m} & - i \\delta_{2} - \\frac{\\gamma_{2d}}{2} - \\frac{\\gamma_{m} n_{b}}{2} - \\frac{\\gamma_{m} \\left(n_{b} + 1\\right)}{2} & - i \\overline{\\Omega_{o}} & 0 & i \\Omega_{m} & 0 & 0 & i \\Omega_{sb} & 0\\\\- i \\Omega_{sb} & - i \\Omega_{o} & - i \\delta_{3} - \\frac{\\gamma_{13}}{2} - \\frac{\\gamma_{23}}{2} - \\frac{\\gamma_{3d}}{2} - \\frac{\\gamma_{m} n_{b}}{2} & 0 & 0 & i \\Omega_{m} & 0 & 0 & i \\Omega_{sb}\\\\i \\overline{\\Omega_{m}} & 0 & 0 & i \\delta_{2} - \\frac{\\gamma_{2d}}{2} - \\frac{\\gamma_{m} n_{b}}{2} - \\frac{\\gamma_{m} \\left(n_{b} + 1\\right)}{2} & - i \\overline{\\Omega_{m}} & - i \\overline{\\Omega_{sb}} & i \\Omega_{o} & 0 & 0\\\\\\gamma_{m} n_{b} & i \\overline{\\Omega_{m}} & 0 & - i \\Omega_{m} & - \\gamma_{m} \\left(n_{b} + 1\\right) & - i \\overline{\\Omega_{o}} & 0 & i \\Omega_{o} & \\gamma_{23}\\\\0 & 0 & i \\overline{\\Omega_{m}} & - i \\Omega_{sb} & - i \\Omega_{o} & i \\delta_{2} - i \\delta_{3} - \\frac{\\gamma_{13}}{2} - \\frac{\\gamma_{23}}{2} - \\frac{\\gamma_{2d}}{2} - \\frac{\\gamma_{3d}}{2} - \\frac{\\gamma_{m} \\left(n_{b} + 1\\right)}{2} & 0 & 0 & i \\Omega_{o}\\\\i \\overline{\\Omega_{sb}} & 0 & 0 & i \\overline{\\Omega_{o}} & 0 & 0 & i \\delta_{3} - \\frac{\\gamma_{13}}{2} - \\frac{\\gamma_{23}}{2} - \\frac{\\gamma_{3d}}{2} - \\frac{\\gamma_{m} n_{b}}{2} & - i \\overline{\\Omega_{m}} & - i \\overline{\\Omega_{sb}}\\\\0 & i \\overline{\\Omega_{sb}} & 0 & 0 & i \\overline{\\Omega_{o}} & 0 & - i \\Omega_{m} & - i \\delta_{2} + i \\delta_{3} - \\frac{\\gamma_{13}}{2} - \\frac{\\gamma_{23}}{2} - \\frac{\\gamma_{2d}}{2} - \\frac{\\gamma_{3d}}{2} - \\frac{\\gamma_{m} \\left(n_{b} + 1\\right)}{2} & - i \\overline{\\Omega_{o}}\\\\0 & 0 & i \\overline{\\Omega_{sb}} & 0 & 0 & i \\overline{\\Omega_{o}} & - i \\Omega_{sb} & - i \\Omega_{o} & - \\gamma_{13} - \\gamma_{23}\\end{matrix}\\right]$$"
      ],
      "text/plain": [
       "⎡   1                      0                                    0             \n",
       "⎢                                                                             \n",
       "⎢                 γ_2d   γₘ⋅n_b   γₘ⋅(n_b + 1)                   __           \n",
       "⎢ -ⅈ⋅Ωₘ   -ⅈ⋅δ₂ - ──── - ────── - ────────────                -ⅈ⋅Ωₒ           \n",
       "⎢                  2       2           2                                      \n",
       "⎢                                                                             \n",
       "⎢                                                       γ₁₃   γ₂₃   γ_3d   γₘ⋅\n",
       "⎢-ⅈ⋅Ω_sb                 -ⅈ⋅Ωₒ                  -ⅈ⋅δ₃ - ─── - ─── - ──── - ───\n",
       "⎢                                                        2     2     2       2\n",
       "⎢                                                                             \n",
       "⎢   __                                                                        \n",
       "⎢ ⅈ⋅Ωₘ                     0                                    0             \n",
       "⎢                                                                             \n",
       "⎢                                                                             \n",
       "⎢                           __                                                \n",
       "⎢γₘ⋅n_b                   ⅈ⋅Ωₘ                                  0             \n",
       "⎢                                                                             \n",
       "⎢                                                               __            \n",
       "⎢   0                      0                                  ⅈ⋅Ωₘ            \n",
       "⎢                                                                             \n",
       "⎢                                                                             \n",
       "⎢  ____                                                                       \n",
       "⎢ⅈ⋅Ω_sb                    0                                    0             \n",
       "⎢                                                                             \n",
       "⎢                                                                             \n",
       "⎢                          ____                                               \n",
       "⎢   0                    ⅈ⋅Ω_sb                                 0             \n",
       "⎢                                                                             \n",
       "⎢                                                                             \n",
       "⎢                                                              ____           \n",
       "⎣   0                      0                                 ⅈ⋅Ω_sb           \n",
       "\n",
       "                      0                         1                             \n",
       "                                                                              \n",
       "                                                                              \n",
       "                      0                       ⅈ⋅Ωₘ                            \n",
       "                                                                              \n",
       "                                                                              \n",
       "n_b                                                                           \n",
       "───                   0                         0                             \n",
       "                                                                              \n",
       "                                                                              \n",
       "            γ_2d   γₘ⋅n_b   γₘ⋅(n_b + 1)         __                           \n",
       "     ⅈ⋅δ₂ - ──── - ────── - ────────────      -ⅈ⋅Ωₘ                           \n",
       "             2       2           2                                            \n",
       "                                                                              \n",
       "                                                                              \n",
       "                    -ⅈ⋅Ωₘ                 -γₘ⋅(n_b + 1)                       \n",
       "                                                                              \n",
       "                                                                       γ₁₃   γ\n",
       "                   -ⅈ⋅Ω_sb                    -ⅈ⋅Ωₒ      ⅈ⋅δ₂ - ⅈ⋅δ₃ - ─── - ─\n",
       "                                                                        2     \n",
       "                                                                              \n",
       "                      __                                                      \n",
       "                    ⅈ⋅Ωₒ                        0                             \n",
       "                                                                              \n",
       "                                                                              \n",
       "                                                __                            \n",
       "                      0                       ⅈ⋅Ωₒ                            \n",
       "                                                                              \n",
       "                                                                              \n",
       "                                                                              \n",
       "                      0                         0                             \n",
       "\n",
       "    0                                           0                             \n",
       "                                                                              \n",
       "                                                                              \n",
       "    0                                           0                             \n",
       "                                                                              \n",
       "                                                                              \n",
       "                                                                              \n",
       "   ⅈ⋅Ωₘ                                         0                             \n",
       "                                                                              \n",
       "                                                                              \n",
       "    ____                                                                      \n",
       " -ⅈ⋅Ω_sb                                       ⅈ⋅Ωₒ                           \n",
       "                                                                              \n",
       "                                                                              \n",
       "     __                                                                       \n",
       "  -ⅈ⋅Ωₒ                                         0                             \n",
       "                                                                              \n",
       "₂₃   γ_2d   γ_3d   γₘ⋅(n_b + 1)                                               \n",
       "── - ──── - ──── - ────────────                 0                             \n",
       "2     2      2          2                                                     \n",
       "                                                                              \n",
       "                                        γ₁₃   γ₂₃   γ_3d   γₘ⋅n_b             \n",
       "    0                            ⅈ⋅δ₃ - ─── - ─── - ──── - ──────             \n",
       "                                         2     2     2       2                \n",
       "                                                                              \n",
       "                                                                              \n",
       "    0                                         -ⅈ⋅Ωₘ                -ⅈ⋅δ₂ + ⅈ⋅δ\n",
       "                                                                              \n",
       "                                                                              \n",
       "     __                                                                       \n",
       "   ⅈ⋅Ωₒ                                      -ⅈ⋅Ω_sb                          \n",
       "\n",
       "               0                                1     ⎤\n",
       "                                                      ⎥\n",
       "                                                      ⎥\n",
       "            ⅈ⋅Ω_sb                              0     ⎥\n",
       "                                                      ⎥\n",
       "                                                      ⎥\n",
       "                                                      ⎥\n",
       "               0                              ⅈ⋅Ω_sb  ⎥\n",
       "                                                      ⎥\n",
       "                                                      ⎥\n",
       "                                                      ⎥\n",
       "               0                                0     ⎥\n",
       "                                                      ⎥\n",
       "                                                      ⎥\n",
       "                                                      ⎥\n",
       "             ⅈ⋅Ωₒ                              γ₂₃    ⎥\n",
       "                                                      ⎥\n",
       "                                                      ⎥\n",
       "               0                               ⅈ⋅Ωₒ   ⎥\n",
       "                                                      ⎥\n",
       "                                                      ⎥\n",
       "                __                              ____  ⎥\n",
       "             -ⅈ⋅Ωₘ                           -ⅈ⋅Ω_sb  ⎥\n",
       "                                                      ⎥\n",
       "                                                      ⎥\n",
       "    γ₁₃   γ₂₃   γ_2d   γ_3d   γₘ⋅(n_b + 1)       __   ⎥\n",
       "₃ - ─── - ─── - ──── - ──── - ────────────    -ⅈ⋅Ωₒ   ⎥\n",
       "     2     2     2      2          2                  ⎥\n",
       "                                                      ⎥\n",
       "                                                      ⎥\n",
       "             -ⅈ⋅Ωₒ                          -γ₁₃ - γ₂₃⎦"
      ]
     },
     "execution_count": 4,
     "metadata": {},
     "output_type": "execute_result"
    }
   ],
   "source": [
    "H =  omegam*s21 + omegao*s32 + omegasig*s31\n",
    "H = H + Dagger(H)\n",
    "H = H + delta2*s22 + delta3*s33\n",
    "LH = -I*spre(H)+I*spost(H) \n",
    "L21 = gammam/2*(nbath+1)*collapse(s12)\n",
    "L12 = gammam/2*(nbath)*collapse(s21)\n",
    "L32 = gamma23/2*collapse(s23)\n",
    "L31 = gamma13/2*collapse(s13)\n",
    "L22 = gamma2d/2*collapse(s22)\n",
    "L33 = gamma3d/2*collapse(s33)\n",
    "\n",
    "L = LH + L21 + L12 + L32 + L31 + L22 + L33\n",
    "\n",
    "#becausetrace rho = 1 we can replace first row\n",
    "L = L.row_insert(0,Matrix([[1,0,0,0,1,0,0,0,1]]))\n",
    "L.row_del(1)\n",
    "\n",
    "\n",
    "L"
   ]
  },
  {
   "cell_type": "code",
   "execution_count": 5,
   "metadata": {},
   "outputs": [
    {
     "data": {
      "text/latex": [
       "$$\\left[\\begin{matrix}1 & 0 & 0\\\\- i \\Omega_{m} & - i \\delta_{2} - \\frac{\\gamma_{2d}}{2} - \\frac{\\gamma_{m} n_{b}}{2} - \\frac{\\gamma_{m} \\left(n_{b} + 1\\right)}{2} & - i \\overline{\\Omega_{o}}\\\\- i \\Omega_{sb} & - i \\Omega_{o} & - i \\delta_{3} - \\frac{\\gamma_{13}}{2} - \\frac{\\gamma_{23}}{2} - \\frac{\\gamma_{3d}}{2} - \\frac{\\gamma_{m} n_{b}}{2}\\\\i \\overline{\\Omega_{m}} & 0 & 0\\\\\\gamma_{m} n_{b} & i \\overline{\\Omega_{m}} & 0\\\\0 & 0 & i \\overline{\\Omega_{m}}\\\\i \\overline{\\Omega_{sb}} & 0 & 0\\\\0 & i \\overline{\\Omega_{sb}} & 0\\\\0 & 0 & i \\overline{\\Omega_{sb}}\\end{matrix}\\right]$$"
      ],
      "text/plain": [
       "⎡   1                      0                                    0             \n",
       "⎢                                                                             \n",
       "⎢                 γ_2d   γₘ⋅n_b   γₘ⋅(n_b + 1)                   __           \n",
       "⎢ -ⅈ⋅Ωₘ   -ⅈ⋅δ₂ - ──── - ────── - ────────────                -ⅈ⋅Ωₒ           \n",
       "⎢                  2       2           2                                      \n",
       "⎢                                                                             \n",
       "⎢                                                       γ₁₃   γ₂₃   γ_3d   γₘ⋅\n",
       "⎢-ⅈ⋅Ω_sb                 -ⅈ⋅Ωₒ                  -ⅈ⋅δ₃ - ─── - ─── - ──── - ───\n",
       "⎢                                                        2     2     2       2\n",
       "⎢                                                                             \n",
       "⎢   __                                                                        \n",
       "⎢ ⅈ⋅Ωₘ                     0                                    0             \n",
       "⎢                                                                             \n",
       "⎢                           __                                                \n",
       "⎢γₘ⋅n_b                   ⅈ⋅Ωₘ                                  0             \n",
       "⎢                                                                             \n",
       "⎢                                                               __            \n",
       "⎢   0                      0                                  ⅈ⋅Ωₘ            \n",
       "⎢                                                                             \n",
       "⎢  ____                                                                       \n",
       "⎢ⅈ⋅Ω_sb                    0                                    0             \n",
       "⎢                                                                             \n",
       "⎢                          ____                                               \n",
       "⎢   0                    ⅈ⋅Ω_sb                                 0             \n",
       "⎢                                                                             \n",
       "⎢                                                              ____           \n",
       "⎣   0                      0                                 ⅈ⋅Ω_sb           \n",
       "\n",
       "   ⎤\n",
       "   ⎥\n",
       "   ⎥\n",
       "   ⎥\n",
       "   ⎥\n",
       "   ⎥\n",
       "n_b⎥\n",
       "───⎥\n",
       "   ⎥\n",
       "   ⎥\n",
       "   ⎥\n",
       "   ⎥\n",
       "   ⎥\n",
       "   ⎥\n",
       "   ⎥\n",
       "   ⎥\n",
       "   ⎥\n",
       "   ⎥\n",
       "   ⎥\n",
       "   ⎥\n",
       "   ⎥\n",
       "   ⎥\n",
       "   ⎥\n",
       "   ⎥\n",
       "   ⎥\n",
       "   ⎥\n",
       "   ⎦"
      ]
     },
     "execution_count": 5,
     "metadata": {},
     "output_type": "execute_result"
    }
   ],
   "source": [
    "L[:,0:3] #because the matrix gets clipped"
   ]
  },
  {
   "cell_type": "code",
   "execution_count": 6,
   "metadata": {},
   "outputs": [
    {
     "data": {
      "text/latex": [
       "$$\\left[\\begin{matrix}0 & 1 & 0\\\\0 & i \\Omega_{m} & 0\\\\0 & 0 & i \\Omega_{m}\\\\i \\delta_{2} - \\frac{\\gamma_{2d}}{2} - \\frac{\\gamma_{m} n_{b}}{2} - \\frac{\\gamma_{m} \\left(n_{b} + 1\\right)}{2} & - i \\overline{\\Omega_{m}} & - i \\overline{\\Omega_{sb}}\\\\- i \\Omega_{m} & - \\gamma_{m} \\left(n_{b} + 1\\right) & - i \\overline{\\Omega_{o}}\\\\- i \\Omega_{sb} & - i \\Omega_{o} & i \\delta_{2} - i \\delta_{3} - \\frac{\\gamma_{13}}{2} - \\frac{\\gamma_{23}}{2} - \\frac{\\gamma_{2d}}{2} - \\frac{\\gamma_{3d}}{2} - \\frac{\\gamma_{m} \\left(n_{b} + 1\\right)}{2}\\\\i \\overline{\\Omega_{o}} & 0 & 0\\\\0 & i \\overline{\\Omega_{o}} & 0\\\\0 & 0 & i \\overline{\\Omega_{o}}\\end{matrix}\\right]$$"
      ],
      "text/plain": [
       "⎡                 0                         1                                 \n",
       "⎢                                                                             \n",
       "⎢                 0                       ⅈ⋅Ωₘ                                \n",
       "⎢                                                                             \n",
       "⎢                 0                         0                                ⅈ\n",
       "⎢                                                                             \n",
       "⎢       γ_2d   γₘ⋅n_b   γₘ⋅(n_b + 1)         __                               \n",
       "⎢ⅈ⋅δ₂ - ──── - ────── - ────────────      -ⅈ⋅Ωₘ                            -ⅈ⋅\n",
       "⎢        2       2           2                                                \n",
       "⎢                                                                             \n",
       "⎢                                                                             \n",
       "⎢               -ⅈ⋅Ωₘ                 -γₘ⋅(n_b + 1)                         -ⅈ\n",
       "⎢                                                                             \n",
       "⎢                                                                  γ₁₃   γ₂₃  \n",
       "⎢              -ⅈ⋅Ω_sb                    -ⅈ⋅Ωₒ      ⅈ⋅δ₂ - ⅈ⋅δ₃ - ─── - ─── -\n",
       "⎢                                                                   2     2   \n",
       "⎢                                                                             \n",
       "⎢                 __                                                          \n",
       "⎢               ⅈ⋅Ωₒ                        0                                 \n",
       "⎢                                                                             \n",
       "⎢                                           __                                \n",
       "⎢                 0                       ⅈ⋅Ωₒ                                \n",
       "⎢                                                                             \n",
       "⎢                                                                             \n",
       "⎣                 0                         0                                ⅈ\n",
       "\n",
       "0                          ⎤\n",
       "                           ⎥\n",
       "0                          ⎥\n",
       "                           ⎥\n",
       "⋅Ωₘ                        ⎥\n",
       "                           ⎥\n",
       "____                       ⎥\n",
       "Ω_sb                       ⎥\n",
       "                           ⎥\n",
       "                           ⎥\n",
       " __                        ⎥\n",
       "⋅Ωₒ                        ⎥\n",
       "                           ⎥\n",
       " γ_2d   γ_3d   γₘ⋅(n_b + 1)⎥\n",
       " ──── - ──── - ────────────⎥\n",
       "  2      2          2      ⎥\n",
       "                           ⎥\n",
       "                           ⎥\n",
       "0                          ⎥\n",
       "                           ⎥\n",
       "                           ⎥\n",
       "0                          ⎥\n",
       "                           ⎥\n",
       " __                        ⎥\n",
       "⋅Ωₒ                        ⎦"
      ]
     },
     "execution_count": 6,
     "metadata": {},
     "output_type": "execute_result"
    }
   ],
   "source": [
    "L[:,3:6]"
   ]
  },
  {
   "cell_type": "code",
   "execution_count": 7,
   "metadata": {},
   "outputs": [
    {
     "data": {
      "text/latex": [
       "$$\\left[\\begin{matrix}0 & 0 & 1\\\\0 & i \\Omega_{sb} & 0\\\\0 & 0 & i \\Omega_{sb}\\\\i \\Omega_{o} & 0 & 0\\\\0 & i \\Omega_{o} & \\gamma_{23}\\\\0 & 0 & i \\Omega_{o}\\\\i \\delta_{3} - \\frac{\\gamma_{13}}{2} - \\frac{\\gamma_{23}}{2} - \\frac{\\gamma_{3d}}{2} - \\frac{\\gamma_{m} n_{b}}{2} & - i \\overline{\\Omega_{m}} & - i \\overline{\\Omega_{sb}}\\\\- i \\Omega_{m} & - i \\delta_{2} + i \\delta_{3} - \\frac{\\gamma_{13}}{2} - \\frac{\\gamma_{23}}{2} - \\frac{\\gamma_{2d}}{2} - \\frac{\\gamma_{3d}}{2} - \\frac{\\gamma_{m} \\left(n_{b} + 1\\right)}{2} & - i \\overline{\\Omega_{o}}\\\\- i \\Omega_{sb} & - i \\Omega_{o} & - \\gamma_{13} - \\gamma_{23}\\end{matrix}\\right]$$"
      ],
      "text/plain": [
       "⎡               0                                            0                \n",
       "⎢                                                                             \n",
       "⎢               0                                         ⅈ⋅Ω_sb              \n",
       "⎢                                                                             \n",
       "⎢               0                                            0                \n",
       "⎢                                                                             \n",
       "⎢              ⅈ⋅Ωₒ                                          0                \n",
       "⎢                                                                             \n",
       "⎢               0                                          ⅈ⋅Ωₒ               \n",
       "⎢                                                                             \n",
       "⎢               0                                            0                \n",
       "⎢                                                                             \n",
       "⎢       γ₁₃   γ₂₃   γ_3d   γₘ⋅n_b                             __              \n",
       "⎢ⅈ⋅δ₃ - ─── - ─── - ──── - ──────                          -ⅈ⋅Ωₘ              \n",
       "⎢        2     2     2       2                                                \n",
       "⎢                                                                             \n",
       "⎢                                                 γ₁₃   γ₂₃   γ_2d   γ_3d   γₘ\n",
       "⎢             -ⅈ⋅Ωₘ                -ⅈ⋅δ₂ + ⅈ⋅δ₃ - ─── - ─── - ──── - ──── - ──\n",
       "⎢                                                  2     2     2      2       \n",
       "⎢                                                                             \n",
       "⎣            -ⅈ⋅Ω_sb                                       -ⅈ⋅Ωₒ              \n",
       "\n",
       "                1     ⎤\n",
       "                      ⎥\n",
       "                0     ⎥\n",
       "                      ⎥\n",
       "              ⅈ⋅Ω_sb  ⎥\n",
       "                      ⎥\n",
       "                0     ⎥\n",
       "                      ⎥\n",
       "               γ₂₃    ⎥\n",
       "                      ⎥\n",
       "               ⅈ⋅Ωₒ   ⎥\n",
       "                      ⎥\n",
       "                ____  ⎥\n",
       "             -ⅈ⋅Ω_sb  ⎥\n",
       "                      ⎥\n",
       "                      ⎥\n",
       "⋅(n_b + 1)       __   ⎥\n",
       "──────────    -ⅈ⋅Ωₒ   ⎥\n",
       "   2                  ⎥\n",
       "                      ⎥\n",
       "            -γ₁₃ - γ₂₃⎦"
      ]
     },
     "execution_count": 7,
     "metadata": {},
     "output_type": "execute_result"
    }
   ],
   "source": [
    "L[:,6:]"
   ]
  },
  {
   "cell_type": "code",
   "execution_count": 8,
   "metadata": {},
   "outputs": [
    {
     "data": {
      "image/png": "[encoded data removed]",
      "text/latex": [
       "$$\\rho_{31}$$"
      ],
      "text/plain": [
       "ρ₃₁"
      ]
     },
     "execution_count": 8,
     "metadata": {},
     "output_type": "execute_result"
    }
   ],
   "source": [
    "rho11,rho12,rho13,rho21,rho22,rho23,rho31,rho32,rho33 = sym.symbols('rho_11 rho_12 rho_13 rho_21 rho_22 rho_23 rho_31 rho_32 rho_33')\n",
    "rho = Matrix([[rho11,rho21,rho31],[rho12,rho22,rho32],[rho13,rho23,rho33]])\n",
    "#rho = 1*rho.T\n",
    "#rho[:]\n",
    "rhoflat = 1*rho.T \n",
    "rhoflat = rhoflat[:]\n",
    "rhoflat[6]"
   ]
  },
  {
   "cell_type": "code",
   "execution_count": null,
   "metadata": {},
   "outputs": [],
   "source": []
  },
  {
   "cell_type": "code",
   "execution_count": 9,
   "metadata": {},
   "outputs": [
    {
     "name": "stdout",
     "output_type": "stream",
     "text": [
      "// Not supported in C:\n",
      "// conjugate\n",
      "// conjugate\n",
      "// conjugate\n",
      "[1, -I*Omega_m, -I*Omega_sb, I*conjugate(Omega_m), gamma_m*n_b, 0, I*conjugate(Omega_sb), 0, 0, 0, -I*delta_2 - 1.0/2.0*gamma_2d - 1.0/2.0*gamma_m*n_b - 1.0/2.0*gamma_m*(n_b + 1), -I*Omega_o, 0, I*conjugate(Omega_m), 0, 0, I*conjugate(Omega_sb), 0, 0, -I*conjugate(Omega_o), -I*delta_3 - 1.0/2.0*gamma_13 - 1.0/2.0*gamma_23 - 1.0/2.0*gamma_3d - 1.0/2.0*gamma_m*n_b, 0, 0, I*conjugate(Omega_m), 0, 0, I*conjugate(Omega_sb), 0, 0, 0, I*delta_2 - 1.0/2.0*gamma_2d - 1.0/2.0*gamma_m*n_b - 1.0/2.0*gamma_m*(n_b + 1), -I*Omega_m, -I*Omega_sb, I*conjugate(Omega_o), 0, 0, 1, I*Omega_m, 0, -I*conjugate(Omega_m), -gamma_m*(n_b + 1), -I*Omega_o, 0, I*conjugate(Omega_o), 0, 0, 0, I*Omega_m, -I*conjugate(Omega_sb), -I*conjugate(Omega_o), I*delta_2 - I*delta_3 - 1.0/2.0*gamma_13 - 1.0/2.0*gamma_23 - 1.0/2.0*gamma_2d - 1.0/2.0*gamma_3d - 1.0/2.0*gamma_m*(n_b + 1), 0, 0, I*conjugate(Omega_o), 0, 0, 0, I*Omega_o, 0, 0, I*delta_3 - 1.0/2.0*gamma_13 - 1.0/2.0*gamma_23 - 1.0/2.0*gamma_3d - 1.0/2.0*gamma_m*n_b, -I*Omega_m, -I*Omega_sb, 0, I*Omega_sb, 0, 0, I*Omega_o, 0, -I*conjugate(Omega_m), -I*delta_2 + I*delta_3 - 1.0/2.0*gamma_13 - 1.0/2.0*gamma_23 - 1.0/2.0*gamma_2d - 1.0/2.0*gamma_3d - 1.0/2.0*gamma_m*(n_b + 1), -I*Omega_o, 1, 0, I*Omega_sb, 0, gamma_23, I*Omega_o, -I*conjugate(Omega_sb), -I*conjugate(Omega_o), -gamma_13 - gamma_23]\n"
     ]
    }
   ],
   "source": [
    "from sympy.printing import print_ccode\n",
    "Lflat = 1*L.T\n",
    "Lflat = Lflat[:]\n",
    "print_ccode(Lflat)"
   ]
  },
  {
   "cell_type": "code",
   "execution_count": null,
   "metadata": {},
   "outputs": [],
   "source": []
  },
  {
   "cell_type": "code",
   "execution_count": null,
   "metadata": {},
   "outputs": [],
   "source": []
  },
  {
   "cell_type": "code",
   "execution_count": null,
   "metadata": {},
   "outputs": [],
   "source": []
  },
  {
   "cell_type": "code",
   "execution_count": null,
   "metadata": {},
   "outputs": [],
   "source": []
  },
  {
   "cell_type": "code",
   "execution_count": null,
   "metadata": {},
   "outputs": [],
   "source": []
  },
  {
   "cell_type": "code",
   "execution_count": null,
   "metadata": {},
   "outputs": [],
   "source": []
  },
  {
   "cell_type": "code",
   "execution_count": null,
   "metadata": {},
   "outputs": [],
   "source": []
  },
  {
   "cell_type": "code",
   "execution_count": null,
   "metadata": {},
   "outputs": [],
   "source": []
  },
  {
   "cell_type": "code",
   "execution_count": null,
   "metadata": {},
   "outputs": [],
   "source": []
  },
  {
   "cell_type": "code",
   "execution_count": null,
   "metadata": {},
   "outputs": [],
   "source": []
  },
  {
   "cell_type": "code",
   "execution_count": null,
   "metadata": {},
   "outputs": [],
   "source": []
  },
  {
   "cell_type": "code",
   "execution_count": null,
   "metadata": {},
   "outputs": [],
   "source": [
    "\n"
   ]
  },
  {
   "cell_type": "code",
   "execution_count": null,
   "metadata": {},
   "outputs": [],
   "source": []
  },
  {
   "cell_type": "markdown",
   "metadata": {},
   "source": [
    "\n",
    "\n",
    "\n"
   ]
  },
  {
   "cell_type": "code",
   "execution_count": null,
   "metadata": {},
   "outputs": [],
   "source": []
  },
  {
   "cell_type": "code",
   "execution_count": null,
   "metadata": {},
   "outputs": [],
   "source": []
  },
  {
   "cell_type": "code",
   "execution_count": null,
   "metadata": {},
   "outputs": [],
   "source": []
  },
  {
   "cell_type": "code",
   "execution_count": null,
   "metadata": {},
   "outputs": [],
   "source": []
  },
  {
   "cell_type": "code",
   "execution_count": null,
   "metadata": {},
   "outputs": [],
   "source": []
  },
  {
   "cell_type": "code",
   "execution_count": null,
   "metadata": {},
   "outputs": [],
   "source": []
  },
  {
   "cell_type": "code",
   "execution_count": null,
   "metadata": {},
   "outputs": [],
   "source": []
  },
  {
   "cell_type": "code",
   "execution_count": null,
   "metadata": {},
   "outputs": [],
   "source": []
  },
  {
   "cell_type": "code",
   "execution_count": null,
   "metadata": {},
   "outputs": [],
   "source": []
  }
 ],
 "metadata": {
  "anaconda-cloud": {},
  "kernelspec": {
   "display_name": "Python 3",
   "language": "python",
   "name": "python3"
  },
  "language_info": {
   "codemirror_mode": {
    "name": "ipython",
    "version": 3
   },
   "file_extension": ".py",
   "mimetype": "text/x-python",
   "name": "python",
   "nbconvert_exporter": "python",
   "pygments_lexer": "ipython3",
   "version": "3.6.5"
  }
 },
 "nbformat": 4,
 "nbformat_minor": 1
}
