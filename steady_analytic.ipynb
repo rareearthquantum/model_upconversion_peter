{
 "cells": [
  {
   "cell_type": "code",
   "execution_count": 1,
   "metadata": {},
   "outputs": [],
   "source": [
    "import sympy as sym\n",
    "import numpy as np\n",
    "from scipy import integrate\n",
    "\n",
    "import math\n",
    "\n",
    "from sympy.functions import Heaviside, sin, cos, sqrt\n",
    "sym.init_printing()\n",
    "\n",
    "import matplotlib.pyplot as plt\n",
    "#from sympy.vector import *\n",
    "from sympy import I, Matrix, symbols\n",
    "from sympy.physics.quantum import TensorProduct,Dagger\n",
    "\n",
    "# This IPython magic generates a table with version information\n",
    "#https://github.com/jrjohansson/version_information\n",
    "#%load_ext version_information\n"
   ]
  },
  {
   "cell_type": "code",
   "execution_count": 2,
   "metadata": {},
   "outputs": [],
   "source": [
    "\n",
    "\n",
    "def spre(m):\n",
    "    return TensorProduct(sym.eye(m.shape[0]),m)\n",
    "\n",
    "\n",
    "def spost(m):\n",
    "    return TensorProduct(m.T,sym.eye(m.shape[0]))\n",
    "\n",
    "def collapse(c):\n",
    "    temp = Dagger(c)*c\n",
    "    return 2*spre(c)*spost(Dagger(c))-spre(temp)-spost(temp)\n",
    "\n",
    "\n",
    "s13=Matrix([[0,0,1],[0,0,0],[0,0,0]])\n",
    "s23=Matrix([[0,0,0],[0,0,1],[0,0,0]])\n",
    "s12=Matrix([[0,1,0],[0,0,0],[0,0,0]])\n",
    "\n",
    "s31=s13.T\n",
    "s32=s23.T\n",
    "s21=s12.T\n",
    "\n",
    "s11 = s12*s21\n",
    "s22 = s21*s12\n",
    "s33 = s31*s13\n",
    "\n"
   ]
  },
  {
   "cell_type": "code",
   "execution_count": 37,
   "metadata": {},
   "outputs": [
    {
     "data": {
      "text/latex": [
       "$$\\left[\\begin{matrix}0 & i\\\\- i & 0\\end{matrix}\\right]$$"
      ],
      "text/plain": [
       "⎡0   ⅈ⎤\n",
       "⎢     ⎥\n",
       "⎣-ⅈ  0⎦"
      ]
     },
     "execution_count": 37,
     "metadata": {},
     "output_type": "execute_result"
    }
   ],
   "source": [
    "sigmay = Matrix([[0, I], [-I, 0 ]])\n",
    "sigmay"
   ]
  },
  {
   "cell_type": "code",
   "execution_count": 38,
   "metadata": {},
   "outputs": [
    {
     "data": {
      "text/latex": [
       "$$\\left[\\begin{matrix}0 & i & 0 & 0\\\\- i & 0 & 0 & 0\\\\0 & 0 & 0 & i\\\\0 & 0 & - i & 0\\end{matrix}\\right]$$"
      ],
      "text/plain": [
       "⎡0   ⅈ  0   0⎤\n",
       "⎢            ⎥\n",
       "⎢-ⅈ  0  0   0⎥\n",
       "⎢            ⎥\n",
       "⎢0   0  0   ⅈ⎥\n",
       "⎢            ⎥\n",
       "⎣0   0  -ⅈ  0⎦"
      ]
     },
     "execution_count": 38,
     "metadata": {},
     "output_type": "execute_result"
    }
   ],
   "source": [
    "spre(sigmay)"
   ]
  },
  {
   "cell_type": "code",
   "execution_count": 39,
   "metadata": {},
   "outputs": [
    {
     "data": {
      "text/latex": [
       "$$\\left[\\begin{matrix}0 & 0 & - i & 0\\\\0 & 0 & 0 & - i\\\\i & 0 & 0 & 0\\\\0 & i & 0 & 0\\end{matrix}\\right]$$"
      ],
      "text/plain": [
       "⎡0  0  -ⅈ  0 ⎤\n",
       "⎢            ⎥\n",
       "⎢0  0  0   -ⅈ⎥\n",
       "⎢            ⎥\n",
       "⎢ⅈ  0  0   0 ⎥\n",
       "⎢            ⎥\n",
       "⎣0  ⅈ  0   0 ⎦"
      ]
     },
     "execution_count": 39,
     "metadata": {},
     "output_type": "execute_result"
    }
   ],
   "source": [
    "spost(sigmay)"
   ]
  },
  {
   "cell_type": "code",
   "execution_count": 3,
   "metadata": {},
   "outputs": [],
   "source": [
    "delta2,delta3 = sym.symbols('delta_2 delta_3',real=True)\n",
    "gamma13,gamma23,gamma2d,gamma3d,nbath,gammamu = sym.symbols('gamma_13 gamma_23 gamma_2d gamma_3d n_b gamma_mu', real=True, negative=False)\n",
    "omegao,omegam,a = sym.symbols('Omega_o Omega_mu a')\n",
    "g = sym.symbols('g',real=True, negative=False)\n",
    "sigmm,sigmo = sym.symbols('sigma_m sigma_o')"
   ]
  },
  {
   "cell_type": "code",
   "execution_count": 4,
   "metadata": {},
   "outputs": [
    {
     "data": {
      "text/latex": [
       "$$\\left[\\begin{matrix}1 & 0 & 0 & 0 & 1 & 0 & 0 & 0 & 1\\\\- i \\Omega_{\\mu} & - i \\delta_{2} - \\frac{\\gamma_{2d}}{2} - \\frac{\\gamma_{\\mu} n_{b}}{2} - \\frac{\\gamma_{\\mu} \\left(n_{b} + 1\\right)}{2} & - i \\overline{\\Omega_{o}} & 0 & i \\Omega_{\\mu} & 0 & 0 & i a g & 0\\\\- i a g & - i \\Omega_{o} & - i \\delta_{3} - \\frac{\\gamma_{13}}{2} - \\frac{\\gamma_{23}}{2} - \\frac{\\gamma_{3d}}{2} - \\frac{\\gamma_{\\mu} n_{b}}{2} & 0 & 0 & i \\Omega_{\\mu} & 0 & 0 & i a g\\\\i \\overline{\\Omega_{\\mu}} & 0 & 0 & i \\delta_{2} - \\frac{\\gamma_{2d}}{2} - \\frac{\\gamma_{\\mu} n_{b}}{2} - \\frac{\\gamma_{\\mu} \\left(n_{b} + 1\\right)}{2} & - i \\overline{\\Omega_{\\mu}} & - i g \\overline{a} & i \\Omega_{o} & 0 & 0\\\\\\gamma_{\\mu} n_{b} & i \\overline{\\Omega_{\\mu}} & 0 & - i \\Omega_{\\mu} & - \\gamma_{\\mu} \\left(n_{b} + 1\\right) & - i \\overline{\\Omega_{o}} & 0 & i \\Omega_{o} & \\gamma_{23}\\\\0 & 0 & i \\overline{\\Omega_{\\mu}} & - i a g & - i \\Omega_{o} & i \\delta_{2} - i \\delta_{3} - \\frac{\\gamma_{13}}{2} - \\frac{\\gamma_{23}}{2} - \\frac{\\gamma_{2d}}{2} - \\frac{\\gamma_{3d}}{2} - \\frac{\\gamma_{\\mu} \\left(n_{b} + 1\\right)}{2} & 0 & 0 & i \\Omega_{o}\\\\i g \\overline{a} & 0 & 0 & i \\overline{\\Omega_{o}} & 0 & 0 & i \\delta_{3} - \\frac{\\gamma_{13}}{2} - \\frac{\\gamma_{23}}{2} - \\frac{\\gamma_{3d}}{2} - \\frac{\\gamma_{\\mu} n_{b}}{2} & - i \\overline{\\Omega_{\\mu}} & - i g \\overline{a}\\\\0 & i g \\overline{a} & 0 & 0 & i \\overline{\\Omega_{o}} & 0 & - i \\Omega_{\\mu} & - i \\delta_{2} + i \\delta_{3} - \\frac{\\gamma_{13}}{2} - \\frac{\\gamma_{23}}{2} - \\frac{\\gamma_{2d}}{2} - \\frac{\\gamma_{3d}}{2} - \\frac{\\gamma_{\\mu} \\left(n_{b} + 1\\right)}{2} & - i \\overline{\\Omega_{o}}\\\\0 & 0 & i g \\overline{a} & 0 & 0 & i \\overline{\\Omega_{o}} & - i a g & - i \\Omega_{o} & - \\gamma_{13} - \\gamma_{23}\\end{matrix}\\right]$$"
      ],
      "text/plain": [
       "⎡   1                       0                                     0           \n",
       "⎢                                                                             \n",
       "⎢                 γ_2d   γₘᵤ⋅n_b   γₘᵤ⋅(n_b + 1)                   __         \n",
       "⎢-ⅈ⋅Ωₘᵤ   -ⅈ⋅δ₂ - ──── - ─────── - ─────────────                -ⅈ⋅Ωₒ         \n",
       "⎢                  2        2            2                                    \n",
       "⎢                                                                             \n",
       "⎢                                                         γ₁₃   γ₂₃   γ_3d   γ\n",
       "⎢-ⅈ⋅a⋅g                   -ⅈ⋅Ωₒ                   -ⅈ⋅δ₃ - ─── - ─── - ──── - ─\n",
       "⎢                                                          2     2     2      \n",
       "⎢                                                                             \n",
       "⎢   ___                                                                       \n",
       "⎢ ⅈ⋅Ωₘᵤ                     0                                     0           \n",
       "⎢                                                                             \n",
       "⎢                                                                             \n",
       "⎢                           ___                                               \n",
       "⎢γₘᵤ⋅n_b                  ⅈ⋅Ωₘᵤ                                   0           \n",
       "⎢                                                                             \n",
       "⎢                                                                 ___         \n",
       "⎢   0                       0                                   ⅈ⋅Ωₘᵤ         \n",
       "⎢                                                                             \n",
       "⎢                                                                             \n",
       "⎢     _                                                                       \n",
       "⎢ ⅈ⋅g⋅a                     0                                     0           \n",
       "⎢                                                                             \n",
       "⎢                                                                             \n",
       "⎢                             _                                               \n",
       "⎢   0                     ⅈ⋅g⋅a                                   0           \n",
       "⎢                                                                             \n",
       "⎢                                                                             \n",
       "⎢                                                                   _         \n",
       "⎣   0                       0                                   ⅈ⋅g⋅a         \n",
       "\n",
       "                          0                          1                        \n",
       "                                                                              \n",
       "                                                                              \n",
       "                          0                        ⅈ⋅Ωₘᵤ                      \n",
       "                                                                              \n",
       "                                                                              \n",
       "ₘᵤ⋅n_b                                                                        \n",
       "──────                    0                          0                        \n",
       "  2                                                                           \n",
       "                                                                              \n",
       "               γ_2d   γₘᵤ⋅n_b   γₘᵤ⋅(n_b + 1)         ___                     \n",
       "        ⅈ⋅δ₂ - ──── - ─────── - ─────────────      -ⅈ⋅Ωₘᵤ                     \n",
       "                2        2            2                                       \n",
       "                                                                              \n",
       "                                                                              \n",
       "                       -ⅈ⋅Ωₘᵤ                  -γₘᵤ⋅(n_b + 1)                 \n",
       "                                                                              \n",
       "                                                                             γ\n",
       "                       -ⅈ⋅a⋅g                      -ⅈ⋅Ωₒ       ⅈ⋅δ₂ - ⅈ⋅δ₃ - ─\n",
       "                                                                              \n",
       "                                                                              \n",
       "                          __                                                  \n",
       "                        ⅈ⋅Ωₒ                         0                        \n",
       "                                                                              \n",
       "                                                                              \n",
       "                                                      __                      \n",
       "                          0                         ⅈ⋅Ωₒ                      \n",
       "                                                                              \n",
       "                                                                              \n",
       "                                                                              \n",
       "                          0                          0                        \n",
       "\n",
       "           0                                            0                     \n",
       "                                                                              \n",
       "                                                                              \n",
       "           0                                            0                     \n",
       "                                                                              \n",
       "                                                                              \n",
       "                                                                              \n",
       "         ⅈ⋅Ωₘᵤ                                          0                     \n",
       "                                                                              \n",
       "                                                                              \n",
       "             _                                                                \n",
       "        -ⅈ⋅g⋅a                                        ⅈ⋅Ωₒ                    \n",
       "                                                                              \n",
       "                                                                              \n",
       "            __                                                                \n",
       "         -ⅈ⋅Ωₒ                                          0                     \n",
       "                                                                              \n",
       "₁₃   γ₂₃   γ_2d   γ_3d   γₘᵤ⋅(n_b + 1)                                        \n",
       "── - ─── - ──── - ──── - ─────────────                  0                     \n",
       "2     2     2      2           2                                              \n",
       "                                                                              \n",
       "                                               γ₁₃   γ₂₃   γ_3d   γₘᵤ⋅n_b     \n",
       "           0                            ⅈ⋅δ₃ - ─── - ─── - ──── - ───────     \n",
       "                                                2     2     2        2        \n",
       "                                                                              \n",
       "                                                                              \n",
       "           0                                         -ⅈ⋅Ωₘᵤ                -ⅈ⋅\n",
       "                                                                              \n",
       "                                                                              \n",
       "           __                                                                 \n",
       "         ⅈ⋅Ωₒ                                        -ⅈ⋅a⋅g                   \n",
       "\n",
       "                       0                                 1     ⎤\n",
       "                                                               ⎥\n",
       "                                                               ⎥\n",
       "                     ⅈ⋅a⋅g                               0     ⎥\n",
       "                                                               ⎥\n",
       "                                                               ⎥\n",
       "                                                               ⎥\n",
       "                       0                               ⅈ⋅a⋅g   ⎥\n",
       "                                                               ⎥\n",
       "                                                               ⎥\n",
       "                                                               ⎥\n",
       "                       0                                 0     ⎥\n",
       "                                                               ⎥\n",
       "                                                               ⎥\n",
       "                                                               ⎥\n",
       "                      ⅈ⋅Ωₒ                              γ₂₃    ⎥\n",
       "                                                               ⎥\n",
       "                                                               ⎥\n",
       "                       0                                ⅈ⋅Ωₒ   ⎥\n",
       "                                                               ⎥\n",
       "                                                               ⎥\n",
       "                        ___                                 _  ⎥\n",
       "                     -ⅈ⋅Ωₘᵤ                            -ⅈ⋅g⋅a  ⎥\n",
       "                                                               ⎥\n",
       "                                                               ⎥\n",
       "            γ₁₃   γ₂₃   γ_2d   γ_3d   γₘᵤ⋅(n_b + 1)       __   ⎥\n",
       "δ₂ + ⅈ⋅δ₃ - ─── - ─── - ──── - ──── - ─────────────    -ⅈ⋅Ωₒ   ⎥\n",
       "             2     2     2      2           2                  ⎥\n",
       "                                                               ⎥\n",
       "                                                               ⎥\n",
       "                     -ⅈ⋅Ωₒ                           -γ₁₃ - γ₂₃⎦"
      ]
     },
     "execution_count": 4,
     "metadata": {},
     "output_type": "execute_result"
    }
   ],
   "source": [
    "H =  omegam*s21 + omegao*s32 + g*a*s31\n",
    "H = H + Dagger(H)\n",
    "H = H + delta2*s22 + delta3*s33\n",
    "LH = -I*spre(H)+I*spost(H) \n",
    "L21 = gammamu/2*(nbath+1)*collapse(s12)\n",
    "L12 = gammamu/2*(nbath)*collapse(s21)\n",
    "L32 = gamma23/2*collapse(s23)\n",
    "L31 = gamma13/2*collapse(s13)\n",
    "L22 = gamma2d/2*collapse(s22)\n",
    "L33 = gamma3d/2*collapse(s33)\n",
    "\n",
    "L = LH + L21 + L12 + L32 + L31 + L22 + L33\n",
    "\n",
    "#becausetrace rho = 1 we can replace first row\n",
    "L = L.row_insert(0,Matrix([[1,0,0,0,1,0,0,0,1]]))\n",
    "L.row_del(1)\n",
    "\n",
    "\n",
    "L"
   ]
  },
  {
   "cell_type": "code",
   "execution_count": 5,
   "metadata": {},
   "outputs": [],
   "source": [
    "#L[:,0:3] #because the matrix gets clipped"
   ]
  },
  {
   "cell_type": "code",
   "execution_count": 6,
   "metadata": {},
   "outputs": [],
   "source": [
    "#L[:,3:6]"
   ]
  },
  {
   "cell_type": "code",
   "execution_count": 7,
   "metadata": {},
   "outputs": [],
   "source": [
    "#L[:,6:]"
   ]
  },
  {
   "cell_type": "code",
   "execution_count": 8,
   "metadata": {},
   "outputs": [],
   "source": [
    "#rho11,rho12,rho13,rho21,rho22,rho23,rho31,rho32,rho33 = sym.symbols('rho_11 rho_12 rho_13 rho_21 rho_22 rho_23 rho_31 rho_32 rho_33')\n",
    "#rho = Matrix([[rho11,rho21,rho31],[rho12,rho22,rho32],[rho13,rho23,rho33]])\n",
    "#rho = 1*rho.T\n",
    "#rho[:]\n",
    "#rhoflat = 1*rho.T \n",
    "#rhoflat = rhoflat[:]\n",
    "#rhoflat[6]"
   ]
  },
  {
   "cell_type": "code",
   "execution_count": 9,
   "metadata": {},
   "outputs": [
    {
     "name": "stdout",
     "output_type": "stream",
     "text": [
      "// Not supported in C:\n",
      "// conjugate\n",
      "// conjugate\n",
      "// conjugate\n",
      "[1, -I*Omega_mu, -I*a*g, I*conjugate(Omega_mu), gamma_mu*n_b, 0, I*g*conjugate(a), 0, 0, 0, -I*delta_2 - 1.0/2.0*gamma_2d - 1.0/2.0*gamma_mu*n_b - 1.0/2.0*gamma_mu*(n_b + 1), -I*Omega_o, 0, I*conjugate(Omega_mu), 0, 0, I*g*conjugate(a), 0, 0, -I*conjugate(Omega_o), -I*delta_3 - 1.0/2.0*gamma_13 - 1.0/2.0*gamma_23 - 1.0/2.0*gamma_3d - 1.0/2.0*gamma_mu*n_b, 0, 0, I*conjugate(Omega_mu), 0, 0, I*g*conjugate(a), 0, 0, 0, I*delta_2 - 1.0/2.0*gamma_2d - 1.0/2.0*gamma_mu*n_b - 1.0/2.0*gamma_mu*(n_b + 1), -I*Omega_mu, -I*a*g, I*conjugate(Omega_o), 0, 0, 1, I*Omega_mu, 0, -I*conjugate(Omega_mu), -gamma_mu*(n_b + 1), -I*Omega_o, 0, I*conjugate(Omega_o), 0, 0, 0, I*Omega_mu, -I*g*conjugate(a), -I*conjugate(Omega_o), I*delta_2 - I*delta_3 - 1.0/2.0*gamma_13 - 1.0/2.0*gamma_23 - 1.0/2.0*gamma_2d - 1.0/2.0*gamma_3d - 1.0/2.0*gamma_mu*(n_b + 1), 0, 0, I*conjugate(Omega_o), 0, 0, 0, I*Omega_o, 0, 0, I*delta_3 - 1.0/2.0*gamma_13 - 1.0/2.0*gamma_23 - 1.0/2.0*gamma_3d - 1.0/2.0*gamma_mu*n_b, -I*Omega_mu, -I*a*g, 0, I*a*g, 0, 0, I*Omega_o, 0, -I*conjugate(Omega_mu), -I*delta_2 + I*delta_3 - 1.0/2.0*gamma_13 - 1.0/2.0*gamma_23 - 1.0/2.0*gamma_2d - 1.0/2.0*gamma_3d - 1.0/2.0*gamma_mu*(n_b + 1), -I*Omega_o, 1, 0, I*a*g, 0, gamma_23, I*Omega_o, -I*g*conjugate(a), -I*conjugate(Omega_o), -gamma_13 - gamma_23]\n"
     ]
    }
   ],
   "source": [
    "from sympy.printing import print_ccode\n",
    "Lflat = 1*L.T\n",
    "Lflat = Lflat[:]\n",
    "print_ccode(Lflat)"
   ]
  },
  {
   "cell_type": "markdown",
   "metadata": {},
   "source": [
    "## Turning analytic expression into numerical code to work out steady state"
   ]
  },
  {
   "cell_type": "code",
   "execution_count": 32,
   "metadata": {},
   "outputs": [],
   "source": [
    "Lfunc = sym.lambdify((a,delta2, delta3, gamma13, gamma23, gamma2d, gamma3d, nbath,gammamu,omegao,omegam,g),L)\n",
    "        \n",
    "        \n",
    "#    return \n",
    "#delta2,delta3 = sym.symbols('delta_2 delta_3',real=True)\n",
    "#gamma13,gamma23,gamma2d,gamma3d,nbath,gammamu = sym.symbols('gamma_13 gamma_23 gamma_2d gamma_3d n_b gamma_mu', real=True, negative=False)\n",
    "#omegao,omegam,a = sym.symbols('Omega_o Omega_mu a')\n",
    "#g = sym.symbols('g',real=True, negative=False)\n",
    "\n",
    "def steady_rho(p):\n",
    "    \n",
    "    Lmatrix = Lfunc(p['a'],p['delta2'],p['delta3'],p['gamma13'],\n",
    "                               p['gamma23'],p['gamma2d'],p['gamma3d'],p['nbath'],\n",
    "                               p['gammamu'],p['omegao'],p['omegam'],p['g'])\n",
    "    \n",
    "    #return Lmatrix\n",
    "    rho = np.linalg.solve(Lmatrix.astype('complex128'),np.matrix([[1,0,0,0,0,0,0,0,0]]).T)\n",
    "    return np.reshape(rho,(3,3),order='F')\n",
    "\n",
    "def steady_rho13(p):\n",
    "    \n",
    "    Lmatrix = Lfunc(p['a'],p['delta2'],p['delta3'],p['gamma13'],\n",
    "                               p['gamma23'],p['gamma2d'],p['gamma3d'],p['nbath'],\n",
    "                               p['gammamu'],p['omegao'],p['omegam'],p['g'])\n",
    "    \n",
    "    #return Lmatrix\n",
    "    rho = np.linalg.solve(Lmatrix.astype('complex128'),np.matrix([[1,0,0,0,0,0,0,0,0]]).T)\n",
    "    return rho[6]\n",
    "\n",
    "\n",
    "def steady_rho_for_integration(delta2,delta3,p):\n",
    "    params = p\n",
    "    params['delta2'] = delta2\n",
    "    params['delta3'] = delta3\n",
    "    m2=params['mean_delta2']\n",
    "    sd2=params['sd_delta2']\n",
    "    m3=params['mean_delta3']\n",
    "    sd3=params['sd_delta3']\n",
    "    return 1/(2*np.pi*sd3*sd2) * np.exp(-(delta2-m2)**2/(2*sd2*sd2)-(delta3-m3)**2/(2*sd3*sd3)) * steady_rho13(params)\n",
    "\n",
    "\n",
    "def integrate_over_delta2(delta3,p):\n",
    "    a = p['mean_delta2']-4*p['sd_delta2']\n",
    "    b = p['mean_delta2']+4*p['sd_delta2']\n",
    "    # points = \n",
    "    output = integrate.quad(steady_rho_for_integration, a, b, args=(delta3,p))\n",
    "    return output[0]\n",
    "    \n",
    "\n",
    "# scipy.integrate.quad(func, a, b, args=(), full_output=0, epsabs=1.49e-08, epsrel=1.49e-08, limit=50, points=None, weight=None, wvar=None, wopts=None, maxp1=50, limlst=50)[source]\n",
    "def ensemble_steady_rho(p):\n",
    "    a = p['mean_delta3']-4*p['sd_delta3']\n",
    "    b = p['mean_delta3']+4*p['sd_delta3']\n",
    "    # output = integrate.quad(integrate_over_delta2,a,b,args=p, epsabs=1.49e-07, epsrel=1.49e-07)\n",
    "    delta\n",
    "    return output[0]\n",
    "    \n",
    "#integrate steady_rho over distribution defined by\n",
    "#p['mean_delta2']\n",
    "#p['sd_delta2']\n",
    "#p['mean_delta3']\n",
    "#p['mean_delta4']\n",
    "\n",
    "\n",
    "#def steady_rho13(p):\n",
    "#    return steady_rho[0,2]"
   ]
  },
  {
   "cell_type": "markdown",
   "metadata": {},
   "source": [
    "# Example single pass like calculations no inhomo"
   ]
  },
  {
   "cell_type": "markdown",
   "metadata": {},
   "source": [
    "### weird behavior\n",
    "Signal persists at very high microwave detuning? Is this real?"
   ]
  },
  {
   "cell_type": "code",
   "execution_count": 25,
   "metadata": {},
   "outputs": [],
   "source": [
    "#some default parameters\n",
    "p = {}\n",
    "p['a'] = 0\n",
    "p['delta2'] = 0.\n",
    "p['delta3'] = 0.\n",
    "p['gamma13'] = 1./22e-3\n",
    "p['gamma23'] = 1./22e-3\n",
    "p['gamma2d'] = 1./1e-6\n",
    "p['gamma3d'] = 1./1e-6\n",
    "p['nbath'] = 20\n",
    "p['gammamu'] = 1./((p['nbath']+1)*11e-3)\n",
    "p['omegao'] = 10e6\n",
    "p['omegam'] = 10e6\n",
    "p['g'] = 0.\n",
    "\n",
    "#steady_rho(p)* np.matrix([[1,0,0,0,0,0,0,0,0]]).T\n",
    "#np.linalg.solve(steady_rho(p),np.matrix([[1,0,0,0,0,0,0,0,0]]).T)\n",
    "#steady_rho(p)"
   ]
  },
  {
   "cell_type": "code",
   "execution_count": 26,
   "metadata": {},
   "outputs": [
    {
     "data": {
      "text/plain": [
       "<matplotlib.colorbar.Colorbar at 0x7f4bd401c7b8>"
      ]
     },
     "execution_count": 26,
     "metadata": {},
     "output_type": "execute_result"
    },
    {
     "data": {
      "image/png": "[encoded data removed]",
      "text/plain": [
       "<Figure size 432x288 with 2 Axes>"
      ]
     },
     "metadata": {},
     "output_type": "display_data"
    }
   ],
   "source": [
    "# plt.subplot(1,2,1)\n",
    "\n",
    "delta2vals = np.linspace(-10000e6,10000e6,101)\n",
    "delta3vals = np.linspace(-100e6,100e6,101)\n",
    "coh = np.zeros((len(delta2vals),len(delta3vals)))\n",
    "for ii in range(len(delta2vals)):\n",
    "    for jj in range(len(delta3vals)):\n",
    "        p['delta2']=delta2vals[ii]\n",
    "        p['delta3']=delta3vals[jj]\n",
    "        coh[ii,jj] = np.abs(steady_rho(p)[0,2])**2\n",
    "        \n",
    "plt.imshow(coh,extent = [min(delta3vals)/1e6,max(delta3vals)/1e6,max(delta2vals)/1e6,min(delta2vals)/1e6],aspect='auto')\n",
    "plt.ylabel('delta_2')\n",
    "plt.xlabel('delta_3')\n",
    "plt.colorbar()\n",
    "# plt.subplot(1,2,2)\n",
    "\n",
    "# delta2vals = np.linspace(0,50e6,51)\n",
    "# delta3vals = np.linspace(0,50e6,51)\n",
    "# coh = np.zeros((len(delta2vals),len(delta3vals)))\n",
    "# for ii in range(len(delta2vals)):\n",
    "#     for jj in range(len(delta3vals)):\n",
    "#         p['delta2']=delta2vals[ii]\n",
    "#         p['delta3']=delta3vals[jj]\n",
    "#         coh[ii,jj] = np.abs(steady_rho(p)[0,2])**2\n",
    "        \n",
    "# plt.imshow(coh,extent = [min(delta3vals)/1e6,max(delta3vals)/1e6,max(delta2vals)/1e6,min(delta2vals)/1e6],aspect='auto')\n",
    "# plt.ylabel('delta_2')\n",
    "# plt.xlabel('delta_3')\n",
    "# plt.colorbar()"
   ]
  },
  {
   "cell_type": "markdown",
   "metadata": {},
   "source": [
    "### more \"understandable\"  behavior\n",
    "#### Driving optical pump hard, driving microwaves weakly\n"
   ]
  },
  {
   "cell_type": "code",
   "execution_count": 27,
   "metadata": {},
   "outputs": [
    {
     "data": {
      "text/plain": [
       "<matplotlib.colorbar.Colorbar at 0x7f4bd3f9bb70>"
      ]
     },
     "execution_count": 27,
     "metadata": {},
     "output_type": "execute_result"
    },
    {
     "data": {
      "image/png": "[encoded data removed]",
      "text/plain": [
       "<Figure size 432x288 with 2 Axes>"
      ]
     },
     "metadata": {},
     "output_type": "display_data"
    }
   ],
   "source": [
    "#some default parameters\n",
    "p = {}\n",
    "p['a'] = 0\n",
    "p['delta2'] = 0.\n",
    "p['delta3'] = 0.\n",
    "p['gamma13'] = 1./22e-3\n",
    "p['gamma23'] = 1./22e-3\n",
    "p['gamma2d'] = 1./1e-6\n",
    "p['gamma3d'] = 1./1e-6\n",
    "p['nbath'] = 20\n",
    "p['gammamu'] = 1./((p['nbath']+1)*11e-3)\n",
    "p['omegao'] = 10e6\n",
    "p['omegam'] = 1e3\n",
    "p['g'] = 0.\n",
    "\n",
    "\n",
    "delta2vals = np.linspace(-50e6,50e6,51)\n",
    "delta3vals = np.linspace(-50e6,50e6,51)\n",
    "coh = np.zeros((len(delta2vals),len(delta3vals)))\n",
    "for ii in range(len(delta2vals)):\n",
    "    for jj in range(len(delta3vals)):\n",
    "        p['delta2']=delta2vals[ii]\n",
    "        p['delta3']=delta3vals[jj]\n",
    "        coh[ii,jj] = np.abs(steady_rho(p)[0,2])**2\n",
    "        \n",
    "plt.imshow(coh,extent = [min(delta3vals)/1e6,max(delta3vals)/1e6,max(delta2vals)/1e6,min(delta2vals)/1e6],aspect='auto')\n",
    "plt.ylabel('delta_2')\n",
    "plt.xlabel('delta_3')\n",
    "plt.colorbar()"
   ]
  },
  {
   "cell_type": "markdown",
   "metadata": {},
   "source": [
    "#### Driving optics weakly, microwaves hard"
   ]
  },
  {
   "cell_type": "code",
   "execution_count": 28,
   "metadata": {},
   "outputs": [
    {
     "data": {
      "text/plain": [
       "<matplotlib.colorbar.Colorbar at 0x7f4bd3f26fd0>"
      ]
     },
     "execution_count": 28,
     "metadata": {},
     "output_type": "execute_result"
    },
    {
     "data": {
      "image/png": "[encoded data removed]",
      "text/plain": [
       "<Figure size 432x288 with 2 Axes>"
      ]
     },
     "metadata": {},
     "output_type": "display_data"
    }
   ],
   "source": [
    "#some default parameters\n",
    "p = {}\n",
    "p['a'] = 0\n",
    "p['delta2'] = 0.\n",
    "p['delta3'] = 0.\n",
    "p['gamma13'] = 1./22e-3\n",
    "p['gamma23'] = 1./22e-3\n",
    "p['gamma2d'] = 1./1e-6\n",
    "p['gamma3d'] = 1./1e-6\n",
    "p['nbath'] = 20\n",
    "p['gammamu'] = 1./((p['nbath']+1)*11e-3)\n",
    "p['omegao'] = 1e3\n",
    "p['omegam'] = 10e6\n",
    "p['g'] = 0.\n",
    "\n",
    "\n",
    "delta2vals = np.linspace(-50e6,50e6,51)\n",
    "delta3vals = np.linspace(-50e6,50e6,51)\n",
    "coh = np.zeros((len(delta2vals),len(delta3vals)))\n",
    "for ii in range(len(delta2vals)):\n",
    "    for jj in range(len(delta3vals)):\n",
    "        p['delta2']=delta2vals[ii]\n",
    "        p['delta3']=delta3vals[jj]\n",
    "        coh[ii,jj] = np.abs(steady_rho(p)[0,2])**2\n",
    "        \n",
    "plt.imshow(coh,extent = [min(delta3vals)/1e6,max(delta3vals)/1e6,max(delta2vals)/1e6,min(delta2vals)/1e6],aspect='auto')\n",
    "plt.ylabel('delta_2')\n",
    "plt.xlabel('delta_3')\n",
    "plt.colorbar()"
   ]
  },
  {
   "cell_type": "markdown",
   "metadata": {},
   "source": [
    "#### driving both weakly"
   ]
  },
  {
   "cell_type": "code",
   "execution_count": 29,
   "metadata": {},
   "outputs": [
    {
     "data": {
      "text/plain": [
       "<matplotlib.colorbar.Colorbar at 0x7f4bd3ebb9b0>"
      ]
     },
     "execution_count": 29,
     "metadata": {},
     "output_type": "execute_result"
    },
    {
     "data": {
      "image/png": "[encoded data removed]",
      "text/plain": [
       "<Figure size 432x288 with 2 Axes>"
      ]
     },
     "metadata": {},
     "output_type": "display_data"
    }
   ],
   "source": [
    "p = {}\n",
    "p['a'] = 0\n",
    "p['delta2'] = 0.\n",
    "p['delta3'] = 0.\n",
    "p['gamma13'] = 1./22e-3\n",
    "p['gamma23'] = 1./22e-3\n",
    "p['gamma2d'] = 1./1e-6\n",
    "p['gamma3d'] = 1./1e-6\n",
    "p['nbath'] = 20\n",
    "p['gammamu'] = 1./((p['nbath']+1)*11e-3)\n",
    "p['omegao'] = 1e3\n",
    "p['omegam'] = 1e3\n",
    "p['g'] = 0.\n",
    "\n",
    "\n",
    "delta2vals = np.linspace(-5e6,5e6,51)\n",
    "delta3vals = np.linspace(-5e6,5e6,51)\n",
    "coh = np.zeros((len(delta2vals),len(delta3vals)))\n",
    "for ii in range(len(delta2vals)):\n",
    "    for jj in range(len(delta3vals)):\n",
    "        p['delta2']=delta2vals[ii]\n",
    "        p['delta3']=delta3vals[jj]\n",
    "        coh[ii,jj] = np.abs(steady_rho(p)[0,2])**2\n",
    "        \n",
    "plt.imshow(coh,extent = [min(delta3vals)/1e6,max(delta3vals)/1e6,max(delta2vals)/1e6,min(delta2vals)/1e6],aspect='auto')\n",
    "plt.ylabel('delta_2')\n",
    "plt.xlabel('delta_3')\n",
    "plt.colorbar()"
   ]
  },
  {
   "cell_type": "markdown",
   "metadata": {},
   "source": [
    "### Try out integration over inhomogeneous line"
   ]
  },
  {
   "cell_type": "code",
   "execution_count": 33,
   "metadata": {},
   "outputs": [
    {
     "data": {
      "text/plain": [
       "<matplotlib.colorbar.Colorbar at 0x7f4bd3d09048>"
      ]
     },
     "execution_count": 33,
     "metadata": {},
     "output_type": "execute_result"
    },
    {
     "data": {
      "image/png": "[encoded data removed]",
      "text/plain": [
       "<Figure size 432x288 with 2 Axes>"
      ]
     },
     "metadata": {},
     "output_type": "display_data"
    }
   ],
   "source": [
    "#some default parameters\n",
    "p = {}\n",
    "p['a'] = 0\n",
    "p['delta2'] = 0.\n",
    "p['delta3'] = 0.\n",
    "p['gamma13'] = 1./22e-3\n",
    "p['gamma23'] = 1./22e-3\n",
    "p['gamma2d'] = 1./1e-6\n",
    "p['gamma3d'] = 1./1e-6\n",
    "p['nbath'] = 20\n",
    "p['gammamu'] = 1./((p['nbath']+1)*11e-3)\n",
    "p['omegao'] = 1e3\n",
    "p['omegam'] = 10e6\n",
    "p['g'] = 0.\n",
    "\n",
    "p['mean_delta2']=0\n",
    "p['sd_delta2']=10e6\n",
    "p['mean_delta3']=0\n",
    "p['sd_delta3']=10e6\n",
    "\n",
    "\n",
    "m2=p['mean_delta2']\n",
    "sd2=p['sd_delta2']\n",
    "m3=p['mean_delta3']\n",
    "sd3=p['sd_delta3']\n",
    "\n",
    "delta2vals = np.linspace(-50e6,50e6,101)\n",
    "delta3vals = np.linspace(-50e6,50e6,101)\n",
    "coh = np.zeros((len(delta2vals),len(delta3vals)),dtype='complex128')\n",
    "for ii in range(len(delta2vals)):\n",
    "    for jj in range(len(delta3vals)):\n",
    "        p['delta2']=delta2vals[ii]\n",
    "        p['delta3']=delta3vals[jj]\n",
    "        gaussie = 1/(2*np.pi*sd3*sd2) * np.exp(-(p['delta2']-m2)**2/(2*sd2*sd2)-(p['delta3']-m3)**2/(2*sd3*sd3))            \n",
    "        coh[ii,jj] = steady_rho(p)[0,2]* 1/(2*np.pi*sd3*sd2) *gaussie\n",
    "        \n",
    "plt.imshow(np.abs(coh)**2,extent = [min(delta3vals)/1e6,max(delta3vals)/1e6,max(delta2vals)/1e6,min(delta2vals)/1e6],aspect='auto')\n",
    "plt.ylabel('delta_2')\n",
    "plt.xlabel('delta_3')\n",
    "plt.colorbar()"
   ]
  },
  {
   "cell_type": "code",
   "execution_count": 35,
   "metadata": {},
   "outputs": [
    {
     "ename": "TypeError",
     "evalue": "can't convert complex to float",
     "output_type": "error",
     "traceback": [
      "\u001b[0;31m---------------------------------------------------------------------------\u001b[0m",
      "\u001b[0;31mTypeError\u001b[0m                                 Traceback (most recent call last)",
      "\u001b[0;32m<ipython-input-35-49288df29144>\u001b[0m in \u001b[0;36m<module>\u001b[0;34m()\u001b[0m\n\u001b[0;32m----> 1\u001b[0;31m \u001b[0mensemble_steady_rho\u001b[0m\u001b[0;34m(\u001b[0m\u001b[0mp\u001b[0m\u001b[0;34m)\u001b[0m\u001b[0;34m\u001b[0m\u001b[0m\n\u001b[0m",
      "\u001b[0;32m<ipython-input-32-435b2f7b9ba2>\u001b[0m in \u001b[0;36mensemble_steady_rho\u001b[0;34m(p)\u001b[0m\n\u001b[1;32m     52\u001b[0m     \u001b[0ma\u001b[0m \u001b[0;34m=\u001b[0m \u001b[0mp\u001b[0m\u001b[0;34m[\u001b[0m\u001b[0;34m'mean_delta3'\u001b[0m\u001b[0;34m]\u001b[0m\u001b[0;34m-\u001b[0m\u001b[0;36m4\u001b[0m\u001b[0;34m*\u001b[0m\u001b[0mp\u001b[0m\u001b[0;34m[\u001b[0m\u001b[0;34m'sd_delta3'\u001b[0m\u001b[0;34m]\u001b[0m\u001b[0;34m\u001b[0m\u001b[0m\n\u001b[1;32m     53\u001b[0m     \u001b[0mb\u001b[0m \u001b[0;34m=\u001b[0m \u001b[0mp\u001b[0m\u001b[0;34m[\u001b[0m\u001b[0;34m'mean_delta3'\u001b[0m\u001b[0;34m]\u001b[0m\u001b[0;34m+\u001b[0m\u001b[0;36m4\u001b[0m\u001b[0;34m*\u001b[0m\u001b[0mp\u001b[0m\u001b[0;34m[\u001b[0m\u001b[0;34m'sd_delta3'\u001b[0m\u001b[0;34m]\u001b[0m\u001b[0;34m\u001b[0m\u001b[0m\n\u001b[0;32m---> 54\u001b[0;31m     \u001b[0moutput\u001b[0m \u001b[0;34m=\u001b[0m \u001b[0mintegrate\u001b[0m\u001b[0;34m.\u001b[0m\u001b[0mquad\u001b[0m\u001b[0;34m(\u001b[0m\u001b[0mintegrate_over_delta2\u001b[0m\u001b[0;34m,\u001b[0m\u001b[0ma\u001b[0m\u001b[0;34m,\u001b[0m\u001b[0mb\u001b[0m\u001b[0;34m,\u001b[0m\u001b[0margs\u001b[0m\u001b[0;34m=\u001b[0m\u001b[0mp\u001b[0m\u001b[0;34m,\u001b[0m \u001b[0mepsabs\u001b[0m\u001b[0;34m=\u001b[0m\u001b[0;36m1.49e-07\u001b[0m\u001b[0;34m,\u001b[0m \u001b[0mepsrel\u001b[0m\u001b[0;34m=\u001b[0m\u001b[0;36m1.49e-07\u001b[0m\u001b[0;34m)\u001b[0m\u001b[0;34m\u001b[0m\u001b[0m\n\u001b[0m\u001b[1;32m     55\u001b[0m     \u001b[0;32mreturn\u001b[0m \u001b[0moutput\u001b[0m\u001b[0;34m[\u001b[0m\u001b[0;36m0\u001b[0m\u001b[0;34m]\u001b[0m\u001b[0;34m\u001b[0m\u001b[0m\n\u001b[1;32m     56\u001b[0m \u001b[0;34m\u001b[0m\u001b[0m\n",
      "\u001b[0;32m~/.local/lib/python3.6/site-packages/scipy/integrate/quadpack.py\u001b[0m in \u001b[0;36mquad\u001b[0;34m(func, a, b, args, full_output, epsabs, epsrel, limit, points, weight, wvar, wopts, maxp1, limlst)\u001b[0m\n\u001b[1;32m    339\u001b[0m     \u001b[0;32mif\u001b[0m \u001b[0mweight\u001b[0m \u001b[0;32mis\u001b[0m \u001b[0;32mNone\u001b[0m\u001b[0;34m:\u001b[0m\u001b[0;34m\u001b[0m\u001b[0m\n\u001b[1;32m    340\u001b[0m         retval = _quad(func, a, b, args, full_output, epsabs, epsrel, limit,\n\u001b[0;32m--> 341\u001b[0;31m                        points)\n\u001b[0m\u001b[1;32m    342\u001b[0m     \u001b[0;32melse\u001b[0m\u001b[0;34m:\u001b[0m\u001b[0;34m\u001b[0m\u001b[0m\n\u001b[1;32m    343\u001b[0m         retval = _quad_weight(func, a, b, args, full_output, epsabs, epsrel,\n",
      "\u001b[0;32m~/.local/lib/python3.6/site-packages/scipy/integrate/quadpack.py\u001b[0m in \u001b[0;36m_quad\u001b[0;34m(func, a, b, args, full_output, epsabs, epsrel, limit, points)\u001b[0m\n\u001b[1;32m    446\u001b[0m     \u001b[0;32mif\u001b[0m \u001b[0mpoints\u001b[0m \u001b[0;32mis\u001b[0m \u001b[0;32mNone\u001b[0m\u001b[0;34m:\u001b[0m\u001b[0;34m\u001b[0m\u001b[0m\n\u001b[1;32m    447\u001b[0m         \u001b[0;32mif\u001b[0m \u001b[0minfbounds\u001b[0m \u001b[0;34m==\u001b[0m \u001b[0;36m0\u001b[0m\u001b[0;34m:\u001b[0m\u001b[0;34m\u001b[0m\u001b[0m\n\u001b[0;32m--> 448\u001b[0;31m             \u001b[0;32mreturn\u001b[0m \u001b[0m_quadpack\u001b[0m\u001b[0;34m.\u001b[0m\u001b[0m_qagse\u001b[0m\u001b[0;34m(\u001b[0m\u001b[0mfunc\u001b[0m\u001b[0;34m,\u001b[0m\u001b[0ma\u001b[0m\u001b[0;34m,\u001b[0m\u001b[0mb\u001b[0m\u001b[0;34m,\u001b[0m\u001b[0margs\u001b[0m\u001b[0;34m,\u001b[0m\u001b[0mfull_output\u001b[0m\u001b[0;34m,\u001b[0m\u001b[0mepsabs\u001b[0m\u001b[0;34m,\u001b[0m\u001b[0mepsrel\u001b[0m\u001b[0;34m,\u001b[0m\u001b[0mlimit\u001b[0m\u001b[0;34m)\u001b[0m\u001b[0;34m\u001b[0m\u001b[0m\n\u001b[0m\u001b[1;32m    449\u001b[0m         \u001b[0;32melse\u001b[0m\u001b[0;34m:\u001b[0m\u001b[0;34m\u001b[0m\u001b[0m\n\u001b[1;32m    450\u001b[0m             \u001b[0;32mreturn\u001b[0m \u001b[0m_quadpack\u001b[0m\u001b[0;34m.\u001b[0m\u001b[0m_qagie\u001b[0m\u001b[0;34m(\u001b[0m\u001b[0mfunc\u001b[0m\u001b[0;34m,\u001b[0m\u001b[0mbound\u001b[0m\u001b[0;34m,\u001b[0m\u001b[0minfbounds\u001b[0m\u001b[0;34m,\u001b[0m\u001b[0margs\u001b[0m\u001b[0;34m,\u001b[0m\u001b[0mfull_output\u001b[0m\u001b[0;34m,\u001b[0m\u001b[0mepsabs\u001b[0m\u001b[0;34m,\u001b[0m\u001b[0mepsrel\u001b[0m\u001b[0;34m,\u001b[0m\u001b[0mlimit\u001b[0m\u001b[0;34m)\u001b[0m\u001b[0;34m\u001b[0m\u001b[0m\n",
      "\u001b[0;32m<ipython-input-32-435b2f7b9ba2>\u001b[0m in \u001b[0;36mintegrate_over_delta2\u001b[0;34m(delta3, p)\u001b[0m\n\u001b[1;32m     44\u001b[0m     \u001b[0mb\u001b[0m \u001b[0;34m=\u001b[0m \u001b[0mp\u001b[0m\u001b[0;34m[\u001b[0m\u001b[0;34m'mean_delta2'\u001b[0m\u001b[0;34m]\u001b[0m\u001b[0;34m+\u001b[0m\u001b[0;36m4\u001b[0m\u001b[0;34m*\u001b[0m\u001b[0mp\u001b[0m\u001b[0;34m[\u001b[0m\u001b[0;34m'sd_delta2'\u001b[0m\u001b[0;34m]\u001b[0m\u001b[0;34m\u001b[0m\u001b[0m\n\u001b[1;32m     45\u001b[0m     \u001b[0;31m# points =\u001b[0m\u001b[0;34m\u001b[0m\u001b[0;34m\u001b[0m\u001b[0m\n\u001b[0;32m---> 46\u001b[0;31m     \u001b[0moutput\u001b[0m \u001b[0;34m=\u001b[0m \u001b[0mintegrate\u001b[0m\u001b[0;34m.\u001b[0m\u001b[0mquad\u001b[0m\u001b[0;34m(\u001b[0m\u001b[0msteady_rho_for_integration\u001b[0m\u001b[0;34m,\u001b[0m \u001b[0ma\u001b[0m\u001b[0;34m,\u001b[0m \u001b[0mb\u001b[0m\u001b[0;34m,\u001b[0m \u001b[0margs\u001b[0m\u001b[0;34m=\u001b[0m\u001b[0;34m(\u001b[0m\u001b[0mdelta3\u001b[0m\u001b[0;34m,\u001b[0m\u001b[0mp\u001b[0m\u001b[0;34m)\u001b[0m\u001b[0;34m)\u001b[0m\u001b[0;34m\u001b[0m\u001b[0m\n\u001b[0m\u001b[1;32m     47\u001b[0m     \u001b[0;32mreturn\u001b[0m \u001b[0moutput\u001b[0m\u001b[0;34m[\u001b[0m\u001b[0;36m0\u001b[0m\u001b[0;34m]\u001b[0m\u001b[0;34m\u001b[0m\u001b[0m\n\u001b[1;32m     48\u001b[0m \u001b[0;34m\u001b[0m\u001b[0m\n",
      "\u001b[0;32m~/.local/lib/python3.6/site-packages/scipy/integrate/quadpack.py\u001b[0m in \u001b[0;36mquad\u001b[0;34m(func, a, b, args, full_output, epsabs, epsrel, limit, points, weight, wvar, wopts, maxp1, limlst)\u001b[0m\n\u001b[1;32m    339\u001b[0m     \u001b[0;32mif\u001b[0m \u001b[0mweight\u001b[0m \u001b[0;32mis\u001b[0m \u001b[0;32mNone\u001b[0m\u001b[0;34m:\u001b[0m\u001b[0;34m\u001b[0m\u001b[0m\n\u001b[1;32m    340\u001b[0m         retval = _quad(func, a, b, args, full_output, epsabs, epsrel, limit,\n\u001b[0;32m--> 341\u001b[0;31m                        points)\n\u001b[0m\u001b[1;32m    342\u001b[0m     \u001b[0;32melse\u001b[0m\u001b[0;34m:\u001b[0m\u001b[0;34m\u001b[0m\u001b[0m\n\u001b[1;32m    343\u001b[0m         retval = _quad_weight(func, a, b, args, full_output, epsabs, epsrel,\n",
      "\u001b[0;32m~/.local/lib/python3.6/site-packages/scipy/integrate/quadpack.py\u001b[0m in \u001b[0;36m_quad\u001b[0;34m(func, a, b, args, full_output, epsabs, epsrel, limit, points)\u001b[0m\n\u001b[1;32m    446\u001b[0m     \u001b[0;32mif\u001b[0m \u001b[0mpoints\u001b[0m \u001b[0;32mis\u001b[0m \u001b[0;32mNone\u001b[0m\u001b[0;34m:\u001b[0m\u001b[0;34m\u001b[0m\u001b[0m\n\u001b[1;32m    447\u001b[0m         \u001b[0;32mif\u001b[0m \u001b[0minfbounds\u001b[0m \u001b[0;34m==\u001b[0m \u001b[0;36m0\u001b[0m\u001b[0;34m:\u001b[0m\u001b[0;34m\u001b[0m\u001b[0m\n\u001b[0;32m--> 448\u001b[0;31m             \u001b[0;32mreturn\u001b[0m \u001b[0m_quadpack\u001b[0m\u001b[0;34m.\u001b[0m\u001b[0m_qagse\u001b[0m\u001b[0;34m(\u001b[0m\u001b[0mfunc\u001b[0m\u001b[0;34m,\u001b[0m\u001b[0ma\u001b[0m\u001b[0;34m,\u001b[0m\u001b[0mb\u001b[0m\u001b[0;34m,\u001b[0m\u001b[0margs\u001b[0m\u001b[0;34m,\u001b[0m\u001b[0mfull_output\u001b[0m\u001b[0;34m,\u001b[0m\u001b[0mepsabs\u001b[0m\u001b[0;34m,\u001b[0m\u001b[0mepsrel\u001b[0m\u001b[0;34m,\u001b[0m\u001b[0mlimit\u001b[0m\u001b[0;34m)\u001b[0m\u001b[0;34m\u001b[0m\u001b[0m\n\u001b[0m\u001b[1;32m    449\u001b[0m         \u001b[0;32melse\u001b[0m\u001b[0;34m:\u001b[0m\u001b[0;34m\u001b[0m\u001b[0m\n\u001b[1;32m    450\u001b[0m             \u001b[0;32mreturn\u001b[0m \u001b[0m_quadpack\u001b[0m\u001b[0;34m.\u001b[0m\u001b[0m_qagie\u001b[0m\u001b[0;34m(\u001b[0m\u001b[0mfunc\u001b[0m\u001b[0;34m,\u001b[0m\u001b[0mbound\u001b[0m\u001b[0;34m,\u001b[0m\u001b[0minfbounds\u001b[0m\u001b[0;34m,\u001b[0m\u001b[0margs\u001b[0m\u001b[0;34m,\u001b[0m\u001b[0mfull_output\u001b[0m\u001b[0;34m,\u001b[0m\u001b[0mepsabs\u001b[0m\u001b[0;34m,\u001b[0m\u001b[0mepsrel\u001b[0m\u001b[0;34m,\u001b[0m\u001b[0mlimit\u001b[0m\u001b[0;34m)\u001b[0m\u001b[0;34m\u001b[0m\u001b[0m\n",
      "\u001b[0;31mTypeError\u001b[0m: can't convert complex to float"
     ]
    }
   ],
   "source": [
    "ensemble_steady_rho(p)\n",
    "\n"
   ]
  },
  {
   "cell_type": "code",
   "execution_count": null,
   "metadata": {},
   "outputs": [],
   "source": [
    "from scipy import integrate\n",
    "\n",
    "integrate.quad\n"
   ]
  },
  {
   "cell_type": "code",
   "execution_count": null,
   "metadata": {},
   "outputs": [],
   "source": []
  },
  {
   "cell_type": "code",
   "execution_count": null,
   "metadata": {},
   "outputs": [],
   "source": [
    "\n"
   ]
  },
  {
   "cell_type": "code",
   "execution_count": null,
   "metadata": {},
   "outputs": [],
   "source": []
  },
  {
   "cell_type": "markdown",
   "metadata": {},
   "source": [
    "\n",
    "\n",
    "\n"
   ]
  },
  {
   "cell_type": "code",
   "execution_count": null,
   "metadata": {},
   "outputs": [],
   "source": []
  },
  {
   "cell_type": "code",
   "execution_count": null,
   "metadata": {},
   "outputs": [],
   "source": []
  },
  {
   "cell_type": "code",
   "execution_count": null,
   "metadata": {},
   "outputs": [],
   "source": []
  },
  {
   "cell_type": "code",
   "execution_count": null,
   "metadata": {},
   "outputs": [],
   "source": []
  },
  {
   "cell_type": "code",
   "execution_count": null,
   "metadata": {},
   "outputs": [],
   "source": []
  },
  {
   "cell_type": "code",
   "execution_count": null,
   "metadata": {},
   "outputs": [],
   "source": []
  },
  {
   "cell_type": "code",
   "execution_count": null,
   "metadata": {},
   "outputs": [],
   "source": []
  },
  {
   "cell_type": "code",
   "execution_count": null,
   "metadata": {},
   "outputs": [],
   "source": []
  },
  {
   "cell_type": "code",
   "execution_count": null,
   "metadata": {},
   "outputs": [],
   "source": []
  }
 ],
 "metadata": {
  "anaconda-cloud": {},
  "kernelspec": {
   "display_name": "Python 3",
   "language": "python",
   "name": "python3"
  },
  "language_info": {
   "codemirror_mode": {
    "name": "ipython",
    "version": 3
   },
   "file_extension": ".py",
   "mimetype": "text/x-python",
   "name": "python",
   "nbconvert_exporter": "python",
   "pygments_lexer": "ipython3",
   "version": "3.6.5"
  }
 },
 "nbformat": 4,
 "nbformat_minor": 1
}
