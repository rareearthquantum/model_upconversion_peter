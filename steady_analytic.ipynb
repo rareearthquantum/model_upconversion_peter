{
 "cells": [
  {
   "cell_type": "code",
   "execution_count": 1,
   "metadata": {},
   "outputs": [],
   "source": [
    "import sympy as sym\n",
    "import numpy as np\n",
    "from scipy import integrate\n",
    "\n",
    "import math\n",
    "\n",
    "from sympy.functions import Heaviside, sin, cos, sqrt\n",
    "sym.init_printing()\n",
    "\n",
    "import matplotlib.pyplot as plt\n",
    "#from sympy.vector import *\n",
    "from sympy import I, Matrix, symbols\n",
    "from sympy.physics.quantum import TensorProduct,Dagger\n",
    "\n",
    "\n",
    "import qutip\n",
    "# This IPython magic generates a table with version information\n",
    "#https://github.com/jrjohansson/version_information\n",
    "#%load_ext version_information\n",
    "%load_ext cython"
   ]
  },
  {
   "cell_type": "code",
   "execution_count": 2,
   "metadata": {},
   "outputs": [],
   "source": [
    "def spre(m):\n",
    "    return TensorProduct(sym.eye(m.shape[0]),m)\n",
    "\n",
    "\n",
    "def spost(m):\n",
    "    return TensorProduct(m.T,sym.eye(m.shape[0]))\n",
    "\n",
    "def collapse(c):\n",
    "    temp = Dagger(c)*c\n",
    "    return 2*spre(c)*spost(Dagger(c))-spre(temp)-spost(temp)\n",
    "\n",
    "\n",
    "s13=Matrix([[0,0,1],[0,0,0],[0,0,0]])\n",
    "s23=Matrix([[0,0,0],[0,0,1],[0,0,0]])\n",
    "s12=Matrix([[0,1,0],[0,0,0],[0,0,0]])\n",
    "\n",
    "s31=s13.T\n",
    "s32=s23.T\n",
    "s21=s12.T\n",
    "\n",
    "s11 = s12*s21\n",
    "s22 = s21*s12\n",
    "s33 = s31*s13\n",
    "\n"
   ]
  },
  {
   "cell_type": "markdown",
   "metadata": {},
   "source": [
    "### Checking spre and spost agree with qutip\n",
    "\n",
    "Note: This notebook uses Frotran (colum first) order when flattening matricies."
   ]
  },
  {
   "cell_type": "code",
   "execution_count": 3,
   "metadata": {},
   "outputs": [
    {
     "data": {
      "text/plain": [
       "(Matrix([\n",
       " [0, -I],\n",
       " [I,  0]]),\n",
       " Quantum object: dims = [[2], [2]], shape = (2, 2), type = oper, isherm = True\n",
       " Qobj data =\n",
       " [[0.+0.j 0.-1.j]\n",
       "  [0.+1.j 0.+0.j]])"
      ]
     },
     "execution_count": 3,
     "metadata": {},
     "output_type": "execute_result"
    }
   ],
   "source": [
    "sigmay = Matrix([[0, -I], [I, 0 ]])\n",
    "sigmay, qutip.sigmay()"
   ]
  },
  {
   "cell_type": "code",
   "execution_count": 4,
   "metadata": {},
   "outputs": [
    {
     "data": {
      "text/latex": [
       "Quantum object: dims = [[2], [2]], shape = (2, 2), type = oper, isherm = True\\begin{equation*}\\left(\\begin{array}{*{11}c}0.0 & -1.0j\\\\1.0j & 0.0\\\\\\end{array}\\right)\\end{equation*}"
      ],
      "text/plain": [
       "Quantum object: dims = [[2], [2]], shape = (2, 2), type = oper, isherm = True\n",
       "Qobj data =\n",
       "[[0.+0.j 0.-1.j]\n",
       " [0.+1.j 0.+0.j]]"
      ]
     },
     "execution_count": 4,
     "metadata": {},
     "output_type": "execute_result"
    }
   ],
   "source": [
    "qutip.sigmay()"
   ]
  },
  {
   "cell_type": "code",
   "execution_count": 5,
   "metadata": {},
   "outputs": [
    {
     "data": {
      "text/plain": [
       "(Matrix([\n",
       " [0, -I, 0,  0],\n",
       " [I,  0, 0,  0],\n",
       " [0,  0, 0, -I],\n",
       " [0,  0, I,  0]]),\n",
       " Quantum object: dims = [[[2], [2]], [[2], [2]]], shape = (4, 4), type = super, isherm = True\n",
       " Qobj data =\n",
       " [[0.+0.j 0.-1.j 0.+0.j 0.+0.j]\n",
       "  [0.+1.j 0.+0.j 0.+0.j 0.+0.j]\n",
       "  [0.+0.j 0.+0.j 0.+0.j 0.-1.j]\n",
       "  [0.+0.j 0.+0.j 0.+1.j 0.+0.j]])"
      ]
     },
     "execution_count": 5,
     "metadata": {},
     "output_type": "execute_result"
    }
   ],
   "source": [
    "spre(sigmay),qutip.spre(qutip.sigmay())"
   ]
  },
  {
   "cell_type": "code",
   "execution_count": 6,
   "metadata": {},
   "outputs": [
    {
     "data": {
      "text/plain": [
       "(Matrix([\n",
       " [ 0,  0, I, 0],\n",
       " [ 0,  0, 0, I],\n",
       " [-I,  0, 0, 0],\n",
       " [ 0, -I, 0, 0]]),\n",
       " Quantum object: dims = [[[2], [2]], [[2], [2]]], shape = (4, 4), type = super, isherm = True\n",
       " Qobj data =\n",
       " [[0.+0.j 0.+0.j 0.+1.j 0.+0.j]\n",
       "  [0.+0.j 0.+0.j 0.+0.j 0.+1.j]\n",
       "  [0.-1.j 0.+0.j 0.+0.j 0.+0.j]\n",
       "  [0.+0.j 0.-1.j 0.+0.j 0.+0.j]])"
      ]
     },
     "execution_count": 6,
     "metadata": {},
     "output_type": "execute_result"
    }
   ],
   "source": [
    "spost(sigmay),qutip.spost(qutip.sigmay())"
   ]
  },
  {
   "cell_type": "code",
   "execution_count": 7,
   "metadata": {},
   "outputs": [],
   "source": [
    "delta2,delta3 = sym.symbols('delta_2 delta_3',real=True)\n",
    "gamma13,gamma23,gamma2d,gamma3d,nbath,gammamu = sym.symbols('gamma_13 gamma_23 gamma_2d gamma_3d n_b gamma_mu', real=True, negative=False)\n",
    "omegao,omegam = sym.symbols('Omega_o Omega_mu', real=True, negative=False)\n",
    "a = sym.symbols('a')\n",
    "ar,ai = sym.symbols('a_r a_i',real=True)\n",
    "\n",
    "g = sym.symbols('g',real=True, negative=False)\n"
   ]
  },
  {
   "cell_type": "code",
   "execution_count": 8,
   "metadata": {},
   "outputs": [
    {
     "data": {
      "text/latex": [
       "$$\\left[\\begin{matrix}1 & 0 & 0 & 0 & 1 & 0 & 0 & 0 & 1\\\\- i \\Omega_{\\mu} & - i \\delta_{2} - \\frac{\\gamma_{2d}}{2} - \\frac{\\gamma_{\\mu} n_{b}}{2} - \\frac{\\gamma_{\\mu} \\left(n_{b} + 1\\right)}{2} & - i \\Omega_{o} & 0 & i \\Omega_{\\mu} & 0 & 0 & i a g & 0\\\\- i a g & - i \\Omega_{o} & - i \\delta_{3} - \\frac{\\gamma_{13}}{2} - \\frac{\\gamma_{23}}{2} - \\frac{\\gamma_{3d}}{2} - \\frac{\\gamma_{\\mu} n_{b}}{2} & 0 & 0 & i \\Omega_{\\mu} & 0 & 0 & i a g\\\\i \\Omega_{\\mu} & 0 & 0 & i \\delta_{2} - \\frac{\\gamma_{2d}}{2} - \\frac{\\gamma_{\\mu} n_{b}}{2} - \\frac{\\gamma_{\\mu} \\left(n_{b} + 1\\right)}{2} & - i \\Omega_{\\mu} & - i g \\overline{a} & i \\Omega_{o} & 0 & 0\\\\\\gamma_{\\mu} n_{b} & i \\Omega_{\\mu} & 0 & - i \\Omega_{\\mu} & - \\gamma_{\\mu} \\left(n_{b} + 1\\right) & - i \\Omega_{o} & 0 & i \\Omega_{o} & \\gamma_{23}\\\\0 & 0 & i \\Omega_{\\mu} & - i a g & - i \\Omega_{o} & i \\delta_{2} - i \\delta_{3} - \\frac{\\gamma_{13}}{2} - \\frac{\\gamma_{23}}{2} - \\frac{\\gamma_{2d}}{2} - \\frac{\\gamma_{3d}}{2} - \\frac{\\gamma_{\\mu} \\left(n_{b} + 1\\right)}{2} & 0 & 0 & i \\Omega_{o}\\\\i g \\overline{a} & 0 & 0 & i \\Omega_{o} & 0 & 0 & i \\delta_{3} - \\frac{\\gamma_{13}}{2} - \\frac{\\gamma_{23}}{2} - \\frac{\\gamma_{3d}}{2} - \\frac{\\gamma_{\\mu} n_{b}}{2} & - i \\Omega_{\\mu} & - i g \\overline{a}\\\\0 & i g \\overline{a} & 0 & 0 & i \\Omega_{o} & 0 & - i \\Omega_{\\mu} & - i \\delta_{2} + i \\delta_{3} - \\frac{\\gamma_{13}}{2} - \\frac{\\gamma_{23}}{2} - \\frac{\\gamma_{2d}}{2} - \\frac{\\gamma_{3d}}{2} - \\frac{\\gamma_{\\mu} \\left(n_{b} + 1\\right)}{2} & - i \\Omega_{o}\\\\0 & 0 & i g \\overline{a} & 0 & 0 & i \\Omega_{o} & - i a g & - i \\Omega_{o} & - \\gamma_{13} - \\gamma_{23}\\end{matrix}\\right]$$"
      ],
      "text/plain": [
       "⎡   1                       0                                     0           \n",
       "⎢                                                                             \n",
       "⎢                 γ_2d   γₘᵤ⋅n_b   γₘᵤ⋅(n_b + 1)                              \n",
       "⎢-ⅈ⋅Ωₘᵤ   -ⅈ⋅δ₂ - ──── - ─────── - ─────────────                -ⅈ⋅Ωₒ         \n",
       "⎢                  2        2            2                                    \n",
       "⎢                                                                             \n",
       "⎢                                                         γ₁₃   γ₂₃   γ_3d   γ\n",
       "⎢-ⅈ⋅a⋅g                   -ⅈ⋅Ωₒ                   -ⅈ⋅δ₃ - ─── - ─── - ──── - ─\n",
       "⎢                                                          2     2     2      \n",
       "⎢                                                                             \n",
       "⎢                                                                             \n",
       "⎢ ⅈ⋅Ωₘᵤ                     0                                     0           \n",
       "⎢                                                                             \n",
       "⎢                                                                             \n",
       "⎢γₘᵤ⋅n_b                  ⅈ⋅Ωₘᵤ                                   0           \n",
       "⎢                                                                             \n",
       "⎢                                                                             \n",
       "⎢   0                       0                                   ⅈ⋅Ωₘᵤ         \n",
       "⎢                                                                             \n",
       "⎢                                                                             \n",
       "⎢     _                                                                       \n",
       "⎢ ⅈ⋅g⋅a                     0                                     0           \n",
       "⎢                                                                             \n",
       "⎢                                                                             \n",
       "⎢                             _                                               \n",
       "⎢   0                     ⅈ⋅g⋅a                                   0           \n",
       "⎢                                                                             \n",
       "⎢                                                                             \n",
       "⎢                                                                   _         \n",
       "⎣   0                       0                                   ⅈ⋅g⋅a         \n",
       "\n",
       "                          0                          1                        \n",
       "                                                                              \n",
       "                                                                              \n",
       "                          0                        ⅈ⋅Ωₘᵤ                      \n",
       "                                                                              \n",
       "                                                                              \n",
       "ₘᵤ⋅n_b                                                                        \n",
       "──────                    0                          0                        \n",
       "  2                                                                           \n",
       "                                                                              \n",
       "               γ_2d   γₘᵤ⋅n_b   γₘᵤ⋅(n_b + 1)                                 \n",
       "        ⅈ⋅δ₂ - ──── - ─────── - ─────────────      -ⅈ⋅Ωₘᵤ                     \n",
       "                2        2            2                                       \n",
       "                                                                              \n",
       "                       -ⅈ⋅Ωₘᵤ                  -γₘᵤ⋅(n_b + 1)                 \n",
       "                                                                              \n",
       "                                                                             γ\n",
       "                       -ⅈ⋅a⋅g                      -ⅈ⋅Ωₒ       ⅈ⋅δ₂ - ⅈ⋅δ₃ - ─\n",
       "                                                                              \n",
       "                                                                              \n",
       "                                                                              \n",
       "                        ⅈ⋅Ωₒ                         0                        \n",
       "                                                                              \n",
       "                                                                              \n",
       "                                                                              \n",
       "                          0                         ⅈ⋅Ωₒ                      \n",
       "                                                                              \n",
       "                                                                              \n",
       "                                                                              \n",
       "                          0                          0                        \n",
       "\n",
       "           0                                            0                     \n",
       "                                                                              \n",
       "                                                                              \n",
       "           0                                            0                     \n",
       "                                                                              \n",
       "                                                                              \n",
       "                                                                              \n",
       "         ⅈ⋅Ωₘᵤ                                          0                     \n",
       "                                                                              \n",
       "                                                                              \n",
       "             _                                                                \n",
       "        -ⅈ⋅g⋅a                                        ⅈ⋅Ωₒ                    \n",
       "                                                                              \n",
       "                                                                              \n",
       "         -ⅈ⋅Ωₒ                                          0                     \n",
       "                                                                              \n",
       "₁₃   γ₂₃   γ_2d   γ_3d   γₘᵤ⋅(n_b + 1)                                        \n",
       "── - ─── - ──── - ──── - ─────────────                  0                     \n",
       "2     2     2      2           2                                              \n",
       "                                                                              \n",
       "                                               γ₁₃   γ₂₃   γ_3d   γₘᵤ⋅n_b     \n",
       "           0                            ⅈ⋅δ₃ - ─── - ─── - ──── - ───────     \n",
       "                                                2     2     2        2        \n",
       "                                                                              \n",
       "                                                                              \n",
       "           0                                         -ⅈ⋅Ωₘᵤ                -ⅈ⋅\n",
       "                                                                              \n",
       "                                                                              \n",
       "                                                                              \n",
       "         ⅈ⋅Ωₒ                                        -ⅈ⋅a⋅g                   \n",
       "\n",
       "                       0                                 1     ⎤\n",
       "                                                               ⎥\n",
       "                                                               ⎥\n",
       "                     ⅈ⋅a⋅g                               0     ⎥\n",
       "                                                               ⎥\n",
       "                                                               ⎥\n",
       "                                                               ⎥\n",
       "                       0                               ⅈ⋅a⋅g   ⎥\n",
       "                                                               ⎥\n",
       "                                                               ⎥\n",
       "                                                               ⎥\n",
       "                       0                                 0     ⎥\n",
       "                                                               ⎥\n",
       "                                                               ⎥\n",
       "                      ⅈ⋅Ωₒ                              γ₂₃    ⎥\n",
       "                                                               ⎥\n",
       "                                                               ⎥\n",
       "                       0                                ⅈ⋅Ωₒ   ⎥\n",
       "                                                               ⎥\n",
       "                                                               ⎥\n",
       "                                                            _  ⎥\n",
       "                     -ⅈ⋅Ωₘᵤ                            -ⅈ⋅g⋅a  ⎥\n",
       "                                                               ⎥\n",
       "                                                               ⎥\n",
       "            γ₁₃   γ₂₃   γ_2d   γ_3d   γₘᵤ⋅(n_b + 1)            ⎥\n",
       "δ₂ + ⅈ⋅δ₃ - ─── - ─── - ──── - ──── - ─────────────    -ⅈ⋅Ωₒ   ⎥\n",
       "             2     2     2      2           2                  ⎥\n",
       "                                                               ⎥\n",
       "                                                               ⎥\n",
       "                     -ⅈ⋅Ωₒ                           -γ₁₃ - γ₂₃⎦"
      ]
     },
     "execution_count": 8,
     "metadata": {},
     "output_type": "execute_result"
    }
   ],
   "source": [
    "H =  omegam*s21 + omegao*s32 + g*a*s31\n",
    "H = H + Dagger(H)\n",
    "H = H + delta2*s22 + delta3*s33\n",
    "LH = -I*spre(H)+I*spost(H) \n",
    "\n",
    "L21 = gammamu/2*(nbath+1)*collapse(s12)\n",
    "L12 = gammamu/2*(nbath)*collapse(s21)\n",
    "L32 = gamma23/2*collapse(s23)\n",
    "L31 = gamma13/2*collapse(s13)\n",
    "L22 = gamma2d/2*collapse(s22)\n",
    "L33 = gamma3d/2*collapse(s33)\n",
    "\n",
    "L = LH + L21 + L12 + L32 + L31 + L22 + L33\n",
    "\n",
    "#becausetrace rho = 1 we can replace first row\n",
    "L = L.row_insert(0,Matrix([[1,0,0,0,1,0,0,0,1]]))\n",
    "L.row_del(1)\n",
    "\n",
    "L"
   ]
  },
  {
   "cell_type": "code",
   "execution_count": 9,
   "metadata": {},
   "outputs": [
    {
     "data": {
      "text/latex": [
       "$$\\left[\\begin{matrix}0 & \\Omega_{\\mu} & g \\overline{a}\\\\\\Omega_{\\mu} & \\delta_{2} & \\Omega_{o}\\\\a g & \\Omega_{o} & \\delta_{3}\\end{matrix}\\right]$$"
      ],
      "text/plain": [
       "⎡            _⎤\n",
       "⎢ 0   Ωₘᵤ  g⋅a⎥\n",
       "⎢             ⎥\n",
       "⎢Ωₘᵤ  δ₂   Ωₒ ⎥\n",
       "⎢             ⎥\n",
       "⎣a⋅g  Ωₒ   δ₃ ⎦"
      ]
     },
     "execution_count": 9,
     "metadata": {},
     "output_type": "execute_result"
    }
   ],
   "source": [
    "H"
   ]
  },
  {
   "cell_type": "code",
   "execution_count": 10,
   "metadata": {},
   "outputs": [
    {
     "data": {
      "text/latex": [
       "$$\\left[\\begin{matrix}1 & 0 & 0\\\\- i \\Omega_{\\mu} & - i \\delta_{2} - \\frac{\\gamma_{2d}}{2} - \\frac{\\gamma_{\\mu} n_{b}}{2} - \\frac{\\gamma_{\\mu} \\left(n_{b} + 1\\right)}{2} & - i \\Omega_{o}\\\\- i a g & - i \\Omega_{o} & - i \\delta_{3} - \\frac{\\gamma_{13}}{2} - \\frac{\\gamma_{23}}{2} - \\frac{\\gamma_{3d}}{2} - \\frac{\\gamma_{\\mu} n_{b}}{2}\\\\i \\Omega_{\\mu} & 0 & 0\\\\\\gamma_{\\mu} n_{b} & i \\Omega_{\\mu} & 0\\\\0 & 0 & i \\Omega_{\\mu}\\\\i g \\overline{a} & 0 & 0\\\\0 & i g \\overline{a} & 0\\\\0 & 0 & i g \\overline{a}\\end{matrix}\\right]$$"
      ],
      "text/plain": [
       "⎡   1                       0                                     0           \n",
       "⎢                                                                             \n",
       "⎢                 γ_2d   γₘᵤ⋅n_b   γₘᵤ⋅(n_b + 1)                              \n",
       "⎢-ⅈ⋅Ωₘᵤ   -ⅈ⋅δ₂ - ──── - ─────── - ─────────────                -ⅈ⋅Ωₒ         \n",
       "⎢                  2        2            2                                    \n",
       "⎢                                                                             \n",
       "⎢                                                         γ₁₃   γ₂₃   γ_3d   γ\n",
       "⎢-ⅈ⋅a⋅g                   -ⅈ⋅Ωₒ                   -ⅈ⋅δ₃ - ─── - ─── - ──── - ─\n",
       "⎢                                                          2     2     2      \n",
       "⎢                                                                             \n",
       "⎢ ⅈ⋅Ωₘᵤ                     0                                     0           \n",
       "⎢                                                                             \n",
       "⎢γₘᵤ⋅n_b                  ⅈ⋅Ωₘᵤ                                   0           \n",
       "⎢                                                                             \n",
       "⎢   0                       0                                   ⅈ⋅Ωₘᵤ         \n",
       "⎢                                                                             \n",
       "⎢     _                                                                       \n",
       "⎢ ⅈ⋅g⋅a                     0                                     0           \n",
       "⎢                                                                             \n",
       "⎢                             _                                               \n",
       "⎢   0                     ⅈ⋅g⋅a                                   0           \n",
       "⎢                                                                             \n",
       "⎢                                                                   _         \n",
       "⎣   0                       0                                   ⅈ⋅g⋅a         \n",
       "\n",
       "      ⎤\n",
       "      ⎥\n",
       "      ⎥\n",
       "      ⎥\n",
       "      ⎥\n",
       "      ⎥\n",
       "ₘᵤ⋅n_b⎥\n",
       "──────⎥\n",
       "  2   ⎥\n",
       "      ⎥\n",
       "      ⎥\n",
       "      ⎥\n",
       "      ⎥\n",
       "      ⎥\n",
       "      ⎥\n",
       "      ⎥\n",
       "      ⎥\n",
       "      ⎥\n",
       "      ⎥\n",
       "      ⎥\n",
       "      ⎥\n",
       "      ⎥\n",
       "      ⎥\n",
       "      ⎦"
      ]
     },
     "execution_count": 10,
     "metadata": {},
     "output_type": "execute_result"
    }
   ],
   "source": [
    "L[:,0:3] #because the matrix gets clipped when exporting to PDF"
   ]
  },
  {
   "cell_type": "code",
   "execution_count": 11,
   "metadata": {},
   "outputs": [
    {
     "data": {
      "text/latex": [
       "$$\\left[\\begin{matrix}0 & 1 & 0\\\\0 & i \\Omega_{\\mu} & 0\\\\0 & 0 & i \\Omega_{\\mu}\\\\i \\delta_{2} - \\frac{\\gamma_{2d}}{2} - \\frac{\\gamma_{\\mu} n_{b}}{2} - \\frac{\\gamma_{\\mu} \\left(n_{b} + 1\\right)}{2} & - i \\Omega_{\\mu} & - i g \\overline{a}\\\\- i \\Omega_{\\mu} & - \\gamma_{\\mu} \\left(n_{b} + 1\\right) & - i \\Omega_{o}\\\\- i a g & - i \\Omega_{o} & i \\delta_{2} - i \\delta_{3} - \\frac{\\gamma_{13}}{2} - \\frac{\\gamma_{23}}{2} - \\frac{\\gamma_{2d}}{2} - \\frac{\\gamma_{3d}}{2} - \\frac{\\gamma_{\\mu} \\left(n_{b} + 1\\right)}{2}\\\\i \\Omega_{o} & 0 & 0\\\\0 & i \\Omega_{o} & 0\\\\0 & 0 & i \\Omega_{o}\\end{matrix}\\right]$$"
      ],
      "text/plain": [
       "⎡                  0                          1                               \n",
       "⎢                                                                             \n",
       "⎢                  0                        ⅈ⋅Ωₘᵤ                             \n",
       "⎢                                                                             \n",
       "⎢                  0                          0                               \n",
       "⎢                                                                             \n",
       "⎢       γ_2d   γₘᵤ⋅n_b   γₘᵤ⋅(n_b + 1)                                        \n",
       "⎢ⅈ⋅δ₂ - ──── - ─────── - ─────────────      -ⅈ⋅Ωₘᵤ                            \n",
       "⎢        2        2            2                                              \n",
       "⎢                                                                             \n",
       "⎢               -ⅈ⋅Ωₘᵤ                  -γₘᵤ⋅(n_b + 1)                        \n",
       "⎢                                                                             \n",
       "⎢                                                                     γ₁₃   γ₂\n",
       "⎢               -ⅈ⋅a⋅g                      -ⅈ⋅Ωₒ       ⅈ⋅δ₂ - ⅈ⋅δ₃ - ─── - ──\n",
       "⎢                                                                      2     2\n",
       "⎢                                                                             \n",
       "⎢                ⅈ⋅Ωₒ                         0                               \n",
       "⎢                                                                             \n",
       "⎢                  0                         ⅈ⋅Ωₒ                             \n",
       "⎢                                                                             \n",
       "⎣                  0                          0                               \n",
       "\n",
       "    0                          ⎤\n",
       "                               ⎥\n",
       "    0                          ⎥\n",
       "                               ⎥\n",
       "  ⅈ⋅Ωₘᵤ                        ⎥\n",
       "                               ⎥\n",
       "      _                        ⎥\n",
       " -ⅈ⋅g⋅a                        ⎥\n",
       "                               ⎥\n",
       "                               ⎥\n",
       "  -ⅈ⋅Ωₒ                        ⎥\n",
       "                               ⎥\n",
       "₃   γ_2d   γ_3d   γₘᵤ⋅(n_b + 1)⎥\n",
       "─ - ──── - ──── - ─────────────⎥\n",
       "     2      2           2      ⎥\n",
       "                               ⎥\n",
       "    0                          ⎥\n",
       "                               ⎥\n",
       "    0                          ⎥\n",
       "                               ⎥\n",
       "  ⅈ⋅Ωₒ                         ⎦"
      ]
     },
     "execution_count": 11,
     "metadata": {},
     "output_type": "execute_result"
    }
   ],
   "source": [
    "L[:,3:6]"
   ]
  },
  {
   "cell_type": "code",
   "execution_count": 12,
   "metadata": {},
   "outputs": [
    {
     "data": {
      "text/latex": [
       "$$\\left[\\begin{matrix}0 & 0 & 1\\\\0 & i a g & 0\\\\0 & 0 & i a g\\\\i \\Omega_{o} & 0 & 0\\\\0 & i \\Omega_{o} & \\gamma_{23}\\\\0 & 0 & i \\Omega_{o}\\\\i \\delta_{3} - \\frac{\\gamma_{13}}{2} - \\frac{\\gamma_{23}}{2} - \\frac{\\gamma_{3d}}{2} - \\frac{\\gamma_{\\mu} n_{b}}{2} & - i \\Omega_{\\mu} & - i g \\overline{a}\\\\- i \\Omega_{\\mu} & - i \\delta_{2} + i \\delta_{3} - \\frac{\\gamma_{13}}{2} - \\frac{\\gamma_{23}}{2} - \\frac{\\gamma_{2d}}{2} - \\frac{\\gamma_{3d}}{2} - \\frac{\\gamma_{\\mu} \\left(n_{b} + 1\\right)}{2} & - i \\Omega_{o}\\\\- i a g & - i \\Omega_{o} & - \\gamma_{13} - \\gamma_{23}\\end{matrix}\\right]$$"
      ],
      "text/plain": [
       "⎡                0                                            0               \n",
       "⎢                                                                             \n",
       "⎢                0                                          ⅈ⋅a⋅g             \n",
       "⎢                                                                             \n",
       "⎢                0                                            0               \n",
       "⎢                                                                             \n",
       "⎢              ⅈ⋅Ωₒ                                           0               \n",
       "⎢                                                                             \n",
       "⎢                0                                           ⅈ⋅Ωₒ             \n",
       "⎢                                                                             \n",
       "⎢                0                                            0               \n",
       "⎢                                                                             \n",
       "⎢       γ₁₃   γ₂₃   γ_3d   γₘᵤ⋅n_b                                            \n",
       "⎢ⅈ⋅δ₃ - ─── - ─── - ──── - ───────                          -ⅈ⋅Ωₘᵤ            \n",
       "⎢        2     2     2        2                                               \n",
       "⎢                                                                             \n",
       "⎢                                                  γ₁₃   γ₂₃   γ_2d   γ_3d   γ\n",
       "⎢             -ⅈ⋅Ωₘᵤ                -ⅈ⋅δ₂ + ⅈ⋅δ₃ - ─── - ─── - ──── - ──── - ─\n",
       "⎢                                                   2     2     2      2      \n",
       "⎢                                                                             \n",
       "⎣             -ⅈ⋅a⋅g                                        -ⅈ⋅Ωₒ             \n",
       "\n",
       "                  1     ⎤\n",
       "                        ⎥\n",
       "                  0     ⎥\n",
       "                        ⎥\n",
       "                ⅈ⋅a⋅g   ⎥\n",
       "                        ⎥\n",
       "                  0     ⎥\n",
       "                        ⎥\n",
       "                 γ₂₃    ⎥\n",
       "                        ⎥\n",
       "                 ⅈ⋅Ωₒ   ⎥\n",
       "                        ⎥\n",
       "                     _  ⎥\n",
       "                -ⅈ⋅g⋅a  ⎥\n",
       "                        ⎥\n",
       "                        ⎥\n",
       "ₘᵤ⋅(n_b + 1)            ⎥\n",
       "────────────    -ⅈ⋅Ωₒ   ⎥\n",
       "     2                  ⎥\n",
       "                        ⎥\n",
       "              -γ₁₃ - γ₂₃⎦"
      ]
     },
     "execution_count": 12,
     "metadata": {},
     "output_type": "execute_result"
    }
   ],
   "source": [
    "L[:,6:]"
   ]
  },
  {
   "cell_type": "code",
   "execution_count": 13,
   "metadata": {},
   "outputs": [
    {
     "data": {
      "image/png": "[encoded data removed]",
      "text/latex": [
       "$$\\rho_{13}$$"
      ],
      "text/plain": [
       "ρ₁₃"
      ]
     },
     "execution_count": 13,
     "metadata": {},
     "output_type": "execute_result"
    }
   ],
   "source": [
    "rho11,rho12,rho13,rho21,rho22,rho23,rho31,rho32,rho33 = sym.symbols('rho_11 rho_12 rho_13 rho_21 rho_22 rho_23 rho_31 rho_32 rho_33')\n",
    "rho = Matrix([[rho11,rho21,rho31],[rho12,rho22,rho32],[rho13,rho23,rho33]])\n",
    "rho = 1*rho.T\n",
    "rho[:]\n",
    "rhoflat = 1*rho.T \n",
    "rhoflat = rhoflat[:]\n",
    "rhoflat[6]"
   ]
  },
  {
   "cell_type": "code",
   "execution_count": 14,
   "metadata": {},
   "outputs": [],
   "source": [
    "#change of variables to make things real to make it a bit faster maybe\n",
    "CtoR = Matrix([[2,0,0,0,0,0,0,0,0],\n",
    "               [0,0,0,0,2,0,0,0,0],\n",
    "               [0,0,0,0,0,0,0,0,2],\n",
    "               [0,1,0,1,0,0,0,0,0],\n",
    "               [0,I,0,-I,0,0,0,0,0],\n",
    "               [0,0,1,0,0,0,1,0,0],\n",
    "               [0,0,I,0,0,0,-I,0,0],\n",
    "               [0,0,0,0,0,1,0,1,0],\n",
    "               [0,0,0,0,0,I,0,-I,0]\n",
    "              ])\n",
    "CtoR=CtoR/2"
   ]
  },
  {
   "cell_type": "code",
   "execution_count": 15,
   "metadata": {},
   "outputs": [
    {
     "data": {
      "image/png": "[encoded data removed]",
      "text/latex": [
       "$$\\left [ \\frac{\\rho_{13}}{2} + \\frac{\\rho_{31}}{2}, \\quad - \\frac{i \\rho_{13}}{2} + \\frac{i \\rho_{31}}{2}\\right ]$$"
      ],
      "text/plain": [
       "⎡ρ₁₃   ρ₃₁    ⅈ⋅ρ₁₃   ⅈ⋅ρ₃₁⎤\n",
       "⎢─── + ───, - ───── + ─────⎥\n",
       "⎣ 2     2       2       2  ⎦"
      ]
     },
     "execution_count": 15,
     "metadata": {},
     "output_type": "execute_result"
    }
   ],
   "source": [
    "#these is our new state vector \n",
    "t = CtoR*Matrix(rhoflat)\n",
    "t[5:7]"
   ]
  },
  {
   "cell_type": "code",
   "execution_count": 16,
   "metadata": {},
   "outputs": [
    {
     "data": {
      "text/latex": [
       "$$\\left[\\begin{matrix}1 & 1 & 1 & 0 & 0 & 0 & 0 & 0 & 0\\\\\\gamma_{\\mu} n_{b} & - \\gamma_{\\mu} \\left(n_{b} + 1\\right) & \\gamma_{23} & 0 & 2 \\Omega_{\\mu} & 0 & 0 & 0 & - 2 \\Omega_{o}\\\\0 & 0 & - \\gamma_{13} - \\gamma_{23} & 0 & 0 & 2 a_{i} g & 2 a_{r} g & 0 & 2 \\Omega_{o}\\\\0 & 0 & 0 & - \\frac{\\gamma_{2d}}{2} - \\gamma_{\\mu} n_{b} - \\frac{\\gamma_{\\mu}}{2} & - \\delta_{2} & 0 & - \\Omega_{o} & - a_{i} g & - a_{r} g\\\\\\Omega_{\\mu} & - \\Omega_{\\mu} & 0 & \\delta_{2} & - \\frac{\\gamma_{2d}}{2} - \\gamma_{\\mu} n_{b} - \\frac{\\gamma_{\\mu}}{2} & \\Omega_{o} & 0 & - a_{r} g & a_{i} g\\\\a_{i} g & 0 & - a_{i} g & 0 & - \\Omega_{o} & - \\frac{\\gamma_{13}}{2} - \\frac{\\gamma_{23}}{2} - \\frac{\\gamma_{3d}}{2} - \\frac{\\gamma_{\\mu} n_{b}}{2} & - \\delta_{3} & 0 & \\Omega_{\\mu}\\\\a_{r} g & 0 & - a_{r} g & \\Omega_{o} & 0 & \\delta_{3} & - \\frac{\\gamma_{13}}{2} - \\frac{\\gamma_{23}}{2} - \\frac{\\gamma_{3d}}{2} - \\frac{\\gamma_{\\mu} n_{b}}{2} & - \\Omega_{\\mu} & 0\\\\0 & 0 & 0 & a_{i} g & a_{r} g & 0 & \\Omega_{\\mu} & - \\frac{\\gamma_{13}}{2} - \\frac{\\gamma_{23}}{2} - \\frac{\\gamma_{2d}}{2} - \\frac{\\gamma_{3d}}{2} - \\frac{\\gamma_{\\mu} \\left(n_{b} + 1\\right)}{2} & \\delta_{2} - \\delta_{3}\\\\0 & \\Omega_{o} & - \\Omega_{o} & a_{r} g & - a_{i} g & - \\Omega_{\\mu} & 0 & - \\delta_{2} + \\delta_{3} & - \\frac{\\gamma_{13}}{2} - \\frac{\\gamma_{23}}{2} - \\frac{\\gamma_{2d}}{2} - \\frac{\\gamma_{3d}}{2} - \\frac{\\gamma_{\\mu} \\left(n_{b} + 1\\right)}{2}\\end{matrix}\\right]$$"
      ],
      "text/plain": [
       "⎡   1           1             1                 0                       0     \n",
       "⎢                                                                             \n",
       "⎢γₘᵤ⋅n_b  -γₘᵤ⋅(n_b + 1)     γ₂₃                0                     2⋅Ωₘᵤ   \n",
       "⎢                                                                             \n",
       "⎢   0           0         -γ₁₃ - γ₂₃            0                       0     \n",
       "⎢                                                                             \n",
       "⎢                                       γ_2d             γₘᵤ                  \n",
       "⎢   0           0             0       - ──── - γₘᵤ⋅n_b - ───           -δ₂    \n",
       "⎢                                        2                2                   \n",
       "⎢                                                                             \n",
       "⎢                                                               γ_2d          \n",
       "⎢  Ωₘᵤ         -Ωₘᵤ           0                 δ₂            - ──── - γₘᵤ⋅n_b\n",
       "⎢                                                                2            \n",
       "⎢                                                                             \n",
       "⎢                                                                             \n",
       "⎢ aᵢ⋅g          0           -aᵢ⋅g               0                      -Ωₒ    \n",
       "⎢                                                                             \n",
       "⎢                                                                             \n",
       "⎢                                                                             \n",
       "⎢ aᵣ⋅g          0           -aᵣ⋅g               Ωₒ                      0     \n",
       "⎢                                                                             \n",
       "⎢                                                                             \n",
       "⎢                                                                             \n",
       "⎢   0           0             0                aᵢ⋅g                    aᵣ⋅g   \n",
       "⎢                                                                             \n",
       "⎢                                                                             \n",
       "⎢                                                                             \n",
       "⎢   0           Ωₒ           -Ωₒ               aᵣ⋅g                   -aᵢ⋅g   \n",
       "⎣                                                                             \n",
       "\n",
       "                     0                             0                          \n",
       "                                                                              \n",
       "                     0                             0                          \n",
       "                                                                              \n",
       "                   2⋅aᵢ⋅g                        2⋅aᵣ⋅g                       \n",
       "                                                                              \n",
       "                                                                              \n",
       "                     0                            -Ωₒ                         \n",
       "                                                                              \n",
       "                                                                              \n",
       "   γₘᵤ                                                                        \n",
       " - ───               Ωₒ                            0                          \n",
       "    2                                                                         \n",
       "                                                                              \n",
       "          γ₁₃   γ₂₃   γ_3d   γₘᵤ⋅n_b                                          \n",
       "        - ─── - ─── - ──── - ───────              -δ₃                         \n",
       "           2     2     2        2                                             \n",
       "                                                                              \n",
       "                                        γ₁₃   γ₂₃   γ_3d   γₘᵤ⋅n_b            \n",
       "                     δ₃               - ─── - ─── - ──── - ───────            \n",
       "                                         2     2     2        2               \n",
       "                                                                              \n",
       "                                                                      γ₁₃   γ₂\n",
       "                     0                            Ωₘᵤ               - ─── - ──\n",
       "                                                                       2     2\n",
       "                                                                              \n",
       "                                                                              \n",
       "                    -Ωₘᵤ                           0                          \n",
       "                                                                              \n",
       "\n",
       "          0                                          0                    ⎤\n",
       "                                                                          ⎥\n",
       "          0                                        -2⋅Ωₒ                  ⎥\n",
       "                                                                          ⎥\n",
       "          0                                        2⋅Ωₒ                   ⎥\n",
       "                                                                          ⎥\n",
       "                                                                          ⎥\n",
       "        -aᵢ⋅g                                      -aᵣ⋅g                  ⎥\n",
       "                                                                          ⎥\n",
       "                                                                          ⎥\n",
       "                                                                          ⎥\n",
       "        -aᵣ⋅g                                      aᵢ⋅g                   ⎥\n",
       "                                                                          ⎥\n",
       "                                                                          ⎥\n",
       "                                                                          ⎥\n",
       "          0                                         Ωₘᵤ                   ⎥\n",
       "                                                                          ⎥\n",
       "                                                                          ⎥\n",
       "                                                                          ⎥\n",
       "        -Ωₘᵤ                                         0                    ⎥\n",
       "                                                                          ⎥\n",
       "                                                                          ⎥\n",
       "₃   γ_2d   γ_3d   γₘᵤ⋅(n_b + 1)                                           ⎥\n",
       "─ - ──── - ──── - ─────────────                   δ₂ - δ₃                 ⎥\n",
       "     2      2           2                                                 ⎥\n",
       "                                                                          ⎥\n",
       "                                   γ₁₃   γ₂₃   γ_2d   γ_3d   γₘᵤ⋅(n_b + 1)⎥\n",
       "      -δ₂ + δ₃                   - ─── - ─── - ──── - ──── - ─────────────⎥\n",
       "                                    2     2     2      2           2      ⎦"
      ]
     },
     "execution_count": 16,
     "metadata": {},
     "output_type": "execute_result"
    }
   ],
   "source": [
    "Lreal = sym.simplify(CtoR*L*CtoR.inv())\n",
    "Lreal = Lreal.subs(a,ar+I*ai)\n",
    "Lreal"
   ]
  },
  {
   "cell_type": "code",
   "execution_count": 17,
   "metadata": {},
   "outputs": [
    {
     "data": {
      "text/latex": [
       "$$\\left[\\begin{matrix}0\\\\0\\\\0\\\\0\\\\0\\\\0\\\\0\\\\0\\\\0\\end{matrix}\\right]$$"
      ],
      "text/plain": [
       "⎡0⎤\n",
       "⎢ ⎥\n",
       "⎢0⎥\n",
       "⎢ ⎥\n",
       "⎢0⎥\n",
       "⎢ ⎥\n",
       "⎢0⎥\n",
       "⎢ ⎥\n",
       "⎢0⎥\n",
       "⎢ ⎥\n",
       "⎢0⎥\n",
       "⎢ ⎥\n",
       "⎢0⎥\n",
       "⎢ ⎥\n",
       "⎢0⎥\n",
       "⎢ ⎥\n",
       "⎣0⎦"
      ]
     },
     "execution_count": 17,
     "metadata": {},
     "output_type": "execute_result"
    }
   ],
   "source": [
    "sym.simplify(CtoR.inv()*Lreal*CtoR*Matrix(rhoflat)-(L*Matrix(rhoflat)).subs(a,ar+I*ai))"
   ]
  },
  {
   "cell_type": "code",
   "execution_count": 18,
   "metadata": {},
   "outputs": [
    {
     "data": {
      "text/latex": [
       "$$\\left[\\begin{matrix}\\rho_{11} + \\rho_{22} + \\rho_{33}\\\\- i \\Omega_{\\mu} \\rho_{11} + i \\Omega_{\\mu} \\rho_{22} - i \\Omega_{o} \\rho_{31} + i a g \\rho_{23} + \\rho_{21} \\left(- i \\delta_{2} - \\frac{\\gamma_{2d}}{2} - \\frac{\\gamma_{\\mu} n_{b}}{2} - \\frac{\\gamma_{\\mu} \\left(n_{b} + 1\\right)}{2}\\right)\\\\i \\Omega_{\\mu} \\rho_{32} - i \\Omega_{o} \\rho_{21} - i a g \\rho_{11} + i a g \\rho_{33} + \\rho_{31} \\left(- i \\delta_{3} - \\frac{\\gamma_{13}}{2} - \\frac{\\gamma_{23}}{2} - \\frac{\\gamma_{3d}}{2} - \\frac{\\gamma_{\\mu} n_{b}}{2}\\right)\\\\i \\Omega_{\\mu} \\rho_{11} - i \\Omega_{\\mu} \\rho_{22} + i \\Omega_{o} \\rho_{13} - i g \\rho_{32} \\overline{a} + \\rho_{12} \\left(i \\delta_{2} - \\frac{\\gamma_{2d}}{2} - \\frac{\\gamma_{\\mu} n_{b}}{2} - \\frac{\\gamma_{\\mu} \\left(n_{b} + 1\\right)}{2}\\right)\\\\- i \\Omega_{\\mu} \\rho_{12} + i \\Omega_{\\mu} \\rho_{21} + i \\Omega_{o} \\rho_{23} - i \\Omega_{o} \\rho_{32} + \\gamma_{23} \\rho_{33} + \\gamma_{\\mu} n_{b} \\rho_{11} - \\gamma_{\\mu} \\rho_{22} \\left(n_{b} + 1\\right)\\\\i \\Omega_{\\mu} \\rho_{31} - i \\Omega_{o} \\rho_{22} + i \\Omega_{o} \\rho_{33} - i a g \\rho_{12} + \\rho_{32} \\left(i \\delta_{2} - i \\delta_{3} - \\frac{\\gamma_{13}}{2} - \\frac{\\gamma_{23}}{2} - \\frac{\\gamma_{2d}}{2} - \\frac{\\gamma_{3d}}{2} - \\frac{\\gamma_{\\mu} \\left(n_{b} + 1\\right)}{2}\\right)\\\\- i \\Omega_{\\mu} \\rho_{23} + i \\Omega_{o} \\rho_{12} + i g \\rho_{11} \\overline{a} - i g \\rho_{33} \\overline{a} + \\rho_{13} \\left(i \\delta_{3} - \\frac{\\gamma_{13}}{2} - \\frac{\\gamma_{23}}{2} - \\frac{\\gamma_{3d}}{2} - \\frac{\\gamma_{\\mu} n_{b}}{2}\\right)\\\\- i \\Omega_{\\mu} \\rho_{13} + i \\Omega_{o} \\rho_{22} - i \\Omega_{o} \\rho_{33} + i g \\rho_{21} \\overline{a} + \\rho_{23} \\left(- i \\delta_{2} + i \\delta_{3} - \\frac{\\gamma_{13}}{2} - \\frac{\\gamma_{23}}{2} - \\frac{\\gamma_{2d}}{2} - \\frac{\\gamma_{3d}}{2} - \\frac{\\gamma_{\\mu} \\left(n_{b} + 1\\right)}{2}\\right)\\\\- i \\Omega_{o} \\rho_{23} + i \\Omega_{o} \\rho_{32} - i a g \\rho_{13} + i g \\rho_{31} \\overline{a} + \\rho_{33} \\left(- \\gamma_{13} - \\gamma_{23}\\right)\\end{matrix}\\right]$$"
      ],
      "text/plain": [
       "⎡                                              ρ₁₁ + ρ₂₂ + ρ₃₃                \n",
       "⎢                                                                             \n",
       "⎢                                                           ⎛        γ_2d   γₘ\n",
       "⎢       -ⅈ⋅Ωₘᵤ⋅ρ₁₁ + ⅈ⋅Ωₘᵤ⋅ρ₂₂ - ⅈ⋅Ωₒ⋅ρ₃₁ + ⅈ⋅a⋅g⋅ρ₂₃ + ρ₂₁⋅⎜-ⅈ⋅δ₂ - ──── - ──\n",
       "⎢                                                           ⎝         2       \n",
       "⎢                                                                             \n",
       "⎢                                                             ⎛        γ₁₃   γ\n",
       "⎢          ⅈ⋅Ωₘᵤ⋅ρ₃₂ - ⅈ⋅Ωₒ⋅ρ₂₁ - ⅈ⋅a⋅g⋅ρ₁₁ + ⅈ⋅a⋅g⋅ρ₃₃ + ρ₃₁⋅⎜-ⅈ⋅δ₃ - ─── - ─\n",
       "⎢                                                             ⎝         2     \n",
       "⎢                                                                             \n",
       "⎢                                                   _       ⎛       γ_2d   γₘᵤ\n",
       "⎢        ⅈ⋅Ωₘᵤ⋅ρ₁₁ - ⅈ⋅Ωₘᵤ⋅ρ₂₂ + ⅈ⋅Ωₒ⋅ρ₁₃ - ⅈ⋅g⋅ρ₃₂⋅a + ρ₁₂⋅⎜ⅈ⋅δ₂ - ──── - ───\n",
       "⎢                                                           ⎝        2        \n",
       "⎢                                                                             \n",
       "⎢         -ⅈ⋅Ωₘᵤ⋅ρ₁₂ + ⅈ⋅Ωₘᵤ⋅ρ₂₁ + ⅈ⋅Ωₒ⋅ρ₂₃ - ⅈ⋅Ωₒ⋅ρ₃₂ + γ₂₃⋅ρ₃₃ + γₘᵤ⋅n_b⋅ρ₁₁\n",
       "⎢                                                                             \n",
       "⎢                                                   ⎛              γ₁₃   γ₂₃  \n",
       "⎢ ⅈ⋅Ωₘᵤ⋅ρ₃₁ - ⅈ⋅Ωₒ⋅ρ₂₂ + ⅈ⋅Ωₒ⋅ρ₃₃ - ⅈ⋅a⋅g⋅ρ₁₂ + ρ₃₂⋅⎜ⅈ⋅δ₂ - ⅈ⋅δ₃ - ─── - ─── -\n",
       "⎢                                                   ⎝               2     2   \n",
       "⎢                                                                             \n",
       "⎢                                          _           _       ⎛       γ₁₃   γ\n",
       "⎢          -ⅈ⋅Ωₘᵤ⋅ρ₂₃ + ⅈ⋅Ωₒ⋅ρ₁₂ + ⅈ⋅g⋅ρ₁₁⋅a - ⅈ⋅g⋅ρ₃₃⋅a + ρ₁₃⋅⎜ⅈ⋅δ₃ - ─── - ─\n",
       "⎢                                                              ⎝        2     \n",
       "⎢                                                                             \n",
       "⎢                                           _       ⎛               γ₁₃   γ₂₃ \n",
       "⎢-ⅈ⋅Ωₘᵤ⋅ρ₁₃ + ⅈ⋅Ωₒ⋅ρ₂₂ - ⅈ⋅Ωₒ⋅ρ₃₃ + ⅈ⋅g⋅ρ₂₁⋅a + ρ₂₃⋅⎜-ⅈ⋅δ₂ + ⅈ⋅δ₃ - ─── - ─── \n",
       "⎢                                                   ⎝                2     2  \n",
       "⎢                                                                             \n",
       "⎢                                                                 _           \n",
       "⎣                      -ⅈ⋅Ωₒ⋅ρ₂₃ + ⅈ⋅Ωₒ⋅ρ₃₂ - ⅈ⋅a⋅g⋅ρ₁₃ + ⅈ⋅g⋅ρ₃₁⋅a + ρ₃₃⋅(-γ₁\n",
       "\n",
       "                              ⎤\n",
       "                              ⎥\n",
       "ᵤ⋅n_b   γₘᵤ⋅(n_b + 1)⎞        ⎥\n",
       "───── - ─────────────⎟        ⎥\n",
       " 2            2      ⎠        ⎥\n",
       "                              ⎥\n",
       "₂₃   γ_3d   γₘᵤ⋅n_b⎞          ⎥\n",
       "── - ──── - ───────⎟          ⎥\n",
       "2     2        2   ⎠          ⎥\n",
       "                              ⎥\n",
       "⋅n_b   γₘᵤ⋅(n_b + 1)⎞         ⎥\n",
       "──── - ─────────────⎟         ⎥\n",
       "2            2      ⎠         ⎥\n",
       "                              ⎥\n",
       " - γₘᵤ⋅ρ₂₂⋅(n_b + 1)          ⎥\n",
       "                              ⎥\n",
       " γ_2d   γ_3d   γₘᵤ⋅(n_b + 1)⎞ ⎥\n",
       " ──── - ──── - ─────────────⎟ ⎥\n",
       "  2      2           2      ⎠ ⎥\n",
       "                              ⎥\n",
       "₂₃   γ_3d   γₘᵤ⋅n_b⎞          ⎥\n",
       "── - ──── - ───────⎟          ⎥\n",
       "2     2        2   ⎠          ⎥\n",
       "                              ⎥\n",
       "  γ_2d   γ_3d   γₘᵤ⋅(n_b + 1)⎞⎥\n",
       "- ──── - ──── - ─────────────⎟⎥\n",
       "   2      2           2      ⎠⎥\n",
       "                              ⎥\n",
       "                              ⎥\n",
       "₃ - γ₂₃)                      ⎦"
      ]
     },
     "execution_count": 18,
     "metadata": {},
     "output_type": "execute_result"
    }
   ],
   "source": [
    "L*Matrix(rhoflat)"
   ]
  },
  {
   "cell_type": "code",
   "execution_count": 19,
   "metadata": {},
   "outputs": [
    {
     "name": "stdout",
     "output_type": "stream",
     "text": [
      "// Not supported in C:\n",
      "// conjugate\n",
      "[1, -I*Omega_mu, -I*a*g, I*Omega_mu, gamma_mu*n_b, 0, I*g*conjugate(a), 0, 0, 0, -I*delta_2 - 1.0/2.0*gamma_2d - 1.0/2.0*gamma_mu*n_b - 1.0/2.0*gamma_mu*(n_b + 1), -I*Omega_o, 0, I*Omega_mu, 0, 0, I*g*conjugate(a), 0, 0, -I*Omega_o, -I*delta_3 - 1.0/2.0*gamma_13 - 1.0/2.0*gamma_23 - 1.0/2.0*gamma_3d - 1.0/2.0*gamma_mu*n_b, 0, 0, I*Omega_mu, 0, 0, I*g*conjugate(a), 0, 0, 0, I*delta_2 - 1.0/2.0*gamma_2d - 1.0/2.0*gamma_mu*n_b - 1.0/2.0*gamma_mu*(n_b + 1), -I*Omega_mu, -I*a*g, I*Omega_o, 0, 0, 1, I*Omega_mu, 0, -I*Omega_mu, -gamma_mu*(n_b + 1), -I*Omega_o, 0, I*Omega_o, 0, 0, 0, I*Omega_mu, -I*g*conjugate(a), -I*Omega_o, I*delta_2 - I*delta_3 - 1.0/2.0*gamma_13 - 1.0/2.0*gamma_23 - 1.0/2.0*gamma_2d - 1.0/2.0*gamma_3d - 1.0/2.0*gamma_mu*(n_b + 1), 0, 0, I*Omega_o, 0, 0, 0, I*Omega_o, 0, 0, I*delta_3 - 1.0/2.0*gamma_13 - 1.0/2.0*gamma_23 - 1.0/2.0*gamma_3d - 1.0/2.0*gamma_mu*n_b, -I*Omega_mu, -I*a*g, 0, I*a*g, 0, 0, I*Omega_o, 0, -I*Omega_mu, -I*delta_2 + I*delta_3 - 1.0/2.0*gamma_13 - 1.0/2.0*gamma_23 - 1.0/2.0*gamma_2d - 1.0/2.0*gamma_3d - 1.0/2.0*gamma_mu*(n_b + 1), -I*Omega_o, 1, 0, I*a*g, 0, gamma_23, I*Omega_o, -I*g*conjugate(a), -I*Omega_o, -gamma_13 - gamma_23]\n",
      "-----------\n",
      "(1, gamma_mu*n_b, 0, 0, Omega_mu, a_i*g, a_r*g, 0, 0, 1, -gamma_mu*(n_b + 1), 0, 0, -Omega_mu, 0, 0, 0, Omega_o, 1, gamma_23, -gamma_13 - gamma_23, 0, 0, -a_i*g, -a_r*g, 0, -Omega_o, 0, 0, 0, -1.0/2.0*gamma_2d - gamma_mu*n_b - 1.0/2.0*gamma_mu, delta_2, 0, Omega_o, a_i*g, a_r*g, 0, 2*Omega_mu, 0, -delta_2, -1.0/2.0*gamma_2d - gamma_mu*n_b - 1.0/2.0*gamma_mu, -Omega_o, 0, a_r*g, -a_i*g, 0, 0, 2*a_i*g, 0, Omega_o, -1.0/2.0*gamma_13 - 1.0/2.0*gamma_23 - 1.0/2.0*gamma_3d - 1.0/2.0*gamma_mu*n_b, delta_3, 0, -Omega_mu, 0, 0, 2*a_r*g, -Omega_o, 0, -delta_3, -1.0/2.0*gamma_13 - 1.0/2.0*gamma_23 - 1.0/2.0*gamma_3d - 1.0/2.0*gamma_mu*n_b, Omega_mu, 0, 0, 0, 0, -a_i*g, -a_r*g, 0, -Omega_mu, -1.0/2.0*gamma_13 - 1.0/2.0*gamma_23 - 1.0/2.0*gamma_2d - 1.0/2.0*gamma_3d - 1.0/2.0*gamma_mu*(n_b + 1), -delta_2 + delta_3, 0, -2*Omega_o, 2*Omega_o, -a_r*g, a_i*g, Omega_mu, 0, delta_2 - delta_3, -1.0/2.0*gamma_13 - 1.0/2.0*gamma_23 - 1.0/2.0*gamma_2d - 1.0/2.0*gamma_3d - 1.0/2.0*gamma_mu*(n_b + 1))\n"
     ]
    }
   ],
   "source": [
    "from sympy.printing import print_ccode\n",
    "Lflat = 1*L.T\n",
    "Lflat = Lflat[:]\n",
    "print_ccode(Lflat)\n",
    "\n",
    "from sympy.printing import print_ccode\n",
    "print(\"-----------\")\n",
    "#because this is destined for cython it's in row-major order\n",
    "Lflatreal = 1*Lreal.T\n",
    "Lflatreal = Lflatreal[:]\n",
    "print_ccode(Lflatreal)"
   ]
  },
  {
   "cell_type": "code",
   "execution_count": 20,
   "metadata": {},
   "outputs": [
    {
     "data": {
      "text/latex": [
       "$$\\left[\\begin{matrix}\\rho_{11} + \\rho_{22} + \\rho_{33}\\\\- i \\Omega_{\\mu} \\rho_{12} + i \\Omega_{\\mu} \\rho_{21} + i \\Omega_{o} \\rho_{23} - i \\Omega_{o} \\rho_{32} + \\gamma_{23} \\rho_{33} + \\gamma_{\\mu} n_{b} \\rho_{11} - \\gamma_{\\mu} \\rho_{22} \\left(n_{b} + 1\\right)\\\\- i \\Omega_{o} \\rho_{23} + i \\Omega_{o} \\rho_{32} + \\rho_{13} \\left(a_{i} g - i a_{r} g\\right) + \\rho_{31} \\left(a_{i} g + i a_{r} g\\right) + \\rho_{33} \\left(- \\gamma_{13} - \\gamma_{23}\\right)\\\\\\frac{i \\Omega_{o} \\rho_{13}}{2} - \\frac{i \\Omega_{o} \\rho_{31}}{2} + \\rho_{12} \\left(\\frac{i \\delta_{2}}{2} - \\frac{\\gamma_{2d}}{4} - \\frac{\\gamma_{\\mu} n_{b}}{2} - \\frac{\\gamma_{\\mu}}{4}\\right) + \\rho_{21} \\left(- \\frac{i \\delta_{2}}{2} - \\frac{\\gamma_{2d}}{4} - \\frac{\\gamma_{\\mu} n_{b}}{2} - \\frac{\\gamma_{\\mu}}{4}\\right) + \\rho_{23} \\left(- \\frac{a_{i} g}{2} + \\frac{i a_{r} g}{2}\\right) + \\rho_{32} \\left(- \\frac{a_{i} g}{2} - \\frac{i a_{r} g}{2}\\right)\\\\\\Omega_{\\mu} \\rho_{11} - \\Omega_{\\mu} \\rho_{22} + \\frac{\\Omega_{o} \\rho_{13}}{2} + \\frac{\\Omega_{o} \\rho_{31}}{2} + \\rho_{12} \\left(\\frac{\\delta_{2}}{2} - \\frac{i \\left(- \\frac{\\gamma_{2d}}{2} - \\gamma_{\\mu} n_{b} - \\frac{\\gamma_{\\mu}}{2}\\right)}{2}\\right) + \\rho_{21} \\left(\\frac{\\delta_{2}}{2} + \\frac{i \\left(- \\frac{\\gamma_{2d}}{2} - \\gamma_{\\mu} n_{b} - \\frac{\\gamma_{\\mu}}{2}\\right)}{2}\\right) + \\rho_{23} \\left(- \\frac{i a_{i} g}{2} - \\frac{a_{r} g}{2}\\right) + \\rho_{32} \\left(\\frac{i a_{i} g}{2} - \\frac{a_{r} g}{2}\\right)\\\\- \\frac{i \\Omega_{\\mu} \\rho_{23}}{2} + \\frac{i \\Omega_{\\mu} \\rho_{32}}{2} + \\frac{i \\Omega_{o} \\rho_{12}}{2} - \\frac{i \\Omega_{o} \\rho_{21}}{2} + a_{i} g \\rho_{11} - a_{i} g \\rho_{33} + \\rho_{13} \\left(\\frac{i \\delta_{3}}{2} - \\frac{\\gamma_{13}}{4} - \\frac{\\gamma_{23}}{4} - \\frac{\\gamma_{3d}}{4} - \\frac{\\gamma_{\\mu} n_{b}}{4}\\right) + \\rho_{31} \\left(- \\frac{i \\delta_{3}}{2} - \\frac{\\gamma_{13}}{4} - \\frac{\\gamma_{23}}{4} - \\frac{\\gamma_{3d}}{4} - \\frac{\\gamma_{\\mu} n_{b}}{4}\\right)\\\\- \\frac{\\Omega_{\\mu} \\rho_{23}}{2} - \\frac{\\Omega_{\\mu} \\rho_{32}}{2} + \\frac{\\Omega_{o} \\rho_{12}}{2} + \\frac{\\Omega_{o} \\rho_{21}}{2} + a_{r} g \\rho_{11} - a_{r} g \\rho_{33} + \\rho_{13} \\left(\\frac{\\delta_{3}}{2} - \\frac{i \\left(- \\frac{\\gamma_{13}}{2} - \\frac{\\gamma_{23}}{2} - \\frac{\\gamma_{3d}}{2} - \\frac{\\gamma_{\\mu} n_{b}}{2}\\right)}{2}\\right) + \\rho_{31} \\left(\\frac{\\delta_{3}}{2} + \\frac{i \\left(- \\frac{\\gamma_{13}}{2} - \\frac{\\gamma_{23}}{2} - \\frac{\\gamma_{3d}}{2} - \\frac{\\gamma_{\\mu} n_{b}}{2}\\right)}{2}\\right)\\\\- \\frac{i \\Omega_{\\mu} \\rho_{13}}{2} + \\frac{i \\Omega_{\\mu} \\rho_{31}}{2} + \\rho_{12} \\left(\\frac{a_{i} g}{2} - \\frac{i a_{r} g}{2}\\right) + \\rho_{21} \\left(\\frac{a_{i} g}{2} + \\frac{i a_{r} g}{2}\\right) + \\rho_{23} \\left(- \\frac{\\gamma_{13}}{4} - \\frac{\\gamma_{23}}{4} - \\frac{\\gamma_{2d}}{4} - \\frac{\\gamma_{3d}}{4} - \\frac{\\gamma_{\\mu} \\left(n_{b} + 1\\right)}{4} - \\frac{i \\left(\\delta_{2} - \\delta_{3}\\right)}{2}\\right) + \\rho_{32} \\left(- \\frac{\\gamma_{13}}{4} - \\frac{\\gamma_{23}}{4} - \\frac{\\gamma_{2d}}{4} - \\frac{\\gamma_{3d}}{4} - \\frac{\\gamma_{\\mu} \\left(n_{b} + 1\\right)}{4} + \\frac{i \\left(\\delta_{2} - \\delta_{3}\\right)}{2}\\right)\\\\- \\frac{\\Omega_{\\mu} \\rho_{13}}{2} - \\frac{\\Omega_{\\mu} \\rho_{31}}{2} + \\Omega_{o} \\rho_{22} - \\Omega_{o} \\rho_{33} + \\rho_{12} \\left(\\frac{i a_{i} g}{2} + \\frac{a_{r} g}{2}\\right) + \\rho_{21} \\left(- \\frac{i a_{i} g}{2} + \\frac{a_{r} g}{2}\\right) + \\rho_{23} \\left(- \\frac{\\delta_{2}}{2} + \\frac{\\delta_{3}}{2} - \\frac{i \\left(- \\frac{\\gamma_{13}}{2} - \\frac{\\gamma_{23}}{2} - \\frac{\\gamma_{2d}}{2} - \\frac{\\gamma_{3d}}{2} - \\frac{\\gamma_{\\mu} \\left(n_{b} + 1\\right)}{2}\\right)}{2}\\right) + \\rho_{32} \\left(- \\frac{\\delta_{2}}{2} + \\frac{\\delta_{3}}{2} + \\frac{i \\left(- \\frac{\\gamma_{13}}{2} - \\frac{\\gamma_{23}}{2} - \\frac{\\gamma_{2d}}{2} - \\frac{\\gamma_{3d}}{2} - \\frac{\\gamma_{\\mu} \\left(n_{b} + 1\\right)}{2}\\right)}{2}\\right)\\end{matrix}\\right]$$"
      ],
      "text/plain": [
       "⎡                                                                             \n",
       "⎢                                                                             \n",
       "⎢                                                               -ⅈ⋅Ωₘᵤ⋅ρ₁₂ + ⅈ\n",
       "⎢                                                                             \n",
       "⎢                                                                  -ⅈ⋅Ωₒ⋅ρ₂₃ +\n",
       "⎢                                                                             \n",
       "⎢                                     ⅈ⋅Ωₒ⋅ρ₁₃   ⅈ⋅Ωₒ⋅ρ₃₁       ⎛ⅈ⋅δ₂   γ_2d  \n",
       "⎢                                     ──────── - ──────── + ρ₁₂⋅⎜──── - ──── -\n",
       "⎢                                        2          2           ⎝ 2      4    \n",
       "⎢                                                                             \n",
       "⎢                                                                     ⎛       \n",
       "⎢                                                                     ⎜     ⅈ⋅\n",
       "⎢                                               Ωₒ⋅ρ₁₃   Ωₒ⋅ρ₃₁       ⎜δ₂     \n",
       "⎢                           Ωₘᵤ⋅ρ₁₁ - Ωₘᵤ⋅ρ₂₂ + ────── + ────── + ρ₁₂⋅⎜── - ──\n",
       "⎢                                                 2        2          ⎝2      \n",
       "⎢                                                                             \n",
       "⎢                                 ⅈ⋅Ωₘᵤ⋅ρ₂₃   ⅈ⋅Ωₘᵤ⋅ρ₃₂   ⅈ⋅Ωₒ⋅ρ₁₂   ⅈ⋅Ωₒ⋅ρ₂₁ \n",
       "⎢                               - ───────── + ───────── + ──────── - ──────── \n",
       "⎢                                     2           2          2          2     \n",
       "⎢                                                                             \n",
       "⎢                                                                             \n",
       "⎢                                                                             \n",
       "⎢                                  Ωₘᵤ⋅ρ₂₃   Ωₘᵤ⋅ρ₃₂   Ωₒ⋅ρ₁₂   Ωₒ⋅ρ₂₁        \n",
       "⎢                                - ─────── - ─────── + ────── + ────── + aᵣ⋅g⋅\n",
       "⎢                                     2         2        2        2           \n",
       "⎢                                                                             \n",
       "⎢            ⅈ⋅Ωₘᵤ⋅ρ₁₃   ⅈ⋅Ωₘᵤ⋅ρ₃₁       ⎛aᵢ⋅g   ⅈ⋅aᵣ⋅g⎞       ⎛aᵢ⋅g   ⅈ⋅aᵣ⋅g⎞\n",
       "⎢          - ───────── + ───────── + ρ₁₂⋅⎜──── - ──────⎟ + ρ₂₁⋅⎜──── + ──────⎟\n",
       "⎢                2           2           ⎝ 2       2   ⎠       ⎝ 2       2   ⎠\n",
       "⎢                                                                             \n",
       "⎢                                                                             \n",
       "⎢                                                                             \n",
       "⎢  Ωₘᵤ⋅ρ₁₃   Ωₘᵤ⋅ρ₃₁                         ⎛ⅈ⋅aᵢ⋅g   aᵣ⋅g⎞       ⎛  ⅈ⋅aᵢ⋅g  \n",
       "⎢- ─────── - ─────── + Ωₒ⋅ρ₂₂ - Ωₒ⋅ρ₃₃ + ρ₁₂⋅⎜────── + ────⎟ + ρ₂₁⋅⎜- ────── +\n",
       "⎣     2         2                            ⎝  2       2  ⎠       ⎝    2     \n",
       "\n",
       "                       ρ₁₁ + ρ₂₂ + ρ₃₃                                        \n",
       "                                                                              \n",
       "⋅Ωₘᵤ⋅ρ₂₁ + ⅈ⋅Ωₒ⋅ρ₂₃ - ⅈ⋅Ωₒ⋅ρ₃₂ + γ₂₃⋅ρ₃₃ + γₘᵤ⋅n_b⋅ρ₁₁ - γₘᵤ⋅ρ₂₂⋅(n_b + 1)    \n",
       "                                                                              \n",
       " ⅈ⋅Ωₒ⋅ρ₃₂ + ρ₁₃⋅(aᵢ⋅g - ⅈ⋅aᵣ⋅g) + ρ₃₁⋅(aᵢ⋅g + ⅈ⋅aᵣ⋅g) + ρ₃₃⋅(-γ₁₃ - γ₂₃)      \n",
       "                                                                              \n",
       " γₘᵤ⋅n_b   γₘᵤ⎞       ⎛  ⅈ⋅δ₂   γ_2d   γₘᵤ⋅n_b   γₘᵤ⎞       ⎛  aᵢ⋅g   ⅈ⋅aᵣ⋅g⎞ \n",
       " ─────── - ───⎟ + ρ₂₁⋅⎜- ──── - ──── - ─────── - ───⎟ + ρ₂₃⋅⎜- ──── + ──────⎟ \n",
       "    2       4 ⎠       ⎝   2      4        2       4 ⎠       ⎝   2       2   ⎠ \n",
       "                                                                              \n",
       "⎛  γ_2d             γₘᵤ⎞⎞       ⎛       ⎛  γ_2d             γₘᵤ⎞⎞             \n",
       "⎜- ──── - γₘᵤ⋅n_b - ───⎟⎟       ⎜     ⅈ⋅⎜- ──── - γₘᵤ⋅n_b - ───⎟⎟             \n",
       "⎝   2                2 ⎠⎟       ⎜δ₂     ⎝   2                2 ⎠⎟       ⎛  ⅈ⋅a\n",
       "────────────────────────⎟ + ρ₂₁⋅⎜── + ──────────────────────────⎟ + ρ₂₃⋅⎜- ───\n",
       "          2             ⎠       ⎝2                2             ⎠       ⎝    2\n",
       "                                                                              \n",
       "                            ⎛ⅈ⋅δ₃   γ₁₃   γ₂₃   γ_3d   γₘᵤ⋅n_b⎞       ⎛  ⅈ⋅δ₃ \n",
       "+ aᵢ⋅g⋅ρ₁₁ - aᵢ⋅g⋅ρ₃₃ + ρ₁₃⋅⎜──── - ─── - ─── - ──── - ───────⎟ + ρ₃₁⋅⎜- ──── \n",
       "                            ⎝ 2      4     4     4        4   ⎠       ⎝   2   \n",
       "                                                                              \n",
       "                     ⎛       ⎛  γ₁₃   γ₂₃   γ_3d   γₘᵤ⋅n_b⎞⎞       ⎛       ⎛  \n",
       "                     ⎜     ⅈ⋅⎜- ─── - ─── - ──── - ───────⎟⎟       ⎜     ⅈ⋅⎜- \n",
       "                     ⎜δ₃     ⎝   2     2     2        2   ⎠⎟       ⎜δ₃     ⎝  \n",
       "ρ₁₁ - aᵣ⋅g⋅ρ₃₃ + ρ₁₃⋅⎜── - ────────────────────────────────⎟ + ρ₃₁⋅⎜── + ─────\n",
       "                     ⎝2                   2                ⎠       ⎝2         \n",
       "                                                                              \n",
       "       ⎛  γ₁₃   γ₂₃   γ_2d   γ_3d   γₘᵤ⋅(n_b + 1)   ⅈ⋅(δ₂ - δ₃)⎞       ⎛  γ₁₃ \n",
       " + ρ₂₃⋅⎜- ─── - ─── - ──── - ──── - ───────────── - ───────────⎟ + ρ₃₂⋅⎜- ─── \n",
       "       ⎝   4     4     4      4           4              2     ⎠       ⎝   4  \n",
       "                                                                              \n",
       "             ⎛              ⎛  γ₁₃   γ₂₃   γ_2d   γ_3d   γₘᵤ⋅(n_b + 1)⎞⎞      \n",
       "             ⎜            ⅈ⋅⎜- ─── - ─── - ──── - ──── - ─────────────⎟⎟      \n",
       " aᵣ⋅g⎞       ⎜  δ₂   δ₃     ⎝   2     2     2      2           2      ⎠⎟      \n",
       " ────⎟ + ρ₂₃⋅⎜- ── + ── - ─────────────────────────────────────────────⎟ + ρ₃₂\n",
       "  2  ⎠       ⎝  2    2                          2                      ⎠      \n",
       "\n",
       "                                                            ⎤\n",
       "                                                            ⎥\n",
       "                                                            ⎥\n",
       "                                                            ⎥\n",
       "                                                            ⎥\n",
       "                                                            ⎥\n",
       "      ⎛  aᵢ⋅g   ⅈ⋅aᵣ⋅g⎞                                     ⎥\n",
       "+ ρ₃₂⋅⎜- ──── - ──────⎟                                     ⎥\n",
       "      ⎝   2       2   ⎠                                     ⎥\n",
       "                                                            ⎥\n",
       "                                                            ⎥\n",
       "                                                            ⎥\n",
       "ᵢ⋅g   aᵣ⋅g⎞       ⎛ⅈ⋅aᵢ⋅g   aᵣ⋅g⎞                           ⎥\n",
       "─── - ────⎟ + ρ₃₂⋅⎜────── - ────⎟                           ⎥\n",
       "       2  ⎠       ⎝  2       2  ⎠                           ⎥\n",
       "                                                            ⎥\n",
       "  γ₁₃   γ₂₃   γ_3d   γₘᵤ⋅n_b⎞                               ⎥\n",
       "- ─── - ─── - ──── - ───────⎟                               ⎥\n",
       "   4     4     4        4   ⎠                               ⎥\n",
       "                                                            ⎥\n",
       "γ₁₃   γ₂₃   γ_3d   γₘᵤ⋅n_b⎞⎞                                ⎥\n",
       "─── - ─── - ──── - ───────⎟⎟                                ⎥\n",
       " 2     2     2        2   ⎠⎟                                ⎥\n",
       "───────────────────────────⎟                                ⎥\n",
       "          2                ⎠                                ⎥\n",
       "                                                            ⎥\n",
       "  γ₂₃   γ_2d   γ_3d   γₘᵤ⋅(n_b + 1)   ⅈ⋅(δ₂ - δ₃)⎞          ⎥\n",
       "- ─── - ──── - ──── - ───────────── + ───────────⎟          ⎥\n",
       "   4     4      4           4              2     ⎠          ⎥\n",
       "                                                            ⎥\n",
       " ⎛              ⎛  γ₁₃   γ₂₃   γ_2d   γ_3d   γₘᵤ⋅(n_b + 1)⎞⎞⎥\n",
       " ⎜            ⅈ⋅⎜- ─── - ─── - ──── - ──── - ─────────────⎟⎟⎥\n",
       " ⎜  δ₂   δ₃     ⎝   2     2     2      2           2      ⎠⎟⎥\n",
       "⋅⎜- ── + ── + ─────────────────────────────────────────────⎟⎥\n",
       " ⎝  2    2                          2                      ⎠⎦"
      ]
     },
     "execution_count": 20,
     "metadata": {},
     "output_type": "execute_result"
    }
   ],
   "source": [
    "Lreal*CtoR*Matrix(rhoflat)"
   ]
  },
  {
   "cell_type": "markdown",
   "metadata": {},
   "source": [
    "## Turning analytic expression into numerical code to work out steady state"
   ]
  },
  {
   "cell_type": "code",
   "execution_count": 21,
   "metadata": {},
   "outputs": [],
   "source": [
    "Lfunc = sym.lambdify((a,delta2, delta3, gamma13, gamma23, gamma2d, gamma3d, nbath,gammamu,omegao,omegam,g),L)\n",
    "\n",
    "Lrealfunc = sym.lambdify((ar,ai,delta2, delta3, gamma13, gamma23, gamma2d, gamma3d, nbath,gammamu,omegao,omegam,g),Lreal)\n",
    "\n",
    "\n",
    "def steady_rho(p):\n",
    "    \n",
    "    Lmatrix = Lfunc(p['a'],p['delta2'],p['delta3'],p['gamma13'],\n",
    "                               p['gamma23'],p['gamma2d'],p['gamma3d'],p['nbath'],\n",
    "                               p['gammamu'],p['omegao'],p['omegam'],p['g'])\n",
    "    \n",
    "    #return Lmatrix\n",
    "    rho = np.linalg.solve(Lmatrix.astype('complex128'),np.matrix([[1,0,0,0,0,0,0,0,0]]).T)\n",
    "    return np.reshape(rho,(3,3),order='F')\n",
    "\n",
    "# def steady_rho(p):\n",
    "#     Lmatrix =  Lrealfunc(np.real(p['a']),np.real(p['a']),p['delta2'],p['delta3'],p['gamma13'],\n",
    "#                                p['gamma23'],p['gamma2d'],p['gamma3d'],p['nbath'],\n",
    "#                                p['gammamu'],p['omegao'],p['omegam'],p['g'])\n",
    "#     rho = np.linalg.solve(Lmatrix.astype('double'),np.matrix([[1,0,0,0,0,0,0,0,0]]).T)\n",
    "\n",
    "def steady_rho13_older(p):\n",
    "    \n",
    "    Lmatrix = Lfunc(p['a'],p['delta2'],p['delta3'],p['gamma13'],\n",
    "                               p['gamma23'],p['gamma2d'],p['gamma3d'],p['nbath'],\n",
    "                               p['gammamu'],p['omegao'],p['omegam'],p['g'])\n",
    "    #return Lmatrix\n",
    "    rho = np.linalg.solve(Lmatrix.astype('complex128'),np.matrix([[1,0,0,0,0,0,0,0,0]]).T)\n",
    "    return rho[6]\n",
    "\n",
    "def steady_rho13_old(p):\n",
    "    Lmatrix =  Lrealfunc(np.real(p['a']),np.real(p['a']),p['delta2'],p['delta3'],p['gamma13'],\n",
    "                               p['gamma23'],p['gamma2d'],p['gamma3d'],p['nbath'],\n",
    "                               p['gammamu'],p['omegao'],p['omegam'],p['g'])\n",
    "    rho = np.linalg.solve(Lmatrix.astype('double'),np.matrix([[1,0,0,0,0,0,0,0,0]]).T)    \n",
    "    return rho[5]+1j*rho[6]\n"
   ]
  },
  {
   "cell_type": "code",
   "execution_count": 112,
   "metadata": {},
   "outputs": [],
   "source": [
    "%%cython \n",
    "#### %%cython -a # this gives \"highligted\" output\n",
    "\n",
    "cimport scipy.linalg.cython_lapack as lapack\n",
    "import numpy as np\n",
    "from libc.math cimport exp\n",
    "\n",
    "def steady_rho13(p):\n",
    "    cdef double a_r,a_i,delta_2,delta_3,gamma_13,gamma_23,gamma_2d,gamma_3d,n_b,gamma_mu,Omega_o,Omega_mu,g\n",
    "    cdef double L[81]\n",
    "    cdef double V[9]\n",
    "    cdef int n = 9\n",
    "    cdef double complex a\n",
    "    cdef int info\n",
    "    cdef int lda = 9\n",
    "    cdef int ldb = 9 \n",
    "    cdef int nrhs = 1\n",
    "    cdef int workspace[9]\n",
    "    \n",
    "    V[:] = [1,0,0, 0,0,0, 0,0,1]\n",
    "    a = p['a']\n",
    "    a_r = a.real\n",
    "    a_i = a.imag\n",
    "    delta_2 = p['delta2']\n",
    "    delta_3 = p['delta3']\n",
    "    gamma_13 = p['gamma13']\n",
    "    gamma_23 = p['gamma23'] \n",
    "    gamma_2d = p['gamma2d']\n",
    "    gamma_3d = p['gamma3d']\n",
    "    n_b = p['nbath']\n",
    "    gamma_mu = p['gammamu']\n",
    "    Omega_o = p['omegao'] \n",
    "    Omega_mu = p['omegam']\n",
    "    g = p['g']\n",
    " #   with nogil: # to make sure it's not doing any slow python calls\n",
    "    L[:] = (1, gamma_mu*n_b, 0, 0, Omega_mu, a_i*g, a_r*g, 0, 0, 1, -gamma_mu*(n_b + 1), 0, 0, -Omega_mu, 0, 0, 0, Omega_o, 1, gamma_23, -gamma_13 - gamma_23, 0, 0, -a_i*g, -a_r*g, 0, -Omega_o, 0, 0, 0, -1.0/2.0*gamma_2d - gamma_mu*n_b - 1.0/2.0*gamma_mu, delta_2, 0, Omega_o, a_i*g, a_r*g, 0, 2*Omega_mu, 0, -delta_2, -1.0/2.0*gamma_2d - gamma_mu*n_b - 1.0/2.0*gamma_mu, -Omega_o, 0, a_r*g, -a_i*g, 0, 0, 2*a_i*g, 0, Omega_o, -1.0/2.0*gamma_13 - 1.0/2.0*gamma_23 - 1.0/2.0*gamma_3d - 1.0/2.0*gamma_mu*n_b, delta_3, 0, -Omega_mu, 0, 0, 2*a_r*g, -Omega_o, 0, -delta_3, -1.0/2.0*gamma_13 - 1.0/2.0*gamma_23 - 1.0/2.0*gamma_3d - 1.0/2.0*gamma_mu*n_b, Omega_mu, 0, 0, 0, 0, -a_i*g, -a_r*g, 0, -Omega_mu, -1.0/2.0*gamma_13 - 1.0/2.0*gamma_23 - 1.0/2.0*gamma_2d - 1.0/2.0*gamma_3d - 1.0/2.0*gamma_mu*(n_b + 1), -delta_2 + delta_3, 0, -2*Omega_o, 2*Omega_o, -a_r*g, a_i*g, Omega_mu, 0, delta_2 - delta_3, -1.0/2.0*gamma_13 - 1.0/2.0*gamma_23 - 1.0/2.0*gamma_2d - 1.0/2.0*gamma_3d - 1.0/2.0*gamma_mu*(n_b + 1))\n",
    "    \n",
    "    lapack.dgesv(&n,&nrhs,L,&lda,workspace,V,&ldb,&info)\n",
    "    return V[5]+1j*V[6]\n",
    "\n",
    "\n",
    "cdef double complex steady_rho13_lots_of_args(double a_r,\n",
    "                               double a_i,\n",
    "                               double delta_2,\n",
    "                               double delta_3,\n",
    "                               double gamma_13,\n",
    "                               double gamma_23,\n",
    "                               double gamma_2d,\n",
    "                               double gamma_3d,\n",
    "                               double n_b,\n",
    "                               double gamma_mu,\n",
    "                               double Omega_o,\n",
    "                               double Omega_mu,\n",
    "                               double g):\n",
    "    cdef double L[81]\n",
    "    cdef double V[9]\n",
    "    cdef int n = 9\n",
    "    cdef double complex a\n",
    "    cdef int info\n",
    "    cdef int lda = 9\n",
    "    cdef int ldb = 9 \n",
    "    cdef int nrhs = 1\n",
    "    cdef int workspace[9]\n",
    "    V[:] = [1,0,0, 0,0,0, 0,0,1]\n",
    "    L[:] = (1, gamma_mu*n_b, 0, 0, Omega_mu, a_i*g, a_r*g, 0, 0, 1, -gamma_mu*(n_b + 1), 0, 0, -Omega_mu, 0, 0, 0, Omega_o, 1, gamma_23, -gamma_13 - gamma_23, 0, 0, -a_i*g, -a_r*g, 0, -Omega_o, 0, 0, 0, -1.0/2.0*gamma_2d - gamma_mu*n_b - 1.0/2.0*gamma_mu, delta_2, 0, Omega_o, a_i*g, a_r*g, 0, 2*Omega_mu, 0, -delta_2, -1.0/2.0*gamma_2d - gamma_mu*n_b - 1.0/2.0*gamma_mu, -Omega_o, 0, a_r*g, -a_i*g, 0, 0, 2*a_i*g, 0, Omega_o, -1.0/2.0*gamma_13 - 1.0/2.0*gamma_23 - 1.0/2.0*gamma_3d - 1.0/2.0*gamma_mu*n_b, delta_3, 0, -Omega_mu, 0, 0, 2*a_r*g, -Omega_o, 0, -delta_3, -1.0/2.0*gamma_13 - 1.0/2.0*gamma_23 - 1.0/2.0*gamma_3d - 1.0/2.0*gamma_mu*n_b, Omega_mu, 0, 0, 0, 0, -a_i*g, -a_r*g, 0, -Omega_mu, -1.0/2.0*gamma_13 - 1.0/2.0*gamma_23 - 1.0/2.0*gamma_2d - 1.0/2.0*gamma_3d - 1.0/2.0*gamma_mu*(n_b + 1), -delta_2 + delta_3, 0, -2*Omega_o, 2*Omega_o, -a_r*g, a_i*g, Omega_mu, 0, delta_2 - delta_3, -1.0/2.0*gamma_13 - 1.0/2.0*gamma_23 - 1.0/2.0*gamma_2d - 1.0/2.0*gamma_3d - 1.0/2.0*gamma_mu*(n_b + 1))\n",
    "    lapack.dgesv(&n,&nrhs,L,&lda,workspace,V,&ldb,&info)\n",
    "    return V[5]+1j*V[6]\n",
    "\n",
    "\n",
    "def ensemble_steady_rho13(p,double df):\n",
    "    #cdef double df = 200e3 #frequency discretization\n",
    "    cdef double a_r,a_i,delta_2,delta_3,gamma_13,gamma_23,gamma_2d,gamma_3d,n_b,gamma_mu,Omega_o,Omega_mu,g\n",
    "    a = p['a']\n",
    "    a_r = a.real\n",
    "    a_i = a.imag\n",
    "    delta_2 = p['delta2']\n",
    "    delta_3 = p['delta3']\n",
    "    gamma_13 = p['gamma13']\n",
    "    gamma_23 = p['gamma23'] \n",
    "    gamma_2d = p['gamma2d']\n",
    "    gamma_3d = p['gamma3d']\n",
    "    n_b = p['nbath']\n",
    "    gamma_mu = p['gammamu']\n",
    "    Omega_o = p['omegao'] \n",
    "    Omega_mu = p['omegam']\n",
    "    g = p['g']\n",
    "    \n",
    "    cdef int ii\n",
    "    cdef int jj\n",
    "    \n",
    "    cdef double m2 = p['mean_delta2']\n",
    "    cdef double sd2 = p['sd_delta2']\n",
    "    cdef double m3 = p['mean_delta3']\n",
    "    cdef double sd3 = p['sd_delta3']\n",
    "\n",
    "    cdef int ndelta2 = 2*int(3*sd2/df)+1\n",
    "    cdef int ndelta3 = 2*int(3*sd3/df)+1\n",
    "    #print(ndelta2,ndelta3) \n",
    "\n",
    "    delta2vals = np.linspace(-3,3,ndelta2)*sd2+m2\n",
    "    delta3vals = np.linspace(-3,3,ndelta3)*sd3+m3\n",
    "   \n",
    "    cdef double [:] delta2valsv = delta2vals\n",
    "    cdef double [:] delta3valsv = delta3vals\n",
    "\n",
    "    \n",
    "    simpsonw2 = np.empty((ndelta2,),dtype='int32')\n",
    "    cdef int [:] simpsonw2v = simpsonw2 \n",
    "    simpsonw3 = np.empty((ndelta3,),dtype='int32')\n",
    "    cdef int [:] simpsonw3v = simpsonw3   \n",
    "    \n",
    "    ii=0\n",
    "    while(ii<(ndelta2-1)):\n",
    "        simpsonw2v[ii]=2\n",
    "        ii+=1\n",
    "        simpsonw2v[ii]=4\n",
    "        ii+=1\n",
    "    simpsonw2v[0]=1\n",
    "    simpsonw2v[ndelta2-1]=1\n",
    "          \n",
    "    ii=0\n",
    "    while(ii<(ndelta3-1)):\n",
    "        simpsonw3v[ii]=2\n",
    "        ii+=1\n",
    "        simpsonw3v[ii]=4\n",
    "        ii+=1\n",
    "    simpsonw3v[0]=1\n",
    "    simpsonw3v[ndelta3-1]=1\n",
    "\n",
    "    \n",
    "    \n",
    "    cdef double complex sum = 0\n",
    "    cdef double gaussie\n",
    "    \n",
    "    for ii in range(ndelta2):\n",
    "        delta_2 = delta2valsv[ii]\n",
    "        w2 = simpsonw2v[ii]\n",
    "        for jj in range(ndelta3):\n",
    "            delta_3 = delta3valsv[jj]\n",
    "            w3 = simpsonw3v[jj]\n",
    "            gaussie = 1.0/(2*3.14159265358979323846*sd3*sd2) * exp(-(delta_2-m2)**2/(2*sd2*sd2)-(delta_3-m3)**2/(2*sd3*sd3))\n",
    "            sum += steady_rho13_lots_of_args(a_r,\n",
    "                               a_i,\n",
    "                               delta_2,\n",
    "                               delta_3,\n",
    "                               gamma_13,\n",
    "                               gamma_23,\n",
    "                               gamma_2d,\n",
    "                               gamma_3d,\n",
    "                               n_b,\n",
    "                               gamma_mu,\n",
    "                               Omega_o,\n",
    "                               Omega_mu,\n",
    "                               g)*gaussie*w2*w3\n",
    "#           sum+=gaussie*w2*w3\n",
    "    print(ndelta2*ndelta3)\n",
    "    return sum*df*df/9.0\n"
   ]
  },
  {
   "cell_type": "code",
   "execution_count": null,
   "metadata": {},
   "outputs": [],
   "source": []
  },
  {
   "cell_type": "markdown",
   "metadata": {},
   "source": [
    "# Example single pass like calculations no inhomo"
   ]
  },
  {
   "cell_type": "markdown",
   "metadata": {},
   "source": [
    "### weird behavior\n",
    "Signal persists at very high microwave detuning? Is this real?"
   ]
  },
  {
   "cell_type": "code",
   "execution_count": 23,
   "metadata": {},
   "outputs": [],
   "source": [
    "#some default parameters\n",
    "p = {}\n",
    "p['a'] = 0\n",
    "p['delta2'] = 0.\n",
    "p['delta3'] = 0.\n",
    "p['gamma13'] = 1./22e-3\n",
    "p['gamma23'] = 1./22e-3\n",
    "p['gamma2d'] = 1./1e-6\n",
    "p['gamma3d'] = 1./1e-6\n",
    "p['nbath'] = 20\n",
    "p['gammamu'] = 1./((p['nbath']+1)*11e-3)\n",
    "p['omegao'] = 10e6\n",
    "p['omegam'] = 10e6\n",
    "p['g'] = 0.\n",
    "\n",
    "#steady_rho(p)* np.matrix([[1,0,0,0,0,0,0,0,0]]).T\n",
    "#np.linalg.solve(steady_rho(p),np.matrix([[1,0,0,0,0,0,0,0,0]]).T)\n",
    "#steady_rho(p)"
   ]
  },
  {
   "cell_type": "code",
   "execution_count": 24,
   "metadata": {},
   "outputs": [
    {
     "data": {
      "text/plain": [
       "<matplotlib.colorbar.Colorbar at 0x7fe9e144a400>"
      ]
     },
     "execution_count": 24,
     "metadata": {},
     "output_type": "execute_result"
    },
    {
     "data": {
      "image/png": "[encoded data removed]",
      "text/plain": [
       "<Figure size 432x288 with 2 Axes>"
      ]
     },
     "metadata": {},
     "output_type": "display_data"
    }
   ],
   "source": [
    "# plt.subplot(1,2,1)\n",
    "\n",
    "delta2vals = np.linspace(-10000e6,10000e6,501)\n",
    "delta3vals = np.linspace(-100e6,100e6,501)\n",
    "coh = np.zeros((len(delta2vals),len(delta3vals)))\n",
    "#coh2 = np.zeros((len(delta2vals),len(delta3vals)))\n",
    "\n",
    "for ii in range(len(delta2vals)):\n",
    "    for jj in range(len(delta3vals)):\n",
    "        p['delta2']=delta2vals[ii]\n",
    "        p['delta3']=delta3vals[jj]\n",
    "        coh[ii,jj] = np.abs(steady_rho13(p))**2\n",
    "#        coh2[ii,jj] = np.abs(steady_rho13(p))**2\n",
    "\n",
    "#plt.subplot(1,2,1)        \n",
    "plt.imshow(coh,extent = [min(delta3vals)/1e6,max(delta3vals)/1e6,max(delta2vals)/1e6,min(delta2vals)/1e6],aspect='auto')\n",
    "plt.ylabel('delta_2')\n",
    "plt.xlabel('delta_3')\n",
    "plt.colorbar()\n"
   ]
  },
  {
   "cell_type": "markdown",
   "metadata": {},
   "source": [
    "### more \"understandable\"  behavior\n",
    "#### Driving optical pump hard, driving microwaves weakly\n"
   ]
  },
  {
   "cell_type": "code",
   "execution_count": 25,
   "metadata": {},
   "outputs": [
    {
     "data": {
      "image/png": "[encoded data removed]",
      "text/plain": [
       "<Figure size 432x288 with 2 Axes>"
      ]
     },
     "metadata": {},
     "output_type": "display_data"
    }
   ],
   "source": [
    "#some default parameters\n",
    "p = {}\n",
    "p['a'] = 0\n",
    "p['delta2'] = 0.\n",
    "p['delta3'] = 0.\n",
    "p['gamma13'] = 1./22e-3\n",
    "p['gamma23'] = 1./22e-3\n",
    "p['gamma2d'] = 1./1e-6\n",
    "p['gamma3d'] = 1./1e-6\n",
    "p['nbath'] = 20\n",
    "p['gammamu'] = 1./((p['nbath']+1)*11e-3)\n",
    "p['omegao'] = 10e6\n",
    "p['omegam'] = 1e3\n",
    "p['g'] = 0.\n",
    "\n",
    "\n",
    "delta2vals = np.linspace(-50e6,50e6,505)\n",
    "delta3vals = np.linspace(-50e6,50e6,505)\n",
    "coh = np.zeros((len(delta2vals),len(delta3vals)))\n",
    "\n",
    "\n",
    "for ii in range(len(delta2vals)):\n",
    "    for jj in range(len(delta3vals)):\n",
    "        p['delta2']=delta2vals[ii]\n",
    "        p['delta3']=delta3vals[jj]\n",
    "        coh[ii,jj] = np.abs(steady_rho13(p))**2\n",
    "        \n",
    "plt.imshow(coh,extent = [min(delta3vals)/1e6,max(delta3vals)/1e6,max(delta2vals)/1e6,min(delta2vals)/1e6],aspect='auto')\n",
    "plt.ylabel('delta_2')\n",
    "plt.xlabel('delta_3')\n",
    "plt.colorbar();\n"
   ]
  },
  {
   "cell_type": "markdown",
   "metadata": {},
   "source": [
    "#### Driving optics weakly, microwaves hard"
   ]
  },
  {
   "cell_type": "code",
   "execution_count": 26,
   "metadata": {},
   "outputs": [
    {
     "data": {
      "image/png": "[encoded data removed]",
      "text/plain": [
       "<Figure size 432x288 with 2 Axes>"
      ]
     },
     "metadata": {},
     "output_type": "display_data"
    }
   ],
   "source": [
    "#some default parameters\n",
    "p = {}\n",
    "p['a'] = 0\n",
    "p['delta2'] = 0.\n",
    "p['delta3'] = 0.\n",
    "p['gamma13'] = 1./22e-3\n",
    "p['gamma23'] = 1./22e-3\n",
    "p['gamma2d'] = 1./1e-6\n",
    "p['gamma3d'] = 1./1e-6\n",
    "p['nbath'] = 20\n",
    "p['gammamu'] = 1./((p['nbath']+1)*11e-3)\n",
    "p['omegao'] = 1e3\n",
    "p['omegam'] = 10e6\n",
    "p['g'] = 0.\n",
    "\n",
    "\n",
    "delta2vals = np.linspace(-50e6,50e6,501)\n",
    "delta3vals = np.linspace(-50e6,50e6,501)\n",
    "coh = np.zeros((len(delta2vals),len(delta3vals)))\n",
    "for ii in range(len(delta2vals)):\n",
    "    for jj in range(len(delta3vals)):\n",
    "        p['delta2']=delta2vals[ii]\n",
    "        p['delta3']=delta3vals[jj]\n",
    "        coh[ii,jj] = np.abs(steady_rho13(p))**2\n",
    "        \n",
    "plt.imshow(coh,extent = [min(delta3vals)/1e6,max(delta3vals)/1e6,max(delta2vals)/1e6,min(delta2vals)/1e6],aspect='auto')\n",
    "plt.ylabel('delta_2')\n",
    "plt.xlabel('delta_3')\n",
    "plt.colorbar();"
   ]
  },
  {
   "cell_type": "markdown",
   "metadata": {},
   "source": [
    "#### driving both weakly"
   ]
  },
  {
   "cell_type": "code",
   "execution_count": 27,
   "metadata": {},
   "outputs": [
    {
     "data": {
      "image/png": "[encoded data removed]",
      "text/plain": [
       "<Figure size 432x288 with 2 Axes>"
      ]
     },
     "metadata": {},
     "output_type": "display_data"
    }
   ],
   "source": [
    "p = {}\n",
    "p['a'] = 0\n",
    "p['delta2'] = 0.\n",
    "p['delta3'] = 0.\n",
    "p['gamma13'] = 1./22e-3\n",
    "p['gamma23'] = 1./22e-3\n",
    "p['gamma2d'] = 1./1e-6\n",
    "p['gamma3d'] = 1./1e-6\n",
    "p['nbath'] = 20\n",
    "p['gammamu'] = 1./((p['nbath']+1)*11e-3)\n",
    "p['omegao'] = 1e3\n",
    "p['omegam'] = 1e3\n",
    "p['g'] = 0.\n",
    "\n",
    "\n",
    "delta2vals = np.linspace(-5e6,5e6,51)\n",
    "delta3vals = np.linspace(-5e6,5e6,51)\n",
    "coh = np.zeros((len(delta2vals),len(delta3vals)))\n",
    "for ii in range(len(delta2vals)):\n",
    "    for jj in range(len(delta3vals)):\n",
    "        p['delta2']=delta2vals[ii]\n",
    "        p['delta3']=delta3vals[jj]\n",
    "        coh[ii,jj] = np.abs(steady_rho13(p))**2\n",
    "        \n",
    "plt.imshow(coh,extent = [min(delta3vals)/1e6,max(delta3vals)/1e6,max(delta2vals)/1e6,min(delta2vals)/1e6],aspect='auto')\n",
    "plt.ylabel('delta_2')\n",
    "plt.xlabel('delta_3')\n",
    "plt.colorbar();"
   ]
  },
  {
   "cell_type": "markdown",
   "metadata": {},
   "source": [
    "### Try out integration over inhomogeneous line"
   ]
  },
  {
   "cell_type": "code",
   "execution_count": 105,
   "metadata": {},
   "outputs": [
    {
     "name": "stdout",
     "output_type": "stream",
     "text": [
      "(1.6973584866503856e-06+4.489353121858751e-22j)\n"
     ]
    }
   ],
   "source": [
    "#some default parameters\n",
    "df = 200e3\n",
    "p = {}\n",
    "p['a'] = 0\n",
    "p['delta2'] = 0.\n",
    "p['delta3'] = 0.\n",
    "p['gamma13'] = 1./22e-3\n",
    "p['gamma23'] = 1./22e-3\n",
    "p['gamma2d'] = 1./1e-6\n",
    "p['gamma3d'] = 1./1e-6\n",
    "p['nbath'] = 20\n",
    "p['gammamu'] = 1./((p['nbath']+1)*11e-3)\n",
    "p['omegao'] = 10e3\n",
    "p['omegam'] = 10e6\n",
    "p['g'] = 0.\n",
    "\n",
    "p['mean_delta2']=0\n",
    "p['sd_delta2']=20e6/2.355 #2.355 to turn FWHM into sigma\n",
    "p['mean_delta3']=0\n",
    "p['sd_delta3']=300e6/2.355\n",
    "\n",
    "m2=p['mean_delta2']\n",
    "sd2=p['sd_delta2']\n",
    "m3=p['mean_delta3']\n",
    "sd3=p['sd_delta3']\n",
    "\n",
    "ndelta2 = int(6*sd2/df)\n",
    "ndelta3 = int(6*sd3/df)\n",
    "\n",
    "\n",
    "delta2vals = np.linspace(-3,3,ndelta2)*sd2+m2\n",
    "delta3vals = np.linspace(-3,3,ndelta3)*sd3+m3\n",
    "\n",
    "coh = np.zeros((len(delta2vals),len(delta3vals)),dtype='complex128')\n",
    "for ii in range(len(delta2vals)):\n",
    "    for jj in range(len(delta3vals)):\n",
    "        p['delta2']=delta2vals[ii]\n",
    "        p['delta3']=delta3vals[jj]\n",
    "        gaussie = 1/(2*np.pi*sd3*sd2) * np.exp(-(p['delta2']-m2)**2/(2*sd2*sd2)-(p['delta3']-m3)**2/(2*sd3*sd3))            \n",
    "        coh[ii,jj] = steady_rho13(p) * gaussie\n",
    "\n",
    "s1 = sum(sum(coh))*df*df\n",
    "print(s1)"
   ]
  },
  {
   "cell_type": "code",
   "execution_count": 106,
   "metadata": {},
   "outputs": [
    {
     "data": {
      "text/plain": [
       "(1.690003828019794e-06+4.5184298210904305e-21j)"
      ]
     },
     "execution_count": 106,
     "metadata": {},
     "output_type": "execute_result"
    }
   ],
   "source": [
    "ensemble_steady_rho13(p,400e3)"
   ]
  },
  {
   "cell_type": "code",
   "execution_count": 107,
   "metadata": {},
   "outputs": [
    {
     "data": {
      "text/plain": [
       "(1.6973584866503921e-06+9.610506515572468e-22j)"
      ]
     },
     "execution_count": 107,
     "metadata": {},
     "output_type": "execute_result"
    }
   ],
   "source": [
    "ensemble_steady_rho13(p,200e3)\n"
   ]
  },
  {
   "cell_type": "code",
   "execution_count": 117,
   "metadata": {},
   "outputs": [
    {
     "name": "stdout",
     "output_type": "stream",
     "text": [
      "3890287\n",
      "CPU times: user 3.77 s, sys: 7.78 ms, total: 3.78 s\n",
      "Wall time: 3.77 s\n"
     ]
    },
    {
     "data": {
      "text/plain": [
       "(1.7042683768438422e-06+2.552342141740294e-21j)"
      ]
     },
     "execution_count": 117,
     "metadata": {},
     "output_type": "execute_result"
    }
   ],
   "source": [
    "%time ensemble_steady_rho13(p,100e3)"
   ]
  },
  {
   "cell_type": "code",
   "execution_count": 115,
   "metadata": {},
   "outputs": [
    {
     "data": {
      "image/png": "[encoded data removed]",
      "text/latex": [
       "$$9.690801732622811e-07$$"
      ],
      "text/plain": [
       "9.690801732622811e-07"
      ]
     },
     "execution_count": 115,
     "metadata": {},
     "output_type": "execute_result"
    }
   ],
   "source": [
    "3.77/3890287"
   ]
  },
  {
   "cell_type": "code",
   "execution_count": 102,
   "metadata": {},
   "outputs": [
    {
     "data": {
      "image/png": "[encoded data removed]",
      "text/latex": [
       "$$\\left [ 7.937761798121326e-05, \\quad 7.991311397142097e-05, \\quad 8.018056187140923e-05, \\quad 8.031444502026851e-05\\right ]$$"
      ],
      "text/plain": [
       "[7.937761798121326e-05, 7.991311397142097e-05, 8.018056187140923e-05, 8.031444\n",
       "502026851e-05]"
      ]
     },
     "execution_count": 102,
     "metadata": {},
     "output_type": "execute_result"
    }
   ],
   "source": [
    "list(map( lambda x: ensemble_steady_rho13(p,x).real, [800e3,400e3,200e3,100e3]))"
   ]
  },
  {
   "cell_type": "code",
   "execution_count": 110,
   "metadata": {},
   "outputs": [
    {
     "data": {
      "image/png": "[encoded data removed]",
      "text/latex": [
       "$$\\left [ 1.6612012936461784e-06, \\quad 1.690375076092387e-06, \\quad 1.7038224105458683e-06, \\quad 1.7042683768438422e-06, \\quad 1.7078466882858191e-06\\right ]$$"
      ],
      "text/plain": [
       "[1.6612012936461784e-06, 1.690375076092387e-06, 1.7038224105458683e-06, 1.7042\n",
       "683768438422e-06, 1.7078466882858191e-06]"
      ]
     },
     "execution_count": 110,
     "metadata": {},
     "output_type": "execute_result"
    }
   ],
   "source": [
    "list(map( lambda x: ensemble_steady_rho13(p,x).real, [800e3,400e3,200e3,100e3,50e3]))"
   ]
  },
  {
   "cell_type": "code",
   "execution_count": 111,
   "metadata": {},
   "outputs": [
    {
     "name": "stdout",
     "output_type": "stream",
     "text": [
      "CPU times: user 3.73 s, sys: 19.5 ms, total: 3.75 s\n",
      "Wall time: 3.75 s\n"
     ]
    },
    {
     "data": {
      "text/plain": [
       "(1.7042683768438422e-06+2.552342141740294e-21j)"
      ]
     },
     "execution_count": 111,
     "metadata": {},
     "output_type": "execute_result"
    }
   ],
   "source": [
    "%time ensemble_steady_rho13(p,100e3)"
   ]
  },
  {
   "cell_type": "markdown",
   "metadata": {},
   "source": [
    "\n",
    "\n",
    "\n"
   ]
  },
  {
   "cell_type": "code",
   "execution_count": null,
   "metadata": {},
   "outputs": [],
   "source": []
  },
  {
   "cell_type": "code",
   "execution_count": null,
   "metadata": {},
   "outputs": [],
   "source": []
  },
  {
   "cell_type": "code",
   "execution_count": null,
   "metadata": {},
   "outputs": [],
   "source": []
  },
  {
   "cell_type": "code",
   "execution_count": null,
   "metadata": {},
   "outputs": [],
   "source": []
  },
  {
   "cell_type": "code",
   "execution_count": null,
   "metadata": {},
   "outputs": [],
   "source": []
  },
  {
   "cell_type": "code",
   "execution_count": null,
   "metadata": {},
   "outputs": [],
   "source": []
  },
  {
   "cell_type": "code",
   "execution_count": null,
   "metadata": {},
   "outputs": [],
   "source": []
  },
  {
   "cell_type": "code",
   "execution_count": null,
   "metadata": {},
   "outputs": [],
   "source": []
  },
  {
   "cell_type": "code",
   "execution_count": null,
   "metadata": {},
   "outputs": [],
   "source": []
  }
 ],
 "metadata": {
  "anaconda-cloud": {},
  "kernelspec": {
   "display_name": "Python 3",
   "language": "python",
   "name": "python3"
  },
  "language_info": {
   "codemirror_mode": {
    "name": "ipython",
    "version": 3
   },
   "file_extension": ".py",
   "mimetype": "text/x-python",
   "name": "python",
   "nbconvert_exporter": "python",
   "pygments_lexer": "ipython3",
   "version": "3.6.5"
  }
 },
 "nbformat": 4,
 "nbformat_minor": 1
}
