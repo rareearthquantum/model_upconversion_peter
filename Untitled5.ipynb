{
 "cells": [
  {
   "cell_type": "code",
   "execution_count": 1,
   "metadata": {},
   "outputs": [],
   "source": [
    "import sympy as sym\n",
    "sym.init_printing()\n",
    "\n",
    "import numpy as np\n",
    "from math import pi\n",
    "import math\n",
    "\n",
    "import matplotlib.pyplot as plt\n",
    "from sympy import I, Matrix, symbols\n",
    "from sympy.physics.quantum import TensorProduct, Dagger\n"
   ]
  },
  {
   "cell_type": "code",
   "execution_count": 37,
   "metadata": {},
   "outputs": [],
   "source": [
    "a,b =sym.symbols('a b')\n",
    "at,bt =sym.symbols('\\\\tilde{a} \\\\tilde{b}')\n",
    "atin,btin =sym.symbols('\\\\tilde{a}_{in} \\\\tilde{b}_{in}')\n",
    "atout,btout =sym.symbols('\\\\tilde{a}_{out} \\\\tilde{b}_{out}')\n",
    "w, S, A, B=sym.symbols('omega S A B')\n",
    "ka, kb=sym.symbols('kappa_a kappa_b')"
   ]
  },
  {
   "cell_type": "code",
   "execution_count": 97,
   "metadata": {},
   "outputs": [
    {
     "data": {
      "image/png": "[encoded data removed]",
      "text/latex": [
       "$$\\frac{i}{\\omega} \\left(- i S \\tilde{b} - \\frac{\\tilde{a} \\kappa_{a}}{2} - \\tilde{a}_{in} \\sqrt{\\kappa_{a}}\\right)$$"
      ],
      "text/plain": [
       "  ⎛                 \\tilde{a}⋅κₐ                    ____⎞\n",
       "ⅈ⋅⎜-ⅈ⋅S⋅\\tilde{b} - ──────────── - \\tilde{a}_{in}⋅╲╱ κₐ ⎟\n",
       "  ⎝                      2                              ⎠\n",
       "─────────────────────────────────────────────────────────\n",
       "                            ω                            "
      ]
     },
     "execution_count": 97,
     "metadata": {},
     "output_type": "execute_result"
    }
   ],
   "source": [
    "at_eq1=I/(w)*(-I*S*bt-ka/2*at-sym.sqrt(ka)*atin)\n",
    "at_eq1"
   ]
  },
  {
   "cell_type": "code",
   "execution_count": 98,
   "metadata": {},
   "outputs": [
    {
     "data": {
      "image/png": "[encoded data removed]",
      "text/latex": [
       "$$\\frac{i}{\\omega} \\left(- i \\tilde{a} \\overline{S} - \\frac{\\tilde{b} \\kappa_{b}}{2} - \\tilde{b}_{in} \\sqrt{\\kappa_{b}}\\right)$$"
      ],
      "text/plain": [
       "  ⎛              _   \\tilde{b}⋅κ_b                    _____⎞\n",
       "ⅈ⋅⎜- ⅈ⋅\\tilde{a}⋅S - ───────────── - \\tilde{b}_{in}⋅╲╱ κ_b ⎟\n",
       "  ⎝                        2                               ⎠\n",
       "────────────────────────────────────────────────────────────\n",
       "                             ω                              "
      ]
     },
     "execution_count": 98,
     "metadata": {},
     "output_type": "execute_result"
    }
   ],
   "source": [
    "bt_eq1=I/(w)*(-I*sym.conjugate(S)*at-kb/2*bt-sym.sqrt(kb)*btin)\n",
    "bt_eq1"
   ]
  },
  {
   "cell_type": "code",
   "execution_count": 99,
   "metadata": {},
   "outputs": [
    {
     "data": {
      "image/png": "[encoded data removed]",
      "text/latex": [
       "$$\\frac{1}{\\sqrt{\\kappa_{a}}} \\left(- \\tilde{a}_{in} + \\tilde{a}_{out}\\right)$$"
      ],
      "text/plain": [
       "-\\tilde{a}_{in} + \\tilde{a}_{out}\n",
       "─────────────────────────────────\n",
       "                ____             \n",
       "              ╲╱ κₐ              "
      ]
     },
     "execution_count": 99,
     "metadata": {},
     "output_type": "execute_result"
    }
   ],
   "source": [
    "at_bc=1/sym.sqrt(ka)*(-atin+atout)\n",
    "at_bc"
   ]
  },
  {
   "cell_type": "code",
   "execution_count": 101,
   "metadata": {},
   "outputs": [
    {
     "data": {
      "image/png": "[encoded data removed]",
      "text/latex": [
       "$$\\frac{1}{\\sqrt{\\kappa_{b}}} \\left(- \\tilde{b}_{in} + \\tilde{b}_{out}\\right)$$"
      ],
      "text/plain": [
       "-\\tilde{b}_{in} + \\tilde{b}_{out}\n",
       "─────────────────────────────────\n",
       "               _____             \n",
       "             ╲╱ κ_b              "
      ]
     },
     "execution_count": 101,
     "metadata": {},
     "output_type": "execute_result"
    }
   ],
   "source": [
    "bt_bc=1/sym.sqrt(kb)*(-btin+btout)\n",
    "bt_bc"
   ]
  },
  {
   "cell_type": "code",
   "execution_count": 102,
   "metadata": {},
   "outputs": [
    {
     "data": {
      "image/png": "[encoded data removed]",
      "text/latex": [
       "$$\\left ( - \\frac{4 i S \\tilde{b}_{in} \\sqrt{\\kappa_{a}} \\sqrt{\\kappa_{b}}}{- 4 S \\overline{S} - \\kappa_{a} \\kappa_{b} + 2 i \\kappa_{a} \\omega + 2 i \\kappa_{b} \\omega + 4 \\omega^{2}}, \\quad \\frac{- 4 S \\tilde{a}_{in} \\overline{S} + \\tilde{a}_{in} \\kappa_{a} \\kappa_{b} - 2 i \\tilde{a}_{in} \\kappa_{a} \\omega + 2 i \\tilde{a}_{in} \\kappa_{b} \\omega + 4 \\tilde{a}_{in} \\omega^{2}}{- 4 S \\overline{S} - \\kappa_{a} \\kappa_{b} + 2 i \\kappa_{a} \\omega + 2 i \\kappa_{b} \\omega + 4 \\omega^{2}}\\right )$$"
      ],
      "text/plain": [
       "⎛                            ____   _____                             _       \n",
       "⎜    -4⋅ⅈ⋅S⋅\\tilde{b}_{in}⋅╲╱ κₐ ⋅╲╱ κ_b         - 4⋅S⋅\\tilde{a}_{in}⋅S + \\til\n",
       "⎜──────────────────────────────────────────────, ─────────────────────────────\n",
       "⎜      _                                      2                               \n",
       "⎝- 4⋅S⋅S - κₐ⋅κ_b + 2⋅ⅈ⋅κₐ⋅ω + 2⋅ⅈ⋅κ_b⋅ω + 4⋅ω                                \n",
       "\n",
       "                                                                              \n",
       "de{a}_{in}⋅κₐ⋅κ_b - 2⋅ⅈ⋅\\tilde{a}_{in}⋅κₐ⋅ω + 2⋅ⅈ⋅\\tilde{a}_{in}⋅κ_b⋅ω + 4⋅\\ti\n",
       "──────────────────────────────────────────────────────────────────────────────\n",
       "               _                                      2                       \n",
       "         - 4⋅S⋅S - κₐ⋅κ_b + 2⋅ⅈ⋅κₐ⋅ω + 2⋅ⅈ⋅κ_b⋅ω + 4⋅ω                        \n",
       "\n",
       "             2⎞\n",
       "lde{a}_{in}⋅ω ⎟\n",
       "──────────────⎟\n",
       "              ⎟\n",
       "              ⎠"
      ]
     },
     "execution_count": 102,
     "metadata": {},
     "output_type": "execute_result"
    }
   ],
   "source": [
    "atout_ans=sym.solve((at_eq1.subs(bt,sym.solve(bt_eq1-bt,bt)[0])-at).subs(at,at_bc),atout)[0]\n",
    "atout_ans.subs(atin,0),atout_ans.subs(btin,0)"
   ]
  },
  {
   "cell_type": "code",
   "execution_count": 103,
   "metadata": {},
   "outputs": [
    {
     "data": {
      "image/png": "[encoded data removed]",
      "text/latex": [
       "$$\\left ( - \\frac{4 i \\tilde{a}_{in} \\sqrt{\\kappa_{a}} \\sqrt{\\kappa_{b}} \\overline{S}}{- 4 S \\overline{S} - \\kappa_{a} \\kappa_{b} + 2 i \\kappa_{a} \\omega + 2 i \\kappa_{b} \\omega + 4 \\omega^{2}}, \\quad \\frac{- 4 S \\tilde{b}_{in} \\overline{S} + \\tilde{b}_{in} \\kappa_{a} \\kappa_{b} + 2 i \\tilde{b}_{in} \\kappa_{a} \\omega - 2 i \\tilde{b}_{in} \\kappa_{b} \\omega + 4 \\tilde{b}_{in} \\omega^{2}}{- 4 S \\overline{S} - \\kappa_{a} \\kappa_{b} + 2 i \\kappa_{a} \\omega + 2 i \\kappa_{b} \\omega + 4 \\omega^{2}}\\right )$$"
      ],
      "text/plain": [
       "⎛                          ____   _____ _                             _       \n",
       "⎜    -4⋅ⅈ⋅\\tilde{a}_{in}⋅╲╱ κₐ ⋅╲╱ κ_b ⋅S        - 4⋅S⋅\\tilde{b}_{in}⋅S + \\til\n",
       "⎜──────────────────────────────────────────────, ─────────────────────────────\n",
       "⎜      _                                      2                               \n",
       "⎝- 4⋅S⋅S - κₐ⋅κ_b + 2⋅ⅈ⋅κₐ⋅ω + 2⋅ⅈ⋅κ_b⋅ω + 4⋅ω                                \n",
       "\n",
       "                                                                              \n",
       "de{b}_{in}⋅κₐ⋅κ_b + 2⋅ⅈ⋅\\tilde{b}_{in}⋅κₐ⋅ω - 2⋅ⅈ⋅\\tilde{b}_{in}⋅κ_b⋅ω + 4⋅\\ti\n",
       "──────────────────────────────────────────────────────────────────────────────\n",
       "               _                                      2                       \n",
       "         - 4⋅S⋅S - κₐ⋅κ_b + 2⋅ⅈ⋅κₐ⋅ω + 2⋅ⅈ⋅κ_b⋅ω + 4⋅ω                        \n",
       "\n",
       "             2⎞\n",
       "lde{b}_{in}⋅ω ⎟\n",
       "──────────────⎟\n",
       "              ⎟\n",
       "              ⎠"
      ]
     },
     "execution_count": 103,
     "metadata": {},
     "output_type": "execute_result"
    }
   ],
   "source": [
    "btout_ans=sym.solve((bt_eq1.subs(at,sym.solve(at_eq1-at,at)[0])-bt).subs(bt,bt_bc),btout)[0]\n",
    "btout_ans.subs(btin,0),btout_ans.subs(atin,0)"
   ]
  },
  {
   "cell_type": "code",
   "execution_count": 74,
   "metadata": {},
   "outputs": [
    {
     "data": {
      "image/png": "[encoded data removed]",
      "text/latex": [
       "$$\\frac{i}{\\omega} \\left(i A \\tilde{a} - i S \\tilde{b} - \\frac{\\tilde{a} \\kappa_{a}}{2} + \\tilde{a}_{in} \\sqrt{\\kappa_{a}}\\right)$$"
      ],
      "text/plain": [
       "  ⎛                                \\tilde{a}⋅κₐ                    ____⎞\n",
       "ⅈ⋅⎜ⅈ⋅A⋅\\tilde{a} - ⅈ⋅S⋅\\tilde{b} - ──────────── + \\tilde{a}_{in}⋅╲╱ κₐ ⎟\n",
       "  ⎝                                     2                              ⎠\n",
       "────────────────────────────────────────────────────────────────────────\n",
       "                                   ω                                    "
      ]
     },
     "execution_count": 74,
     "metadata": {},
     "output_type": "execute_result"
    }
   ],
   "source": [
    "at_eq2=I/(w)*(-I*S*bt-ka/2*at+sym.sqrt(ka)*atin+I*A*at)\n",
    "at_eq2"
   ]
  },
  {
   "cell_type": "code",
   "execution_count": 76,
   "metadata": {},
   "outputs": [
    {
     "data": {
      "image/png": "[encoded data removed]",
      "text/latex": [
       "$$\\frac{i}{\\omega} \\left(i B \\tilde{b} - i \\tilde{a} \\overline{S} - \\frac{\\tilde{b} \\kappa_{b}}{2} + \\tilde{b}_{in} \\sqrt{\\kappa_{b}}\\right)$$"
      ],
      "text/plain": [
       "  ⎛                            _   \\tilde{b}⋅κ_b                    _____⎞\n",
       "ⅈ⋅⎜ⅈ⋅B⋅\\tilde{b} - ⅈ⋅\\tilde{a}⋅S - ───────────── + \\tilde{b}_{in}⋅╲╱ κ_b ⎟\n",
       "  ⎝                                      2                               ⎠\n",
       "──────────────────────────────────────────────────────────────────────────\n",
       "                                    ω                                     "
      ]
     },
     "execution_count": 76,
     "metadata": {},
     "output_type": "execute_result"
    }
   ],
   "source": [
    "bt_eq2=I/(w)*(-I*sym.conjugate(S)*at-kb/2*bt+sym.sqrt(kb)*btin+I*B*bt)\n",
    "bt_eq2"
   ]
  },
  {
   "cell_type": "code",
   "execution_count": 77,
   "metadata": {},
   "outputs": [
    {
     "data": {
      "image/png": "[encoded data removed]",
      "text/latex": [
       "$$\\left ( \\frac{4 i S \\tilde{b}_{in} \\sqrt{\\kappa_{a}} \\sqrt{\\kappa_{b}}}{4 A B + 2 i A \\kappa_{b} + 4 A \\omega + 2 i B \\kappa_{a} + 4 B \\omega - 4 S \\overline{S} - \\kappa_{a} \\kappa_{b} + 2 i \\kappa_{a} \\omega + 2 i \\kappa_{b} \\omega + 4 \\omega^{2}}, \\quad \\frac{- 4 A B \\tilde{a}_{in} - 2 i A \\tilde{a}_{in} \\kappa_{b} - 4 A \\tilde{a}_{in} \\omega + 2 i B \\tilde{a}_{in} \\kappa_{a} - 4 B \\tilde{a}_{in} \\omega + 4 S \\tilde{a}_{in} \\overline{S} - \\tilde{a}_{in} \\kappa_{a} \\kappa_{b} + 2 i \\tilde{a}_{in} \\kappa_{a} \\omega - 2 i \\tilde{a}_{in} \\kappa_{b} \\omega - 4 \\tilde{a}_{in} \\omega^{2}}{4 A B + 2 i A \\kappa_{b} + 4 A \\omega + 2 i B \\kappa_{a} + 4 B \\omega - 4 S \\overline{S} - \\kappa_{a} \\kappa_{b} + 2 i \\kappa_{a} \\omega + 2 i \\kappa_{b} \\omega + 4 \\omega^{2}}\\right )$$"
      ],
      "text/plain": [
       "⎛                                                   ____   _____              \n",
       "⎜                            4⋅ⅈ⋅S⋅\\tilde{b}_{in}⋅╲╱ κₐ ⋅╲╱ κ_b               \n",
       "⎜─────────────────────────────────────────────────────────────────────────────\n",
       "⎜                                                   _                         \n",
       "⎝4⋅A⋅B + 2⋅ⅈ⋅A⋅κ_b + 4⋅A⋅ω + 2⋅ⅈ⋅B⋅κₐ + 4⋅B⋅ω - 4⋅S⋅S - κₐ⋅κ_b + 2⋅ⅈ⋅κₐ⋅ω + 2⋅\n",
       "\n",
       "                                                                              \n",
       "                -4⋅A⋅B⋅\\tilde{a}_{in} - 2⋅ⅈ⋅A⋅\\tilde{a}_{in}⋅κ_b - 4⋅A⋅\\tilde{\n",
       "──────────────, ──────────────────────────────────────────────────────────────\n",
       "             2                                                                \n",
       "ⅈ⋅κ_b⋅ω + 4⋅ω                                                                 \n",
       "\n",
       "                                                                              \n",
       "a}_{in}⋅ω + 2⋅ⅈ⋅B⋅\\tilde{a}_{in}⋅κₐ - 4⋅B⋅\\tilde{a}_{in}⋅ω + 4⋅S⋅\\tilde{a}_{in\n",
       "──────────────────────────────────────────────────────────────────────────────\n",
       "                                                                _             \n",
       "             4⋅A⋅B + 2⋅ⅈ⋅A⋅κ_b + 4⋅A⋅ω + 2⋅ⅈ⋅B⋅κₐ + 4⋅B⋅ω - 4⋅S⋅S - κₐ⋅κ_b + 2\n",
       "\n",
       "  _                                                                           \n",
       "}⋅S - \\tilde{a}_{in}⋅κₐ⋅κ_b + 2⋅ⅈ⋅\\tilde{a}_{in}⋅κₐ⋅ω - 2⋅ⅈ⋅\\tilde{a}_{in}⋅κ_b\n",
       "──────────────────────────────────────────────────────────────────────────────\n",
       "                         2                                                    \n",
       "⋅ⅈ⋅κₐ⋅ω + 2⋅ⅈ⋅κ_b⋅ω + 4⋅ω                                                     \n",
       "\n",
       "                       2⎞\n",
       "⋅ω - 4⋅\\tilde{a}_{in}⋅ω ⎟\n",
       "────────────────────────⎟\n",
       "                        ⎟\n",
       "                        ⎠"
      ]
     },
     "execution_count": 77,
     "metadata": {},
     "output_type": "execute_result"
    }
   ],
   "source": [
    "atout_ans2=sym.solve((at_eq2.subs(bt,sym.solve(bt_eq2-bt,bt)[0])-at).subs(at,at_bc),atout)[0]\n",
    "atout_ans2.subs(atin,0),atout_ans2.subs(btin,0)"
   ]
  },
  {
   "cell_type": "code",
   "execution_count": 79,
   "metadata": {},
   "outputs": [
    {
     "data": {
      "image/png": "[encoded data removed]",
      "text/latex": [
       "$$\\frac{- 4 A B \\tilde{b}_{in} + 2 i A \\tilde{b}_{in} \\kappa_{b} - 4 A \\tilde{b}_{in} \\omega - 2 i B \\tilde{b}_{in} \\kappa_{a} - 4 B \\tilde{b}_{in} \\omega + 4 S \\tilde{b}_{in} \\overline{S} + 4 i \\tilde{a}_{in} \\sqrt{\\kappa_{a}} \\sqrt{\\kappa_{b}} \\overline{S} - \\tilde{b}_{in} \\kappa_{a} \\kappa_{b} - 2 i \\tilde{b}_{in} \\kappa_{a} \\omega + 2 i \\tilde{b}_{in} \\kappa_{b} \\omega - 4 \\tilde{b}_{in} \\omega^{2}}{4 A B + 2 i A \\kappa_{b} + 4 A \\omega + 2 i B \\kappa_{a} + 4 B \\omega - 4 S \\overline{S} - \\kappa_{a} \\kappa_{b} + 2 i \\kappa_{a} \\omega + 2 i \\kappa_{b} \\omega + 4 \\omega^{2}}$$"
      ],
      "text/plain": [
       "                                                                              \n",
       "-4⋅A⋅B⋅\\tilde{b}_{in} + 2⋅ⅈ⋅A⋅\\tilde{b}_{in}⋅κ_b - 4⋅A⋅\\tilde{b}_{in}⋅ω - 2⋅ⅈ⋅\n",
       "──────────────────────────────────────────────────────────────────────────────\n",
       "                                                                              \n",
       "                                                                              \n",
       "\n",
       "                                                                _             \n",
       "B⋅\\tilde{b}_{in}⋅κₐ - 4⋅B⋅\\tilde{b}_{in}⋅ω + 4⋅S⋅\\tilde{b}_{in}⋅S + 4⋅ⅈ⋅\\tilde\n",
       "──────────────────────────────────────────────────────────────────────────────\n",
       "                                                                   _          \n",
       "                4⋅A⋅B + 2⋅ⅈ⋅A⋅κ_b + 4⋅A⋅ω + 2⋅ⅈ⋅B⋅κₐ + 4⋅B⋅ω - 4⋅S⋅S - κₐ⋅κ_b \n",
       "\n",
       "           ____   _____ _                                                     \n",
       "{a}_{in}⋅╲╱ κₐ ⋅╲╱ κ_b ⋅S - \\tilde{b}_{in}⋅κₐ⋅κ_b - 2⋅ⅈ⋅\\tilde{b}_{in}⋅κₐ⋅ω + \n",
       "──────────────────────────────────────────────────────────────────────────────\n",
       "                            2                                                 \n",
       "+ 2⋅ⅈ⋅κₐ⋅ω + 2⋅ⅈ⋅κ_b⋅ω + 4⋅ω                                                  \n",
       "\n",
       "                                             2\n",
       "2⋅ⅈ⋅\\tilde{b}_{in}⋅κ_b⋅ω - 4⋅\\tilde{b}_{in}⋅ω \n",
       "──────────────────────────────────────────────\n",
       "                                              \n",
       "                                              "
      ]
     },
     "execution_count": 79,
     "metadata": {},
     "output_type": "execute_result"
    }
   ],
   "source": [
    "btout_ans2=sym.solve((bt_eq2.subs(at,sym.solve(at_eq2-at,at)[0])-bt).subs(bt,bt_bc),btout)[0]\n",
    "btout_ans2.subs(btin,0),btout_ans2.subs(atin,0)\n",
    "btout_ans2"
   ]
  },
  {
   "cell_type": "code",
   "execution_count": null,
   "metadata": {},
   "outputs": [],
   "source": []
  }
 ],
 "metadata": {
  "kernelspec": {
   "display_name": "Python 3",
   "language": "python",
   "name": "python3"
  },
  "language_info": {
   "codemirror_mode": {
    "name": "ipython",
    "version": 3
   },
   "file_extension": ".py",
   "mimetype": "text/x-python",
   "name": "python",
   "nbconvert_exporter": "python",
   "pygments_lexer": "ipython3",
   "version": "3.6.5"
  }
 },
 "nbformat": 4,
 "nbformat_minor": 2
}
