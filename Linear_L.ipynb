{
 "cells": [
  {
   "cell_type": "code",
   "execution_count": 1,
   "metadata": {},
   "outputs": [],
   "source": [
    "#importing python libs\n",
    "\n",
    "import sympy as sym\n",
    "sym.init_printing()\n",
    "\n",
    "import numpy as np\n",
    "from math import pi\n",
    "import math\n",
    "import matplotlib.pyplot as plt\n",
    "from sympy import I, Matrix, symbols\n",
    "from sympy.physics.quantum import TensorProduct, Dagger\n",
    "import scipy.optimize\n",
    "import scipy.integrate\n",
    "import scipy.constants as const\n",
    "\n",
    "#import qutip\n",
    "\n",
    "from matplotlib.colors import Normalize as Norm\n",
    "\n",
    "%load_ext cython\n",
    "import time"
   ]
  },
  {
   "cell_type": "code",
   "execution_count": 35,
   "metadata": {},
   "outputs": [],
   "source": [
    "#from sympy.physics.quantum import Commutator as comm\n",
    "def comm(A,B):\n",
    "    return A*B-B*A"
   ]
  },
  {
   "cell_type": "code",
   "execution_count": 2,
   "metadata": {},
   "outputs": [],
   "source": [
    "#define some s pre/post operators\n",
    "\n",
    "def spre(m):\n",
    "    return TensorProduct(sym.eye(m.shape[0]),m)\n",
    "\n",
    "def spost(m):\n",
    "    return TensorProduct(m.T, sym.eye(m.shape[0]))\n",
    "\n",
    "def collapse(c):\n",
    "    tmp = Dagger(c)*c/2\n",
    "    return spre(c)*spost(Dagger(c))-spre(tmp)-spost(tmp)\n",
    "\n",
    "\n",
    "s13=Matrix([[0,0,1],[0,0,0],[0,0,0]])\n",
    "s23=Matrix([[0,0,0],[0,0,1],[0,0,0]])\n",
    "s12=Matrix([[0,1,0],[0,0,0],[0,0,0]])\n",
    "\n",
    "s31=s13.T\n",
    "s32=s23.T\n",
    "s21=s12.T\n",
    "\n",
    "s11 = s12*s21\n",
    "s22 = s21*s12\n",
    "s33 = s31*s13"
   ]
  },
  {
   "cell_type": "code",
   "execution_count": 897,
   "metadata": {},
   "outputs": [],
   "source": [
    "delo,delm=sym.symbols('delta_o delta_mu', real=True) \n",
    "#delao, delam =sym.symbols('delta_a_o delta_a_mu') #detunings between atom and cavity\n",
    "gamma13,gamma23,gamma2d,gamma3d,nbath,gammamu=sym.symbols('gamma_13 gamma_23 gamma_2d gamma_3d n_b gamma_mu', real=True, negative=False) #energy decay for atom levels\n",
    "Omega=sym.symbols('Omega', real=False) #pump Rabi frequency\n",
    "rho11, rho12, rho13, rho21, rho22, rho23, rho31, rho32, rho33=sym.symbols('rho_11 rho_12 rho_13 rho_21 rho_22 rho_23 rho_31 rho_32 rho_33') #Density matrix elements\n",
    "a, b = sym.symbols('a b') #classical amplitudes of the optical and microwave fields\n",
    "#ar,ai=sym.symbols('a_r a_i', real=True)\n",
    "go, gm=sym.symbols('g_o, g_mu',real=False) #coupling strengths for optical and microwave fields\n",
    "lam=sym.symbols('lambda')\n",
    "Del= sym.symbols('Delta', real=True)\n",
    "Gam=sym.symbols('Gamma', real=True, postive=True)\n",
    "Wsq=sym.symbols('Omega_sq', real=True, positive=True)"
   ]
  },
  {
   "cell_type": "code",
   "execution_count": 270,
   "metadata": {},
   "outputs": [],
   "source": [
    "p = {}\n",
    "\n",
    "p['deltamu'] = 0.\n",
    "p['deltao'] = 0.\n",
    "\n",
    "\n",
    "p['d13'] = 2e-32*math.sqrt(1/3)\n",
    "p['d23'] = 2e-32*math.sqrt(2/3)\n",
    "p['gamma13'] = p['d13']**2/(p['d13']**2+p['d23']**2)*1/11e-3\n",
    "p['gamma23'] = p['d23']**2/(p['d13']**2+p['d23']**2)*1/11e-3\n",
    "p['gamma2d'] = 1e6\n",
    "p['gamma3d'] = 1e6\n",
    "p['nbath'] = 20\n",
    "p['gammamu'] = 1/(p['nbath']+1) * 1e3\n",
    "\n",
    "p['go'] = 51.9  #optical coupling\n",
    "\n",
    "p['No'] = 1.28e15 # number of atoms in the optical mode\n",
    "\n",
    "p['deltac']=0 #detuning for \n",
    "p['kappaoi']=2*pi*7.95e6 # intrinsic loss for optical resonator\n",
    "p['kappaoc']=2*pi*1.7e6 # coupling loss for optical resonator\n",
    "#p['df']=0.1e6 # how small descretisation step to take when integrating over the \n",
    "            # inhomogeneous lines\n",
    "\n",
    "p['mean_delam']=0\n",
    "p['sd_delam']=2*pi*25e6/2.355  #microwave inhomogeneous broadening\n",
    "                                #2.355is to turn FWHM into standard deviation\n",
    "p['mean_delao']=0\n",
    "p['sd_delao']=2*pi*170e6/2.355 #optical inhomogeneous broadening\n",
    "\n",
    "p['kappami'] = 650e3*2*pi # intrinsic loss for microwave cavity\n",
    "p['kappamc'] = 70e3*2*pi  # coupling loss for optical cavity\n",
    "                        # this is for one of the two output ports\n",
    "p['Nm'] = 2.22e16  #toal number of atoms\n",
    "p['gm'] = 1.04 #coupling between atoms and microwave field\n",
    "\n",
    "p['gammaoc']=2*pi*1.7e6\n",
    "p['gammaoi']=2*pi*7.95e6\n",
    "p['gammamc']=2*pi*70e3\n",
    "p['gammami']=2*pi*650e3\n",
    "\n",
    "\n",
    "muBohr=927.4009994e-26; # Bohr magneton in J/T in J* T^-1\n",
    "p['mu12'] = 4.3803*muBohr # transition dipole moment for microwave cavity (J T^-1)\n",
    "\n",
    "p['Lsample']=12e-3 # the length of the sample, in m\n",
    "p['dsample']=5e-3 # the diameter of the sample, in m\n",
    "\n",
    "p['fillfactor']=0.8 #microwave filling factor\n",
    "p['freqmu'] = 5.186e9\n",
    "p['freq_pump'] = 195113.36e9 #pump frequency\n",
    "p['freqo']=p['freqmu']+p['freq_pump']\n",
    "\n",
    "p['Lcavity_vac'] = 49.5e-3 # length of the vacuum part of the optical\n",
    "                           # Fabry Perot (m)\n",
    "p['Wcavity'] =  0.6e-3# width of optical resonator beam in sample (m)\n",
    "p['nYSO'] = 1.76\n",
    "p['Omega']=-492090.88755145477\n",
    "\n"
   ]
  },
  {
   "cell_type": "code",
   "execution_count": 271,
   "metadata": {},
   "outputs": [],
   "source": [
    "def singular_test_bad(A):\n",
    "    A_func=sym.lambdify((delo,delm,gamma13,gamma23,gamma2d,gamma3d,nbath,gammamu,Omega,go, gm,a,b),A)\n",
    "    A_det=np.zeros(10,dtype=np.complex_)\n",
    "    for ii in range(10):\n",
    "        A_mat=A_func(np.random.randn()*1e6,np.random.rand()*1e6,np.random.rand(),np.random.rand(),np.random.rand(),np.random.rand(),np.random.rand(),np.random.rand(),np.random.rand(),np.random.rand(),np.random.rand(),np.random.rand(),np.random.rand())\n",
    "        A_det[ii]=np.linalg.det(A_mat)\n",
    "    if sum(A_det)==0:\n",
    "        rval=0\n",
    "    else:\n",
    "        rval=A_det\n",
    "    return rval"
   ]
  },
  {
   "cell_type": "code",
   "execution_count": 272,
   "metadata": {},
   "outputs": [],
   "source": [
    "H=Omega*s32+gm*s21*b+go*s31*a\n",
    "H=H+Dagger(H)\n",
    "H=H+(delo)*s33+(delm)*s22"
   ]
  },
  {
   "cell_type": "code",
   "execution_count": 273,
   "metadata": {},
   "outputs": [],
   "source": [
    "LH=-I*spre(H)+I*spost(H)\n",
    "L21 = gammamu*(nbath+1)*collapse(s12)\n",
    "L12 = gammamu*nbath*collapse(s21)\n",
    "L32 = gamma23*collapse(s23)\n",
    "L31 = gamma13*collapse(s13)\n",
    "L22 = gamma2d*collapse(s22)\n",
    "L33 = gamma3d*collapse(s33)\n",
    "\n",
    "L=LH + L21 + L12 + L32 + L31 + L22 + L33\n",
    "#L = L.row_insert(0,Matrix([[1,0,0,0,1,0,0,0,1]]))\n",
    "#LH = LH.row_insert(0,Matrix([[1,0,0,0,1,0,0,0,1]]))\n",
    "\n",
    "#L.row_del(1)\n",
    "\n",
    "#define the density matrix in square and row form\n",
    "#the row form is so the Liovillian in matrix form can be acted on it\n",
    "rho = Matrix([[rho11,rho21,rho31],[rho12,rho22,rho32],[rho13,rho23,rho33]])\n",
    "rho = 1*rho.T #because we are using \"fortran\" style matrix flatteneing\n",
    "rho[:]\n",
    "rhoflat = 1*rho.T \n",
    "rhoflat = rhoflat[:]"
   ]
  },
  {
   "cell_type": "code",
   "execution_count": 274,
   "metadata": {},
   "outputs": [],
   "source": [
    "L0=L.subs({a:0,b:0})\n",
    "La=L.subs({a:1,b:0})-L0\n",
    "Lb=L.subs({a:0,b:1})-L0\n",
    "LGamma=L-LH"
   ]
  },
  {
   "cell_type": "code",
   "execution_count": 275,
   "metadata": {},
   "outputs": [],
   "source": [
    "H0=H.subs({a:0,b:0})\n",
    "Ha=H.subs({a:1,b:0})-H0\n",
    "Hb=H.subs({a:0,b:1})-H0\n",
    "H1=a*Ha+b*Hb"
   ]
  },
  {
   "cell_type": "code",
   "execution_count": 276,
   "metadata": {},
   "outputs": [],
   "source": [
    "Lambda= Matrix([[l1,0,0],[0,l2,0],[0,0,l3]])"
   ]
  },
  {
   "cell_type": "code",
   "execution_count": 277,
   "metadata": {},
   "outputs": [
    {
     "data": {
      "text/latex": [
       "$$\\left[\\begin{matrix}0 & \\lambda_{1} \\rho_{12} - \\lambda_{2} \\rho_{12} & \\lambda_{1} \\rho_{13} - \\lambda_{3} \\rho_{13}\\\\- \\lambda_{1} \\rho_{21} + \\lambda_{2} \\rho_{21} & 0 & \\lambda_{2} \\rho_{23} - \\lambda_{3} \\rho_{23}\\\\- \\lambda_{1} \\rho_{31} + \\lambda_{3} \\rho_{31} & - \\lambda_{2} \\rho_{32} + \\lambda_{3} \\rho_{32} & 0\\end{matrix}\\right]$$"
      ],
      "text/plain": [
       "⎡       0          λ₁⋅ρ₁₂ - λ₂⋅ρ₁₂   λ₁⋅ρ₁₃ - λ₃⋅ρ₁₃⎤\n",
       "⎢                                                   ⎥\n",
       "⎢-λ₁⋅ρ₂₁ + λ₂⋅ρ₂₁         0          λ₂⋅ρ₂₃ - λ₃⋅ρ₂₃⎥\n",
       "⎢                                                   ⎥\n",
       "⎣-λ₁⋅ρ₃₁ + λ₃⋅ρ₃₁  -λ₂⋅ρ₃₂ + λ₃⋅ρ₃₂         0       ⎦"
      ]
     },
     "execution_count": 277,
     "metadata": {},
     "output_type": "execute_result"
    }
   ],
   "source": [
    "Lambda*rho-rho*Lambda"
   ]
  },
  {
   "cell_type": "code",
   "execution_count": 278,
   "metadata": {},
   "outputs": [
    {
     "data": {
      "text/latex": [
       "$$\\left[\\begin{matrix}0 & 0 & - i \\overline{g_{o}} & 0 & 0 & 0 & i g_{o} & 0 & 0\\\\0 & 0 & 0 & 0 & 0 & 0 & 0 & i g_{o} & 0\\\\- i g_{o} & 0 & 0 & 0 & 0 & 0 & 0 & 0 & i g_{o}\\\\0 & 0 & 0 & 0 & 0 & - i \\overline{g_{o}} & 0 & 0 & 0\\\\0 & 0 & 0 & 0 & 0 & 0 & 0 & 0 & 0\\\\0 & 0 & 0 & - i g_{o} & 0 & 0 & 0 & 0 & 0\\\\i \\overline{g_{o}} & 0 & 0 & 0 & 0 & 0 & 0 & 0 & - i \\overline{g_{o}}\\\\0 & i \\overline{g_{o}} & 0 & 0 & 0 & 0 & 0 & 0 & 0\\\\0 & 0 & i \\overline{g_{o}} & 0 & 0 & 0 & - i g_{o} & 0 & 0\\end{matrix}\\right]$$"
      ],
      "text/plain": [
       "⎡                __                                     ⎤\n",
       "⎢  0     0    -ⅈ⋅gₒ    0    0    0    ⅈ⋅gₒ    0      0  ⎥\n",
       "⎢                                                       ⎥\n",
       "⎢  0     0      0      0    0    0      0    ⅈ⋅gₒ    0  ⎥\n",
       "⎢                                                       ⎥\n",
       "⎢-ⅈ⋅gₒ   0      0      0    0    0      0     0    ⅈ⋅gₒ ⎥\n",
       "⎢                                                       ⎥\n",
       "⎢                                 __                    ⎥\n",
       "⎢  0     0      0      0    0  -ⅈ⋅gₒ    0     0      0  ⎥\n",
       "⎢                                                       ⎥\n",
       "⎢  0     0      0      0    0    0      0     0      0  ⎥\n",
       "⎢                                                       ⎥\n",
       "⎢  0     0      0    -ⅈ⋅gₒ  0    0      0     0      0  ⎥\n",
       "⎢                                                       ⎥\n",
       "⎢  __                                                 __⎥\n",
       "⎢ⅈ⋅gₒ    0      0      0    0    0      0     0    -ⅈ⋅gₒ⎥\n",
       "⎢                                                       ⎥\n",
       "⎢         __                                            ⎥\n",
       "⎢  0    ⅈ⋅gₒ    0      0    0    0      0     0      0  ⎥\n",
       "⎢                                                       ⎥\n",
       "⎢               __                                      ⎥\n",
       "⎣  0     0    ⅈ⋅gₒ     0    0    0    -ⅈ⋅gₒ   0      0  ⎦"
      ]
     },
     "execution_count": 278,
     "metadata": {},
     "output_type": "execute_result"
    }
   ],
   "source": [
    "La"
   ]
  },
  {
   "cell_type": "code",
   "execution_count": 279,
   "metadata": {},
   "outputs": [
    {
     "data": {
      "text/latex": [
       "$$\\left[\\begin{matrix}0 & - i \\overline{g_{\\mu}} & 0 & i g_{\\mu} & 0 & 0 & 0 & 0 & 0\\\\- i g_{\\mu} & 0 & 0 & 0 & i g_{\\mu} & 0 & 0 & 0 & 0\\\\0 & 0 & 0 & 0 & 0 & i g_{\\mu} & 0 & 0 & 0\\\\i \\overline{g_{\\mu}} & 0 & 0 & 0 & - i \\overline{g_{\\mu}} & 0 & 0 & 0 & 0\\\\0 & i \\overline{g_{\\mu}} & 0 & - i g_{\\mu} & 0 & 0 & 0 & 0 & 0\\\\0 & 0 & i \\overline{g_{\\mu}} & 0 & 0 & 0 & 0 & 0 & 0\\\\0 & 0 & 0 & 0 & 0 & 0 & 0 & - i \\overline{g_{\\mu}} & 0\\\\0 & 0 & 0 & 0 & 0 & 0 & - i g_{\\mu} & 0 & 0\\\\0 & 0 & 0 & 0 & 0 & 0 & 0 & 0 & 0\\end{matrix}\\right]$$"
      ],
      "text/plain": [
       "⎡           ___                                                 ⎤\n",
       "⎢  0     -ⅈ⋅gₘᵤ    0    ⅈ⋅gₘᵤ     0       0      0       0     0⎥\n",
       "⎢                                                               ⎥\n",
       "⎢-ⅈ⋅gₘᵤ    0       0      0     ⅈ⋅gₘᵤ     0      0       0     0⎥\n",
       "⎢                                                               ⎥\n",
       "⎢  0       0       0      0       0     ⅈ⋅gₘᵤ    0       0     0⎥\n",
       "⎢                                                               ⎥\n",
       "⎢  ___                             ___                          ⎥\n",
       "⎢ⅈ⋅gₘᵤ     0       0      0     -ⅈ⋅gₘᵤ    0      0       0     0⎥\n",
       "⎢                                                               ⎥\n",
       "⎢          ___                                                  ⎥\n",
       "⎢  0     ⅈ⋅gₘᵤ     0    -ⅈ⋅gₘᵤ    0       0      0       0     0⎥\n",
       "⎢                                                               ⎥\n",
       "⎢                  ___                                          ⎥\n",
       "⎢  0       0     ⅈ⋅gₘᵤ    0       0       0      0       0     0⎥\n",
       "⎢                                                               ⎥\n",
       "⎢                                                         ___   ⎥\n",
       "⎢  0       0       0      0       0       0      0     -ⅈ⋅gₘᵤ  0⎥\n",
       "⎢                                                               ⎥\n",
       "⎢  0       0       0      0       0       0    -ⅈ⋅gₘᵤ    0     0⎥\n",
       "⎢                                                               ⎥\n",
       "⎣  0       0       0      0       0       0      0       0     0⎦"
      ]
     },
     "execution_count": 279,
     "metadata": {},
     "output_type": "execute_result"
    }
   ],
   "source": [
    "Lb"
   ]
  },
  {
   "cell_type": "code",
   "execution_count": 280,
   "metadata": {},
   "outputs": [
    {
     "data": {
      "text/latex": [
       "$$\\left[\\begin{matrix}- \\gamma_{\\mu} n_{b} & 0 & 0 & 0 & \\gamma_{\\mu} \\left(n_{b} + 1\\right) & 0 & 0 & 0 & \\gamma_{13}\\\\0 & - i \\delta_{\\mu} - \\frac{\\gamma_{2d}}{2} - \\frac{\\gamma_{\\mu} n_{b}}{2} - \\frac{\\gamma_{\\mu}}{2} \\left(n_{b} + 1\\right) & - i \\overline{\\Omega} & 0 & 0 & 0 & 0 & 0 & 0\\\\0 & - i \\Omega & - i \\delta_{o} - \\frac{\\gamma_{13}}{2} - \\frac{\\gamma_{23}}{2} - \\frac{\\gamma_{3d}}{2} - \\frac{\\gamma_{\\mu} n_{b}}{2} & 0 & 0 & 0 & 0 & 0 & 0\\\\0 & 0 & 0 & i \\delta_{\\mu} - \\frac{\\gamma_{2d}}{2} - \\frac{\\gamma_{\\mu} n_{b}}{2} - \\frac{\\gamma_{\\mu}}{2} \\left(n_{b} + 1\\right) & 0 & 0 & i \\Omega & 0 & 0\\\\\\gamma_{\\mu} n_{b} & 0 & 0 & 0 & - \\gamma_{\\mu} \\left(n_{b} + 1\\right) & - i \\overline{\\Omega} & 0 & i \\Omega & \\gamma_{23}\\\\0 & 0 & 0 & 0 & - i \\Omega & i \\delta_{\\mu} - i \\delta_{o} - \\frac{\\gamma_{13}}{2} - \\frac{\\gamma_{23}}{2} - \\frac{\\gamma_{2d}}{2} - \\frac{\\gamma_{3d}}{2} - \\frac{\\gamma_{\\mu}}{2} \\left(n_{b} + 1\\right) & 0 & 0 & i \\Omega\\\\0 & 0 & 0 & i \\overline{\\Omega} & 0 & 0 & i \\delta_{o} - \\frac{\\gamma_{13}}{2} - \\frac{\\gamma_{23}}{2} - \\frac{\\gamma_{3d}}{2} - \\frac{\\gamma_{\\mu} n_{b}}{2} & 0 & 0\\\\0 & 0 & 0 & 0 & i \\overline{\\Omega} & 0 & 0 & - i \\delta_{\\mu} + i \\delta_{o} - \\frac{\\gamma_{13}}{2} - \\frac{\\gamma_{23}}{2} - \\frac{\\gamma_{2d}}{2} - \\frac{\\gamma_{3d}}{2} - \\frac{\\gamma_{\\mu}}{2} \\left(n_{b} + 1\\right) & - i \\overline{\\Omega}\\\\0 & 0 & 0 & 0 & 0 & i \\overline{\\Omega} & 0 & - i \\Omega & - \\gamma_{13} - \\gamma_{23}\\end{matrix}\\right]$$"
      ],
      "text/plain": [
       "⎡-γₘᵤ⋅n_b                     0                                     0         \n",
       "⎢                                                                             \n",
       "⎢                   γ_2d   γₘᵤ⋅n_b   γₘᵤ⋅(n_b + 1)                    _       \n",
       "⎢   0      -ⅈ⋅δₘᵤ - ──── - ─────── - ─────────────                 -ⅈ⋅Ω       \n",
       "⎢                    2        2            2                                  \n",
       "⎢                                                                             \n",
       "⎢                                                           γ₁₃   γ₂₃   γ_3d  \n",
       "⎢   0                       -ⅈ⋅Ω                    -ⅈ⋅δₒ - ─── - ─── - ──── -\n",
       "⎢                                                            2     2     2    \n",
       "⎢                                                                             \n",
       "⎢                                                                             \n",
       "⎢   0                         0                                     0         \n",
       "⎢                                                                             \n",
       "⎢                                                                             \n",
       "⎢                                                                             \n",
       "⎢γₘᵤ⋅n_b                      0                                     0         \n",
       "⎢                                                                             \n",
       "⎢                                                                             \n",
       "⎢   0                         0                                     0         \n",
       "⎢                                                                             \n",
       "⎢                                                                             \n",
       "⎢                                                                             \n",
       "⎢   0                         0                                     0         \n",
       "⎢                                                                             \n",
       "⎢                                                                             \n",
       "⎢                                                                             \n",
       "⎢   0                         0                                     0         \n",
       "⎢                                                                             \n",
       "⎢                                                                             \n",
       "⎢                                                                             \n",
       "⎣   0                         0                                     0         \n",
       "\n",
       "                            0                     γₘᵤ⋅(n_b + 1)               \n",
       "                                                                              \n",
       "                                                                              \n",
       "                            0                           0                     \n",
       "                                                                              \n",
       "                                                                              \n",
       " γₘᵤ⋅n_b                                                                      \n",
       " ───────                    0                           0                     \n",
       "    2                                                                         \n",
       "                                                                              \n",
       "                  γ_2d   γₘᵤ⋅n_b   γₘᵤ⋅(n_b + 1)                              \n",
       "          ⅈ⋅δₘᵤ - ──── - ─────── - ─────────────        0                     \n",
       "                   2        2            2                                    \n",
       "                                                                              \n",
       "                                                                              \n",
       "                            0                     -γₘᵤ⋅(n_b + 1)              \n",
       "                                                                              \n",
       "                                                                              \n",
       "                            0                          -ⅈ⋅Ω       ⅈ⋅δₘᵤ - ⅈ⋅δₒ\n",
       "                                                                              \n",
       "                                                                              \n",
       "                             _                                                \n",
       "                           ⅈ⋅Ω                          0                     \n",
       "                                                                              \n",
       "                                                                              \n",
       "                                                         _                    \n",
       "                            0                          ⅈ⋅Ω                    \n",
       "                                                                              \n",
       "                                                                              \n",
       "                                                                              \n",
       "                            0                           0                     \n",
       "\n",
       "              0                                             0                 \n",
       "                                                                              \n",
       "                                                                              \n",
       "              0                                             0                 \n",
       "                                                                              \n",
       "                                                                              \n",
       "                                                                              \n",
       "              0                                             0                 \n",
       "                                                                              \n",
       "                                                                              \n",
       "                                                                              \n",
       "              0                                            ⅈ⋅Ω                \n",
       "                                                                              \n",
       "                                                                              \n",
       "                _                                                             \n",
       "             -ⅈ⋅Ω                                           0                 \n",
       "                                                                              \n",
       "   γ₁₃   γ₂₃   γ_2d   γ_3d   γₘᵤ⋅(n_b + 1)                                    \n",
       " - ─── - ─── - ──── - ──── - ─────────────                  0                 \n",
       "    2     2     2      2           2                                          \n",
       "                                                                              \n",
       "                                                   γ₁₃   γ₂₃   γ_3d   γₘᵤ⋅n_b \n",
       "              0                             ⅈ⋅δₒ - ─── - ─── - ──── - ─────── \n",
       "                                                    2     2     2        2    \n",
       "                                                                              \n",
       "                                                                              \n",
       "              0                                             0                 \n",
       "                                                                              \n",
       "                                                                              \n",
       "               _                                                              \n",
       "             ⅈ⋅Ω                                            0                 \n",
       "\n",
       "                            0                                γ₁₃    ⎤\n",
       "                                                                    ⎥\n",
       "                                                                    ⎥\n",
       "                            0                                 0     ⎥\n",
       "                                                                    ⎥\n",
       "                                                                    ⎥\n",
       "                                                                    ⎥\n",
       "                            0                                 0     ⎥\n",
       "                                                                    ⎥\n",
       "                                                                    ⎥\n",
       "                                                                    ⎥\n",
       "                            0                                 0     ⎥\n",
       "                                                                    ⎥\n",
       "                                                                    ⎥\n",
       "                                                                    ⎥\n",
       "                           ⅈ⋅Ω                               γ₂₃    ⎥\n",
       "                                                                    ⎥\n",
       "                                                                    ⎥\n",
       "                            0                                ⅈ⋅Ω    ⎥\n",
       "                                                                    ⎥\n",
       "                                                                    ⎥\n",
       "                                                                    ⎥\n",
       "                            0                                 0     ⎥\n",
       "                                                                    ⎥\n",
       "                                                                    ⎥\n",
       "                 γ₁₃   γ₂₃   γ_2d   γ_3d   γₘᵤ⋅(n_b + 1)        _   ⎥\n",
       " -ⅈ⋅δₘᵤ + ⅈ⋅δₒ - ─── - ─── - ──── - ──── - ─────────────     -ⅈ⋅Ω   ⎥\n",
       "                  2     2     2      2           2                  ⎥\n",
       "                                                                    ⎥\n",
       "                                                                    ⎥\n",
       "                          -ⅈ⋅Ω                            -γ₁₃ - γ₂₃⎦"
      ]
     },
     "execution_count": 280,
     "metadata": {},
     "output_type": "execute_result"
    }
   ],
   "source": [
    "L0"
   ]
  },
  {
   "cell_type": "code",
   "execution_count": 281,
   "metadata": {},
   "outputs": [
    {
     "data": {
      "text/latex": [
       "$$\\left[\\begin{matrix}- \\gamma_{\\mu} n_{b} & 0 & 0 & 0 & \\gamma_{\\mu} \\left(n_{b} + 1\\right) & 0 & 0 & 0 & \\gamma_{13}\\\\0 & - \\frac{\\gamma_{2d}}{2} - \\frac{\\gamma_{\\mu} n_{b}}{2} - \\frac{\\gamma_{\\mu}}{2} \\left(n_{b} + 1\\right) & 0 & 0 & 0 & 0 & 0 & 0 & 0\\\\0 & 0 & - \\frac{\\gamma_{13}}{2} - \\frac{\\gamma_{23}}{2} - \\frac{\\gamma_{3d}}{2} - \\frac{\\gamma_{\\mu} n_{b}}{2} & 0 & 0 & 0 & 0 & 0 & 0\\\\0 & 0 & 0 & - \\frac{\\gamma_{2d}}{2} - \\frac{\\gamma_{\\mu} n_{b}}{2} - \\frac{\\gamma_{\\mu}}{2} \\left(n_{b} + 1\\right) & 0 & 0 & 0 & 0 & 0\\\\\\gamma_{\\mu} n_{b} & 0 & 0 & 0 & - \\gamma_{\\mu} \\left(n_{b} + 1\\right) & 0 & 0 & 0 & \\gamma_{23}\\\\0 & 0 & 0 & 0 & 0 & - \\frac{\\gamma_{13}}{2} - \\frac{\\gamma_{23}}{2} - \\frac{\\gamma_{2d}}{2} - \\frac{\\gamma_{3d}}{2} - \\frac{\\gamma_{\\mu}}{2} \\left(n_{b} + 1\\right) & 0 & 0 & 0\\\\0 & 0 & 0 & 0 & 0 & 0 & - \\frac{\\gamma_{13}}{2} - \\frac{\\gamma_{23}}{2} - \\frac{\\gamma_{3d}}{2} - \\frac{\\gamma_{\\mu} n_{b}}{2} & 0 & 0\\\\0 & 0 & 0 & 0 & 0 & 0 & 0 & - \\frac{\\gamma_{13}}{2} - \\frac{\\gamma_{23}}{2} - \\frac{\\gamma_{2d}}{2} - \\frac{\\gamma_{3d}}{2} - \\frac{\\gamma_{\\mu}}{2} \\left(n_{b} + 1\\right) & 0\\\\0 & 0 & 0 & 0 & 0 & 0 & 0 & 0 & - \\gamma_{13} - \\gamma_{23}\\end{matrix}\\right]$$"
      ],
      "text/plain": [
       "⎡-γₘᵤ⋅n_b                 0                               0                   \n",
       "⎢                                                                             \n",
       "⎢            γ_2d   γₘᵤ⋅n_b   γₘᵤ⋅(n_b + 1)                                   \n",
       "⎢   0      - ──── - ─────── - ─────────────               0                   \n",
       "⎢             2        2            2                                         \n",
       "⎢                                                                             \n",
       "⎢                                              γ₁₃   γ₂₃   γ_3d   γₘᵤ⋅n_b     \n",
       "⎢   0                     0                  - ─── - ─── - ──── - ───────     \n",
       "⎢                                               2     2     2        2        \n",
       "⎢                                                                             \n",
       "⎢                                                                            γ\n",
       "⎢   0                     0                               0                - ─\n",
       "⎢                                                                             \n",
       "⎢                                                                             \n",
       "⎢γₘᵤ⋅n_b                  0                               0                   \n",
       "⎢                                                                             \n",
       "⎢                                                                             \n",
       "⎢   0                     0                               0                   \n",
       "⎢                                                                             \n",
       "⎢                                                                             \n",
       "⎢                                                                             \n",
       "⎢   0                     0                               0                   \n",
       "⎢                                                                             \n",
       "⎢                                                                             \n",
       "⎢                                                                             \n",
       "⎢   0                     0                               0                   \n",
       "⎢                                                                             \n",
       "⎢                                                                             \n",
       "⎣   0                     0                               0                   \n",
       "\n",
       "            0                  γₘᵤ⋅(n_b + 1)                       0          \n",
       "                                                                              \n",
       "                                                                              \n",
       "            0                        0                             0          \n",
       "                                                                              \n",
       "                                                                              \n",
       "                                                                              \n",
       "            0                        0                             0          \n",
       "                                                                              \n",
       "                                                                              \n",
       "_2d   γₘᵤ⋅n_b   γₘᵤ⋅(n_b + 1)                                                 \n",
       "─── - ─────── - ─────────────        0                             0          \n",
       "2        2            2                                                       \n",
       "                                                                              \n",
       "            0                  -γₘᵤ⋅(n_b + 1)                      0          \n",
       "                                                                              \n",
       "                                                 γ₁₃   γ₂₃   γ_2d   γ_3d   γₘᵤ\n",
       "            0                        0         - ─── - ─── - ──── - ──── - ───\n",
       "                                                  2     2     2      2        \n",
       "                                                                              \n",
       "                                                                              \n",
       "            0                        0                             0          \n",
       "                                                                              \n",
       "                                                                              \n",
       "                                                                              \n",
       "            0                        0                             0          \n",
       "                                                                              \n",
       "                                                                              \n",
       "            0                        0                             0          \n",
       "\n",
       "                         0                                    0               \n",
       "                                                                              \n",
       "                                                                              \n",
       "                         0                                    0               \n",
       "                                                                              \n",
       "                                                                              \n",
       "                                                                              \n",
       "                         0                                    0               \n",
       "                                                                              \n",
       "                                                                              \n",
       "                                                                              \n",
       "                         0                                    0               \n",
       "                                                                              \n",
       "                                                                              \n",
       "                         0                                    0               \n",
       "                                                                              \n",
       "⋅(n_b + 1)                                                                    \n",
       "──────────               0                                    0               \n",
       "   2                                                                          \n",
       "                                                                              \n",
       "              γ₁₃   γ₂₃   γ_3d   γₘᵤ⋅n_b                                      \n",
       "            - ─── - ─── - ──── - ───────                      0               \n",
       "               2     2     2        2                                         \n",
       "                                                                              \n",
       "                                            γ₁₃   γ₂₃   γ_2d   γ_3d   γₘᵤ⋅(n_b\n",
       "                         0                - ─── - ─── - ──── - ──── - ────────\n",
       "                                             2     2     2      2           2 \n",
       "                                                                              \n",
       "                         0                                    0               \n",
       "\n",
       "          γ₁₃    ⎤\n",
       "                 ⎥\n",
       "                 ⎥\n",
       "           0     ⎥\n",
       "                 ⎥\n",
       "                 ⎥\n",
       "                 ⎥\n",
       "           0     ⎥\n",
       "                 ⎥\n",
       "                 ⎥\n",
       "                 ⎥\n",
       "           0     ⎥\n",
       "                 ⎥\n",
       "                 ⎥\n",
       "          γ₂₃    ⎥\n",
       "                 ⎥\n",
       "                 ⎥\n",
       "           0     ⎥\n",
       "                 ⎥\n",
       "                 ⎥\n",
       "                 ⎥\n",
       "           0     ⎥\n",
       "                 ⎥\n",
       "                 ⎥\n",
       " + 1)            ⎥\n",
       "─────      0     ⎥\n",
       "                 ⎥\n",
       "                 ⎥\n",
       "       -γ₁₃ - γ₂₃⎦"
      ]
     },
     "execution_count": 281,
     "metadata": {},
     "output_type": "execute_result"
    }
   ],
   "source": [
    "LGamma"
   ]
  },
  {
   "cell_type": "code",
   "execution_count": 282,
   "metadata": {},
   "outputs": [],
   "source": [
    "L0_fun=sym.lambdify((delo,delm,gamma13, gamma23, gamma2d, gamma3d, nbath,gammamu,Omega,go,gm),L0)\n",
    "La_fun=sym.lambdify((go,gm),La)\n",
    "Lb_fun=sym.lambdify((go,gm),Lb)\n",
    "LGamma_fun=sym.lambdify((gamma13, gamma23, gamma2d, gamma3d, nbath,gammamu,Omega,go,gm),LGamma)"
   ]
  },
  {
   "cell_type": "code",
   "execution_count": 283,
   "metadata": {},
   "outputs": [],
   "source": [
    "def rho0_fun(deloval,delmval,p):\n",
    "    L0_mat=L0_fun(deloval,delmval,p['gamma13'],p['gamma23'],p['gamma2d'],p['gamma3d'], p['nbath'],p['gammamu'],p['Omega'],p['go'],p['gm'])\n",
    "    L0_mat[0,:]=np.array([[1,0,0,0,1,0,0,0,1]])\n",
    "    rho = np.linalg.solve(L0_mat.astype('complex128'),np.matrix([[1,0,0,0,0,0,0,0,0]]).T)\n",
    "    return rho#np.reshape(rho,(3,3),order='F')"
   ]
  },
  {
   "cell_type": "code",
   "execution_count": 284,
   "metadata": {},
   "outputs": [
    {
     "data": {
      "text/plain": [
       "matrix([[ 0.35105258+0.0000000e+00j,  0.        -0.0000000e+00j,\n",
       "          0.        -0.0000000e+00j,  0.        -0.0000000e+00j,\n",
       "          0.32450418+0.0000000e+00j, -0.        +2.9968895e-05j,\n",
       "          0.        -0.0000000e+00j,  0.        -2.9968895e-05j,\n",
       "          0.32444324+0.0000000e+00j]])"
      ]
     },
     "execution_count": 284,
     "metadata": {},
     "output_type": "execute_result"
    }
   ],
   "source": [
    "rho0_fun(0,0,p).flatten('F')"
   ]
  },
  {
   "cell_type": "code",
   "execution_count": 285,
   "metadata": {},
   "outputs": [
    {
     "data": {
      "text/latex": [
       "$$\\left[\\begin{matrix}0.401001398466616 + 5.00545148412344 \\cdot 10^{-16} i\\\\0\\\\0\\\\0\\\\0.375121952910365 + 4.28164109045909 \\cdot 10^{-16} i\\\\0.00124009575348079 + 2.06795361557822 \\cdot 10^{-5} i\\\\0\\\\0.00124009575348079 - 2.0679536155762 \\cdot 10^{-5} i\\\\0.223876648623019 - 8.01001675793626 \\cdot 10^{-16} i\\end{matrix}\\right]$$"
      ],
      "text/plain": [
       "⎡0.401001398466616 + 5.00545148412344e-16⋅ⅈ ⎤\n",
       "⎢                                           ⎥\n",
       "⎢                     0                     ⎥\n",
       "⎢                                           ⎥\n",
       "⎢                     0                     ⎥\n",
       "⎢                                           ⎥\n",
       "⎢                     0                     ⎥\n",
       "⎢                                           ⎥\n",
       "⎢0.375121952910365 + 4.28164109045909e-16⋅ⅈ ⎥\n",
       "⎢                                           ⎥\n",
       "⎢0.00124009575348079 + 2.06795361557822e-5⋅ⅈ⎥\n",
       "⎢                                           ⎥\n",
       "⎢                     0                     ⎥\n",
       "⎢                                           ⎥\n",
       "⎢0.00124009575348079 - 2.0679536155762e-5⋅ⅈ ⎥\n",
       "⎢                                           ⎥\n",
       "⎣0.223876648623019 - 8.01001675793626e-16⋅ⅈ ⎦"
      ]
     },
     "execution_count": 285,
     "metadata": {},
     "output_type": "execute_result"
    }
   ],
   "source": [
    "Matrix(rho0_fun(10e6,-50e6,p))"
   ]
  },
  {
   "cell_type": "code",
   "execution_count": 865,
   "metadata": {},
   "outputs": [],
   "source": [
    "def rhoa_fun(deloval,delmval,rho0,p):\n",
    "    L0_mat=L0_fun(deloval,delmval,p['gamma13'],p['gamma23'],p['gamma2d'],p['gamma3d'], p['nbath'],p['gammamu'],p['Omega'],p['go'],p['gm'])\n",
    "    La_mat=La_fun(p['go'],p['gm'])\n",
    "    return -np.matrix(np.linalg.inv(L0_mat))*np.matrix(La_mat)*np.matrix(rho0)#p.matrix(np.reshape(rho0,(9,1)))"
   ]
  },
  {
   "cell_type": "code",
   "execution_count": 866,
   "metadata": {},
   "outputs": [],
   "source": [
    "def rhob_fun(deloval,delmval,rho0,p):\n",
    "    L0_mat=L0_fun(deloval,delmval,p['gamma13'],p['gamma23'],p['gamma2d'],p['gamma3d'], p['nbath'],p['gammamu'],p['Omega'],p['go'],p['gm'])\n",
    "    Lb_mat=Lb_fun(p['go'],p['gm'])\n",
    "    return -np.matrix(np.linalg.inv(L0_mat))*np.matrix(Lb_mat)*np.matrix(rho0)#p.matrix(np.reshape(rho0,(9,1)))"
   ]
  },
  {
   "cell_type": "code",
   "execution_count": 288,
   "metadata": {},
   "outputs": [
    {
     "data": {
      "text/latex": [
       "$$\\left[\\begin{matrix}\\left[\\left[\\begin{matrix}0.401001398466616 + 5.00545148412344 \\cdot 10^{-16} i\\end{matrix}\\right]\\right] & \\left[\\left[\\begin{matrix}0\\end{matrix}\\right]\\right] & \\left[\\left[\\begin{matrix}0\\end{matrix}\\right]\\right] & \\left[\\left[\\begin{matrix}0\\end{matrix}\\right]\\right] & \\left[\\left[\\begin{matrix}0.375121952910365 + 4.28164109045909 \\cdot 10^{-16} i\\end{matrix}\\right]\\right] & \\left[\\left[\\begin{matrix}0.00124009575348079 + 2.06795361557822 \\cdot 10^{-5} i\\end{matrix}\\right]\\right] & \\left[\\left[\\begin{matrix}0\\end{matrix}\\right]\\right] & \\left[\\left[\\begin{matrix}0.00124009575348079 - 2.0679536155762 \\cdot 10^{-5} i\\end{matrix}\\right]\\right] & \\left[\\left[\\begin{matrix}0.223876648623019 - 8.01001675793626 \\cdot 10^{-16} i\\end{matrix}\\right]\\right]\\\\\\left[\\left[\\begin{matrix}0\\end{matrix}\\right]\\right] & \\left[\\left[\\begin{matrix}-7.73776462434961 \\cdot 10^{-9} - 3.9526696981842 \\cdot 10^{-10} i\\end{matrix}\\right]\\right] & \\left[\\left[\\begin{matrix}9.16601369569579 \\cdot 10^{-7} + 4.58584318052128 \\cdot 10^{-8} i\\end{matrix}\\right]\\right] & \\left[\\left[\\begin{matrix}-7.73776462434962 \\cdot 10^{-9} + 3.95266969818308 \\cdot 10^{-10} i\\end{matrix}\\right]\\right] & \\left[\\left[\\begin{matrix}0\\end{matrix}\\right]\\right] & \\left[\\left[\\begin{matrix}0\\end{matrix}\\right]\\right] & \\left[\\left[\\begin{matrix}9.1660136956958 \\cdot 10^{-7} - 4.58584318051993 \\cdot 10^{-8} i\\end{matrix}\\right]\\right] & \\left[\\left[\\begin{matrix}0\\end{matrix}\\right]\\right] & \\left[\\left[\\begin{matrix}0\\end{matrix}\\right]\\right]\\\\\\left[\\left[\\begin{matrix}0\\end{matrix}\\right]\\right] & \\left[\\left[\\begin{matrix}-5.36713149675307 \\cdot 10^{-10} + 5.47243022751351 \\cdot 10^{-12} i\\end{matrix}\\right]\\right] & \\left[\\left[\\begin{matrix}-1.54898900621029 \\cdot 10^{-10} - 9.63440371051748 \\cdot 10^{-12} i\\end{matrix}\\right]\\right] & \\left[\\left[\\begin{matrix}-5.36713149675307 \\cdot 10^{-10} - 5.47243022751648 \\cdot 10^{-12} i\\end{matrix}\\right]\\right] & \\left[\\left[\\begin{matrix}0\\end{matrix}\\right]\\right] & \\left[\\left[\\begin{matrix}0\\end{matrix}\\right]\\right] & \\left[\\left[\\begin{matrix}-1.54898900621029 \\cdot 10^{-10} + 9.63440371051524 \\cdot 10^{-12} i\\end{matrix}\\right]\\right] & \\left[\\left[\\begin{matrix}0\\end{matrix}\\right]\\right] & \\left[\\left[\\begin{matrix}0\\end{matrix}\\right]\\right]\\\\\\rho_{11} & \\rho_{21} & \\rho_{31} & \\rho_{12} & \\rho_{22} & \\rho_{32} & \\rho_{13} & \\rho_{23} & \\rho_{33}\\end{matrix}\\right]$$"
      ],
      "text/plain": [
       "⎡[[0.401001398466616 + 5.00545148412344e-16⋅ⅈ]]                        [[0]]  \n",
       "⎢                                                                             \n",
       "⎢                    [[0]]                        [[-7.73776462434961e-9 - 3.9\n",
       "⎢                                                                             \n",
       "⎢                    [[0]]                       [[-5.36713149675307e-10 + 5.4\n",
       "⎢                                                                             \n",
       "⎣                     ρ₁₁                                               ρ₂₁   \n",
       "\n",
       "                                             [[0]]                            \n",
       "                                                                              \n",
       "526696981842e-10⋅ⅈ]]    [[9.16601369569579e-7 + 4.58584318052128e-8⋅ⅈ]]    [[-\n",
       "                                                                              \n",
       "7243022751351e-12⋅ⅈ]]  [[-1.54898900621029e-10 - 9.63440371051748e-12⋅ⅈ]]  [[-\n",
       "                                                                              \n",
       "                                              ρ₃₁                             \n",
       "\n",
       "                   [[0]]                         [[0.375121952910365 + 4.28164\n",
       "                                                                              \n",
       "7.73776462434962e-9 + 3.95266969818308e-10⋅ⅈ]]                       [[0]]    \n",
       "                                                                              \n",
       "5.36713149675307e-10 - 5.47243022751648e-12⋅ⅈ]]                      [[0]]    \n",
       "                                                                              \n",
       "                    ρ₁₂                                               ρ₂₂     \n",
       "\n",
       "109045909e-16⋅ⅈ]]  [[0.00124009575348079 + 2.06795361557822e-5⋅ⅈ]]            \n",
       "                                                                              \n",
       "                                        [[0]]                         [[9.1660\n",
       "                                                                              \n",
       "                                        [[0]]                       [[-1.54898\n",
       "                                                                              \n",
       "                                         ρ₃₂                                  \n",
       "\n",
       "            [[0]]                         [[0.00124009575348079 - 2.0679536155\n",
       "                                                                              \n",
       "136956958e-7 - 4.58584318051993e-8⋅ⅈ]]                        [[0]]           \n",
       "                                                                              \n",
       "900621029e-10 + 9.63440371051524e-12⋅ⅈ]]                      [[0]]           \n",
       "                                                                              \n",
       "             ρ₁₃                                               ρ₂₃            \n",
       "\n",
       "762e-5⋅ⅈ]]  [[0.223876648623019 - 8.01001675793626e-16⋅ⅈ]]⎤\n",
       "                                                          ⎥\n",
       "                                [[0]]                     ⎥\n",
       "                                                          ⎥\n",
       "                                [[0]]                     ⎥\n",
       "                                                          ⎥\n",
       "                                 ρ₃₃                      ⎦"
      ]
     },
     "execution_count": 288,
     "metadata": {},
     "output_type": "execute_result"
    }
   ],
   "source": [
    "rho0=rho0_fun(10e6,-50e6,p)\n",
    "rhoa=rhoa_fun(10e6,-50e6,rho0,p)\n",
    "rhob=rhob_fun(10e6,-50e6,rho0,p)\n",
    "\n",
    "Matrix([rho0,rhoa,rhob,rhoflat])"
   ]
  },
  {
   "cell_type": "code",
   "execution_count": null,
   "metadata": {},
   "outputs": [],
   "source": []
  },
  {
   "cell_type": "code",
   "execution_count": 289,
   "metadata": {},
   "outputs": [
    {
     "data": {
      "text/latex": [
       "$$\\left[\\begin{matrix}\\left[\\left[\\begin{matrix}0.401001398466616 + 5.00545148412344 \\cdot 10^{-16} i\\end{matrix}\\right]\\right] & \\left[\\left[\\begin{matrix}0\\end{matrix}\\right]\\right] & \\left[\\left[\\begin{matrix}0\\end{matrix}\\right]\\right] & \\left[\\left[\\begin{matrix}0\\end{matrix}\\right]\\right] & \\left[\\left[\\begin{matrix}0.375121952910365 + 4.28164109045909 \\cdot 10^{-16} i\\end{matrix}\\right]\\right] & \\left[\\left[\\begin{matrix}0.00124009575348079 + 2.06795361557822 \\cdot 10^{-5} i\\end{matrix}\\right]\\right] & \\left[\\left[\\begin{matrix}0\\end{matrix}\\right]\\right] & \\left[\\left[\\begin{matrix}0.00124009575348079 - 2.0679536155762 \\cdot 10^{-5} i\\end{matrix}\\right]\\right] & \\left[\\left[\\begin{matrix}0.223876648623019 - 8.01001675793626 \\cdot 10^{-16} i\\end{matrix}\\right]\\right]\\\\\\left[\\left[\\begin{matrix}0\\end{matrix}\\right]\\right] & \\left[\\left[\\begin{matrix}-7.73776462434961 \\cdot 10^{-9} - 3.9526696981842 \\cdot 10^{-10} i\\end{matrix}\\right]\\right] & \\left[\\left[\\begin{matrix}9.16601369569579 \\cdot 10^{-7} + 4.58584318052128 \\cdot 10^{-8} i\\end{matrix}\\right]\\right] & \\left[\\left[\\begin{matrix}-7.73776462434962 \\cdot 10^{-9} + 3.95266969818308 \\cdot 10^{-10} i\\end{matrix}\\right]\\right] & \\left[\\left[\\begin{matrix}0\\end{matrix}\\right]\\right] & \\left[\\left[\\begin{matrix}0\\end{matrix}\\right]\\right] & \\left[\\left[\\begin{matrix}9.1660136956958 \\cdot 10^{-7} - 4.58584318051993 \\cdot 10^{-8} i\\end{matrix}\\right]\\right] & \\left[\\left[\\begin{matrix}0\\end{matrix}\\right]\\right] & \\left[\\left[\\begin{matrix}0\\end{matrix}\\right]\\right]\\\\\\left[\\left[\\begin{matrix}0\\end{matrix}\\right]\\right] & \\left[\\left[\\begin{matrix}-5.36713149675307 \\cdot 10^{-10} + 5.47243022751351 \\cdot 10^{-12} i\\end{matrix}\\right]\\right] & \\left[\\left[\\begin{matrix}-1.54898900621029 \\cdot 10^{-10} - 9.63440371051748 \\cdot 10^{-12} i\\end{matrix}\\right]\\right] & \\left[\\left[\\begin{matrix}-5.36713149675307 \\cdot 10^{-10} - 5.47243022751648 \\cdot 10^{-12} i\\end{matrix}\\right]\\right] & \\left[\\left[\\begin{matrix}0\\end{matrix}\\right]\\right] & \\left[\\left[\\begin{matrix}0\\end{matrix}\\right]\\right] & \\left[\\left[\\begin{matrix}-1.54898900621029 \\cdot 10^{-10} + 9.63440371051524 \\cdot 10^{-12} i\\end{matrix}\\right]\\right] & \\left[\\left[\\begin{matrix}0\\end{matrix}\\right]\\right] & \\left[\\left[\\begin{matrix}0\\end{matrix}\\right]\\right]\\\\\\rho_{11} & \\rho_{21} & \\rho_{31} & \\rho_{12} & \\rho_{22} & \\rho_{32} & \\rho_{13} & \\rho_{23} & \\rho_{33}\\end{matrix}\\right]$$"
      ],
      "text/plain": [
       "⎡[[0.401001398466616 + 5.00545148412344e-16⋅ⅈ]]                        [[0]]  \n",
       "⎢                                                                             \n",
       "⎢                    [[0]]                        [[-7.73776462434961e-9 - 3.9\n",
       "⎢                                                                             \n",
       "⎢                    [[0]]                       [[-5.36713149675307e-10 + 5.4\n",
       "⎢                                                                             \n",
       "⎣                     ρ₁₁                                               ρ₂₁   \n",
       "\n",
       "                                             [[0]]                            \n",
       "                                                                              \n",
       "526696981842e-10⋅ⅈ]]    [[9.16601369569579e-7 + 4.58584318052128e-8⋅ⅈ]]    [[-\n",
       "                                                                              \n",
       "7243022751351e-12⋅ⅈ]]  [[-1.54898900621029e-10 - 9.63440371051748e-12⋅ⅈ]]  [[-\n",
       "                                                                              \n",
       "                                              ρ₃₁                             \n",
       "\n",
       "                   [[0]]                         [[0.375121952910365 + 4.28164\n",
       "                                                                              \n",
       "7.73776462434962e-9 + 3.95266969818308e-10⋅ⅈ]]                       [[0]]    \n",
       "                                                                              \n",
       "5.36713149675307e-10 - 5.47243022751648e-12⋅ⅈ]]                      [[0]]    \n",
       "                                                                              \n",
       "                    ρ₁₂                                               ρ₂₂     \n",
       "\n",
       "109045909e-16⋅ⅈ]]  [[0.00124009575348079 + 2.06795361557822e-5⋅ⅈ]]            \n",
       "                                                                              \n",
       "                                        [[0]]                         [[9.1660\n",
       "                                                                              \n",
       "                                        [[0]]                       [[-1.54898\n",
       "                                                                              \n",
       "                                         ρ₃₂                                  \n",
       "\n",
       "            [[0]]                         [[0.00124009575348079 - 2.0679536155\n",
       "                                                                              \n",
       "136956958e-7 - 4.58584318051993e-8⋅ⅈ]]                        [[0]]           \n",
       "                                                                              \n",
       "900621029e-10 + 9.63440371051524e-12⋅ⅈ]]                      [[0]]           \n",
       "                                                                              \n",
       "             ρ₁₃                                               ρ₂₃            \n",
       "\n",
       "762e-5⋅ⅈ]]  [[0.223876648623019 - 8.01001675793626e-16⋅ⅈ]]⎤\n",
       "                                                          ⎥\n",
       "                                [[0]]                     ⎥\n",
       "                                                          ⎥\n",
       "                                [[0]]                     ⎥\n",
       "                                                          ⎥\n",
       "                                 ρ₃₃                      ⎦"
      ]
     },
     "execution_count": 289,
     "metadata": {},
     "output_type": "execute_result"
    }
   ],
   "source": [
    "rho0=rho0_fun(10e6,-50e6,p)\n",
    "rhoa=rhoa_fun(10e6,-50e6,rho0,p)\n",
    "rhob=rhob_fun(10e6,-50e6,rho0,p)\n",
    "\n",
    "Matrix([rho0,rhoa,rhob,rhoflat])"
   ]
  },
  {
   "cell_type": "code",
   "execution_count": 290,
   "metadata": {},
   "outputs": [
    {
     "data": {
      "text/plain": [
       "array([[ 1.34861126e+02-2.90846831e+16j,  0.00000000e+00-0.00000000e+00j,\n",
       "         0.00000000e+00-0.00000000e+00j,  0.00000000e+00-0.00000000e+00j,\n",
       "         1.34862176e+02-2.90846831e+16j, -6.39776682e-05-1.06687609e-06j,\n",
       "         0.00000000e+00-0.00000000e+00j, -6.39776682e-05+1.06687609e-06j,\n",
       "         1.34804228e+02-2.90846831e+16j],\n",
       "       [ 0.00000000e+00-0.00000000e+00j, -2.00659912e-10-1.99883283e-08j,\n",
       "         3.92590366e-11-9.81642423e-10j,  0.00000000e+00-0.00000000e+00j,\n",
       "         0.00000000e+00-0.00000000e+00j,  0.00000000e+00-0.00000000e+00j,\n",
       "         0.00000000e+00-0.00000000e+00j,  0.00000000e+00-0.00000000e+00j,\n",
       "         0.00000000e+00-0.00000000e+00j],\n",
       "       [-0.00000000e+00+0.00000000e+00j,  3.92590366e-11-9.81642423e-10j,\n",
       "        -4.98836978e-09+9.97020156e-08j, -0.00000000e+00+0.00000000e+00j,\n",
       "        -0.00000000e+00+0.00000000e+00j, -0.00000000e+00+0.00000000e+00j,\n",
       "        -0.00000000e+00+0.00000000e+00j, -0.00000000e+00+0.00000000e+00j,\n",
       "        -0.00000000e+00+0.00000000e+00j],\n",
       "       [-0.00000000e+00+0.00000000e+00j, -0.00000000e+00+0.00000000e+00j,\n",
       "        -0.00000000e+00+0.00000000e+00j, -2.00659912e-10+1.99883283e-08j,\n",
       "        -0.00000000e+00+0.00000000e+00j, -0.00000000e+00+0.00000000e+00j,\n",
       "         3.92590366e-11+9.81642423e-10j, -0.00000000e+00+0.00000000e+00j,\n",
       "        -0.00000000e+00+0.00000000e+00j],\n",
       "       [ 1.28439834e+02-2.72076436e+16j,  0.00000000e+00+0.00000000e+00j,\n",
       "         0.00000000e+00+0.00000000e+00j,  0.00000000e+00+0.00000000e+00j,\n",
       "         1.28439834e+02-2.72076436e+16j, -6.09311126e-05-1.01607246e-06j,\n",
       "         0.00000000e+00+0.00000000e+00j, -6.09311126e-05+1.01607246e-06j,\n",
       "         1.28384979e+02-2.72076436e+16j],\n",
       "       [ 1.49988942e+12-8.99443049e+13j, -0.00000000e+00+0.00000000e+00j,\n",
       "        -0.00000000e+00+0.00000000e+00j, -0.00000000e+00+0.00000000e+00j,\n",
       "         1.49988942e+12-8.99443049e+13j, -4.99727421e-07-3.22765875e-21j,\n",
       "        -0.00000000e+00+0.00000000e+00j, -4.99727421e-07-3.23096747e-21j,\n",
       "         1.49988942e+12-8.99443049e+13j],\n",
       "       [ 0.00000000e+00-0.00000000e+00j,  0.00000000e+00-0.00000000e+00j,\n",
       "         0.00000000e+00-0.00000000e+00j,  3.92590366e-11+9.81642423e-10j,\n",
       "         0.00000000e+00-0.00000000e+00j,  0.00000000e+00-0.00000000e+00j,\n",
       "        -4.98836978e-09-9.97020156e-08j,  0.00000000e+00-0.00000000e+00j,\n",
       "         0.00000000e+00-0.00000000e+00j],\n",
       "       [-1.49988942e+12-8.99443049e+13j, -0.00000000e+00+0.00000000e+00j,\n",
       "        -0.00000000e+00+0.00000000e+00j, -0.00000000e+00+0.00000000e+00j,\n",
       "        -1.49988942e+12-8.99443049e+13j, -4.99727421e-07-3.22435003e-21j,\n",
       "        -0.00000000e+00+0.00000000e+00j, -4.99727421e-07-3.22435003e-21j,\n",
       "        -1.49988942e+12-8.99443049e+13j],\n",
       "       [ 1.10000000e-02-1.62378022e+16j,  0.00000000e+00+0.00000000e+00j,\n",
       "         0.00000000e+00+0.00000000e+00j,  0.00000000e+00+0.00000000e+00j,\n",
       "         1.10000000e-02-1.62378022e+16j,  0.00000000e+00+0.00000000e+00j,\n",
       "         0.00000000e+00+0.00000000e+00j,  0.00000000e+00+0.00000000e+00j,\n",
       "         0.00000000e+00-1.62378022e+16j]])"
      ]
     },
     "execution_count": 290,
     "metadata": {},
     "output_type": "execute_result"
    }
   ],
   "source": [
    "np.linalg.inv(L0_fun(10e6,-50e6,p['gamma13'],p['gamma23'],p['gamma2d'],p['gamma3d'], p['nbath'],p['gammamu'],p['Omega'],p['go'],p['gm']))"
   ]
  },
  {
   "cell_type": "code",
   "execution_count": 291,
   "metadata": {},
   "outputs": [
    {
     "data": {
      "text/latex": [
       "$$\\left[\\begin{matrix}0 & - 51.9 i \\left(3.92590366435531 \\cdot 10^{-11} - 9.81642423462121 \\cdot 10^{-10} i\\right) \\left(0.401001398466616 + 5.00545148412344 \\cdot 10^{-16} i\\right) + 51.9 i \\left(-2.00659911972945 \\cdot 10^{-10} - 1.9988328337406 \\cdot 10^{-8} i\\right) \\left(0.00124009575348079 - 2.0679536155762 \\cdot 10^{-5} i\\right) + 51.9 i \\left(3.92590366435531 \\cdot 10^{-11} - 9.81642423462121 \\cdot 10^{-10} i\\right) \\left(0.223876648623019 - 8.01001675793626 \\cdot 10^{-16} i\\right) & 51.9 i \\left(-4.98836978288254 \\cdot 10^{-9} + 9.97020155658876 \\cdot 10^{-8} i\\right) \\left(0.223876648623019 - 8.01001675793626 \\cdot 10^{-16} i\\right) + 51.9 i \\left(3.92590366435531 \\cdot 10^{-11} - 9.81642423462121 \\cdot 10^{-10} i\\right) \\left(0.00124009575348079 - 2.0679536155762 \\cdot 10^{-5} i\\right) - 51.9 i \\left(-4.98836978288254 \\cdot 10^{-9} + 9.97020155658876 \\cdot 10^{-8} i\\right) \\left(0.401001398466616 + 5.00545148412344 \\cdot 10^{-16} i\\right) & - 51.9 i \\left(3.92590366435531 \\cdot 10^{-11} + 9.81642423462121 \\cdot 10^{-10} i\\right) \\left(0.223876648623019 - 8.01001675793626 \\cdot 10^{-16} i\\right) - 51.9 i \\left(-2.00659911972945 \\cdot 10^{-10} + 1.9988328337406 \\cdot 10^{-8} i\\right) \\left(0.00124009575348079 + 2.06795361557822 \\cdot 10^{-5} i\\right) + 51.9 i \\left(3.92590366435531 \\cdot 10^{-11} + 9.81642423462121 \\cdot 10^{-10} i\\right) \\left(0.401001398466616 + 5.00545148412344 \\cdot 10^{-16} i\\right) & 0 & 0 & 51.9 i \\left(-4.98836978288254 \\cdot 10^{-9} - 9.97020155658876 \\cdot 10^{-8} i\\right) \\left(0.401001398466616 + 5.00545148412344 \\cdot 10^{-16} i\\right) - 51.9 i \\left(3.92590366435531 \\cdot 10^{-11} + 9.81642423462121 \\cdot 10^{-10} i\\right) \\left(0.00124009575348079 + 2.06795361557822 \\cdot 10^{-5} i\\right) - 51.9 i \\left(-4.98836978288254 \\cdot 10^{-9} - 9.97020155658876 \\cdot 10^{-8} i\\right) \\left(0.223876648623019 - 8.01001675793626 \\cdot 10^{-16} i\\right) & 0 & 0\\end{matrix}\\right]$$"
      ],
      "text/plain": [
       "[0  -51.9⋅ⅈ⋅(3.92590366435531e-11 - 9.81642423462121e-10⋅ⅈ)⋅(0.401001398466616\n",
       " + 5.00545148412344e-16⋅ⅈ) + 51.9⋅ⅈ⋅(-2.00659911972945e-10 - 1.9988328337406e-\n",
       "8⋅ⅈ)⋅(0.00124009575348079 - 2.0679536155762e-5⋅ⅈ) + 51.9⋅ⅈ⋅(3.92590366435531e-\n",
       "11 - 9.81642423462121e-10⋅ⅈ)⋅(0.223876648623019 - 8.01001675793626e-16⋅ⅈ)  51.\n",
       "9⋅ⅈ⋅(-4.98836978288254e-9 + 9.97020155658876e-8⋅ⅈ)⋅(0.223876648623019 - 8.0100\n",
       "1675793626e-16⋅ⅈ) + 51.9⋅ⅈ⋅(3.92590366435531e-11 - 9.81642423462121e-10⋅ⅈ)⋅(0.\n",
       "00124009575348079 - 2.0679536155762e-5⋅ⅈ) - 51.9⋅ⅈ⋅(-4.98836978288254e-9 + 9.9\n",
       "7020155658876e-8⋅ⅈ)⋅(0.401001398466616 + 5.00545148412344e-16⋅ⅈ)  -51.9⋅ⅈ⋅(3.9\n",
       "2590366435531e-11 + 9.81642423462121e-10⋅ⅈ)⋅(0.223876648623019 - 8.01001675793\n",
       "626e-16⋅ⅈ) - 51.9⋅ⅈ⋅(-2.00659911972945e-10 + 1.9988328337406e-8⋅ⅈ)⋅(0.00124009\n",
       "575348079 + 2.06795361557822e-5⋅ⅈ) + 51.9⋅ⅈ⋅(3.92590366435531e-11 + 9.81642423\n",
       "462121e-10⋅ⅈ)⋅(0.401001398466616 + 5.00545148412344e-16⋅ⅈ)  0  0  51.9⋅ⅈ⋅(-4.9\n",
       "8836978288254e-9 - 9.97020155658876e-8⋅ⅈ)⋅(0.401001398466616 + 5.0054514841234\n",
       "4e-16⋅ⅈ) - 51.9⋅ⅈ⋅(3.92590366435531e-11 + 9.81642423462121e-10⋅ⅈ)⋅(0.001240095\n",
       "75348079 + 2.06795361557822e-5⋅ⅈ) - 51.9⋅ⅈ⋅(-4.98836978288254e-9 - 9.970201556\n",
       "58876e-8⋅ⅈ)⋅(0.223876648623019 - 8.01001675793626e-16⋅ⅈ)  0  0]"
      ]
     },
     "execution_count": 291,
     "metadata": {},
     "output_type": "execute_result"
    }
   ],
   "source": [
    "(Matrix(np.linalg.inv(L0_fun(10e6,-50e6,p['gamma13'],p['gamma23'],p['gamma2d'],p['gamma3d'], p['nbath'],p['gammamu'],p['Omega'],p['go'],p['gm'])))*Matrix(La_fun(p['go'],p['gm']))*Matrix(rho0_fun(10e6,-50e6,p).flatten('F').T)).T"
   ]
  },
  {
   "cell_type": "code",
   "execution_count": 292,
   "metadata": {},
   "outputs": [
    {
     "data": {
      "text/plain": [
       "matrix([[ 1.00000000e+00,  5.29195282e-17,  7.57059327e-17],\n",
       "        [-2.49817704e-17,  1.00000000e+00,  5.38643236e-17],\n",
       "        [-1.21752099e-17,  4.61230886e-17,  1.00000000e+00]])"
      ]
     },
     "execution_count": 292,
     "metadata": {},
     "output_type": "execute_result"
    }
   ],
   "source": [
    "\n",
    "testm=np.random.rand(3,3)\n",
    "np.matrix(testm)*np.matrix(np.linalg.inv(testm))"
   ]
  },
  {
   "cell_type": "code",
   "execution_count": 343,
   "metadata": {},
   "outputs": [
    {
     "data": {
      "text/latex": [
       "$$\\left ( \\left[\\begin{matrix}\\frac{1}{4 \\Omega \\gamma_{\\mu} n_{b} \\left(\\gamma_{13} + \\gamma_{23} + \\gamma_{2d} + \\gamma_{3d} + \\gamma_{\\mu} \\left(n_{b} + 1\\right)\\right) \\overline{\\Omega}} \\left(- \\gamma_{\\mu} \\left(\\gamma_{13} + \\gamma_{23}\\right) \\left(n_{b} + 1\\right) \\left(2 i \\Delta + \\gamma_{13} + \\gamma_{23} + \\gamma_{2d} + \\gamma_{3d} + \\gamma_{\\mu} \\left(n_{b} + 1\\right)\\right)^{2} + 2 \\left(2 \\Omega \\left(\\gamma_{13} + \\gamma_{\\mu} \\left(n_{b} + 1\\right)\\right) \\overline{\\Omega} + \\gamma_{\\mu} \\left(\\gamma_{13} + \\gamma_{23}\\right) \\left(n_{b} + 1\\right) \\left(2 i \\Delta + \\gamma_{13} + \\gamma_{23} + \\gamma_{2d} + \\gamma_{3d} + \\gamma_{\\mu} \\left(n_{b} + 1\\right)\\right)\\right) \\left(\\gamma_{13} + \\gamma_{23} + \\gamma_{2d} + \\gamma_{3d} + \\gamma_{\\mu} \\left(n_{b} + 1\\right)\\right)\\right)\\\\0\\\\0\\\\0\\\\\\frac{1}{4 \\Omega \\left(\\gamma_{13} + \\gamma_{23} + \\gamma_{2d} + \\gamma_{3d} + \\gamma_{\\mu} \\left(n_{b} + 1\\right)\\right) \\overline{\\Omega}} \\left(- \\left(\\gamma_{13} + \\gamma_{23}\\right) \\left(2 i \\Delta + \\gamma_{13} + \\gamma_{23} + \\gamma_{2d} + \\gamma_{3d} + \\gamma_{\\mu} \\left(n_{b} + 1\\right)\\right)^{2} + 2 \\left(2 \\Omega \\overline{\\Omega} + \\left(\\gamma_{13} + \\gamma_{23}\\right) \\left(2 i \\Delta + \\gamma_{13} + \\gamma_{23} + \\gamma_{2d} + \\gamma_{3d} + \\gamma_{\\mu} \\left(n_{b} + 1\\right)\\right)\\right) \\left(\\gamma_{13} + \\gamma_{23} + \\gamma_{2d} + \\gamma_{3d} + \\gamma_{\\mu} \\left(n_{b} + 1\\right)\\right)\\right)\\\\- \\frac{i \\left(\\gamma_{13} + \\gamma_{23}\\right) \\left(- 2 i \\Delta + \\gamma_{13} + \\gamma_{23} + \\gamma_{2d} + \\gamma_{3d} + \\gamma_{\\mu} \\left(n_{b} + 1\\right)\\right)}{2 \\left(\\gamma_{13} + \\gamma_{23} + \\gamma_{2d} + \\gamma_{3d} + \\gamma_{\\mu} \\left(n_{b} + 1\\right)\\right) \\overline{\\Omega}}\\\\0\\\\\\frac{i \\left(\\gamma_{13} + \\gamma_{23}\\right) \\left(2 i \\Delta + \\gamma_{13} + \\gamma_{23} + \\gamma_{2d} + \\gamma_{3d} + \\gamma_{\\mu} \\left(n_{b} + 1\\right)\\right)}{2 \\Omega \\left(\\gamma_{13} + \\gamma_{23} + \\gamma_{2d} + \\gamma_{3d} + \\gamma_{\\mu} \\left(n_{b} + 1\\right)\\right)}\\\\1\\end{matrix}\\right], \\quad \\left[\\begin{matrix}\\frac{1}{\\Omega \\gamma_{\\mu} n_{b} \\overline{\\Omega}} \\left(\\Omega \\left(\\gamma_{13} + \\gamma_{\\mu} \\left(n_{b} + 1\\right)\\right) \\overline{\\Omega} + \\frac{\\gamma_{\\mu}}{4} \\left(\\gamma_{13} + \\gamma_{23}\\right) \\left(n_{b} + 1\\right) \\left(\\gamma_{13} + \\gamma_{23} + \\gamma_{2d} + \\gamma_{3d} + \\gamma_{\\mu} \\left(n_{b} + 1\\right)\\right)\\right)\\\\0\\\\0\\\\0\\\\\\frac{1}{\\Omega \\overline{\\Omega}} \\left(\\Omega \\overline{\\Omega} + \\frac{1}{4} \\left(\\gamma_{13} + \\gamma_{23}\\right) \\left(\\gamma_{13} + \\gamma_{23} + \\gamma_{2d} + \\gamma_{3d} + \\gamma_{\\mu} \\left(n_{b} + 1\\right)\\right)\\right)\\\\- \\frac{i \\left(\\gamma_{13} + \\gamma_{23}\\right)}{2 \\overline{\\Omega}}\\\\0\\\\\\frac{i \\left(\\gamma_{13} + \\gamma_{23}\\right)}{2 \\Omega}\\\\1\\end{matrix}\\right], \\quad \\left[\\begin{matrix}0\\\\0\\\\0\\\\0\\\\0\\\\- \\frac{\\gamma_{13} + \\gamma_{23}}{\\left(\\gamma_{13} + \\gamma_{23} + \\gamma_{2d} + \\gamma_{3d} + \\gamma_{\\mu} \\left(n_{b} + 1\\right)\\right) \\overline{\\Omega}}\\\\0\\\\- \\frac{\\gamma_{13} + \\gamma_{23}}{\\Omega \\left(\\gamma_{13} + \\gamma_{23} + \\gamma_{2d} + \\gamma_{3d} + \\gamma_{\\mu} \\left(n_{b} + 1\\right)\\right)}\\\\0\\end{matrix}\\right], \\quad \\left[\\begin{matrix}\\frac{\\gamma_{13} n_{b} + \\gamma_{13} + \\gamma_{23} n_{b} + \\gamma_{23}}{\\Omega n_{b} \\left(\\gamma_{13} + \\gamma_{23} + \\gamma_{2d} + \\gamma_{3d} + \\gamma_{\\mu} n_{b} + \\gamma_{\\mu}\\right) \\overline{\\Omega}}\\\\0\\\\0\\\\0\\\\\\frac{\\gamma_{13} + \\gamma_{23}}{\\Omega \\left(\\gamma_{13} + \\gamma_{23} + \\gamma_{2d} + \\gamma_{3d} + \\gamma_{\\mu} n_{b} + \\gamma_{\\mu}\\right) \\overline{\\Omega}}\\\\0\\\\0\\\\0\\\\0\\end{matrix}\\right]\\right )$$"
      ],
      "text/plain": [
       "⎛                                                                             \n",
       "⎜⎡                                                                            \n",
       "⎜⎢- γₘᵤ⋅(γ₁₃ + γ₂₃)⋅(n_b + 1)⋅(2⋅ⅈ⋅Δ + γ₁₃ + γ₂₃ + γ_2d + γ_3d + γₘᵤ⋅(n_b + 1)\n",
       "⎜⎢────────────────────────────────────────────────────────────────────────────\n",
       "⎜⎢                                                                            \n",
       "⎜⎢                                                                            \n",
       "⎜⎢                                                                            \n",
       "⎜⎢                                                                            \n",
       "⎜⎢                                                                            \n",
       "⎜⎢                                                                            \n",
       "⎜⎢                                                                            \n",
       "⎜⎢                                                                            \n",
       "⎜⎢                                                                            \n",
       "⎜⎢                                                                            \n",
       "⎜⎢                         - (γ₁₃ + γ₂₃)⋅(2⋅ⅈ⋅Δ + γ₁₃ + γ₂₃ + γ_2d + γ_3d + γₘ\n",
       "⎜⎢                         ───────────────────────────────────────────────────\n",
       "⎜⎢                                                                            \n",
       "⎜⎢                                                                            \n",
       "⎜⎢                                                                            \n",
       "⎜⎢                                                                            \n",
       "⎜⎢                                                                            \n",
       "⎜⎢                                                                            \n",
       "⎜⎢                                                                            \n",
       "⎜⎢                                                                            \n",
       "⎜⎢                                                                            \n",
       "⎜⎢                                                                            \n",
       "⎜⎢                                                                            \n",
       "⎜⎢                                                                            \n",
       "⎜⎢                                                                            \n",
       "⎜⎢                                                                            \n",
       "⎜⎣                                                                            \n",
       "⎝                                                                             \n",
       "\n",
       "                                                                              \n",
       " 2     ⎛                          _                                           \n",
       ")  + 2⋅⎝2⋅Ω⋅(γ₁₃ + γₘᵤ⋅(n_b + 1))⋅Ω + γₘᵤ⋅(γ₁₃ + γ₂₃)⋅(n_b + 1)⋅(2⋅ⅈ⋅Δ + γ₁₃ +\n",
       "──────────────────────────────────────────────────────────────────────────────\n",
       "                                                                  _           \n",
       "            4⋅Ω⋅γₘᵤ⋅n_b⋅(γ₁₃ + γ₂₃ + γ_2d + γ_3d + γₘᵤ⋅(n_b + 1))⋅Ω           \n",
       "                                                                              \n",
       "                                       0                                      \n",
       "                                                                              \n",
       "                                       0                                      \n",
       "                                                                              \n",
       "                                       0                                      \n",
       "                                                                              \n",
       "            2     ⎛    _                                                      \n",
       "ᵤ⋅(n_b + 1))  + 2⋅⎝2⋅Ω⋅Ω + (γ₁₃ + γ₂₃)⋅(2⋅ⅈ⋅Δ + γ₁₃ + γ₂₃ + γ_2d + γ_3d + γₘᵤ⋅\n",
       "──────────────────────────────────────────────────────────────────────────────\n",
       "                                                              _               \n",
       "                4⋅Ω⋅(γ₁₃ + γ₂₃ + γ_2d + γ_3d + γₘᵤ⋅(n_b + 1))⋅Ω               \n",
       "                                                                              \n",
       "       -ⅈ⋅(γ₁₃ + γ₂₃)⋅(-2⋅ⅈ⋅Δ + γ₁₃ + γ₂₃ + γ_2d + γ_3d + γₘᵤ⋅(n_b + 1))      \n",
       "       ──────────────────────────────────────────────────────────────────     \n",
       "                                                             _                \n",
       "                 2⋅(γ₁₃ + γ₂₃ + γ_2d + γ_3d + γₘᵤ⋅(n_b + 1))⋅Ω                \n",
       "                                                                              \n",
       "                                       0                                      \n",
       "                                                                              \n",
       "        ⅈ⋅(γ₁₃ + γ₂₃)⋅(2⋅ⅈ⋅Δ + γ₁₃ + γ₂₃ + γ_2d + γ_3d + γₘᵤ⋅(n_b + 1))       \n",
       "        ───────────────────────────────────────────────────────────────       \n",
       "                 2⋅Ω⋅(γ₁₃ + γ₂₃ + γ_2d + γ_3d + γₘᵤ⋅(n_b + 1))                \n",
       "                                                                              \n",
       "                                       1                                      \n",
       "                                                                              \n",
       "\n",
       "                                                                              \n",
       "                                   ⎞                                          \n",
       " γ₂₃ + γ_2d + γ_3d + γₘᵤ⋅(n_b + 1))⎠⋅(γ₁₃ + γ₂₃ + γ_2d + γ_3d + γₘᵤ⋅(n_b + 1))\n",
       "──────────────────────────────────────────────────────────────────────────────\n",
       "                                                                              \n",
       "                                                                              \n",
       "                                                                              \n",
       "                                                                              \n",
       "                                                                              \n",
       "                                                                              \n",
       "                                                                              \n",
       "                                                                              \n",
       "                                                                              \n",
       "          ⎞                                                                   \n",
       "(n_b + 1))⎠⋅(γ₁₃ + γ₂₃ + γ_2d + γ_3d + γₘᵤ⋅(n_b + 1))                         \n",
       "─────────────────────────────────────────────────────                         \n",
       "                                                                              \n",
       "                                                                              \n",
       "                                                                              \n",
       "                                                                              \n",
       "                                                                              \n",
       "                                                                              \n",
       "                                                                              \n",
       "                                                                              \n",
       "                                                                              \n",
       "                                                                              \n",
       "                                                                              \n",
       "                                                                              \n",
       "                                                                              \n",
       "                                                                              \n",
       "                                                                              \n",
       "                                                                              \n",
       "\n",
       "   ⎡                        _   γₘᵤ⋅(γ₁₃ + γ₂₃)⋅(n_b + 1)⋅(γ₁₃ + γ₂₃ + γ_2d + \n",
       "⎤  ⎢Ω⋅(γ₁₃ + γₘᵤ⋅(n_b + 1))⋅Ω + ──────────────────────────────────────────────\n",
       "⎥  ⎢                                                             4            \n",
       "⎥  ⎢──────────────────────────────────────────────────────────────────────────\n",
       "⎥  ⎢                                                    _                     \n",
       "⎥  ⎢                                          Ω⋅γₘᵤ⋅n_b⋅Ω                     \n",
       "⎥  ⎢                                                                          \n",
       "⎥  ⎢                                               0                          \n",
       "⎥  ⎢                                                                          \n",
       "⎥  ⎢                                               0                          \n",
       "⎥  ⎢                                                                          \n",
       "⎥  ⎢                                               0                          \n",
       "⎥  ⎢                                                                          \n",
       "⎥  ⎢                    _   (γ₁₃ + γ₂₃)⋅(γ₁₃ + γ₂₃ + γ_2d + γ_3d + γₘᵤ⋅(n_b + \n",
       "⎥  ⎢                  Ω⋅Ω + ──────────────────────────────────────────────────\n",
       "⎥  ⎢                                                  4                       \n",
       "⎥, ⎢                  ────────────────────────────────────────────────────────\n",
       "⎥  ⎢                                                _                         \n",
       "⎥  ⎢                                              Ω⋅Ω                         \n",
       "⎥  ⎢                                                                          \n",
       "⎥  ⎢                                        -ⅈ⋅(γ₁₃ + γ₂₃)                    \n",
       "⎥  ⎢                                        ───────────────                   \n",
       "⎥  ⎢                                                _                         \n",
       "⎥  ⎢                                              2⋅Ω                         \n",
       "⎥  ⎢                                                                          \n",
       "⎥  ⎢                                               0                          \n",
       "⎥  ⎢                                                                          \n",
       "⎥  ⎢                                         ⅈ⋅(γ₁₃ + γ₂₃)                    \n",
       "⎥  ⎢                                         ─────────────                    \n",
       "⎥  ⎢                                              2⋅Ω                         \n",
       "⎦  ⎢                                                                          \n",
       "   ⎣                                               1                          \n",
       "\n",
       "γ_3d + γₘᵤ⋅(n_b + 1))⎤                                                        \n",
       "─────────────────────⎥                                                        \n",
       "                     ⎥                                                        \n",
       "─────────────────────⎥                                                        \n",
       "                     ⎥                                                        \n",
       "                     ⎥  ⎡                     0                     ⎤  ⎡      \n",
       "                     ⎥  ⎢                                           ⎥  ⎢──────\n",
       "                     ⎥  ⎢                     0                     ⎥  ⎢      \n",
       "                     ⎥  ⎢                                           ⎥  ⎢Ω⋅n_b⋅\n",
       "                     ⎥  ⎢                     0                     ⎥  ⎢      \n",
       "                     ⎥  ⎢                                           ⎥  ⎢      \n",
       "                     ⎥  ⎢                     0                     ⎥  ⎢      \n",
       "                     ⎥  ⎢                                           ⎥  ⎢      \n",
       "1))                  ⎥  ⎢                     0                     ⎥  ⎢      \n",
       "───                  ⎥  ⎢                                           ⎥  ⎢      \n",
       "                     ⎥  ⎢               -(γ₁₃ + γ₂₃)                ⎥  ⎢      \n",
       "───                  ⎥, ⎢───────────────────────────────────────────⎥, ⎢      \n",
       "                     ⎥  ⎢                                          _⎥  ⎢  ────\n",
       "                     ⎥  ⎢(γ₁₃ + γ₂₃ + γ_2d + γ_3d + γₘᵤ⋅(n_b + 1))⋅Ω⎥  ⎢      \n",
       "                     ⎥  ⎢                                           ⎥  ⎢  Ω⋅(γ\n",
       "                     ⎥  ⎢                     0                     ⎥  ⎢      \n",
       "                     ⎥  ⎢                                           ⎥  ⎢      \n",
       "                     ⎥  ⎢               -(γ₁₃ + γ₂₃)                ⎥  ⎢      \n",
       "                     ⎥  ⎢───────────────────────────────────────────⎥  ⎢      \n",
       "                     ⎥  ⎢Ω⋅(γ₁₃ + γ₂₃ + γ_2d + γ_3d + γₘᵤ⋅(n_b + 1))⎥  ⎢      \n",
       "                     ⎥  ⎢                                           ⎥  ⎢      \n",
       "                     ⎥  ⎣                     0                     ⎦  ⎢      \n",
       "                     ⎥                                                 ⎣      \n",
       "                     ⎥                                                        \n",
       "                     ⎥                                                        \n",
       "                     ⎥                                                        \n",
       "                     ⎦                                                        \n",
       "\n",
       "                                            ⎞\n",
       "                                            ⎟\n",
       "                                            ⎟\n",
       "                                            ⎟\n",
       "                                            ⎟\n",
       "    γ₁₃⋅n_b + γ₁₃ + γ₂₃⋅n_b + γ₂₃          ⎤⎟\n",
       "───────────────────────────────────────────⎥⎟\n",
       "                                          _⎥⎟\n",
       "(γ₁₃ + γ₂₃ + γ_2d + γ_3d + γₘᵤ⋅n_b + γₘᵤ)⋅Ω⎥⎟\n",
       "                                           ⎥⎟\n",
       "                  0                        ⎥⎟\n",
       "                                           ⎥⎟\n",
       "                  0                        ⎥⎟\n",
       "                                           ⎥⎟\n",
       "                  0                        ⎥⎟\n",
       "                                           ⎥⎟\n",
       "              γ₁₃ + γ₂₃                    ⎥⎟\n",
       "─────────────────────────────────────────  ⎥⎟\n",
       "                                        _  ⎥⎟\n",
       "₁₃ + γ₂₃ + γ_2d + γ_3d + γₘᵤ⋅n_b + γₘᵤ)⋅Ω  ⎥⎟\n",
       "                                           ⎥⎟\n",
       "                  0                        ⎥⎟\n",
       "                                           ⎥⎟\n",
       "                  0                        ⎥⎟\n",
       "                                           ⎥⎟\n",
       "                  0                        ⎥⎟\n",
       "                                           ⎥⎟\n",
       "                  0                        ⎦⎟\n",
       "                                            ⎟\n",
       "                                            ⎟\n",
       "                                            ⎟\n",
       "                                            ⎠"
      ]
     },
     "execution_count": 343,
     "metadata": {},
     "output_type": "execute_result"
    }
   ],
   "source": [
    "rho_ou=sym.simplify(L0.nullspace()[0])\n",
    "rho_ou=(rho_ou.subs({2*I*delo:2*I*delm+2*I*Del}))\n",
    "rho_ou=sym.simplify(rho_ou)\n",
    "rho_ou0=sym.simplify(rho_ou.subs({Del:0}))\n",
    "rho_ou1=sym.simplify((rho_ou-rho_ou0)/Del).subs({Del:0})\n",
    "rho_ou2=sym.simplify((rho_ou-rho_ou1*Del-rho_ou0)/Del**2)\n",
    "rho_ou, rho_ou0, rho_ou1, rho_ou2"
   ]
  },
  {
   "cell_type": "code",
   "execution_count": 350,
   "metadata": {},
   "outputs": [
    {
     "data": {
      "text/latex": [
       "$$\\left[\\begin{matrix}\\left[\\left[\\begin{matrix}0.401001398466616 + 5.00545148412344 \\cdot 10^{-16} i\\end{matrix}\\right]\\right] & \\left[\\left[\\begin{matrix}0\\end{matrix}\\right]\\right] & \\left[\\left[\\begin{matrix}0\\end{matrix}\\right]\\right] & \\left[\\left[\\begin{matrix}0\\end{matrix}\\right]\\right] & \\left[\\left[\\begin{matrix}0.375121952910365 + 4.28164109045909 \\cdot 10^{-16} i\\end{matrix}\\right]\\right] & \\left[\\left[\\begin{matrix}0.00124009575348079 + 2.06795361557822 \\cdot 10^{-5} i\\end{matrix}\\right]\\right] & \\left[\\left[\\begin{matrix}0\\end{matrix}\\right]\\right] & \\left[\\left[\\begin{matrix}0.00124009575348079 - 2.0679536155762 \\cdot 10^{-5} i\\end{matrix}\\right]\\right] & \\left[\\left[\\begin{matrix}0.223876648623019 - 8.01001675793626 \\cdot 10^{-16} i\\end{matrix}\\right]\\right]\\\\0 & - \\frac{\\left(5.09472417776841 \\cdot 10^{-8} + 2.03754400180041 \\cdot 10^{-9} i\\right) \\left(\\gamma_{13} n_{b} + \\gamma_{13} + \\gamma_{23} n_{b} + \\gamma_{23}\\right)}{\\Omega n_{b} \\left(\\gamma_{13} + \\gamma_{23} + \\gamma_{2d} + \\gamma_{3d} + \\gamma_{\\mu} n_{b} + \\gamma_{\\mu}\\right) \\overline{\\Omega}} & \\frac{\\left(5.17453460786956 \\cdot 10^{-6} + 2.58896391731604 \\cdot 10^{-7} i\\right) \\left(\\gamma_{13} n_{b} + \\gamma_{13} + \\gamma_{23} n_{b} + \\gamma_{23}\\right)}{\\Omega n_{b} \\left(\\gamma_{13} + \\gamma_{23} + \\gamma_{2d} + \\gamma_{3d} + \\gamma_{\\mu} n_{b} + \\gamma_{\\mu}\\right) \\overline{\\Omega}} & - \\frac{\\left(5.09472417776841 \\cdot 10^{-8} - 2.03754400180041 \\cdot 10^{-9} i\\right) \\left(\\gamma_{13} n_{b} + \\gamma_{13} + \\gamma_{23} n_{b} + \\gamma_{23}\\right)}{\\Omega n_{b} \\left(\\gamma_{13} + \\gamma_{23} + \\gamma_{2d} + \\gamma_{3d} + \\gamma_{\\mu} n_{b} + \\gamma_{\\mu}\\right) \\overline{\\Omega}} & 0 & 0 & \\frac{\\left(5.17453460786956 \\cdot 10^{-6} - 2.58896391731604 \\cdot 10^{-7} i\\right) \\left(\\gamma_{13} n_{b} + \\gamma_{13} + \\gamma_{23} n_{b} + \\gamma_{23}\\right)}{\\Omega n_{b} \\left(\\gamma_{13} + \\gamma_{23} + \\gamma_{2d} + \\gamma_{3d} + \\gamma_{\\mu} n_{b} + \\gamma_{\\mu}\\right) \\overline{\\Omega}} & 0 & 0\\\\0 & \\frac{1.0 \\left(- 2.07878614709022 \\cdot 10^{-8} \\gamma_{13} + 2.08686308451863 \\cdot 10^{-10} i \\gamma_{13} - 2.07878614709022 \\cdot 10^{-8} \\gamma_{23} + 2.08686308451863 \\cdot 10^{-10} i \\gamma_{23}\\right)}{\\Omega n_{b} \\left(\\gamma_{13} + \\gamma_{23} + \\gamma_{2d} + \\gamma_{3d} + \\gamma_{\\mu} n_{b} + \\gamma_{\\mu}\\right) \\overline{\\Omega}} & - \\frac{1.02090812040061 \\cdot 10^{-9} \\gamma_{13} + 4.08293981092953 \\cdot 10^{-11} i \\gamma_{13} + 1.02090812040061 \\cdot 10^{-9} \\gamma_{23} + 4.08293981092953 \\cdot 10^{-11} i \\gamma_{23}}{\\Omega n_{b} \\left(\\gamma_{13} + \\gamma_{23} + \\gamma_{2d} + \\gamma_{3d} + \\gamma_{\\mu} n_{b} + \\gamma_{\\mu}\\right) \\overline{\\Omega}} & - \\frac{2.07878614709022 \\cdot 10^{-8} \\gamma_{13} + 2.08686308451863 \\cdot 10^{-10} i \\gamma_{13} + 2.07878614709022 \\cdot 10^{-8} \\gamma_{23} + 2.08686308451863 \\cdot 10^{-10} i \\gamma_{23}}{\\Omega n_{b} \\left(\\gamma_{13} + \\gamma_{23} + \\gamma_{2d} + \\gamma_{3d} + \\gamma_{\\mu} n_{b} + \\gamma_{\\mu}\\right) \\overline{\\Omega}} & 0 & 0 & \\frac{1.0 \\left(- 1.02090812040061 \\cdot 10^{-9} \\gamma_{13} + 4.08293981092953 \\cdot 10^{-11} i \\gamma_{13} - 1.02090812040061 \\cdot 10^{-9} \\gamma_{23} + 4.08293981092953 \\cdot 10^{-11} i \\gamma_{23}\\right)}{\\Omega n_{b} \\left(\\gamma_{13} + \\gamma_{23} + \\gamma_{2d} + \\gamma_{3d} + \\gamma_{\\mu} n_{b} + \\gamma_{\\mu}\\right) \\overline{\\Omega}} & 0 & 0\\\\\\rho_{11} & \\rho_{21} & \\rho_{31} & \\rho_{12} & \\rho_{22} & \\rho_{32} & \\rho_{13} & \\rho_{23} & \\rho_{33}\\end{matrix}\\right]$$"
      ],
      "text/plain": [
       "⎡[[0.401001398466616 + 5.00545148412344e-16⋅ⅈ]]                               \n",
       "⎢                                                                             \n",
       "⎢                                                                 -(5.09472417\n",
       "⎢                      0                                          ────────────\n",
       "⎢                                                                             \n",
       "⎢                                                                             \n",
       "⎢                                                                             \n",
       "⎢                                                1.0⋅(-2.07878614709022e-8⋅γ₁₃\n",
       "⎢                      0                         ─────────────────────────────\n",
       "⎢                                                                             \n",
       "⎢                                                                             \n",
       "⎢                                                                             \n",
       "⎣                     ρ₁₁                                                     \n",
       "\n",
       "                         [[0]]                                                \n",
       "                                                                              \n",
       "776841e-8 + 2.03754400180041e-9⋅ⅈ)⋅(γ₁₃⋅n_b + γ₁₃ + γ₂₃⋅n_b + γ₂₃)            \n",
       "───────────────────────────────────────────────────────────────────           \n",
       "                                                   _                          \n",
       "   Ω⋅n_b⋅(γ₁₃ + γ₂₃ + γ_2d + γ_3d + γₘᵤ⋅n_b + γₘᵤ)⋅Ω                          \n",
       "                                                                              \n",
       " + 2.08686308451863e-10⋅ⅈ⋅γ₁₃ - 2.07878614709022e-8⋅γ₂₃ + 2.08686308451863e-10\n",
       "──────────────────────────────────────────────────────────────────────────────\n",
       "                                                   _                          \n",
       "   Ω⋅n_b⋅(γ₁₃ + γ₂₃ + γ_2d + γ_3d + γₘᵤ⋅n_b + γₘᵤ)⋅Ω                          \n",
       "                                                                              \n",
       "                          ρ₂₁                                                 \n",
       "\n",
       "                                                              [[0]]           \n",
       "                                                                              \n",
       "                          (5.17453460786956e-6 + 2.58896391731604e-7⋅ⅈ)⋅(γ₁₃⋅n\n",
       "                          ────────────────────────────────────────────────────\n",
       "                                                                              \n",
       "                                        Ω⋅n_b⋅(γ₁₃ + γ₂₃ + γ_2d + γ_3d + γₘᵤ⋅n\n",
       "                                                                              \n",
       "⋅ⅈ⋅γ₂₃)  -(1.02090812040061e-9⋅γ₁₃ + 4.08293981092953e-11⋅ⅈ⋅γ₁₃ + 1.0209081204\n",
       "───────  ─────────────────────────────────────────────────────────────────────\n",
       "                                                                              \n",
       "                                        Ω⋅n_b⋅(γ₁₃ + γ₂₃ + γ_2d + γ_3d + γₘᵤ⋅n\n",
       "                                                                              \n",
       "                                                               ρ₃₁            \n",
       "\n",
       "                                                                              \n",
       "                                                                              \n",
       "_b + γ₁₃ + γ₂₃⋅n_b + γ₂₃)                                   -(5.09472417776841\n",
       "─────────────────────────                                   ──────────────────\n",
       "          _                                                                   \n",
       "_b + γₘᵤ)⋅Ω                                                                Ω⋅n\n",
       "                                                                              \n",
       "0061e-9⋅γ₂₃ + 4.08293981092953e-11⋅ⅈ⋅γ₂₃)   -(2.07878614709022e-8⋅γ₁₃ + 2.0868\n",
       "──────────────────────────────────────────  ──────────────────────────────────\n",
       "          _                                                                   \n",
       "_b + γₘᵤ)⋅Ω                                                                Ω⋅n\n",
       "                                                                              \n",
       "                                                                              \n",
       "\n",
       "                   [[0]]                                                      \n",
       "                                                                              \n",
       "e-8 - 2.03754400180041e-9⋅ⅈ)⋅(γ₁₃⋅n_b + γ₁₃ + γ₂₃⋅n_b + γ₂₃)                  \n",
       "─────────────────────────────────────────────────────────────                 \n",
       "                                             _                                \n",
       "_b⋅(γ₁₃ + γ₂₃ + γ_2d + γ_3d + γₘᵤ⋅n_b + γₘᵤ)⋅Ω                                \n",
       "                                                                              \n",
       "6308451863e-10⋅ⅈ⋅γ₁₃ + 2.07878614709022e-8⋅γ₂₃ + 2.08686308451863e-10⋅ⅈ⋅γ₂₃)  \n",
       "───────────────────────────────────────────────────────────────────────────── \n",
       "                                             _                                \n",
       "_b⋅(γ₁₃ + γ₂₃ + γ_2d + γ_3d + γₘᵤ⋅n_b + γₘᵤ)⋅Ω                                \n",
       "                                                                              \n",
       "                    ρ₁₂                                                       \n",
       "\n",
       " [[0.375121952910365 + 4.28164109045909e-16⋅ⅈ]]  [[0.00124009575348079 + 2.067\n",
       "                                                                              \n",
       "                                                                              \n",
       "                       0                                                0     \n",
       "                                                                              \n",
       "                                                                              \n",
       "                                                                              \n",
       "                                                                              \n",
       "                       0                                                0     \n",
       "                                                                              \n",
       "                                                                              \n",
       "                                                                              \n",
       "                      ρ₂₂                                              ρ₃₂    \n",
       "\n",
       "95361557822e-5⋅ⅈ]]                                                        [[0]\n",
       "                                                                              \n",
       "                                      (5.17453460786956e-6 - 2.58896391731604e\n",
       "                                      ────────────────────────────────────────\n",
       "                                                                              \n",
       "                                                    Ω⋅n_b⋅(γ₁₃ + γ₂₃ + γ_2d + \n",
       "                                                                              \n",
       "                    1.0⋅(-1.02090812040061e-9⋅γ₁₃ + 4.08293981092953e-11⋅ⅈ⋅γ₁₃\n",
       "                    ──────────────────────────────────────────────────────────\n",
       "                                                                              \n",
       "                                                    Ω⋅n_b⋅(γ₁₃ + γ₂₃ + γ_2d + \n",
       "                                                                              \n",
       "                                                                           ρ₁₃\n",
       "\n",
       "]                                                         [[0.0012400957534807\n",
       "                                                                              \n",
       "-7⋅ⅈ)⋅(γ₁₃⋅n_b + γ₁₃ + γ₂₃⋅n_b + γ₂₃)                                         \n",
       "─────────────────────────────────────                                         \n",
       "                      _                                                       \n",
       "γ_3d + γₘᵤ⋅n_b + γₘᵤ)⋅Ω                                                       \n",
       "                                                                              \n",
       " - 1.02090812040061e-9⋅γ₂₃ + 4.08293981092953e-11⋅ⅈ⋅γ₂₃)                      \n",
       "────────────────────────────────────────────────────────                      \n",
       "                      _                                                       \n",
       "γ_3d + γₘᵤ⋅n_b + γₘᵤ)⋅Ω                                                       \n",
       "                                                                              \n",
       "                                                                              \n",
       "\n",
       "9 - 2.0679536155762e-5⋅ⅈ]]  [[0.223876648623019 - 8.01001675793626e-16⋅ⅈ]]⎤\n",
       "                                                                          ⎥\n",
       "                                                                          ⎥\n",
       "  0                                               0                       ⎥\n",
       "                                                                          ⎥\n",
       "                                                                          ⎥\n",
       "                                                                          ⎥\n",
       "                                                                          ⎥\n",
       "  0                                               0                       ⎥\n",
       "                                                                          ⎥\n",
       "                                                                          ⎥\n",
       "                                                                          ⎥\n",
       " ρ₂₃                                             ρ₃₃                      ⎦"
      ]
     },
     "execution_count": 350,
     "metadata": {},
     "output_type": "execute_result"
    }
   ],
   "source": [
    "rho0=rho0_fun(10e6,-50e6,p)\n",
    "rhoa=sym.simplify(rhoa_fun(10e6,-50e6,rho_ou2,p))\n",
    "rhob=sym.simplify(rhob_fun(10e6,-50e6,rho_ou2,p))\n",
    "\n",
    "Matrix([rho0,rhoa,rhob,rhoflat])"
   ]
  },
  {
   "cell_type": "code",
   "execution_count": 328,
   "metadata": {},
   "outputs": [
    {
     "data": {
      "image/png": "[encoded data removed]",
      "text/latex": [
       "$$\\frac{1}{4 \\Omega \\gamma_{\\mu} n_{b} \\left(\\gamma_{13} + \\gamma_{23} + \\gamma_{2d} + \\gamma_{3d} + \\gamma_{\\mu} \\left(n_{b} + 1\\right)\\right) \\overline{\\Omega}} \\left(4 \\Omega \\gamma_{\\mu} n_{b} \\left(\\gamma_{13} + \\gamma_{23} + \\gamma_{2d} + \\gamma_{3d} + \\gamma_{\\mu} \\left(n_{b} + 1\\right)\\right) \\overline{\\Omega} + \\gamma_{\\mu} n_{b} \\left(- \\left(\\gamma_{13} + \\gamma_{23}\\right) \\left(- 2 i \\delta_{\\mu} + \\gamma_{13} + \\gamma_{23} + \\gamma_{2d} + \\gamma_{3d} + \\gamma_{\\mu} \\left(n_{b} + 1\\right) + 2 i \\left(\\Delta + \\delta_{\\mu}\\right)\\right)^{2} + 2 \\left(2 \\Omega \\overline{\\Omega} + \\left(\\gamma_{13} + \\gamma_{23}\\right) \\left(- 2 i \\delta_{\\mu} + \\gamma_{13} + \\gamma_{23} + \\gamma_{2d} + \\gamma_{3d} + \\gamma_{\\mu} \\left(n_{b} + 1\\right) + 2 i \\left(\\Delta + \\delta_{\\mu}\\right)\\right)\\right) \\left(\\gamma_{13} + \\gamma_{23} + \\gamma_{2d} + \\gamma_{3d} + \\gamma_{\\mu} \\left(n_{b} + 1\\right)\\right)\\right) - \\gamma_{\\mu} \\left(\\gamma_{13} + \\gamma_{23}\\right) \\left(n_{b} + 1\\right) \\left(- 2 i \\delta_{\\mu} + \\gamma_{13} + \\gamma_{23} + \\gamma_{2d} + \\gamma_{3d} + \\gamma_{\\mu} \\left(n_{b} + 1\\right) + 2 i \\left(\\Delta + \\delta_{\\mu}\\right)\\right)^{2} + 2 \\left(2 \\Omega \\left(\\gamma_{13} + \\gamma_{\\mu} \\left(n_{b} + 1\\right)\\right) \\overline{\\Omega} + \\gamma_{\\mu} \\left(\\gamma_{13} + \\gamma_{23}\\right) \\left(n_{b} + 1\\right) \\left(- 2 i \\delta_{\\mu} + \\gamma_{13} + \\gamma_{23} + \\gamma_{2d} + \\gamma_{3d} + \\gamma_{\\mu} \\left(n_{b} + 1\\right) + 2 i \\left(\\Delta + \\delta_{\\mu}\\right)\\right)\\right) \\left(\\gamma_{13} + \\gamma_{23} + \\gamma_{2d} + \\gamma_{3d} + \\gamma_{\\mu} \\left(n_{b} + 1\\right)\\right)\\right)$$"
      ],
      "text/plain": [
       "                                                      _           ⎛           \n",
       "4⋅Ω⋅γₘᵤ⋅n_b⋅(γ₁₃ + γ₂₃ + γ_2d + γ_3d + γₘᵤ⋅(n_b + 1))⋅Ω + γₘᵤ⋅n_b⋅⎝- (γ₁₃ + γ₂\n",
       "──────────────────────────────────────────────────────────────────────────────\n",
       "                                                                              \n",
       "                                                                              \n",
       "\n",
       "                                                                       2     ⎛\n",
       "₃)⋅(-2⋅ⅈ⋅δₘᵤ + γ₁₃ + γ₂₃ + γ_2d + γ_3d + γₘᵤ⋅(n_b + 1) + 2⋅ⅈ⋅(Δ + δₘᵤ))  + 2⋅⎝\n",
       "──────────────────────────────────────────────────────────────────────────────\n",
       "                                                                              \n",
       "                                                                              \n",
       "\n",
       "    _                                                                         \n",
       "2⋅Ω⋅Ω + (γ₁₃ + γ₂₃)⋅(-2⋅ⅈ⋅δₘᵤ + γ₁₃ + γ₂₃ + γ_2d + γ_3d + γₘᵤ⋅(n_b + 1) + 2⋅ⅈ⋅\n",
       "──────────────────────────────────────────────────────────────────────────────\n",
       "                                                                              \n",
       "                                                                              \n",
       "\n",
       "          ⎞                                          ⎞                        \n",
       "(Δ + δₘᵤ))⎠⋅(γ₁₃ + γ₂₃ + γ_2d + γ_3d + γₘᵤ⋅(n_b + 1))⎠ - γₘᵤ⋅(γ₁₃ + γ₂₃)⋅(n_b \n",
       "──────────────────────────────────────────────────────────────────────────────\n",
       "                                                                        _     \n",
       "                  4⋅Ω⋅γₘᵤ⋅n_b⋅(γ₁₃ + γ₂₃ + γ_2d + γ_3d + γₘᵤ⋅(n_b + 1))⋅Ω     \n",
       "\n",
       "                                                                         2    \n",
       "+ 1)⋅(-2⋅ⅈ⋅δₘᵤ + γ₁₃ + γ₂₃ + γ_2d + γ_3d + γₘᵤ⋅(n_b + 1) + 2⋅ⅈ⋅(Δ + δₘᵤ))  + 2\n",
       "──────────────────────────────────────────────────────────────────────────────\n",
       "                                                                              \n",
       "                                                                              \n",
       "\n",
       " ⎛                          _                                                 \n",
       "⋅⎝2⋅Ω⋅(γ₁₃ + γₘᵤ⋅(n_b + 1))⋅Ω + γₘᵤ⋅(γ₁₃ + γ₂₃)⋅(n_b + 1)⋅(-2⋅ⅈ⋅δₘᵤ + γ₁₃ + γ₂\n",
       "──────────────────────────────────────────────────────────────────────────────\n",
       "                                                                              \n",
       "                                                                              \n",
       "\n",
       "                                                ⎞                             \n",
       "₃ + γ_2d + γ_3d + γₘᵤ⋅(n_b + 1) + 2⋅ⅈ⋅(Δ + δₘᵤ))⎠⋅(γ₁₃ + γ₂₃ + γ_2d + γ_3d + γ\n",
       "──────────────────────────────────────────────────────────────────────────────\n",
       "                                                                              \n",
       "                                                                              \n",
       "\n",
       "             \n",
       "ₘᵤ⋅(n_b + 1))\n",
       "─────────────\n",
       "             \n",
       "             "
      ]
     },
     "execution_count": 328,
     "metadata": {},
     "output_type": "execute_result"
    }
   ],
   "source": [
    "sym.simplify((rho_simp[0]+rho_simp[4] +rho_simp[8]).subs({delo:delm+Del}))"
   ]
  },
  {
   "cell_type": "code",
   "execution_count": 880,
   "metadata": {},
   "outputs": [
    {
     "data": {
      "image/png": "[encoded data removed]",
      "text/latex": [
       "$$\\frac{1}{4 \\Omega \\gamma_{\\mu} n_{b} \\left(\\gamma_{13} + \\gamma_{23} + \\gamma_{2d} + \\gamma_{3d} + \\gamma_{\\mu} \\left(n_{b} + 1\\right)\\right) \\overline{\\Omega}} \\left(4 \\Omega \\gamma_{\\mu} n_{b} \\left(\\gamma_{13} + \\gamma_{23} + \\gamma_{2d} + \\gamma_{3d} + \\gamma_{\\mu} \\left(n_{b} + 1\\right)\\right) \\overline{\\Omega} + \\gamma_{\\mu} n_{b} \\left(- \\left(\\gamma_{13} + \\gamma_{23}\\right) \\left(\\gamma_{13} + \\gamma_{23} + \\gamma_{2d} + \\gamma_{3d} + \\gamma_{\\mu} \\left(n_{b} + 1\\right)\\right)^{2} + 2 \\left(2 \\Omega \\overline{\\Omega} + \\left(\\gamma_{13} + \\gamma_{23}\\right) \\left(\\gamma_{13} + \\gamma_{23} + \\gamma_{2d} + \\gamma_{3d} + \\gamma_{\\mu} \\left(n_{b} + 1\\right)\\right)\\right) \\left(\\gamma_{13} + \\gamma_{23} + \\gamma_{2d} + \\gamma_{3d} + \\gamma_{\\mu} \\left(n_{b} + 1\\right)\\right)\\right) - \\gamma_{\\mu} \\left(\\gamma_{13} + \\gamma_{23}\\right) \\left(n_{b} + 1\\right) \\left(\\gamma_{13} + \\gamma_{23} + \\gamma_{2d} + \\gamma_{3d} + \\gamma_{\\mu} \\left(n_{b} + 1\\right)\\right)^{2} + 2 \\left(2 \\Omega \\left(\\gamma_{13} + \\gamma_{\\mu} \\left(n_{b} + 1\\right)\\right) \\overline{\\Omega} + \\gamma_{\\mu} \\left(\\gamma_{13} + \\gamma_{23}\\right) \\left(n_{b} + 1\\right) \\left(\\gamma_{13} + \\gamma_{23} + \\gamma_{2d} + \\gamma_{3d} + \\gamma_{\\mu} \\left(n_{b} + 1\\right)\\right)\\right) \\left(\\gamma_{13} + \\gamma_{23} + \\gamma_{2d} + \\gamma_{3d} + \\gamma_{\\mu} \\left(n_{b} + 1\\right)\\right)\\right)$$"
      ],
      "text/plain": [
       "                                                      _           ⎛           \n",
       "4⋅Ω⋅γₘᵤ⋅n_b⋅(γ₁₃ + γ₂₃ + γ_2d + γ_3d + γₘᵤ⋅(n_b + 1))⋅Ω + γₘᵤ⋅n_b⋅⎝- (γ₁₃ + γ₂\n",
       "──────────────────────────────────────────────────────────────────────────────\n",
       "                                                                              \n",
       "                                                                              \n",
       "\n",
       "                                            2     ⎛    _                      \n",
       "₃)⋅(γ₁₃ + γ₂₃ + γ_2d + γ_3d + γₘᵤ⋅(n_b + 1))  + 2⋅⎝2⋅Ω⋅Ω + (γ₁₃ + γ₂₃)⋅(γ₁₃ + \n",
       "──────────────────────────────────────────────────────────────────────────────\n",
       "                                                                              \n",
       "                                                                              \n",
       "\n",
       "                                  ⎞                                          ⎞\n",
       "γ₂₃ + γ_2d + γ_3d + γₘᵤ⋅(n_b + 1))⎠⋅(γ₁₃ + γ₂₃ + γ_2d + γ_3d + γₘᵤ⋅(n_b + 1))⎠\n",
       "──────────────────────────────────────────────────────────────────────────────\n",
       "                                                                              \n",
       "                                          4⋅Ω⋅γₘᵤ⋅n_b⋅(γ₁₃ + γ₂₃ + γ_2d + γ_3d\n",
       "\n",
       "                                                                      2     ⎛ \n",
       " - γₘᵤ⋅(γ₁₃ + γ₂₃)⋅(n_b + 1)⋅(γ₁₃ + γ₂₃ + γ_2d + γ_3d + γₘᵤ⋅(n_b + 1))  + 2⋅⎝2\n",
       "──────────────────────────────────────────────────────────────────────────────\n",
       "                  _                                                           \n",
       " + γₘᵤ⋅(n_b + 1))⋅Ω                                                           \n",
       "\n",
       "                         _                                                    \n",
       "⋅Ω⋅(γ₁₃ + γₘᵤ⋅(n_b + 1))⋅Ω + γₘᵤ⋅(γ₁₃ + γ₂₃)⋅(n_b + 1)⋅(γ₁₃ + γ₂₃ + γ_2d + γ_3\n",
       "──────────────────────────────────────────────────────────────────────────────\n",
       "                                                                              \n",
       "                                                                              \n",
       "\n",
       "                  ⎞                                          \n",
       "d + γₘᵤ⋅(n_b + 1))⎠⋅(γ₁₃ + γ₂₃ + γ_2d + γ_3d + γₘᵤ⋅(n_b + 1))\n",
       "─────────────────────────────────────────────────────────────\n",
       "                                                             \n",
       "                                                             "
      ]
     },
     "execution_count": 880,
     "metadata": {},
     "output_type": "execute_result"
    }
   ],
   "source": [
    "sym.simplify((rho_simp[0]+rho_simp[4] +rho_simp[8]).subs({delo:delm+Del})).subs({Del:0})"
   ]
  },
  {
   "cell_type": "code",
   "execution_count": 908,
   "metadata": {},
   "outputs": [],
   "source": [
    "E_eq=sym.simplify((rho_simp[0]+rho_simp[4] +rho_simp[8]).subs({delo:delm+Del})-sym.simplify((rho_simp[0]+rho_simp[4] +rho_simp[8]).subs({delo:delm+Del})).subs({Del:0})).subs({Omega*sym.conjugate(Omega):Wsq})/Del**2"
   ]
  },
  {
   "cell_type": "code",
   "execution_count": 909,
   "metadata": {},
   "outputs": [
    {
     "data": {
      "image/png": "[encoded data removed]",
      "text/latex": [
       "$$\\frac{2 \\gamma_{13} n_{b} + \\gamma_{13} + 2 \\gamma_{23} n_{b} + \\gamma_{23}}{\\Omega_{sq} n_{b} \\left(\\gamma_{13} + \\gamma_{23} + \\gamma_{2d} + \\gamma_{3d} + \\gamma_{\\mu} n_{b} + \\gamma_{\\mu}\\right)}$$"
      ],
      "text/plain": [
       "        2⋅γ₁₃⋅n_b + γ₁₃ + 2⋅γ₂₃⋅n_b + γ₂₃         \n",
       "──────────────────────────────────────────────────\n",
       "Ω_sq⋅n_b⋅(γ₁₃ + γ₂₃ + γ_2d + γ_3d + γₘᵤ⋅n_b + γₘᵤ)"
      ]
     },
     "execution_count": 909,
     "metadata": {},
     "output_type": "execute_result"
    }
   ],
   "source": [
    "E_eq"
   ]
  },
  {
   "cell_type": "code",
   "execution_count": 910,
   "metadata": {},
   "outputs": [],
   "source": [
    "D_eq=sym.simplify((rho_simp[0]+rho_simp[4] +rho_simp[8]).subs({delo:delm+Del}).subs({Del:0}).subs({Omega*sym.conjugate(Omega):Wsq}))"
   ]
  },
  {
   "cell_type": "code",
   "execution_count": 911,
   "metadata": {},
   "outputs": [
    {
     "data": {
      "image/png": "[encoded data removed]",
      "text/latex": [
       "$$\\frac{1}{\\Omega_{sq} \\gamma_{\\mu} n_{b}} \\left(\\Omega_{sq} \\gamma_{\\mu} n_{b} + \\Omega_{sq} \\left(\\gamma_{13} + \\gamma_{\\mu} \\left(n_{b} + 1\\right)\\right) + \\frac{\\gamma_{\\mu} n_{b}}{4} \\left(4 \\Omega_{sq} + \\left(\\gamma_{13} + \\gamma_{23}\\right) \\left(\\gamma_{13} + \\gamma_{23} + \\gamma_{2d} + \\gamma_{3d} + \\gamma_{\\mu} \\left(n_{b} + 1\\right)\\right)\\right) + \\frac{\\gamma_{\\mu}}{4} \\left(\\gamma_{13} + \\gamma_{23}\\right) \\left(n_{b} + 1\\right) \\left(\\gamma_{13} + \\gamma_{23} + \\gamma_{2d} + \\gamma_{3d} + \\gamma_{\\mu} \\left(n_{b} + 1\\right)\\right)\\right)$$"
      ],
      "text/plain": [
       "                                            γₘᵤ⋅n_b⋅(4⋅Ω_sq + (γ₁₃ + γ₂₃)⋅(γ₁₃\n",
       "Ω_sq⋅γₘᵤ⋅n_b + Ω_sq⋅(γ₁₃ + γₘᵤ⋅(n_b + 1)) + ──────────────────────────────────\n",
       "                                                                              \n",
       "──────────────────────────────────────────────────────────────────────────────\n",
       "                                                                              \n",
       "\n",
       " + γ₂₃ + γ_2d + γ_3d + γₘᵤ⋅(n_b + 1)))   γₘᵤ⋅(γ₁₃ + γ₂₃)⋅(n_b + 1)⋅(γ₁₃ + γ₂₃ \n",
       "────────────────────────────────────── + ─────────────────────────────────────\n",
       " 4                                                                        4   \n",
       "──────────────────────────────────────────────────────────────────────────────\n",
       "         Ω_sq⋅γₘᵤ⋅n_b                                                         \n",
       "\n",
       "+ γ_2d + γ_3d + γₘᵤ⋅(n_b + 1))\n",
       "──────────────────────────────\n",
       "                              \n",
       "──────────────────────────────\n",
       "                              "
      ]
     },
     "execution_count": 911,
     "metadata": {},
     "output_type": "execute_result"
    }
   ],
   "source": [
    "D_eq"
   ]
  },
  {
   "cell_type": "code",
   "execution_count": 912,
   "metadata": {},
   "outputs": [
    {
     "data": {
      "image/png": "[encoded data removed]",
      "text/latex": [
       "$$2 \\sqrt{\\gamma_{\\mu}} \\sqrt[4]{\\frac{1}{\\left(4 \\Omega_{sq} \\gamma_{\\mu} n_{b} + 4 \\Omega_{sq} \\left(\\gamma_{13} + \\gamma_{\\mu} \\left(n_{b} + 1\\right)\\right) + \\gamma_{\\mu} n_{b} \\left(4 \\Omega_{sq} + \\left(\\gamma_{13} + \\gamma_{23}\\right) \\left(\\gamma_{13} + \\gamma_{23} + \\gamma_{2d} + \\gamma_{3d} + \\gamma_{\\mu} \\left(n_{b} + 1\\right)\\right)\\right) + \\gamma_{\\mu} \\left(\\gamma_{13} + \\gamma_{23}\\right) \\left(n_{b} + 1\\right) \\left(\\gamma_{13} + \\gamma_{23} + \\gamma_{2d} + \\gamma_{3d} + \\gamma_{\\mu} \\left(n_{b} + 1\\right)\\right)\\right)^{2} \\left(\\gamma_{13} + \\gamma_{23} + \\gamma_{2d} + \\gamma_{3d} + \\gamma_{\\mu} n_{b} + \\gamma_{\\mu}\\right)^{2}}} \\sqrt{2 \\gamma_{13} n_{b} + \\gamma_{13} + 2 \\gamma_{23} n_{b} + \\gamma_{23}} \\cos{\\left (\\frac{1}{2} \\operatorname{atan_{2}}{\\left (0,- \\frac{1}{\\left(4 \\Omega_{sq} \\gamma_{\\mu} n_{b} + 4 \\Omega_{sq} \\left(\\gamma_{13} + \\gamma_{\\mu} \\left(n_{b} + 1\\right)\\right) + \\gamma_{\\mu} n_{b} \\left(4 \\Omega_{sq} + \\left(\\gamma_{13} + \\gamma_{23}\\right) \\left(\\gamma_{13} + \\gamma_{23} + \\gamma_{2d} + \\gamma_{3d} + \\gamma_{\\mu} \\left(n_{b} + 1\\right)\\right)\\right) + \\gamma_{\\mu} \\left(\\gamma_{13} + \\gamma_{23}\\right) \\left(n_{b} + 1\\right) \\left(\\gamma_{13} + \\gamma_{23} + \\gamma_{2d} + \\gamma_{3d} + \\gamma_{\\mu} \\left(n_{b} + 1\\right)\\right)\\right) \\left(\\gamma_{13} + \\gamma_{23} + \\gamma_{2d} + \\gamma_{3d} + \\gamma_{\\mu} n_{b} + \\gamma_{\\mu}\\right)} \\right )} \\right )}$$"
      ],
      "text/plain": [
       "                                                                              \n",
       "               _______________________________________________________________\n",
       "    _____     ╱                                                               \n",
       "2⋅╲╱ γₘᵤ ⋅   ╱  ──────────────────────────────────────────────────────────────\n",
       "          4 ╱                                                                 \n",
       "          ╲╱    (4⋅Ω_sq⋅γₘᵤ⋅n_b + 4⋅Ω_sq⋅(γ₁₃ + γₘᵤ⋅(n_b + 1)) + γₘᵤ⋅n_b⋅(4⋅Ω_\n",
       "\n",
       "                                                                              \n",
       "______________________________________________________________________________\n",
       "                                                       1                      \n",
       "──────────────────────────────────────────────────────────────────────────────\n",
       "                                                                              \n",
       "sq + (γ₁₃ + γ₂₃)⋅(γ₁₃ + γ₂₃ + γ_2d + γ_3d + γₘᵤ⋅(n_b + 1))) + γₘᵤ⋅(γ₁₃ + γ₂₃)⋅\n",
       "\n",
       "                                                                              \n",
       "______________________________________________________________________________\n",
       "                                                                              \n",
       "──────────────────────────────────────────────────────────────────────────────\n",
       "                                                    2                         \n",
       "(n_b + 1)⋅(γ₁₃ + γ₂₃ + γ_2d + γ_3d + γₘᵤ⋅(n_b + 1))) ⋅(γ₁₃ + γ₂₃ + γ_2d + γ_3d\n",
       "\n",
       "                                                             ⎛     ⎛          \n",
       "___________________                                          ⎜atan2⎜0, ───────\n",
       "                      ___________________________________    ⎜     ⎝   (4⋅Ω_sq\n",
       "────────────────── ⋅╲╱ 2⋅γ₁₃⋅n_b + γ₁₃ + 2⋅γ₂₃⋅n_b + γ₂₃ ⋅cos⎜────────────────\n",
       "                 2                                           ⎝                \n",
       " + γₘᵤ⋅n_b + γₘᵤ)                                                             \n",
       "\n",
       "                                                                              \n",
       "──────────────────────────────────────────────────────────────────────────────\n",
       "⋅γₘᵤ⋅n_b + 4⋅Ω_sq⋅(γ₁₃ + γₘᵤ⋅(n_b + 1)) + γₘᵤ⋅n_b⋅(4⋅Ω_sq + (γ₁₃ + γ₂₃)⋅(γ₁₃ +\n",
       "──────────────────────────────────────────────────────────────────────────────\n",
       "                                                                              \n",
       "                                                                              \n",
       "\n",
       "                              -1                                              \n",
       "──────────────────────────────────────────────────────────────────────────────\n",
       " γ₂₃ + γ_2d + γ_3d + γₘᵤ⋅(n_b + 1))) + γₘᵤ⋅(γ₁₃ + γ₂₃)⋅(n_b + 1)⋅(γ₁₃ + γ₂₃ + \n",
       "──────────────────────────────────────────────────────────────────────────────\n",
       "                           2                                                  \n",
       "                                                                              \n",
       "\n",
       "                                                                       ⎞⎞\n",
       "───────────────────────────────────────────────────────────────────────⎟⎟\n",
       "γ_2d + γ_3d + γₘᵤ⋅(n_b + 1)))⋅(γ₁₃ + γ₂₃ + γ_2d + γ_3d + γₘᵤ⋅n_b + γₘᵤ)⎠⎟\n",
       "────────────────────────────────────────────────────────────────────────⎟\n",
       "                                                                        ⎠\n",
       "                                                                         "
      ]
     },
     "execution_count": 912,
     "metadata": {},
     "output_type": "execute_result"
    }
   ],
   "source": [
    "sym.re(sym.simplify(sym.sqrt(-E_eq/D_eq)))"
   ]
  },
  {
   "cell_type": "code",
   "execution_count": 913,
   "metadata": {},
   "outputs": [
    {
     "data": {
      "image/png": "[encoded data removed]",
      "text/latex": [
       "$$2 \\sqrt{\\gamma_{\\mu}} \\sqrt{- \\frac{1}{\\left(4 \\Omega_{sq} \\gamma_{\\mu} n_{b} + 4 \\Omega_{sq} \\left(\\gamma_{13} + \\gamma_{\\mu} \\left(n_{b} + 1\\right)\\right) + \\gamma_{\\mu} n_{b} \\left(4 \\Omega_{sq} + \\left(\\gamma_{13} + \\gamma_{23}\\right) \\left(\\gamma_{13} + \\gamma_{23} + \\gamma_{2d} + \\gamma_{3d} + \\gamma_{\\mu} \\left(n_{b} + 1\\right)\\right)\\right) + \\gamma_{\\mu} \\left(\\gamma_{13} + \\gamma_{23}\\right) \\left(n_{b} + 1\\right) \\left(\\gamma_{13} + \\gamma_{23} + \\gamma_{2d} + \\gamma_{3d} + \\gamma_{\\mu} \\left(n_{b} + 1\\right)\\right)\\right) \\left(\\gamma_{13} + \\gamma_{23} + \\gamma_{2d} + \\gamma_{3d} + \\gamma_{\\mu} n_{b} + \\gamma_{\\mu}\\right)}} \\sqrt{2 \\gamma_{13} n_{b} + \\gamma_{13} + 2 \\gamma_{23} n_{b} + \\gamma_{23}}$$"
      ],
      "text/plain": [
       "              ________________________________________________________________\n",
       "    _____    ╱                                                                \n",
       "2⋅╲╱ γₘᵤ ⋅  ╱  ───────────────────────────────────────────────────────────────\n",
       "          ╲╱   (4⋅Ω_sq⋅γₘᵤ⋅n_b + 4⋅Ω_sq⋅(γ₁₃ + γₘᵤ⋅(n_b + 1)) + γₘᵤ⋅n_b⋅(4⋅Ω_s\n",
       "\n",
       "______________________________________________________________________________\n",
       "                                                    -1                        \n",
       "──────────────────────────────────────────────────────────────────────────────\n",
       "q + (γ₁₃ + γ₂₃)⋅(γ₁₃ + γ₂₃ + γ_2d + γ_3d + γₘᵤ⋅(n_b + 1))) + γₘᵤ⋅(γ₁₃ + γ₂₃)⋅(\n",
       "\n",
       "______________________________________________________________________________\n",
       "                                                                              \n",
       "──────────────────────────────────────────────────────────────────────────────\n",
       "n_b + 1)⋅(γ₁₃ + γ₂₃ + γ_2d + γ_3d + γₘᵤ⋅(n_b + 1)))⋅(γ₁₃ + γ₂₃ + γ_2d + γ_3d +\n",
       "\n",
       "________________                                      \n",
       "                   ___________________________________\n",
       "─────────────── ⋅╲╱ 2⋅γ₁₃⋅n_b + γ₁₃ + 2⋅γ₂₃⋅n_b + γ₂₃ \n",
       " γₘᵤ⋅n_b + γₘᵤ)                                       "
      ]
     },
     "execution_count": 913,
     "metadata": {},
     "output_type": "execute_result"
    }
   ],
   "source": [
    "sym.simplify(sym.sqrt(-E_eq/D_eq))"
   ]
  },
  {
   "cell_type": "code",
   "execution_count": 879,
   "metadata": {},
   "outputs": [
    {
     "data": {
      "text/latex": [
       "$$\\left[\\begin{matrix}\\frac{- \\gamma_{\\mu} \\left(\\gamma_{13} + \\gamma_{23}\\right) \\left(n_{b} + 1\\right) \\left(- 2 i \\delta_{\\mu} + 2 i \\delta_{o} + \\gamma_{13} + \\gamma_{23} + \\gamma_{2d} + \\gamma_{3d} + \\gamma_{\\mu} \\left(n_{b} + 1\\right)\\right)^{2} + 2 \\left(2 \\Omega \\left(\\gamma_{13} + \\gamma_{\\mu} \\left(n_{b} + 1\\right)\\right) \\overline{\\Omega} + \\gamma_{\\mu} \\left(\\gamma_{13} + \\gamma_{23}\\right) \\left(n_{b} + 1\\right) \\left(- 2 i \\delta_{\\mu} + 2 i \\delta_{o} + \\gamma_{13} + \\gamma_{23} + \\gamma_{2d} + \\gamma_{3d} + \\gamma_{\\mu} \\left(n_{b} + 1\\right)\\right)\\right) \\left(\\gamma_{13} + \\gamma_{23} + \\gamma_{2d} + \\gamma_{3d} + \\gamma_{\\mu} \\left(n_{b} + 1\\right)\\right)}{4 \\Omega \\gamma_{\\mu} n_{b} \\left(\\gamma_{13} + \\gamma_{23} + \\gamma_{2d} + \\gamma_{3d} + \\gamma_{\\mu} \\left(n_{b} + 1\\right)\\right) \\overline{\\Omega} - \\gamma_{\\mu} n_{b} \\left(\\left(\\gamma_{13} + \\gamma_{23}\\right) \\left(- 2 i \\delta_{\\mu} + 2 i \\delta_{o} + \\gamma_{13} + \\gamma_{23} + \\gamma_{2d} + \\gamma_{3d} + \\gamma_{\\mu} \\left(n_{b} + 1\\right)\\right)^{2} - 2 \\left(2 \\Omega \\overline{\\Omega} + \\left(\\gamma_{13} + \\gamma_{23}\\right) \\left(- 2 i \\delta_{\\mu} + 2 i \\delta_{o} + \\gamma_{13} + \\gamma_{23} + \\gamma_{2d} + \\gamma_{3d} + \\gamma_{\\mu} \\left(n_{b} + 1\\right)\\right)\\right) \\left(\\gamma_{13} + \\gamma_{23} + \\gamma_{2d} + \\gamma_{3d} + \\gamma_{\\mu} \\left(n_{b} + 1\\right)\\right)\\right) - \\gamma_{\\mu} \\left(\\gamma_{13} + \\gamma_{23}\\right) \\left(n_{b} + 1\\right) \\left(- 2 i \\delta_{\\mu} + 2 i \\delta_{o} + \\gamma_{13} + \\gamma_{23} + \\gamma_{2d} + \\gamma_{3d} + \\gamma_{\\mu} \\left(n_{b} + 1\\right)\\right)^{2} + 2 \\left(2 \\Omega \\left(\\gamma_{13} + \\gamma_{\\mu} \\left(n_{b} + 1\\right)\\right) \\overline{\\Omega} + \\gamma_{\\mu} \\left(\\gamma_{13} + \\gamma_{23}\\right) \\left(n_{b} + 1\\right) \\left(- 2 i \\delta_{\\mu} + 2 i \\delta_{o} + \\gamma_{13} + \\gamma_{23} + \\gamma_{2d} + \\gamma_{3d} + \\gamma_{\\mu} \\left(n_{b} + 1\\right)\\right)\\right) \\left(\\gamma_{13} + \\gamma_{23} + \\gamma_{2d} + \\gamma_{3d} + \\gamma_{\\mu} \\left(n_{b} + 1\\right)\\right)}\\\\0\\\\0\\\\0\\\\- \\frac{\\gamma_{\\mu} n_{b} \\left(\\left(\\gamma_{13} + \\gamma_{23}\\right) \\left(- 2 i \\delta_{\\mu} + 2 i \\delta_{o} + \\gamma_{13} + \\gamma_{23} + \\gamma_{2d} + \\gamma_{3d} + \\gamma_{\\mu} \\left(n_{b} + 1\\right)\\right)^{2} - 2 \\left(2 \\Omega \\overline{\\Omega} + \\left(\\gamma_{13} + \\gamma_{23}\\right) \\left(- 2 i \\delta_{\\mu} + 2 i \\delta_{o} + \\gamma_{13} + \\gamma_{23} + \\gamma_{2d} + \\gamma_{3d} + \\gamma_{\\mu} \\left(n_{b} + 1\\right)\\right)\\right) \\left(\\gamma_{13} + \\gamma_{23} + \\gamma_{2d} + \\gamma_{3d} + \\gamma_{\\mu} \\left(n_{b} + 1\\right)\\right)\\right)}{4 \\Omega \\gamma_{\\mu} n_{b} \\left(\\gamma_{13} + \\gamma_{23} + \\gamma_{2d} + \\gamma_{3d} + \\gamma_{\\mu} \\left(n_{b} + 1\\right)\\right) \\overline{\\Omega} - \\gamma_{\\mu} n_{b} \\left(\\left(\\gamma_{13} + \\gamma_{23}\\right) \\left(- 2 i \\delta_{\\mu} + 2 i \\delta_{o} + \\gamma_{13} + \\gamma_{23} + \\gamma_{2d} + \\gamma_{3d} + \\gamma_{\\mu} \\left(n_{b} + 1\\right)\\right)^{2} - 2 \\left(2 \\Omega \\overline{\\Omega} + \\left(\\gamma_{13} + \\gamma_{23}\\right) \\left(- 2 i \\delta_{\\mu} + 2 i \\delta_{o} + \\gamma_{13} + \\gamma_{23} + \\gamma_{2d} + \\gamma_{3d} + \\gamma_{\\mu} \\left(n_{b} + 1\\right)\\right)\\right) \\left(\\gamma_{13} + \\gamma_{23} + \\gamma_{2d} + \\gamma_{3d} + \\gamma_{\\mu} \\left(n_{b} + 1\\right)\\right)\\right) - \\gamma_{\\mu} \\left(\\gamma_{13} + \\gamma_{23}\\right) \\left(n_{b} + 1\\right) \\left(- 2 i \\delta_{\\mu} + 2 i \\delta_{o} + \\gamma_{13} + \\gamma_{23} + \\gamma_{2d} + \\gamma_{3d} + \\gamma_{\\mu} \\left(n_{b} + 1\\right)\\right)^{2} + 2 \\left(2 \\Omega \\left(\\gamma_{13} + \\gamma_{\\mu} \\left(n_{b} + 1\\right)\\right) \\overline{\\Omega} + \\gamma_{\\mu} \\left(\\gamma_{13} + \\gamma_{23}\\right) \\left(n_{b} + 1\\right) \\left(- 2 i \\delta_{\\mu} + 2 i \\delta_{o} + \\gamma_{13} + \\gamma_{23} + \\gamma_{2d} + \\gamma_{3d} + \\gamma_{\\mu} \\left(n_{b} + 1\\right)\\right)\\right) \\left(\\gamma_{13} + \\gamma_{23} + \\gamma_{2d} + \\gamma_{3d} + \\gamma_{\\mu} \\left(n_{b} + 1\\right)\\right)}\\\\- \\frac{2 i \\Omega \\gamma_{\\mu} n_{b} \\left(\\gamma_{13} + \\gamma_{23}\\right) \\left(2 i \\delta_{\\mu} - 2 i \\delta_{o} + \\gamma_{13} + \\gamma_{23} + \\gamma_{2d} + \\gamma_{3d} + \\gamma_{\\mu} \\left(n_{b} + 1\\right)\\right)}{4 \\Omega \\gamma_{\\mu} n_{b} \\left(\\gamma_{13} + \\gamma_{23} + \\gamma_{2d} + \\gamma_{3d} + \\gamma_{\\mu} \\left(n_{b} + 1\\right)\\right) \\overline{\\Omega} - \\gamma_{\\mu} n_{b} \\left(\\left(\\gamma_{13} + \\gamma_{23}\\right) \\left(- 2 i \\delta_{\\mu} + 2 i \\delta_{o} + \\gamma_{13} + \\gamma_{23} + \\gamma_{2d} + \\gamma_{3d} + \\gamma_{\\mu} \\left(n_{b} + 1\\right)\\right)^{2} - 2 \\left(2 \\Omega \\overline{\\Omega} + \\left(\\gamma_{13} + \\gamma_{23}\\right) \\left(- 2 i \\delta_{\\mu} + 2 i \\delta_{o} + \\gamma_{13} + \\gamma_{23} + \\gamma_{2d} + \\gamma_{3d} + \\gamma_{\\mu} \\left(n_{b} + 1\\right)\\right)\\right) \\left(\\gamma_{13} + \\gamma_{23} + \\gamma_{2d} + \\gamma_{3d} + \\gamma_{\\mu} \\left(n_{b} + 1\\right)\\right)\\right) - \\gamma_{\\mu} \\left(\\gamma_{13} + \\gamma_{23}\\right) \\left(n_{b} + 1\\right) \\left(- 2 i \\delta_{\\mu} + 2 i \\delta_{o} + \\gamma_{13} + \\gamma_{23} + \\gamma_{2d} + \\gamma_{3d} + \\gamma_{\\mu} \\left(n_{b} + 1\\right)\\right)^{2} + 2 \\left(2 \\Omega \\left(\\gamma_{13} + \\gamma_{\\mu} \\left(n_{b} + 1\\right)\\right) \\overline{\\Omega} + \\gamma_{\\mu} \\left(\\gamma_{13} + \\gamma_{23}\\right) \\left(n_{b} + 1\\right) \\left(- 2 i \\delta_{\\mu} + 2 i \\delta_{o} + \\gamma_{13} + \\gamma_{23} + \\gamma_{2d} + \\gamma_{3d} + \\gamma_{\\mu} \\left(n_{b} + 1\\right)\\right)\\right) \\left(\\gamma_{13} + \\gamma_{23} + \\gamma_{2d} + \\gamma_{3d} + \\gamma_{\\mu} \\left(n_{b} + 1\\right)\\right)}\\\\0\\\\\\frac{2 i \\gamma_{\\mu} n_{b} \\left(\\gamma_{13} + \\gamma_{23}\\right) \\left(- 2 i \\delta_{\\mu} + 2 i \\delta_{o} + \\gamma_{13} + \\gamma_{23} + \\gamma_{2d} + \\gamma_{3d} + \\gamma_{\\mu} \\left(n_{b} + 1\\right)\\right) \\overline{\\Omega}}{4 \\Omega \\gamma_{\\mu} n_{b} \\left(\\gamma_{13} + \\gamma_{23} + \\gamma_{2d} + \\gamma_{3d} + \\gamma_{\\mu} \\left(n_{b} + 1\\right)\\right) \\overline{\\Omega} - \\gamma_{\\mu} n_{b} \\left(\\left(\\gamma_{13} + \\gamma_{23}\\right) \\left(- 2 i \\delta_{\\mu} + 2 i \\delta_{o} + \\gamma_{13} + \\gamma_{23} + \\gamma_{2d} + \\gamma_{3d} + \\gamma_{\\mu} \\left(n_{b} + 1\\right)\\right)^{2} - 2 \\left(2 \\Omega \\overline{\\Omega} + \\left(\\gamma_{13} + \\gamma_{23}\\right) \\left(- 2 i \\delta_{\\mu} + 2 i \\delta_{o} + \\gamma_{13} + \\gamma_{23} + \\gamma_{2d} + \\gamma_{3d} + \\gamma_{\\mu} \\left(n_{b} + 1\\right)\\right)\\right) \\left(\\gamma_{13} + \\gamma_{23} + \\gamma_{2d} + \\gamma_{3d} + \\gamma_{\\mu} \\left(n_{b} + 1\\right)\\right)\\right) - \\gamma_{\\mu} \\left(\\gamma_{13} + \\gamma_{23}\\right) \\left(n_{b} + 1\\right) \\left(- 2 i \\delta_{\\mu} + 2 i \\delta_{o} + \\gamma_{13} + \\gamma_{23} + \\gamma_{2d} + \\gamma_{3d} + \\gamma_{\\mu} \\left(n_{b} + 1\\right)\\right)^{2} + 2 \\left(2 \\Omega \\left(\\gamma_{13} + \\gamma_{\\mu} \\left(n_{b} + 1\\right)\\right) \\overline{\\Omega} + \\gamma_{\\mu} \\left(\\gamma_{13} + \\gamma_{23}\\right) \\left(n_{b} + 1\\right) \\left(- 2 i \\delta_{\\mu} + 2 i \\delta_{o} + \\gamma_{13} + \\gamma_{23} + \\gamma_{2d} + \\gamma_{3d} + \\gamma_{\\mu} \\left(n_{b} + 1\\right)\\right)\\right) \\left(\\gamma_{13} + \\gamma_{23} + \\gamma_{2d} + \\gamma_{3d} + \\gamma_{\\mu} \\left(n_{b} + 1\\right)\\right)}\\\\\\frac{4 \\Omega \\gamma_{\\mu} n_{b} \\left(\\gamma_{13} + \\gamma_{23} + \\gamma_{2d} + \\gamma_{3d} + \\gamma_{\\mu} \\left(n_{b} + 1\\right)\\right) \\overline{\\Omega}}{4 \\Omega \\gamma_{\\mu} n_{b} \\left(\\gamma_{13} + \\gamma_{23} + \\gamma_{2d} + \\gamma_{3d} + \\gamma_{\\mu} \\left(n_{b} + 1\\right)\\right) \\overline{\\Omega} - \\gamma_{\\mu} n_{b} \\left(\\left(\\gamma_{13} + \\gamma_{23}\\right) \\left(- 2 i \\delta_{\\mu} + 2 i \\delta_{o} + \\gamma_{13} + \\gamma_{23} + \\gamma_{2d} + \\gamma_{3d} + \\gamma_{\\mu} \\left(n_{b} + 1\\right)\\right)^{2} - 2 \\left(2 \\Omega \\overline{\\Omega} + \\left(\\gamma_{13} + \\gamma_{23}\\right) \\left(- 2 i \\delta_{\\mu} + 2 i \\delta_{o} + \\gamma_{13} + \\gamma_{23} + \\gamma_{2d} + \\gamma_{3d} + \\gamma_{\\mu} \\left(n_{b} + 1\\right)\\right)\\right) \\left(\\gamma_{13} + \\gamma_{23} + \\gamma_{2d} + \\gamma_{3d} + \\gamma_{\\mu} \\left(n_{b} + 1\\right)\\right)\\right) - \\gamma_{\\mu} \\left(\\gamma_{13} + \\gamma_{23}\\right) \\left(n_{b} + 1\\right) \\left(- 2 i \\delta_{\\mu} + 2 i \\delta_{o} + \\gamma_{13} + \\gamma_{23} + \\gamma_{2d} + \\gamma_{3d} + \\gamma_{\\mu} \\left(n_{b} + 1\\right)\\right)^{2} + 2 \\left(2 \\Omega \\left(\\gamma_{13} + \\gamma_{\\mu} \\left(n_{b} + 1\\right)\\right) \\overline{\\Omega} + \\gamma_{\\mu} \\left(\\gamma_{13} + \\gamma_{23}\\right) \\left(n_{b} + 1\\right) \\left(- 2 i \\delta_{\\mu} + 2 i \\delta_{o} + \\gamma_{13} + \\gamma_{23} + \\gamma_{2d} + \\gamma_{3d} + \\gamma_{\\mu} \\left(n_{b} + 1\\right)\\right)\\right) \\left(\\gamma_{13} + \\gamma_{23} + \\gamma_{2d} + \\gamma_{3d} + \\gamma_{\\mu} \\left(n_{b} + 1\\right)\\right)}\\end{matrix}\\right]$$"
      ],
      "text/plain": [
       "⎡                                                                             \n",
       "⎢                                                                             \n",
       "⎢─────────────────────────────────────────────────────────────────────────────\n",
       "⎢                                                      _           ⎛          \n",
       "⎢4⋅Ω⋅γₘᵤ⋅n_b⋅(γ₁₃ + γ₂₃ + γ_2d + γ_3d + γₘᵤ⋅(n_b + 1))⋅Ω - γₘᵤ⋅n_b⋅⎝(γ₁₃ + γ₂₃\n",
       "⎢                                                                             \n",
       "⎢                                                                             \n",
       "⎢                                                                             \n",
       "⎢                                                                             \n",
       "⎢                                                                             \n",
       "⎢                                                                             \n",
       "⎢                                                                             \n",
       "⎢                                                                             \n",
       "⎢                                                                             \n",
       "⎢─────────────────────────────────────────────────────────────────────────────\n",
       "⎢                                                      _           ⎛          \n",
       "⎢4⋅Ω⋅γₘᵤ⋅n_b⋅(γ₁₃ + γ₂₃ + γ_2d + γ_3d + γₘᵤ⋅(n_b + 1))⋅Ω - γₘᵤ⋅n_b⋅⎝(γ₁₃ + γ₂₃\n",
       "⎢                                                                             \n",
       "⎢                                                                             \n",
       "⎢─────────────────────────────────────────────────────────────────────────────\n",
       "⎢                                                      _           ⎛          \n",
       "⎢4⋅Ω⋅γₘᵤ⋅n_b⋅(γ₁₃ + γ₂₃ + γ_2d + γ_3d + γₘᵤ⋅(n_b + 1))⋅Ω - γₘᵤ⋅n_b⋅⎝(γ₁₃ + γ₂₃\n",
       "⎢                                                                             \n",
       "⎢                                                                             \n",
       "⎢                                                                             \n",
       "⎢                                                                             \n",
       "⎢                                                                             \n",
       "⎢─────────────────────────────────────────────────────────────────────────────\n",
       "⎢                                                      _           ⎛          \n",
       "⎢4⋅Ω⋅γₘᵤ⋅n_b⋅(γ₁₃ + γ₂₃ + γ_2d + γ_3d + γₘᵤ⋅(n_b + 1))⋅Ω - γₘᵤ⋅n_b⋅⎝(γ₁₃ + γ₂₃\n",
       "⎢                                                                             \n",
       "⎢                                                                             \n",
       "⎢                                                                             \n",
       "⎢─────────────────────────────────────────────────────────────────────────────\n",
       "⎢                                                      _           ⎛          \n",
       "⎣4⋅Ω⋅γₘᵤ⋅n_b⋅(γ₁₃ + γ₂₃ + γ_2d + γ_3d + γₘᵤ⋅(n_b + 1))⋅Ω - γₘᵤ⋅n_b⋅⎝(γ₁₃ + γ₂₃\n",
       "\n",
       "                                                                              \n",
       "                                                            - γₘᵤ⋅(γ₁₃ + γ₂₃)⋅\n",
       "──────────────────────────────────────────────────────────────────────────────\n",
       "                                                               2     ⎛    _   \n",
       ")⋅(-2⋅ⅈ⋅δₘᵤ + 2⋅ⅈ⋅δₒ + γ₁₃ + γ₂₃ + γ_2d + γ_3d + γₘᵤ⋅(n_b + 1))  - 2⋅⎝2⋅Ω⋅Ω + \n",
       "                                                                              \n",
       "                                                                              \n",
       "                                                                              \n",
       "                                                                              \n",
       "                                                                              \n",
       "                                                                              \n",
       "                                                                              \n",
       "                                                                              \n",
       "                                                                              \n",
       "──────────────────────────────────────────────────────────────────────────────\n",
       "                                                               2     ⎛    _   \n",
       ")⋅(-2⋅ⅈ⋅δₘᵤ + 2⋅ⅈ⋅δₒ + γ₁₃ + γ₂₃ + γ_2d + γ_3d + γₘᵤ⋅(n_b + 1))  - 2⋅⎝2⋅Ω⋅Ω + \n",
       "                                                                              \n",
       "                                                                              \n",
       "──────────────────────────────────────────────────────────────────────────────\n",
       "                                                               2     ⎛    _   \n",
       ")⋅(-2⋅ⅈ⋅δₘᵤ + 2⋅ⅈ⋅δₒ + γ₁₃ + γ₂₃ + γ_2d + γ_3d + γₘᵤ⋅(n_b + 1))  - 2⋅⎝2⋅Ω⋅Ω + \n",
       "                                                                              \n",
       "                                                                              \n",
       "                                                                              \n",
       "                                                                              \n",
       "                                                                              \n",
       "──────────────────────────────────────────────────────────────────────────────\n",
       "                                                               2     ⎛    _   \n",
       ")⋅(-2⋅ⅈ⋅δₘᵤ + 2⋅ⅈ⋅δₒ + γ₁₃ + γ₂₃ + γ_2d + γ_3d + γₘᵤ⋅(n_b + 1))  - 2⋅⎝2⋅Ω⋅Ω + \n",
       "                                                                              \n",
       "                                                                              \n",
       "                                                                              \n",
       "──────────────────────────────────────────────────────────────────────────────\n",
       "                                                               2     ⎛    _   \n",
       ")⋅(-2⋅ⅈ⋅δₘᵤ + 2⋅ⅈ⋅δₒ + γ₁₃ + γ₂₃ + γ_2d + γ_3d + γₘᵤ⋅(n_b + 1))  - 2⋅⎝2⋅Ω⋅Ω + \n",
       "\n",
       "                                                                       2     ⎛\n",
       "(n_b + 1)⋅(-2⋅ⅈ⋅δₘᵤ + 2⋅ⅈ⋅δₒ + γ₁₃ + γ₂₃ + γ_2d + γ_3d + γₘᵤ⋅(n_b + 1))  + 2⋅⎝\n",
       "──────────────────────────────────────────────────────────────────────────────\n",
       "                                                                         ⎞    \n",
       "(γ₁₃ + γ₂₃)⋅(-2⋅ⅈ⋅δₘᵤ + 2⋅ⅈ⋅δₒ + γ₁₃ + γ₂₃ + γ_2d + γ_3d + γₘᵤ⋅(n_b + 1))⎠⋅(γ₁\n",
       "                                                                              \n",
       "                                                                              \n",
       "                                                                              \n",
       "                                                                              \n",
       "                                                                              \n",
       "                                                                              \n",
       "                                                                              \n",
       "           ⎛                                                                  \n",
       "  -γₘᵤ⋅n_b⋅⎝(γ₁₃ + γ₂₃)⋅(-2⋅ⅈ⋅δₘᵤ + 2⋅ⅈ⋅δₒ + γ₁₃ + γ₂₃ + γ_2d + γ_3d + γₘᵤ⋅(n_\n",
       "──────────────────────────────────────────────────────────────────────────────\n",
       "                                                                         ⎞    \n",
       "(γ₁₃ + γ₂₃)⋅(-2⋅ⅈ⋅δₘᵤ + 2⋅ⅈ⋅δₒ + γ₁₃ + γ₂₃ + γ_2d + γ_3d + γₘᵤ⋅(n_b + 1))⎠⋅(γ₁\n",
       "                                                                              \n",
       "                                                                  -2⋅ⅈ⋅Ω⋅γₘᵤ⋅n\n",
       "──────────────────────────────────────────────────────────────────────────────\n",
       "                                                                         ⎞    \n",
       "(γ₁₃ + γ₂₃)⋅(-2⋅ⅈ⋅δₘᵤ + 2⋅ⅈ⋅δₒ + γ₁₃ + γ₂₃ + γ_2d + γ_3d + γₘᵤ⋅(n_b + 1))⎠⋅(γ₁\n",
       "                                                                              \n",
       "                                                                              \n",
       "                                                                              \n",
       "                                                                              \n",
       "                                                                  2⋅ⅈ⋅γₘᵤ⋅n_b⋅\n",
       "──────────────────────────────────────────────────────────────────────────────\n",
       "                                                                         ⎞    \n",
       "(γ₁₃ + γ₂₃)⋅(-2⋅ⅈ⋅δₘᵤ + 2⋅ⅈ⋅δₒ + γ₁₃ + γ₂₃ + γ_2d + γ_3d + γₘᵤ⋅(n_b + 1))⎠⋅(γ₁\n",
       "                                                                              \n",
       "                                                                              \n",
       "                                                                              \n",
       "──────────────────────────────────────────────────────────────────────────────\n",
       "                                                                         ⎞    \n",
       "(γ₁₃ + γ₂₃)⋅(-2⋅ⅈ⋅δₘᵤ + 2⋅ⅈ⋅δₒ + γ₁₃ + γ₂₃ + γ_2d + γ_3d + γₘᵤ⋅(n_b + 1))⎠⋅(γ₁\n",
       "\n",
       "                          _                                                   \n",
       "2⋅Ω⋅(γ₁₃ + γₘᵤ⋅(n_b + 1))⋅Ω + γₘᵤ⋅(γ₁₃ + γ₂₃)⋅(n_b + 1)⋅(-2⋅ⅈ⋅δₘᵤ + 2⋅ⅈ⋅δₒ + γ\n",
       "──────────────────────────────────────────────────────────────────────────────\n",
       "                                      ⎞                                       \n",
       "₃ + γ₂₃ + γ_2d + γ_3d + γₘᵤ⋅(n_b + 1))⎠ - γₘᵤ⋅(γ₁₃ + γ₂₃)⋅(n_b + 1)⋅(-2⋅ⅈ⋅δₘᵤ \n",
       "                                                                              \n",
       "                               0                                              \n",
       "                                                                              \n",
       "                               0                                              \n",
       "                                                                              \n",
       "                               0                                              \n",
       "                                                                              \n",
       "       2     ⎛    _                                                           \n",
       "b + 1))  - 2⋅⎝2⋅Ω⋅Ω + (γ₁₃ + γ₂₃)⋅(-2⋅ⅈ⋅δₘᵤ + 2⋅ⅈ⋅δₒ + γ₁₃ + γ₂₃ + γ_2d + γ_3d\n",
       "──────────────────────────────────────────────────────────────────────────────\n",
       "                                      ⎞                                       \n",
       "₃ + γ₂₃ + γ_2d + γ_3d + γₘᵤ⋅(n_b + 1))⎠ - γₘᵤ⋅(γ₁₃ + γ₂₃)⋅(n_b + 1)⋅(-2⋅ⅈ⋅δₘᵤ \n",
       "                                                                              \n",
       "_b⋅(γ₁₃ + γ₂₃)⋅(2⋅ⅈ⋅δₘᵤ - 2⋅ⅈ⋅δₒ + γ₁₃ + γ₂₃ + γ_2d + γ_3d + γₘᵤ⋅(n_b + 1))   \n",
       "──────────────────────────────────────────────────────────────────────────────\n",
       "                                      ⎞                                       \n",
       "₃ + γ₂₃ + γ_2d + γ_3d + γₘᵤ⋅(n_b + 1))⎠ - γₘᵤ⋅(γ₁₃ + γ₂₃)⋅(n_b + 1)⋅(-2⋅ⅈ⋅δₘᵤ \n",
       "                                                                              \n",
       "                               0                                              \n",
       "                                                                              \n",
       "                                                                          _   \n",
       "(γ₁₃ + γ₂₃)⋅(-2⋅ⅈ⋅δₘᵤ + 2⋅ⅈ⋅δₒ + γ₁₃ + γ₂₃ + γ_2d + γ_3d + γₘᵤ⋅(n_b + 1))⋅Ω   \n",
       "──────────────────────────────────────────────────────────────────────────────\n",
       "                                      ⎞                                       \n",
       "₃ + γ₂₃ + γ_2d + γ_3d + γₘᵤ⋅(n_b + 1))⎠ - γₘᵤ⋅(γ₁₃ + γ₂₃)⋅(n_b + 1)⋅(-2⋅ⅈ⋅δₘᵤ \n",
       "                                                                              \n",
       "                                                          _                   \n",
       "    4⋅Ω⋅γₘᵤ⋅n_b⋅(γ₁₃ + γ₂₃ + γ_2d + γ_3d + γₘᵤ⋅(n_b + 1))⋅Ω                   \n",
       "──────────────────────────────────────────────────────────────────────────────\n",
       "                                      ⎞                                       \n",
       "₃ + γ₂₃ + γ_2d + γ_3d + γₘᵤ⋅(n_b + 1))⎠ - γₘᵤ⋅(γ₁₃ + γ₂₃)⋅(n_b + 1)⋅(-2⋅ⅈ⋅δₘᵤ \n",
       "\n",
       "                                       ⎞                                      \n",
       "₁₃ + γ₂₃ + γ_2d + γ_3d + γₘᵤ⋅(n_b + 1))⎠⋅(γ₁₃ + γ₂₃ + γ_2d + γ_3d + γₘᵤ⋅(n_b +\n",
       "──────────────────────────────────────────────────────────────────────────────\n",
       "                                                   2     ⎛                    \n",
       "+ 2⋅ⅈ⋅δₒ + γ₁₃ + γ₂₃ + γ_2d + γ_3d + γₘᵤ⋅(n_b + 1))  + 2⋅⎝2⋅Ω⋅(γ₁₃ + γₘᵤ⋅(n_b \n",
       "                                                                              \n",
       "                                                                              \n",
       "                                                                              \n",
       "                                                                              \n",
       "                                                                              \n",
       "                                                                              \n",
       "                                                                              \n",
       "                 ⎞                                          ⎞                 \n",
       " + γₘᵤ⋅(n_b + 1))⎠⋅(γ₁₃ + γ₂₃ + γ_2d + γ_3d + γₘᵤ⋅(n_b + 1))⎠                 \n",
       "──────────────────────────────────────────────────────────────────────────────\n",
       "                                                   2     ⎛                    \n",
       "+ 2⋅ⅈ⋅δₒ + γ₁₃ + γ₂₃ + γ_2d + γ_3d + γₘᵤ⋅(n_b + 1))  + 2⋅⎝2⋅Ω⋅(γ₁₃ + γₘᵤ⋅(n_b \n",
       "                                                                              \n",
       "                                                                              \n",
       "──────────────────────────────────────────────────────────────────────────────\n",
       "                                                   2     ⎛                    \n",
       "+ 2⋅ⅈ⋅δₒ + γ₁₃ + γ₂₃ + γ_2d + γ_3d + γₘᵤ⋅(n_b + 1))  + 2⋅⎝2⋅Ω⋅(γ₁₃ + γₘᵤ⋅(n_b \n",
       "                                                                              \n",
       "                                                                              \n",
       "                                                                              \n",
       "                                                                              \n",
       "                                                                              \n",
       "──────────────────────────────────────────────────────────────────────────────\n",
       "                                                   2     ⎛                    \n",
       "+ 2⋅ⅈ⋅δₒ + γ₁₃ + γ₂₃ + γ_2d + γ_3d + γₘᵤ⋅(n_b + 1))  + 2⋅⎝2⋅Ω⋅(γ₁₃ + γₘᵤ⋅(n_b \n",
       "                                                                              \n",
       "                                                                              \n",
       "                                                                              \n",
       "──────────────────────────────────────────────────────────────────────────────\n",
       "                                                   2     ⎛                    \n",
       "+ 2⋅ⅈ⋅δₒ + γ₁₃ + γ₂₃ + γ_2d + γ_3d + γₘᵤ⋅(n_b + 1))  + 2⋅⎝2⋅Ω⋅(γ₁₃ + γₘᵤ⋅(n_b \n",
       "\n",
       "                                                                              \n",
       " 1))                                                                          \n",
       "──────────────────────────────────────────────────────────────────────────────\n",
       "      _                                                                       \n",
       "+ 1))⋅Ω + γₘᵤ⋅(γ₁₃ + γ₂₃)⋅(n_b + 1)⋅(-2⋅ⅈ⋅δₘᵤ + 2⋅ⅈ⋅δₒ + γ₁₃ + γ₂₃ + γ_2d + γ_\n",
       "                                                                              \n",
       "                                                                              \n",
       "                                                                              \n",
       "                                                                              \n",
       "                                                                              \n",
       "                                                                              \n",
       "                                                                              \n",
       "                                                                              \n",
       "                                                                              \n",
       "──────────────────────────────────────────────────────────────────────────────\n",
       "      _                                                                       \n",
       "+ 1))⋅Ω + γₘᵤ⋅(γ₁₃ + γ₂₃)⋅(n_b + 1)⋅(-2⋅ⅈ⋅δₘᵤ + 2⋅ⅈ⋅δₒ + γ₁₃ + γ₂₃ + γ_2d + γ_\n",
       "                                                                              \n",
       "                                                                              \n",
       "──────────────────────────────────────────────────────────────────────────────\n",
       "      _                                                                       \n",
       "+ 1))⋅Ω + γₘᵤ⋅(γ₁₃ + γ₂₃)⋅(n_b + 1)⋅(-2⋅ⅈ⋅δₘᵤ + 2⋅ⅈ⋅δₒ + γ₁₃ + γ₂₃ + γ_2d + γ_\n",
       "                                                                              \n",
       "                                                                              \n",
       "                                                                              \n",
       "                                                                              \n",
       "                                                                              \n",
       "──────────────────────────────────────────────────────────────────────────────\n",
       "      _                                                                       \n",
       "+ 1))⋅Ω + γₘᵤ⋅(γ₁₃ + γ₂₃)⋅(n_b + 1)⋅(-2⋅ⅈ⋅δₘᵤ + 2⋅ⅈ⋅δₒ + γ₁₃ + γ₂₃ + γ_2d + γ_\n",
       "                                                                              \n",
       "                                                                              \n",
       "                                                                              \n",
       "──────────────────────────────────────────────────────────────────────────────\n",
       "      _                                                                       \n",
       "+ 1))⋅Ω + γₘᵤ⋅(γ₁₃ + γ₂₃)⋅(n_b + 1)⋅(-2⋅ⅈ⋅δₘᵤ + 2⋅ⅈ⋅δₒ + γ₁₃ + γ₂₃ + γ_2d + γ_\n",
       "\n",
       "                                                              ⎤\n",
       "                                                              ⎥\n",
       "──────────────────────────────────────────────────────────────⎥\n",
       "                   ⎞                                          ⎥\n",
       "3d + γₘᵤ⋅(n_b + 1))⎠⋅(γ₁₃ + γ₂₃ + γ_2d + γ_3d + γₘᵤ⋅(n_b + 1))⎥\n",
       "                                                              ⎥\n",
       "                                                              ⎥\n",
       "                                                              ⎥\n",
       "                                                              ⎥\n",
       "                                                              ⎥\n",
       "                                                              ⎥\n",
       "                                                              ⎥\n",
       "                                                              ⎥\n",
       "                                                              ⎥\n",
       "──────────────────────────────────────────────────────────────⎥\n",
       "                   ⎞                                          ⎥\n",
       "3d + γₘᵤ⋅(n_b + 1))⎠⋅(γ₁₃ + γ₂₃ + γ_2d + γ_3d + γₘᵤ⋅(n_b + 1))⎥\n",
       "                                                              ⎥\n",
       "                                                              ⎥\n",
       "──────────────────────────────────────────────────────────────⎥\n",
       "                   ⎞                                          ⎥\n",
       "3d + γₘᵤ⋅(n_b + 1))⎠⋅(γ₁₃ + γ₂₃ + γ_2d + γ_3d + γₘᵤ⋅(n_b + 1))⎥\n",
       "                                                              ⎥\n",
       "                                                              ⎥\n",
       "                                                              ⎥\n",
       "                                                              ⎥\n",
       "                                                              ⎥\n",
       "──────────────────────────────────────────────────────────────⎥\n",
       "                   ⎞                                          ⎥\n",
       "3d + γₘᵤ⋅(n_b + 1))⎠⋅(γ₁₃ + γ₂₃ + γ_2d + γ_3d + γₘᵤ⋅(n_b + 1))⎥\n",
       "                                                              ⎥\n",
       "                                                              ⎥\n",
       "                                                              ⎥\n",
       "──────────────────────────────────────────────────────────────⎥\n",
       "                   ⎞                                          ⎥\n",
       "3d + γₘᵤ⋅(n_b + 1))⎠⋅(γ₁₃ + γ₂₃ + γ_2d + γ_3d + γₘᵤ⋅(n_b + 1))⎦"
      ]
     },
     "execution_count": 879,
     "metadata": {},
     "output_type": "execute_result"
    }
   ],
   "source": [
    "sym.simplify(rho_simp/sym.simplify(rho_simp[0]+rho_simp[4] +rho_simp[8]))"
   ]
  },
  {
   "cell_type": "code",
   "execution_count": 354,
   "metadata": {},
   "outputs": [],
   "source": [
    "def test_fun(x):\n",
    "    reval=np.array([x,x**2])\n",
    "    return reval"
   ]
  },
  {
   "cell_type": "code",
   "execution_count": 356,
   "metadata": {},
   "outputs": [
    {
     "data": {
      "text/plain": [
       "array([ 4, 16])"
      ]
     },
     "execution_count": 356,
     "metadata": {},
     "output_type": "execute_result"
    }
   ],
   "source": [
    "test_fun(4)"
   ]
  },
  {
   "cell_type": "code",
   "execution_count": 360,
   "metadata": {},
   "outputs": [
    {
     "data": {
      "text/plain": [
       "(array([4.        , 8.66666667]), None)"
      ]
     },
     "execution_count": 360,
     "metadata": {},
     "output_type": "execute_result"
    }
   ],
   "source": [
    "scipy.integrate.fixed_quad(test_fun,1,3,n=10)"
   ]
  },
  {
   "cell_type": "code",
   "execution_count": 361,
   "metadata": {},
   "outputs": [
    {
     "ename": "ValueError",
     "evalue": "The truth value of an array with more than one element is ambiguous. Use a.any() or a.all()",
     "output_type": "error",
     "traceback": [
      "\u001b[0;31m---------------------------------------------------------------------------\u001b[0m",
      "\u001b[0;31mValueError\u001b[0m                                Traceback (most recent call last)",
      "\u001b[0;32m<ipython-input-361-1d91e1748d7b>\u001b[0m in \u001b[0;36m<module>\u001b[0;34m()\u001b[0m\n\u001b[0;32m----> 1\u001b[0;31m \u001b[0mscipy\u001b[0m\u001b[0;34m.\u001b[0m\u001b[0mintegrate\u001b[0m\u001b[0;34m.\u001b[0m\u001b[0mquadrature\u001b[0m\u001b[0;34m(\u001b[0m\u001b[0mtest_fun\u001b[0m\u001b[0;34m,\u001b[0m\u001b[0;36m1\u001b[0m\u001b[0;34m,\u001b[0m\u001b[0;36m3\u001b[0m\u001b[0;34m)\u001b[0m\u001b[0;34m\u001b[0m\u001b[0m\n\u001b[0m",
      "\u001b[0;32m~/anaconda3/lib/python3.6/site-packages/scipy/integrate/quadrature.py\u001b[0m in \u001b[0;36mquadrature\u001b[0;34m(func, a, b, args, tol, rtol, maxiter, vec_func, miniter)\u001b[0m\n\u001b[1;32m    194\u001b[0m         \u001b[0mval\u001b[0m \u001b[0;34m=\u001b[0m \u001b[0mnewval\u001b[0m\u001b[0;34m\u001b[0m\u001b[0m\n\u001b[1;32m    195\u001b[0m \u001b[0;34m\u001b[0m\u001b[0m\n\u001b[0;32m--> 196\u001b[0;31m         \u001b[0;32mif\u001b[0m \u001b[0merr\u001b[0m \u001b[0;34m<\u001b[0m \u001b[0mtol\u001b[0m \u001b[0;32mor\u001b[0m \u001b[0merr\u001b[0m \u001b[0;34m<\u001b[0m \u001b[0mrtol\u001b[0m\u001b[0;34m*\u001b[0m\u001b[0mabs\u001b[0m\u001b[0;34m(\u001b[0m\u001b[0mval\u001b[0m\u001b[0;34m)\u001b[0m\u001b[0;34m:\u001b[0m\u001b[0;34m\u001b[0m\u001b[0m\n\u001b[0m\u001b[1;32m    197\u001b[0m             \u001b[0;32mbreak\u001b[0m\u001b[0;34m\u001b[0m\u001b[0m\n\u001b[1;32m    198\u001b[0m     \u001b[0;32melse\u001b[0m\u001b[0;34m:\u001b[0m\u001b[0;34m\u001b[0m\u001b[0m\n",
      "\u001b[0;31mValueError\u001b[0m: The truth value of an array with more than one element is ambiguous. Use a.any() or a.all()"
     ]
    }
   ],
   "source": [
    "scipy.integrate.quadrature(test_fun,1,3)"
   ]
  },
  {
   "cell_type": "code",
   "execution_count": 635,
   "metadata": {},
   "outputs": [],
   "source": [
    "rho_0u=sym.simplify(L0.nullspace()[0]).subs({2*I*delo:2*I*delm+2*I*Del})\n",
    "rho_0norm=((rho_0u)/(rho_0u[0]+rho_0u[4]+rho_0u[8]))\n",
    "rho_0norm_lam1=sym.lambdify((Del, gamma13, gamma23, gamma2d, gamma3d, nbath,gammamu,Omega),rho_0norm)\n",
    "def rho_0norm_lam(Del, gamma13, gamma23, gamma2d, gamma3d, nbath,gammamu,Omega):\n",
    "    return np.stack(rho_0norm_lam1(Del, gamma13, gamma23, gamma2d, gamma3d, nbath,gammamu,Omega))[:,0]\n"
   ]
  },
  {
   "cell_type": "code",
   "execution_count": 754,
   "metadata": {},
   "outputs": [
    {
     "data": {
      "text/plain": [
       "array([3.51052580e-01+0.0000000e+00j, 0.00000000e+00+0.0000000e+00j,\n",
       "       0.00000000e+00+0.0000000e+00j, 0.00000000e+00+0.0000000e+00j,\n",
       "       3.24504177e-01+0.0000000e+00j, 3.26482874e-10+2.9968895e-05j,\n",
       "       0.00000000e+00+0.0000000e+00j, 3.26482874e-10-2.9968895e-05j,\n",
       "       3.24443243e-01+0.0000000e+00j])"
      ]
     },
     "execution_count": 754,
     "metadata": {},
     "output_type": "execute_result"
    }
   ],
   "source": [
    "(rho_0norm_lam(10.9,p['gamma13'],p['gamma23'],p['gamma2d'],p['gamma3d'],p['nbath'],p['gammamu'],p['Omega']))"
   ]
  },
  {
   "cell_type": "code",
   "execution_count": 584,
   "metadata": {},
   "outputs": [
    {
     "data": {
      "text/latex": [
       "$$\\left[\\begin{matrix}\\frac{- \\gamma_{\\mu} \\left(\\gamma_{13} + \\gamma_{23}\\right) \\left(n_{b} + 1\\right) \\left(2 i \\Delta + \\gamma_{13} + \\gamma_{23} + \\gamma_{2d} + \\gamma_{3d} + \\gamma_{\\mu} \\left(n_{b} + 1\\right)\\right)^{2} + 2 \\left(2 \\Omega \\left(\\gamma_{13} + \\gamma_{\\mu} \\left(n_{b} + 1\\right)\\right) \\overline{\\Omega} + \\gamma_{\\mu} \\left(\\gamma_{13} + \\gamma_{23}\\right) \\left(n_{b} + 1\\right) \\left(2 i \\Delta + \\gamma_{13} + \\gamma_{23} + \\gamma_{2d} + \\gamma_{3d} + \\gamma_{\\mu} \\left(n_{b} + 1\\right)\\right)\\right) \\left(\\gamma_{13} + \\gamma_{23} + \\gamma_{2d} + \\gamma_{3d} + \\gamma_{\\mu} \\left(n_{b} + 1\\right)\\right)}{4 \\Omega \\gamma_{\\mu} n_{b} \\left(1 + \\frac{1}{4 \\Omega \\left(\\gamma_{13} + \\gamma_{23} + \\gamma_{2d} + \\gamma_{3d} + \\gamma_{\\mu} \\left(n_{b} + 1\\right)\\right) \\overline{\\Omega}} \\left(- \\left(\\gamma_{13} + \\gamma_{23}\\right) \\left(2 i \\Delta + \\gamma_{13} + \\gamma_{23} + \\gamma_{2d} + \\gamma_{3d} + \\gamma_{\\mu} \\left(n_{b} + 1\\right)\\right)^{2} + 2 \\left(2 \\Omega \\overline{\\Omega} - \\left(\\gamma_{13} + \\gamma_{23}\\right) \\left(- 2 i \\Delta - \\gamma_{13} - \\gamma_{23} - \\gamma_{2d} - \\gamma_{3d} - \\gamma_{\\mu} \\left(n_{b} + 1\\right)\\right)\\right) \\left(\\gamma_{13} + \\gamma_{23} + \\gamma_{2d} + \\gamma_{3d} + \\gamma_{\\mu} \\left(n_{b} + 1\\right)\\right)\\right) + \\frac{1}{4 \\Omega \\gamma_{\\mu} n_{b} \\left(\\gamma_{13} + \\gamma_{23} + \\gamma_{2d} + \\gamma_{3d} + \\gamma_{\\mu} \\left(n_{b} + 1\\right)\\right) \\overline{\\Omega}} \\left(- \\gamma_{\\mu} \\left(\\gamma_{13} + \\gamma_{23}\\right) \\left(n_{b} + 1\\right) \\left(2 i \\Delta + \\gamma_{13} + \\gamma_{23} + \\gamma_{2d} + \\gamma_{3d} + \\gamma_{\\mu} \\left(n_{b} + 1\\right)\\right)^{2} + 2 \\left(2 \\Omega \\left(\\gamma_{13} + \\gamma_{\\mu} \\left(n_{b} + 1\\right)\\right) \\overline{\\Omega} + \\gamma_{\\mu} \\left(\\gamma_{13} + \\gamma_{23}\\right) \\left(n_{b} + 1\\right) \\left(2 i \\Delta + \\gamma_{13} + \\gamma_{23} + \\gamma_{2d} + \\gamma_{3d} + \\gamma_{\\mu} \\left(n_{b} + 1\\right)\\right)\\right) \\left(\\gamma_{13} + \\gamma_{23} + \\gamma_{2d} + \\gamma_{3d} + \\gamma_{\\mu} \\left(n_{b} + 1\\right)\\right)\\right)\\right) \\left(\\gamma_{13} + \\gamma_{23} + \\gamma_{2d} + \\gamma_{3d} + \\gamma_{\\mu} \\left(n_{b} + 1\\right)\\right) \\overline{\\Omega}}\\\\0\\\\0\\\\0\\\\\\frac{- \\left(\\gamma_{13} + \\gamma_{23}\\right) \\left(2 i \\Delta + \\gamma_{13} + \\gamma_{23} + \\gamma_{2d} + \\gamma_{3d} + \\gamma_{\\mu} \\left(n_{b} + 1\\right)\\right)^{2} + 2 \\left(2 \\Omega \\overline{\\Omega} - \\left(\\gamma_{13} + \\gamma_{23}\\right) \\left(- 2 i \\Delta - \\gamma_{13} - \\gamma_{23} - \\gamma_{2d} - \\gamma_{3d} - \\gamma_{\\mu} \\left(n_{b} + 1\\right)\\right)\\right) \\left(\\gamma_{13} + \\gamma_{23} + \\gamma_{2d} + \\gamma_{3d} + \\gamma_{\\mu} \\left(n_{b} + 1\\right)\\right)}{4 \\Omega \\left(1 + \\frac{1}{4 \\Omega \\left(\\gamma_{13} + \\gamma_{23} + \\gamma_{2d} + \\gamma_{3d} + \\gamma_{\\mu} \\left(n_{b} + 1\\right)\\right) \\overline{\\Omega}} \\left(- \\left(\\gamma_{13} + \\gamma_{23}\\right) \\left(2 i \\Delta + \\gamma_{13} + \\gamma_{23} + \\gamma_{2d} + \\gamma_{3d} + \\gamma_{\\mu} \\left(n_{b} + 1\\right)\\right)^{2} + 2 \\left(2 \\Omega \\overline{\\Omega} - \\left(\\gamma_{13} + \\gamma_{23}\\right) \\left(- 2 i \\Delta - \\gamma_{13} - \\gamma_{23} - \\gamma_{2d} - \\gamma_{3d} - \\gamma_{\\mu} \\left(n_{b} + 1\\right)\\right)\\right) \\left(\\gamma_{13} + \\gamma_{23} + \\gamma_{2d} + \\gamma_{3d} + \\gamma_{\\mu} \\left(n_{b} + 1\\right)\\right)\\right) + \\frac{1}{4 \\Omega \\gamma_{\\mu} n_{b} \\left(\\gamma_{13} + \\gamma_{23} + \\gamma_{2d} + \\gamma_{3d} + \\gamma_{\\mu} \\left(n_{b} + 1\\right)\\right) \\overline{\\Omega}} \\left(- \\gamma_{\\mu} \\left(\\gamma_{13} + \\gamma_{23}\\right) \\left(n_{b} + 1\\right) \\left(2 i \\Delta + \\gamma_{13} + \\gamma_{23} + \\gamma_{2d} + \\gamma_{3d} + \\gamma_{\\mu} \\left(n_{b} + 1\\right)\\right)^{2} + 2 \\left(2 \\Omega \\left(\\gamma_{13} + \\gamma_{\\mu} \\left(n_{b} + 1\\right)\\right) \\overline{\\Omega} + \\gamma_{\\mu} \\left(\\gamma_{13} + \\gamma_{23}\\right) \\left(n_{b} + 1\\right) \\left(2 i \\Delta + \\gamma_{13} + \\gamma_{23} + \\gamma_{2d} + \\gamma_{3d} + \\gamma_{\\mu} \\left(n_{b} + 1\\right)\\right)\\right) \\left(\\gamma_{13} + \\gamma_{23} + \\gamma_{2d} + \\gamma_{3d} + \\gamma_{\\mu} \\left(n_{b} + 1\\right)\\right)\\right)\\right) \\left(\\gamma_{13} + \\gamma_{23} + \\gamma_{2d} + \\gamma_{3d} + \\gamma_{\\mu} \\left(n_{b} + 1\\right)\\right) \\overline{\\Omega}}\\\\\\frac{i \\left(\\gamma_{13} + \\gamma_{23}\\right) \\left(2 i \\Delta - \\gamma_{13} - \\gamma_{23} - \\gamma_{2d} - \\gamma_{3d} - \\gamma_{\\mu} \\left(n_{b} + 1\\right)\\right)}{2 \\left(1 + \\frac{1}{4 \\Omega \\left(\\gamma_{13} + \\gamma_{23} + \\gamma_{2d} + \\gamma_{3d} + \\gamma_{\\mu} \\left(n_{b} + 1\\right)\\right) \\overline{\\Omega}} \\left(- \\left(\\gamma_{13} + \\gamma_{23}\\right) \\left(2 i \\Delta + \\gamma_{13} + \\gamma_{23} + \\gamma_{2d} + \\gamma_{3d} + \\gamma_{\\mu} \\left(n_{b} + 1\\right)\\right)^{2} + 2 \\left(2 \\Omega \\overline{\\Omega} - \\left(\\gamma_{13} + \\gamma_{23}\\right) \\left(- 2 i \\Delta - \\gamma_{13} - \\gamma_{23} - \\gamma_{2d} - \\gamma_{3d} - \\gamma_{\\mu} \\left(n_{b} + 1\\right)\\right)\\right) \\left(\\gamma_{13} + \\gamma_{23} + \\gamma_{2d} + \\gamma_{3d} + \\gamma_{\\mu} \\left(n_{b} + 1\\right)\\right)\\right) + \\frac{1}{4 \\Omega \\gamma_{\\mu} n_{b} \\left(\\gamma_{13} + \\gamma_{23} + \\gamma_{2d} + \\gamma_{3d} + \\gamma_{\\mu} \\left(n_{b} + 1\\right)\\right) \\overline{\\Omega}} \\left(- \\gamma_{\\mu} \\left(\\gamma_{13} + \\gamma_{23}\\right) \\left(n_{b} + 1\\right) \\left(2 i \\Delta + \\gamma_{13} + \\gamma_{23} + \\gamma_{2d} + \\gamma_{3d} + \\gamma_{\\mu} \\left(n_{b} + 1\\right)\\right)^{2} + 2 \\left(2 \\Omega \\left(\\gamma_{13} + \\gamma_{\\mu} \\left(n_{b} + 1\\right)\\right) \\overline{\\Omega} + \\gamma_{\\mu} \\left(\\gamma_{13} + \\gamma_{23}\\right) \\left(n_{b} + 1\\right) \\left(2 i \\Delta + \\gamma_{13} + \\gamma_{23} + \\gamma_{2d} + \\gamma_{3d} + \\gamma_{\\mu} \\left(n_{b} + 1\\right)\\right)\\right) \\left(\\gamma_{13} + \\gamma_{23} + \\gamma_{2d} + \\gamma_{3d} + \\gamma_{\\mu} \\left(n_{b} + 1\\right)\\right)\\right)\\right) \\left(\\gamma_{13} + \\gamma_{23} + \\gamma_{2d} + \\gamma_{3d} + \\gamma_{\\mu} \\left(n_{b} + 1\\right)\\right) \\overline{\\Omega}}\\\\0\\\\\\frac{i \\left(\\gamma_{13} + \\gamma_{23}\\right) \\left(2 i \\Delta + \\gamma_{13} + \\gamma_{23} + \\gamma_{2d} + \\gamma_{3d} + \\gamma_{\\mu} \\left(n_{b} + 1\\right)\\right)}{2 \\Omega \\left(1 + \\frac{1}{4 \\Omega \\left(\\gamma_{13} + \\gamma_{23} + \\gamma_{2d} + \\gamma_{3d} + \\gamma_{\\mu} \\left(n_{b} + 1\\right)\\right) \\overline{\\Omega}} \\left(- \\left(\\gamma_{13} + \\gamma_{23}\\right) \\left(2 i \\Delta + \\gamma_{13} + \\gamma_{23} + \\gamma_{2d} + \\gamma_{3d} + \\gamma_{\\mu} \\left(n_{b} + 1\\right)\\right)^{2} + 2 \\left(2 \\Omega \\overline{\\Omega} - \\left(\\gamma_{13} + \\gamma_{23}\\right) \\left(- 2 i \\Delta - \\gamma_{13} - \\gamma_{23} - \\gamma_{2d} - \\gamma_{3d} - \\gamma_{\\mu} \\left(n_{b} + 1\\right)\\right)\\right) \\left(\\gamma_{13} + \\gamma_{23} + \\gamma_{2d} + \\gamma_{3d} + \\gamma_{\\mu} \\left(n_{b} + 1\\right)\\right)\\right) + \\frac{1}{4 \\Omega \\gamma_{\\mu} n_{b} \\left(\\gamma_{13} + \\gamma_{23} + \\gamma_{2d} + \\gamma_{3d} + \\gamma_{\\mu} \\left(n_{b} + 1\\right)\\right) \\overline{\\Omega}} \\left(- \\gamma_{\\mu} \\left(\\gamma_{13} + \\gamma_{23}\\right) \\left(n_{b} + 1\\right) \\left(2 i \\Delta + \\gamma_{13} + \\gamma_{23} + \\gamma_{2d} + \\gamma_{3d} + \\gamma_{\\mu} \\left(n_{b} + 1\\right)\\right)^{2} + 2 \\left(2 \\Omega \\left(\\gamma_{13} + \\gamma_{\\mu} \\left(n_{b} + 1\\right)\\right) \\overline{\\Omega} + \\gamma_{\\mu} \\left(\\gamma_{13} + \\gamma_{23}\\right) \\left(n_{b} + 1\\right) \\left(2 i \\Delta + \\gamma_{13} + \\gamma_{23} + \\gamma_{2d} + \\gamma_{3d} + \\gamma_{\\mu} \\left(n_{b} + 1\\right)\\right)\\right) \\left(\\gamma_{13} + \\gamma_{23} + \\gamma_{2d} + \\gamma_{3d} + \\gamma_{\\mu} \\left(n_{b} + 1\\right)\\right)\\right)\\right) \\left(\\gamma_{13} + \\gamma_{23} + \\gamma_{2d} + \\gamma_{3d} + \\gamma_{\\mu} \\left(n_{b} + 1\\right)\\right)}\\\\\\frac{1}{1 + \\frac{1}{4 \\Omega \\left(\\gamma_{13} + \\gamma_{23} + \\gamma_{2d} + \\gamma_{3d} + \\gamma_{\\mu} \\left(n_{b} + 1\\right)\\right) \\overline{\\Omega}} \\left(- \\left(\\gamma_{13} + \\gamma_{23}\\right) \\left(2 i \\Delta + \\gamma_{13} + \\gamma_{23} + \\gamma_{2d} + \\gamma_{3d} + \\gamma_{\\mu} \\left(n_{b} + 1\\right)\\right)^{2} + 2 \\left(2 \\Omega \\overline{\\Omega} - \\left(\\gamma_{13} + \\gamma_{23}\\right) \\left(- 2 i \\Delta - \\gamma_{13} - \\gamma_{23} - \\gamma_{2d} - \\gamma_{3d} - \\gamma_{\\mu} \\left(n_{b} + 1\\right)\\right)\\right) \\left(\\gamma_{13} + \\gamma_{23} + \\gamma_{2d} + \\gamma_{3d} + \\gamma_{\\mu} \\left(n_{b} + 1\\right)\\right)\\right) + \\frac{1}{4 \\Omega \\gamma_{\\mu} n_{b} \\left(\\gamma_{13} + \\gamma_{23} + \\gamma_{2d} + \\gamma_{3d} + \\gamma_{\\mu} \\left(n_{b} + 1\\right)\\right) \\overline{\\Omega}} \\left(- \\gamma_{\\mu} \\left(\\gamma_{13} + \\gamma_{23}\\right) \\left(n_{b} + 1\\right) \\left(2 i \\Delta + \\gamma_{13} + \\gamma_{23} + \\gamma_{2d} + \\gamma_{3d} + \\gamma_{\\mu} \\left(n_{b} + 1\\right)\\right)^{2} + 2 \\left(2 \\Omega \\left(\\gamma_{13} + \\gamma_{\\mu} \\left(n_{b} + 1\\right)\\right) \\overline{\\Omega} + \\gamma_{\\mu} \\left(\\gamma_{13} + \\gamma_{23}\\right) \\left(n_{b} + 1\\right) \\left(2 i \\Delta + \\gamma_{13} + \\gamma_{23} + \\gamma_{2d} + \\gamma_{3d} + \\gamma_{\\mu} \\left(n_{b} + 1\\right)\\right)\\right) \\left(\\gamma_{13} + \\gamma_{23} + \\gamma_{2d} + \\gamma_{3d} + \\gamma_{\\mu} \\left(n_{b} + 1\\right)\\right)\\right)}\\end{matrix}\\right]$$"
      ],
      "text/plain": [
       "⎡                                                                             \n",
       "⎢                                                                             \n",
       "⎢─────────────────────────────────────────────────────────────────────────────\n",
       "⎢            ⎛                                                                \n",
       "⎢            ⎜    - (γ₁₃ + γ₂₃)⋅(2⋅ⅈ⋅Δ + γ₁₃ + γ₂₃ + γ_2d + γ_3d + γₘᵤ⋅(n_b + \n",
       "⎢4⋅Ω⋅γₘᵤ⋅n_b⋅⎜1 + ────────────────────────────────────────────────────────────\n",
       "⎢            ⎜                                                                \n",
       "⎢            ⎝                                                                \n",
       "⎢                                                                             \n",
       "⎢                                                                             \n",
       "⎢                                                                             \n",
       "⎢                                                                             \n",
       "⎢                                                                             \n",
       "⎢                                                                             \n",
       "⎢                                                                             \n",
       "⎢                                                                             \n",
       "⎢                                                                             \n",
       "⎢    ─────────────────────────────────────────────────────────────────────────\n",
       "⎢        ⎛                                                                   2\n",
       "⎢        ⎜    - (γ₁₃ + γ₂₃)⋅(2⋅ⅈ⋅Δ + γ₁₃ + γ₂₃ + γ_2d + γ_3d + γₘᵤ⋅(n_b + 1)) \n",
       "⎢    4⋅Ω⋅⎜1 + ────────────────────────────────────────────────────────────────\n",
       "⎢        ⎜                                                                    \n",
       "⎢        ⎝                                                                    \n",
       "⎢                                                                             \n",
       "⎢                                                                             \n",
       "⎢     ────────────────────────────────────────────────────────────────────────\n",
       "⎢       ⎛                                                                   2 \n",
       "⎢       ⎜    - (γ₁₃ + γ₂₃)⋅(2⋅ⅈ⋅Δ + γ₁₃ + γ₂₃ + γ_2d + γ_3d + γₘᵤ⋅(n_b + 1))  \n",
       "⎢     2⋅⎜1 + ─────────────────────────────────────────────────────────────────\n",
       "⎢       ⎜                                                                     \n",
       "⎢       ⎝                                                                     \n",
       "⎢                                                                             \n",
       "⎢                                                                             \n",
       "⎢                                                                             \n",
       "⎢                                                                             \n",
       "⎢     ────────────────────────────────────────────────────────────────────────\n",
       "⎢         ⎛                                                                   \n",
       "⎢         ⎜    - (γ₁₃ + γ₂₃)⋅(2⋅ⅈ⋅Δ + γ₁₃ + γ₂₃ + γ_2d + γ_3d + γₘᵤ⋅(n_b + 1))\n",
       "⎢     2⋅Ω⋅⎜1 + ───────────────────────────────────────────────────────────────\n",
       "⎢         ⎜                                                                   \n",
       "⎢         ⎝                                                                   \n",
       "⎢                                                                             \n",
       "⎢                                                                             \n",
       "⎢                             ────────────────────────────────────────────────\n",
       "⎢                                                                             \n",
       "⎢                                 - (γ₁₃ + γ₂₃)⋅(2⋅ⅈ⋅Δ + γ₁₃ + γ₂₃ + γ_2d + γ_\n",
       "⎢                             1 + ────────────────────────────────────────────\n",
       "⎢                                                                             \n",
       "⎣                                                                             \n",
       "\n",
       "                                                                              \n",
       "                                               - γₘᵤ⋅(γ₁₃ + γ₂₃)⋅(n_b + 1)⋅(2⋅\n",
       "──────────────────────────────────────────────────────────────────────────────\n",
       "   2     ⎛    _                                                               \n",
       "1))  + 2⋅⎝2⋅Ω⋅Ω - (γ₁₃ + γ₂₃)⋅(-2⋅ⅈ⋅Δ - γ₁₃ - γ₂₃ - γ_2d - γ_3d - γₘᵤ⋅(n_b + 1\n",
       "──────────────────────────────────────────────────────────────────────────────\n",
       "                                                      _                       \n",
       "        4⋅Ω⋅(γ₁₃ + γ₂₃ + γ_2d + γ_3d + γₘᵤ⋅(n_b + 1))⋅Ω                       \n",
       "                                                                              \n",
       "                                                                              \n",
       "                                                                              \n",
       "                                                                              \n",
       "                                                                              \n",
       "                                                                              \n",
       "                                                                              \n",
       "                                                                              \n",
       "                                                                       - (γ₁₃ \n",
       "──────────────────────────────────────────────────────────────────────────────\n",
       "     ⎛    _                                                                 ⎞ \n",
       " + 2⋅⎝2⋅Ω⋅Ω - (γ₁₃ + γ₂₃)⋅(-2⋅ⅈ⋅Δ - γ₁₃ - γ₂₃ - γ_2d - γ_3d - γₘᵤ⋅(n_b + 1))⎠⋅\n",
       "──────────────────────────────────────────────────────────────────────────────\n",
       "                                                  _                           \n",
       "    4⋅Ω⋅(γ₁₃ + γ₂₃ + γ_2d + γ_3d + γₘᵤ⋅(n_b + 1))⋅Ω                           \n",
       "                                                                              \n",
       "                                                                              \n",
       "──────────────────────────────────────────────────────────────────────────────\n",
       "    ⎛    _                                                                 ⎞  \n",
       "+ 2⋅⎝2⋅Ω⋅Ω - (γ₁₃ + γ₂₃)⋅(-2⋅ⅈ⋅Δ - γ₁₃ - γ₂₃ - γ_2d - γ_3d - γₘᵤ⋅(n_b + 1))⎠⋅(\n",
       "──────────────────────────────────────────────────────────────────────────────\n",
       "                                                 _                            \n",
       "   4⋅Ω⋅(γ₁₃ + γ₂₃ + γ_2d + γ_3d + γₘᵤ⋅(n_b + 1))⋅Ω                            \n",
       "                                                                              \n",
       "                                                                              \n",
       "                                                                              \n",
       "                                                                              \n",
       "──────────────────────────────────────────────────────────────────────────────\n",
       "2     ⎛    _                                                                 ⎞\n",
       "  + 2⋅⎝2⋅Ω⋅Ω - (γ₁₃ + γ₂₃)⋅(-2⋅ⅈ⋅Δ - γ₁₃ - γ₂₃ - γ_2d - γ_3d - γₘᵤ⋅(n_b + 1))⎠\n",
       "──────────────────────────────────────────────────────────────────────────────\n",
       "                                                   _                          \n",
       "     4⋅Ω⋅(γ₁₃ + γ₂₃ + γ_2d + γ_3d + γₘᵤ⋅(n_b + 1))⋅Ω                          \n",
       "                                                                              \n",
       "                                                                              \n",
       "──────────────────────────────────────────────────────────────────────────────\n",
       "                   2     ⎛    _                                               \n",
       "3d + γₘᵤ⋅(n_b + 1))  + 2⋅⎝2⋅Ω⋅Ω - (γ₁₃ + γ₂₃)⋅(-2⋅ⅈ⋅Δ - γ₁₃ - γ₂₃ - γ_2d - γ_3\n",
       "──────────────────────────────────────────────────────────────────────────────\n",
       "                                                                      _       \n",
       "                        4⋅Ω⋅(γ₁₃ + γ₂₃ + γ_2d + γ_3d + γₘᵤ⋅(n_b + 1))⋅Ω       \n",
       "\n",
       "                                              2     ⎛                         \n",
       "ⅈ⋅Δ + γ₁₃ + γ₂₃ + γ_2d + γ_3d + γₘᵤ⋅(n_b + 1))  + 2⋅⎝2⋅Ω⋅(γ₁₃ + γₘᵤ⋅(n_b + 1))\n",
       "──────────────────────────────────────────────────────────────────────────────\n",
       "  ⎞                                                                           \n",
       "))⎠⋅(γ₁₃ + γ₂₃ + γ_2d + γ_3d + γₘᵤ⋅(n_b + 1))   - γₘᵤ⋅(γ₁₃ + γ₂₃)⋅(n_b + 1)⋅(2\n",
       "───────────────────────────────────────────── + ──────────────────────────────\n",
       "                                                                              \n",
       "                                                                              \n",
       "                                                                              \n",
       "                                                                              \n",
       "                                                                              \n",
       "                                                                              \n",
       "                                                                              \n",
       "                                                                              \n",
       "                                                                              \n",
       "                                                        2     ⎛    _          \n",
       "+ γ₂₃)⋅(2⋅ⅈ⋅Δ + γ₁₃ + γ₂₃ + γ_2d + γ_3d + γₘᵤ⋅(n_b + 1))  + 2⋅⎝2⋅Ω⋅Ω - (γ₁₃ + \n",
       "──────────────────────────────────────────────────────────────────────────────\n",
       "                                                                              \n",
       "(γ₁₃ + γ₂₃ + γ_2d + γ_3d + γₘᵤ⋅(n_b + 1))   - γₘᵤ⋅(γ₁₃ + γ₂₃)⋅(n_b + 1)⋅(2⋅ⅈ⋅Δ\n",
       "───────────────────────────────────────── + ──────────────────────────────────\n",
       "                                                                              \n",
       "                                                                              \n",
       "                                                                              \n",
       "                                                     ⅈ⋅(γ₁₃ + γ₂₃)⋅(2⋅ⅈ⋅Δ - γ₁\n",
       "──────────────────────────────────────────────────────────────────────────────\n",
       "                                                                              \n",
       "γ₁₃ + γ₂₃ + γ_2d + γ_3d + γₘᵤ⋅(n_b + 1))   - γₘᵤ⋅(γ₁₃ + γ₂₃)⋅(n_b + 1)⋅(2⋅ⅈ⋅Δ \n",
       "──────────────────────────────────────── + ───────────────────────────────────\n",
       "                                                                              \n",
       "                                                                              \n",
       "                                                                              \n",
       "                                                                              \n",
       "                                                                              \n",
       "                                                     ⅈ⋅(γ₁₃ + γ₂₃)⋅(2⋅ⅈ⋅Δ + γ₁\n",
       "──────────────────────────────────────────────────────────────────────────────\n",
       "                                                                              \n",
       "⋅(γ₁₃ + γ₂₃ + γ_2d + γ_3d + γₘᵤ⋅(n_b + 1))   - γₘᵤ⋅(γ₁₃ + γ₂₃)⋅(n_b + 1)⋅(2⋅ⅈ⋅\n",
       "────────────────────────────────────────── + ─────────────────────────────────\n",
       "                                                                              \n",
       "                                                                              \n",
       "                                                                              \n",
       "                                                                              \n",
       "──────────────────────────────────────────────────────────────────────────────\n",
       "                  ⎞                                                           \n",
       "d - γₘᵤ⋅(n_b + 1))⎠⋅(γ₁₃ + γ₂₃ + γ_2d + γ_3d + γₘᵤ⋅(n_b + 1))   - γₘᵤ⋅(γ₁₃ + γ\n",
       "───────────────────────────────────────────────────────────── + ──────────────\n",
       "                                                                              \n",
       "                                                                              \n",
       "\n",
       " _                                                                            \n",
       "⋅Ω + γₘᵤ⋅(γ₁₃ + γ₂₃)⋅(n_b + 1)⋅(2⋅ⅈ⋅Δ + γ₁₃ + γ₂₃ + γ_2d + γ_3d + γₘᵤ⋅(n_b + 1\n",
       "──────────────────────────────────────────────────────────────────────────────\n",
       "                                               2     ⎛                        \n",
       "⋅ⅈ⋅Δ + γ₁₃ + γ₂₃ + γ_2d + γ_3d + γₘᵤ⋅(n_b + 1))  + 2⋅⎝2⋅Ω⋅(γ₁₃ + γₘᵤ⋅(n_b + 1)\n",
       "──────────────────────────────────────────────────────────────────────────────\n",
       "                                                                              \n",
       "                                                          4⋅Ω⋅γₘᵤ⋅n_b⋅(γ₁₃ + γ\n",
       "                                                                              \n",
       "      0                                                                       \n",
       "                                                                              \n",
       "      0                                                                       \n",
       "                                                                              \n",
       "      0                                                                       \n",
       "                                                                              \n",
       "                                                       ⎞                      \n",
       "γ₂₃)⋅(-2⋅ⅈ⋅Δ - γ₁₃ - γ₂₃ - γ_2d - γ_3d - γₘᵤ⋅(n_b + 1))⎠⋅(γ₁₃ + γ₂₃ + γ_2d + γ\n",
       "──────────────────────────────────────────────────────────────────────────────\n",
       "                                           2     ⎛                          _ \n",
       " + γ₁₃ + γ₂₃ + γ_2d + γ_3d + γₘᵤ⋅(n_b + 1))  + 2⋅⎝2⋅Ω⋅(γ₁₃ + γₘᵤ⋅(n_b + 1))⋅Ω \n",
       "──────────────────────────────────────────────────────────────────────────────\n",
       "                                                                              \n",
       "                                                      4⋅Ω⋅γₘᵤ⋅n_b⋅(γ₁₃ + γ₂₃ +\n",
       "                                                                              \n",
       "₃ - γ₂₃ - γ_2d - γ_3d - γₘᵤ⋅(n_b + 1))                                        \n",
       "──────────────────────────────────────────────────────────────────────────────\n",
       "                                          2     ⎛                          _  \n",
       "+ γ₁₃ + γ₂₃ + γ_2d + γ_3d + γₘᵤ⋅(n_b + 1))  + 2⋅⎝2⋅Ω⋅(γ₁₃ + γₘᵤ⋅(n_b + 1))⋅Ω +\n",
       "──────────────────────────────────────────────────────────────────────────────\n",
       "                                                                              \n",
       "                                                     4⋅Ω⋅γₘᵤ⋅n_b⋅(γ₁₃ + γ₂₃ + \n",
       "                                                                              \n",
       "      0                                                                       \n",
       "                                                                              \n",
       "₃ + γ₂₃ + γ_2d + γ_3d + γₘᵤ⋅(n_b + 1))                                        \n",
       "──────────────────────────────────────────────────────────────────────────────\n",
       "                                            2     ⎛                          _\n",
       "Δ + γ₁₃ + γ₂₃ + γ_2d + γ_3d + γₘᵤ⋅(n_b + 1))  + 2⋅⎝2⋅Ω⋅(γ₁₃ + γₘᵤ⋅(n_b + 1))⋅Ω\n",
       "──────────────────────────────────────────────────────────────────────────────\n",
       "                                                                              \n",
       "                                                       4⋅Ω⋅γₘᵤ⋅n_b⋅(γ₁₃ + γ₂₃ \n",
       "                                                                              \n",
       "      1                                                                       \n",
       "──────────────────────────────────────────────────────────────────────────────\n",
       "                                                               2     ⎛        \n",
       "₂₃)⋅(n_b + 1)⋅(2⋅ⅈ⋅Δ + γ₁₃ + γ₂₃ + γ_2d + γ_3d + γₘᵤ⋅(n_b + 1))  + 2⋅⎝2⋅Ω⋅(γ₁₃\n",
       "──────────────────────────────────────────────────────────────────────────────\n",
       "                                                                              \n",
       "                                                                          4⋅Ω⋅\n",
       "\n",
       "  ⎞                                                                           \n",
       "))⎠⋅(γ₁₃ + γ₂₃ + γ_2d + γ_3d + γₘᵤ⋅(n_b + 1))                                 \n",
       "──────────────────────────────────────────────────────────────────────────────\n",
       "  _                                                                           \n",
       ")⋅Ω + γₘᵤ⋅(γ₁₃ + γ₂₃)⋅(n_b + 1)⋅(2⋅ⅈ⋅Δ + γ₁₃ + γ₂₃ + γ_2d + γ_3d + γₘᵤ⋅(n_b + \n",
       "──────────────────────────────────────────────────────────────────────────────\n",
       "                                  _                                           \n",
       "₂₃ + γ_2d + γ_3d + γₘᵤ⋅(n_b + 1))⋅Ω                                           \n",
       "                                                                              \n",
       "                                                                              \n",
       "                                                                              \n",
       "                                                                              \n",
       "                                                                              \n",
       "                                                                              \n",
       "                                                                              \n",
       "                                                                              \n",
       "_3d + γₘᵤ⋅(n_b + 1))                                                          \n",
       "──────────────────────────────────────────────────────────────────────────────\n",
       "                                                                             ⎞\n",
       "+ γₘᵤ⋅(γ₁₃ + γ₂₃)⋅(n_b + 1)⋅(2⋅ⅈ⋅Δ + γ₁₃ + γ₂₃ + γ_2d + γ_3d + γₘᵤ⋅(n_b + 1))⎠\n",
       "──────────────────────────────────────────────────────────────────────────────\n",
       "                              _                                               \n",
       " γ_2d + γ_3d + γₘᵤ⋅(n_b + 1))⋅Ω                                               \n",
       "                                                                              \n",
       "                                                                              \n",
       "──────────────────────────────────────────────────────────────────────────────\n",
       "                                                                            ⎞ \n",
       " γₘᵤ⋅(γ₁₃ + γ₂₃)⋅(n_b + 1)⋅(2⋅ⅈ⋅Δ + γ₁₃ + γ₂₃ + γ_2d + γ_3d + γₘᵤ⋅(n_b + 1))⎠⋅\n",
       "──────────────────────────────────────────────────────────────────────────────\n",
       "                             _                                                \n",
       "γ_2d + γ_3d + γₘᵤ⋅(n_b + 1))⋅Ω                                                \n",
       "                                                                              \n",
       "                                                                              \n",
       "                                                                              \n",
       "                                                                              \n",
       "──────────────────────────────────────────────────────────────────────────────\n",
       "                                                                              \n",
       " + γₘᵤ⋅(γ₁₃ + γ₂₃)⋅(n_b + 1)⋅(2⋅ⅈ⋅Δ + γ₁₃ + γ₂₃ + γ_2d + γ_3d + γₘᵤ⋅(n_b + 1))\n",
       "──────────────────────────────────────────────────────────────────────────────\n",
       "                               _                                              \n",
       "+ γ_2d + γ_3d + γₘᵤ⋅(n_b + 1))⋅Ω                                              \n",
       "                                                                              \n",
       "                                                                              \n",
       "──────────────────────────────────────────────────────────────────────────────\n",
       "                  _                                                           \n",
       " + γₘᵤ⋅(n_b + 1))⋅Ω + γₘᵤ⋅(γ₁₃ + γ₂₃)⋅(n_b + 1)⋅(2⋅ⅈ⋅Δ + γ₁₃ + γ₂₃ + γ_2d + γ_\n",
       "──────────────────────────────────────────────────────────────────────────────\n",
       "                                                  _                           \n",
       "γₘᵤ⋅n_b⋅(γ₁₃ + γ₂₃ + γ_2d + γ_3d + γₘᵤ⋅(n_b + 1))⋅Ω                           \n",
       "\n",
       "                                                                              \n",
       "                                                                              \n",
       "──────────────────────────────────────────────────────────────────────────────\n",
       "   ⎞                                          ⎞                               \n",
       "1))⎠⋅(γ₁₃ + γ₂₃ + γ_2d + γ_3d + γₘᵤ⋅(n_b + 1))⎟                               \n",
       "──────────────────────────────────────────────⎟⋅(γ₁₃ + γ₂₃ + γ_2d + γ_3d + γₘᵤ\n",
       "                                              ⎟                               \n",
       "                                              ⎠                               \n",
       "                                                                              \n",
       "                                                                              \n",
       "                                                                              \n",
       "                                                                              \n",
       "                                                                              \n",
       "                                                                              \n",
       "                                                                              \n",
       "                                                                              \n",
       "                                                                              \n",
       "──────────────────────────────────────────────────────────────────────────────\n",
       "                                          ⎞                                   \n",
       "⋅(γ₁₃ + γ₂₃ + γ_2d + γ_3d + γₘᵤ⋅(n_b + 1))⎟                                   \n",
       "──────────────────────────────────────────⎟⋅(γ₁₃ + γ₂₃ + γ_2d + γ_3d + γₘᵤ⋅(n_\n",
       "                                          ⎟                                   \n",
       "                                          ⎠                                   \n",
       "                                                                              \n",
       "                                                                              \n",
       "──────────────────────────────────────────────────────────────────────────────\n",
       "                                         ⎞                                    \n",
       "(γ₁₃ + γ₂₃ + γ_2d + γ_3d + γₘᵤ⋅(n_b + 1))⎟                                    \n",
       "─────────────────────────────────────────⎟⋅(γ₁₃ + γ₂₃ + γ_2d + γ_3d + γₘᵤ⋅(n_b\n",
       "                                         ⎟                                    \n",
       "                                         ⎠                                    \n",
       "                                                                              \n",
       "                                                                              \n",
       "                                                                              \n",
       "                                                                              \n",
       "──────────────────────────────────────────────────────────────────────────────\n",
       "⎞                                          ⎞                                  \n",
       "⎠⋅(γ₁₃ + γ₂₃ + γ_2d + γ_3d + γₘᵤ⋅(n_b + 1))⎟                                  \n",
       "───────────────────────────────────────────⎟⋅(γ₁₃ + γ₂₃ + γ_2d + γ_3d + γₘᵤ⋅(n\n",
       "                                           ⎟                                  \n",
       "                                           ⎠                                  \n",
       "                                                                              \n",
       "                                                                              \n",
       "──────────────────────────────────────────────────────────────                \n",
       "                   ⎞                                                          \n",
       "3d + γₘᵤ⋅(n_b + 1))⎠⋅(γ₁₃ + γ₂₃ + γ_2d + γ_3d + γₘᵤ⋅(n_b + 1))                \n",
       "──────────────────────────────────────────────────────────────                \n",
       "                                                                              \n",
       "                                                                              \n",
       "\n",
       "             ⎤\n",
       "             ⎥\n",
       "─────────────⎥\n",
       "             ⎥\n",
       "            _⎥\n",
       "⋅(n_b + 1))⋅Ω⎥\n",
       "             ⎥\n",
       "             ⎥\n",
       "             ⎥\n",
       "             ⎥\n",
       "             ⎥\n",
       "             ⎥\n",
       "             ⎥\n",
       "             ⎥\n",
       "             ⎥\n",
       "             ⎥\n",
       "             ⎥\n",
       "─────────    ⎥\n",
       "             ⎥\n",
       "        _    ⎥\n",
       "b + 1))⋅Ω    ⎥\n",
       "             ⎥\n",
       "             ⎥\n",
       "             ⎥\n",
       "             ⎥\n",
       "────────     ⎥\n",
       "             ⎥\n",
       "       _     ⎥\n",
       " + 1))⋅Ω     ⎥\n",
       "             ⎥\n",
       "             ⎥\n",
       "             ⎥\n",
       "             ⎥\n",
       "             ⎥\n",
       "             ⎥\n",
       "────────     ⎥\n",
       "             ⎥\n",
       "             ⎥\n",
       "_b + 1))     ⎥\n",
       "             ⎥\n",
       "             ⎥\n",
       "             ⎥\n",
       "             ⎥\n",
       "             ⎥\n",
       "             ⎥\n",
       "             ⎥\n",
       "             ⎥\n",
       "             ⎥\n",
       "             ⎦"
      ]
     },
     "execution_count": 584,
     "metadata": {},
     "output_type": "execute_result"
    }
   ],
   "source": [
    "rho_0norm"
   ]
  },
  {
   "cell_type": "code",
   "execution_count": 561,
   "metadata": {},
   "outputs": [
    {
     "data": {
      "text/plain": [
       "(array([0, 4, 5, 7, 8]),)"
      ]
     },
     "execution_count": 561,
     "metadata": {},
     "output_type": "execute_result"
    }
   ],
   "source": [
    "np.nonzero([val1!=0 for val1 in rho_0norm])\n"
   ]
  },
  {
   "cell_type": "code",
   "execution_count": 667,
   "metadata": {},
   "outputs": [],
   "source": [
    "test_fun =  lambda x : [p['gamma13']/(p['gamma13']-1j*x), p['gamma13']/(p['gamma23']-1j*x) ]"
   ]
  },
  {
   "cell_type": "code",
   "execution_count": 670,
   "metadata": {},
   "outputs": [
    {
     "ename": "AttributeError",
     "evalue": "'list' object has no attribute 'real'",
     "output_type": "error",
     "traceback": [
      "\u001b[0;31m---------------------------------------------------------------------------\u001b[0m",
      "\u001b[0;31mAttributeError\u001b[0m                            Traceback (most recent call last)",
      "\u001b[0;32m<ipython-input-670-90f0454461ad>\u001b[0m in \u001b[0;36m<module>\u001b[0;34m()\u001b[0m\n\u001b[0;32m----> 1\u001b[0;31m \u001b[0mtest_fun\u001b[0m\u001b[0;34m(\u001b[0m\u001b[0;36m10.9\u001b[0m\u001b[0;34m)\u001b[0m\u001b[0;34m.\u001b[0m\u001b[0mreal\u001b[0m\u001b[0;34m[\u001b[0m\u001b[0;36m0\u001b[0m\u001b[0;34m]\u001b[0m\u001b[0;34m\u001b[0m\u001b[0m\n\u001b[0m",
      "\u001b[0;31mAttributeError\u001b[0m: 'list' object has no attribute 'real'"
     ]
    }
   ],
   "source": [
    "test_fun(10.9).real[0]"
   ]
  },
  {
   "cell_type": "code",
   "execution_count": 711,
   "metadata": {},
   "outputs": [],
   "source": [
    "def test_integrate(p):\n",
    "    muD=p['mean_delao']-p['mean_delam']\n",
    "    sdD=np.sqrt(p['sd_delam']**2+p['sd_delao']**2)\n",
    "    print(muD)\n",
    "    print(sdD)\n",
    "    rho_0norm_fun=lambda Delvals: np.array(test_fun(Delvals))\n",
    "    \n",
    "    gaussfun=lambda Delvals:1/np.sqrt(2*np.pi)/sdD*np.exp(-(Delvals-muD)**2/(2*sdD**2))#*rho_0norm_fun(Delvals)\n",
    "    func_to_int=lambda Delvals: rho_0norm_fun(Delvals)*gaussfun(Delvals)\n",
    "    #print(func_to_int(10.6))\n",
    "    #print(gaussfun(10.6))\n",
    "    rho0_int=np.zeros(2,dtype=np.complex_)\n",
    "    #rho0_int=scipy.integrate.quad(func_to_int,-np.inf,np.inf)\n",
    "    for ii in range(2):#[0, 4, 5, 7, 8]:\n",
    "        Rfun=lambda Delvals: np.real(func_to_int(Delvals)[ii])\n",
    "        Ifun=lambda Delvals: np.imag(func_to_int(Delvals)[ii])\n",
    "     #   print(Rfun(10.3))\n",
    "        rho0_int[ii]=scipy.integrate.quad(Rfun,-np.inf,np.inf,limit=100)[0]+1j*scipy.integrate.quad(Ifun,-np.inf,np.inf,limit=100)[0]\n",
    "        #rho0_int= Rfun(10.3)+1j*Ifun(10.3)\n",
    "    return rho0_int"
   ]
  },
  {
   "cell_type": "code",
   "execution_count": 713,
   "metadata": {},
   "outputs": [
    {
     "name": "stdout",
     "output_type": "stream",
     "text": [
      "5400000.0\n",
      "458441484.36017835\n"
     ]
    },
    {
     "data": {
      "image/png": "[encoded data removed]",
      "text/latex": [
       "$$458441484.36017835$$"
      ],
      "text/plain": [
       "458441484.36017835"
      ]
     },
     "execution_count": 713,
     "metadata": {},
     "output_type": "execute_result"
    }
   ],
   "source": [
    "test_integrate(p)\n",
    "5400000.0\n",
    "458441484.36017835"
   ]
  },
  {
   "cell_type": "code",
   "execution_count": 715,
   "metadata": {},
   "outputs": [
    {
     "data": {
      "image/png": "[encoded data removed]",
      "text/latex": [
       "$$\\left ( 5400000.0, \\quad 458441484.36017835\\right )$$"
      ],
      "text/plain": [
       "(5400000.0, 458441484.36017835)"
      ]
     },
     "execution_count": 715,
     "metadata": {},
     "output_type": "execute_result"
    }
   ],
   "source": [
    "p['mean_delao']-p['mean_delam'],np.sqrt(p['sd_delam']**2+p['sd_delao']**2)"
   ]
  },
  {
   "cell_type": "code",
   "execution_count": 708,
   "metadata": {},
   "outputs": [],
   "source": [
    "def test_integrate_bad(p):\n",
    "    rho_0norm_fun=lambda delovals,delmvals: np.array(test_fun(delovals-delmvals))\n",
    "    func_to_int=lambda delovals,delmvals:1/(2*np.pi)/p['sd_delao']/p['sd_delam']*np.exp(-(delovals-p['mean_delao'])**2/(2*p['sd_delao']**2))*np.exp(-(delmvals-p['mean_delam'])**2/(2*p['sd_delam']**2))*rho_0norm_fun(delovals,delmvals)\n",
    "    rho0_int=np.zeros(2,dtype=np.complex_)\n",
    "    #rho0_int=scipy.integrate.quad(func_to_int,-np.inf,np.inf)\n",
    "    for ii in range(2):#[0, 4, 5, 7, 8]:\n",
    "        Rfun=lambda delovals,delmvals: func_to_int(delovals,delmvals).real[ii]\n",
    "        Ifun=lambda delovals,delmvals: func_to_int(delovals,delmvals).imag[ii]\n",
    "        rho0_int[ii]=scipy.integrate.nquad(Rfun,[[-np.inf,np.inf],[-np.inf,np.inf]])[0]+1j*scipy.integrate.nquad(Ifun,[[-np.inf,np.inf],[-np.inf,np.inf]])[0]\n",
    "    return rho0_int\n"
   ]
  },
  {
   "cell_type": "code",
   "execution_count": 710,
   "metadata": {},
   "outputs": [
    {
     "data": {
      "text/plain": [
       "array([1.68155327e-11-3.87576513e-20j, 8.51216767e-12-3.84232595e-20j])"
      ]
     },
     "execution_count": 710,
     "metadata": {},
     "output_type": "execute_result"
    }
   ],
   "source": [
    "test_integrate_bad(p)"
   ]
  },
  {
   "cell_type": "code",
   "execution_count": 752,
   "metadata": {},
   "outputs": [
    {
     "ename": "ModuleNotFoundError",
     "evalue": "No module named 'quadpy'",
     "output_type": "error",
     "traceback": [
      "\u001b[0;31m---------------------------------------------------------------------------\u001b[0m",
      "\u001b[0;31mModuleNotFoundError\u001b[0m                       Traceback (most recent call last)",
      "\u001b[0;32m<ipython-input-752-7e05a480989b>\u001b[0m in \u001b[0;36m<module>\u001b[0;34m()\u001b[0m\n\u001b[0;32m----> 1\u001b[0;31m \u001b[0;32mimport\u001b[0m \u001b[0mquadpy\u001b[0m\u001b[0;34m\u001b[0m\u001b[0m\n\u001b[0m",
      "\u001b[0;31mModuleNotFoundError\u001b[0m: No module named 'quadpy'"
     ]
    }
   ],
   "source": [
    "import quadpy"
   ]
  },
  {
   "cell_type": "code",
   "execution_count": 1076,
   "metadata": {},
   "outputs": [
    {
     "name": "stderr",
     "output_type": "stream",
     "text": [
      "/home/peter/anaconda3/lib/python3.6/site-packages/scipy/integrate/quadpack.py:385: IntegrationWarning: The integral is probably divergent, or slowly convergent.\n",
      "  warnings.warn(msg, IntegrationWarning)\n"
     ]
    },
    {
     "data": {
      "image/png": "[encoded data removed]",
      "text/latex": [
       "$$\\left ( \\left ( 0.0, \\quad 0.0\\right ), \\quad \\left ( 0.0, \\quad 0.0\\right ), \\quad 2.1040580042005675e-17, \\quad \\left ( 4.1016777451258436e-11, \\quad 7.602641992046508e-11\\right )\\right )$$"
      ],
      "text/plain": [
       "((0.0, 0.0), (0.0, 0.0), 2.1040580042005675e-17, (4.1016777451258436e-11, 7.60\n",
       "2641992046508e-11))"
      ]
     },
     "execution_count": 1076,
     "metadata": {},
     "output_type": "execute_result"
    }
   ],
   "source": [
    "muD=p['mean_delao']-p['mean_delam']\n",
    "sdD=np.sqrt(p['sd_delam']**2+p['sd_delao']**2)\n",
    "sdX=2*p['sd_delam']*p['sd_delao']/np.sqrt(p['sd_delam']**2+p['sd_delao']**2)\n",
    "muX=lambda Del : 1/np.sqrt(p['sd_delam']**2+p['sd_delao']**2)*(p['sd_delao']**2*(Del+2*p['sd_delam'])-p['sd_delam']**2*(Del-2*p['sd_delao']))\n",
    "gauss_fun=lambda del1, del2, m1,m2,sd1,sd2: 1.0/(2*pi*sd1*sd2)*np.exp(-(del1-m1)**2/(2*sd1**2)\n",
    "                                                                  -(del2-m2)**2/(2*sd2**2))\n",
    "\n",
    "gauss_fun1d=lambda del1, m1,sd1: 1/np.sqrt(2*np.pi)*1/sd1*np.exp(-(del1-m1)**2/(2*sd1**2))\n",
    "\n",
    "G_om=lambda del1, del2:gauss_fun(del1,del2,p['mean_delao'],p['mean_delam'],p['sd_delao'],p['sd_delam'])\n",
    "G_DX=lambda chi,Del : gauss_fun(Del,chi,muD,muX(Del),sdD,sdX)\n",
    "G_D=lambda Del: scipy.integrate.quad(G_DX,-np.inf,np.inf, args=(Del))[0]\n",
    "G_D2=lambda Del:1/np.sqrt(2*np.pi)*1/sdD*np.exp(-(Del-muD)**2/(2*sdD**2))\n",
    "G_X=lambda chi,Del:1/np.sqrt(2*np.pi)*1/sdX*np.exp(-(chi-muX(Del))**2/(2*sdX**2))\n",
    "G_X2=lambda chi,Del:gauss_fun1d(chi,muX(Del), sdX)\n",
    "G_o=lambda del1: gauss_fun1d(del1,p['mean_delao'],p['sd_delao'])\n",
    "G_m=lambda del1: gauss_fun1d(del1,p['mean_delam'],p['sd_delam'])\n",
    "\n",
    "#scipy.integrate.nquad(G_om,[[-np.inf,np.inf],[-np.inf,np.inf]]),scipy.integrate.nquad(G_DX,[[-np.inf,np.inf],[-np.inf,np.inf]]),scipy.integrate.quad(G_D,-np.inf,np.inf), scipy.integrate.quad(G_D2,-np.inf,np.inf)#scipy.integrate.quad(G_X,-np.inf,np.inf, args=(10000))\n",
    "scipy.integrate.quad(G_X,-np.inf,np.inf, args=(10000)), scipy.integrate.quad(G_X2,-np.inf,np.inf, args=(10000)),scipy.integrate.quad(G_o,-np.inf,np.inf)[0]*scipy.integrate.quad(G_m,-np.inf,np.inf)[0] ,scipy.integrate.nquad(G_om,[[-np.inf,np.inf],[-np.inf,np.inf]])\n",
    "\n",
    "\n",
    "\n"
   ]
  },
  {
   "cell_type": "code",
   "execution_count": 1015,
   "metadata": {},
   "outputs": [],
   "source": [
    "def rho0_GHint(p,deg=90):\n",
    "    GHx,GHweights=np.polynomial.hermite.hermgauss(deg)\n",
    "    rho0_GHfun=lambda x:(rho_0norm_lam(np.sqrt(2)*x*np.sqrt(p['sd_delam']**2+p['sd_delao']**2)\n",
    " +(p['mean_delao']-p['mean_delam']),p['gamma13'],p['gamma23'],p['gamma2d'],p['gamma3d'],p['nbath'],p['gammamu'],p['Omega']))/np.sqrt(np.pi)\n",
    "    rho0_x=np.zeros((deg,9),dtype=np.complex_)\n",
    "    for ii in [0, 4, 5, 7, 8]:\n",
    "\n",
    "        rho0_x[:,ii]=rho0_GHfun(GHx)[ii]\n",
    "    #print(rho0_x[])\n",
    "    #print(GHx.shape)\n",
    "    return np.matmul(GHweights[None,:],rho0_x)\n",
    "    "
   ]
  },
  {
   "cell_type": "code",
   "execution_count": 1014,
   "metadata": {},
   "outputs": [
    {
     "data": {
      "text/plain": [
       "(array([[4.78308054e-01-7.40345484e-20j, 0.00000000e+00+0.00000000e+00j,\n",
       "         0.00000000e+00+0.00000000e+00j, 0.00000000e+00+0.00000000e+00j,\n",
       "         4.53463965e-01+7.61991875e-20j, 4.26203946e-06+6.30223386e-06j,\n",
       "         0.00000000e+00+0.00000000e+00j, 4.26203946e-06-6.30223386e-06j,\n",
       "         6.82279808e-02-2.16463916e-21j]]),\n",
       " array([[4.78262688e-01+2.10896004e-20j, 0.00000000e+00+0.00000000e+00j,\n",
       "         0.00000000e+00+0.00000000e+00j, 0.00000000e+00+0.00000000e+00j,\n",
       "         4.53417992e-01-1.94312121e-20j, 4.55041045e-06+6.31067083e-06j,\n",
       "         0.00000000e+00+0.00000000e+00j, 4.55041045e-06-6.31067083e-06j,\n",
       "         6.83193195e-02-1.65838827e-21j]]))"
      ]
     },
     "execution_count": 1014,
     "metadata": {},
     "output_type": "execute_result"
    }
   ],
   "source": [
    "n=185\n",
    "rho0_GHint(p,300), rho0_GHint(p,185*2)"
   ]
  },
  {
   "cell_type": "code",
   "execution_count": 1016,
   "metadata": {},
   "outputs": [
    {
     "data": {
      "text/plain": [
       "array([ 1.43990456e-11+6.89860466e-44j,  0.00000000e+00+0.00000000e+00j,\n",
       "        0.00000000e+00+0.00000000e+00j,  0.00000000e+00+0.00000000e+00j,\n",
       "        1.33101156e-11-7.14581008e-44j, -2.55577841e-26+1.22922750e-15j,\n",
       "        0.00000000e+00+0.00000000e+00j, -2.55577841e-26-1.22922750e-15j,\n",
       "        1.33076163e-11+2.47205379e-45j])"
      ]
     },
     "execution_count": 1016,
     "metadata": {},
     "output_type": "execute_result"
    }
   ],
   "source": [
    "rho0_integrate_2d(0,0,p)"
   ]
  },
  {
   "cell_type": "code",
   "execution_count": 649,
   "metadata": {},
   "outputs": [
    {
     "data": {
      "text/plain": [
       "array([ 0.35105258+0.0000000e+00j,  0.        +0.0000000e+00j,\n",
       "        0.        +0.0000000e+00j,  0.        +0.0000000e+00j,\n",
       "        0.32450418+0.0000000e+00j, -0.        +2.9968895e-05j,\n",
       "        0.        +0.0000000e+00j, -0.        -2.9968895e-05j,\n",
       "        0.32444324+0.0000000e+00j])"
      ]
     },
     "execution_count": 649,
     "metadata": {},
     "output_type": "execute_result"
    }
   ],
   "source": [
    " rho_0norm_lam(0,p['gamma13'],p['gamma23'],p['gamma2d'],p['gamma3d'],p['nbath'],p['gammamu'],p['Omega'])"
   ]
  },
  {
   "cell_type": "code",
   "execution_count": 842,
   "metadata": {},
   "outputs": [],
   "source": [
    "def rho0_integrate(p):\n",
    "    muD=p['mean_delao']-p['mean_delam']\n",
    "    sdD=np.sqrt(p['sd_delam']**2+p['sd_delao']**2)\n",
    "    rho_0norm_fun=lambda Delvals: rho_0norm_lam(Delvals,p['gamma13'],p['gamma23'],p['gamma2d'],p['gamma3d'],p['nbath'],p['gammamu'],p['Omega'])\n",
    "    func_to_int=lambda Delvals:1/np.sqrt(2*np.pi)/sdD*np.exp(-(Delvals-muD)**2/(2*sdD**2))*rho_0norm_fun(Delvals)\n",
    "    rho0_int=np.zeros(9,dtype=np.complex_)\n",
    "    print('     ' + str(func_to_int(10.9).shape))\n",
    "    #rho0_int=scipy.integrate.quad(func_to_int,-np.inf,np.inf)\n",
    "    for ii in range(9):#[0, 4, 5, 7, 8]:\n",
    "        Rfun=lambda Delvals: func_to_int(Delvals)[ii].real\n",
    "        Ifun=lambda Delvals: func_to_int(Delvals)[ii].imag\n",
    "        rho0_int[ii]=scipy.integrate.quad(Rfun,-np.inf,np.inf,limit=10000)[0]+1j*scipy.integrate.quad(Ifun,-np.inf,np.inf,limit=10000)[0]\n",
    "    return rho0_int"
   ]
  },
  {
   "cell_type": "code",
   "execution_count": 843,
   "metadata": {},
   "outputs": [
    {
     "name": "stdout",
     "output_type": "stream",
     "text": [
      "     (9,)\n"
     ]
    },
    {
     "name": "stderr",
     "output_type": "stream",
     "text": [
      "/home/peter/anaconda3/lib/python3.6/site-packages/scipy/integrate/quadpack.py:385: IntegrationWarning: The integral is probably divergent, or slowly convergent.\n",
      "  warnings.warn(msg, IntegrationWarning)\n"
     ]
    },
    {
     "data": {
      "text/plain": [
       "array([-6.10939482e-10+1.54540560e-40j,  0.00000000e+00+0.00000000e+00j,\n",
       "        0.00000000e+00+0.00000000e+00j,  0.00000000e+00+0.00000000e+00j,\n",
       "       -5.64737094e-10+1.48814738e-40j,  3.68045792e-22+7.28196634e-11j,\n",
       "        0.00000000e+00+0.00000000e+00j,  3.68045792e-22-7.28196634e-11j,\n",
       "       -5.64631049e-10-3.03355297e-40j])"
      ]
     },
     "execution_count": 843,
     "metadata": {},
     "output_type": "execute_result"
    }
   ],
   "source": [
    "rho0_integrate(p)"
   ]
  },
  {
   "cell_type": "code",
   "execution_count": 863,
   "metadata": {},
   "outputs": [],
   "source": [
    "def rho0_integrate_2d(delo,delm,p):\n",
    "    rho_0norm_fun=lambda delovals,delmvals: rho_0norm_lam(delovals-delmvals,p['gamma13'],p['gamma23'],p['gamma2d'],p['gamma3d'],p['nbath'],p['gammamu'],p['Omega'])\n",
    "    func_to_int=lambda delovals,delmvals:1/(2*np.pi)/p['sd_delao']/p['sd_delam']*np.exp(-(delovals-delo-p['mean_delao'])**2/(2*p['sd_delao']**2))*np.exp(-(delmvals-delm-p['mean_delam'])**2/(2*p['sd_delam']**2))*rho_0norm_fun(delovals,delmvals)\n",
    "    rho0_int=np.zeros(9,dtype=np.complex_)\n",
    "    #rho0_int=scipy.integrate.quad(func_to_int,-np.inf,np.inf)\n",
    "    for ii in [0, 4, 5, 7, 8]:\n",
    "        Rfun=lambda delovals,delmvals: func_to_int(delovals,delmvals)[ii].real\n",
    "        Ifun=lambda delovals,delmvals: func_to_int(delovals,delmvals)[ii].imag\n",
    "        rho0_int[ii]=scipy.integrate.nquad(Rfun,[[-np.inf,np.inf],[-np.inf,np.inf]])[0]+1j*scipy.integrate.nquad(Ifun,[[-np.inf,np.inf],[-np.inf,np.inf]])[0]\n",
    "    return rho0_int\n"
   ]
  },
  {
   "cell_type": "code",
   "execution_count": 845,
   "metadata": {},
   "outputs": [
    {
     "data": {
      "text/plain": [
       "array([ 1.43990456e-11+6.89860466e-44j,  0.00000000e+00+0.00000000e+00j,\n",
       "        0.00000000e+00+0.00000000e+00j,  0.00000000e+00+0.00000000e+00j,\n",
       "        1.33101156e-11-7.14581008e-44j, -2.55577841e-26+1.22922750e-15j,\n",
       "        0.00000000e+00+0.00000000e+00j, -2.55577841e-26-1.22922750e-15j,\n",
       "        1.33076163e-11+2.47205379e-45j])"
      ]
     },
     "execution_count": 845,
     "metadata": {},
     "output_type": "execute_result"
    }
   ],
   "source": [
    "rho0_integrate_bad(p)"
   ]
  },
  {
   "cell_type": "code",
   "execution_count": 861,
   "metadata": {},
   "outputs": [],
   "source": [
    "def rho0_integrate_bad2(p):\n",
    "    \n",
    "    \n",
    "    muD=p['mean_delao']-p['mean_delam']\n",
    "    sdD=np.sqrt(p['sd_delam']**2+p['sd_delao']**2)\n",
    "    sdX=2*p['sd_delao']*p['sd_delam']/np.sqrt(p['sd_delam']**2+p['sd_delao']**2)\n",
    "    muX=lambda Delv: 1/(p['sd_delam']**2+p['sd_delao']**2)*(p['sd_delao']**2*(Delv+2*p['mean_delam'])-p['sd_delam']**2*(Delv-2*p['mean_delao']))\n",
    "    rho_0norm_fun=lambda Delvals: rho_0norm_lam(Delvals,p['gamma13'],p['gamma23'],p['gamma2d'],p['gamma3d'],p['nbath'],p['gammamu'],p['Omega'])\n",
    "    func_to_int=lambda Delvals, chivals:1/(2*np.pi*sdD*sdX)*np.exp(-(Delvals-muD)**2/(2*sdD**2))*np.exp(-(chivals-muX(Delvals))**2/(2*sdX**2))*rho_0norm_fun(Delvals)\n",
    "    rho0_int=np.zeros(9,dtype=np.complex_)\n",
    "    #rho0_int=scipy.integrate.quad(func_to_int,-np.inf,np.inf)\n",
    "    for ii in [0, 4, 5, 7, 8]:\n",
    "        Rfun=lambda delovals,delmvals: func_to_int(delovals,delmvals).real[ii]\n",
    "        Ifun=lambda delovals,delmvals: func_to_int(delovals,delmvals).imag[ii]\n",
    "        rho0_int[ii]=scipy.integrate.nquad(Rfun,[[-np.inf,np.inf],[-np.inf,np.inf]])[0]+1j*scipy.integrate.nquad(Ifun,[[-np.inf,np.inf],[-np.inf,np.inf]])[0]\n",
    "    return rho0_int"
   ]
  },
  {
   "cell_type": "code",
   "execution_count": 871,
   "metadata": {},
   "outputs": [
    {
     "data": {
      "image/png": "[encoded data removed]",
      "text/latex": [
       "$$\\left ( 9\\right )$$"
      ],
      "text/plain": [
       "(9,)"
      ]
     },
     "execution_count": 871,
     "metadata": {},
     "output_type": "execute_result"
    }
   ],
   "source": [
    "rho0_integrate_2d(0,0,p)[:].shape"
   ]
  },
  {
   "cell_type": "code",
   "execution_count": 1046,
   "metadata": {},
   "outputs": [],
   "source": [
    "def find_rhoint(deloval,delmval,p):\n",
    "    rho0=rho0_integrate_2d(deloval,delmval,p)[:,None]\n",
    "    L0_mat=L0_fun(deloval,delmval,p['gamma13'],p['gamma23'],p['gamma2d'],p['gamma3d'], p['nbath'],p['gammamu'],p['Omega'],p['go'],p['gm'])\n",
    "    La_mat=La_fun(p['go'],p['gm'])\n",
    "    Lb_mat=La_fun(p['go'],p['gm'])\n",
    "    rhoa=-np.matrix(np.linalg.inv(L0_mat))*np.matrix(La_mat)*np.matrix(rho0)\n",
    "    rhob=-np.matrix(np.linalg.inv(L0_mat))*np.matrix(Lb_mat)*np.matrix(rho0)\n",
    "    #rhoa=-np.matmul(np.matmul(np.linalg.inv(L0_mat),La_mat),rho0)\n",
    "    #rhob=-np.matmul(np.matmul(np.linalg.inv(L0_mat),Lb_mat),rho0)\n",
    "    return rho0, np.array(rhoa), np.array(rhob)"
   ]
  },
  {
   "cell_type": "code",
   "execution_count": 1043,
   "metadata": {},
   "outputs": [
    {
     "data": {
      "text/plain": [
       "(array([[ 1.43990454e-11+6.90006843e-44j],\n",
       "        [ 0.00000000e+00+0.00000000e+00j],\n",
       "        [ 0.00000000e+00+0.00000000e+00j],\n",
       "        [ 0.00000000e+00+0.00000000e+00j],\n",
       "        [ 1.33101154e-11-7.14732630e-44j],\n",
       "        [-2.55632070e-26+1.22922748e-15j],\n",
       "        [ 0.00000000e+00+0.00000000e+00j],\n",
       "        [-2.55632070e-26-1.22922748e-15j],\n",
       "        [ 1.33076161e-11+2.47257840e-45j]]),\n",
       " array([[-0.00000000e+00-0.00000000e+00j],\n",
       "        [ 5.66166465e-17-6.32332222e-21j],\n",
       "        [ 5.06782555e-21-5.75092860e-17j],\n",
       "        [ 5.66166465e-17+6.32332222e-21j],\n",
       "        [-0.00000000e+00-0.00000000e+00j],\n",
       "        [-0.00000000e+00-0.00000000e+00j],\n",
       "        [ 5.06782555e-21+5.75092860e-17j],\n",
       "        [-0.00000000e+00-0.00000000e+00j],\n",
       "        [-0.00000000e+00-0.00000000e+00j]]),\n",
       " array([[-0.00000000e+00-0.00000000e+00j],\n",
       "        [ 5.66166465e-17-6.32332222e-21j],\n",
       "        [ 5.06782555e-21-5.75092860e-17j],\n",
       "        [ 5.66166465e-17+6.32332222e-21j],\n",
       "        [-0.00000000e+00-0.00000000e+00j],\n",
       "        [-0.00000000e+00-0.00000000e+00j],\n",
       "        [ 5.06782555e-21+5.75092860e-17j],\n",
       "        [-0.00000000e+00-0.00000000e+00j],\n",
       "        [-0.00000000e+00-0.00000000e+00j]]))"
      ]
     },
     "execution_count": 1043,
     "metadata": {},
     "output_type": "execute_result"
    }
   ],
   "source": [
    "find_rhoint(10,100,p)"
   ]
  },
  {
   "cell_type": "code",
   "execution_count": 1047,
   "metadata": {},
   "outputs": [
    {
     "data": {
      "text/plain": [
       "(array([[ 1.43990454e-11+6.90006843e-44j],\n",
       "        [ 0.00000000e+00+0.00000000e+00j],\n",
       "        [ 0.00000000e+00+0.00000000e+00j],\n",
       "        [ 0.00000000e+00+0.00000000e+00j],\n",
       "        [ 1.33101154e-11-7.14732630e-44j],\n",
       "        [-2.55632070e-26+1.22922748e-15j],\n",
       "        [ 0.00000000e+00+0.00000000e+00j],\n",
       "        [-2.55632070e-26-1.22922748e-15j],\n",
       "        [ 1.33076161e-11+2.47257840e-45j]]),\n",
       " array([[0.00000000e+00+0.00000000e+00j],\n",
       "        [5.66166465e-17-6.32332222e-21j],\n",
       "        [5.06782555e-21-5.75092860e-17j],\n",
       "        [5.66166465e-17+6.32332222e-21j],\n",
       "        [0.00000000e+00+0.00000000e+00j],\n",
       "        [0.00000000e+00+0.00000000e+00j],\n",
       "        [5.06782555e-21+5.75092860e-17j],\n",
       "        [0.00000000e+00+0.00000000e+00j],\n",
       "        [0.00000000e+00+0.00000000e+00j]]),\n",
       " array([[0.00000000e+00+0.00000000e+00j],\n",
       "        [5.66166465e-17-6.32332222e-21j],\n",
       "        [5.06782555e-21-5.75092860e-17j],\n",
       "        [5.66166465e-17+6.32332222e-21j],\n",
       "        [0.00000000e+00+0.00000000e+00j],\n",
       "        [0.00000000e+00+0.00000000e+00j],\n",
       "        [5.06782555e-21+5.75092860e-17j],\n",
       "        [0.00000000e+00+0.00000000e+00j],\n",
       "        [0.00000000e+00+0.00000000e+00j]]))"
      ]
     },
     "execution_count": 1047,
     "metadata": {},
     "output_type": "execute_result"
    }
   ],
   "source": [
    "find_rhoint(10,100,p)"
   ]
  },
  {
   "cell_type": "code",
   "execution_count": 927,
   "metadata": {
    "collapsed": true
   },
   "outputs": [
    {
     "data": {
      "text/latex": [
       "$$\\left[\\begin{matrix}- \\gamma_{\\mu} n_{b} & 0 & 0 & 0 & \\gamma_{\\mu} \\left(n_{b} + 1\\right) & 0 & 0 & 0 & \\gamma_{13}\\\\0 & - \\frac{\\gamma_{2d}}{2} - \\frac{\\gamma_{\\mu} n_{b}}{2} - \\frac{\\gamma_{\\mu}}{2} \\left(n_{b} + 1\\right) & - i \\overline{\\Omega} & 0 & 0 & 0 & 0 & 0 & 0\\\\0 & - i \\Omega & - \\frac{\\gamma_{13}}{2} - \\frac{\\gamma_{23}}{2} - \\frac{\\gamma_{3d}}{2} - \\frac{\\gamma_{\\mu} n_{b}}{2} & 0 & 0 & 0 & 0 & 0 & 0\\\\0 & 0 & 0 & - \\frac{\\gamma_{2d}}{2} - \\frac{\\gamma_{\\mu} n_{b}}{2} - \\frac{\\gamma_{\\mu}}{2} \\left(n_{b} + 1\\right) & 0 & 0 & i \\Omega & 0 & 0\\\\\\gamma_{\\mu} n_{b} & 0 & 0 & 0 & - \\gamma_{\\mu} \\left(n_{b} + 1\\right) & - i \\overline{\\Omega} & 0 & i \\Omega & \\gamma_{23}\\\\0 & 0 & 0 & 0 & - i \\Omega & - \\frac{\\gamma_{13}}{2} - \\frac{\\gamma_{23}}{2} - \\frac{\\gamma_{2d}}{2} - \\frac{\\gamma_{3d}}{2} - \\frac{\\gamma_{\\mu}}{2} \\left(n_{b} + 1\\right) & 0 & 0 & i \\Omega\\\\0 & 0 & 0 & i \\overline{\\Omega} & 0 & 0 & - \\frac{\\gamma_{13}}{2} - \\frac{\\gamma_{23}}{2} - \\frac{\\gamma_{3d}}{2} - \\frac{\\gamma_{\\mu} n_{b}}{2} & 0 & 0\\\\0 & 0 & 0 & 0 & i \\overline{\\Omega} & 0 & 0 & - \\frac{\\gamma_{13}}{2} - \\frac{\\gamma_{23}}{2} - \\frac{\\gamma_{2d}}{2} - \\frac{\\gamma_{3d}}{2} - \\frac{\\gamma_{\\mu}}{2} \\left(n_{b} + 1\\right) & - i \\overline{\\Omega}\\\\0 & 0 & 0 & 0 & 0 & i \\overline{\\Omega} & 0 & - i \\Omega & - \\gamma_{13} - \\gamma_{23}\\end{matrix}\\right]$$"
      ],
      "text/plain": [
       "⎡-γₘᵤ⋅n_b                 0                               0                   \n",
       "⎢                                                                             \n",
       "⎢            γ_2d   γₘᵤ⋅n_b   γₘᵤ⋅(n_b + 1)                 _                 \n",
       "⎢   0      - ──── - ─────── - ─────────────              -ⅈ⋅Ω                 \n",
       "⎢             2        2            2                                         \n",
       "⎢                                                                             \n",
       "⎢                                              γ₁₃   γ₂₃   γ_3d   γₘᵤ⋅n_b     \n",
       "⎢   0                    -ⅈ⋅Ω                - ─── - ─── - ──── - ───────     \n",
       "⎢                                               2     2     2        2        \n",
       "⎢                                                                             \n",
       "⎢                                                                            γ\n",
       "⎢   0                     0                               0                - ─\n",
       "⎢                                                                             \n",
       "⎢                                                                             \n",
       "⎢                                                                             \n",
       "⎢γₘᵤ⋅n_b                  0                               0                   \n",
       "⎢                                                                             \n",
       "⎢                                                                             \n",
       "⎢   0                     0                               0                   \n",
       "⎢                                                                             \n",
       "⎢                                                                             \n",
       "⎢                                                                             \n",
       "⎢   0                     0                               0                   \n",
       "⎢                                                                             \n",
       "⎢                                                                             \n",
       "⎢                                                                             \n",
       "⎢   0                     0                               0                   \n",
       "⎢                                                                             \n",
       "⎢                                                                             \n",
       "⎢                                                                             \n",
       "⎣   0                     0                               0                   \n",
       "\n",
       "            0                  γₘᵤ⋅(n_b + 1)                       0          \n",
       "                                                                              \n",
       "                                                                              \n",
       "            0                        0                             0          \n",
       "                                                                              \n",
       "                                                                              \n",
       "                                                                              \n",
       "            0                        0                             0          \n",
       "                                                                              \n",
       "                                                                              \n",
       "_2d   γₘᵤ⋅n_b   γₘᵤ⋅(n_b + 1)                                                 \n",
       "─── - ─────── - ─────────────        0                             0          \n",
       "2        2            2                                                       \n",
       "                                                                              \n",
       "                                                                    _         \n",
       "            0                  -γₘᵤ⋅(n_b + 1)                    -ⅈ⋅Ω         \n",
       "                                                                              \n",
       "                                                 γ₁₃   γ₂₃   γ_2d   γ_3d   γₘᵤ\n",
       "            0                       -ⅈ⋅Ω       - ─── - ─── - ──── - ──── - ───\n",
       "                                                  2     2     2      2        \n",
       "                                                                              \n",
       "             _                                                                \n",
       "           ⅈ⋅Ω                       0                             0          \n",
       "                                                                              \n",
       "                                                                              \n",
       "                                      _                                       \n",
       "            0                       ⅈ⋅Ω                            0          \n",
       "                                                                              \n",
       "                                                                              \n",
       "                                                                    _         \n",
       "            0                        0                            ⅈ⋅Ω         \n",
       "\n",
       "                         0                                    0               \n",
       "                                                                              \n",
       "                                                                              \n",
       "                         0                                    0               \n",
       "                                                                              \n",
       "                                                                              \n",
       "                                                                              \n",
       "                         0                                    0               \n",
       "                                                                              \n",
       "                                                                              \n",
       "                                                                              \n",
       "                        ⅈ⋅Ω                                   0               \n",
       "                                                                              \n",
       "                                                                              \n",
       "                                                                              \n",
       "                         0                                   ⅈ⋅Ω              \n",
       "                                                                              \n",
       "⋅(n_b + 1)                                                                    \n",
       "──────────               0                                    0               \n",
       "   2                                                                          \n",
       "                                                                              \n",
       "              γ₁₃   γ₂₃   γ_3d   γₘᵤ⋅n_b                                      \n",
       "            - ─── - ─── - ──── - ───────                      0               \n",
       "               2     2     2        2                                         \n",
       "                                                                              \n",
       "                                            γ₁₃   γ₂₃   γ_2d   γ_3d   γₘᵤ⋅(n_b\n",
       "                         0                - ─── - ─── - ──── - ──── - ────────\n",
       "                                             2     2     2      2           2 \n",
       "                                                                              \n",
       "                                                                              \n",
       "                         0                                  -ⅈ⋅Ω              \n",
       "\n",
       "          γ₁₃    ⎤\n",
       "                 ⎥\n",
       "                 ⎥\n",
       "           0     ⎥\n",
       "                 ⎥\n",
       "                 ⎥\n",
       "                 ⎥\n",
       "           0     ⎥\n",
       "                 ⎥\n",
       "                 ⎥\n",
       "                 ⎥\n",
       "           0     ⎥\n",
       "                 ⎥\n",
       "                 ⎥\n",
       "                 ⎥\n",
       "          γ₂₃    ⎥\n",
       "                 ⎥\n",
       "                 ⎥\n",
       "          ⅈ⋅Ω    ⎥\n",
       "                 ⎥\n",
       "                 ⎥\n",
       "                 ⎥\n",
       "           0     ⎥\n",
       "                 ⎥\n",
       "                 ⎥\n",
       " + 1)        _   ⎥\n",
       "─────     -ⅈ⋅Ω   ⎥\n",
       "                 ⎥\n",
       "                 ⎥\n",
       "                 ⎥\n",
       "       -γ₁₃ - γ₂₃⎦"
      ]
     },
     "execution_count": 927,
     "metadata": {},
     "output_type": "execute_result"
    }
   ],
   "source": [
    "L0.subs({delo:0,delm:0})"
   ]
  },
  {
   "cell_type": "code",
   "execution_count": null,
   "metadata": {},
   "outputs": [],
   "source": []
  },
  {
   "cell_type": "code",
   "execution_count": 982,
   "metadata": {},
   "outputs": [
    {
     "data": {
      "text/plain": [
       "array([array([0.50868596+0.00000000e+00j, 0.50854455-4.82185671e-21j,\n",
       "       0.50839448+1.33553116e-19j, 0.50823505+0.00000000e+00j,\n",
       "       0.50806546+0.00000000e+00j, 0.50788484+1.51618600e-19j,\n",
       "       0.50769223+1.51978788e-19j, 0.50748655-1.58856429e-19j,\n",
       "       0.5072666 +0.00000000e+00j, 0.50703105+1.81966681e-19j,\n",
       "       0.50677841-1.90966906e-19j, 0.506507  -2.00645866e-19j,\n",
       "       0.50621494+2.11072908e-19j, 0.50590012-2.22326366e-19j,\n",
       "       0.50556014+0.00000000e+00j, 0.50519229+2.47679620e-19j,\n",
       "       0.5047935 +2.61995206e-19j, 0.50436026+0.00000000e+00j,\n",
       "       0.50388857+1.39128562e-19j, 0.50337383+1.65543392e-19j,\n",
       "       0.50281076-9.90930925e-21j, 0.50219327-1.77947353e-19j,\n",
       "       0.50151429+1.90286515e-19j, 0.50076562+1.36812428e-20j,\n",
       "       0.49993769+4.22758738e-19j, 0.49901926+0.00000000e+00j,\n",
       "       0.49799716+2.54731480e-19j, 0.49685579+0.00000000e+00j,\n",
       "       0.49557669+2.73754916e-19j, 0.49413788+0.00000000e+00j,\n",
       "       0.49251308-3.56981250e-19j, 0.49067078+3.91812952e-19j,\n",
       "       0.48857308+0.00000000e+00j, 0.48617423+4.77846430e-19j,\n",
       "       0.48341896+2.31199844e-19j, 0.48024045-4.17460671e-20j,\n",
       "       0.47655807+3.33342385e-19j, 0.47227504+6.89801665e-19j,\n",
       "       0.46727638+4.27612004e-19j, 0.46142804+3.89329439e-19j,\n",
       "       0.45457881-5.61562078e-19j, 0.44656798+0.00000000e+00j,\n",
       "       0.43724391+2.72335018e-19j, 0.42650118+4.39109654e-19j,\n",
       "       0.41434651+5.12018549e-19j, 0.4010014 -5.95108827e-19j,\n",
       "       0.38703503+2.01273777e-19j, 0.37348409+3.88242819e-19j,\n",
       "       0.36185776+1.13017549e-19j, 0.35389692+5.81920743e-20j,\n",
       "       0.35105258+0.00000000e+00j, 0.35389692-5.81920743e-20j,\n",
       "       0.36185776-1.13017549e-19j, 0.37348409-3.88242819e-19j,\n",
       "       0.38703503-2.01273777e-19j, 0.4010014 +5.95108827e-19j,\n",
       "       0.41434651-5.12018549e-19j, 0.42650118-4.39109654e-19j,\n",
       "       0.43724391-2.72335018e-19j, 0.44656798+0.00000000e+00j,\n",
       "       0.45457881+5.61562078e-19j, 0.46142804-3.89329439e-19j,\n",
       "       0.46727638-4.27612004e-19j, 0.47227504-6.89801665e-19j,\n",
       "       0.47655807-3.33342385e-19j, 0.48024045+4.17460671e-20j,\n",
       "       0.48341896-2.31199844e-19j, 0.48617423-4.77846430e-19j,\n",
       "       0.48857308+0.00000000e+00j, 0.49067078-3.91812952e-19j,\n",
       "       0.49251308+3.56981250e-19j, 0.49413788+0.00000000e+00j,\n",
       "       0.49557669-2.73754916e-19j, 0.49685579+0.00000000e+00j,\n",
       "       0.49799716-2.54731480e-19j, 0.49901926+0.00000000e+00j,\n",
       "       0.49993769-4.22758738e-19j, 0.50076562-1.36812428e-20j,\n",
       "       0.50151429-1.90286515e-19j, 0.50219327+1.77947353e-19j,\n",
       "       0.50281076+9.90930925e-21j, 0.50337383-1.65543392e-19j,\n",
       "       0.50388857-1.39128562e-19j, 0.50436026+0.00000000e+00j,\n",
       "       0.5047935 -2.61995206e-19j, 0.50519229-2.47679620e-19j,\n",
       "       0.50556014+0.00000000e+00j, 0.50590012+2.22326366e-19j,\n",
       "       0.50621494-2.11072908e-19j, 0.506507  +2.00645866e-19j,\n",
       "       0.50677841+1.90966906e-19j, 0.50703105-1.81966681e-19j,\n",
       "       0.5072666 +0.00000000e+00j, 0.50748655+1.58856429e-19j,\n",
       "       0.50769223-1.51978788e-19j, 0.50788484-1.51618600e-19j,\n",
       "       0.50806546+0.00000000e+00j, 0.50823505+0.00000000e+00j,\n",
       "       0.50839448-1.33553116e-19j, 0.50854455+4.82185671e-21j,\n",
       "       0.50868596+0.00000000e+00j]),\n",
       "       0, 0, 0,\n",
       "       array([0.48424872+0.00000000e+00j, 0.48410541+1.12014884e-21j,\n",
       "       0.48395333-1.31474268e-19j, 0.48379177+0.00000000e+00j,\n",
       "       0.48361991+0.00000000e+00j, 0.48343687-1.48944857e-19j,\n",
       "       0.48324168-1.54692741e-19j, 0.48303324+1.61823979e-19j,\n",
       "       0.48281035+0.00000000e+00j, 0.48257165-1.78128788e-19j,\n",
       "       0.48231562+1.86744302e-19j, 0.48204058+1.95989505e-19j,\n",
       "       0.48174461-2.05926107e-19j, 0.48142557+2.16623401e-19j,\n",
       "       0.48108103+0.00000000e+00j, 0.48070826-2.40622039e-19j,\n",
       "       0.48030413-2.54110922e-19j, 0.47986509+0.00000000e+00j,\n",
       "       0.47938708-1.43746319e-19j, 0.47886544-1.49136753e-19j,\n",
       "       0.47829483-2.32160339e-21j, 0.47766907+1.70748890e-19j,\n",
       "       0.476981  -1.82077542e-19j, 0.47622231+4.46153895e-21j,\n",
       "       0.47538328-4.22002590e-19j, 0.47445256+0.00000000e+00j,\n",
       "       0.47341676-2.40226033e-19j, 0.47226011+0.00000000e+00j,\n",
       "       0.47096388-2.92237793e-19j, 0.4695058 +0.00000000e+00j,\n",
       "       0.46785923+3.29105965e-19j, 0.46599226-3.58475023e-19j,\n",
       "       0.46386647+0.00000000e+00j, 0.46143549-4.29124649e-19j,\n",
       "       0.45864333-2.58909121e-19j, 0.45542225-2.91607727e-20j,\n",
       "       0.45169055-2.87649111e-19j, 0.44735015-6.85791518e-19j,\n",
       "       0.44228454-3.55017443e-19j, 0.43635788-4.75572468e-19j,\n",
       "       0.42941692+4.42124841e-19j, 0.42129881+0.00000000e+00j,\n",
       "       0.41184985-3.66326156e-19j, 0.40096324-3.07004695e-19j,\n",
       "       0.3886458 -3.39780881e-19j, 0.37512195+3.72685988e-19j,\n",
       "       0.36096854-3.32322050e-19j, 0.34723611-2.15177176e-19j,\n",
       "       0.33545407-2.07554906e-19j, 0.32738661-1.10599349e-19j,\n",
       "       0.32450418+0.00000000e+00j, 0.32738661+1.10599349e-19j,\n",
       "       0.33545407+2.07554906e-19j, 0.34723611+2.15177176e-19j,\n",
       "       0.36096854+3.32322050e-19j, 0.37512195-3.72685988e-19j,\n",
       "       0.3886458 +3.39780881e-19j, 0.40096324+3.07004695e-19j,\n",
       "       0.41184985+3.66326156e-19j, 0.42129881+0.00000000e+00j,\n",
       "       0.42941692-4.42124841e-19j, 0.43635788+4.75572468e-19j,\n",
       "       0.44228454+3.55017443e-19j, 0.44735015+6.85791518e-19j,\n",
       "       0.45169055+2.87649111e-19j, 0.45542225+2.91607727e-20j,\n",
       "       0.45864333+2.58909121e-19j, 0.46143549+4.29124649e-19j,\n",
       "       0.46386647+0.00000000e+00j, 0.46599226+3.58475023e-19j,\n",
       "       0.46785923-3.29105965e-19j, 0.4695058 +0.00000000e+00j,\n",
       "       0.47096388+2.92237793e-19j, 0.47226011+0.00000000e+00j,\n",
       "       0.47341676+2.40226033e-19j, 0.47445256+0.00000000e+00j,\n",
       "       0.47538328+4.22002590e-19j, 0.47622231-4.46153895e-21j,\n",
       "       0.476981  +1.82077542e-19j, 0.47766907-1.70748890e-19j,\n",
       "       0.47829483+2.32160339e-21j, 0.47886544+1.49136753e-19j,\n",
       "       0.47938708+1.43746319e-19j, 0.47986509+0.00000000e+00j,\n",
       "       0.48030413+2.54110922e-19j, 0.48070826+2.40622039e-19j,\n",
       "       0.48108103+0.00000000e+00j, 0.48142557-2.16623401e-19j,\n",
       "       0.48174461+2.05926107e-19j, 0.48204058-1.95989505e-19j,\n",
       "       0.48231562-1.86744302e-19j, 0.48257165+1.78128788e-19j,\n",
       "       0.48281035+0.00000000e+00j, 0.48303324-1.61823979e-19j,\n",
       "       0.48324168+1.54692741e-19j, 0.48343687+1.48944857e-19j,\n",
       "       0.48361991+0.00000000e+00j, 0.48379177+0.00000000e+00j,\n",
       "       0.48395333+1.31474268e-19j, 0.48410541-1.12014884e-21j,\n",
       "       0.48424872+0.00000000e+00j]),\n",
       "       array([-0.00039136+6.52625090e-07j, -0.00039899+6.78925044e-07j,\n",
       "       -0.00040691+7.06834108e-07j, -0.00041515+7.36485103e-07j,\n",
       "       -0.00042372+7.68024713e-07j, -0.00043264+8.01615235e-07j,\n",
       "       -0.00044193+8.37436599e-07j, -0.00045161+8.75688686e-07j,\n",
       "       -0.00046171+9.16594015e-07j, -0.00047226+9.60400847e-07j,\n",
       "       -0.00048328+1.00738680e-06j, -0.00049481+1.05786304e-06j,\n",
       "       -0.00050688+1.11217921e-06j, -0.00051952+1.17072918e-06j,\n",
       "       -0.00053278+1.23395782e-06j, -0.0005467 +1.30236897e-06j,\n",
       "       -0.00056132+1.37653492e-06j, -0.0005767 +1.45710761e-06j,\n",
       "       -0.00059289+1.54483202e-06j, -0.00060996+1.64056217e-06j,\n",
       "       -0.00062796+1.74528031e-06j, -0.00064697+1.86012010e-06j,\n",
       "       -0.00066706+1.98639457e-06j, -0.00068833+2.12563011e-06j,\n",
       "       -0.00071085+2.27960784e-06j, -0.00073472+2.45041420e-06j,\n",
       "       -0.00076005+2.64050296e-06j, -0.00078694+2.85277154e-06j,\n",
       "       -0.00081549+3.09065500e-06j, -0.00084582+3.35824211e-06j,\n",
       "       -0.00087802+3.66041872e-06j, -0.0009122 +4.00304446e-06j,\n",
       "       -0.00094841+4.39316997e-06j, -0.00098668+4.83930153e-06j,\n",
       "       -0.00102697+5.35171926e-06j, -0.00106913+5.94285068e-06j,\n",
       "       -0.00111285+6.62769092e-06j, -0.00115755+7.42423935e-06j,\n",
       "       -0.0012023 +8.35387833e-06j, -0.0012456 +9.44153774e-06j,\n",
       "       -0.00128514+1.07153406e-05j, -0.00131744+1.22051742e-05j,\n",
       "       -0.00133744+1.39392429e-05j, -0.00133799+1.59371501e-05j,\n",
       "       -0.00130952+1.81976443e-05j, -0.0012401 +2.06795362e-05j,\n",
       "       -0.00111669+2.32769664e-05j, -0.00092819+2.57971382e-05j,\n",
       "       -0.00067066+2.79593747e-05j, -0.00035309+2.94399123e-05j,\n",
       "       -0.        +2.99688950e-05j,  0.00035309+2.94399123e-05j,\n",
       "        0.00067066+2.79593747e-05j,  0.00092819+2.57971382e-05j,\n",
       "        0.00111669+2.32769664e-05j,  0.0012401 +2.06795362e-05j,\n",
       "        0.00130952+1.81976443e-05j,  0.00133799+1.59371501e-05j,\n",
       "        0.00133744+1.39392429e-05j,  0.00131744+1.22051742e-05j,\n",
       "        0.00128514+1.07153406e-05j,  0.0012456 +9.44153774e-06j,\n",
       "        0.0012023 +8.35387833e-06j,  0.00115755+7.42423935e-06j,\n",
       "        0.00111285+6.62769092e-06j,  0.00106913+5.94285068e-06j,\n",
       "        0.00102697+5.35171926e-06j,  0.00098668+4.83930153e-06j,\n",
       "        0.00094841+4.39316997e-06j,  0.0009122 +4.00304446e-06j,\n",
       "        0.00087802+3.66041872e-06j,  0.00084582+3.35824211e-06j,\n",
       "        0.00081549+3.09065500e-06j,  0.00078694+2.85277154e-06j,\n",
       "        0.00076005+2.64050296e-06j,  0.00073472+2.45041420e-06j,\n",
       "        0.00071085+2.27960784e-06j,  0.00068833+2.12563011e-06j,\n",
       "        0.00066706+1.98639457e-06j,  0.00064697+1.86012010e-06j,\n",
       "        0.00062796+1.74528031e-06j,  0.00060996+1.64056217e-06j,\n",
       "        0.00059289+1.54483202e-06j,  0.0005767 +1.45710761e-06j,\n",
       "        0.00056132+1.37653492e-06j,  0.0005467 +1.30236897e-06j,\n",
       "        0.00053278+1.23395782e-06j,  0.00051952+1.17072918e-06j,\n",
       "        0.00050688+1.11217921e-06j,  0.00049481+1.05786304e-06j,\n",
       "        0.00048328+1.00738680e-06j,  0.00047226+9.60400847e-07j,\n",
       "        0.00046171+9.16594015e-07j,  0.00045161+8.75688686e-07j,\n",
       "        0.00044193+8.37436599e-07j,  0.00043264+8.01615235e-07j,\n",
       "        0.00042372+7.68024713e-07j,  0.00041515+7.36485103e-07j,\n",
       "        0.00040691+7.06834108e-07j,  0.00039899+6.78925044e-07j,\n",
       "        0.00039136+6.52625090e-07j]),\n",
       "       0,\n",
       "       array([-0.00039136-6.52625090e-07j, -0.00039899-6.78925044e-07j,\n",
       "       -0.00040691-7.06834108e-07j, -0.00041515-7.36485103e-07j,\n",
       "       -0.00042372-7.68024713e-07j, -0.00043264-8.01615235e-07j,\n",
       "       -0.00044193-8.37436599e-07j, -0.00045161-8.75688686e-07j,\n",
       "       -0.00046171-9.16594015e-07j, -0.00047226-9.60400847e-07j,\n",
       "       -0.00048328-1.00738680e-06j, -0.00049481-1.05786304e-06j,\n",
       "       -0.00050688-1.11217921e-06j, -0.00051952-1.17072918e-06j,\n",
       "       -0.00053278-1.23395782e-06j, -0.0005467 -1.30236897e-06j,\n",
       "       -0.00056132-1.37653492e-06j, -0.0005767 -1.45710761e-06j,\n",
       "       -0.00059289-1.54483202e-06j, -0.00060996-1.64056217e-06j,\n",
       "       -0.00062796-1.74528031e-06j, -0.00064697-1.86012010e-06j,\n",
       "       -0.00066706-1.98639457e-06j, -0.00068833-2.12563011e-06j,\n",
       "       -0.00071085-2.27960784e-06j, -0.00073472-2.45041420e-06j,\n",
       "       -0.00076005-2.64050296e-06j, -0.00078694-2.85277154e-06j,\n",
       "       -0.00081549-3.09065500e-06j, -0.00084582-3.35824211e-06j,\n",
       "       -0.00087802-3.66041872e-06j, -0.0009122 -4.00304446e-06j,\n",
       "       -0.00094841-4.39316997e-06j, -0.00098668-4.83930153e-06j,\n",
       "       -0.00102697-5.35171926e-06j, -0.00106913-5.94285068e-06j,\n",
       "       -0.00111285-6.62769092e-06j, -0.00115755-7.42423935e-06j,\n",
       "       -0.0012023 -8.35387833e-06j, -0.0012456 -9.44153774e-06j,\n",
       "       -0.00128514-1.07153406e-05j, -0.00131744-1.22051742e-05j,\n",
       "       -0.00133744-1.39392429e-05j, -0.00133799-1.59371501e-05j,\n",
       "       -0.00130952-1.81976443e-05j, -0.0012401 -2.06795362e-05j,\n",
       "       -0.00111669-2.32769664e-05j, -0.00092819-2.57971382e-05j,\n",
       "       -0.00067066-2.79593747e-05j, -0.00035309-2.94399123e-05j,\n",
       "       -0.        -2.99688950e-05j,  0.00035309-2.94399123e-05j,\n",
       "        0.00067066-2.79593747e-05j,  0.00092819-2.57971382e-05j,\n",
       "        0.00111669-2.32769664e-05j,  0.0012401 -2.06795362e-05j,\n",
       "        0.00130952-1.81976443e-05j,  0.00133799-1.59371501e-05j,\n",
       "        0.00133744-1.39392429e-05j,  0.00131744-1.22051742e-05j,\n",
       "        0.00128514-1.07153406e-05j,  0.0012456 -9.44153774e-06j,\n",
       "        0.0012023 -8.35387833e-06j,  0.00115755-7.42423935e-06j,\n",
       "        0.00111285-6.62769092e-06j,  0.00106913-5.94285068e-06j,\n",
       "        0.00102697-5.35171926e-06j,  0.00098668-4.83930153e-06j,\n",
       "        0.00094841-4.39316997e-06j,  0.0009122 -4.00304446e-06j,\n",
       "        0.00087802-3.66041872e-06j,  0.00084582-3.35824211e-06j,\n",
       "        0.00081549-3.09065500e-06j,  0.00078694-2.85277154e-06j,\n",
       "        0.00076005-2.64050296e-06j,  0.00073472-2.45041420e-06j,\n",
       "        0.00071085-2.27960784e-06j,  0.00068833-2.12563011e-06j,\n",
       "        0.00066706-1.98639457e-06j,  0.00064697-1.86012010e-06j,\n",
       "        0.00062796-1.74528031e-06j,  0.00060996-1.64056217e-06j,\n",
       "        0.00059289-1.54483202e-06j,  0.0005767 -1.45710761e-06j,\n",
       "        0.00056132-1.37653492e-06j,  0.0005467 -1.30236897e-06j,\n",
       "        0.00053278-1.23395782e-06j,  0.00051952-1.17072918e-06j,\n",
       "        0.00050688-1.11217921e-06j,  0.00049481-1.05786304e-06j,\n",
       "        0.00048328-1.00738680e-06j,  0.00047226-9.60400847e-07j,\n",
       "        0.00046171-9.16594015e-07j,  0.00045161-8.75688686e-07j,\n",
       "        0.00044193-8.37436599e-07j,  0.00043264-8.01615235e-07j,\n",
       "        0.00042372-7.68024713e-07j,  0.00041515-7.36485103e-07j,\n",
       "        0.00040691-7.06834108e-07j,  0.00039899-6.78925044e-07j,\n",
       "        0.00039136-6.52625090e-07j]),\n",
       "       array([0.00706532+0.00000000e+00j, 0.00735004+3.70170787e-21j,\n",
       "       0.00765219-2.07884820e-21j, 0.00797319+0.00000000e+00j,\n",
       "       0.00831464+0.00000000e+00j, 0.00867829-2.67374328e-21j,\n",
       "       0.00906609+2.71395348e-21j, 0.00948021-2.96754971e-21j,\n",
       "       0.00992305+0.00000000e+00j, 0.0103973 -3.83789289e-21j,\n",
       "       0.01090597+4.22260338e-21j, 0.01145242+4.65636125e-21j,\n",
       "       0.01204045-5.14680038e-21j, 0.01267431+5.70296448e-21j,\n",
       "       0.01335883+0.00000000e+00j, 0.01409945-7.05758084e-21j,\n",
       "       0.01490237-7.88428378e-21j, 0.01577465+0.00000000e+00j,\n",
       "       0.01672435+4.61775679e-21j, 0.01776073-1.64066386e-20j,\n",
       "       0.0188944 +1.22309126e-20j, 0.02013766+7.19846264e-21j,\n",
       "       0.02150471-8.20897294e-21j, 0.02301207-1.81427817e-20j,\n",
       "       0.02467903-7.56147734e-22j, 0.02652818+0.00000000e+00j,\n",
       "       0.02858608-1.45054465e-20j, 0.0308841 +0.00000000e+00j,\n",
       "       0.03345943+1.84828776e-20j, 0.03635633+0.00000000e+00j,\n",
       "       0.03962769+2.78752852e-20j, 0.04333696-3.33379287e-20j,\n",
       "       0.04756046+0.00000000e+00j, 0.05239028-4.87217806e-20j,\n",
       "       0.05793771+2.77092762e-20j, 0.0643373 +7.09068398e-20j,\n",
       "       0.07175138-4.56932747e-20j, 0.08037481-4.01014710e-21j,\n",
       "       0.09043908-7.25945606e-20j, 0.10221408+8.62430289e-20j,\n",
       "       0.11600427+1.19437237e-19j, 0.13213321+0.00000000e+00j,\n",
       "       0.15090624+9.39911384e-20j, 0.17253558-1.32104959e-19j,\n",
       "       0.19700769-1.72237668e-19j, 0.22387665+2.22422839e-19j,\n",
       "       0.25199643+1.31048273e-19j, 0.27927981-1.73065643e-19j,\n",
       "       0.30268818+9.45373571e-20j, 0.31871648+5.24072746e-20j,\n",
       "       0.32444324+0.00000000e+00j, 0.31871648-5.24072746e-20j,\n",
       "       0.30268818-9.45373571e-20j, 0.27927981+1.73065643e-19j,\n",
       "       0.25199643-1.31048273e-19j, 0.22387665-2.22422839e-19j,\n",
       "       0.19700769+1.72237668e-19j, 0.17253558+1.32104959e-19j,\n",
       "       0.15090624-9.39911384e-20j, 0.13213321+0.00000000e+00j,\n",
       "       0.11600427-1.19437237e-19j, 0.10221408-8.62430289e-20j,\n",
       "       0.09043908+7.25945606e-20j, 0.08037481+4.01014710e-21j,\n",
       "       0.07175138+4.56932747e-20j, 0.0643373 -7.09068398e-20j,\n",
       "       0.05793771-2.77092762e-20j, 0.05239028+4.87217806e-20j,\n",
       "       0.04756046+0.00000000e+00j, 0.04333696+3.33379287e-20j,\n",
       "       0.03962769-2.78752852e-20j, 0.03635633+0.00000000e+00j,\n",
       "       0.03345943-1.84828776e-20j, 0.0308841 +0.00000000e+00j,\n",
       "       0.02858608+1.45054465e-20j, 0.02652818+0.00000000e+00j,\n",
       "       0.02467903+7.56147734e-22j, 0.02301207+1.81427817e-20j,\n",
       "       0.02150471+8.20897294e-21j, 0.02013766-7.19846264e-21j,\n",
       "       0.0188944 -1.22309126e-20j, 0.01776073+1.64066386e-20j,\n",
       "       0.01672435-4.61775679e-21j, 0.01577465+0.00000000e+00j,\n",
       "       0.01490237+7.88428378e-21j, 0.01409945+7.05758084e-21j,\n",
       "       0.01335883+0.00000000e+00j, 0.01267431-5.70296448e-21j,\n",
       "       0.01204045+5.14680038e-21j, 0.01145242-4.65636125e-21j,\n",
       "       0.01090597-4.22260338e-21j, 0.0103973 +3.83789289e-21j,\n",
       "       0.00992305+0.00000000e+00j, 0.00948021+2.96754971e-21j,\n",
       "       0.00906609-2.71395348e-21j, 0.00867829+2.67374328e-21j,\n",
       "       0.00831464+0.00000000e+00j, 0.00797319+0.00000000e+00j,\n",
       "       0.00765219+2.07884820e-21j, 0.00735004-3.70170787e-21j,\n",
       "       0.00706532+0.00000000e+00j])], dtype=object)"
      ]
     },
     "execution_count": 982,
     "metadata": {},
     "output_type": "execute_result"
    }
   ],
   "source": [
    "Del_test=np.linspace(-6e8,6e8,101)\n",
    "\n",
    "\n",
    "rho_test=rho_0norm_lam(Del_test,p['gamma13'],p['gamma23'],p['gamma2d'],p['gamma3d'],p['nbath'],p['gammamu'],p['Omega'])\n",
    "rho_test"
   ]
  },
  {
   "cell_type": "code",
   "execution_count": 958,
   "metadata": {},
   "outputs": [
    {
     "data": {
      "text/plain": [
       "[<matplotlib.lines.Line2D at 0x7ff922cec5c0>]"
      ]
     },
     "execution_count": 958,
     "metadata": {},
     "output_type": "execute_result"
    },
    {
     "data": {
      "image/png": "[encoded data removed]",
      "text/plain": [
       "<Figure size 432x288 with 1 Axes>"
      ]
     },
     "metadata": {},
     "output_type": "display_data"
    }
   ],
   "source": [
    "plt.plot(Del_test,np.abs(rho_test[4]))"
   ]
  },
  {
   "cell_type": "code",
   "execution_count": 985,
   "metadata": {},
   "outputs": [
    {
     "data": {
      "image/png": "[encoded data removed]",
      "text/latex": [
       "$$\\rho_{23}$$"
      ],
      "text/plain": [
       "ρ₂₃"
      ]
     },
     "execution_count": 985,
     "metadata": {},
     "output_type": "execute_result"
    }
   ],
   "source": [
    "rho[]"
   ]
  },
  {
   "cell_type": "code",
   "execution_count": 983,
   "metadata": {},
   "outputs": [
    {
     "name": "stdout",
     "output_type": "stream",
     "text": [
      "(0.3510525800824311+0j)\n",
      "(0.3245041771371065+0j)\n",
      "(-0+2.996889497337545e-05j)\n",
      "(-0-2.996889497337545e-05j)\n",
      "(0.32444324278046244+0j)\n"
     ]
    }
   ],
   "source": [
    "for ii in [0,4,5,7,8]:\n",
    "    print(rho_test[ii][50])"
   ]
  },
  {
   "cell_type": "code",
   "execution_count": 1102,
   "metadata": {},
   "outputs": [
    {
     "data": {
      "image/png": "[encoded data removed]",
      "text/latex": [
       "$$\\left ( - \\frac{4 i S_{a 1 2} a_{in} \\sqrt{\\gamma_{\\mu c}} \\sqrt{\\gamma_{o c}}}{4 S_{a 1 2} S_{b 1 3} + \\left(\\gamma_{\\mu c} + \\gamma_{\\mu i} + 2 i \\left(S_{b 1 2} - \\omega + \\omega_{c \\mu}\\right)\\right) \\left(\\gamma_{o c} + \\gamma_{o i} + 2 i \\left(S_{a 1 3} - \\omega + \\omega_{c o}\\right)\\right)} - \\frac{b_{in} \\left(4 S_{a 1 2} S_{b 1 3} + \\left(- \\gamma_{\\mu c} + \\gamma_{\\mu i} + 2 i \\left(S_{b 1 2} - \\omega + \\omega_{c \\mu}\\right)\\right) \\left(\\gamma_{o c} + \\gamma_{o i} + 2 i \\left(S_{a 1 3} - \\omega + \\omega_{c o}\\right)\\right)\\right)}{4 S_{a 1 2} S_{b 1 3} + \\left(\\gamma_{\\mu c} + \\gamma_{\\mu i} + 2 i \\left(S_{b 1 2} - \\omega + \\omega_{c \\mu}\\right)\\right) \\left(\\gamma_{o c} + \\gamma_{o i} + 2 i \\left(S_{a 1 3} - \\omega + \\omega_{c o}\\right)\\right)}, \\quad - \\frac{4 i S_{b 1 3} b_{in} \\sqrt{\\gamma_{\\mu c}} \\sqrt{\\gamma_{o c}}}{4 S_{a 1 2} S_{b 1 3} + \\left(\\gamma_{\\mu c} + \\gamma_{\\mu i} + 2 i \\left(S_{b 1 2} - \\omega + \\omega_{c \\mu}\\right)\\right) \\left(\\gamma_{o c} + \\gamma_{o i} + 2 i \\left(S_{a 1 3} - \\omega + \\omega_{c o}\\right)\\right)} - \\frac{a_{in} \\left(4 S_{a 1 2} S_{b 1 3} + \\left(\\gamma_{\\mu c} + \\gamma_{\\mu i} + 2 i \\left(S_{b 1 2} - \\omega + \\omega_{c \\mu}\\right)\\right) \\left(- \\gamma_{o c} + \\gamma_{o i} + 2 i \\left(S_{a 1 3} - \\omega + \\omega_{c o}\\right)\\right)\\right)}{4 S_{a 1 2} S_{b 1 3} + \\left(\\gamma_{\\mu c} + \\gamma_{\\mu i} + 2 i \\left(S_{b 1 2} - \\omega + \\omega_{c \\mu}\\right)\\right) \\left(\\gamma_{o c} + \\gamma_{o i} + 2 i \\left(S_{a 1 3} - \\omega + \\omega_{c o}\\right)\\right)}\\right )$$"
      ],
      "text/plain": [
       "⎛                                                      _______   _______      \n",
       "⎜                                     4⋅ⅈ⋅Sₐ ₁ ₂⋅aᵢₙ⋅╲╱ γ_μ_c ⋅╲╱ γ_o_c       \n",
       "⎜- ───────────────────────────────────────────────────────────────────────────\n",
       "⎝  4⋅Sₐ ₁ ₂⋅S_b_1_3 + (γ_μ_c + γₘᵤ ᵢ + 2⋅ⅈ⋅(S_b_1_2 - ω + ω_c_μ))⋅(γ_o_c + γₒ \n",
       "\n",
       "                                                                              \n",
       "                                bᵢₙ⋅(4⋅Sₐ ₁ ₂⋅S_b_1_3 + (-γ_μ_c + γₘᵤ ᵢ + 2⋅ⅈ⋅\n",
       "───────────────────────────── - ──────────────────────────────────────────────\n",
       "ᵢ + 2⋅ⅈ⋅(Sₐ ₁ ₃ - ω + ω_c_o))       4⋅Sₐ ₁ ₂⋅S_b_1_3 + (γ_μ_c + γₘᵤ ᵢ + 2⋅ⅈ⋅(S\n",
       "\n",
       "                                                                              \n",
       "(S_b_1_2 - ω + ω_c_μ))⋅(γ_o_c + γₒ ᵢ + 2⋅ⅈ⋅(Sₐ ₁ ₃ - ω + ω_c_o)))             \n",
       "─────────────────────────────────────────────────────────────────, - ─────────\n",
       "_b_1_2 - ω + ω_c_μ))⋅(γ_o_c + γₒ ᵢ + 2⋅ⅈ⋅(Sₐ ₁ ₃ - ω + ω_c_o))       4⋅Sₐ ₁ ₂⋅\n",
       "\n",
       "                                           _______   _______                  \n",
       "                         4⋅ⅈ⋅S_b_1_3⋅bᵢₙ⋅╲╱ γ_μ_c ⋅╲╱ γ_o_c                   \n",
       "──────────────────────────────────────────────────────────────────────────────\n",
       "S_b_1_3 + (γ_μ_c + γₘᵤ ᵢ + 2⋅ⅈ⋅(S_b_1_2 - ω + ω_c_μ))⋅(γ_o_c + γₒ ᵢ + 2⋅ⅈ⋅(Sₐ \n",
       "\n",
       "                                                                              \n",
       "                    aᵢₙ⋅(4⋅Sₐ ₁ ₂⋅S_b_1_3 + (γ_μ_c + γₘᵤ ᵢ + 2⋅ⅈ⋅(S_b_1_2 - ω \n",
       "───────────────── - ──────────────────────────────────────────────────────────\n",
       "₁ ₃ - ω + ω_c_o))       4⋅Sₐ ₁ ₂⋅S_b_1_3 + (γ_μ_c + γₘᵤ ᵢ + 2⋅ⅈ⋅(S_b_1_2 - ω +\n",
       "\n",
       "                                                     ⎞\n",
       "+ ω_c_μ))⋅(-γ_o_c + γₒ ᵢ + 2⋅ⅈ⋅(Sₐ ₁ ₃ - ω + ω_c_o)))⎟\n",
       "─────────────────────────────────────────────────────⎟\n",
       " ω_c_μ))⋅(γ_o_c + γₒ ᵢ + 2⋅ⅈ⋅(Sₐ ₁ ₃ - ω + ω_c_o))   ⎠"
      ]
     },
     "execution_count": 1102,
     "metadata": {},
     "output_type": "execute_result"
    }
   ],
   "source": [
    "A,B,C,D,F,G =sym.symbols('A B C D F G')\n",
    "a_in,a_out,b_in,b_out=sym.symbols('a_in a_out b_in b_out')\n",
    "\n",
    "Sb12,Sa12=sym.symbols('S_b_1_2 S_a_1_2')\n",
    "Sb13,Sa13=sym.symbols('S_b_1_3 S_a_1_3')\n",
    "w, wcm,wco=sym.symbols('omega omega_c_mu omega_c_o',Real=True) \n",
    "gammi,gammc,gamoi,gamoc=sym.symbols('gamma_mu_i gamma_mu_c gamma_o_i gamma_o_c',positive = True, Real=True)\n",
    "\n",
    "in_mat=Matrix([[A,-C],[G,-D]])\n",
    "out_mat=Matrix([[-B,C],[-G,F]])\n",
    "\n",
    "A_eq=(I*(wcm+Sb12-w)+(gammi-gammc)/2)\n",
    "B_eq=(I*(wcm+Sb12-w)+(gammi+gammc)/2)\n",
    "C_eq=-I*Sa12*sym.sqrt(gammc/gamoc)\n",
    "D_eq=(I*(wco+Sa13-w)+(gamoi-gamoc)/2)\n",
    "F_eq=(I*(wco+Sa13-w)+(gamoi+gamoc)/2)\n",
    "G_eq=-I*Sb13*sym.sqrt(gamoc/gammc)\n",
    "\n",
    "out_mat_eq=sym.simplify((out_mat.inv()*in_mat).subs({A:A_eq,B:B_eq,C:C_eq,D:D_eq,F:F_eq,G:G_eq}))*Matrix([[b_in],[a_in]])\n",
    "bout_eq=out_mat_eq[0]\n",
    "aout_eq=out_mat_eq[1]\n",
    "bout_eq, aout_eq"
   ]
  },
  {
   "cell_type": "markdown",
   "metadata": {},
   "source": [
    "$b_{out}=C_{ab}a_{in}+C_{bb}b_{in}$\n",
    "\n",
    "\n",
    "$a_{out}=C_{aa}a_{in}+C{ba}b_{in}$"
   ]
  },
  {
   "cell_type": "code",
   "execution_count": 1103,
   "metadata": {},
   "outputs": [],
   "source": [
    "Cab=bout_eq.subs({b_in:0})/a_in\n",
    "Cbb=bout_eq.subs({a_in:0})/b_in\n",
    "Caa=aout_eq.subs({b_in:0})/a_in\n",
    "Cba=aout_eq.subs({a_in:0})/b_in"
   ]
  },
  {
   "cell_type": "code",
   "execution_count": 1104,
   "metadata": {},
   "outputs": [
    {
     "data": {
      "image/png": "[encoded data removed]",
      "text/latex": [
       "$$\\left ( - \\frac{4 i S_{a 1 2} \\sqrt{\\gamma_{\\mu c}} \\sqrt{\\gamma_{o c}}}{4 S_{a 1 2} S_{b 1 3} + \\left(\\gamma_{\\mu c} + \\gamma_{\\mu i} + 2 i \\left(S_{b 1 2} - \\omega + \\omega_{c \\mu}\\right)\\right) \\left(\\gamma_{o c} + \\gamma_{o i} + 2 i \\left(S_{a 1 3} - \\omega + \\omega_{c o}\\right)\\right)}, \\quad - \\frac{4 S_{a 1 2} S_{b 1 3} + \\left(- \\gamma_{\\mu c} + \\gamma_{\\mu i} + 2 i \\left(S_{b 1 2} - \\omega + \\omega_{c \\mu}\\right)\\right) \\left(\\gamma_{o c} + \\gamma_{o i} + 2 i \\left(S_{a 1 3} - \\omega + \\omega_{c o}\\right)\\right)}{4 S_{a 1 2} S_{b 1 3} + \\left(\\gamma_{\\mu c} + \\gamma_{\\mu i} + 2 i \\left(S_{b 1 2} - \\omega + \\omega_{c \\mu}\\right)\\right) \\left(\\gamma_{o c} + \\gamma_{o i} + 2 i \\left(S_{a 1 3} - \\omega + \\omega_{c o}\\right)\\right)}, \\quad - \\frac{4 S_{a 1 2} S_{b 1 3} + \\left(\\gamma_{\\mu c} + \\gamma_{\\mu i} + 2 i \\left(S_{b 1 2} - \\omega + \\omega_{c \\mu}\\right)\\right) \\left(- \\gamma_{o c} + \\gamma_{o i} + 2 i \\left(S_{a 1 3} - \\omega + \\omega_{c o}\\right)\\right)}{4 S_{a 1 2} S_{b 1 3} + \\left(\\gamma_{\\mu c} + \\gamma_{\\mu i} + 2 i \\left(S_{b 1 2} - \\omega + \\omega_{c \\mu}\\right)\\right) \\left(\\gamma_{o c} + \\gamma_{o i} + 2 i \\left(S_{a 1 3} - \\omega + \\omega_{c o}\\right)\\right)}, \\quad - \\frac{4 i S_{b 1 3} \\sqrt{\\gamma_{\\mu c}} \\sqrt{\\gamma_{o c}}}{4 S_{a 1 2} S_{b 1 3} + \\left(\\gamma_{\\mu c} + \\gamma_{\\mu i} + 2 i \\left(S_{b 1 2} - \\omega + \\omega_{c \\mu}\\right)\\right) \\left(\\gamma_{o c} + \\gamma_{o i} + 2 i \\left(S_{a 1 3} - \\omega + \\omega_{c o}\\right)\\right)}\\right )$$"
      ],
      "text/plain": [
       "⎛                                                  _______   _______          \n",
       "⎜                                    -4⋅ⅈ⋅Sₐ ₁ ₂⋅╲╱ γ_μ_c ⋅╲╱ γ_o_c           \n",
       "⎜─────────────────────────────────────────────────────────────────────────────\n",
       "⎝4⋅Sₐ ₁ ₂⋅S_b_1_3 + (γ_μ_c + γₘᵤ ᵢ + 2⋅ⅈ⋅(S_b_1_2 - ω + ω_c_μ))⋅(γ_o_c + γₒ ᵢ \n",
       "\n",
       "                                                                              \n",
       "                             -(4⋅Sₐ ₁ ₂⋅S_b_1_3 + (-γ_μ_c + γₘᵤ ᵢ + 2⋅ⅈ⋅(S_b_1\n",
       "───────────────────────────, ─────────────────────────────────────────────────\n",
       "+ 2⋅ⅈ⋅(Sₐ ₁ ₃ - ω + ω_c_o))     4⋅Sₐ ₁ ₂⋅S_b_1_3 + (γ_μ_c + γₘᵤ ᵢ + 2⋅ⅈ⋅(S_b_1\n",
       "\n",
       "                                                                              \n",
       "_2 - ω + ω_c_μ))⋅(γ_o_c + γₒ ᵢ + 2⋅ⅈ⋅(Sₐ ₁ ₃ - ω + ω_c_o)))   -(4⋅Sₐ ₁ ₂⋅S_b_1\n",
       "────────────────────────────────────────────────────────────, ────────────────\n",
       "_2 - ω + ω_c_μ))⋅(γ_o_c + γₒ ᵢ + 2⋅ⅈ⋅(Sₐ ₁ ₃ - ω + ω_c_o))       4⋅Sₐ ₁ ₂⋅S_b_\n",
       "\n",
       "                                                                              \n",
       "_3 + (γ_μ_c + γₘᵤ ᵢ + 2⋅ⅈ⋅(S_b_1_2 - ω + ω_c_μ))⋅(-γ_o_c + γₒ ᵢ + 2⋅ⅈ⋅(Sₐ ₁ ₃ \n",
       "──────────────────────────────────────────────────────────────────────────────\n",
       "1_3 + (γ_μ_c + γₘᵤ ᵢ + 2⋅ⅈ⋅(S_b_1_2 - ω + ω_c_μ))⋅(γ_o_c + γₒ ᵢ + 2⋅ⅈ⋅(Sₐ ₁ ₃ \n",
       "\n",
       "                                                                   _______   _\n",
       "- ω + ω_c_o)))                                      -4⋅ⅈ⋅S_b_1_3⋅╲╱ γ_μ_c ⋅╲╱ \n",
       "───────────────, ─────────────────────────────────────────────────────────────\n",
       "- ω + ω_c_o))    4⋅Sₐ ₁ ₂⋅S_b_1_3 + (γ_μ_c + γₘᵤ ᵢ + 2⋅ⅈ⋅(S_b_1_2 - ω + ω_c_μ)\n",
       "\n",
       "______                                     ⎞\n",
       "γ_o_c                                      ⎟\n",
       "───────────────────────────────────────────⎟\n",
       ")⋅(γ_o_c + γₒ ᵢ + 2⋅ⅈ⋅(Sₐ ₁ ₃ - ω + ω_c_o))⎠"
      ]
     },
     "execution_count": 1104,
     "metadata": {},
     "output_type": "execute_result"
    }
   ],
   "source": [
    "Cab,Cbb,Caa,Cba"
   ]
  },
  {
   "cell_type": "code",
   "execution_count": 1105,
   "metadata": {
    "scrolled": true
   },
   "outputs": [
    {
     "name": "stdout",
     "output_type": "stream",
     "text": [
      "C_{ab}=&- \\frac{4 i S_{a 1 2} \\sqrt{\\gamma_{\\mu c}} \\sqrt{\\gamma_{o c}}}{4 S_{a 1 2} S_{b 1 3} + \\left(\\gamma_{\\mu c} + \\gamma_{\\mu i} + 2 i \\left(S_{b 1 2} - \\omega + \\omega_{c \\mu}\\right)\\right) \\left(\\gamma_{o c} + \\gamma_{o i} + 2 i \\left(S_{a 1 3} - \\omega + \\omega_{c o}\\right)\\right)}\\\\\n",
      "C_{bb}=&- \\frac{4 S_{a 1 2} S_{b 1 3} + \\left(- \\gamma_{\\mu c} + \\gamma_{\\mu i} + 2 i \\left(S_{b 1 2} - \\omega + \\omega_{c \\mu}\\right)\\right) \\left(\\gamma_{o c} + \\gamma_{o i} + 2 i \\left(S_{a 1 3} - \\omega + \\omega_{c o}\\right)\\right)}{4 S_{a 1 2} S_{b 1 3} + \\left(\\gamma_{\\mu c} + \\gamma_{\\mu i} + 2 i \\left(S_{b 1 2} - \\omega + \\omega_{c \\mu}\\right)\\right) \\left(\\gamma_{o c} + \\gamma_{o i} + 2 i \\left(S_{a 1 3} - \\omega + \\omega_{c o}\\right)\\right)}\\\\\n",
      "C_{aa}=&- \\frac{4 S_{a 1 2} S_{b 1 3} + \\left(\\gamma_{\\mu c} + \\gamma_{\\mu i} + 2 i \\left(S_{b 1 2} - \\omega + \\omega_{c \\mu}\\right)\\right) \\left(- \\gamma_{o c} + \\gamma_{o i} + 2 i \\left(S_{a 1 3} - \\omega + \\omega_{c o}\\right)\\right)}{4 S_{a 1 2} S_{b 1 3} + \\left(\\gamma_{\\mu c} + \\gamma_{\\mu i} + 2 i \\left(S_{b 1 2} - \\omega + \\omega_{c \\mu}\\right)\\right) \\left(\\gamma_{o c} + \\gamma_{o i} + 2 i \\left(S_{a 1 3} - \\omega + \\omega_{c o}\\right)\\right)}\\\\\n",
      "C_{ba}=&- \\frac{4 i S_{b 1 3} \\sqrt{\\gamma_{\\mu c}} \\sqrt{\\gamma_{o c}}}{4 S_{a 1 2} S_{b 1 3} + \\left(\\gamma_{\\mu c} + \\gamma_{\\mu i} + 2 i \\left(S_{b 1 2} - \\omega + \\omega_{c \\mu}\\right)\\right) \\left(\\gamma_{o c} + \\gamma_{o i} + 2 i \\left(S_{a 1 3} - \\omega + \\omega_{c o}\\right)\\right)}\n"
     ]
    }
   ],
   "source": [
    "print('C_{ab}=&'+sym.latex(Cab)+'\\\\\\\\')\n",
    "print('C_{bb}=&'+sym.latex(Cbb)+'\\\\\\\\')\n",
    "print('C_{aa}=&'+sym.latex(Caa)+'\\\\\\\\')\n",
    "print('C_{ba}=&'+sym.latex(Cba))\n"
   ]
  },
  {
   "cell_type": "code",
   "execution_count": 1106,
   "metadata": {},
   "outputs": [],
   "source": [
    "Cab_lam=sym.lambdify((w,wco,wcm,gamoi,gammi, gamoc,gammc, Sa12,Sb12,Sa13,Sb13),Cab)\n",
    "Cbb_lam=sym.lambdify((w,wco,wcm,gamoi,gammi, gamoc,gammc, Sa12,Sb12,Sa13,Sb13),Cbb)\n",
    "Caa_lam=sym.lambdify((w,wco,wcm,gamoi,gammi, gamoc,gammc, Sa12,Sb12,Sa13,Sb13),Caa)\n",
    "Cba_lam=sym.lambdify((w,wco,wcm,gamoi,gammi, gamoc,gammc, Sa12,Sb12,Sa13,Sb13),Cba)"
   ]
  },
  {
   "cell_type": "code",
   "execution_count": 1107,
   "metadata": {},
   "outputs": [],
   "source": [
    "def convert_coeffs(wval,deloval,delmval,p):\n",
    "    rho0int, rhoaint, rhobint= find_rhoint(deloval,delmval,p)\n",
    "    Sa12_val=p['gm']*p['Nm']*rhoaint[3]\n",
    "    Sa13_val=p['go']*p['No']*rhoaint[6]\n",
    "    Sb12_val=p['gm']*p['Nm']*rhobint[3]\n",
    "    Sb13_val=p['go']*p['No']*rhobint[6]\n",
    "    Cab_val=(Cab_lam(wval,2*pi*p['freqo'],2*pi*p['freqmu'],p['gammaoi'],p['gammami'],p['gammaoc'],p['gammamc'], Sa12_val,Sb12_val,Sa13_val,Sb13_val))[0]\n",
    "    Cbb_val=(Cbb_lam(wval,2*pi*p['freqo'],2*pi*p['freqmu'],p['gammaoi'],p['gammami'],p['gammaoc'],p['gammamc'], Sa12_val,Sb12_val,Sa13_val,Sb13_val))[0]\n",
    "    Caa_val=(Caa_lam(wval,2*pi*p['freqo'],2*pi*p['freqmu'],p['gammaoi'],p['gammami'],p['gammaoc'],p['gammamc'], Sa12_val,Sb12_val,Sa13_val,Sb13_val))[0]\n",
    "    Cba_val=(Cba_lam(wval,2*pi*p['freqo'],2*pi*p['freqmu'],p['gammaoi'],p['gammami'],p['gammaoc'],p['gammamc'], Sa12_val,Sb12_val,Sa13_val,Sb13_val))[0]\n",
    "    return Cab_val, Cbb_val, Caa_val, Cba_val"
   ]
  },
  {
   "cell_type": "code",
   "execution_count": 1108,
   "metadata": {},
   "outputs": [
    {
     "data": {
      "text/plain": [
       "{'deltamu': 0.0,\n",
       " 'deltao': 0.0,\n",
       " 'd13': 1.1547005383792515e-32,\n",
       " 'd23': 1.6329931618554522e-32,\n",
       " 'gamma13': 30.303030303030297,\n",
       " 'gamma23': 60.606060606060616,\n",
       " 'gamma2d': 1000000.0,\n",
       " 'gamma3d': 1000000.0,\n",
       " 'nbath': 1,\n",
       " 'gammamu': 47.61904761904761,\n",
       " 'go': 51.9,\n",
       " 'No': 1280000000000000.0,\n",
       " 'deltac': 0,\n",
       " 'kappaoi': 49951323.19207771,\n",
       " 'kappaoc': 10681415.022205297,\n",
       " 'mean_delam': 600000.0,\n",
       " 'sd_delam': 66700480.96793615,\n",
       " 'mean_delao': 6000000.0,\n",
       " 'sd_delao': 453563270.5819659,\n",
       " 'kappami': 4084070.449666731,\n",
       " 'kappamc': 439822.971502571,\n",
       " 'Nm': 2.22e+16,\n",
       " 'gm': 1.04,\n",
       " 'gammaoc': 10681415.022205297,\n",
       " 'gammaoi': 49951323.19207771,\n",
       " 'gammamc': 439822.971502571,\n",
       " 'gammami': 4084070.449666731,\n",
       " 'mu12': 4.06229459767182e-23,\n",
       " 'Lsample': 0.012,\n",
       " 'dsample': 0.005,\n",
       " 'fillfactor': 0.8,\n",
       " 'freqmu': 5186000000.0,\n",
       " 'freq_pump': 195113360000000.0,\n",
       " 'freqo': 195118546000000.0,\n",
       " 'Lcavity_vac': 0.0495,\n",
       " 'Wcavity': 0.0006,\n",
       " 'nYSO': 1.76,\n",
       " 'Omega': -492090.88755145477}"
      ]
     },
     "execution_count": 1108,
     "metadata": {},
     "output_type": "execute_result"
    }
   ],
   "source": [
    "p"
   ]
  },
  {
   "cell_type": "code",
   "execution_count": 1176,
   "metadata": {},
   "outputs": [
    {
     "name": "stdout",
     "output_type": "stream",
     "text": [
      "  Time: 6.3138344287872314\n",
      "  Time: 12.616917848587036\n",
      "  Time: 18.972618341445923\n",
      "  Time: 25.486801147460938\n",
      "  Time: 31.83413863182068\n"
     ]
    }
   ],
   "source": [
    "start_time=time.time()\n",
    "wvals=np.linspace(-6e8,6e8,5)\n",
    "Cab_vals=np.zeros(len(wvals),dtype=np.complex_)\n",
    "Cbb_vals=np.zeros(len(wvals),dtype=np.complex_)\n",
    "Caa_vals=np.zeros(len(wvals),dtype=np.complex_)\n",
    "Cba_vals=np.zeros(len(wvals),dtype=np.complex_)\n",
    "for ii,wval in enumerate(wvals):\n",
    "    Cab_vals[ii], Cbb_vals[ii], Caa_vals[ii], Cba_vals[ii]=convert_coeffs(wval,10e4,-4e4,p)\n",
    "    elapsed_time=time.time()-start_time\n",
    "    print('  Time: ' + str(elapsed_time))\n"
   ]
  },
  {
   "cell_type": "code",
   "execution_count": 1180,
   "metadata": {},
   "outputs": [
    {
     "data": {
      "text/plain": [
       "[<matplotlib.lines.Line2D at 0x7ff922dff978>]"
      ]
     },
     "execution_count": 1180,
     "metadata": {},
     "output_type": "execute_result"
    },
    {
     "data": {
      "image/png": "[encoded data removed]",
      "text/plain": [
       "<Figure size 432x288 with 1 Axes>"
      ]
     },
     "metadata": {},
     "output_type": "display_data"
    }
   ],
   "source": [
    "plt.plot(wvals,np.abs(Cbb_vals))"
   ]
  },
  {
   "cell_type": "code",
   "execution_count": 1184,
   "metadata": {},
   "outputs": [
    {
     "data": {
      "image/png": "[encoded data removed]",
      "text/latex": [
       "$$\\left ( - \\frac{- \\gamma_{\\mu c} + \\gamma_{\\mu i} + 2 i \\left(- \\omega + \\omega_{c \\mu}\\right)}{\\gamma_{\\mu c} + \\gamma_{\\mu i} + 2 i \\left(- \\omega + \\omega_{c \\mu}\\right)}, \\quad - \\frac{- \\gamma_{o c} + \\gamma_{o i} + 2 i \\left(- \\omega + \\omega_{c o}\\right)}{\\gamma_{o c} + \\gamma_{o i} + 2 i \\left(- \\omega + \\omega_{c o}\\right)}\\right )$$"
      ],
      "text/plain": [
       "⎛-(-γ_μ_c + γₘᵤ ᵢ + 2⋅ⅈ⋅(-ω + ω_c_μ))   -(-γ_o_c + γₒ ᵢ + 2⋅ⅈ⋅(-ω + ω_c_o)) ⎞\n",
       "⎜─────────────────────────────────────, ────────────────────────────────────⎟\n",
       "⎝   γ_μ_c + γₘᵤ ᵢ + 2⋅ⅈ⋅(-ω + ω_c_μ)      γ_o_c + γₒ ᵢ + 2⋅ⅈ⋅(-ω + ω_c_o)   ⎠"
      ]
     },
     "execution_count": 1184,
     "metadata": {},
     "output_type": "execute_result"
    }
   ],
   "source": [
    "Cbb_noatoms=Cbb.subs({Sa12:0,Sa13:0,Sb12:0,Sb13:0})\n",
    "Caa_noatoms=Caa.subs({Sa12:0,Sa13:0,Sb12:0,Sb13:0})\n",
    "Cbb_noatoms, Caa_noatoms"
   ]
  },
  {
   "cell_type": "code",
   "execution_count": 1185,
   "metadata": {},
   "outputs": [
    {
     "data": {
      "text/latex": [
       "$$\\left[\\begin{matrix}- \\gamma_{\\mu} n_{b} & 0 & 0 & 0 & \\gamma_{\\mu} \\left(n_{b} + 1\\right) & 0 & 0 & 0 & \\gamma_{13}\\\\0 & - i \\delta_{\\mu} - \\frac{\\gamma_{2d}}{2} - \\frac{\\gamma_{\\mu} n_{b}}{2} - \\frac{\\gamma_{\\mu}}{2} \\left(n_{b} + 1\\right) & - i \\overline{\\Omega} & 0 & 0 & 0 & 0 & 0 & 0\\\\0 & - i \\Omega & - i \\delta_{o} - \\frac{\\gamma_{13}}{2} - \\frac{\\gamma_{23}}{2} - \\frac{\\gamma_{3d}}{2} - \\frac{\\gamma_{\\mu} n_{b}}{2} & 0 & 0 & 0 & 0 & 0 & 0\\\\0 & 0 & 0 & i \\delta_{\\mu} - \\frac{\\gamma_{2d}}{2} - \\frac{\\gamma_{\\mu} n_{b}}{2} - \\frac{\\gamma_{\\mu}}{2} \\left(n_{b} + 1\\right) & 0 & 0 & i \\Omega & 0 & 0\\\\\\gamma_{\\mu} n_{b} & 0 & 0 & 0 & - \\gamma_{\\mu} \\left(n_{b} + 1\\right) & - i \\overline{\\Omega} & 0 & i \\Omega & \\gamma_{23}\\\\0 & 0 & 0 & 0 & - i \\Omega & i \\delta_{\\mu} - i \\delta_{o} - \\frac{\\gamma_{13}}{2} - \\frac{\\gamma_{23}}{2} - \\frac{\\gamma_{2d}}{2} - \\frac{\\gamma_{3d}}{2} - \\frac{\\gamma_{\\mu}}{2} \\left(n_{b} + 1\\right) & 0 & 0 & i \\Omega\\\\0 & 0 & 0 & i \\overline{\\Omega} & 0 & 0 & i \\delta_{o} - \\frac{\\gamma_{13}}{2} - \\frac{\\gamma_{23}}{2} - \\frac{\\gamma_{3d}}{2} - \\frac{\\gamma_{\\mu} n_{b}}{2} & 0 & 0\\\\0 & 0 & 0 & 0 & i \\overline{\\Omega} & 0 & 0 & - i \\delta_{\\mu} + i \\delta_{o} - \\frac{\\gamma_{13}}{2} - \\frac{\\gamma_{23}}{2} - \\frac{\\gamma_{2d}}{2} - \\frac{\\gamma_{3d}}{2} - \\frac{\\gamma_{\\mu}}{2} \\left(n_{b} + 1\\right) & - i \\overline{\\Omega}\\\\0 & 0 & 0 & 0 & 0 & i \\overline{\\Omega} & 0 & - i \\Omega & - \\gamma_{13} - \\gamma_{23}\\end{matrix}\\right]$$"
      ],
      "text/plain": [
       "⎡-γₘᵤ⋅n_b                     0                                     0         \n",
       "⎢                                                                             \n",
       "⎢                   γ_2d   γₘᵤ⋅n_b   γₘᵤ⋅(n_b + 1)                    _       \n",
       "⎢   0      -ⅈ⋅δₘᵤ - ──── - ─────── - ─────────────                 -ⅈ⋅Ω       \n",
       "⎢                    2        2            2                                  \n",
       "⎢                                                                             \n",
       "⎢                                                           γ₁₃   γ₂₃   γ_3d  \n",
       "⎢   0                       -ⅈ⋅Ω                    -ⅈ⋅δₒ - ─── - ─── - ──── -\n",
       "⎢                                                            2     2     2    \n",
       "⎢                                                                             \n",
       "⎢                                                                             \n",
       "⎢   0                         0                                     0         \n",
       "⎢                                                                             \n",
       "⎢                                                                             \n",
       "⎢                                                                             \n",
       "⎢γₘᵤ⋅n_b                      0                                     0         \n",
       "⎢                                                                             \n",
       "⎢                                                                             \n",
       "⎢   0                         0                                     0         \n",
       "⎢                                                                             \n",
       "⎢                                                                             \n",
       "⎢                                                                             \n",
       "⎢   0                         0                                     0         \n",
       "⎢                                                                             \n",
       "⎢                                                                             \n",
       "⎢                                                                             \n",
       "⎢   0                         0                                     0         \n",
       "⎢                                                                             \n",
       "⎢                                                                             \n",
       "⎢                                                                             \n",
       "⎣   0                         0                                     0         \n",
       "\n",
       "                            0                     γₘᵤ⋅(n_b + 1)               \n",
       "                                                                              \n",
       "                                                                              \n",
       "                            0                           0                     \n",
       "                                                                              \n",
       "                                                                              \n",
       " γₘᵤ⋅n_b                                                                      \n",
       " ───────                    0                           0                     \n",
       "    2                                                                         \n",
       "                                                                              \n",
       "                  γ_2d   γₘᵤ⋅n_b   γₘᵤ⋅(n_b + 1)                              \n",
       "          ⅈ⋅δₘᵤ - ──── - ─────── - ─────────────        0                     \n",
       "                   2        2            2                                    \n",
       "                                                                              \n",
       "                                                                              \n",
       "                            0                     -γₘᵤ⋅(n_b + 1)              \n",
       "                                                                              \n",
       "                                                                              \n",
       "                            0                          -ⅈ⋅Ω       ⅈ⋅δₘᵤ - ⅈ⋅δₒ\n",
       "                                                                              \n",
       "                                                                              \n",
       "                             _                                                \n",
       "                           ⅈ⋅Ω                          0                     \n",
       "                                                                              \n",
       "                                                                              \n",
       "                                                         _                    \n",
       "                            0                          ⅈ⋅Ω                    \n",
       "                                                                              \n",
       "                                                                              \n",
       "                                                                              \n",
       "                            0                           0                     \n",
       "\n",
       "              0                                             0                 \n",
       "                                                                              \n",
       "                                                                              \n",
       "              0                                             0                 \n",
       "                                                                              \n",
       "                                                                              \n",
       "                                                                              \n",
       "              0                                             0                 \n",
       "                                                                              \n",
       "                                                                              \n",
       "                                                                              \n",
       "              0                                            ⅈ⋅Ω                \n",
       "                                                                              \n",
       "                                                                              \n",
       "                _                                                             \n",
       "             -ⅈ⋅Ω                                           0                 \n",
       "                                                                              \n",
       "   γ₁₃   γ₂₃   γ_2d   γ_3d   γₘᵤ⋅(n_b + 1)                                    \n",
       " - ─── - ─── - ──── - ──── - ─────────────                  0                 \n",
       "    2     2     2      2           2                                          \n",
       "                                                                              \n",
       "                                                   γ₁₃   γ₂₃   γ_3d   γₘᵤ⋅n_b \n",
       "              0                             ⅈ⋅δₒ - ─── - ─── - ──── - ─────── \n",
       "                                                    2     2     2        2    \n",
       "                                                                              \n",
       "                                                                              \n",
       "              0                                             0                 \n",
       "                                                                              \n",
       "                                                                              \n",
       "               _                                                              \n",
       "             ⅈ⋅Ω                                            0                 \n",
       "\n",
       "                            0                                γ₁₃    ⎤\n",
       "                                                                    ⎥\n",
       "                                                                    ⎥\n",
       "                            0                                 0     ⎥\n",
       "                                                                    ⎥\n",
       "                                                                    ⎥\n",
       "                                                                    ⎥\n",
       "                            0                                 0     ⎥\n",
       "                                                                    ⎥\n",
       "                                                                    ⎥\n",
       "                                                                    ⎥\n",
       "                            0                                 0     ⎥\n",
       "                                                                    ⎥\n",
       "                                                                    ⎥\n",
       "                                                                    ⎥\n",
       "                           ⅈ⋅Ω                               γ₂₃    ⎥\n",
       "                                                                    ⎥\n",
       "                                                                    ⎥\n",
       "                            0                                ⅈ⋅Ω    ⎥\n",
       "                                                                    ⎥\n",
       "                                                                    ⎥\n",
       "                                                                    ⎥\n",
       "                            0                                 0     ⎥\n",
       "                                                                    ⎥\n",
       "                                                                    ⎥\n",
       "                 γ₁₃   γ₂₃   γ_2d   γ_3d   γₘᵤ⋅(n_b + 1)        _   ⎥\n",
       " -ⅈ⋅δₘᵤ + ⅈ⋅δₒ - ─── - ─── - ──── - ──── - ─────────────     -ⅈ⋅Ω   ⎥\n",
       "                  2     2     2      2           2                  ⎥\n",
       "                                                                    ⎥\n",
       "                                                                    ⎥\n",
       "                          -ⅈ⋅Ω                            -γ₁₃ - γ₂₃⎦"
      ]
     },
     "execution_count": 1185,
     "metadata": {},
     "output_type": "execute_result"
    }
   ],
   "source": [
    "L0"
   ]
  },
  {
   "cell_type": "code",
   "execution_count": null,
   "metadata": {},
   "outputs": [],
   "source": []
  }
 ],
 "metadata": {
  "kernelspec": {
   "display_name": "Python 3",
   "language": "python",
   "name": "python3"
  },
  "language_info": {
   "codemirror_mode": {
    "name": "ipython",
    "version": 3
   },
   "file_extension": ".py",
   "mimetype": "text/x-python",
   "name": "python",
   "nbconvert_exporter": "python",
   "pygments_lexer": "ipython3",
   "version": "3.6.5"
  }
 },
 "nbformat": 4,
 "nbformat_minor": 2
}
