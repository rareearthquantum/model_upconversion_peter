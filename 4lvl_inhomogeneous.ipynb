{
 "cells": [
  {
   "cell_type": "code",
   "execution_count": 1,
   "metadata": {},
   "outputs": [],
   "source": [
    "import sympy as sym\n",
    "sym.init_printing()\n",
    "\n",
    "import numpy as np\n",
    "from math import pi\n",
    "import math\n",
    "import matplotlib.pyplot as plt\n",
    "from sympy import I, Matrix, symbols\n",
    "from sympy.physics.quantum import TensorProduct, Dagger\n",
    "import scipy.optimize\n",
    "import scipy.integrate\n",
    "import scipy.constants as const\n",
    "\n",
    "#import qutip\n",
    "\n",
    "from matplotlib.colors import Normalize as Norm\n"
   ]
  },
  {
   "cell_type": "code",
   "execution_count": 34,
   "metadata": {},
   "outputs": [],
   "source": [
    "def print1(toprint):\n",
    "    print('  ' +str(toprint))"
   ]
  },
  {
   "cell_type": "code",
   "execution_count": 12,
   "metadata": {},
   "outputs": [],
   "source": [
    "g1,g2,g3,g4,g23,g24,g13,g14=sym.symbols('gamma_1 gamma_2 gamma_3 gamma_4 gamma_23 gamma_24 gamma_13 gamma_14',Positive=True)"
   ]
  },
  {
   "cell_type": "code",
   "execution_count": 19,
   "metadata": {},
   "outputs": [
    {
     "data": {
      "text/latex": [
       "$$\\left ( \\left[\\begin{matrix}\\gamma_{2} + \\gamma_{3}\\\\\\gamma_{2} + \\gamma_{4}\\\\\\gamma_{1} + \\gamma_{3}\\\\\\gamma_{1} + \\gamma_{4}\\end{matrix}\\right], \\quad \\left[\\begin{matrix}\\gamma_{23}\\\\\\gamma_{24}\\\\\\gamma_{13}\\\\\\gamma_{14}\\end{matrix}\\right]\\right )$$"
      ],
      "text/plain": [
       "⎛⎡γ₂ + γ₃⎤  ⎡γ₂₃⎤⎞\n",
       "⎜⎢       ⎥  ⎢   ⎥⎟\n",
       "⎜⎢γ₂ + γ₄⎥  ⎢γ₂₄⎥⎟\n",
       "⎜⎢       ⎥, ⎢   ⎥⎟\n",
       "⎜⎢γ₁ + γ₃⎥  ⎢γ₁₃⎥⎟\n",
       "⎜⎢       ⎥  ⎢   ⎥⎟\n",
       "⎝⎣γ₁ + γ₄⎦  ⎣γ₁₄⎦⎠"
      ]
     },
     "execution_count": 19,
     "metadata": {},
     "output_type": "execute_result"
    }
   ],
   "source": [
    "mat1=Matrix([[0,1,1,0],\n",
    "            [0,1,0,1],\n",
    "            [1,0,1,0],\n",
    "            [1,0,0,1]])\n",
    "mat2=Matrix([[0,1,1,0],\n",
    "            [0,1,0,1],\n",
    "            [0,0,1,0],\n",
    "            [0,0,0,1]])\n",
    "gi_vec=Matrix([g1,g2,g3,g4])\n",
    "gij_vec=Matrix([g23,g24,g13,g14])\n",
    "mat1*gi_vec,gij_vec"
   ]
  },
  {
   "cell_type": "code",
   "execution_count": 21,
   "metadata": {},
   "outputs": [
    {
     "data": {
      "text/latex": [
       "$$\\left[\\begin{matrix}\\gamma_{2} + \\gamma_{3}\\\\\\gamma_{2} + \\gamma_{4}\\\\\\gamma_{3}\\\\\\gamma_{4}\\end{matrix}\\right]$$"
      ],
      "text/plain": [
       "⎡γ₂ + γ₃⎤\n",
       "⎢       ⎥\n",
       "⎢γ₂ + γ₄⎥\n",
       "⎢       ⎥\n",
       "⎢  γ₃   ⎥\n",
       "⎢       ⎥\n",
       "⎣  γ₄   ⎦"
      ]
     },
     "execution_count": 21,
     "metadata": {},
     "output_type": "execute_result"
    }
   ],
   "source": [
    "mat2*gi_vec"
   ]
  },
  {
   "cell_type": "code",
   "execution_count": 22,
   "metadata": {},
   "outputs": [
    {
     "data": {
      "image/png": "[encoded data removed]",
      "text/latex": [
       "$$\\left [ \\right ]$$"
      ],
      "text/plain": [
       "[]"
      ]
     },
     "execution_count": 22,
     "metadata": {},
     "output_type": "execute_result"
    }
   ],
   "source": [
    "sym.solve(mat2*gi_vec-gij_vec,gi_vec)"
   ]
  },
  {
   "cell_type": "code",
   "execution_count": 16,
   "metadata": {},
   "outputs": [
    {
     "data": {
      "text/latex": [
       "$$\\left[\\begin{matrix}\\gamma_{23}\\\\\\gamma_{24}\\\\\\gamma_{13}\\\\\\gamma_{14}\\end{matrix}\\right]$$"
      ],
      "text/plain": [
       "⎡γ₂₃⎤\n",
       "⎢   ⎥\n",
       "⎢γ₂₄⎥\n",
       "⎢   ⎥\n",
       "⎢γ₁₃⎥\n",
       "⎢   ⎥\n",
       "⎣γ₁₄⎦"
      ]
     },
     "execution_count": 16,
     "metadata": {},
     "output_type": "execute_result"
    }
   ],
   "source": [
    "gij_vec"
   ]
  },
  {
   "cell_type": "code",
   "execution_count": 26,
   "metadata": {},
   "outputs": [],
   "source": [
    "aa=1.986e6\n"
   ]
  },
  {
   "cell_type": "code",
   "execution_count": 35,
   "metadata": {},
   "outputs": [
    {
     "name": "stdout",
     "output_type": "stream",
     "text": [
      "  1.986000E+06\n"
     ]
    }
   ],
   "source": [
    "print1(format(aa,'E'))"
   ]
  },
  {
   "cell_type": "code",
   "execution_count": 33,
   "metadata": {},
   "outputs": [
    {
     "name": "stdout",
     "output_type": "stream",
     "text": [
      "  To\n"
     ]
    }
   ],
   "source": [
    "print('  ' +str('To'))"
   ]
  },
  {
   "cell_type": "code",
   "execution_count": null,
   "metadata": {},
   "outputs": [],
   "source": []
  }
 ],
 "metadata": {
  "kernelspec": {
   "display_name": "Python 3",
   "language": "python",
   "name": "python3"
  },
  "language_info": {
   "codemirror_mode": {
    "name": "ipython",
    "version": 3
   },
   "file_extension": ".py",
   "mimetype": "text/x-python",
   "name": "python",
   "nbconvert_exporter": "python",
   "pygments_lexer": "ipython3",
   "version": "3.6.5"
  }
 },
 "nbformat": 4,
 "nbformat_minor": 2
}
