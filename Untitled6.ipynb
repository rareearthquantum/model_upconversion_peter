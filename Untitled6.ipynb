{
 "cells": [
  {
   "cell_type": "code",
   "execution_count": 45,
   "metadata": {},
   "outputs": [
    {
     "name": "stdout",
     "output_type": "stream",
     "text": [
      "The cython extension is already loaded. To reload it, use:\n",
      "  %reload_ext cython\n"
     ]
    }
   ],
   "source": [
    "#importing python libs\n",
    "\n",
    "import sympy as sym\n",
    "sym.init_printing()\n",
    "\n",
    "import numpy as np\n",
    "from math import pi\n",
    "import math\n",
    "import matplotlib.pyplot as plt\n",
    "from sympy import I, Matrix, symbols\n",
    "from sympy.physics.quantum import TensorProduct, Dagger\n",
    "import scipy.optimize\n",
    "import scipy.integrate\n",
    "import scipy.constants as const\n",
    "\n",
    "#import qutip\n",
    "\n",
    "from matplotlib.colors import Normalize as Norm\n",
    "\n",
    "%load_ext cython\n"
   ]
  },
  {
   "cell_type": "code",
   "execution_count": 46,
   "metadata": {},
   "outputs": [],
   "source": [
    "#define some s pre/post operators\n",
    "\n",
    "def spre(m):\n",
    "    return TensorProduct(sym.eye(m.shape[0]),m)\n",
    "\n",
    "def spost(m):\n",
    "    return TensorProduct(m.T, sym.eye(m.shape[0]))\n",
    "\n",
    "def collapse(c):\n",
    "    tmp = Dagger(c)*c/2\n",
    "    return spre(c)*spost(Dagger(c))-spre(tmp)-spost(tmp)\n",
    "\n",
    "\n",
    "s13=Matrix([[0,0,1],[0,0,0],[0,0,0]])\n",
    "s23=Matrix([[0,0,0],[0,0,1],[0,0,0]])\n",
    "s12=Matrix([[0,1,0],[0,0,0],[0,0,0]])\n",
    "\n",
    "s31=s13.T\n",
    "s32=s23.T\n",
    "s21=s12.T\n",
    "\n",
    "s11 = s12*s21\n",
    "s22 = s21*s12\n",
    "s33 = s31*s13\n",
    "\n"
   ]
  },
  {
   "cell_type": "code",
   "execution_count": 47,
   "metadata": {},
   "outputs": [],
   "source": [
    "delta2,delta3=sym.symbols('delta_2 delta_3', real=True) #detunings for the levels 2 and 3\n",
    "gamma13,gamma23,gamma2d,gamma3d,nbath,gammamu=sym.symbols('gamma_13 gamma_23 gamma_2d gamma_3d n_b gamma_mu', real=True, negative=False) #energy decay for atom levels\n",
    "omega=sym.symbols('Omega', real=True, negative=False) #pump Rabi frequency\n",
    "rho11, rho12, rho13, rho21, rho22, rho23, rho31, rho32, rho33=sym.symbols('rho_11 rho_12 rho_13 rho_21 rho_22 rho_23 rho_31 rho_32 rho_33') #Density matrix elements\n",
    "\n",
    "a, b = sym.symbols('a b') #classical amplitudes of the optical and microwave fields\n",
    "#ar,ai=sym.symbols('a_r a_i', real=True)\n",
    "go, gm=sym.symbols('g_o, g_mu',real=True, negative=False) #coupling strengths for optical and microwave fields\n",
    "lam=sym.symbols('lambda')"
   ]
  },
  {
   "cell_type": "code",
   "execution_count": 48,
   "metadata": {},
   "outputs": [],
   "source": [
    "H_sys=omega*s32+gm*s21*b+go*s31*a\n",
    "H_sys=H_sys+Dagger(H_sys)\n",
    "H_sys=H_sys+delta3*s33+delta2*s22"
   ]
  },
  {
   "cell_type": "code",
   "execution_count": 49,
   "metadata": {},
   "outputs": [
    {
     "data": {
      "text/latex": [
       "$$\\left[\\begin{matrix}0 & g_{\\mu} \\overline{b} & g_{o} \\overline{a}\\\\b g_{\\mu} & \\delta_{2} & \\Omega\\\\a g_{o} & \\Omega & \\delta_{3}\\end{matrix}\\right]$$"
      ],
      "text/plain": [
       "⎡           _     _⎤\n",
       "⎢  0    gₘᵤ⋅b  gₒ⋅a⎥\n",
       "⎢                  ⎥\n",
       "⎢b⋅gₘᵤ   δ₂     Ω  ⎥\n",
       "⎢                  ⎥\n",
       "⎣a⋅gₒ     Ω     δ₃ ⎦"
      ]
     },
     "execution_count": 49,
     "metadata": {},
     "output_type": "execute_result"
    }
   ],
   "source": [
    "H_sys"
   ]
  },
  {
   "cell_type": "code",
   "execution_count": 50,
   "metadata": {},
   "outputs": [],
   "source": [
    "#defining Liouvillian for the system \n",
    "#Pretty sure I don't need a factor of half for the gammas because I am working with energy\n",
    "\n",
    "LH=-I*spre(H_sys)+I*spost(H_sys)\n",
    "L21 = gammamu*(nbath+1)*collapse(s12)\n",
    "L12 = gammamu*nbath*collapse(s21)\n",
    "L32 = gamma23*collapse(s23)\n",
    "L31 = gamma13*collapse(s13)\n",
    "L22 = gamma2d*collapse(s22)\n",
    "L33 = gamma3d*collapse(s33)\n",
    "\n",
    "L=LH + L21 + L12 + L32 + L31 + L22 + L33\n",
    "\n",
    "L = L.row_insert(0,Matrix([[1,0,0,0,1,0,0,0,1]]))\n",
    "L.row_del(1)"
   ]
  },
  {
   "cell_type": "code",
   "execution_count": 51,
   "metadata": {},
   "outputs": [],
   "source": [
    "#define the density matrix in square and row form\n",
    "#the row form is so the Liovillian in matrix form can be acted on it\n",
    "rho = Matrix([[rho11,rho21,rho31],[rho12,rho22,rho32],[rho13,rho23,rho33]])\n",
    "rho = 1*rho.T #because we are using \"fortran\" style matrix flatteneing\n",
    "rho[:]\n",
    "rhoflat = 1*rho.T \n",
    "rhoflat = rhoflat[:]"
   ]
  },
  {
   "cell_type": "code",
   "execution_count": 52,
   "metadata": {},
   "outputs": [],
   "source": [
    "#Lreal = sym.simplify(CtoR*L*CtoR.inv())\n",
    "#Lreal = Lreal.subs(a,ar+I*ai)\n",
    "#Lreal\n",
    "\n",
    "\n",
    "Lfunc = sym.lambdify((a,b,delta2, delta3, gamma13, gamma23, gamma2d, gamma3d, nbath,gammamu,omega,go,gm),L)\n",
    "\n",
    "#Lrealfunc = sym.lambdify((ar,ai,delta2, delta3, gamma13, gamma23, gamma2d, gamma3d, nbath,gammamu,omegao,omegam,g),Lreal)"
   ]
  },
  {
   "cell_type": "code",
   "execution_count": 53,
   "metadata": {},
   "outputs": [],
   "source": [
    "def steady_rho_single(delta2val,delta3val,aval, bval,p):\n",
    "\n",
    "    L_mat=Lfunc(aval, bval, delta2val,delta3val,p['gamma13'],p['gamma23'],p['gamma2d'],p['gamma3d'], p['nbath'],p['gammamu'],p['omega'],p['go'],p['gm'])\n",
    "    rho = np.linalg.solve(L_mat.astype('complex128'),np.matrix([[1,0,0,0,0,0,0,0,0]]).T)\n",
    "    return np.reshape(rho,(3,3),order='F')\n",
    "def steady_rho_ensemble(ind1,ind2,delta2vals, delta3vals,aval,bval, p):\n",
    "    ndelta2=len(delta2vals)\n",
    "    ndelta3=len(delta3vals)\n",
    "    coh_vals=np.zeros((ndelta2,ndelta3), dtype=np.complex_)\n",
    "    for ii in range(ndelta2):\n",
    "        for jj in range(ndelta3):\n",
    "            coh_vals[ii,jj]=steady_rho_single(delta2vals[ii],delta3vals[jj],aval,bval,p)[ind1-1,ind2-1]\n",
    "    return coh_vals\n"
   ]
  },
  {
   "cell_type": "code",
   "execution_count": 54,
   "metadata": {},
   "outputs": [],
   "source": [
    "def integrate1d_peaks(func,x,ylims, peak_func,aval,bval,p):\n",
    "    peak_yval=peak_func(x)\n",
    "    \n",
    "    if (np.isnan(peak_yval) or peak_yval>ylims[1] or peak_yval<ylims[0]):\n",
    "        funcval=scipy.integrate.quad(func, ylims[0], ylims[1], args=(x,aval,bval,p))[0]\n",
    "        \n",
    "    else:\n",
    "        funcval1=scipy.integrate.quad(func, ylims[0], peak_yval, args=(x,aval,bval,p))[0]\n",
    "        funcval2=scipy.integrate.quad(func, peak_yval, ylims[1], args=(x,aval,bval,p))[0]\n",
    "        funcval=funcval1+funcval2\n",
    "    return funcval\n",
    "\n",
    "def integrate2d_peaks(func, ylims, xlims, peak_func,aval,bval,p):\n",
    "    temp_fun=lambda x: integrate1d_peaks(func, x, ylims, peak_func,aval,bval,p)\n",
    "    inte=scipy.integrate.quad(temp_fun,xlims[0], xlims[1])\n",
    "    return inte"
   ]
  },
  {
   "cell_type": "code",
   "execution_count": 55,
   "metadata": {},
   "outputs": [],
   "source": [
    "coh13_Rfun=lambda del2, del3, aval1=aval, bval1=bval,p=p : np.real(steady_rho_single(del2,del3,aval1,bval1,p)[0,2])\n",
    "coh13_Ifun=lambda del2, del3, aval1=aval, bval1=bval,p=p : np.imag(steady_rho_single(del2,del3,aval1,bval1,p)[0,2])\n",
    "gauss_fun=lambda del2, del3, m2,m3,sd2,sd3: 1.0/(2*pi*sd2*sd3)*np.exp(-(del2-m2)**2/(2*sd2**2)\n",
    "                                                                  -(del3-m3)**2/(2*sd3**2))\n",
    "#coh13_Rguass_fun=lambda del2,del3,m2=p['m2'],m3=p['m3'],sd2=p['sd2'],sd3=p['sd3']: coh13_Rfun(del2,del3)*gauss_fun(del2,del3,m2,m3,sd2,sd3)\n",
    "#coh13_Iguass_fun=lambda del2,del3,m2=p['m2'],m3=p['m3'],sd2=p['sd2'],sd3=p['sd3']: coh13_Ifun(del2,del3)*gauss_fun(del2,del3,m2,m3,sd2,sd3)\n",
    "\n",
    "coh13_Rguass_fun=lambda del2,del3,aval1=aval,bval1=bval,p=p,m2=p['mean_delta2'],m3=p['mean_delta3'],sd2=p['sd_delta2'],sd3=p['sd_delta3']: coh13_Rfun(del2,del3,aval1,bval1,p)*gauss_fun(del2,del3,m2,m3,sd2,sd3)\n",
    "coh13_Iguass_fun=lambda del2,del3,aval1=aval,bval1=bval,p=p,m2=p['mean_delta2'],m3=p['mean_delta3'],sd2=p['sd_delta2'],sd3=p['sd_delta3']: coh13_Ifun(del2,del3,aval1,bval1,p)*gauss_fun(del2,del3,m2,m3,sd2,sd3)"
   ]
  },
  {
   "cell_type": "code",
   "execution_count": 56,
   "metadata": {},
   "outputs": [],
   "source": [
    "def rho13_integrated(del2_lims, del3_lims,aval,bval,p, peak_func):\n",
    "    coh13_R_int=integrate2d_peaks(coh13_Rguass_fun, del2_lims,del3_lims,peak_func,aval,bval,p)\n",
    "    coh13_I_int=integrate2d_peaks(coh13_Iguass_fun, del2_lims,del3_lims,peak_func,aval,bval,p)\n",
    "    #return [coh13_R_int, coh13_I_int]#coh13_R_int+1.j*coh13_I_int\\\n",
    "    #return coh13_R_int+1.j*coh13_I_int\n",
    "    return coh13_R_int[0]+1.j*coh13_I_int[0],coh13_R_int[1]+1.j*coh13_I_int[1]\n",
    "def rho13_integrated_quad(del2_lims, del3_lims,aval,bval,p):\n",
    "    coh13_R_int=scipy.integrate.nquad(coh13_Rguass_fun, [del2_lims,del3_lims],args=(aval,p))[0]\n",
    "    coh13_I_int=scipy.integrate.nquad(coh13_Iguass_fun, [del2_lims,del3_lims],args=(aval,p))[0]\n",
    "    #return [coh13_R_int, coh13_I_int]#coh13_R_int+1.j*coh13_I_int\\\n",
    "    return coh13_R_int+1.j*coh13_I_int"
   ]
  },
  {
   "cell_type": "code",
   "execution_count": 57,
   "metadata": {},
   "outputs": [],
   "source": [
    "delta3_o_func=lambda del3 : p['omega']**2/del3 if del3!=0 else np.nan\n"
   ]
  },
  {
   "cell_type": "code",
   "execution_count": 65,
   "metadata": {},
   "outputs": [],
   "source": [
    "# calculate optical rabi frequency from power in in dBm\n",
    "def omega_from_Pin(Pin,p):\n",
    "    epsilon0=8.854187817e-12\n",
    "    hbar=1.05457e-34; # in J*s\n",
    "\n",
    "    optP = 1e-3 * 10**(Pin/10) #incident optical power in W\n",
    "    pflux = optP/(2*pi*p['freq_pump']*hbar) #photon flux (photons/sec)\n",
    "    n_in = pflux * p['kappaoc']*4/(p['kappaoc']+p['kappaoi'])**2 # num intracavity photons\n",
    "                                                #is this right????\n",
    "    Sspot = pi*p['Wcavity']**2 #cross sectional area of\n",
    "                                #optical mode\n",
    "    V_cav = (Sspot*p['Lcavity_vac']+Sspot*p['Lsample']*p['nYSO']**3)/2;\n",
    "    optEfield = math.sqrt(n_in*hbar*2*pi*p['freq_pump']/2/epsilon0/V_cav);\n",
    "    p['omega'] = p['d23']*optEfield/hbar*(-1);\n",
    "    return p['omega']"
   ]
  },
  {
   "cell_type": "code",
   "execution_count": 66,
   "metadata": {},
   "outputs": [
    {
     "data": {
      "image/png": "[encoded data removed]",
      "text/latex": [
       "$$-492090.88755145477$$"
      ],
      "text/plain": [
       "-492090.88755145477"
      ]
     },
     "execution_count": 66,
     "metadata": {},
     "output_type": "execute_result"
    }
   ],
   "source": [
    "aval=0\n",
    "bval=0\n",
    "\n",
    "p = {}\n",
    "\n",
    "p['delta2'] = 0.\n",
    "p['delta3'] = 0.\n",
    "\n",
    "\n",
    "p['d13'] = 2e-32*math.sqrt(1/3)\n",
    "p['d23'] = 2e-32*math.sqrt(2/3)\n",
    "p['gamma13'] = p['d13']**2/(p['d13']**2+p['d23']**2)*1/11e-3\n",
    "p['gamma23'] = p['d23']**2/(p['d13']**2+p['d23']**2)*1/11e-3\n",
    "p['gamma2d'] = 1e6\n",
    "p['gamma3d'] = 1e6\n",
    "p['nbath'] = 20\n",
    "p['gammamu'] = 1/(p['nbath']+1) * 1e3\n",
    "\n",
    "p['go'] = 51.9  #optical coupling\n",
    "p['N'] = 1.28e15 # number of atoms in the optical mode\n",
    "\n",
    "p['deltac']=0 #detuning for \n",
    "p['kappaoi']=2*pi*7.95e6 # intrinsic loss for optical resonator\n",
    "p['kappaoc']=2*pi*1.7e6 # coupling loss for optical resonator\n",
    "#p['df']=0.1e6 # how small descretisation step to take when integrating over the \n",
    "            # inhomogeneous lines\n",
    "\n",
    "p['mean_delta2']=0\n",
    "p['sd_delta2']=2*pi*25e6/2.355  #microwave inhomogeneous broadening\n",
    "                                #2.355is to turn FWHM into standard deviation\n",
    "p['mean_delta3']=0\n",
    "p['sd_delta3']=2*pi*170e6/2.355 #optical inhomogeneous broadening\n",
    "\n",
    "p['kappami'] = 650e3*2*pi # intrinsic loss for microwave cavity\n",
    "p['kappamc'] = 70e3*2*pi  # coupling loss for optical cavity\n",
    "                        # this is for one of the two output ports\n",
    "p['Nmu'] = 2.22e16  #toal number of atoms\n",
    "p['gm'] = 1.04 #coupling between atoms and microwave field\n",
    "\n",
    "\n",
    "muBohr=927.4009994e-26; # Bohr magneton in J/T in J* T^-1\n",
    "p['mu12'] = 4.3803*muBohr # transition dipole moment for microwave cavity (J T^-1)\n",
    "\n",
    "p['Lsample']=12e-3 # the length of the sample, in m\n",
    "p['dsample']=5e-3 # the diameter of the sample, in m\n",
    "\n",
    "p['fillfactor']=0.8 #microwave filling factor\n",
    "#p['freqm'] = 5.186e9\n",
    "p['freq_pump'] = 195113.36e9 #pump frequency\n",
    "\n",
    "p['Lcavity_vac'] = 49.5e-3 # length of the vacuum part of the optical\n",
    "                           # Fabry Perot (m)\n",
    "p['Wcavity'] =  0.6e-3# width of optical resonator beam in sample (m)\n",
    "p['nYSO'] = 1.76\n",
    "omega_from_Pin(0,p)"
   ]
  },
  {
   "cell_type": "code",
   "execution_count": 68,
   "metadata": {},
   "outputs": [
    {
     "data": {
      "text/plain": [
       "((4.821610831570269e-12-4.796216145508632e-11j),\n",
       " (3.8112222851459257e-11+6.37896768888588e-11j))"
      ]
     },
     "execution_count": 68,
     "metadata": {},
     "output_type": "execute_result"
    }
   ],
   "source": [
    "del2_lims=[p['mean_delta2']-p['sd_delta2']*3, p['mean_delta2']+p['sd_delta2']*3]\n",
    "del3_lims=[p['mean_delta3']-p['sd_delta3']*3, p['mean_delta3']+p['sd_delta3']*3]\n",
    "bval=1+10J\n",
    "rho13_integrated(del2_lims,del3_lims,aval,bval,p, delta3_o_func)"
   ]
  },
  {
   "cell_type": "code",
   "execution_count": 60,
   "metadata": {},
   "outputs": [
    {
     "data": {
      "text/plain": [
       "{'delta2': 0.0,\n",
       " 'delta3': 0.0,\n",
       " 'd13': 1.1547005383792515e-32,\n",
       " 'd23': 1.6329931618554522e-32,\n",
       " 'gamma13': 30.303030303030297,\n",
       " 'gamma23': 60.606060606060616,\n",
       " 'gamma2d': 1000000.0,\n",
       " 'gamma3d': 1000000.0,\n",
       " 'nbath': 20,\n",
       " 'gammamu': 47.61904761904761,\n",
       " 'go': 51.9,\n",
       " 'N': 1280000000000000.0,\n",
       " 'deltac': 0,\n",
       " 'kappaoi': 49951323.19207771,\n",
       " 'kappaoc': 10681415.022205297,\n",
       " 'mean_delta2': 0,\n",
       " 'sd_delta2': 66700480.96793615,\n",
       " 'mean_delta3': 0,\n",
       " 'sd_delta3': 453563270.5819659,\n",
       " 'kappami': 4084070.449666731,\n",
       " 'kappamc': 439822.971502571,\n",
       " 'Nmu': 2.22e+16,\n",
       " 'gm': 1.04,\n",
       " 'mu12': 4.06229459767182e-23,\n",
       " 'Lsample': 0.012,\n",
       " 'dsample': 0.005,\n",
       " 'fillfactor': 0.8,\n",
       " 'freqm': 5186000000.0,\n",
       " 'freqo': 195113360000000.0,\n",
       " 'Lcavity_vac': 0.0495,\n",
       " 'Wcavity': 0.0006,\n",
       " 'nYSO': 1.76}"
      ]
     },
     "execution_count": 60,
     "metadata": {},
     "output_type": "execute_result"
    }
   ],
   "source": [
    "p"
   ]
  },
  {
   "cell_type": "code",
   "execution_count": 69,
   "metadata": {},
   "outputs": [
    {
     "data": {
      "text/latex": [
       "$$\\left[\\begin{matrix}1 & 0 & 0 & 0 & 1 & 0 & 0 & 0 & 1\\\\- i b g_{\\mu} & - i \\delta_{2} - \\frac{\\gamma_{2d}}{2} - \\frac{\\gamma_{\\mu} n_{b}}{2} - \\frac{\\gamma_{\\mu}}{2} \\left(n_{b} + 1\\right) & - i \\Omega & 0 & i b g_{\\mu} & 0 & 0 & i a g_{o} & 0\\\\- i a g_{o} & - i \\Omega & - i \\delta_{3} - \\frac{\\gamma_{13}}{2} - \\frac{\\gamma_{23}}{2} - \\frac{\\gamma_{3d}}{2} - \\frac{\\gamma_{\\mu} n_{b}}{2} & 0 & 0 & i b g_{\\mu} & 0 & 0 & i a g_{o}\\\\i g_{\\mu} \\overline{b} & 0 & 0 & i \\delta_{2} - \\frac{\\gamma_{2d}}{2} - \\frac{\\gamma_{\\mu} n_{b}}{2} - \\frac{\\gamma_{\\mu}}{2} \\left(n_{b} + 1\\right) & - i g_{\\mu} \\overline{b} & - i g_{o} \\overline{a} & i \\Omega & 0 & 0\\\\\\gamma_{\\mu} n_{b} & i g_{\\mu} \\overline{b} & 0 & - i b g_{\\mu} & - \\gamma_{\\mu} \\left(n_{b} + 1\\right) & - i \\Omega & 0 & i \\Omega & \\gamma_{23}\\\\0 & 0 & i g_{\\mu} \\overline{b} & - i a g_{o} & - i \\Omega & i \\delta_{2} - i \\delta_{3} - \\frac{\\gamma_{13}}{2} - \\frac{\\gamma_{23}}{2} - \\frac{\\gamma_{2d}}{2} - \\frac{\\gamma_{3d}}{2} - \\frac{\\gamma_{\\mu}}{2} \\left(n_{b} + 1\\right) & 0 & 0 & i \\Omega\\\\i g_{o} \\overline{a} & 0 & 0 & i \\Omega & 0 & 0 & i \\delta_{3} - \\frac{\\gamma_{13}}{2} - \\frac{\\gamma_{23}}{2} - \\frac{\\gamma_{3d}}{2} - \\frac{\\gamma_{\\mu} n_{b}}{2} & - i g_{\\mu} \\overline{b} & - i g_{o} \\overline{a}\\\\0 & i g_{o} \\overline{a} & 0 & 0 & i \\Omega & 0 & - i b g_{\\mu} & - i \\delta_{2} + i \\delta_{3} - \\frac{\\gamma_{13}}{2} - \\frac{\\gamma_{23}}{2} - \\frac{\\gamma_{2d}}{2} - \\frac{\\gamma_{3d}}{2} - \\frac{\\gamma_{\\mu}}{2} \\left(n_{b} + 1\\right) & - i \\Omega\\\\0 & 0 & i g_{o} \\overline{a} & 0 & 0 & i \\Omega & - i a g_{o} & - i \\Omega & - \\gamma_{13} - \\gamma_{23}\\end{matrix}\\right]$$"
      ],
      "text/plain": [
       "⎡   1                        0                                     0          \n",
       "⎢                                                                             \n",
       "⎢                  γ_2d   γₘᵤ⋅n_b   γₘᵤ⋅(n_b + 1)                             \n",
       "⎢-ⅈ⋅b⋅gₘᵤ  -ⅈ⋅δ₂ - ──── - ─────── - ─────────────                 -ⅈ⋅Ω        \n",
       "⎢                   2        2            2                                   \n",
       "⎢                                                                             \n",
       "⎢                                                          γ₁₃   γ₂₃   γ_3d   \n",
       "⎢-ⅈ⋅a⋅gₒ                    -ⅈ⋅Ω                   -ⅈ⋅δ₃ - ─── - ─── - ──── - \n",
       "⎢                                                           2     2     2     \n",
       "⎢                                                                             \n",
       "⎢      _                                                                      \n",
       "⎢ⅈ⋅gₘᵤ⋅b                     0                                     0          \n",
       "⎢                                                                             \n",
       "⎢                                                                             \n",
       "⎢                               _                                             \n",
       "⎢γₘᵤ⋅n_b                  ⅈ⋅gₘᵤ⋅b                                  0          \n",
       "⎢                                                                             \n",
       "⎢                                                                     _       \n",
       "⎢   0                        0                                  ⅈ⋅gₘᵤ⋅b       \n",
       "⎢                                                                             \n",
       "⎢                                                                             \n",
       "⎢      _                                                                      \n",
       "⎢ ⅈ⋅gₒ⋅a                     0                                     0          \n",
       "⎢                                                                             \n",
       "⎢                                                                             \n",
       "⎢                               _                                             \n",
       "⎢   0                      ⅈ⋅gₒ⋅a                                  0          \n",
       "⎢                                                                             \n",
       "⎢                                                                             \n",
       "⎢                                                                     _       \n",
       "⎣   0                        0                                   ⅈ⋅gₒ⋅a       \n",
       "\n",
       "                           0                          1                       \n",
       "                                                                              \n",
       "                                                                              \n",
       "                           0                       ⅈ⋅b⋅gₘᵤ                    \n",
       "                                                                              \n",
       "                                                                              \n",
       "γₘᵤ⋅n_b                                                                       \n",
       "───────                    0                          0                       \n",
       "   2                                                                          \n",
       "                                                                              \n",
       "                γ_2d   γₘᵤ⋅n_b   γₘᵤ⋅(n_b + 1)            _                   \n",
       "         ⅈ⋅δ₂ - ──── - ─────── - ─────────────     -ⅈ⋅gₘᵤ⋅b                   \n",
       "                 2        2            2                                      \n",
       "                                                                              \n",
       "                                                                              \n",
       "                       -ⅈ⋅b⋅gₘᵤ                 -γₘᵤ⋅(n_b + 1)                \n",
       "                                                                              \n",
       "                                                                              \n",
       "                        -ⅈ⋅a⋅gₒ                      -ⅈ⋅Ω       ⅈ⋅δ₂ - ⅈ⋅δ₃ - \n",
       "                                                                              \n",
       "                                                                              \n",
       "                                                                              \n",
       "                          ⅈ⋅Ω                         0                       \n",
       "                                                                              \n",
       "                                                                              \n",
       "                                                                              \n",
       "                           0                         ⅈ⋅Ω                      \n",
       "                                                                              \n",
       "                                                                              \n",
       "                                                                              \n",
       "                           0                          0                       \n",
       "\n",
       "            0                                            0                    \n",
       "                                                                              \n",
       "                                                                              \n",
       "            0                                            0                    \n",
       "                                                                              \n",
       "                                                                              \n",
       "                                                                              \n",
       "         ⅈ⋅b⋅gₘᵤ                                         0                    \n",
       "                                                                              \n",
       "                                                                              \n",
       "               _                                                              \n",
       "         -ⅈ⋅gₒ⋅a                                        ⅈ⋅Ω                   \n",
       "                                                                              \n",
       "                                                                              \n",
       "                                                                              \n",
       "          -ⅈ⋅Ω                                           0                    \n",
       "                                                                              \n",
       "γ₁₃   γ₂₃   γ_2d   γ_3d   γₘᵤ⋅(n_b + 1)                                       \n",
       "─── - ─── - ──── - ──── - ─────────────                  0                    \n",
       " 2     2     2      2           2                                             \n",
       "                                                                              \n",
       "                                                γ₁₃   γ₂₃   γ_3d   γₘᵤ⋅n_b    \n",
       "            0                            ⅈ⋅δ₃ - ─── - ─── - ──── - ───────    \n",
       "                                                 2     2     2        2       \n",
       "                                                                              \n",
       "                                                                              \n",
       "            0                                        -ⅈ⋅b⋅gₘᵤ               -ⅈ\n",
       "                                                                              \n",
       "                                                                              \n",
       "                                                                              \n",
       "           ⅈ⋅Ω                                        -ⅈ⋅a⋅gₒ                 \n",
       "\n",
       "                        0                                 1     ⎤\n",
       "                                                                ⎥\n",
       "                                                                ⎥\n",
       "                      ⅈ⋅a⋅gₒ                              0     ⎥\n",
       "                                                                ⎥\n",
       "                                                                ⎥\n",
       "                                                                ⎥\n",
       "                        0                               ⅈ⋅a⋅gₒ  ⎥\n",
       "                                                                ⎥\n",
       "                                                                ⎥\n",
       "                                                                ⎥\n",
       "                        0                                 0     ⎥\n",
       "                                                                ⎥\n",
       "                                                                ⎥\n",
       "                                                                ⎥\n",
       "                       ⅈ⋅Ω                               γ₂₃    ⎥\n",
       "                                                                ⎥\n",
       "                                                                ⎥\n",
       "                        0                                ⅈ⋅Ω    ⎥\n",
       "                                                                ⎥\n",
       "                                                                ⎥\n",
       "                            _                                _  ⎥\n",
       "                     -ⅈ⋅gₘᵤ⋅b                          -ⅈ⋅gₒ⋅a  ⎥\n",
       "                                                                ⎥\n",
       "                                                                ⎥\n",
       "             γ₁₃   γ₂₃   γ_2d   γ_3d   γₘᵤ⋅(n_b + 1)            ⎥\n",
       "⋅δ₂ + ⅈ⋅δ₃ - ─── - ─── - ──── - ──── - ─────────────     -ⅈ⋅Ω   ⎥\n",
       "              2     2     2      2           2                  ⎥\n",
       "                                                                ⎥\n",
       "                                                                ⎥\n",
       "                       -ⅈ⋅Ω                           -γ₁₃ - γ₂₃⎦"
      ]
     },
     "execution_count": 69,
     "metadata": {},
     "output_type": "execute_result"
    }
   ],
   "source": [
    "L"
   ]
  },
  {
   "cell_type": "code",
   "execution_count": 70,
   "metadata": {},
   "outputs": [
    {
     "data": {
      "text/latex": [
       "$$\\left[\\begin{matrix}\\rho_{11} + \\rho_{22} + \\rho_{33}\\\\- i \\Omega \\rho_{31} + i a g_{o} \\rho_{23} - i b g_{\\mu} \\rho_{11} + i b g_{\\mu} \\rho_{22} + \\rho_{21} \\left(- i \\delta_{2} - \\frac{\\gamma_{2d}}{2} - \\frac{\\gamma_{\\mu} n_{b}}{2} - \\frac{\\gamma_{\\mu}}{2} \\left(n_{b} + 1\\right)\\right)\\\\- i \\Omega \\rho_{21} - i a g_{o} \\rho_{11} + i a g_{o} \\rho_{33} + i b g_{\\mu} \\rho_{32} + \\rho_{31} \\left(- i \\delta_{3} - \\frac{\\gamma_{13}}{2} - \\frac{\\gamma_{23}}{2} - \\frac{\\gamma_{3d}}{2} - \\frac{\\gamma_{\\mu} n_{b}}{2}\\right)\\\\i \\Omega \\rho_{13} + i g_{\\mu} \\rho_{11} \\overline{b} - i g_{\\mu} \\rho_{22} \\overline{b} - i g_{o} \\rho_{32} \\overline{a} + \\rho_{12} \\left(i \\delta_{2} - \\frac{\\gamma_{2d}}{2} - \\frac{\\gamma_{\\mu} n_{b}}{2} - \\frac{\\gamma_{\\mu}}{2} \\left(n_{b} + 1\\right)\\right)\\\\i \\Omega \\rho_{23} - i \\Omega \\rho_{32} - i b g_{\\mu} \\rho_{12} + i g_{\\mu} \\rho_{21} \\overline{b} + \\gamma_{23} \\rho_{33} + \\gamma_{\\mu} n_{b} \\rho_{11} - \\gamma_{\\mu} \\rho_{22} \\left(n_{b} + 1\\right)\\\\- i \\Omega \\rho_{22} + i \\Omega \\rho_{33} - i a g_{o} \\rho_{12} + i g_{\\mu} \\rho_{31} \\overline{b} + \\rho_{32} \\left(i \\delta_{2} - i \\delta_{3} - \\frac{\\gamma_{13}}{2} - \\frac{\\gamma_{23}}{2} - \\frac{\\gamma_{2d}}{2} - \\frac{\\gamma_{3d}}{2} - \\frac{\\gamma_{\\mu}}{2} \\left(n_{b} + 1\\right)\\right)\\\\i \\Omega \\rho_{12} - i g_{\\mu} \\rho_{23} \\overline{b} + i g_{o} \\rho_{11} \\overline{a} - i g_{o} \\rho_{33} \\overline{a} + \\rho_{13} \\left(i \\delta_{3} - \\frac{\\gamma_{13}}{2} - \\frac{\\gamma_{23}}{2} - \\frac{\\gamma_{3d}}{2} - \\frac{\\gamma_{\\mu} n_{b}}{2}\\right)\\\\i \\Omega \\rho_{22} - i \\Omega \\rho_{33} - i b g_{\\mu} \\rho_{13} + i g_{o} \\rho_{21} \\overline{a} + \\rho_{23} \\left(- i \\delta_{2} + i \\delta_{3} - \\frac{\\gamma_{13}}{2} - \\frac{\\gamma_{23}}{2} - \\frac{\\gamma_{2d}}{2} - \\frac{\\gamma_{3d}}{2} - \\frac{\\gamma_{\\mu}}{2} \\left(n_{b} + 1\\right)\\right)\\\\- i \\Omega \\rho_{23} + i \\Omega \\rho_{32} - i a g_{o} \\rho_{13} + i g_{o} \\rho_{31} \\overline{a} + \\rho_{33} \\left(- \\gamma_{13} - \\gamma_{23}\\right)\\end{matrix}\\right]$$"
      ],
      "text/plain": [
       "⎡                                              ρ₁₁ + ρ₂₂ + ρ₃₃                \n",
       "⎢                                                                             \n",
       "⎢                                                             ⎛        γ_2d   \n",
       "⎢     -ⅈ⋅Ω⋅ρ₃₁ + ⅈ⋅a⋅gₒ⋅ρ₂₃ - ⅈ⋅b⋅gₘᵤ⋅ρ₁₁ + ⅈ⋅b⋅gₘᵤ⋅ρ₂₂ + ρ₂₁⋅⎜-ⅈ⋅δ₂ - ──── - \n",
       "⎢                                                             ⎝         2     \n",
       "⎢                                                                             \n",
       "⎢                                                               ⎛        γ₁₃  \n",
       "⎢        -ⅈ⋅Ω⋅ρ₂₁ - ⅈ⋅a⋅gₒ⋅ρ₁₁ + ⅈ⋅a⋅gₒ⋅ρ₃₃ + ⅈ⋅b⋅gₘᵤ⋅ρ₃₂ + ρ₃₁⋅⎜-ⅈ⋅δ₃ - ─── -\n",
       "⎢                                                               ⎝         2   \n",
       "⎢                                                                             \n",
       "⎢                          _             _            _       ⎛       γ_2d   γ\n",
       "⎢      ⅈ⋅Ω⋅ρ₁₃ + ⅈ⋅gₘᵤ⋅ρ₁₁⋅b - ⅈ⋅gₘᵤ⋅ρ₂₂⋅b - ⅈ⋅gₒ⋅ρ₃₂⋅a + ρ₁₂⋅⎜ⅈ⋅δ₂ - ──── - ─\n",
       "⎢                                                             ⎝        2      \n",
       "⎢                                                                             \n",
       "⎢                                                     _                       \n",
       "⎢         ⅈ⋅Ω⋅ρ₂₃ - ⅈ⋅Ω⋅ρ₃₂ - ⅈ⋅b⋅gₘᵤ⋅ρ₁₂ + ⅈ⋅gₘᵤ⋅ρ₂₁⋅b + γ₂₃⋅ρ₃₃ + γₘᵤ⋅n_b⋅ρ₁\n",
       "⎢                                                                             \n",
       "⎢                                            _       ⎛              γ₁₃   γ₂₃ \n",
       "⎢-ⅈ⋅Ω⋅ρ₂₂ + ⅈ⋅Ω⋅ρ₃₃ - ⅈ⋅a⋅gₒ⋅ρ₁₂ + ⅈ⋅gₘᵤ⋅ρ₃₁⋅b + ρ₃₂⋅⎜ⅈ⋅δ₂ - ⅈ⋅δ₃ - ─── - ─── \n",
       "⎢                                                    ⎝               2     2  \n",
       "⎢                                                                             \n",
       "⎢                             _            _            _       ⎛       γ₁₃   \n",
       "⎢         ⅈ⋅Ω⋅ρ₁₂ - ⅈ⋅gₘᵤ⋅ρ₂₃⋅b + ⅈ⋅gₒ⋅ρ₁₁⋅a - ⅈ⋅gₒ⋅ρ₃₃⋅a + ρ₁₃⋅⎜ⅈ⋅δ₃ - ─── - \n",
       "⎢                                                               ⎝        2    \n",
       "⎢                                                                             \n",
       "⎢                                           _       ⎛               γ₁₃   γ₂₃ \n",
       "⎢ⅈ⋅Ω⋅ρ₂₂ - ⅈ⋅Ω⋅ρ₃₃ - ⅈ⋅b⋅gₘᵤ⋅ρ₁₃ + ⅈ⋅gₒ⋅ρ₂₁⋅a + ρ₂₃⋅⎜-ⅈ⋅δ₂ + ⅈ⋅δ₃ - ─── - ─── \n",
       "⎢                                                   ⎝                2     2  \n",
       "⎢                                                                             \n",
       "⎢                                                                 _           \n",
       "⎣                      -ⅈ⋅Ω⋅ρ₂₃ + ⅈ⋅Ω⋅ρ₃₂ - ⅈ⋅a⋅gₒ⋅ρ₁₃ + ⅈ⋅gₒ⋅ρ₃₁⋅a + ρ₃₃⋅(-γ₁\n",
       "\n",
       "                              ⎤\n",
       "                              ⎥\n",
       "γₘᵤ⋅n_b   γₘᵤ⋅(n_b + 1)⎞      ⎥\n",
       "─────── - ─────────────⎟      ⎥\n",
       "   2            2      ⎠      ⎥\n",
       "                              ⎥\n",
       " γ₂₃   γ_3d   γₘᵤ⋅n_b⎞        ⎥\n",
       " ─── - ──── - ───────⎟        ⎥\n",
       "  2     2        2   ⎠        ⎥\n",
       "                              ⎥\n",
       "ₘᵤ⋅n_b   γₘᵤ⋅(n_b + 1)⎞       ⎥\n",
       "────── - ─────────────⎟       ⎥\n",
       "  2            2      ⎠       ⎥\n",
       "                              ⎥\n",
       "                              ⎥\n",
       "₁ - γₘᵤ⋅ρ₂₂⋅(n_b + 1)         ⎥\n",
       "                              ⎥\n",
       "  γ_2d   γ_3d   γₘᵤ⋅(n_b + 1)⎞⎥\n",
       "- ──── - ──── - ─────────────⎟⎥\n",
       "   2      2           2      ⎠⎥\n",
       "                              ⎥\n",
       "γ₂₃   γ_3d   γₘᵤ⋅n_b⎞         ⎥\n",
       "─── - ──── - ───────⎟         ⎥\n",
       " 2     2        2   ⎠         ⎥\n",
       "                              ⎥\n",
       "  γ_2d   γ_3d   γₘᵤ⋅(n_b + 1)⎞⎥\n",
       "- ──── - ──── - ─────────────⎟⎥\n",
       "   2      2           2      ⎠⎥\n",
       "                              ⎥\n",
       "                              ⎥\n",
       "₃ - γ₂₃)                      ⎦"
      ]
     },
     "execution_count": 70,
     "metadata": {},
     "output_type": "execute_result"
    }
   ],
   "source": [
    "L*Matrix(rhoflat)"
   ]
  },
  {
   "cell_type": "code",
   "execution_count": 77,
   "metadata": {},
   "outputs": [
    {
     "data": {
      "image/png": "[encoded data removed]",
      "text/latex": [
       "$$\\rho_{12}$$"
      ],
      "text/plain": [
       "ρ₁₂"
      ]
     },
     "execution_count": 77,
     "metadata": {},
     "output_type": "execute_result"
    }
   ],
   "source": [
    "rho[0,1]"
   ]
  },
  {
   "cell_type": "code",
   "execution_count": 75,
   "metadata": {},
   "outputs": [
    {
     "data": {
      "text/latex": [
       "$$\\left[\\begin{matrix}0 & g_{\\mu} \\overline{b} & g_{o} \\overline{a}\\\\b g_{\\mu} & \\delta_{2} & \\Omega\\\\a g_{o} & \\Omega & \\delta_{3}\\end{matrix}\\right]$$"
      ],
      "text/plain": [
       "⎡           _     _⎤\n",
       "⎢  0    gₘᵤ⋅b  gₒ⋅a⎥\n",
       "⎢                  ⎥\n",
       "⎢b⋅gₘᵤ   δ₂     Ω  ⎥\n",
       "⎢                  ⎥\n",
       "⎣a⋅gₒ     Ω     δ₃ ⎦"
      ]
     },
     "execution_count": 75,
     "metadata": {},
     "output_type": "execute_result"
    }
   ],
   "source": [
    "H_sys"
   ]
  },
  {
   "cell_type": "code",
   "execution_count": null,
   "metadata": {},
   "outputs": [],
   "source": []
  }
 ],
 "metadata": {
  "kernelspec": {
   "display_name": "Python 3",
   "language": "python",
   "name": "python3"
  },
  "language_info": {
   "codemirror_mode": {
    "name": "ipython",
    "version": 3
   },
   "file_extension": ".py",
   "mimetype": "text/x-python",
   "name": "python",
   "nbconvert_exporter": "python",
   "pygments_lexer": "ipython3",
   "version": "3.6.5"
  }
 },
 "nbformat": 4,
 "nbformat_minor": 2
}
